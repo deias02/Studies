{
 "cells": [
  {
   "cell_type": "markdown",
   "id": "13efb319-67b7-4ac4-82aa-815bcb447f19",
   "metadata": {
    "tags": []
   },
   "source": [
    "# **Cap. 8 - Funções**"
   ]
  },
  {
   "cell_type": "markdown",
   "id": "b0ec0042-cb00-4748-baec-c8d00f0022d3",
   "metadata": {},
   "source": [
    "Neste capítulo aprenderemos a escrever <code>**funções**</code>, **que são blocos de código nomeados, concebidos para realizar uma tarefa específica**. Quando queremos executar uma tarefa em particular, definida em uma <code>**função**</code>, **chamamos** o nome da função responsável por ela. **Se precisar executar essa tarefa várias vezes durante seu programa, não será necessário digitar todo o código para a mesma tarefa repetidamente: basta chamar a <code>**função**</code> dedicada ao tratamento dessa tarefa e a chamada dirá a Python para executar o código da função**. Você perceberá que usar funções permite escrever, ler, testar e corrigir seus programas de modo mais fácil.\n",
    "\n",
    "Neste capítulo também veremos maneiras de passar informações às  <code>**funções**</code>. Aprenderemos a escrever determinadas  <code>**funções**</code> cuja **tarefa principal seja exibir informações e outras funções que visam a processar dados e devolver um valor ou um conjunto de valores**. Por fim, veremos como armazenar  <code>**funções**</code> em arquivos separados, chamados de <code>**módulos**</code>, para ajudar a organizar os arquivos principais de seu programa."
   ]
  },
  {
   "cell_type": "markdown",
   "id": "c806e713-0468-456a-9378-6141b98f76ff",
   "metadata": {},
   "source": [
    "## **Definindo uma <code>função</code>**"
   ]
  },
  {
   "cell_type": "markdown",
   "id": "bb7efb0a-317e-40cf-afc2-90104785cc5e",
   "metadata": {
    "tags": []
   },
   "source": [
    "Eis uma função simples chamada **greet_user()** que exibe uma saudação:"
   ]
  },
  {
   "cell_type": "code",
   "execution_count": 7,
   "id": "c1c82b64-e3f0-4496-9330-b442691d6cca",
   "metadata": {
    "tags": []
   },
   "outputs": [],
   "source": [
    "def greet_user(): \n",
    "    \"\"\"Exibe uma saudação simples.\"\"\" \n",
    "    print(\"Hello!\")"
   ]
  },
  {
   "cell_type": "code",
   "execution_count": 8,
   "id": "b6f0d756-5fe8-42aa-b1fe-382fdd7742c6",
   "metadata": {
    "tags": []
   },
   "outputs": [
    {
     "name": "stdout",
     "output_type": "stream",
     "text": [
      "Hello!\n"
     ]
    }
   ],
   "source": [
    "greet_user()"
   ]
  },
  {
   "cell_type": "markdown",
   "id": "fe6c1a96-28b1-4c51-bf64-655b959e2d19",
   "metadata": {},
   "source": [
    "Esse exemplo mostra a estrutura mais simples possível para uma <code>**função**</code>. A linha utiliza a palavra reservada <code>**def**</code> **para informar Python que estamos definindo uma <code>função</code>**. Essa é a definição da <code>**função**</code>, **que informa o nome da função a Python e, se for aplicável, quais são os tipos de informação necessários à função para que ela faça sua tarefa. Os parênteses contêm essa informação**. Nesse caso, o nome da função é **greet_user()**, e ela não precisa de nenhuma informação para executar sua tarefa, portanto os parênteses estão vazios. (Mesmo assim, eles são obrigatórios.) **Por fim, a definição termina com dois-pontos**."
   ]
  },
  {
   "cell_type": "markdown",
   "id": "6a0e8169-f4dc-4e4f-b8c3-c57d4d5c82fa",
   "metadata": {},
   "source": [
    "Qualquer linha indentada após **def greet_user()**: **faz parte do corpo da função**. O texto é um comentário chamado <code>**docstring**</code>, **que descreve o que a função faz**. As <code>**docstrings**</code> são colocadas entre **aspas triplas**, que Python procura quando gera a documentação das funções de seus programas.\n",
    "\n",
    "A linha **print(\"Hello!\")** é a única linha com código propriamente dito no corpo dessa **função**, portanto **greet_user()** realiza apenas uma tarefa: **print(\"Hello!\")**.\n",
    "\n",
    "Quando quiser usar essa <code>**função**</code>, você deve chamá-la. Uma <code>**chamada de função**</code> diz a Python para executar o código da função. Para chamar uma <code>**função**</code>, **escreva o nome dela, seguido de qualquer informação necessária entre parênteses, como vemos no exemplo acima**. Como nenhuma informação é necessária nesse caso, chamar nossa função é simples e basta fornecer **greet_user()**. Como esperado, ela exibe Hello!: **Hello!**"
   ]
  },
  {
   "cell_type": "markdown",
   "id": "b7ff41b3-cd86-468d-960c-e4549e266219",
   "metadata": {
    "tags": []
   },
   "source": [
    "### Passando informações para uma função"
   ]
  },
  {
   "cell_type": "markdown",
   "id": "a36d9848-51ed-4697-8da6-ba4ac1448f29",
   "metadata": {},
   "source": [
    "Se for um pouco modificada, a <code>**função**</code> **greet_user()** não só pode dizer Hello! ao usuário como também pode saudá-lo pelo nome. Para que a função faça isso, especifique username entre os parênteses da definição da função em <code>**def**</code> **greet_user()**. **Ao acrescentar 'username' aqui, permitimos que a função aceite qualquer valor que você especificar para 'username'. A <code>**função**</code> agora espera que um valor seja fornecido para username sempre que ela for chamada**. Ao chamar **greet_user()**, você poderá lhe passar um nome, por exemplo, 'jesse', entre parênteses:"
   ]
  },
  {
   "cell_type": "code",
   "execution_count": 13,
   "id": "8c6c2cd0-7018-4c51-9704-0b0cc7fddb88",
   "metadata": {
    "tags": []
   },
   "outputs": [],
   "source": [
    "def greet_user(username): #funcão def(parametro); \n",
    "    \"\"\"Exibe uma saudação simples.\"\"\" \n",
    "    print(\"Hello, \" + username.title() + \"!\")  #print(parametro.title)"
   ]
  },
  {
   "cell_type": "code",
   "execution_count": 14,
   "id": "683060e3-ae87-48f7-8a68-7f6a088e9f21",
   "metadata": {
    "tags": []
   },
   "outputs": [
    {
     "name": "stdout",
     "output_type": "stream",
     "text": [
      "Hello, Jesse!\n"
     ]
    }
   ],
   "source": [
    "greet_user('jesse') #greet_user('argumento')"
   ]
  },
  {
   "cell_type": "markdown",
   "id": "90006ba9-cdaf-4c98-a6cc-4da87bd5dacd",
   "metadata": {
    "tags": []
   },
   "source": [
    "De modo semelhante, usar **greet_user('sarah')** chama **greet_user()**, passa 'sarah' a essa função e exibe Hello, Sarah!. **Você pode chamar greet_user() quantas vezes quiser e lhe passar qualquer nome desejado de modo a gerar sempre uma saída previsível**."
   ]
  },
  {
   "cell_type": "code",
   "execution_count": 16,
   "id": "5579fe38-68dd-4a3c-93d2-47d44efb4530",
   "metadata": {
    "tags": []
   },
   "outputs": [
    {
     "name": "stdout",
     "output_type": "stream",
     "text": [
      "Hello, Sarah!\n"
     ]
    }
   ],
   "source": [
    "greet_user('sarah') #greet_user('argumento')"
   ]
  },
  {
   "cell_type": "markdown",
   "id": "39bf4d96-3c50-4493-ac85-9cfdf06da19c",
   "metadata": {},
   "source": [
    "### Argumentos e parâmetros"
   ]
  },
  {
   "cell_type": "markdown",
   "id": "2b5b5685-bea1-4e57-8896-0108e0318f05",
   "metadata": {},
   "source": [
    "Na função **greet_user()** anterior, definimos **'greet_user()'** para que exija um valor para a variável **'username'**. **Depois que chamamos a função e lhe fornecemos a informação (o nome de uma pessoa), a saudação correta foi exibida**.\n",
    "\n",
    "A variável **'username'** na definição de **'greet_user()'** é um exemplo de <code>**parâmetro**</code> – **uma informação de que a função precisa para executar sua tarefa**. O valor **'jesse' em greet_user('jesse')** é um exemplo de <code>**argumento**</code>. Um <code>**argumento**</code> **é uma informação passada para uma função em sua chamada. Quando chamamos a função, colocamos entre parênteses () o valor com que queremos que a função trabalhe**. Nesse caso, **o argumento 'jesse'foi passado para a função 'greet_user()' e o valor foi armazenado no parâmetro 'username'**."
   ]
  },
  {
   "cell_type": "markdown",
   "id": "ef9de0e2-68d8-4c5a-a15c-a7a1f4b00b1c",
   "metadata": {},
   "source": [
    "**NOTA**  \n",
    "Às vezes, as pessoas falam de <code>**argumentos**</code> e <code>**parâmetros**</code> de modo indistinto. **Não fique surpreso se vir as variáveis de uma definição de função serem referenciadas como argumentos, ou as variáveis de uma chamada de função serem chamadas de parâmetros.**\n"
   ]
  },
  {
   "cell_type": "markdown",
   "id": "cdb82ba8-b1a2-4346-a4b1-0dd40ffea8a9",
   "metadata": {},
   "source": [
    "### **FAÇA VOCÊ MESMO**"
   ]
  },
  {
   "cell_type": "markdown",
   "id": "70932055-db66-4eeb-920f-1d677fe37393",
   "metadata": {},
   "source": [
    "**8.1 – Mensagem:** Escreva uma função chamada **display_message()** que mostre uma frase informando a todos o que você está aprendendo neste capítulo. Chame a função e certifique-se de que a mensagem seja exibida corretamente."
   ]
  },
  {
   "cell_type": "code",
   "execution_count": 22,
   "id": "ae744249-a5d5-4d6f-9e15-b102ecb9892d",
   "metadata": {
    "tags": []
   },
   "outputs": [],
   "source": [
    "def display_message():\n",
    "    message = \" estou aprender sobre funções\"  # ('argumento')\n",
    "    print(message)"
   ]
  },
  {
   "cell_type": "code",
   "execution_count": 23,
   "id": "9e701f24-fac3-4590-b65c-fc76d248a147",
   "metadata": {
    "tags": []
   },
   "outputs": [
    {
     "name": "stdout",
     "output_type": "stream",
     "text": [
      " estou aprender sobre funções\n"
     ]
    }
   ],
   "source": [
    "display_message()"
   ]
  },
  {
   "cell_type": "markdown",
   "id": "647f1fd8-c073-4194-995f-02affcd81115",
   "metadata": {},
   "source": [
    "**8.2 – Livro favorito:** Escreva uma função chamada **favorite_book()** que aceite um parâmetro **title**. A função deve exibir uma mensagem como **Um dos meus livros favoritos é Alice no país das maravilhas**. Chame a função e não se esqueça de incluir o título do livro como argumento na chamada da função."
   ]
  },
  {
   "cell_type": "code",
   "execution_count": 25,
   "id": "497fa75a-fe81-43e8-8f25-bcb9865d4e45",
   "metadata": {
    "tags": []
   },
   "outputs": [],
   "source": [
    "def favorite_book(title):   #def favorite_book(parametro)\n",
    "    \"\"\"Exibir Livro favorito\"\"\"\n",
    "    print(\"Um dos meus livros favoritos é \" + title)"
   ]
  },
  {
   "cell_type": "code",
   "execution_count": 26,
   "id": "21c22de0-6a05-4aef-8dc2-c49874685153",
   "metadata": {
    "tags": []
   },
   "outputs": [
    {
     "name": "stdout",
     "output_type": "stream",
     "text": [
      "Um dos meus livros favoritos é Alice no país das maravilhas\n"
     ]
    }
   ],
   "source": [
    "favorite_book('Alice no país das maravilhas')"
   ]
  },
  {
   "cell_type": "markdown",
   "id": "e1cdbef1-2586-478f-b72c-cbbf5bf148bc",
   "metadata": {},
   "source": [
    "****"
   ]
  },
  {
   "cell_type": "markdown",
   "id": "322539ca-4a8f-4efe-a3bb-563d492a03e9",
   "metadata": {},
   "source": [
    "## Passando <code>**argumentos**</code>"
   ]
  },
  {
   "cell_type": "markdown",
   "id": "99d774e9-23db-4156-a67a-571f13376411",
   "metadata": {},
   "source": [
    "**Pelo fato de ser possível que uma definição de função tenha vários <code>parâmetros</code>, uma <code>chamada de função</code> pode precisar de diversos <code>argumentos</code>**. Os <code>**argumentos**</code> podem ser passados para as funções de várias maneiras. Podemos usar <code>***argumentos posicionais***</code>, **que devem estar na mesma ordem em que os <code>parâmetros</code> foram escritos**, argumentos nomeados **<code>(keyword arguments)</code>**, em que cada <code>**argumentos**</code> é constituído de **<code>um nome de variável e de um valor, ou por meio de listas</code> e <code>dicionários de valores</code>**. Vamos analisar cada um deles.\n"
   ]
  },
  {
   "cell_type": "markdown",
   "id": "b80a8536-24db-45b0-b14a-f134c5862545",
   "metadata": {},
   "source": [
    "### Argumentos posicionais"
   ]
  },
  {
   "cell_type": "markdown",
   "id": "25777a81-0fcf-4cf0-a44e-c4b6a3e3c8cd",
   "metadata": {},
   "source": [
    "Quando chamamos uma <code>**função**</code>, Python precisa fazer a correspondência <code>**entre cada argumento da chamada da função e um parâmetro da definição**</code>. A maneira mais simples de fazer isso é contar com a ordem dos argumentos fornecidos. Valores cuja correspondência seja feita dessa maneira são chamados de <code>***argumentos posicionais***</code>.\n",
    "\n",
    "Para ver como isso funciona considere uma função que apresente informações sobre animais de estimação. **A função** nos informa o tipo de cada animal de estimação e o nome dele, como vemos aqui:"
   ]
  },
  {
   "cell_type": "code",
   "execution_count": 32,
   "id": "3e9c7fe4-54fe-41cc-abb2-394558025049",
   "metadata": {
    "tags": []
   },
   "outputs": [],
   "source": [
    "def describe_pet(animal_type, pet_name): #def nome da função(parametro,parametro)\n",
    "    \"\"\"Exibe informações sobre um animal de estimação.\"\"\"\n",
    "    print(\"\\nI have a \" + animal_type + \".\")\n",
    "    print(\"My \" + animal_type + \"'s name is \" + pet_name.title() + \".\")"
   ]
  },
  {
   "cell_type": "code",
   "execution_count": 33,
   "id": "c4074b40-348f-41b5-be2c-7c66dcd0ec1e",
   "metadata": {
    "tags": []
   },
   "outputs": [
    {
     "name": "stdout",
     "output_type": "stream",
     "text": [
      "\n",
      "I have a hamster.\n",
      "My hamster's name is Harry.\n"
     ]
    }
   ],
   "source": [
    " describe_pet('hamster', 'harry') # chamada da funcão(argumento, argumento)"
   ]
  },
  {
   "cell_type": "markdown",
   "id": "3558440c-d332-43e9-8ea3-8d285d29d232",
   "metadata": {},
   "source": [
    "A definição mostra que essa função precisa de um tipo de animal e de seu nome. Quando chamamos **describe_pet()**, devemos fornecer o tipo do animal e um nome, nessa ordem. Por exemplo, **na chamada da função, o argumento 'hamster' é armazenado no parâmetro animal_type e o argumento 'harry' é armazenado no parâmetro pet_name**. No corpo da função, esses dois parâmetros são usados para exibir informações sobre o animal de estimação descrito."
   ]
  },
  {
   "cell_type": "markdown",
   "id": "acc0c99f-7690-4d10-aede-5e12e033338f",
   "metadata": {},
   "source": [
    "#### **Várias chamadas de função**"
   ]
  },
  {
   "cell_type": "markdown",
   "id": "ea3626e4-d3f6-4676-9921-b446452e9715",
   "metadata": {},
   "source": [
    "**Podemos chamar uma função quantas vezes forem necessárias**. Descrever um segundo animal de estimação diferente exige apenas mais uma chamada a **describe_pet()**:"
   ]
  },
  {
   "cell_type": "code",
   "execution_count": 37,
   "id": "7fb58ae1-b808-42b6-a496-c29e2740d6eb",
   "metadata": {
    "tags": []
   },
   "outputs": [],
   "source": [
    "def describe_pet(animal_type, pet_name): #def nome da função(parametro,parametro)\n",
    "    \"\"\"Exibe informações sobre um animal de estimação.\"\"\"\n",
    "    print(\"\\nI have a \" + animal_type + \".\")\n",
    "    print(\"My \" + animal_type + \"'s name is \" + pet_name.title() + \".\")"
   ]
  },
  {
   "cell_type": "code",
   "execution_count": 38,
   "id": "45000793-ee8c-4968-b8c4-50f24cfa64c3",
   "metadata": {
    "tags": []
   },
   "outputs": [
    {
     "name": "stdout",
     "output_type": "stream",
     "text": [
      "\n",
      "I have a hamster.\n",
      "My hamster's name is Harry.\n",
      "\n",
      "I have a dog.\n",
      "My dog's name is Willie.\n"
     ]
    }
   ],
   "source": [
    "describe_pet('hamster', 'harry')  # chamada da funcão(argumento, argumento)\n",
    "describe_pet('dog', 'willie')"
   ]
  },
  {
   "cell_type": "markdown",
   "id": "12d18688-ac0a-4bc9-934a-b575593daa04",
   "metadata": {
    "tags": []
   },
   "source": [
    "Chamar uma função várias vezes é uma maneira eficiente de trabalhar. O código que descreve um animal de estimação **é escrito uma só vez na <code>função</code>**. **Então, sempre que quiser descrever um novo animal de estimação, podemos chamar a função com as informações sobre esse animal**. Mesmo que o código para descrever um animal de estimação fosse expandido atingindo dez linhas, poderíamos ainda descrever um novo animal de estimação chamando a função novamente com apenas uma linha.\n",
    "\n",
    "Podemos usar tantos <code>**argumentos posicionais**</code> quantos forem necessários nas funções.´**Python trabalha com os argumentos fornecidos na <code>chamada da função</code> e faz a correspondência de cada um com o parâmetro associado na definição da função**."
   ]
  },
  {
   "cell_type": "markdown",
   "id": "75aff711-20f9-4ee5-a892-92fcda718481",
   "metadata": {},
   "source": [
    "#### **A ordem é importante em argumentos posicionais**"
   ]
  },
  {
   "cell_type": "markdown",
   "id": "c4ba2bbe-dce2-4ece-9543-ffd75e117760",
   "metadata": {},
   "source": [
    "Podemos **obter resultados inesperados se confundirmos a ordem dos argumentos em uma chamada de função quando argumentos posicionais forem usados**:"
   ]
  },
  {
   "cell_type": "code",
   "execution_count": 42,
   "id": "722c4795-dcb8-4177-8e30-fb002baa1b46",
   "metadata": {
    "tags": []
   },
   "outputs": [],
   "source": [
    "def describe_pet(animal_type, pet_name): #def nome da função(parametro,parametro)\n",
    "    \"\"\"Exibe informações sobre um animal de estimação.\"\"\"\n",
    "    print(\"\\nI have a \" + animal_type + \".\")\n",
    "    print(\"My \" + animal_type + \"'s name is \" + pet_name.title() + \".\")"
   ]
  },
  {
   "cell_type": "code",
   "execution_count": 43,
   "id": "35457346-5655-45da-84f6-fa7e87ed3d79",
   "metadata": {
    "tags": []
   },
   "outputs": [
    {
     "name": "stdout",
     "output_type": "stream",
     "text": [
      "\n",
      "I have a harry.\n",
      "My harry's name is Hamster.\n"
     ]
    }
   ],
   "source": [
    "describe_pet('harry', 'hamster')"
   ]
  },
  {
   "cell_type": "markdown",
   "id": "6e7282d6-5640-41e1-8743-c2a6de551918",
   "metadata": {},
   "source": [
    "Se obtiver resultados engraçados como esse, **verifique se a ordem dos argumentos em sua chamada de função corresponde à ordem dos parâmetros na definição da função.**"
   ]
  },
  {
   "cell_type": "markdown",
   "id": "96002439-aa61-4b6d-ae4a-03404ac782e7",
   "metadata": {},
   "source": [
    "### Argumentos nomeados"
   ]
  },
  {
   "cell_type": "markdown",
   "id": "4272ec93-fb41-4db7-82b2-94424bcb14a1",
   "metadata": {},
   "source": [
    "+ Um **<code>argumento nomeado (keyword arguments)</code> é um par nome-valor passado para uma função**.\n",
    "\n",
    "**Associamos diretamente o <code>nome</code> e o <code>valor</code> no próprio argumento para que não haja confusão quando ele for passado para a função** (você não acabará com um harry chamado Hamster). <code>**argumentos nomeados**</code> fazem com que você não precise se preocupar com a ordem correta de seus argumentos na chamada da função e deixam claro o papel de cada valor na chamada.\n",
    "\n",
    "\n",
    "Vamos reescrever **pets.py** usando argumentos nomeados para chamar **describe_pet()**:"
   ]
  },
  {
   "cell_type": "code",
   "execution_count": 47,
   "id": "a71ab87c-a0cb-4c33-b1b6-da5b766a7a28",
   "metadata": {
    "tags": []
   },
   "outputs": [],
   "source": [
    "def describe_pet(animal_type, pet_name): #def nome da função(parametro,parametro)\n",
    "    \"\"\"Exibe informações sobre um animal de estimação.\"\"\"\n",
    "    print(\"\\nI have a \" + animal_type + \".\")\n",
    "    print(\"My \" + animal_type + \"'s name is \" + pet_name.title() + \".\")"
   ]
  },
  {
   "cell_type": "code",
   "execution_count": 48,
   "id": "3a250e12-437f-4bfa-998c-6c1e44309c84",
   "metadata": {
    "tags": []
   },
   "outputs": [
    {
     "name": "stdout",
     "output_type": "stream",
     "text": [
      "\n",
      "I have a hamster.\n",
      "My hamster's name is Harry.\n"
     ]
    }
   ],
   "source": [
    "describe_pet(animal_type='hamster', pet_name='harry')"
   ]
  },
  {
   "cell_type": "markdown",
   "id": "909d6f90-c48c-492a-892e-0c904f047e5c",
   "metadata": {
    "tags": []
   },
   "source": [
    "**A ordem dos <code>**argumentos nomeados**</code> não importa, pois Python sabe o que é cada valor**. As duas chamadas de função a seguir são equivalentes:"
   ]
  },
  {
   "cell_type": "code",
   "execution_count": 50,
   "id": "9239c735-464c-45ba-a618-fe98420f92fb",
   "metadata": {
    "tags": []
   },
   "outputs": [
    {
     "name": "stdout",
     "output_type": "stream",
     "text": [
      "\n",
      "I have a hamster.\n",
      "My hamster's name is Harry.\n",
      "\n",
      "I have a hamster.\n",
      "My hamster's name is Harry.\n"
     ]
    }
   ],
   "source": [
    "describe_pet(animal_type='hamster', pet_name='harry') \n",
    "describe_pet(pet_name='harry', animal_type='hamster')"
   ]
  },
  {
   "cell_type": "markdown",
   "id": "f43401b5-7e96-4da4-b996-bbf55b12df2e",
   "metadata": {},
   "source": [
    " **NOTA**.  \n",
    " **Quando usar argumentos nomeados, lembre-se de usar os nomes exatos dos parâmetros usados na definição da função.**"
   ]
  },
  {
   "cell_type": "markdown",
   "id": "51524ecc-253b-43bf-b0f0-f835c0f1b010",
   "metadata": {},
   "source": [
    "### Valores default"
   ]
  },
  {
   "cell_type": "markdown",
   "id": "e0f84bc6-67e7-4d79-ba2b-24920d938abf",
   "metadata": {},
   "source": [
    "Ao escrever uma função, podemos definir **um <code>valor default</code> para cada parâmetro. Se um argumento para um parâmetro for especificado na chamada da função, Python usará o valor desse argumento. Se não for, <code>valor default</code> do parâmetro será utilizado**. Portanto, se um <code>**valor default**</code> for definido para um parâmetro, você poderá excluir o argumento correspondente, que normalmente seria especificado na chamada da função. Usar <code>**valores default**</code> pode simplificar suas chamadas de função e deixar mais claro o modo como suas funções normalmente são utilizadas.\n",
    "\n",
    "Por exemplo, se perceber que a maioria das chamadas a **describe_pet()** é usada para descrever **'cachorros'**, você pode definir o <code>**valor default**</code> de **animal_type com 'dog'**. Agora qualquer pessoa que chamar **describe_pet()** para um cachorro poderá omitir essa informação:"
   ]
  },
  {
   "cell_type": "code",
   "execution_count": 54,
   "id": "606d9130-9f4e-4506-b6f9-ddee8c429645",
   "metadata": {
    "tags": []
   },
   "outputs": [],
   "source": [
    "def describe_pet(pet_name, animal_type='dog'):\n",
    "    \"\"\"Exibe informações sobre um animal de estimação.\"\"\"\n",
    "    print(\"\\nI have a \" + animal_type + \".\")\n",
    "    print(\"My \" + animal_type + \"'s name is \" + pet_name.title() + \".\")"
   ]
  },
  {
   "cell_type": "code",
   "execution_count": 55,
   "id": "fb5e2b00-da8a-46ea-95c0-a0adc3589f09",
   "metadata": {
    "tags": []
   },
   "outputs": [
    {
     "name": "stdout",
     "output_type": "stream",
     "text": [
      "\n",
      "I have a dog.\n",
      "My dog's name is Willie.\n"
     ]
    }
   ],
   "source": [
    "describe_pet(pet_name='willie')"
   ]
  },
  {
   "cell_type": "markdown",
   "id": "24019ad8-d794-47d9-843b-158ee9fc595e",
   "metadata": {},
   "source": [
    "**Observe que a ordem dos parâmetros na definição da função precisou ser alterada**. Como o uso do <code>**valor default**</code> faz com que não seja necessário especificar um tipo de animal como argumento, o único argumento restante na chamada da função é o nome do animal de estimação. **Python continua interpretando esse valor como um <code>***argumento posicional***</code>, portanto, se a função for chamada somente com o nome de um animal de estimação, esse argumento corresponderá ao primeiro parâmetro listado na definição da função**. Esse é o motivo pelo qual o primeiro parâmetro deve ser **'pet_name'**.\n",
    "\n",
    "O modo mais simples de usar essa função agora é fornecer apenas o nome de um cachorro na chamada da função: **'describe_pet('willie')'**. **Essa chamada de função produzirá a mesma saída do exemplo anterior. O único argumento fornecido é 'willie', portanto ele é associado ao primeiro parâmetro da definição da função, que é 'pet_name'**. Como nenhum argumento foi fornecido para **'animal_type'**, Python usa o <code>**valor default**</code>, que é **'dog'**."
   ]
  },
  {
   "cell_type": "code",
   "execution_count": 57,
   "id": "2f13ba7f-bc93-439c-a5cc-c6fd4b0550e9",
   "metadata": {
    "tags": []
   },
   "outputs": [
    {
     "name": "stdout",
     "output_type": "stream",
     "text": [
      "\n",
      "I have a dog.\n",
      "My dog's name is Willie.\n"
     ]
    }
   ],
   "source": [
    "describe_pet('willie')"
   ]
  },
  {
   "cell_type": "markdown",
   "id": "38c36dc3-6f79-43a5-a4f0-a5d94e5a8585",
   "metadata": {},
   "source": [
    "Para descrever um animal que não seja um cachorro, uma chamada de função como esta pode ser usada: **describe_pet(pet_name='harry', animal_type='hamster')** \n",
    "Como um argumento explícito para **'animal_type' foi especificado, Python ignorará o valor default do parâmetro**.\n",
    "\n",
    "**NOTA**   \n",
    "Ao usar <code>**valores default**</code>, **qualquer parâmetro com um valor desse tipo deverá ser listado após todos os parâmetros que não tenham valores default. Isso permite que Python continue a interpretar os argumentos posicionais corretamente.**"
   ]
  },
  {
   "cell_type": "markdown",
   "id": "a384c4ff-1e96-4fb6-8528-b4e11b11f920",
   "metadata": {},
   "source": [
    "### Chamadas de função equivalentes"
   ]
  },
  {
   "cell_type": "markdown",
   "id": "7e211b2a-37ff-4ad0-a934-355406b62995",
   "metadata": {},
   "source": [
    "Como os **<code>argumentos posicionais, os argumentos nomeados e os valores default</code> podem ser usados em conjunto**, e com frequência você terá várias maneiras equivalentes de chamar uma função.\n",
    "\n",
    "Considere a definição a seguir de **'describe_pets()'** com um valor default especificado: **def describe_pet(pet_name, animal_type='dog'):** Com essa definição, **um argumento sempre deverá ser fornecido para 'pet_name' e esse valor pode ser especificado por meio do formato <code>posicional ou nomeado</code>**. Se o animal descrito não for um cachorro, um argumento para **'animal_type' deverá ser incluído na chamada, e esse argumento também pode ser especificado com o formato <code>posicional ou nomeado</code>.**\n",
    "\n",
    "Todas as chamadas a seguir serão adequadas a essa função:"
   ]
  },
  {
   "cell_type": "code",
   "execution_count": 61,
   "id": "3e39cccb-6785-4843-a243-f51e94049258",
   "metadata": {
    "tags": []
   },
   "outputs": [
    {
     "name": "stdout",
     "output_type": "stream",
     "text": [
      "\n",
      "I have a dog.\n",
      "My dog's name is Willie.\n",
      "\n",
      "I have a dog.\n",
      "My dog's name is Willie.\n"
     ]
    }
   ],
   "source": [
    "# Um cachorro chamado Willie\n",
    "describe_pet('willie')\n",
    "describe_pet(pet_name='willie')"
   ]
  },
  {
   "cell_type": "code",
   "execution_count": 62,
   "id": "b491cc6f-5e2b-4979-995a-0620fc1ecffb",
   "metadata": {
    "tags": []
   },
   "outputs": [
    {
     "name": "stdout",
     "output_type": "stream",
     "text": [
      "\n",
      "I have a hamster.\n",
      "My hamster's name is Harry.\n",
      "\n",
      "I have a hamster.\n",
      "My hamster's name is Harry.\n"
     ]
    }
   ],
   "source": [
    "# Um hamster chamado Harry describe_pet('harry', 'hamster')\n",
    "describe_pet(pet_name='harry', animal_type='hamster') \n",
    "describe_pet(animal_type='hamster', pet_name='harry') \n",
    "#Cada uma dessas chamadas de função produzirá a mesma saída dos exemplos anteriores"
   ]
  },
  {
   "cell_type": "markdown",
   "id": "68a92382-6e9a-4307-805c-d0b70736e406",
   "metadata": {},
   "source": [
    "### Evitando erros em argumentos"
   ]
  },
  {
   "cell_type": "markdown",
   "id": "cb0b3f7b-4a40-4f3d-b9e4-41beb1a8208c",
   "metadata": {},
   "source": [
    "Quando começar a usar funções, não se surpreenda se você se deparar com erros sobre argumentos sem correspondência. **Argumentos sem correspondência ocorrem quando fornecemos menos ou mais argumentos necessários à função para que ela realize sua tarefa**. Por exemplo, eis o que acontece se tentarmos chamar **describe_pet()** sem argumentos:"
   ]
  },
  {
   "cell_type": "code",
   "execution_count": 65,
   "id": "83b917a4-dd1c-447f-a515-2e2fac3a676c",
   "metadata": {
    "tags": []
   },
   "outputs": [],
   "source": [
    "def describe_pet(pet_name, animal_type):\n",
    "    \"\"\"Exibe informações sobre um animal de estimação.\"\"\"\n",
    "    print(\"\\nI have a \" + animal_type + \".\")\n",
    "    print(\"My \" + animal_type + \"'s name is \" + pet_name.title() + \".\")"
   ]
  },
  {
   "cell_type": "code",
   "execution_count": 66,
   "id": "7e3bf560-da72-46b9-9fd1-16f2e3242319",
   "metadata": {
    "tags": []
   },
   "outputs": [
    {
     "ename": "TypeError",
     "evalue": "describe_pet() missing 2 required positional arguments: 'pet_name' and 'animal_type'",
     "output_type": "error",
     "traceback": [
      "\u001b[0;31m---------------------------------------------------------------------------\u001b[0m",
      "\u001b[0;31mTypeError\u001b[0m                                 Traceback (most recent call last)",
      "Cell \u001b[0;32mIn[66], line 1\u001b[0m\n\u001b[0;32m----> 1\u001b[0m \u001b[43mdescribe_pet\u001b[49m\u001b[43m(\u001b[49m\u001b[43m)\u001b[49m\n",
      "\u001b[0;31mTypeError\u001b[0m: describe_pet() missing 2 required positional arguments: 'pet_name' and 'animal_type'"
     ]
    }
   ],
   "source": [
    "describe_pet()"
   ]
  },
  {
   "cell_type": "markdown",
   "id": "4a4d9a20-57f8-445b-b399-f35ce86c0b19",
   "metadata": {},
   "source": [
    "Python reconhece que algumas informações estão faltando na chamada da função e o traceback nos informa quais são: **Traceback (most recent call last): u File \"pets.py\", line 6, in <module> v describe_pet() w TypeError: describe_pet() missing 2 required positional arguments: 'animal_**"
   ]
  },
  {
   "cell_type": "markdown",
   "id": "7bd8d15d-30ef-4575-910a-6f03ed96362c",
   "metadata": {},
   "source": [
    "O **<code>traceback</code> nos informa em que local está o problema, o que nos permite olhar o código novamente e ver que algo deu errado em nossa chamada de função**. <code>**A chamada de função**</code> causadora do problema é apresentada. **O <code>traceback</code> nos informa que há dois argumentos ausentes na chamada da função e mostra o nome desses argumentos**. Se essa função estivesse em um arquivo separado, provavelmente poderíamos reescrever a chamada de forma correta sem precisar abrir esse arquivo e ler o código da função.\n",
    "\n",
    "**Python nos ajuda lendo o código da função e informando os nomes dos argumentos que devemos fornecer. Esse é outro motivo para dar nomes descritivos às suas variáveis e funções**. Se fizer isso, as mensagens de erro de Python serão mais úteis para você e para qualquer pessoa que possa usar o seu código.\n",
    "\n",
    "Se você fornecer argumentos demais, deverá obter um <code>**traceback**</code> semelhante, que poderá ajudá-lo a fazer uma correspondência correta entre a chamada da função e sua definição."
   ]
  },
  {
   "cell_type": "markdown",
   "id": "daa1617d-4ae5-455c-a170-ba9c79b8858c",
   "metadata": {},
   "source": [
    "### **FAÇA VOCÊ MESMO**"
   ]
  },
  {
   "cell_type": "markdown",
   "id": "339ffdaa-bcb8-448c-a65f-47ba6165e85f",
   "metadata": {},
   "source": [
    "**8.3 – Camiseta:** Escreva uma função chamada **make_shirt()** que aceite um tamanho e o texto de uma mensagem que deverá ser estampada na camiseta. A função deve exibir uma frase que mostre o tamanho da camiseta e a mensagem estampada.\n",
    "+ Chame a função uma vez usando argumentos posicionais para criar uma camiseta. Chame a função uma segunda vez usando argumentos nomeados.\n"
   ]
  },
  {
   "cell_type": "code",
   "execution_count": null,
   "id": "0da94aa6-6345-4d7d-8874-60d735fd0234",
   "metadata": {
    "tags": []
   },
   "outputs": [],
   "source": [
    "def make_shirt(size, text):\n",
    "    \"\"\"Exibe informações sobre uma camiseta estampada.\"\"\"\n",
    "    \n",
    "    print(\"\\nO tamanho da camiseta é: \" + str(size))\n",
    "    print(\"A estampa da camiseta é: \" + text)"
   ]
  },
  {
   "cell_type": "code",
   "execution_count": null,
   "id": "684e5969-47ae-4102-8015-d843c2ee07b5",
   "metadata": {
    "tags": []
   },
   "outputs": [],
   "source": [
    "#Chame a função usando argumentos posicionais\n",
    "make_shirt( 23, 'Deus é meu pastor e nada me faltará')\n",
    "#Chame a função usando argumentos nomeados.\n",
    "make_shirt(size= 30, text='Deus é meu pastor e nada me faltará')"
   ]
  },
  {
   "cell_type": "markdown",
   "id": "cd824408-8ffb-4d63-9f62-87224e1adde3",
   "metadata": {},
   "source": [
    "**8.4 – Camisetas grandes:** Modifique a função **make_shirt()** de modo que as camisetas sejam grandes por default, com uma mensagem Eu amo Python. Crie uma camiseta grande e outra média com a mensagem default, e uma camiseta de qualquer tamanho com uma mensagem diferente."
   ]
  },
  {
   "cell_type": "code",
   "execution_count": null,
   "id": "275113a4-f8e5-44da-abe3-74f60ed08ea7",
   "metadata": {
    "tags": []
   },
   "outputs": [],
   "source": [
    "def make_shirt(size='grande', text='Eu amo Python'):\n",
    "    \"\"\"Exibe informações sobre uma camiseta estampada.\"\"\"\n",
    "    print(\"\\nO tamanho da camiseta é: \" + size)\n",
    "    print(\"A estampa da camiseta é: '\" + text + \"'\")"
   ]
  },
  {
   "cell_type": "code",
   "execution_count": null,
   "id": "4843f7bc-f676-4b3e-8b9c-ff2d1726507f",
   "metadata": {
    "tags": []
   },
   "outputs": [],
   "source": [
    "# Criando uma camiseta grande com a mensagem default\n",
    "make_shirt()\n",
    "\n",
    "# Criando uma camiseta média com a mensagem default\n",
    "make_shirt(size='médio')\n",
    "\n",
    "# Criando uma camiseta de qualquer tamanho com uma mensagem diferente\n",
    "make_shirt(size='pequeno', text='Python é incrível')"
   ]
  },
  {
   "cell_type": "markdown",
   "id": "ba35b3ae-c140-4f85-a3f0-0f2ab77d77b1",
   "metadata": {},
   "source": [
    "**8.5 – Cidades:** Escreva uma função chamada **describe_city()** que aceite o nome de uma cidade e seu país. A função deve exibir uma frase simples, como **Reykjavik está localizada na Islândia**. Forneça um valor default ao parâmetro que representa o país. Chame sua função para três cidades diferentes em que pelo menos uma delas não esteja no país default."
   ]
  },
  {
   "cell_type": "code",
   "execution_count": null,
   "id": "e9a5e622-a7b1-4097-9c85-813fea78cd83",
   "metadata": {
    "tags": []
   },
   "outputs": [],
   "source": [
    "def describe_city(city, country='Brasil'):\n",
    "    \"\"\"Exibe informações sobre uma cidade e seu país.\"\"\"\n",
    "    print(city + \" está localizada no \" + country + \".\")"
   ]
  },
  {
   "cell_type": "code",
   "execution_count": null,
   "id": "14fc8a6c-4ba7-4804-a5ce-ebeebf8a3508",
   "metadata": {
    "tags": []
   },
   "outputs": [],
   "source": [
    "# Chamando a função para três cidades diferentes\n",
    "describe_city('Rio de Janeiro')        # Cidade no país default (Brasil)\n",
    "describe_city('São Paulo')             # Outra cidade no país default (Brasil)\n",
    "describe_city('Nova York', 'Estados Unidos')  # Cidade fora do país default"
   ]
  },
  {
   "cell_type": "markdown",
   "id": "29f0c0fb-945c-431c-8d8c-ef8e9972073c",
   "metadata": {
    "tags": []
   },
   "source": [
    "****"
   ]
  },
  {
   "cell_type": "markdown",
   "id": "253bb78a-b9c5-473c-9f70-124e8a93cbbb",
   "metadata": {
    "tags": []
   },
   "source": [
    "## **Valores de <code>retorno</code>**"
   ]
  },
  {
   "cell_type": "markdown",
   "id": "dbfeb479-76d5-4c50-bf14-6e677eb95eb2",
   "metadata": {},
   "source": [
    "**Uma função nem sempre precisa exibir sua saída diretamente**. Em vez disso, ela pode **processar alguns dados e então devolver um valor ou um conjunto de valores**. O valor devolvido pela função é chamado de <code>**valor de retorno**</code>. **A instrução <code>return</code> toma um valor que está em uma função e o envia de volta à linha que a chamou**.<code>**valores de retorno**</code> permitem passar boa parte do trabalho pesado de um programa para funções, o que pode simplificar o corpo de seu programa."
   ]
  },
  {
   "cell_type": "markdown",
   "id": "24ec57f6-a4f0-48ee-834a-1c1f6e7352bf",
   "metadata": {},
   "source": [
    "### Devolvendo um valor simples"
   ]
  },
  {
   "cell_type": "markdown",
   "id": "19666269-6e98-454a-8a65-ead6e4bc3470",
   "metadata": {},
   "source": [
    "Vamos observar uma função que aceite um primeiro nome e um sobrenome e devolva um nome completo formatado de modo elegante:"
   ]
  },
  {
   "cell_type": "code",
   "execution_count": null,
   "id": "574cbf28-4544-4af4-9240-a1afe398d75f",
   "metadata": {
    "tags": []
   },
   "outputs": [],
   "source": [
    "def get_formatted_name(first_name, last_name):\n",
    "    \"\"\"Devolve um nome completo formatado de modo elegante.\"\"\"\n",
    "    full_name = first_name + ' ' + last_name\n",
    "    return full_name.title() \n",
    "musician = get_formatted_name('jimi', 'hendrix') \n",
    "print(musician)"
   ]
  },
  {
   "cell_type": "markdown",
   "id": "b8b7d1c9-b1fe-4a1a-b5ed-52773efa915e",
   "metadata": {
    "tags": []
   },
   "source": [
    "A definição de **get_formatted_name()** aceita um primeiro nome e um sobrenome como parâmetros. A função combina esses dois nomes, acrescenta um espaço entre eles e armazena o resultado em **full_name**. O valor de **full_name** é convertido para que tenha letras iniciais maiúsculas e é devolvido para a linha que fez a chamada.\n",
    "\n",
    "**Quando chamamos uma função que devolve um valor, precisamos fornecer uma variável em que o valor de retorno possa ser armazenado.** Nesse caso, o valor devolvido é armazenado na variável **'musician'**. A saída mostra um nome formatado de modo elegante, composto das partes do nome de uma pessoa: **Jimi Hendrix**\n",
    "\n",
    "Pode parecer bastante trabalho para obter um nome formatado de forma elegante quando poderíamos simplesmente ter escrito: **print(\"Jimi Hendrix\")** \n",
    "No entanto, **quando consideramos trabalhar com um programa de grande porte, que precise armazenar muitos primeiros nomes e sobrenomes separadamente**, funções como **get_formatted_name()** tornam-se muito convenientes. **Armazenamos os primeiros nomes e os sobrenomes de forma separada e então chamamos essa função sempre que quisermos exibir um nome completo.**"
   ]
  },
  {
   "cell_type": "markdown",
   "id": "cba80458-858d-47d7-90a8-d574d5da5c83",
   "metadata": {},
   "source": [
    "### Deixando um argumento opcional"
   ]
  },
  {
   "cell_type": "markdown",
   "id": "0941acd9-0485-49b4-be3a-4b36610e8f51",
   "metadata": {},
   "source": [
    "Às vezes, faz sentido criar um <code>**argumento opcional**</code> **para que as pessoas que usarem a função possam optar por fornecer informações extras somente se quiserem**. <code>**Valores default**</code> **podem ser usados para deixar um argumento opcional**.\n",
    "\n",
    "Por exemplo, suponha que queremos expandir **get_formatted_name()** para que trate nomes do meio também. Uma primeira tentativa para incluir nomes do meio poderia ter o seguinte aspecto:"
   ]
  },
  {
   "cell_type": "code",
   "execution_count": null,
   "id": "8e237119-3a6a-44fc-9447-0341cb715bcb",
   "metadata": {
    "tags": []
   },
   "outputs": [],
   "source": [
    "def get_formated_name(first_name, middle_name, last_name):\n",
    "    \"\"\"Devolve um nome completo.\"\"\"\n",
    "    full_name = first_name + ' ' + middle_name + ' ' + last_name\n",
    "    return full_name.title()\n",
    "musician = get_formated_name ('john', 'lee', 'hooker')\n",
    "print(musician)"
   ]
  },
  {
   "cell_type": "markdown",
   "id": "9ea75abb-af50-40c6-8074-4bcb8d71ae05",
   "metadata": {},
   "source": [
    "**Essa função é apropriada quando fornecemos um primeiro nome, um nome do meio e um sobrenome**. Ela aceita todas as três partes de um nome e então compõe uma string a partir delas. A função acrescenta espaços nos pontos apropriados e converte o nome completo para que as iniciais sejam maiúsculas: **John Lee Hooker** \n",
    "\n",
    "No entanto, **nomes do meio nem sempre são necessários**, e essa função, conforme está escrita, não seria apropriada se tentássemos chamá-la somente com um primeiro nome e um sobrenome. **Para deixar o nome do meio opcional, podemos associar um <code>valor default vazio</code> ao argumento 'middle_name' e ignorá-lo, a menos que o usuário forneça um valor. Para que 'get_formatted_name()' funcione sem um nome do meio, definimos o <code>valor default</code> de middle_name com uma string vazia e o passamos para o final da lista de parâmetros**:"
   ]
  },
  {
   "cell_type": "code",
   "execution_count": null,
   "id": "50d1551b-6c82-4f08-8880-34650280ec03",
   "metadata": {
    "tags": []
   },
   "outputs": [],
   "source": [
    "def get_formated_name(first_name, last_name, middle_name=''):\n",
    "    \"\"\"Devolve um nome completo formatado de modo elegante\"\"\"\n",
    "    if middle_name: \n",
    "        full_name = first_name + ' ' + middle_name + ' ' + last_name\n",
    "    else:\n",
    "        full_name = first_name + ' ' + last_name\n",
    "    return full_name.title()\n",
    "musician = get_formated_name('jimi', 'hendrix')\n",
    "print(musician)\n",
    "\n",
    "musician = get_formated_name('john', 'hooker', 'lee') # variavel = função (parametro, parametro, parametro(valor default))\n",
    "print(musician)"
   ]
  },
  {
   "cell_type": "markdown",
   "id": "e5fa0b4c-b336-404a-8044-024bfa117b0b",
   "metadata": {
    "tags": []
   },
   "source": [
    "**No corpo da função verificamos se um nome do meio foi especificado**. **Python interpreta strings não vazias como <code>True</code>**, portanto **<code>if</code> middle_name será avaliado como <code>True</code>, se um argumento para o nome do meio estiver na chamada da função**. Se um nome do meio for especificado, o primeiro nome, o nome do meio e o sobrenome serão combinados para compor um nome completo. Esse nome é então alterado para que as iniciais sejam maiúsculas e é devolvido para a linha que chamou a função: ele será armazenado em uma variável **'musician'** e exibido. **Se um nome do meio não for especificado, a string vazia falhará no teste <code>if</code> e o bloco else será executado. O nome completo será composto apenas do primeiro nome e do sobrenome, e o nome formatado é devolvido para a linha que fez a chamada**: ele será armazenado em **'musician'** e exibido.\n",
    "\n",
    "**Chamar essa função com um primeiro nome e um sobrenome é simples. Se usarmos um nome do meio, porém, precisamos garantir que esse nome seja o último argumento passado para que Python faça a correspondência dos <code>argumentos posicionais</code> de forma correta**.\n",
    "Essa versão modificada de nossa função é apropriada para pessoas que tenham apenas um primeiro nome e um sobrenome, mas funciona também para pessoas que tenham um nome do meio: **Jimi Hendrix**\n",
    "\n",
    "**<code>Valores opcionais</code> permitem que as funções tratem uma grande variedade de casos de uso, ao mesmo tempo que simplificam ao máximo as chamadas de função.**"
   ]
  },
  {
   "cell_type": "markdown",
   "id": "f77020e2-faf4-415f-8fcc-1f31bf69df7c",
   "metadata": {},
   "source": [
    "### Devolvendo um dicionário"
   ]
  },
  {
   "cell_type": "markdown",
   "id": "f3e0b0fc-f77e-4d6e-912e-9c90fb0a3ca5",
   "metadata": {},
   "source": [
    "**Uma função pode devolver qualquer tipo de valor necessário, incluindo estruturas de dados mais complexas como listas e dicionários**. Por exemplo, a função a seguir aceita partes de um nome e devolve um dicionário que representa uma pessoa:"
   ]
  },
  {
   "cell_type": "code",
   "execution_count": null,
   "id": "73d52a84-8850-4db3-afc4-e7f119ddacc2",
   "metadata": {
    "tags": []
   },
   "outputs": [],
   "source": [
    "def build_person(first_name, last_name):\n",
    "    \"\"\"Devolve um dicionário com informações sobre uma pessoa\"\"\"\n",
    "    person = {'first': first_name, 'last': last_name}\n",
    "    return person\n",
    "musician = build_person('jimi', 'hendrix')\n",
    "print(musician)"
   ]
  },
  {
   "cell_type": "markdown",
   "id": "3d58c375-7026-4195-8d30-16c7ed611c17",
   "metadata": {},
   "source": [
    "**Essa função aceita informações textuais simples e as coloca em uma estrutura de dados mais significativa, que permite trabalhar com as informações além de simplesmente exibi-las**. As strings **'jimi' e 'hendrix'** agora estão identificadas como um primeiro nome e um sobrenome**.\n",
    "\n",
    "**Podemos facilmente estender essa função para que aceite valores opcionais como um nome do meio, uma idade, uma profissão ou qualquer outra informação que você queira armazenar sobre uma pessoa**. Por exemplo, a alteração a seguir permite armazenar a idade de uma pessoa também:"
   ]
  },
  {
   "cell_type": "code",
   "execution_count": null,
   "id": "c6c46ab6-3502-4ec6-9b25-cada5905df05",
   "metadata": {
    "tags": []
   },
   "outputs": [],
   "source": [
    "def build_person(first_name, last_name, age=''):\n",
    "    \"\"\"Devolve um dicionário com informações sobre uma pessoa\"\"\"\n",
    "    person = {'first':first_name, 'last':last_name}\n",
    "    if age:\n",
    "        person['age']=age\n",
    "        return person\n",
    "musician = build_person('jimi', 'hendrix', age=27)\n",
    "print(musician)"
   ]
  },
  {
   "cell_type": "markdown",
   "id": "9cacdf93-3a0b-4b9a-9a9c-c0c7ab2f20cf",
   "metadata": {},
   "source": [
    "**Adicionamos um novo <code>parâmetro opcional</code> 'age' à <code>definição da função</code> e atribuímos um <code>valor default vazio</code> ao parâmetro. Se a <code>chamada da função</code> incluir um valor para esse parâmetro, ele será armazenado no dicionário**. Essa função sempre armazena o nome de uma pessoa, mas também pode ser modificada para guardar outras informações que você quiser sobre ela.\n"
   ]
  },
  {
   "cell_type": "markdown",
   "id": "6ad5bc7e-da7b-4fbc-92b9-07f5dba48481",
   "metadata": {},
   "source": [
    "### **Usando uma função com um laço** <code>**while**</code>"
   ]
  },
  {
   "cell_type": "markdown",
   "id": "0894d519-b801-4e33-9585-c97123b46209",
   "metadata": {},
   "source": [
    "**Podemos usar funções com todas as estruturas Python que conhecemos até agora**. Por exemplo, vamos usar a função **get_formatted_name()** com um laço <code>**while**</code> para saudar os usuários de modo mais formal. Eis uma primeira tentativa de saudar pessoas usando seu primeiro nome e o sobrenome:"
   ]
  },
  {
   "cell_type": "code",
   "execution_count": null,
   "id": "79090dfd-8edf-4545-9ece-8aba4f55fe10",
   "metadata": {
    "tags": []
   },
   "outputs": [],
   "source": [
    "def get_formatted_name(first_name, last_name):\n",
    "    \"\"\"Devolve um nome completo formatado de modo elegante.\"\"\"\n",
    "    full_name = first_name + ' ' + last_name\n",
    "    return full_name.title()\n",
    "# Este é um loop infinito!\n",
    "while True:\n",
    "    print(\"\\nPlease tell me your name:\")\n",
    "    f_name = input(\"First name: \" )\n",
    "    l_name = input(\"Last name: \")\n",
    "    formatted_name = get_formatted_name(f_name, l_name)\n",
    "    print(\"\\nHello, \" + formatted_name + \"!\")"
   ]
  },
  {
   "cell_type": "markdown",
   "id": "0b542e18-6ceb-411d-abc3-5c990c161151",
   "metadata": {},
   "source": [
    "Porém há um problema com esse laço <code>**while**</code>: **não definimos uma condição de saída. Onde devemos colocar uma condição de saída quando pedimos uma série de entradas?** Queremos que o usuário seja capaz de sair o mais facilmente possível, portanto cada prompt deve oferecer um modo de fazer isso. **A instrução <code>break</code> permite um modo simples de sair do laço em qualquer prompt**:"
   ]
  },
  {
   "cell_type": "code",
   "execution_count": null,
   "id": "a48285f7-39f1-465d-9970-378e79750041",
   "metadata": {
    "tags": []
   },
   "outputs": [],
   "source": [
    "def get_formatted_name(first_name, last_name):\n",
    "    \"\"\"Devolve um nome completo formatado de modo elegante.\"\"\"\n",
    "    full_name = first_name + ' ' + last_name\n",
    "    return full_name.title()\n",
    "\n",
    "while True:\n",
    "    print(\"\\nPlease tell me your name:\")\n",
    "    f_name = input(\"First name: \" )\n",
    "    if f_name =='q':\n",
    "        break\n",
    "    l_name = input(\"Last name: \")\n",
    "    if l_name == 'q':\n",
    "        break\n",
    "    formatted_name = get_formatted_name(f_name, l_name)\n",
    "    print(\"\\nHello, \" + formatted_name + \"!\")"
   ]
  },
  {
   "cell_type": "markdown",
   "id": "e872ef3a-ef57-4853-a3b8-aa9d59178e33",
   "metadata": {},
   "source": [
    "**Adicionamos uma mensagem que informa como o usuário pode sair e então encerramos o laço se o usuário fornecer o valor de saída em qualquer um dos prompts**. Agora o programa continuará saudando as pessoas até que alguém forneça **'q'** em algum dos nomes: **Please tell me your name: (enter 'q' at any time to quit)**"
   ]
  },
  {
   "cell_type": "markdown",
   "id": "5362c17e-43af-4292-bb69-1b1b64589047",
   "metadata": {},
   "source": [
    "### **FAÇA VOCÊ MESMO**"
   ]
  },
  {
   "cell_type": "markdown",
   "id": "c1532469-44f2-43b2-90f0-6e1f5d6d18cb",
   "metadata": {
    "tags": []
   },
   "source": [
    "**8.6 – Nomes de cidade:** Escreva uma função chamada **city_country()** que aceite o nome de uma cidade e seu país. A função deve devolver uma string formatada assim: \"Santiago, Chile\"\n",
    "+ Chame sua função com pelo menos três pares cidade-país e apresente o valor devolvido."
   ]
  },
  {
   "cell_type": "code",
   "execution_count": null,
   "id": "0f3aac95-54ce-4133-a0d3-857acd61475c",
   "metadata": {
    "tags": []
   },
   "outputs": [],
   "source": [
    "#8.6 – Nomes de cidade: teste 1.\n",
    "def city_country(city, country):\n",
    "    \"\"\"Escreva uma função que aceite o nome de uma cidade e seu país\"\"\"\n",
    "    return city.title() + ', ' + country.title()\n",
    "print(city_country('campinas', 'brasil'))\n",
    "print(city_country('lisboa', 'portugal'))\n",
    "print(city_country('pretoria', 'africa do sul'))"
   ]
  },
  {
   "cell_type": "code",
   "execution_count": null,
   "id": "a0eaebdd-c609-4e73-93eb-3b063bcf494f",
   "metadata": {
    "tags": []
   },
   "outputs": [],
   "source": [
    "#8.6 – Nomes de cidade: teste 2.\n",
    "def city_country(city, country):\n",
    "    \"\"\"Escreva uma função que aceite o nome de uma cidade e seu país\"\"\"\n",
    "    print('\"' + city.title() + ', ' + country.title() + '\"')\n",
    "city_country('salvador', 'brasil')\n",
    "city_country('luanda', 'angola')\n",
    "city_country('praia', 'cabo verde')"
   ]
  },
  {
   "cell_type": "markdown",
   "id": "1bfa6e34-0e44-4f68-bb33-b6b18ecada22",
   "metadata": {},
   "source": [
    "**8.7 – Álbum:** Escreva uma função chamada **make_album()** que construa um dicionário descrevendo um álbum musical. A função deve aceitar o nome de um artista e o título de um álbum e deve devolver um dicionário contendo essas duas informações. Use a função para criar três dicionários que representem álbuns diferentes. Apresente cada valor devolvido para mostrar que os dicionários estão armazenando as informações do álbum corretamente.\n",
    "+ Acrescente um parâmetro opcional em **make_album()** que permita armazenar o número de faixas em um álbum. Se a linha que fizer a chamada incluir um valor para o número de faixas, acrescente esse valor ao dicionário do álbum. Faça pelo menos uma nova chamada da função incluindo o número de faixas em um álbum."
   ]
  },
  {
   "cell_type": "code",
   "execution_count": null,
   "id": "ad1e35c4-5f95-47ac-9562-494aff7ac94f",
   "metadata": {
    "tags": []
   },
   "outputs": [],
   "source": [
    "def make_album(artist, title, number_of_tracks=''):\n",
    "    \"\"\"Escreva uma função que construa um dicionário descrevendo um álbum musical\"\"\"\n",
    "    if number_of_tracks:\n",
    "         albums ={'artist': artist, 'title':title, 'tracks':number_of_tracks}\n",
    "    else:\n",
    "        albums ={'artist': artist, 'title':title}\n",
    "    return albums\n",
    "musician = make_album('michael jackson', 'Thriller', 8)\n",
    "print(musician)\n",
    "\n",
    "musician = make_album('michael jackson', 'Bad')\n",
    "print(musician)\n",
    "\n",
    "musician = make_album('michael jackson', 'dangerous', 14)\n",
    "print(musician)"
   ]
  },
  {
   "cell_type": "code",
   "execution_count": null,
   "id": "4e2b5d51-e8dc-4ae7-a3c4-df009176b89a",
   "metadata": {
    "tags": []
   },
   "outputs": [],
   "source": [
    "#Feito pelo chatgpt\n",
    "def make_album(artist, title, num_tracks=''):\n",
    "    \"\"\"Constrói um dicionário descrevendo um álbum musical.\"\"\"\n",
    "    album = {\n",
    "        'artist': artist,\n",
    "        'title': title\n",
    "    }\n",
    "    if num_tracks:\n",
    "        album['num_tracks'] = num_tracks\n",
    "    return album\n",
    "\n",
    "# Criando três álbuns diferentes\n",
    "album1 = make_album('The Beatles', 'Abbey Road')\n",
    "album2 = make_album('Pink Floyd', 'The Dark Side of the Moon')\n",
    "album3 = make_album('Nirvana', 'Nevermind')\n",
    "\n",
    "# Apresentando os valores devolvidos para mostrar que os dicionários estão armazenando as informações corretamente\n",
    "print(album1)\n",
    "print(album2)\n",
    "print(album3)\n",
    "\n",
    "# Criando um álbum com o número de faixas\n",
    "album4 = make_album('Metallica', 'Master of Puppets', 8)\n",
    "\n",
    "# Apresentando o valor devolvido para o álbum com o número de faixas\n",
    "print(album4)"
   ]
  },
  {
   "cell_type": "markdown",
   "id": "fb89464c-ce74-4c4a-89cf-45b14928ce74",
   "metadata": {},
   "source": [
    "**8.8 – Álbuns dos usuários:** Comece com o seu programa do Exercício 8.7. Escreva um laço **while** que permita aos usuários fornecer o nome de um artista e o título de um álbum. Depois que tiver essas informações, chame **make_album()** com as entradas do usuário e apresente o dicionário criado. Lembre-se de incluir um valor de saída no laço **while**."
   ]
  },
  {
   "cell_type": "code",
   "execution_count": null,
   "id": "cf1f399e-28e9-4ce8-8e93-baedc5870063",
   "metadata": {
    "tags": []
   },
   "outputs": [],
   "source": [
    "def make_album(artist, title, num_tracks=''):\n",
    "    \"\"\"Constrói um dicionário descrevendo um álbum musical.\"\"\"\n",
    "    album = {\n",
    "        'artist': artist,\n",
    "        'title': title\n",
    "    }\n",
    "    if num_tracks:\n",
    "        album['num_tracks'] = num_tracks\n",
    "    return album\n",
    "\n",
    "while True:\n",
    "    print(\"\\nPor favor, forneça as informações do álbum:\")\n",
    "    print(\"(digite 'sair' a qualquer momento para encerrar)\")\n",
    "    \n",
    "    artist = input(\"Nome do artista: \")\n",
    "    if artist.lower() == 'sair':\n",
    "        break\n",
    "    \n",
    "    title = input(\"Título do álbum: \")\n",
    "    if title.lower() == 'sair':\n",
    "        break\n",
    "\n",
    "    num_tracks = input(\"Número de faixas (opcional): \")\n",
    "    if num_tracks.lower() == 'sair':\n",
    "        break\n",
    "    elif num_tracks:\n",
    "        album = make_album(artist, title, int(num_tracks))\n",
    "    else:\n",
    "        album = make_album(artist, title)\n",
    "    \n",
    "    print(\"\\nÁlbum criado:\")\n",
    "    print(album)"
   ]
  },
  {
   "cell_type": "markdown",
   "id": "99682b7a-a0f3-4a11-8ae7-f8c70d587f52",
   "metadata": {},
   "source": [
    "****"
   ]
  },
  {
   "cell_type": "markdown",
   "id": "0d1ad024-7dac-4980-8ca9-cf22d1258037",
   "metadata": {},
   "source": [
    "## **Passando uma <code>lista para uma função</code>**"
   ]
  },
  {
   "cell_type": "markdown",
   "id": "804bf1e8-afb5-42a0-a623-f2e207ee008a",
   "metadata": {},
   "source": [
    "Com frequência, você achará útil passar uma lista para uma função, seja uma lista de nomes, de números ou de objetos mais complexos, como dicionários. **Se passarmos uma <code>lista a uma função</code>, ela terá acesso direto ao conteúdo dessa lista. Vamos usar funções para que o trabalho com listas seja mais eficiente.**\n",
    "Suponha que tenhamos uma lista de usuários e queremos exibir uma saudação a cada um. O exemplo a seguir envia uma lista de nomes a uma função chamada **greet_users()**, que saúda cada pessoa da lista individualmente:"
   ]
  },
  {
   "cell_type": "code",
   "execution_count": null,
   "id": "36799b79-f497-4817-823f-fc392a1593ba",
   "metadata": {
    "tags": []
   },
   "outputs": [],
   "source": [
    "def greet_users(names):\n",
    "    \"\"\"Exibe uma saudação simples a cada usuário da lista.\"\"\"\n",
    "    for name in names:\n",
    "        msg =\"Hello, \" + name.title() + \"!\"\n",
    "        print(msg)\n",
    "usernames=['hannah', 'ty', 'margot']\n",
    "greet_users(usernames)\n",
    "        "
   ]
  },
  {
   "cell_type": "markdown",
   "id": "5dcc8ebf-9c87-49ef-a117-b8ffe50c6676",
   "metadata": {},
   "source": [
    "Essa é a saída que queríamos. Todo usuário vê uma saudação personalizada, e **você pode chamar a função sempre que quiser para saudar um conjunto específico de usuários**."
   ]
  },
  {
   "cell_type": "markdown",
   "id": "cdb441b4-80a5-4b3d-80ac-5f906d9dc304",
   "metadata": {},
   "source": [
    "### Modificando uma lista em uma função"
   ]
  },
  {
   "cell_type": "markdown",
   "id": "5e4709bf-e3fe-4373-b3ee-141489929957",
   "metadata": {},
   "source": [
    "Quando passamos uma lista a uma função, ela pode ser modificada. **Qualquer alteração feita na lista no corpo da função é permanente, permitindo trabalhar de modo eficiente, mesmo quando lidamos com grandes quantidades de dados.**\n",
    "\n",
    "**Considere uma empresa que cria modelos de designs submetidos pelos usuários e que são impressos em 3D**. Os designs são armazenados em uma lista e, depois de impressos, são transferidos para uma lista separada. **O código a seguir faz isso sem usar funções**:"
   ]
  },
  {
   "cell_type": "code",
   "execution_count": null,
   "id": "c5252592-446e-4479-b56e-3efaa779bc8b",
   "metadata": {
    "tags": []
   },
   "outputs": [],
   "source": [
    "# Começa com alguns designs que devem ser impressos\n",
    "unprinted_designs =['iphone case', 'robot pendant', 'dodecahedron']\n",
    "completed_models =[]\n",
    "# Simula a impressão de cada design, até que não haja mais nenhum \n",
    "# Transfere cada design para completed_models após a impressão\n",
    "while unprinted_designs:\n",
    "    current_design =unprinted_designs.pop()\n",
    "# Simula a criação de uma impressão 3D a partir do design\n",
    "    print(\"printing model: \" + current_design)\n",
    "    completed_models.append(current_design)\n",
    "# Exibe todos os modelos finalizados \n",
    "print(\"\\nThe following models have been printed:\")\n",
    "for completed_model in completed_models:\n",
    "    print(completed_model)"
   ]
  },
  {
   "cell_type": "markdown",
   "id": "3737207f-3fb8-4d4f-933c-baf5ea68272c",
   "metadata": {},
   "source": [
    "**Esse programa começa com uma lista de designs que devem ser impressos e uma lista vazia chamada 'completed_models' para a qual cada design será transferido após a impressão. Enquanto houver designs em 'unprinted_designs', o laço <code>while</code> simulará a impressão de cada um deles removendo um design do final da lista, armazenando-o em 'current_design' e exibindo uma mensagem informando que o design atual está sendo impresso**. O design então é adicionado à lista de modelos finalizados. Quando o laço acaba de executar, uma lista de designs impressos é exibida."
   ]
  },
  {
   "cell_type": "markdown",
   "id": "ba209dad-32b6-4e59-a191-adf7d6c03fac",
   "metadata": {},
   "source": [
    "**Podemos reorganizar esse código escrevendo duas funções, em que cada uma executa uma tarefa específica**. A maior parte do código não sofrerá alterações; estamos simplesmente deixando-o mais eficiente. **A primeira função tratará a impressão dos designs e a segunda gerará um resumo da impressão feita**:"
   ]
  },
  {
   "cell_type": "code",
   "execution_count": null,
   "id": "62f617c7-4dec-48eb-bad2-163f83cc0994",
   "metadata": {
    "tags": []
   },
   "outputs": [],
   "source": [
    "def print_models(unprinted_designs, completed_models):\n",
    "    \"\"\"Simula a impressão de cada design, até que não haja mais nenhum. \n",
    "    Transfere cada design para completed_models após a impressão.\"\"\"\n",
    "    while unprinted_designs:\n",
    "        current_design = unprinted_designs.pop()\n",
    "        # Simula a criação de uma impressão 3D a partir do design\n",
    "        print(\"printing mode: \" + current_design)\n",
    "        completed_models.append(current_design)\n",
    "\n",
    "def show_completed_models(completed_models):\n",
    "    \"\"\"Mostra todos os modelos impressos.\"\"\"\n",
    "    print(\"\\nThe following models have been printed:\")\n",
    "    for completed_model in completed_models:\n",
    "        print(completed_model)\n",
    "    \n",
    "unprinted_designs = ['iphone case', 'robot pendant', 'dodecahedron']\n",
    "completed_models = []\n",
    "print_models(unprinted_designs, completed_models)\n",
    "show_completed_models(completed_models)"
   ]
  },
  {
   "cell_type": "markdown",
   "id": "cf4658df-87fa-4790-b1f6-b28d318a38b8",
   "metadata": {},
   "source": [
    "Definimos a função **'print_models()'** com dois parâmetros: **uma lista de designs a serem impressos e uma lista de modelos concluídos. Dadas essas duas listas, a função simula a impressão de cada design esvaziando a lista de designs não impressos e preenchendo a lista de designs completos.** E definimos a função **show_completed_models()** com um parâmetro: **a lista de modelos finalizados. Dada essa lista, show_completed_models() exibe o nome de cada modelo impresso.**\n",
    "\n",
    "Esse programa produz a mesma saída da versão sem funções, mas o código está muito mais organizado. **O código que faz a maior parte do trabalho foi transferido para duas funções separadas, que deixam a parte principal do programa mais fácil de entender**. Observe o corpo do programa para ver como é mais simples entender o que esse programa faz:"
   ]
  },
  {
   "cell_type": "code",
   "execution_count": null,
   "id": "98e93a6d-4835-436b-a4d6-e0711aa0f959",
   "metadata": {
    "tags": []
   },
   "outputs": [],
   "source": [
    "unprinted_designs = ['iphone case', 'robot pendant', 'dodecahedron']\n",
    "completed_models = [] \n",
    "\n",
    "print_models(unprinted_designs, completed_models)\n",
    "show_completed_models(completed_models)"
   ]
  },
  {
   "cell_type": "markdown",
   "id": "46b9e7a8-d12f-484e-8edf-0efc19a05714",
   "metadata": {},
   "source": [
    "Esse programa é mais fácil de ser estendido e mantido que a versão sem funções. Se precisarmos imprimir mais designs depois, poderemos simplesmente chamar **'print_models()'** novamente. **Se percebermos que o código de impressão precisa ser modificado, podemos alterar o código uma vez, e nossas alterações estarão presentes em todos os lugares em que a função for chamada**. Essa técnica é mais eficiente que ter de atualizar um código separadamente em vários pontos do programa.\n",
    "\n",
    "**Esse exemplo também mostra a ideia de que toda função deve ter uma tarefa específica. A primeira função imprime cada design, enquanto a segunda mostra os modelos concluídos**. Isso é mais vantajoso que usar uma única função para executar as duas tarefas. **Se você estiver escrevendo uma função e perceber que ela está fazendo muitas tarefas diferentes, experimente dividir o código em duas funções**. Lembre-se de que você sempre pode chamar uma função a partir de outras funções, o que pode ser conveniente quando dividimos uma tarefa complexa em uma série de passos.\n"
   ]
  },
  {
   "cell_type": "markdown",
   "id": "b3d4d201-58c5-476b-b578-70e5ef80ca79",
   "metadata": {},
   "source": [
    "### Evitando que uma função modifique uma lista"
   ]
  },
  {
   "cell_type": "markdown",
   "id": "88a49055-cc3a-4b5b-8b21-27e402ffa598",
   "metadata": {},
   "source": [
    "**Às vezes, você vai querer evitar que uma função modifique uma lista**. Por exemplo, suponha que você comece com uma lista de designs não impressos e escreva uma função que transfira esses designs para uma lista de modelos terminados, como no exemplo anterior. **Talvez você decida que, apesar de ter imprimido todos os designs, vai querer manter a lista original de designs não impressos em seus registros**. Porém, como você transferiu todos os nomes de designs de **unprinted_designs**, a lista agora está vazia, e essa é a única versão da lista que você tem; **a lista original se perdeu**. Nesse caso, **podemos tratar esse problema passando uma cópia da lista para a função, e não a lista original. Qualquer alteração que a função fizer na lista afetará apenas a cópia, deixando a lista original intacta**.\n",
    "\n",
    "Você pode enviar uma cópia de uma lista para uma função assim: <code>**nome_da_função(nome_da_lista[:])**</code> .A notação de fatia **<code>[:]</code> cria uma cópia da lista para ser enviada à função**. Se não quiséssemos esvaziar a lista de designs não impressos em **'print_models.py'**, chamaríamos **'print_models()'** desta maneira: **print_models(unprinted_designs[:], completed_models)** \n",
    "\n",
    "A função **'print_models'()** pode fazer seu trabalho, pois ela continua recebendo os nomes de todos os designs não impressos. Porém, dessa vez, **ela usa uma cópia da lista original de designs não impressos, e não a lista 'unprinted_designs'** propriamente dita. **A lista 'completed_models' será preenchida com os nomes dos modelos impressos, como antes, mas a lista original de designs não impressos não será afetada pela função**.\n",
    "\n",
    "**Apesar de poder preservar o conteúdo de uma lista passando uma cópia dela para suas funções, você deve passar a lista original para as funções, a menos que tenha um motivo específico para passar uma cópia**. Para uma função, é mais eficiente trabalhar com uma lista existente a fim de evitar o uso de tempo e de memória necessários para criar uma cópia separada, em especial quando trabalhamos com listas grandes."
   ]
  },
  {
   "cell_type": "markdown",
   "id": "d5204bb2-c21d-440f-b63b-5a4d98563f4c",
   "metadata": {
    "tags": []
   },
   "source": [
    "### **FAÇA VOCÊ MESMO**"
   ]
  },
  {
   "cell_type": "markdown",
   "id": "fdf8bab8-371a-4a2b-8bc7-78ae8b7e9217",
   "metadata": {},
   "source": [
    "**8.9 – Mágicos:** Crie uma lista de nomes de mágicos. Passe a lista para uma função chamada **show_magicians()** que exiba o nome de cada mágico da lista."
   ]
  },
  {
   "cell_type": "code",
   "execution_count": null,
   "id": "f44b5eec-7b39-471c-8c9e-4b7fe033da56",
   "metadata": {
    "tags": []
   },
   "outputs": [],
   "source": [
    "def show_magicians(names):\n",
    "    \"\"\"Crie uma lista de nomes de mágicos\"\"\"\n",
    "    for name in names:\n",
    "        msg = \"Hello \" + name.title() + \"!\"\n",
    "        print(msg)\n",
    "magicians = ['David Copperfield', 'Harry Houdini', 'Dynamo', 'David Blaine']\n",
    "show_magicians(magicians)\n",
    "    "
   ]
  },
  {
   "cell_type": "code",
   "execution_count": null,
   "id": "bc5663d9-a136-4d11-914d-e57ea57ccf63",
   "metadata": {
    "tags": []
   },
   "outputs": [],
   "source": [
    "# Lista de nomes de mágicos - CHATGPT\n",
    "magicians = ['David Copperfield', 'Harry Houdini', 'Dynamo', 'David Blaine']\n",
    "\n",
    "def show_magicians(magicians):\n",
    "    \"\"\"Exibe o nome de cada mágico da lista.\"\"\"\n",
    "    for magician in magicians:\n",
    "        print(magician)\n",
    "        \n",
    "# Exibindo a lista de mágicos\n",
    "print(\"Lista original de mágicos:\")\n",
    "show_magicians(magicians)"
   ]
  },
  {
   "cell_type": "markdown",
   "id": "2bfea423-22d8-442f-a2c8-57a3c1b0dc1f",
   "metadata": {},
   "source": [
    "**8.10 – Grandes mágicos:** Comece com uma cópia de seu programa do Exercício 8.9. Escreva uma função chamada **make_great()** que modifique a lista de mágicos acrescentando a expressão **'o Grande'** ao nome de cada mágico. Chame **show_magicians()** para ver se a lista foi realmente modificada."
   ]
  },
  {
   "cell_type": "code",
   "execution_count": null,
   "id": "a6047b3c-62c6-47f0-8948-ef7001c9edcc",
   "metadata": {
    "tags": []
   },
   "outputs": [],
   "source": [
    "# Lista de nomes de mágicos\n",
    "magicians = ['David Copperfield', 'Harry Houdini', 'Dynamo', 'David Blaine']\n",
    "\n",
    "def show_magicians(magicians):\n",
    "    \"\"\"Exibe o nome de cada mágico da lista.\"\"\"\n",
    "    for magician in magicians:\n",
    "        print(magician)\n",
    "\n",
    "def make_great(magicians):\n",
    "    \"\"\"Modifica a lista de mágicos acrescentando 'o Grande' ao nome de cada mágico.\"\"\"\n",
    "    for i in range(len(magicians)):\n",
    "        magicians[i] = \"o Grande \" + magicians[i]\n",
    "\n",
    "# Exibindo a lista original de mágicos\n",
    "print(\"Lista original de mágicos:\")\n",
    "show_magicians(magicians)\n",
    "\n",
    "# Modificando a lista de mágicos\n",
    "make_great(magicians)\n",
    "\n",
    "# Exibindo a lista modificada de mágicos\n",
    "print(\"\\nLista modificada de mágicos:\")\n",
    "show_magicians(magicians)"
   ]
  },
  {
   "cell_type": "markdown",
   "id": "61c4bda9-469c-473f-ad8a-3f02222c5aec",
   "metadata": {},
   "source": [
    "**8.11 – Mágicos inalterados:** Comece com o trabalho feito no Exercício 8.10. Chame a função **make_great()** com uma cópia da lista de nomes de mágicos. Como a lista original não será alterada, devolva a nova lista e armazene-a em uma lista separada. Chame **show_magicians()** com cada lista para mostrar que você tem uma lista de nomes originais e uma lista com a expressão o 'Grande' adicionada ao nome de cada mágico.\n"
   ]
  },
  {
   "cell_type": "code",
   "execution_count": null,
   "id": "eb1151e6-5a50-4805-aa5f-a1f756f68b7b",
   "metadata": {
    "tags": []
   },
   "outputs": [],
   "source": [
    "# Lista de nomes de mágicos\n",
    "magicians = ['David Copperfield', 'Harry Houdini', 'Dynamo', 'David Blaine']\n",
    "\n",
    "def show_magicians(magicians):\n",
    "    \"\"\"Exibe o nome de cada mágico da lista.\"\"\"\n",
    "    for magician in magicians:\n",
    "        print(magician)\n",
    "\n",
    "def make_great(magicians):\n",
    "    \"\"\"Modifica uma cópia da lista de mágicos, acrescentando 'o Grande' ao nome de cada mágico, e devolve a nova lista.\"\"\"\n",
    "    great_magicians = []\n",
    "    for magician in magicians:\n",
    "        great_magicians.append(\"o Grande \" + magician)\n",
    "    return great_magicians\n",
    "\n",
    "# Fazendo uma cópia da lista de mágicos e modificando a cópia\n",
    "great_magicians = make_great(magicians[:])\n",
    "\n",
    "# Exibindo a lista original de mágicos\n",
    "print(\"Lista original de mágicos:\")\n",
    "show_magicians(magicians)\n",
    "\n",
    "# Exibindo a lista modificada de mágicos\n",
    "print(\"\\nLista modificada de mágicos:\")\n",
    "show_magicians(great_magicians)"
   ]
  },
  {
   "cell_type": "markdown",
   "id": "f1e8881b-9846-44a8-8d95-9428e96bbc23",
   "metadata": {},
   "source": [
    "****"
   ]
  },
  {
   "cell_type": "markdown",
   "id": "ca8d5a70-5502-4c58-8c05-37226d64d7a2",
   "metadata": {},
   "source": [
    "## **Passando <code>um número arbitrário de argumentos</code>**"
   ]
  },
  {
   "cell_type": "markdown",
   "id": "d928b004-c061-4c44-9807-90c981e628ab",
   "metadata": {},
   "source": [
    "**Às vezes, você não saberá com antecedência quantos argumentos uma função deve aceitar**. Felizmente, **Python permite que uma função receba <code>um número arbitrário de argumentos da instrução de chamada</code>**.\n",
    "Por exemplo, considere uma função que prepare uma pizza. Ela deve aceitar vários ingredientes, mas não é possível saber com antecedência quantos ingredientes uma pessoa vai querer. A função no próximo exemplo <b>tem um parâmetro <code>*toppings</code>, mas esse parâmetro agrupa tantos argumentos quantos forem fornecidos na linha de chamada</b>: "
   ]
  },
  {
   "cell_type": "code",
   "execution_count": null,
   "id": "553b3add-885c-485b-bdd0-1f74ce3e965c",
   "metadata": {
    "tags": []
   },
   "outputs": [],
   "source": [
    "def make_pizza(*toppings):\n",
    "    \"\"\"Exibe a lista de ingredientes pedidos.\"\"\"\n",
    "    print(toppings)\n",
    "\n",
    "make_pizza('pepperoni')\n",
    "make_pizza('mushrooms', 'green peppers', 'extra cheese')   "
   ]
  },
  {
   "cell_type": "markdown",
   "id": "c7efda67-811e-4a85-9988-6b5adce048e4",
   "metadata": {},
   "source": [
    "<b>O asterisco no nome do parâmetro <code>*toppings</code> diz a Python para criar uma tupla vazia chamada toppings e reunir os valores recebidos nessa tupla. A instrução 'print' no corpo da função gera uma saída que mostra que Python é capaz de tratar uma chamada de função com um valor e outra chamada com três valores.</b> As chamadas são tratadas de modo semelhante. **Observe que Python agrupa os argumentos em uma tupla, mesmo que a função receba apenas um valor.**\n",
    "\n",
    "**Podemos agora substituir a instrução print por um laço que percorra a lista de ingredientes e descreva a pizza sendo pedida**:"
   ]
  },
  {
   "cell_type": "code",
   "execution_count": null,
   "id": "1f0b423f-0991-4e93-9874-71a7365459fe",
   "metadata": {
    "tags": []
   },
   "outputs": [],
   "source": [
    "def make_pizza(*toppings): \n",
    "    \"\"\"Apresenta a pizza que estamos prestes a preparar.\"\"\"\n",
    "    print(\"\\nMaking a pizza with the following toppings:\")\n",
    "    \n",
    "    for topping in toppings:\n",
    "        print(\"- \" + topping)\n",
    "make_pizza('pepperoni')\n",
    "make_pizza('mushrooms', 'green peppers', 'extra cheese')"
   ]
  },
  {
   "cell_type": "markdown",
   "id": "61fa6662-9823-4e18-afb6-354ffd0e4822",
   "metadata": {},
   "source": [
    "**Essa sintaxe funciona, não importa quantos argumentos a função receba.**"
   ]
  },
  {
   "cell_type": "markdown",
   "id": "71de9a0e-8ec9-4eea-83bf-158583a89e98",
   "metadata": {
    "tags": []
   },
   "source": [
    "### Misturando <code>**argumentos posicionais e arbitrários**</code>"
   ]
  },
  {
   "cell_type": "markdown",
   "id": "aa5b9e6b-032e-4b0e-a6ef-ebca96dc67f0",
   "metadata": {},
   "source": [
    "**Se quiser que uma função aceite vários tipos de argumentos, o parâmetro que aceita <code>um número arbitrário de argumentos</code> deve ser colocado por último na definição da função**. **Python faz a correspondência de <code>argumentos posicionais e nomeados</code> antes, e depois agrupa qualquer argumento remanescente no último parâmetro.**\n",
    "Por exemplo, se a função tiver que aceitar um tamanho para a pizza, esse parâmetro deve estar antes do parâmetro ***toppings**:"
   ]
  },
  {
   "cell_type": "code",
   "execution_count": null,
   "id": "30d5a2b3-4b19-479a-8268-e6c9d33dde61",
   "metadata": {
    "tags": []
   },
   "outputs": [],
   "source": [
    "def make_pizza(size, *toppings):\n",
    "    print(\"\\nMaking a \" + str(size) + \"-inch pizza with the foloowing toppings:\")\n",
    "    for topping in toppings:\n",
    "        print(\"- \" + topping)\n",
    "make_pizza(16, 'pepperoni')\n",
    "make_pizza(12, 'mushrooms', 'green peppers', 'extra cheese')"
   ]
  },
  {
   "cell_type": "markdown",
   "id": "b66d732f-df15-4fff-a1c0-9727be06e338",
   "metadata": {},
   "source": [
    "**Na definição da função, Python armazena o primeiro valor recebido no parâmetro 'size'. Todos os demais valores que vierem depois são armazenados na tupla 'toppings'. As chamadas da função incluem um argumento para o tamanho antes, seguido de tantos ingredientes quantos forem necessários.**\n",
    "\n",
    "Agora cada pizza tem um tamanho e alguns ingredientes, e cada informação é exibida no lugar apropriado, mostrando o tamanho antes e os ingredientes depois"
   ]
  },
  {
   "cell_type": "markdown",
   "id": "197fac9f-b793-40ae-9e8f-b96d7659c832",
   "metadata": {},
   "source": [
    "### Usando <code>**argumentos nomeados arbitrários**</code>"
   ]
  },
  {
   "cell_type": "markdown",
   "id": "ebf5b341-364f-4467-832a-1ef9ec39d589",
   "metadata": {},
   "source": [
    "**Às vezes, você vai querer aceitar um número arbitrário de argumentos, mas não saberá com antecedência qual tipo de informação será passado para a função**. Nesse caso, **podemos escrever funções que aceitem tantos <code>pares chave-valor</code> quantos forem fornecidos pela instrução que faz a chamada**. Um exemplo envolve criar perfis de usuários: **você sabe que obterá informações sobre um usuário, mas não tem certeza quanto ao tipo de informação que receberá.** \n",
    "\n",
    "A função **build_profile()** no próximo exemplo sempre aceita um primeiro nome e um sobrenome, mas aceita também <code>**um número arbitrário de argumentos nomeados**</code>:"
   ]
  },
  {
   "cell_type": "code",
   "execution_count": null,
   "id": "5bc8d19e-55eb-4fc6-b728-decba16b7ce3",
   "metadata": {
    "tags": []
   },
   "outputs": [],
   "source": [
    "def build_profile(first, last, **user_info):\n",
    "    \"\"\"Constroi um dicionário contendo tudo que sabemos sobre um usuário.\"\"\"\n",
    "    profile ={}\n",
    "    profile['first_name'] = first\n",
    "    profile['last_name'] = last\n",
    "    for key, value in user_info.items():\n",
    "        profile[key] = value \n",
    "    return profile\n",
    "user_profile = build_profile('albert', 'eisntein', location='princeton', field='physics')\n",
    "print(user_profile)"
   ]
  },
  {
   "cell_type": "markdown",
   "id": "23d4c131-9ce5-4231-8a6e-bd78a9efdb36",
   "metadata": {},
   "source": [
    "A definição de build_profile() espera um primeiro nome e um sobrenome e permite que o usuário passe tantos pares nome-valor quantos ele quiser. Os asteriscos duplos antes do parâmetro **user_info fazem Python criar um dicionário vazio chamado user_info e colocar quaisquer pares nome-valor recebidos nesse dicionário. Nessa função, podemos acessar os pares nome-valor em user_info como faríamos com qualquer dicionário."
   ]
  },
  {
   "cell_type": "markdown",
   "id": "7391ba6e-4b95-44c5-97dc-9bd98100b820",
   "metadata": {},
   "source": [
    "No corpo de **build_profile()**, criamos um dicionário vazio chamado |**'profile'** para armazenar o perfil do usuário. **E adicionamos o primeiro nome e o sobrenome nesse dicionário porque sempre receberemos essas duas informações do usuário. E percorremos os <code>**pares chave-valor**</code> adicionais do dicionário 'user_info' e adicionamos cada par ao dicionário 'profile'**. Por fim, devolvemos o dicionário profile à linha que chamou a função.\n",
    "\n",
    "Chamamos **build_profile() passando o primeiro nome 'albert', o sobrenome 'einstein' e os dois <code>**pares chave-valor**</code> location='princeton' e field='physics'**. Armazenamos o dicionário **'profile'** devolvido em **'user_profile'** e exibimos o valor dessa variável: |**{'first_name': 'albert','last_name': 'einstein', 'location': 'princeton', 'field': 'physics'}**"
   ]
  },
  {
   "cell_type": "markdown",
   "id": "28831958-7e5d-4da3-8fc2-d2c686656bfb",
   "metadata": {},
   "source": [
    "O dicionário devolvido contém o primeiro nome e o sobrenome do usuário e, nesse caso, a localidade e o campo de estudo também. **A função será apropriada, não importa quantos <code>**pares chave-valor**</code> adicionais sejam fornecidos na chamada da função.**\n",
    "\n",
    "**Podemos misturar <code>valores posicionais, nomeados e arbitrários</code> de várias maneiras diferentes quando escrevermos nossas próprias funções**. É conveniente saber que todos esses tipos de argumento existem, pois você os verá com frequência quando começar a ler códigos de outras pessoas. **Aprender a usar os diferentes tipos corretamente e saber quando usar cada um exige prática. Por enquanto, lembre-se de usar a abordagem mais simples possível, que faça o trabalho necessário**. À medida que progredir, você aprenderá a usar a abordagem mais eficiente a cada vez."
   ]
  },
  {
   "cell_type": "markdown",
   "id": "ac0c08e7-20f2-4396-b77d-a5def133c440",
   "metadata": {},
   "source": [
    "### **FAÇA VOCÊ MESMO**"
   ]
  },
  {
   "cell_type": "markdown",
   "id": "2c636c63-5992-44d9-ac74-cf43d77f9359",
   "metadata": {},
   "source": [
    "**8.12 – Sanduíches:** Escreva uma função que aceite uma lista de itens que uma pessoa quer em um sanduíche. A função deve ter um parâmetro que agrupe tantos itens quantos forem fornecidos pela chamada da função e deve apresentar um resumo do sanduíche pedido. Chame a função três vezes usando um número diferente de argumentos a cada vez."
   ]
  },
  {
   "cell_type": "code",
   "execution_count": null,
   "id": "6812029c-b449-4d74-be75-420880e6e64e",
   "metadata": {
    "tags": []
   },
   "outputs": [],
   "source": [
    "def resumo_sanduiche(*itens):\n",
    "    print(\"Resumo do seu sanduíche:\")\n",
    "    for item in itens:\n",
    "        print(\" - \" + item)\n",
    "    print(\"Aproveite seu sanduíche!\\n\")\n",
    "\n",
    "# Chamando a função três vezes com um número diferente de argumentos cada vez\n",
    "resumo_sanduiche('queijo', 'presunto', 'alface')\n",
    "resumo_sanduiche('frango', 'bacon', 'maionese', 'tomate')\n",
    "resumo_sanduiche('atum', 'cebola')"
   ]
  },
  {
   "cell_type": "markdown",
   "id": "587309d4-89c9-424f-9fa8-3737764a0d80",
   "metadata": {},
   "source": [
    "**8.13 – Perfil do usuário:** Comece com uma cópia de user_profile.py, da página 210. Crie um perfil seu chamando **build_profile()**, usando seu primeiro nome e o sobrenome, além de três outros pares chave-valor que o descrevam."
   ]
  },
  {
   "cell_type": "code",
   "execution_count": null,
   "id": "625e1e8c-8b8e-4c98-a3f9-e40ae19b038d",
   "metadata": {
    "tags": []
   },
   "outputs": [],
   "source": [
    "def build_profile(first, last, **user_info):\n",
    "    \"\"\"Constroi um dicionário contendo tudo que sabemos sobre um usuário.\"\"\"\n",
    "    profile ={}\n",
    "    profile['first_name'] = first\n",
    "    profile['last_name'] = last\n",
    "    for key, value in user_info.items():\n",
    "        profile[key] = value \n",
    "    return profile\n",
    "user_profile = build_profile('denilson', 'panzo', location='Alvor', field='Data science', nationality='angolan')\n",
    "print(user_profile)"
   ]
  },
  {
   "cell_type": "markdown",
   "id": "5b688b2b-254f-4ffc-b2c8-69ccc773c875",
   "metadata": {},
   "source": [
    "**8.14 – Carros:** Escreva uma função que armazene informações sobre um carro em um dicionário. A função sempre deve receber o nome de um fabricante e um modelo. Um número arbitrário de argumentos nomeados então deverá ser aceito. Chame a função com as informações necessárias e dois outros pares nome-valor, por exemplo, uma cor ou um opcional. Sua função deve ser apropriada para uma chamada como esta: **car = make_car(‘subaru’, ‘outback’, color=’blue’, tow_package=True)** Mostre o dicionário devolvido para garantir que todas as informações foram armazenadas corretamente."
   ]
  },
  {
   "cell_type": "code",
   "execution_count": null,
   "id": "7205b442-6e6e-48b1-a375-0f038335c685",
   "metadata": {
    "tags": []
   },
   "outputs": [],
   "source": [
    "def make_car(manufacturer, model, **car_info):\n",
    "    \"\"\"Armazena informações sobre um carro em um dicionário.\"\"\"\n",
    "    car = {\n",
    "        'manufacturer': manufacturer,\n",
    "        'model': model\n",
    "    }\n",
    "    for key, value in car_info.items():\n",
    "        car[key] = value\n",
    "    return car\n",
    "\n",
    "# Chamando a função com as informações necessárias e dois outros pares nome-valor\n",
    "car = make_car('subaru', 'outback', color='blue', tow_package=True)\n",
    "\n",
    "# Mostrando o dicionário devolvido\n",
    "print(car)"
   ]
  },
  {
   "cell_type": "markdown",
   "id": "5afdfc42-e66c-4faf-9ae7-b8b9fbece3be",
   "metadata": {},
   "source": [
    "****"
   ]
  },
  {
   "cell_type": "markdown",
   "id": "8569cb9f-b44f-452b-a00a-4a5ab32a7743",
   "metadata": {},
   "source": [
    "## Armazenando suas funções em <code>**módulos**</code>"
   ]
  },
  {
   "cell_type": "markdown",
   "id": "75f74604-bbd1-40eb-b4d4-c6300e90c8d9",
   "metadata": {},
   "source": [
    "Uma vantagem das funções é a maneira como elas separam blocos de código de seu programa principal. Ao usar nomes descritivos para suas funções, será bem mais fácil entender o seu programa principal. **Você pode dar um passo além armazenando suas funções em um arquivo separado** chamado <code>**módulo**</code> e, então, importar esse <code>**módulo**</code> em seu programa principal. Uma instrução <code>**import**</code> diz a **Python para deixar o código de um módulo disponível no arquivo de programa em execução no momento**.\n",
    "\n",
    "**Armazenar suas funções em um <code>arquivo separado</code> permite ocultar os detalhes do código de seu programa e se concentrar na lógica de nível mais alto**. Também permite reutilizar funções em muitos programas diferentes. **Quando armazenamos funções em <code>arquivos separados</code> , podemos compartilhar esses arquivos com outros programadores sem a necessidade de compartilhar o programa todo**. Saber como importar funções também possibilita usar bibliotecas de funções que outros programadores escreveram.\n",
    "Há várias maneiras de importar um módulo e vou mostrar cada uma delas rapidamente."
   ]
  },
  {
   "cell_type": "markdown",
   "id": "235e59f6-7d7a-48c5-9c32-cfb56aac7758",
   "metadata": {},
   "source": [
    "### Importando um <code>**módulo completo**</code>"
   ]
  },
  {
   "cell_type": "markdown",
   "id": "4f481945-7bf4-46f4-9bb9-555111cb5d6e",
   "metadata": {},
   "source": [
    "Para começar a importar funções, inicialmente precisamos criar um <code>**módulo**</code>. **Um <code>módulo</code> é um arquivo terminado em .py que contém o código que queremos importar para o nosso programa**. Vamos criar um módulo que contenha a função **make_pizza()**. Para criar esse <code>**módulo**</code>, removeremos tudo que está no arquivo **pizza.py**, exceto a função **make_pizza()**:"
   ]
  },
  {
   "cell_type": "code",
   "execution_count": null,
   "id": "ce8fc11f-8618-484d-842c-9432ffe466ec",
   "metadata": {
    "tags": []
   },
   "outputs": [],
   "source": [
    "def make_pizza(size, *toppings):\n",
    "    \"\"\"Apresenta apizza que estamos prestes a preparar.\"\"\"\n",
    "    print(\"\\nMaking a \" + str(size) + \"-inch pizza with the following toppings:\")\n",
    "    \n",
    "    for topping in toppings:\n",
    "        print(\"- \" + topping)"
   ]
  },
  {
   "cell_type": "markdown",
   "id": "a4f52def-a4b7-455a-bca6-1ef4f9727d2c",
   "metadata": {},
   "source": [
    "**Agora criaremos um <code>arquivo separado</code> chamado 'making_pizzas.py' no mesmo diretório em que está 'pizza.py'. Esse arquivo importa o módulo que acabamos de criar e, em seguida, faz duas chamadas para make_pizza(): making_pizzas.py <code>import</code> pizza**\n"
   ]
  },
  {
   "cell_type": "code",
   "execution_count": 111,
   "id": "cf5b88df-f74d-47a6-8a64-0067d7592bc1",
   "metadata": {
    "tags": []
   },
   "outputs": [
    {
     "name": "stdout",
     "output_type": "stream",
     "text": [
      "\n",
      "Making a 18-inch pasta with the following toppings:\n",
      "- carbonara\n",
      "\n",
      "Making a 16-inch pasta with the following toppings:\n",
      "- mushrooms\n",
      "- red peppers\n",
      "- extra cheese\n"
     ]
    }
   ],
   "source": [
    "# Usei pasta.py pr confirmar os dados do import\n",
    "# main.py\n",
    "import pasta\n",
    "pasta.make_pasta(18, 'carbonara')\n",
    "pasta.make_pasta(16, 'mushrooms', 'red peppers', 'extra cheese')"
   ]
  },
  {
   "cell_type": "markdown",
   "id": "b5153a34-8eee-4460-8a59-b72bec01e671",
   "metadata": {},
   "source": [
    "**Para chamar uma função que está em um módulo importado, forneça o nome do <code>módulo</code>, que é 'pasta' nesse caso, seguido do nome da função, 'make_pasta()', separados por um ponto (.)**. Esse código gera a mesma saída que o programa original, que não importava um módulo.\n",
    "\n",
    "**Essa primeira abordagem à importação, em que simplesmente escrevemos <code>import</code> seguido do <code>nome do módulo</code>, deixa todas as funções do <code>módulo</code> disponíveis ao seu programa**. Se você usar esse tipo de instrução <code>**import**</code> para importar um <code>**módulo completo chamado**</code> 'nome_do_módulo.py', todas as funções do módulo estarão disponíveis por meio da sintaxe a seguir: **nome_do_módulo.nome_da_função()**\n"
   ]
  },
  {
   "cell_type": "markdown",
   "id": "17572e53-6e97-47f1-a5f0-73e71bcbd7dc",
   "metadata": {},
   "source": [
    "### Importando funções específicas"
   ]
  },
  {
   "cell_type": "markdown",
   "id": "4a3d2afa-4074-48bc-975a-b33e7b69c018",
   "metadata": {},
   "source": [
    "**Podemos também importar uma função específica de um <code>módulo</code>**. Eis a sintaxe geral para essa abordagem: **<code>from</code> nome_do_módulo <code>import</code> nome_da_função**. Você pode importar quantas funções quiser de um módulo separando o nome de cada função com uma vírgula: <code>**from nome_do_módulo import função_0, função_1, função_2**</code>\n",
    "\n",
    "O exemplo com **'making_pasta.py'** teria o seguinte aspecto, se quiséssemos importar somente a função que será utilizada:"
   ]
  },
  {
   "cell_type": "code",
   "execution_count": 113,
   "id": "8a640670-5392-4262-83ee-6feaad556854",
   "metadata": {
    "tags": []
   },
   "outputs": [
    {
     "name": "stdout",
     "output_type": "stream",
     "text": [
      "\n",
      "Making a 18-inch pasta with the following toppings:\n",
      "- carbonara\n",
      "\n",
      "Making a 16-inch pasta with the following toppings:\n",
      "- mushrooms\n",
      "- red peppers\n",
      "- extra cheese\n"
     ]
    }
   ],
   "source": [
    "# Usei pasta.py pr confirmar os dados do import\n",
    "from pasta import make_pasta\n",
    "make_pasta(18, 'carbonara')\n",
    "make_pasta(16, 'mushrooms', 'red peppers', 'extra cheese')"
   ]
  },
  {
   "cell_type": "markdown",
   "id": "16a50a3b-ea3a-4436-afe0-3cd538cf6883",
   "metadata": {},
   "source": [
    "**Com essa sintaxe não precisamos usar a notação de ponto ao chamar uma função. Como importamos explicitamente a função 'make_pizza()' na instrução <code>import</code>, podemos chamá-la pelo nome quando ela for utilizada.**"
   ]
  },
  {
   "cell_type": "markdown",
   "id": "aa50629a-d0b2-4c85-a33d-e22668d09dd2",
   "metadata": {},
   "source": [
    "### Usando a **palavra reservada <code>as</code> para atribuir um <code>alias</code> a uma função**"
   ]
  },
  {
   "cell_type": "markdown",
   "id": "8450333a-d1fb-45d1-b952-9ef1ab8bdf7a",
   "metadata": {},
   "source": [
    "Se o nome de uma função que você importar puder entrar em conflito com um nome existente em seu programa ou se o nome da função for longo, **podemos usar um <code>alias</code> único e conciso, que é um nome alternativo, semelhante a um apelido para a função**. Dê esse apelido especial à função quando importá-la.\n",
    "A seguir, atribuímos um **<code>alias</code> mp()** para a função **'make_pasta()'** importando **make_pasta as mp**. A palavra reservada as renomeia uma função usando o alias que você fornecer:"
   ]
  },
  {
   "cell_type": "code",
   "execution_count": 123,
   "id": "1b5f0d20-ba66-487a-96c2-f0ad707cff79",
   "metadata": {
    "tags": []
   },
   "outputs": [
    {
     "name": "stdout",
     "output_type": "stream",
     "text": [
      "\n",
      "Making a 16-inch pasta with the following toppings:\n",
      "- bolognesa\n",
      "\n",
      "Making a 12-inch pasta with the following toppings:\n",
      "- carbonara\n",
      "- mushrooms\n",
      "- extra cheese\n"
     ]
    }
   ],
   "source": [
    "from pasta import make_pasta as mp\n",
    "mp(16, 'bolognesa') \n",
    "mp(12, 'carbonara', 'mushrooms', 'extra cheese')"
   ]
  },
  {
   "cell_type": "markdown",
   "id": "01acdcff-cd31-4d7f-9707-957231f0c415",
   "metadata": {},
   "source": [
    "A sintaxe geral para fornecer um alias é: **from nome_do_módulo import nome_da_função as nf**"
   ]
  },
  {
   "cell_type": "markdown",
   "id": "9e376fd5-5280-4530-a74e-e875dcadb496",
   "metadata": {},
   "source": [
    "### Usando a **palavra reservada <code>as</code> para atribuir um <code>alias</code>a um módulo**"
   ]
  },
  {
   "cell_type": "markdown",
   "id": "ce677982-72d8-4647-ba00-6b503b1ce38a",
   "metadata": {},
   "source": [
    "**Também podemos fornecer um alias para um nome de <code>módulo</code>. Dar um <code>alias</code> conciso a um módulo**, por exemplo, **'p'** para pizza, permite chamar mais rapidamente as funções do módulo. Chamar **p.make_pizza()** é mais compacto que chamar **pizza.make_pizza()**:"
   ]
  },
  {
   "cell_type": "code",
   "execution_count": 131,
   "id": "5c1d39b8-8d7c-48f0-aaf4-f5480e4f5476",
   "metadata": {
    "tags": []
   },
   "outputs": [
    {
     "name": "stdout",
     "output_type": "stream",
     "text": [
      "\n",
      "Making a 18-inch pasta with the following toppings:\n",
      "- carbonara\n",
      "\n",
      "Making a 16-inch pasta with the following toppings:\n",
      "- mushrooms\n",
      "- red peppers\n",
      "- extra cheese\n"
     ]
    }
   ],
   "source": [
    "import pasta as p\n",
    "p.make_pasta(18, 'carbonara')\n",
    "p.make_pasta(16, 'mushrooms', 'red peppers', 'extra cheese')"
   ]
  },
  {
   "cell_type": "markdown",
   "id": "b3e91b3a-60bb-498d-bf7d-b3234fbcc37c",
   "metadata": {},
   "source": [
    " **O módulo pasta recebe o <code>alias p</code> na instrução import, mas todas as funções do <code>módulo</code> preservam seus nomes originais**. Chamar as funções escrevendo **p.make_pasta()** não só é mais compacto que escrever **pastas.make_pasta()** como **também desvia sua atenção do nome do <code>módulo</code> e permite dar enfoque aos nomes descritivos de suas funções**. Esses nomes de função, que claramente informam o que cada função faz, são mais importantes para a legibilidade de seu código que usar o nome completo do módulo.\n",
    "\n",
    "A sintaxe geral para essa abordagem é: **<code>import nome_do_módulo as nm</code>**"
   ]
  },
  {
   "cell_type": "markdown",
   "id": "83e614d6-67df-4ecb-9896-130209bf941c",
   "metadata": {},
   "source": [
    "### Importando todas as funções de um **<code>módulo</code>**"
   ]
  },
  {
   "cell_type": "markdown",
   "id": "cb3b3c47-d4f9-4282-8f4d-2cfac1872817",
   "metadata": {},
   "source": [
    "**Podemos dizer a Python para importar todas as funções de um módulo usando o operador <code>asterisco (*)</code>**: "
   ]
  },
  {
   "cell_type": "code",
   "execution_count": 148,
   "id": "bfeb7223-839e-4ee6-bbdd-57b7352dabaf",
   "metadata": {
    "tags": []
   },
   "outputs": [
    {
     "name": "stdout",
     "output_type": "stream",
     "text": [
      "\n",
      "Making a 18-inch pasta with the following toppings:\n",
      "- carbonara\n",
      "\n",
      "Making a 16-inch pasta with the following toppings:\n",
      "- mushrooms\n",
      "- red peppers\n",
      "- extra cheese\n"
     ]
    }
   ],
   "source": [
    "from pasta import *\n",
    "make_pasta(18, 'carbonara')\n",
    "make_pasta(16, 'mushrooms', 'red peppers', 'extra cheese')"
   ]
  },
  {
   "cell_type": "markdown",
   "id": "c45e415c-a489-4d72-8773-9a8acb4a8a5d",
   "metadata": {},
   "source": [
    "**O asterisco na instrução <code>import</code> diz a Python para copiar todas as funções do <code>módulo</code> pasta' para esse arquivo de programa**. Como todas as funções são importadas, podemos chamar qualquer função pelo nome, sem usar a notação de ponto. **No entanto, é melhor não usar essa abordagem quando trabalhar com módulos maiores, que não foram escritos por você: se o <code>módulo</code>  tiver um nome de função que seja igual a um nome existente em seu projeto, você poderá ter alguns resultados inesperados.** Python poderá ver várias funções ou variáveis com o mesmo nome e, em vez de importar todas as funções separadamente, ele as sobrescreverá.\n",
    "\n",
    "**A melhor abordagem é importar a função ou as funções que você quiser ou importar o <code>módulo</code>  todo e usar a notação de ponto**. Isso resulta em um código claro, mais fácil de ler e de entender. Incluí esta seção para que você possa reconhecer instruções <code>**import**</code> como esta quando as vir no código de outras pessoas: <b><code>from nome_do_módulo import *</code></b>"
   ]
  },
  {
   "cell_type": "markdown",
   "id": "9ee0b71a-4ce6-4e40-a527-cc19ea236209",
   "metadata": {},
   "source": [
    "### Estilizando funções"
   ]
  },
  {
   "cell_type": "markdown",
   "id": "50f5d6fb-ae88-447a-b1fb-fbd20addf9f7",
   "metadata": {},
   "source": [
    "Você precisa ter alguns detalhes em mente quando **estilizar funções**. **As funções devem ter nomes descritivos, e esses nomes devem usar <code>letras minúsculas e underscores</code>**. <code>**Nomes descritivos**</code> ajudam você e outras pessoas a entenderem o que seu código está tentando fazer. Os <code>**nomes de módulos**</code> devem usar essas convenções também.\n",
    "**Toda função deve ter um comentário que explique o que ela faz de modo conciso. Esse comentário deve estar imediatamente após a <code>definição da função</code> e deve utilizar o formato de <code>docstring</code>. Se uma função estiver bem documentada, outros programadores poderão usá-la apenas lendo a descrição da <code>docstring</code>**. Eles poderão crer que o código funcionará conforme descrito e, desde que saibam o nome da função, os argumentos necessários e o tipo de valor que ela devolve, deverão ser capazes de usá-la em seus programas.\n",
    "\n",
    "**Se você especificar um <code>valor default para um parâmetro</code>, não deve haver espaços em nenhum dos lados do sinal de igualdade**: <code>def nome_da_função(parâmetro_0, parâmetro_1='valor default')**</code> \n",
    "A mesma convenção deve ser usada para argumentos nomeados em <code>**chamadas de função**</code>: <code>**nome_da_função(valor_0, parâmetro_1='valor')**</code>. \n",
    "\n",
    "**A PEP 8 (https://www.python.org/dev/peps/pep-0008/ ) recomenda limitar as linhas de código em 79 caracteres** para que todas as linhas permaneçam visíveis em uma janela de editor com um tamanho razoável. **Se um conjunto de parâmetros fizer com que a <code>definição da função</code> ultrapasse 79 caracteres, tecle <code>ENTER</code> após o parêntese de abertura na linha da definição. Na próxima linha, tecle <code>TAB</code> duas vezes para separar a lista de argumentos do corpo da função, que estará indentado com apenas um nível**."
   ]
  },
  {
   "cell_type": "markdown",
   "id": "7778e17b-c615-45ad-9f62-eb3d64ce73dc",
   "metadata": {},
   "source": [
    "**A maioria dos editores fará automaticamente o alinhamento de qualquer parâmetro adicional para que corresponda à indentação** que você determinar na primeira linha: **<code>def nome_da_função( parâmetro_0, parâmetro_1, parâmetro_2, parâmetro_3, parâmetro_4, parâmetro_5): corpo da função...</code>**\n",
    "\n",
    "Se seu programa ou módulo tiver mais de uma função, você poderá separá-las usando duas linhas em branco para facilitar ver em que lugar uma função termina e a próxima começa.\n",
    "**Todas as instruções <code>import</code> devem estar no início de um arquivo. A única exceção ocorre quando você usa comentários no início de seu arquivo para descrever o programa como um todo.**"
   ]
  },
  {
   "cell_type": "markdown",
   "id": "0b5fb293-962d-4c28-a5ca-9d61fea54248",
   "metadata": {},
   "source": [
    "### **FAÇA VOCÊ MESMO**"
   ]
  },
  {
   "cell_type": "markdown",
   "id": "63dda057-429a-4623-a1a7-659b26896ea6",
   "metadata": {},
   "source": [
    "**8.15 – Impressão de modelos:** Coloque as funções do exemplo **print_models.py** em um arquivo separado de nome printing_functions.py. Escreva uma instrução **import** no início de print_models.py e modifique o arquivo para usar as funções importadas."
   ]
  },
  {
   "cell_type": "code",
   "execution_count": null,
   "id": "52b396e2-bfe0-4daf-9619-bdc04ae8c395",
   "metadata": {},
   "outputs": [],
   "source": []
  },
  {
   "cell_type": "markdown",
   "id": "c54ea0b6-3218-4875-be3f-db21a4411744",
   "metadata": {},
   "source": [
    "**8.16 – Importações:** Usando um programa que você tenha escrito e que contenha uma única função, armazene essa função em um arquivo separado. Importe a função para o arquivo principal de seu programa e chame-a usando cada uma das seguintes abordagens: <b>import nome_do_módulo from nome_do_módulo import nome_da_função from nome_do_módulo import nome_da_função as nf import nome_do_módulo as nm from nome_do_módulo import *</b>"
   ]
  },
  {
   "cell_type": "code",
   "execution_count": null,
   "id": "a216a6ea-7624-4858-b338-c583c73a78b4",
   "metadata": {},
   "outputs": [],
   "source": []
  },
  {
   "cell_type": "markdown",
   "id": "7db50942-b838-4834-b8fe-dd2557a574cb",
   "metadata": {},
   "source": [
    "**8.17 – Estilizando funções:** Escolha quaisquer três programas que você escreveu neste capítulo e garanta que estejam de acordo com as diretrizes de estilo descritas nesta seção."
   ]
  },
  {
   "cell_type": "code",
   "execution_count": null,
   "id": "0ee47aef-0654-49a3-b7aa-bdb82220b3e5",
   "metadata": {},
   "outputs": [],
   "source": []
  },
  {
   "cell_type": "markdown",
   "id": "57aa7d5c-14c9-409e-b369-970baeed87e3",
   "metadata": {},
   "source": [
    "## **RESUMO**"
   ]
  },
  {
   "cell_type": "markdown",
   "id": "99ea8c1d-3830-44c7-a043-90f514b6b45e",
   "metadata": {},
   "source": [
    "Neste capítulo aprendemos a escrever funções e a passar argumentos de modo que suas funções tenham acesso às informações necessárias para realizarem sua tarefa. **Vimos como usar <code>argumentos posicionais e nomeados</code>, e aprendemos a aceitar <code>um número arbitrário de argumentos</code>. Conhecemos funções que exibem uma saída e funções que devolvem <code>valores</code>. Aprendemos a usar funções com <code>listas, dicionários, instruções if e laços while</code>. Também vimos como armazenar suas funções em arquivos separados chamados de <code>módulos</code>**; desse modo, seus arquivos de programa serão mais simples e mais fáceis de entender. Por fim, aprendemos a estilizar as funções para que seus programas continuem bem estruturados e o mais fácil possível para você e outras pessoas lerem.\n",
    "\n",
    "Um de nossos objetivos como programador deve ser escrever um código simples, que faça o que você quer, e as funções ajudam nessa tarefa. **Elas permitem escrever blocos de código e deixá-los de lado depois que você souber que eles funcionam. Quando souber que uma função executa sua tarefa de forma correta, você poderá se sentir seguro de que ela continuará a funcionar, e poderá prosseguir para a próxima tarefa de programação**.\n",
    "\n",
    "As funções permitem escrever um código uma vez e então reutilizá-lo quantas vezes você quiser. **Quando tiver que executar o código de uma função, tudo que você precisa fazer é escrever uma <code>chamada de uma linha</code>, e a função fará o seu trabalho. Quando for necessário modificar o comportamento de uma função, basta modificar apenas um bloco de código e sua alteração terá efeito em todos os lugares em que uma chamada dessa função for feita.**\n",
    "\n",
    "Usar funções deixa seus programas mais fáceis de ler, e bons nomes de função sintetizam o que cada parte de um programa faz. **Ler uma série de <code>chamadas de função</code> possibilita ter rapidamente uma noção do que um programa faz, se comparado à leitura de uma série longa de blocos de código.**\n",
    "\n",
    "As funções também deixam seu código mais fácil de testar e de depurar. Quando a maior parte do trabalho de seu programa for feita por um conjunto de funções, em que cada uma tem uma tarefa específica, será muito mais fácil testar e dar manutenção no código que você escreveu. **É possível escrever um programa separado que chame cada função e testar se ela funciona em todas as situações com as quais você poderá se deparar. Ao fazer isso, você se sentirá mais seguro de que suas funções estarão corretas sempre que forem chamadas.**"
   ]
  },
  {
   "cell_type": "markdown",
   "id": "275d359c-a2a8-4fe1-93f9-33107263be17",
   "metadata": {},
   "source": [
    "No Capítulo 9 aprenderemos a escrever classes. **As <code>classes</code> combinam funções e dados em um pacote organizado, que pode ser usado de maneiras flexíveis e eficientes.**"
   ]
  },
  {
   "cell_type": "code",
   "execution_count": null,
   "id": "ce6a7525-462f-4e4a-ada5-8c22dd59ba7a",
   "metadata": {},
   "outputs": [],
   "source": []
  }
 ],
 "metadata": {
  "kernelspec": {
   "display_name": "Python 3 (ipykernel)",
   "language": "python",
   "name": "python3"
  },
  "language_info": {
   "codemirror_mode": {
    "name": "ipython",
    "version": 3
   },
   "file_extension": ".py",
   "mimetype": "text/x-python",
   "name": "python",
   "nbconvert_exporter": "python",
   "pygments_lexer": "ipython3",
   "version": "3.11.5"
  }
 },
 "nbformat": 4,
 "nbformat_minor": 5
}
