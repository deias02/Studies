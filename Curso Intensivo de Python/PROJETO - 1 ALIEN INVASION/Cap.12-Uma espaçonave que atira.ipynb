{
 "cells": [
  {
   "cell_type": "markdown",
   "id": "4931817a-50a9-4551-ba3f-a818e7fb060e",
   "metadata": {},
   "source": [
    "# Parte II - PROJETO 1 - **INVASÃO ALIENÍGENA**"
   ]
  },
  {
   "cell_type": "markdown",
   "id": "b811759e-3d9f-4833-a3ca-2f77591ded6f",
   "metadata": {},
   "source": [
    "## **Cap.12 - Uma espaçonave que atira**"
   ]
  },
  {
   "cell_type": "markdown",
   "id": "643f252e-2ff1-4a73-ba3b-c9e0555c2898",
   "metadata": {},
   "source": [
    "Vamos criar um jogo! Usaremos o **<code>Pygame</code> – uma coleção de módulos Python divertida e eficaz que administra imagens gráficas, animações e até mesmo sons, facilitando o desenvolvimento de jogos sofisticados.** Com o <code>**Pygame**</code> tratando tarefas como desenhar imagens na tela, você poderá ignorar boa parte do código tedioso e difícil e se concentrar na lógica de mais alto nível da dinâmica dos jogos."
   ]
  },
  {
   "cell_type": "markdown",
   "id": "3dfac0ca-dbd2-41a7-9071-f092cf46a3fe",
   "metadata": {},
   "source": [
    "Neste capítulo instalaremos o <code>Pygame</code> e então criaremos **uma 'espaçonave' que se move para a direita e para a esquerda e atira em resposta à entrada do usuário**. Nos próximos dois capítulos, **criaremos uma frota de alienígenas para destruir e então continuaremos a fazer ajustes finos, por exemplo, definindo limites para o número de espaçonaves que poderão ser usadas e acrescentando uma tabela de pontuação.**\n",
    "\n",
    "Neste capítulo você aprenderá também a administrar projetos grandes, que contêm vários arquivos. **Faremos a refatoração de vários códigos e administraremos o conteúdo dos arquivos para manter nosso projeto organizado e o código eficiente.**\n",
    "\n",
    "Desenvolver jogos é um modo ideal de se divertir ao mesmo tempo que aprendemos uma linguagem. É extremamente satisfatório ver outros jogadores usarem um jogo escrito por você mesmo, e escrever um jogo simples o ajudará a entender como os jogos profissionais são criados. **À medida que trabalhar neste capítulo, digite e execute o código para entender como cada bloco de código contribui com o gameplay1 em geral. Faça experimentos com valores e configurações diferentes para compreender melhor de que modo você pode sofisticar mais as interações em seus próprios jogos.**"
   ]
  },
  {
   "cell_type": "markdown",
   "id": "3b8cea34-ddfe-4d5c-b659-18c5900c883f",
   "metadata": {},
   "source": [
    "### Planejando o seu projeto"
   ]
  },
  {
   "cell_type": "markdown",
   "id": "1596fe62-dc56-491d-bf6e-7e98996a4f95",
   "metadata": {},
   "source": [
    "**Ao desenvolver um projeto grande, é importante preparar um plano antes de começar a escrever o seu código**. Seu plano manterá você focado e fará com que seja mais provável que o projeto seja concluído.\n",
    "\n",
    "Vamos escrever **uma descrição do gameplay** como um todo. Embora a descrição a seguir não inclua todos os detalhes da <code>**Invasão Alienígena**</code>, ela oferece uma ideia clara de como podemos começar a desenvolver o jogo: **Na <code>**Invasão Alienígena**</code>, o jogador controla uma espaçonave que aparece na parte inferior central da tela. O jogador pode mover a espaçonave para a direita e para a esquerda usando as teclas de direção e atirar usando a barra de espaço. Quando o jogo começa, uma frota de alienígenas enche o céu e se desloca na tela para os lados e para baixo.   \n",
    "O jogador atira nos alienígenas e os destrói. Se o jogador atingir todos os alienígenas, uma nova frota, que se moverá mais rapidamente que a frota anterior, aparecerá. Se algum alienígena atingir a espaçonave do jogador ou alcançar a parte inferior da tela, o jogador perderá uma nave. Se o jogador perder três espaçonaves, o jogo terminará.**\n",
    "\n",
    "**Na primeira fase do desenvolvimento criaremos uma espaçonave capaz de se mover para a direita e para a esquerda. A nave deverá ser capaz de atirar quando o jogador pressionar a barra de espaço.** Depois de proporcionar esse comportamento, poderemos voltar nossa atenção aos alienígenas e sofisticar o gameplay.\n"
   ]
  },
  {
   "cell_type": "code",
   "execution_count": 1,
   "id": "8994c05f-ed91-41ca-a645-63bb19dc84e9",
   "metadata": {
    "tags": []
   },
   "outputs": [
    {
     "name": "stdout",
     "output_type": "stream",
     "text": [
      "pygame 2.6.1.dev1 (SDL 2.30.5, Python 3.11.5)\n",
      "Hello from the pygame community. https://www.pygame.org/contribute.html\n"
     ]
    }
   ],
   "source": [
    "import pygame"
   ]
  },
  {
   "cell_type": "markdown",
   "id": "2b0b875a-bd33-4967-b8a3-e12522fbd64c",
   "metadata": {},
   "source": [
    "## Dando início ao projeto do jogo"
   ]
  },
  {
   "cell_type": "markdown",
   "id": "efe7ae0e-58ad-4961-851a-9eed6c1903ba",
   "metadata": {},
   "source": [
    "Agora começaremos a desenvolver o nosso jogo, inicialmente **criando uma janela vazia do Pygame na qual poderemos desenhar os elementos de nosso jogo depois, por exemplo, a espaçonave e os alienígenas. Também faremos nosso jogo responder às entradas do usuário, definiremos a cor de fundo e carregaremos a imagem de uma espaçonave.**"
   ]
  },
  {
   "cell_type": "markdown",
   "id": "f17764ca-db64-4004-8d59-801a5802200e",
   "metadata": {},
   "source": [
    "### Criando uma janela do Pygame e respondendo às entradas do usuário"
   ]
  },
  {
   "cell_type": "markdown",
   "id": "8ce8637c-8da7-46d4-9208-0d02dd715642",
   "metadata": {},
   "source": [
    "Em primeiro lugar criaremos uma janela vazia do <code>**Pygame**</code>. Eis a estrutura básica de um jogo escrito com o <code>**Pygame**</code>:"
   ]
  },
  {
   "cell_type": "code",
   "execution_count": null,
   "id": "7f8be5d6-ffdc-440e-b135-5d4dc1691b3a",
   "metadata": {
    "tags": []
   },
   "outputs": [
    {
     "name": "stdout",
     "output_type": "stream",
     "text": [
      "pygame 2.6.1.dev1 (SDL 2.30.5, Python 3.11.5)\n",
      "Hello from the pygame community. https://www.pygame.org/contribute.html\n"
     ]
    }
   ],
   "source": [
    "import pygame\n",
    "import sys  # Importa o módulo sys, que é necessário para sys.exit()\n",
    "\n",
    "def run_game():\n",
    "    # Inicializa o jogo e cria um objeto para a tela\n",
    "    pygame.init()\n",
    "    screen = pygame.display.set_mode((1200, 800))\n",
    "    pygame.display.set_caption(\"Alien Invasion\")\n",
    "\n",
    "    # Inicia o laço principal do jogo\n",
    "    while True:\n",
    "        # Observa eventos de teclado e de mouse\n",
    "        for event in pygame.event.get():\n",
    "            if event.type == pygame.QUIT:\n",
    "                sys.exit()  # Encerra o programa quando o usuário fecha a janela\n",
    "        \n",
    "        # Deixa a tela mais recente visível\n",
    "        pygame.display.flip()\n",
    "\n",
    "# Chama a função para iniciar o jogo\n",
    "run_game()"
   ]
  },
  {
   "cell_type": "markdown",
   "id": "dafb9c56-a89e-4f30-a22b-f1faf7d5a6b9",
   "metadata": {},
   "source": [
    "Inicialmente importamos os módulos <code>**sys**</code> e <code>**pygame**</code>. O **módulo <code>pygame</code>contém as funcionalidades necessárias para criar um jogo**. Usaremos o **módulo <code>sys</code> para sair do jogo quando o usuário desistir.**\n",
    "\n",
    "'A Invasão Alienígena' começa com a função <code>**run_game()**</code>. A linha <code>pygame.init()</code> inicializa as configurações de segundo plano de que o <code>**pygame**</code> precisa para funcionar de forma apropriada. E chamamos <code>**pygame.display.set_mode()**</code> para criar uma janela de exibição chamada **<code>screen</code>, na qual desenharemos todos os elementos gráficos do jogo**. O argumento **(1200, 800) é uma <code>tupla</code> que define as dimensões da janela do jogo**. Ao passar essas dimensões para <code>**pygame.display.set_mode()**</code>, criamos uma >**janela de jogo com <code>1200 pixels de largura por 800 pixels de altura</code>. (Esses valores podem ser ajustados de acordo com o tamanho de seu display.)** \n",
    "\n",
    "O objeto **<code>screen</code> é chamado de <code>superfície</code>. Uma <code>superfície no Pygame</code> é uma parte da tela em que exibimos um elemento do jogo. Cada elemento do jogo, por exemplo, os alienígenas ou a espaçonave, é uma superfície.** A superfície devolvida por <code>**display.set_mode()**</code> representa a janela inteira do jogo. Quando ativamos o laço de animação do jogo, essa superfície é automaticamente redesenhada a cada passagem pelo laço."
   ]
  },
  {
   "cell_type": "markdown",
   "id": "69831114-b3ba-4ab8-908e-1c0d0c7fcbd3",
   "metadata": {},
   "source": [
    "O jogo é controlado por **um laço <code>while</code> que contém um laço de eventos e o código que administra as atualizações de tela. Um evento é uma ação realizada pelo usuário enquanto joga, por exemplo, pressionar uma tecla ou mover o mouse**. Para fazer nosso programa responder aos eventos, escreveremos um laço de eventos para ouvir um evento e executar uma tarefa apropriada de acordo com o tipo de evento ocorrido. O laço <code>for</code> é um laço de eventos.\n",
    "\n",
    "Para acessar os eventos detectados pelo <code>**Pygame**</code>, usaremos **<code>pygame.event.get()</code>. Qualquer evento de teclado ou de mouse fará o laço <code>for</code> executar. No laço, escreveremos uma série de instruções <code>if</code> para detectar e responder a eventos específicos**. Por exemplo, quando o jogador clicar no botão de fechamento da janela do jogo, um evento <code>pygame.QUIT</code> será detectado e chamaremos <code>sys.exit()</code> para sair do jogo.\n",
    "\n",
    "A chamada a **<code>pygame.display.flip()</code> em diz ao <code>**Pygame**</code> para deixar visível a janela mais recente. Nesse caso, uma tela vazia será desenhada sempre que passarmos pelo laço <code>while</code> para apagar a tela antiga, de modo que apenas a nova janela esteja visível.** Quando movermos elementos do jogo pela tela, <code>**pygame.display.flip()**</code> atualizará continuamente o display para mostrar as novas posições dos elementos e ocultar as posições anteriores, criando a ilusão de um movimento suave.\n",
    "\n",
    "A última linha nessa estrutura básica de jogo chama **<code>run_game()</code>, que inicializa o jogo e o laço principal**.\n",
    "Execute esse código agora e você verá uma janela vazia do Pygame."
   ]
  },
  {
   "cell_type": "markdown",
   "id": "bd43b7db-c8f8-47a6-90a3-aae800f41197",
   "metadata": {},
   "source": [
    "### Definindo a cor de fundo"
   ]
  },
  {
   "cell_type": "markdown",
   "id": "ddc72dd9-bf39-4a22-a8bd-f46215bdef1e",
   "metadata": {},
   "source": [
    "O <code>**Pygame**</code> cria uma tela preta por padrão, mas isso não é interessante. **Vamos definir uma cor diferente para o plano de fundo**:"
   ]
  },
  {
   "cell_type": "code",
   "execution_count": null,
   "id": "993d0e91-abdf-4c0e-9958-5bd77c646254",
   "metadata": {
    "tags": []
   },
   "outputs": [
    {
     "name": "stdout",
     "output_type": "stream",
     "text": [
      "pygame 2.6.1.dev1 (SDL 2.30.5, Python 3.11.5)\n",
      "Hello from the pygame community. https://www.pygame.org/contribute.html\n"
     ]
    }
   ],
   "source": [
    "import pygame\n",
    "import sys  # Importa o módulo sys, que é necessário para sys.exit()\n",
    "\n",
    "def run_game():\n",
    "    # Inicializa o jogo e cria um objeto para a tela\n",
    "    pygame.init()\n",
    "    screen = pygame.display.set_mode((1200, 800))\n",
    "    pygame.display.set_caption(\"Alien Invasion\")\n",
    "    \n",
    "    # Define a cor de fundo \n",
    "    bg_color = (230, 230, 230)\n",
    "    \n",
    "    # Inicia o laço principal do jogo\n",
    "    while True:\n",
    "        # Observa eventos de teclado e de mouse\n",
    "        for event in pygame.event.get():\n",
    "            if event.type == pygame.QUIT:\n",
    "                sys.exit()  # Encerra o programa quando o usuário fecha a janela\n",
    "        \n",
    "        # Redesenha a tela a cada passagem pelo laço\n",
    "        screen.fill(bg_color)\n",
    "        \n",
    "        # Deixa a tela mais recente visível\n",
    "        pygame.display.flip()\n",
    "\n",
    "# Chama a função para iniciar o jogo\n",
    "run_game()"
   ]
  },
  {
   "cell_type": "markdown",
   "id": "bc1224e5-5b08-4436-8c3d-160ecf36a6a9",
   "metadata": {},
   "source": [
    "**Inicialmente criamos uma cor de fundo e a armazenamos em 'bg_color'. Essa cor deve ser especificada apenas uma vez, portanto definimos seu valor antes de entrar no laço <code>while principal</code>**.\n",
    "\n",
    "As cores no **<code>Pygame</code> são especificadas como cores <code>RGB</code>**: uma mistura de <code>**vermelho, verde e azul**</code>. O valor de cada cor varia de 0 a 255. A cor representada pelo valor **<code>(255, 0, 0) é vermelha</code>, por <code>(0, 255, 0) é verde</code> e por (0, 0, 255) é azul**. Podemos misturar valores RGB para criar 16 milhões de cores. **A <code>**cor**</code> cujo valor é (230, 230, 230) mistura quantidades iguais de <code>vermelho, verde e azul</code>, produzindo uma cor de fundo cinza- claro.** \n",
    "\n",
    "E preenchemos a tela com a cor de fundo usando o método <code>**screen.fill()**</code>, que aceita apenas um argumento: **uma cor.**"
   ]
  },
  {
   "cell_type": "markdown",
   "id": "3eab8cc9-3aac-4e44-bcd3-e80df88d65ab",
   "metadata": {},
   "source": [
    "### Criando uma classe de configurações"
   ]
  },
  {
   "cell_type": "markdown",
   "id": "0605722b-3b97-47b0-9cf7-808bbd507124",
   "metadata": {},
   "source": [
    "Sempre que introduzirmos uma nova funcionalidade em nosso jogo, geralmente incluiremos também algumas configurações novas. **Em vez de acrescentar configurações por todo o código, vamos criar um módulo chamado <code>settings</code> que contenha uma classe de nome <code>settings</code> para armazenar todas as configurações em um só lugar.** Essa abordagem nos permite passar um objeto de configurações pelo código, em vez de passar várias configurações individuais. Além disso, ela deixa nossas chamadas de função mais simples e facilita modificar a aparência do jogo à medida que nosso projeto crescer. **Para modificar o jogo, simplesmente mudaremos alguns valores em <code>'settings.py'</code> em vez de procurar diferentes configurações em nossos arquivos**.\n",
    "\n",
    "Aqui está a classe <code>**Settings**</code> inicial:"
   ]
  },
  {
   "cell_type": "code",
   "execution_count": 7,
   "id": "d36b0696-9d73-4863-9a25-0ddb2d80a229",
   "metadata": {
    "tags": []
   },
   "outputs": [],
   "source": [
    "class Settings():\n",
    "    \"\"\"Uma classe para armazenar todas as configurações da Invasão Alienígena.\"\"\"\n",
    "    def __init__(self):\n",
    "        \"\"\"Inicializa as configurações do jogo.\"\"\"\n",
    "        # Configurações da tela\n",
    "        self.screen_width = 1200\n",
    "        self.screen_height = 800\n",
    "        self.bg_color = (230, 230, 230)"
   ]
  },
  {
   "cell_type": "markdown",
   "id": "8a0674ef-e4c9-46d8-a90a-b3bdfd8a60a8",
   "metadata": {
    "tags": []
   },
   "source": [
    "**Importamos <code>**Settings**</code> no arquivo principal do programa e, em seguida, criamos uma instância de <code>**Settings**</code> e a armazenamos em <code>ai_settings</code> depois de fazer a chamada a <code>pygame.init()</code>. Quando criamos uma tela, usamos os atributos <code>screen_width</code> e <code>screen_height</code> de <code>ai_settings</code> e então usamos <code>ai_settings</code> também para acessar a cor de fundo quando preenchemos a tela.** "
   ]
  },
  {
   "cell_type": "markdown",
   "id": "6f5a955a-6dfe-4506-b8a3-c3bb8f745aad",
   "metadata": {},
   "source": [
    "### Adicionando a imagem de uma espaçonave"
   ]
  },
  {
   "cell_type": "markdown",
   "id": "636c8dbf-a2a2-46ba-b51e-f991e444eb2a",
   "metadata": {},
   "source": [
    "Vamos agora adicionar a espaçonave em nosso jogo. **Para desenhar a espaçonave do jogador na tela, carregaremos uma imagem e usaremos o método <code>blit()</code> do Pygame para desenhá-la**.   \n",
    "**Ao escolher uma imagem artística para seus jogos, preste atenção na licença**. A maneira mais segura e mais barata de começar é usar imagens com licença gratuita de um site como http://pixabay.com/, que possam ser modificadas.\n",
    "\n",
    "**Podemos usar praticamente qualquer tipo de arquivo de imagem no jogo, mas será mais fácil se utilizarmos um arquivo <code>bitmap (.bmp)</code> porque o <code>Pygame</code> carrega bitmaps por padrão**. Embora possamos configurar o <code>**Pygame**</code> para usar outros tipos de arquivo, alguns desses tipos dependem de determinadas bibliotecas de imagens instaladas em seu computador. **(A maioria das imagens que você encontrará estarão nos formatos .jpg, .png ou .gif, mas é possível convertê-las para bitmap usando ferramentas como Photoshop, GIMP e Paint.)**   \n",
    "Em particular, preste atenção na cor de fundo das imagens escolhidas. **Procure encontrar um arquivo com uma cor de fundo transparente, que possa ser substituída por qualquer cor de fundo usando um editor de imagens. Seus jogos terão melhor aparência se a cor de fundo da imagem coincidir com a cor de fundo de seu jogo.** De modo alternativo, podemos fazer a cor de fundo de seu jogo coincidir com a cor de fundo da imagem.\n",
    "\n",
    "Na Invasão Alienígena, podemos usar o arquivo **ship.bmp** (Figura 12.1), disponível nos recursos do livro em https://www.nostarch.com/pythoncrashcourse/. **A cor de fundo do arquivo é igual às configurações usadas neste projeto. Crie uma pasta chamada 'images' na pasta principal de seu projeto (alien_invasion). Salve o arquivo 'ship.bmp' na pasta 'images**."
   ]
  },
  {
   "cell_type": "markdown",
   "id": "593eed81-05d5-486d-b190-4cf04f1d525c",
   "metadata": {},
   "source": [
    "### Criando a **classe <code>Ship</code>**"
   ]
  },
  {
   "cell_type": "markdown",
   "id": "f98c3ad3-0dcb-4030-9ed0-9a638fb7f5de",
   "metadata": {},
   "source": [
    "Depois de escolher uma imagem para a espaçonave, precisamos exibi-la na tela. **Para usar nossa espaçonave, criaremos um módulo chamado <code>'Ship'</code>, que conterá a classe <code>Ship</code>. Essa classe administrará a maior parte do comportamento da espaçonave do jogador.**"
   ]
  },
  {
   "cell_type": "code",
   "execution_count": null,
   "id": "a599d328-4a0f-4472-b438-214e3d2c095c",
   "metadata": {
    "tags": []
   },
   "outputs": [],
   "source": [
    "class Ship():\n",
    "    def __init__(self, screen): \n",
    "        \"\"\"Inicializa a espaçonave e define sua posição inicial.\"\"\"\n",
    "        self.screen = screen\n",
    "        \n",
    "        # Carrega a imagem da espaçonave e obtém seu rect\n",
    "        self.image = pygame.image.load('images/ship.bmp') \n",
    "        self.rect = self.image.get_rect() \n",
    "        self.screen_rect = screen.get_rect()\n",
    "    \n",
    "        # Inicia cada nova espaçonave na parte inferior central da tela x \n",
    "        self.rect.centerx = self.screen_rect.centerx \n",
    "        self.rect.bottom = self.screen_rect.bottom\n",
    "    \n",
    "    def blitme(self): \n",
    "        \"\"\"Desenha a espaçonave em sua posição atual.\"\"\" \n",
    "        self.screen.blit(self.image, self.rect)"
   ]
  },
  {
   "cell_type": "markdown",
   "id": "2dcd9434-4f55-404b-ba59-e081b8e94417",
   "metadata": {},
   "source": [
    "O método <code>**__init__() de Ship**</code> aceita dois parâmetros: **a referência <code>self e screen</code>, que é a tela em que desenharemos a espaçonave. Para carregar a imagem, chamamos <code>pygame.image.load()</code>. Essa função devolve uma superfície que representa a espaçonave; essa informação é armazenada em <code>self.image</code>**.\n",
    "\n",
    "**Depois que a imagem é carregada, usamos <code>get_rect()</code> para acessar o atributo <code>rect da superfície</code>. Um motivo para o <code>Pygame</code> ser tão eficiente é que ele permite tratar elementos do jogo como <code>retângulos (rects)</code>, mesmo que eles não tenham exatamente o formato de um retângulo.** Tratar um elemento como um **retângulo** é eficaz, pois os retângulos são formas geométricas simples. Essa abordagem geralmente funciona bem, a ponto de ninguém que esteja jogando perceba que não estamos trabalhando com a forma exata de cada elemento do jogo.   \n",
    "**Quando trabalhamos com um objeto <code>rect</code>, podemos usar as <code>coordenadas x e y das bordas superior, inferior, esquerda e direita do retângulo, assim como o centro</code>**. Podemos definir qualquer um desses valores a fim de determinar a posição atual do retângulo.\n",
    "\n",
    "**Quando um elemento do jogo for centralizado, trabalhe com os atributos <code>**center, centerx ou centery de um retângulo**</code>. Quando trabalhar com uma borda da tela, use os atributos <code>top, bottom, left ou right</code>. Quando ajustar a posição horizontal ou vertical do retângulo, você pode simplesmente usar os atributos <code>x e y</code>, que correspondem às coordenadas <code>x e y</code> de seu canto superior esquerdo**. Esses atributos evitam que você precise fazer cálculos que os desenvolvedores de jogos tinham que efetuar manualmente no passado, e você perceberá que usará esses atributos com frequência.\n"
   ]
  },
  {
   "cell_type": "markdown",
   "id": "5202dfd1-e189-485d-9361-4bb7e8bfd097",
   "metadata": {},
   "source": [
    "**NOTA**    \n",
    "**No <code>Pygame</code>, a origem <code>(0, 0)</code> está no canto superior esquerdo da tela, e as coordenadas aumentam à medida que você descer e se deslocar para a direita. Em <code>uma tela de 1200 por 800</code>, a origem está no canto superior esquerdo, e o canto inferior direito tem as coordenadas <code>(1200, 800)</code>**.\n",
    "\n",
    "**Posicionaremos a espaçonave na parte inferior central da tela**. Para isso, **inicialmente armazene o retângulo da tela em <code>self.screen_rect</code> e, em seguida, faça o valor de <code>self.rect.centerx (a coordenada x do centro da espaçonave)</code> coincidir com o atributo <code>centerx do retângulo da tela x</code>. Faça com que o valor de <code>self.rect.bottom (a coordenada y da parte inferior da espaçonave)</code> seja igual ao valor do atributo bottom do retângulo da tela**. O <code>**Pygame**</code> usará esses atributos <code>**rect**</code> para posicionar a imagem da espaçonave de modo que ela esteja centralizada horizontalmente e alinhada com a parte inferior da tela.\n",
    "\n",
    "Definimos o método <code>**blitme()**</code>, que desenhará a imagem na tela na posição especificada por <code>**self.rect**</code>."
   ]
  },
  {
   "cell_type": "markdown",
   "id": "5c6ac3d7-25ad-4599-b9c1-88776a772d13",
   "metadata": {},
   "source": [
    "### Desenhando a espaçonave na tela"
   ]
  },
  {
   "cell_type": "markdown",
   "id": "a2910782-626b-4349-87b2-78ab85ff8930",
   "metadata": {
    "tags": []
   },
   "source": [
    "Vamos agora atualizar **'alien_invasion.py'** para criar uma espaçonave e chamar o seu método <code>**blitme()**</code>:"
   ]
  },
  {
   "cell_type": "code",
   "execution_count": null,
   "id": "fa691d9e-b151-4087-8bfa-e61cc72e6ef0",
   "metadata": {
    "tags": []
   },
   "outputs": [
    {
     "name": "stdout",
     "output_type": "stream",
     "text": [
      "pygame 2.6.1.dev1 (SDL 2.30.5, Python 3.11.5)\n",
      "Hello from the pygame community. https://www.pygame.org/contribute.html\n"
     ]
    }
   ],
   "source": [
    "import pygame\n",
    "import sys  # Importa o módulo sys, que é necessário para sys.exit()\n",
    "from settings import Settings\n",
    "from ship import Ship\n",
    "\n",
    "def run_game():\n",
    "    # Inicializa o jogo e cria um objeto para a tela\n",
    "    pygame.init()\n",
    "    ai_settings = Settings() \n",
    "    screen = pygame.display.set_mode((ai_settings.screen_width, ai_settings.screen_height))\n",
    "    pygame.display.set_caption(\"Alien Invasion\")\n",
    "    \n",
    "    # Cria uma espaçonave\n",
    "    ship = Ship(screen)\n",
    "    \n",
    "    # Inicia o laço principal do jogo\n",
    "    while True:\n",
    "        # Observa eventos de teclado e de mouse\n",
    "        for event in pygame.event.get():\n",
    "            if event.type == pygame.QUIT:\n",
    "                sys.exit()  # Encerra o programa quando o usuário fecha a janela\n",
    "        \n",
    "        # Redesenha a tela a cada passagem pelo laço\n",
    "        screen.fill(ai_settings.bg_color)\n",
    "        ship.blitme()\n",
    "        \n",
    "        # Deixa a tela mais recente visível\n",
    "        pygame.display.flip()\n",
    "\n",
    "# Chama a função para iniciar o jogo\n",
    "run_game()"
   ]
  },
  {
   "cell_type": "markdown",
   "id": "87bb398c-5cd6-4225-9549-f97298036791",
   "metadata": {
    "tags": []
   },
   "source": [
    "### Refatoração: o módulo <code>**game_functions**</code>\n"
   ]
  },
  {
   "cell_type": "markdown",
   "id": "c180297f-e36c-4e97-a366-adf2af61f630",
   "metadata": {},
   "source": [
    "Em projetos maiores, com frequência, você vai refatorar códigos já escritos antes de adicionar novos códigos. A **<code>refatoração</code> simplifica a estrutura do código que você já escreveu, facilitando expandi-lo**. Nesta seção criaremos um novo módulo chamado **<code>'game_functions'</code>, no qual armazenaremos várias funções que farão a Invasão Alienígena executar**. O módulo <code>**'game_functions'**</code> evitará que alien_invasion.py fique longo demais e deixará sua lógica mais fácil de compreender."
   ]
  },
  {
   "cell_type": "markdown",
   "id": "1b32309d-3f50-419a-882e-fe5b9b6bb7f2",
   "metadata": {},
   "source": [
    "### Função <code>**check_events()**</code>"
   ]
  },
  {
   "cell_type": "markdown",
   "id": "9fa6ba78-14b4-4063-95b8-193171b12cf6",
   "metadata": {},
   "source": [
    "Começaremos transferindo o código que administra eventos para uma função separada chamada <code>**check_events()**</code>. **Isso simplificará <code>run_game()</code> e isolará o laço de gerenciamento de eventos. Isolar o laço de eventos permite administrar os eventos de forma separada de outros aspectos do jogo, por exemplo, da atualização da tela**.\n",
    "Coloque <code>**check_events()**</code> em um módulo separado chamado <code>**'game_functions'**</code>:"
   ]
  },
  {
   "cell_type": "code",
   "execution_count": null,
   "id": "1cb17ce8-479a-4df5-a95f-e2a0c14b90fe",
   "metadata": {},
   "outputs": [],
   "source": [
    "import sys\n",
    "import pygame\n",
    "\n",
    "def check_events():\n",
    "    \"\"\"Responde a eventos de pressionamento de teclas e de mouse.\"\"\" \n",
    "    for event in pygame.event.get(): \n",
    "        if event.type == pygame.QUIT:\n",
    "            sys.exit()"
   ]
  },
  {
   "cell_type": "markdown",
   "id": "eb37fec3-fe07-470c-9c7f-6784a20f0f27",
   "metadata": {},
   "source": [
    "Vamos agora modificar <code>**'alien_invasion.py'**</code> para que importe o módulo <code>**'game_functions'**</code>, e substituiremos o laço de eventos por uma chamada a <code>**check_events()**</code>:"
   ]
  },
  {
   "cell_type": "code",
   "execution_count": null,
   "id": "e91708b5-184b-492a-803f-115c09fad3ad",
   "metadata": {},
   "outputs": [],
   "source": [
    "import pygame\n",
    "from settings import Settings \n",
    "from ship import Ship\n",
    "import game_functions as gf\n",
    "\n",
    "\n",
    "def run_game(): --trecho omitido--\n",
    "\n",
    "# Inicia o laço principal do jogo \n",
    "while True: gf.check_events()\n",
    "# Redesenha a tela a cada passagem pelo laço \n",
    "--trecho omitido--"
   ]
  },
  {
   "cell_type": "markdown",
   "id": "a85d1307-27a1-4049-95c7-e95236e169a9",
   "metadata": {},
   "source": [
    "**Não precisamos mais importar <code>sys</code> diretamente no arquivo principal do programa, pois ele é usado apenas no módulo <code>game_functions</code> agora. Atribuímos o alias <code>gf</code> ao módulo importado <code>game_functions</code> para simplificar.**\n"
   ]
  },
  {
   "cell_type": "markdown",
   "id": "6593ba95-56c1-4ba0-ba15-9652daee823a",
   "metadata": {},
   "source": [
    "### Função <code>**update_screen()**</code>"
   ]
  },
  {
   "cell_type": "markdown",
   "id": "299ea85a-cf5b-4d1b-b0bd-44fa13cd893d",
   "metadata": {},
   "source": [
    "Vamos transferir o código de atualização da tela para uma função separada de nome <code>**update_screen()**</code> em **'game_functions.py'** para simplificar mais a função <code>**run_game()**</code>:"
   ]
  },
  {
   "cell_type": "code",
   "execution_count": null,
   "id": "6866fd66-e07f-45b0-a791-03583919e8d8",
   "metadata": {},
   "outputs": [
    {
     "name": "stdout",
     "output_type": "stream",
     "text": [
      "pygame 2.6.1.dev1 (SDL 2.30.5, Python 3.11.5)\n",
      "Hello from the pygame community. https://www.pygame.org/contribute.html\n"
     ]
    }
   ],
   "source": [
    "import pygame\n",
    "from settings import Settings\n",
    "from ship import Ship\n",
    "import game_functions as gf\n",
    "\n",
    "\n",
    "def run_game():\n",
    "    # Inicializa o jogo e cria um objeto para a tela\n",
    "    pygame.init()\n",
    "    ai_settings = Settings() \n",
    "    screen = pygame.display.set_mode((ai_settings.screen_width, ai_settings.screen_height))\n",
    "    pygame.display.set_caption(\"Alien Invasion\")\n",
    "    \n",
    "    # Define a cor de fundo \n",
    "    bg_color = (230, 230, 230)\n",
    "    \n",
    "    # Cria uma espaçonave\n",
    "    ship = Ship(screen)\n",
    "    \n",
    "    # Inicia o laço principal do jogo\n",
    "    while True:\n",
    "        gf.check_events()\n",
    "        gf.update_screen(ai_settings, screen, ship)\n",
    "        \n",
    "        # Redesenha a tela a cada passagem pelo laço\n",
    "        screen.fill(ai_settings.bg_color)\n",
    "        ship.blitme()\n",
    "        \n",
    "        # Deixa a tela mais recente visível\n",
    "        pygame.display.flip()\n",
    "\n",
    "# Chama a função para iniciar o jogo\n",
    "run_game()"
   ]
  },
  {
   "cell_type": "markdown",
   "id": "3dd746fe-11cd-4efc-8500-48bf42753050",
   "metadata": {},
   "source": [
    "Como queríamos começar a trabalhar com o código em um único arquivo, não havíamos introduzido o módulo **'game_functions'** de imediato. **Essa abordagem dá uma ideia de um processo realista de desenvolvimento: comece escrevendo seu código do modo mais simples possível e refatore à medida que seu projeto se tornar mais complexo.\n",
    "Agora que o nosso código está reestruturado de modo a facilitar a adição de novos códigos, podemos trabalhar com os aspectos dinâmicos do jogo!**"
   ]
  },
  {
   "cell_type": "markdown",
   "id": "ef71b110-f873-41ee-9de0-60188194aa96",
   "metadata": {},
   "source": [
    "## **FAÇA VOCÊ MESMO**"
   ]
  },
  {
   "cell_type": "markdown",
   "id": "23b575a3-7abd-477f-aabf-6805bf609519",
   "metadata": {},
   "source": [
    "**12.1 – Céu azul:** Crie uma janela do **Pygame** com uma cor de fundo azul."
   ]
  },
  {
   "cell_type": "code",
   "execution_count": null,
   "id": "e17fe6f5-0dc6-4a96-92e4-2b6fe09d8bf1",
   "metadata": {},
   "outputs": [
    {
     "name": "stdout",
     "output_type": "stream",
     "text": [
      "pygame 2.6.1.dev1 (SDL 2.30.5, Python 3.11.5)\n",
      "Hello from the pygame community. https://www.pygame.org/contribute.html\n"
     ]
    }
   ],
   "source": [
    "import pygame\n",
    "import sys\n",
    "\n",
    "def run_game():\n",
    "    # Inicializa o Pygame e cria um objeto para a tela\n",
    "    pygame.init()\n",
    "    screen_width = 1200\n",
    "    screen_height = 800\n",
    "    screen = pygame.display.set_mode((screen_width, screen_height))\n",
    "    pygame.display.set_caption(\"Céu Azul\")\n",
    "    \n",
    "    # Define a cor de fundo (azul)\n",
    "    bg_color = (135, 206, 250)  # Azul claro (Sky Blue)\n",
    "    \n",
    "    # Inicia o laço principal do jogo\n",
    "    while True:\n",
    "        # Observa eventos de teclado e de mouse\n",
    "        for event in pygame.event.get():\n",
    "            if event.type == pygame.QUIT:\n",
    "                pygame.quit()\n",
    "                sys.exit()\n",
    "        \n",
    "        # Redesenha a tela a cada passagem pelo laço\n",
    "        screen.fill(bg_color)\n",
    "        \n",
    "        # Deixa a tela mais recente visível\n",
    "        pygame.display.flip()\n",
    "\n",
    "# Chama a função para iniciar o jogo\n",
    "run_game()"
   ]
  },
  {
   "cell_type": "markdown",
   "id": "e71e67e8-8b76-407c-bc88-04232c490c81",
   "metadata": {},
   "source": [
    "**12.2 – Personagem do jogo:** Encontre uma imagem de bitmap de um personagem de jogo que você goste ou converta uma imagem em um bitmap. Crie uma classe que desenhe o personagem no centro da tela e faça a cor de fundo da imagem coincidir com a cor de fundo da tela ou vice-versa.\n"
   ]
  },
  {
   "cell_type": "code",
   "execution_count": null,
   "id": "1df79256-07ef-4875-87ac-92d3158f7a33",
   "metadata": {
    "tags": []
   },
   "outputs": [
    {
     "name": "stdout",
     "output_type": "stream",
     "text": [
      "pygame 2.6.1.dev1 (SDL 2.30.5, Python 3.11.5)\n",
      "Hello from the pygame community. https://www.pygame.org/contribute.html\n"
     ]
    }
   ],
   "source": [
    "import pygame\n",
    "import sys\n",
    "from settings import Settings\n",
    "from character import Character\n",
    "\n",
    "def run_game():\n",
    "    # Inicializa o Pygame e cria um objeto para a tela\n",
    "    pygame.init()\n",
    "    ai_settings = Settings() \n",
    "    screen = pygame.display.set_mode((ai_settings.screen_width, ai_settings.screen_height))\n",
    "    pygame.display.set_caption(\"Alien Invasion\")\n",
    "    \n",
    "    # Cria uma instância do personagem\n",
    "    character = Character(screen)\n",
    "    \n",
    "    # Inicia o laço principal do jogo\n",
    "    while True:\n",
    "        # Observa eventos de teclado e de mouse\n",
    "        for event in pygame.event.get():\n",
    "            if event.type == pygame.QUIT:\n",
    "                pygame.quit()\n",
    "                sys.exit()\n",
    "        \n",
    "        # Redesenha a tela a cada passagem pelo laço\n",
    "        screen.fill(ai_settings.bg_color)\n",
    "        character.blitme()\n",
    "        \n",
    "        # Deixa a tela mais recente visível\n",
    "        pygame.display.flip()\n",
    "\n",
    "# Chama a função para iniciar o jogo\n",
    "run_game()"
   ]
  },
  {
   "cell_type": "markdown",
   "id": "03050455-f9c1-41c5-8572-e6f0629e979a",
   "metadata": {
    "tags": []
   },
   "source": [
    "****"
   ]
  },
  {
   "cell_type": "markdown",
   "id": "5a21492a-3cab-49b8-85d9-775ab077c696",
   "metadata": {},
   "source": [
    "## **Pilotando a espaçonave**"
   ]
  },
  {
   "cell_type": "markdown",
   "id": "415413b4-2621-48bc-a38f-11f36a7b22fe",
   "metadata": {},
   "source": [
    "Vamos dar ao jogador a capacidade de mover a espaçonave para a <code>**direita e para a esquerda**</code>. **Para isso, escreveremos um código que responda quando o jogador pressionar a <code>seta direita e para a esquerda</code>. Vamos nos concentrar no movimento para a direita antes e então aplicaremos os mesmos princípios para controlar o movimento para a esquerda**. Ao fazer isso, você aprenderá a controlar o movimento das imagens na tela."
   ]
  },
  {
   "cell_type": "markdown",
   "id": "c72b4de7-1736-4756-a69f-4551b8b0c7c8",
   "metadata": {},
   "source": [
    "### Respondendo a um <code>**pressionamento de tecla**</code>"
   ]
  },
  {
   "cell_type": "markdown",
   "id": "b3f18cf0-6159-4ccd-898e-ed5a02f1cf8b",
   "metadata": {},
   "source": [
    "Sempre que o jogador pressionar uma tecla, esse pressionamento será registrado no <code>**Pygame**</code> como um evento. **Todo evento é capturado pelo método <code>pygame.event.get()</code>, portanto precisamos especificar quais são os tipos de eventos que queremos verificar em nossa função <code>check_events()</code>. Todo pressionamento de tecla é registrado como um evento <code>KEYDOWN</code>. \n",
    "Quando um evento <code>KEYDOWN</code> é detectado, devemos verificar se a tecla pressionada dispara um determinado evento.** Por exemplo, **se a seta para a direita for pressionada, aumentamos o valor de <code>rect.centerx</code> da espaçonave para movê-la para a direita**:\n"
   ]
  },
  {
   "cell_type": "code",
   "execution_count": 15,
   "id": "27dbf8a8-2e9e-4a68-82b4-945842f405fc",
   "metadata": {
    "tags": []
   },
   "outputs": [],
   "source": [
    "def check_events(ship):\n",
    "    \"\"\"Responde a eventos de pressionamento de teclas e de mouse.\"\"\"\n",
    "    for event in pygame.event.get(): \n",
    "        if event.type == pygame.QUIT: \n",
    "            sys.exit()\n",
    "\n",
    "        elif event.type == pygame.KEYDOWN: \n",
    "            if event.key == pygame.K_RIGHT: # Move a espaçonave para a direita\n",
    "                ship.rect.centerx += 1\n"
   ]
  },
  {
   "cell_type": "markdown",
   "id": "9690f823-d8af-4918-affe-68609eba1340",
   "metadata": {
    "tags": []
   },
   "source": [
    "Fornecemos um parâmetro <code>**ship à função check_events()**</code> porque a nave deve se deslocar para a direita quando a tecla para a direita for pressionada. Em **<code>check_events()</code>, acrescentamos um bloco <code>elif</code> no laço de eventos para responder quando o <code>Pygame</code> detectar um evento <code>KEYDOWN</code>. Verificamos se a tecla pressionada é a seta para a direita <code>(pygame.K_RIGHT)</code> lendo o atributo <code>event.key</code>**. Se a seta para a direita foi pressionada, movemos a espaçonave para a direita incrementando o valor de <code>**ship.rect.centerx de 1**</code>.\n",
    "\n",
    "Precisamos atualizar a chamada a <code>**check_events()**</code> em **'alien_invasion.py'** para que <code>**ship**</code> seja passado como argumento. **Se 'alien_invasion.py' for executado agora, devemos ver a nave mover-se para a direita em um pixel sempre que a seta para a direita for pressionada. É um começo, mas não é um modo eficiente de controlar a espaçonave**. Vamos melhorar esse controle para permitir um movimento contínuo."
   ]
  },
  {
   "cell_type": "markdown",
   "id": "656c6540-c408-4977-b859-eb7631b4a424",
   "metadata": {
    "tags": []
   },
   "source": [
    "### Permitindo um movimento contínuo"
   ]
  },
  {
   "cell_type": "markdown",
   "id": "75b67525-3281-479b-8496-4561ea3e86eb",
   "metadata": {},
   "source": [
    "Quando o jogador manter a seta para a direita pressionada, queremos que a espaçonave continue a se mover para a direita até o jogador soltar a tecla. **Faremos nosso jogo detectar um evento <code>pygame.KEYUP</code> para que possamos saber quando a seta para a direita foi solta**; então usaremos os eventos **<code>KEYDOWN e KEYUP</code>** juntamente com uma **<code>flag</code>** chamada **'moving_right'** para implementar o movimento contínuo.   \n",
    "**Quando a espaçonave estiver parada, a flag 'moving_right' será <code>False</code>. Quando a seta para a direita for pressionada, definiremos a <code>flag</code> com <code>True</code>**; quando essa tecla for solta, definiremos a <code>**flag**</code> com <code>**False**</code> novamente.\n",
    "\n",
    "A **classe <code>Ship</code> controla todos os atributos da espaçonave**, portanto lhe daremos um atributo chamado **'moving_right' e um método <code>update()</code> para verificar o status da <code>flag 'moving_right'</code>. O método <code>update()</code> mudará a posição da espaçonave se a <code>**flag**</code> estiver definida com <code>True</code>**. Chamaremos esse método sempre que quisermos atualizar a posição da espaçonave.\n",
    "\n",
    "Eis as mudanças feitas na classe <code>**Ship**</code>:"
   ]
  },
  {
   "cell_type": "code",
   "execution_count": null,
   "id": "4868a978-c5f1-4ba2-9d32-5efa291e0c1a",
   "metadata": {
    "tags": []
   },
   "outputs": [],
   "source": [
    "class Ship(): \n",
    "    def __init__(self, screen): \n",
    "        --trecho omitido--\n",
    "        # Inicia cada nova espaçonave na parte inferior central da tela\n",
    "        self.rect.centerx = self.screen_rect.centerx \n",
    "        self.rect.bottom = self.screen_rect.bottom\n",
    "        \n",
    "        # Flag de movimento\n",
    "        self.moving_right = False\n",
    "\n",
    "    def update(self): \n",
    "        \"\"\"Atualiza a posição da espaçonave de acordo com a flag de movimento.\"\"\"\n",
    "        if self.moving_right: \n",
    "            self.rect.centerx += 1\n",
    "        \n",
    "    def blitme(self): --trecho omitido--"
   ]
  },
  {
   "cell_type": "markdown",
   "id": "9977fd2a-062a-413d-a299-bdc59389b212",
   "metadata": {},
   "source": [
    "**Adicionamos um atributo <code>self.moving_right</code> no método <code>__init__()</code> e o definimos com <code>False</code> inicialmente. Então acrescentamos <code>update()</code>, que move a espaçonave para a direita se a <code>flag for True</code>.**\n",
    "\n",
    "**Agora modifique <code>check_events()</code> para que 'moving_right' seja definido com <code>True</code> quando a seta para a direita for pressionada e com <code>False</code> quando essa tecla for solta**:"
   ]
  },
  {
   "cell_type": "code",
   "execution_count": 61,
   "id": "7f2aec66-0a26-4f21-b5ef-0bca6c78efe9",
   "metadata": {
    "tags": []
   },
   "outputs": [],
   "source": [
    "def check_events(ship): \n",
    "    \"\"\"Responde a eventos de pressionamento de teclas e de mouse.\"\"\"\n",
    "        \n",
    "    for event in pygame.event.get():\n",
    "        if event.type == pygame.QUIT:\n",
    "            sys.exit()  # Encerra o programa quando o usuário fecha a janela\n",
    "        \n",
    "        elif event.type == pygame.KEYDOWN: \n",
    "            if event.key == pygame.K_RIGHT: \n",
    "                ship.moving_right = True\n",
    "                \n",
    "        elif event.type == pygame.KEYUP: \n",
    "            if event.key == pygame.K_RIGHT: \n",
    "                ship.moving_right = False"
   ]
  },
  {
   "cell_type": "markdown",
   "id": "f97212ff-6aec-44bc-8270-d6acd982b2bd",
   "metadata": {},
   "source": [
    "Por fim, **modificamos o laço <code>while</code> em alien_invasion.py para que o método <code>update()</code> da espaçonave seja chamado a cada passagem pelo laço: alien_invasion.py**"
   ]
  },
  {
   "cell_type": "code",
   "execution_count": null,
   "id": "d85ff8b6-98de-4cf6-a38c-b4f3647e7735",
   "metadata": {
    "tags": []
   },
   "outputs": [],
   "source": [
    "alien_invasion.py \n",
    "\n",
    "# Inicia o laço principal do jogo \n",
    "while True: \n",
    "    gf.check_events(ship) \n",
    "    ship.update()\n",
    "    gf.update_screen(ai_settings, screen, ship)"
   ]
  },
  {
   "cell_type": "markdown",
   "id": "f5c9296c-39e1-48fa-8744-54c3b533ad24",
   "metadata": {},
   "source": [
    "A posição da espaçonave será atualizada depois que verificarmos os eventos de teclado e antes de atualizarmos a tela. **Isso permite que a posição da nave seja atualizada em resposta a uma entrada do jogador e garante que a posição atualizada seja usada quando a espaçonave for desenhada na tela**.   \n",
    "Ao executar **'alien_invasion.py'** e manter a seta para a direita pressionada, a espaçonave deverá mover-se continuamente para a direita até que a tecla seja solta."
   ]
  },
  {
   "cell_type": "markdown",
   "id": "d1bf8fa3-3439-405d-8557-57b39169559b",
   "metadata": {},
   "source": [
    "### Movendo tanto para a esquerda quanto para a direita"
   ]
  },
  {
   "cell_type": "markdown",
   "id": "3f5bd742-4eea-442b-8816-91fc64b30964",
   "metadata": {
    "tags": []
   },
   "source": [
    "Agora que a espaçonave é capaz de se mover continuamente para a direita, adicionar um movimento para a esquerda é fácil. **Modificaremos novamente a classe <code>Ship</code> e a função <code>check_events()</code>**. A seguir, apresentamos as alterações relevantes em <code>__init__()</code> e em <code>**update()**</code> na classe <code>**Ship**</code>:"
   ]
  },
  {
   "cell_type": "code",
   "execution_count": null,
   "id": "6f4a4bad-ccfc-4d20-90e5-ab1cc3d4a438",
   "metadata": {},
   "outputs": [],
   "source": [
    "#ship.py \n",
    "\n",
    "def __init__(self, screen): \n",
    "    --trecho omitido-- \n",
    "    # Flags de movimento \n",
    "    self.moving_right = False \n",
    "    self.moving_left = False \n",
    "    \n",
    "def update(self): \n",
    "    \"\"\"Atualiza a posição da espaçonave de acordo com as flags de movimento.\"\"\"\n",
    "    if self.moving_right: self.rect.centerx += 1\n",
    "    if self.moving_left: self.rect.centerx -= 1"
   ]
  },
  {
   "cell_type": "markdown",
   "id": "48bc0113-6119-4aeb-8cee-713655a06895",
   "metadata": {},
   "source": [
    "Em <code>__init__()</code>, **acrescentamos uma <code>flag self.moving_left</code>. Em <code>update()</code> usamos dois blocos <code>if</code> separados em vez de utilizar um <code>elif em update()</code> para permitir que o valor <code>rect.centerx</code> da espaçonave seja incrementado e então decrementado se as duas teclas de direção forem mantidas pressionadas**. Isso resulta na espaçonave parada. Se usássemos <code>**elif**</code> para o movimento à esquerda, a seta para a direita sempre teria prioridade. Fazer isso dessa maneira deixa os movimentos mais precisos ao alternamos o movimento da esquerda para a direita, quando o jogador poderia momentaneamente manter as duas teclas pressionadas.\n",
    "\n",
    "Precisamos fazer dois ajustes em <code>**check_events()**</code>:"
   ]
  },
  {
   "cell_type": "code",
   "execution_count": 26,
   "id": "599b700a-749d-4036-a840-634bdbc9fc65",
   "metadata": {
    "tags": []
   },
   "outputs": [],
   "source": [
    "#game_functions.py \n",
    "\n",
    "def check_events(ship):\n",
    "    \"\"\"Responde a eventos de pressionamento de teclas e de mouse.\"\"\" \n",
    "    # Observa eventos de teclado e de mouse\n",
    "    for event in pygame.event.get():\n",
    "        if event.type == pygame.QUIT:\n",
    "            sys.exit()  # Encerra o programa quando o usuário fecha a janela\n",
    "    \n",
    "        elif event.type == pygame.KEYDOWN: \n",
    "            if event.key == pygame.K_RIGHT: # Move a espaçonave para a direita\n",
    "                ship.moving_right = True\n",
    "                \n",
    "            elif event.key == pygame.K_LEFT:\n",
    "                ship.moving_left = True\n",
    "\n",
    "        elif event.type == pygame.KEYUP: \n",
    "            if event.key == pygame.K_RIGHT: \n",
    "                ship.moving_right = False\n",
    "                \n",
    "            elif event.key == pygame.K_LEFT: \n",
    "                ship.moving_left = False "
   ]
  },
  {
   "cell_type": "markdown",
   "id": "c5fdfd6d-7516-4669-9508-9d50d2a23bb5",
   "metadata": {
    "tags": []
   },
   "source": [
    "**Se 'alien_invasion.py' for executado agora, você deverá ser capaz de mover a espaçonave continuamente para a direita e para a esquerda. Se mantiver as duas teclas pressionadas, a espaçonave deverá parar de se mover.**\n",
    "\n",
    "Em seguida, aperfeiçoaremos o movimento da espaçonave. **Vamos ajustar a velocidade dela e limitar a distância que a espaçonave pode percorrer para que ela não desapareça nas laterais da tela.**"
   ]
  },
  {
   "cell_type": "markdown",
   "id": "030c7a5d-1913-45e2-a5a5-98c661ca03c6",
   "metadata": {},
   "source": [
    "### Ajustando a velocidade da espaçonave"
   ]
  },
  {
   "cell_type": "markdown",
   "id": "5d718e03-9ec7-44eb-b77f-78a9934cab8f",
   "metadata": {},
   "source": [
    "No momento, a espaçonave se desloca de um pixel por ciclo do laço <code>**while**</code>, mas podemos ter um controle mais minucioso da velocidade da espaçonave acrescentando um atributo <code>**hip_speed_factor na classe Settings**</code>. **Usaremos esse atributo para determinar a distância com que a espaçonave se deslocará a cada passagem pelo laço**. Eis o novo atributo em **'settings.py'**:"
   ]
  },
  {
   "cell_type": "code",
   "execution_count": 12,
   "id": "bf48fe56-a62b-41f5-aa2c-a69d8b247d52",
   "metadata": {
    "tags": []
   },
   "outputs": [],
   "source": [
    "#settings.py\n",
    "\n",
    "class Settings(): \n",
    "    \"\"\"Uma classe para armazenar todas as configurações da Invasão Alienígena.\"\"\"\n",
    "    def __init__(self): \n",
    "        \"\"\"Inicializa as configurações do jogo.\"\"\"\n",
    "        # Configurações da tela\n",
    "        self.screen_width = 1200\n",
    "        self.screen_height = 800\n",
    "        self.bg_color = (230, 230, 230)\n",
    "        \n",
    "        # Configurações da espaçonave  \n",
    "        self.ship_speed_factor = 1.5"
   ]
  },
  {
   "cell_type": "markdown",
   "id": "1a735bf1-4cc8-4986-ad18-08bc2ac5be63",
   "metadata": {},
   "source": [
    "Definimos o valor inicial de <code>**ship_speed_factor com 1.5**</code>. **Quando quisermos mover a espaçonave, ajustaremos sua posição em 1,5 pixel, e não em 1 pixel.  \n",
    "Usamos valores decimais para a configuração da velocidade para que possamos ter um controle mais preciso da velocidade da espaçonave quando aumentarmos o ritmo do jogo mais tarde**. No entanto, **os atributos de <code>retângulo como centerx</code> armazenam apenas valores inteiros**, portanto precisamos fazer algumas modificações em <code>**Ship**</code>:"
   ]
  },
  {
   "cell_type": "code",
   "execution_count": 19,
   "id": "ddb64fc8-7d57-4057-989c-44f758e9defc",
   "metadata": {
    "tags": []
   },
   "outputs": [
    {
     "name": "stdout",
     "output_type": "stream",
     "text": [
      "pygame 2.6.1.dev1 (SDL 2.30.5, Python 3.11.5)\n",
      "Hello from the pygame community. https://www.pygame.org/contribute.html\n"
     ]
    }
   ],
   "source": [
    "import pygame\n",
    "\n",
    "class Ship():\n",
    "    def __init__(self, ai_settings, screen):\n",
    "        \"\"\"Inicializa a espaçonave e define sua posição inicial.\"\"\"\n",
    "        self.screen = screen\n",
    "        self.ai_settings = ai_settings\n",
    "        \n",
    "        # Carrega a imagem da espaçonave e obtém seu rect\n",
    "        self.image = pygame.image.load('imagens/ship0.bmp')\n",
    "        self.image.set_colorkey((255, 255, 255)) # Define a cor de fundo da imagem para transparente (caso necessário)\n",
    "        self.rect = self.image.get_rect()\n",
    "        self.screen_rect = screen.get_rect()\n",
    "        \n",
    "        # Inicia cada nova espaçonave na parte inferior central da tela\n",
    "        self.rect.centerx = self.screen_rect.centerx\n",
    "        self.rect.bottom = self.screen_rect.bottom\n",
    "    \n",
    "        # Armazena um valor decimal para o centro da espaçonave \n",
    "        self.center = float(self.rect.centerx)\n",
    "    \n",
    "         # Flag de movimento\n",
    "        self.moving_right = False\n",
    "        self.moving_left = False\n",
    "\n",
    "    def update(self): \n",
    "        \"\"\"Atualiza a posição da espaçonave de acordo com a flag de movimento.\"\"\"\n",
    "        # Atualiza o valor do centro da espaçonave, e não o retângulo\n",
    "        if self.moving_right: \n",
    "            self.center += self.ai_settings.ship_speed_factor\n",
    "            \n",
    "        if self.moving_left: \n",
    "            self.center -= self.ai_settings.ship_speed_factor\n",
    "            \n",
    "        # Atualiza o objeto rect de acordo com self.center\n",
    "        self.rect.centerx = self.center\n",
    "\n",
    "    \n",
    "    def blitme(self):\n",
    "        \"\"\"Desenha a espaçonave em sua posição atual.\"\"\"\n",
    "        self.screen.blit(self.image, self.rect)\n",
    "        "
   ]
  },
  {
   "cell_type": "markdown",
   "id": "9234c8aa-4c1e-4d0f-8ae8-6b00549c7231",
   "metadata": {},
   "source": [
    "**Adicionamos <code>ai_settings à lista de parâmetros de __init__()</code> para que a espaçonave tenha acesso à sua configuração de velocidade. Então transformamos o parâmetro <code>ai_settings</code> em um atributo para que possamos usá-lo em <code>update()</code>**. Agora que estamos ajustando a posição da espaçonave em frações de um pixel, precisamos armazenar a posição em uma variável capaz de armazenar um valor decimal. Você pode usar um valor decimal para definir um atributo de <code>**rect**</code>, mas <code>**rect**</code> armazenará apenas a parte inteira desse valor. **Para armazenar a posição da espaçonave de forma precisa, definimos um novo atributo <code>self.center</code>, capaz de armazenar valores decimais. Usamos a função <code>float()</code> para converter o valor de <code>self.rect.centerx</code> em um decimal e armazenamos esse valor em <code>self.center</code>**. \n",
    "\n",
    "Agora, **quando alterarmos a posição da espaçonave em <code>update()</code>, o valor de <code>self.center</code> será ajustado de acordo com a quantidade armazenada em <code>ai_settings.ship_speed_factor</code>. Depois que <code>self.center</code> é atualizado, usamos o novo valor para atualizar <code>self.rect.centerx</code>, que controla a posição da espaçonave**. Somente a parte inteira de <code>**self.center**</code> será armazenada em <code>**self.rect.centerx**</code>, mas isso não é um problema para exibir a espaçonave.\n",
    "\n",
    "Devemos passar <code>**ai_settings**</code> como argumento quando criarmos uma instância de <code>**Ship**</code> em **'alien_invasion.py'**:"
   ]
  },
  {
   "cell_type": "code",
   "execution_count": null,
   "id": "b0972c31-b1ee-49ce-a596-bcefa7b3e6cc",
   "metadata": {
    "tags": []
   },
   "outputs": [
    {
     "name": "stdout",
     "output_type": "stream",
     "text": [
      "pygame 2.6.1.dev1 (SDL 2.30.5, Python 3.11.5)\n",
      "Hello from the pygame community. https://www.pygame.org/contribute.html\n"
     ]
    }
   ],
   "source": [
    "import pygame\n",
    "from settings import Settings\n",
    "from ship import Ship\n",
    "import game_functions as gf\n",
    "\n",
    "\n",
    "def run_game():\n",
    "    # Inicializa o jogo e cria um objeto para a tela\n",
    "    pygame.init()\n",
    "    ai_settings = Settings() \n",
    "    screen = pygame.display.set_mode((ai_settings.screen_width, ai_settings.screen_height))\n",
    "    pygame.display.set_caption(\"Alien Invasion\")\n",
    "    \n",
    "    # Define a cor de fundo \n",
    "    bg_color = (230, 230, 230)\n",
    "    \n",
    "    # Cria uma espaçonave\n",
    "    ship = Ship(ai_settings, screen)\n",
    "    \n",
    "    # Inicia o laço principal do jogo\n",
    "    while True:\n",
    "        gf.check_events(ship)\n",
    "        ship.update()\n",
    "        gf.update_screen(ai_settings, screen, ship)\n",
    "        \n",
    "        # Redesenha a tela a cada passagem pelo laço\n",
    "        screen.fill(ai_settings.bg_color)\n",
    "        ship.blitme()\n",
    "        \n",
    "        # Deixa a tela mais recente visível\n",
    "        pygame.display.flip()\n",
    "\n",
    "# Chama a função para iniciar o jogo\n",
    "run_game()"
   ]
  },
  {
   "cell_type": "markdown",
   "id": "dab2262e-a915-4cc3-b39b-212488b975ff",
   "metadata": {},
   "source": [
    "**Agora qualquer valor de <code>ship_speed_factor</code> maior que um fará a espaçonave se deslocar mais rapidamente**. Isso será útil para fazer com que a espaçonave responda rápido o suficiente para atingir os alienígenas, e nos permitirá mudar o ritmo do jogo à medida que o jogador fizer progressos no <code>**gameplay**</code>."
   ]
  },
  {
   "cell_type": "markdown",
   "id": "d7aafafb-b289-4f53-902d-0890bb6249f4",
   "metadata": {},
   "source": [
    "### Limitando o alcance da espaçonave"
   ]
  },
  {
   "cell_type": "markdown",
   "id": "abff3604-cc57-450c-a508-ee8636e2634f",
   "metadata": {},
   "source": [
    "**A essa altura, a espaçonave desaparecerá nas bordas da tela se você mantiver a tecla de direção pressionada por tempo suficiente. Vamos corrigir isso de modo que a espaçonave pare de se mover quando alcançar a borda da tela.** Fazemos isso modificando o método <code>**update() em Ship**</code>:"
   ]
  },
  {
   "cell_type": "code",
   "execution_count": 10,
   "id": "d2a82a39-2f2c-4c5e-b4d4-c3ed92dfc3a2",
   "metadata": {
    "tags": []
   },
   "outputs": [],
   "source": [
    " def update(self): \n",
    "        \"\"\"Atualiza a posição da espaçonave de acordo com a flag de movimento.\"\"\"\n",
    "        # Atualiza o valor do centro da espaçonave, e não o retângulo\n",
    "        if self.moving_right and self.rect.right < self.screen_rect.right:\n",
    "            self.center += self.ai_settings.ship_speed_factor\n",
    "            \n",
    "        if self.moving_left and self.rect.left > 0: \n",
    "            self.center -= self.ai_settings.ship_speed_factor\n",
    "            \n",
    "        # Atualiza o objeto rect de acordo com self.center\n",
    "        self.rect.centerx = self.center\n"
   ]
  },
  {
   "cell_type": "markdown",
   "id": "0b7accc5-03b7-4286-b95c-4eb1e7f42937",
   "metadata": {},
   "source": [
    "**Esse código verifica a posição da espaçonave antes de alterar o valor de <code>self.center</code>. O código <code>self.rect.right</code> devolve o valor da coordenada x da borda direita do <code>rect</code> da espaçonave. Se esse valor for menor que o valor devolvido por <code>self.screen_rect.right</code>, é sinal de que a espaçonave não alcançou a borda direita da tela. O mesmo vale para a borda esquerda:** se o valor do lado esquerdo de <code>**rect**</code> for maior que zero, a espaçonave não atingiu a borda esquerda da tela. Isso garante que a espaçonave esteja dentro desses limites antes de ajustar o valor de <code>**self.center**</code>.\n",
    "\n",
    "Se você executar **'alien_invasion.py'** agora, a espaçonave interromperá o movimento em qualquer borda da tela."
   ]
  },
  {
   "cell_type": "code",
   "execution_count": null,
   "id": "3e12a994-f977-4fa1-a5dc-0d1a423e0813",
   "metadata": {
    "tags": []
   },
   "outputs": [],
   "source": [
    "import pygame\n",
    "from settings import Settings\n",
    "from ship import Ship\n",
    "import game_functions as gf\n",
    "\n",
    "\n",
    "def run_game():\n",
    "    # Inicializa o jogo e cria um objeto para a tela\n",
    "    pygame.init()\n",
    "    ai_settings = Settings() \n",
    "    screen = pygame.display.set_mode((ai_settings.screen_width, ai_settings.screen_height))\n",
    "    pygame.display.set_caption(\"Alien Invasion\")\n",
    "    \n",
    "    # Define a cor de fundo \n",
    "    bg_color = (230, 230, 230)\n",
    "    \n",
    "    # Cria uma espaçonave\n",
    "    ship = Ship(ai_settings, screen)\n",
    "    \n",
    "    # Inicia o laço principal do jogo\n",
    "    while True:\n",
    "        gf.check_events(ship)\n",
    "        ship.update()\n",
    "        gf.update_screen(ai_settings, screen, ship)\n",
    "        \n",
    "        # Redesenha a tela a cada passagem pelo laço\n",
    "        screen.fill(ai_settings.bg_color)\n",
    "        ship.blitme()\n",
    "        \n",
    "        # Deixa a tela mais recente visível\n",
    "        pygame.display.flip()\n",
    "\n",
    "# Chama a função para iniciar o jogo\n",
    "run_game()"
   ]
  },
  {
   "cell_type": "markdown",
   "id": "dccf626b-f86c-4c3c-94b6-bdf802c296f1",
   "metadata": {},
   "source": [
    "### Refatorando <code>**check_events()**</code>"
   ]
  },
  {
   "cell_type": "markdown",
   "id": "b80ebc02-9c4f-4d73-924b-aed86d950098",
   "metadata": {},
   "source": [
    "A função <code>**check_events()**</code> aumentará de tamanho à medida que continuarmos a desenvolver o jogo, portanto vamos dividi-la em duas funções diferentes: **uma que trate eventos <code>KEYDOWN</code> e outra para tratar eventos <code>KEYUP</code>**:"
   ]
  },
  {
   "cell_type": "code",
   "execution_count": 18,
   "id": "ab198651-4158-439c-a839-19184ad998c4",
   "metadata": {
    "tags": []
   },
   "outputs": [],
   "source": [
    "def check_keydown_events(event, ship): \n",
    "    \"\"\"Responde a pressionamentos de tecla.\"\"\"\n",
    "    if event.key == pygame.K_RIGHT: # Move a espaçonave para a direita\n",
    "        ship.moving_right = True\n",
    "                \n",
    "    elif event.key == pygame.K_LEFT:\n",
    "        ship.moving_left = True\n",
    "\n",
    "            \n",
    "def check_keyup_events(event, ship): \n",
    "    \"\"\"Responde a solturas de tecla.\"\"\"            \n",
    "    if event.key == pygame.K_RIGHT: \n",
    "        ship.moving_right = False\n",
    "                \n",
    "    elif event.key == pygame.K_LEFT: \n",
    "        ship.moving_left = False \n",
    "        \n",
    "def check_events(ship):\n",
    "    \"\"\"Responde a eventos de pressionamento de teclas e de mouse.\"\"\" \n",
    "    # Observa eventos de teclado e de mouse\n",
    "    for event in pygame.event.get():\n",
    "        if event.type == pygame.QUIT:\n",
    "            sys.exit()  # Encerra o programa quando o usuário fecha a janela\n",
    "    \n",
    "        elif event.type == pygame.KEYDOWN:\n",
    "            check_keydown_events(event, ship)\n",
    "            \n",
    "        elif event.type == pygame.KEYUP:\n",
    "            check_keyup_events(event, ship)"
   ]
  },
  {
   "cell_type": "markdown",
   "id": "8ad91d2e-dd03-4ee8-9254-23cd5632b0e9",
   "metadata": {
    "tags": []
   },
   "source": [
    "**Cada uma delas precisa de um parâmetro <code>event</code> e de um parâmetro <code>ship</code>. Os corpos dessas duas funções foram copiados de <code>check_events()</code> e substituímos o código antigo por chamadas às novas funções**. A função <code>**check_events()**</code> está mais simples agora, com uma estrutura de código mais limpa, o que facilitará o desenvolvimento de outras respostas a entradas do usuário."
   ]
  },
  {
   "cell_type": "markdown",
   "id": "766ffae9-35e1-46a8-aa57-caa4a47e80ba",
   "metadata": {},
   "source": [
    "### Uma recapitulação rápida"
   ]
  },
  {
   "cell_type": "markdown",
   "id": "627e8e77-7389-4139-9586-174eaa9c297c",
   "metadata": {},
   "source": [
    "Na próxima seção, **acrescentaremos a capacidade de atirar, o que envolve um novo arquivo chamado <code>bullet.py</code> e modificações em alguns dos arquivos que já temos. Neste momento, temos quatro arquivos que contêm diversas classes, funções e métodos.** Para deixar claro o modo como o nosso projeto está organizado, vamos rever cada um desses arquivos antes de acrescentar outras funcionalidade"
   ]
  },
  {
   "cell_type": "markdown",
   "id": "cbb00eec-e8bc-4ca7-9741-e1f5179850e1",
   "metadata": {},
   "source": [
    "#### <code>**alien_invasion.py**</code>"
   ]
  },
  {
   "cell_type": "markdown",
   "id": "e8cd5335-2c41-4897-9194-5bb89dffbaa8",
   "metadata": {},
   "source": [
    "O arquivo principal <code>**alien_invasion.py**</code> cria vários objetos importantes usados no jogo: **as configurações são armazenadas em <code>ai_settings</code>, a superfície principal de display é armazenada em screen e uma instância de <code>ship</code> é criada nesse arquivo**. Também em <code>**alien_invasion.py**</code> está o laço principal do jogo: um laço <code>**while**</code> que chama <code>**check_events(), ship.update() e update_screen()**</code>.\n",
    "\n",
    "**<code>alien_invasion.py</code> é o único arquivo que deve ser executado quando você quiser jogar 'Invasão Alienígena'**. Os outros arquivos – <code>**settings.py, game_functions.py, ship.py**</code> – contêm códigos que são importados, de forma direta ou não, nesse arquivo."
   ]
  },
  {
   "cell_type": "markdown",
   "id": "09f5f697-d7fc-4e70-a559-a5c3a6be91a6",
   "metadata": {},
   "source": [
    "#### <code>**settings.py**</code>"
   ]
  },
  {
   "cell_type": "markdown",
   "id": "c1ec3f2c-5c2c-4182-ba1c-73a734dca805",
   "metadata": {},
   "source": [
    "O arquivo <code>**settings.py**</code> contém a classe <code>**Settings**</code>. **Essa classe tem apenas um método <code>__init__()</code>, que inicializa os atributos para controlar a aparência do jogo e a velocidade da espaçonave.**"
   ]
  },
  {
   "cell_type": "markdown",
   "id": "f969cd9d-64ed-4ec6-ab62-abe5e659fe8b",
   "metadata": {},
   "source": [
    "#### <code>**game_functions.py**</code>"
   ]
  },
  {
   "cell_type": "markdown",
   "id": "50bf790c-ac83-455f-b39a-895aca583a71",
   "metadata": {},
   "source": [
    "O arquivo <code>**game_functions.py**</code> contém várias funções que executam a maior parte das tarefas do jogo. **A função <code>check_events()</code> detecta eventos relevantes, como pressionamentos e solturas de teclas, além de processar cada um desses tipos de evento por meio das funções auxiliares <code>check_keydown_events() e check_keyup_events()</code>.** Por enquanto, essas funções administram o movimento da espaçonave. O módulo <code>**game_functions**</code> também contém **<code>update_screen()</code>, que redesenha a tela a cada passagem pelo laço principal.** "
   ]
  },
  {
   "cell_type": "markdown",
   "id": "04496c74-97a6-43e3-96cc-13bc36d8c318",
   "metadata": {},
   "source": [
    "#### <code>**ship.py**</code>"
   ]
  },
  {
   "cell_type": "markdown",
   "id": "2e2fc98f-35a4-4abf-9bc9-ddd522b8148f",
   "metadata": {},
   "source": [
    "O arquivo <code>**ship.py**</code> contém a classe <code>**Ship**</code>. **A classe <code>Ship</code> tem um método <code>__init__()</code>, um método <code>update()</code> para administrar a posição da espaçonave e um método <code>blitme()</code> para desenhar a espaçonave na tela.** A imagem propriamente dita da espaçonave está armazenada em <code>**ship.bmp**</code>, que está na pasta <code>**images**</code>."
   ]
  },
  {
   "cell_type": "markdown",
   "id": "245b922d-452f-4700-8290-9409da9fc8c2",
   "metadata": {},
   "source": [
    "## **FAÇA VOCÊ MESMO**"
   ]
  },
  {
   "cell_type": "markdown",
   "id": "efe48b0b-5c82-483f-ae5a-29ab9fed9883",
   "metadata": {},
   "source": [
    "**12.3 – Foguete:** Crie um jogo que comece com um foguete no centro da tela. Permita que o jogador mova o foguete para cima, para baixo, para a direita e para a esquerda usando as quatro teclas de direção. Garanta que o foguete não se desloque para além de qualquer borda da tela."
   ]
  },
  {
   "cell_type": "code",
   "execution_count": null,
   "id": "2c3d69b8-3e84-4236-a766-efddcbcbb554",
   "metadata": {
    "tags": []
   },
   "outputs": [
    {
     "name": "stdout",
     "output_type": "stream",
     "text": [
      "pygame 2.6.1.dev1 (SDL 2.30.5, Python 3.11.5)\n",
      "Hello from the pygame community. https://www.pygame.org/contribute.html\n"
     ]
    }
   ],
   "source": [
    "import pygame\n",
    "import sys\n",
    "\n",
    "class Rocket:\n",
    "    def __init__(self, screen):\n",
    "        \"\"\"Inicializa o foguete e define sua posição inicial.\"\"\"\n",
    "        self.screen = screen\n",
    "        self.screen_rect = screen.get_rect()\n",
    "        \n",
    "        # Carrega a imagem do foguete e obtém seu rect.\n",
    "        self.image = pygame.image.load('rocket.bmp')\n",
    "        self.image.set_colorkey((255, 255, 255)) # Define a cor de fundo da imagem para transparente (caso necessário)\n",
    "        self.rect = self.image.get_rect()\n",
    "        \n",
    "        # Começa cada novo foguete no centro da tela.\n",
    "        self.rect.center = self.screen_rect.center\n",
    "        \n",
    "        # Flag de movimento.\n",
    "        self.moving_right = False\n",
    "        self.moving_left = False\n",
    "        self.moving_up = False\n",
    "        self.moving_down = False\n",
    "    \n",
    "    def update(self):\n",
    "        \"\"\"Atualiza a posição do foguete com base nas flags de movimento.\"\"\"\n",
    "        if self.moving_right and self.rect.right < self.screen_rect.right:\n",
    "            self.rect.x += 1\n",
    "        if self.moving_left and self.rect.left > 0:\n",
    "            self.rect.x -= 1\n",
    "        if self.moving_up and self.rect.top > 0:\n",
    "            self.rect.y -= 1\n",
    "        if self.moving_down and self.rect.bottom < self.screen_rect.bottom:\n",
    "            self.rect.y += 1\n",
    "    \n",
    "    def blitme(self):\n",
    "        \"\"\"Desenha o foguete na posição atual.\"\"\"\n",
    "        self.screen.blit(self.image, self.rect)\n",
    "\n",
    "def check_events(rocket):\n",
    "    \"\"\"Responde a eventos de pressionamento de teclas e de mouse.\"\"\"\n",
    "    for event in pygame.event.get():\n",
    "        if event.type == pygame.QUIT:\n",
    "            pygame.quit()\n",
    "            sys.exit()\n",
    "        elif event.type == pygame.KEYDOWN:\n",
    "            if event.key == pygame.K_RIGHT:\n",
    "                rocket.moving_right = True\n",
    "            elif event.key == pygame.K_LEFT:\n",
    "                rocket.moving_left = True\n",
    "            elif event.key == pygame.K_UP:\n",
    "                rocket.moving_up = True\n",
    "            elif event.key == pygame.K_DOWN:\n",
    "                rocket.moving_down = True\n",
    "        elif event.type == pygame.KEYUP:\n",
    "            if event.key == pygame.K_RIGHT:\n",
    "                rocket.moving_right = False\n",
    "            elif event.key == pygame.K_LEFT:\n",
    "                rocket.moving_left = False\n",
    "            elif event.key == pygame.K_UP:\n",
    "                rocket.moving_up = False\n",
    "            elif event.key == pygame.K_DOWN:\n",
    "                rocket.moving_down = False\n",
    "\n",
    "def run_game():\n",
    "    \"\"\"Inicializa o jogo e cria um objeto de tela.\"\"\"\n",
    "    pygame.init()\n",
    "    screen = pygame.display.set_mode((800, 600))\n",
    "    pygame.display.set_caption(\"Foguete\")\n",
    "\n",
    "    # Cria uma instância de Rocket.\n",
    "    rocket = Rocket(screen)\n",
    "\n",
    "    # Inicia o loop principal do jogo.\n",
    "    while True:\n",
    "        check_events(rocket)\n",
    "        rocket.update()\n",
    "        screen.fill((230, 230, 230))\n",
    "        rocket.blitme()\n",
    "        pygame.display.flip()\n",
    "\n",
    "if __name__ == '__main__':\n",
    "    run_game()"
   ]
  },
  {
   "cell_type": "markdown",
   "id": "bc24acff-6663-4b55-9a7b-57a363bdd00f",
   "metadata": {},
   "source": [
    "**12.4 – Teclas:** Em um arquivo Pygame, crie uma tela vazia. No laço de eventos, exiba o atributo **event.key** sempre que o evento **pygame.KEYDOWN** for detectado. Execute o programa e pressione várias teclas para ver como o Pygame responde."
   ]
  },
  {
   "cell_type": "code",
   "execution_count": null,
   "id": "19205154-925e-4cc7-b919-06853a876b4a",
   "metadata": {
    "tags": []
   },
   "outputs": [
    {
     "name": "stdout",
     "output_type": "stream",
     "text": [
      "pygame 2.6.1.dev1 (SDL 2.30.5, Python 3.11.5)\n",
      "Hello from the pygame community. https://www.pygame.org/contribute.html\n",
      "Tecla pressionada: 1073741906\n",
      "Tecla pressionada: 1073741904\n",
      "Tecla pressionada: 1073741903\n",
      "Tecla pressionada: 1073741906\n",
      "Tecla pressionada: 1073741905\n",
      "Tecla pressionada: 1073741904\n",
      "Tecla pressionada: 1073741903\n"
     ]
    }
   ],
   "source": [
    "import pygame\n",
    "import sys\n",
    "\n",
    "def run_game():\n",
    "    \"\"\"Inicializa o jogo e cria uma tela vazia.\"\"\"\n",
    "    pygame.init()\n",
    "    screen = pygame.display.set_mode((800, 600))\n",
    "    pygame.display.set_caption(\"Teclas\")\n",
    "\n",
    "    # Inicia o loop principal do jogo.\n",
    "    while True:\n",
    "        for event in pygame.event.get():\n",
    "            if event.type == pygame.QUIT:\n",
    "                pygame.quit()\n",
    "                sys.exit()\n",
    "            elif event.type == pygame.KEYDOWN:\n",
    "                print(f'Tecla pressionada: {event.key}')\n",
    "        \n",
    "        # Preenche a tela com uma cor (opcional)\n",
    "        screen.fill((230, 230, 230))\n",
    "        \n",
    "        # Atualiza a tela\n",
    "        pygame.display.flip()\n",
    "\n",
    "if __name__ == '__main__':\n",
    "    run_game()"
   ]
  },
  {
   "cell_type": "markdown",
   "id": "3de538e2-6f24-4b5c-a940-6f0aba7feea8",
   "metadata": {},
   "source": [
    "****"
   ]
  },
  {
   "cell_type": "markdown",
   "id": "4daf953b-4b8e-4be1-becb-232d6164757e",
   "metadata": {},
   "source": [
    "## **Atirando**"
   ]
  },
  {
   "cell_type": "markdown",
   "id": "135a6eba-6f4c-401d-8255-49206362404c",
   "metadata": {},
   "source": [
    "Vamos agora acrescentar a capacidade de atirar. **Escreveremos um código que lance um projétil (um pequeno retângulo) quando o jogador pressionar a barra de espaço. Os projéteis se deslocarão para cima na tela até desaparecerem ao ultrapassar a parte superior da tela.**"
   ]
  },
  {
   "cell_type": "markdown",
   "id": "a5fd0dab-a3db-4c86-a2f8-47f392ab1de6",
   "metadata": {},
   "source": [
    "### Adicionando as configurações dos projéteis"
   ]
  },
  {
   "cell_type": "markdown",
   "id": "77b7502a-7e25-4018-a1cd-99ed8f7826dc",
   "metadata": {},
   "source": [
    "Em primeiro lugar, atualize <code>**'settings.py'**</code> para incluir os valores de que precisaremos para uma nova classe **<code>Bullet</code> no final do método <code>__init__()</code>**:"
   ]
  },
  {
   "cell_type": "code",
   "execution_count": 11,
   "id": "8b112c20-4ebc-4fc4-a2a8-819e2776fd0c",
   "metadata": {
    "tags": []
   },
   "outputs": [],
   "source": [
    "def __init__(self):\n",
    "        \"\"\"Inicializa as configurações do jogo.\"\"\"\n",
    "        # Configurações da tela\n",
    "        self.screen_width = 1200\n",
    "        self.screen_height = 800\n",
    "        self.bg_color = (230, 230, 230)\n",
    "        \n",
    "        # Configurações da espaçonave  \n",
    "        self.ship_speed_factor = 1.5\n",
    "        \n",
    "        # Configurações dos projéteis \n",
    "        self.bullet_speed_factor = 1 \n",
    "        self.bullet_width = 3\n",
    "        self.bullet_height = 15\n",
    "        self.bullet_color = 60, 60, 60"
   ]
  },
  {
   "cell_type": "markdown",
   "id": "b21ce6de-1dfb-47f2-b3c4-5fb36e53b59c",
   "metadata": {},
   "source": [
    "**Essas configurações criam projéteis cinza-escuros, com largura de 3 pixels e altura de 15 pixels**. Os projéteis se deslocarão de modo um pouco mais lento que a espaçonave."
   ]
  },
  {
   "cell_type": "markdown",
   "id": "d6b4a41f-8a73-4985-a04c-b6891aeb128c",
   "metadata": {},
   "source": [
    "### Criando a classe <code>**Bullet**</code>"
   ]
  },
  {
   "cell_type": "markdown",
   "id": "c2620b46-940f-4d4b-a282-e3f02c6a577a",
   "metadata": {},
   "source": [
    "Agora crie um arquivo <code>**'Bullet.py'**</code> para armazenar nossa classe <code>**Bullet**</code>. Eis a primeira parte de <code>**'Bullet.py'**</code>:"
   ]
  },
  {
   "cell_type": "code",
   "execution_count": 20,
   "id": "d2c93a7d-9a34-4635-8eea-f8b5e4da0305",
   "metadata": {
    "tags": []
   },
   "outputs": [
    {
     "name": "stdout",
     "output_type": "stream",
     "text": [
      "pygame 2.6.1.dev1 (SDL 2.30.5, Python 3.11.5)\n",
      "Hello from the pygame community. https://www.pygame.org/contribute.html\n"
     ]
    }
   ],
   "source": [
    "import pygame \n",
    "from pygame.sprite import Sprite\n",
    "\n",
    "class Bullet(Sprite):\n",
    "    \"\"\"Uma classe que administra projéteis disparados pela espaçonave\"\"\"\n",
    "    \n",
    "    def __init__(self, ai_settings, screen, ship): \n",
    "        \"\"\"Cria um objeto para o projétil na posição atual da espaçonave.\"\"\"\n",
    "        super(Bullet, self).__init__() \n",
    "        self.screen = screen\n",
    "        \n",
    "        # Cria um retângulo para o projétil em (0, 0) e, em seguida, define a # posição correta \n",
    "        self.rect = pygame.Rect(0, 0, ai_settings.bullet_width, ai_settings.bullet_height) \n",
    "        self.rect.centerx = ship.rect.centerx \n",
    "        self.rect.top = ship.rect.top\n",
    "        \n",
    "        # Armazena a posição do projétil como um valor decimal \n",
    "        self.y = float(self.rect.y)\n",
    "        self.color = ai_settings.bullet_color \n",
    "        self.speed_factor = ai_settings.bullet_speed_factor"
   ]
  },
  {
   "cell_type": "markdown",
   "id": "6591e1c8-8888-4ab5-9c8d-dc4b38582c98",
   "metadata": {},
   "source": [
    "A classe <code>**Bullet herda de Sprite**</code>, que importamos do módulo <code>**pygame.sprite**</code>. **Ao usar <code>sprites</code>, podemos agrupar elementos relacionados no jogo e atuar em todos os elementos agrupados de uma só vez. Para criar uma instância de um projétil, <code>__init__()</code> precisa das instâncias <code>ai_settings, screen e ship</code>**; além disso, chamamos <code>**super()**</code> para herdar de modo apropriado de <code>Sprite</code>.\n",
    "\n",
    "**NOTA**    \n",
    "A chamada a <code>**super(Bullet, self).__init__()**</code> usa a sintaxe de Python 2.7. Essa sintaxe funciona em Python 3 também; de modo alternativo, essa chamada pode ser feita de forma mais simples como <code>**super().__init__()**</code>."
   ]
  },
  {
   "cell_type": "markdown",
   "id": "56d81413-5349-4072-b40b-eaca78dc3282",
   "metadata": {},
   "source": [
    "E criamos o atributo <code>**rect do projétil**</code>. O **<code>projétil</code> não está baseado em uma imagem, portanto precisamos criar um retângulo do zero usando a <code>classe pygame.Rect()</code>. Essa classe exige <code>as coordenadas x e y</code> do canto superior esquerdo do <code>rect</code>, além de sua largura e sua altura. Inicializamos o <code>rect em (0, 0)</code>, mas ele será movido para o local correto nas duas próximas linhas porque a posição do projétil depende da posição da espaçonave.** Os valores da largura e da altura do projétil são obtidos dos valores armazenados em <code>**ai_settings**</code>.\n",
    "\n",
    "E definimos o <code>**centerx do projétil**</code> para que seja igual ao <code>**rect.centerx da espaçonave**</code>. O **<code>projétil</code> deve emergir da parte superior da espaçonave, portanto definimos o <code>rect do projétil</code> para que sua parte superior coincida com a parte superior do <code>rect da espaçonave</code>, fazendo parecer que o projétil foi disparado da espaçonave.**\n",
    "Armazenamos um valor decimal para a <code>**coordenada y do projétil**</code> para que possamos fazer ajustes mais precisos em sua velocidade. **E armazenamos a cor e as configurações de velocidade do projétil em <code>self.color e em self.speed_factor</code>.**\n",
    "\n",
    "A seguir, apresentamos a segunda parte de **'bullet.py,'** que contém <code>**update() e draw_bullet()**</code>:"
   ]
  },
  {
   "cell_type": "code",
   "execution_count": 28,
   "id": "1944711a-6c75-454b-b751-d3c9cc5244da",
   "metadata": {
    "tags": []
   },
   "outputs": [],
   "source": [
    "#bullet.py \n",
    "\n",
    "def update(self): \n",
    "    \"\"\"Move o projétil para cima na tela.\"\"\"\n",
    "    # Atualiza a posição decimal do projétil  \n",
    "    self.y -= self.speed_factor\n",
    "    \n",
    "    # Atualiza a posição de rect  \n",
    "    self.rect.y = self.y\n",
    "\n",
    "def draw_bullet(self): \n",
    "    \"\"\"Desenha o projétil na tela.\"\"\"\n",
    "    pygame.draw.rect(self.screen, self.color, self.rect)"
   ]
  },
  {
   "cell_type": "markdown",
   "id": "b19a9df9-f427-4580-b161-941598c0cfc6",
   "metadata": {},
   "source": [
    "O método <code>**update()**</code> administra a posição do projétil. **Quando um <code>**projétil**</code> é disparado, ele se move para cima na tela, o que corresponde a um decréscimo no valor da <code>coordenada y</code>; portanto, para atualizar a posição, subtraímos de <code>self.y</code> a quantidade armazenada em <code>self.speed_factor</code>. Então usamos o valor de <code>self.y para definir o valor de self.rect.y</code>. O atributo <code>speed_factor</code> nos permite aumentar a velocidade dos projéteis à medida que o jogo progredir ou conforme for necessário para melhor ajustar o comportamento do jogo**. Depois que o <code>**projétil**</code> é disparado, o valor de sua <code>**coordenada x**</code> não muda, portanto ele só se deslocará na vertical, em linha reta.\n",
    "\n",
    "Se quisermos desenhar um <code>**projétil**</code>, chamaremos <code>**draw_bullet()**</code>. A função **<code>draw.rect()</code> preenche a parte da tela definida pelo rect do projétil com a cor armazenada em <code>self.color</code>.**"
   ]
  },
  {
   "cell_type": "markdown",
   "id": "c674c6d5-d314-46b1-b510-c05f48908ec3",
   "metadata": {},
   "source": [
    "### Armazenando projéteis em um grupo"
   ]
  },
  {
   "cell_type": "markdown",
   "id": "8936e358-7b0e-45c8-afe0-b37a58f6c94b",
   "metadata": {},
   "source": [
    "Agora que temos uma <code>**classe Bullet**</code> e as configurações necessárias definidas, podemos **escrever um código para disparar um <code>projétil</code> sempre que o jogador pressionar a barra de espaço. Inicialmente criaremos um grupo em <code>'alien_invasion.py' para armazenar todos os projéteis ativos</code>; desse modo podemos administrar todos os projéteis que tenham sido disparados. Esse grupo será uma instância da <code>classe pygame.sprite.Group</code>, que se comporta como uma <code>lista</code>**; essa classe contém algumas funcionalidades extras que são úteis no desenvolvimento de jogos. Usaremos esse grupo para desenhar os projéteis na tela a cada passagem pelo laço principal e atualizar a posição de cada <code>**projétil**</code>:"
   ]
  },
  {
   "cell_type": "code",
   "execution_count": null,
   "id": "50b8e66b-451e-4e8f-bd06-aa4d94a6b1cc",
   "metadata": {
    "tags": []
   },
   "outputs": [
    {
     "name": "stdout",
     "output_type": "stream",
     "text": [
      "pygame 2.6.1.dev1 (SDL 2.30.5, Python 3.11.5)\n",
      "Hello from the pygame community. https://www.pygame.org/contribute.html\n"
     ]
    }
   ],
   "source": [
    "import pygame\n",
    "from settings import Settings\n",
    "from ship import Ship\n",
    "import game_functions as gf\n",
    "from pygame.sprite import Group \n",
    "\n",
    "\n",
    "def run_game():\n",
    "    # Inicializa o jogo e cria um objeto para a tela\n",
    "    pygame.init()\n",
    "    ai_settings = Settings() \n",
    "    screen = pygame.display.set_mode((ai_settings.screen_width, ai_settings.screen_height))\n",
    "    pygame.display.set_caption(\"Alien Invasion\")\n",
    "    \n",
    "    # Define a cor de fundo \n",
    "    bg_color = (230, 230, 230)\n",
    "    \n",
    "    # Cria uma espaçonave\n",
    "    ship = Ship(ai_settings, screen)\n",
    "    \n",
    "    # Cria um grupo no qual serão armazenados os projéteis \n",
    "    bullets = Group() \n",
    "    \n",
    "    # Inicia o laço principal do jogo\n",
    "    while True:\n",
    "        gf.check_events(ai_settings, screen, ship, bullets)\n",
    "        ship.update()\n",
    "        bullets.update() \n",
    "        gf.update_screen(ai_settings, screen, ship, bullets)\n",
    "        \n",
    "        # Redesenha a tela a cada passagem pelo laço\n",
    "        screen.fill(ai_settings.bg_color)\n",
    "        ship.blitme()\n",
    "        \n",
    "        # Deixa a tela mais recente visível\n",
    "        pygame.display.flip()\n",
    "\n",
    "# Chama a função para iniciar o jogo\n",
    "run_game()"
   ]
  },
  {
   "cell_type": "markdown",
   "id": "a2b5d420-6161-4730-bb28-443ef95e4454",
   "metadata": {},
   "source": [
    "Importamos **<code>Group de pygame.sprite</code>**. **E criamos uma instância de <code>Group</code> e a chamamos de <code>bullets</code>. Esse grupo é criado fora do laço <code>while</code> para que um novo grupo de projéteis não seja criado a cada ciclo do laço.**\n",
    "\n",
    "**NOTA**    \n",
    "**Se você criar um grupo como esse dentro do laço, estará criando milhares de grupos de projéteis, e seu jogo provavelmente ficará muito lento**. Se seu jogo travar, observe com atenção o que está acontecendo em seu laço <code>**while**</code> principal."
   ]
  },
  {
   "cell_type": "markdown",
   "id": "c8a6a1bf-afff-4a15-b5e9-57aa32c683f0",
   "metadata": {},
   "source": [
    "Passamos <code>**bullets para check_events() e para update_screen()**</code>. **Teremos que trabalhar <code>com bullets em check_events()</code> quando a barra de espaço for pressionada, e precisaremos atualizar os <code>projéteis</code> desenhados na tela em <code>update_screen()</code>**.\n",
    "Quando chamamos <code>**update() em um grupo**</code>, ele chamará **<code>update()</code> automaticamente para cada <code>sprite do grupo</code>**. A linha <code>**bullets.update() chama bullet.update()**</code> para cada projétil que colocamos no <code>**grupo bullets**</code>."
   ]
  },
  {
   "cell_type": "markdown",
   "id": "73cf8c4b-0a1a-44c6-b71c-b6040d9b8b60",
   "metadata": {},
   "source": [
    "### Disparando os projéteis"
   ]
  },
  {
   "cell_type": "markdown",
   "id": "8e30c054-79c1-4294-9f0a-43b7c3723bcd",
   "metadata": {},
   "source": [
    "Em **<code>'game_functions.py'</code> precisamos modificar <code>check_keydown_events()</code> para disparar um projétil quando a barra de espaço for pressionada. Não precisamos mudar <code>check_keyup_events()</code> porque nada acontece quando a tecla é solta**. Também devemos modificar <code>**update_screen()**</code> para garantir que cada projétil seja redesenhado na tela antes de <code>**flip()**</code> ser chamada. Eis as alterações relevantes feitas em <code>**'game_functions.py'**</code>:"
   ]
  },
  {
   "cell_type": "code",
   "execution_count": 8,
   "id": "9bfc3c58-4e7a-44f7-8286-845cb931b87d",
   "metadata": {
    "tags": []
   },
   "outputs": [],
   "source": [
    "import sys  # Importa o módulo sys, que é necessário para sys.exit()\n",
    "import pygame\n",
    "from bullet import Bullet\n",
    "\n",
    "\n",
    "def check_keydown_events(event, ai_settings, screen, ship, bullets): \n",
    "    \"\"\"Responde a pressionamentos de tecla.\"\"\"\n",
    "    if event.key == pygame.K_RIGHT: # Move a espaçonave para a direita\n",
    "        ship.moving_right = True\n",
    "                \n",
    "    elif event.key == pygame.K_LEFT:\n",
    "        ship.moving_left = True\n",
    "\n",
    "    elif event.key == pygame.K_SPACE: \n",
    "        \n",
    "        # Cria um novo projétil e o adiciona ao grupo de projéteis \n",
    "        new_bullet = Bullet(ai_settings, screen, ship) \n",
    "        bullets.add(new_bullet)\n",
    "            \n",
    "def check_keyup_events(event, ship): \n",
    "    \"\"\"Responde a solturas de tecla.\"\"\"            \n",
    "    if event.key == pygame.K_RIGHT: \n",
    "        ship.moving_right = False\n",
    "                \n",
    "    elif event.key == pygame.K_LEFT: \n",
    "        ship.moving_left = False \n",
    "        \n",
    "def check_events(ai_settings, screen, ship, bullets):\n",
    "    \"\"\"Responde a eventos de pressionamento de teclas e de mouse.\"\"\" \n",
    "    # Observa eventos de teclado e de mouse\n",
    "    for event in pygame.event.get():\n",
    "        if event.type == pygame.QUIT:\n",
    "            sys.exit()  # Encerra o programa quando o usuário fecha a janela\n",
    "    \n",
    "        elif event.type == pygame.KEYDOWN:\n",
    "            check_keydown_events(event, ai_settings, screen, ship, bullets) \n",
    "            \n",
    "        elif event.type == pygame.KEYUP:\n",
    "            check_keyup_events(event, ship)\n",
    "                \n",
    "                \n",
    "def update_screen(ai_settings, screen, ship, bullets): \n",
    "    \"\"\"Atualiza as imagens na tela e alterna para a nova tela.\"\"\"\n",
    "    # Redesenha a tela a cada passagem pelo laço\n",
    "    screen.fill(ai_settings.bg_color) \n",
    "    \n",
    "    # Redesenha todos os projéteis atrás da espaçonave e dos alienígenas \n",
    "    for bullet in bullets.sprites(): \n",
    "        bullet.draw_bullet()\n",
    "        ship.blitme()\n",
    "    \n",
    "    # Deixa a tela mais recente visível \n",
    "    pygame.display.flip()"
   ]
  },
  {
   "cell_type": "markdown",
   "id": "361119b6-0e4d-48ef-ad03-ef859486d911",
   "metadata": {
    "tags": []
   },
   "source": [
    "O <code>**grupo bullets**</code> é passado para <code>**check_keydown_events()**</code>. **Quando o jogador pressiona a barra de espaço, criamos um novo projétil <code>(uma instância de Bullet que chamamos de new_bullet)</code> e o adicionamos ao grupo <code>bullets</code>  usando o método <code>add()</code>; o código <code>bullets.add(new_bullet)</code> armazena o novo projétil no grupo bullets.**\n",
    "Precisamos acrescentar <code>**bullets**</code> como parâmetro na definição de <code>**check_events()**</code> e passar bullets como argumento na chamada a <code>**check_keydown_events()**</code> também. \n",
    "\n",
    "**Passamos o <code>parâmetro bullets para update_screen()</code>, que desenha os projéteis na tela. O método <code>bullets.sprites()</code> devolve uma lista de todos os <code>sprites do grupo bullets</code>.** Para desenhar todos os projéteis disparados na tela, percorremos os <code>**sprites em bullets**</code> com um laço e chamamos <code>**draw_bullet()**</code> em cada um.   \n",
    "Se **<code>alien_invasion.py</code> for executado agora, você deverá ser capaz de mover a espaçonave para a direita e para a esquerda e disparar quantos projéteis quiser. Os projéteis se deslocarão para cima na tela e desaparecerão quando alcançarem a parte superior**, como mostra a Figura 12.3. Você pode alterar o <code>**tamanho, a cor e a velocidade**</code> dos projéteis em <code>**'settings.py'**</code>."
   ]
  },
  {
   "cell_type": "markdown",
   "id": "cc8457cc-9f2a-4be3-ae4e-17444c21dc29",
   "metadata": {},
   "source": [
    "### Apagando projéteis antigos"
   ]
  },
  {
   "cell_type": "markdown",
   "id": "a780aa09-5b6a-4882-8108-b095c77a4de8",
   "metadata": {},
   "source": [
    "No momento, os <code>**projéteis**</code> desaparecem quando alcançam a parte superior, mas somente porque o <code>**Pygame**</code> não é capaz de desenhá-los acima da parte superior da tela. Na verdade, **os projéteis continuam existindo; os valores de suas <code>coordenadas y</code> simplesmente assumem valores negativos cada vez menores. Isso é um problema porque eles continuam consumindo memória e capacidade de processamento.**\n",
    "\n",
    "Precisamos nos livrar desses projéteis antigos, ou o jogo ficará lento por executar tantas tarefas desnecessárias. **Para isso, precisamos detectar se o <code>valor bottom do rect de um projétil tem um valor igual a 0</code>, o que indica que o projétil ultrapassou a parte superior da tela**:"
   ]
  },
  {
   "cell_type": "code",
   "execution_count": null,
   "id": "e8827661-a593-4822-97f5-ef6eb10bde47",
   "metadata": {
    "tags": []
   },
   "outputs": [
    {
     "name": "stdout",
     "output_type": "stream",
     "text": [
      "pygame 2.6.1.dev1 (SDL 2.30.5, Python 3.11.5)\n",
      "Hello from the pygame community. https://www.pygame.org/contribute.html\n"
     ]
    }
   ],
   "source": [
    "import pygame\n",
    "from settings import Settings\n",
    "from ship import Ship\n",
    "import game_functions as gf\n",
    "from pygame.sprite import Group \n",
    "\n",
    "\n",
    "def run_game():\n",
    "    # Inicializa o jogo e cria um objeto para a tela\n",
    "    pygame.init()\n",
    "    ai_settings = Settings() \n",
    "    screen = pygame.display.set_mode((ai_settings.screen_width, ai_settings.screen_height))\n",
    "    pygame.display.set_caption(\"Alien Invasion\")\n",
    "    \n",
    "    # Define a cor de fundo \n",
    "    bg_color = (230, 230, 230)\n",
    "    \n",
    "    # Cria uma espaçonave\n",
    "    ship = Ship(ai_settings, screen)\n",
    "    \n",
    "    # Cria um grupo no qual serão armazenados os projéteis \n",
    "    bullets = Group() \n",
    "    \n",
    "    # Inicia o laço principal do jogo\n",
    "    while True:\n",
    "        gf.check_events(ai_settings, screen, ship, bullets)\n",
    "        ship.update()\n",
    "        bullets.update() \n",
    "        # Livra-se dos projéteis que desapareceram \n",
    "        for bullet in bullets.copy(): \n",
    "            if bullet.rect.bottom <= 0: \n",
    "                bullets.remove(bullet)  \n",
    "                \n",
    "        \n",
    "        gf.update_screen(ai_settings, screen, ship, bullets)\n",
    "        \n",
    "        # Redesenha a tela a cada passagem pelo laço\n",
    "        screen.fill(ai_settings.bg_color)\n",
    "        ship.blitme()\n",
    "        \n",
    "        # Deixa a tela mais recente visível\n",
    "        pygame.display.flip()\n",
    "\n",
    "# Chama a função para iniciar o jogo\n",
    "run_game()"
   ]
  },
  {
   "cell_type": "markdown",
   "id": "74204d11-7490-4397-bd75-db2c088944e4",
   "metadata": {
    "tags": []
   },
   "source": [
    "**Não devemos remover <code>itens de uma lista ou de um grupo em um laço for</code>, portanto precisamos usar uma cópia do grupo no laço. Utilizamos o método <code>copy()</code> para preparar o laço <code>for</code>, o que nos permite modificar bullets no laço.** Verificamos cada <code>**projétil**</code> para ver se ele desapareceu por ter ultrapassado a parte superior da tela. Em caso afirmativo, o projétil é removido de <code>**bullets**</code>. **E inserimos uma instrução <code>**print**</code> para mostrar quantos projéteis existem no momento no jogo e conferir se estão sendo apagados.** \n",
    "\n",
    "Se esse código funcionar corretamente, poderemos observar a saída no terminal enquanto disparamos os projéteis e ver que o número de projéteis se reduz a zero depois que cada conjunto de projéteis desaparece na parte superior da tela. **Depois de executar o jogo e confirmar que os projéteis são devidamente apagados, remova a instrução <code>print</code>**. Se você deixar essa instrução, o jogo ficará significativamente mais lento, pois escrever uma saída no terminal demora mais que desenhar imagens na janela do jogo.\n"
   ]
  },
  {
   "cell_type": "markdown",
   "id": "4a7827a2-4500-4810-8d66-ec41a3a59f04",
   "metadata": {},
   "source": [
    "### Limitando o número de projéteis"
   ]
  },
  {
   "cell_type": "markdown",
   "id": "ff1cfa6e-3fc2-4b9b-8025-cee11e708c32",
   "metadata": {},
   "source": [
    "**Muitos jogos em que há disparos limitam o número de projéteis que um jogador pode ter na tela ao mesmo tempo para incentivar os jogadores a atirarem de forma precisa**. Faremos o mesmo na Invasão Alienígena.   \n",
    "Inicialmente armazene o número de projéteis permitidos em **'settings.py'**:"
   ]
  },
  {
   "cell_type": "code",
   "execution_count": null,
   "id": "f84928af-b6ff-4ec6-9b7e-5001ca357b62",
   "metadata": {},
   "outputs": [],
   "source": [
    "#settings.py \n",
    "\n",
    "# Configurações dos projéteis \n",
    "self.bullet_width = 3 \n",
    "self.bullet_height = 15\n",
    "self.bullet_color = 60, 60, 60\n",
    "self.bullets_allowed = 3"
   ]
  },
  {
   "cell_type": "markdown",
   "id": "eebd448e-bcf9-463a-9c1b-c92af97b1825",
   "metadata": {},
   "source": [
    "**Essa instrução limita o jogador a três projéteis ao mesmo tempo**. Usaremos essa configuração em **'game_functions.py'** para verificar quantos projéteis existem antes de criar um novo projétil em <code>**check_keydown_events()**</code>:"
   ]
  },
  {
   "cell_type": "code",
   "execution_count": 21,
   "id": "2950bd30-f342-4c41-862e-eb0e6c75cff1",
   "metadata": {},
   "outputs": [],
   "source": [
    "def check_keydown_events(event, ai_settings, screen, ship, bullets): \n",
    "    \"\"\"Responde a pressionamentos de tecla.\"\"\"\n",
    "    if event.key == pygame.K_RIGHT: # Move a espaçonave para a direita\n",
    "        ship.moving_right = True\n",
    "                \n",
    "    elif event.key == pygame.K_LEFT:\n",
    "        ship.moving_left = True\n",
    "\n",
    "    elif event.key == pygame.K_SPACE: \n",
    "        # Cria um novo projétil e o adiciona ao grupo de projéteis \n",
    "        if len(bullets) < ai_settings.bullets_allowed:\n",
    "            new_bullet = Bullet(ai_settings, screen, ship) \n",
    "            bullets.add(new_bullet)"
   ]
  },
  {
   "cell_type": "markdown",
   "id": "64b6d2c3-5b77-4dc5-b001-360eef71946a",
   "metadata": {},
   "source": [
    "Quando a barra de espaço é pressionada, verificamos o tamanho de <code>**bullets**</code>. Se **<code>len(bullets)</code> for menor que três, criaremos um novo projétil. No entanto, se já houver três projéteis ativos, nada acontecerá quando a barra de espaço for pressionada**. Se executar o jogo agora, você deverá ser capaz de disparar projéteis somente em grupos de três.\n"
   ]
  },
  {
   "cell_type": "markdown",
   "id": "781d1137-6cab-4428-aef9-c38054b3dba2",
   "metadata": {},
   "source": [
    "### Criando a função <code>**update_bullets()**</code>"
   ]
  },
  {
   "cell_type": "markdown",
   "id": "14236c58-d2aa-4b7f-a467-fce2eff78311",
   "metadata": {},
   "source": [
    "Queremos manter nosso arquivo principal do programa, **'alien_invasion.py'**, o mais simples possível, portanto, agora que escrevemos e conferimos o código para gerenciamento de projéteis, podemos passá-lo para o módulo <code>**game_functions**</code>. Criaremos uma nova função chamada <code>**update_bullets()**</code> e a adicionaremos no final de **'game_functions.py'**:"
   ]
  },
  {
   "cell_type": "code",
   "execution_count": 30,
   "id": "2895df82-c11e-47c5-a055-b40223be76d9",
   "metadata": {
    "tags": []
   },
   "outputs": [],
   "source": [
    "def update_bullets(bullets):\n",
    "    \"\"\"Atualiza a posição dos projéteis e se livra dos projéteis antigos.\"\"\" \n",
    "    # Atualiza as posições dos projéteis\n",
    "    bullets.update() \n",
    "    # Livra-se dos projéteis que desapareceram \n",
    "    for bullet in bullets.copy(): \n",
    "        if bullet.rect.bottom <= 0: \n",
    "            bullets.remove(bullet)"
   ]
  },
  {
   "cell_type": "markdown",
   "id": "284f9236-e44a-4fb4-b56f-b639aee2bfd4",
   "metadata": {},
   "source": [
    "O laço <code>**while**</code> em **'alien_invasion.py'** ficou mais simples novamente:"
   ]
  },
  {
   "cell_type": "code",
   "execution_count": null,
   "id": "09e72054-b610-4c09-8c99-8c81e3a0dcbd",
   "metadata": {
    "tags": []
   },
   "outputs": [],
   "source": [
    "#alien_invasion.py \n",
    "\n",
    "# Inicia o laço principal do jogo \n",
    "while True: \n",
    "    gf.check_events(ai_settings, screen, ship, bullets) \n",
    "    ship.update() \n",
    "    gf.update_bullets(bullets) \n",
    "    gf.update_screen(ai_settings, screen, ship, bullets)\n"
   ]
  },
  {
   "cell_type": "markdown",
   "id": "dc0f96d8-7c94-4105-9c71-5c0dcb441202",
   "metadata": {},
   "source": [
    "Criamos o programa de modo que o nosso laço principal contenha apenas um mínimo de código para que possamos ler rapidamente os nomes das funções e entender o que acontece no jogo. **O laço principal verifica se há entradas do jogador e então atualiza a posição da espaçonave em qualquer projétil que tenha sido disparado.** Em seguida usamos as posições atualizadas para desenhar uma nova tela."
   ]
  },
  {
   "cell_type": "markdown",
   "id": "f58c677b-8c5b-4857-aa72-3064c2be35e4",
   "metadata": {},
   "source": [
    "### Criando a função <code>**fire_bullet()**</code>"
   ]
  },
  {
   "cell_type": "markdown",
   "id": "0b835dd5-f15e-4fd8-8426-e32da7655f52",
   "metadata": {},
   "source": [
    "Vamos transferir o código de disparo de um projétil para uma função separada; **assim podemos usar uma única linha de código para disparar um projétil e simplificar o bloco <code>elif</code> em <code>check_keydown_events()</code>**:"
   ]
  },
  {
   "cell_type": "code",
   "execution_count": null,
   "id": "3c108681-b514-457a-9a6c-093446cc65d3",
   "metadata": {
    "tags": []
   },
   "outputs": [
    {
     "name": "stdout",
     "output_type": "stream",
     "text": [
      "pygame 2.6.1.dev1 (SDL 2.30.5, Python 3.11.5)\n",
      "Hello from the pygame community. https://www.pygame.org/contribute.html\n"
     ]
    }
   ],
   "source": [
    "import pygame\n",
    "from settings import Settings\n",
    "from ship import Ship\n",
    "import game_functions as gf\n",
    "from pygame.sprite import Group \n",
    "\n",
    "\n",
    "def run_game():\n",
    "    # Inicializa o jogo e cria um objeto para a tela\n",
    "    pygame.init()\n",
    "    ai_settings = Settings() \n",
    "    screen = pygame.display.set_mode((ai_settings.screen_width, ai_settings.screen_height))\n",
    "    pygame.display.set_caption(\"Alien Invasion\")\n",
    "    \n",
    "    # Define a cor de fundo \n",
    "    bg_color = (230, 230, 230)\n",
    "    \n",
    "    # Cria uma espaçonave\n",
    "    ship = Ship(ai_settings, screen)\n",
    "    \n",
    "    # Cria um grupo no qual serão armazenados os projéteis \n",
    "    bullets = Group() \n",
    "    \n",
    "    # Inicia o laço principal do jogo\n",
    "    while True:\n",
    "        gf.check_events(ai_settings, screen, ship, bullets)\n",
    "        ship.update()\n",
    "        gf.update_bullets(bullets)\n",
    "        gf.update_screen(ai_settings, screen, ship, bullets)\n",
    "        \n",
    "        # Redesenha a tela a cada passagem pelo laço\n",
    "        screen.fill(ai_settings.bg_color)\n",
    "        ship.blitme()\n",
    "        \n",
    "        # Deixa a tela mais recente visível\n",
    "        pygame.display.flip()\n",
    "\n",
    "# Chama a função para iniciar o jogo\n",
    "run_game()"
   ]
  },
  {
   "cell_type": "markdown",
   "id": "1554b36c-f77f-40b7-98f8-2d44a2e33a25",
   "metadata": {},
   "source": [
    "A **função <code>fire_bullet()</code> simplesmente contém o código usado para disparar um projétil quando a barra de espaço for pressionada; além disso, acrescentamos uma chamada a <code>fire_bullet() em check_keydown_events()</code> quando isso ocorrer.**\n",
    "\n",
    "Execute **'alien_invasion.py'** mais uma vez e certifique-se de que você ainda possa continuar atirando sem erros."
   ]
  },
  {
   "cell_type": "markdown",
   "id": "f7c465fb-4993-4671-96ca-13ded905adb8",
   "metadata": {},
   "source": [
    "## **FAÇA VOCÊ MESMO**"
   ]
  },
  {
   "cell_type": "markdown",
   "id": "5b78dd1f-894d-4a58-be1e-c5015c30a477",
   "metadata": {},
   "source": [
    "**12.5 – Disparos laterais:** Escreva um jogo que posicione uma espaçonave do lado esquerdo da tela e permita que o jogador a desloque para cima e para baixo. Faça a espaçonave disparar um projétil que se move para a direita da tela quando o jogador pressionar a barra de espaço. Garanta que os projéteis sejam apagados quando desaparecerem da tela."
   ]
  },
  {
   "cell_type": "code",
   "execution_count": null,
   "id": "4aa91b71-cd76-4a11-aa3a-1c0a4d8759ed",
   "metadata": {},
   "outputs": [],
   "source": []
  },
  {
   "cell_type": "markdown",
   "id": "805d67b5-47ec-4fdb-8438-ce295dc2b67c",
   "metadata": {},
   "source": [
    "## **Resumo**"
   ]
  },
  {
   "cell_type": "markdown",
   "id": "792b7d59-09b7-4621-a12c-820d5c0d3b8f",
   "metadata": {},
   "source": [
    "Neste capítulo aprendemos a **criar um plano para um jogo**. Conhecemos a **estrutura básica de um jogo escrito com o <code>Pygame</code>. Vimos como definir uma cor de fundo e armazenar configurações em uma classe separada, na qual esses dados possam ser disponibilizados para todas as partes do jogo**. Aprendemos a desenhar uma imagem na tela e permitir que o jogador controle o movimento dos elementos do jogo. **Vimos como criar elementos que se movem por conta própria, como projéteis que se deslocam para cima na tela, e aprendemos a apagar objetos que não sejam mais necessários**. Aprendemos a refatorar o código de um projeto com regularidade a fim de facilitar um desenvolvimento contínuo.\n",
    "\n",
    "No Capítulo 13 acrescentaremos alienígenas na **Invasão Alienígena**. E no final desse capítulo você será capaz de eliminar os alienígenas com disparos; espero que você consiga fazer isso antes que eles alcancem a sua espaçonave."
   ]
  },
  {
   "cell_type": "markdown",
   "id": "ebb178eb-4125-47a1-8ba1-f2e1441ac5d4",
   "metadata": {},
   "source": [
    "****"
   ]
  },
  {
   "cell_type": "markdown",
   "id": "9eb86e5d-acd4-4b49-9711-26137678003d",
   "metadata": {},
   "source": [
    "**N.T.: <code>Gameplay ou jogabilidade</code> é um termo que se refere às experiências do jogador durante a sua interação com os sistemas de um jogo;** o termo descreve aspectos como a facilidade de uso do jogo, a quantidade de vezes que ele pode ser completado ou a sua duração (baseado em: https://pt.wikipedia.org/wiki/Jogabilidade)."
   ]
  },
  {
   "cell_type": "code",
   "execution_count": null,
   "id": "3c95c5c6-fc7c-43de-a82b-396d754e4b9d",
   "metadata": {},
   "outputs": [],
   "source": []
  }
 ],
 "metadata": {
  "kernelspec": {
   "display_name": "Python 3 (ipykernel)",
   "language": "python",
   "name": "python3"
  },
  "language_info": {
   "codemirror_mode": {
    "name": "ipython",
    "version": 3
   },
   "file_extension": ".py",
   "mimetype": "text/x-python",
   "name": "python",
   "nbconvert_exporter": "python",
   "pygments_lexer": "ipython3",
   "version": "3.11.5"
  }
 },
 "nbformat": 4,
 "nbformat_minor": 5
}
