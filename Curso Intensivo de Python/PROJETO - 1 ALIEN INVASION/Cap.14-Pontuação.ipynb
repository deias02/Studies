{
 "cells": [
  {
   "cell_type": "markdown",
   "id": "1be8752f-d7bd-406c-b238-3603402b34ce",
   "metadata": {},
   "source": [
    "# Cap.14 - **Pontuação**"
   ]
  },
  {
   "cell_type": "markdown",
   "id": "faf74309-5983-434d-9461-51ef2edada53",
   "metadata": {},
   "source": [
    "Neste capítulo terminaremos o jogo Invasão Alienígena. Adicionaremos **um botão <code>Play</code> para iniciar o jogo por demanda ou reiniciá-lo depois que terminar. Também mudaremos o jogo para que fique mais rápido quando o jogador passar para o próximo nível e implementaremos um sistema de pontuação.** No final do capítulo você saberá o suficiente para começar a escrever jogos que aumentem o nível de dificuldade à medida que o jogador progredir e que mostrem as pontuações."
   ]
  },
  {
   "cell_type": "markdown",
   "id": "203b484a-5bc3-44ed-b903-057936509879",
   "metadata": {},
   "source": [
    "## **Adicionando o botão Play**"
   ]
  },
  {
   "cell_type": "markdown",
   "id": "8ab409b6-5c24-468d-ab90-5b23282902e7",
   "metadata": {
    "tags": []
   },
   "source": [
    "Nesta seção adicionaremos **um botão <code>Play (Jogar)</code> que aparece antes de um jogo começar e reaparece quando ele termina para que seja possível jogar novamente**.  \n",
    "\n",
    "No momento, o jogo começa assim que <code>**'alien_invasion.py'**</code> é executado. Vamos iniciar o jogo em um estado inativo e então pedir que o jogador clique em um botão <code>**Play**</code> para começar. Para isso, digite o seguinte em <code>**'game_stats.py':**</code>"
   ]
  },
  {
   "cell_type": "code",
   "execution_count": null,
   "id": "f207154f-9f58-47b8-8321-8c8d5e552cd8",
   "metadata": {},
   "outputs": [],
   "source": [
    "#game_stats.py \n",
    "def __init__(self, ai_settings):\n",
    "    \"\"\"Inicializa os dados estatísticos.\"\"\"\n",
    "    self.ai_settings = ai_settings \n",
    "    self.reset_stats()\n",
    "    \n",
    "    # Inicia o jogo em um estado inativo \n",
    "    self.game_active = False\n",
    "    \n",
    "def reset_stats(self): \n",
    "    --trecho omitido--"
   ]
  },
  {
   "cell_type": "markdown",
   "id": "7f8c9cff-907d-45ed-baed-8dfe3ed056c7",
   "metadata": {},
   "source": [
    "Agora o jogo deve começar em um estado inativo, sem uma maneira de o jogador iniciá-lo até criarmos um botão <code>**Play**</code>."
   ]
  },
  {
   "cell_type": "markdown",
   "id": "f92fb327-c96c-4d7e-856e-e5729dd6a780",
   "metadata": {
    "tags": []
   },
   "source": [
    "### Criando uma **classe <code>Button</code>**"
   ]
  },
  {
   "cell_type": "markdown",
   "id": "62b70e6a-c1a8-459c-b11d-128de3e341d1",
   "metadata": {},
   "source": [
    "Como **o <code>Pygame</code> não tem um método embutido para criar 'botões', escreveremos uma classe <code>Button</code> para criar um retângulo preenchido e que tenha um rótulo**. Você poderá usar esse código para criar qualquer botão em um jogo. Eis a primeira parte da **classe <code>Button</code>**; salve-a em <code>**'button.py'**</code>:"
   ]
  },
  {
   "cell_type": "code",
   "execution_count": 20,
   "id": "dc3b3db2-a97d-49c6-b021-037398de9841",
   "metadata": {
    "tags": []
   },
   "outputs": [
    {
     "ename": "ImportError",
     "evalue": "cannot import name 'Font' from partially initialized module 'pygame.font' (most likely due to a circular import) (/Users/denilsondias/anaconda3/lib/python3.11/site-packages/pygame/font.py)",
     "output_type": "error",
     "traceback": [
      "\u001b[0;31m---------------------------------------------------------------------------\u001b[0m",
      "\u001b[0;31mImportError\u001b[0m                               Traceback (most recent call last)",
      "Cell \u001b[0;32mIn[20], line 2\u001b[0m\n\u001b[1;32m      1\u001b[0m \u001b[38;5;66;03m#button.py \u001b[39;00m\n\u001b[0;32m----> 2\u001b[0m \u001b[38;5;28;01mimport\u001b[39;00m \u001b[38;5;21;01mpygame\u001b[39;00m\u001b[38;5;21;01m.\u001b[39;00m\u001b[38;5;21;01mfont\u001b[39;00m\n\u001b[1;32m      4\u001b[0m \u001b[38;5;28;01mclass\u001b[39;00m \u001b[38;5;21;01mButton\u001b[39;00m():\n\u001b[1;32m      5\u001b[0m     \u001b[38;5;28;01mdef\u001b[39;00m \u001b[38;5;21m__init__\u001b[39m(\u001b[38;5;28mself\u001b[39m, ai_settings, screen, msg): \n",
      "File \u001b[0;32m~/anaconda3/lib/python3.11/site-packages/pygame/font.py:17\u001b[0m\n\u001b[1;32m     15\u001b[0m \u001b[38;5;28;01mfrom\u001b[39;00m \u001b[38;5;21;01mpygame\u001b[39;00m\u001b[38;5;21;01m.\u001b[39;00m\u001b[38;5;21;01m_freetype\u001b[39;00m \u001b[38;5;28;01mimport\u001b[39;00m quit, get_default_font, get_init \u001b[38;5;28;01mas\u001b[39;00m _get_init\n\u001b[1;32m     16\u001b[0m \u001b[38;5;28;01mfrom\u001b[39;00m \u001b[38;5;21;01mpygame\u001b[39;00m\u001b[38;5;21;01m.\u001b[39;00m\u001b[38;5;21;01m_freetype\u001b[39;00m \u001b[38;5;28;01mimport\u001b[39;00m _internal_mod_init\n\u001b[0;32m---> 17\u001b[0m \u001b[38;5;28;01mfrom\u001b[39;00m \u001b[38;5;21;01mpygame\u001b[39;00m\u001b[38;5;21;01m.\u001b[39;00m\u001b[38;5;21;01msysfont\u001b[39;00m \u001b[38;5;28;01mimport\u001b[39;00m match_font, get_fonts, SysFont \u001b[38;5;28;01mas\u001b[39;00m _SysFont\n\u001b[1;32m     18\u001b[0m \u001b[38;5;28;01mfrom\u001b[39;00m \u001b[38;5;21;01mpygame\u001b[39;00m \u001b[38;5;28;01mimport\u001b[39;00m encode_file_path\n\u001b[1;32m     21\u001b[0m \u001b[38;5;28;01mclass\u001b[39;00m \u001b[38;5;21;01mFont\u001b[39;00m(_Font):\n",
      "File \u001b[0;32m~/anaconda3/lib/python3.11/site-packages/pygame/sysfont.py:27\u001b[0m\n\u001b[1;32m     24\u001b[0m \u001b[38;5;28;01mimport\u001b[39;00m \u001b[38;5;21;01mwarnings\u001b[39;00m\n\u001b[1;32m     25\u001b[0m \u001b[38;5;28;01mfrom\u001b[39;00m \u001b[38;5;21;01mos\u001b[39;00m\u001b[38;5;21;01m.\u001b[39;00m\u001b[38;5;21;01mpath\u001b[39;00m \u001b[38;5;28;01mimport\u001b[39;00m basename, dirname, exists, join, splitext\n\u001b[0;32m---> 27\u001b[0m \u001b[38;5;28;01mfrom\u001b[39;00m \u001b[38;5;21;01mpygame\u001b[39;00m\u001b[38;5;21;01m.\u001b[39;00m\u001b[38;5;21;01mfont\u001b[39;00m \u001b[38;5;28;01mimport\u001b[39;00m Font\n\u001b[1;32m     29\u001b[0m \u001b[38;5;28;01mif\u001b[39;00m sys\u001b[38;5;241m.\u001b[39mplatform \u001b[38;5;241m!=\u001b[39m \u001b[38;5;124m\"\u001b[39m\u001b[38;5;124memscripten\u001b[39m\u001b[38;5;124m\"\u001b[39m:\n\u001b[1;32m     30\u001b[0m     \u001b[38;5;28;01mif\u001b[39;00m os\u001b[38;5;241m.\u001b[39mname \u001b[38;5;241m==\u001b[39m \u001b[38;5;124m\"\u001b[39m\u001b[38;5;124mnt\u001b[39m\u001b[38;5;124m\"\u001b[39m:\n",
      "\u001b[0;31mImportError\u001b[0m: cannot import name 'Font' from partially initialized module 'pygame.font' (most likely due to a circular import) (/Users/denilsondias/anaconda3/lib/python3.11/site-packages/pygame/font.py)"
     ]
    }
   ],
   "source": [
    "#button.py \n",
    "import pygame.font\n",
    "\n",
    "class Button():\n",
    "    def __init__(self, ai_settings, screen, msg): \n",
    "        \"\"\"Inicializa os atributos do botão.\"\"\"\n",
    "        self.screen = screen \n",
    "        self.screen_rect = screen.get_rect()\n",
    "        \n",
    "        # Define as dimensões e as propriedades do botão\n",
    "        self.width, self.height = 200, 50\n",
    "        self.button_color = (0, 255, 0) \n",
    "        self.text_color = (255, 255, 255) \n",
    "        self.font = pygame.font.SysFont(None, 48)\n",
    "        \n",
    "        # Constrói o objeto rect do botão e o centraliza \n",
    "        self.rect = pygame.Rect(0, 0, self.width, self.height) \n",
    "        self.rect.center = self.screen_rect.center\n",
    "        \n",
    "        # A mensagem do botão deve ser preparada apenas uma vez \n",
    "        self.prep_msg(msg)"
   ]
  },
  {
   "cell_type": "markdown",
   "id": "bbaa7815-9b05-4a7f-ac56-e458fbd1c980",
   "metadata": {},
   "source": [
    "Inicialmente **importamos o módulo <code>pygame.font</code>, que permite ao <code>Pygame</code> renderizar um texto na tela. O método <code>__init__()</code> aceita os parâmetros <code>self</code>, os objetos <code>ai_settings e screen, e msg</code> que contém o texto do botão.** Estabelecemos as dimensões do botão, definimos <code>**button_color para colorir o objeto rect do botão**</code> com verde claro e definimos <code>**text_color para renderizar o texto em branco**</code>.\n",
    "\n",
    "E preparamos um atributo <code>**font**</code> para renderizar o texto. **O argumento <code>None</code> diz ao <code>Pygame para usar a fonte default, e 48</code> determina o tamanho do texto.** Para centralizar o botão na tela, criamos <code>**um rect para o botão**</code> e definimos o seu atributo center para que seja igual ao da tela.\n",
    "O <code>**Pygame**</code> trabalha com textos renderizando a string que você quer exibir como uma imagem. E chamamos <code>**prep_msg()**</code> para tratar essa renderização.\n",
    "\n",
    "Eis o código de <code>**prep_msg()**</code>:"
   ]
  },
  {
   "cell_type": "code",
   "execution_count": 10,
   "id": "b25002a1-e889-449d-a40d-09f2e3b8c5fc",
   "metadata": {
    "tags": []
   },
   "outputs": [],
   "source": [
    "#button.py \n",
    "def prep_msg(self, msg): \n",
    "    \"\"\"Transforma msg em imagem renderizada e centraliza o texto no botão.\"\"\"\n",
    "    self.msg_image = self.font.render(msg, True, self.text_color, self.button_color) \n",
    "    self.msg_image_rect = self.msg_image.get_rect() \n",
    "    self.msg_image_rect.center = self.rect.center"
   ]
  },
  {
   "cell_type": "markdown",
   "id": "37edc4d0-f03d-48b7-8cfe-6cff00756962",
   "metadata": {},
   "source": [
    "**O método <code>prep_msg()</code> precisa de um parâmetro <code>self</code> e do texto a ser renderizado como uma imagem <code>(msg)</code>. A chamada a <code>font.render()</code> transforma o texto armazenado em <code>msg</code> em uma imagem, que então é guardada em <code>msg_image</code>. O método <code>font.render()</code> também aceita um <code>valor booleano para ativar ou desativar o antialiasing</code>** (o <code>**antialiasing**</code> deixa as bordas do texto mais suaves). **Os argumentos restantes são a cor especificada para a fonte e a cor de fundo. Definimos o <code>antialiasing</code> com <code>True</code> e a cor de fundo do texto com a mesma cor do botão.** (Se você não incluir uma cor de fundo, o <code>Pygame</code> tentará renderizar a fonte com uma cor de fundo transparente.) **E centralizamos a imagem do texto sobre o botão, criando <code>um rect</code> a partir da imagem e definindo seu atributo center para que seja igual ao do botão.** \n",
    "\n",
    "Por fim, criamos um método <code>**draw_button()**</code> que pode ser chamado para exibir o botão na tela: "
   ]
  },
  {
   "cell_type": "code",
   "execution_count": 12,
   "id": "ef3f4051-fd92-4c27-954d-bd3201ec08df",
   "metadata": {
    "tags": []
   },
   "outputs": [],
   "source": [
    "#button.py \n",
    "def draw_button(self): \n",
    "    # Desenha um botão em branco e, em seguida, desenha a mensagem \n",
    "    self.screen.fill(self.button_color, self.rect) \n",
    "    self.screen.blit(self.msg_image, self.msg_image_rect)"
   ]
  },
  {
   "cell_type": "markdown",
   "id": "a2535796-8538-4032-bdbd-5081c1c9b25c",
   "metadata": {},
   "source": [
    "Chamamos <code>**screen.fill()**</code> para desenhar a parte retangular do botão. Então chamamos <code>**screen.blit()**</code> para desenhar a imagem do texto na tela, passando-lhe uma imagem e o objeto <code>**rect**</code> associado a ela. Com isso, concluímos a **classe <code>Button.</code>**"
   ]
  },
  {
   "cell_type": "markdown",
   "id": "61a0a45f-0e02-459c-a3fd-483a523d005b",
   "metadata": {},
   "source": [
    "### Desenhando o botão na tela"
   ]
  },
  {
   "cell_type": "markdown",
   "id": "317c582b-981e-41b3-a19d-7bb8cac00ff1",
   "metadata": {},
   "source": [
    "Usaremos a **classe <code>Button</code>** para criar um botão <code>**Play**</code>. Como precisamos de apenas um botão Play, criaremos esse botão diretamente em <code>**'alien_invasion.py'**</code>, como vemos a seguir:"
   ]
  },
  {
   "cell_type": "code",
   "execution_count": null,
   "id": "6cab6bd7-1f50-46ea-a782-823585ff1347",
   "metadata": {},
   "outputs": [],
   "source": [
    "#alien_invasion.py \n",
    "--trecho omitido--\n",
    "from game_stats import GameStats \n",
    "from button import Button \n",
    "--trecho omitido--\n",
    "\n",
    "def run_game(): \n",
    "    --trecho omitido-- \n",
    "    pygame.display.set_caption(\"Alien Invasion\")\n",
    "\n",
    "    # Cria o botão Play  \n",
    "    play_button = Button(ai_settings, screen,\"Play\") \n",
    "    --trecho omitido--\n",
    "\n",
    "    # Inicia o laço principal do jogo \n",
    "    while True: \n",
    "        --trecho omitido--  \n",
    "        gf.update_screen(ai_settings, screen, stats, ship, aliens, bullets, play_button)"
   ]
  },
  {
   "cell_type": "markdown",
   "id": "29631c4a-b8dd-4cea-b0ad-cd9e21452fdd",
   "metadata": {},
   "source": [
    "Importamos <code>**Button**</code> e criamos uma instância chamada **<code>play_button</code>; então passamos <code>play_button</code> para <code>update_screen()</code> para que o botão apareça quando a tela for atualizada**.\n",
    "\n",
    "Em seguida modifique <code>**update_screen()**</code> para que o botão <code>**Play**</code> apareça somente quando o jogo estiver inativo:"
   ]
  },
  {
   "cell_type": "code",
   "execution_count": null,
   "id": "59ea9819-c199-43a8-a845-e7046c026714",
   "metadata": {},
   "outputs": [],
   "source": [
    "#game_functions.py \n",
    "def update_screen(ai_settings, screen, stats, ship, aliens, bullets, play_button): \n",
    "    \"\"\"Atualiza as imagens na tela e alterna para a nova tela.\"\"\"\n",
    "    --trecho omitido--\n",
    "    # Desenha o botão Play se o jogo estiver inativo \n",
    "    if not stats.game_active: \n",
    "        play_button.draw_button()\n",
    "    # Deixa a tela mais recente visível \n",
    "    pygame.display.flip()"
   ]
  },
  {
   "cell_type": "markdown",
   "id": "7463c65f-6eec-474a-9be4-cda3bcb1fca5",
   "metadata": {},
   "source": [
    "**Para deixar o botão <code>**Play**</code> visível sobre todos os demais elementos da tela, ele é desenhado depois que todos os outros elementos do jogo foram desenhados, mas antes de alternarmos para uma nova tela**. Agora, quando executar a <code>**Invasão Alienígena**</code>, você deverá ver um botão <code>**Play**</code> no centro da tela."
   ]
  },
  {
   "cell_type": "code",
   "execution_count": null,
   "id": "c31d8561-ef05-46d5-8f6c-c87df91832c6",
   "metadata": {
    "tags": []
   },
   "outputs": [
    {
     "name": "stdout",
     "output_type": "stream",
     "text": [
      "pygame 2.6.0 (SDL 2.28.4, Python 3.11.5)\n",
      "Hello from the pygame community. https://www.pygame.org/contribute.html\n"
     ]
    }
   ],
   "source": [
    "import pygame\n",
    "from settings import Settings\n",
    "from game_stats import GameStats\n",
    "from button import Button \n",
    "from ship import Ship\n",
    "from alien import Alien\n",
    "import game_functions as gf\n",
    "from pygame.sprite import Group \n",
    "\n",
    "\n",
    "def run_game():\n",
    "    # Inicializa o jogo e cria um objeto para a tela\n",
    "    pygame.init()\n",
    "    ai_settings = Settings() \n",
    "    screen = pygame.display.set_mode((ai_settings.screen_width, ai_settings.screen_height))\n",
    "    pygame.display.set_caption(\"Alien Invasion\")\n",
    "    \n",
    "\n",
    "    # Cria o botão Play  \n",
    "    play_button = Button(ai_settings, screen,\"Play\") \n",
    "    \n",
    "    # Cria uma instância para armazenar dados estatísticos do jogo\n",
    "    stats = GameStats(ai_settings)\n",
    "    \n",
    "    # Define a cor de fundo \n",
    "    bg_color = (230, 230, 230)\n",
    "    \n",
    "    # Cria uma espaçonave, um grupo de projéteis e um grupo de alienígenas\n",
    "    ship = Ship(ai_settings, screen)\n",
    "    bullets = Group() \n",
    "    aliens = Group() \n",
    "    # Cria a frota de alienígenas \n",
    "    gf.create_fleet(ai_settings, screen, ship, aliens)\n",
    "    \n",
    "    \n",
    "    # Inicia o laço principal do jogo\n",
    "    while True:\n",
    "        gf.check_events(ai_settings, screen, stats, play_button, ship, bullets)\n",
    "        \n",
    "        if stats.game_active: \n",
    "            ship.update()\n",
    "            gf.update_bullets(ai_settings, screen, ship, aliens, bullets)\n",
    "            gf.update_aliens(ai_settings, stats, screen, ship, aliens, bullets)\n",
    "        \n",
    "        gf.update_screen(ai_settings, screen, stats, ship, aliens, bullets, play_button)\n",
    "        \n",
    "        alien_drop_speedc=50\n",
    "        \n",
    "        # Redesenha a tela a cada passagem pelo laço\n",
    "        screen.fill(ai_settings.bg_color)\n",
    "        ship.blitme()\n",
    "        aliens.draw(screen)\n",
    "        play_button.draw_button()\n",
    "        \n",
    "        # Deixa a tela mais recente visível\n",
    "        pygame.display.flip()\n",
    "\n",
    "# Chama a função para iniciar o jogo\n",
    "run_game()"
   ]
  },
  {
   "cell_type": "markdown",
   "id": "ec9aa290-1174-4c4e-8115-ff675240d5c1",
   "metadata": {
    "tags": []
   },
   "source": [
    "###  Iniciando o jogo"
   ]
  },
  {
   "cell_type": "markdown",
   "id": "08b1d1f3-65db-4bba-90a3-67cf5d498b7e",
   "metadata": {},
   "source": [
    "Para iniciar um novo jogo quando o jogador clicar em <code>**Play**</code>, acrescente o código a seguir em <code>'**game_functions.py'**</code> para monitorar eventos de mouse no botão:"
   ]
  },
  {
   "cell_type": "code",
   "execution_count": 11,
   "id": "f23f7f50-5a8d-45bd-9dff-2f4497e2cb22",
   "metadata": {},
   "outputs": [],
   "source": [
    "#game_functions.py \n",
    "def check_events(ai_settings, screen, stats, play_button, ship, bullets): \n",
    "    \"\"\"Responde a eventos de pressionamento de teclas e de mouse.\"\"\"\n",
    "    for event in pygame.event.get(): \n",
    "        if event.type == pygame.QUIT: \n",
    "            sys.exit()\n",
    "            \n",
    "        elif event.type == pygame.KEYDOWN:\n",
    "            check_keydown_events(event, ai_settings, screen, ship, bullets)\n",
    "            \n",
    "        elif event.type == pygame.KEYUP:\n",
    "            check_keyup_events(event, ship)\n",
    "            \n",
    "        elif event.type == pygame.MOUSEBUTTONDOWN: \n",
    "            mouse_x, mouse_y = pygame.mouse.get_pos() \n",
    "            check_play_button(stats, play_button, mouse_x, mouse_y)\n",
    "\n",
    "def check_play_button(stats, play_button, mouse_x, mouse_y): \n",
    "    \"\"\"Inicia um novo jogo quando o jogador clicar em Play.\"\"\"\n",
    "    # Verifica se o botão Play foi clicado e se o jogo não está ativo\n",
    "    if play_button.rect.collidepoint(mouse_x, mouse_y) and not stats.game_active: \n",
    "        stats.game_active = True\n"
   ]
  },
  {
   "cell_type": "markdown",
   "id": "128f3a3e-8473-4ad7-a677-207ad8d0b9f6",
   "metadata": {},
   "source": [
    "Atualizamos a definição de <code>**check_events()**</code> para que aceite os parâmetros <code>**stats e play_button**</code>. **Usaremos <code>stats</code> para acessar a flag <code>game_active e play_button</code> para verificar se o botão <code>Play</code> foi clicado.**\n",
    "\n",
    "**O <code>Pygame</code> detecta um evento <code>MOUSEBUTTONDOWN</code> quando o jogador clica em qualquer ponto da tela, mas queremos restringir o nosso jogo de modo que ele responda a cliques do mouse somente no botão <code>Play</code>.** Para isso, usamos <code>**pygame.mouse.get_pos()**</code>, que devolve uma tupla contendo as <code>**coordenadas x e y**</code> do cursor mouse quando o botão é clicado. **Enviamos esses valores para a função <code>check_play_button()</code>, que utiliza <code>collidepoint()</code> para ver se o ponto em que o clique do mouse ocorreu se sobrepõe à região definida pelo rect do botão <code>**Play**</code>.** Em caso afirmativo, definimos <code>**game_active com True**</code> e o jogo começa!\n",
    "\n",
    "A chamada a <code>**check_events()**</code> em **'alien_invasion.py'** deve passar dois argumentos adicionais: stats e <code>**play_button**</code>:"
   ]
  },
  {
   "cell_type": "code",
   "execution_count": null,
   "id": "481ff421-bcbf-4590-aac5-2e998f404a03",
   "metadata": {},
   "outputs": [],
   "source": [
    "alien_invasion.py # Inicia o laço principal do jogo \n",
    "while True: \n",
    "    gf.check_events(ai_settings, screen, stats, play_button, ship, bullets) \n",
    "    --trecho omitido--#"
   ]
  },
  {
   "cell_type": "markdown",
   "id": "4037d2ce-2298-4c78-a329-8f6ffebba51a",
   "metadata": {},
   "source": [
    "A essa altura, você deverá ser capaz de 'iniciar' e usar um jogo completo. **Quando o jogo terminar, o valor de <code>game_active</code> deverá se tornar <code>False</code> e o botão <code>Play</code> deverá reaparecer.**"
   ]
  },
  {
   "cell_type": "markdown",
   "id": "ee0e7fe5-3237-4e84-b91e-e00e2d2791ee",
   "metadata": {},
   "source": [
    "### Reiniciando o jogo"
   ]
  },
  {
   "cell_type": "markdown",
   "id": "bbb00573-73ff-467c-8384-bc7a7fc107f9",
   "metadata": {},
   "source": [
    "O código que acabamos de escrever funciona na primeira vez que o jogador clicar em <code>**Play**</code>, mas não depois que o primeiro jogo terminar, pois as condições que fizeram o jogo ser encerrado ainda não foram reiniciadas.   \n",
    "**Para recomeçar o jogo sempre que o jogador clicar em <code>**Play**</code>, devemos reiniciar os dados estatísticos, limpar os alienígenas e os  antigos, criar uma nova frota e centralizar a espaçonave**, como vemos a seguir:"
   ]
  },
  {
   "cell_type": "code",
   "execution_count": 14,
   "id": "6b1fb3c6-efcb-4f13-9294-f5f6531e9dae",
   "metadata": {},
   "outputs": [],
   "source": [
    "#game_functions.py \n",
    "def check_play_button(ai_settings, screen, stats, play_button, ship, aliens, bullets, mouse_x, mouse_y): \n",
    "    \"\"\"Inicia um novo jogo quando o jogador clicar em Play.\"\"\"\n",
    "    if play_button.rect.collidepoint(mouse_x, mouse_y): \n",
    "        # Reinicia os dados estatísticos do jogo \n",
    "        stats.reset_stats() \n",
    "        stats.game_active = True \n",
    "    # Esvazia a lista de alienígenas e de projéteis  \n",
    "    aliens.empty()\n",
    "    bullets.empty()\n",
    "        \n",
    "    # Cria uma nova frota e centraliza a espaçonave\n",
    "    create_fleet(ai_settings, screen, ship, aliens) \n",
    "    ship.center_ship()"
   ]
  },
  {
   "cell_type": "markdown",
   "id": "da066f87-d0b1-406a-ae61-e48060c831e8",
   "metadata": {},
   "source": [
    "Atualizamos a **definição de <code>check_play_button()</code> para que essa função tenha acesso a <code>ai_settings, stats, ship, aliens e bullets</code>**. Ela precisa desses objetos para reiniciar as configurações que mudaram durante o jogo e atualizar os elementos visuais.**\n",
    "E reiniciamos os dados estatísticos do jogo, concedendo, assim, três novas espaçonaves ao jogador. Em seguida, **definimos <code>game_active com True</code> (para que o jogo comece assim que o código dessa função acabar de executar), esvaziamos os <code>grupos aliens e bullets</code>, criamos uma nova frota e centralizarmos a espaçonave.**\n",
    "\n",
    "\n",
    "A definição de <code>**check_events()**</code> deve ser modificada, assim como a chamada a <code>**check_play_button()**</code>:"
   ]
  },
  {
   "cell_type": "code",
   "execution_count": null,
   "id": "e01a13fc-da4a-4f04-bfd5-c85ddc3717de",
   "metadata": {},
   "outputs": [],
   "source": [
    "#game_functions.py \n",
    "def check_events(ai_settings, screen, stats, play_button, ship, aliens, bullets): \n",
    "    \"\"\"Responde a eventos de pressionamento de teclas e de mouse.\"\"\"\n",
    "    for event in pygame.event.get(): \n",
    "        if event.type == pygame.QUIT: \n",
    "            --trecho omitido--\n",
    "    elif event.type == pygame.MOUSEBUTTONDOWN: \n",
    "        mouse_x, mouse_y = pygame.mouse.get_pos() \n",
    "        check_play_button(ai_settings, screen, stats, play_button, ship, aliens, bullets, mouse_x, mouse_y)"
   ]
  },
  {
   "cell_type": "markdown",
   "id": "065758d4-b53b-4333-bb95-46f686192b7f",
   "metadata": {},
   "source": [
    "**A definição de <code>check_events()</code> precisa do parâmetro aliens, que será passado para <code>check_play_button()</code>.** Então atualizamos a chamada a **<code>check_play_button()</code>** para que os argumentos apropriados sejam passados.\n",
    "\n",
    "Agora atualize a chamada a <code>**check_events()**</code> em **'alien_invasion.py'** para que o argumento aliens seja passado:"
   ]
  },
  {
   "cell_type": "code",
   "execution_count": null,
   "id": "82b53d55-0270-4113-b6da-091d94936411",
   "metadata": {},
   "outputs": [],
   "source": [
    "#alien_invasion.py \n",
    "# Inicia o laço principal do jogo \n",
    "while True: \n",
    "    gf.check_events(ai_settings, screen, stats, play_button, ship, aliens, bullets) \n",
    "    --trecho omitido--"
   ]
  },
  {
   "cell_type": "markdown",
   "id": "a9a50cc9-7b49-4452-ba9f-d53e6f9550ef",
   "metadata": {},
   "source": [
    "O jogo agora será devidamente reiniciado sempre que você clicar em <code>**Play**</code>, permitindo jogá-lo quantas vezes você quiser!\n"
   ]
  },
  {
   "cell_type": "code",
   "execution_count": null,
   "id": "a2b840ac-0ec3-4651-a3d9-8b6635fc6c0b",
   "metadata": {
    "tags": []
   },
   "outputs": [
    {
     "name": "stdout",
     "output_type": "stream",
     "text": [
      "pygame 2.6.0 (SDL 2.28.4, Python 3.11.5)\n",
      "Hello from the pygame community. https://www.pygame.org/contribute.html\n"
     ]
    }
   ],
   "source": [
    "import pygame\n",
    "from settings import Settings\n",
    "from game_stats import GameStats\n",
    "from button import Button \n",
    "from ship import Ship\n",
    "from alien import Alien\n",
    "import game_functions as gf\n",
    "from pygame.sprite import Group \n",
    "\n",
    "\n",
    "def run_game():\n",
    "    # Inicializa o jogo e cria um objeto para a tela\n",
    "    pygame.init()\n",
    "    ai_settings = Settings() \n",
    "    screen = pygame.display.set_mode((ai_settings.screen_width, ai_settings.screen_height))\n",
    "    pygame.display.set_caption(\"Alien Invasion\")\n",
    "    # Cria o botão Play  \n",
    "    play_button = Button(ai_settings, screen,\"Play\") \n",
    "    \n",
    "    # Cria uma instância para armazenar dados estatísticos do jogo\n",
    "    stats = GameStats(ai_settings)\n",
    "    \n",
    "    # Define a cor de fundo \n",
    "    bg_color = (230, 230, 230)\n",
    "    \n",
    "    # Cria uma espaçonave, um grupo de projéteis e um grupo de alienígenas\n",
    "    ship = Ship(ai_settings, screen)\n",
    "    bullets = Group() \n",
    "    aliens = Group() \n",
    "    # Cria a frota de alienígenas \n",
    "    gf.create_fleet(ai_settings, screen, ship, aliens)\n",
    "    \n",
    "    \n",
    "    # Inicia o laço principal do jogo\n",
    "    while True:\n",
    "        gf.check_events(ai_settings, screen, stats, play_button, ship, aliens, bullets)\n",
    "        if stats.game_active: \n",
    "            ship.update()\n",
    "            gf.update_bullets(ai_settings, screen, ship, aliens, bullets)\n",
    "            gf.update_aliens(ai_settings, stats, screen, ship, aliens, bullets)\n",
    "        \n",
    "        gf.update_screen(ai_settings, screen, stats, ship, aliens, bullets, play_button)\n",
    "        \n",
    "        alien_drop_speedc=50\n",
    "        \n",
    "        # Redesenha a tela a cada passagem pelo laço\n",
    "        screen.fill(ai_settings.bg_color)\n",
    "        ship.blitme()\n",
    "        aliens.draw(screen)\n",
    "\n",
    "        \n",
    "        # Deixa a tela mais recente visível\n",
    "        pygame.display.flip()\n",
    "\n",
    "# Chama a função para iniciar o jogo\n",
    "run_game()"
   ]
  },
  {
   "cell_type": "markdown",
   "id": "13da9611-309f-4fd9-8b89-086f7db6f2ed",
   "metadata": {},
   "source": [
    "### Desativando o botão Play"
   ]
  },
  {
   "cell_type": "markdown",
   "id": "a43dca89-09d1-4a6e-9d50-ca837c7dc609",
   "metadata": {},
   "source": [
    "**Um problema com o nosso botão <code>Play</code> é que a região correspondente ao botão na tela continuará a responder a eventos de <code>clique</code> mesmo quando o botão não estiver mais visível. Clique na área do botão<code> Play</code> por acidente depois que o jogo tiver começado e ele será reiniciado!**\n",
    "Para corrigir isso, defina o jogo de modo que ele comece somente quando <code>**game_active for False**</code>:\n"
   ]
  },
  {
   "cell_type": "code",
   "execution_count": 6,
   "id": "6d3e072e-93ee-4d45-bbc2-605d5483ece8",
   "metadata": {
    "tags": []
   },
   "outputs": [],
   "source": [
    "def check_play_button(ai_settings, screen, stats, play_button, ship, aliens, bullets, mouse_x, mouse_y): \n",
    "    \"\"\"Inicia um novo jogo quando o jogador clicar em Play.\"\"\"\n",
    "    # Verifica se o botão Play foi clicado\n",
    "    button_clicked = play_button.rect.collidepoint(mouse_x, mouse_y)  \n",
    "    if button_clicked and not stats.game_active:\n",
    "        # Reinicia os dados estatísticos do jogo \n",
    "        stats.reset_stats() \n",
    "        stats.game_active = True \n",
    "                      \n",
    "        # Esvazia a lista de alienígenas e de projéteis  \n",
    "    aliens.empty()\n",
    "    bullets.empty()\n",
    "                      \n",
    "    # Cria uma nova frota e centraliza a espaçonave\n",
    "    create_fleet(ai_settings, screen, ship, aliens) \n",
    "    ship.center_ship()"
   ]
  },
  {
   "cell_type": "markdown",
   "id": "f152d331-33a7-48b6-89e2-9642cf995cdb",
   "metadata": {},
   "source": [
    "**A flag <code>button_clicked</code> armazena um valor <code>True ou False</code>, e o jogo será reiniciado somente se <code>Play</code> for clicado e o jogo não estiver ativo no momento.** Para testar esse comportamento, inicie um novo jogo e clique repetidamente no local em que o botão <code>**Play**</code> deveria estar. **Se tudo funcionar conforme esperado, clicar na área do botão Play<code>Play</code> não deverá ter nenhum efeito no <code>gameplay</code>.** "
   ]
  },
  {
   "cell_type": "markdown",
   "id": "9488a5d6-179c-4baa-81b4-a51050b64266",
   "metadata": {},
   "source": [
    "### Ocultando o cursor do mouse"
   ]
  },
  {
   "cell_type": "markdown",
   "id": "0b440819-a3d8-445f-8157-6294badec828",
   "metadata": {},
   "source": [
    "**Queremos que o cursor do mouse esteja visível para começar a jogar, mas depois que o jogo tiver início, o cursor só atrapalhará.** Para corrigir isso, vamos deixá-lo invisível depois que o jogo se tornar ativo:"
   ]
  },
  {
   "cell_type": "code",
   "execution_count": 6,
   "id": "3d48ab7f-3bec-4895-9492-7d81c751e90b",
   "metadata": {
    "tags": []
   },
   "outputs": [],
   "source": [
    "#game_functions.py\n",
    "def check_play_button(ai_settings, screen, stats, play_button, ship, aliens, bullets, mouse_x, mouse_y): \n",
    "    \"\"\"Inicia um novo jogo quando o jogador clicar em Play.\"\"\"\n",
    "    # Verifica se o botão Play foi clicado\n",
    "    button_clicked = play_button.rect.collidepoint(mouse_x, mouse_y)  \n",
    "    if button_clicked and not stats.game_active:\n",
    "        # Oculta o cursor do mouse \n",
    "        pygame.mouse.set_visible(False)\n",
    "        \n",
    "        # Reinicia os dados estatísticos do jogo \n",
    "        stats.reset_stats() \n",
    "        stats.game_active = True \n",
    "                      \n",
    "        # Esvazia a lista de alienígenas e de projéteis  \n",
    "    aliens.empty()\n",
    "    bullets.empty()\n",
    "                      \n",
    "    # Cria uma nova frota e centraliza a espaçonave\n",
    "    create_fleet(ai_settings, screen, ship, aliens) \n",
    "    ship.center_ship()"
   ]
  },
  {
   "cell_type": "markdown",
   "id": "3d34193f-ff7e-4765-807d-29c67ede779e",
   "metadata": {},
   "source": [
    "Passar **<code>False para set_visible()</code> diz ao Pygame para ocultar o cursor quando o mouse estiver sobre a janela do jogo.**.  \n",
    "Faremos o cursor reaparecer quando o jogo terminar para que o jogador possa clicar em <code>**Play**</code> e iniciar um novo jogo. Eis o código para fazer isso:"
   ]
  },
  {
   "cell_type": "code",
   "execution_count": 14,
   "id": "3f61f6a9-fbaa-4eed-a83a-6437ecf45833",
   "metadata": {
    "tags": []
   },
   "outputs": [],
   "source": [
    "#game_functions.py\n",
    "def ship_hit(ai_settings, stats, screen, ship, aliens, bullets):\n",
    "    \"\"\"Responde ao fato de a espaçonave ter sido atingida por um alienígena.\"\"\"\n",
    "    if stats.ships_left > 0: \n",
    "        # Decrementa ships_left \n",
    "        stats.ships_left -= 1 \n",
    "    \n",
    "        # Esvazia a lista de alienígenas e de projéteis \n",
    "        aliens.empty() \n",
    "        bullets.empty()\n",
    "        # Cria uma nova frota e centraliza a espaçonave \n",
    "        create_fleet(ai_settings, screen, ship, aliens) \n",
    "        ship.center_ship()\n",
    "    \n",
    "        # Faz uma pausa \n",
    "        sleep(0.5)            \n",
    "    \n",
    "    else: \n",
    "        stats.game_active = False\n",
    "        pygame.mouse.set_visible(True)"
   ]
  },
  {
   "cell_type": "markdown",
   "id": "fe3721b0-c919-4ce3-8130-487dd389a664",
   "metadata": {},
   "source": [
    "**Deixamos o cursor visível novamente assim que o jogo se torna inativo, o que acontece em <code>ship_hit()</code>**. A atenção a detalhes como esse deixam seu jogo parecer mais profissional e permite que o jogador se concentre em jogar, e não em entender como a interface de usuário funciona.\n"
   ]
  },
  {
   "cell_type": "markdown",
   "id": "c4f68a4b-76ce-4a14-a3ac-62dabb5c39f4",
   "metadata": {},
   "source": [
    "## **FAÇA VOCÊ MESMO**"
   ]
  },
  {
   "cell_type": "markdown",
   "id": "36cb6fdb-3f66-4414-9e98-6565b8ea867d",
   "metadata": {},
   "source": [
    "**14.1 – Tecle P para jogar:** Como a Invasão Alienígena usa entradas de teclado para controlar a espaçonave, é melhor iniciar o jogo com um pressionamento de tecla. Acrescente um código que permita ao jogador teclar P para iniciar o jogo. Transferir parte do código de **check_play_button()** para uma função **start_game()**, possível de ser chamada tanto de **check_play_button()** quanto de **check_keydown_events()**, pode ajudar."
   ]
  },
  {
   "cell_type": "code",
   "execution_count": null,
   "id": "b666d662-a2ec-447f-b0cc-acba46592ffa",
   "metadata": {
    "tags": []
   },
   "outputs": [],
   "source": [
    " def check_play_button(ai_settings, screen, stats, sb, play_button, ship, aliens, bullets, mouse_x, mouse_y):\n",
    "    \"\"\"Inicia um novo jogo quando o jogador clica em Play.\"\"\"\n",
    "    button_clicked = play_button.rect.collidepoint(mouse_x, mouse_y)\n",
    "    if button_clicked and not stats.game_active:\n",
    "        start_game(ai_settings, screen, stats, sb, ship, aliens, bullets)\n",
    "\n",
    "def check_keydown_events(event, ai_settings, screen, stats, sb, ship, aliens, bullets):\n",
    "    \"\"\"Responde a pressionamentos de tecla.\"\"\"\n",
    "    if event.key == pygame.K_p:\n",
    "        if not stats.game_active:\n",
    "            start_game(ai_settings, screen, stats, sb, ship, aliens, bullets)\n",
    "    # Outras verificações de teclas...\n",
    "\n",
    "def start_game(ai_settings, screen, stats, sb, ship, aliens, bullets):\n",
    "    \"\"\"Inicia o jogo.\"\"\"\n",
    "    # Esconder o cursor do mouse.\n",
    "    pygame.mouse.set_visible(False)\n",
    "\n",
    "    # Reseta as estatísticas do jogo.\n",
    "    stats.reset_stats()\n",
    "    stats.game_active = True\n",
    "\n",
    "    # Reinicia as imagens do painel de pontuação.\n",
    "    sb.prep_score()\n",
    "    sb.prep_high_score()\n",
    "    sb.prep_level()\n",
    "    sb.prep_ships()\n",
    "\n",
    "    # Esvazia a lista de alienígenas e balas.\n",
    "    aliens.empty()\n",
    "    bullets.empty()\n",
    "\n",
    "    # Cria uma nova frota e centraliza a espaçonave.\n",
    "    create_fleet(ai_settings, screen, ship, aliens)\n",
    "    ship.center_ship()\n",
    "    \n"
   ]
  },
  {
   "cell_type": "markdown",
   "id": "ad06643f-2192-412e-8109-42deef92d4ba",
   "metadata": {},
   "source": [
    "**14.2 – Treino de tiro ao alvo:** Crie um retângulo na borda direita da tela que possa se mover para cima e para baixo a uma velocidade constante. Em seguida, faça uma espaçonave aparecer do lado esquerdo da tela; o jogador poderá movê-la para cima e para baixo, ao mesmo tempo que atira no retângulo em movimento. Acrescente um botão Play para iniciar o jogo e, quando o jogador errar o alvo três vezes, finalize o jogo e faça o botão Play reaparecer. Deixe o jogador reiniciar o jogo com esse botão."
   ]
  },
  {
   "cell_type": "code",
   "execution_count": null,
   "id": "df374237-76a3-4dfb-8dad-0fc42060996a",
   "metadata": {
    "tags": []
   },
   "outputs": [
    {
     "name": "stdout",
     "output_type": "stream",
     "text": [
      "pygame 2.6.0 (SDL 2.28.4, Python 3.11.5)\n",
      "Hello from the pygame community. https://www.pygame.org/contribute.html\n"
     ]
    }
   ],
   "source": [
    "import pygame\n",
    "import sys\n",
    "\n",
    "# Configurações básicas\n",
    "pygame.init()\n",
    "screen = pygame.display.set_mode((800, 600))\n",
    "pygame.display.set_caption(\"Treino de Tiro ao Alvo\")\n",
    "\n",
    "# Cores\n",
    "WHITE = (255, 255, 255)\n",
    "BLUE = (0, 0, 255)\n",
    "RED = (255, 0, 0)\n",
    "\n",
    "# Classe para o Retângulo Alvo\n",
    "class Target:\n",
    "    def __init__(self, screen):\n",
    "        self.screen = screen\n",
    "        self.rect = pygame.Rect(750, 300, 50, 50)\n",
    "        self.color = RED\n",
    "        self.speed = 3\n",
    "        self.direction = 1\n",
    "\n",
    "    def update(self):\n",
    "        self.rect.y += self.speed * self.direction\n",
    "        if self.rect.top <= 0 or self.rect.bottom >= 600:\n",
    "            self.direction *= -1\n",
    "\n",
    "    def draw(self):\n",
    "        pygame.draw.rect(self.screen, self.color, self.rect)\n",
    "\n",
    "# Classe para a Nave do Jogador\n",
    "class Ship:\n",
    "    def __init__(self, screen):\n",
    "        self.screen = screen\n",
    "        self.rect = pygame.Rect(50, 300, 50, 50)\n",
    "        self.color = BLUE\n",
    "        self.speed = 5\n",
    "        self.moving_up = False\n",
    "        self.moving_down = False\n",
    "\n",
    "    def update(self):\n",
    "        if self.moving_up and self.rect.top > 0:\n",
    "            self.rect.y -= self.speed\n",
    "        if self.moving_down and self.rect.bottom < 600:\n",
    "            self.rect.y += self.speed\n",
    "\n",
    "    def draw(self):\n",
    "        pygame.draw.rect(self.screen, self.color, self.rect)\n",
    "\n",
    "# Classe para a Bala\n",
    "class Bullet:\n",
    "    def __init__(self, screen, ship):\n",
    "        self.screen = screen\n",
    "        self.rect = pygame.Rect(0, 0, 15, 3)\n",
    "        self.rect.midleft = ship.rect.midright\n",
    "        self.color = WHITE\n",
    "        self.speed = 10\n",
    "\n",
    "    def update(self):\n",
    "        self.rect.x += self.speed\n",
    "\n",
    "    def draw(self):\n",
    "        pygame.draw.rect(self.screen, self.color, self.rect)\n",
    "\n",
    "# Função para iniciar o jogo\n",
    "def start_game():\n",
    "    ship = Ship(screen)\n",
    "    target = Target(screen)\n",
    "    bullets = []\n",
    "    misses = 0\n",
    "\n",
    "    while True:\n",
    "        # Eventos do jogo\n",
    "        for event in pygame.event.get():\n",
    "            if event.type == pygame.QUIT:\n",
    "                pygame.quit()\n",
    "                sys.exit()\n",
    "            elif event.type == pygame.KEYDOWN:\n",
    "                if event.key == pygame.K_UP:\n",
    "                    ship.moving_up = True\n",
    "                elif event.key == pygame.K_DOWN:\n",
    "                    ship.moving_down = True\n",
    "                elif event.key == pygame.K_SPACE:\n",
    "                    bullets.append(Bullet(screen, ship))\n",
    "            elif event.type == pygame.KEYUP:\n",
    "                if event.key == pygame.K_UP:\n",
    "                    ship.moving_up = False\n",
    "                elif event.key == pygame.K_DOWN:\n",
    "                    ship.moving_down = False\n",
    "\n",
    "        # Atualizações do jogo\n",
    "        ship.update()\n",
    "        target.update()\n",
    "        \n",
    "        for bullet in bullets:\n",
    "            bullet.update()\n",
    "            if bullet.rect.right > 800:\n",
    "                bullets.remove(bullet)\n",
    "                misses += 1\n",
    "            elif bullet.rect.colliderect(target.rect):\n",
    "                bullets.remove(bullet)\n",
    "\n",
    "        # Condição de fim de jogo\n",
    "        if misses >= 3:\n",
    "            break\n",
    "\n",
    "        # Desenhar na tela\n",
    "        screen.fill((0, 0, 0))\n",
    "        ship.draw()\n",
    "        target.draw()\n",
    "        \n",
    "        for bullet in bullets:\n",
    "            bullet.draw()\n",
    "        \n",
    "        pygame.display.flip()\n",
    "\n",
    "    # Exibir botão Play para reiniciar\n",
    "    play_button(screen)\n",
    "\n",
    "def play_button(screen):\n",
    "    font = pygame.font.Font(None, 74)\n",
    "    play_text = font.render(\"Play\", True, WHITE)\n",
    "    play_rect = play_text.get_rect(center=(400, 300))\n",
    "    screen.fill((0, 0, 0))\n",
    "    screen.blit(play_text, play_rect)\n",
    "    pygame.display.flip()\n",
    "\n",
    "    # Aguardar clique no botão\n",
    "    while True:\n",
    "        for event in pygame.event.get():\n",
    "            if event.type == pygame.QUIT:\n",
    "                pygame.quit()\n",
    "                sys.exit()\n",
    "            elif event.type == pygame.MOUSEBUTTONDOWN:\n",
    "                mouse_x, mouse_y = pygame.mouse.get_pos()\n",
    "                if play_rect.collidepoint(mouse_x, mouse_y):\n",
    "                    start_game()\n",
    "\n",
    "# Iniciar o jogo\n",
    "play_button(screen)"
   ]
  },
  {
   "cell_type": "markdown",
   "id": "4ead6489-21fb-471a-b35a-dfbd6344bf4e",
   "metadata": {},
   "source": [
    "****"
   ]
  },
  {
   "cell_type": "markdown",
   "id": "cd159a7c-edd1-4416-a685-a55c3a06af36",
   "metadata": {},
   "source": [
    "## **Passando para o próximo nível**"
   ]
  },
  {
   "cell_type": "markdown",
   "id": "504d93e0-fc1c-4e76-9e81-71bcdc158da8",
   "metadata": {},
   "source": [
    "Em nosso jogo atual, depois que um jogador elimina toda a frota de alienígenas ele passa para um novo nível, mas a dificuldade do jogo não muda. **Vamos deixar o jogo um pouco mais animado e desafiador aumentando a velocidade sempre que um jogador limpar a tela.**"
   ]
  },
  {
   "cell_type": "markdown",
   "id": "159f783f-48a7-4100-987f-348b741cccc5",
   "metadata": {},
   "source": [
    "### Modificando as configurações de velocidade"
   ]
  },
  {
   "cell_type": "markdown",
   "id": "7407f8fa-fc9c-431b-ad3b-4700adf589cc",
   "metadata": {},
   "source": [
    "Em primeiro lugar, **reorganize a classe <code>Settings</code> para agrupar as configurações do jogo em dados estáticos e dados que mudam**. Também garantiremos que as configurações que mudam durante um jogo sejam reiniciadas quando um novo jogo começar. Eis o método <code>**__init__() de settings.py**</code>: "
   ]
  },
  {
   "cell_type": "code",
   "execution_count": 35,
   "id": "de50e6c3-4d91-46a9-a038-f3ba5cdcf39b",
   "metadata": {
    "tags": []
   },
   "outputs": [],
   "source": [
    "#settings.py \n",
    "def __init__(self): \n",
    "    \"\"\"Inicializa as configurações estáticas do jogo.\"\"\"\n",
    "    # Configurações da tela \n",
    "    self.screen_width = 1200 \n",
    "    self.screen_height = 800\n",
    "    self.bg_color = (230, 230, 230)\n",
    "    \n",
    "    # Configurações da espaçonave \n",
    "    self.ship_limit = 3\n",
    "    \n",
    "    # Configurações dos projéteis \n",
    "    self.bullet_width = 3\n",
    "    self.bullet_height = 15 \n",
    "    self.bullet_color = 60, 60, 60 \n",
    "    self.bullets_allowed = 3\n",
    "    \n",
    "    # Configurações dos alienígenas \n",
    "    self.fleet_drop_speed = 10\n",
    "    \n",
    "    # A taxa com que a velocidade do jogo aumenta\n",
    "    self.speedup_scale = 1.1\n",
    "    self.initialize_dynamic_settings() "
   ]
  },
  {
   "cell_type": "markdown",
   "id": "d628e573-b0f9-4938-b3ad-052039237f49",
   "metadata": {},
   "source": [
    "Continuamos a inicializar as configurações que permanecem constantes no método <code>__init__()</code>. E acrescentamos uma configuração <code>**speedup_scale**</code> para controlar a taxa com que a velocidade do jogo aumenta: **um valor igual a 2 dobrará a velocidade do jogo sempre que o jogador atingir um novo nível; um valor igual a 1 manterá a velocidade constante. Um valor de velocidade como 1,1 deverá fazer a velocidade aumentar o suficiente para deixar o jogo desafiador, mas não impossível.** Por fim, chamamos <code>**initialize_dynamic_settings()**</code> para inicializar os valores dos atributos que devem mudar no curso de um jogo.\n",
    "\n",
    "Eis o código de **<code>initialize_dynamic_settings()</code>**:"
   ]
  },
  {
   "cell_type": "code",
   "execution_count": 42,
   "id": "f3468cf3-1e15-4562-82a8-9b9432e783df",
   "metadata": {
    "tags": []
   },
   "outputs": [],
   "source": [
    "#settings.py \n",
    "def initialize_dynamic_settings(self): \n",
    "    \"\"\"Inicializa as configurações que mudam no decorrer do jogo.\"\"\" \n",
    "    self.ship_speed_factor = 1.5 \n",
    "    self.bullet_speed_factor = 3 \n",
    "    self.alien_speed_factor = 1\n",
    "    \n",
    "    # fleet_direction igual a 1 representa a direita; -1 representa a esquerda \n",
    "    self.fleet_direction = 1"
   ]
  },
  {
   "cell_type": "markdown",
   "id": "efa819d4-62bf-403f-8b96-509e3d0ec9a4",
   "metadata": {},
   "source": [
    "Esse método define os valores iniciais para as velocidades da espaçonave, dos projéteis e dos alienígenas. **Aumentaremos essas velocidades à medida que o jogador fizer progressos no jogo e as reiniciaremos sempre que o jogador começar um novo jogo. Incluímos <code>fleet_direction</code> nesse método para que os alienígenas sempre se movam para a direita no início de um novo jogo.** Para aumentar as velocidades da espaçonave, dos projéteis e dos alienígenas sempre que o jogador atingir um novo nível, utilize <code>**increase_speed()**</code>:"
   ]
  },
  {
   "cell_type": "code",
   "execution_count": 45,
   "id": "33106899-0d3d-4877-afe9-b1fb14293bbe",
   "metadata": {
    "tags": []
   },
   "outputs": [],
   "source": [
    "#settings.py \n",
    "def increase_speed(self): \n",
    "    \"\"\"Aumenta as configurações de velocidade.\"\"\" \n",
    "    self.ship_speed_factor *= self.speedup_scale \n",
    "    self.bullet_speed_factor *= self.speedup_scale \n",
    "    self.alien_speed_factor *= self.speedup_scale"
   ]
  },
  {
   "cell_type": "markdown",
   "id": "48cbe7d6-ccc7-4b0d-89a0-8f89984ffecb",
   "metadata": {},
   "source": [
    "**Para aumentar a velocidade desses elementos do jogo, multiplicamos cada configuração de velocidade pelo valor de <code>speedup_scale</code>**.\n",
    "\n",
    "Aumentamos o ritmo do jogo chamando <code>**increase_speed() em check_bullet_alien_collisions()**</code> quando o último alienígena da frota for atingido, mas antes de criar uma nova frota:"
   ]
  },
  {
   "cell_type": "code",
   "execution_count": 54,
   "id": "e05cccc6-830d-4ba5-9e6b-f5335764dde1",
   "metadata": {
    "tags": []
   },
   "outputs": [],
   "source": [
    "def check_bullet_alien_collisions(ai_settings, screen, ship, aliens, bullets): \n",
    "    \"\"\"Responde a colisões entre projéteis e alienígenas.\"\"\"\n",
    "    # Remove qualquer projétil e alienígena que tenham colidido \n",
    "    collisions = pygame.sprite.groupcollide(bullets, aliens, True, True)\n",
    "    if len(aliens) == 0: \n",
    "        # Destrói os projéteis existentes e cria uma nova frota \n",
    "        bullets.empty() \n",
    "        ai_settings.increase_speed() \n",
    "        create_fleet(ai_settings, screen, ship, aliens)"
   ]
  },
  {
   "cell_type": "markdown",
   "id": "66dc9cf9-f893-4304-83ed-21074dab112d",
   "metadata": {},
   "source": [
    "Mudar os valores das configurações de velocidade em <code>**ship_speed_factor, alien_speed_factor e bullet_speed_factor**</code> é suficiente para aumentar a velocidade do jogo todo!\n"
   ]
  },
  {
   "cell_type": "markdown",
   "id": "469692e1-fa06-4bae-a096-89870738ee72",
   "metadata": {},
   "source": [
    "### Reiniciando a velocidade"
   ]
  },
  {
   "cell_type": "markdown",
   "id": "85cae6e8-e68c-4b32-b29f-ff70409a0cf8",
   "metadata": {
    "tags": []
   },
   "source": [
    "**Precisamos restaurar qualquer configuração alterada aos seus valores iniciais sempre que o jogador começar um novo jogo;** caso contrário, cada novo jogo seria iniciado com as configurações de velocidade maiores, utilizadas no jogo anterior: "
   ]
  },
  {
   "cell_type": "code",
   "execution_count": 6,
   "id": "889a0935-7788-45f9-b2fa-767b06cd1302",
   "metadata": {
    "tags": []
   },
   "outputs": [],
   "source": [
    "#game_function.py\n",
    "def check_play_button(ai_settings, screen, stats, play_button, ship, aliens, bullets, mouse_x, mouse_y): \n",
    "    \"\"\"Inicia um novo jogo quando o jogador clicar em Play.\"\"\"\n",
    "    # Verifica se o botão Play foi clicado\n",
    "    button_clicked = play_button.rect.collidepoint(mouse_x, mouse_y)  \n",
    "    if button_clicked and not stats.game_active:\n",
    "        # Reinicia as configurações do jogo \n",
    "        ai_settings.initialize_dynamic_settings()\n",
    "        # Oculta o cursor do mouse \n",
    "        pygame.mouse.set_visible(False)\n",
    "        \n",
    "        # Reinicia os dados estatísticos do jogo \n",
    "        stats.reset_stats() \n",
    "        stats.game_active = True \n",
    "                      \n",
    "        # Esvazia a lista de alienígenas e de projéteis  \n",
    "    aliens.empty()\n",
    "    bullets.empty()\n",
    "                      \n",
    "    # Cria uma nova frota e centraliza a espaçonave\n",
    "    create_fleet(ai_settings, screen, ship, aliens) \n",
    "    ship.center_ship()"
   ]
  },
  {
   "cell_type": "markdown",
   "id": "629f0765-c2b4-45cb-8b78-ed1a5c7c08c1",
   "metadata": {},
   "source": [
    "Jogar a **<code>Invasão Alienígena</code> deverá ser mais divertido e desafiador agora**. Sempre que você limpar a tela, o jogo será mais rápido e ficará um pouco mais difícil. **Se o jogo se tornar difícil demais de modo muito rápido, diminua o valor de settings.speedup_scale; se o jogo não estiver suficientemente desafiador, aumente um pouco esse valor. Encontre um ponto ideal para aumentar a dificuldade em um período de tempo razoável.** As duas primeiras telas deverão ser fáceis, a próxima deverá ser um pouco mais desafiadora, porém possível, e as telas subsequentes serão quase impossíveis."
   ]
  },
  {
   "cell_type": "markdown",
   "id": "c4939d6d-57bb-4e79-9f04-a2a0efdf1af6",
   "metadata": {},
   "source": [
    "## **FAÇA VOCÊ MESMO**"
   ]
  },
  {
   "cell_type": "markdown",
   "id": "d0d4f58f-a439-4d78-a028-c7a1c0f97af9",
   "metadata": {},
   "source": [
    "**14.3 – Tiro ao alvo desafiador:** Comece com o trabalho feito no Exercício 14.2 (página 388). Faça o alvo se mover mais rápido à medida que o jogo progredir e reinicie com a velocidade original quando o jogador clicar em Play."
   ]
  },
  {
   "cell_type": "code",
   "execution_count": null,
   "id": "a417655c-5038-42dd-a6f3-0e7b56b7c39f",
   "metadata": {
    "tags": []
   },
   "outputs": [
    {
     "name": "stdout",
     "output_type": "stream",
     "text": [
      "pygame 2.6.0 (SDL 2.28.4, Python 3.11.5)\n",
      "Hello from the pygame community. https://www.pygame.org/contribute.html\n"
     ]
    }
   ],
   "source": [
    "import pygame\n",
    "import sys\n",
    "\n",
    "# Configurações básicas\n",
    "pygame.init()\n",
    "screen = pygame.display.set_mode((800, 600))\n",
    "pygame.display.set_caption(\"Tiro ao Alvo Desafiador\")\n",
    "\n",
    "# Cores\n",
    "WHITE = (255, 255, 255)\n",
    "BLUE = (0, 0, 255)\n",
    "RED = (255, 0, 0)\n",
    "\n",
    "# Configurações do Jogo\n",
    "TARGET_SPEED_INCREMENT = 0.5  # Quanto a velocidade do alvo aumenta após cada acerto\n",
    "\n",
    "# Classe para o Retângulo Alvo\n",
    "class Target:\n",
    "    def __init__(self, screen, initial_speed=3):\n",
    "        self.screen = screen\n",
    "        self.rect = pygame.Rect(750, 300, 50, 50)\n",
    "        self.color = RED\n",
    "        self.speed = initial_speed\n",
    "        self.direction = 1\n",
    "\n",
    "    def update(self):\n",
    "        self.rect.y += self.speed * self.direction\n",
    "        if self.rect.top <= 0 or self.rect.bottom >= 600:\n",
    "            self.direction *= -1\n",
    "\n",
    "    def draw(self):\n",
    "        pygame.draw.rect(self.screen, self.color, self.rect)\n",
    "\n",
    "    def reset_speed(self, initial_speed):\n",
    "        self.speed = initial_speed\n",
    "\n",
    "# Classe para a Nave do Jogador\n",
    "class Ship:\n",
    "    def __init__(self, screen):\n",
    "        self.screen = screen\n",
    "        self.rect = pygame.Rect(50, 300, 50, 50)\n",
    "        self.color = BLUE\n",
    "        self.speed = 5\n",
    "        self.moving_up = False\n",
    "        self.moving_down = False\n",
    "\n",
    "    def update(self):\n",
    "        if self.moving_up and self.rect.top > 0:\n",
    "            self.rect.y -= self.speed\n",
    "        if self.moving_down and self.rect.bottom < 600:\n",
    "            self.rect.y += self.speed\n",
    "\n",
    "    def draw(self):\n",
    "        pygame.draw.rect(self.screen, self.color, self.rect)\n",
    "\n",
    "# Classe para a Bala\n",
    "class Bullet:\n",
    "    def __init__(self, screen, ship):\n",
    "        self.screen = screen\n",
    "        self.rect = pygame.Rect(0, 0, 15, 3)\n",
    "        self.rect.midleft = ship.rect.midright\n",
    "        self.color = WHITE\n",
    "        self.speed = 10\n",
    "\n",
    "    def update(self):\n",
    "        self.rect.x += self.speed\n",
    "\n",
    "    def draw(self):\n",
    "        pygame.draw.rect(self.screen, self.color, self.rect)\n",
    "\n",
    "# Função para iniciar o jogo\n",
    "def start_game(initial_target_speed):\n",
    "    ship = Ship(screen)\n",
    "    target = Target(screen, initial_speed=initial_target_speed)\n",
    "    bullets = []\n",
    "    misses = 0\n",
    "\n",
    "    while True:\n",
    "        # Eventos do jogo\n",
    "        for event in pygame.event.get():\n",
    "            if event.type == pygame.QUIT:\n",
    "                pygame.quit()\n",
    "                sys.exit()\n",
    "            elif event.type == pygame.KEYDOWN:\n",
    "                if event.key == pygame.K_UP:\n",
    "                    ship.moving_up = True\n",
    "                elif event.key == pygame.K_DOWN:\n",
    "                    ship.moving_down = True\n",
    "                elif event.key == pygame.K_SPACE:\n",
    "                    bullets.append(Bullet(screen, ship))\n",
    "            elif event.type == pygame.KEYUP:\n",
    "                if event.key == pygame.K_UP:\n",
    "                    ship.moving_up = False\n",
    "                elif event.key == pygame.K_DOWN:\n",
    "                    ship.moving_down = False\n",
    "\n",
    "        # Atualizações do jogo\n",
    "        ship.update()\n",
    "        target.update()\n",
    "\n",
    "        for bullet in bullets:\n",
    "            bullet.update()\n",
    "            if bullet.rect.right > 800:\n",
    "                bullets.remove(bullet)\n",
    "                misses += 1\n",
    "            elif bullet.rect.colliderect(target.rect):\n",
    "                bullets.remove(bullet)\n",
    "                target.speed += TARGET_SPEED_INCREMENT\n",
    "\n",
    "        # Condição de fim de jogo\n",
    "        if misses >= 3:\n",
    "            break\n",
    "\n",
    "        # Desenhar na tela\n",
    "        screen.fill((0, 0, 0))\n",
    "        ship.draw()\n",
    "        target.draw()\n",
    "\n",
    "        for bullet in bullets:\n",
    "            bullet.draw()\n",
    "\n",
    "        pygame.display.flip()\n",
    "\n",
    "    # Exibir botão Play para reiniciar\n",
    "    play_button(screen, initial_target_speed)\n",
    "\n",
    "def play_button(screen, initial_target_speed):\n",
    "    font = pygame.font.Font(None, 74)\n",
    "    play_text = font.render(\"Play\", True, WHITE)\n",
    "    play_rect = play_text.get_rect(center=(400, 300))\n",
    "    screen.fill((0, 0, 0))\n",
    "    screen.blit(play_text, play_rect)\n",
    "    pygame.display.flip()\n",
    "\n",
    "    # Aguardar clique no botão\n",
    "    while True:\n",
    "        for event in pygame.event.get():\n",
    "            if event.type == pygame.QUIT:\n",
    "                pygame.quit()\n",
    "                sys.exit()\n",
    "            elif event.type == pygame.MOUSEBUTTONDOWN:\n",
    "                mouse_x, mouse_y = pygame.mouse.get_pos()\n",
    "                if play_rect.collidepoint(mouse_x, mouse_y):\n",
    "                    start_game(initial_target_speed)\n",
    "\n",
    "# Iniciar o jogo com velocidade inicial do alvo definida\n",
    "INITIAL_TARGET_SPEED = 3\n",
    "play_button(screen, INITIAL_TARGET_SPEED)"
   ]
  },
  {
   "cell_type": "markdown",
   "id": "0e9ffbb6-3595-4886-bd6c-ff16f909d78b",
   "metadata": {},
   "source": [
    "****"
   ]
  },
  {
   "cell_type": "markdown",
   "id": "fcfa1c53-e2ee-4e0f-a3e7-a888d5eb37d3",
   "metadata": {},
   "source": [
    "## **Pontuação**"
   ]
  },
  {
   "cell_type": "markdown",
   "id": "0a12234b-299b-4476-a642-b49230eccb95",
   "metadata": {},
   "source": [
    "**Vamos implementar um sistema de pontuação para monitorar os pontos do jogo em tempo real, assim como exibir a pontuação máxima, o nível do jogo e o número de espaçonaves restante.**\n",
    "\n",
    "A pontuação é uma estatística do jogo, portanto adicionaremos um atributo score em <code>**GameStats**</code>:"
   ]
  },
  {
   "cell_type": "code",
   "execution_count": 8,
   "id": "27bac254-b30f-44af-a9c0-74224861890a",
   "metadata": {
    "tags": []
   },
   "outputs": [],
   "source": [
    "class GameStats():\n",
    "    \"\"\"Armazena dados estatísticos da Invasão Alienígena.\"\"\"\n",
    "    \n",
    "    def __init__(self, ai_settings): \n",
    "        \"\"\"Inicializa os dados estatísticos.\"\"\"\n",
    "        self.ai_settings = ai_settings \n",
    "        self.reset_stats()\n",
    "        \n",
    "        #Inicia o jogo em um estado inativo \n",
    "        self.game_active = False\n",
    "        \n",
    "        #Inicia a Invasão Alienígena em um estado ativo \n",
    "        #self.game_active = True \n",
    "\n",
    "    def reset_stats(self): \n",
    "        \"\"\"Inicializa os dados estatísticos que podem mudar durante o jogo.\"\"\"\n",
    "        self.ships_left = self.ai_settings.ship_limit\n",
    "        self.score = 0\n",
    "    "
   ]
  },
  {
   "cell_type": "markdown",
   "id": "b58be4a0-e611-4e0c-9fd6-a852bc7d5bed",
   "metadata": {},
   "source": [
    "Para reiniciar a pontuação sempre que um novo jogo começar, inicializamos score em <code>**reset_stats()**</code>, e não em <code>__init__()</code>."
   ]
  },
  {
   "cell_type": "markdown",
   "id": "ebc541f4-e0d0-4d05-95ee-dd935bb92d51",
   "metadata": {},
   "source": [
    "### Exibindo a pontuação"
   ]
  },
  {
   "cell_type": "markdown",
   "id": "6db8ede7-a70b-4804-9bfd-d7c29f976217",
   "metadata": {},
   "source": [
    "**Para exibir a pontuação na tela, inicialmente criamos uma nova classe chamada <code>**Scoreboard**</code>. Por enquanto, essa classe simplesmente exibirá a pontuação atual, mas nós a usaremos para informar a maior pontuação, o nível e o número de espaçonaves restante também**. Eis a primeira parte da classe; salve-a em <code>**'scoreboard.py'**</code>:"
   ]
  },
  {
   "cell_type": "code",
   "execution_count": 12,
   "id": "907e7f30-e459-4e4f-a3e0-b880b0179616",
   "metadata": {
    "tags": []
   },
   "outputs": [
    {
     "name": "stdout",
     "output_type": "stream",
     "text": [
      "pygame 2.6.0 (SDL 2.28.4, Python 3.11.5)\n",
      "Hello from the pygame community. https://www.pygame.org/contribute.html\n"
     ]
    }
   ],
   "source": [
    "#scoreboard.py \n",
    "import pygame.font\n",
    "\n",
    "class Scoreboard():\n",
    "    \"\"\"Uma classe para mostrar informações sobre pontuação.\"\"\"\n",
    "    def __init__(self, ai_settings, screen, stats): \n",
    "        \"\"\"Inicializa os atributos da pontuação.\"\"\"\n",
    "        self.screen = screen \n",
    "        self.screen_rect = screen.get_rect() \n",
    "        self.ai_settings = ai_settings \n",
    "        self.stats = stats\n",
    "        \n",
    "        # Configurações de fonte para as informações de pontuação \n",
    "        self.text_color = (30, 30, 30) \n",
    "        self.font = pygame.font.SysFont(None, 48)\n",
    "        \n",
    "        # Prepara a imagem da pontuação inicial \n",
    "        self.prep_score()"
   ]
  },
  {
   "cell_type": "markdown",
   "id": "89d55722-cb53-4755-a332-57d789400157",
   "metadata": {},
   "source": [
    "**Como <code>Scoreboard</code> escreve um texto na tela, começamos importando o módulo <code>pygame.font</code>. Em seguida, fornecemos os parâmetros <code>ai_settings, screen e stats a __init__()</code> para que ele possa informar os valores que estamos monitorando. Então definimos uma cor para o texto e instanciamos um objeto para a fonte.**\n",
    "\n",
    "Para transformar o texto a ser exibido em uma imagem, chamamos <code>**prep_score()**</code>, definido a seguir:"
   ]
  },
  {
   "cell_type": "code",
   "execution_count": 17,
   "id": "17a3dd36-9f66-4655-80c2-3f6a62e88713",
   "metadata": {
    "tags": []
   },
   "outputs": [],
   "source": [
    "#scoreboard.py \n",
    "def prep_score(self):\n",
    "    \"\"\"Transforma a pontuação em uma imagem renderizada.\"\"\" \n",
    "    score_str = str(self.stats.score) \n",
    "    self.score_image = self.font.render(score_str, True, self.text_color, self.ai_settings.bg_color)\n",
    "\n",
    "    # Exibe a pontuação na parte superior direita da tela \n",
    "    self.score_rect = self.score_image.get_rect() \n",
    "    self.score_rect.right = self.screen_rect.right - 20\n",
    "    self.score_rect.top = 20"
   ]
  },
  {
   "cell_type": "markdown",
   "id": "7d80f8cf-d802-4eb3-b9d4-d1417d78e992",
   "metadata": {},
   "source": [
    "**Em <code>prep_score()</code>, inicialmente transformamos o valor numérico stats.score em uma string e então passamos essa <code>string para render()</code>, que cria a imagem. Para exibir a pontuação de modo claro na tela, passamos a <code>cor de fundo da tela para render()</code>, assim como uma cor para o texto.**\n",
    "\n",
    "Posicionaremos a pontuação no canto superior direito da tela e ela será expandida para a esquerda à medida que a pontuação aumentar e a largura do número crescer. **Para garantir que a pontuação esteja sempre alinhada com o lado direito da tela, criamos um rect chamado <code>score_rect</code> e definimos sua <code>borda direita a 20 pixels</code> da borda direita da tela . Então posicionamos <code>v</code> abaixo da parte superior da tela.**\n",
    "\n",
    "Por fim, criamos um método <code>**show_score()**</code> para exibir a imagem renderizada da pontuação:"
   ]
  },
  {
   "cell_type": "code",
   "execution_count": null,
   "id": "5e04eed9-77c1-4a51-b5e3-49fdf9e979a4",
   "metadata": {},
   "outputs": [],
   "source": [
    "#scoreboard.py \n",
    "def show_score(self):\n",
    "    \"\"\"Desenha a pontuação na tela.\"\"\"\n",
    "    self.screen.blit(self.score_image, self.score_rect)"
   ]
  },
  {
   "cell_type": "markdown",
   "id": "44eb0ed7-cea6-4102-b3d3-7a1281ba1769",
   "metadata": {
    "tags": []
   },
   "source": [
    "### Criando um painel de pontuação"
   ]
  },
  {
   "cell_type": "markdown",
   "id": "9c26c721-9f6c-4cac-84fa-e0fca53d40bf",
   "metadata": {},
   "source": [
    "Para exibir a pontuação, criaremos uma instância de <code>**Scoreboard**</code> em **'alien_invasion.py'**:"
   ]
  },
  {
   "cell_type": "code",
   "execution_count": null,
   "id": "c60e44b4-23fc-4e9b-bc86-21358c8e49d7",
   "metadata": {
    "tags": []
   },
   "outputs": [],
   "source": [
    "#alien_invasion.py\n",
    "import pygame\n",
    "from settings import Settings\n",
    "from game_stats import GameStats\n",
    "from button import Button \n",
    "from ship import Ship\n",
    "from alien import Alien\n",
    "import game_functions as gf\n",
    "from pygame.sprite import Group \n",
    "from scoreboard import Scoreboard\n",
    "\n",
    "\n",
    "def run_game():\n",
    "    # Inicializa o jogo e cria um objeto para a tela\n",
    "    pygame.init()\n",
    "    ai_settings = Settings() \n",
    "    screen = pygame.display.set_mode((ai_settings.screen_width, ai_settings.screen_height))\n",
    "    pygame.display.set_caption(\"Alien Invasion\")\n",
    "    # Cria o botão Play  \n",
    "    play_button = Button(ai_settings, screen,\"Play\") \n",
    "    \n",
    "    # Cria uma instância para armazenar dados estatísticos do jogo\n",
    "    stats = GameStats(ai_settings)\n",
    "    sb = Scoreboard(ai_settings, screen, stats)\n",
    "    \n",
    "    # Define a cor de fundo \n",
    "    bg_color = (230, 230, 230)\n",
    "    \n",
    "    # Cria uma espaçonave, um grupo de projéteis e um grupo de alienígenas\n",
    "    ship = Ship(ai_settings, screen)\n",
    "    bullets = Group() \n",
    "    aliens = Group() \n",
    "    # Cria a frota de alienígenas \n",
    "    gf.create_fleet(ai_settings, screen, ship, aliens)\n",
    "    \n",
    "    \n",
    "    # Inicia o laço principal do jogo\n",
    "    while True:\n",
    "        gf.check_events(ai_settings, screen, stats, play_button, ship, aliens, bullets)\n",
    "        if stats.game_active: \n",
    "            ship.update()\n",
    "            gf.update_bullets(ai_settings, screen, ship, aliens, bullets)\n",
    "            gf.update_aliens(ai_settings, stats, screen, ship, aliens, bullets)\n",
    "        \n",
    "        gf.update_screen(ai_settings, screen, stats, sb, ship, aliens, bullets, play_button)\n",
    "        \n",
    "        alien_drop_speedc=50\n",
    "        \n",
    "        # Redesenha a tela a cada passagem pelo laço\n",
    "        screen.fill(ai_settings.bg_color)\n",
    "        ship.blitme()\n",
    "        aliens.draw(screen)\n",
    "        \n",
    "        # Deixa a tela mais recente visível\n",
    "        pygame.display.flip()\n",
    "\n",
    "# Chama a função para iniciar o jogo\n",
    "run_game()"
   ]
  },
  {
   "cell_type": "markdown",
   "id": "3b843c6a-b9c7-4336-9fd7-e971747cfcef",
   "metadata": {},
   "source": [
    "Importamos a nova classe <code>**Scoreboard**</code> e criamos uma instância chamada **<code>sb</code> depois de criar a instância <code>stats</code>. Então passamos <code>sb</code> para <code>update_screen()</code> para que a pontuação possa ser desenhada na tela.**   \n",
    "Para exibir a pontuação, modifique <code>**update_screen()**</code> desta maneira:"
   ]
  },
  {
   "cell_type": "code",
   "execution_count": 5,
   "id": "6db4a28c-71dd-4d5b-8ffc-7ce3efd50066",
   "metadata": {
    "tags": []
   },
   "outputs": [],
   "source": [
    "#game_functions.py \n",
    "def update_screen(ai_settings, screen, stats, sb, ship, aliens, bullets, play_button): \n",
    "    \"\"\"Atualiza as imagens na tela e alterna para a nova tela.\"\"\"\n",
    "    # Redesenha a tela a cada passagem pelo laço\n",
    "    screen.fill(ai_settings.bg_color) \n",
    "    \n",
    "    # Redesenha todos os projéteis atrás da espaçonave e dos alienígenas \n",
    "    for bullet in bullets.sprites(): \n",
    "        bullet.draw_bullet()\n",
    "    \n",
    "    ship.blitme()\n",
    "    aliens.draw(screen)\n",
    "    # Desenha a informação sobre pontuação \n",
    "    sb.show_score()\n",
    "    \n",
    "    # Desenha o botão Play se o jogo estiver inativo \n",
    "    if not stats.game_active:\n",
    "        play_button.draw_button()\n",
    "    \n",
    "    # Deixa a tela mais recente visível \n",
    "    pygame.display.flip()"
   ]
  },
  {
   "cell_type": "markdown",
   "id": "de01fed7-586c-46f2-9229-f1e02fdec00a",
   "metadata": {},
   "source": [
    "Adicionamos **<code>sb</code> à lista de parâmetros que definem <code>update_screen()</code>** e chamamos **<code>show_score()</code> imediatamente antes de o botão <code>Play</code> ser desenhado.**\n",
    "\n",
    "**Quando executar a <code>Invasão Alienígena</code> agora, você deverá ver 0 no canto superior direito da tela.** (Por enquanto, só queremos garantir que a pontuação apareça no lugar certo antes de desenvolver melhor o sistema de pontuação.) A Figura 14.2 mostra a pontuação conforme ela aparece antes de o jogo começar."
   ]
  },
  {
   "cell_type": "markdown",
   "id": "70f8736b-0095-45a7-9773-e63712b73d38",
   "metadata": {},
   "source": [
    "### Atualizando a pontuação à medida que os alienígenas são eliminados"
   ]
  },
  {
   "cell_type": "markdown",
   "id": "9d9c8dd3-5f68-4b9c-96d5-aef3d5472568",
   "metadata": {},
   "source": [
    "**Para termos uma pontuação em tempo real na tela, atualizamos o valor de <code>stats.score</code> sempre que um alienígena for atingido** e então chamamos **<code>prep_score()</code> para atualizar a imagem da pontuação**. Porém, antes disso, vamos determinar quantos pontos um jogador obtém sempre que acertar um disparo em um alienígena:"
   ]
  },
  {
   "cell_type": "code",
   "execution_count": null,
   "id": "32cc7e65-24ca-4215-a977-fa7338ac9c07",
   "metadata": {},
   "outputs": [],
   "source": [
    "#settings.py \n",
    "def initialize_dynamic_settings(self): \n",
    "    --trecho omitido--\n",
    "# Pontuação \n",
    "self.alien_points = 50"
   ]
  },
  {
   "cell_type": "markdown",
   "id": "7d248278-9972-4825-8dbf-c02e07d8b208",
   "metadata": {},
   "source": [
    "**Aumentaremos o número de pontos que cada alienígena vale à medida que o jogo progredir. Para garantir que esse valor seja reiniciado sempre que um novo jogo começar, definimos o valor em <code>initialize_dynamic_settings()</code>.**\n",
    "\n",
    "Atualize a pontuação sempre que um alienígena for atingido em <code>**check_bullet_alien_collisions()**</code>:"
   ]
  },
  {
   "cell_type": "code",
   "execution_count": 26,
   "id": "ce635921-ac71-4b7b-a925-ac14dc68ba36",
   "metadata": {
    "tags": []
   },
   "outputs": [],
   "source": [
    "#game_functions.py \n",
    "\n",
    "def check_bullet_alien_collisions(ai_settings, screen, stats, sb, ship, aliens, bullets): \n",
    "    \"\"\"Responde a colisões entre projéteis e alienígenas.\"\"\"\n",
    "    # Remove qualquer projétil e alienígena que tenham colidido \n",
    "    collisions = pygame.sprite.groupcollide(bullets, aliens, True, True)\n",
    "    if collisions: \n",
    "        stats.score += ai_settings.alien_points \n",
    "        sb.prep_score()\n",
    "        \n",
    "    if len(aliens) == 0: \n",
    "        # Destrói os projéteis existentes e cria uma nova frota \n",
    "        bullets.empty() \n",
    "        ai_settings.increase_speed()\n",
    "        create_fleet(ai_settings, screen, ship, aliens)"
   ]
  },
  {
   "cell_type": "markdown",
   "id": "4fd245cd-25bc-4ea2-b564-0dcdc9bb1827",
   "metadata": {},
   "source": [
    "**Atualizamos a definição de <code>check_bullet_alien_collisions()</code> de modo a incluir os parâmetros <code>stats e sb</code>; assim a pontuação e o painel de pontuação poderão ser atualizados. Quando um projétil atinge um alienígena, o <code>Pygame</code> devolve um dicionário <code>collisions</code>.** Verificamos se o dicionário existe e, em caso afirmativo, o valor do alienígena será somado à pontuação. Em seguida, chamamos <code>**prep_score()**</code> para criar uma nova imagem da pontuação atualizada.\n",
    "\n",
    "Precisamos modificar <code>**update_bullets()**</code> para garantir que os argumentos apropriados sejam passados entre as funções:"
   ]
  },
  {
   "cell_type": "code",
   "execution_count": 37,
   "id": "0583f7e5-6273-4247-9aff-c8649de57c9f",
   "metadata": {
    "tags": []
   },
   "outputs": [],
   "source": [
    "#game_functions.py \n",
    "\n",
    "def update_bullets(ai_settings, screen, stats, sb, ship, aliens, bullets):\n",
    "    \"\"\"Atualiza a posição dos projéteis e se livra dos projéteis antigos.\"\"\" \n",
    "    # Atualiza as posições dos projéteis\n",
    "    bullets.update() \n",
    "    # Livra-se dos projéteis que desapareceram \n",
    "    for bullet in bullets.copy(): \n",
    "        if bullet.rect.bottom <= 0: \n",
    "            bullets.remove(bullet)\n",
    "        \n",
    "    check_bullet_alien_collisions(ai_settings, screen, stats, sb, ship, aliens, bullets)"
   ]
  },
  {
   "cell_type": "markdown",
   "id": "0cbb2664-a5c2-4c9e-82a4-3f0ca238400d",
   "metadata": {},
   "source": [
    "**A definição de <code>update_bullets()</code> precisa dos parâmetros adicionais <code>stats e sb</code>**. A chamada a **<code>check_bullet_alien_collisions()</code> também deve incluir os argumentos <code>stats e sb</code>**.\n",
    "\n",
    "Também será necessário modificar a chamada a <code>**update_bullets()**</code> no laço principal <code>**while**</code>:"
   ]
  },
  {
   "cell_type": "code",
   "execution_count": null,
   "id": "ddfac941-b93a-41bd-bc74-01a5411e69ce",
   "metadata": {},
   "outputs": [],
   "source": [
    "#alien_invasion.py \n",
    "# Inicia o laço principal do jogo \n",
    "while True: \n",
    "    gf.check_events(ai_settings, screen, stats, play_button, ship, aliens, bullets) \n",
    "    if stats.game_active: \n",
    "        ship.update() \n",
    "        gf.update_bullets(ai_settings, screen, stats, sb, ship, aliens, bullets)"
   ]
  },
  {
   "cell_type": "markdown",
   "id": "7eb61381-10ec-4dd7-824f-5e2acda56612",
   "metadata": {},
   "source": [
    "A chamada a <code>**update_bullets()**</code> precisa dos argumentos <code>**stats e sb**</code>.   \n",
    "Agora, quando jogar a <code>**Invasão Alienígena**</code>, você deverá ser capaz de acumular pontos!"
   ]
  },
  {
   "cell_type": "markdown",
   "id": "68966abf-975d-472a-bf42-0c382beddd56",
   "metadata": {},
   "source": [
    "### Garantindo que todos os acertos sejam contabilizados"
   ]
  },
  {
   "cell_type": "markdown",
   "id": "2b4efea9-d597-4d7b-99a1-7549d6928cf3",
   "metadata": {},
   "source": [
    "**Como está escrito no momento, nosso código poderia deixar de contabilizar alguns alienígenas.** Por exemplo, se dois projéteis colidirem com alienígenas durante a mesma passagem pelo laço ou se criarmos um projétil extragrande para atingir vários alienígenas, o jogador receberá pontos apenas por um dos alienígenas eliminados. **Para corrigir isso, vamos aperfeiçoar o modo como as colisões entre alienígenas e projéteis são detectadas.**\n",
    "\n",
    "Em **<code>check_bullet_alien_collisions()</code>, qualquer projétil que colidir com um alienígena se transforma em uma chave no dicionário <code>collisions</code>. O valor associado a cada projétil é uma lista de alienígenas com os quais esse projétil colidiu.** Percorremos o dicionário <code>**collisions**</code> com um laço para garantir que concederemos pontos para cada alienígena atingido:"
   ]
  },
  {
   "cell_type": "code",
   "execution_count": 49,
   "id": "97851559-5971-47a8-8993-e7c66a48ddba",
   "metadata": {
    "tags": []
   },
   "outputs": [],
   "source": [
    "#game_functions.py \n",
    "def check_bullet_alien_collisions(ai_settings, screen, stats, sb, ship, aliens, bullets): \n",
    "    \"\"\"Responde a colisões entre projéteis e alienígenas.\"\"\"\n",
    "    # Remove qualquer projétil e alienígena que tenham colidido \n",
    "    collisions = pygame.sprite.groupcollide(bullets, aliens, True, True)\n",
    "    if collisions: \n",
    "        for aliens in collisions.values(): \n",
    "            stats.score += ai_settings.alien_points * len(aliens) \n",
    "            sb.prep_score() "
   ]
  },
  {
   "cell_type": "markdown",
   "id": "f0eb8a42-bba3-4ed2-acc5-344ffa2c1752",
   "metadata": {},
   "source": [
    "**Se o dicionário <code>collisions</code> tiver sido definido, percorreremos todos os seus valores em um laço. Lembre-se de que cada valor é uma lista de alienígenas atingidos por um único projétil.** Multiplicamos o valor de cada alienígena pelo número de alienígenas em cada lista e somamos esse valor à pontuação atual. **Para testar isso, modifique a largura de um projétil para 300 pixels e confira se você recebe pontos para cada alienígena atingido com seus projéteis extragrandes; então restaure a largura do projétil de volta ao normal.**\n"
   ]
  },
  {
   "cell_type": "markdown",
   "id": "9ad9fbbe-e709-45ee-9fbd-40bcc31e99bb",
   "metadata": {},
   "source": [
    "### Aumentando a quantidade de pontos"
   ]
  },
  {
   "cell_type": "markdown",
   "id": "bd884f0e-4de9-4f14-a812-3eebbccec058",
   "metadata": {
    "tags": []
   },
   "source": [
    "**Como o jogo se torna mais difícil sempre que o jogador alcança um novo nível, os alienígenas nos níveis seguintes devem valer mais pontos.**   \n",
    "Para implementar essa funcionalidade, acrescentaremos um código para aumentar a quantidade de pontos que cada alienígena vale quando a velocidade do jogo aumentar: "
   ]
  },
  {
   "cell_type": "code",
   "execution_count": null,
   "id": "2b14db0b-79e4-47b8-aa8f-d66387ed37cf",
   "metadata": {
    "tags": []
   },
   "outputs": [],
   "source": [
    "#settings.py \n",
    "\n",
    "class Settings(): \n",
    "    \"\"\"Uma classe para armazenar todas as configurações da Invasão Alienígena.\"\"\"\n",
    "\n",
    "    def __init__(self): \n",
    "        \n",
    "        --trecho omitido--\n",
    "    # A taxa com que a velocidade do jogo aumenta \n",
    "    self.speedup_scale = 1.1 \n",
    "    \n",
    "    # A taxa com que os pontos para cada alienígena aumentam\n",
    "    self.score_scale = 1.5\n",
    "    self.initialize_dynamic_settings()\n",
    "\n",
    "    def increase_speed(self): \n",
    "        \"\"\"Aumenta as configurações de velocidade e os pontos para cada alienígena.\"\"\"\n",
    "    self.ship_speed_factor *= self.speedup_scale \n",
    "    self.bullet_speed_factor *= self.speedup_scale \n",
    "    self.alien_speed_factor *= self.speedup_scale\n",
    "    self.alien_points = int(self.alien_points * self.score_scale)"
   ]
  },
  {
   "cell_type": "markdown",
   "id": "7a0093ce-eab7-41e6-a982-5449391db574",
   "metadata": {},
   "source": [
    "Definimos uma taxa para aumentar a quantidade de pontos, que chamamos de <code>**score_scale**</code>. **Um pequeno aumento na velocidade (1,1) deixa o jogo rapidamente mais desafiador, mas para que haja uma diferença perceptível na pontuação, você deve modificar a quantidade de pontos para cada alienígena de acordo com um fator maior (1,5)**. Agora, quando aumentarmos a velocidade do jogo, também aumentaremos os pontos concedidos a cada acerto. Usamos a função <code>**int()**</code> para aumentar a quantidade de pontos com números inteiros.\n",
    "\n",
    "Para ver quantos pontos valem cada alienígena, acrescente uma instrução <code>**print ao método increase_speed() em Settings**</code>:"
   ]
  },
  {
   "cell_type": "code",
   "execution_count": 37,
   "id": "321e0757-9125-4f37-97a9-a8b13a9da2da",
   "metadata": {
    "tags": []
   },
   "outputs": [],
   "source": [
    "#settings.py \n",
    "def increase_speed(self): \n",
    "        \"\"\"Aumenta as configurações de velocidade.\"\"\" \n",
    "        self.ship_speed_factor *= self.speedup_scale \n",
    "        self.bullet_speed_factor *= self.speedup_scale \n",
    "        self.alien_speed_factor *= self.speedup_scale\n",
    "        self.alien_points = int(self.alien_points * self.score_scale)\n",
    "        print(self.alien_points)"
   ]
  },
  {
   "cell_type": "markdown",
   "id": "3b76c141-0255-411a-80d3-1d45af26cb92",
   "metadata": {},
   "source": [
    "Você deverá ver a nova quantidade de pontos no terminal sempre que alcançar um novo nível.\n",
    "\n",
    "**NOTA**   \n",
    "**Lembre-se de remover a instrução print depois de verificar que a quantidade de pontos está aumentando;** do contrário ela poderá afetar o desempenho de seu jogo e distrair o jogador."
   ]
  },
  {
   "cell_type": "markdown",
   "id": "ba88fd47-660f-4a54-9e56-3c3fce0b96c2",
   "metadata": {},
   "source": [
    "### Arredondando a pontuação"
   ]
  },
  {
   "cell_type": "markdown",
   "id": "1a770bc3-b0cc-42af-bd64-028d5853bbab",
   "metadata": {},
   "source": [
    "**A maioria dos jogos de tiros em estilo arcade informa as pontuações como múltiplos de dez, portanto vamos seguir essa diretriz com a nossa pontuação.** Vamos também formatar a pontuação para que inclua vírgulas como separadores em números grandes. Faremos essa alteração em <code>**Scoreboard**</code>: "
   ]
  },
  {
   "cell_type": "code",
   "execution_count": 51,
   "id": "9c623db0-4354-4536-8c81-71ff8912acda",
   "metadata": {
    "tags": []
   },
   "outputs": [],
   "source": [
    "#scoreboard.py \n",
    "def prep_score(self):\n",
    "    \"\"\"Transforma a pontuação em uma imagem renderizada.\"\"\" \n",
    "    rounded_score = int(round(self.stats.score, -1)) \n",
    "    score_str = \" {:,}\".format(rounded_score) \n",
    "    self.score_image = self.font.render(score_str, True, self.text_color, self.ai_settings.bg_color)"
   ]
  },
  {
   "cell_type": "markdown",
   "id": "4f26cb94-0d6a-4402-a963-8a546d969329",
   "metadata": {},
   "source": [
    "**A função <code>round()</code> normalmente arredonda um número decimal com uma quantidade definida de casas decimais especificada como o segundo argumento.** No entanto, se um número negativo for passado como segundo argumento, <code>**round()**</code> arredondará o valor para o <code>**múltiplo mais próximo de 10, 100, 1.000**</code>, e assim por diante. **O código diz a Python para arredondar o valor de <code>stats.score</code> para o múltiplo mais próximo de 10 e armazená-lo em <code>rounded_score</code>**.\n",
    "\n",
    "**NOTA**\n",
    "Em Python 2.7, <code>**round()**</code> sempre devolve um valor decimal, portanto usamos <code>**int()**</code> para garantir que a pontuação seja informada como um inteiro. **Se você usa Python 3, poderá remover a chamada a <code>int()**. </code>\n",
    "\n",
    "\n",
    "**E  uma diretiva para formatação de string diz a Python para inserir vírgulas nos números ao converter um valor numérico em uma string** – por exemplo, **para apresentar 1,000,000 em vez de 1000000**. Ao executar o jogo agora, você deverá ver uma pontuação arredondada, formatada de modo elegante, mesmo quando acumular muitos pontos"
   ]
  },
  {
   "cell_type": "markdown",
   "id": "62055e9b-8948-4803-bf1b-fb773bbb61da",
   "metadata": {},
   "source": [
    "### Pontuações máximas"
   ]
  },
  {
   "cell_type": "markdown",
   "id": "e07d0589-d9f4-4c80-a49a-f7a6e4b7bbcb",
   "metadata": {},
   "source": [
    "**Todo jogador quer ultrapassar a pontuação máxima de um jogo, portanto vamos monitorar e informar a pontuação máxima para oferecer um objetivo a ser visado pelos jogadores.** Armazenaremos a pontuação máxima em <code>**GameStats**</code>:"
   ]
  },
  {
   "cell_type": "code",
   "execution_count": 59,
   "id": "b4a41db4-e889-4615-a37c-17e9467abe13",
   "metadata": {
    "tags": []
   },
   "outputs": [],
   "source": [
    " #game_stats.py\n",
    "def __init__(self, ai_settings): \n",
    "    \"\"\"Inicializa os dados estatísticos.\"\"\"\n",
    "    self.ai_settings = ai_settings \n",
    "    self.reset_stats()\n",
    "        \n",
    "    #Inicia o jogo em um estado inativo \n",
    "    self.game_active = False\n",
    "        \n",
    "    # A pontuação máxima jamais deverá ser reiniciada \n",
    "    self.high_score = 0"
   ]
  },
  {
   "cell_type": "markdown",
   "id": "ed9d45df-302c-4dca-871f-ac997ba459a4",
   "metadata": {},
   "source": [
    "**Como a pontuação máxima jamais deve ser reiniciada, inicializamos <code>high_score em __init__(), e não em reset_stats()</code>.**  \n",
    "Agora modificaremos <code>**Scoreboard**</code> para que a pontuação máxima seja exibida. Vamos começar pelo método <code>__init__()</code>:"
   ]
  },
  {
   "cell_type": "code",
   "execution_count": null,
   "id": "a1dc3989-ca19-4079-86d9-80d1c3f0b07c",
   "metadata": {},
   "outputs": [],
   "source": [
    "#scoreboard.py \n",
    "def __init__(self, ai_settings, screen, stats): \n",
    "    --trecho omitido-- \n",
    "    # Prepara as imagens das pontuações iniciais \n",
    "    self.prep_score()\n",
    "    self.prep_high_score()"
   ]
  },
  {
   "cell_type": "markdown",
   "id": "b620a233-ad0f-447d-beea-33080780246d",
   "metadata": {},
   "source": [
    "**A pontuação máxima será exibida separadamente da pontuação, portanto precisamos de um novo método, <code>prep_high_score()</code>, para preparar a imagem da pontuação máxima.**    \n",
    "Eis o método <code>**prep_high_score(**)</code>:"
   ]
  },
  {
   "cell_type": "code",
   "execution_count": 66,
   "id": "910e6aa7-bf97-4f2d-8be6-a7330773c5c0",
   "metadata": {
    "tags": []
   },
   "outputs": [],
   "source": [
    "def prep_high_score(self):\n",
    "    \"\"\"Transforma a pontuação máxima em uma imagem renderizada.\"\"\"\n",
    "    high_score = int(round(self.stats.high_score, -1)) \n",
    "    high_score_str = \"{:,}\".format(high_score)  \n",
    "    self.high_score_image = self.font.render(high_score_str, True, self.text_color, self.ai_settings.bg_color)\n",
    "\n",
    "    # Centraliza a pontuação máxima na parte superior da tela\n",
    "    self.high_score_rect = self.high_score_image.get_rect() \n",
    "    self.high_score_rect.centerx = self.screen_rect.centerxy \n",
    "    self.high_score_rect.top = self.score_rect.top"
   ]
  },
  {
   "cell_type": "markdown",
   "id": "59e03dab-f704-4336-95c7-845e84634455",
   "metadata": {},
   "source": [
    "Arredondamos a pontuação máxima para o múltiplo de 10 mais próximo u e a formatamos com vírgulas. **Então geramos uma imagem com a pontuação máxima , centralizamos seu <code>rect</code> horizontalmente e definimos seu atributo <code>top</code> para que seja igual à parte superior da imagem da pontuação.**\n",
    "\n",
    "O método <code>**show_score()**</code> agora desenha a pontuação atual na parte superior à direita e a pontuação máxima no parte superior central da tela:"
   ]
  },
  {
   "cell_type": "code",
   "execution_count": 77,
   "id": "d59377ae-e9de-442a-b6cf-98cbba7124e7",
   "metadata": {
    "tags": []
   },
   "outputs": [],
   "source": [
    "#scoreboard.py \n",
    "def show_score(self): \n",
    "    \"\"\"Desenha a pontuação na tela.\"\"\"\n",
    "    self.screen.blit(self.score_image, self.score_rect)\n",
    "    self.screen.blit(self.high_score_image, self.high_score_rect) \n"
   ]
  },
  {
   "cell_type": "code",
   "execution_count": 79,
   "id": "3693250f-e33c-4bea-a91f-5ba2ac68ac5a",
   "metadata": {
    "tags": []
   },
   "outputs": [],
   "source": [
    "#game_function,py\n",
    "def check_high_score(stats, sb):\n",
    "    \"\"\"Verifica se há uma nova pontuação máxima.\"\"\"    \n",
    "    if stats.score > stats.high_score: \n",
    "        stats.high_score = stats.score \n",
    "        sb.prep_high_score()"
   ]
  },
  {
   "cell_type": "markdown",
   "id": "3df2ce5d-0991-4d38-8959-f73550bc9b8d",
   "metadata": {},
   "source": [
    "A função <code>**check_high_score()**</code> aceita dois parâmetros: **<code>stats e sb</code>. Ela usa <code>stats</code> para verificar a pontuação atual e a pontuação máxima, e precisa de <code>sb</code> para modificar a imagem da pontuação máxima quando for necessário.** E verificamos a pontuação atual em relação à pontuação máxima. **Se a pontuação atual for maior, atualizamos o valor de <code>high_score</code> e chamamos <code>prep_high_score()</code> para atualizar a imagem da pontuação máxima.**\n",
    "\n",
    "Devemos chamar <code>**check_high_score()**</code> sempre que um alienígena for atingido, **depois de atualizar a pontuação em <code>check_bullet_alien_collisions()</code>**:"
   ]
  },
  {
   "cell_type": "code",
   "execution_count": 86,
   "id": "6b95a9d1-c0ee-450e-927b-0d9772d95827",
   "metadata": {
    "tags": []
   },
   "outputs": [],
   "source": [
    "#game_functions.py\n",
    "def check_bullet_alien_collisions(ai_settings, screen, stats, sb, ship, aliens, bullets): \n",
    "    \"\"\"Responde a colisões entre projéteis e alienígenas.\"\"\"\n",
    "    # Remove qualquer projétil e alienígena que tenham colidido \n",
    "    collisions = pygame.sprite.groupcollide(bullets, aliens, True, True)\n",
    "    if collisions: \n",
    "        for aliens in collisions.values(): \n",
    "            stats.score += ai_settings.alien_points * len(aliens) \n",
    "            sb.prep_score()\n",
    "            check_high_score(stats, sb) "
   ]
  },
  {
   "cell_type": "markdown",
   "id": "3e454241-96b5-43df-aca4-7c778a349c3e",
   "metadata": {},
   "source": [
    "Chamamos <code>**check_high_score()**</code> quando o **dicionário <code>collisions</code> estiver presente, e fazemos isso depois de atualizar a pontuação referente a todos os alienígenas atingidos.**\n",
    "Na primeira vez que você jogar a <code>**Invasão Alienígena**</code>, sua pontuação será a pontuação máxima, portanto ela será exibida como a pontuação atual e a pontuação máxima. Contudo, ao iniciar um segundo jogo, a pontuação máxima deverá aparecer no meio e a sua pontuação atual"
   ]
  },
  {
   "cell_type": "markdown",
   "id": "a824e467-4c69-4b21-90b4-eaf82d79fc6b",
   "metadata": {},
   "source": [
    "### Exibindo o nível"
   ]
  },
  {
   "cell_type": "markdown",
   "id": "684175e9-2866-46e9-8a77-9f88066fafdc",
   "metadata": {},
   "source": [
    "**Para exibir o nível do jogador em um jogo, precisamos antes de um atributo em <code>GameStats</code> que represente o nível atual**. Para reiniciar o nível no começo de cada novo jogo, inicialize-o em <code>**reset_stats()**</code>:"
   ]
  },
  {
   "cell_type": "code",
   "execution_count": 93,
   "id": "af7a5c63-366e-4ed6-9184-d5c129be31a4",
   "metadata": {
    "tags": []
   },
   "outputs": [],
   "source": [
    "#game_stats.py \n",
    "def reset_stats(self): \n",
    "    \"\"\"Inicializa os dados estatísticos que podem mudar durante o jogo.\"\"\"\n",
    "    self.ships_left = self.ai_settings.ship_limit\n",
    "    self.score = 0 \n",
    "    self.level = 1"
   ]
  },
  {
   "cell_type": "markdown",
   "id": "ed402fcf-695f-4b37-b64c-6b5b4d35e3b2",
   "metadata": {},
   "source": [
    "Para fazer <code>**Scoreboard**</code> exibir o nível atual (logo abaixo da pontuação), chamamos um novo método, <code>**prep_level(), em __init__()**</code>:"
   ]
  },
  {
   "cell_type": "code",
   "execution_count": 99,
   "id": "fd2aa87f-2b7d-49c0-a691-079107455ab7",
   "metadata": {
    "tags": []
   },
   "outputs": [],
   "source": [
    "#scoreboard.py\n",
    "def __init__(self, ai_settings, screen, stats): \n",
    "    \n",
    "    --trecho omitido--\n",
    "    # Prepara as imagens das pontuações iniciais \n",
    "    self.prep_score() \n",
    "    self.prep_high_score() \n",
    "    self.prep_level() \n",
    "    \n",
    "def prep_level(self): \n",
    "    \"\"\"Transforma o nível em uma imagem renderizada.\"\"\"\n",
    "    self.level_image = self.font.render(str(self.stats.level), True, self.text_color, self.ai_settings.bg_color)\n",
    "    \n",
    "    # Posiciona o nível abaixo da pontuação \n",
    "    self.level_rect = self.level_image.get_rect() \n",
    "    self.level_rect.right = self.score_rect.right \n",
    "    self.level_rect.top = self.score_rect.bottom + 10"
   ]
  },
  {
   "cell_type": "markdown",
   "id": "3b49b5cd-4dc5-4368-9927-cfe097534b56",
   "metadata": {},
   "source": [
    "O método <code>**prep_level()**</code> cria uma imagem a partir do valor armazenado em <code>stats.level</code> e define o atributo right da imagem para que seja igual ao atributo right da pontuação. Então o **atributo <code>top</code> é definido a 10 pixels abaixo da parte inferior da imagem da pontuação de modo a deixar um espaço entre a pontuação e o nível.**   \n",
    "Também devemos atualizar <code>**show_score()**</code>:"
   ]
  },
  {
   "cell_type": "code",
   "execution_count": null,
   "id": "e634d7f4-e910-47ba-9150-581200191169",
   "metadata": {},
   "outputs": [],
   "source": [
    "#scoreboard.py \n",
    "def show_score(self): \n",
    "    \"\"\"Desenha as pontuações e o nível na tela.\"\"\"\n",
    "    self.screen.blit(self.score_image, self.score_rect)\n",
    "    self.screen.blit(self.high_score_image, self.high_score_rect)\n",
    "    self.screen.blit(self.level_image, self.level_rect)"
   ]
  },
  {
   "cell_type": "markdown",
   "id": "dc6c48bf-42be-4473-9346-aedd116168f2",
   "metadata": {},
   "source": [
    "Esse código adiciona uma linha para desenhar a imagem do nível do jogo na tela.   \n",
    "**Incrementaremos <code>stats.level</code> e atualizaremos a imagem do nível em <code>check_bullet_alien_collisions()</code>**:"
   ]
  },
  {
   "cell_type": "code",
   "execution_count": 112,
   "id": "ad065b5f-87d1-4da0-be02-c63d127aaf29",
   "metadata": {
    "tags": []
   },
   "outputs": [],
   "source": [
    "#game_functions.py \n",
    "def check_bullet_alien_collisions(ai_settings, screen, stats, sb, ship, aliens, bullets): \n",
    "    \"\"\"Responde a colisões entre projéteis e alienígenas.\"\"\"\n",
    "    # Remove qualquer projétil e alienígena que tenham colidido \n",
    "    collisions = pygame.sprite.groupcollide(bullets, aliens, True, True)\n",
    "    if collisions: \n",
    "        for aliens in collisions.values(): \n",
    "            stats.score += ai_settings.alien_points * len(aliens) \n",
    "            sb.prep_score()\n",
    "            check_high_score(stats, sb)\n",
    "        \n",
    "    if len(aliens) == 0: \n",
    "        # Se a frota toda for destruída, inicia um novo nível \n",
    "        bullets.empty() \n",
    "        ai_settings.increase_speed()\n",
    "        \n",
    "        # Aumenta o nível\n",
    "        stats.level += 1 \n",
    "        sb.prep_level()\n",
    "        create_fleet(ai_settings, screen, ship, aliens)  "
   ]
  },
  {
   "cell_type": "markdown",
   "id": "f1947e01-ed17-4cec-805a-800f38a30b93",
   "metadata": {},
   "source": [
    "**Se uma frota for destruída, incrementamos o valor de <code>stats.level</code> e chamamos <code>prep_level()</code> para garantir que o novo nível seja exibido corretamente.**\n",
    "Para garantir que as imagens da pontuação e do nível sejam atualizadas de forma apropriada no início de um novo jogo, dispare uma reinicialização quando o botão <code>**Play**</code> for clicado: "
   ]
  },
  {
   "cell_type": "code",
   "execution_count": null,
   "id": "8122fd58-3662-4527-9ea1-7d258ef18fec",
   "metadata": {},
   "outputs": [],
   "source": [
    "#game_functions.py \n",
    "def check_play_button(ai_settings, screen, stats, sb, play_button, ship, aliens, bullets, mouse_x, mouse_y): \n",
    "    \"\"\"Inicia um novo jogo quando o jogador clicar em Play.\"\"\"\n",
    "    button_clicked = play_button.rect.collidepoint(mouse_x, mouse_y) if\n",
    "    button_clicked and not stats.game_active: \n",
    "        --trecho omitido--\n",
    "    # Reinicia os dados estatísticos do jogo \n",
    "    stats.reset_stats() \n",
    "    stats.game_active = True\n",
    "    \n",
    "    # Reinicia as imagens do painel de pontuação \n",
    "    sb.prep_score() \n",
    "    sb.prep_high_score() \n",
    "    sb.prep_level()\n",
    "    \n",
    "# Esvazia a lista de alienígenas e de projéteis \n",
    "aliens.empty() \n",
    "bullets.empty()\n",
    "--trecho omitido--"
   ]
  },
  {
   "cell_type": "markdown",
   "id": "1bafa2a0-36bb-48d7-a822-f588ff3f168c",
   "metadata": {},
   "source": [
    "**A definição de <code>check_play_button()</code> precisa do objeto <code>sb</code>**. Para reiniciar as imagens do painel de pontuação, chamamos **<code>prep_score(), prep_high_score() e prep_level()</code> depois de reiniciar as configurações relevantes do jogou.**\n",
    "\n",
    "**Agora passe o parâmetro sb recebido por <code>check_events() a check_play_button()</code> para que ele tenha acesso ao objeto que representa o painel de pontuações:**"
   ]
  },
  {
   "cell_type": "code",
   "execution_count": 149,
   "id": "80b9858e-3f9c-4eda-bd3c-16c79585df2c",
   "metadata": {
    "tags": []
   },
   "outputs": [],
   "source": [
    "#game_functions.py \n",
    "def check_events(ai_settings, screen, stats, sb, play_button, ship, aliens, bullets):\n",
    "    \"\"\"Responde a eventos de pressionamento de teclas e de mouse.\"\"\" \n",
    "    # Observa eventos de teclado e de mouse\n",
    "    for event in pygame.event.get():\n",
    "        if event.type == pygame.QUIT:\n",
    "            sys.exit()  # Encerra o programa quando o usuário fecha a janela\n",
    "    \n",
    "        elif event.type == pygame.KEYDOWN:\n",
    "            check_keydown_events(event, ai_settings, screen, ship, bullets) \n",
    "            \n",
    "        elif event.type == pygame.KEYUP:\n",
    "            check_keyup_events(event, ship)\n",
    "            \n",
    "        elif event.type == pygame.MOUSEBUTTONDOWN:  \n",
    "            mouse_x, mouse_y = pygame.mouse.get_pos() \n",
    "            check_play_button(ai_settings, screen, stats, sb, play_button, ship, aliens, bullets, mouse_x, mouse_y)\n",
    "            "
   ]
  },
  {
   "cell_type": "markdown",
   "id": "e2d70683-e922-423c-ac4c-587a5e453441",
   "metadata": {},
   "source": [
    "A definição de **<code>check_events()</code> precisa receber <code>sb</code> como parâmetro para que a chamada a <code>check_play_button()</code> possa incluí-lo como argumento**.  \n",
    "Por fim, atualize a chamada a **<code>check_events()</code>**  em **'alien_invasion.py'** para que <code>**sb**</code> também seja passado como argumento:"
   ]
  },
  {
   "cell_type": "code",
   "execution_count": null,
   "id": "8f4595ae-d75a-49cc-b9a8-513b6d072587",
   "metadata": {},
   "outputs": [],
   "source": [
    "#alien_invasion.py \n",
    "# Inicia o laço principal do jogo\n",
    "while True: \n",
    "gf.check_events(ai_settings, screen, stats, sb, play_button, ship, aliens, bullets) \n",
    "--trecho omitido--"
   ]
  },
  {
   "cell_type": "markdown",
   "id": "8a7210a4-d5d1-48d7-a9e0-f8c082dc1fcc",
   "metadata": {},
   "source": [
    "**NOTA**    \n",
    "Em alguns jogos clássicos, as pontuações têm rótulos, como <code>**Score (Pontuação), High Score (Pontuação máxima) e Level (Nível)**</code>. Omitimos esses rótulos porque o significado de cada número se torna evidente depois que você usar o jogo. Para incluir esses rótulos, adicione-os às strings de pontuação, imediatamente antes das chamadas a <code>**font.render() em Scoreboard**</code>."
   ]
  },
  {
   "cell_type": "markdown",
   "id": "b15179c8-da42-4fb1-a1a1-607ba4f86fe3",
   "metadata": {},
   "source": [
    "### Exibindo o número de espaçonaves"
   ]
  },
  {
   "cell_type": "markdown",
   "id": "9fda2e4f-aa1c-416a-adae-0f9e6c641191",
   "metadata": {},
   "source": [
    "**Por fim, vamos exibir o número de espaçonaves que restam ao jogador, mas desta vez vamos usar uma imagem.** Para isso, desenharemos espaçonaves no canto superior esquerdo da tela para representar quantas espaçonaves ainda restam, como em muitos jogos clássicos de arcade.\n",
    "Em primeiro lugar, |**precisamos fazer <code>Ship herdar de Sprite</code> para que possamos criar um grupo de espaçonaves**:"
   ]
  },
  {
   "cell_type": "code",
   "execution_count": 160,
   "id": "e799d07a-8b28-4747-9fbd-ca30ad8b52f3",
   "metadata": {
    "tags": []
   },
   "outputs": [
    {
     "name": "stdout",
     "output_type": "stream",
     "text": [
      "pygame 2.6.0 (SDL 2.28.4, Python 3.11.5)\n",
      "Hello from the pygame community. https://www.pygame.org/contribute.html\n"
     ]
    }
   ],
   "source": [
    "#ship.py\n",
    "import pygame \n",
    "from pygame.sprite import Sprite\n",
    "\n",
    "class Ship():\n",
    "    def __init__(self, ai_settings, screen):\n",
    "        \"\"\"Inicializa a espaçonave e define sua posição inicial.\"\"\"\n",
    "        super(Ship, self).__init__()\n",
    "        self.screen = screen\n",
    "        self.ai_settings = ai_settings"
   ]
  },
  {
   "cell_type": "markdown",
   "id": "9a8130d3-28a3-4595-8e15-fce6f915b07b",
   "metadata": {},
   "source": [
    "Nesse código, **importamos <code>Sprite</code>, garantimos que <code>Ship</code> herde dessa classe e chamamos <code>super() no início de __init__()</code>.**\n",
    "Em seguida, devemos modificar <code>**Scoreboard**</code> a fim de criar um grupo de espaçonaves que possa ser exibido. Eis as instruções <code>**import e o método __init__()**</code>:"
   ]
  },
  {
   "cell_type": "code",
   "execution_count": null,
   "id": "b43007fe-64e8-4a02-8d62-b26540662223",
   "metadata": {},
   "outputs": [],
   "source": [
    "#scoreboard.py \n",
    "import pygame.font \n",
    "from pygame.sprite import Group\n",
    "from ship import Ship\n",
    "\n",
    "class Scoreboard(): \n",
    "    \"\"\"Uma classe para mostrar informações sobre pontuação.\"\"\"\n",
    "    def __init__(self, ai_settings, screen, stats): \n",
    "        --trecho omitido--\n",
    "        self.prep_level() \n",
    "        self.prep_ships() \n",
    "        --trecho omitido--"
   ]
  },
  {
   "cell_type": "markdown",
   "id": "935a8b21-d8f9-4cd1-8770-6267a7e3cdab",
   "metadata": {},
   "source": [
    "Como estamos criando **um grupo de espaçonaves, importamos as <code>classes Group e Ship</code>. Chamamos <code>prep_ships()</code> após a chamada a <code>prep_level()</code>**.   \n",
    "Eis o código de <code>**prep_ships()**</code>:"
   ]
  },
  {
   "cell_type": "code",
   "execution_count": 170,
   "id": "d8e76391-33a0-4e9c-aa91-aca62e2d5d04",
   "metadata": {
    "tags": []
   },
   "outputs": [],
   "source": [
    "#scoreboard.py \n",
    "def prep_ships(self):\n",
    "    \"\"\"Mostra quantas espaçonaves restam.\"\"\"\n",
    "    self.ships = Group() \n",
    "    for ship_number in range(self.stats.ships_left):\n",
    "        ship = Ship(self.ai_settings, self.screen) \n",
    "        ship.rect.x = 10 + ship_number * ship.rect.width  \n",
    "        ship.rect.y = 10\n",
    "        self.ships.add(ship)"
   ]
  },
  {
   "cell_type": "markdown",
   "id": "9f8e8813-7759-4179-a677-7b201c9a325b",
   "metadata": {},
   "source": [
    "O método <code>**prep_ships()**</code> cria um grupo <code>**vazio, self.ships**</code>, para armazenar as instâncias das espaçonaves. Para preencher esse grupo, um laço percorre todas as espaçonaves que restam ao jogador. Nesse laço, **criamos uma nova espaçonave e definimos o valor da <code>coordenada x</code> de cada espaçonave para que elas apareçam uma ao lado da outra, com uma margem de 10 pixels do lado esquerdo do grupo de espaçonaves. Definimos o valor da <code>coordenada y</code> com 10 pixels abaixo da parte superior da tela para que as espaçonaves estejam alinhadas com a imagem da pontuação**. Por fim, adicionamos cada nova espaçonave ao grupo ships<code></code>.\n",
    "\n",
    "Agora precisamos desenhar as espaçonaves na tela:"
   ]
  },
  {
   "cell_type": "code",
   "execution_count": null,
   "id": "19089724-89ce-41db-8917-da58e33a5128",
   "metadata": {},
   "outputs": [],
   "source": [
    "#scoreboard.py \n",
    "def show_score(self): \n",
    "    --trecho omitido--\n",
    "    self.screen.blit(self.level_image, self.level_rect) \n",
    "    # Desenha as espaçonaves \n",
    "    self.ships.draw(self.screen)"
   ]
  },
  {
   "cell_type": "markdown",
   "id": "4c749428-f9f5-4b81-85dc-0f0ff5b15e6d",
   "metadata": {},
   "source": [
    "**Para exibir as espaçonaves na tela, chamamos <code>draw()</code> no grupo, e o <code>Pygame</code> desenhará cada espaçonave.**    \n",
    "Para mostrar quantas espaçonaves um jogador tem no início, chamamos <code>**prep_ships()**</code> quando um novo jogo começar. Fazemos isso em **<code>check_play_button() no arquivo 'game_functions.py'</code>**:"
   ]
  },
  {
   "cell_type": "code",
   "execution_count": null,
   "id": "32aff452-c2b8-4630-b00a-ac96a0348274",
   "metadata": {},
   "outputs": [],
   "source": [
    "#game_functions.py \n",
    "def check_play_button(ai_settings, screen, stats, sb, play_button, ship, aliens, bullets, mouse_x, mouse_y):\n",
    "    \"\"\"Inicia um novo jogo quando o jogador clicar em Play.\"\"\" \n",
    "    button_clicked = play_button.rect.collidepoint(mouse_x, mouse_y) \n",
    "    if button_clicked and not stats.game_active: \n",
    "        --trecho omitido-- \n",
    "        # Reinicia as imagens do painel de pontuação \n",
    "        sb.prep_score()\n",
    "        sb.prep_high_score() \n",
    "        sb.prep_level() \n",
    "        sb.prep_ships() \n",
    "        --trecho omitido--"
   ]
  },
  {
   "cell_type": "markdown",
   "id": "266ed8a2-03a7-41b4-bcaf-dddd09626eae",
   "metadata": {},
   "source": [
    "Também chamamos <code>**prep_ships()**</code> quando uma espaçonave é atingida para atualizar a apresentação das imagens das espaçonaves quando o jogador perder uma delas: "
   ]
  },
  {
   "cell_type": "code",
   "execution_count": null,
   "id": "6e604aa9-d987-4a8c-bc01-87bdc75fa658",
   "metadata": {},
   "outputs": [],
   "source": [
    "#game_functions.py u \n",
    "def update_aliens(ai_settings, screen, stats, sb, ship, aliens, bullets): \n",
    "    -- trecho omitido--\n",
    "    # Verifica se houve colisões entre alienígenas e a espaçonave \n",
    "    if pygame.sprite.spritecollideany(ship, aliens): \n",
    "        ship_hit(ai_settings, screen, stats, sb, ship, aliens, bullets)\n",
    "    # Verifica se há algum alienígena que atingiu a parte inferior da tela \n",
    "    check_aliens_bottom(ai_settings, screen, stats, sb, ship, aliens, bullets)\n",
    "\n",
    "def ship_hit(ai_settings, screen, stats, sb, ship, aliens, bullets): \n",
    "    \"\"\"Responde ao fato de a espaçonave ter sido atingida por um alienígena.\"\"\"\n",
    "    if stats.ships_left > 0: \n",
    "        # Decrementa ships_left \n",
    "        stats.ships_left -= 1 \n",
    "        \n",
    "        # Atualiza o painel de pontuações \n",
    "        sb.prep_ships()\n",
    "# Esvazia a lista de alienígenas e de projéteis \n",
    "--trecho omitido--"
   ]
  },
  {
   "cell_type": "markdown",
   "id": "94dfa8a6-2159-4974-82a2-398ef3cee4e1",
   "metadata": {},
   "source": [
    "**Inicialmente adicionamos o parâmetro sb à definição de update_aliens()<code></code>. Então passamos <code>sb para ship_hit()</code> e para <code>check_aliens_bottom()</code> para que cada um deles tenha acesso ao objeto que representa o painel de pontuações.  \n",
    "Em seguida atualizamos a definição <code>de ship_hit() para que inclua sb</code>**. Chamamos <code>**prep_ships()**</code> depois de decrementar o valor de <code>**ships_left**</code> para que o número correto de espaçonaves seja exibido sempre que uma delas for destruída.\n",
    "\n",
    "Há uma chamada a <code>**ship_hit() em check_aliens_bottom()**</code>, portanto atualize essa função também:"
   ]
  },
  {
   "cell_type": "code",
   "execution_count": null,
   "id": "2f0d6ac4-38d2-4df0-8f4e-22d6c9b5797a",
   "metadata": {},
   "outputs": [],
   "source": [
    "#game_functions.py\n",
    "def check_aliens_bottom(ai_settings, screen, stats, sb, ship, aliens, bullets):\n",
    "    \"\"\"Verifica se algum alienígena alcançou a parte inferior da tela.\"\"\" \n",
    "    screen_rect = screen.get_rect() \n",
    "    for alien in aliens.sprites(): \n",
    "        if alien.rect.bottom >= screen_rect.bottom:\n",
    "            \n",
    "    # Trata esse caso do mesmo modo que é feito quando uma espaçonave é atingida \n",
    "    ship_hit(ai_settings, screen, stats, sb, ship, aliens, bullets)\n",
    "    break "
   ]
  },
  {
   "cell_type": "markdown",
   "id": "4bf63131-f41a-49cd-ae1e-839703f33357",
   "metadata": {},
   "source": [
    "Agora <code>check_aliens_bottom() aceita sb</code> como parâmetro, e acrescentamos um argumento sb na chamada a ship_hit().\n",
    "Por fim, passe sb na chamada a <code>**update_aliens() em 'alien_invasion.py'**</code>:"
   ]
  },
  {
   "cell_type": "code",
   "execution_count": null,
   "id": "56bb80b7-0024-4f31-be36-db30f569f91e",
   "metadata": {
    "tags": []
   },
   "outputs": [
    {
     "name": "stdout",
     "output_type": "stream",
     "text": [
      "pygame 2.6.0 (SDL 2.28.4, Python 3.11.5)\n",
      "Hello from the pygame community. https://www.pygame.org/contribute.html\n"
     ]
    }
   ],
   "source": [
    "import pygame\n",
    "from settings import Settings\n",
    "from game_stats import GameStats\n",
    "from button import Button \n",
    "from ship import Ship\n",
    "from alien import Alien\n",
    "import game_functions as gf\n",
    "from pygame.sprite import Group \n",
    "from scoreboard import Scoreboard\n",
    "\n",
    "\n",
    "def run_game():\n",
    "    # Inicializa o jogo e cria um objeto para a tela\n",
    "    pygame.init()\n",
    "    ai_settings = Settings() \n",
    "    screen = pygame.display.set_mode((ai_settings.screen_width, ai_settings.screen_height))\n",
    "    pygame.display.set_caption(\"Alien Invasion\")\n",
    "    # Cria o botão Play  \n",
    "    play_button = Button(ai_settings, screen,\"Play\") \n",
    "    \n",
    "    # Cria uma instância para armazenar dados estatísticos do jogo\n",
    "    stats = GameStats(ai_settings)\n",
    "    sb = Scoreboard(ai_settings, screen, stats)\n",
    "    \n",
    "    # Define a cor de fundo \n",
    "    bg_color = (230, 230, 230)\n",
    "    \n",
    "    # Cria uma espaçonave, um grupo de projéteis e um grupo de alienígenas\n",
    "    ship = Ship(ai_settings, screen)\n",
    "    bullets = Group() \n",
    "    aliens = Group() \n",
    "    # Cria a frota de alienígenas \n",
    "    gf.create_fleet(ai_settings, screen, ship, aliens)\n",
    "    \n",
    "    \n",
    "    # Inicia o laço principal do jogo\n",
    "    while True:\n",
    "        gf.check_events(ai_settings, screen, stats, sb, play_button, ship, aliens, bullets)\n",
    "        if stats.game_active: \n",
    "            ship.update()\n",
    "            gf.update_bullets(ai_settings, screen, stats, sb, ship, aliens, bullets)\n",
    "            gf.update_aliens(ai_settings, screen, stats, sb, ship, aliens, bullets) \n",
    "        \n",
    "        gf.update_screen(ai_settings, screen, stats, sb, ship, aliens, bullets, play_button)\n",
    "        \n",
    "        alien_drop_speedc=50\n",
    "        \n",
    "        # Redesenha a tela a cada passagem pelo laço\n",
    "        screen.fill(ai_settings.bg_color)\n",
    "        ship.blitme()\n",
    "        aliens.draw(screen)\n",
    "        \n",
    "        # Deixa a tela mais recente visível\n",
    "        pygame.display.flip()\n",
    "\n",
    "# Chama a função para iniciar o jogo\n",
    "run_game()"
   ]
  },
  {
   "cell_type": "markdown",
   "id": "3d276b45-97aa-4af7-b25e-f30d06015f1f",
   "metadata": {},
   "source": [
    "## **FAÇA VOCÊ MESMO**"
   ]
  },
  {
   "cell_type": "markdown",
   "id": "68638a86-b4b4-4d70-a294-774026a55cc9",
   "metadata": {},
   "source": [
    "**14.4 – A pontuação máxima de todos os tempos:** A pontuação máxima é reiniciada sempre que um jogador fecha e reinicia a Invasão Alienígena. Corrija isso gravando a pontuação máxima em um arquivo antes de chamar **sys.exit()** e lendo-a quando inicializar seu valor em **GameStats**.\n"
   ]
  },
  {
   "cell_type": "code",
   "execution_count": null,
   "id": "ceccaf84-184f-42e8-b073-26617bc8ea83",
   "metadata": {
    "tags": []
   },
   "outputs": [],
   "source": [
    "import json\n",
    "\n",
    "class GameStats:\n",
    "    \"\"\"Armazena dados estatísticos da Invasão Alienígena.\"\"\"\n",
    "\n",
    "    def __init__(self, ai_settings):\n",
    "        \"\"\"Inicializa os dados estatísticos.\"\"\"\n",
    "        self.ai_settings = ai_settings\n",
    "        self.reset_stats()\n",
    "        self.game_active = False\n",
    "\n",
    "        # Pontuação máxima lida do arquivo.\n",
    "        self.high_score = self.load_high_score()\n",
    "\n",
    "    def reset_stats(self):\n",
    "        \"\"\"Inicializa os dados que podem mudar durante o jogo.\"\"\"\n",
    "        self.ships_left = self.ai_settings.ship_limit\n",
    "        self.score = 0\n",
    "        self.level = 1\n",
    "\n",
    "    def load_high_score(self):\n",
    "        \"\"\"Carrega a pontuação máxima de um arquivo.\"\"\"\n",
    "        try:\n",
    "            with open('high_score.json', 'r') as f:\n",
    "                return int(json.load(f))\n",
    "        except FileNotFoundError:\n",
    "            return 0\n",
    "\n",
    "    def save_high_score(self):\n",
    "        \"\"\"Salva a pontuação máxima em um arquivo.\"\"\"\n",
    "        with open('high_score.json', 'w') as f:\n",
    "            json.dump(self.high_score, f)"
   ]
  },
  {
   "cell_type": "markdown",
   "id": "0f53eeb0-be2b-4fcd-960c-377a46352a37",
   "metadata": {},
   "source": [
    "**14.5 – Refatoração:** Procure funções e métodos que executem mais de uma tarefa e refatore-os para manter o seu código organizado e eficiente. Por exemplo, passe uma parte do código de **check_bullet_alien_collisions()**, que inicia um novo nível quando a frota de alienígenas é destruída, para uma função chamada **start_new_level()**. Além disso, transfira as quatro chamadas de método separadas no método __init__() em **Scoreboard** para um método chamado **prep_images()** para deixar __init__() mais conciso. O método **prep_images()** também poderá ajudar **check_play_button()** ou **start_game()** se você já tiver refatorado **check_play_button()**.\n",
    "\n",
    "**NOTA:   \n",
    "Antes de tentar refatorar o projeto, consulte o Apêndice D para aprender a restaurá-lo a um estado funcional caso você introduza bugs na refatoração.**"
   ]
  },
  {
   "cell_type": "code",
   "execution_count": null,
   "id": "02e10709-e3e4-4d77-9fc1-aeaab3c2a974",
   "metadata": {
    "tags": []
   },
   "outputs": [
    {
     "name": "stdout",
     "output_type": "stream",
     "text": [
      "pygame 2.6.0 (SDL 2.28.4, Python 3.11.5)\n",
      "Hello from the pygame community. https://www.pygame.org/contribute.html\n"
     ]
    }
   ],
   "source": [
    "import pygame\n",
    "from settings import Settings\n",
    "from game_stats import GameStats\n",
    "from button import Button \n",
    "from ship import Ship\n",
    "from alien import Alien\n",
    "import game_functions as gf\n",
    "from pygame.sprite import Group \n",
    "from scoreboard import Scoreboard\n",
    "\n",
    "\n",
    "def run_game():\n",
    "    # Inicializa o jogo e cria um objeto para a tela\n",
    "    pygame.init()\n",
    "    ai_settings = Settings() \n",
    "    screen = pygame.display.set_mode((ai_settings.screen_width, ai_settings.screen_height))\n",
    "    pygame.display.set_caption(\"Alien Invasion\")\n",
    "    # Cria o botão Play  \n",
    "    play_button = Button(ai_settings, screen,\"Play\") \n",
    "    \n",
    "    # Cria uma instância para armazenar dados estatísticos do jogo\n",
    "    stats = GameStats(ai_settings)\n",
    "    sb = Scoreboard(ai_settings, screen, stats)\n",
    "    \n",
    "    # Define a cor de fundo \n",
    "    bg_color = (230, 230, 230)\n",
    "    \n",
    "    # Cria uma espaçonave, um grupo de projéteis e um grupo de alienígenas\n",
    "    ship = Ship(ai_settings, screen)\n",
    "    bullets = Group() \n",
    "    aliens = Group() \n",
    "    # Cria a frota de alienígenas \n",
    "    gf.create_fleet(ai_settings, screen, ship, aliens)\n",
    "    \n",
    "    \n",
    "    # Inicia o laço principal do jogo\n",
    "    while True:\n",
    "        gf.check_events(ai_settings, screen, stats, sb, play_button, ship, aliens, bullets)\n",
    "        if stats.game_active: \n",
    "            ship.update()\n",
    "            gf.update_bullets(ai_settings, screen, stats, sb, ship, aliens, bullets)\n",
    "            gf.update_aliens(ai_settings, screen, stats, sb, ship, aliens, bullets) \n",
    "        \n",
    "        gf.update_screen(ai_settings, screen, stats, sb, ship, aliens, bullets, play_button)\n",
    "        \n",
    "        alien_drop_speedc=50\n",
    "        \n",
    "        # Redesenha a tela a cada passagem pelo laço\n",
    "        screen.fill(ai_settings.bg_color)\n",
    "        ship.blitme()\n",
    "        aliens.draw(screen)\n",
    "        \n",
    "        # Deixa a tela mais recente visível\n",
    "        pygame.display.flip()\n",
    "\n",
    "# Chama a função para iniciar o jogo\n",
    "run_game()"
   ]
  },
  {
   "cell_type": "markdown",
   "id": "f408a6d9-240f-426a-ab02-d6a1404b5510",
   "metadata": {},
   "source": [
    "**14.6 – Expandindo a Invasão Alienígena:** Pense em um modo de expandir a Invasão Alienígena. Por exemplo, você poderia programar os alienígenas para atirar na espaçonave ou acrescentar escudos para a sua espaçonave se esconder atrás deles e que possam ser destruídos por projéteis de qualquer um dos lados. Você também pode usar um recurso como o módulo pygame.mixer para acrescentar efeitos sonoros como sons de explosões e de tiros.\n"
   ]
  },
  {
   "cell_type": "code",
   "execution_count": 2,
   "id": "90c5415a-d86f-4ced-9528-2c69ad9ac95f",
   "metadata": {
    "tags": []
   },
   "outputs": [
    {
     "name": "stdout",
     "output_type": "stream",
     "text": [
      "pygame 2.6.0 (SDL 2.28.4, Python 3.11.5)\n",
      "Hello from the pygame community. https://www.pygame.org/contribute.html\n"
     ]
    },
    {
     "ename": "NameError",
     "evalue": "name 'create_shields' is not defined",
     "output_type": "error",
     "traceback": [
      "\u001b[0;31m---------------------------------------------------------------------------\u001b[0m",
      "\u001b[0;31mNameError\u001b[0m                                 Traceback (most recent call last)",
      "Cell \u001b[0;32mIn[2], line 66\u001b[0m\n\u001b[1;32m     63\u001b[0m         pygame\u001b[38;5;241m.\u001b[39mdisplay\u001b[38;5;241m.\u001b[39mflip()\n\u001b[1;32m     65\u001b[0m \u001b[38;5;66;03m# Chama a função para iniciar o jogo\u001b[39;00m\n\u001b[0;32m---> 66\u001b[0m \u001b[43mrun_game\u001b[49m\u001b[43m(\u001b[49m\u001b[43m)\u001b[49m\n",
      "Cell \u001b[0;32mIn[2], line 40\u001b[0m, in \u001b[0;36mrun_game\u001b[0;34m()\u001b[0m\n\u001b[1;32m     38\u001b[0m \u001b[38;5;66;03m# Cria os escudos.\u001b[39;00m\n\u001b[1;32m     39\u001b[0m shields \u001b[38;5;241m=\u001b[39m Group()\n\u001b[0;32m---> 40\u001b[0m \u001b[43mcreate_shields\u001b[49m(screen, shields)\n\u001b[1;32m     42\u001b[0m \u001b[38;5;66;03m# Cria a frota de alienígenas.\u001b[39;00m\n\u001b[1;32m     43\u001b[0m create_fleet(ai_settings, screen, ship, aliens)\n",
      "\u001b[0;31mNameError\u001b[0m: name 'create_shields' is not defined"
     ]
    }
   ],
   "source": [
    "import sys\n",
    "import pygame\n",
    "from time import sleep\n",
    "import random\n",
    "from pygame.sprite import Group\n",
    "from settings import Settings\n",
    "from game_stats import GameStats\n",
    "from scoreboard import Scoreboard\n",
    "from button import Button\n",
    "from ship import Ship\n",
    "from bullet import Bullet\n",
    "from alien import Alien\n",
    "from alien_bullet import AlienBullet\n",
    "from shield import Shield\n",
    "\n",
    "\n",
    "def run_game():\n",
    "    # Inicializa o jogo e cria um objeto para a tela.\n",
    "    pygame.init()\n",
    "    ai_settings = Settings()\n",
    "    screen = pygame.display.set_mode(\n",
    "        (ai_settings.screen_width, ai_settings.screen_height))\n",
    "    pygame.display.set_caption(\"Invasão Alienígena\")\n",
    "\n",
    "    # Cria o botão Play.\n",
    "    play_button = Button(ai_settings, screen, \"Play\")\n",
    "\n",
    "    # Cria instâncias para armazenar estatísticas e criar o placar.\n",
    "    stats = GameStats(ai_settings)\n",
    "    sb = Scoreboard(ai_settings, screen, stats)\n",
    "\n",
    "    # Cria uma nave, grupos de balas e alienígenas.\n",
    "    ship = Ship(ai_settings, screen)\n",
    "    bullets = Group()\n",
    "    aliens = Group()\n",
    "    alien_bullets = Group()\n",
    "\n",
    "    # Cria os escudos.\n",
    "    shields = Group()\n",
    "    create_shields(screen, shields)\n",
    "\n",
    "    # Cria a frota de alienígenas.\n",
    "    create_fleet(ai_settings, screen, ship, aliens)\n",
    "\n",
    "    # Inicia o loop principal do jogo.\n",
    "    while True:\n",
    "        check_events(ai_settings, screen, stats, sb, play_button, ship, aliens, bullets, shields)\n",
    "        \n",
    "        if stats.game_active:\n",
    "            ship.update()\n",
    "            update_bullets(ai_settings, screen, stats, sb, ship, aliens, bullets, alien_bullets)\n",
    "            update_aliens(ai_settings, stats, screen, ship, aliens, bullets, alien_bullets)\n",
    "            update_alien_bullets(ai_settings, stats, screen, ship, alien_bullets, shields)\n",
    "\n",
    "        update_screen(ai_settings, screen, stats, sb, ship, aliens, bullets, alien_bullets, shields, play_button)\n",
    "        \n",
    "        # Redesenha a tela a cada passagem pelo laço\n",
    "        screen.fill(ai_settings.bg_color)\n",
    "        ship.blitme()\n",
    "        aliens.draw(screen)\n",
    "        \n",
    "        # Deixa a tela mais recente visível\n",
    "        pygame.display.flip()\n",
    "\n",
    "# Chama a função para iniciar o jogo\n",
    "run_game()"
   ]
  },
  {
   "cell_type": "markdown",
   "id": "5ef0d35b-ecef-4126-a6ed-3dec35f31e8e",
   "metadata": {},
   "source": [
    "## **Resumo**"
   ]
  },
  {
   "cell_type": "markdown",
   "id": "2f15d032-75e7-43c5-bc6e-2500558c30df",
   "metadata": {},
   "source": [
    "Neste capítulo aprendemos a criar **um botão <code>Play</code> para iniciar um novo jogo e a detectar eventos de movimento do mouse, além de ocultar o cursor em jogos ativos. Você pode usar o que aprendeu para criar outros botões em seus jogos, por exemplo, um botão <code>Help (Ajuda)</code> para exibir instruções sobre como jogar.** Também aprendemos a modificar a velocidade de um jogo à medida que ele progredir, vimos como implementar um sistema progressivo de pontuação e como exibir informações de forma textual e não textual."
   ]
  },
  {
   "cell_type": "code",
   "execution_count": null,
   "id": "7610a975-6cc3-4c1d-aad8-c614f6c05709",
   "metadata": {},
   "outputs": [],
   "source": []
  }
 ],
 "metadata": {
  "kernelspec": {
   "display_name": "Python 3 (ipykernel)",
   "language": "python",
   "name": "python3"
  },
  "language_info": {
   "codemirror_mode": {
    "name": "ipython",
    "version": 3
   },
   "file_extension": ".py",
   "mimetype": "text/x-python",
   "name": "python",
   "nbconvert_exporter": "python",
   "pygments_lexer": "ipython3",
   "version": "3.11.5"
  }
 },
 "nbformat": 4,
 "nbformat_minor": 5
}
