{
  "metadata": {
    "kernelspec": {
      "name": "python",
      "display_name": "Python (Pyodide)",
      "language": "python"
    },
    "language_info": {
      "codemirror_mode": {
        "name": "python",
        "version": 3
      },
      "file_extension": ".py",
      "mimetype": "text/x-python",
      "name": "python",
      "nbconvert_exporter": "python",
      "pygments_lexer": "ipython3",
      "version": "3.8"
    }
  },
  "nbformat_minor": 4,
  "nbformat": 4,
  "cells": [
    {
      "cell_type": "markdown",
      "source": "# <b>Cap.5 - Instruções if",
      "metadata": {}
    },
    {
      "cell_type": "markdown",
      "source": "Com frequência, a programação envolve analisar um conjunto de condições e decidir qual ação deve ser executada de acordo com essas condições. \n**A instrução <code>if</code> de Python permite analisar o estado atual de um programa e responder de forma apropriada a esse estado.**\n\nNeste capítulo aprenderemos a escrever testes condicionais, que permitem verificar qualquer condição que seja de seu interesse. \n+ Veremos como escrever **instruções <code>if</code> simples e criar uma série de instruções  <code>if</code> mais complexa para identificar se as condições exatas que você quer estão presentes**. Então você aplicará esse conceito a  <code>**listas**</code>, de modo que será possível escrever um laço **<code>for</code>** que trate a maioria dos itens de uma lista de uma maneira, mas determinados itens com valores específicos de modo diferente.",
      "metadata": {}
    },
    {
      "cell_type": "markdown",
      "source": "### Um exemplo simples",
      "metadata": {}
    },
    {
      "cell_type": "markdown",
      "source": "O pequeno exemplo a seguir mostra **como testes **if** permitem responder a situações especiais de forma correta.** Suponha que você tenha uma lista de carros e queira exibir o nome de cada carro. Carros têm nomes próprios, portanto a maioria deles deve ser exibido com a primeira letra maiúscula. No entanto, o valor **'bmw'** deve ser apresentado somente com letras maiúsculas. \nO código a seguir percorre uma lista de nomes de carros em um laço e procura o valor **'bmw'**. Sempre que o valor for **'bmw'**, ele será exibido com letras maiúsculas, e não apenas com a inicial maiúscula:",
      "metadata": {}
    },
    {
      "cell_type": "code",
      "source": "cars = ['audi', 'bmw', 'subaru', 'toyota']\nfor car in cars:\n    if car == 'bmw': #O laço nesse exemplo inicialmente verifica se o valor atual de car é 'bmw'\n        print(car.upper())\n    else:\n        print(car.title())\n# Em caso afirmativo, o valor é exibido com letras maiúsculas.",
      "metadata": {
        "trusted": true
      },
      "outputs": [
        {
          "name": "stdout",
          "text": "Audi\nBMW\nSubaru\nToyota\n",
          "output_type": "stream"
        }
      ],
      "execution_count": 1
    },
    {
      "cell_type": "markdown",
      "source": "Esse exemplo combina vários conceitos que veremos neste capítulo. Vamos começar observando os tipos de teste que podemos usar para analisar as condições em seu programa.",
      "metadata": {}
    },
    {
      "cell_type": "markdown",
      "source": "## **Testes condicionais**",
      "metadata": {}
    },
    {
      "cell_type": "markdown",
      "source": "No coração de cada **instrução <code>if</code>** está uma expressão que pode ser avaliada como <code>**True**</code> ou **<code>False</code>**, chamada de **teste condicional**. Python usa os valores <code>**True**</code> e **<code>False</code>** para decidir se o código em uma instrução <code>**if**</code> deve ser executado. Se um teste condicional for avaliado como <code>**True**</code>, Python **executará** o código após a instrução <code>**if**</code>. Se o teste for avaliado como <code>**False**</code>, o interpretador **ignorará** o código depois da instrução <code>**if**</code>.",
      "metadata": {}
    },
    {
      "cell_type": "markdown",
      "source": "### Verificando a igualdade",
      "metadata": {}
    },
    {
      "cell_type": "markdown",
      "source": "**A maioria dos testes condicionais compara o valor atual de uma variável com um valor específico de interesse.** O teste condicional mais simples verifica se o valor de uma variável é igual ao valor de interesse:",
      "metadata": {}
    },
    {
      "cell_type": "code",
      "source": "car = 'bmw' #define o valor de car como 'bmw' usando um único sinal de igualdade, como já vimos muitas vezes\ncar == 'bmw' #verifica se o valor de car é 'bmw' usando um sinal de igualdade duplo (==)",
      "metadata": {
        "trusted": true
      },
      "outputs": [
        {
          "execution_count": 3,
          "output_type": "execute_result",
          "data": {
            "text/plain": "True"
          },
          "metadata": {}
        }
      ],
      "execution_count": 3
    },
    {
      "cell_type": "markdown",
      "source": "Esse *<b>operador de igualdade* **(==)**</b> devolve **True** se os valores dos lados esquerdo e direito do operador forem iguais, e **False** se forem diferentes. Os valores nesse exemplo são iguais, portanto Python devolve **True**.  \n\nQuando o valor de **car** for diferente de **'bmw'**, esse teste devolverá **True**:",
      "metadata": {}
    },
    {
      "cell_type": "code",
      "source": "car = 'audi'\ncar == 'bmw'",
      "metadata": {
        "trusted": true
      },
      "outputs": [
        {
          "execution_count": 4,
          "output_type": "execute_result",
          "data": {
            "text/plain": "False"
          },
          "metadata": {}
        }
      ],
      "execution_count": 4
    },
    {
      "cell_type": "markdown",
      "source": "**Um único sinal de igual (=), na verdade, é uma instrução;** você poderia ler o código como **“defina o valor de car como 'audi'”**.   \nPor outro lado, **um sinal de igualdade duplo, faz uma pergunta:** ***“O valor de car é igual a 'bmw'?”.*** A maioria das linguagens de programação utiliza sinais de igualdade dessa maneira.",
      "metadata": {}
    },
    {
      "cell_type": "markdown",
      "source": "### Ignorando as diferenças entre letras maiúsculas e minúsculas ao verificar a igualdade",
      "metadata": {}
    },
    {
      "cell_type": "markdown",
      "source": "**Testes de igualdade** diferenciam **letras maiúsculas de minúsculas em Python**. Por exemplo, dois valores com diferenças apenas quanto a letras maiúsculas ou minúsculas não são considerados iguais:",
      "metadata": {}
    },
    {
      "cell_type": "code",
      "source": "car = 'Audi'\ncar == 'audi'",
      "metadata": {
        "trusted": true
      },
      "outputs": [
        {
          "execution_count": 6,
          "output_type": "execute_result",
          "data": {
            "text/plain": "False"
          },
          "metadata": {}
        }
      ],
      "execution_count": 6
    },
    {
      "cell_type": "markdown",
      "source": "Se a diferença entre **letras maiúsculas** e **minúsculas** for importante, esse comportamento será vantajoso. Porém, se essa diferença não importar e você simplesmente quiser testar o valor de uma variável, poderá converter esse valor para **letras minúsculas** antes de fazer a comparação:",
      "metadata": {}
    },
    {
      "cell_type": "code",
      "source": "car = 'Audi'\ncar.lower() == 'audi'",
      "metadata": {
        "trusted": true
      },
      "outputs": [
        {
          "execution_count": 7,
          "output_type": "execute_result",
          "data": {
            "text/plain": "True"
          },
          "metadata": {}
        }
      ],
      "execution_count": 7
    },
    {
      "cell_type": "markdown",
      "source": "Esse teste deve devolver **True**, independentemente do modo como o valor **'Audi'** estiver formatado, pois o teste agora ignora as diferenças entre letras maiúsculas e minúsculas. A função **lower()** não altera o valor originalmente armazenado em car, portanto você pode fazer esse tipo de comparação sem afetá-lo:",
      "metadata": {}
    },
    {
      "cell_type": "code",
      "source": "car = 'Audi'\ncar.lower() == 'audi'",
      "metadata": {
        "trusted": true
      },
      "outputs": [
        {
          "execution_count": 9,
          "output_type": "execute_result",
          "data": {
            "text/plain": "True"
          },
          "metadata": {}
        }
      ],
      "execution_count": 9
    },
    {
      "cell_type": "code",
      "source": "car",
      "metadata": {
        "trusted": true
      },
      "outputs": [
        {
          "execution_count": 11,
          "output_type": "execute_result",
          "data": {
            "text/plain": "'Audi'"
          },
          "metadata": {}
        }
      ],
      "execution_count": 11
    },
    {
      "cell_type": "markdown",
      "source": "Em armazenamos a string **'Audi'** com a primeira letra maiúscula na variável **car**. Em convertemos o valor de **car** para letras minúsculas e comparamos esse valor com a string **'audi'**. As duas strings são iguais, portanto Python devolve **True**. Podemos ver que o valor armazenado em **car** não foi afetado pelo *teste condicional*.\n\nOs sites impõem determinadas regras para os dados fornecidos pelos usuários de modo semelhante a esse. **Por exemplo,** um site pode usar **um teste condicional** desse tipo para garantir que todos os usuários tenham um nome realmente único, e não apenas uma variação quanto ao uso de letras maiúsculas em relação ao nome de usuário de outra pessoa. Quando alguém submeter um novo nome de usuário, esse nome será convertido para letras minúsculas e comparado às versões com letras minúsculas de todos os nomes de usuário existentes.\n\nDurante essa verificação, um nome de usuário como 'John' será rejeitado se houver qualquer variação de 'john' já em uso.",
      "metadata": {}
    },
    {
      "cell_type": "markdown",
      "source": "### Verificando a diferença",
      "metadata": {}
    },
    {
      "cell_type": "markdown",
      "source": "**Se quiser determinar se dois valores não são iguais, você poderá combinar um ponto de exclamação e um sinal de igualdade <code>(!=)</code>.** O ponto de exclamação representa **não**, como ocorre em muitas linguagens de programação.\n\nVamos usar outra **instrução if** para ver como o operador **“diferente de”** é usado. Armazenaremos o ingrediente pedido em uma pizza em uma variável e então exibiremos uma mensagem se a pessoa não pediu anchovas:",
      "metadata": {}
    },
    {
      "cell_type": "code",
      "source": "requested_topping = 'mushrooms'\nif requested_topping != 'anchovies': #compara o valor de requested_topping com o valor 'anchovies(tipo de peixe)'\n    print('Hold the anchovies!')",
      "metadata": {
        "trusted": true
      },
      "outputs": [
        {
          "name": "stdout",
          "text": "Hold the anchovies!\n",
          "output_type": "stream"
        }
      ],
      "execution_count": 531
    },
    {
      "cell_type": "markdown",
      "source": "**Se esses dois valores não forem iguais**, Python devolverá <code>**True**</code> e **executará o código após a instrução if**. Se esses dois valores **forem iguais**, Python devolverá <code>**False**</code> e **não executará o código após essa instrução**.\n\nComo o valor de **requested_topping** não é *'anchovies'*, a instrução print é executada: **Hold the anchovies!**",
      "metadata": {}
    },
    {
      "cell_type": "markdown",
      "source": "### Comparações numéricas",
      "metadata": {}
    },
    {
      "cell_type": "markdown",
      "source": "Testar valores numéricos é bem simples. Por exemplo, o código a seguir verifica se uma pessoa tem 18 anos:",
      "metadata": {}
    },
    {
      "cell_type": "code",
      "source": "age = 18\nage ==18",
      "metadata": {
        "trusted": true
      },
      "outputs": [
        {
          "execution_count": 491,
          "output_type": "execute_result",
          "data": {
            "text/plain": "True"
          },
          "metadata": {}
        }
      ],
      "execution_count": 493
    },
    {
      "cell_type": "markdown",
      "source": "Também podemos testar se dois números **não são iguais**. Por exemplo, o código a seguir exibe uma mensagem se a resposta dada não estiver correta:",
      "metadata": {}
    },
    {
      "cell_type": "code",
      "source": "answer = 17\nif answer != 42: #O teste condicional passa porque o valor de answer (17) não é igual a 42.\n    print(\"That is not the correct answer. Please try again!\") \n#Como o teste passa, o bloco de código indentado é executado",
      "metadata": {
        "trusted": true
      },
      "outputs": [
        {
          "name": "stdout",
          "text": "That is not the correct answer. Please try again!\n",
          "output_type": "stream"
        }
      ],
      "execution_count": 21
    },
    {
      "cell_type": "markdown",
      "source": "Você pode incluir também várias comparações matemáticas em suas instruções condicionais, por exemplo, **menor que, menor ou igual a, maior que e maior ou igual a:**",
      "metadata": {}
    },
    {
      "cell_type": "code",
      "source": "age = 19\nage <21",
      "metadata": {
        "trusted": true
      },
      "outputs": [
        {
          "execution_count": 492,
          "output_type": "execute_result",
          "data": {
            "text/plain": "True"
          },
          "metadata": {}
        }
      ],
      "execution_count": 494
    },
    {
      "cell_type": "code",
      "source": "age <=21",
      "metadata": {
        "trusted": true
      },
      "outputs": [
        {
          "execution_count": 493,
          "output_type": "execute_result",
          "data": {
            "text/plain": "True"
          },
          "metadata": {}
        }
      ],
      "execution_count": 495
    },
    {
      "cell_type": "code",
      "source": "age >21",
      "metadata": {
        "trusted": true
      },
      "outputs": [
        {
          "execution_count": 495,
          "output_type": "execute_result",
          "data": {
            "text/plain": "False"
          },
          "metadata": {}
        }
      ],
      "execution_count": 497
    },
    {
      "cell_type": "code",
      "source": "age >=21",
      "metadata": {
        "trusted": true
      },
      "outputs": [
        {
          "execution_count": 530,
          "output_type": "execute_result",
          "data": {
            "text/plain": "False"
          },
          "metadata": {}
        }
      ],
      "execution_count": 532
    },
    {
      "cell_type": "markdown",
      "source": "**Toda comparação matemática pode ser usada como parte de uma instrução <code>if</code>, o que pode ajudar você a determinar as condições exatas de interesse.**",
      "metadata": {}
    },
    {
      "cell_type": "markdown",
      "source": "### Testando várias condições",
      "metadata": {}
    },
    {
      "cell_type": "markdown",
      "source": "Pode ser que você queira testar várias condições ao mesmo tempo. Por exemplo, ocasionalmente, você pode precisar de duas condições **True** para executar uma ação. Em outros casos, poderia ficar satisfeito com apenas uma condição **True**. **As palavras reservadas** <code>**and**</code> e <code>**or**</code> podem ajudar nessas situações.",
      "metadata": {}
    },
    {
      "cell_type": "markdown",
      "source": "#### **Usando <code>and</code> para testar várias condições**",
      "metadata": {}
    },
    {
      "cell_type": "markdown",
      "source": "**Para verificar se duas condições são <code>True</code> simultaneamente**, utilize **a palavra reservada <code>and</code>** para combinar os dois testes condicionais; se cada um dos testes passar, a expressão como um todo será avaliada como **<code>True</code>** . Se um dos testes falhar, ou ambos, a expressão será avaliada como <code>**False**</code>.\n\nPor exemplo, podemos verificar se duas pessoas têm mais de 21 anos usando o teste a seguir:",
      "metadata": {}
    },
    {
      "cell_type": "code",
      "source": "age_0 = 22\nage_1 = 18\n#verificamos se as duas idades são maiores ou iguais a 21\nage_0 >=21 and age_1 >=21   \n# O teste à esquerda passa mas o teste à direita falha, a expressão condicional como um todo é dada como False",
      "metadata": {
        "trusted": true
      },
      "outputs": [
        {
          "execution_count": 496,
          "output_type": "execute_result",
          "data": {
            "text/plain": "False"
          },
          "metadata": {}
        }
      ],
      "execution_count": 498
    },
    {
      "cell_type": "code",
      "source": "age_1 = 22 #mudamos age_1 para 22. O valor de age_1 agora é maior que 21\n#Portanto os dois testes individuais passam, fazendo com que a expressão condicional como um todo é dada como True.\nage_0 >=21 and age_1 >=21",
      "metadata": {
        "trusted": true
      },
      "outputs": [
        {
          "execution_count": 497,
          "output_type": "execute_result",
          "data": {
            "text/plain": "True"
          },
          "metadata": {}
        }
      ],
      "execution_count": 499
    },
    {
      "cell_type": "markdown",
      "source": "**Para melhorar a legibilidade, podemos usar parênteses em torno dos testes individuais, mas eles não são obrigatórios.** Se usar parênteses, seu teste terá o seguinte aspecto:",
      "metadata": {}
    },
    {
      "cell_type": "code",
      "source": "(age_0 >=21) and (age_1 >=21)",
      "metadata": {
        "trusted": true
      },
      "outputs": [
        {
          "execution_count": 499,
          "output_type": "execute_result",
          "data": {
            "text/plain": "True"
          },
          "metadata": {}
        }
      ],
      "execution_count": 501
    },
    {
      "cell_type": "markdown",
      "source": "#### **Usando <code>**or**</code> para testar várias condições**",
      "metadata": {}
    },
    {
      "cell_type": "markdown",
      "source": "**A palavra reservada <code>or</code>** permite verificar várias condições também, mas o teste passa se um dos testes individuais passar, ou ambos. \n+ **Uma expressão <code>or</code> falha somente quando os dois testes individuais falharem.**\n\nVamos considerar duas idades novamente, porém, desta vez, queremos que apenas uma das pessoas tenha mais de 21 anos:",
      "metadata": {}
    },
    {
      "cell_type": "code",
      "source": "age_0 = 22\nage_1 = 18\n\nage_0 >=21 or age_1 >=21",
      "metadata": {
        "trusted": true
      },
      "outputs": [
        {
          "execution_count": 500,
          "output_type": "execute_result",
          "data": {
            "text/plain": "True"
          },
          "metadata": {}
        }
      ],
      "execution_count": 502
    },
    {
      "cell_type": "code",
      "source": "age_0 = 18\nage_0 >=21 or age_1 >=21",
      "metadata": {
        "trusted": true
      },
      "outputs": [
        {
          "execution_count": 501,
          "output_type": "execute_result",
          "data": {
            "text/plain": "False"
          },
          "metadata": {}
        }
      ],
      "execution_count": 503
    },
    {
      "cell_type": "markdown",
      "source": "Começamos novamente com duas variáveis para idade. Como o teste para **age_0 passa**, a expressão com um todo é avaliada como **True**. Então diminuímos age_0 para 18. E os dois testes agora falham e a expressão como um todo é avaliada como **False**.",
      "metadata": {}
    },
    {
      "cell_type": "markdown",
      "source": "### Verificando se um valor está em uma lista",
      "metadata": {}
    },
    {
      "cell_type": "markdown",
      "source": "**Às vezes, é importante verificar se uma lista contém um determinado valor antes de executar uma ação**. **Por exemplo**, *talvez você queira verificar se um novo nome de usuário já existe em uma lista de nomes de usuários atuais antes de concluir o registro de alguém em um site. Em um projeto de mapeamento, você pode querer verificar se uma localidade submetida já existe em uma lista de localidades conhecidas.* \n+ **Para descobrir se um valor em particular já está em uma lista**, utilize **a palavra reservada <code>in</code>**.\n\nVamos observar um código que você poderia escrever para uma pizzaria. Criaremos uma lista de ingredientes que um cliente pediu em sua pizza e, então, verificaremos se determinados ingredientes estão na lista.",
      "metadata": {}
    },
    {
      "cell_type": "code",
      "source": "requested_toppings = ['mushrooms', 'onions', 'pineapple']\n'mushrooms' in requested_toppings #in ",
      "metadata": {
        "trusted": true
      },
      "outputs": [
        {
          "execution_count": 38,
          "output_type": "execute_result",
          "data": {
            "text/plain": "True"
          },
          "metadata": {}
        }
      ],
      "execution_count": 38
    },
    {
      "cell_type": "code",
      "source": "'pepperoni' in requested_toppings \n# in pediu para verificar a existência de 'mushrooms' e de 'pepperoni' na lista requested_toppings",
      "metadata": {
        "trusted": true
      },
      "outputs": [
        {
          "execution_count": 41,
          "output_type": "execute_result",
          "data": {
            "text/plain": "False"
          },
          "metadata": {}
        }
      ],
      "execution_count": 41
    },
    {
      "cell_type": "markdown",
      "source": "A palavra reservada <code>**in**</code> diz a Python para verificar a existência de **'mushrooms'** e de **'pepperoni'** na lista **requested_toppings**. **Essa técnica é bem eficaz, pois podemos criar uma lista de valores essenciais e verificar facilmente se o valor que estamos testando é igual a um dos valores da lista.**",
      "metadata": {}
    },
    {
      "cell_type": "markdown",
      "source": "### Verificando se um valor não está em uma lista",
      "metadata": {}
    },
    {
      "cell_type": "markdown",
      "source": "Em outras ocasiões, **é importante saber se um valor não está em uma lista**. Podemos usar **a palavra reservada <code>not**</code> nesse caso. Por exemplo, considere uma lista de usuários que foi impedida de fazer comentários em um fórum. Podemos verificar se um usuário foi banido antes de permitir que essa pessoa submeta um comentário:",
      "metadata": {}
    },
    {
      "cell_type": "code",
      "source": "banned_users = ['andrew', 'carolina', 'david']\nuser = 'marie'\n#Se o valor de user não estiver na lista banned_users, Python devolverá True e executará a linha indentada.\nif user not in banned_users:  \n    print(user.title() + \", is not here in the list.\")",
      "metadata": {
        "trusted": true
      },
      "outputs": [
        {
          "name": "stdout",
          "text": "Marie, is not here in the list.\n",
          "output_type": "stream"
        }
      ],
      "execution_count": 47
    },
    {
      "cell_type": "markdown",
      "source": "### Expressões booleanas",
      "metadata": {}
    },
    {
      "cell_type": "markdown",
      "source": "À medida que aprender mais sobre programação, você ouvirá o termo ***expressão booleana*** em algum momento. Uma **expressão booleana** é apenas outro nome para um **teste condicional**. \n+ Um ***valor booleano*** é <code>**True**</code> ou <code>**False**</code>, exatamente como o valor de uma expressão condicional após ter sido avaliada.\n\n**Valores booleanos muitas vezes são usados para manter o controle de determinadas condições**, como o fato de um jogo estar executando ou se um usuário pode editar certos conteúdos em um site: *game_active = True can_edit = False*. \n\n**Valores booleanos** oferecem uma maneira eficiente para monitorar o estado ou uma condição em particular que seja importante para o seu programa.\n",
      "metadata": {}
    },
    {
      "cell_type": "markdown",
      "source": "### **FAÇA VOCÊ MESMO**",
      "metadata": {}
    },
    {
      "cell_type": "markdown",
      "source": "**5.1 – Testes condicionais:** Escreva uma série de testes condicionais. Exiba uma frase que descreva o teste e o resultado previsto para cada um. Seu código deverá ser semelhante a: **car = 'subaru'**\n+ Crie pelo menos dez testes. Tenha no mínimo cinco testes avaliados como True e outros cinco avaliados como False.",
      "metadata": {}
    },
    {
      "cell_type": "code",
      "source": "car = \"subaru\"\nprint(\"Is car == 'subaru'? I predict True.\") \nprint(car == 'subaru')\nprint(\"\\nIs car == 'audi'? I predict False.\") \nprint(car == 'audi') ",
      "metadata": {
        "trusted": true
      },
      "outputs": [
        {
          "name": "stdout",
          "text": "Is car == 'subaru'? I predict True.\nTrue\n\nIs car == 'audi'? I predict False.\nFalse\n",
          "output_type": "stream"
        }
      ],
      "execution_count": 51
    },
    {
      "cell_type": "code",
      "source": "moto = \"yamaha\"\nprint(\"Is moto == 'yamaha'? I predict True.\") \nprint(moto == 'yamaha')\nprint(\"\\nIs moto == 'suzuki'? I predict False.\") \nprint(moto == 'suzuki') ",
      "metadata": {
        "trusted": true
      },
      "outputs": [
        {
          "name": "stdout",
          "text": "Is moto == 'yamaha'? I predict True.\nTrue\n\nIs moto == 'suzuki'? I predict False.\nFalse\n",
          "output_type": "stream"
        }
      ],
      "execution_count": 57
    },
    {
      "cell_type": "code",
      "source": "fruta = \"manga\"\nprint(\"A fruta == 'banana'? I predict False.\") \nprint(fruta == 'banana')\nprint(\"\\nA fruta == 'manga'? I predict True.\") \nprint(fruta == 'manga') ",
      "metadata": {
        "trusted": true
      },
      "outputs": [
        {
          "name": "stdout",
          "text": "A fruta == 'banana'? I predict False.\nFalse\n\nA fruta == 'manga'? I predict True.\nTrue\n",
          "output_type": "stream"
        }
      ],
      "execution_count": 61
    },
    {
      "cell_type": "code",
      "source": "pais = \"Portugal\"\nprint(\"Eu vivo em pais == 'Angola'? I predict False.\") \nprint(pais == 'Angola')\nprint(\"\\nEu vivo em pais == 'Portugal'? I predict True.\") \nprint(pais == 'Portugal') ",
      "metadata": {
        "trusted": true
      },
      "outputs": [
        {
          "name": "stdout",
          "text": "Eu vivo em pais == 'Angola'? I predict False.\nFalse\n\nEu vivo em pais == 'Portugal'? I predict True.\nTrue\n",
          "output_type": "stream"
        }
      ],
      "execution_count": 63
    },
    {
      "cell_type": "markdown",
      "source": "**5.2 – Mais testes condicionais:** Você não precisa limitar o número de testes que criar em dez. Se quiser testar mais comparações, escreva outros testes e acrescente-os em conditional_tests.py. Tenha pelo menos um resultado **True** e um **False** para cada um dos casos a seguir: \n\n+ testes de igualdade e de não igualdade com strings;\n+ testes usando a função lower();\n+ testes numéricos que envolvam igualdade e não igualdade, maior e menor que, maior ou igual a e menor ou igual a;\n+ testes usando as palavras reservadas **and** e **or**;\n+ testes para verificar se um item está em uma lista;\n+ testes para verificar se um item não está em uma lista.",
      "metadata": {}
    },
    {
      "cell_type": "code",
      "source": "#testes de igualdade e de não igualdade com strings;\nanimal = \"leão\"\nprint(animal ==\"leão\")\nprint(animal ==\"tigre\")",
      "metadata": {
        "trusted": true
      },
      "outputs": [
        {
          "name": "stdout",
          "text": "True\nFalse\n",
          "output_type": "stream"
        }
      ],
      "execution_count": 533
    },
    {
      "cell_type": "code",
      "source": "#testes usando a função lower();\nshoes = \"Nike\"\nshoes.lower() ==\"nike\"",
      "metadata": {
        "trusted": true
      },
      "outputs": [
        {
          "execution_count": 532,
          "output_type": "execute_result",
          "data": {
            "text/plain": "True"
          },
          "metadata": {}
        }
      ],
      "execution_count": 534
    },
    {
      "cell_type": "code",
      "source": "shoes = \"adidas\"\nshoes.lower() ==\"Adidas\"",
      "metadata": {
        "trusted": true
      },
      "outputs": [
        {
          "execution_count": 533,
          "output_type": "execute_result",
          "data": {
            "text/plain": "False"
          },
          "metadata": {}
        }
      ],
      "execution_count": 535
    },
    {
      "cell_type": "code",
      "source": "# testes numéricos que envolvam igualdade e não igualdade;  \nidade = 23\nidade ==23",
      "metadata": {
        "trusted": true
      },
      "outputs": [
        {
          "execution_count": 502,
          "output_type": "execute_result",
          "data": {
            "text/plain": "True"
          },
          "metadata": {}
        }
      ],
      "execution_count": 504
    },
    {
      "cell_type": "code",
      "source": "idade !=23",
      "metadata": {
        "trusted": true
      },
      "outputs": [
        {
          "execution_count": 503,
          "output_type": "execute_result",
          "data": {
            "text/plain": "False"
          },
          "metadata": {}
        }
      ],
      "execution_count": 505
    },
    {
      "cell_type": "code",
      "source": "# testes numéricos de maior e menor que;\nidade >21",
      "metadata": {
        "trusted": true
      },
      "outputs": [
        {
          "execution_count": 504,
          "output_type": "execute_result",
          "data": {
            "text/plain": "True"
          },
          "metadata": {}
        }
      ],
      "execution_count": 506
    },
    {
      "cell_type": "code",
      "source": "idade <18",
      "metadata": {
        "trusted": true
      },
      "outputs": [
        {
          "execution_count": 505,
          "output_type": "execute_result",
          "data": {
            "text/plain": "False"
          },
          "metadata": {}
        }
      ],
      "execution_count": 507
    },
    {
      "cell_type": "code",
      "source": "# testes numéricos de maior ou igual a e menor ou igual a;\nidade >=20",
      "metadata": {
        "trusted": true
      },
      "outputs": [
        {
          "execution_count": 506,
          "output_type": "execute_result",
          "data": {
            "text/plain": "True"
          },
          "metadata": {}
        }
      ],
      "execution_count": 508
    },
    {
      "cell_type": "code",
      "source": "idade <=22",
      "metadata": {
        "trusted": true
      },
      "outputs": [
        {
          "execution_count": 507,
          "output_type": "execute_result",
          "data": {
            "text/plain": "False"
          },
          "metadata": {}
        }
      ],
      "execution_count": 509
    },
    {
      "cell_type": "code",
      "source": "# testes usando as palavras reservadas 'and'; \nidade_0 = 31\nidade_1 = 23\n\nidade_0 >=25 and idade_1 >=25",
      "metadata": {
        "trusted": true
      },
      "outputs": [
        {
          "execution_count": 508,
          "output_type": "execute_result",
          "data": {
            "text/plain": "False"
          },
          "metadata": {}
        }
      ],
      "execution_count": 510
    },
    {
      "cell_type": "code",
      "source": "idade_0 <=35 and idade_1 <=35",
      "metadata": {
        "trusted": true
      },
      "outputs": [
        {
          "execution_count": 509,
          "output_type": "execute_result",
          "data": {
            "text/plain": "True"
          },
          "metadata": {}
        }
      ],
      "execution_count": 511
    },
    {
      "cell_type": "code",
      "source": "# testes usando as palavras reservadas 'or';\nidade_0 >=25 or idae_1 >=25",
      "metadata": {
        "trusted": true
      },
      "outputs": [
        {
          "execution_count": 107,
          "output_type": "execute_result",
          "data": {
            "text/plain": "True"
          },
          "metadata": {}
        }
      ],
      "execution_count": 107
    },
    {
      "cell_type": "code",
      "source": "idade_0 <=22 or idade_1 <=22",
      "metadata": {
        "trusted": true
      },
      "outputs": [
        {
          "execution_count": 510,
          "output_type": "execute_result",
          "data": {
            "text/plain": "False"
          },
          "metadata": {}
        }
      ],
      "execution_count": 512
    },
    {
      "cell_type": "code",
      "source": "# testes para verificar se um item está em uma lista usamos 'in';\nbebidas = [\"fanta\", \"gin\", \"chá\"]\n\"café\" in bebidas",
      "metadata": {
        "trusted": true
      },
      "outputs": [
        {
          "execution_count": 110,
          "output_type": "execute_result",
          "data": {
            "text/plain": "False"
          },
          "metadata": {}
        }
      ],
      "execution_count": 110
    },
    {
      "cell_type": "code",
      "source": "\"chá\" in bebidas",
      "metadata": {
        "trusted": true
      },
      "outputs": [
        {
          "execution_count": 111,
          "output_type": "execute_result",
          "data": {
            "text/plain": "True"
          },
          "metadata": {}
        }
      ],
      "execution_count": 111
    },
    {
      "cell_type": "code",
      "source": "# testes para verificar se um item não está em uma lista usamos 'not';\nbebida = 'cola'\nif bebida not in bebidas:\n    print(bebida.title() + \", não esta na lista.\")",
      "metadata": {
        "trusted": true
      },
      "outputs": [
        {
          "name": "stdout",
          "text": "Cola, não esta na lista.\n",
          "output_type": "stream"
        }
      ],
      "execution_count": 115
    },
    {
      "cell_type": "markdown",
      "source": "<hr>",
      "metadata": {}
    },
    {
      "cell_type": "markdown",
      "source": "## **Instruções <code>if**</code>",
      "metadata": {}
    },
    {
      "cell_type": "markdown",
      "source": "Quando compreender os testes condicionais, você poderá começar a escrever **instruções <code>**if**</code>**. **Há vários tipos de instruções <code>if</code>, e a escolha de qual deles usar dependerá do número de condições que devem ser testadas**. Vimos vários exemplos de instruções <code>**if**</code> na discussão sobre testes condicionais, mas agora vamos explorar mais o assunto",
      "metadata": {
        "tags": [],
        "editable": true,
        "slideshow": {
          "slide_type": ""
        }
      }
    },
    {
      "cell_type": "markdown",
      "source": "### Instruções <code>**if**</code> *simples*",
      "metadata": {}
    },
    {
      "cell_type": "markdown",
      "source": "O tipo mais simples de instrução<code>**if**</code> **tem um teste e uma ação**: <code>**if**</code> **teste_condicional: faça algo**\n\nVocê pode colocar qualquer teste condicional na primeira linha, e praticamente qualquer ação no bloco indentado após o teste.\nSe o teste condicional for avaliado como **True**, Python **executará o código após a instrução <code>if</code>**. Se o teste for avaliado como **False**, Python **ignorará o código depois da instrução <code>if</code>**.",
      "metadata": {}
    },
    {
      "cell_type": "markdown",
      "source": "Suponha que temos uma variável que representa a idade de uma pessoa e queremos saber se essa pessoa tem idade suficiente para votar. O código a seguir testa se a pessoa pode votar:",
      "metadata": {}
    },
    {
      "cell_type": "code",
      "source": "age = 19\nif age>=18:\n    print(\"You are old enough to vote!\")",
      "metadata": {
        "trusted": true
      },
      "outputs": [
        {
          "name": "stdout",
          "text": "You are old enough to vote!\n",
          "output_type": "stream"
        }
      ],
      "execution_count": 513
    },
    {
      "cell_type": "markdown",
      "source": "+ **A indentação** tem a mesma função em **instruções <code>if**</code> que aquela desempenhada em **laços <code>for**</code>. **Todas as linhas indentadas após uma instrução <code>if</code> serão executadas se o teste passar, e todo o bloco de linhas indentadas será ignorado se o teste não passar.**\n\nPodemos ter tantas linhas de código quantas quisermos no bloco após a instrução **if**. Vamos acrescentar outra linha de saída se a pessoa tiver idade suficiente para votar, perguntando se o indivíduo já se registrou\npara votar:",
      "metadata": {}
    },
    {
      "cell_type": "code",
      "source": "age = 19\nif age>=18:\n    print(\"You are old enough to vote!\")\n    print(\"Have you registered to vote yet?\")\n#O teste condicional passa e as duas instruções print estão indentadas,",
      "metadata": {
        "trusted": true
      },
      "outputs": [
        {
          "name": "stdout",
          "text": "You are old enough to vote!\nHave you registered to vote yet?\n",
          "output_type": "stream"
        }
      ],
      "execution_count": 539
    },
    {
      "cell_type": "markdown",
      "source": "**Se o valor de age for menor que 18, esse programa não apresentará nenhuma saída.**",
      "metadata": {}
    },
    {
      "cell_type": "markdown",
      "source": "### Instruções <code>**if-else**</code>",
      "metadata": {}
    },
    {
      "cell_type": "markdown",
      "source": "Com frequência você vai querer executar uma ação quando um teste condicional passar, e uma ação diferente em todos os demais casos. A sintaxe <code>**if-else**</code> de Python torna isso possível. \n+ Um bloco <code>**if-else**</code> é semelhante a uma instrução <code>**if**</code> simples, porém a instrução <code>**else**</code> **permite definir uma ação ou um conjunto de ações executado quando o teste condicional falhar.**\n\nExibiremos a mesma mensagem mostrada antes se a pessoa tiver idade suficiente para votar, porém, desta vez, acrescentaremos uma mensagem\npara qualquer um que não tenha idade suficiente para votar:",
      "metadata": {}
    },
    {
      "cell_type": "code",
      "source": "age = 17\nif age>=18: \n    print(\"You are old enough to vote!\") \n    print(\"Have you registered to vote yet?\")\n# Se o teste for avaliado como False, o bloco 'else' será executado    \nelse:\n    print(\"Sorry, you are too young to vote.\")\n    print(\"Please register to vote as soon as you turn 18!\")",
      "metadata": {
        "trusted": true
      },
      "outputs": [
        {
          "name": "stdout",
          "text": "Sorry, you are too young to vote.\nPlease register to vote as soon as you turn 18!\n",
          "output_type": "stream"
        }
      ],
      "execution_count": 515
    },
    {
      "cell_type": "markdown",
      "source": "Esse código funciona porque há apenas duas possíveis situações para avaliar: uma pessoa tem idade suficiente para votar ou não tem. A estrutura <code>**if-else**</code> funciona bem em situações em que **você quer que Python sempre execute uma de duas possíveis ações**. Em uma cadeia **<code>if-else</code> simples** como essa, **uma das duas ações sempre será executada.**\n",
      "metadata": {}
    },
    {
      "cell_type": "markdown",
      "source": "### Sintaxe <code>**if-elif-else**</code>",
      "metadata": {}
    },
    {
      "cell_type": "markdown",
      "source": "Muitas vezes, você precisará testar mais de duas situações possíveis; para avaliar isso, a sintaxe <code>**if-elif-else**</code> de Python poderá ser usada.\n+ Python executa apenas um bloco em uma cadeia <code>**if-elif-else**</code>. **Cada teste condicional é executado em sequência, até que um deles passe. Quando um teste passar, o código após esse teste será executado e Python ignorará o restante dos testes.**\n\nMuitas situações do mundo real envolvem mais de duas condições possíveis. **Por exemplo**, considere um parque de diversões que cobre preços distintos para grupos etários diferentes: \n+ a entrada para qualquer pessoa com menos de 4 anos é gratuita; \n+ a entrada para qualquer pessoa com idade entre 4 e 18 anos custa 5 dólares; \n+ a entrada para qualquer pessoa com 18 anos ou mais custa 10 dólares.\n\nComo podemos usar uma instrução **if** para determinar o preço da entrada de alguém? O código a seguir testa a faixa etária de uma pessoa e então exibe uma mensagem com o preço da entrada:",
      "metadata": {}
    },
    {
      "cell_type": "code",
      "source": "age = 12\nif age<4:\n    print(\"Your admission cost is €0.\")\nelif age<18:\n    print(\"Your admission cost is €5.\")\nelse:\n    print(\"Your admission cost is €10.\")",
      "metadata": {
        "trusted": true
      },
      "outputs": [
        {
          "name": "stdout",
          "text": "Your admission cost is €5.\n",
          "output_type": "stream"
        }
      ],
      "execution_count": 518
    },
    {
      "cell_type": "markdown",
      "source": "Nesse exemplo, o teste é avaliado como **False**, portanto **seu bloco de código não é executado**. No entanto, o segundo teste é avaliado como **True** (12 é menor que 18), portanto **seu código é executado**. A saída é uma frase que informa o preço da entrada ao usuário: *Your admission cost is $5.*",
      "metadata": {}
    },
    {
      "cell_type": "markdown",
      "source": "**Qualquer idade acima de 17 anos faria os dois primeiros testes falharem**. Nessas situações, o bloco **else** seria executado e o *preço da entrada seria de 10 dólares*.\nEm vez de exibir o preço da entrada no bloco **if-elif-else**, seria mais conciso apenas definir o preço na cadeia **if-elif-else** e, então, ter uma instrução **print simples** que execute depois que a cadeia for avaliada:",
      "metadata": {}
    },
    {
      "cell_type": "code",
      "source": "age = 12\nif age<4:\n    price = 0 \nelif age<18:\n    price = 5 \nelse:  \n    price = 10\n# Depois que o preço é definido pela cadeia if-elif-else, uma instrução print separada e não indentada utiliza esse valor para exibir uma mensagem informando o preço de entrada    \nprint(\"Your admission cost is $\" + str(price) + \".\")",
      "metadata": {
        "trusted": true
      },
      "outputs": [
        {
          "name": "stdout",
          "text": "Your admission cost is $5.\n",
          "output_type": "stream"
        }
      ],
      "execution_count": 517
    },
    {
      "cell_type": "markdown",
      "source": "Esse código gera a mesma saída do exemplo anterior, mas o propósito da cadeia **if-elif-else** é mais restrito. **Em vez de determinar um preço e exibir uma mensagem, ela simplesmente determina o preço da entrada.**\n\n**Além de ser mais eficiente, esse código revisado é mais fácil de modificar que a abordagem original.** Para mudar o texto da mensagem de saída, seria necessário alterar apenas uma instrução **print**, e não três instruções **print** separadas.",
      "metadata": {}
    },
    {
      "cell_type": "markdown",
      "source": "### Usando vários blocos <code>**elif**</code>",
      "metadata": {}
    },
    {
      "cell_type": "markdown",
      "source": "**Podemos usar quantos blocos <code>elif</code> quisermos em nosso código.** \n\n**Por exemplo,** se o parque de diversões implementasse um desconto para idosos, você poderia acrescentar mais um teste condicional no código a fim de determinar se uma pessoa está qualificada a receber esse desconto. Suponha que qualquer pessoa com 65 anos ou mais pague metade do preço normal da entrada, isto é, *5 dólares*:",
      "metadata": {}
    },
    {
      "cell_type": "code",
      "source": "age = 12\n\nif age<4: \n    price = 0 \nelif age<18: \n    price = 5\nelif age<65: \n    price = 10 \nelse: \n    price = 5\n\nprint(\"Your admission cost is $\" + str(price) + \".\")",
      "metadata": {
        "trusted": true
      },
      "outputs": [
        {
          "name": "stdout",
          "text": "Your admission cost is $5.\n",
          "output_type": "stream"
        }
      ],
      "execution_count": 519
    },
    {
      "cell_type": "markdown",
      "source": "A maior parte desse código não foi alterada. O segundo bloco **elif** agora faz uma verificação para garantir que uma pessoa tenha menos de 65 anos antes de lhe cobrar o preço da entrada inteira, que é de 10 dólares. **Observe que o valor atribuído no bloco **else** precisa ser alterado para 5 dólares, pois as únicas idades que chegam até esse bloco são de pessoas com 65 anos ou mais.**",
      "metadata": {}
    },
    {
      "cell_type": "markdown",
      "source": "### Omitindo o bloco <code>**else**</code>",
      "metadata": {}
    },
    {
      "cell_type": "markdown",
      "source": "**Python não exige um bloco <code>**else**</code> no final de uma cadeia <code>**if-elif**</code>**. Às vezes, um bloco <code>**else**</code> é útil; outras vezes, é mais claro usar uma instrução <code>**elif**</code> adicional que capture a condição específica de interesse:",
      "metadata": {}
    },
    {
      "cell_type": "code",
      "source": "age = 12\n\nif age<4: \n    price = 0 \nelif age<18: \n    price = 5 \nelif age<65: \n    price = 10\nelif age>=65: \n    price = 5\nprint(\"Your admission cost is $\" + str(price) + \".\") ",
      "metadata": {
        "trusted": true
      },
      "outputs": [
        {
          "name": "stdout",
          "text": "Your admission cost is $5.\n",
          "output_type": "stream"
        }
      ],
      "execution_count": 520
    },
    {
      "cell_type": "markdown",
      "source": "**O bloco <code>else</code> é uma instrução que captura tudo**. Ela corresponde a qualquer condição não atendida por um teste <code>**if**</code> ou <code>**elif**</code> específicos e isso, às vezes, pode incluir **dados inválidos** ou **até mesmo maliciosos**. \n\n+ **Se você tiver uma condição final específica para testar, considere usar um último bloco <code>elif</code> e omitir o bloco <code>else</code>. Como resultado, você terá mais confiança de que seu código executará somente nas condições corretas.**\n",
      "metadata": {}
    },
    {
      "cell_type": "markdown",
      "source": "### Testando várias condições",
      "metadata": {}
    },
    {
      "cell_type": "markdown",
      "source": "A cadeia <code>**if-elif-else**</code> é eficaz, mas é apropriada somente quando você quiser que apenas um teste passe. **Assim que encontrar um teste que passe, o interpretador Python ignorará o restante dos testes.** Esse comportamento é vantajoso, pois é eficiente e permite testar uma condição específica.\n\n**Às vezes, porém, é importante verificar todas as condições de interesse.** Nesse caso, você deve usar **uma série de instruções if simples**, **sem blocos elif** ou **else**. Essa técnica faz sentido quando mais de uma condição pode ser **True** e você quer atuar em todas as condições que sejam verdadeiras.",
      "metadata": {}
    },
    {
      "cell_type": "markdown",
      "source": "Vamos reconsiderar o exemplo da pizzaria. Se alguém pedir uma pizza com dois ingredientes, será necessário garantir que esses dois ingredientes sejam incluídos em sua pizza:",
      "metadata": {}
    },
    {
      "cell_type": "code",
      "source": "#Começamos emucom uma lista contendo os ingredientes solicitados\nrequested_toppings = ['mushrooms', 'extra cheese']\nif 'mushrooms' in requested_toppings:\n    print(\"Adding mushrooms.\")\nif 'pepperoni' in requested_toppings:\n    print(\"Adding pepperoni.\")\nif 'extra cheese' in requested_toppings: \n    print(\"Adding extra cheese.\")\n            \nprint(\"\\nFinished making your pizza!\")",
      "metadata": {
        "trusted": true
      },
      "outputs": [
        {
          "name": "stdout",
          "text": "Adding mushrooms.\nAdding extra cheese.\n\nFinished making your pizza!\n",
          "output_type": "stream"
        }
      ],
      "execution_count": 229
    },
    {
      "cell_type": "markdown",
      "source": "Como todas as condições nesse exemplo são avaliadas, tanto cogumelos quanto queijo extra são adicionados à pizza: *'Adding mushrooms'* e *'Adding extra cheese'*.\n\nEsse código não funcionaria de modo apropriado se tivéssemos usado um bloco **if-elif-else**, pois o código pararia de executar depois que apenas um teste tivesse passado. Esse código seria assim:",
      "metadata": {}
    },
    {
      "cell_type": "code",
      "source": "requested_toppings = ['mushrooms', 'extra cheese']\nif 'mushrooms' in requested_toppings:\n    print(\"Adding mushrooms.\")\nelif 'pepperoni' in requested_toppings:\n    print(\"Adding pepperoni.\")\nelif 'extra cheese' in requested_toppings:\n    print(\"Adding extra cheese.\")\n    \nprint(\"\\nFinished making your pizza!\")",
      "metadata": {
        "trusted": true
      },
      "outputs": [
        {
          "name": "stdout",
          "text": "Adding mushrooms.\n\nFinished making your pizza!\n",
          "output_type": "stream"
        }
      ],
      "execution_count": 231
    },
    {
      "cell_type": "markdown",
      "source": "**O teste para *'mushrooms'* é o primeiro a passar, portanto cogumelos são adicionados à pizza**. No entanto, os valores ***'extra cheese'*** e ***'pepperoni'*** não são verificados, pois Python não executa nenhum teste depois do primeiro que passar em uma cadeia **if-elif-else**. O primeiro ingrediente do cliente será adicionado, mas todos os demais não serão: ***'Adding mushrooms'***.\n\nEm suma, se quiser que apenas um bloco de código seja executado, utilize **uma cadeia <code>if-elif-else</code>**. Se mais de um bloco de código deve executar, utilize uma série de instruções <code>**if**</code> independentes.",
      "metadata": {}
    },
    {
      "cell_type": "markdown",
      "source": "### **FAÇA VOCÊ MESMO**",
      "metadata": {}
    },
    {
      "cell_type": "markdown",
      "source": "**5.3 – Cores de alienígenas #1:** Suponha que um alienígena acabou de ser atingido em um jogo. Crie uma variável chamada **alien_color** e atribua-lhe um valor igual a **'green', 'yellow'** ou **'red'**.\n+ Escreva uma instrução **if** para testar se a cor do alienígena é verde. Se for, mostre uma mensagem informando que o jogador acabou de ganhar cinco pontos.\n+ Escreva uma versão desse programa em que o teste **if** passe e outro em que ele falhe. (A versão que falha não terá nenhuma saída.)\n\n**5.4 – Cores de alienígenas #2:** Escolha uma cor para um alienígena, como foi feito no Exercício 5.3, e escreva uma cadeia **if-else**.\n+ Se a cor do alienígena for verde, mostre uma frase informando que o jogador acabou de ganhar cinco pontos por atingir o alienígena.\n+ Se a cor do alienígena não for verde, mostre uma frase informando que o jogador acabou de ganhar dez pontos.\n+ Escreva uma versão desse programa que execute o bloco **if** e outro que execute o bloco **else**.\n\n**5.5 – Cores de alienígenas #3:** Transforme sua cadeia **if-else** do Exercício 5.4 em uma cadeia **if-elif-else**.\n+ Se o alienígena for verde, mostre uma mensagem informando que o jogador ganhou cinco pontos.\n+ Se o alienígena for amarelo, mostre uma mensagem informando que o jogador ganhou dez pontos.\n+ Se o alienígena for vermelho, mostre uma mensagem informando que o jogador ganhou quinze pontos.\n+ Escreva três versões desse programa, garantindo que cada mensagem seja exibida para a cor apropriada do alienígena.\n\n**5.6 – Estágios da vida:** Escreva uma cadeia **if-elif-else** que determine o estágio da vida de uma pessoa. Defina um valor para a variável **age** e então: • Se a pessoa tiver menos de 2 anos de idade, mostre uma mensagem dizendo que ela é um bebê.\n+ Se a pessoa tiver pelo menos 2 anos, mas menos de 4, mostre uma mensagem dizendo que ela é uma criança.\n+ Se a pessoa tiver pelo menos 4 anos, mas menos de 13, mostre uma mensagem dizendo que ela é um(a) garoto(a).\n+ Se a pessoa tiver pelo menos 13 anos, mas menos de 20, mostre uma mensagem dizendo que ela é um(a) adolescente.\n+ Se a pessoa tiver pelo menos 20 anos, mas menos de 65, mostre uma mensagem dizendo que ela é adulto.\n+ Se a pessoa tiver 65 anos ou mais, mostre uma mensagem dizendo que essa pessoa é idoso.\n\n**5.7 – Fruta favorita:** Faça uma lista de suas frutas favoritas e, então, escreva uma série de instruções **if** independentes que verifiquem se determinadas frutas estão em sua lista.\n+ Crie uma lista com suas três frutas favoritas e chame-a de **favorite_fruits**.\n+ Escreva cinco instruções **if**. Cada instrução deve verificar se uma determinada fruta está em sua lista. Se estiver, o bloco **if** deverá exibir uma frase, por exemplo, Você realmente gosta de bananas!",
      "metadata": {}
    },
    {
      "cell_type": "code",
      "source": "# Escreva uma versão desse programa em que o teste if passe e outro em que ele falhe\nalien_color = \"green\"\n#Escreva uma instrução if para testar se a cor do alienígena é verde\nif alien_color==\"green\":\n    print(\"Você acabou de ganhar cinco pontos.\")\n    ",
      "metadata": {
        "trusted": true
      },
      "outputs": [
        {
          "name": "stdout",
          "text": "Você acabou de ganhar cinco pontos.\n",
          "output_type": "stream"
        }
      ],
      "execution_count": 523
    },
    {
      "cell_type": "code",
      "source": "#Versão em que o teste if falha:\nalien_color = \"red\"\n\nif alien_color==\"green\":\n    print(\"Você acabou de ganhar cinco pontos.\")",
      "metadata": {
        "trusted": true
      },
      "outputs": [],
      "execution_count": 522
    },
    {
      "cell_type": "code",
      "source": "#Escreva uma versão desse programa que execute o bloco if e outro que execute o bloco else.\nalien_color = 'yellow'\nif alien_color==\"green\":\n    print(\"Você acabou de ganhar 5 pontos por atingir o alienigena!\")\nelse:\n    alien_color=='yellow'\n    print(\"Você acabou de ganhar 10 pontos por atingir o alienigena!\")",
      "metadata": {
        "trusted": true
      },
      "outputs": [
        {
          "name": "stdout",
          "text": "Você acabou de ganhar 10 pontos por atingir o alienigena!\n",
          "output_type": "stream"
        }
      ],
      "execution_count": 524
    },
    {
      "cell_type": "code",
      "source": "#Transforme sua cadeia if-else do Exercício 5.4 em uma cadeia if-elif-else.\nalien_color = 'red'\nif alien_color==\"green\":\n    print(\"Você acabou de ganhar 5 pontos por atingir o alienigena!\")\nelif  alien_color=='yellow':\n    print(\"Você acabou de ganhar 10 pontos por atingir o alienigena!\")\nelse:\n    alien_color=='red'\n    print(\"Você acabou de ganhar 15 pontos por atingir o alienigena!\")",
      "metadata": {
        "trusted": true
      },
      "outputs": [
        {
          "name": "stdout",
          "text": "Você acabou de ganhar 15 pontos por atingir o alienigena!\n",
          "output_type": "stream"
        }
      ],
      "execution_count": 525
    },
    {
      "cell_type": "code",
      "source": "#Escreva uma cadeia if-elif-else que determine o estágio da vida de uma pessoa.\nage = 15\nif age<2:\n    print(\"Você é uma bebê!\")\nelif age<4:\n    print(\"Você é uma criança!\")\nelif age<13:\n    print(\"Você é um(a) garoto(a)!\")\nelif age<20:\n    print(\"Você é um(a) adolescente!\")\nelif age<65:\n    print(\"Você é um(a) adulto(a)!\")\nelse:\n    age>=65\n    print(\"Você é um idoso!\")\n    ",
      "metadata": {
        "trusted": true
      },
      "outputs": [
        {
          "name": "stdout",
          "text": "Você é um(a) adolescente!\n",
          "output_type": "stream"
        }
      ],
      "execution_count": 526
    },
    {
      "cell_type": "code",
      "source": "favorite_fruits = [\"banana\", \"mango\", \"apple\"]\n\nif 'banana' in favorite_fruits:\n    print(\"Você realmente gosta de banana.\")\nif 'orange' in favorite_fruits:\n    print(\"Você realmente gosta de laranja.\")\nif 'mango' in favorite_fruits:\n    print(\"\\nVocê realmente gosta de manga.\")\nif 'melon' in favorite_fruits:\n    print(\"\\nVocê realmente gosta de melão.\")\nif 'apple' in favorite_fruits:\n    print(\"\\nVocê realmente gosta de Maça.\")",
      "metadata": {
        "trusted": true
      },
      "outputs": [
        {
          "name": "stdout",
          "text": "Você realmente gosta de banana.\n\nVocê realmente gosta de manga.\n\nVocê realmente gosta de Maça.\n",
          "output_type": "stream"
        }
      ],
      "execution_count": 334
    },
    {
      "cell_type": "markdown",
      "source": "<hr>",
      "metadata": {}
    },
    {
      "cell_type": "markdown",
      "source": "## **Usando instruções <code>if</code> com listas**",
      "metadata": {}
    },
    {
      "cell_type": "markdown",
      "source": "Algumas tarefas interessantes podem ser feitas se combinarmos listas com instruções **if**. **Podemos prestar atenção em valores especiais, que devam ser tratados de modo diferente de outros valores da lista**. **Podemos administrar mudanças de condições de modo eficiente, por exemplo**, *a disponibilidade de determinados itens em um restaurante durante um turno*. Também podemos começar a provar que nosso código funciona conforme esperado em todas as possíveis situações.",
      "metadata": {}
    },
    {
      "cell_type": "markdown",
      "source": "### Verificando itens especiais",
      "metadata": {}
    },
    {
      "cell_type": "markdown",
      "source": "Este capítulo começou com um exemplo simples mostrando **como lidar com um valor especial como 'bmw'**, que devia ser exibido em um formato diferente de outros valores da lista. Agora que você tem uma compreensão básica a respeito dos testes condicionais e de instruções <code>**if**</code>, **vamos observar com mais detalhes de que modo podemos prestar atenção em valores especiais de uma lista e tratá-los de forma apropriada**.\n\nVamos prosseguir com o exemplo da pizzaria. **A pizzaria exibe uma mensagem sempre que um ingrediente é adicionado à sua pizza à medida que ela é preparada.** O código para essa ação pode ser escrito de modo bem eficiente se criarmos uma lista de ingredientes solicitados pelo cliente e **usarmos um laço** para anunciar cada ingrediente à medida que ele é acrescentado à pizza:",
      "metadata": {}
    },
    {
      "cell_type": "code",
      "source": "requested_toppings = ['mushrooms', 'green peppers', 'extra cheese']\nfor requested_topping in requested_toppings:\n    print(\"Adding \" + requested_topping + \".\")\nprint(\"\\nFinished making your pizza!\")",
      "metadata": {
        "trusted": true
      },
      "outputs": [
        {
          "name": "stdout",
          "text": "Adding mushrooms.\nAdding green peppers.\nAdding extra cheese.\n\nFinished making your pizza!\n",
          "output_type": "stream"
        }
      ],
      "execution_count": 337
    },
    {
      "cell_type": "markdown",
      "source": "**E se a pizzaria ficasse sem pimentões verdes? Uma instrução <code>if</code> no laço <code>for</code> pode tratar essa situação de modo apropriado:**",
      "metadata": {}
    },
    {
      "cell_type": "code",
      "source": "requested_toppings = ['mushrooms', 'green peppers', 'extra cheese']\nfor requested_topping in requested_toppings:\n    if requested_topping=='green peppers':\n        print(\"Sorry, we are out of green peppers right now\")\n    else:\n        print(\"Adding \" + requested_topping + \".\")\nprint(\"\\nFinished making your pizza! \")",
      "metadata": {
        "trusted": true
      },
      "outputs": [
        {
          "name": "stdout",
          "text": "Adding mushrooms.\nSorry, we are out of green peppers right now\nAdding extra cheese.\n\nFinished making your pizza! \n",
          "output_type": "stream"
        }
      ],
      "execution_count": 527
    },
    {
      "cell_type": "markdown",
      "source": "Dessa vez verificamos cada item solicitado antes de adicioná-lo à pizza. **O código verifica se a pessoa pediu pimentões verdes. Em caso afirmativo, exibimos uma mensagem informando por que ela não pode ter pimentões verdes.** O bloco **else** garante que todos os demais ingredientes serão adicionados à pizza.\n\n**A saída mostra que cada ingrediente solicitado é tratado de forma apropriada.**",
      "metadata": {}
    },
    {
      "cell_type": "markdown",
      "source": "### Verificando se uma lista não está vazia",
      "metadata": {}
    },
    {
      "cell_type": "markdown",
      "source": "Fizemos uma suposição simples sobre todas as listas com as quais trabalhamos até agora: **supomos que toda lista continha pelo menos um item**. Em breve, deixaremos os usuários fornecerem as informações a serem armazenadas em uma lista, portanto não poderemos supor que uma lista contenha um item sempre que um laço <code>**for**</code> executado. **Nessa situação, será conveniente testar se uma lista está vazia antes de executar um laço <code>for</code>**.\n\nComo exemplo, **vamos verificar se a lista de ingredientes solicitados está vazia antes de prepararmos a pizza.** Se a lista estiver vazia, perguntaremos ao usuário se ele realmente quer uma pizza simples. Se a lista não estiver vazia, prepararemos a pizza exatamente como fizemos nos exemplos anteriores: ",
      "metadata": {}
    },
    {
      "cell_type": "code",
      "source": "requested_toppings = []\nif requested_toppings:\n    for requested_topping in requested_toppings:\n        print(\"Adding \" + requested_topping + \".\")\n        print(\"\\nFinished making your pizza! \")\nelse: \n    print(\"Are you sure you want a plain pizza?\")",
      "metadata": {
        "trusted": true
      },
      "outputs": [
        {
          "name": "stdout",
          "text": "Are you sure you want a plain pizza?\n",
          "output_type": "stream"
        }
      ],
      "execution_count": 364
    },
    {
      "cell_type": "markdown",
      "source": "**Quando o nome de uma lista é usado em uma instrução <code>if</code>, Python devolve <code>True</code> se a lista contiver pelo menos um item; uma lista vazia é avaliada como <code>False</code>.**",
      "metadata": {}
    },
    {
      "cell_type": "markdown",
      "source": "Nesse caso, a lista está vazia, portanto a saída contém uma pergunta para saber se o usuário realmente quer uma pizza simples: **\"Are you sure you want a plain pizza?\"**\nSe a lista não estiver vazia, a saída mostrará cada ingrediente solicitado adicionado à pizza.",
      "metadata": {}
    },
    {
      "cell_type": "markdown",
      "source": "### Usando várias listas",
      "metadata": {}
    },
    {
      "cell_type": "markdown",
      "source": "As pessoas pedirão de tudo, em especial quando se tratar de ingredientes para uma pizza. E se um cliente realmente quiser batatas fritas em sua pizza? Podemos usar **listas** e **instruções if** para garantir que o dado de entrada faça sentido antes de atuar sobre ele.\n\nVamos prestar atenção em solicitações de ingredientes incomuns antes de prepararmos uma pizza. **O exemplo a seguir define duas listas**. \n+ A primeira é uma lista de ingredientes disponíveis na pizzaria, e a segunda é a lista de ingredientes que o usuário pediu.\n+ Dessa vez, cada item em **requested_toppings** é verificado em relação à lista de ingredientes disponíveis antes de ser adicionado à pizza:",
      "metadata": {}
    },
    {
      "cell_type": "code",
      "source": "#A primeira é uma lista de ingredientes disponíveis na pizzaria\navailable_toppings = ['mushrooms', 'olives', 'green peppers', \n                     'pepperoni', 'pineapple', 'extra cheese']\n#segunda é a lista de ingredientes que o usuário pediu\nrequested_toppings = ['mushrooms', 'french fries', 'extra cheese']\n\n#percorremos a lista de ingredientes solicitados em um laço for\nfor requested_topping in requested_toppings: \n    if requested_topping in available_toppings:\n        print(\"Adding \" + requested_topping + \".\")\n    else:\n        print(\"Sorry, we don´t have \" + requested_topping + \".\")\nprint(\"\\nFinished making your pizza!\")",
      "metadata": {
        "trusted": true
      },
      "outputs": [
        {
          "name": "stdout",
          "text": "Adding mushrooms.\nSorry, we don´t have french fries.\nAdding extra cheese.\n\nFinished making your pizza!\n",
          "output_type": "stream"
        }
      ],
      "execution_count": 540
    },
    {
      "cell_type": "markdown",
      "source": "A sintaxe desse código gera uma saída clara e informativa. \nCom apenas algumas linhas de código, conseguimos tratar uma situação do mundo real de modo bem eficiente!",
      "metadata": {}
    },
    {
      "cell_type": "markdown",
      "source": "### **FAÇA VOCÊ MESMO**",
      "metadata": {}
    },
    {
      "cell_type": "markdown",
      "source": "**5.8 – Olá admin:** Crie uma lista com cinco ou mais nomes de usuários, incluindo o nome 'admin'. Suponha que você esteja escrevendo um código que exibirá uma saudação a cada usuário depois que eles fizerem login em um site. Percorra a lista com **um laço** e mostre uma saudação para cada usuário: \n+ Se o nome do usuário for **'admin'**, mostre uma saudação especial, por exemplo, **\"Olá admin, gostaria de ver um relatório de status?\"**\n+ Caso contrário, mostre uma saudação genérica, como **\"Olá Eric, obrigado por fazer login novamente\".**\n\n**5.9 – Sem usuários:** Acrescente um teste **if** em hello_admin.py para garantir que a lista de usuários não esteja vazia. \n+ Se a lista estiver vazia, mostre a mensagem Precisamos encontrar alguns usuários!\n+ Remova todos os nomes de usuário de sua lista e certifique-se de que a mensagem correta seja exibida.\n\n**5.10 – Verificando nomes de usuários:** Faça o seguinte para criar um programa que simule o modo como os sites garantem que todos tenham um nome de usuário único.\n+ Crie uma lista chamada **current_users** com cinco ou mais nomes de usuários.\n+ Crie outra lista chamada **new_users** com cinco nomes de usuários. Garanta que um ou dois dos novos usuários também estejam na lista **current_users**.\n+ Percorra a lista **new_users** com um laço para ver se cada novo nome de usuário já foi usado. Em caso afirmativo, mostre uma mensagem informando que a pessoa deverá **fornecer um novo nome**. Se um nome de usuário não foi usado, apresente uma mensagem dizendo **que o nome do usuário está disponível**.\n+ Certifique-se de que sua comparação não levará em conta as diferenças entre letras maiúsculas e minúsculas. Se **'John'** foi usado, **'JOHN'** não deverá ser aceito.\n\n**5.11 – Números ordinais:** Números ordinais indicam sua posição em uma lista, por exemplo, **1st** ou **2nd**, em inglês. A maioria dos números ordinais nessa língua termina com **th**, **exceto 1, 2 e 3**.\n+ Armazene os números de **1 a 9** em uma lista.\n+ Percorra a lista com um laço.\n+ Use uma cadeia **if-elif-else** no laço para exibir a terminação apropriada para cada número ordinal. Sua saída deverá conter **\"1st 2nd 3rd 4th 5th 6th 7th 8th 9th\"**, e cada resultado deve estar em uma linha separada.\n",
      "metadata": {}
    },
    {
      "cell_type": "code",
      "source": "#Crie uma lista com cinco ou mais nomes de usuários\nusers = ['admin', 'paulo', 'barbie', 'cassio', \n         'emilia', 'eurico', 'neusa']\n# Percorrer a lista de nomes de usuários\nfor user in users:\n# Verificar se o nome do usuário é 'admin'\n    if user=='admin':\n        print(\"Olá \" + user + \",\" + \" gostaria de ver um relatório de status?\")\n    else: \n        print(\"Olá \" + user + \",\" + \" obrigado por fazer login novamente.\")",
      "metadata": {
        "trusted": true
      },
      "outputs": [
        {
          "name": "stdout",
          "text": "Olá admin, gostaria de ver um relatório de status?\nOlá paulo, obrigado por fazer login novamente.\nOlá barbie, obrigado por fazer login novamente.\nOlá cassio, obrigado por fazer login novamente.\nOlá emilia, obrigado por fazer login novamente.\nOlá eurico, obrigado por fazer login novamente.\nOlá neusa, obrigado por fazer login novamente.\n",
          "output_type": "stream"
        }
      ],
      "execution_count": 528
    },
    {
      "cell_type": "code",
      "source": "# Lista de nomes de usuários (inicialmente com alguns usuários)\nusers = ['admin', 'paulo', 'barbie', 'cassio', 'emilia', 'eurico', 'neusa']\n# Verificar se a lista de usuários está vazia\nif not users:\n      print(\"Precisamos encontrar alguns usuários!\")\nelse:\n    # Percorrer a lista de nomes de usuários\n    for user in users:\n        # Verificar se o nome do usuário é 'admin'\n        if user == 'admin':\n            print(\"Olá \" + user + \",\" + \" gostaria de ver um relatório de status?\")\n    \n    else: \n        print(\"Olá \" + user + \",\" + \" obrigado por fazer login novamente.\")\n",
      "metadata": {
        "trusted": true
      },
      "outputs": [
        {
          "name": "stdout",
          "text": "Olá admin, gostaria de ver um relatório de status?\nOlá neusa, obrigado por fazer login novamente.\n",
          "output_type": "stream"
        }
      ],
      "execution_count": 456
    },
    {
      "cell_type": "code",
      "source": "# Lista de nomes de usuários (inicialmente com alguns usuários)\nusers = ['admin', 'paulo', 'barbie', 'cassio', 'emilia', 'eurico', 'neusa']\n# Remover todos os nomes de usuário da lista\nusers = []\n# Verificar novamente se a lista de usuários está vazia\nif not users:\n      print(\"Precisamos encontrar alguns usuários!\")\nelse:\n     # Percorrer a lista de nomes de usuários\n    for user in users:\n         # Verificar se o nome do usuário é 'admin'\n        if user=='admin':\n            print(\"Olá \" + user + \",\" + \" gostaria de ver um relatório de status?\")\n    \n    else: \n        print(\"Olá \" + user + \",\" + \" obrigado por fazer login novamente.\")",
      "metadata": {
        "trusted": true
      },
      "outputs": [
        {
          "name": "stdout",
          "text": "Precisamos encontrar alguns usuários!\n",
          "output_type": "stream"
        }
      ],
      "execution_count": 529
    },
    {
      "cell_type": "code",
      "source": "current_users = ['paulo', 'barbie', 'cassio', 'emilia', 'eurico']\n\nnew_users = ['luzolo', 'albertina', 'emilia', 'leidy', 'paulo']\n\nfor new_user in new_users:\n    if new_user in current_users:\n        print (\"O nome de usário \" + new_user.title() + \" não disponivel, forneça um novo nome de usário.\")\n    else:\n        print(\"O nome do usuário \" + new_user.title() + \" está disponível.\")",
      "metadata": {
        "trusted": true
      },
      "outputs": [
        {
          "name": "stdout",
          "text": "O nome do usuário Luzolo está disponível.\nO nome do usuário Albertina está disponível.\nO nome de usário Emilia não disponivel, forneça um novo nome de usário.\nO nome do usuário Leidy está disponível.\nO nome de usário Paulo não disponivel, forneça um novo nome de usário.\n",
          "output_type": "stream"
        }
      ],
      "execution_count": 467
    },
    {
      "cell_type": "code",
      "source": "ordinal_numbers = [1, 2, 3, 4, 5, 6, 7, 8, 9]  \nfor numbers in ordinal_numbers:\n    if numbers==1:\n        #  #é necessário converter o número inteiro numa cadeia de caracteres antes da concatenação str()\n        print(str(numbers) + \"st\")\n    elif numbers==2:\n        print(str(numbers) + \"nd\")\n    elif numbers==3:\n        print(str(numbers) +  \"rd\")\n    else:\n        print(str(numbers) + \"th\")\n  # usei que converter em str( numbers) no print pra reconhecer os numeros senão daria um erro ",
      "metadata": {
        "trusted": true
      },
      "outputs": [
        {
          "name": "stdout",
          "text": "1st\n2nd\n3rd\n4th\n5th\n6th\n7th\n8th\n9th\n",
          "output_type": "stream"
        }
      ],
      "execution_count": 530
    },
    {
      "cell_type": "markdown",
      "source": "### Estilizando suas instruções <code>if</code>",
      "metadata": {}
    },
    {
      "cell_type": "markdown",
      "source": "Em todos os exemplos deste capítulo vimos **bons hábitos de estilização**. A única recomendação fornecida pela **PEP 8 para estilizar testes condicionais é usar um único espaço em torno dos operadores de comparação**, como **==, >= e <=.** \nPor exemplo: **if age < 4: é melhor que: if age<4:** Esse espaçamento não afeta o modo como Python interpreta seu código; ele simplesmente deixa seu código mais fácil de ler para você e para outras pessoas.",
      "metadata": {}
    },
    {
      "cell_type": "markdown",
      "source": "### **FAÇA VOCÊ MESMO**",
      "metadata": {}
    },
    {
      "cell_type": "markdown",
      "source": "**5.12 – Estilizando instruções if:** Revise os programas que você escreveu neste capítulo e certifique-se de que os testes condicionais foram estilizados de forma apropriada.",
      "metadata": {}
    },
    {
      "cell_type": "markdown",
      "source": "**5.13 – Suas ideias:** A essa altura, você é um programador mais capacitado do que era quando começou a ler este livro. Agora que você tem melhor noção de como situações do mundo real são modeladas em programas, talvez esteja pensando em alguns problemas que poderia resolver com seus próprios programas. \n+ Registre qualquer ideia nova que tiver sobre problemas que você queira resolver à medida que suas habilidades em programação continuam a melhorar.\n+ Considere jogos que você queira escrever, conjuntos de dados que possa querer explorar e aplicações web que gostaria de criar.\n",
      "metadata": {}
    },
    {
      "cell_type": "markdown",
      "source": "<hr>",
      "metadata": {}
    },
    {
      "cell_type": "markdown",
      "source": "## Resumo",
      "metadata": {}
    },
    {
      "cell_type": "markdown",
      "source": "Neste capítulo aprendemos a escrever **testes condicionais**, que são sempre avaliados como <code>**True**</code> ou <code>**False**</code>. Vimos como escrever **instruções <code>if</code> simples, cadeias <code>if-else</code> e cadeias <code>if-elif-else</code>**. Começamos a usar essas estruturas para identificar condições particulares que deviam ser testadas e aprendemos a reconhecer quando essas condições foram atendidas em nossos programas. Aprendemos a tratar determinados itens de uma lista de modo diferente de todos os demais itens, ao mesmo tempo que continuamos usando a eficiência do **laço <code>for</code>**. Também retomamos as recomendações de estilo de Python para garantir que seus programas cada vez mais complexos continuem relativamente fáceis de ler e de entender.",
      "metadata": {}
    },
    {
      "cell_type": "markdown",
      "source": "No Capítulo 6 conheceremos **os dicionários de Python**. **Um dicionário é semelhante a uma lista, mas permite conectar informações.** Aprenderemos a criar dicionários, percorrê-los com laços e usá-los em conjunto com listas e instruções **if**. Conhecer os dicionários permitirá modelar uma variedade ainda maior de situações do mundo real.",
      "metadata": {}
    },
    {
      "cell_type": "code",
      "source": "",
      "metadata": {
        "trusted": true
      },
      "outputs": [],
      "execution_count": null
    }
  ]
}