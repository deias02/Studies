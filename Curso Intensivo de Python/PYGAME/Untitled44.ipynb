{
 "cells": [
  {
   "cell_type": "code",
   "execution_count": null,
   "metadata": {
    "tags": []
   },
   "outputs": [
    {
     "name": "stdout",
     "output_type": "stream",
     "text": [
      "pygame 2.6.1.dev1 (SDL 2.30.5, Python 3.11.5)\n",
      "Hello from the pygame community. https://www.pygame.org/contribute.html\n"
     ]
    }
   ],
   "source": [
    "import pygame\n",
    "import sys\n",
    "from settings import Settings\n",
    "from character import Character\n",
    "\n",
    "def run_game():\n",
    "    # Inicializa o Pygame e cria um objeto para a tela\n",
    "    pygame.init()\n",
    "    ai_settings = Settings() \n",
    "    screen = pygame.display.set_mode((ai_settings.screen_width, ai_settings.screen_height))\n",
    "    pygame.display.set_caption(\"Alien Invasion\")\n",
    "    \n",
    "    # Cria uma instância do personagem\n",
    "    character = Character(screen)\n",
    "    \n",
    "    # Inicia o laço principal do jogo\n",
    "    while True:\n",
    "        # Observa eventos de teclado e de mouse\n",
    "        for event in pygame.event.get():\n",
    "            if event.type == pygame.QUIT:\n",
    "                pygame.quit()\n",
    "                sys.exit()\n",
    "        \n",
    "        # Redesenha a tela a cada passagem pelo laço\n",
    "        screen.fill(ai_settings.bg_color)\n",
    "        character.blitme()\n",
    "        \n",
    "        # Deixa a tela mais recente visível\n",
    "        pygame.display.flip()\n",
    "\n",
    "# Chama a função para iniciar o jogo\n",
    "run_game()"
   ]
  },
  {
   "cell_type": "code",
   "execution_count": null,
   "metadata": {},
   "outputs": [],
   "source": []
  }
 ],
 "metadata": {
  "kernelspec": {
   "display_name": "Python 3 (ipykernel)",
   "language": "python",
   "name": "python3"
  },
  "language_info": {
   "codemirror_mode": {
    "name": "ipython",
    "version": 3
   },
   "file_extension": ".py",
   "mimetype": "text/x-python",
   "name": "python",
   "nbconvert_exporter": "python",
   "pygments_lexer": "ipython3",
   "version": "3.11.5"
  }
 },
 "nbformat": 4,
 "nbformat_minor": 4
}
