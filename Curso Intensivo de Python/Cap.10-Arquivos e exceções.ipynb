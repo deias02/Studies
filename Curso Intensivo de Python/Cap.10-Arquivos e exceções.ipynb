{
 "cells": [
  {
   "cell_type": "markdown",
   "id": "ae69a3c5-42ec-460b-b8cb-a6c55578e20a",
   "metadata": {},
   "source": [
    "# **Cap.10 - Arquivos e exceções**"
   ]
  },
  {
   "cell_type": "markdown",
   "id": "31a90b20-c171-4759-ad91-c112e05aedeb",
   "metadata": {},
   "source": [
    "Agora que você já dominou as habilidades básicas necessárias para escrever programas organizados, fáceis de usar, é hora de pensar em deixar seus programas mais relevantes e utilizáveis. **Neste capítulo aprenderemos a trabalhar com arquivos para que seus programas possam analisar rapidamente muitos dados.**"
   ]
  },
  {
   "cell_type": "markdown",
   "id": "6cba1122-6644-4ec7-8955-3706a4fbfecf",
   "metadata": {},
   "source": [
    "Veremos como tratar erros a fim de que seus programas não falhem quando se depararem com situações inesperadas. **Conheceremos as <code>exceções</code> – objetos Python especiais para administrar erros que surgirem enquanto um programa estiver executando. Também conheceremos o módulo <code>json</code>, que permite salvar dados de usuário para que não sejam perdidos quando seu programa parar de executar.**\n",
    "\n",
    "Aprender a trabalhar com arquivos e a salvar dados deixará seus programas mais fáceis de usar. Os usuários poderão escolher quais dados devem fornecer e quando. As pessoas podem executar seu programa, fazer alguma tarefa e então fechá-lo e retomá-lo mais tarde, do ponto em que pararam. **Aprender a tratar <code>exceções</code> ajudará você a lidar com situações em que os arquivos não existam e com outros problemas que possam fazer seus programas falharem. Isso deixará seus programas mais robustos quando dados ruins forem encontrados, sejam eles provenientes de erros inocentes ou de tentativas maliciosas de fazer seus programas falharem**. Com as habilidades desenvolvidas neste capítulo, você deixará seus programas mais aplicáveis, utilizáveis e estáveis."
   ]
  },
  {
   "cell_type": "markdown",
   "id": "7f97fdef-b320-4e6b-8fa3-07df863b0f52",
   "metadata": {},
   "source": [
    "## **Lendo dados de um arquivo**"
   ]
  },
  {
   "cell_type": "markdown",
   "id": "ccfb482f-f108-4e87-aa1e-2af035c7e47a",
   "metadata": {},
   "source": [
    "Uma quantidade incrível de dados está disponível em <code>**arquivos-texto**</code>. **Os <code>arquivos-texto</code> podem conter dados meteorológicos, de tráfego, socioeconômicos, trabalhos literários e outros**. **<code>Ler dados de um arquivo</code> é particularmente útil em aplicações de análise de dados, mas também se aplica a qualquer situação em que você queira analisar ou modificar informações armazenadas em um arquivo**. Por exemplo, **podemos escrever um programa que leia o conteúdo de um arquivo-texto e reescreva o arquivo com uma formatação que permita a um navegador exibi-lo**.\n",
    "\n",
    "Quando quiser trabalhar com as informações de um <code>**arquivo-texto**</code>, **o primeiro passo será ler o arquivo em memória. Você pode ler todo o conteúdo de um arquivo ou pode trabalhar com uma linha de cada vez.**\n"
   ]
  },
  {
   "cell_type": "markdown",
   "id": "abac97d0-37c9-422a-9dcd-597f9863cb65",
   "metadata": {},
   "source": [
    "### Lendo um <code>**arquivo inteiro**</code>"
   ]
  },
  {
   "cell_type": "markdown",
   "id": "e7c813f3-70c0-48ca-84df-dde53c4130be",
   "metadata": {},
   "source": [
    "Para começar, precisamos de um arquivo com algumas linhas de texto. Vamos iniciar com um arquivo que contenha **o valor de pi com trinta casas decimais, dez casas por linha: pi_digits.txt 3.1415926535   \n",
    "8979323846   \n",
    "2643383279**\n",
    "\n",
    "Para testar esses exemplos por conta própria, você pode inserir essas linhas em um editor e salvar o arquivo como pi_digits.txt, ou pode fazer o download do arquivo a partir da página de recursos do livro em https://www.nostarch.com/pythoncrashcourse/. **Salve o arquivo no mesmo diretório em que você armazenará os programas deste capítulo.**\n",
    "\n",
    "**Aqui está um programa que abre esse arquivo, lê seus dados e exibe o conteúdo na tela: 'file_reader.py'** "
   ]
  },
  {
   "cell_type": "code",
   "execution_count": 40,
   "id": "f9162fb4-7a30-4688-9728-ad5e12af2794",
   "metadata": {
    "tags": []
   },
   "outputs": [
    {
     "name": "stdout",
     "output_type": "stream",
     "text": [
      "3.1415926535\n",
      "  8979323846\n",
      "  2643383279\n",
      "\n"
     ]
    }
   ],
   "source": [
    "with open('pi_digits.txt') as file_object: \n",
    "    contents = file_object.read() \n",
    "    print(contents)"
   ]
  },
  {
   "cell_type": "markdown",
   "id": "1af79f23-a320-4e87-bc0a-2056fe734e6f",
   "metadata": {},
   "source": [
    "Muitas atividades acontecem na primeira linha desse programa. Vamos começar observando a função <code>**open()**</code>. Para realizar qualquer tarefa com um arquivo, mesmo que seja apenas exibir o seu conteúdo, você precisará inicialmente abrir o arquivo para acessá-lo. **A função  <code>open()</code> precisa de um argumento: o nome do arquivo que você quer abrir. Python procura esse arquivo no diretório em que o programa executando no momento está armazenado**. Nesse exemplo, **'file_reader.py '** está executando, portanto Python procura **'pi_digits.txt'** no diretório em que o arquivo **'file_reader.py'** está armazenado. **A função  <code>open()</code> devolve um objeto que representa o arquivo. Nesse caso, <code>open('pi_digits.txt')</code> devolve um objeto que representa 'pi_digits.txt. Python armazena esse objeto em file_object, com o qual trabalharemos posteriormente no programa**.\n",
    "\n",
    "**A palavra reservada <code>with</code> fecha o arquivo depois que não for mais necessário acessá-lo. Observe como chamamos <code>open()</code>  nesse programa, mas não chamamos <code>close()</code>. Você poderia abrir e fechar o arquivo chamando <code>open() e close()</code>, mas se um bug em seu programa impedir que a instrução <code>close()</code> seja executada, o arquivo não será fechado**. Isso pode parecer trivial, mas arquivos indevidamente fechados podem provocar perda de dados ou estes podem ser corrompidos. Além disso, se <code>**close()**</code> for chamado cedo demais em seu programa, você se verá tentando trabalhar com um arquivo fechado **(um arquivo que não pode ser acessado)**, o que resultará em mais erros. **Nem sempre é fácil saber exatamente quando devemos fechar um arquivo, mas com a estrutura mostrada aqui, Python descobrirá isso para você. Tudo que você precisa fazer é abrir o arquivo e trabalhar com ele conforme desejado, com a confiança de que Python o fechará automaticamente no momento certo.**"
   ]
  },
  {
   "cell_type": "markdown",
   "id": "433d79a1-c919-48f4-ab4a-069ec0d9c979",
   "metadata": {},
   "source": [
    "Depois que tivermos um objeto arquivo que represente **'pi_digits.txt'**, **usamos o método <code>read()</code> na segunda linha de nosso programa para ler todo o conteúdo do arquivo e armazená-lo em uma longa string em <code>contents</code>**. Quando exibimos o valor de <code>**contents**</code>, vemos o <code>**arquivo-texto**</code> completo: **3.1415926535   \n",
    "8979323846    \n",
    "2643383279**"
   ]
  },
  {
   "cell_type": "markdown",
   "id": "ea0bf447-859b-48eb-bf8e-cd64bdf10285",
   "metadata": {},
   "source": [
    "**A única diferença entre essa saída e o arquivo original é a linha em branco extra no final da saída. A linha em branco aparece porque <code>read()</code> devolve uma string vazia quando alcança o final do arquivo; essa string vazia aparece como uma linha em branco**. Se quiser remover essa linha em branco extra, <code>**rstrip()**</code> pode ser usada na instrução print:"
   ]
  },
  {
   "cell_type": "code",
   "execution_count": 38,
   "id": "06533312-dee3-424b-8d6d-2ba28809f199",
   "metadata": {
    "tags": []
   },
   "outputs": [
    {
     "name": "stdout",
     "output_type": "stream",
     "text": [
      "3.1415926535\n",
      "  8979323846\n",
      "  2643383279\n"
     ]
    }
   ],
   "source": [
    "with open('pi_digits.txt') as file_object:\n",
    "    contents = file_object.read()\n",
    "    print(contents.rstrip())"
   ]
  },
  {
   "cell_type": "markdown",
   "id": "4a5f948f-bf70-4d3b-b9d3-f305b58fcb75",
   "metadata": {
    "tags": []
   },
   "source": [
    "Lembre-se de que **o método <code>rstrip()</code> de Python remove qualquer caractere branco do lado direito de uma string**. Agora a saída será exatamente igual ao conteúdo do arquivo original."
   ]
  },
  {
   "cell_type": "markdown",
   "id": "713e7756-0501-4b15-a216-198fb05cbf65",
   "metadata": {},
   "source": [
    "### Paths de arquivo"
   ]
  },
  {
   "cell_type": "markdown",
   "id": "66fd0519-c18f-4cc1-9ffe-b42c3f32051e",
   "metadata": {},
   "source": [
    "**Quando um nome de arquivo simples como 'pi_digits.txt' é passado para a função <code>open()</code>, Python observa o diretório em que o arquivo executado no momento (isto é, seu arquivo de programa .py) está armazenado**.\n",
    "Às vezes, dependendo de como o seu trabalho estiver organizado, o arquivo que você quer abrir não estará no mesmo diretório que o seu arquivo de programa. Por exemplo, você pode armazenar seus arquivos de programa em uma pasta chamada **'python_work'**; nessa pasta pode haver outra pasta chamada **'text_files'** para distinguir seus arquivos de programa dos <code>arquivos-texto</code> que eles manipulam. **Apesar de 'text_files' estar em 'python_work', simplesmente passar o nome de um arquivo que está em 'text_files' para <code>open()</code> não funcionará, pois Python procurará o arquivo apenas em python_work;** ele não prosseguirá procurando em 'text_files'. P**ara fazer Python abrir arquivos de um diretório que não seja aquele em que seu arquivo de programa está armazenado, é preciso fornecer um <code>path de arquivo</code>, que diz a Python para procurar em um local específico de seu sistema**.\n",
    "\n",
    "Como 'text_files' está em 'python_work', você pode usar um <code>**path de arquivo relativo**</code>  para abrir um arquivo em text_files. **Um <code>path de arquivo relativo</code> diz a Python para procurar um local especificado, \"relativo ao diretório\" em que o arquivo de programa em execução no momento está armazenado**. No **Linux e no OS X**, você escreveria o seguinte: **<code>with open('text_files/nome_do_arquivo.txt') as file_object:</code> Essa linha diz a Python para procurar o arquivo <code>.txt</code> desejado na pasta text_files e supõe que essa pasta está localizada em python_work (e está)**. Em sistemas **Windows**, use uma barra invertida **(\\)** no lugar da barra para a frente **(/)** no path do arquivo: <code>**with open('text_files\\nome_do_arquivo.txt') as file_object:**</code> **Você também pode dizer a Python exatamente em que local está o arquivo em seu computador, não importando o lugar em que o programa em execução no momento esteja armazenado**. Isso é chamado de <code>**path absoluto do arquivo**</code>. Utilize um **<code>path absoluto do arquivo</code> se um <code>path relativo</code> não funcionar**. Por exemplo, se você colocou **'text_files'** em alguma pasta diferente de **'python_work'** – por exemplo, em uma pasta chamada **'other_files'** – **então simplesmente passar o path <code>'text_files/nome_do_arquivo.txt'</code> para <code>open()</code> não funcionará porque Python procurará esse local somente em 'python_work'. Você precisará fornecer <code>um path completo</code> para deixar claro em que lugar você quer que Python procure.**"
   ]
  },
  {
   "cell_type": "markdown",
   "id": "95d04eab-47f4-4571-bb05-e2050c932316",
   "metadata": {},
   "source": [
    "**<code>Paths absolutos</code> geralmente são mais longos que paths relativos, portanto é conveniente armazená-los em uma variável e então passar essa variável para <code>open()</code>**. No **Linux e no OS X**, <code>**paths absolutos**</code> têm o seguinte aspecto:  \n",
    "+ <code>**file_path = 'homeehmatthes/other_files/text_files/nome_do_arquivo.txt' \n",
    "    with open(file_path) as file_object:**</code>\n",
    "\n",
    "No Windows, eles se parecem com: \n",
    "+ <code>**file_path = 'C:\\Users\\ehmatthes\\other_files\\text_files\\nome_do_arquivo.txt' \n",
    "    with open(file_path) as file_object:**</code>\n",
    "\n",
    "**Ao usar <code>paths absolutos</code>, podemos ler arquivos de qualquer lugar do sistema**. Por enquanto, **é mais fácil armazenar arquivos no mesmo diretório em que estão seus arquivos de programa ou em uma pasta como 'text_files' no diretório em que estiverem seus arquivos de programa.**\n",
    "\n",
    "**NOTA**  \n",
    "Sistemas Windows às vezes interpretam corretamente as barras para a frente nos paths de arquivo. Se você usa Windows e não está obtendo os resultados esperados, tente usar barras invertidas.\n"
   ]
  },
  {
   "cell_type": "markdown",
   "id": "cb8ac28b-587e-49bc-9511-c508ed513eb8",
   "metadata": {},
   "source": [
    "### Lendo dados linha a linha"
   ]
  },
  {
   "cell_type": "markdown",
   "id": "ed527824-6500-40ee-ac7e-103c1dd928d3",
   "metadata": {},
   "source": [
    "**Quando estiver lendo um arquivo, com frequência você vai querer analisar cada linha do arquivo**. Talvez você esteja procurando determinada informação no arquivo ou queira modificar o texto do arquivo de alguma maneira. **Por exemplo, você pode ler um arquivo de dados meteorológicos e trabalhar com qualquer linha que inclua a palavra 'ensolarado' na descrição da previsão do tempo para esse dia**. Em uma notícia, talvez você queira procurar todas as linhas com a tag **< headline >** e reescrever essa linha com um tipo específico de formatação.\n",
    "\n",
    "**Podemos usar um laço <code>for</code> no objeto arquivo para analisar <code>cada uma de suas linhas</code>, uma de cada vez**:"
   ]
  },
  {
   "cell_type": "code",
   "execution_count": 70,
   "id": "3cd9bb1f-c80b-46d4-9503-665a2acfad5a",
   "metadata": {
    "tags": []
   },
   "outputs": [
    {
     "name": "stdout",
     "output_type": "stream",
     "text": [
      "3.1415926535\n",
      "\n",
      "  8979323846\n",
      "\n",
      "  2643383279\n",
      "\n"
     ]
    }
   ],
   "source": [
    "filename ='pi_digits.txt'\n",
    "with open(filename) as file_object:\n",
    "    for line in file_object:\n",
    "        print(line)"
   ]
  },
  {
   "cell_type": "markdown",
   "id": "67e9823e-90a2-47e2-8341-9e52dc7c8304",
   "metadata": {},
   "source": [
    "Armazenamos o nome do arquivo que estamos lendo em uma variável **'filename'**. Essa é uma convenção comum quando trabalhamos com arquivos. **Como a variável 'filename' não representa o arquivo propriamente dito – é apenas uma string que diz a Python em que lugar o arquivo se encontra – você pode facilmente trocar 'pi_digits.txt' pelo nome de outro arquivo com o qual você queira trabalhar**. Depois da chamada a <code>**open()**</code>, um objeto que representa o arquivo e seu conteúdo é armazenado na variável **'file_object'**. Novamente, **usamos a sintaxe <code>with</code> para deixar Python abrir e fechar o arquivo de modo apropriado**. Para analisar o conteúdo do arquivo, trabalhamos com **cada linha do arquivo percorrendo o objeto arquivo em um laço <code>for</code>**.\n",
    "\n",
    "Quando exibimos cada linha, encontramos outras linhas em branco. ssas linhas em branco aparecem porque um caractere invisível de quebra de linha está no final de cada linha do <code>**arquivo-texto**</code>. **A instrução <code>print</code> adiciona a sua própria quebra de linha sempre que a chamamos, portanto acabamos com dois caracteres de quebra de linha no final de cada linha: <code>um do arquivo e outro da instrução print</code>**. Se usarmos <code>**rstrip()**</code> em cada linha na instrução <code>**print**</code>, eliminamos essas linhas em branco extras:"
   ]
  },
  {
   "cell_type": "code",
   "execution_count": 129,
   "id": "40ae97e5-3115-4cce-9f7b-d1583ec3b152",
   "metadata": {
    "tags": []
   },
   "outputs": [
    {
     "name": "stdout",
     "output_type": "stream",
     "text": [
      "3.1415926535\n",
      "  8979323846\n",
      "  2643383279\n"
     ]
    }
   ],
   "source": [
    "filename = 'pi_digits.txt'\n",
    "with open(filename) as file_object: \n",
    "    for line in file_object:\n",
    "        print(line.rstrip())"
   ]
  },
  {
   "cell_type": "markdown",
   "id": "57ba12ce-92d9-47a3-85f5-2acd1d6c9b02",
   "metadata": {},
   "source": [
    "### Criando uma lista de linhas de um arquivo"
   ]
  },
  {
   "cell_type": "markdown",
   "id": "cb852ee6-2fab-4050-812e-e6463cc6d401",
   "metadata": {},
   "source": [
    "**Quando usamos <code>with</code>, o objeto arquivo devolvido por <code>open()</code> estará disponível somente no bloco <code>with</code> que o contém. Se quiser preservar o acesso ao conteúdo de um arquivo fora do bloco <code>with</code>, você pode armazenar as linhas do arquivo em uma lista dentro do bloco e então trabalhar com essa lista.** Pode processar partes do arquivo imediatamente e postergar parte do processamento de modo que seja feito mais tarde no programa.\n",
    "\n",
    "O exemplo a seguir armazena as linhas de **pi_digits.txt** em uma lista no bloco <code>**with**</code> e, em seguida, exibe as linhas fora desse bloco:"
   ]
  },
  {
   "cell_type": "code",
   "execution_count": 122,
   "id": "8491b81a-ac10-4f36-9473-abc472e93084",
   "metadata": {
    "tags": []
   },
   "outputs": [
    {
     "name": "stdout",
     "output_type": "stream",
     "text": [
      "3.1415926535\n",
      "  8979323846\n",
      "  2643383279\n"
     ]
    }
   ],
   "source": [
    "filename = 'pi_digits.txt'\n",
    "with open(filename) as file_object:\n",
    "    lines = file_object.readlines()\n",
    "for line in lines:\n",
    "    print(line.rstrip())"
   ]
  },
  {
   "cell_type": "markdown",
   "id": "45404901-504a-4eb9-abf4-9a6ac1bbc129",
   "metadata": {
    "tags": []
   },
   "source": [
    "**O método <code>readlines()</code> armazena cada linha do arquivo em uma lista. Essa lista é então armazenada em 'lines', com a qual podemos continuar trabalhando depois que o bloco <code>with</code> terminar. E usamos um laço <code>for</code> simples para exibir cada linha de 'lines'. Como cada item de lines corresponde a uma linha do arquivo, a saída será exatamente igual ao conteúdo do arquivo.**"
   ]
  },
  {
   "cell_type": "markdown",
   "id": "bd2800e6-f2d2-4859-b7c8-81ef29551bcf",
   "metadata": {},
   "source": [
    "### Trabalhando com o conteúdo de um arquivo"
   ]
  },
  {
   "cell_type": "markdown",
   "id": "2ced65ee-8d9a-469b-8b37-6d9147adfbfa",
   "metadata": {},
   "source": [
    "**Depois de ler um arquivo em memória, você poderá fazer o que quiser com esses dados;** desse modo, vamos explorar rapidamente os dígitos de **'pi'**. Em primeiro lugar, **tentaremos criar uma única string contendo todos os dígitos do arquivo, sem espaços em branco**:"
   ]
  },
  {
   "cell_type": "code",
   "execution_count": 101,
   "id": "2e6a9cc4-261d-4915-953a-f2fe990b7029",
   "metadata": {
    "tags": []
   },
   "outputs": [
    {
     "name": "stdout",
     "output_type": "stream",
     "text": [
      "3.1415926535\n",
      "12\n",
      "3.1415926535  8979323846\n",
      "24\n",
      "3.1415926535  8979323846  2643383279\n",
      "36\n"
     ]
    }
   ],
   "source": [
    "filename = 'pi_digits.txt'\n",
    "with open(filename) as file_object: \n",
    "    lines = file_object.readlines()\n",
    "    pi_string =''\n",
    "for line in lines:\n",
    "    pi_string += line.rstrip()\n",
    "    print(pi_string)\n",
    "    print(len(pi_string))"
   ]
  },
  {
   "cell_type": "markdown",
   "id": "15b149d5-1391-4903-82b3-ccfa113d53f0",
   "metadata": {},
   "source": [
    "Começamos abrindo o arquivo e armazenando cada linha de dígitos em uma lista, como fizemos no exemplo anterior. **E criamos uma variável 'pi_string' para armazenar os dígitos de 'pi'. Então criamos um laço que acrescenta cada uma das linhas de dígitos em 'pi_string' removendo o caractere de quebra de linha'**. E exibimos essa <code>string</code> e mostramos também o seu tamanho.\n",
    "\n",
    "**A variável 'pi_string' contém os espaços em branco que estavam do lado esquerdo dos dígitos em cada linha**, mas podemos nos livrar deles usando <code>**strip()**</code> no lugar de <code>**rstrip()**</code>:"
   ]
  },
  {
   "cell_type": "code",
   "execution_count": 107,
   "id": "72f705e6-4009-4ba4-bf2f-584435f4bf79",
   "metadata": {
    "tags": []
   },
   "outputs": [
    {
     "name": "stdout",
     "output_type": "stream",
     "text": [
      "3.141592653589793238462643383279\n",
      "32\n"
     ]
    }
   ],
   "source": [
    "filename = 'pi_digits.txt'\n",
    "with open(filename) as file_object: \n",
    "    lines = file_object.readlines() \n",
    "    pi_string = ''\n",
    "for line in lines: pi_string += line.strip()\n",
    "print(pi_string) \n",
    "print(len(pi_string)) "
   ]
  },
  {
   "cell_type": "markdown",
   "id": "f9ca51e0-c2a6-4525-846d-8dd61b51ae6f",
   "metadata": {},
   "source": [
    "**NOTA**  \n",
    "**Quando Python lê um arquivo-texto, todo o texto do arquivo é interpretado como uma <code>string</code>. Se você ler um número e quiser trabalhar com esse valor em um contexto numérico, será necessário convertê-lo em um inteiro usando a função <code>int()</code> ou convertê-lo em um número de ponto flutuante com a função <code>float()</code>.**\n"
   ]
  },
  {
   "cell_type": "markdown",
   "id": "87e3eaee-af1b-4f4b-b846-243f170f7e4c",
   "metadata": {},
   "source": [
    "### Arquivos grandes: um milhão de dígitos"
   ]
  },
  {
   "cell_type": "markdown",
   "id": "4970e8d1-c5bc-4a6c-aef6-81afadc8027d",
   "metadata": {},
   "source": [
    "Até agora, nosso enfoque foi analisar um <code>**arquivo-texto**</code> que continha apenas três linhas, mas o código desses exemplos também funcionará bem em arquivos muito maiores. **Se começarmos com um <code>arquivo-texto</code> que contenha 'pi' com um milhão de casas decimais, e não trinta, uma única <code>string</code> contendo todos esses dígitos poderá ser criada. Não precisamos alterar nada em nosso programa, exceto para lhe passar um arquivo diferente**. Além disso, exibiremos as cinquenta primeiras casas decimais para que não seja necessário assistirmos a um milhão de dígitos rolando pelo terminal:"
   ]
  },
  {
   "cell_type": "code",
   "execution_count": 138,
   "id": "9eb56259-e7ca-4d69-9641-d75044df7bf3",
   "metadata": {
    "tags": []
   },
   "outputs": [
    {
     "name": "stdout",
     "output_type": "stream",
     "text": [
      "3.1415926535897932384626433832793.141592653589793238...\n",
      "7000046\n"
     ]
    }
   ],
   "source": [
    "filename ='pi_million_digits.txt'\n",
    "with open(filename) as file_object:\n",
    "    lines = file_object.readlines()\n",
    "    pi_strings = ''\n",
    "for line in lines:\n",
    "    pi_string += line.strip()\n",
    "print(pi_string[:52] + \"...\")\n",
    "print(len(pi_string))"
   ]
  },
  {
   "cell_type": "markdown",
   "id": "543f55aa-4daa-455e-a643-ad74538c650e",
   "metadata": {},
   "source": [
    "**Python não tem nenhum limite inerente para a quantidade de dados com que podemos trabalhar;** podemos trabalhar com tantos dados quantos a memória de seu sistema for capaz de tratar.\n",
    "\n",
    "**NOTA**   \n",
    "Para executar esse programa (e vários dos próximos exemplos), você deverá fazer download dos recursos disponíveis em https://www.nostarch.com/pythoncrashcourse/.\n"
   ]
  },
  {
   "cell_type": "markdown",
   "id": "b1adbdcc-ea12-468a-ab06-a4c720aae50c",
   "metadata": {},
   "source": [
    "### Seu aniversário está contido em pi?"
   ]
  },
  {
   "cell_type": "markdown",
   "id": "5383f3f3-7e42-4aa6-9e62-7ca07ddf8d58",
   "metadata": {},
   "source": [
    "Sempre tive curiosidade de saber se a minha data de nascimento aparece em algum lugar nos dígitos de **'pi'**. **Vamos usar o programa que acabamos de escrever para descobrir se a data de nascimento de alguém aparece em algum ponto no primeiro milhão de dígitos de 'pi'**. Podemos fazer isso expressando cada data de nascimento como uma <code>**string**</code> de dígitos e verificando se essa string aparece em algum ponto de **'pi_string'**:"
   ]
  },
  {
   "cell_type": "code",
   "execution_count": null,
   "id": "b7de4a06-5479-4f1a-8786-6e9192b8223a",
   "metadata": {
    "tags": []
   },
   "outputs": [],
   "source": [
    "filename ='pi_million_digits.txt'\n",
    "with open(filename) as file_object:\n",
    "    lines = file_object.readlines()\n",
    "    pi_string =''\n",
    "for line in lines:\n",
    "    pi_string += line.rstrip()\n",
    "    birthday = input(\"Enter your birthday, in the form mmddyy: \")\n",
    "    if birthday in pi_string:\n",
    "        print(\"Your birthday appears in the first million digits of pi!!\")\n",
    "    else:\n",
    "        print(\"Your birthday does not appear in the first million digits of pi.\")\n",
    "    "
   ]
  },
  {
   "cell_type": "markdown",
   "id": "ec46193e-42c7-4daf-8ebb-e93396511b63",
   "metadata": {},
   "source": [
    "Depois de ter lido um arquivo, podemos analisar seu conteúdo de praticamente qualquer modo que pudermos imaginar."
   ]
  },
  {
   "cell_type": "markdown",
   "id": "742aa95e-3d41-40c2-bbc4-fad621c0c019",
   "metadata": {},
   "source": [
    "## **FAÇA VOCÊ MESMO**"
   ]
  },
  {
   "cell_type": "markdown",
   "id": "4cf9b273-2cd4-4d34-a32d-7a0887ee3e37",
   "metadata": {},
   "source": [
    "**10.1 – Aprendendo Python:** Abra um arquivo em branco em seu editor de texto e escreva algumas linhas que sintetizem o que você aprendeu sobre Python até agora. Comece cada linha com a expressão **Em Python podemos....** Salve o arquivo como **learning_python.txt** no mesmo diretório em que estão seus exercícios deste capítulo. Escreva um programa que leia o arquivo e mostre o que você escreveu, três vezes. Exiba o conteúdo uma vez lendo o arquivo todo, uma vez percorrendo o objeto arquivo com um laço e outra armazenando as linhas em uma lista e então trabalhando com ela fora do bloco **with**."
   ]
  },
  {
   "cell_type": "code",
   "execution_count": 5,
   "id": "980869e6-50e6-41ab-a41c-c347d0eeb4e2",
   "metadata": {
    "tags": []
   },
   "outputs": [
    {
     "name": "stdout",
     "output_type": "stream",
     "text": [
      "Em Python podemos automatizar tarefas.\n",
      "\n",
      "Em Python podemos desenvolver aplicativos web.\n",
      "\n",
      "Em Python podemos analisar dados.\n",
      "\n",
      "Em Python podemos criar modelos de machine learning.\n",
      "\n",
      "Em Python podemos desenvolver jogos.\n",
      "\n",
      "Em Python podemos fazer pesquisa científica.\n",
      "\n",
      "Em Python podemos desenvolver interfaces gráficas.\n",
      "\n",
      "\n",
      "Armazenando as linhas em uma lista e trabalhando com ela fora do bloco with:\n",
      "Em Python podemos automatizar tarefas.\n",
      "Em Python podemos desenvolver aplicativos web.\n",
      "Em Python podemos analisar dados.\n",
      "Em Python podemos criar modelos de machine learning.\n",
      "Em Python podemos desenvolver jogos.\n",
      "Em Python podemos fazer pesquisa científica.\n",
      "Em Python podemos desenvolver interfaces gráficas.\n"
     ]
    }
   ],
   "source": [
    "filename= 'learning_python.txt'\n",
    "with open(filename) as file_object:\n",
    "    lines = file_object.readlines()\n",
    "for line in lines:\n",
    "    print(line)\n",
    "    \n",
    "print(\"\\nArmazenando as linhas em uma lista e trabalhando com ela fora do bloco with:\")\n",
    "for line in lines:\n",
    "    print(line, end='')"
   ]
  },
  {
   "cell_type": "markdown",
   "id": "a9e62a25-1ab7-418a-b215-0def081bbdec",
   "metadata": {},
   "source": [
    "**10.2 – Aprendendo C:** Você pode usar o método **replace()** para substituir qualquer palavra por uma palavra diferente em uma string. Eis um exemplo rápido que mostra como substituir a palavra **'dog'** por **'cat'** em uma frase: \n",
    "+ **message = \"I really like dogs.\"**\n",
    "+ **message.replace('dog', 'cat') 'I really like cats.'**\n",
    "Leia cada linha do arquivo **learning_python.txt** que você acabou de criar e substitua a palavra Python pelo nome de outra linguagem, por exemplo, C. Mostre cada linha modificada na tela."
   ]
  },
  {
   "cell_type": "code",
   "execution_count": 17,
   "id": "c7d6e9b5-93f3-4b4b-bbe1-a5aeebf72d1c",
   "metadata": {
    "tags": []
   },
   "outputs": [
    {
     "name": "stdout",
     "output_type": "stream",
     "text": [
      "Linhas modificadas:\n",
      "Em C podemos automatizar tarefas.\n",
      "\n",
      "Em C podemos desenvolver aplicativos web.\n",
      "\n",
      "Em C podemos analisar dados.\n",
      "\n",
      "Em C podemos criar modelos de machine learning.\n",
      "\n",
      "Em C podemos desenvolver jogos.\n",
      "\n",
      "Em C podemos fazer pesquisa científica.\n",
      "\n",
      "Em C podemos desenvolver interfaces gráficas.\n",
      "\n"
     ]
    }
   ],
   "source": [
    "# Caminho do arquivo\n",
    "file_path = 'learning_python.txt'\n",
    "new_language = 'C'  # Nova linguagem para substituir \"Python\"\n",
    "\n",
    "# Lendo e modificando o conteúdo do arquivo\n",
    "with open(file_path) as file:  # O modo padrão é 'r', então podemos omitir\n",
    "    lines = file.readlines()\n",
    "\n",
    "print(\"Linhas modificadas:\")\n",
    "for line in lines:\n",
    "    modified_line = line.replace('Python', new_language)\n",
    "    print(modified_line)  # end='' para evitar linhas em branco adicionais"
   ]
  },
  {
   "cell_type": "markdown",
   "id": "3beaa780-1f8b-4780-9721-b81a47c2884f",
   "metadata": {},
   "source": [
    "*****"
   ]
  },
  {
   "cell_type": "markdown",
   "id": "d3068dfb-cf43-441e-805d-5d6bbfcad381",
   "metadata": {},
   "source": [
    "## **Escrevendo dados em um arquivo**"
   ]
  },
  {
   "cell_type": "markdown",
   "id": "69c80a10-b348-45f1-ab65-1673904640d0",
   "metadata": {},
   "source": [
    "Uma das maneiras mais simples de salvar dados é escrevê-los em um arquivo. **Quando um texto é escrito em um arquivo, o resultado estará disponível depois que você fechar o terminal que contém a saída de seu programa. Podemos analisar a saída depois que um programa acabar de executar e compartilhar os arquivos de saída com outras pessoas também**. Além disso, podemos escrever programas que leiam o texto de volta para a memória e trabalhar com esses dados novamente."
   ]
  },
  {
   "cell_type": "markdown",
   "id": "8a1eba07-ce53-4c77-80e5-9463e40eb96a",
   "metadata": {},
   "source": [
    "### Escrevendo dados em um arquivo vazio"
   ]
  },
  {
   "cell_type": "markdown",
   "id": "edfbced6-b9f5-4939-b585-e5fe6f6a13c8",
   "metadata": {},
   "source": [
    "**Para escrever um texto em um arquivo, chame <code>open()</code> com um segundo argumento que diga a Python que você quer escrever dados no arquivo.**   \n",
    "Para ver como isso funciona, vamos escrever uma mensagem simples e armazená-la em um arquivo em vez de exibi-la na tela:"
   ]
  },
  {
   "cell_type": "code",
   "execution_count": 26,
   "id": "64bc01a8-4fe3-4d28-a1f1-7be22766af4f",
   "metadata": {
    "tags": []
   },
   "outputs": [],
   "source": [
    "filename='programming.txt'\n",
    "with open (filename, 'w') as file_object:\n",
    "    file_object.write(\"I love programming\")"
   ]
  },
  {
   "cell_type": "markdown",
   "id": "2727f694-06ad-421d-b1c4-885ca1b21e45",
   "metadata": {},
   "source": [
    "A chamada a <code>**open()**</code> nesse exemplo tem dois argumentos. O primeiro argumento ainda é o **nome do arquivo** que queremos abrir. O segundo argumento, <code>**'w**'</code>, diz a Python que queremos abrir o arquivo em modo de escrita. **Podemos abrir um arquivo em <code>modo de leitura ('r'), em modo de escrita ('w'), em modo de concatenação ('a') ou em um modo que permita ler e escrever no arquivo ('r+')</code>. Se o argumento de modo for omitido, por padrão Python abrirá o arquivo em modo somente de leitura.**"
   ]
  },
  {
   "cell_type": "markdown",
   "id": "e9d18440-e49e-42b5-9157-dbb8affd28ec",
   "metadata": {},
   "source": [
    "**A função <code>open()</code> cria automaticamente o arquivo no qual você vai escrever caso ele ainda não exista.** No entanto, tome cuidado ao abrir um arquivo em modo de escrita <code>**('w')**</code> porque se o arquivo já existir, Python o apagará antes de devolver o objeto arquivo.\n",
    "**E usamos o <code>método write()</code> no objeto arquivo para escrever uma string nesse arquivo**. Esse programa não tem saída no terminal, mas se abrir o arquivo programming.txt, você verá uma linha: \n",
    "+ **programming.txt I love programming.**\n",
    "\n",
    "Esse arquivo se comporta como qualquer outro arquivo de seu computador. Você pode abri-lo, escrever um novo texto nele, copiar ou colar dados e assim por diante.\n",
    "\n",
    "**NOTA**  \n",
    "**Python escreve apenas strings em um <code>arquivo-texto</code>. Se quiser armazenar dados numéricos em um <code>arquivo-texto</code>, será necessário converter os dados em um formato de string antes usando a função <code>str()</code>.**"
   ]
  },
  {
   "cell_type": "markdown",
   "id": "2ee0bda5-98c7-4a5d-8a92-4b1bcf7ab0a9",
   "metadata": {},
   "source": [
    "### Escrevendo várias linhas"
   ]
  },
  {
   "cell_type": "markdown",
   "id": "00c12265-675c-4075-a53e-78776d0625e2",
   "metadata": {},
   "source": [
    "A <code>**função write()**</code> não acrescenta nenhuma quebra de linha ao texto que você escrever. Portanto, **se escrever mais de uma linha sem incluir caracteres de quebra de linha, seu arquivo poderá não ter a aparência desejada**:"
   ]
  },
  {
   "cell_type": "code",
   "execution_count": 39,
   "id": "84d523cd-761a-47c0-a1b9-c2cc01e696eb",
   "metadata": {
    "tags": []
   },
   "outputs": [],
   "source": [
    "filename = 'programming.txt'\n",
    "with open(filename, 'w') as file_object: \n",
    "    file_object.write(\"I love programming.\") \n",
    "    file_object.write(\"I love creating new games.\")"
   ]
  },
  {
   "cell_type": "markdown",
   "id": "85301235-6486-41cc-a071-6964a2266478",
   "metadata": {
    "tags": []
   },
   "source": [
    "**A inclusão de quebras de linha em suas instruções <code>write()</code> faz cada string aparecer em sua própria linha:**"
   ]
  },
  {
   "cell_type": "code",
   "execution_count": 46,
   "id": "3fd9e95f-7558-4193-8d2b-bd8f0dc874f8",
   "metadata": {
    "tags": []
   },
   "outputs": [],
   "source": [
    "filename = 'programming.txt'\n",
    "with open(filename, 'w') as file_object: \n",
    "    file_object.write(\"I love programming.\\n\") \n",
    "    file_object.write(\"I love creating new games.\\n\")"
   ]
  },
  {
   "cell_type": "markdown",
   "id": "2631e0c9-53a7-4de8-a798-3c42b79fccb9",
   "metadata": {},
   "source": [
    "Podemos também usar **espaços, caracteres de tabulação e linhas em branco para formatar a saída**, exatamente como viemos fazendo com as saídas no terminal."
   ]
  },
  {
   "cell_type": "markdown",
   "id": "6969c87d-0f98-49e0-948e-691067efc349",
   "metadata": {},
   "source": [
    "### Concatenando dados em um arquivo"
   ]
  },
  {
   "cell_type": "markdown",
   "id": "9fc36fb2-db3d-489a-bdfc-85ccc62e4ddb",
   "metadata": {},
   "source": [
    "Se quiser acrescentar conteúdos em um arquivo em vez de sobrescrever o conteúdo existente, você pode abrir o arquivo em <code>**modo de concatenação (a)**</code>. **Ao abrir um arquivo em <code>modo de concatenação (a)</code>, Python não apagará o arquivo antes de devolver o objeto arquivo. Qualquer linha que você escrever no arquivo será adicionada no final. Se o arquivo ainda não existe, Python criará um arquivo vazio para você.**\n",
    "\n",
    "Vamos modificar **'write_message.py'** acrescentando alguns novos motivos pelos quais amamos programar no arquivo existente **'programming.txt'**:"
   ]
  },
  {
   "cell_type": "code",
   "execution_count": 56,
   "id": "ac1f35c8-01ba-4e78-8a0e-99167a46fbfb",
   "metadata": {
    "tags": []
   },
   "outputs": [],
   "source": [
    "filename = 'programming.txt'\n",
    "with open(filename, 'a') as file_object: \n",
    "    file_object.write(\"I also love finding meaning in large datasets.\\n\") \n",
    "    file_object.write(\"I love creating apps that can run in a browser.\\n\")"
   ]
  },
  {
   "cell_type": "markdown",
   "id": "f8b42ec4-d189-4d6b-9dad-902b815f4f9d",
   "metadata": {},
   "source": [
    "Ao final, temos o conteúdo original do arquivo, seguido do novo conteúdo que acabamos de acrescentar."
   ]
  },
  {
   "cell_type": "markdown",
   "id": "26907fad-c2a1-4490-875a-292f4d6e0b72",
   "metadata": {},
   "source": [
    "## **FAÇA VOCÊ MESMO** "
   ]
  },
  {
   "cell_type": "markdown",
   "id": "4882bd57-9250-414a-a950-88767794c188",
   "metadata": {},
   "source": [
    "**10.3 – Convidado:** Escreva um programa que pergunte o nome ao usuário. Quando ele responder, escreva o nome em um arquivo chamado **guest.txt.**"
   ]
  },
  {
   "cell_type": "code",
   "execution_count": 70,
   "id": "bf946b6a-4e16-47a8-9742-9a0c0d3119c9",
   "metadata": {
    "tags": []
   },
   "outputs": [
    {
     "name": "stdin",
     "output_type": "stream",
     "text": [
      "Por favor, digite seu nome:  Denylson Panzo\n"
     ]
    },
    {
     "name": "stdout",
     "output_type": "stream",
     "text": [
      "Nome 'Denylson Panzo' foi salvo no arquivo guest.txt.\n"
     ]
    }
   ],
   "source": [
    "# Pergunta o nome ao usuário\n",
    "nome = input(\"Por favor, digite seu nome: \")\n",
    "\n",
    "# Escreve o nome no arquivo guest.txt\n",
    "with open('guest.txt', 'w') as file:\n",
    "    file.write(nome)\n",
    "\n",
    "# Mensagem de confirmação\n",
    "print(\"Nome '\" + nome + \"' foi salvo no arquivo guest.txt.\")"
   ]
  },
  {
   "cell_type": "markdown",
   "id": "e3be2ebd-6b64-4b3b-8233-f86dc2389aa9",
   "metadata": {},
   "source": [
    "**10.4 – Lista de convidados:** Escreva um laço **while** que pergunte o nome aos usuários. Quando fornecerem seus nomes, apresente uma saudação na tela e acrescente uma linha que registre a visita do usuário em um arquivo chamado **guest_book.txt**. Certifique-se de que cada entrada esteja em uma nova linha do arquivo."
   ]
  },
  {
   "cell_type": "code",
   "execution_count": 72,
   "id": "08f71253-641a-4e69-9c80-de7a5cdf8f56",
   "metadata": {
    "tags": []
   },
   "outputs": [
    {
     "name": "stdin",
     "output_type": "stream",
     "text": [
      "Por favor, digite seu nome (ou digite 'sair' para encerrar):  Bárbara Bergamo\n"
     ]
    },
    {
     "name": "stdout",
     "output_type": "stream",
     "text": [
      "Olá, Bárbara Bergamo! Bem-vindo(a).\n"
     ]
    },
    {
     "name": "stdin",
     "output_type": "stream",
     "text": [
      "Por favor, digite seu nome (ou digite 'sair' para encerrar):  Denylson Panzo\n"
     ]
    },
    {
     "name": "stdout",
     "output_type": "stream",
     "text": [
      "Olá, Denylson Panzo! Bem-vindo(a).\n"
     ]
    },
    {
     "name": "stdin",
     "output_type": "stream",
     "text": [
      "Por favor, digite seu nome (ou digite 'sair' para encerrar):  sair\n"
     ]
    },
    {
     "name": "stdout",
     "output_type": "stream",
     "text": [
      "Registro de visitas atualizado no arquivo guest_book.txt.\n"
     ]
    }
   ],
   "source": [
    "# Abre o arquivo guest_book.txt no modo de acrescentar (append)\n",
    "with open('guest_book.txt', 'a') as file:\n",
    "    while True:\n",
    "        # Pergunta o nome ao usuário\n",
    "        nome = input(\"Por favor, digite seu nome (ou digite 'sair' para encerrar): \")\n",
    "        \n",
    "        # Verifica se o usuário quer sair do laço\n",
    "        if nome.lower() == 'sair':\n",
    "            break\n",
    "        \n",
    "        # Apresenta uma saudação na tela\n",
    "        print(\"Olá, \" + nome + \"! Bem-vindo(a).\")\n",
    "        \n",
    "        # Registra a visita no arquivo\n",
    "        file.write(nome + \" visitou.\\n\")\n",
    "\n",
    "print(\"Registro de visitas atualizado no arquivo guest_book.txt.\")"
   ]
  },
  {
   "cell_type": "markdown",
   "id": "c0c98158-aa8e-435c-a700-677ddb32e925",
   "metadata": {},
   "source": [
    "**10.5 – Enquete sobre programação:** Escreva um laço **while** que pergunte às pessoas por que elas gostam de programação. Sempre que alguém fornecer um motivo, acrescente-o em um arquivo que armazene todas as respostas."
   ]
  },
  {
   "cell_type": "code",
   "execution_count": 75,
   "id": "bebff606-32e9-4482-ae7b-cf2919c342b1",
   "metadata": {
    "tags": []
   },
   "outputs": [
    {
     "name": "stdin",
     "output_type": "stream",
     "text": [
      "Por que você gosta de programação? (ou digite 'sair' para encerrar):  Por que posso criar programas e jogos\n",
      "Por que você gosta de programação? (ou digite 'sair' para encerrar):  para ser cientista de dados\n",
      "Por que você gosta de programação? (ou digite 'sair' para encerrar):  posso ser um criador\n",
      "Por que você gosta de programação? (ou digite 'sair' para encerrar):  sair\n"
     ]
    },
    {
     "name": "stdout",
     "output_type": "stream",
     "text": [
      "Registro de motivos atualizado no arquivo motivos_programacao.txt.\n"
     ]
    }
   ],
   "source": [
    "# Abre o arquivo motivos_programacao.txt no modo de acrescentar (append)\n",
    "with open('motivos_programacao.txt', 'a') as file:\n",
    "    while True:\n",
    "        # Pergunta o motivo ao usuário\n",
    "        motivo = input(\"Por que você gosta de programação? (ou digite 'sair' para encerrar): \")\n",
    "        \n",
    "        # Verifica se o usuário quer sair do laço\n",
    "        if motivo.lower() == 'sair':\n",
    "            break\n",
    "        \n",
    "        # Registra o motivo no arquivo\n",
    "        file.write(motivo + \"\\n\")\n",
    "\n",
    "print(\"Registro de motivos atualizado no arquivo motivos_programacao.txt.\")"
   ]
  },
  {
   "cell_type": "markdown",
   "id": "27d364cd-ab4c-4d4d-939b-029af7b77709",
   "metadata": {},
   "source": [
    "****"
   ]
  },
  {
   "cell_type": "markdown",
   "id": "e99de62d-d3f1-4feb-b6fe-9afa5f715888",
   "metadata": {},
   "source": [
    "## **Exceções**"
   ]
  },
  {
   "cell_type": "markdown",
   "id": "aaa8785d-8762-4e8f-a00c-2c4107387316",
   "metadata": {},
   "source": [
    "**Python usa objetos especiais chamados <code>exceções</code> para administrar erros que surgirem durante a execução de um programa**. Sempre que ocorrer um erro que faça Python não ter certeza do que deve fazer em seguida, um objeto <code>**exceção**</code> será criado. Se você escrever um código que trate a <code>**exceção**</code>, o programa continuará executando. Se a <code>**exceção**</code> não for tratada, o programa será interrompido e um <code>**traceback**</code>, que inclui uma informação sobre a exceção levantada, será exibido.\n",
    "\n",
    "As <code>**exceções**</code> são tratadas com <code>**blocos try-except**</code>. **<code>Um bloco try-except</code> pede que Python faça algo, mas também lhe diz o que deve ser feito se uma <code>exceção</code> for levantada. Ao usar blocos <code>try-except</code>, seus programas continuarão a executar, mesmo que algo comece a dar errado. Em vez de <code>traceback</code>, que podem ser confusos para os usuários lerem, os usuários verão mensagens de erro simpáticas escritas por você.**"
   ]
  },
  {
   "cell_type": "markdown",
   "id": "91883f4d-3b36-4482-a73d-e062344bc19f",
   "metadata": {},
   "source": [
    "### Tratando a <code>**exceção ZeroDivisionError**</code>"
   ]
  },
  {
   "cell_type": "markdown",
   "id": "3fa78bd3-296f-4aad-b054-d296ef88c0c4",
   "metadata": {},
   "source": [
    "**Vamos observar um erro simples, que faz Python levantar uma <code>exceção</code>**. Provavelmente, você sabe que é impossível dividir um número por zero, mas vamos pedir que Python faça isso, de qualquer modo:"
   ]
  },
  {
   "cell_type": "code",
   "execution_count": 89,
   "id": "0ad38b4d-c9cc-42e8-a86a-a79716c39ba5",
   "metadata": {
    "tags": []
   },
   "outputs": [
    {
     "ename": "ZeroDivisionError",
     "evalue": "division by zero",
     "output_type": "error",
     "traceback": [
      "\u001b[0;31m---------------------------------------------------------------------------\u001b[0m",
      "\u001b[0;31mZeroDivisionError\u001b[0m                         Traceback (most recent call last)",
      "Cell \u001b[0;32mIn[89], line 1\u001b[0m\n\u001b[0;32m----> 1\u001b[0m \u001b[38;5;28mprint\u001b[39m(\u001b[38;5;241;43m5\u001b[39;49m\u001b[38;5;241;43m/\u001b[39;49m\u001b[38;5;241;43m0\u001b[39;49m)\n",
      "\u001b[0;31mZeroDivisionError\u001b[0m: division by zero"
     ]
    }
   ],
   "source": [
    "print(5/0)"
   ]
  },
  {
   "cell_type": "markdown",
   "id": "04099cf9-0a27-4a2b-b5ee-d32b0faea337",
   "metadata": {},
   "source": [
    "+ **É claro que Python não pode fazer essa operação, portanto veremos um traceback.**\n",
    "\n",
    "**O erro informado no <code>traceback, ZeroDivisionError</code>, é um objeto <code>exceção</code>. Python cria esse tipo de objeto em resposta a uma situação em que ele não é capaz de fazer o que lhe pedimos. Quando isso acontece, Python interrompe o programa e informa o tipo de exceção levantado.** Podemos usar essa informação para modificar nosso programa. **Diremos a Python o que ele deve fazer quando esse tipo de exceção ocorrer; desse modo, se ela ocorrer novamente, estaremos preparados.**"
   ]
  },
  {
   "cell_type": "markdown",
   "id": "19057b9a-4998-4de4-9d8c-fb863312146d",
   "metadata": {},
   "source": [
    "### Usando blocos <code>**try-except**</code>"
   ]
  },
  {
   "cell_type": "markdown",
   "id": "97c6e557-c68c-4f89-8156-80dd435d0e4c",
   "metadata": {},
   "source": [
    "**Quando achar que um erro pode ocorrer, você poderá usar um <code>**bloco try-except**</code> para tratar a exceção possível de ser levantada**. Dizemos a Python para tentar executar um código e lhe dizemos o que ele deve fazer caso o código resulte em um tipo particular de exceção.\n",
    "\n",
    "Eis a aparência de um bloco <code>**try-except**</code> para tratar a **exceção <code>ZeroDivisionError</code>**:"
   ]
  },
  {
   "cell_type": "code",
   "execution_count": 121,
   "id": "014ac87c-6938-447a-9202-9230fe1a5aae",
   "metadata": {
    "tags": []
   },
   "outputs": [
    {
     "name": "stdout",
     "output_type": "stream",
     "text": [
      "You can't divide by zero!\n"
     ]
    }
   ],
   "source": [
    "try:\n",
    "    print(5 / 0)\n",
    "except ZeroDivisionError:\n",
    "    print(\"You can't divide by zero!\")"
   ]
  },
  {
   "cell_type": "markdown",
   "id": "fc31eab9-6633-4727-af2a-ebe99f58bf61",
   "metadata": {},
   "source": [
    "Colocamos **print(5/0)** – a linha que causou o erro – em um bloco <code>**try**</code>. **Se o código em um bloco <code>try</code> funcionar, Python ignorará o bloco <code>except</code>. Se o código no bloco <code>try</code> causar um erro, o interpretador procurará um bloco <code>except</code> cujo erro coincida com aquele levantado e executará o código desse bloco.**"
   ]
  },
  {
   "cell_type": "markdown",
   "id": "e6a35464-1df0-49c0-9787-85d9da0deb58",
   "metadata": {},
   "source": [
    "Nesse exemplo, **o código no bloco <code>try</code> gera um <code>ZeroDivisionError</code>, portanto Python procura um bloco code>except</code> que lhe diga como deve responder**. O interpretador então executa o código desse bloco e o usuário vê uma mensagem de erro simpática no lugar de um <code>**traceback**</code>: You can't divide by zero!\n",
    "\n",
    "**Se houver mais código depois do bloco <code>try-except</code>, o programa continuará executando, pois dissemos a Python como o erro deve ser tratado**. Vamos observar um exemplo em que a captura de um erro permite que um programa continue executando."
   ]
  },
  {
   "cell_type": "markdown",
   "id": "f1b97932-1afe-445e-9d5a-4aad67b00bc7",
   "metadata": {},
   "source": [
    "### Usando <code>**exceções para evitar falhas**</code>"
   ]
  },
  {
   "cell_type": "markdown",
   "id": "5a4c33ed-240b-4c7b-bed5-67f9ccb463bd",
   "metadata": {},
   "source": [
    "**Tratar erros de forma correta é importante, em especial quando o programa tiver outras atividades para fazer depois que o erro ocorrer**. Isso acontece com frequência em programas que pedem dados de <code>**entrada aos usuários**</code>. **Se o programa responder a entradas inválidas de modo apropriado, ele poderá pedir mais entradas válidas em vez de causar uma falha.**\n",
    "\n",
    "Vamos criar uma calculadora simples que faça apenas divisões:\n"
   ]
  },
  {
   "cell_type": "code",
   "execution_count": 139,
   "id": "6c8123ff-8781-4f14-b200-62ccac328ed9",
   "metadata": {
    "tags": []
   },
   "outputs": [
    {
     "name": "stdout",
     "output_type": "stream",
     "text": [
      "Give me two numbers, and I'll divide them.\n",
      "Enter 'q' to quit.\n"
     ]
    },
    {
     "name": "stdin",
     "output_type": "stream",
     "text": [
      "\n",
      "First number:  2\n",
      "Second number:  2\n"
     ]
    },
    {
     "name": "stdout",
     "output_type": "stream",
     "text": [
      "1.0\n"
     ]
    },
    {
     "name": "stdin",
     "output_type": "stream",
     "text": [
      "\n",
      "First number:  10\n",
      "Second number:  5\n"
     ]
    },
    {
     "name": "stdout",
     "output_type": "stream",
     "text": [
      "2.0\n"
     ]
    },
    {
     "name": "stdin",
     "output_type": "stream",
     "text": [
      "\n",
      "First number:  1\n",
      "Second number:  0\n"
     ]
    },
    {
     "ename": "ZeroDivisionError",
     "evalue": "division by zero",
     "output_type": "error",
     "traceback": [
      "\u001b[0;31m---------------------------------------------------------------------------\u001b[0m",
      "\u001b[0;31mZeroDivisionError\u001b[0m                         Traceback (most recent call last)",
      "Cell \u001b[0;32mIn[139], line 11\u001b[0m\n\u001b[1;32m      9\u001b[0m \u001b[38;5;28;01mif\u001b[39;00m second_number\u001b[38;5;241m==\u001b[39m\u001b[38;5;124m'\u001b[39m\u001b[38;5;124mq\u001b[39m\u001b[38;5;124m'\u001b[39m:\n\u001b[1;32m     10\u001b[0m     \u001b[38;5;28;01mbreak\u001b[39;00m\n\u001b[0;32m---> 11\u001b[0m answer \u001b[38;5;241m=\u001b[39m \u001b[38;5;28;43mint\u001b[39;49m\u001b[43m(\u001b[49m\u001b[43mfirst_number\u001b[49m\u001b[43m)\u001b[49m\u001b[43m \u001b[49m\u001b[38;5;241;43m/\u001b[39;49m\u001b[43m \u001b[49m\u001b[38;5;28;43mint\u001b[39;49m\u001b[43m(\u001b[49m\u001b[43msecond_number\u001b[49m\u001b[43m)\u001b[49m\n\u001b[1;32m     12\u001b[0m \u001b[38;5;28mprint\u001b[39m(answer)\n",
      "\u001b[0;31mZeroDivisionError\u001b[0m: division by zero"
     ]
    }
   ],
   "source": [
    "print(\"Give me two numbers, and I'll divide them.\")\n",
    "print(\"Enter 'q' to quit.\")\n",
    "\n",
    "while True:\n",
    "    first_number = input(\"\\nFirst number: \")\n",
    "    if first_number=='q':\n",
    "        break\n",
    "    second_number = input(\"Second number: \")\n",
    "    if second_number=='q':\n",
    "        break\n",
    "    answer = int(first_number) / int(second_number)\n",
    "    print(answer)"
   ]
  },
  {
   "cell_type": "markdown",
   "id": "97f8681e-04bc-4752-a86a-2e7a19253e45",
   "metadata": {},
   "source": [
    "### Bloco <code>**else**</code>"
   ]
  },
  {
   "cell_type": "markdown",
   "id": "029d98f3-f8f1-4844-8ba0-c962a011e33f",
   "metadata": {},
   "source": [
    "Podemos deixar esse programa mais resistente a erros colocando a linha capaz de produzir erros em um bloco <code>**try-except**</code>. **O erro ocorre na linha que calcula a divisão, portanto é aí que colocaremos o bloco <code>try-except</code>**. Esse exemplo também inclui um bloco <code>**else**</code>. **Qualquer código que dependa do bloco <code>try</code> executar com sucesso deve ser colocado no bloco <code>else</code>**:"
   ]
  },
  {
   "cell_type": "code",
   "execution_count": 182,
   "id": "d1a4e1e4-13c8-44c1-98bc-dc4936d37247",
   "metadata": {
    "tags": []
   },
   "outputs": [
    {
     "name": "stdout",
     "output_type": "stream",
     "text": [
      "Give me two numbers, and I'll divide them.\n",
      "Enter 'q' to quit.\n"
     ]
    },
    {
     "name": "stdin",
     "output_type": "stream",
     "text": [
      "\n",
      "First number:  4\n",
      "Second number:  2\n"
     ]
    },
    {
     "name": "stdout",
     "output_type": "stream",
     "text": [
      "2.0\n"
     ]
    },
    {
     "name": "stdin",
     "output_type": "stream",
     "text": [
      "\n",
      "First number:  5\n",
      "Second number:  0\n"
     ]
    },
    {
     "name": "stdout",
     "output_type": "stream",
     "text": [
      "You can't divide by 0!\n"
     ]
    },
    {
     "name": "stdin",
     "output_type": "stream",
     "text": [
      "\n",
      "First number:  q\n"
     ]
    }
   ],
   "source": [
    "print(\"Give me two numbers, and I'll divide them.\")\n",
    "print(\"Enter 'q' to quit.\")\n",
    "\n",
    "while True: \n",
    "    first_number = input(\"\\nFirst number: \") \n",
    "    if first_number =='q':\n",
    "        break \n",
    "    second_number = input(\"Second number: \") \n",
    "    try:\n",
    "        answer = int(first_number) / int(second_number) \n",
    "    except ZeroDivisionError: \n",
    "        print(\"You can't divide by 0!\")\n",
    "    else: \n",
    "        print(answer)"
   ]
  },
  {
   "cell_type": "markdown",
   "id": "b02505cc-9fee-4dfc-95cd-3b60653fcda8",
   "metadata": {},
   "source": [
    "O bloco <code>**except**</code> diz como Python deve responder quando um <code>**ZeroDivisionError**</code> ocorrer. **Se a instrução <code>try</code> não for bem-sucedida por causa de um erro de divisão por zero, mostraremos uma mensagem simpática informando o usuário de que modo esse tipo de erro pode ser evitado**. O programa continua executando e o usuário jamais verá um traceback. \n",
    "\n",
    "**O bloco <code>try-except-else</code> funciona assim:** Python tenta executar o código que está na instrução <code>try</code>. **O único código que deve estar em uma instrução <code>**try**</code> é aquele que pode fazer uma <code>exceção</code> ser levantada. Às vezes, você terá um código adicional que deverá ser executado somente se o bloco <code>try</code> tiver sucesso; esse código deve estar no bloco <code>else</code>.** O bloco <code>**except**</code> diz a Python o que ele deve fazer, caso uma determinada exceção ocorra quando ele tentar executar o código que está na instrução <code>**try**</code>.\n",
    "\n",
    "Ao prever possíveis fontes de erros, podemos escrever programas robustos, que continuarão a executar mesmo quando encontrarem dados inválidos ou se depararem com recursos ausentes. Seu código será resistente a erros inocentes do usuário e a ataques maliciosos."
   ]
  },
  {
   "cell_type": "markdown",
   "id": "d716e0d7-7b60-41a8-9044-f3656a9176ee",
   "metadata": {},
   "source": [
    "### Tratando a exceção <code>**FileNotFoundError**</code>"
   ]
  },
  {
   "cell_type": "markdown",
   "id": "d16f396e-669a-4590-9a9b-8869081cc8b2",
   "metadata": {},
   "source": [
    "**Um problema comum ao trabalhar com arquivos é o tratamento de arquivos ausentes. O arquivo que você está procurando pode estar em outro lugar, o nome do arquivo pode estar escrito de forma incorreta ou o arquivo talvez simplesmente não exista**. Podemos tratar todas essas situações de um modo simples com um bloco <code>**try-except**</code>.\n",
    "Vamos tentar ler um arquivo que não existe. O programa a seguir tenta ler o conteúdo de Alice in Wonderland **(Alice no país das maravilhas)**, mas não salvei o arquivo **'alice.txt'** no mesmo diretório em que está **'alice.py'**:"
   ]
  },
  {
   "cell_type": "code",
   "execution_count": 191,
   "id": "e97396c3-0364-45d7-8008-81aa48dc2898",
   "metadata": {
    "tags": []
   },
   "outputs": [
    {
     "ename": "FileNotFoundError",
     "evalue": "[Errno 2] No such file or directory: 'alice.txt'",
     "output_type": "error",
     "traceback": [
      "\u001b[0;31m---------------------------------------------------------------------------\u001b[0m",
      "\u001b[0;31mFileNotFoundError\u001b[0m                         Traceback (most recent call last)",
      "Cell \u001b[0;32mIn[191], line 2\u001b[0m\n\u001b[1;32m      1\u001b[0m filename \u001b[38;5;241m=\u001b[39m \u001b[38;5;124m'\u001b[39m\u001b[38;5;124malice.txt\u001b[39m\u001b[38;5;124m'\u001b[39m\n\u001b[0;32m----> 2\u001b[0m \u001b[38;5;28;01mwith\u001b[39;00m \u001b[38;5;28;43mopen\u001b[39;49m\u001b[43m(\u001b[49m\u001b[43mfilename\u001b[49m\u001b[43m)\u001b[49m \u001b[38;5;28;01mas\u001b[39;00m f_obj: \n\u001b[1;32m      3\u001b[0m     contents \u001b[38;5;241m=\u001b[39m f_obj\u001b[38;5;241m.\u001b[39mread()\n",
      "File \u001b[0;32m~/.local/lib/python3.11/site-packages/IPython/core/interactiveshell.py:324\u001b[0m, in \u001b[0;36m_modified_open\u001b[0;34m(file, *args, **kwargs)\u001b[0m\n\u001b[1;32m    317\u001b[0m \u001b[38;5;28;01mif\u001b[39;00m file \u001b[38;5;129;01min\u001b[39;00m {\u001b[38;5;241m0\u001b[39m, \u001b[38;5;241m1\u001b[39m, \u001b[38;5;241m2\u001b[39m}:\n\u001b[1;32m    318\u001b[0m     \u001b[38;5;28;01mraise\u001b[39;00m \u001b[38;5;167;01mValueError\u001b[39;00m(\n\u001b[1;32m    319\u001b[0m         \u001b[38;5;124mf\u001b[39m\u001b[38;5;124m\"\u001b[39m\u001b[38;5;124mIPython won\u001b[39m\u001b[38;5;124m'\u001b[39m\u001b[38;5;124mt let you open fd=\u001b[39m\u001b[38;5;132;01m{\u001b[39;00mfile\u001b[38;5;132;01m}\u001b[39;00m\u001b[38;5;124m by default \u001b[39m\u001b[38;5;124m\"\u001b[39m\n\u001b[1;32m    320\u001b[0m         \u001b[38;5;124m\"\u001b[39m\u001b[38;5;124mas it is likely to crash IPython. If you know what you are doing, \u001b[39m\u001b[38;5;124m\"\u001b[39m\n\u001b[1;32m    321\u001b[0m         \u001b[38;5;124m\"\u001b[39m\u001b[38;5;124myou can use builtins\u001b[39m\u001b[38;5;124m'\u001b[39m\u001b[38;5;124m open.\u001b[39m\u001b[38;5;124m\"\u001b[39m\n\u001b[1;32m    322\u001b[0m     )\n\u001b[0;32m--> 324\u001b[0m \u001b[38;5;28;01mreturn\u001b[39;00m \u001b[43mio_open\u001b[49m\u001b[43m(\u001b[49m\u001b[43mfile\u001b[49m\u001b[43m,\u001b[49m\u001b[43m \u001b[49m\u001b[38;5;241;43m*\u001b[39;49m\u001b[43margs\u001b[49m\u001b[43m,\u001b[49m\u001b[43m \u001b[49m\u001b[38;5;241;43m*\u001b[39;49m\u001b[38;5;241;43m*\u001b[39;49m\u001b[43mkwargs\u001b[49m\u001b[43m)\u001b[49m\n",
      "\u001b[0;31mFileNotFoundError\u001b[0m: [Errno 2] No such file or directory: 'alice.txt'"
     ]
    }
   ],
   "source": [
    "filename = 'alice.txt'\n",
    "with open(filename) as f_obj: \n",
    "    contents = f_obj.read()"
   ]
  },
  {
   "cell_type": "markdown",
   "id": "adbec1d1-0501-4c32-a1a2-2ce6038a572a",
   "metadata": {},
   "source": [
    "A última linha do <code>**traceback**</code> informa um <code>**FileNotFoundError**</code>: essa é a <code>**exceção**</code> criada por Python quando não encontra o arquivo que está tentando abrir. Nesse exemplo, **a função <code>open()</code> gera o erro, portanto, para tratá-lo, o bloco <code>try</code> tem início imediatamente antes da linha que contém essa função**:"
   ]
  },
  {
   "cell_type": "code",
   "execution_count": 203,
   "id": "0db5fe7b-55f2-4156-bb5e-5ecfdd592633",
   "metadata": {
    "tags": []
   },
   "outputs": [
    {
     "name": "stdout",
     "output_type": "stream",
     "text": [
      "Sorry, the file alice.txt does not exist.\n"
     ]
    }
   ],
   "source": [
    "filename = 'alice.txt'\n",
    "try:\n",
    "    with open(filename) as f_obj: \n",
    "        contents = f_obj.read() \n",
    "except FileNotFoundError: \n",
    "    msg = \"Sorry, the file \" + filename + \" does not exist.\"\n",
    "    print(msg)"
   ]
  },
  {
   "cell_type": "markdown",
   "id": "fd21d153-a695-4d85-9f96-77ac39c814e1",
   "metadata": {},
   "source": [
    "Nesse exemplo, **o código no bloco <code>try</code> gera um <code>FileNotFoundError</code>, portanto Python procura um bloco <code>except</code> que trate esse erro. O interpretador então executa o código que está nesse bloco e o resultado é uma mensagem de erro simpática no lugar de um <code>traceback</code>.**\n",
    "\n",
    "O programa não tem mais nada a fazer caso o arquivo não exista, portanto o código de tratamento de erro não acrescenta muito a esse programa. Vamos expandir esse exemplo e ver como o tratamento de exceções pode ajudar quando trabalhamos com mais de um arquivo."
   ]
  },
  {
   "cell_type": "markdown",
   "id": "ae3d9c8f-140e-4bdd-8a2d-a99c8f9b7e7d",
   "metadata": {},
   "source": [
    "### Analisando textos"
   ]
  },
  {
   "cell_type": "markdown",
   "id": "cea3fb2e-434f-43c1-a12c-2ea3773de355",
   "metadata": {},
   "source": [
    "**Podemos analisar <code>arquivos-texto</code> que contenham blocos inteiros. Muitas obras clássicas de literatura estão disponíveis como arquivos-texto simples, pois estão em domínio público**. Os textos usados nesta seção foram extraídos do Projeto Gutenberg (http://gutenberg.org/). O **Projeto Gutenberg** mantém uma coleção de obras literárias disponíveis em domínio público, e é um ótimo recurso se você estiver interessado em trabalhar com textos literários em seus projetos de \n",
    "programação.\n",
    "\n",
    "Vamos obter o texto de ***Alice in Wonderland* e tentar contar o número de palavras do texto**. Usaremos **o método de <code>string split()</code>, que cria uma lista de palavras a partir de uma string**. Eis o que <code>**split()**</code> faz com uma string que contém apenas o título **\"Alice in Wonderland\"**:"
   ]
  },
  {
   "cell_type": "code",
   "execution_count": 210,
   "id": "15596e3d-304b-402b-80f9-576e6b9033cc",
   "metadata": {
    "tags": []
   },
   "outputs": [
    {
     "data": {
      "text/plain": [
       "['Alice', 'in', 'wonderland']"
      ]
     },
     "execution_count": 210,
     "metadata": {},
     "output_type": "execute_result"
    }
   ],
   "source": [
    "title = \"Alice in wonderland\"\n",
    "title.split()"
   ]
  },
  {
   "cell_type": "markdown",
   "id": "1bed002f-14ba-430d-94f2-413df5f958f5",
   "metadata": {},
   "source": [
    "**O método <code>split()</code> separa uma string em partes sempre que encontra um espaço, e armazena todas as partes da string em uma <code>lista</code>**. O resultado é uma **lista de palavras da string**, embora algumas pontuações possam também aparecer com determinadas palavras. **Para contar o número de palavras em *Alice in Wonderland*, usaremos <code>split()</code> no texto todo**. Em seguida, contaremos os itens da lista para ter uma ideia geral da quantidade de palavras no texto:"
   ]
  },
  {
   "cell_type": "code",
   "execution_count": 228,
   "id": "9f75dc05-2b9b-4177-a9da-6cd817e01fba",
   "metadata": {
    "tags": []
   },
   "outputs": [
    {
     "name": "stdout",
     "output_type": "stream",
     "text": [
      "The file alice.txt has about 30389 words.\n"
     ]
    }
   ],
   "source": [
    "filename = 'alice.txt'\n",
    "try: \n",
    "    with open(filename) as f_obj: \n",
    "        contents = f_obj.read() \n",
    "except FileNotFoundError: \n",
    "        msg = \"Sorry, the file \" + filename + \" does not exist.\"\n",
    "        print(msg) \n",
    "else:\n",
    "# Conta o número aproximado de palavras no arquivo\n",
    "    words = contents.split() \n",
    "    num_words = len(words) \n",
    "    print(\"The file \" + filename + \" has about \" + str(num_words) + \" words.\")"
   ]
  },
  {
   "cell_type": "markdown",
   "id": "a5816d97-e364-42ae-b540-af58ba7996b0",
   "metadata": {},
   "source": [
    "Em usamos a string **contents**, que agora contém todo o texto de **'Alice in Wonderland'** como uma string longa, e aplicamos o método <code>**split()**</code> para obter uma lista de todas as palavras do livro. **Quando usamos <code>len()</code> nessa lista para verificar o seu tamanho, obtemos uma boa aproximação do número de palavras na string original**. E exibimos uma frase que informa quantas palavras encontramos no arquivo. **Esse código é colocado no bloco <code>else</code> porque funcionará somente se o código no bloco <code>try</code> for executado com sucesso.**\n",
    "\n",
    "A contagem é um pouco alta devido a informações extras fornecidas pela editora no <code>**arquivo-texto**</code> usado aqui, mas é uma boa aproximação do tamanho de Alice in Wonderland."
   ]
  },
  {
   "cell_type": "markdown",
   "id": "8eb454c3-e9b1-4ded-bc58-a11135d2fc48",
   "metadata": {},
   "source": [
    "### Trabalhando com vários arquivos"
   ]
  },
  {
   "cell_type": "markdown",
   "id": "23b53422-0f2f-4323-b8fe-503ac06acf5c",
   "metadata": {},
   "source": [
    "**Vamos acrescentar outros livros para analisar**. Porém, antes disso, vamos passar a parte principal desse programa para uma função chamada **'count_words()'**. Com isso, será mais fácil fazer a análise para diversos livros:"
   ]
  },
  {
   "cell_type": "code",
   "execution_count": 236,
   "id": "9c1e2582-2a30-4f08-9a3a-25cd1c164810",
   "metadata": {
    "tags": []
   },
   "outputs": [
    {
     "name": "stdout",
     "output_type": "stream",
     "text": [
      "The file alice.txt has about 30389 words.\n"
     ]
    }
   ],
   "source": [
    "def count_words(filename): \n",
    "    \"\"\"Conta o número aproximado de palavras em um arquivo.\"\"\"\n",
    "try: \n",
    "    with open(filename) as f_obj: \n",
    "        contents = f_obj.read() \n",
    "except FileNotFoundError: \n",
    "    msg = \"Sorry, the file \" + filename + \" does not exist.\"\n",
    "    print(msg) \n",
    "else: \n",
    "    # Conta o número aproximado de palavras no arquivo \n",
    "    words = contents.split() \n",
    "    num_words = len(words) \n",
    "    print(\"The file \" + filename + \" has about \" + str(num_words) + \" words.\")\n",
    "    filename = 'alice.txt'\n",
    "    count_words(filename)"
   ]
  },
  {
   "cell_type": "markdown",
   "id": "953517ab-3bb7-41ef-b900-aff20789675b",
   "metadata": {},
   "source": [
    "**A maior parte desse código não foi alterada. Simplesmente, indentamos o código e o movemos para o corpo de 'count_words()'. Manter os comentários atualizados é um bom hábito quando modificamos um programa; assim, transformamos o comentário em uma <code>docstring</code> e o alteramos um pouco.**\n",
    "\n",
    "Agora podemos escrever um laço simples para contar as palavras de qualquer texto que quisermos analisar. **Fazemos isso armazenando os nomes dos arquivos que desejamos analisar em uma lista e, em seguida, chamando count_words() para cada arquivo da lista**. Vamos experimentar contar as palavras das **obras Alice in Wonderland, Siddhartha, Moby Dick e Little Women**, todas disponíveis em domínio público. Deixei **siddhartha.txt** fora do diretório que contém **'word_count'**.py de propósito para que possamos ver como nosso programa trata um arquivo ausente de modo apropriado**:"
   ]
  },
  {
   "cell_type": "code",
   "execution_count": 6,
   "id": "0731c0cd-c297-449a-9b04-4196a0fc570f",
   "metadata": {
    "tags": []
   },
   "outputs": [
    {
     "name": "stdout",
     "output_type": "stream",
     "text": [
      "The file alice.txt has about 30389 words.\n",
      "Sorry, the file siddhartha.txt does not exist.\n",
      "The file moby_dick.txt has about 215693 words.\n",
      "The file little_women.txt has about 189138 words.\n"
     ]
    }
   ],
   "source": [
    "def count_words(filename): \n",
    "    \"\"\"Conta o número aproximado de palavras em um arquivo.\"\"\"\n",
    "    try: \n",
    "        with open(filename) as f_obj: \n",
    "            contents = f_obj.read() \n",
    "    except FileNotFoundError: \n",
    "        msg = \"Sorry, the file \" + filename + \" does not exist.\"\n",
    "        print(msg) \n",
    "    else: \n",
    "        # Conta o número aproximado de palavras no arquivo \n",
    "        words = contents.split() \n",
    "        num_words = len(words) \n",
    "        print(\"The file \" + filename + \" has about \" + str(num_words) + \" words.\")\n",
    "\n",
    "# Lista de arquivos para verificar\n",
    "filenames = ['alice.txt', 'siddhartha.txt', 'moby_dick.txt', 'little_women.txt']\n",
    "\n",
    "# Itera sobre cada arquivo na lista e conta as palavras\n",
    "for filename in filenames:\n",
    "    count_words(filename)"
   ]
  },
  {
   "cell_type": "markdown",
   "id": "713c09c1-fa81-4750-84e1-b4c96ef418cf",
   "metadata": {},
   "source": [
    "O uso do bloco <code>**try-except**</code> nesse exemplo oferece duas vantagens significativas. **Evitamos que nossos usuários vejam um <code>traceback</code> e deixamos o programa continuar a análise dos textos que puder encontrar. Se não capturássemos e erro <code>FileNotFoundError</code> gerado por 'siddhartha.txt'**, o usuário veria um  <code>**traceback**</code> completo e o programa pararia de executar após tentar analisar **'Siddhartha'. Moby Dick e Little Women não seriam analisados.**"
   ]
  },
  {
   "cell_type": "markdown",
   "id": "81f138c4-c967-41b1-8d5a-abb7ad83e31b",
   "metadata": {},
   "source": [
    "### Falhando silenciosamente"
   ]
  },
  {
   "cell_type": "markdown",
   "id": "e6af1874-78c2-4266-98b4-93a933ea8da6",
   "metadata": {},
   "source": [
    "No exemplo anterior, informamos nossos usuários que um dos arquivos estava indisponível. Porém, não precisamos informar todas as exceções capturadas. Às vezes, queremos que o programa falhe silenciosamente quando uma exceção ocorrer e continue como se nada tivesse acontecido. **Para fazer um programa falhar em silêncio, escreva um bloco <code>try</code> como seria feito normalmente, mas diga de forma explícita a Python para não fazer nada no bloco <code>except</code>**. Python tem uma instrução **<code>pass</code> que lhe diz para não fazer nada em um bloco**:"
   ]
  },
  {
   "cell_type": "code",
   "execution_count": 66,
   "id": "de8f1e68-d6be-4166-a35f-1d6d33c5252f",
   "metadata": {
    "tags": []
   },
   "outputs": [
    {
     "name": "stdout",
     "output_type": "stream",
     "text": [
      "The file alice.txt has about 30389 words.\n",
      "The file moby_dick.txt has about 215693 words.\n",
      "The file little_women.txt has about 189138 words.\n"
     ]
    }
   ],
   "source": [
    "def count_words(filename): \n",
    "    \"\"\"Conta o número aproximado de palavras em um arquivo.\"\"\"\n",
    "    try: \n",
    "        with open(filename) as f_obj: \n",
    "            contents = f_obj.read() \n",
    "    except FileNotFoundError: \n",
    "        pass  # Ignora o erro silenciosamente\n",
    "    else: \n",
    "        # Conta o número aproximado de palavras no arquivo \n",
    "        words = contents.split() \n",
    "        num_words = len(words) \n",
    "        print(\"The file \" + filename + \" has about \" + str(num_words) + \" words.\")\n",
    "\n",
    "# Lista de arquivos para verificar\n",
    "filenames = ['alice.txt', 'siddhartha.txt', 'moby_dick.txt', 'little_women.txt']\n",
    "\n",
    "# Itera sobre cada arquivo na lista e conta as palavras\n",
    "for filename in filenames:\n",
    "    count_words(filename)"
   ]
  },
  {
   "cell_type": "markdown",
   "id": "74d0be0b-0270-4dcb-b3b0-74ba01185eba",
   "metadata": {},
   "source": [
    "**Agora, quando um <code>FileNotFoundError</code> é levantado, o código no bloco <code>except</code> é executado, mas nada acontece. Nenhum <code>traceback</code> é gerado e não há nenhuma saída em resposta ao erro levantado**. Os usuários veem os contadores de palavras para cada arquivo existente, mas não há indicação sobre um arquivo não encontrado.\n",
    "\n",
    "A **instrução <code>pass</code> também atua como um marcador. É um lembrete de que você optou por não fazer nada em um ponto específico da execução de seu programa, mas talvez queira fazer algo nesse local, no futuro**. Por exemplo, nesse programa, podemos decidir escrever os nomes de qualquer arquivo ausente em um arquivo chamado **'missing_files.txt'**. Nossos usuários não verão esse arquivo, mas poderemos lê-lo e tratar qualquer texto ausente."
   ]
  },
  {
   "cell_type": "markdown",
   "id": "bc1c036c-d329-446a-a888-259f3142d18b",
   "metadata": {},
   "source": [
    "### Decidindo quais erros devem ser informados"
   ]
  },
  {
   "cell_type": "markdown",
   "id": "4da6f432-7f90-46ac-a112-60ce1795061e",
   "metadata": {},
   "source": [
    "**Como sabemos quando devemos informar um erro aos usuários e quando devemos falhar silenciosamente?** Se os usuários souberem quais textos devem ser analisados, poderão apreciar uma mensagem que lhes informe por que alguns textos não foram analisados. **Se os usuários esperam ver alguns resultados, mas não sabem quais livros deveriam ser analisados, talvez não precisem saber que alguns textos estavam indisponíveis**. Dar informações que os usuários não estejam esperando pode reduzir a usabilidade de seu programa. **As estruturas de tratamento de erros de Python permitem ter um controle minucioso sobre o que você deve compartilhar com os usuários quando algo sair errado; cabe a você decidir a quantidade de informações a serem compartilhadas.**\n",
    "\n",
    "Um código bem escrito, testado de modo apropriado, não será muito suscetível a **erros internos, como erros de sintaxe ou de lógica**. Contudo, sempre que seu programa depender de **algo externo**, por exemplo, de **<code>uma entrada de usuário, da existência de um arquivo ou da disponibilidade de uma conexão de rede</code>, existe a possibilidade de uma exceção ser levantada**. Um pouco de experiência ajudará você a saber em que pontos deverá incluir blocos de tratamento de exceções em seu programa e a quantidade de informações que deverá ser fornecida aos usuários sobre os erros que ocorrerem."
   ]
  },
  {
   "cell_type": "markdown",
   "id": "e3b2163c-66b1-476e-91ea-f5c6f3a99c91",
   "metadata": {},
   "source": [
    "## **FAÇA VOCÊ MESMO**"
   ]
  },
  {
   "cell_type": "markdown",
   "id": "26afabb6-7b93-46ea-a447-1131fdb52088",
   "metadata": {},
   "source": [
    "**10.6 – Adição:** Um problema comum quando pedir entradas numéricas ocorre quando as pessoas fornecem texto no lugar de números. Ao tentar converter a entrada para um **int**, você obterá um **TypeError**. Escreva um programa que peça dois números ao usuário. Some-os e mostre o resultado. Capture o **TypeError** caso algum dos valores de entrada não seja um número e apresente uma mensagem de erro simpática. Teste seu programa fornecendo dois números e, em seguida, digite um texto no lugar de um número."
   ]
  },
  {
   "cell_type": "code",
   "execution_count": 140,
   "id": "1e7c5ba1-4613-4cf8-af8e-e4e5b8b61e2d",
   "metadata": {
    "tags": []
   },
   "outputs": [
    {
     "name": "stdout",
     "output_type": "stream",
     "text": [
      "Let's add two numbers.\n"
     ]
    },
    {
     "name": "stdin",
     "output_type": "stream",
     "text": [
      "Enter the first number:  r\n",
      "Enter the second number:  q\n"
     ]
    },
    {
     "name": "stdout",
     "output_type": "stream",
     "text": [
      "Oops! One of the inputs is not a valid number. Please enter valid numbers.\n"
     ]
    }
   ],
   "source": [
    "print(\"Let's add two numbers.\")\n",
    "\n",
    "# Pede dois números ao usuário\n",
    "first_number = input(\"Enter the first number: \")\n",
    "second_number = input(\"Enter the second number: \")\n",
    "\n",
    "try:\n",
    "    # Converte as entradas para inteiros\n",
    "    result = int(first_number) + int(second_number)\n",
    "except ValueError:\n",
    "    # Captura e trata a exceção caso as entradas não sejam números válidos\n",
    "    print(\"Oops! One of the inputs is not a valid number. Please enter valid numbers.\")\n",
    "else:\n",
    "    # Mostra o resultado da soma\n",
    "    print(\"The sum of \" + first_number + \" and \" + second_number + \" is \" + str(result) + \".\")"
   ]
  },
  {
   "cell_type": "markdown",
   "id": "da106f61-7308-40dd-a959-8797c6026825",
   "metadata": {},
   "source": [
    "**10.7 – Calculadora para adição:** Coloque o código do Exercício 10.6 em um laço **while** para que o usuário possa continuar fornecendo números, mesmo se cometerem um erro e digitarem um texto no lugar de um número."
   ]
  },
  {
   "cell_type": "code",
   "execution_count": 134,
   "id": "395f4ea5-f147-4533-9083-488d717f8aeb",
   "metadata": {
    "tags": []
   },
   "outputs": [
    {
     "name": "stdout",
     "output_type": "stream",
     "text": [
      "Let's add two numbers.\n",
      "Enter 'q' to quit.\n"
     ]
    },
    {
     "name": "stdin",
     "output_type": "stream",
     "text": [
      "\n",
      "First number:  q\n"
     ]
    }
   ],
   "source": [
    "print(\"Let's add two numbers.\")\n",
    "print(\"Enter 'q' to quit.\")\n",
    "\n",
    "while True:\n",
    "    first_number = input(\"\\nFirst number: \")\n",
    "    if first_number.lower() == 'q':\n",
    "        break\n",
    "    \n",
    "    second_number = input(\"Second number: \")\n",
    "    if second_number.lower() == 'q':\n",
    "        break\n",
    "    \n",
    "    try:\n",
    "        # Converte as entradas para inteiros\n",
    "        first_number = int(first_number)\n",
    "        second_number = int(second_number)\n",
    "        \n",
    "        # Soma os números\n",
    "        result = first_number + second_number\n",
    "    except ValueError:\n",
    "        # Captura e trata a exceção caso as entradas não sejam números válidos\n",
    "        print(\"Oops! You entered a non-numeric value. Please enter valid numbers.\")\n",
    "        continue  # Continua o loop para solicitar novos números\n",
    "    else:\n",
    "        # Mostra o resultado da soma\n",
    "        print(\"The sum of \" + str(first_number) + \" and \" + str(second_number) + \" is \" + str(result) + \".\")"
   ]
  },
  {
   "cell_type": "markdown",
   "id": "1215aa59-78fd-473a-887e-8f676441a499",
   "metadata": {},
   "source": [
    "**10.8 – Gatos e cachorros:** Crie dois arquivos, **cats.txt e dogs.txt**. Armazene pelo menos três nomes de gatos no primeiro arquivo e três nomes de cachorro no segundo arquivo. Escreva um programa que tente ler esses arquivos e mostre o conteúdo do arquivo na tela. Coloque seu código em um bloco **try-except** para capturar o erro **FileNotFound** e apresente uma mensagem simpática caso o arquivo não esteja presente. Mova um dos arquivos para um local diferente de seu sistema e garanta que o código no bloco except seja executado de forma apropriada."
   ]
  },
  {
   "cell_type": "code",
   "execution_count": 150,
   "id": "d2a3f57b-9644-4b3e-b641-03e58cabc8aa",
   "metadata": {
    "tags": []
   },
   "outputs": [
    {
     "name": "stdout",
     "output_type": "stream",
     "text": [
      "Sorry, the file cats.txt does not exist. Please check the file location.\n",
      "\n",
      "Contents of dogs.txt:\n",
      "marley\n",
      "lilica\n",
      "kurica\n"
     ]
    }
   ],
   "source": [
    "def read_file(filename):\n",
    "    \"\"\"Tenta ler um arquivo e mostrar seu conteúdo na tela.\"\"\"\n",
    "    try:\n",
    "        with open(filename, 'r') as file:\n",
    "            contents = file.read()\n",
    "            print(f\"\\nContents of {filename}:\")\n",
    "            print(contents)\n",
    "    except FileNotFoundError:\n",
    "        print(f\"Sorry, the file {filename} does not exist. Please check the file location.\")\n",
    "\n",
    "# Lista de arquivos para ler\n",
    "filenames = ['cats.txt', 'dogs.txt']\n",
    "\n",
    "# Itera sobre cada arquivo na lista e tenta ler seu conteúdo\n",
    "for filename in filenames:\n",
    "    read_file(filename)"
   ]
  },
  {
   "cell_type": "markdown",
   "id": "370fcc26-3315-4ff6-b6d3-faa3a394aaf6",
   "metadata": {},
   "source": [
    "**10.9 – Gatos e cachorros silenciosos:** Modifique o seu bloco **except** do Exercício  \n",
    "10.8 para falhar silenciosamente caso um dos arquivos esteja ausente."
   ]
  },
  {
   "cell_type": "code",
   "execution_count": 152,
   "id": "b2941bc6-28d4-4bfc-8a1d-5110e396c7cf",
   "metadata": {
    "tags": []
   },
   "outputs": [
    {
     "name": "stdout",
     "output_type": "stream",
     "text": [
      "\n",
      "Contents of dogs.txt:\n",
      "marley\n",
      "lilica\n",
      "kurica\n"
     ]
    }
   ],
   "source": [
    "def read_file(filename):\n",
    "    \"\"\"Tenta ler um arquivo e mostrar seu conteúdo na tela.\"\"\"\n",
    "    try:\n",
    "        with open(filename, 'r') as file:\n",
    "            contents = file.read()\n",
    "            print(f\"\\nContents of {filename}:\")\n",
    "            print(contents)\n",
    "    except FileNotFoundError:\n",
    "        pass\n",
    "\n",
    "# Lista de arquivos para ler\n",
    "filenames = ['cats.txt', 'dogs.txt']\n",
    "\n",
    "# Itera sobre cada arquivo na lista e tenta ler seu conteúdo\n",
    "for filename in filenames:\n",
    "    read_file(filename)"
   ]
  },
  {
   "cell_type": "markdown",
   "id": "41b6afde-502a-4dbd-997f-711f4cc50840",
   "metadata": {},
   "source": [
    "**10.10 – Palavras comuns:** Acesse o Projeto Gutenberg (http://gutenberg.org/ ) e encontre alguns textos que você gostaria de analisar. Faça download dos arquivos-texto dessas obras ou copie o texto puro de seu navegador para um arquivo-texto em seu computador.\n",
    "Você pode usar o método **count()** para descobrir quantas vezes uma palavra ou expressão aparece em uma string. Por exemplo, o código a seguir conta quantas vezes a palavra 'row' aparece em uma string:\n",
    "\n",
    "**line = \"Row, row, row your boat\"**\n",
    "\n",
    "**line.count('row') 2    \n",
    "line.lower().count('row') 3**\n",
    "\n",
    "\n",
    "Observe que converter a string para letras minúsculas usando **lower()** faz com que todas as formas da palavra que você está procurando sejam capturadas, independentemente do modo como elas estiverem grafadas.\n",
    "Escreva um programa que leia os arquivos que você encontrou no Projeto Gutenberg e determine quantas vezes a palavra **'the'** aparece em cada texto.\n"
   ]
  },
  {
   "cell_type": "code",
   "execution_count": 157,
   "id": "0f7f4fed-c3c3-4e1d-b0e4-b64190c819b5",
   "metadata": {
    "tags": []
   },
   "outputs": [
    {
     "name": "stdout",
     "output_type": "stream",
     "text": [
      "The word 'the' appears 11608 times in dracula.txt.\n",
      "The word 'the' appears 1571 times in romeo_and_juliet.txt.\n",
      "The word 'the' appears 2887 times in the_pursuit_of_god.txt.\n"
     ]
    }
   ],
   "source": [
    "def count_word_in_file(filename, word):\n",
    "    \"\"\"Conta quantas vezes uma palavra aparece em um arquivo.\"\"\"\n",
    "    try:\n",
    "        with open(filename) as file:\n",
    "            contents = file.read()\n",
    "    except FileNotFoundError:\n",
    "        pass\n",
    "    else:\n",
    "        # Conta a palavra, convertendo o conteúdo para minúsculas para garantir a contagem correta\n",
    "        word_count = contents.lower().count(word.lower())\n",
    "        print(f\"The word '{word}' appears {word_count} times in {filename}.\")\n",
    "\n",
    "# Lista de arquivos de texto do Projeto Gutenberg\n",
    "filenames = ['dracula.txt', 'romeo_and_juliet.txt', 'the_pursuit_of_god.txt']  # substitua pelos nomes reais dos arquivos\n",
    "\n",
    "# Palavra a ser contada\n",
    "word_to_count = 'the'\n",
    "\n",
    "# Conta a palavra em cada arquivo\n",
    "for filename in filenames:\n",
    "    count_word_in_file(filename, word_to_count)"
   ]
  },
  {
   "cell_type": "markdown",
   "id": "72f2ace2-c17a-440c-ad3d-3441b9c5675a",
   "metadata": {},
   "source": [
    "****"
   ]
  },
  {
   "cell_type": "markdown",
   "id": "92db2502-fa96-4271-803b-c3be58641c05",
   "metadata": {},
   "source": [
    "## **Armazenando dados**"
   ]
  },
  {
   "cell_type": "markdown",
   "id": "06f1a0af-9bce-4454-9e86-731fa0a60806",
   "metadata": {},
   "source": [
    "Muitos de seus programas pedirão aos usuários que forneçam determinados tipos de informação. **Você pode permitir que os usuários armazenem suas preferências em um jogo ou forneçam dados para uma visualização. Qualquer que seja o foco de seu programa, você armazenará as informações fornecidas pelos usuários em estruturas de dados como <code>listas e dicionários</code>**. Quando os usuários fecham um programa, quase sempre você vai querer salvar as informações que eles forneceram. Uma maneira simples de fazer isso envolve armazenar seus dados usando o módulo <code>**json**</code>.\n",
    "\n",
    "O **módulo <code>json</code> permite descarregar estruturas de dados Python simples em um arquivo e carregar os dados desse arquivo na próxima vez que o programa executar. Também podemos usar <code>**json**</code> para compartilhar dados entre diferentes programas Python**. Melhor ainda, o formato de dados <code>**JSON**</code> não é específico de Python, portanto podemos compartilhar dados armazenados em formato <code>**JSON**</code> com pessoas que trabalhem com várias outras linguagens de programação. É um formato útil e portável, além de ser fácil de aprender.\n",
    "\n",
    "**NOTA** \n",
    "O formato <code>**JSON (JavaScript Object Notation, ou Notação de Objetos JavaScript)**</code> foi originalmente desenvolvido para <code>**JavaScript**</code>. Apesar disso, tornou-se um formato comum, usado por muitas linguagens, incluindo Python.\n"
   ]
  },
  {
   "cell_type": "markdown",
   "id": "60999ce0-9782-45b6-bf71-d31d10d24fce",
   "metadata": {},
   "source": [
    "### Usando <code>**json.dump() e json.load()**</code>"
   ]
  },
  {
   "cell_type": "markdown",
   "id": "ab885079-ca49-43d0-a379-b60dfa26822f",
   "metadata": {},
   "source": [
    "Vamos escrever um pequeno programa que armazene um conjunto de números e outro que leia esses números de volta para a memória. **O primeiro programa usará <code>json.dump()</code> para armazenar o conjunto de números, e o segundo programa usará <code>json.load()</code>**.\n",
    "\n",
    "A função <code>**json.dump()**</code> aceita dois argumentos: **um dado para armazenar e um objeto arquivo que pode ser usado para armazenar o dado**. Eis o modo como podemos usar essa função para armazenar uma lista de números:"
   ]
  },
  {
   "cell_type": "code",
   "execution_count": 171,
   "id": "d7a034fb-ea8c-4a6c-bc17-e3e5d4a83d9d",
   "metadata": {
    "tags": []
   },
   "outputs": [],
   "source": [
    "numbers = [2, 3, 5, 7, 11, 13]\n",
    "\n",
    "filename ='numbers.json'\n",
    "with open(filename, 'w') as f_obj:\n",
    "    json.dump(numbers, f_obj)"
   ]
  },
  {
   "cell_type": "markdown",
   "id": "510fd093-8dd4-402c-a95e-23f1b7252db8",
   "metadata": {},
   "source": [
    "Inicialmente **importamos o módulo <code>json</code> e criamos uma lista de números com a qual trabalharemos. E escolhemos o nome de um arquivo em que armazenaremos a lista de números. É comum usar a extensão de arquivo <code>.json</code> para indicar que os dados do arquivo estão armazenados em formato <code>JSON</code>**. Em seguida, abrimos o arquivo em <code>**modo de escrita ('w')**</code>, o que permite a <code>**json**</code> escrever os dados no arquivo. E usamos a função <code>**json.dump()**</code>  para armazenar a lista numbers no arquivo <code>**'numbers.json'**</code>.\n",
    "\n",
    "Esse programa não tem uma saída, mas vamos abrir o arquivo <code>**'numbers.json'**</code> e observá-lo. Os dados estão armazenados em um formato que se parece com Python:    **[2, 3, 5, 7, 11, 13]**\n",
    "Agora escreveremos um programa que use  <code>**json.load()**</code> para ler a lista de volta para a memória: "
   ]
  },
  {
   "cell_type": "code",
   "execution_count": 179,
   "id": "c7458ca6-eaf2-4e65-895b-e9e67ac8d642",
   "metadata": {
    "tags": []
   },
   "outputs": [
    {
     "name": "stdout",
     "output_type": "stream",
     "text": [
      "[2, 3, 5, 7, 11, 13]\n"
     ]
    }
   ],
   "source": [
    "import json\n",
    "filename = 'numbers.json'\n",
    "with open(filename) as f_obj:\n",
    "    numbers = json.load(f_obj)\n",
    "    print(numbers)"
   ]
  },
  {
   "cell_type": "markdown",
   "id": "4a7e03d1-0c0a-4f60-88c7-85df3751bf71",
   "metadata": {},
   "source": [
    "Garantimos que o mesmo arquivo em que escrevemos os dados será lido. Dessa vez, quando abrirmos o arquivo, fazemos isso em modo de leitura, pois Python precisará apenas ler dados do arquivo. E usamos a função <code>**json.load()**</code> para carregar as informações armazenadas em **'numbers.json'** e as guardamos na variável **'numbers'**. Por fim, exibimos a lista de números recuperada; podemos ver que é a mesma lista criada: \n",
    "+ [2, 3, 5, 7, 11, 13]   \n",
    "\n",
    "Essa é uma maneira simples de compartilhar dados entre dois programas."
   ]
  },
  {
   "cell_type": "markdown",
   "id": "0c1866be-bed8-4451-83c0-16022950080a",
   "metadata": {},
   "source": [
    "### Salvando e lendo dados gerados pelo usuário"
   ]
  },
  {
   "cell_type": "markdown",
   "id": "e32cdb7f-df91-457d-892b-ff8354138190",
   "metadata": {},
   "source": [
    "Salvar dados com <code>**json**</code> é conveniente quando trabalhamos com dados gerados pelo usuário porque, se você não salvar as informações de seus usuários de algum modo, elas serão perdidas quando o programa parar de executar. **Vamos observar um exemplo em que pedimos aos usuários que forneçam seus nomes na primeira vez em que o programa executar e, então, o programa deverá lembrar esses nomes quando for executado novamente**.\n",
    "\n",
    "Vamos começar armazenando o nome do usuário:"
   ]
  },
  {
   "cell_type": "code",
   "execution_count": 189,
   "id": "b9527fee-3529-4db6-b46c-9f6066677aa6",
   "metadata": {
    "tags": []
   },
   "outputs": [
    {
     "name": "stdin",
     "output_type": "stream",
     "text": [
      "What is your name?  Denylson\n"
     ]
    },
    {
     "name": "stdout",
     "output_type": "stream",
     "text": [
      "We'll remember you when you come back, Denylson!\n"
     ]
    }
   ],
   "source": [
    "import json\n",
    "username = input(\"What is your name? \")\n",
    "filename = 'username.json'\n",
    "with open(filename, 'w') as f_obj:\n",
    "    json.dump(username, f_obj)\n",
    "    print(\"We'll remember you when you come back, \" + username + \"!\")"
   ]
  },
  {
   "cell_type": "markdown",
   "id": "a3183cc9-dfb1-436b-95dc-40ee028df869",
   "metadata": {},
   "source": [
    "Pedimos o nome do usuário para que seja armazenado. Em seguida, **usamos <code>json.dump()</code>, passando-lhe um nome de usuário e um objeto arquivo em que esse nome será armazenado. Então exibimos uma mensagem informando o usuário que armazenamos suas informações**.\n",
    "\n",
    "**Vamos agora escrever um novo programa que faça uma saudação a um usuário cujo nome já esteja armazenado:**"
   ]
  },
  {
   "cell_type": "code",
   "execution_count": 195,
   "id": "006d611c-f96d-4b13-85ce-d4567bc71b3d",
   "metadata": {
    "tags": []
   },
   "outputs": [
    {
     "name": "stdout",
     "output_type": "stream",
     "text": [
      "Welcome back, Denylson!\n"
     ]
    }
   ],
   "source": [
    "import json\n",
    "filename ='username.json'\n",
    "with open(filename) as f_obj: \n",
    "    username = json.load(f_obj) \n",
    "    print(\"Welcome back, \" + username + \"!\")"
   ]
  },
  {
   "cell_type": "markdown",
   "id": "e025b3b7-c8db-4fef-b7f7-2b8a395d9e6f",
   "metadata": {},
   "source": [
    "**Precisamos combinar esses dois programas em um só arquivo**. Quando alguém executar **'remember_me.py'**, queremos recuperar seu nome de usuário da memória, se for possível; assim, **começaremos com um bloco <code>try</code>, que tentará recuperar o nome do usuário. Se o arquivo 'username.json' não existir, faremos o bloco <code>except</code> pedir um nome de usuário e armazená-lo em 'username.json' para ser usado da próxima vez**:"
   ]
  },
  {
   "cell_type": "code",
   "execution_count": 253,
   "id": "5c2057e4-b0ce-4525-9bb5-9b08c4205ce5",
   "metadata": {
    "tags": []
   },
   "outputs": [
    {
     "name": "stdout",
     "output_type": "stream",
     "text": [
      "Welcome back, Denylson!\n"
     ]
    }
   ],
   "source": [
    "import json\n",
    "# Carrega o nome do usuário se foi armazenado anteriormente \n",
    "\n",
    "# Caso contrário, pede que o usuário forneça o nome e armazena essa informação \n",
    "filename = 'username.json'\n",
    "try:\n",
    "    with open(filename) as f_obj: \n",
    "        username = json.load(f_obj) \n",
    "except FileNotFoundError: \n",
    "    username = input(\"What is your name? \") \n",
    "    with open(filename, 'w') as f_obj:\n",
    "        json.dump(username, f_obj) \n",
    "    print(\"We'll remember you when you come back, \" + username + \"!\") \n",
    "else:\n",
    "    print(\"Welcome back, \" + username + \"!\")"
   ]
  },
  {
   "cell_type": "markdown",
   "id": "6ac66431-030d-485c-b3a9-b4c04b5fe18f",
   "metadata": {},
   "source": [
    "E tentamos abrir o arquivo 'username.json'. **Se esse arquivo existir, lemos o nome do usuário de volta para a memória e exibimos uma mensagem desejando boas-vindas de volta ao usuário no bloco <code>else</code>. Se essa é a primeira vez que o usuário executa o programa, 'username.json' não existirá e um <code>FileNotFoundError</code> ocorrerá. Python prosseguirá para o bloco <code>except</code>, em que pedimos ao usuário que forneça o seu nome. Então usamos <code>json.dump()</code> para armazenar o nome do usuário e exibimos uma saudação**.\n"
   ]
  },
  {
   "cell_type": "markdown",
   "id": "e75bc156-133d-4a92-802c-c69b7290d026",
   "metadata": {},
   "source": [
    "Qualquer que seja o bloco executado, o resultado será um nome de usuário e uma saudação apropriada. Se essa for a primeira vez que o programa é executado, a saída será assim: \n",
    "\n",
    "**What is your name? Eric    \n",
    "We'll remember you when you come back, Eric!**\n",
    "\n",
    "Caso contrário, será: **Welcome back, Eric!**   \n",
    "Essa é a saída que você verá se o programa já foi executado pelo menos uma vez."
   ]
  },
  {
   "cell_type": "markdown",
   "id": "0b48d326-c330-4742-9011-9160d826497f",
   "metadata": {},
   "source": [
    "### Refatoração"
   ]
  },
  {
   "cell_type": "markdown",
   "id": "e00fd56f-218d-427e-b4d6-72cb058cda7b",
   "metadata": {},
   "source": [
    "**Com frequência você chegará a um ponto em que seu código funcionará, mas reconhecerá que ele poderia ser melhorado se fosse dividido em uma série de funções com tarefas específicas**. Esse processo se chama <code>**refatoração**</code>. A <code>**refatoração**</code> deixa seu código mais limpo, mais fácil de compreender e de estender.\n",
    "\n",
    "Podemos **<code>refatorar</code> 'remember_me.py' passando a maior parte de sua lógica para uma ou mais funções**. O foco de **'remember_me.py'** está na saudação ao usuário, portanto vamos transferir todo o código existente para uma função chamada **'greet_user()'**:"
   ]
  },
  {
   "cell_type": "code",
   "execution_count": 291,
   "id": "c30085a8-1a2b-43f3-9887-8f70adbbeea2",
   "metadata": {
    "tags": []
   },
   "outputs": [
    {
     "name": "stdout",
     "output_type": "stream",
     "text": [
      "Welcome back, Denylson!\n"
     ]
    }
   ],
   "source": [
    "import json \n",
    "\n",
    "def greet_user():\n",
    "    \"\"\"Saúda o usuário pelo nome.\"\"\"\n",
    "    filename = 'username.json'\n",
    "    try:\n",
    "        with open(filename) as f_obj: \n",
    "            username = json.load(f_obj) \n",
    "    except FileNotFoundError: \n",
    "        username = input(\"What is your name? \") \n",
    "        with open(filename, 'w') as f_obj:\n",
    "            json.dump(username, f_obj) \n",
    "            print(\"We'll remember you when you come back, \" + username + \"!\") \n",
    "    else:\n",
    "        print(\"Welcome back, \" + username + \"!\")  \n",
    "greet_user()"
   ]
  },
  {
   "cell_type": "markdown",
   "id": "e38a06a0-e4e1-466d-834c-541e897fc55c",
   "metadata": {},
   "source": [
    "Como estamos usando uma função agora, atualizamos os comentários com uma <code>**docstring**</code> que reflete como o programa funciona no momento. Esse arquivo é um pouco mais limpo, porém a função **'greet_user()'** faz mais do que simplesmente saudar o usuário – ela também recupera um nome de usuário armazenado, caso haja um, e pede que o usuário forneça um novo nome, caso não exista.\n",
    "Vamos ***refatorar 'greet_user()' para que não faça tantas tarefas diferentes. Começaremos transferindo o código para recuperar um nome de usuário já armazenado para uma função diferente**:"
   ]
  },
  {
   "cell_type": "code",
   "execution_count": 307,
   "id": "8189a24b-8aa2-4548-9500-f597745776d6",
   "metadata": {
    "tags": []
   },
   "outputs": [
    {
     "name": "stdout",
     "output_type": "stream",
     "text": [
      "Welcome back, Denylson!\n",
      "We'll remember you when you come back, Denylson!\n"
     ]
    }
   ],
   "source": [
    "import json\n",
    "\n",
    "def get_stored_username(): \n",
    "    \"\"\"Obtém o nome do usuário já armazenado se estiver disponível.\"\"\"\n",
    "    filename = 'username.json'\n",
    "    try: \n",
    "        with open(filename) as f_obj: \n",
    "            username = json.load(f_obj) \n",
    "    except FileNotFoundError: \n",
    "        return None \n",
    "    else: \n",
    "        return username\n",
    "\n",
    "def greet_user(): \n",
    "    \"\"\"Saúda o usuário pelo nome.\"\"\"\n",
    "    username = get_stored_username() \n",
    "    if username: print(\"Welcome back, \" + username + \"!\") \n",
    "    else: username = input(\"What is your name? \") \n",
    "    filename = 'username.json'\n",
    "    with open(filename, 'w') as f_obj: \n",
    "        json.dump(username, f_obj) \n",
    "        print(\"We'll remember you when you come back, \" + username + \"!\") \n",
    "greet_user() "
   ]
  },
  {
   "cell_type": "markdown",
   "id": "c5403aba-a460-4706-8fd1-0248623521f3",
   "metadata": {},
   "source": [
    "A nova função **'get_stored_username()'** tem um propósito claro, conforme informado pela **docstring**. **Essa função recupera um nome de usuário já armazenado e devolve esse nome se encontrar um. Se o arquivo 'username.json' não existir, a função devolverá <code>None</code>.** Essa é uma boa prática: **uma função deve devolver o <code>valor esperado</code> ou <code>None</code>**. Isso nos permite fazer um teste simples com o valor de retorno da função. **Em exibimos uma mensagem de boas-vindas de volta ao usuário se a tentativa de recuperar um nome foi bem-sucedida; caso contrário, pedimos que um novo nome de usuário seja fornecido.**\n",
    "\n",
    "Devemos fatorar mais um bloco de código, removendo-o de **'greet_user()'**. Se o nome do usuário não existir, devemos transferir o código que pede um novo nome de usuário para uma função dedicada a esse propósito:"
   ]
  },
  {
   "cell_type": "code",
   "execution_count": 310,
   "id": "311d460e-5b8c-4c5c-a982-548334af0c0d",
   "metadata": {
    "tags": []
   },
   "outputs": [
    {
     "name": "stdout",
     "output_type": "stream",
     "text": [
      "Welcome back, Denylson!\n"
     ]
    }
   ],
   "source": [
    "import json\n",
    "\n",
    "def get_stored_username(): \n",
    "    \"\"\"Obtém o nome do usuário já armazenado se estiver disponível.\"\"\"\n",
    "    filename = 'username.json'\n",
    "    try: \n",
    "        with open(filename) as f_obj: \n",
    "            username = json.load(f_obj) \n",
    "    except FileNotFoundError: \n",
    "        return None \n",
    "    else: \n",
    "        return username\n",
    "    \n",
    "def get_new_username(): \n",
    "    \"\"\"Pede um novo nome de usuário.\"\"\"\n",
    "    username = input(\"What is your name? \") \n",
    "    filename = 'username.json'\n",
    "    with open(filename, 'w') as f_obj: \n",
    "        json.dump(username, f_obj) \n",
    "        return username\n",
    "    \n",
    "def greet_user(): \n",
    "    \"\"\"Saúda o usuário pelo nome.\"\"\"\n",
    "    username = get_stored_username() \n",
    "    if username: \n",
    "        print(\"Welcome back, \" + username + \"!\")\n",
    "    else: \n",
    "        username = get_new_username() \n",
    "        print(\"We'll remember you when you come back, \" + username + \"!\")\n",
    "greet_user()"
   ]
  },
  {
   "cell_type": "markdown",
   "id": "d6c990be-fa1b-45ac-9038-5c23224a52ca",
   "metadata": {},
   "source": [
    "Cada função nessa última versão de 'remember_me.py' tem um propósito único e claro. Chamamos **'greet_user()' e essa função exibe uma mensagem apropriada: ela dá as boas-vindas de volta a um usuário existente ou saúda um novo usuário. Isso é feito por meio da chamada a 'get_stored_username()', que é responsável somente por recuperar um nome de usuário já armazenado, caso exista**. Por fim, **'greet_user()'** chama **'get_new_username()'** se for necessário; **essa função é responsável somente por obter um novo nome de usuário e armazená-lo**. Essa separação do trabalho em compartimentos é uma parte essencial na escrita de um código claro, que seja fácil de manter e de estender.\n"
   ]
  },
  {
   "cell_type": "markdown",
   "id": "46d63b56-6e52-44fc-9c07-3992878045a2",
   "metadata": {},
   "source": [
    "## **FAÇA VOCÊ MESMO**"
   ]
  },
  {
   "cell_type": "markdown",
   "id": "1990d06f-f1c3-4b01-b16f-0e9c3a5c9025",
   "metadata": {},
   "source": [
    "**10.11 – Número favorito:** Escreva um programa que pergunte qual é o número favorito de um usuário. Use **json.dump()** para armazenar esse número em um arquivo. Escreva um programa separado que leia esse valor e apresente a mensagem “Eu sei qual é o seu número favorito! É _____.”."
   ]
  },
  {
   "cell_type": "code",
   "execution_count": 317,
   "id": "c38cc5c4-396f-4b1a-a281-ad6f613e8bb8",
   "metadata": {
    "tags": []
   },
   "outputs": [
    {
     "name": "stdin",
     "output_type": "stream",
     "text": [
      "Qual é o seu número favorito?  6\n"
     ]
    },
    {
     "name": "stdout",
     "output_type": "stream",
     "text": [
      "Seu número favorito foi armazenado!\n"
     ]
    }
   ],
   "source": [
    "import json\n",
    "\n",
    "# Pergunta ao usuário qual é o seu número favorito\n",
    "favorite_number = input(\"Qual é o seu número favorito? \")\n",
    "\n",
    "# Nome do arquivo onde o número favorito será armazenado\n",
    "filename = 'favorite_number.json'\n",
    "\n",
    "# Armazena o número favorito em um arquivo\n",
    "with open(filename, 'w') as f_obj:\n",
    "    json.dump(favorite_number, f_obj)\n",
    "    print(\"Seu número favorito foi armazenado!\")"
   ]
  },
  {
   "cell_type": "markdown",
   "id": "0c5dd53f-a09c-4741-98a6-a6df711feaf6",
   "metadata": {},
   "source": [
    "**10.12 – Lembrando o número favorito:** Combine os dois programas do Exercício 10.11 em um único arquivo. Se o número já estiver armazenado, informe o número favorito ao usuário. Caso contrário, pergunte ao usuário qual é o seu número favorito e armazene-o em um arquivo. Execute o programa duas vezes para garantir que ele funciona."
   ]
  },
  {
   "cell_type": "code",
   "execution_count": 319,
   "id": "63f52b38-b5eb-4f34-9ac5-ef098f00fec2",
   "metadata": {
    "tags": []
   },
   "outputs": [
    {
     "name": "stdout",
     "output_type": "stream",
     "text": [
      "Eu sei qual é o seu número favorito! É 6.\n"
     ]
    }
   ],
   "source": [
    "import json\n",
    "\n",
    "filename = 'favorite_number.json'\n",
    "\n",
    "try:\n",
    "    # Tenta abrir o arquivo e ler o número favorito\n",
    "    with open(filename) as f_obj:\n",
    "        favorite_number = json.load(f_obj)\n",
    "    print(f\"Eu sei qual é o seu número favorito! É {favorite_number}.\")\n",
    "except FileNotFoundError:\n",
    "    # Se o arquivo não for encontrado, pede o número favorito ao usuário\n",
    "    favorite_number = input(\"Qual é o seu número favorito? \")\n",
    "    with open(filename, 'w') as f_obj:\n",
    "        json.dump(favorite_number, f_obj)\n",
    "    print(\"Seu número favorito foi armazenado!\")"
   ]
  },
  {
   "cell_type": "markdown",
   "id": "fbed2210-a821-433d-bcb8-316b4c335b33",
   "metadata": {},
   "source": [
    "**10.13 – Verificando se é o usuário correto:** A última listagem de remember_me.py supõe que o usuário já forneceu seu nome ou que o programa está executando pela primeira vez. Devemos modificá-lo para o caso de o usuário atual não ser a pessoa que usou o programa pela última vez.   \n",
    "Antes de exibir uma mensagem de boas-vindas de volta em **greet_user()**, pergunte ao usuário se seu nome está correto. Se não estiver, chame **get_new_username()** para obter o nome correto."
   ]
  },
  {
   "cell_type": "code",
   "execution_count": 327,
   "id": "f771173e-afd0-4d93-89dc-db861e696042",
   "metadata": {
    "tags": []
   },
   "outputs": [
    {
     "name": "stdin",
     "output_type": "stream",
     "text": [
      "Is Denylson Panzo your name? (yes/no)  yes\n"
     ]
    },
    {
     "name": "stdout",
     "output_type": "stream",
     "text": [
      "Welcome back, Denylson Panzo!\n"
     ]
    }
   ],
   "source": [
    "import json\n",
    "\n",
    "def get_stored_username():\n",
    "    \"\"\"Obtém o nome armazenado se estiver disponível.\"\"\"\n",
    "    filename = 'username.json'\n",
    "    try:\n",
    "        with open(filename) as f_obj:\n",
    "            username = json.load(f_obj)\n",
    "    except FileNotFoundError:\n",
    "        return None\n",
    "    else:\n",
    "        return username\n",
    "\n",
    "def get_new_username():\n",
    "    \"\"\"Pede um novo nome de usuário.\"\"\"\n",
    "    username = input(\"What is your name? \")\n",
    "    filename = 'username.json'\n",
    "    with open(filename, 'w') as f_obj:\n",
    "        json.dump(username, f_obj)\n",
    "    return username\n",
    "\n",
    "def greet_user():\n",
    "    \"\"\"Saúda o usuário pelo nome.\"\"\"\n",
    "    username = get_stored_username()\n",
    "    if username:\n",
    "        correct = input(\"Is \" + username + \" your name? (yes/no) \")\n",
    "        if correct.lower() == 'yes':\n",
    "            print(\"Welcome back, \" + username + \"!\")\n",
    "        else:\n",
    "            username = get_new_username()\n",
    "            print(\"We'll remember you when you come back, \" + username + \"!\")\n",
    "    else:\n",
    "        username = get_new_username()\n",
    "        print(\"We'll remember you when you come back, \" + username + \"!\")\n",
    "\n",
    "greet_user()"
   ]
  },
  {
   "cell_type": "markdown",
   "id": "4ae8166e-d76e-4fc9-9bfd-55440c0c9b22",
   "metadata": {},
   "source": [
    "****"
   ]
  },
  {
   "cell_type": "markdown",
   "id": "0127c77a-bfa5-4f54-acf9-579595cd56ef",
   "metadata": {},
   "source": [
    "## **Resumo**"
   ]
  },
  {
   "cell_type": "markdown",
   "id": "c6c64bba-79e5-40d2-910f-10d4907f56c4",
   "metadata": {},
   "source": [
    "Neste capítulo aprendemos a trabalhar com arquivos. Vimos como **ler um arquivo todo de uma só vez e como ler o conteúdo de um arquivo uma linha de cada vez. Aprendemos a escrever dados em um arquivo e a concatenar texto no final dele. Lemos sobre as <code>exceções</code> e o modo de tratar aquelas que provavelmente você verá em seus programas**. Por fim, **aprendemos a armazenar estruturas de dados Python para que possamos salvar as informações fornecidas pelos usuários**, evitando que eles precisem fazer tudo de novo sempre que executarem um programa.\n",
    "\n",
    "**No Capítulo 11, conheceremos maneiras eficientes de testar o seu código. Isso ajudará você a ter mais confiança de que o código desenvolvido está correto e ajudará a identificar bugs introduzidos à medida que você continuar a estender os programas que escreveu.**"
   ]
  },
  {
   "cell_type": "code",
   "execution_count": null,
   "id": "4cfa94c1-e59d-4c4d-9cc9-8eec0835de25",
   "metadata": {},
   "outputs": [],
   "source": []
  }
 ],
 "metadata": {
  "kernelspec": {
   "display_name": "Python 3 (ipykernel)",
   "language": "python",
   "name": "python3"
  },
  "language_info": {
   "codemirror_mode": {
    "name": "ipython",
    "version": 3
   },
   "file_extension": ".py",
   "mimetype": "text/x-python",
   "name": "python",
   "nbconvert_exporter": "python",
   "pygments_lexer": "ipython3",
   "version": "3.11.5"
  }
 },
 "nbformat": 4,
 "nbformat_minor": 5
}
