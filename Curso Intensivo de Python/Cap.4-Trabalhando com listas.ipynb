{
  "metadata": {
    "kernelspec": {
      "name": "python",
      "display_name": "Python (Pyodide)",
      "language": "python"
    },
    "language_info": {
      "codemirror_mode": {
        "name": "python",
        "version": 3
      },
      "file_extension": ".py",
      "mimetype": "text/x-python",
      "name": "python",
      "nbconvert_exporter": "python",
      "pygments_lexer": "ipython3",
      "version": "3.8"
    }
  },
  "nbformat_minor": 4,
  "nbformat": 4,
  "cells": [
    {
      "cell_type": "markdown",
      "source": "# **Cap.4 - Trabalhando com listas**",
      "metadata": {}
    },
    {
      "cell_type": "markdown",
      "source": "Neste capítulo veremos como percorrer uma lista inteira com **um laço** usando apenas algumas linhas de código, independentemente do tamanho da lista. **Percorrer listas com laços permite executar a mesma ação ou conjunto de ações em todos os itens de uma lista.** Como resultado, você poderá trabalhar de modo eficiente com listas de qualquer tamanho, incluindo aquelas com milhares ou até mesmo milhões de itens.",
      "metadata": {}
    },
    {
      "cell_type": "markdown",
      "source": "## **Percorrendo uma lista inteira com um laço**",
      "metadata": {}
    },
    {
      "cell_type": "markdown",
      "source": "Por exemplo, em um jogo, você pode mover todos os elementos da tela de acordo com a mesma distância; em uma lista de números, talvez você queira executar a mesma operação estatística em todos os elementos. Quem sabe você queira exibir cada um dos títulos de uma lista de artigos em um site. \n\n+ **Quando quiser executar a mesma ação em todos os itens de uma lista, você pode usar o laço <code>**for**</code> de Python.**\n\n+ Vamos supor que temos uma lista de nomes de mágicos e queremos exibir todos os nomes da lista. Poderíamos fazer isso recuperando cada nome da lista individualmente, mas essa abordagem poderia causar vários problemas. Além disso, teríamos que alterar o nosso código sempre que o tamanho da lista mudasse.\n\n+ **Um laço <code>**for**</code> evita esses dois problemas ao permitir que Python administre essas questões internamente.**\n\nVamos usar um laço for para exibir cada um dos nomes de uma lista de mágicos:",
      "metadata": {}
    },
    {
      "cell_type": "code",
      "source": "magicians=[\"alice\", \"david\", \"carolina\"] # Começamos definindo uma lista\n\nfor magician in magicians: # Essa linha diz a Python para extrair um nome da lista magicians e armazená-lo na variável magician\n    print(magician)",
      "metadata": {
        "trusted": true
      },
      "outputs": [
        {
          "name": "stdout",
          "text": "alice\ndavid\ncarolina\n",
          "output_type": "stream"
        }
      ],
      "execution_count": 26
    },
    {
      "cell_type": "markdown",
      "source": "### Observando os laços com mais detalhes",
      "metadata": {}
    },
    {
      "cell_type": "markdown",
      "source": "Quando usar laços pela primeira vez, tenha em mente que o conjunto de passos será repetido, uma vez para cada item da lista, não importa quantos itens haja na lista. Se você tiver um milhão de itens em sua lista, Python repetirá esses passos um milhão de vezes – e geralmente o fará bem rápido.\n\n+ Tenha em mente também que quando escrever seus próprios laços <code>**for**</code>, você poderá escolher qualquer nome que quiser para a variável temporária que armazena cada valor da lista. No entanto, é conveniente escolher um nome significativo, que represente um único item da lista.\n\n+ Por exemplo, eis uma boa maneira de iniciar um laço <code>**for**</code> para uma lista de gatos, uma lista de cachorros e uma lista genérica de itens: **<code>**for**</code> cat <code>**in**</code> cats: <code>**for**</code> dog <code>**in**</code> dogs: <code>**for**</code> item <code>**in**</code> list_of_items:**  \nEssas convenções de nomenclatura podem ajudar você a acompanhar a ação executada em cada item em um laço <code>**for**</code>.\n\nO uso de nomes no singular e no plural pode ajudar a identificar se a seção de código atua em um único elemento da lista ou em toda a lista.",
      "metadata": {}
    },
    {
      "cell_type": "markdown",
      "source": "### Executando mais tarefas em um laço for",
      "metadata": {}
    },
    {
      "cell_type": "markdown",
      "source": "Você pode fazer praticamente de tudo com cada item em um laço <code>**for**</code>. Vamos expandir o exemplo anterior exibindo uma mensagem a cada mágico, informando-lhes que realizaram um ótimo truque:",
      "metadata": {}
    },
    {
      "cell_type": "code",
      "source": "magicians=[\"alice\", \"david\", \"carolina\"] # Começamos definindo uma lista\n\nfor magician in magicians:\n    print(magician.title() + \", that was a great trick!\") #A saída mostra uma mensagem personalizada para cada mágico da lista",
      "metadata": {
        "trusted": true
      },
      "outputs": [
        {
          "name": "stdout",
          "text": "Alice, that was a great trick!\nDavid, that was a great trick!\nCarolina, that was a great trick!\n",
          "output_type": "stream"
        }
      ],
      "execution_count": 32
    },
    {
      "cell_type": "markdown",
      "source": "Também podemos escrever tantas linhas de código quantas quisermos no laço <code>**for**</code>. **Considera-se que toda linha indentada após a linha <code>**for magician in magicians**</code> está ***dentro*** do laço, e cada linha indentada é executada uma vez para cada valor da lista.** Assim, você pode executar o volume de trabalho que quiser com cada valor da lista.\n\nVamos acrescentar uma segunda linha em nossa mensagem, informando a cada mágico que estamos ansiosos para ver o seu próximo truque: ",
      "metadata": {}
    },
    {
      "cell_type": "code",
      "source": "magicians=[\"alice\", \"david\", \"carolina\"]\n\nfor magician in magicians:\n    print(magician.title() + \", that was a great trick!\")\n    print(\"I can´t wait to see your next trick, \" + magician.title() + \".\\n\")",
      "metadata": {
        "trusted": true
      },
      "outputs": [
        {
          "name": "stdout",
          "text": "Alice, that was a great trick!\nI can´t wait to see your next trick, Alice.\n\nDavid, that was a great trick!\nI can´t wait to see your next trick, David.\n\nCarolina, that was a great trick!\nI can´t wait to see your next trick, Carolina.\n\n",
          "output_type": "stream"
        }
      ],
      "execution_count": 42
    },
    {
      "cell_type": "markdown",
      "source": "**Como indentamos as duas instruções <code>print</code>, cada linha será executada uma vez para cada mágico da lista. A quebra de linha <code>(\"\\n\")</code> na segunda instrução print insere uma linha em branco após cada passagem pelo laço. Com isso, criamos um conjunto de mensagens agrupadas de forma organizada para cada pessoa na lista.**\n\nPodemos usar quantas linhas quisermos em nossos laços for. Na prática, muitas vezes você achará útil efetuar várias operações com cada item de uma lista quando usar um laço <code>**for**</code>.",
      "metadata": {}
    },
    {
      "cell_type": "markdown",
      "source": "### Fazendo algo após um laço for",
      "metadata": {}
    },
    {
      "cell_type": "markdown",
      "source": "O que acontece quando um laço <code>**for**</code> acaba de executar? Geralmente você vai querer fazer uma síntese de um bloco de saída ou passar para outra atividade que seu programa deva executar.",
      "metadata": {}
    },
    {
      "cell_type": "markdown",
      "source": "**Qualquer linha de código após o laço <code>**for**</code> que não estiver indentada será executada uma vez, sem repetição.**   \n\nVamos escrever um agradecimento ao grupo de mágicos como um todo, agradecendo-lhes por apresentar um show excelente. Para exibir essa mensagem ao grupo após todas as mensagens individuais terem sido apresentadas, colocamos a mensagem de agradecimento depois do laço <code>**for**</code>, sem indentação:",
      "metadata": {}
    },
    {
      "cell_type": "code",
      "source": "magicians = ['alice', 'david', 'carolina']\n\nfor magician in magicians: \n    print(magician.title() + \", that was a great trick!\") \n    print(\"I can't wait to see your next trick, \" + magician.title() + \".\\n\")\n# As duas primeiras instruções print são repetidas uma vez para cada mágico da lista, como vimos antes.    \n\nprint(\"Thank you, everyone. That was a great magic show!\") # como a linha não está indentada (abaixo do for), ela será exibida apenas uma vez!",
      "metadata": {
        "trusted": true
      },
      "outputs": [
        {
          "name": "stdout",
          "text": "Alice, that was a great trick!\nI can't wait to see your next trick, Alice.\n\nDavid, that was a great trick!\nI can't wait to see your next trick, David.\n\nCarolina, that was a great trick!\nI can't wait to see your next trick, Carolina.\n\nThank you, everyone. That was a great magic show!\n",
          "output_type": "stream"
        }
      ],
      "execution_count": 55
    },
    {
      "cell_type": "markdown",
      "source": "**Quando processar dados com um laço <code>**for**</code>, você verá que essa é uma boa maneira de sintetizar uma operação realizada em todo um conjunto de dados.** *Por exemplo, um laço **for** pode ser usado para inicializar um jogo percorrendo uma lista de personagens e exibindo cada um deles na tela. Você pode então escrever um bloco não indentado após esse laço, que exiba **um botão Play Now (Jogue agora)** depois que todos os personagens tiverem sido desenhados na tela.*\n",
      "metadata": {}
    },
    {
      "cell_type": "markdown",
      "source": "### Evitando erros de indentação",
      "metadata": {}
    },
    {
      "cell_type": "markdown",
      "source": "Python usa indentação para determinar se uma linha de código está conectada à linha antes dela. **Nos exemplos anteriores, as linhas que exibiam mensagens aos mágicos individuais faziam parte do laço <code>**for**</code> porque estavam indentadas. Basicamente, Python usa espaços em branco para forçar você a escrever um código formatado de modo organizado, com uma estrutura visual clara.** Em programas Python mais longos, você perceberá que há blocos de código indentados em alguns níveis diferentes. Esses níveis de indentação ajudam a ter uma noção geral da organização do programa como um todo.\n\n**Quando começar a escrever código que dependa de uma indentação apropriada, você deverá tomar cuidado com alguns erros comuns de indentação.** Por exemplo, às vezes, as pessoas indentam blocos de código que não precisam estar indentados ou se esquecem de indentar blocos que deveriam estar indentados. Ver exemplos desses erros agora ajudará a evitá-los no futuro e a corrigi-los quando aparecerem em seus próprios programas.\n\nVamos analisar alguns dos erros mais comuns de indentação.",
      "metadata": {}
    },
    {
      "cell_type": "markdown",
      "source": "### Esquecendo-se de indentar",
      "metadata": {}
    },
    {
      "cell_type": "markdown",
      "source": "**Sempre indente a linha após a instrução <code>**for**</code> em um laço.**  Se você se esquecer, Python o avisará:",
      "metadata": {}
    },
    {
      "cell_type": "code",
      "source": "magicians = ['alice', 'david', 'carolina'] \nfor magician in magicians:\n                     \n# A instrução print deveria estar indentada (abaixo do for), mas não está.\nprint(magician)    #Quando Python espera um bloco indentado e não encontra um, ele mostra a linha em que o problema ocorreu.",
      "metadata": {
        "trusted": true
      },
      "outputs": [
        {
          "ename": "<class 'IndentationError'>",
          "evalue": "expected an indented block after 'for' statement on line 2 (<ipython-input-69-e64ae8428833>, line 5)",
          "traceback": [
            "\u001b[0;36m  Cell \u001b[0;32mIn[69], line 5\u001b[0;36m\u001b[0m\n\u001b[0;31m    print(magician)    #Quando Python espera um bloco indentado e não encontra um, ele mostra a linha em que o problema ocorreu.\u001b[0m\n\u001b[0m    ^\u001b[0m\n\u001b[0;31mIndentationError\u001b[0m\u001b[0;31m:\u001b[0m expected an indented block after 'for' statement on line 2\n"
          ],
          "output_type": "error"
        }
      ],
      "execution_count": 69
    },
    {
      "cell_type": "markdown",
      "source": "**IndentationError: expected an indented block** Geralmente podemos resolver esse tipo de erro indentando a linha ou as linhas logo depois da instrução <code>**for**</code>.",
      "metadata": {}
    },
    {
      "cell_type": "markdown",
      "source": "### Esquecendo-se de indentar linhas adicionais",
      "metadata": {}
    },
    {
      "cell_type": "markdown",
      "source": "**Às vezes, seu laço executará sem erros, mas não produzirá o resultado esperado. Isso pode acontecer quando você tenta realizar várias tarefas em um laço e se esquece de indentar algumas de suas linhas.**\nPor exemplo, eis o que acontece quando nos esquecemos de indentara segunda linha do laço que diz a cada mágico que estamos ansiosos para ver o seu próximo truque:",
      "metadata": {}
    },
    {
      "cell_type": "code",
      "source": "magicians = ['alice', 'david', 'carolina']\n\nfor magician in magicians: \n    print(magician.title() + \", that was a great trick!\") # está indentada.\nprint(\"I can't wait to see your next trick, \" + magician.title() + \".\\n\") \n#não está indentada, é executada somente uma vez, depois que o laço terminar de executar.",
      "metadata": {
        "trusted": true
      },
      "outputs": [
        {
          "name": "stdout",
          "text": "Alice, that was a great trick!\nDavid, that was a great trick!\nCarolina, that was a great trick!\nI can't wait to see your next trick, Carolina.\n\n",
          "output_type": "stream"
        }
      ],
      "execution_count": 71
    },
    {
      "cell_type": "markdown",
      "source": "**Esse é um erro de *lógica*.** É um código Python com sintaxe válida, mas ele não gera o resultado desejado, pois há um problema em sua lógica. Se você espera ver uma determinada ação ser repetida uma vez para cada item de uma lista, mas ela é executada apenas uma vez, verifique se não é preciso simplesmente indentar uma linha ou um grupo de linhas.",
      "metadata": {}
    },
    {
      "cell_type": "markdown",
      "source": "### Indentando desnecessariamente",
      "metadata": {}
    },
    {
      "cell_type": "markdown",
      "source": "Se você, acidentalmente, indentar uma linha que não precisa ser indetada, Python o informará a respeito da indentação inesperada:",
      "metadata": {}
    },
    {
      "cell_type": "code",
      "source": "message = \"Hello Python world!\"\n print(message) #Não precisamos indentar a instrução print, pois ela não pertence à linha antes dela; assim, Python informa esse erro",
      "metadata": {
        "trusted": true
      },
      "outputs": [
        {
          "ename": "<class 'IndentationError'>",
          "evalue": "unexpected indent (<ipython-input-78-0274bb2ed7c6>, line 2)",
          "traceback": [
            "\u001b[0;36m  Cell \u001b[0;32mIn[78], line 2\u001b[0;36m\u001b[0m\n\u001b[0;31m    print(message)\u001b[0m\n\u001b[0m    ^\u001b[0m\n\u001b[0;31mIndentationError\u001b[0m\u001b[0;31m:\u001b[0m unexpected indent\n"
          ],
          "output_type": "error"
        }
      ],
      "execution_count": 78
    },
    {
      "cell_type": "markdown",
      "source": "**IndentationError: unexpected indent** Você pode evitar erros inesperados de indentação ao indentar apenas quando houver um motivo específico para isso. **Nos programas que estamos escrevendo no momento, as únicas linhas que precisam ser indentadas são as ações que queremos repetir para cada item em um laço <code>**for**</code>.**",
      "metadata": {}
    },
    {
      "cell_type": "markdown",
      "source": "### Indentando desnecessariamente após o laço",
      "metadata": {}
    },
    {
      "cell_type": "markdown",
      "source": "**Se você acidentalmente indentar um código que deva executar após um laço ter sido concluído, esse código será repetido uma vez para cada item da lista.** Às vezes, isso faz Python informar um erro, mas, geralmente, você terá um ***erro de lógica simples.***\nPor exemplo, vamos ver o que acontece quando indentamos poracidente a linha que agradece aos mágicos como um grupo por\napresentarem um bom show:",
      "metadata": {}
    },
    {
      "cell_type": "code",
      "source": "magicians = ['alice', 'david', 'carolina']\n\nfor magician in magicians: \n    print(magician.title() + \", that was a great trick!\") \n    print(\"I can't wait to see your next trick, \" + magician.title() + \".\\n\")    \n    print(\"Thank you, everyone. That was a great magic show!\") \n    #esta indentada, ela é exibida uma vez para cada pessoa da lista",
      "metadata": {
        "trusted": true
      },
      "outputs": [
        {
          "name": "stdout",
          "text": "Alice, that was a great trick!\nI can't wait to see your next trick, Alice.\n\nThank you, everyone. That was a great magic show!\nDavid, that was a great trick!\nI can't wait to see your next trick, David.\n\nThank you, everyone. That was a great magic show!\nCarolina, that was a great trick!\nI can't wait to see your next trick, Carolina.\n\nThank you, everyone. That was a great magic show!\n",
          "output_type": "stream"
        }
      ],
      "execution_count": 81
    },
    {
      "cell_type": "markdown",
      "source": "Há outro ***erro de lógica***, semelhante àquele da seção **“Esquecendo-se de indentar linhas adicionais”.** Como Python não sabe o que você está querendo fazer com seu código, ele executará todo código que estiver escrito com uma sintaxe válida. **Se uma ação for repetida muitas vezes quando deveria ser executada apenas uma vez, verifique se você não precisa simplesmente deixar de indentar o código dessa ação.**",
      "metadata": {}
    },
    {
      "cell_type": "markdown",
      "source": "### Esquecendo os dois-pontos",
      "metadata": {}
    },
    {
      "cell_type": "markdown",
      "source": "Os **dois-pontos (:)** no final de uma instrução <code>**for**</code> diz a Python para interpretar a próxima linha como o início de um laço.",
      "metadata": {}
    },
    {
      "cell_type": "code",
      "source": "magicians = ['alice', 'david', 'carolina']\nfor magician in magicians # Se você se esquecer acidentalmente de colocar os dois-pontos, você terá um erro de sintaxe.\nprint(magician)",
      "metadata": {
        "trusted": true
      },
      "outputs": [
        {
          "ename": "<class 'SyntaxError'>",
          "evalue": "expected ':' (<ipython-input-82-6db472579497>, line 2)",
          "traceback": [
            "\u001b[0;36m  Cell \u001b[0;32mIn[82], line 2\u001b[0;36m\u001b[0m\n\u001b[0;31m    for magician in magicians\u001b[0m\n\u001b[0m                              ^\u001b[0m\n\u001b[0;31mSyntaxError\u001b[0m\u001b[0;31m:\u001b[0m expected ':'\n"
          ],
          "output_type": "error"
        }
      ],
      "execution_count": 82
    },
    {
      "cell_type": "markdown",
      "source": "**Embora esse seja um erro fácil de corrigir, nem sempre é um erro fácil de identificar.** Você ficaria surpreso com a quantidade de tempo gasto pelos programadores à procura de erros de um único caractere como esse. Erros desse tipo são difíceis de encontrar, pois, com frequência, vemos somente aquilo que esperamos ver.\n",
      "metadata": {}
    },
    {
      "cell_type": "markdown",
      "source": "### **FAÇA VOCÊ MESMO**",
      "metadata": {}
    },
    {
      "cell_type": "markdown",
      "source": "**4.1 – Pizzas:** Pense em pelo menos três tipos de pizzas favoritas. Armazene os nomes dessas pizzas e, então, utilize um laço for para exibir o nome de cada pizza.\n\n+ Modifique seu laço **for** para mostrar uma frase usando o nome da pizza em vez de exibir apenas o nome dela. Para cada pizza, você deve ter uma linha na saída contendo uma frase simples como Gosto de pizza de pepperoni.\n  \n+ Acrescente uma linha no final de seu programa, fora do laço **for**, que informe quanto você gosta de pizza. A saída deve ser constituída de três ou mais linhas sobre os tipos de pizza que você gosta e de uma frase adicional, por exemplo, Eu realmente adoro pizza!",
      "metadata": {}
    },
    {
      "cell_type": "code",
      "source": "pizzas =[\"pepperoni\", \"tropical\", \"queijo\"]\nfor pizza in pizzas:\n    print(\"Gosto de pizza de \" + pizza.title() + \".\\n\")\nprint(\"Eu realmente adoro pizza!\")",
      "metadata": {
        "trusted": true
      },
      "outputs": [
        {
          "name": "stdout",
          "text": "Gosto de pizza de Pepperoni.\n\nGosto de pizza de Tropical.\n\nGosto de pizza de Queijo.\n\nEu realmente adoro pizza!\n",
          "output_type": "stream"
        }
      ],
      "execution_count": 103
    },
    {
      "cell_type": "markdown",
      "source": "**4.2 – Animais:** Pense em pelo menos três animais diferentes que tenham uma característica em comum. Armazene os nomes desses animais em uma lista e, então, utilize um laço **for** para exibir o nome de cada animal.\n\n+ Modifique seu programa para exibir uma frase sobre cada animal, por exemplo, Um cachorro seria um ótimo animal de estimação.\n\n+ Acrescente uma linha no final de seu programa informando o que esses animais têm em comum. Você poderia exibir uma frase como Qualquer um desses animais seria um ótimo animal de estimação!",
      "metadata": {}
    },
    {
      "cell_type": "code",
      "source": "animals=[\"leao\", \"elefante\", \"panda\", \"morcego\"]\nfor animal in animals:\n    print(\"Um \" + animal.title() + \" seria um ótimo animal de estimação.\")\nprint(\"\\n\" + \"Qualquer um desses animais seria um ótimo animal de estimação!\")",
      "metadata": {
        "trusted": true
      },
      "outputs": [
        {
          "name": "stdout",
          "text": "Um Leao seria um ótimo animal de estimação.\nUm Elefante seria um ótimo animal de estimação.\nUm Panda seria um ótimo animal de estimação.\nUm Morcego seria um ótimo animal de estimação.\n\nQualquer um desses animais seria um ótimo animal de estimação!\n",
          "output_type": "stream"
        }
      ],
      "execution_count": 91
    },
    {
      "cell_type": "markdown",
      "source": "<hr>",
      "metadata": {}
    },
    {
      "cell_type": "markdown",
      "source": "## **Criando listas numéricas**",
      "metadata": {}
    },
    {
      "cell_type": "markdown",
      "source": "Há muitos motivos para armazenar um conjunto de números. Por exemplo, você precisará manter um controle das posições de cada personagem em um jogo, e talvez queira manter um registro das pontuações mais altas de um jogador também. **Em visualizações de dados, quase sempre você trabalhará com conjuntos de números, como *temperaturas*, *distâncias*, *tamanhos de população* ou *valores de latitudes* e *longitudes*, entre outros tipos de conjuntos numéricos.**\n\n**As listas** são ideais para armazenar conjuntos de números, e Python oferece várias ferramentas para ajudar você a trabalhar com listas de números de forma eficiente. ",
      "metadata": {}
    },
    {
      "cell_type": "markdown",
      "source": "### **Usando a função range()**",
      "metadata": {}
    },
    {
      "cell_type": "markdown",
      "source": "**A função <code>**range()**</code> de Python facilita gerar uma série de números.** Por exemplo, podemos usar a função <code>**range()**</code> para exibir uma sequência de números, assim: ***numbers.py for value in range(1,5): print(value)*** Embora esse código dê a impressão de que deveria exibir os números de 1 a 5, ele não exibe o número 5:",
      "metadata": {}
    },
    {
      "cell_type": "code",
      "source": "for value in range(1,5): \n    print(value) ",
      "metadata": {
        "trusted": true
      },
      "outputs": [
        {
          "name": "stdout",
          "text": "1\n2\n3\n4\n",
          "output_type": "stream"
        }
      ],
      "execution_count": 92
    },
    {
      "cell_type": "markdown",
      "source": "Nesse exemplo, <code>**range()**</code> exibe apenas os números de **1 a 4**. Esse é outro resultado do comportamento deslocado de um que veremos com frequência nas linguagens de programação. **A função <code>**range()**</code> faz Python começar a contar no primeiro valor que você lhe fornecer e parar quando atingir o segundo valor especificado.** Como ele para nesse segundo valor, a saída não conterá o valor final, que seria 5, nesse caso.\nPara exibir os números de 1 a 5, você deve usar **range(1,6)**:",
      "metadata": {}
    },
    {
      "cell_type": "code",
      "source": "for value in range(1,6):\n    print(value)",
      "metadata": {
        "trusted": true
      },
      "outputs": [
        {
          "name": "stdout",
          "text": "1\n2\n3\n4\n5\n",
          "output_type": "stream"
        }
      ],
      "execution_count": 93
    },
    {
      "cell_type": "markdown",
      "source": "Se sua saída for diferente do esperado ao usar <code>**range()**</code>, experimente ajustar seu valor final em **1**.",
      "metadata": {}
    },
    {
      "cell_type": "markdown",
      "source": "### Usando range() para criar uma lista de números",
      "metadata": {}
    },
    {
      "cell_type": "markdown",
      "source": "**Se quiser criar uma lista de números, você pode converter os resultados de <code>**range()**</code> diretamente em uma lista usando a função <code>**list()**</code>. Quando colocamos <code>**list()**</code> em torno de uma chamada à função <code>**range()**</code>, a saída será uma lista de números.**\n\nPodemos usar **list()** para converter esse mesmo conjunto de números em uma lista:",
      "metadata": {}
    },
    {
      "cell_type": "code",
      "source": "numbers = list(range(1,6))\nprint(numbers)",
      "metadata": {
        "trusted": true
      },
      "outputs": [
        {
          "name": "stdout",
          "text": "[1, 2, 3, 4, 5]\n",
          "output_type": "stream"
        }
      ],
      "execution_count": 96
    },
    {
      "cell_type": "markdown",
      "source": "Também podemos usar a função **range()** para dizer a Python que ignore alguns números em um dado intervalo. Por exemplo, **eis o modo de listar os números pares entre 1 e 10**:",
      "metadata": {}
    },
    {
      "cell_type": "code",
      "source": "even_numbers = list(range(2,11,2))\nprint(even_numbers)",
      "metadata": {
        "trusted": true
      },
      "outputs": [
        {
          "name": "stdout",
          "text": "[2, 4, 6, 8, 10]\n",
          "output_type": "stream"
        }
      ],
      "execution_count": 97
    },
    {
      "cell_type": "markdown",
      "source": "Nesse exemplo, a função **range()** começa com o valor **2** e então soma **2** a esse valor. O valor **2** é somado repetidamente até o valor final, que é **11, ser alcançado ou ultrapassado**, e o resultado a seguir é gerado: **[2, 4, 6, 8, 10]**",
      "metadata": {}
    },
    {
      "cell_type": "markdown",
      "source": "Podemos criar praticamente qualquer conjunto de números que quisermos com a função **range()**. Por exemplo, considere como criaríamos uma lista dos dez primeiros quadrados perfeitos **(isto é, o quadrado de cada inteiro de 1 a 10)**. Em Python, ***dois asteriscos (**) representam <code>**exponenciais</code>***. Eis o modo como podemos colocar os dez\nprimeiros quadrados perfeitos em uma lista:",
      "metadata": {}
    },
    {
      "cell_type": "code",
      "source": "# Começamos com uma lista vazia chamada squares\nsquares=[]  \n\n# Dizemos a Python para percorrer cada valor de 1 a 10 usando a função range()\nfor value in range(1,11):  \n    \n    # No laço, o valor atual é elevado ao quadrado e armazenado na variável square em square\n    square = value**2\n    \n    # Cada novo valor de square é concatenado à lista squares\n    squares.append(square)\n    \n    # Por fim, quando o laço acaba de executar, a lista de quadrados é exibida\n    print(squares)         ",
      "metadata": {
        "trusted": true
      },
      "outputs": [
        {
          "name": "stdout",
          "text": "[1]\n[1, 4]\n[1, 4, 9]\n[1, 4, 9, 16]\n[1, 4, 9, 16, 25]\n[1, 4, 9, 16, 25, 36]\n[1, 4, 9, 16, 25, 36, 49]\n[1, 4, 9, 16, 25, 36, 49, 64]\n[1, 4, 9, 16, 25, 36, 49, 64, 81]\n[1, 4, 9, 16, 25, 36, 49, 64, 81, 100]\n",
          "output_type": "stream"
        }
      ],
      "execution_count": 29
    },
    {
      "cell_type": "markdown",
      "source": "**Para escrever esse código de modo mais conciso, omita a variável temporária square e concatene cada novo valor diretamente na lista:**",
      "metadata": {}
    },
    {
      "cell_type": "code",
      "source": "squares = []\nfor value in range(1,11):\n    squares.append(value**2)\n    print(squares)",
      "metadata": {
        "trusted": true
      },
      "outputs": [
        {
          "name": "stdout",
          "text": "[1]\n[1, 4]\n[1, 4, 9]\n[1, 4, 9, 16]\n[1, 4, 9, 16, 25]\n[1, 4, 9, 16, 25, 36]\n[1, 4, 9, 16, 25, 36, 49]\n[1, 4, 9, 16, 25, 36, 49, 64]\n[1, 4, 9, 16, 25, 36, 49, 64, 81]\n[1, 4, 9, 16, 25, 36, 49, 64, 81, 100]\n",
          "output_type": "stream"
        }
      ],
      "execution_count": 101
    },
    {
      "cell_type": "markdown",
      "source": "Você pode usar qualquer uma dessas duas abordagens quando criar listas mais complexas. Às vezes, usar uma variável temporária deixa o código mais legível; em outras ocasiões, deixa o código desnecessariamente longo. **Concentre-se primeiro em escrever um código que você entenda claramente e faça o que você quer que ele faça. Em seguida, procure abordagens mais eficientes à medida que revisar seu código.**\n",
      "metadata": {}
    },
    {
      "cell_type": "markdown",
      "source": "### Estatísticas simples com uma lista de números",
      "metadata": {}
    },
    {
      "cell_type": "markdown",
      "source": "**Algumas funções Python são específicas para listas de números.** Por exemplo, podemos encontrar facilmente **o valor mínimo, o valor máximo e a soma de uma lista de números:**",
      "metadata": {}
    },
    {
      "cell_type": "code",
      "source": "digits = [1, 2, 3, 4, 5, 6, 7, 8, 9, 0]\nmin(digits)",
      "metadata": {
        "trusted": true
      },
      "outputs": [
        {
          "execution_count": 105,
          "output_type": "execute_result",
          "data": {
            "text/plain": "0"
          },
          "metadata": {}
        }
      ],
      "execution_count": 105
    },
    {
      "cell_type": "code",
      "source": "max(digits)",
      "metadata": {
        "trusted": true
      },
      "outputs": [
        {
          "execution_count": 106,
          "output_type": "execute_result",
          "data": {
            "text/plain": "9"
          },
          "metadata": {}
        }
      ],
      "execution_count": 106
    },
    {
      "cell_type": "code",
      "source": "sum(digits)",
      "metadata": {
        "trusted": true
      },
      "outputs": [
        {
          "execution_count": 107,
          "output_type": "execute_result",
          "data": {
            "text/plain": "45"
          },
          "metadata": {}
        }
      ],
      "execution_count": 107
    },
    {
      "cell_type": "markdown",
      "source": "**NOTA**  \nOs exemplos desta seção utilizam listas pequenas de números para que caibam facilmente na página. Esses exemplos também funcionarão bem se sua lista contiver um milhão de números ou mais.",
      "metadata": {}
    },
    {
      "cell_type": "markdown",
      "source": "### List comprehensions",
      "metadata": {}
    },
    {
      "cell_type": "markdown",
      "source": "A abordagem descrita antes para gerar a lista ***quares*** usou três ou quatro linhas de código. Uma <code>**list comprehension (abrangência de lista)**</code> permite gerar essa mesma lista com apenas uma linha de código. \n\n+ **Uma <code>**list comprehensions**</code> combina o laço <code>for</code> e a criação de novos elementos em uma linha, e concatena cada novo elemento automaticamente.**\n\nAs <code>**list comprehensions**</code> nem sempre são apresentadas aos iniciantes, mas eu as incluí aqui porque é bem provável que você as veja assim que começar a analisar códigos de outras pessoas.",
      "metadata": {}
    },
    {
      "cell_type": "markdown",
      "source": "O exemplo a seguir cria a mesma lista de quadrados perfeitos que vimos antes, porém utiliza **uma list comprehension:**",
      "metadata": {}
    },
    {
      "cell_type": "code",
      "source": "squares = [value**2 for value in range(1,11)]\nprint(squares)",
      "metadata": {
        "trusted": true
      },
      "outputs": [
        {
          "name": "stdout",
          "text": "[1, 4, 9, 16, 25, 36, 49, 64, 81, 100]\n",
          "output_type": "stream"
        }
      ],
      "execution_count": 108
    },
    {
      "cell_type": "markdown",
      "source": "Para usar essa sintaxe, comece com um nome descritivo para a lista, por exemplo, **squares**. Em seguida, insira um colchete de abertura e defina a expressão para os valores que você quer armazenar na nova lista. Nesse exemplo, a expressão é **<code>value**2</code>**, que eleva o valor ao quadrado. Então escreva um laço **for** para gerar os números que você quer fornecer à expressão e insira um colchete de fechamento. O laço **for** nesse exemplo é **for value in range(1,11)**, que fornece os valores de **1 a 10** à expressão **<code>value**2</code>**. Observe que não usamos **dois-pontos (:)** no final da instrução **for**.",
      "metadata": {}
    },
    {
      "cell_type": "markdown",
      "source": "O resultado é a mesma lista de valores ao quadrado que vimos antes:",
      "metadata": {}
    },
    {
      "cell_type": "code",
      "source": "print(squares)",
      "metadata": {
        "trusted": true
      },
      "outputs": [
        {
          "name": "stdout",
          "text": "[1, 4, 9, 16, 25, 36, 49, 64, 81, 100]\n",
          "output_type": "stream"
        }
      ],
      "execution_count": 109
    },
    {
      "cell_type": "markdown",
      "source": "Escrever suas próprias **list comprehensions** exige um pouco de prática, mas você verá que vale a pena conhecê-las depois que se sentir à vontade para criar listas comuns. Quando escrever três ou quatro linhas de código para gerar listas e isso começar a parecer repetitivo, considere escrever suas próprias **list comprehensions**.",
      "metadata": {}
    },
    {
      "cell_type": "markdown",
      "source": "### **FAÇA VOCÊ MESMO**",
      "metadata": {}
    },
    {
      "cell_type": "markdown",
      "source": "**4.3 – Contando até vinte:** Use um laço <code>for</code> para exibir os números de 1 a 20, incluindo-os.",
      "metadata": {}
    },
    {
      "cell_type": "code",
      "source": "for value in range(1,21):\n    print(value)",
      "metadata": {
        "trusted": true
      },
      "outputs": [
        {
          "name": "stdout",
          "text": "1\n2\n3\n4\n5\n6\n7\n8\n9\n10\n11\n12\n13\n14\n15\n16\n17\n18\n19\n20\n",
          "output_type": "stream"
        }
      ],
      "execution_count": 9
    },
    {
      "cell_type": "markdown",
      "source": "**4.4 – Um milhão:** Crie uma lista de números de 1 a 1 milhão e, então, use um laço code>for</code> para exibir os números. (Se a saída estiver demorando demais, interrompa pressionando CTRL-C ou feche a janela de saída.)  **OBS: \"Usei 30 por que 1 milhão demora muito e é longo**",
      "metadata": {}
    },
    {
      "cell_type": "code",
      "source": "for value in range(1,31):\n    print(value)",
      "metadata": {
        "trusted": true
      },
      "outputs": [
        {
          "name": "stdout",
          "text": "1\n2\n3\n4\n5\n6\n7\n8\n9\n10\n11\n12\n13\n14\n15\n16\n17\n18\n19\n20\n21\n22\n23\n24\n25\n26\n27\n28\n29\n30\n",
          "output_type": "stream"
        }
      ],
      "execution_count": 4
    },
    {
      "cell_type": "markdown",
      "source": "**4.5 – Somando um milhão:** Crie uma lista de números de 1 a 1 milhão e, em seguida, use **min()** e **max()** para garantir que sua lista realmente começa em 1 e termina em 1 milhão. Além disso, utilize a função **sum()** para ver a rapidez com que Python é capaz de somar um milhão de números. **OBS: \"Usei 30 por que 1 milhão demora muito e é longo\"**",
      "metadata": {}
    },
    {
      "cell_type": "code",
      "source": "#Usar a função lista() para cara converter esse mesmo conjunto de números em uma lista\nvalues = list(range(1,31))\nprint(values)",
      "metadata": {
        "trusted": true
      },
      "outputs": [
        {
          "name": "stdout",
          "text": "[1, 2, 3, 4, 5, 6, 7, 8, 9, 10, 11, 12, 13, 14, 15, 16, 17, 18, 19, 20, 21, 22, 23, 24, 25, 26, 27, 28, 29, 30]\n",
          "output_type": "stream"
        }
      ],
      "execution_count": 3
    },
    {
      "cell_type": "code",
      "source": "min(values)",
      "metadata": {
        "trusted": true
      },
      "outputs": [
        {
          "execution_count": 4,
          "output_type": "execute_result",
          "data": {
            "text/plain": "1"
          },
          "metadata": {}
        }
      ],
      "execution_count": 4
    },
    {
      "cell_type": "code",
      "source": "max(values)",
      "metadata": {
        "trusted": true
      },
      "outputs": [
        {
          "execution_count": 5,
          "output_type": "execute_result",
          "data": {
            "text/plain": "30"
          },
          "metadata": {}
        }
      ],
      "execution_count": 5
    },
    {
      "cell_type": "code",
      "source": "sum(values)",
      "metadata": {
        "trusted": true
      },
      "outputs": [
        {
          "execution_count": 6,
          "output_type": "execute_result",
          "data": {
            "text/plain": "465"
          },
          "metadata": {}
        }
      ],
      "execution_count": 6
    },
    {
      "cell_type": "markdown",
      "source": "**4.6 – Números ímpares:** Use o terceiro argumento da função **range()** para criar uma lista de números ímpares de 1 a 20. Utilize um laço **for** para exibir todos os números.",
      "metadata": {}
    },
    {
      "cell_type": "code",
      "source": "for values in range(1,21,2): # o 3º argumento 2 na função range(1, 21, 2) faz com que a sequência de números seja gerada de 2 em 2, começando em 1 e terminando antes de 21.\n    print(values) ",
      "metadata": {
        "trusted": true
      },
      "outputs": [
        {
          "name": "stdout",
          "text": "1\n3\n5\n7\n9\n11\n13\n15\n17\n19\n",
          "output_type": "stream"
        }
      ],
      "execution_count": 23
    },
    {
      "cell_type": "markdown",
      "source": "**4.7– Três:** Crie uma lista de múltiplos de 3, de 3 a 30. Use um laço **for** para exibir os números de sua lista.",
      "metadata": {}
    },
    {
      "cell_type": "code",
      "source": "# Criação da lista de múltiplos de 3\nmultiplos_de_3 = list(range(3,31,3))\n\n# Exibição dos números da lista\nfor numero in multiplos_de_3:\n    print(numero)",
      "metadata": {
        "trusted": true
      },
      "outputs": [
        {
          "name": "stdout",
          "text": "3\n6\n9\n12\n15\n18\n21\n24\n27\n30\n",
          "output_type": "stream"
        }
      ],
      "execution_count": 151
    },
    {
      "cell_type": "markdown",
      "source": "**4.8 – Cubos:** Um número elevado à terceira potência é chamado de **cubo**. Por exemplo, <code>o cubo de 2 é escrito como 2**3</code> em Python. Crie uma lista dos dez primeiros cubos (isto é, o cubo de cada inteiro de 1 a 10), e utilize um laço **for** para exibir o valor de cada cubo.",
      "metadata": {}
    },
    {
      "cell_type": "code",
      "source": "#Usar função range para percorrer os valores 1 a 10\nfor valor in range(1,11):\n    cubo = valor**3\n    cubos.append(cubo)\n    print(cubo)\n    ",
      "metadata": {
        "trusted": true
      },
      "outputs": [
        {
          "name": "stdout",
          "text": "1\n8\n27\n64\n125\n216\n343\n512\n729\n1000\n",
          "output_type": "stream"
        }
      ],
      "execution_count": 49
    },
    {
      "cell_type": "markdown",
      "source": "**4.9 – Comprehension de cubos:** Use uma list comprehension para gerar uma lista dos dez primeiros cubos.\n",
      "metadata": {}
    },
    {
      "cell_type": "code",
      "source": "cubo = [valor**3 for valor in range (1,11)]\nprint(cubo)",
      "metadata": {
        "trusted": true
      },
      "outputs": [
        {
          "name": "stdout",
          "text": "[1, 8, 27, 64, 125, 216, 343, 512, 729, 1000]\n",
          "output_type": "stream"
        }
      ],
      "execution_count": 51
    },
    {
      "cell_type": "markdown",
      "source": "<hr>",
      "metadata": {}
    },
    {
      "cell_type": "markdown",
      "source": "## **Trabalhando com parte de uma lista**",
      "metadata": {}
    },
    {
      "cell_type": "markdown",
      "source": "**No Capítulo 3** aprendemos a acessar elementos únicos de uma lista e, neste capítulo, aprendemos a trabalhar com todos os elementos de uma lista. **Também podemos trabalhar com um grupo específico de itens de uma lista, que Python chama de <code>**fatia**</code>.**",
      "metadata": {}
    },
    {
      "cell_type": "markdown",
      "source": "### Fatiando uma lista",
      "metadata": {}
    },
    {
      "cell_type": "markdown",
      "source": "**Para criar uma <code>**fatia**</code>, especifique o índice do primeiro e do último elemento com os quais você quer trabalhar.** Como ocorre na função range(), Python para em um item antes do segundo índice que você especificar. *Para exibir os três primeiros elementos de uma lista, solicite os índices de 0 a 3; os elementos 0, 1 e 2 serão devolvidos.*\n\nO exemplo a seguir envolve uma lista de jogadores de um time:",
      "metadata": {}
    },
    {
      "cell_type": "code",
      "source": "players = ['charles', 'martina', 'michael', 'florence', 'eli']\nprint(players[0:3]) # Exibe uma fatia dessa lista, que inclui apenas os três primeiros jogadores.",
      "metadata": {
        "trusted": true
      },
      "outputs": [
        {
          "name": "stdout",
          "text": "['charles', 'martina', 'michael']\n",
          "output_type": "stream"
        }
      ],
      "execution_count": 54
    },
    {
      "cell_type": "markdown",
      "source": "**Você pode gerar qualquer subconjunto de uma lista.** Por exemplo, se quiser o segundo, o terceiro e o quarto itens de uma lista, comece a fatia no índice 1 e termine no índice 4:",
      "metadata": {}
    },
    {
      "cell_type": "code",
      "source": "print(players[1:4])",
      "metadata": {
        "trusted": true
      },
      "outputs": [
        {
          "name": "stdout",
          "text": "['martina', 'michael', 'florence']\n",
          "output_type": "stream"
        }
      ],
      "execution_count": 55
    },
    {
      "cell_type": "markdown",
      "source": "**Se o primeiro índice de uma fatia for omitido**, Python começará sua fatia automaticamente no início da lista:",
      "metadata": {}
    },
    {
      "cell_type": "code",
      "source": "print(players[:5]) # Sem um índice de início, Python usa o início da lista",
      "metadata": {
        "trusted": true
      },
      "outputs": [
        {
          "name": "stdout",
          "text": "['charles', 'martina', 'michael', 'florence', 'eli']\n",
          "output_type": "stream"
        }
      ],
      "execution_count": 58
    },
    {
      "cell_type": "markdown",
      "source": "**Uma sintaxe semelhante funcionará se você quiser uma fatia que inclua o final de uma lista.** Por exemplo, se quiser todos os itens do terceiro até o último item, podemos começar com o índice 2 e omitir o segundo índice:",
      "metadata": {}
    },
    {
      "cell_type": "code",
      "source": "print(players[2:]) # Python devolve todos os itens, do terceiro item até o final da lista",
      "metadata": {
        "trusted": true
      },
      "outputs": [
        {
          "name": "stdout",
          "text": "['michael', 'florence', 'eli']\n",
          "output_type": "stream"
        }
      ],
      "execution_count": 60
    },
    {
      "cell_type": "markdown",
      "source": "Essa sintaxe permite apresentar todos os elementos a partir de qualquer ponto de sua lista até o final, independentemente do tamanho da lista. **Lembre-se de que um índice negativo devolve um elemento a uma determinada distância do final de uma lista;** assim, podemos exibir qualquer **fatia** a partir do final de uma lista.\n\nPor exemplo, se quisermos apresentar os três últimos jogadores da lista, podemos usar a fatia players[-3:]:",
      "metadata": {}
    },
    {
      "cell_type": "code",
      "source": "print(players[-3:]) #Esse código exibe os nomes dos três últimos jogadores e continuaria a funcionar à medida que a lista de jogadores mudar de tamanho.",
      "metadata": {
        "trusted": true
      },
      "outputs": [
        {
          "name": "stdout",
          "text": "['michael', 'florence', 'eli']\n",
          "output_type": "stream"
        }
      ],
      "execution_count": 62
    },
    {
      "cell_type": "markdown",
      "source": "### Percorrendo uma fatia com um laço",
      "metadata": {}
    },
    {
      "cell_type": "markdown",
      "source": "**Você pode usar uma <code>**fatia**</code> em um laço <code>**for**</code> se quiser percorrer um subconjunto de elementos de uma lista**. No próximo exemplo, percorreremos os três primeiros jogadores e exibiremos seus nomes como parte de uma lista simples:",
      "metadata": {}
    },
    {
      "cell_type": "code",
      "source": "players = ['charles', 'martina', 'michael', 'florence', 'eli']\nprint(\"Here are the first three players on my team:\")\nfor player in players[:3]:\n    print(player.title())",
      "metadata": {
        "trusted": true
      },
      "outputs": [
        {
          "name": "stdout",
          "text": "Here are the first three players on my team:\nCharles\nMartina\nMichael\n",
          "output_type": "stream"
        }
      ],
      "execution_count": 64
    },
    {
      "cell_type": "markdown",
      "source": "**As <code>**fatia**</code> são muito úteis em várias situações.** Por exemplo: \n+ **Quando criar um jogo**, você poderia adicionar a pontuação final de um jogador em uma lista sempre que esse jogador acabar de jogar. Seria possível então obter as três pontuações mais altas de um jogador ordenando a lista em ordem decrescente e obtendo uma lista que inclua apenas as três primeiras pontuações.\n+ Ao trabalhar com **dados**, você pode usar fatias para processar seus dados em porções de tamanho específico.\n+ Quando criar **uma aplicação web**, fatias poderiam ser usadas para exibir informações em uma série de páginas, com uma quantidade apropriada de informações em cada página.*",
      "metadata": {}
    },
    {
      "cell_type": "markdown",
      "source": "### Copiando uma lista",
      "metadata": {}
    },
    {
      "cell_type": "markdown",
      "source": "Com frequência, você vai querer começar com uma lista existente e criar uma lista totalmente nova com base na primeira. Vamos explorar o modo de copiar uma lista e analisar uma situação em que copiar uma lista é útil.  \n\n+ **Para copiar uma <code>**lista**</code>, podemos criar uma <code>**fatia**</code> que inclua a lista original inteira omitindo o primeiro e o segundo índices ([:]).** Isso diz a Python para criar uma lista que começa no primeiro item e termina no último, gerando uma cópia da lista toda.\n\nPor exemplo, suponha que temos uma lista de nossos alimentos prediletos e queremos criar uma lista separada de comidas que um amigo gosta. Esse amigo gosta de tudo que está em nossa lista até agora, portanto podemos criar sua lista copiando a nossa:",
      "metadata": {}
    },
    {
      "cell_type": "code",
      "source": "my_foods = ['pizza', 'falafel', 'carrot cake'] # criamos uma lista de alimentos de que gostamos e a chamamos de my_foods\nfriend_foods = my_foods[:]       #criamos uma nova lista friend_foods e copiamos my_foods solicitando uma fatia e armazenamos a cópia em friend_foods\nprint(\"My favorite foods are:\")  \nprint(my_foods)\nprint(\"\\nMy friend favorite foods are:\")\nprint(friend_foods)\n\n#Quando exibimos cada lista, vemos que as duas contêm os mesmos alimentos",
      "metadata": {
        "trusted": true
      },
      "outputs": [
        {
          "name": "stdout",
          "text": "My favorite foods are:\n['pizza', 'falafel', 'carrot cake']\n\nMy friend favorite foods are:\n['pizza', 'falafel', 'carrot cake']\n",
          "output_type": "stream"
        }
      ],
      "execution_count": 110
    },
    {
      "cell_type": "markdown",
      "source": "**Para provar que realmente temos duas listas separadas, acrescentaremos um alimento em cada lista e mostraremos que cada lista mantém um registro apropriado das comidas favoritas de cada pessoa:**",
      "metadata": {}
    },
    {
      "cell_type": "code",
      "source": "friend_foods = my_foods[:] #copiamos os itens originais em my_foods para a nova lista friend_foods, como fizemos no exemplo anterior\nmy_foods.append('salad')   \nfriend_foods.append('ice scream') # adicionamos um novo alimento em cada lista\nprint(\"My favorite foods are:\")  \nprint(my_foods)\nprint(\"\\nMy friend favorite foods are:\")\nprint(friend_foods)",
      "metadata": {
        "trusted": true
      },
      "outputs": [
        {
          "name": "stdout",
          "text": "My favorite foods are:\n['pizza', 'falafel', 'carrot cake', 'salad']\n\nMy friend favorite foods are:\n['pizza', 'falafel', 'carrot cake', 'ice scream']\n",
          "output_type": "stream"
        }
      ],
      "execution_count": 111
    },
    {
      "cell_type": "markdown",
      "source": "Se tivéssemos simplesmente definido **friend_foods** como igual a **my_foods, não teríamos gerado duas listas separadas**. Por exemplo, eis o que acontece quando tentamos copiar uma lista sem usar **uma fatia**:",
      "metadata": {}
    },
    {
      "cell_type": "code",
      "source": "my_foods = ['pizza', 'falafel', 'carrot cake']\n\n# Isto não funciona:\nfriend_foods = my_foods # Em vez de armazenar uma cópia de my_foods em friend_foods, definimos que friend_foods é igual a my_foods.\nmy_foods.append('salad')   \nfriend_foods.append('ice scream') # adicionamos um novo alimento em cada lista\nprint(\"My favorite foods are:\")  \nprint(my_foods)\nprint(\"\\nMy friend favorite foods are:\")\nprint(friend_foods)",
      "metadata": {
        "trusted": true
      },
      "outputs": [
        {
          "name": "stdout",
          "text": "My favorite foods are:\n['pizza', 'falafel', 'carrot cake', 'salad', 'ice scream']\n\nMy friend favorite foods are:\n['pizza', 'falafel', 'carrot cake', 'salad', 'ice scream']\n",
          "output_type": "stream"
        }
      ],
      "execution_count": 75
    },
    {
      "cell_type": "markdown",
      "source": "**A saída mostra que as duas listas agora são iguais, mas não é isso que queríamos fazer:** *My favorite foods* are: **['pizza', 'falafel', 'carrot cake', 'salad', 'ice cream']|**",
      "metadata": {}
    },
    {
      "cell_type": "markdown",
      "source": "**NOTA**  \n*Não se preocupe com os detalhes desse exemplo por enquanto. Basicamente, **se você estiver tentando trabalhar com uma cópia de uma lista e vir um comportamento inesperado, certifique-se de que está copiando a lista usando uma fatia, como fizemos no primeiro exemplo.***\n",
      "metadata": {}
    },
    {
      "cell_type": "markdown",
      "source": "### **FAÇA VOCÊ MESMO**",
      "metadata": {}
    },
    {
      "cell_type": "markdown",
      "source": "**4.10 – Fatias:** Usando um dos programas que você escreveu neste capítulo, acrescente várias linhas no final do programa que façam o seguinte: \n+ Exiba a mensagem Os três primeiros itens da lista são: Em seguida, use uma fatia para exibir os três primeiros itens da lista desse programa.\n+ Exiba a mensagem Os Três itens do meio da lista são:. Use uma fatia para exibir três itens do meio da lista.\n+ Exiba a mensagem Os três últimos itens da lista são:. Use uma fatia para exibir os três últimos itens da lista.",
      "metadata": {}
    },
    {
      "cell_type": "code",
      "source": "jogadores = ['messi', 'gerrard', 'ronaldinho', 'etoo', 'drogba']\nprint(\"Os três melhores jogadores de sempre da lista são:\")\nprint(jogadores[:3]) ",
      "metadata": {
        "trusted": true
      },
      "outputs": [
        {
          "name": "stdout",
          "text": "Os três melhores jogadores de sempre da lista são:\n['messi', 'gerrard', 'ronaldinho']\n",
          "output_type": "stream"
        }
      ],
      "execution_count": 83
    },
    {
      "cell_type": "code",
      "source": "print(\" Os Três jogadores do meio da lista são:\")\nprint(jogadores[1:4])",
      "metadata": {
        "trusted": true
      },
      "outputs": [
        {
          "name": "stdout",
          "text": " Os Três jogadores do meio da lista são:\n['gerrard', 'ronaldinho', 'etoo']\n",
          "output_type": "stream"
        }
      ],
      "execution_count": 86
    },
    {
      "cell_type": "code",
      "source": "print(\" Os Três jogadores últimos da lista são:\")\nprint(jogadores[2:])",
      "metadata": {
        "trusted": true
      },
      "outputs": [
        {
          "name": "stdout",
          "text": " Os Três jogadores últimos da lista são:\n['ronaldinho', 'etoo', 'drogba']\n",
          "output_type": "stream"
        }
      ],
      "execution_count": 87
    },
    {
      "cell_type": "markdown",
      "source": "**4.11 – Minhas pizzas, suas pizzas:** Comece com seu programa do Exercício 4.1 (página 97). Faça uma cópia da lista de pizzas e chame-a de **friend_pizzas**. Então faça o seguinte: \n+ Adicione uma nova pizza à lista original.\n+ Adicione uma pizza diferente à lista friend_pizzas.\n+ Prove que você tem duas listas diferentes. Exiba a mensagem *Minhas pizzas favoritas são:*; em seguida, utilize um laço **for** para exibir a primeira lista.\n+ Exiba a mensagem *As pizzas favoritas de meu amigo são:*; em seguida, utilize um laço *for* para exibir a segunda lista. Certifique-se de que cada pizza nova esteja armazenada na lista apropriada.",
      "metadata": {}
    },
    {
      "cell_type": "code",
      "source": "friend_pizzas = pizzas[:] #Faça uma cópia da lista de pizzas e chame-a de friend_pizzas\npizzas.append('vegan') #Adicione uma nova pizza à lista original.\nfriend_pizzas.append('garlic') #Adicione uma pizza diferente à lista friend_pizzas.\nprint(\"Minhas pizzas favoritas são:\") #Exiba a mensagem\nfor pizza in pizzas: # utilize um laço for para exibir a primeira lista\n    print(pizza)\n    \nprint(\"\\nAs pizzas favoritas de meu amigo são:\") #Exiba a mensagem\nfor pizza in friend_pizzas: #utilize um laço for para exibir a segunda lista\n    print(pizza)",
      "metadata": {
        "trusted": true
      },
      "outputs": [
        {
          "name": "stdout",
          "text": "Minhas pizzas favoritas são:\npepperoni\ntropical\nqueijo\nvegan\n\nAs pizzas favoritas de meu amigo são:\npepperoni\ntropical\nqueijo\ngarlic\n",
          "output_type": "stream"
        }
      ],
      "execution_count": 104
    },
    {
      "cell_type": "markdown",
      "source": "**4.12 – Mais laços:** Todas as versões de foods.py nesta seção evitaram usar laços **for** para fazer exibições a fim de economizar espaço. Escolha uma versão de foods.py e escreva dois laços **for** para exibir cada lista de comidas.",
      "metadata": {}
    },
    {
      "cell_type": "code",
      "source": "for food in my_foods:\n    print(food)",
      "metadata": {
        "trusted": true
      },
      "outputs": [
        {
          "name": "stdout",
          "text": "pizza\nfalafel\ncarrot cake\nsalad\n",
          "output_type": "stream"
        }
      ],
      "execution_count": 112
    },
    {
      "cell_type": "code",
      "source": "for food in friend_foods:\n    print(food)",
      "metadata": {
        "trusted": true
      },
      "outputs": [
        {
          "name": "stdout",
          "text": "pizza\nfalafel\ncarrot cake\nice scream\n",
          "output_type": "stream"
        }
      ],
      "execution_count": 113
    },
    {
      "cell_type": "markdown",
      "source": "<hr>",
      "metadata": {}
    },
    {
      "cell_type": "markdown",
      "source": "## **Tuplas**",
      "metadata": {}
    },
    {
      "cell_type": "markdown",
      "source": "**As listas funcionam bem para armazenar conjuntos de itens que podem mudar durante a vida de um programa.** A capacidade de modificar listas é particularmente importante quando trabalhamos com uma lista de usuários em um site ou com uma lista de personagens em um jogo. No entanto, às vezes, você vai querer criar uma lista de itens que não poderá mudar. As <code>**tuplas**</code> permitir fazer exatamente isso. \n+ **Python refere-se a valores que não podem mudar como *imutáveis*, e uma lista imutável é chamada de <code>tuplas</code> .**",
      "metadata": {}
    },
    {
      "cell_type": "markdown",
      "source": "### Definindo uma tupla",
      "metadata": {}
    },
    {
      "cell_type": "markdown",
      "source": "**Uma <code>tupla</code>  se parece exatamente com uma lista, exceto por usar parênteses () no lugar de colchetes [].** Depois de definir uma tupla, podemos acessar elementos individuais usando o índice de cada item, como faríamos com uma lista.  \n\nPor exemplo, se tivermos um retângulo que sempre deva ter determinado tamanho, podemos garantir que seu tamanho não mudará colocando as dimensões em uma tupla:\n",
      "metadata": {}
    },
    {
      "cell_type": "code",
      "source": "dimensions = (200, 50) #Definimos a tupla dimensions, usando parênteses () no lugar de colchetes []\nprint(dimensions[0]) #exibimos cada elemento da tupla individualmente com a mesma sintaxe que usamos para acessar elementos de uma lista\nprint(dimensions[1])",
      "metadata": {
        "trusted": true
      },
      "outputs": [
        {
          "name": "stdout",
          "text": "200\n50\n",
          "output_type": "stream"
        }
      ],
      "execution_count": 116
    },
    {
      "cell_type": "markdown",
      "source": "Vamos ver o que acontece se tentarmos alterar um dos itens da tupla **dimensions**:",
      "metadata": {}
    },
    {
      "cell_type": "code",
      "source": "dimensions[0] = 250 #O código tenta mudar o valor da primeira dimensão, mas Python devolve um erro de tipo.",
      "metadata": {
        "trusted": true
      },
      "outputs": [
        {
          "ename": "<class 'TypeError'>",
          "evalue": "'tuple' object does not support item assignment",
          "traceback": [
            "\u001b[0;31m---------------------------------------------------------------------------\u001b[0m",
            "\u001b[0;31mTypeError\u001b[0m                                 Traceback (most recent call last)",
            "Cell \u001b[0;32mIn[117], line 1\u001b[0m\n\u001b[0;32m----> 1\u001b[0m \u001b[43mdimensions\u001b[49m\u001b[43m[\u001b[49m\u001b[38;5;241;43m0\u001b[39;49m\u001b[43m]\u001b[49m \u001b[38;5;241m=\u001b[39m \u001b[38;5;241m250\u001b[39m\n",
            "\u001b[0;31mTypeError\u001b[0m: 'tuple' object does not support item assignment"
          ],
          "output_type": "error"
        }
      ],
      "execution_count": 117
    },
    {
      "cell_type": "markdown",
      "source": "Basicamente, pelo fato de estarmos tentando alterar uma <code>tupla</code>, **o que não pode ser feito para esse tipo de objeto, Python nos informa que não podemos atribuir um novo valor a um item em uma <code>tupla</code>.**",
      "metadata": {}
    },
    {
      "cell_type": "markdown",
      "source": "### Percorrendo todos os valores de uma tupla com um laço",
      "metadata": {}
    },
    {
      "cell_type": "markdown",
      "source": "Podemos percorrer todos os valores de uma <code>tupla</code> usando um laço **for**, assim como fizemos com uma lista:",
      "metadata": {}
    },
    {
      "cell_type": "code",
      "source": "dimensions = (200, 50)\nfor dimension in dimensions:\n    print(dimension) # Python devolve todos os elementos da tupla, como faria com uma lista",
      "metadata": {
        "trusted": true
      },
      "outputs": [
        {
          "name": "stdout",
          "text": "200\n50\n",
          "output_type": "stream"
        }
      ],
      "execution_count": 153
    },
    {
      "cell_type": "markdown",
      "source": "### Sobrescrevendo uma tupla",
      "metadata": {}
    },
    {
      "cell_type": "markdown",
      "source": "Embora não seja possível modificar uma <code>**tupla**</code>, podemos atribuir um novo valor a uma variável que armazena uma <code>tupla</code>. Portanto, se quiséssemos alterar nossas dimensões, poderíamos redefinir a <code>**tupla**</code> toda:",
      "metadata": {}
    },
    {
      "cell_type": "code",
      "source": "dimensions = (200, 50)   #define a tupla original e exibe as dimensões iniciais.\nprint(\"Original dimensions:\")\nfor dimension in dimensions:\n     print(dimension)",
      "metadata": {
        "trusted": true
      },
      "outputs": [
        {
          "name": "stdout",
          "text": "Original dimensions:\n200\n50\n",
          "output_type": "stream"
        }
      ],
      "execution_count": 121
    },
    {
      "cell_type": "code",
      "source": "dimensions = (400, 100) #armazenamos uma nova tupla na variável dimensions\nprint(\"\\nModified dimensions:\") \nfor dimension in dimensions:\n     print(dimension) \n#exibimos as novas dimensões, Python não gera nenhum erro dessa vez, pois sobrescrever uma variável é uma operação válida.",
      "metadata": {
        "trusted": true
      },
      "outputs": [
        {
          "name": "stdout",
          "text": "\nModified dimensions:\n400\n100\n",
          "output_type": "stream"
        }
      ],
      "execution_count": 123
    },
    {
      "cell_type": "markdown",
      "source": "**Se comparada com <code>listas</code>, as <code>tuplas</code> são estruturas de dados simples. Use-as quando quiser armazenar um conjunto de valores que não deva ser alterado durante a vida de um programa.**",
      "metadata": {}
    },
    {
      "cell_type": "markdown",
      "source": "### <b>FAÇA VOCÊ MESMO\n",
      "metadata": {}
    },
    {
      "cell_type": "markdown",
      "source": "**4.13 – Buffet:** Um restaurante do tipo buffet oferece apenas cinco tipos básicos de comida. Pense em cinco pratos simples e armazene-os em uma **tupla**.\n+ Use um laço **for** para exibir cada prato oferecido pelo restaurante.\n+ Tente modificar um dos itens e cerifique-se de que Python rejeita a mudança.\n+ O restaurante muda seu cardápio, substituindo dois dos itens com pratos diferentes. Acrescente um bloco de código que reescreva a <code>tupla</code> e, em seguida, use um laço **for** para exibir cada um dos itens do cardápio revisado.",
      "metadata": {}
    },
    {
      "cell_type": "code",
      "source": "print(\"Pratos do cardápio original:\")\npratos = ('feijoada', 'bolonesa','cachupa', 'sopa', 'funge') #Pense em cinco pratos simples e armazene-os em uma tupla.\nfor prato in pratos: #Use um laço for para exibir cada prato oferecido pelo restaurante.\n    print(prato)",
      "metadata": {
        "trusted": true
      },
      "outputs": [
        {
          "name": "stdout",
          "text": "Pratos do cardápio original:\nfeijoada\nbolonesa\ncachupa\nsopa\nfunge\n",
          "output_type": "stream"
        }
      ],
      "execution_count": 150
    },
    {
      "cell_type": "code",
      "source": "pratos ['sopa'] = 'salada' #Tente modificar um dos itens e cerifique-se de que Python rejeita a mudança.",
      "metadata": {
        "trusted": true
      },
      "outputs": [
        {
          "ename": "<class 'TypeError'>",
          "evalue": "'tuple' object does not support item assignment",
          "traceback": [
            "\u001b[0;31m---------------------------------------------------------------------------\u001b[0m",
            "\u001b[0;31mTypeError\u001b[0m                                 Traceback (most recent call last)",
            "Cell \u001b[0;32mIn[147], line 1\u001b[0m\n\u001b[0;32m----> 1\u001b[0m \u001b[43mpratos\u001b[49m\u001b[43m \u001b[49m\u001b[43m[\u001b[49m\u001b[38;5;124;43m'\u001b[39;49m\u001b[38;5;124;43msopa\u001b[39;49m\u001b[38;5;124;43m'\u001b[39;49m\u001b[43m]\u001b[49m \u001b[38;5;241m=\u001b[39m \u001b[38;5;124m'\u001b[39m\u001b[38;5;124msalada\u001b[39m\u001b[38;5;124m'\u001b[39m \u001b[38;5;66;03m#Tente modificar um dos itens e cerifique-se de que Python rejeita a mudança.\u001b[39;00m\n",
            "\u001b[0;31mTypeError\u001b[0m: 'tuple' object does not support item assignment"
          ],
          "output_type": "error"
        }
      ],
      "execution_count": 147
    },
    {
      "cell_type": "code",
      "source": "print(\"\\nPratos do cardápio revisado:\") #substituindo dois dos itens com pratos diferentes e Acrescente um bloco de código que reescreva a tupla\npratos = ('feijoada', 'peixe','cachupa', 'salada', 'funge')\nfor prato in pratos: #Use um laço for para exibir cada prato oferecido pelo restaurante.\n    print(prato)",
      "metadata": {
        "trusted": true
      },
      "outputs": [
        {
          "name": "stdout",
          "text": "\nPratos do cardápio revisado:\nfeijoada\npeixe\ncachupa\nsalada\nfunge\n",
          "output_type": "stream"
        }
      ],
      "execution_count": 148
    },
    {
      "cell_type": "markdown",
      "source": "<hr>",
      "metadata": {}
    },
    {
      "cell_type": "markdown",
      "source": "## **Estilizando seu código**",
      "metadata": {}
    },
    {
      "cell_type": "markdown",
      "source": "Agora que você está escrevendo programas mais longos, vale a pena conhecer algumas ideias sobre como **estilizar seu código**. Reserve tempo para deixar seu código o mais legível possível. **Escrever códigos fáceis de ler ajuda a manter o controle sobre o que seus programas fazem e também contribui para que outras pessoas entendam seu código.**\nProgramadores Python chegaram a um acordo sobre várias convenções de estilo a fim de garantir que o código de todos, de modo geral, esteja estruturado da mesma maneira. **Depois que aprender a escrever código Python limpo, você deverá ser capaz de entender a estrutura geral do código Python de qualquer pessoa, desde que elas sigam as mesmas diretrizes.**",
      "metadata": {}
    },
    {
      "cell_type": "markdown",
      "source": "### Guia de estilo",
      "metadata": {}
    },
    {
      "cell_type": "markdown",
      "source": "Quando alguém quer fazer uma alteração na linguagem Python, essa pessoa escreve uma **PEP (Python Enhancement Proposal, ou Proposta de Melhoria de Python)**. Uma das PEPs mais antigas é a **PEP 8, que instrui programadores Python a estilizar seu código**. A PEP é bem longa, mas boa parte dela está relacionada a estruturas de código mais complexas do que vimos até agora.\n\n**O guia de estilo de Python foi escrito considerando que o código é lido com mais frequência que é escrito**. Você escreverá seu código uma vez e então começará a lê-lo quando começar a depuração. Quando acrescentar recursos a um programa, você gastará mais tempo lendo o seu código. Ao compartilhar seu código com outros programadores, eles também o lerão.\n\n* Dada a opção entre escrever um código que seja mais fácil de escrever ou um código que seja mais fácil de ler, os programadores Python quase sempre incentivarão você a escrever um código que seja mais fácil de ler.*\n\n**As diretrizes a seguir ajudarão a escrever um código claro desde o início.**\n",
      "metadata": {}
    },
    {
      "cell_type": "markdown",
      "source": "### Indentação",
      "metadata": {}
    },
    {
      "cell_type": "markdown",
      "source": "**A <code>PEP 8</code> recomenda usar quatro espaços por nível de indentação**. Usar quatro espaços melhora a legibilidade, ao mesmo tempo que deixa espaço para vários níveis de indentação em cada linha.\n\nEm um documento de processador de texto, com frequência, as pessoas usam tabulações no lugar de espaços para indentar. Isso funciona bem para documentos de processadores de texto, mas **o interpretador Python fica confuso quando tabulações são misturadas a espaços**. Todo editor de texto oferece uma configuração que permite usar a tecla **<code>TAB(Enter)</code>,** **mas converte cada tabulação em um número definido de espaços.** \nDefinitivamente, você deve usar a tecla **<code>TAB(Enter)</code>,** *mas certifique- se também de que seu editor esteja configurado para inserir espaços no lugar de tabulações em seu documento.*\n\nMisturar tabulações com espaços em seu arquivo pode causar problemas que são difíceis de diagnosticar. Se você achar que tem uma mistura de tabulações e espaços, é possível converter todas as tabulações de um arquivo em espaços na maioria dos editores.",
      "metadata": {}
    },
    {
      "cell_type": "markdown",
      "source": "### Tamanho da linha",
      "metadata": {}
    },
    {
      "cell_type": "markdown",
      "source": "**A <code>PEP 8</code> também recomenda que você limite todos os seus comentários em <code>72 caracteres por linha</code>, pois algumas das ferramentas que geram documentação automática para projetos maiores acrescentam caracteres de formatação no início de cada linha comentada.**\n\nAs diretrizes da <code>PEP 8</code> para tamanho de linha não estão gravadas a ferro e fogo, e algumas equipes preferem um limite de 99 caracteres. Não se preocupe demais com o tamanho da linha em seu código enquanto estiver aprendendo, mas saiba que as pessoas que trabalham de modo colaborativo quase sempre seguem as orientações da **PEP 8**. **A maioria dos editores permite configurar uma indicação visual – geralmente é uma linha vertical na tela – que mostra em que ponto estão esses limites.**",
      "metadata": {}
    },
    {
      "cell_type": "markdown",
      "source": "**NOTA**\n\nO **Apêndice B** mostra como configurar seu editor de texto de modo que ele insira quatro espaços sempre que você pressionar a **tecla TAB(Enter)** e mostre uma linha vertical para ajudá-lo a seguir o limite de 79 caracteres.\n",
      "metadata": {}
    },
    {
      "cell_type": "markdown",
      "source": "### Linhas em branco",
      "metadata": {}
    },
    {
      "cell_type": "markdown",
      "source": "**Para agrupar partes de seu programa visualmente, utilize linhas em branco.** Você deve usar linhas em branco para organizar seus arquivos, mas não as use de modo excessivo. Ao seguir os exemplos fornecidos neste livro, você deverá atingir o equilíbrio adequado. \n\n**Por exemplo**, *se você tiver cinco linhas de código que criem uma lista e, então, outras três linhas que façam algo com essa lista, será apropriado colocar uma linha em branco entre as duas seções.* Entretanto, você não deve colocar três ou quatro linhas em branco entre as duas seções.\n\n***As linhas em branco*** não afetarão o modo como seu código é executado, mas influenciarão em sua legibilidade. **O interpretador Python utiliza indentação horizontal para interpretar o significado de seu código, mas despreza o espaçamento vertical.**",
      "metadata": {}
    },
    {
      "cell_type": "markdown",
      "source": "### Outras diretrizes de estilo",
      "metadata": {}
    },
    {
      "cell_type": "markdown",
      "source": "A **PEP 8** tem muitas recomendações adicionais para estilo, mas a maioria das diretrizes refere-se a programas mais complexos que aqueles que você está escrevendo no momento. À medida que conhecer estruturas Python mais complexas, compartilharei as partes relevantes das diretrizes da **PEP 8**.",
      "metadata": {}
    },
    {
      "cell_type": "markdown",
      "source": "### **FAÇA VOCÊ MESMO**",
      "metadata": {}
    },
    {
      "cell_type": "markdown",
      "source": "**4.14 – PEP 8:** Observe o guia de estilo da **PEP 8 original** em https://python.org/dev/peps/pep-0008/. Você não usará boa parte dele agora, mas pode ser interessante dar uma olhada.\n\n**4.15 – Revisão de código:** Escolha três programas que você escreveu neste capítulo e modifique-os para que estejam de acordo com a PEP 8:\n\n+ Use quatro espaços para cada nível de indentação. Configure seu editor de texto para inserir quatro espaços sempre que a tecla **TAB** for usada, caso ainda não tenha feito isso (consulte o Apêndice B para ver instruções sobre como fazê-lo).\n+ Use menos de 80 caracteres em cada linha e configure seu editor para que mostre uma linha vertical na posição do caractere de número 80.\n+ Não use linhas em branco em demasia em seus arquivos de programa.",
      "metadata": {}
    },
    {
      "cell_type": "code",
      "source": "# Programa 1: Contando até vinte\n\nfor numero in range(1, 21):\n    print(numero)",
      "metadata": {
        "trusted": true
      },
      "outputs": [
        {
          "name": "stdout",
          "text": "1\n2\n3\n4\n5\n6\n7\n8\n9\n10\n11\n12\n13\n14\n15\n16\n17\n18\n19\n20\n",
          "output_type": "stream"
        }
      ],
      "execution_count": 154
    },
    {
      "cell_type": "code",
      "source": "# Programa 2: Números ímpares\n\nfor numero in range(1, 21, 2):\n    print(numero)",
      "metadata": {
        "trusted": true
      },
      "outputs": [
        {
          "name": "stdout",
          "text": "1\n3\n5\n7\n9\n11\n13\n15\n17\n19\n",
          "output_type": "stream"
        }
      ],
      "execution_count": 155
    },
    {
      "cell_type": "code",
      "source": "# Programa 3: Minhas pizzas, suas pizzas\n\n# Lista original de pizzas\nminhas_pizzas = [\"marguerita\", \"pepperoni\", \"portuguesa\"]\n\n# Fazendo uma cópia da lista de pizzas\nfriend_pizzas = minhas_pizzas[:]\n\n# Adicionando uma nova pizza à lista original\nminhas_pizzas.append(\"quatro queijos\")\n\n# Adicionando uma pizza diferente à lista friend_pizzas\nfriend_pizzas.append(\"frango com catupiry\")\n\n# Exibindo as listas para provar que são diferentes\nprint(\"Minhas pizzas favoritas são:\")\nfor pizza in minhas_pizzas:\n    print(pizza)\n\nprint(\"\\nAs pizzas favoritas de meu amigo são:\")\nfor pizza in friend_pizzas:\n    print(pizza)",
      "metadata": {
        "trusted": true
      },
      "outputs": [
        {
          "name": "stdout",
          "text": "Minhas pizzas favoritas são:\nmarguerita\npepperoni\nportuguesa\nquatro queijos\n\nAs pizzas favoritas de meu amigo são:\nmarguerita\npepperoni\nportuguesa\nfrango com catupiry\n",
          "output_type": "stream"
        }
      ],
      "execution_count": 156
    },
    {
      "cell_type": "markdown",
      "source": "## **Resumo**",
      "metadata": {}
    },
    {
      "cell_type": "markdown",
      "source": "**Neste capítulo aprendemos a trabalhar de modo eficiente com os elementos de uma lista.** \n+ **Vimos como percorrer uma lista usando um laço <code>for</code>**, como Python usa **indentação** para estruturar um programa e como evitar alguns erros comuns de indentação.\n+ **Aprendemos a criar <code>listas numéricas simples</code>**, além de conhecermos algumas operações que podem ser realizadas em listas numéricas.\n+ **Aprendemos a <code>fatiar</code>** uma lista para trabalhar com um subconjunto de itens e a copiar listas de modo adequado usando uma fatia.\n+ **Também conhecemos <code>as tuplas</code>**, que oferecem um nível de proteção a um conjunto de valores que não deve ser alterado, e aprendemos a estilizar seu código cada vez mais complexo para facilitar sua leitura.",
      "metadata": {}
    },
    {
      "cell_type": "markdown",
      "source": "**No Capítulo 5** veremos como responder de forma apropriada a diferentes condições usando instruções **if**. Aprenderemos a combinar conjuntos relativamente complexos de testes condicionais para responder de forma apropriada ao tipo de situação desejada ou oferecer informações que você esteja procurando. \n\nTambém aprenderemos a usar instruções **if** enquanto percorremos uma lista para realizar ações específicas com elementos selecionados de uma lista.",
      "metadata": {}
    },
    {
      "cell_type": "code",
      "source": "",
      "metadata": {
        "trusted": true
      },
      "outputs": [],
      "execution_count": null
    }
  ]
}