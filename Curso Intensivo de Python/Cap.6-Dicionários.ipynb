{
 "cells": [
  {
   "cell_type": "markdown",
   "metadata": {},
   "source": [
    "# **Cap.6 - Dicionários**"
   ]
  },
  {
   "cell_type": "markdown",
   "metadata": {},
   "source": [
    "Neste capítulo aprenderemos a usar **dicionários Python, que permitem conectar informações relacionadas.** Veremos como acessar as informações depois que elas estiverem em um dicionário e modificá-las. **Pelo fato de os dicionários serem capazes de armazenar uma quantidade quase ilimitada de informações, mostraremos como percorrer os dados de um dicionário com um laço.** Além disso, aprenderemos a aninhar dicionários em listas, listas em dicionários e até mesmo dicionários em outros dicionários."
   ]
  },
  {
   "cell_type": "markdown",
   "metadata": {},
   "source": [
    "Entender os dicionários permite modelar uma diversidade de objetos do mundo real de modo mais preciso. **Você será capaz de criar um dicionário que representa uma pessoa e armazenar quantas informações quiser sobre ela. Poderá armazenar o nome, a idade, a localização, a profissão e qualquer outro aspecto de uma pessoa que possa ser descrito.** Você será capaz de armazenar quaisquer duas informações que possam ser combinadas, por exemplo, uma lista de palavras e seus significados, uma lista de nomes de pessoas e seus números favoritos, uma lista de montanhas e suas altitudes, e assim por diante."
   ]
  },
  {
   "cell_type": "markdown",
   "metadata": {},
   "source": [
    "### Um dicionário simples"
   ]
  },
  {
   "cell_type": "markdown",
   "metadata": {},
   "source": [
    "Considere um jogo com alienígenas que possam ter **cores e valores de pontuação diferentes**. O dicionário simples a seguir armazena informações sobre um alienígena em particular:"
   ]
  },
  {
   "cell_type": "code",
   "execution_count": 3,
   "metadata": {},
   "outputs": [
    {
     "name": "stdout",
     "output_type": "stream",
     "text": [
      "green\n",
      "5\n"
     ]
    }
   ],
   "source": [
    "#O dicionário alien_0 armazena a cor do alienígena e o valor da pontuação.\n",
    "alien_0 = {'color': 'green', 'points': 5}\n",
    "print(alien_0['color'])\n",
    "print(alien_0['points'])"
   ]
  },
  {
   "cell_type": "markdown",
   "metadata": {},
   "source": [
    "Como ocorre com a maioria dos conceitos novos de programação, usar dicionários exige prática. Depois de trabalhar um pouco com dicionários, você logo verá a eficiência com que eles podem modelar situações do mundo real."
   ]
  },
  {
   "cell_type": "markdown",
   "metadata": {},
   "source": [
    "## **Trabalhando com dicionários**"
   ]
  },
  {
   "cell_type": "markdown",
   "metadata": {},
   "source": [
    "+ **Um <code>dicionário</code>** em Python **é uma coleção de <code>pares chave-valor</code>.\n",
    "Cada <code>chave</code> é conectada a um <code>valor</code>, e você pode usar uma chave para acessar o valor associado a ela**.\n",
    "\n",
    "O valor de uma chave pode ser **um número, uma string, uma lista** ou **até mesmo outro dicionário**. De fato, podemos usar qualquer objeto que possa ser criado em Python como valor de um dicionário."
   ]
  },
  {
   "cell_type": "markdown",
   "metadata": {},
   "source": [
    "Em Python, **um dicionário** é representado entre **chaves, <code>{}</code>**, **com uma série <code>pares chave-valor</code> entre elas**, como mostramos no exemplo anterior: **alien_0 = {'color': 'green', 'points': 5}**\n",
    "\n",
    "Um **<code>par chave-valor</code>** é um conjunto de valores associados um ao outro. Quando fornecemos **<code>chave</code>**, **Python devolve <code>valor</code>associado a essa chave.**\n",
    "Toda **chave** é associada a seu valor por meio de **dois-pontos(:)** , e **<code>pares chave-valor</code> individuais** são separados por **vírgulas(,)**. Podemos armazenar quantos pares chave-valor quisermos em um dicionário.\n",
    "\n",
    "**O dicionário mais simples tem exatamente um *<code>par chave-valor</code>***, como mostra esta versão modificada do dicionário alien_0:  **alien_0 = {'color': 'green'}**\n",
    "\n",
    "Esse dicionário armazena uma informação sobre **alien_0**, que é a cor do alienígena. A string **'color'** é uma **<code>chave</code>** nesse dicionário, e seu **<code>valor</code>** associado é **'green'**.\n"
   ]
  },
  {
   "cell_type": "markdown",
   "metadata": {},
   "source": [
    "### Acessando valores em um dicionário"
   ]
  },
  {
   "cell_type": "markdown",
   "metadata": {},
   "source": [
    "Para obter **<code>valor</code> associado a uma <code>chave</code>**, especifique **o nome do dicionário e coloque a chave entre colchetes [ ]**, como vemos a seguir:"
   ]
  },
  {
   "cell_type": "code",
   "execution_count": 9,
   "metadata": {},
   "outputs": [
    {
     "name": "stdout",
     "output_type": "stream",
     "text": [
      "green\n"
     ]
    }
   ],
   "source": [
    "# dicionário = {'chave': 'valor'}\n",
    "alien_0 = {'color': 'green'}\n",
    "# print (dicionário['chaves'])\n",
    "print(alien_0['color'])"
   ]
  },
  {
   "cell_type": "markdown",
   "metadata": {},
   "source": [
    "Agora podemos acessar **a cor ou o valor da pontuação de alien_0**. Se um jogador atingir esse alienígena, podemos consultar quantos pontos ele deve ganhar usando um código como este:"
   ]
  },
  {
   "cell_type": "code",
   "execution_count": 22,
   "metadata": {},
   "outputs": [
    {
     "name": "stdout",
     "output_type": "stream",
     "text": [
      "You just earned 5 points!\n"
     ]
    }
   ],
   "source": [
    "alien_0 = {'color': 'green', 'points': 5 }\n",
    "new_points = alien_0['points'] #extrai o valor da chave 'points' do dicionário e é armazenado na variável new_points\n",
    "print(\"You just earned \" + str(new_points) + \" points!\")\n",
    "#converte esse valor inteiro em uma string e exibe uma frase sobre quantos pontos o jogador acabou de ganhar"
   ]
  },
  {
   "cell_type": "markdown",
   "metadata": {},
   "source": [
    "Se executar esse código sempre que um alienígena for atingido, o valor da pontuação para esse alienígena será recuperado."
   ]
  },
  {
   "cell_type": "markdown",
   "metadata": {},
   "source": [
    "### Adicionando novos pares chave-valor"
   ]
  },
  {
   "cell_type": "markdown",
   "metadata": {},
   "source": [
    "Dicionários são estruturas dinâmicas, e você pode adicionar novos <code>**pares chave-valor**</code> a um dicionário a qualquer momento. Por exemplo, para acrescentar um novo <code>**par chave-valor**</code>, especifique **o nome do dicionário, seguido da nova chave entre colchetes, juntamente com o novo valor.**\n",
    "\n",
    "Vamos adicionar duas novas informações ao dicionário **alien_0**: **as coordenadas x** e **y do alienígena**, que nos ajudarão a exibir o alienígena em determinada posição da tela. Vamos colocar o alienígena **na borda esquerda da tela**, **25 pixels** abaixo da margem superior. **Como as coordenadas da tela normalmente começam no canto superior esquerdo da tela**, posicionaremos o alienígena na **margem esquerda** definindo **a coordenada x com 0**, e **25 pixels abaixo da margem superior, definindo a coordenada y com o valor 25 positivo**, como vemos aqui:"
   ]
  },
  {
   "cell_type": "code",
   "execution_count": 220,
   "metadata": {
    "editable": true,
    "slideshow": {
     "slide_type": ""
    },
    "tags": []
   },
   "outputs": [
    {
     "name": "stdout",
     "output_type": "stream",
     "text": [
      "{'color': 'green', 'points': 5}\n",
      "{'color': 'green', 'points': 5, 'x_position': 0, 'y_position': 25}\n"
     ]
    }
   ],
   "source": [
    "alien_0 = {'color': 'green', 'points': 5}\n",
    "print(alien_0)\n",
    "#adicionamos um novo par chave-valor ao dicionário: 'x_position' e o valor 0. Fizemos o mesmo com a chave 'y_position'\n",
    "alien_0['x_position'] = 0\n",
    "alien_0['y_position'] = 25\n",
    "print (alien_0)"
   ]
  },
  {
   "cell_type": "markdown",
   "metadata": {},
   "source": [
    "A versão final do dicionário contém **quatro pares chave-valor**. **Os dois pares originais** especificam **a cor e o valor da pontuação**, enquanto **os dois pares adicionais** especificam **a posição do alienígena**. Observe que a ordem dos pares chave-valor não coincide com a ordem em que os adicionamos. **Python não se importa com a ordem em que armazenamos cada par chave-valor; ele só se importa com a conexão entre cada chave e seu valor.**"
   ]
  },
  {
   "cell_type": "markdown",
   "metadata": {},
   "source": [
    "### Começando com um dicionário vazio"
   ]
  },
  {
   "cell_type": "markdown",
   "metadata": {},
   "source": [
    "Às vezes, é conveniente ou até mesmo necessário começar com **<code>um dicionário vazio</code>**, e então acrescentar novos itens a ele. Para começar a preencher um <code>**dicionário vazio**</code>, **defina-o com um conjunto de chaves vazio e depois acrescente cada <code>par chave-valor</code> em sua própria linha**. Por exemplo, eis o modo de criar o dicionário **alien_0** usando esta abordagem:"
   ]
  },
  {
   "cell_type": "code",
   "execution_count": 30,
   "metadata": {},
   "outputs": [
    {
     "name": "stdout",
     "output_type": "stream",
     "text": [
      "{'color': 'green', 'points': 5}\n"
     ]
    }
   ],
   "source": [
    "alien_0 = {}\n",
    "alien_0 ['color'] ='green'  # dic. vazio ['chaves']='valor'\n",
    "alien_0['points'] =5\n",
    "print(alien_0)"
   ]
  },
  {
   "cell_type": "markdown",
   "metadata": {},
   "source": [
    "Geralmente usamos dicionários vazios quando armazenamos **dados fornecidos pelo usuário em um dicionário**, ou quando escrevemos **um código que gere um grande número de <code>pares chave-valor</code>automaticamente**."
   ]
  },
  {
   "cell_type": "markdown",
   "metadata": {},
   "source": [
    "### Modificando valores em um dicionário"
   ]
  },
  {
   "cell_type": "markdown",
   "metadata": {},
   "source": [
    "Para modificar um valor em um dicionário, especifique **o nome do dicionário com a chave entre colchetes [] e o novo valor que você quer associar a essa chave**. Por exemplo, considere um alienígena que muda de verde para amarelo à medida que o jogo prossegue:"
   ]
  },
  {
   "cell_type": "code",
   "execution_count": 32,
   "metadata": {},
   "outputs": [
    {
     "name": "stdout",
     "output_type": "stream",
     "text": [
      "The alien is green.\n",
      "The alien is now yellow.\n"
     ]
    }
   ],
   "source": [
    "alien_0 = {'color': 'green'}\n",
    "print(\"The alien is \" + alien_0['color'] + \".\")\n",
    "alien_0['color'] = 'yellow'\n",
    "print(\"The alien is now \" + alien_0['color'] + \".\")"
   ]
  },
  {
   "cell_type": "markdown",
   "metadata": {},
   "source": [
    "Para ver um exemplo mais interessante, **vamos monitorar a posição de um alienígena que pode se deslocar com velocidades diferentes**. Armazenaremos um valor que representa a velocidade atual do alienígena e, então, usaremos esse valor para determinar a distância que o alienígena deve se mover para a direita:"
   ]
  },
  {
   "cell_type": "code",
   "execution_count": 65,
   "metadata": {},
   "outputs": [
    {
     "name": "stdout",
     "output_type": "stream",
     "text": [
      "Original x-position: 0\n",
      "New x-position: 2\n"
     ]
    }
   ],
   "source": [
    "alien_0 = {'x_position': 0, 'y_position': 25, 'speed': 'medium'}\n",
    "print(\"Original x-position: \" + str(alien_0['x_position']))\n",
    "# Move o alienígena para a direita \n",
    "# Determina a distância que o alienígena deve se deslocar de acordo com sua \n",
    "# velocidade atual \n",
    "if alien_0['speed']=='slow': \n",
    "    x_increment = 1\n",
    "elif alien_0['speed'] =='medium': \n",
    "    x_increment = 2\n",
    "else:\n",
    "    x_increment = 3 # Este deve ser um alienígena rápido \n",
    "alien_0['x_position'] = alien_0['x_position'] + x_increment # A nova posição é a posição antiga somada ao incremento\n",
    "print(\"New x-position: \" + str(alien_0['x_position']))"
   ]
  },
  {
   "cell_type": "markdown",
   "metadata": {},
   "source": [
    "Em uma cadeia <code>**if-elif-else**</code> determina a distância que o alienígena deve se mover para a direita e esse valor é armazenado na variável **x_increment**. Se a velocidade do alienígena for **'slow'**, ele se deslocará de uma unidade para a direita; se a velocidade for **'medium'**, se deslocará de duas unidades para a direita e, se for **'fast'**, se deslocará de três unidades à direita. Depois de calculado, o incremento é somado ao valor de **x_position**, o resultado é armazenado no **x_position do dicionário**.\n",
    "\n",
    "Como esse é um alienígena de **velocidade média**, sua posiçã<o se desloca de duas unidades para a direita:    \n",
    " **Original x-position: 0  \n",
    " New x-position: 2**"
   ]
  },
  {
   "cell_type": "markdown",
   "metadata": {},
   "source": [
    "Essa técnica é bem interessante: **ao mudar um valor do dicionário do alienígena, podemos mudar o seu comportamento como um todo**. Por exemplo, para transformar esse alienígena de velocidade média em um alienígena rápido, acrescente a linha a seguir: **alien_0['speed'] = fast O bloco** <code>**if-elif-else**</code> então atribuirá um valor maior para **x_increment** na próxima vez que o código for executado."
   ]
  },
  {
   "cell_type": "markdown",
   "metadata": {},
   "source": [
    "### Removendo pares chave-valor"
   ]
  },
  {
   "cell_type": "markdown",
   "metadata": {},
   "source": [
    "Quando não houver mais necessidade de uma informação armazenada em um dicionário, podemos usar a **instrução <code>del</code>** para remover totalmente um <code>**par chave-valor**</code>. Tudo de que del precisa é do nome do dicionário e da chave que você deseja remover.\n",
    "\n",
    "Por exemplo, vamos remover a chave **'points'** do dicionário **alien_0**,juntamente com seu valor:"
   ]
  },
  {
   "cell_type": "code",
   "execution_count": 69,
   "metadata": {},
   "outputs": [
    {
     "name": "stdout",
     "output_type": "stream",
     "text": [
      "{'color': 'green', 'points': 5}\n",
      "{'color': 'green'}\n"
     ]
    }
   ],
   "source": [
    "alien_0 = {'color': 'green', 'points': 5} \n",
    "print(alien_0)\n",
    "#Python apagará a chave 'points' do dicionário alien_0 e remover o valor associado a chave também\n",
    "del alien_0['points']\n",
    "print(alien_0)"
   ]
  },
  {
   "cell_type": "markdown",
   "metadata": {},
   "source": [
    "**NOTA Saiba que o par chave-valor apagado é removido de forma permanente.**"
   ]
  },
  {
   "cell_type": "markdown",
   "metadata": {},
   "source": [
    "### Um dicionário de objetos semelhantes"
   ]
  },
  {
   "cell_type": "markdown",
   "metadata": {},
   "source": [
    "O exemplo anterior envolveu a armazenagem de diferentes tipos de informação sobre um objeto: um alienígena em um jogo. **Também podemos usar um dicionário para armazenar um tipo de informação sobre vários objetos**. Por exemplo, suponha que você queira fazer uma enquete com várias pessoas e perguntar-lhes qual é a sua linguagem de programação favorita. Um dicionário é conveniente para armazenar os resultados de uma enquete simples, desta maneira:"
   ]
  },
  {
   "cell_type": "code",
   "execution_count": 71,
   "metadata": {},
   "outputs": [],
   "source": [
    "favorite_languages = {'jen': 'python', 'sarah': 'c', 'edward': 'ruby', 'phil': 'python', }"
   ]
  },
  {
   "cell_type": "markdown",
   "metadata": {},
   "source": [
    "Como podemos ver, dividimos um **dicionário** maior em várias linhas. Cada **chave** é o nome de uma pessoa que respondeu à enquete, e cada **valor** é a sua opção de linguagem. **Quando souber que precisará de mais de uma linha para definir um dicionário, tecle <code>ENTER</code> depois da chave de abertura**. Em seguida, **indente a próxima linha em um nível (quatro espaços)** e escreva o primeiro <code>**par chave-valor**</code>, seguido de uma vírgula. A partir desse ponto, quando pressionar <code>**ENTER**</code>, seu editor de texto deverá indentar automaticamente todos os pares chave-valor subsequentes para que estejam de acordo com o primeiro <code>**par chave-valor**</code>.\n",
    "\n",
    "Depois que acabar de definir o **dicionário**, acrescente **uma chave de fechamento em uma nova linha após o último <code>par chave-valor</code> e indente-a em um nível para que esteja alinhada com as chaves do dicionário**. Incluir uma vírgula após o último <code>**par chave-valor**</code> também é uma boa prática; assim você estará preparado para acrescentar um novo <code>**par chave-valor**</code> na próxima linha."
   ]
  },
  {
   "cell_type": "markdown",
   "metadata": {},
   "source": [
    "**NOTA**   \n",
    "**A maioria dos editores tem alguma funcionalidade que ajuda a formatar listas e dicionários longos, de modo semelhante a esse exemplo.** Outras maneiras aceitáveis de formatar dicionários longos também estão disponíveis, portanto você poderá ver formatações um pouco diferentes em seu editor ou em outros códigos-fonte."
   ]
  },
  {
   "cell_type": "markdown",
   "metadata": {},
   "source": [
    "Para usar esse dicionário, dado o nome de uma pessoa que tenha respondido à enquete, podemos consultar facilmente sua linguagem  favorita:"
   ]
  },
  {
   "cell_type": "code",
   "execution_count": 81,
   "metadata": {},
   "outputs": [
    {
     "name": "stdout",
     "output_type": "stream",
     "text": [
      "Sarah's favorite language is C.\n"
     ]
    }
   ],
   "source": [
    "favorite_languages = {\n",
    "    'jen': 'python', \n",
    "    'sarah': 'c', \n",
    "    'edward': 'ruby', \n",
    "    'phil': 'python', }\n",
    "\n",
    "print(\"Sarah's favorite language is \" +\n",
    "      favorite_languages['sarah'].title() +\n",
    "     \".\")"
   ]
  },
  {
   "cell_type": "code",
   "execution_count": 80,
   "metadata": {},
   "outputs": [
    {
     "data": {
      "text/plain": [
       "'c'"
      ]
     },
     "execution_count": 80,
     "metadata": {},
     "output_type": "execute_result"
    }
   ],
   "source": [
    "favorite_languages['sarah']"
   ]
  },
  {
   "cell_type": "markdown",
   "metadata": {},
   "source": [
    "Esse exemplo também mostra como **podemos dividir uma instrução <code>print</code> longa em várias linhas**. A palavra <code>**print**</code> é menor que a maioria dos nomes de dicionário, portanto faz sentido **incluir a primeira parte do que você quer exibir logo depois do parêntese de abertura**. Escolha um ponto apropriado para separar o que está sendo exibido e acrescente **um operador de concatenação (+)** no final da primeira linha. Tecle <code>**ENTER**</code> e depois <code>**TAB**</code> para alinhar todas as linhas subsequentes em um nível de indentação abaixo da instrução<code>**print**</code>. Quando terminar de compor sua saída, você pode colocar o parêntese de fechamento na última linha do bloco <code>**print**</code>."
   ]
  },
  {
   "cell_type": "markdown",
   "metadata": {},
   "source": [
    "### **FAÇA VOCÊ MESMO**"
   ]
  },
  {
   "cell_type": "markdown",
   "metadata": {},
   "source": [
    "**6.1 – Pessoa:** Use um dicionário para armazenar informações sobre uma pessoa que você conheça. Armazene seu primeiro nome, o sobrenome, a idade e a cidade em que ela vive. Você deverá ter chaves como **first_name, last_name, age e city**. Mostre cada informação armazenada em seu dicionário."
   ]
  },
  {
   "cell_type": "code",
   "execution_count": 90,
   "metadata": {},
   "outputs": [
    {
     "name": "stdout",
     "output_type": "stream",
     "text": [
      "Barbara\n",
      "De Toledo\n",
      "23\n",
      "São Paulo\n"
     ]
    }
   ],
   "source": [
    "#Use um dicionário para armazenar informações sobre uma pessoa\n",
    "my_wife = {\n",
    "    'first_name': 'Barbara', \n",
    "    'last_name': 'De Toledo', \n",
    "    'age': 23, 'city': 'São Paulo'}\n",
    "\n",
    "print(my_wife['first_name'])\n",
    "print(my_wife['last_name'])\n",
    "print(my_wife['age'])\n",
    "print(my_wife['city'])"
   ]
  },
  {
   "cell_type": "markdown",
   "metadata": {},
   "source": [
    "**6.2 – Números favoritos:** Use um dicionário para armazenar os números favoritos de algumas pessoas. Pense em cinco nomes e use-os como chaves em seu dicionário. Pense em um número favorito para cada pessoa e armazene cada um como um valor em seu dicionário. **Exiba o nome de cada pessoa e seu número favorito**. Para que seja mais divertido ainda, faça uma enquete com alguns amigos e obtenha alguns dados reais para o seu programa"
   ]
  },
  {
   "cell_type": "code",
   "execution_count": 389,
   "metadata": {},
   "outputs": [
    {
     "name": "stdout",
     "output_type": "stream",
     "text": [
      "Os números favoritos do(a) Denylson são:\n",
      "\t6\n",
      "\t12\n",
      "\t2\n",
      "Os números favoritos do(a) Emilia são:\n",
      "\t21\n",
      "\t71\n",
      "\t92\n",
      "Os números favoritos do(a) Barbara são:\n",
      "\t22\n",
      "\t5\n",
      "\t10\n",
      "Os números favoritos do(a) Eurico são:\n",
      "\t26\n",
      "\t30\n",
      "\t3\n"
     ]
    }
   ],
   "source": [
    "#Use um dicionário para armazenar informações sobre uma pessoa\n",
    "favorite_numbers = {'denylson': [6, 12, 2], 'emilia': [21, 71, 92], 'barbara': [22, 5, 10], 'eurico': [26, 30, 3],}\n",
    "\n",
    "for name, numbers in favorite_numbers.items():\n",
    "    print(\"Os números favoritos do(a) \" + name.title() + \" são:\")\n",
    "    for number in numbers:\n",
    "        print(\"\\t\" + str(number))\n"
   ]
  },
  {
   "cell_type": "markdown",
   "metadata": {},
   "source": [
    "**6.3 – Glossário:** Um dicionário Python pode ser usado para modelar um dicionário de verdade. No entanto, para evitar confusão, vamos chamá-lo de **glossário**.\n",
    "+ Pense em cinco palavras relacionadas à programação que você conheceu nos capítulos anteriores. Use essas palavras como **chaves em seu glossário e armazene seus significados como valores**.\n",
    "+ Mostre cada palavra e seu significado em uma saída formatada de modo elegante. **ocê pode exibir a palavra seguida de dois-pontos e depois o seu significado, ou apresentar a palavra em uma linha e então exibir seu significado indentado em uma segunda linha.** Utilize o caractere de quebra de linha **(\\n)** para inserir uma linha em branco entre cada par palavra significado em sua saída."
   ]
  },
  {
   "cell_type": "code",
   "execution_count": 163,
   "metadata": {},
   "outputs": [
    {
     "name": "stdout",
     "output_type": "stream",
     "text": [
      "\n",
      "Palavras: Variável\n",
      "Significado: Um espaço nomeado na memória do computador que armazena um valor.\n",
      "\n",
      "Palavras: Função\n",
      "Significado: Um bloco de código que executa uma tarefa específica e pode ser chamado quando necessário.\n",
      "\n",
      "Palavras: Loop\n",
      "Significado: Uma estrutura de controle que permite a execução repetida de um bloco de código enquanto uma condição for verdadeira.\n",
      "\n",
      "Palavras: Lista\n",
      "Significado: Uma coleção ordenada de elementos que podem ser de diferentes tipos, acessíveis por índices.\n",
      "\n",
      "Palavras: Dicionário\n",
      "Significado: Uma coleção de pares chave-valor, onde cada chave é única e associada a um valor.\n",
      "\n",
      "Palavras: Classe\n",
      "Significado: Um modelo que define um conjunto de propriedades e métodos comuns a todos os objetos de um certo tipo.\n",
      "\n",
      "Palavras: Objeto\n",
      "Significado: Uma instância de uma classe, contendo dados e métodos definidos na classe.\n",
      "\n",
      "Palavras: Módulo\n",
      "Significado: Um arquivo que contém definições e implementações de funções, variáveis e classes que podem ser importados e utilizados em outros scripts.\n",
      "\n",
      "Palavras: Exceção\n",
      "Significado: Um evento que ocorre durante a execução de um programa e interrompe o fluxo normal das instruções, geralmente utilizado para indicar erros.\n",
      "\n",
      "Palavras: Compreensão de lista\n",
      "Significado: Uma maneira concisa de criar listas usando uma única linha de código, geralmente combinando loops e condições.\n"
     ]
    }
   ],
   "source": [
    "glossario = {\n",
    "    'Variável': 'Um espaço nomeado na memória do computador que armazena um valor.',\n",
    "    'Função': 'Um bloco de código que executa uma tarefa específica e pode ser chamado quando necessário.',\n",
    "    'Loop': 'Uma estrutura de controle que permite a execução repetida de um bloco de código enquanto uma condição for verdadeira.',\n",
    "    'Lista': 'Uma coleção ordenada de elementos que podem ser de diferentes tipos, acessíveis por índices.',\n",
    "    'Dicionário': 'Uma coleção de pares chave-valor, onde cada chave é única e associada a um valor.',\n",
    "    'Classe': 'Um modelo que define um conjunto de propriedades e métodos comuns a todos os objetos de um certo tipo.',\n",
    "    'Objeto': 'Uma instância de uma classe, contendo dados e métodos definidos na classe.',\n",
    "    'Módulo': 'Um arquivo que contém definições e implementações de funções, variáveis e classes que podem ser importados e utilizados em outros scripts.',\n",
    "    'Exceção': 'Um evento que ocorre durante a execução de um programa e interrompe o fluxo normal das instruções, geralmente utilizado para indicar erros.',\n",
    "    'Compreensão de lista': 'Uma maneira concisa de criar listas usando uma única linha de código, geralmente combinando loops e condições.'\n",
    "}\n",
    "\n",
    "for k, v in glossario.items():\n",
    "    print(\"\\nPalavras: \" + k)\n",
    "    print(\"Significado: \" + v)"
   ]
  },
  {
   "cell_type": "markdown",
   "metadata": {},
   "source": [
    "<hr>"
   ]
  },
  {
   "cell_type": "markdown",
   "metadata": {},
   "source": [
    "### Percorrendo um dicionário com um laço"
   ]
  },
  {
   "cell_type": "markdown",
   "metadata": {},
   "source": [
    "Um único dicionário Python pode conter apenas alguns <code>**pares chave-valor**</code> ou milhões deles. Como um **dicionário** pode conter uma grande quantidade de dados, Python permite percorrer um dicionário com **um laço**. Dicionários podem ser usados para armazenar informações de várias maneiras; assim, há diversos modos diferentes de percorrê-los com um laço. **Podemos percorrer todos os <code>pares chave-valor</code>  de um dicionário usando suas chaves ou seus valores.**"
   ]
  },
  {
   "cell_type": "markdown",
   "metadata": {},
   "source": [
    "### Percorrendo todos os pares chave-valor com um laço"
   ]
  },
  {
   "cell_type": "markdown",
   "metadata": {},
   "source": [
    "Antes de explorar as diferentes abordagens para percorrer um dicionário com um laço, vamos considerar um novo dicionário projetado para armazenar informações sobre um usuário em um site. O dicionário a seguir armazenará o nome de usuário, o primeiro nome e o sobrenome de uma pessoa:"
   ]
  },
  {
   "cell_type": "code",
   "execution_count": 116,
   "metadata": {},
   "outputs": [],
   "source": [
    " user_0 = {'username': 'efermi', 'first': 'enrico', 'last': 'fermi', }"
   ]
  },
  {
   "cell_type": "markdown",
   "metadata": {},
   "source": [
    "Podemos acessar qualquer informação única sobre **user_0** com base no que já aprendemos neste capítulo. E se quiséssemos ver tudo que está armazenado no dicionário desse usuário? Para isso, podemos percorrer\n",
    "o dicionário com um laço **for**:"
   ]
  },
  {
   "cell_type": "code",
   "execution_count": 119,
   "metadata": {},
   "outputs": [
    {
     "name": "stdout",
     "output_type": "stream",
     "text": [
      "\n",
      "Key: username\n",
      "Value: efermi\n",
      "\n",
      "Key: first\n",
      "Value: enrico\n",
      "\n",
      "Key: last\n",
      "Value: fermi\n"
     ]
    }
   ],
   "source": [
    " user_0 = {'username': 'efermi', 'first': 'enrico', 'last': 'fermi', }\n",
    "for key, value in user_0.items(): # laço for 'Chave', 'Valor'in dicionario.items():\n",
    "    print(\"\\nKey: \" + key)\n",
    "    print(\"Value: \" + value)"
   ]
  },
  {
   "cell_type": "markdown",
   "metadata": {},
   "source": [
    "Como vemos para escrever **um laço <code>for</code> para um dicionário, devemos criar nomes para as duas variáveis que armazenarão a <code>chave</code> e o <code>valor</code> de cada <code>par chave-valor</code>**. Você pode escolher qualquer nome que quiser para essas duas variáveis. Esse código também funcionaria bem se usássemos **abreviaturas** para os nomes das variáveis, assim: **for k, v in user_0.items()** A segunda metade da instrução <code>**for**</code> inclui o **nome do dicionário**, seguido do **método items()**, que devolve uma lista de <code>**pares chave-valor**</code>. **O laço <code>for</code> então armazena cada um desses pares nas duas variáveis especificadas**.\n",
    "\n",
    "No exemplo anterior, usamos as variáveis para exibir **chave (key)**, seguido do valor associado **(value)**. O **\"\\n\"** na primeira instrução print garante que uma linha em branco seja inserida antes de cada <code>**par chave-valor**</code> na saída. \n",
    "Os <code>**pares chave-valor**</code> não são devolvidos na ordem em que foram armazenados, mesmo quando percorremos o dicionário com um laço. **Python não se importa com a ordem em que os <code>**pares chave-valor**</code> são armazenados; ele só registra as conexões entre cada chave individual e seu valor.**"
   ]
  },
  {
   "cell_type": "markdown",
   "metadata": {},
   "source": [
    "Percorrer todos os <code>**pares chave-valor**</code> com um laço funciona bem, em particular, para dicionários como o do exemplo em **favorite_languages.py**, que armazena o mesmo tipo de informação para várias chaves diferentes. Se percorrermos o dicionário **favorite_languages** com um laço, teremos o nome de cada pessoa no dicionário e sua linguagem de programação favorita. Como as <code>chaves</code> sempre se referem ao nome de uma pessoa e o <code>valor</code> é sempre uma linguagem, usaremos as variáveis **name** e **language** no laço, em vez de **key** e **value**. Isso facilita entender o que está acontecendo:"
   ]
  },
  {
   "cell_type": "code",
   "execution_count": 123,
   "metadata": {},
   "outputs": [
    {
     "name": "stdout",
     "output_type": "stream",
     "text": [
      "Jen's favorite language is Python\n",
      "Sarah's favorite language is C\n",
      "Edward's favorite language is Ruby\n",
      "Phil's favorite language is Python\n"
     ]
    }
   ],
   "source": [
    "favorite_languages = {'jen': 'python', 'sarah': 'c', 'edward': 'ruby', 'phil': 'python', }\n",
    "for name, language in favorite_languages.items(): #Python percorre todos os pares chave-valor do dicionário com um laço\n",
    "    print(name.title() + \"'s favorite language is \" + language.title())\n",
    "    "
   ]
  },
  {
   "cell_type": "markdown",
   "metadata": {},
   "source": [
    "O código acima diz a Python para percorrer todos **os pares chave-valor do dicionário com um laço**. \n",
    "**À medida que cada par é tratado, a chave é armazenada na variável name e o valor, na variável language.** \n",
    "Agora, com apenas algumas linhas de código, podemos exibir todas asinformações da enquete. Esse tipo de laço funcionaria igualmente bem se nosso dicionário armazenasse os resultados da enquete para mil ou até mesmo para um milhão de pessoas."
   ]
  },
  {
   "cell_type": "markdown",
   "metadata": {},
   "source": [
    "### Percorrendo todas as chaves de um dicionário com um laço"
   ]
  },
  {
   "cell_type": "markdown",
   "metadata": {},
   "source": [
    "**O método <code>keys()</code> é conveniente quando não precisamos trabalhar com todos os valores de um dicionário**. Vamos percorrer o dicionário **favorite_languages** com um laço e exibir os nomes de todos que responderam à enquete:"
   ]
  },
  {
   "cell_type": "code",
   "execution_count": 221,
   "metadata": {},
   "outputs": [
    {
     "name": "stdout",
     "output_type": "stream",
     "text": [
      "Jen\n",
      "Sarah\n",
      "Edward\n",
      "Phil\n"
     ]
    }
   ],
   "source": [
    "favorite_languages = {'jen': 'python', 'sarah': 'c', 'edward': 'ruby', 'phil': 'python'}\n",
    "\n",
    "for name in favorite_languages.keys():\n",
    "#Instr. for extrai todas as chaves do dicionário favorite_languages e armazená-las, uma de cada vez, na variável name\n",
    "    print(name.title())\n",
    "    "
   ]
  },
  {
   "cell_type": "markdown",
   "metadata": {},
   "source": [
    "Percorrer **as chaves**, na verdade, é o comportamento-padrão quando percorremos um dicionário com um laço, portanto este código produzirá a mesma saída se escrevêssemos: **for name in favorite_languages:** em vez de: **for name in favorite_languages.keys(): \n",
    "Você pode optar por usar o método <code>keys()</code> explicitamente se isso deixar seu código mais fácil de ler, ou pode omiti-lo, se quiser.**\n",
    "\n",
    "**Podemos acessar o valor associado a qualquer chave que nos interessar no laço usando a chave atual.** Vamos exibir uma mensagem a dois amigos sobre as linguagens que eles escolheram. Percorreremos os nomes no dicionário com um laço como fizemos antes, porém, quando o nome for de um de nossos amigos, apresentaremos uma mensagem sobre sua linguagem favorita:"
   ]
  },
  {
   "cell_type": "code",
   "execution_count": 135,
   "metadata": {},
   "outputs": [
    {
     "name": "stdout",
     "output_type": "stream",
     "text": [
      "Jen\n",
      "Sarah\n",
      " Hi Sarah, I see your favorite language is C.\n",
      "Edward\n",
      "Phil\n",
      " Hi Phil, I see your favorite language is Python.\n"
     ]
    }
   ],
   "source": [
    "favorite_languages = {'jen': 'python', 'sarah': 'c', 'edward': 'ruby', 'phil': 'python'}\n",
    "\n",
    "friends = ['phil', 'sarah'] #Criamos uma lista de amigos (chaves) a quem queremos exibir uma mensagem\n",
    "for name in favorite_languages.keys(): #verificamos se o nome com que estamos trabalhando (name) está na lista friends\n",
    "    print(name.title())\n",
    "    if name in friends:\n",
    "        print(\" Hi \" + name.title() + \n",
    "              \", I see your favorite language is \" +\n",
    "              favorite_languages[name].title() + \".\") # usamos o nome do dicionário e o valor atual de name como chave"
   ]
  },
  {
   "cell_type": "markdown",
   "metadata": {},
   "source": [
    "Você também pode usar o **método keys()** para descobrir se uma pessoa em particular participou da enquete. Dessa vez, vamos ver se Erin respondeu à enquete:"
   ]
  },
  {
   "cell_type": "code",
   "execution_count": 144,
   "metadata": {},
   "outputs": [
    {
     "name": "stdout",
     "output_type": "stream",
     "text": [
      "Erin, please take our poll!\n"
     ]
    }
   ],
   "source": [
    "favorite_languages = {'jen': 'python', 'sarah': 'c', 'edward': 'ruby', 'phil': 'python'}\n",
    "\n",
    "if 'erin' not in favorite_languages.keys():\n",
    "    print(\"Erin, please take our poll!\")"
   ]
  },
  {
   "cell_type": "markdown",
   "metadata": {},
   "source": [
    "*O método <code>**keys()**</code> não serve apenas para laços: na verdade, **ele devolve uma lista de todas as chaves, e a linha em simplesmente verifica se 'erin' está nessa lista**. Como ela não está, uma mensagem é exibida convidando-a a participar da enquete: Erin, please take our poll!\n"
   ]
  },
  {
   "cell_type": "markdown",
   "metadata": {},
   "source": [
    "### Percorrendo as chaves de um dicionário em ordem usando um laço"
   ]
  },
  {
   "cell_type": "markdown",
   "metadata": {},
   "source": [
    "Um **dicionário** sempre mantém uma conexão clara entre cada chave e seu valor associado, mas você não obterá os itens de um dicionário em uma ordem previsível. Isso não é um problema, pois, geralmente, queremos apenas obter o valor correto associado a cada chave.\n",
    "**Uma maneira de fazer os itens serem devolvidos em determinada sequência é ordenar as chaves à medida que são devolvidas no laço <code>for</code>**. Podemos usar a função **sorted()** para obter uma cópia ordenada das chaves:\n"
   ]
  },
  {
   "cell_type": "code",
   "execution_count": 147,
   "metadata": {},
   "outputs": [
    {
     "name": "stdout",
     "output_type": "stream",
     "text": [
      "Edward, thank you for taking the poll.\n",
      "Jen, thank you for taking the poll.\n",
      "Phil, thank you for taking the poll.\n",
      "Sarah, thank you for taking the poll.\n"
     ]
    }
   ],
   "source": [
    "favorite_languages = {'jen': 'python', 'sarah': 'c', 'edward': 'ruby', 'phil': 'python'}\n",
    "\n",
    "for name in sorted(favorite_languages.keys()):\n",
    "    print(name.title() + \", thank you for taking the poll.\")\n"
   ]
  },
  {
   "cell_type": "markdown",
   "metadata": {},
   "source": [
    "Essa instrução <code>**for**</code> é como as outras instruções <code>**for**</code>, exceto que a **função <code>sorted()**</code> está em torno do **método dictionary.keys()**. **Isso diz a Python para listar todas as chaves do dicionário e ordenar essa lista antes de percorrê-la com um laço**. A saída mostra os nomes de todos que responderam à enquete, exibidos de forma ordenada."
   ]
  },
  {
   "cell_type": "markdown",
   "metadata": {},
   "source": [
    "### Percorrendo todos os valores de um dicionário com um laço"
   ]
  },
  {
   "cell_type": "markdown",
   "metadata": {},
   "source": [
    "**Se você estiver mais interessado nos valores contidos em um dicionário, o método <code>values()</code> pode ser usado para devolver uma lista de valores sem as chaves**. Por exemplo, suponha que queremos apenas uma lista de todas as linguagens escolhidas em nossa enquete sobre linguagens de programação, sem o nome da pessoa que escolheu cada linguagem:\n"
   ]
  },
  {
   "cell_type": "code",
   "execution_count": 148,
   "metadata": {},
   "outputs": [
    {
     "name": "stdout",
     "output_type": "stream",
     "text": [
      "The following languages have been mentioned:\n",
      "Python\n",
      "C\n",
      "Ruby\n",
      "Python\n"
     ]
    }
   ],
   "source": [
    "favorite_languages = {'jen': 'python', 'sarah': 'c', 'edward': 'ruby', 'phil': 'python'}\n",
    "print(\"The following languages have been mentioned:\")\n",
    "for language in favorite_languages.values():\n",
    "    #A instrução for, nesse caso, extrai cada valor(.values()) do dicionário e o armazena na variável language\n",
    "    print(language.title())"
   ]
  },
  {
   "cell_type": "markdown",
   "metadata": {},
   "source": [
    "**Essa abordagem extrai todos os valores do dicionário, sem verificar se há repetições**. Isso pode funcionar bem com uma quantidade pequena de valores, mas em uma enquete com um número grande de entrevistados, o resultado seria uma lista com muitas repetições. **Para ver cada linguagem escolhida sem repetições, podemos usar um conjunto <code>(set)</code>. Um conjunto é semelhante a uma lista, exceto que cada item de um conjunto deve ser único**:"
   ]
  },
  {
   "cell_type": "code",
   "execution_count": 151,
   "metadata": {},
   "outputs": [
    {
     "name": "stdout",
     "output_type": "stream",
     "text": [
      "The following languages have been mentioned:\n",
      "Python\n",
      "Ruby\n",
      "C\n"
     ]
    }
   ],
   "source": [
    "favorite_languages = {'jen': 'python', 'sarah': 'c', 'edward': 'ruby', 'phil': 'python'}\n",
    "print(\"The following languages have been mentioned:\")\n",
    "\n",
    "for language in set(favorite_languages.values()):\n",
    "    #usamos set() para extrair as linguagens únicas em favorite_languages.values()\n",
    "    print(language.title())"
   ]
  },
  {
   "cell_type": "markdown",
   "metadata": {},
   "source": [
    "**Quando colocamos <code>(set)</code> em torno de uma lista que contenha itens duplicados, Python identifica os itens únicos na lista e cria um conjunto a partir desses itens.** O resultado é uma lista de linguagens mencionadas pelas pessoas que participaram da enquete, sem repetições.\n",
    "\n",
    "À medida que continuar a conhecer Python, com frequência você encontrará um recurso embutido na linguagem que o ajudará a fazer exatamente o que quiser com seus dados."
   ]
  },
  {
   "cell_type": "markdown",
   "metadata": {},
   "source": [
    "### **FAÇA VOCÊ MESMO**"
   ]
  },
  {
   "cell_type": "markdown",
   "metadata": {},
   "source": [
    "**6.4 – Glossário 2:** Agora que você já sabe como percorrer um dicionário com um laço, limpe o código do Exercício **6.3 (página 148)**, substituindo sua sequência de instruções **print por um laço que percorra as chaves e os valores do dicionário**. Quando tiver certeza de que seu laço funciona, acrescente mais cinco termos de Python ao seu glossário. Ao executar seu programa novamente, essas palavras e significados novos deverão ser automaticamente incluídos na saída."
   ]
  },
  {
   "cell_type": "markdown",
   "metadata": {},
   "source": [
    "**6.5 – Rios:** Crie um dicionário que contenha três rios importantes e o país que cada rio corta. Um **par chave-valor** poderia ser **'nilo': 'egito'**.\n",
    "+ Use um laço para exibir uma frase sobre cada rio, por exemplo, O Nilo corre pelo Egito.\n",
    "+ Use um laço para exibir o nome de cada rio incluído no dicionário.\n",
    "+ Use um laço para exibir o nome de cada país incluído no dicionário."
   ]
  },
  {
   "cell_type": "code",
   "execution_count": 167,
   "metadata": {},
   "outputs": [
    {
     "name": "stdout",
     "output_type": "stream",
     "text": [
      "O Rio Nilo é maior de(o) Egipto\n",
      "O Rio Kwanza é maior de(o) Angola\n",
      "O Rio Tejo é maior de(o) Portugal\n"
     ]
    }
   ],
   "source": [
    "#6.5\n",
    "\n",
    "rios = {'nilo': 'egipto', 'kwanza': 'angola', 'tejo': 'portugal'}\n",
    "\n",
    "for rio, pais in rios.items():\n",
    "    print(\"O Rio \" + rio.title() + \" é maior de(o) \" + pais.title()) "
   ]
  },
  {
   "cell_type": "markdown",
   "metadata": {},
   "source": [
    "**6.6 – Enquete:** Utilize o código em favorite_languages.py (página 150).\n",
    "+ Crie uma lista de pessoas que devam participar da enquete sobre linguagem favorita. Inclua alguns nomes que já estejam no dicionário e outros que não estão.\n",
    "+ Percorra a lista de pessoas que devem participar da enquete. Se elas já tiverem respondido à enquete, mostre uma mensagem agradecendo-lhes por responder. Se ainda não participaram da enquete, apresente uma mensagem convidando-as a responder."
   ]
  },
  {
   "cell_type": "code",
   "execution_count": 5,
   "metadata": {
    "tags": []
   },
   "outputs": [
    {
     "name": "stdout",
     "output_type": "stream",
     "text": [
      "Obrigado Jen por responder à enquete!\n",
      "Obrigado Sarah por responder à enquete!\n",
      "Obrigado Edward por responder à enquete!\n",
      "Obrigado Phil por responder à enquete!\n",
      "Paul, você gostaria de responder à nossa enquete sobre a sua linguagem de programação?\n",
      "Denny, você gostaria de responder à nossa enquete sobre a sua linguagem de programação?\n",
      "Emily, você gostaria de responder à nossa enquete sobre a sua linguagem de programação?\n"
     ]
    }
   ],
   "source": [
    "# Dicionário com as respostas da enquete\n",
    "favorite_languages = {'jen': 'python', 'sarah': 'c', 'edward': 'ruby', 'phil': 'python'}\n",
    "\n",
    "# Lista de pessoas que devem participar da enquete\n",
    "people_to_poll = ['jen', 'sarah', 'edward', 'phil', 'paul', 'denny', 'emily']\n",
    "\n",
    "# Percorre a lista de pessoas que devem participar da enquete\n",
    "for name in people_to_poll:\n",
    "    if name not in favorite_languages:\n",
    "        print(name.title() + \", você gostaria de responder à nossa enquete sobre a sua linguagem de programação?\")\n",
    "    else:\n",
    "        print(\"Obrigado \" + name.title() + \" por responder à enquete!\")\n"
   ]
  },
  {
   "cell_type": "markdown",
   "metadata": {},
   "source": [
    "### Informações aninhadas"
   ]
  },
  {
   "cell_type": "markdown",
   "metadata": {},
   "source": [
    "Às vezes, você vai querer armazenar um conjunto de dicionários em uma lista ou uma lista de itens como um valor em um dicionário. Isso é conhecido como <code>**aninhar**</code> informações. **Podemos <code>**aninhar**</code> um conjunto de dicionários em uma lista, uma lista de itens em um dicionário ou até mesmo um dicionário em outro dicionário**. <code>**aninhar**</code> informações é um recurso eficaz, como mostrarão os próximos exemplos."
   ]
  },
  {
   "cell_type": "markdown",
   "metadata": {},
   "source": [
    "### Uma lista de dicionários"
   ]
  },
  {
   "cell_type": "markdown",
   "metadata": {},
   "source": [
    "O dicionário **alien_0** contém várias informações sobre um alienígena, mas não há espaço para armazenar informações sobre um segundo alienígena, muito menos para uma tela cheia deles. Como podemos administrar uma frota de alienígenas? **Uma maneira é criar uma lista de alienígenas, em que cada alienígena seja representado por um dicionário com informações sobre ele**. Por exemplo, o código a seguir cria uma lista com três alienígenas:"
   ]
  },
  {
   "cell_type": "code",
   "execution_count": 224,
   "metadata": {},
   "outputs": [
    {
     "name": "stdout",
     "output_type": "stream",
     "text": [
      "{'color': 'green', 'points': 5}\n",
      "{'color': 'yellow', 'points': 10}\n",
      "{'color': 'red', 'points': 15}\n"
     ]
    }
   ],
   "source": [
    "alien_0 ={'color': 'green', 'points': 5}\n",
    "alien_1 = {'color': 'yellow', 'points': 10}\n",
    "alien_2 = {'color': 'red', 'points': 15}\n",
    "# criamos uma lista com o nome aliens\n",
    "aliens = [alien_0, alien_1, alien_2]\n",
    "\n",
    "for alien in aliens:\n",
    "    print(alien)"
   ]
  },
  {
   "cell_type": "markdown",
   "metadata": {},
   "source": [
    "Um exemplo mais realista envolveria mais de três alienígenas, **com um código que gere automaticamente cada alienígena**. No exemplo a seguir, usamos **range()** para criar uma frota de 30 alienígenas:"
   ]
  },
  {
   "cell_type": "code",
   "execution_count": 445,
   "metadata": {},
   "outputs": [
    {
     "name": "stdout",
     "output_type": "stream",
     "text": [
      "{'color': 'green', 'points': 5, 'speed': 'medium'}\n",
      "...\n",
      "{'color': 'green', 'points': 5, 'speed': 'medium'}\n",
      "...\n",
      "{'color': 'green', 'points': 5, 'speed': 'medium'}\n",
      "...\n",
      "{'color': 'green', 'points': 5, 'speed': 'medium'}\n",
      "...\n",
      "{'color': 'green', 'points': 5, 'speed': 'medium'}\n",
      "...\n",
      "{'color': 'green', 'points': 5, 'speed': 'medium'}\n",
      "...\n",
      "{'color': 'green', 'points': 5, 'speed': 'medium'}\n",
      "...\n",
      "{'color': 'green', 'points': 5, 'speed': 'medium'}\n",
      "...\n",
      "{'color': 'green', 'points': 5, 'speed': 'medium'}\n",
      "...\n",
      "{'color': 'green', 'points': 5, 'speed': 'medium'}\n",
      "...\n",
      "{'color': 'green', 'points': 5, 'speed': 'medium'}\n",
      "...\n",
      "{'color': 'green', 'points': 5, 'speed': 'medium'}\n",
      "...\n",
      "{'color': 'green', 'points': 5, 'speed': 'medium'}\n",
      "...\n",
      "{'color': 'green', 'points': 5, 'speed': 'medium'}\n",
      "...\n",
      "{'color': 'green', 'points': 5, 'speed': 'medium'}\n",
      "...\n",
      "{'color': 'green', 'points': 5, 'speed': 'medium'}\n",
      "...\n",
      "{'color': 'green', 'points': 5, 'speed': 'medium'}\n",
      "...\n",
      "{'color': 'green', 'points': 5, 'speed': 'medium'}\n",
      "...\n",
      "{'color': 'green', 'points': 5, 'speed': 'medium'}\n",
      "...\n",
      "{'color': 'green', 'points': 5, 'speed': 'medium'}\n",
      "...\n",
      "{'color': 'green', 'points': 5, 'speed': 'medium'}\n",
      "...\n",
      "{'color': 'green', 'points': 5, 'speed': 'medium'}\n",
      "...\n",
      "{'color': 'green', 'points': 5, 'speed': 'medium'}\n",
      "...\n",
      "{'color': 'green', 'points': 5, 'speed': 'medium'}\n",
      "...\n",
      "{'color': 'green', 'points': 5, 'speed': 'medium'}\n",
      "...\n",
      "{'color': 'green', 'points': 5, 'speed': 'medium'}\n",
      "...\n",
      "{'color': 'green', 'points': 5, 'speed': 'medium'}\n",
      "...\n",
      "{'color': 'green', 'points': 5, 'speed': 'medium'}\n",
      "...\n",
      "{'color': 'green', 'points': 5, 'speed': 'medium'}\n",
      "...\n",
      "{'color': 'green', 'points': 5, 'speed': 'medium'}\n",
      "...\n",
      "{'color': 'green', 'points': 5, 'speed': 'medium'}\n",
      "...\n",
      "{'color': 'green', 'points': 5, 'speed': 'medium'}\n",
      "...\n",
      "{'color': 'green', 'points': 5, 'speed': 'medium'}\n",
      "...\n",
      "{'color': 'green', 'points': 5, 'speed': 'medium'}\n",
      "...\n",
      "{'color': 'green', 'points': 5, 'speed': 'medium'}\n",
      "...\n",
      "{'color': 'green', 'points': 5, 'speed': 'medium'}\n",
      "...\n",
      "{'color': 'green', 'points': 5, 'speed': 'medium'}\n",
      "...\n",
      "{'color': 'green', 'points': 5, 'speed': 'medium'}\n",
      "...\n",
      "{'color': 'green', 'points': 5, 'speed': 'medium'}\n",
      "...\n",
      "{'color': 'green', 'points': 5, 'speed': 'medium'}\n",
      "...\n",
      "{'color': 'green', 'points': 5, 'speed': 'medium'}\n",
      "...\n",
      "{'color': 'green', 'points': 5, 'speed': 'medium'}\n",
      "...\n",
      "{'color': 'green', 'points': 5, 'speed': 'medium'}\n",
      "...\n",
      "{'color': 'green', 'points': 5, 'speed': 'medium'}\n",
      "...\n",
      "{'color': 'green', 'points': 5, 'speed': 'medium'}\n",
      "...\n",
      "{'color': 'green', 'points': 5, 'speed': 'medium'}\n",
      "...\n",
      "{'color': 'green', 'points': 5, 'speed': 'medium'}\n",
      "...\n",
      "{'color': 'green', 'points': 5, 'speed': 'medium'}\n",
      "...\n",
      "{'color': 'green', 'points': 5, 'speed': 'medium'}\n",
      "...\n",
      "{'color': 'green', 'points': 5, 'speed': 'medium'}\n",
      "...\n",
      "{'color': 'green', 'points': 5, 'speed': 'medium'}\n",
      "...\n",
      "{'color': 'green', 'points': 5, 'speed': 'medium'}\n",
      "...\n",
      "{'color': 'green', 'points': 5, 'speed': 'medium'}\n",
      "...\n",
      "{'color': 'green', 'points': 5, 'speed': 'medium'}\n",
      "...\n",
      "{'color': 'green', 'points': 5, 'speed': 'medium'}\n",
      "...\n",
      "{'color': 'green', 'points': 5, 'speed': 'medium'}\n",
      "...\n",
      "{'color': 'green', 'points': 5, 'speed': 'medium'}\n",
      "...\n",
      "{'color': 'green', 'points': 5, 'speed': 'medium'}\n",
      "...\n",
      "{'color': 'green', 'points': 5, 'speed': 'medium'}\n",
      "...\n",
      "{'color': 'green', 'points': 5, 'speed': 'medium'}\n",
      "...\n",
      "{'color': 'green', 'points': 5, 'speed': 'medium'}\n",
      "...\n",
      "{'color': 'green', 'points': 5, 'speed': 'medium'}\n",
      "...\n",
      "{'color': 'green', 'points': 5, 'speed': 'medium'}\n",
      "...\n",
      "{'color': 'green', 'points': 5, 'speed': 'medium'}\n",
      "...\n",
      "{'color': 'green', 'points': 5, 'speed': 'medium'}\n",
      "...\n",
      "{'color': 'green', 'points': 5, 'speed': 'medium'}\n",
      "...\n",
      "{'color': 'green', 'points': 5, 'speed': 'medium'}\n",
      "...\n",
      "{'color': 'green', 'points': 5, 'speed': 'medium'}\n",
      "...\n",
      "{'color': 'green', 'points': 5, 'speed': 'medium'}\n",
      "...\n",
      "{'color': 'green', 'points': 5, 'speed': 'medium'}\n",
      "...\n",
      "{'color': 'green', 'points': 5, 'speed': 'medium'}\n",
      "...\n",
      "{'color': 'green', 'points': 5, 'speed': 'medium'}\n",
      "...\n",
      "{'color': 'green', 'points': 5, 'speed': 'medium'}\n",
      "...\n",
      "{'color': 'green', 'points': 5, 'speed': 'medium'}\n",
      "...\n",
      "{'color': 'green', 'points': 5, 'speed': 'medium'}\n",
      "...\n",
      "{'color': 'green', 'points': 5, 'speed': 'medium'}\n",
      "...\n",
      "{'color': 'green', 'points': 5, 'speed': 'medium'}\n",
      "...\n",
      "{'color': 'green', 'points': 5, 'speed': 'medium'}\n",
      "...\n",
      "{'color': 'green', 'points': 5, 'speed': 'medium'}\n",
      "...\n",
      "{'color': 'green', 'points': 5, 'speed': 'medium'}\n",
      "...\n",
      "{'color': 'green', 'points': 5, 'speed': 'medium'}\n",
      "...\n",
      "{'color': 'green', 'points': 5, 'speed': 'medium'}\n",
      "...\n",
      "{'color': 'green', 'points': 5, 'speed': 'medium'}\n",
      "...\n",
      "{'color': 'green', 'points': 5, 'speed': 'medium'}\n",
      "...\n",
      "{'color': 'green', 'points': 5, 'speed': 'medium'}\n",
      "...\n",
      "{'color': 'green', 'points': 5, 'speed': 'medium'}\n",
      "...\n",
      "{'color': 'green', 'points': 5, 'speed': 'medium'}\n",
      "...\n",
      "{'color': 'green', 'points': 5, 'speed': 'medium'}\n",
      "...\n",
      "{'color': 'green', 'points': 5, 'speed': 'medium'}\n",
      "...\n",
      "{'color': 'green', 'points': 5, 'speed': 'medium'}\n",
      "...\n",
      "{'color': 'green', 'points': 5, 'speed': 'medium'}\n",
      "...\n",
      "{'color': 'green', 'points': 5, 'speed': 'medium'}\n",
      "...\n",
      "{'color': 'green', 'points': 5, 'speed': 'medium'}\n",
      "...\n",
      "{'color': 'green', 'points': 5, 'speed': 'medium'}\n",
      "...\n",
      "{'color': 'green', 'points': 5, 'speed': 'medium'}\n",
      "...\n",
      "{'color': 'green', 'points': 5, 'speed': 'medium'}\n",
      "...\n",
      "{'color': 'green', 'points': 5, 'speed': 'medium'}\n",
      "...\n",
      "{'color': 'green', 'points': 5, 'speed': 'medium'}\n",
      "...\n",
      "{'color': 'green', 'points': 5, 'speed': 'medium'}\n",
      "...\n",
      "{'color': 'green', 'points': 5, 'speed': 'medium'}\n",
      "...\n",
      "{'color': 'green', 'points': 5, 'speed': 'medium'}\n",
      "...\n",
      "{'color': 'green', 'points': 5, 'speed': 'medium'}\n",
      "...\n",
      "{'color': 'green', 'points': 5, 'speed': 'medium'}\n",
      "...\n",
      "{'color': 'green', 'points': 5, 'speed': 'medium'}\n",
      "...\n",
      "{'color': 'green', 'points': 5, 'speed': 'medium'}\n",
      "...\n",
      "{'color': 'green', 'points': 5, 'speed': 'medium'}\n",
      "...\n",
      "{'color': 'green', 'points': 5, 'speed': 'medium'}\n",
      "...\n",
      "{'color': 'green', 'points': 5, 'speed': 'medium'}\n",
      "...\n",
      "{'color': 'green', 'points': 5, 'speed': 'medium'}\n",
      "...\n",
      "{'color': 'green', 'points': 5, 'speed': 'medium'}\n",
      "...\n",
      "{'color': 'green', 'points': 5, 'speed': 'medium'}\n",
      "...\n",
      "{'color': 'green', 'points': 5, 'speed': 'medium'}\n",
      "...\n",
      "{'color': 'green', 'points': 5, 'speed': 'medium'}\n",
      "...\n",
      "{'color': 'green', 'points': 5, 'speed': 'medium'}\n",
      "...\n",
      "{'color': 'green', 'points': 5, 'speed': 'medium'}\n",
      "...\n",
      "{'color': 'green', 'points': 5, 'speed': 'medium'}\n",
      "...\n",
      "{'color': 'green', 'points': 5, 'speed': 'medium'}\n",
      "...\n",
      "{'color': 'green', 'points': 5, 'speed': 'medium'}\n",
      "...\n",
      "{'color': 'green', 'points': 5, 'speed': 'medium'}\n",
      "...\n",
      "{'color': 'green', 'points': 5, 'speed': 'medium'}\n",
      "...\n",
      "{'color': 'green', 'points': 5, 'speed': 'medium'}\n",
      "...\n",
      "{'color': 'green', 'points': 5, 'speed': 'medium'}\n",
      "...\n",
      "{'color': 'green', 'points': 5, 'speed': 'medium'}\n",
      "...\n",
      "{'color': 'green', 'points': 5, 'speed': 'medium'}\n",
      "...\n",
      "{'color': 'green', 'points': 5, 'speed': 'medium'}\n",
      "...\n",
      "{'color': 'green', 'points': 5, 'speed': 'medium'}\n",
      "...\n",
      "{'color': 'green', 'points': 5, 'speed': 'medium'}\n",
      "...\n",
      "{'color': 'green', 'points': 5, 'speed': 'medium'}\n",
      "...\n",
      "{'color': 'green', 'points': 5, 'speed': 'medium'}\n",
      "...\n",
      "{'color': 'green', 'points': 5, 'speed': 'medium'}\n",
      "...\n",
      "{'color': 'green', 'points': 5, 'speed': 'medium'}\n",
      "...\n",
      "{'color': 'green', 'points': 5, 'speed': 'medium'}\n",
      "...\n",
      "{'color': 'green', 'points': 5, 'speed': 'medium'}\n",
      "...\n",
      "{'color': 'green', 'points': 5, 'speed': 'medium'}\n",
      "...\n",
      "{'color': 'green', 'points': 5, 'speed': 'medium'}\n",
      "...\n",
      "{'color': 'green', 'points': 5, 'speed': 'medium'}\n",
      "...\n",
      "{'color': 'green', 'points': 5, 'speed': 'medium'}\n",
      "...\n",
      "{'color': 'green', 'points': 5, 'speed': 'medium'}\n",
      "...\n",
      "{'color': 'green', 'points': 5, 'speed': 'medium'}\n",
      "...\n",
      "{'color': 'green', 'points': 5, 'speed': 'medium'}\n",
      "...\n",
      "Total number of aliens: 30\n"
     ]
    }
   ],
   "source": [
    "# Cria uma lista vazia para armazenar alienígenas\n",
    "aliens = []\n",
    "# Cria 30 alienígenas verdes\n",
    "for alien_number in range(30):\n",
    "    new_alien = {'color': 'green', 'points': 5, 'speed': 'medium'}\n",
    "    aliens.append(new_alien)\n",
    "# Mostra os 5 primeiros alienígenas\n",
    "    for alien in aliens[:5]:\n",
    "        print(alien)\n",
    "        print(\"...\")\n",
    "# Mostra quantos alienígenas foram criados\n",
    "print(\"Total number of aliens: \" + str(len(aliens)))"
   ]
  },
  {
   "cell_type": "markdown",
   "metadata": {},
   "source": [
    "Todos esses alienígenas têm as mesmas características, mas Python considera cada um como um objeto diferente, o que nos permite modificar cada alienígena individualmente.\n",
    "\n",
    "**Como podemos trabalhar com um conjunto de alienígenas como esse?** Suponha que um aspecto do jogo consista em fazer alguns alienígenas mudarem de cor e moverem-se mais rápido à medida que o jogo prosseguir. **Quando for o momento de mudar de cor, podemos usar um laço <code>for</code> e uma instrução <code>if</code> para alterar a cor dos alienígenas**. Por exemplo, para mudar os três primeiros alienígenas para amarelo, com velocidade média, valendo dez pontos cada, podemos fazer o seguinte:"
   ]
  },
  {
   "cell_type": "code",
   "execution_count": 238,
   "metadata": {},
   "outputs": [
    {
     "name": "stdout",
     "output_type": "stream",
     "text": [
      "{'color': 'yellow', 'points': 10, 'speed': 'medium'}\n",
      "...\n",
      "{'color': 'yellow', 'points': 10, 'speed': 'medium'}\n",
      "...\n",
      "{'color': 'yellow', 'points': 10, 'speed': 'medium'}\n",
      "...\n",
      "{'color': 'green', 'points': 5, 'speed': 'slow'}\n",
      "...\n",
      "{'color': 'green', 'points': 5, 'speed': 'slow'}\n",
      "...\n"
     ]
    }
   ],
   "source": [
    "# Cria uma lista vazia para armazenar alienígenas\n",
    "aliens = []\n",
    "# Cria 30 alienígenas verdes\n",
    "for alien_number in range(0,30):\n",
    "    new_alien = {'color': 'green', 'points': 5, 'speed': 'slow'}\n",
    "    aliens.append(new_alien)\n",
    "# Mostra os 5 primeiros alienígenas\n",
    "for alien in aliens[0:3]:\n",
    "        if alien['color'] =='green':\n",
    "            alien['color'] ='yellow'\n",
    "            alien['speed'] = 'medium'\n",
    "            alien['points'] = 10\n",
    "# Mostra os 5 primeiros alienígenas \n",
    "for alien in aliens[0:5]: §1\n",
    "                print(alien) \n",
    "                print(\"...\")"
   ]
  },
  {
   "cell_type": "markdown",
   "metadata": {},
   "source": [
    "**Como queremos modificar os três primeiros alienígenas, percorremos uma fatia que inclui apenas os três primeiros alienígenas.** Todos os alienígenas são verdes agora, mas isso nem sempre ocorrerá, portanto escrevemos **uma instrução <code>if</code> para garantir que estamos modificando apenas os alienígenas verdes**. Se o alienígena for verde, mudamos **a cor para 'yellow', a velocidade para 'medium' e o valor da\n",
    "pontuação para 10**, como vemos na saída acima."
   ]
  },
  {
   "cell_type": "markdown",
   "metadata": {},
   "source": [
    "Poderíamos expandir esse laço acrescentando um bloco <code>**elif**</code> que transforme **alienígenas amarelos em alienígenas vermelhos e rápidos, que valem 15 pontos cada**. Sem mostrar o programa todo novamente, esse laço teria o seguinte aspecto: "
   ]
  },
  {
   "cell_type": "code",
   "execution_count": 276,
   "metadata": {},
   "outputs": [
    {
     "name": "stdout",
     "output_type": "stream",
     "text": [
      "{'color': 'red', 'points': 15, 'speed': 'fast'}\n",
      "...\n"
     ]
    }
   ],
   "source": [
    "for alien in aliens[0:3]:\n",
    "    if alien['color'] =='green':\n",
    "        alien['color'] ='yellow'\n",
    "        alien['speed'] ='medium'\n",
    "        alien['points'] =10\n",
    "    elif alien['color'] =='yellow': \n",
    "        alien['color'] ='red'\n",
    "        alien['speed'] ='fast'\n",
    "        alien['points'] =15\n",
    "print(alien) \n",
    "print(\"...\")"
   ]
  },
  {
   "cell_type": "markdown",
   "metadata": {},
   "source": [
    "**É comum armazenar vários dicionários em uma lista quando cada dicionário tiver diversos tipos de informação sobre um objeto.** Por exemplo, podemos criar um dicionário para cada usuário de um site, como fizemos em **user.py**, e armazenar os dicionários individuais em uma lista chamada **users**. **Todos os dicionários da lista devem ter uma estrutura idêntica para que possamos percorrer a lista com um laço e trabalhar com cada objeto representado por um dicionário do mesmo modo.**"
   ]
  },
  {
   "cell_type": "markdown",
   "metadata": {},
   "source": [
    "### Uma lista em um dicionário"
   ]
  },
  {
   "cell_type": "markdown",
   "metadata": {},
   "source": [
    "**Em vez de colocar um dicionário em uma lista, às vezes é conveniente colocar uma lista em um dicionário**. Por exemplo, **considere como podemos descrever uma pizza que alguém está pedindo.** Se usássemos apenas uma lista, tudo que poderíamos realmente armazenar é uma lista dos ingredientes da pizza. **Com um dicionário, uma lista de ingredientes pode ser apenas um dos aspectos da pizza que estamos descrevendo.**\n",
    "\n",
    "No exemplo a seguir, dois tipos de informação são armazenados para cada pizza: **o tipo de massa** e **a lista de ingredientes. A lista de ingredientes** é um <code>**valor**</code> associado à **<code>chave</code>'toppings'**. Para usar os itens da lista, fornecemos **o nome do dicionário** e a **<code>chave</code> 'toppings'**, como faríamos com qualquer <code>**valor**</code> do dicionário. **Em vez de devolver um único <code>**valor**</code>, teremos uma lista de ingredientes**:"
   ]
  },
  {
   "cell_type": "code",
   "execution_count": 278,
   "metadata": {},
   "outputs": [
    {
     "name": "stdout",
     "output_type": "stream",
     "text": [
      "You ordered a thick-crust pizza with the following toppings:\n",
      "\tmushrooms\n",
      "\textra cheese\n"
     ]
    }
   ],
   "source": [
    "# Armazena informações sobre uma pizza que está sendo pedida  \n",
    "pizza = {'crust': 'thick', 'toppings': ['mushrooms', 'extra cheese'],} #dic. = {chave: valor, chave:[valor, valor],}\n",
    "# Resume o pedido  \n",
    "print(\"You ordered a \" + pizza['crust'] + \"-crust pizza \" + \"with the following toppings:\")\n",
    "for topping in pizza['toppings']:\n",
    "    print(\"\\t\" + topping)"
   ]
  },
  {
   "cell_type": "markdown",
   "metadata": {},
   "source": [
    "**Você pode <code>aninhar</code> uma lista em um dicionário sempre que quiser que mais de um valor seja associado a uma única chave em um dicionário.** No exemplo anterior das linguagens de programação favoritas, se armazenássemos as respostas de cada pessoa em uma lista, elas poderiam escolher mais de uma linguagem predileta. **Se percorrermos o dicionário com um laço, o valor associado a cada pessoa será uma lista das linguagens, e não uma única linguagem. No laço <code>**for**</code> do dicionário, usamos outro laço <code>**for**</code> para percorrer a lista de linguagens associada a cada pessoa**:"
   ]
  },
  {
   "cell_type": "code",
   "execution_count": 288,
   "metadata": {},
   "outputs": [
    {
     "name": "stdout",
     "output_type": "stream",
     "text": [
      "\n",
      "Jen's favorite languages are:\n",
      "\tPython\n",
      "\tRuby\n",
      "\n",
      "Sarah's favorite languages are:\n",
      "\tC\n",
      "\n",
      "Edward's favorite languages are:\n",
      "\tRuby\n",
      "\tGo\n",
      "\n",
      "Phil's favorite languages are:\n",
      "\tPython\n",
      "\tHaskell\n"
     ]
    }
   ],
   "source": [
    "favorite_languages = {'jen': ['python', 'ruby'], 'sarah': ['c'], \n",
    "                      'edward': ['ruby', 'go'],'phil': ['python', 'haskell'], }\n",
    "\n",
    "for name, languages in favorite_languages.items():\n",
    "    print(\"\\n\" + name.title() + \"'s favorite languages are:\")\n",
    "    \n",
    "    for language in languages:\n",
    "        print(\"\\t\" + language.title())"
   ]
  },
  {
   "cell_type": "markdown",
   "metadata": {},
   "source": [
    "Como podemos ver em, **o valor associado a cada nome agora é uma lista**. Observe que algumas pessoas têm uma linguagem favorita, enquanto outras têm várias. Quando percorremos o dicionário com um laço, usamos uma variável de nome **'languages' para armazenar cada valor do dicionário**, pois sabemos que esse valor será uma lista. **No laço principal do dicionário, usamos outro laço <code>for</code> para percorrer a lista de linguagens favoritas de cada pessoa**. Agora cada pessoa pode listar quantas linguagens favoritas quiser.\n",
    "\n",
    "Para aperfeiçoar mais ainda esse programa, **podemos incluir uma instrução <code>if</code>  no início do laço <code>for</code> do dicionário para ver se cada pessoa tem mais de uma linguagem favorita analisando o valor de <code>len(languages)</code>**. Se uma pessoa tiver mais de uma linguagem favorita, a saída será a mesma. Se ela tiver apenas uma linguagem predileta, poderíamos mudar a frase para refletir esse fato."
   ]
  },
  {
   "cell_type": "markdown",
   "metadata": {},
   "source": [
    "**NOTA**   \n",
    "**Não aninhe listas e dicionários com muitos níveis de profundidade**. Se estiver aninhando itens com um nível de profundidade muito maior do que vimos nos exemplos anteriores ou se estiver trabalhando com o código de outra pessoa, e esse código tiver níveis significativos de informações aninhadas, é mais provável que haja uma maneira mais simples de solucionar o problema existente.\n"
   ]
  },
  {
   "cell_type": "markdown",
   "metadata": {},
   "source": [
    "### Um dicionário em um dicionário"
   ]
  },
  {
   "cell_type": "markdown",
   "metadata": {},
   "source": [
    "**Podemos aninhar um dicionário em outro dicionário, mas o código poderá ficar complicado rapidamente se isso for feito.** Por exemplo, se você tiver vários usuários em um site, cada um com um nome único, os nomes dos usuários poderão ser usados como chaves em um dicionário. **Você poderá então armazenar informações sobre cada usuário usando um dicionário como o valor associado a cada nome de usuário.** Na listagem a seguir, armazenamos três informações sobre cada usuário: **seu primeiro nome, o sobrenome e a localidade**. Acessaremos essas informações percorrendo os nomes dos usuários em um laço e o dicionário de informações associado a cada nome de usuário:"
   ]
  },
  {
   "cell_type": "code",
   "execution_count": 294,
   "metadata": {},
   "outputs": [
    {
     "name": "stdout",
     "output_type": "stream",
     "text": [
      "\n",
      "Username: aeinstein\n",
      "\tFull name: Albert Einstein\n",
      "\tLocation: Princeton\n",
      "\n",
      "Username: mcurie\n",
      "\tFull name: Marie Curie\n",
      "\tLocation: Paris\n"
     ]
    }
   ],
   "source": [
    "users = { 'aeinstein': {'first': 'albert', 'last': 'einstein', 'location': 'princeton',},\n",
    "         'mcurie': {'first': 'marie', 'last': 'curie', 'location': 'paris',}}\n",
    "for username, user_info in users.items(): \n",
    "    print(\"\\nUsername: \" + username)  \n",
    "#começamos a acessar o dicionário interno\n",
    "    full_name = user_info['first'] + \" \" + user_info['last'] #full_name = valor[valor1] + valor[valor2]\n",
    "    location = user_info['location']\n",
    "    print(\"\\tFull name: \" + full_name.title()) \n",
    "    print(\"\\tLocation: \" + location.title())"
   ]
  },
  {
   "cell_type": "markdown",
   "metadata": {},
   "source": [
    "Inicialmente definimos um dicionário chamado **'users'** com duas chaves, uma para cada um dos seguintes nomes de usuário: **'aeinstein' e 'mcurie'**. **O valor** associado a cada chave é um dicionário que inclui **o primeiro nome, o sobrenome e a localidade de cada usuário**. Percorremos o dicionário **'users'** com um laço. **Python armazena cada chave na variável username e o dicionário associado a cada nome de usuário na variável 'user_info'**. Depois que entrarmos no laço principal do dicionário, exibimos o nome do usuário.\n",
    "\n",
    "A variável **'user_info'**, que contém o dicionário com informações do usuário, tem três chaves: **'first', 'last' e 'location'**. **Usamos cada chave para gerar um nome completo e a localidade formatados de modo elegante para cada pessoa.**\n"
   ]
  },
  {
   "cell_type": "markdown",
   "metadata": {},
   "source": [
    "### **FAÇA VOCÊ MESMO**"
   ]
  },
  {
   "cell_type": "markdown",
   "metadata": {},
   "source": [
    "**6.10 – Números favoritos:** Modifique o seu programa do Exercício 6.2 (página 147) para que cada pessoa possa ter mais de um número favorito. Em seguida, apresente o nome de cada pessoa, juntamente com seus números favoritos.\n",
    "\n",
    "**6.12 – Extensões:** Estamos trabalhando agora com exemplos complexos o bastante para poderem ser estendidos de várias maneiras. Use um dos programas de exemplo deste capítulo e estenda-o acrescentando novas chaves e valores, alterando o contexto do programa ou melhorando a formatação da saída."
   ]
  },
  {
   "cell_type": "markdown",
   "metadata": {},
   "source": [
    "****"
   ]
  },
  {
   "cell_type": "markdown",
   "metadata": {},
   "source": [
    "**6.7 – Pessoas:** Comece com o programa que você escreveu no Exercício 6.1 (página 147). Crie dois novos dicionários que representem pessoas diferentes e armazene os três dicionários em uma lista chamada **people**. Percorra sua lista de pessoas com um laço. À medida que percorrer a lista, apresente tudo que você sabe sobre cada pessoa."
   ]
  },
  {
   "cell_type": "code",
   "execution_count": 318,
   "metadata": {},
   "outputs": [
    {
     "name": "stdout",
     "output_type": "stream",
     "text": [
      "\n",
      "Nome: Barbara Bergamo\n",
      "Idade: 23\n",
      "Cidade: São Paulo\n",
      "\n",
      "Nome: Emilia André\n",
      "Idade: 52\n",
      "Cidade: Luanda\n",
      "\n",
      "Nome: Vahekeny Costa\n",
      "Idade: 10\n",
      "Cidade: Lisboa\n"
     ]
    }
   ],
   "source": [
    "#Use um dicionário para armazenar informações sobre uma pessoa\n",
    "my_wife = {'first_name': 'barbara', 'last_name': 'bergamo', 'age': 23, 'city': 'São Paulo'}\n",
    "my_mum = {'first_name': 'emilia', 'last_name': 'André', 'age': 52, 'city': 'Luanda'}\n",
    "my_brother = {'first_name': 'vahekeny', 'last_name': 'costa', 'age': 10, 'city': 'Lisboa'}\n",
    "\n",
    "people = [my_wife, my_mum, my_brother]\n",
    "for person in people:\n",
    "    print(\"\\nNome: \" + person['first_name'].title() + \" \" + person['last_name'].title())\n",
    "    print(\"Idade: \" + str(person['age']).title())\n",
    "    print(\"Cidade: \" + person['city'])"
   ]
  },
  {
   "cell_type": "markdown",
   "metadata": {},
   "source": [
    "**6.8 – Animais de estimação:** Crie vários dicionários, em que o nome de cada dicionário seja o nome de um animal de estimação. Em cada dicionário, inclua o tipo do animal e o nome do dono. Armazene esses dicionários em uma lista chamada **pets**. Em seguida, percorra sua lista com um laço e, à medida que fizer isso, apresente tudo que você sabe sobre cada animal de estimação."
   ]
  },
  {
   "cell_type": "code",
   "execution_count": 344,
   "metadata": {},
   "outputs": [
    {
     "name": "stdout",
     "output_type": "stream",
     "text": [
      "\tLista dos animais de estimação:\n",
      "\n",
      "Tipo de animal: cão \n",
      "Nome do dono: Denylson\n",
      "\n",
      "Tipo de animal: macaco \n",
      "Nome do dono: Elisio\n",
      "\n",
      "Tipo de animal: gato \n",
      "Nome do dono: Barbara\n",
      "\n",
      "Tipo de animal: passaro \n",
      "Nome do dono: Panzo\n"
     ]
    }
   ],
   "source": [
    "marley ={'animal_domestico':'cão', 'dono': 'denylson'}\n",
    "chico = {'animal_domestico':'macaco', 'dono': 'elisio'}\n",
    "suri ={'animal_domestico':'gato','dono' : 'barbara'}\n",
    "migui = {'animal_domestico':'passaro', 'dono': 'panzo'}\n",
    "\n",
    "pets = [marley, chico, suri, migui]\n",
    "\n",
    "print(\"\\tLista dos animais de estimação:\")\n",
    "for pet in pets:\n",
    "    print(\"\\nTipo de animal: \" + pet['animal_domestico'] + \" \\nNome do dono: \" + pet['dono'].title())"
   ]
  },
  {
   "cell_type": "markdown",
   "metadata": {},
   "source": [
    "**6.9 – Lugares favoritos:** Crie um dicionário chamado **favorite_places**. Pense em três nomes para usar como chaves do dicionário e armazene de um a três lugares favoritos para cada pessoa. Para deixar este exercício um pouco mais interessante, peça a alguns amigos que nomeiem alguns de seus lugares favoritos. Percorra o dicionário com um laço e apresente o nome de cada pessoa e seus lugares favoritos."
   ]
  },
  {
   "cell_type": "code",
   "execution_count": 375,
   "metadata": {},
   "outputs": [
    {
     "name": "stdout",
     "output_type": "stream",
     "text": [
      "\n",
      "Lugares favoritos de Deias:\n",
      "\tLuanda\t\n",
      "\tBahia\t\n",
      "\tBirmingham\t\n",
      "\n",
      "Lugares favoritos de Emilia:\n",
      "\tLisboa\t\n",
      "\tCairo\t\n",
      "\tCuritiba\t\n",
      "\n",
      "Lugares favoritos de Barbara:\n",
      "\tRoma\t\n",
      "\tPorto\t\n",
      "\tSevilha\t\n"
     ]
    }
   ],
   "source": [
    "favorite_places ={'deias': ['luanda','bahia', 'birmingham'], \n",
    "'emilia':['lisboa', 'cairo', 'curitiba'], \n",
    "'barbara': ['roma','porto', 'sevilha'],}\n",
    "\n",
    "for name, places in favorite_places.items():\n",
    "    print(\"\\nLugares favoritos de \" + name.title() + \":\")\n",
    "    for place in places:\n",
    "        print(\"\\t\" + place.title() + \"\\t\" )"
   ]
  },
  {
   "cell_type": "markdown",
   "metadata": {},
   "source": [
    "**6.11 – Cidades:** Crie um dicionário chamado **cities**. Use os nomes de três cidades como chaves em seu dicionário. Crie um dicionário com informações sobre cada cidade e inclua o país em que a cidade está localizada, a população aproximada e um fato sobre essa cidade. As chaves do dicionário de cada cidade devem ser algo como **country, population e fact**. Apresente o nome de cada cidade e todas as informações que você armazenou sobre ela."
   ]
  },
  {
   "cell_type": "code",
   "execution_count": 438,
   "metadata": {},
   "outputs": [
    {
     "name": "stdout",
     "output_type": "stream",
     "text": [
      "\n",
      "Informações sobre Luanda:\n",
      "Population: 2,100,000\n",
      "Pais: Angola\n",
      "Fatos: capital de angola e a cidade mais populosa\n",
      "\n",
      "Informações sobre Lisboa:\n",
      "Population: 547,773\n",
      "Pais: Portugal\n",
      "Fatos: é uma das cidades mais antigas da Europa Ocidental\n",
      "\n",
      "Informações sobre São Paulo:\n",
      "Population: 11,451,999\n",
      "Pais: Brasil\n",
      "Fatos: é a maior cidade e o principal centro financeiro do Brasil\n"
     ]
    }
   ],
   "source": [
    "#EX. 6.11 - PRIMEIRA MANEIRA DE FAZER E MAIS SIMPLES\n",
    "cities = {'luanda': {'country': 'angola', 'population': '2,100,000', \n",
    "                     'fact': 'capital de angola e a cidade mais populosa.'},\n",
    "          'lisboa': {'country': 'portugal', 'population': '547,773', \n",
    "                     'fact': 'é uma das cidades mais antigas da Europa Ocidental.'},\n",
    "          'são paulo': {'country': 'brasil', 'population': '11,451,999', \n",
    "                        'fact': 'é a maior cidade e o principal centro financeiro do Brasil.'},\n",
    "         }\n",
    "#full_name = valor[valor1] + valor[valor2]\n",
    "for city, info in cities.items():\n",
    "    print(\"\\nInformações sobre \" + city.title() + \":\") \n",
    "    print(\"Population: \" + info['population'])\n",
    "    \n",
    "    print(\"Pais: \" + info['country'].title())\n",
    "    print(\"Fatos: \" + info['fact'])\n",
    "                     "
   ]
  },
  {
   "cell_type": "code",
   "execution_count": 443,
   "metadata": {},
   "outputs": [
    {
     "name": "stdout",
     "output_type": "stream",
     "text": [
      "\n",
      "Informações sobre Luanda\n",
      "Pais: Angola\n",
      "População: 2,100,000\n",
      "Fatos: capital de angola e a cidade mais populosa.\n",
      "\n",
      "Informações sobre Lisboa\n",
      "Pais: Portugal\n",
      "População: 547,773\n",
      "Fatos: é uma das cidades mais antigas da Europa Ocidental.\n",
      "\n",
      "Informações sobre São Paulo\n",
      "Pais: Brasil\n",
      "População: 11,451,999\n",
      "Fatos: é a maior cidade e o principal centro financeiro do Brasil.\n"
     ]
    }
   ],
   "source": [
    "#EX. 6.11 - SEGUNDA MANEIRA DE FAZER \n",
    "cities = {'luanda': {'country': 'angola', 'population': '2,100,000', \n",
    "                     'fact': 'capital de angola e a cidade mais populosa.'},\n",
    "          'lisboa': {'country': 'portugal', 'population': '547,773', \n",
    "                     'fact': 'é uma das cidades mais antigas da Europa Ocidental.'},\n",
    "          'são paulo': {'country': 'brasil', 'population': '11,451,999', \n",
    "                        'fact': 'é a maior cidade e o principal centro financeiro do Brasil.'},}\n",
    "for city, facts in cities.items():\n",
    "    print(\"\\nInformações sobre \" + city.title())\n",
    "    country_stats = facts['country'].title() + \"\\nPopulação: \" + str(facts['population'])\n",
    "    city_info = facts['fact']\n",
    "    \n",
    "    print(\"Pais: \" + country_stats.title())\n",
    "    print(\"Fatos: \" + city_info)\n",
    "                     "
   ]
  },
  {
   "cell_type": "markdown",
   "metadata": {},
   "source": [
    "****"
   ]
  },
  {
   "cell_type": "markdown",
   "metadata": {},
   "source": [
    "## **Resumo**"
   ]
  },
  {
   "cell_type": "markdown",
   "metadata": {},
   "source": [
    "Neste capítulo aprendemos a definir **um dicionário e a trabalhar com as informações armazenadas nele**. Vimos como acessar e modificar elementos individuais de um dicionário e percorrer todas as suas informações com um laço. Aprendemos a percorrer todos os **pares chave-valor de um dicionário, suas chaves e seus valores com um laço**. Também vimos como **aninhar vários dicionários em uma lista, aninhar listas em um dicionário e um dicionário em outro dicionário**.\n",
    "\n",
    "No próximo capítulo, conheceremos os laços <code>while</code> e veremos **como aceitar dados de entrada das pessoas que usarem seus programas**. Será um capítulo empolgante, pois você aprenderá a deixar todos os seus programas interativos: eles serão capazes de responder a dados de entrada do usuário."
   ]
  },
  {
   "cell_type": "code",
   "execution_count": null,
   "metadata": {
    "editable": true,
    "slideshow": {
     "slide_type": ""
    },
    "tags": []
   },
   "outputs": [],
   "source": []
  }
 ],
 "metadata": {
  "kernelspec": {
   "display_name": "Python 3 (ipykernel)",
   "language": "python",
   "name": "python3"
  },
  "language_info": {
   "codemirror_mode": {
    "name": "ipython",
    "version": 3
   },
   "file_extension": ".py",
   "mimetype": "text/x-python",
   "name": "python",
   "nbconvert_exporter": "python",
   "pygments_lexer": "ipython3",
   "version": "3.11.5"
  }
 },
 "nbformat": 4,
 "nbformat_minor": 4
}
