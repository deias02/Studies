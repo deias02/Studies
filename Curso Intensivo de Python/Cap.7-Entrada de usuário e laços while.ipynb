{
 "cells": [
  {
   "cell_type": "markdown",
   "metadata": {},
   "source": [
    "# **Cap.7 - Entrada de usuário e laços <code>while</code>**"
   ]
  },
  {
   "cell_type": "markdown",
   "metadata": {},
   "source": [
    "A maioria dos programas é escrita para resolver o problema de um usuário final. Para isso, geralmente precisamos obter algumas informações do usuário. Como exemplo simples, **vamos supor que uma pessoa queira descobrir se ela tem idade suficiente para votar. Se você escrever um programa que responda a essa pergunta, será necessário saber a idade do usuário antes de poder oferecer uma resposta**. O programa precisará pedir ao usuário que forneça **a idade, ou entre com ela**; depois que tiver esse dado de entrada, o programa poderá comparar esse valor com a idade para votar a fim de determinar se o usuário tem idade suficiente e então informar o resultado."
   ]
  },
  {
   "cell_type": "markdown",
   "metadata": {
    "editable": true,
    "slideshow": {
     "slide_type": ""
    },
    "tags": []
   },
   "source": [
    "Neste capítulo aprenderemos a **aceitar dados de entrada do usuário para que seu programa possa então trabalhar com eles**. Quando seu programa precisar de um nome, você poderá solicitá-lo ao usuário. Quando precisar de uma lista de nomes, você poderá pedir uma série de nomes ao usuário. Para isso, usaremos **a função <code>input()</code>**.\n",
    "\n",
    "Também veremos como **manter os programas executando pelo tempo que os usuários quiserem, de modo que eles possam fornecer quantas informações forem necessárias**; em seguida, seu programa poderá trabalhar com essas informações. Usaremos **o laço <code>while</code>** de Python para **manter os programas executando enquanto determinadas condições permanecerem verdadeiras**.\n",
    "\n",
    "Com a capacidade de trabalhar com dados de entrada do usuário e controlar o tempo que seus programas executam, você poderá escrever programas totalmente interativos."
   ]
  },
  {
   "cell_type": "markdown",
   "metadata": {},
   "source": [
    "## **Como a função <code>input()</code> trabalha**"
   ]
  },
  {
   "cell_type": "markdown",
   "metadata": {},
   "source": [
    "A **função <code>input()**</code> faz uma pausa em seu programa e espera o usuário fornecer um texto. **Depois que Python recebe a entrada do usuário, esse dado é armazenado em uma variável para que você possa trabalhar com ele de forma conveniente**.\n",
    "\n",
    "Por exemplo, o programa a seguir pede que o usuário forneça um texto e, em seguida, exibe essa mensagem de volta ao usuário:"
   ]
  },
  {
   "cell_type": "code",
   "execution_count": 1,
   "metadata": {
    "tags": []
   },
   "outputs": [
    {
     "name": "stdin",
     "output_type": "stream",
     "text": [
      "Tell me something, and I will repeat it back to you:  quit\n"
     ]
    }
   ],
   "source": [
    "message = input(\"Tell me something, and I will repeat it back to you: \")"
   ]
  },
  {
   "cell_type": "markdown",
   "metadata": {},
   "source": [
    "A função <code>**input()**</code>  aceita um argumento: **o <code>prompt</code> – ou as instruções** – que queremos exibir ao usuário para que eles saibam o que devem fazer. Nesse exemplo, quando Python executar a primeira linha, o usuário verá o <code>**prompt**</code> **Tell me something, and I will repeat it back to you:** .\n",
    "\n",
    "**O programa espera enquanto o usuário fornece sua resposta e continua** depois que ele tecla <code>**ENTER**</code>. **A resposta é armazenada na variável *'message'***; depois disso, **print(message)** exibe a entrada de volta ao usuário:"
   ]
  },
  {
   "cell_type": "code",
   "execution_count": 3,
   "metadata": {
    "tags": []
   },
   "outputs": [
    {
     "name": "stdin",
     "output_type": "stream",
     "text": [
      "Tell me something, and I will repeat it back to you:  quit\n"
     ]
    }
   ],
   "source": [
    "message = input(\"Tell me something, and I will repeat it back to you: \")#deixar um espaço depois do dois-pontos :"
   ]
  },
  {
   "cell_type": "code",
   "execution_count": 501,
   "metadata": {
    "tags": []
   },
   "outputs": [
    {
     "name": "stdout",
     "output_type": "stream",
     "text": [
      "quit\n"
     ]
    }
   ],
   "source": [
    "print(message)"
   ]
  },
  {
   "cell_type": "markdown",
   "metadata": {},
   "source": [
    "### Escrevendo prompts claros"
   ]
  },
  {
   "cell_type": "markdown",
   "metadata": {},
   "source": [
    "Sempre que usar a **função <code>input()**</code> , inclua **um <code>prompt</code> claro**, fácil de compreender, que informe o usuário exatamente que tipo de informação você procura. **Qualquer frase que diga aos usuários o que eles devem fornecer será apropriada.** Por exemplo: \n",
    "+ **greeter.py name = input(\"Please enter your name: \")  /  print(\"Hello, \" + name + \"!\")** \n",
    "\n",
    "**Acrescente um espaço no final de seus prompts** (depois dos dois-pontos no exemplo anterior) para **separar o  <code>prompt</code> da resposta do usuário e deixar claro em que lugar o usuário deve fornecer seu texto**. Por exemplo: "
   ]
  },
  {
   "cell_type": "code",
   "execution_count": 217,
   "metadata": {
    "tags": []
   },
   "outputs": [
    {
     "name": "stdin",
     "output_type": "stream",
     "text": [
      "Please enter your name:  denylson\n"
     ]
    }
   ],
   "source": [
    "name =input(\"Please enter your name: \")"
   ]
  },
  {
   "cell_type": "code",
   "execution_count": 219,
   "metadata": {
    "tags": []
   },
   "outputs": [
    {
     "name": "stdout",
     "output_type": "stream",
     "text": [
      "Hello, denylson!\n"
     ]
    }
   ],
   "source": [
    "print(\"Hello, \" + str(name) +\"!\")"
   ]
  },
  {
   "cell_type": "markdown",
   "metadata": {},
   "source": [
    "Às vezes, você vai querer escrever um <code>**prompt**</code>  que seja maior que uma linha. Por exemplo, talvez você queira explicar ao usuário por que está pedindo determinada entrada. **Você pode armazenar seu <code>prompt</code>  em uma variável e passá-la para a função <code>input()</code>**. Isso permite criar seu **<code>prompt</code> com várias linhas e escrever uma instrução <code>input()</code> clara**."
   ]
  },
  {
   "cell_type": "code",
   "execution_count": 221,
   "metadata": {
    "tags": []
   },
   "outputs": [
    {
     "name": "stdin",
     "output_type": "stream",
     "text": [
      "If you tell us who you are, we can personalize the messages you see.\n",
      "What is your first name?  denylson\n"
     ]
    }
   ],
   "source": [
    "prompt = \"If you tell us who you are, we can personalize the messages you see.\"\n",
    "prompt += \"\\nWhat is your first name? \"\n",
    "name =input(prompt)"
   ]
  },
  {
   "cell_type": "code",
   "execution_count": 223,
   "metadata": {
    "tags": []
   },
   "outputs": [
    {
     "name": "stdout",
     "output_type": "stream",
     "text": [
      "\n",
      "Hello, denylson!\n"
     ]
    }
   ],
   "source": [
    "print(\"\\nHello, \" + str(name) + \"!\")"
   ]
  },
  {
   "cell_type": "markdown",
   "metadata": {},
   "source": [
    "**O <code>prompt</code>agora ocupa duas linhas, novamente, com um espaço após o ponto de interrogação por questões de clareza.**"
   ]
  },
  {
   "cell_type": "markdown",
   "metadata": {},
   "source": [
    "### Usando <code>**int**()</code> para aceitar entradas numéricas"
   ]
  },
  {
   "cell_type": "markdown",
   "metadata": {},
   "source": [
    "Se usarmos a função <code>**input()**</code>, **Python interpretará tudo que o usuário fornecer como uma string.** Considere a sessão de interpretador a seguir, que pergunta a idade do usuário:"
   ]
  },
  {
   "cell_type": "code",
   "execution_count": 5,
   "metadata": {},
   "outputs": [
    {
     "name": "stdout",
     "output_type": "stream",
     "text": [
      "How old are you?  21\n"
     ]
    }
   ],
   "source": [
    "age =input(\"How old are you? \")"
   ]
  },
  {
   "cell_type": "code",
   "execution_count": 6,
   "metadata": {},
   "outputs": [
    {
     "data": {
      "text/plain": [
       "<PyodideFuture finished result='21'>"
      ]
     },
     "execution_count": 6,
     "metadata": {},
     "output_type": "execute_result"
    }
   ],
   "source": [
    "age"
   ]
  },
  {
   "cell_type": "markdown",
   "metadata": {},
   "source": [
    "O usuário digita o número **21**, mas quando pedimos o valor de **age**, Python **devolve '21', que é a representação em string do valor numérico fornecido**. Sabemos que **Python interpretou a entrada como uma <code>string</code> porque o número agora está entre aspas**. Se tudo que você quiser fazer é exibir a entrada, isso funcionará bem. Entretanto, **se tentar usar a entrada como um número, você obterá um erro**:"
   ]
  },
  {
   "cell_type": "code",
   "execution_count": 225,
   "metadata": {
    "tags": []
   },
   "outputs": [
    {
     "name": "stdin",
     "output_type": "stream",
     "text": [
      "How old are you?  21\n"
     ]
    }
   ],
   "source": [
    "age =input(\"How old are you? \")"
   ]
  },
  {
   "cell_type": "code",
   "execution_count": 227,
   "metadata": {
    "tags": []
   },
   "outputs": [
    {
     "ename": "TypeError",
     "evalue": "'>=' not supported between instances of 'str' and 'int'",
     "output_type": "error",
     "traceback": [
      "\u001b[0;31m---------------------------------------------------------------------------\u001b[0m",
      "\u001b[0;31mTypeError\u001b[0m                                 Traceback (most recent call last)",
      "Cell \u001b[0;32mIn[227], line 1\u001b[0m\n\u001b[0;32m----> 1\u001b[0m \u001b[43mage\u001b[49m\u001b[43m \u001b[49m\u001b[38;5;241;43m>\u001b[39;49m\u001b[38;5;241;43m=\u001b[39;49m\u001b[38;5;241;43m18\u001b[39;49m\n",
      "\u001b[0;31mTypeError\u001b[0m: '>=' not supported between instances of 'str' and 'int'"
     ]
    }
   ],
   "source": [
    "age >=18"
   ]
  },
  {
   "cell_type": "markdown",
   "metadata": {},
   "source": [
    "+ **Traceback (most recent call last): File \"<stdin>\", line 1, in <module> v TypeError: unorderable types: str() >= int()**\n",
    "\n",
    "**Quando tentamos usar a entrada para fazer uma comparação numérica, **Python gera um erro, pois não é capaz de comparar uma <code>string</code> com um <code>inteiro</code>**: a string '21' armazenada em age não pode ser comparada ao valor numérico 18.**"
   ]
  },
  {
   "cell_type": "markdown",
   "metadata": {},
   "source": [
    "Podemos resolver esse problema usando a função <code>**int()**</code>, que diz a Python para tratar a entrada como um valor numérico. A função <code>**int()**</code> **converte a representação em string de um número em uma representação numérica**, como vemos a seguir:"
   ]
  },
  {
   "cell_type": "code",
   "execution_count": 229,
   "metadata": {
    "tags": []
   },
   "outputs": [
    {
     "name": "stdin",
     "output_type": "stream",
     "text": [
      "How old are you?  21\n"
     ]
    }
   ],
   "source": [
    "age =input(\"How old are you? \")\n",
    "age = int(age)"
   ]
  },
  {
   "cell_type": "code",
   "execution_count": 231,
   "metadata": {
    "tags": []
   },
   "outputs": [
    {
     "data": {
      "text/plain": [
       "True"
      ]
     },
     "execution_count": 231,
     "metadata": {},
     "output_type": "execute_result"
    }
   ],
   "source": [
    "age >=18"
   ]
  },
  {
   "cell_type": "markdown",
   "metadata": {},
   "source": [
    "Nesse exemplo, quando fornecemos **21 no prompt, Python interpreta o número como uma string, mas o valor é então convertido para uma representação numérica por <code>int()</code>**. Agora Python pode executar o teste condicional: **comparar age (que contém o valor numérico 21) com 18 para ver se age é maior ou igual a 18**. Esse teste é avaliado como <code>**True**</code>.\n",
    "\n",
    "Como podemos usar a função <code>**int()**</code> em um programa de verdade? Considere um programa que determina se as pessoas têm altura suficiente para andar em uma montanha-russa:"
   ]
  },
  {
   "cell_type": "code",
   "execution_count": 233,
   "metadata": {
    "tags": []
   },
   "outputs": [
    {
     "name": "stdin",
     "output_type": "stream",
     "text": [
      "How tall are you, in inches? 70\n"
     ]
    },
    {
     "name": "stdout",
     "output_type": "stream",
     "text": [
      "\n",
      "You're tall enough to ride!\n"
     ]
    }
   ],
   "source": [
    "height =input(\"How tall are you, in inches?\")\n",
    "height =int(height)\n",
    "\n",
    "if height >= 36:\n",
    "    print(\"\\nYou're tall enough to ride!\")\n",
    "else:\n",
    "    print(\"\\nYou'll be able to ride when you're litle older.\")\n",
    "        "
   ]
  },
  {
   "cell_type": "markdown",
   "metadata": {},
   "source": [
    "**Quando usar uma entrada numérica para fazer cálculos e comparações, lembre-se de converter o valor da entrada em uma representação numérica antes.**"
   ]
  },
  {
   "cell_type": "markdown",
   "metadata": {},
   "source": [
    "### Operador de módulo"
   ]
  },
  {
   "cell_type": "markdown",
   "metadata": {},
   "source": [
    "Uma ferramenta útil para trabalhar com informações numéricas é o <code>**operador de módulo (%)**</code>, **que divide um número por outro e devolve o resto**:"
   ]
  },
  {
   "cell_type": "code",
   "execution_count": 37,
   "metadata": {
    "tags": []
   },
   "outputs": [
    {
     "data": {
      "text/plain": [
       "1"
      ]
     },
     "execution_count": 37,
     "metadata": {},
     "output_type": "execute_result"
    }
   ],
   "source": [
    "4 % 3"
   ]
  },
  {
   "cell_type": "code",
   "execution_count": 41,
   "metadata": {
    "tags": []
   },
   "outputs": [
    {
     "data": {
      "text/plain": [
       "2"
      ]
     },
     "execution_count": 41,
     "metadata": {},
     "output_type": "execute_result"
    }
   ],
   "source": [
    "5%3"
   ]
  },
  {
   "cell_type": "code",
   "execution_count": 43,
   "metadata": {
    "tags": []
   },
   "outputs": [
    {
     "data": {
      "text/plain": [
       "0"
      ]
     },
     "execution_count": 43,
     "metadata": {},
     "output_type": "execute_result"
    }
   ],
   "source": [
    "6%3"
   ]
  },
  {
   "cell_type": "code",
   "execution_count": 45,
   "metadata": {
    "tags": []
   },
   "outputs": [
    {
     "data": {
      "text/plain": [
       "1"
      ]
     },
     "execution_count": 45,
     "metadata": {},
     "output_type": "execute_result"
    }
   ],
   "source": [
    "7%3"
   ]
  },
  {
   "cell_type": "markdown",
   "metadata": {},
   "source": [
    "O <code>**operador de módulo (%)**</code> não diz quantas vezes um número cabe em outro; ele simplesmente informa o resto.\n",
    "**Quando um número é divisível por outro, o resto é 0, portanto o operador de módulo sempre devolve 0 nesse caso**. Podemos usar esse fato para determinar se um número é **<code>par</code> ou <code>ímpar</code>**:"
   ]
  },
  {
   "cell_type": "code",
   "execution_count": 244,
   "metadata": {
    "tags": []
   },
   "outputs": [
    {
     "name": "stdin",
     "output_type": "stream",
     "text": [
      "Enter a number, and I'll tell you if it's even or odd:  42\n"
     ]
    },
    {
     "name": "stdout",
     "output_type": "stream",
     "text": [
      "\n",
      "The number 42 is even.\n"
     ]
    }
   ],
   "source": [
    "number =input(\"Enter a number, and I'll tell you if it's even or odd: \")\n",
    "number =int(number)\n",
    "\n",
    "if number % 2==0:\n",
    "    print(\"\\nThe number \" + str(number) + \" is even.\")\n",
    "else:\n",
    "    \n",
    "    print(\"\\nThe number \" + str(number) + \" is odd.\") "
   ]
  },
  {
   "cell_type": "markdown",
   "metadata": {
    "tags": []
   },
   "source": [
    "**Números pares são sempre divisíveis por dois, portanto, se o módulo entre um número e dois for zero** (nesse caso, if number % 2 == 0), o número será <code>**par**</code>. Caso contrário, será <code>**ímpar**</code>."
   ]
  },
  {
   "cell_type": "markdown",
   "metadata": {
    "tags": []
   },
   "source": [
    "### Aceitando entradas em Python 2.7"
   ]
  },
  {
   "cell_type": "markdown",
   "metadata": {
    "tags": []
   },
   "source": [
    "Se você usa **Python 2.7**, utilize a função <code>**raw_input()**</code> quando pedir uma entrada ao usuário. **Essa função interpreta todas as entradas como uma <code>string</code>, como faz <code>**input()**</code> em Python 3**.\n",
    "\n",
    "Python 2.7 também tem uma função <code>**input()**</code>, mas essa função interpreta a entrada do usuário como código Python e tenta executá-la. **No melhor caso, você verá um erro informando que Python não é capaz de compreender a entrada; no pior caso, executará um código que não pretendia executar**. Se estiver usando Python 2.7, utilize <code>**raw_input()**</code> no lugar de <code>**input()**</code>.\n"
   ]
  },
  {
   "cell_type": "markdown",
   "metadata": {
    "tags": []
   },
   "source": [
    "## **FAÇA VOCÊ MESMO**"
   ]
  },
  {
   "cell_type": "markdown",
   "metadata": {},
   "source": [
    "**7.1 – Locação de automóveis:** Escreva um programa que pergunte ao usuário qual tipo de carro ele gostaria de alugar. Mostre uma mensagem sobre esse carro, por exemplo, “Deixe-me ver se consigo um Subaru para você.”"
   ]
  },
  {
   "cell_type": "code",
   "execution_count": 264,
   "metadata": {
    "tags": []
   },
   "outputs": [
    {
     "name": "stdin",
     "output_type": "stream",
     "text": [
      "Que carro gostaria de comprar?  Audi\n"
     ]
    },
    {
     "name": "stdout",
     "output_type": "stream",
     "text": [
      "\n",
      "Deixe-me ver se consigo um Audi para você!\n"
     ]
    }
   ],
   "source": [
    "car= input(\"Que carro gostaria de comprar? \")\n",
    "\n",
    "print(\"\\nDeixe-me ver se consigo um \" + str(car) + \" para você!\")"
   ]
  },
  {
   "cell_type": "markdown",
   "metadata": {},
   "source": [
    "**7.2 – Lugares em um restaurante:** Escreva um programa que pergunte ao usuário quantas pessoas estão em seu grupo para jantar. Se a resposta for maior que oito, exiba uma mensagem dizendo que eles deverão esperar uma mesa. Caso contrário, informe que sua mesa está pronta."
   ]
  },
  {
   "cell_type": "code",
   "execution_count": 274,
   "metadata": {
    "tags": []
   },
   "outputs": [
    {
     "name": "stdin",
     "output_type": "stream",
     "text": [
      "Quantas pessoas estão em seu grupo para jantar?  9\n"
     ]
    },
    {
     "name": "stdout",
     "output_type": "stream",
     "text": [
      "\n",
      "Terão que esperar uma mesa livre!\n"
     ]
    }
   ],
   "source": [
    "people = input(\"Quantas pessoas estão em seu grupo para jantar? \")\n",
    "people = int(people)\n",
    "#se for maior que oito, exiba uma mensagem dizendo que eles deverão esperar uma mesa\n",
    "if people > 8:\n",
    "    print(\"\\nTerão que esperar uma mesa livre!\")\n",
    "else:\n",
    "#informe que sua mesa está pronta.\n",
    "    print(\"Temos uma mesa pronta!\")\n",
    "    "
   ]
  },
  {
   "cell_type": "markdown",
   "metadata": {},
   "source": [
    "**7.3 – Múltiplos de dez:** Peça um número ao usuário e, em seguida, informe se o número é múltiplo de dez ou não."
   ]
  },
  {
   "cell_type": "code",
   "execution_count": 285,
   "metadata": {
    "tags": []
   },
   "outputs": [
    {
     "name": "stdin",
     "output_type": "stream",
     "text": [
      "Digite um número:  30\n"
     ]
    },
    {
     "name": "stdout",
     "output_type": "stream",
     "text": [
      "\n",
      "O número 30 é múltiplo de dez.\n"
     ]
    }
   ],
   "source": [
    "# Solicita um número ao usuário\n",
    "numero = input(\"Digite um número: \")\n",
    "numero =int(numero)\n",
    "\n",
    "# Verifica se o número é múltiplo de dez\n",
    "if numero % 10 == 0:\n",
    "    print(\"\\nO número \" + str(numero) + \" é múltiplo de dez.\")\n",
    "else:\n",
    "    print(\"\\nO número \" + str(numero) + \" não é múltiplo de dez.\")"
   ]
  },
  {
   "cell_type": "markdown",
   "metadata": {},
   "source": [
    "****"
   ]
  },
  {
   "cell_type": "markdown",
   "metadata": {},
   "source": [
    "## **Introdução aos laços** <code>**while**</code>"
   ]
  },
  {
   "cell_type": "markdown",
   "metadata": {},
   "source": [
    "O laço <code>**for**</code> toma uma coleção de itens e executa um bloco de código uma vez para cada item da coleção. Em comparação, **o laço <code>while</code> executa durante o tempo em que, ou '*enquanto*', uma determinada condição for verdadeira**.\n"
   ]
  },
  {
   "cell_type": "markdown",
   "metadata": {},
   "source": [
    "### Laço <code>**while**</code> em ação"
   ]
  },
  {
   "cell_type": "markdown",
   "metadata": {},
   "source": [
    "Podemos usar um laço <code>**while**</code> **para contar uma série de números**. Por exemplo, o laço while a seguir conta de 1 a 5:"
   ]
  },
  {
   "cell_type": "code",
   "execution_count": 303,
   "metadata": {
    "tags": []
   },
   "outputs": [
    {
     "name": "stdout",
     "output_type": "stream",
     "text": [
      "1\n",
      "2\n",
      "3\n",
      "4\n",
      "5\n"
     ]
    }
   ],
   "source": [
    "current_number = 1\n",
    "while current_number <= 5:\n",
    "    print(current_number)\n",
    "    current_number += 1"
   ]
  },
  {
   "cell_type": "markdown",
   "metadata": {},
   "source": [
    "Na primeira linha começamos a contar de 1 ao definir o valor de **current_number com 1**. O laço <code>**while**</code> é então configurado para continuar executando **'enquanto' o valor de current_number for menor ou igual a 5**. O código no laço exibe o valor **current_number e então soma 1 a esse valor com current_number += 1.**\n",
    "\n",
    "+ **(O operador <code>+=</code>  é um atalho para current_number = current_number + 1.)**\n",
    "\n",
    "Python repete o laço enquanto a condição **current_number <= 5 for verdadeira**. Como 1 é menor que 5, **Python exibe 1 e então soma 1, fazendo o número atual ser igual a 2**. Como 2 é menor que 5, Python exibe 2 e soma 1 novamente, fazendo o número atual ser igual a 3, e assim sucessivamente. **Quando o valor de current_number for maior que 5, o laço para de executar e o programa termina.**"
   ]
  },
  {
   "cell_type": "markdown",
   "metadata": {},
   "source": [
    "Os programas que você usa no dia a dia provavelmente contêm laços <code>**while**</code>. Por exemplo, um jogo precisa de um laço <code>**while**</code> para continuar executando enquanto você quiser jogar, e pode parar de executar assim que você pedir para sair. **Os programas não seriam divertidos se parassem de executar antes que lhes disséssemos para parar ou se continuassem executando mesmo depois que quiséssemos sair, portanto os laços <code>while</code> são bem úteis**."
   ]
  },
  {
   "cell_type": "markdown",
   "metadata": {},
   "source": [
    "### Deixando o usuário decidir quando quer sair"
   ]
  },
  {
   "cell_type": "markdown",
   "metadata": {},
   "source": [
    "Podemos fazer o programa **parrot.py executar enquanto o usuário quiser colocar a maior parte dele em um laço <code>**while**</code>**. Definiremos um valor de saída e então deixaremos o programa executando enquanto o usuário não tiver fornecido o valor de saída:"
   ]
  },
  {
   "cell_type": "code",
   "execution_count": 321,
   "metadata": {
    "tags": []
   },
   "outputs": [
    {
     "name": "stdin",
     "output_type": "stream",
     "text": [
      "\n",
      "Tell me something, and I will repeat it back to you:\n",
      "Enter 'quit' to end the program.  enter\n"
     ]
    },
    {
     "name": "stdout",
     "output_type": "stream",
     "text": [
      "enter\n"
     ]
    },
    {
     "name": "stdin",
     "output_type": "stream",
     "text": [
      "\n",
      "Tell me something, and I will repeat it back to you:\n",
      "Enter 'quit' to end the program.  deny\n"
     ]
    },
    {
     "name": "stdout",
     "output_type": "stream",
     "text": [
      "deny\n"
     ]
    },
    {
     "name": "stdin",
     "output_type": "stream",
     "text": [
      "\n",
      "Tell me something, and I will repeat it back to you:\n",
      "Enter 'quit' to end the program.  good\n"
     ]
    },
    {
     "name": "stdout",
     "output_type": "stream",
     "text": [
      "good\n"
     ]
    },
    {
     "name": "stdin",
     "output_type": "stream",
     "text": [
      "\n",
      "Tell me something, and I will repeat it back to you:\n",
      "Enter 'quit' to end the program.  quit\n"
     ]
    },
    {
     "name": "stdout",
     "output_type": "stream",
     "text": [
      "quit\n"
     ]
    }
   ],
   "source": [
    "prompt = \"\\nTell me something, and I will repeat it back to you:\"\n",
    "prompt += \"\\nEnter 'quit' to end the program. \"\n",
    "\n",
    "message = \"\"\n",
    "while message != 'quit':\n",
    "    message = input(prompt)\n",
    "    print(message)"
   ]
  },
  {
   "cell_type": "markdown",
   "metadata": {},
   "source": [
    "Na primeira passagem pelo laço, **message** é apenas uma string vazia, portanto Python entra no laço. **Em message = input(prompt), Python exibe o prompt e espera o usuário fornecer uma entrada**. O que quer que seja fornecido será armazenado em **message e exibido**; em seguida, Python avalia novamente a condição na instrução <code>**while**</code>. Desde que o usuário não tenha fornecido a palavra **'quit', o prompt será exibido novamente e Python esperará mais entradas**. Quando o usuário finalmente digitar **'quit'**, Python para de executar o laço <code>**while**</code> e o programa termina: **Tell me something, and I will repeat it back to you: Enter 'quit' to end the program.**"
   ]
  },
  {
   "cell_type": "markdown",
   "metadata": {},
   "source": [
    "Esse programa funciona bem, exceto que exibe a palavra **'quit' como se fosse uma mensagem de verdade**. Um teste <code>**if**</code> simples corrige esse problema:"
   ]
  },
  {
   "cell_type": "code",
   "execution_count": 329,
   "metadata": {
    "tags": []
   },
   "outputs": [
    {
     "name": "stdin",
     "output_type": "stream",
     "text": [
      "\n",
      "Tell me something, and I will repeat it back to you:\n",
      "Enter 'quit' to end the program.  hello everyone\n"
     ]
    },
    {
     "name": "stdout",
     "output_type": "stream",
     "text": [
      "hello everyone\n"
     ]
    },
    {
     "name": "stdin",
     "output_type": "stream",
     "text": [
      "\n",
      "Tell me something, and I will repeat it back to you:\n",
      "Enter 'quit' to end the program.  hello again\n"
     ]
    },
    {
     "name": "stdout",
     "output_type": "stream",
     "text": [
      "hello again\n"
     ]
    },
    {
     "name": "stdin",
     "output_type": "stream",
     "text": [
      "\n",
      "Tell me something, and I will repeat it back to you:\n",
      "Enter 'quit' to end the program.  quit\n"
     ]
    }
   ],
   "source": [
    "prompt = \"\\nTell me something, and I will repeat it back to you:\"\n",
    "prompt += \"\\nEnter 'quit' to end the program. \"\n",
    "\n",
    "message = \"\"\n",
    "while message != 'quit':\n",
    "    message = input (prompt)\n",
    "    if message != 'quit':\n",
    "        print(message)"
   ]
  },
  {
   "cell_type": "markdown",
   "metadata": {},
   "source": [
    "### Usando uma <code>**flag**</code>"
   ]
  },
  {
   "cell_type": "markdown",
   "metadata": {},
   "source": [
    "No exemplo anterior, tínhamos um programa que executava determinadas tarefas enquanto uma dada condição era verdadeira. E como ficaria em programas mais complicados, em que muitos eventos diferentes poderiam fazer o programa parar de executar? Por exemplo, **em um jogo, vários eventos diferentes podem encerrá-lo.**\n",
    "**Quando o jogador ficar sem espaçonaves, seu tempo se esgotar ou as cidades que ele deveria proteger forem todas destruídas, o jogo deverá terminar. O jogo termina se qualquer um desses eventos ocorrer**. Se muitos eventos possíveis puderem ocorrer para o programa terminar, tentar testar todas essas condições em uma única instrução <code>**while**</code> torna-se complicado e difícil.\n",
    "\n",
    "**Para um programa que deva executar somente 'enquanto' muitas condições forem verdadeiras, podemos definir uma variável que determina se o programa como um todo deve estar <code>ativo</code>**. Essa variável, chamada de <code>**flag**</code>, atua como um sinal para o programa. **Podemos escrever nossos programas de modo que executem enquanto a <code>**flag**</code> estiver definida com <code>**True**</code> e parem de executar quando qualquer um dos vários eventos definir o valor da <code>**flag**</code> com <code>**False**</code>.** Como resultado, nossa instrução <code>**while**</code> geral precisa verificar apenas uma condição: **se a <code>**flag**</code>, nomomento, é <code>**True**</code>**. Então todos os nossos demais testes **(para ver se um evento que deve definir a flag com <code>**False**</code> ocorreu)** podem estar bem organizados no restante do programa."
   ]
  },
  {
   "cell_type": "markdown",
   "metadata": {},
   "source": [
    "Vamos adicionar uma <code>**flag**</code> em **parrot.py**, que vimos na seção anterior. Essa <code>**flag**</code>, que chamaremos de <code>**active**</code> **(embora você possa lhe dar o nome que quiser)**, controlará se o programa deve ou não continuar executando:"
   ]
  },
  {
   "cell_type": "code",
   "execution_count": 372,
   "metadata": {
    "tags": []
   },
   "outputs": [
    {
     "name": "stdin",
     "output_type": "stream",
     "text": [
      "\n",
      "Tell me something, and I will repeat it back to you:\n",
      "Enter 'quit' to end the program.  Te amo Barb\n"
     ]
    },
    {
     "name": "stdout",
     "output_type": "stream",
     "text": [
      "Te amo Barb\n"
     ]
    },
    {
     "name": "stdin",
     "output_type": "stream",
     "text": [
      "\n",
      "Tell me something, and I will repeat it back to you:\n",
      "Enter 'quit' to end the program.  denny boy\n"
     ]
    },
    {
     "name": "stdout",
     "output_type": "stream",
     "text": [
      "denny boy\n"
     ]
    },
    {
     "name": "stdin",
     "output_type": "stream",
     "text": [
      "\n",
      "Tell me something, and I will repeat it back to you:\n",
      "Enter 'quit' to end the program.  quit\n"
     ]
    }
   ],
   "source": [
    "prompt = \"\\nTell me something, and I will repeat it back to you:\"\n",
    "prompt += \"\\nEnter 'quit' to end the program. \"\n",
    "#Definimos a variável active com True para que o programa comece em um estado ativo\n",
    "active = True \n",
    "while active:\n",
    "    message = input(prompt)\n",
    "#Se o usuário fornecer 'quit', definimos active com False e o laço while é encerrado.   \n",
    "    if message == 'quit':\n",
    "        active = False\n",
    "        \n",
    "    else:\n",
    "        print(message)    "
   ]
  },
  {
   "cell_type": "markdown",
   "metadata": {},
   "source": [
    "**Definimos a variável <code>**active**</code> com <code>**True**</code> para que o programa comece em um estado ativo**. Fazer isso simplifica a instrução <code>**while**</code>, pois nenhuma comparação é feita nessa instrução; a lógica é tratada em outras partes do programa. **Enquanto a variável active permanecer <code>**True**</code>, o laço continuará a executar**.\n",
    "\n",
    "Na instrução <code>**if**</code> contida no laço <code>**while**</code>, verificamos o valor de **message** depois que o usuário fornece sua entrada. **Se o usuário fornecer **'quit'**, definimos active com <code>False</code> e o laço <code>while</code> é encerrado**. Se o usuário fornecer outro dado que não seja **'quit'**, exibimos essa entrada como uma mensagem."
   ]
  },
  {
   "cell_type": "markdown",
   "metadata": {},
   "source": [
    "Esse programa gera a mesma saída do exemplo anterior, em que havíamos colocado o **teste condicional** diretamente na instrução <code>**while**</code>. Porém, **agora que temos uma <code>flag</code> para indicar se o programa como um todo está em um estado ativo, será mais fácil acrescentar outros testes (por exemplo, instruções <code>elif</code>) para eventos que devam fazer <code>**active**</code> se tornar <code>False</code>**.\n",
    "\n",
    "**Isso é útil em programas complicados, como jogos, em que pode haver muitos eventos, e qualquer um deles poderia fazer o programa parar de executar**. Quando um desses eventos fizer a <code>**flag**</code> <code>**active**</code> se tornar <code>**False**</code>, o laço principal do jogo terminará, uma mensagem de **Game Over** poderia ser exibida e o jogador poderia ter a opção de jogar novamente."
   ]
  },
  {
   "cell_type": "markdown",
   "metadata": {
    "tags": []
   },
   "source": [
    "### Usando <code>**break**</code> para sair de um laço"
   ]
  },
  {
   "cell_type": "markdown",
   "metadata": {},
   "source": [
    "Para sair de um laço <code>**while**</code> de imediato, sem executar qualquer código restante no laço, independentemente do resultado de qualquer teste condicional, utilize a instrução <code>**break**</code>. A instrução <code>**break**</code> **direciona o fluxo de seu programa; podemos usá-la para controlar quais linhas de código são ou não são executadas, de modo que o programa execute apenas o código que você quiser, quando você quiser**.\n",
    "\n",
    "Por exemplo, considere um programa que pergunte aos usuários os nomes de lugares que eles já visitaram. Podemos interromper o laço <code>**while**</code> nesse programa chamando  <code>**break**</code> assim que o usuário fornecer o valor **'quit'**:"
   ]
  },
  {
   "cell_type": "code",
   "execution_count": 385,
   "metadata": {
    "tags": []
   },
   "outputs": [
    {
     "name": "stdin",
     "output_type": "stream",
     "text": [
      "\n",
      "Please enter the name of a city you have visited:\n",
      "(Enter 'quit' when you are finished.)  São Paulo\n"
     ]
    },
    {
     "name": "stdout",
     "output_type": "stream",
     "text": [
      "I'd love to go São Paulo!\n"
     ]
    },
    {
     "name": "stdin",
     "output_type": "stream",
     "text": [
      "\n",
      "Please enter the name of a city you have visited:\n",
      "(Enter 'quit' when you are finished.)  Luanda\n"
     ]
    },
    {
     "name": "stdout",
     "output_type": "stream",
     "text": [
      "I'd love to go Luanda!\n"
     ]
    },
    {
     "name": "stdin",
     "output_type": "stream",
     "text": [
      "\n",
      "Please enter the name of a city you have visited:\n",
      "(Enter 'quit' when you are finished.)  Salvador\n"
     ]
    },
    {
     "name": "stdout",
     "output_type": "stream",
     "text": [
      "I'd love to go Salvador!\n"
     ]
    },
    {
     "name": "stdin",
     "output_type": "stream",
     "text": [
      "\n",
      "Please enter the name of a city you have visited:\n",
      "(Enter 'quit' when you are finished.)  Leiria\n"
     ]
    },
    {
     "name": "stdout",
     "output_type": "stream",
     "text": [
      "I'd love to go Leiria!\n"
     ]
    },
    {
     "name": "stdin",
     "output_type": "stream",
     "text": [
      "\n",
      "Please enter the name of a city you have visited:\n",
      "(Enter 'quit' when you are finished.)  quit\n"
     ]
    }
   ],
   "source": [
    "prompt = \"\\nPlease enter the name of a city you have visited:\"\n",
    "prompt += \"\\n(Enter 'quit' when you are finished.) \"\n",
    "\n",
    "while True:\n",
    "    city = input(prompt)\n",
    "    if city =='quit':\n",
    "        break \n",
    "    else:\n",
    "        print(\"I'd love to go \" + city.title() + \"!\")"
   ]
  },
  {
   "cell_type": "markdown",
   "metadata": {},
   "source": [
    "**Um laço que comece com <code>**while True**</code> executará indefinidamente, a menos que alcance uma instrução <code>**break**</code>**. O laço desse programa continuará pedindo aos usuários para que entrem com os nomes das cidades em que eles estiveram até que **'quit' seja fornecido**. **Quando 'quit' for digitado, a instrução <code>**break**</code> é executada, fazendo Python sair do laço**.\n",
    "\n",
    "**NOTA**   \n",
    "<b>Você pode usar a instrução <code>**break**</code>** em qualquer laço de Python. Por exemplo, <code>**break**</code> pode ser usado para sair de um laço for que esteja percorrendo uma <code>lista</code> ou um <code>dicionário</code>.</b>\n"
   ]
  },
  {
   "cell_type": "markdown",
   "metadata": {},
   "source": [
    "### Usando <code>**continue**</code> em um laço"
   ]
  },
  {
   "cell_type": "markdown",
   "metadata": {},
   "source": [
    "**Em vez de sair totalmente de um laço sem executar o restante de seu código, podemos usar a instrução <code>continue</code> para retornar ao início, com base no resultado de um teste condicional**. Por exemplo, considere um laço que conte de 1 a 10, mas apresente apenas os números ímpares desse intervalo:"
   ]
  },
  {
   "cell_type": "code",
   "execution_count": 407,
   "metadata": {
    "tags": []
   },
   "outputs": [
    {
     "name": "stdout",
     "output_type": "stream",
     "text": [
      "1\n",
      "3\n",
      "5\n",
      "7\n",
      "9\n"
     ]
    }
   ],
   "source": [
    "#Definimos current_number com 0\n",
    "current_number = 0\n",
    "\n",
    "while current_number < 10:\n",
    "    current_number +=1\n",
    "    if current_number % 2 ==0:\n",
    "        continue\n",
    "    print(current_number)"
   ]
  },
  {
   "cell_type": "markdown",
   "metadata": {},
   "source": [
    "Inicialmente, definimos **current_number** com 0. Como esse valor é menor que 10, Python entra no laço <code>**while**</code>. Uma vez no laço, incrementamos o contador de 1, portanto **current_number** passa a ser 1. A instrução <code>if</code> então verifica o módulo entre **current_number** e 2. **Se o módulo for 0 (o que significa que current_number é divisível por 2), a instrução <code>continue</code> diz a Python para ignorar o restante do laço e voltar ao início**. **Se o número atual não for divisível por 2, o restante do laço será executado e Python exibirá o número atual.**"
   ]
  },
  {
   "cell_type": "markdown",
   "metadata": {},
   "source": [
    "### Evitando loops infinitos"
   ]
  },
  {
   "cell_type": "markdown",
   "metadata": {},
   "source": [
    "**Todo laço <code>**while**</code> precisa de uma maneira de interromper a execução para que não continue executando indefinidamente**. Por exemplo, o laço a seguir deve fazer a contagem de 1 a 5:"
   ]
  },
  {
   "cell_type": "code",
   "execution_count": 431,
   "metadata": {
    "tags": []
   },
   "outputs": [
    {
     "name": "stdout",
     "output_type": "stream",
     "text": [
      "1\n"
     ]
    }
   ],
   "source": [
    "x =1\n",
    "while x <=1:\n",
    "    print(x)\n",
    "    x +=1"
   ]
  },
  {
   "cell_type": "markdown",
   "metadata": {
    "tags": []
   },
   "source": [
    "Contudo, se você omitir a **linha x += 1 (como vemos a seguir)** por acidente, o laço executará para sempre:"
   ]
  },
  {
   "cell_type": "code",
   "execution_count": null,
   "metadata": {},
   "outputs": [],
   "source": [
    "x =1\n",
    "while x <=1:\n",
    "    print(x) # Esse laço executa indefinidamente!"
   ]
  },
  {
   "cell_type": "markdown",
   "metadata": {},
   "source": [
    "Agora o **valor de x** começará em 1, mas jamais será modificado. Como resultado, <b>o teste condicional x <= 5 </b> será sempre avaliado como <code>**True**</code> e o laço <code>**while**</code> executará indefinidamente, exibindo uma série de 1s."
   ]
  },
  {
   "cell_type": "markdown",
   "metadata": {},
   "source": [
    "Todo programador escreve ocasionalmente um **loop infinito (ou laço infinito) com <code>while</code> por acidente**, em especial quando os laços do programa tiverem condições de saída sutis. Se seu programa ficar preso em um **loop infinito, tecle CTRL-C ou simplesmente feche a janela do terminal que está exibindo a saída de seu programa**.\n",
    "\n",
    "**Para evitar escrever loops infinitos, teste todos os laços <code>while</code> e certifique-se de que eles serão encerrados conforme esperado.** Se quiser que seu programa termine quando o usuário fornecer determinado valor de entrada, execute o programa e forneça esse valor. Se o programa não terminar, analise cuidadosamente o modo como seu programa trata o valor que deveria fazer o laço parar. **Garanta que pelo menos uma parte do programa possa fazer a condição do laço ser <code>False</code> ou fazer uma instrução <code>break</code> ser alcançada**."
   ]
  },
  {
   "cell_type": "markdown",
   "metadata": {},
   "source": [
    "### **FAÇA VOCÊ MESMO**"
   ]
  },
  {
   "cell_type": "markdown",
   "metadata": {},
   "source": [
    "**7.4 – Ingredientes para uma pizza:** Escreva um laço que peça ao usuário para fornecer uma série de ingredientes para uma pizza até que o valor 'quit' seja fornecido. À medida que cada ingrediente é especificado, apresente uma mensagem informando que você acrescentará esse ingrediente à pizza."
   ]
  },
  {
   "cell_type": "code",
   "execution_count": 5,
   "metadata": {
    "tags": []
   },
   "outputs": [
    {
     "name": "stdin",
     "output_type": "stream",
     "text": [
      "\n",
      "Por favor, forneça um ingrediente para sua pizza:  queijo\n"
     ]
    },
    {
     "name": "stdout",
     "output_type": "stream",
     "text": [
      "\n",
      "Você acrescentou queijo à sua pizza.\n"
     ]
    },
    {
     "name": "stdin",
     "output_type": "stream",
     "text": [
      "\n",
      "Por favor, forneça um ingrediente para sua pizza:  fiambre\n"
     ]
    },
    {
     "name": "stdout",
     "output_type": "stream",
     "text": [
      "\n",
      "Você acrescentou fiambre à sua pizza.\n"
     ]
    },
    {
     "name": "stdin",
     "output_type": "stream",
     "text": [
      "\n",
      "Por favor, forneça um ingrediente para sua pizza:  ananas\n"
     ]
    },
    {
     "name": "stdout",
     "output_type": "stream",
     "text": [
      "\n",
      "Você acrescentou ananas à sua pizza.\n"
     ]
    },
    {
     "name": "stdin",
     "output_type": "stream",
     "text": [
      "\n",
      "Por favor, forneça um ingrediente para sua pizza:  quit\n"
     ]
    }
   ],
   "source": [
    "prompt = \"\\nPor favor, forneça um ingrediente para sua pizza: \"\n",
    "\n",
    "pizza = \"\"\n",
    "while pizza != 'quit':\n",
    "    pizza = input(prompt)\n",
    "    if pizza != 'quit':\n",
    "        print(\"\\nVocê acrescentou \"+ str(pizza) + \" à sua pizza.\" )"
   ]
  },
  {
   "cell_type": "markdown",
   "metadata": {},
   "source": [
    "**7.5 – Ingressos para o cinema:** Um cinema cobra preços diferentes para os ingressos de acordo com a idade de uma pessoa. Se uma pessoa tiver menos de 3 anos de idade, o ingresso será gratuito; se tiver entre 3 e 12 anos, o ingresso custará 10 dólares; se tiver mais de 12 anos, o ingresso custará 15 dólares. Escreva um laço em que você pergunte a idade aos usuários e, então, informe-lhes o preço do ingresso do cinema.\n"
   ]
  },
  {
   "cell_type": "code",
   "execution_count": 15,
   "metadata": {
    "tags": []
   },
   "outputs": [
    {
     "name": "stdin",
     "output_type": "stream",
     "text": [
      "Olá, bem vindo ao cinema Dias! Que idade tem?  11\n"
     ]
    },
    {
     "name": "stdout",
     "output_type": "stream",
     "text": [
      "O ingresso custa 10 euros.\n"
     ]
    }
   ],
   "source": [
    "idade = input(\"Olá, bem vindo ao cinema Dias! Que idade tem? \")\n",
    "idade = int(idade)\n",
    "\n",
    "if idade < 3:\n",
    "    print(\"O ingresso é gratuito.\")\n",
    "elif idade <12:\n",
    "    print(\"O ingresso custa 10 euros.\")\n",
    "else:\n",
    "    print(\"O ingresso custa 15 euros.\")"
   ]
  },
  {
   "cell_type": "markdown",
   "metadata": {},
   "source": [
    "**7.6 – Três saídas:** Escreva versões diferentes do Exercício 7.4 ou do Exercício 7.5 que faça o seguinte, pelo menos uma vez: \n",
    "+ use um teste condicional na instrução while para encerrar o laço; \n",
    "+ use uma variável active para controlar o tempo que o laço executará; \n",
    "+ use uma instrução break para sair do laço quando o usuário fornecer o valor 'quit'."
   ]
  },
  {
   "cell_type": "code",
   "execution_count": 82,
   "metadata": {
    "tags": []
   },
   "outputs": [
    {
     "name": "stdin",
     "output_type": "stream",
     "text": [
      "\n",
      "Olá, bem vindo ao cinema Dias! Que idade tem?  2\n"
     ]
    },
    {
     "name": "stdout",
     "output_type": "stream",
     "text": [
      "O ingresso é gratuito.\n"
     ]
    },
    {
     "name": "stdin",
     "output_type": "stream",
     "text": [
      "\n",
      "Olá, bem vindo ao cinema Dias! Que idade tem?  11\n"
     ]
    },
    {
     "name": "stdout",
     "output_type": "stream",
     "text": [
      "O ingresso custa 10 euros.\n"
     ]
    },
    {
     "name": "stdin",
     "output_type": "stream",
     "text": [
      "\n",
      "Olá, bem vindo ao cinema Dias! Que idade tem?  17\n"
     ]
    },
    {
     "name": "stdout",
     "output_type": "stream",
     "text": [
      "O ingresso custa 15 euros.\n"
     ]
    },
    {
     "name": "stdin",
     "output_type": "stream",
     "text": [
      "\n",
      "Olá, bem vindo ao cinema Dias! Que idade tem?  quit\n"
     ]
    }
   ],
   "source": [
    "#7.6 - Três Saidas\n",
    "\n",
    "prompt = \"\\nOlá, bem vindo ao cinema Dias! Que idade tem? \"\n",
    "\n",
    "while True:\n",
    "    idade = input(prompt)\n",
    "    if idade == 'quit':  # Verificar se a entrada é 'quit' antes de converter para inteiro\n",
    "        break\n",
    "    idade = int(idade)  # Converte a entrada num número inteiro depois de verificar que não é 'quit'\n",
    "    \n",
    "    if idade < 3:\n",
    "        print(\"O ingresso é gratuito.\")\n",
    "    elif idade < 12:\n",
    "        print(\"O ingresso custa 10 euros.\")\n",
    "    else:\n",
    "        print(\"O ingresso custa 15 euros.\")"
   ]
  },
  {
   "cell_type": "markdown",
   "metadata": {},
   "source": [
    "**7.7 – Infinito:** Escreva um laço que nunca termine e execute-o. (Para encerrar o laço, pressione CTRL-C ou feche a janela que está exibindo a saída.)"
   ]
  },
  {
   "cell_type": "code",
   "execution_count": null,
   "metadata": {
    "tags": []
   },
   "outputs": [],
   "source": [
    "#7.7 Infinito\n",
    "x =2\n",
    "while x <=2:\n",
    "    print(x)"
   ]
  },
  {
   "cell_type": "markdown",
   "metadata": {},
   "source": [
    "****"
   ]
  },
  {
   "cell_type": "markdown",
   "metadata": {},
   "source": [
    "## Usando um laço <code>**while**</code> com **listas e dicionários**"
   ]
  },
  {
   "cell_type": "markdown",
   "metadata": {},
   "source": [
    "**Até agora trabalhamos com apenas uma informação do usuário a cada vez**. Recebemos a entrada do usuário e então a exibimos ou apresentamos uma resposta a ela. Na próxima passagem pelo laço <code>**while**</code>, recebíamos outro valor de entrada e respondíamos a ela. Contudo, **para controlar muitos usuários e informações, precisaremos usar <code>listas e dicionários</code> com nossos laços <code>**while**</code>.**"
   ]
  },
  {
   "cell_type": "markdown",
   "metadata": {},
   "source": [
    "**Um laço <code>for</code> é eficiente para percorrer uma lista, mas você não deve modificar uma lista em um laço <code>for</code>, pois Python terá problemas para manter o controle dos itens da lista**. Para modificar uma lista enquanto trabalhar com ela, utilize um laço <code>**while**</code>. **Usar laços <code>while</code> com <code>listas e dicionários</code> permite coletar, armazenar e organizar muitas entradas a fim de analisá-las e apresentá-las posteriormente.**"
   ]
  },
  {
   "cell_type": "markdown",
   "metadata": {},
   "source": [
    "### Transferindo itens de uma lista para outra"
   ]
  },
  {
   "cell_type": "markdown",
   "metadata": {},
   "source": [
    "Considere uma lista de usuários recém-registrados em um site, porém não verificados. Depois de conferir esses usuários, como podemos transferi-los para uma lista separada de usuários confirmados? **Uma maneira seria usar um laço <code>while</code> para extrair os usuários da lista de usuários não confirmados à medida que os verificarmos e então adicioná-los em uma lista separada de usuários confirmados**. Esse código pode ter o seguinte aspecto:"
   ]
  },
  {
   "cell_type": "code",
   "execution_count": 17,
   "metadata": {
    "tags": []
   },
   "outputs": [
    {
     "name": "stdout",
     "output_type": "stream",
     "text": [
      "Verifying user: Candace\n",
      "\n",
      "The following users have been confirmed:\n",
      "Verifying user: Brian\n",
      "\n",
      "The following users have been confirmed:\n",
      "Verifying user: Alice\n",
      "\n",
      "The following users have been confirmed:\n",
      "Alice\n",
      "Alice\n",
      "Alice\n"
     ]
    }
   ],
   "source": [
    "# Começa com os usuários que precisam ser verificados\n",
    "unconfirmed_users = ['alice', 'brian', 'candace']\n",
    "# e com uma lista vazia para armazenar os usuários confirmados\n",
    "confirmed_users = []\n",
    "# Verifica cada usuário até que não haja mais usuários não confirmados\n",
    "# Transfere cada usuário verificado para a lista de usuários confirmados\n",
    "while unconfirmed_users:\n",
    "    current_user = unconfirmed_users.pop()\n",
    "    print(\"Verifying user: \" + current_user.title())\n",
    "    confirmed_users.append(current_user)   \n",
    "# Exibe todos os usuários confirmados     \n",
    "    print(\"\\nThe following users have been confirmed:\")\n",
    "for confirmed_users in confirmed_users:\n",
    "    print(confirmed_user.title())"
   ]
  },
  {
   "cell_type": "markdown",
   "metadata": {
    "tags": []
   },
   "source": [
    "Simulamos a confirmação de cada usuário exibindo uma mensagem de verificação e então adicionando-os à lista de usuários confirmados. **À medida que a lista de usuários não confirmados diminui, a lista de usuários confirmados aumenta**. Quando a lista de usuários não confirmados estiver vazia, o laço para e a lista de usuários confirmados é exibida.\n"
   ]
  },
  {
   "cell_type": "markdown",
   "metadata": {},
   "source": [
    "### Removendo todas as instâncias de valores específicos de uma lista"
   ]
  },
  {
   "cell_type": "markdown",
   "metadata": {},
   "source": [
    "No Capítulo 3 usamos <code>**remove()**</code> para remover um valor específico de uma lista. **A função <code>remove()</code> era apropriada porque o valor em que estávamos interessados aparecia apenas uma vez na lista**. Porém, e se quiséssemos remover da lista todas as instâncias de um valor?\n",
    "\n",
    "Suponha que tenhamos uma lista de animais de estimação com o valor **'cat'** repetido várias vezes. **Para remover todas as instâncias desse valor, podemos executar um laço <code>while</code> até 'cat' não estar mais na lista, como vemos aqui:**"
   ]
  },
  {
   "cell_type": "code",
   "execution_count": 3,
   "metadata": {
    "tags": []
   },
   "outputs": [
    {
     "name": "stdout",
     "output_type": "stream",
     "text": [
      "['dog', 'cat', 'dog', 'goldfish', 'cat', 'rabbit', 'cat']\n"
     ]
    }
   ],
   "source": [
    "pets = ['dog', 'cat', 'dog', 'goldfish', 'cat', 'rabbit', 'cat']\n",
    "\n",
    "print(pets)"
   ]
  },
  {
   "cell_type": "code",
   "execution_count": 32,
   "metadata": {
    "tags": []
   },
   "outputs": [
    {
     "name": "stdout",
     "output_type": "stream",
     "text": [
      "['dog', 'dog', 'goldfish', 'rabbit', 'cat']\n",
      "['dog', 'dog', 'goldfish', 'rabbit']\n"
     ]
    }
   ],
   "source": [
    "while 'cat'in pets: \n",
    "    pets.remove('cat')\n",
    "    print(pets)"
   ]
  },
  {
   "cell_type": "markdown",
   "metadata": {},
   "source": [
    "Começamos com uma lista contendo várias instâncias de **'cat'**. Após exibir a lista, Python entra no laço <code>**while**</code>, pois encontra o valor 'cat' na lista pelo menos uma vez.**Depois que entrar no laço, Python remove a primeira instância de 'cat', retorna à linha <code>while</code> e então entra novamente no laço quando descobre que 'cat' ainda está na lista. Cada instância de 'cat' é removida até que esse valor não esteja mais na lista;** nesse momento, Python sai do laço e exibe a lista novamente."
   ]
  },
  {
   "cell_type": "markdown",
   "metadata": {},
   "source": [
    "### Preenchendo um dicionário com dados de entrada do usuário"
   ]
  },
  {
   "cell_type": "markdown",
   "metadata": {},
   "source": [
    "**Podemos pedir a quantidade de entrada que for necessária a cada passagem por um laço <code>while</code>.** Vamos criar um programa de enquete em que cada passagem pelo laço solicita o nome do participante e uma resposta. **Armazenaremos os dados coletados em um dicionário, pois queremos associar cada resposta a um usuário em particular:**"
   ]
  },
  {
   "cell_type": "code",
   "execution_count": 5,
   "metadata": {
    "tags": []
   },
   "outputs": [
    {
     "name": "stdin",
     "output_type": "stream",
     "text": [
      "\n",
      "What is your name?  Deny\n",
      "Which mountain would you like to climb someday?  everest\n",
      "Would you like to let another person respond? (yes/ no)  yes\n",
      "\n",
      "What is your name?  Barbara\n",
      "Which mountain would you like to climb someday?  Fuji\n",
      "Would you like to let another person respond? (yes/ no)  no\n"
     ]
    },
    {
     "name": "stdout",
     "output_type": "stream",
     "text": [
      "\n",
      "--- Poll Results ---\n",
      "Deny would like to climb everest.\n",
      "Barbara would like to climb Fuji.\n"
     ]
    }
   ],
   "source": [
    "responses ={}\n",
    "# Define uma flag para indicar que a enquete está ativa polling_active = True\n",
    "polling_active = True\n",
    "while polling_active:\n",
    "# Pede o nome da pessoa e a resposta\n",
    "    name = input(\"\\nWhat is your name? \")\n",
    "    response = input(\"Which mountain would you like to climb someday? \")\n",
    "    \n",
    "    responses[name] = response\n",
    "    repeat = input(\"Would you like to let another person respond? (yes/ no) \")\n",
    "    if repeat == 'no':\n",
    "        polling_active = False\n",
    "# A enquete foi concluída. Mostra os resultados        \n",
    "        print(\"\\n--- Poll Results ---\")\n",
    "\n",
    "for name, response in responses.items():\n",
    "    print(name + \" would like to climb \" + response + \".\")\n",
    "    "
   ]
  },
  {
   "cell_type": "markdown",
   "metadata": {},
   "source": [
    "**O programa inicialmente define um dicionário vazio (responses) e cria uma flag (polling_active) para indicar que a enquete está ativa. Enquanto polling_active for <code>True</code>, Python executará o código que está no laço <code>while</code>.**"
   ]
  },
  {
   "cell_type": "markdown",
   "metadata": {},
   "source": [
    "Nesse laço é solicitado ao usuário que entre com seu nome e uma montanha que gostaria de escalar. **Essa informação é armazenada no dicionário 'responses', e uma pergunta é feita ao usuário para saber se ele quer que a enquete continue**. Se o usuário responder **yes**, o programa entrará no laço <code>**while**</code> novamente. Se responder **no**, **a <code>flag</code> polling_active será definida com <code>False</code>, o laço <code>**while**</code> para de executar e o último bloco de código emxexibe o resultado da enquete**."
   ]
  },
  {
   "cell_type": "markdown",
   "metadata": {},
   "source": [
    "## **FAÇA VOCÊ MESMO**"
   ]
  },
  {
   "cell_type": "markdown",
   "metadata": {},
   "source": [
    "**7.8 – Lanchonete:** Crie uma lista chamada **sandwich_orders** e a preencha com os nomes de vários sanduíches. Em seguida, crie uma lista vazia chamada **finished_sandwiches**. Percorra a lista de pedidos de sanduíches com um laço e mostre uma mensagem para cada pedido, por exemplo, **Preparei seu sanduíche de atum**. À medida que cada sanduíche for preparado, transfira-o para a lista de sanduíches prontos. Depois que todos os sanduíches estiverem prontos, mostre uma mensagem que liste cada sanduíche preparado."
   ]
  },
  {
   "cell_type": "code",
   "execution_count": 23,
   "metadata": {
    "tags": []
   },
   "outputs": [
    {
     "name": "stdout",
     "output_type": "stream",
     "text": [
      "Preparei sua sanduiche de frango\n",
      "Preparei sua sanduiche de fiambre\n",
      "Preparei sua sanduiche de atum\n",
      "Preparei sua sanduiche de queijo\n",
      "\n",
      "Todas Sanduiches que estão pronta:\n",
      "frango\n",
      "fiambre\n",
      "atum\n",
      "queijo\n"
     ]
    }
   ],
   "source": [
    "sandwich_orders = ['queijo', 'atum', 'fiambre', 'frango']\n",
    "finished_sandwiches = []\n",
    "\n",
    "while sandwich_orders:\n",
    "    current_sandwich = sandwich_orders.pop()\n",
    "    print(\"Preparei sua sanduiche de \" + current_sandwich)\n",
    "    finished_sandwiches.append(current_sandwich)\n",
    "\n",
    "print(\"\\nTodas Sanduiches que estão pronta:\")\n",
    "for finished_sandwich in finished_sandwiches:\n",
    "    print(finished_sandwich)"
   ]
  },
  {
   "cell_type": "markdown",
   "metadata": {},
   "source": [
    "**7.9 – Sem pastrami:** Usando a lista **sandwich_orders** do Exercício 7.8, garanta que o sanduíche de **'pastrami'** apareça na lista pelo menos três vezes. Acrescente um código próximo ao início de seu programa para exibir uma mensagem informando que a lanchonete está sem **pastrami** e, então, use um laço **while** para remover todas as ocorrências de **'pastrami' e sandwich_orders**. Garanta que nenhum sanduíche de pastrami acabe em **finished_sandwiches**."
   ]
  },
  {
   "cell_type": "code",
   "execution_count": 31,
   "metadata": {
    "tags": []
   },
   "outputs": [
    {
     "name": "stdout",
     "output_type": "stream",
     "text": [
      "['queijo', 'pastrami', 'atum', 'pastrami', 'fiambre', 'frango', 'pastrami']\n"
     ]
    }
   ],
   "source": [
    "sandwich_orders = ['queijo', 'pastrami', 'atum', 'pastrami', 'fiambre', 'frango', 'pastrami']\n",
    "print(sandwich_orders)"
   ]
  },
  {
   "cell_type": "code",
   "execution_count": 33,
   "metadata": {
    "tags": []
   },
   "outputs": [
    {
     "name": "stdout",
     "output_type": "stream",
     "text": [
      "A lanchonete está sem pastrami no momento.\n",
      "Preparei sua sanduiche de frango\n",
      "Preparei sua sanduiche de fiambre\n",
      "Preparei sua sanduiche de atum\n",
      "Preparei sua sanduiche de queijo\n",
      "\n",
      "Todas Sanduiches que estão pronta:\n",
      "frango\n",
      "fiambre\n",
      "atum\n",
      "queijo\n"
     ]
    }
   ],
   "source": [
    "finished_sandwiches = []\n",
    "\n",
    "print(\"A lanchonete está sem pastrami no momento.\")\n",
    "while 'pastrami' in sandwich_orders:\n",
    "    sandwich_orders.remove('pastrami')\n",
    "\n",
    "while sandwich_orders:\n",
    "    current_sandwich = sandwich_orders.pop()\n",
    "    print(\"Preparei sua sanduiche de \" + current_sandwich)\n",
    "    finished_sandwiches.append(current_sandwich)\n",
    "\n",
    "print(\"\\nTodas Sanduiches que estão pronta:\")\n",
    "for finished_sandwich in finished_sandwiches:\n",
    "    print(finished_sandwich)"
   ]
  },
  {
   "cell_type": "markdown",
   "metadata": {},
   "source": [
    "**7.10 – Férias dos sonhos:** Escreva um programa que faça uma enquete sobre as férias dos sonhos dos usuários. Escreva um prompt semelhante a este: Se pudesse visitar um lugar do mundo, para onde você iria? Inclua um bloco de código que apresente os resultados da enquete."
   ]
  },
  {
   "cell_type": "code",
   "execution_count": 37,
   "metadata": {
    "tags": []
   },
   "outputs": [
    {
     "name": "stdin",
     "output_type": "stream",
     "text": [
      "\n",
      "Como te chamas?  Barbara\n",
      "Se pudesse visitar um lugar do mundo, para onde você iria?  Paris\n",
      "Gostaria de deixar outra pessoa responder? (sim/ não)  sim\n",
      "\n",
      "Como te chamas?  Deny\n",
      "Se pudesse visitar um lugar do mundo, para onde você iria?  Jamaica\n",
      "Gostaria de deixar outra pessoa responder? (sim/ não)  sim\n",
      "\n",
      "Como te chamas?  Emilia\n",
      "Se pudesse visitar um lugar do mundo, para onde você iria?  EUA\n",
      "Gostaria de deixar outra pessoa responder? (sim/ não)  não\n"
     ]
    },
    {
     "name": "stdout",
     "output_type": "stream",
     "text": [
      "\n",
      "--- Questinario Resultados ---\n",
      "Barbara gostaria de visitar Paris.\n",
      "Deny gostaria de visitar Jamaica.\n",
      "Emilia gostaria de visitar EUA.\n"
     ]
    }
   ],
   "source": [
    "respostas ={}\n",
    "# Define uma flag para indicar que a enquete está ativa polling_active = True\n",
    "polling_active = True\n",
    "while polling_active:\n",
    "# Pede o nome da pessoa e a resposta\n",
    "    nome = input(\"\\nComo te chamas? \")\n",
    "    resposta = input(\"Se pudesse visitar um lugar do mundo, para onde você iria? \")\n",
    "    \n",
    "    respostas[nome] = resposta\n",
    "    repeat = input(\"Gostaria de deixar outra pessoa responder? (sim/ não) \")\n",
    "    if repeat == 'não':\n",
    "        polling_active = False\n",
    "# A enquete foi concluída. Mostra os resultados        \n",
    "        print(\"\\n--- Questinario Resultados ---\")\n",
    "\n",
    "for nome, resposta in respostas.items():\n",
    "    print(nome + \" gostaria de visitar \" + resposta + \".\")\n",
    "    "
   ]
  },
  {
   "cell_type": "markdown",
   "metadata": {},
   "source": [
    "## **Resumo**"
   ]
  },
  {
   "cell_type": "markdown",
   "metadata": {},
   "source": [
    "Neste capítulo **aprendemos a usar <code>input()</code> para permitir que os usuários forneçam suas próprias informações em seus programas**. Vimos como trabalhar com **entradas tanto textuais quanto numéricas e a usar laços <code>while</code> para deixar seus programas executarem pelo tempo que os usuários quiserem**. Conhecemos várias maneiras de controlar o fluxo de um laço  <code>**while**</code>: definindo uma <code>**flag active**</code>, usando a instrução <code>**break**</code> e com a instrução <code>**continue**</code>. Aprendemos a usar um **laço<code>while</code> para transferir itens de uma lista para outra e vimos como remover todas as instâncias de um valor de uma lista**. Também vimos como **laços <code>while</code> podem ser usados com dicionários**.\n",
    "\n",
    "No Capítulo 8, conheceremos as <code>**funções**</code>. As <code>**funções**</code> **permitem dividir seus programas em partes menores, cada uma fazendo uma tarefa específica. Podemos chamar uma função quantas vezes quisermos e armazená-las em arquivos separados**. Ao usar funções, podemos escrever códigos mais eficientes, em que seja mais fácil resolver problemas e dar manutenção, com possibilidade de serem reutilizados em vários programas diferentes."
   ]
  },
  {
   "cell_type": "code",
   "execution_count": null,
   "metadata": {},
   "outputs": [],
   "source": []
  }
 ],
 "metadata": {
  "kernelspec": {
   "display_name": "Python 3 (ipykernel)",
   "language": "python",
   "name": "python3"
  },
  "language_info": {
   "codemirror_mode": {
    "name": "ipython",
    "version": 3
   },
   "file_extension": ".py",
   "mimetype": "text/x-python",
   "name": "python",
   "nbconvert_exporter": "python",
   "pygments_lexer": "ipython3",
   "version": "3.11.5"
  }
 },
 "nbformat": 4,
 "nbformat_minor": 4
}
