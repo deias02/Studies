{
  "metadata": {
    "kernelspec": {
      "name": "python",
      "display_name": "Python (Pyodide)",
      "language": "python"
    },
    "language_info": {
      "codemirror_mode": {
        "name": "python",
        "version": 3
      },
      "file_extension": ".py",
      "mimetype": "text/x-python",
      "name": "python",
      "nbconvert_exporter": "python",
      "pygments_lexer": "ipython3",
      "version": "3.8"
    }
  },
  "nbformat_minor": 4,
  "nbformat": 4,
  "cells": [
    {
      "cell_type": "markdown",
      "source": "# **Cap.3 - Listas**",
      "metadata": {}
    },
    {
      "cell_type": "markdown",
      "source": "**<code>As listas</code> permitem armazenar conjuntos de informações em um só lugar, independentemente de termos alguns itens ou milhões deles.** As listas são um dos recursos mais eficazes de Python, prontamente acessíveis aos novos programadores, e elas agregam muitos conceitos importantes em programação.",
      "metadata": {}
    },
    {
      "cell_type": "markdown",
      "source": "Podemos criar uma lista que inclua as letras do alfabeto, os dígitos de 0 a 9 ou os nomes de todas as pessoas de sua família. Como uma lista geralmente contém mais de um elemento, é uma boa ideia deixar seu nome no plural, por exemplo, **letters, digits ou names.**",
      "metadata": {}
    },
    {
      "cell_type": "markdown",
      "source": "Em Python, **<code>colchetes ([])</code>** indicam uma lista, e elementos individuais da lista são separados por <code>vírgulas</code>. Eis um exemplo simples de uma lista que contém alguns tipos de bicicleta:",
      "metadata": {}
    },
    {
      "cell_type": "code",
      "source": "bicycles = ['trek','cannondale', 'redline', 'specialized']\nprint(bicycles)",
      "metadata": {
        "trusted": true
      },
      "outputs": [
        {
          "name": "stdout",
          "text": "['trek', 'cannondale', 'redline', 'specialized']\n",
          "output_type": "stream"
        }
      ],
      "execution_count": 4
    },
    {
      "cell_type": "markdown",
      "source": "### Acessando elementos de uma lista",
      "metadata": {}
    },
    {
      "cell_type": "markdown",
      "source": "**Listas são coleções ordenadas, portanto você pode acessar qualquer elemento de uma lista informando a posição – ou índice – do item desejado ao interpretador Python.** Para acessar um elemento de uma lista, escreva o nome da lista seguido do índice do item entre colchetes. Por exemplo, vamos extrair a primeira bicicleta da lista bicycles:",
      "metadata": {}
    },
    {
      "cell_type": "code",
      "source": "bicycles = ['trek','cannondale', 'redline', 'specialized']\nprint(bicycles[0])",
      "metadata": {
        "trusted": true
      },
      "outputs": [
        {
          "name": "stdout",
          "text": "trek\n",
          "output_type": "stream"
        }
      ],
      "execution_count": 5
    },
    {
      "cell_type": "markdown",
      "source": "Também podemos usar **os métodos de string do Capítulo 2** em qualquer elemento de uma lista. Por exemplo, podemos formatar o elemento 'trek' de modo mais bonito usando o método <code>title()<>/code:",
      "metadata": {}
    },
    {
      "cell_type": "code",
      "source": "bicycles = ['trek','cannondale', 'redline', 'specialized']\nprint(bicycles[0].title())",
      "metadata": {
        "trusted": true
      },
      "outputs": [
        {
          "name": "stdout",
          "text": "Trek\n",
          "output_type": "stream"
        }
      ],
      "execution_count": 6
    },
    {
      "cell_type": "markdown",
      "source": "### A posição dos índices começa em 0, e não em 1",
      "metadata": {}
    },
    {
      "cell_type": "markdown",
      "source": "* **Python considera que o primeiro item de uma lista está na posição 0, e não na posição 1.**\n* **O segundo item de uma lista tem índice igual a 1.**",
      "metadata": {}
    },
    {
      "cell_type": "markdown",
      "source": "Usando esse sistema simples de contagem, podemos obter qualquer elemento que quisermos de uma lista subtraindo um de sua posição na lista. Por exemplo, para acessar o quarto item de uma lista, solicite o item no índice 3. \n\nAs instruções a seguir acessam as bicicletas nos índices 1 e 3:",
      "metadata": {}
    },
    {
      "cell_type": "code",
      "source": "print(bicycles[1]) # Esse código devolve a segunda bicicleta da lista",
      "metadata": {
        "trusted": true
      },
      "outputs": [
        {
          "name": "stdout",
          "text": "cannondale\n",
          "output_type": "stream"
        }
      ],
      "execution_count": 9
    },
    {
      "cell_type": "code",
      "source": "print(bicycles[3]) # # Esse código devolve a quarta bicicleta da lista",
      "metadata": {
        "trusted": true
      },
      "outputs": [
        {
          "name": "stdout",
          "text": "specialized\n",
          "output_type": "stream"
        }
      ],
      "execution_count": 10
    },
    {
      "cell_type": "markdown",
      "source": "Python tem uma sintaxe especial para acessar o último elemento de uma lista. Ao solicitar o item no índice **-1**, Python sempre devolve o <code>último item da lista</code>:",
      "metadata": {}
    },
    {
      "cell_type": "code",
      "source": "print(bicycles[-1])",
      "metadata": {
        "trusted": true
      },
      "outputs": [
        {
          "name": "stdout",
          "text": "specialized\n",
          "output_type": "stream"
        }
      ],
      "execution_count": 11
    },
    {
      "cell_type": "markdown",
      "source": "Essa sintaxe é bem útil, pois, com frequência, você vai querer acessar os últimos itens de uma lista sem saber exatamente o tamanho dela. Essa convenção também se estende a outros valores negativos de índice. **O índice <code>-2</code> devolve o segundo item a partir do final da lista, o índice <code>-3</code> devolve o terceiro item a partir do final, e assim sucessivamente.**",
      "metadata": {}
    },
    {
      "cell_type": "markdown",
      "source": "### Usando valores individuais de uma lista",
      "metadata": {}
    },
    {
      "cell_type": "markdown",
      "source": "Você pode usar valores individuais de uma lista, exatamente como faria com qualquer outra variável. Por exemplo, podemos usar\n<code>**concatenação**</code> para criar uma mensagem com base em um valor de uma lista.\nVamos tentar obter a primeira bicicleta da lista e compor uma mensagem usando esse valor.",
      "metadata": {}
    },
    {
      "cell_type": "code",
      "source": "message = \"Minha primeira bicicleta foi uma \" + bicycles[0].title() + \".\" \nprint(message)  \n#compomos uma frase usando o valor em bicycles[0] e a armazenamos na variável message",
      "metadata": {
        "trusted": true
      },
      "outputs": [
        {
          "name": "stdout",
          "text": "Minha primeira bicicleta foi uma Trek.\n",
          "output_type": "stream"
        }
      ],
      "execution_count": 17
    },
    {
      "cell_type": "markdown",
      "source": "### **FAÇA VOCÊ MESMO**",
      "metadata": {}
    },
    {
      "cell_type": "markdown",
      "source": "Experimente criar estes programas pequenos para ter um pouco de experiência própria com listas em Python. Você pode criar uma nova pasta para os exercícios de cada capítulo a fim de mantê-los organizados.",
      "metadata": {}
    },
    {
      "cell_type": "markdown",
      "source": "**3.1 – Nomes:** Armazene os nomes de alguns de seus amigos em uma lista chamada names. Exiba o nome de cada pessoa acessando cada elemento da lista, um de cada vez.",
      "metadata": {}
    },
    {
      "cell_type": "code",
      "source": "names = ['emanuel', 'ruth', 'erica', 'eurico']\nprint(names[0])",
      "metadata": {
        "trusted": true
      },
      "outputs": [
        {
          "name": "stdout",
          "text": "emanuel\n",
          "output_type": "stream"
        }
      ],
      "execution_count": 24
    },
    {
      "cell_type": "code",
      "source": "print(names[1].title())",
      "metadata": {
        "trusted": true
      },
      "outputs": [
        {
          "name": "stdout",
          "text": "Ruth\n",
          "output_type": "stream"
        }
      ],
      "execution_count": 26
    },
    {
      "cell_type": "code",
      "source": "print(names[-1])",
      "metadata": {
        "trusted": true
      },
      "outputs": [
        {
          "name": "stdout",
          "text": "eurico\n",
          "output_type": "stream"
        }
      ],
      "execution_count": 27
    },
    {
      "cell_type": "code",
      "source": "print(names[-2].title())",
      "metadata": {
        "trusted": true
      },
      "outputs": [
        {
          "name": "stdout",
          "text": "Erica\n",
          "output_type": "stream"
        }
      ],
      "execution_count": 29
    },
    {
      "cell_type": "markdown",
      "source": "**3.2 – Saudações:** Comece com a lista usada no Exercício 3.1, mas em vez de simplesmente exibir o nome de cada pessoa, apresente uma mensagem a elas. O texto de cada mensagem deve ser o mesmo, porém cada mensagem deve estar personalizada com o nome da pessoa.",
      "metadata": {}
    },
    {
      "cell_type": "code",
      "source": "mensagem = 'vai viver em portugal.'\nprint(names[0].title(), mensagem)",
      "metadata": {
        "trusted": true
      },
      "outputs": [
        {
          "name": "stdout",
          "text": "Emanuel vai viver em portugal.\n",
          "output_type": "stream"
        }
      ],
      "execution_count": 46
    },
    {
      "cell_type": "code",
      "source": "print(names[1].title(), mensagem)",
      "metadata": {
        "trusted": true
      },
      "outputs": [
        {
          "name": "stdout",
          "text": "Ruth vai viver em portugal.\n",
          "output_type": "stream"
        }
      ],
      "execution_count": 47
    },
    {
      "cell_type": "code",
      "source": "print(names[-1].title(), mensagem)",
      "metadata": {
        "trusted": true
      },
      "outputs": [
        {
          "name": "stdout",
          "text": "Eurico vai viver em portugal.\n",
          "output_type": "stream"
        }
      ],
      "execution_count": 48
    },
    {
      "cell_type": "code",
      "source": "print(names[-2].title(), mensagem)",
      "metadata": {
        "trusted": true
      },
      "outputs": [
        {
          "name": "stdout",
          "text": "Erica vai viver em portugal.\n",
          "output_type": "stream"
        }
      ],
      "execution_count": 49
    },
    {
      "cell_type": "markdown",
      "source": "**3.3 – Sua própria lista:** Pense em seu meio de transporte preferido, como motocicleta ou carro, e crie uma lista que armazene vários exemplos. Utilize sua lista para exibir uma série de frases sobre esses itens, como “Gostaria de ter uma moto Honda”.",
      "metadata": {}
    },
    {
      "cell_type": "code",
      "source": "transportes = [\"carro\", \"moto\", \"bicicleta\", \"trotinete\", \"avião\"]\ntransport = \"Eu vou comprar o meu \" + transportes[0] + \"e será um BMW.\" \nprint(transport)  ",
      "metadata": {
        "trusted": true
      },
      "outputs": [
        {
          "name": "stdout",
          "text": "Eu vou comprar o meu carroe será um BMW.\n",
          "output_type": "stream"
        }
      ],
      "execution_count": 51
    },
    {
      "cell_type": "code",
      "source": "transport = \"Gostaria de ter uma \" + transportes[1] + \" Honda.\" \nprint(transport)  ",
      "metadata": {
        "trusted": true
      },
      "outputs": [
        {
          "name": "stdout",
          "text": "Gostaria de ter uma moto Honda.\n",
          "output_type": "stream"
        }
      ],
      "execution_count": 53
    },
    {
      "cell_type": "code",
      "source": "transport = \"Mês passado fui ao Brasil de \" + transportes[-1] + \" foi uma viagem boa.\" \nprint(transport)",
      "metadata": {
        "trusted": true
      },
      "outputs": [
        {
          "name": "stdout",
          "text": "Mês passado fui ao Brasil de avião foi uma viagem boa.\n",
          "output_type": "stream"
        }
      ],
      "execution_count": 56
    },
    {
      "cell_type": "code",
      "source": "transport = \"Minha \" + transportes[-2] + \" ja tem alguns meses.\" \nprint(transport)  ",
      "metadata": {
        "trusted": true
      },
      "outputs": [
        {
          "name": "stdout",
          "text": "Minha trotinete ja tem alguns meses.\n",
          "output_type": "stream"
        }
      ],
      "execution_count": 58
    },
    {
      "cell_type": "markdown",
      "source": "<hr>",
      "metadata": {}
    },
    {
      "cell_type": "markdown",
      "source": "## **Alterando, acrescentando e removendo elementos**",
      "metadata": {}
    },
    {
      "cell_type": "markdown",
      "source": "* **A maioria das listas que você criar será dinâmica, o que significa que você criará uma lista e então adicionará e removerá elementos dela à medida que seu programa executar.**",
      "metadata": {}
    },
    {
      "cell_type": "markdown",
      "source": "*Por exemplo, você poderia criar um jogo em que um jogador atire em alienígenas que caem do céu. Poderia armazenar o conjunto inicial de alienígenas em uma lista e então remover um item da lista sempre que um alienígena for atingido. Sempre que um novo alienígena aparecer na tela, adicione-o à lista. Sua lista de alienígenas diminuirá e aumentará de tamanho no decorrer do jogo.*",
      "metadata": {}
    },
    {
      "cell_type": "markdown",
      "source": "### Modificando elementos de uma lista",
      "metadata": {}
    },
    {
      "cell_type": "markdown",
      "source": "* **Para alterar um elemento, use o nome da lista seguido do índice do elemento que você quer modificar e, então, forneça o novo valor que você quer que esse item tenha.**",
      "metadata": {}
    },
    {
      "cell_type": "markdown",
      "source": "Por exemplo, vamos supor que temos uma lista de motocicletas, e que o primeiro item da lista seja 'honda'. Como mudaríamos o valor desse primeiro item?",
      "metadata": {}
    },
    {
      "cell_type": "code",
      "source": "motorcycles = ['honda', 'yamaha', 'suzuki'] # O código define a lista original, com 'honda' como o primeiro elemento.\nprint(motorcycles)",
      "metadata": {
        "trusted": true
      },
      "outputs": [
        {
          "name": "stdout",
          "text": "['honda', 'yamaha', 'suzuki']\n",
          "output_type": "stream"
        }
      ],
      "execution_count": 64
    },
    {
      "cell_type": "code",
      "source": "motorcycles[0] = 'ducati'  # O código altera o valor do primeiro item para 'ducati'.\nprint(motorcycles) # A saída mostra que o primeiro item realmente foi modificado e o restante da lista permaneceu igual.",
      "metadata": {
        "trusted": true
      },
      "outputs": [
        {
          "name": "stdout",
          "text": "['ducati', 'yamaha', 'suzuki']\n",
          "output_type": "stream"
        }
      ],
      "execution_count": 66
    },
    {
      "cell_type": "markdown",
      "source": "Você pode mudar o valor de qualquer item de uma lista, e não apenas o primeiro.",
      "metadata": {}
    },
    {
      "cell_type": "markdown",
      "source": "### Acrescentando elementos em uma lista",
      "metadata": {}
    },
    {
      "cell_type": "markdown",
      "source": "Você pode acrescentar um novo elemento em uma lista por diversos motivos. \n\n*Por exemplo, talvez você queira que novos alienígenas apareçam no jogo, pode querer acrescentar novos dados em uma visualização ou adicionar novos usuários registrados em um site que você criou. Python oferece várias maneiras de acrescentar novos dados em listas existentes.*",
      "metadata": {}
    },
    {
      "cell_type": "markdown",
      "source": "#### **Concatenando elementos no final de uma lista**",
      "metadata": {}
    },
    {
      "cell_type": "markdown",
      "source": "A maneira mais simples de acrescentar um novo elemento em uma lista é <code>concatenar</code> o item na lista. Quando concatenamos um item em uma lista, o novo elemento é acrescentado no final. Usando a mesma lista que tínhamos no exemplo anterior, adicionaremos o novo elemento *'ducati'* no final da lista:",
      "metadata": {}
    },
    {
      "cell_type": "code",
      "source": "motorcycles = ['honda', 'yamaha', 'suzuki']\nprint(motorcycles)",
      "metadata": {
        "trusted": true
      },
      "outputs": [
        {
          "name": "stdout",
          "text": "['honda', 'yamaha', 'suzuki']\n",
          "output_type": "stream"
        }
      ],
      "execution_count": 73
    },
    {
      "cell_type": "code",
      "source": "motorcycles.append('ducati') # O método append() acrescenta 'ducati' no final da lista sem afetar qualquer outro elemento.\nprint(motorcycles)",
      "metadata": {
        "trusted": true
      },
      "outputs": [
        {
          "name": "stdout",
          "text": "['honda', 'yamaha', 'suzuki', 'ducati']\n",
          "output_type": "stream"
        }
      ],
      "execution_count": 74
    },
    {
      "cell_type": "markdown",
      "source": "**O método <code>append()</code> facilita criar listas dinamicamente.** Por exemplo, podemos começar com uma lista vazia e então acrescentar itens à lista usando uma série de instruções <code>append()</code>.",
      "metadata": {}
    },
    {
      "cell_type": "markdown",
      "source": "Usando uma lista vazia, vamos adicionar os elementos 'BMW', 'mercedes' e 'audi' à lista: ",
      "metadata": {}
    },
    {
      "cell_type": "code",
      "source": "cars =[]\ncars.append('BMW')\ncars.append('mercedes')\ncars.append('audi')\n\nprint(cars)",
      "metadata": {
        "trusted": true
      },
      "outputs": [
        {
          "name": "stdout",
          "text": "['BMW', 'mercedes', 'audi']\n",
          "output_type": "stream"
        }
      ],
      "execution_count": 77
    },
    {
      "cell_type": "markdown",
      "source": "Criar listas dessa maneira é bem comum, pois, com frequência, você não conhecerá os dados que seus usuários querem armazenar em um programa até que ele esteja executando. \n\n*Para deixar que seus usuários tenham o controle, comece definindo uma lista vazia que armazenará os valores dos usuários. Em seguida, concatene cada novo valor fornecido à lista que você acabou de criar.*",
      "metadata": {}
    },
    {
      "cell_type": "markdown",
      "source": "#### **Inserindo elementos em uma lista**",
      "metadata": {}
    },
    {
      "cell_type": "markdown",
      "source": "Você pode adicionar um novo elemento em qualquer posição de sua lista usando o método <code>**insert()**</code>. Faça isso especificando o índice do novo elemento e o valor do novo item.",
      "metadata": {}
    },
    {
      "cell_type": "code",
      "source": "cars.insert(0, 'bugatti') # O método insert() abre um espaço na posição 0 e armazena o valor 'ducati' nesse local.\nprint(cars)",
      "metadata": {
        "trusted": true
      },
      "outputs": [
        {
          "name": "stdout",
          "text": "['bugatti', 'bugatti', 'BMW', 'mercedes', 'audi']\n",
          "output_type": "stream"
        }
      ],
      "execution_count": 79
    },
    {
      "cell_type": "markdown",
      "source": "### Removendo elementos de uma lista",
      "metadata": {}
    },
    {
      "cell_type": "markdown",
      "source": "Com frequência, você vai querer remover um item ou um conjunto de itens de uma lista. \n*Por exemplo, quando um jogador atinge um alienígena no céu com um tiro, é bem provável que você vá querer removê-lo da lista de alienígenas ativos. Se um usuário decidir cancelar a conta em sua aplicação web, você vai querer remover esse usuário da lista de usuários ativos.* **Você pode remover um item de acordo com sua posição na lista ou seu valor.**",
      "metadata": {}
    },
    {
      "cell_type": "markdown",
      "source": "#### **Removendo um item usando a instrução del**",
      "metadata": {}
    },
    {
      "cell_type": "markdown",
      "source": "* **Se a posição do item que você quer remover de uma lista for conhecida, a instrução del poderá ser usada.**",
      "metadata": {}
    },
    {
      "cell_type": "code",
      "source": "motorcycles = ['honda', 'yamaha', 'suzuki']\nprint(motorcycles)",
      "metadata": {
        "trusted": true
      },
      "outputs": [
        {
          "name": "stdout",
          "text": "['honda', 'yamaha', 'suzuki']\n",
          "output_type": "stream"
        }
      ],
      "execution_count": 86
    },
    {
      "cell_type": "code",
      "source": "del motorcycles[0] # O código usa del para remover o primeiro item, 'honda', da lista de motocicletas\nprint(motorcycles)",
      "metadata": {
        "trusted": true
      },
      "outputs": [
        {
          "name": "stdout",
          "text": "['yamaha', 'suzuki']\n",
          "output_type": "stream"
        }
      ],
      "execution_count": 87
    },
    {
      "cell_type": "markdown",
      "source": "* **Você pode remover um item de qualquer posição em uma lista usando a instrução del, se souber qual é o seu índice.**",
      "metadata": {}
    },
    {
      "cell_type": "markdown",
      "source": "Por exemplo, eis o modo de remover o segundo item, 'yamaha', da lista:",
      "metadata": {}
    },
    {
      "cell_type": "code",
      "source": "motorcycles = ['honda', 'yamaha', 'suzuki']\nprint(motorcycles)",
      "metadata": {
        "trusted": true
      },
      "outputs": [
        {
          "name": "stdout",
          "text": "['honda', 'yamaha', 'suzuki']\n",
          "output_type": "stream"
        }
      ],
      "execution_count": 93
    },
    {
      "cell_type": "code",
      "source": "del motorcycles[1] # A segunda motocicleta é apagada da lista\nprint(motorcycles)",
      "metadata": {
        "trusted": true
      },
      "outputs": [
        {
          "name": "stdout",
          "text": "['honda', 'suzuki']\n",
          "output_type": "stream"
        }
      ],
      "execution_count": 94
    },
    {
      "cell_type": "markdown",
      "source": "Nos dois exemplos não podemos mais acessar o valor que foi removido da lista após a instrução del ter sido usada.",
      "metadata": {}
    },
    {
      "cell_type": "markdown",
      "source": "#### **Removendo um item com o método pop()**",
      "metadata": {}
    },
    {
      "cell_type": "markdown",
      "source": "**Às vezes, você vai querer usar o valor de um item depois de removê-lo de uma lista.** Por exemplo, talvez você queira obter as posições <code>x e y</code> de um alienígena que acabou de ser atingido para que possa desenhar uma explosão nessa posição. Em uma aplicação web, você poderia remover um usuário de uma lista de",
      "metadata": {}
    },
    {
      "cell_type": "markdown",
      "source": "* O método <code>**pop()**</code> remove o último item de uma lista, mas permite que você trabalhe com esse item depois da remoção. O termo <code>**pop()**</code> deriva de pensar em uma lista como se fosse uma pilha de itens e remover um item (fazer um pop) do topo da pilha. **Nessa analogia, o topo da pilha corresponde ao final da lista.**",
      "metadata": {}
    },
    {
      "cell_type": "markdown",
      "source": "Vamos fazer um pop de uma motocicleta da lista de motocicletas:",
      "metadata": {}
    },
    {
      "cell_type": "code",
      "source": "motorcycles = ['honda', 'yamaha', 'suzuki']\nprint(motorcycles)",
      "metadata": {
        "trusted": true
      },
      "outputs": [
        {
          "name": "stdout",
          "text": "['honda', 'yamaha', 'suzuki']\n",
          "output_type": "stream"
        }
      ],
      "execution_count": 126
    },
    {
      "cell_type": "code",
      "source": "popped_motorcycle = motorcycles.pop() # Em fazemos pop de um valor da lista e o armazenamos na variável popped_motorcycle.\nprint(motorcycles) # Exibimos a lista para mostrar que um valor foi removido da lista.",
      "metadata": {
        "trusted": true
      },
      "outputs": [
        {
          "name": "stdout",
          "text": "['honda', 'yamaha']\n",
          "output_type": "stream"
        }
      ],
      "execution_count": 127
    },
    {
      "cell_type": "code",
      "source": "print(popped_motorcycle) # Então exibimos o valor removido para provar que ainda temos acesso ao valor removido.",
      "metadata": {
        "trusted": true
      },
      "outputs": [
        {
          "name": "stdout",
          "text": "suzuki\n",
          "output_type": "stream"
        }
      ],
      "execution_count": 128
    },
    {
      "cell_type": "markdown",
      "source": "A saída mostra que o valor *'suzuki'* foi removido do final da lista e agora está armazenado na variável <code>popped_motorcycle.</code>",
      "metadata": {}
    },
    {
      "cell_type": "markdown",
      "source": "Como esse método <code>**pop()**</code> poderia ser útil? Suponha que as motocicletas da lista estejam armazenadas em ordem cronológica, de acordo com a época em que fomos seus proprietários. Se for esse o caso, podemos usar o método <code>**pop()**</code> para exibir uma afirmação sobre a última motocicleta que compramos:",
      "metadata": {}
    },
    {
      "cell_type": "code",
      "source": "last_owned = popped_motorcycle\nprint(\"A último motocicleta que tive foi uma \" + last_owned.title() + \".\" )",
      "metadata": {
        "trusted": true
      },
      "outputs": [
        {
          "name": "stdout",
          "text": "A último motocicleta que tive foi uma Suzuki.\n",
          "output_type": "stream"
        }
      ],
      "execution_count": 132
    },
    {
      "cell_type": "markdown",
      "source": "#### **Removendo itens de qualquer posição em uma lista**",
      "metadata": {}
    },
    {
      "cell_type": "markdown",
      "source": "* Na verdade, você pode usar <code>**pop()**</code> para remover um item de qualquer posição em uma lista se incluir o índice do item que você deseja remover entre parênteses.",
      "metadata": {}
    },
    {
      "cell_type": "code",
      "source": "motorcycles = ['honda', 'yamaha', 'suzuki']\nprint(motorcycles)",
      "metadata": {
        "trusted": true
      },
      "outputs": [
        {
          "name": "stdout",
          "text": "['honda', 'yamaha', 'suzuki']\n",
          "output_type": "stream"
        }
      ],
      "execution_count": 138
    },
    {
      "cell_type": "code",
      "source": "first_owned = motorcycles.pop(0) # Começamos fazendo pop da primeira motocicleta da lista.\nprint('A primeira motocicleta que tive foi uma ' + first_owned.title() + \".\") # Então, exibimos uma mensagem sobre essa motocicleta",
      "metadata": {
        "trusted": true
      },
      "outputs": [
        {
          "name": "stdout",
          "text": "A primeira motocicleta que tive foi uma Honda.\n",
          "output_type": "stream"
        }
      ],
      "execution_count": 139
    },
    {
      "cell_type": "markdown",
      "source": "* **Lembre-se de que, sempre que usar <code>**pop()**</code>, o item com o qual você trabalhar não estará mais armazenado na lista.**\n  \n* **Se você não tiver certeza se deve usar a instrução <code>**del**</code> ou o método <code>**pop()**</code>, eis um modo fácil de decidir: quando quiser apagar um item de uma lista e esse item não vai ser usado de modo algum, utilize a instrução <code>**del**</code>; se quiser usar um item à medida que removê-lo, utilize o método <code>**pop()**</code>.**",
      "metadata": {}
    },
    {
      "cell_type": "markdown",
      "source": "#### **Removendo um item de acordo com o valor**",
      "metadata": {}
    },
    {
      "cell_type": "markdown",
      "source": "* Às vezes, você são saberá a posição do valor que quer remover de uma lista. Se conhecer apenas o valor do item que deseja remover, o método <code>**remove()**</code> poderá ser usado.\n  \nPor exemplo, vamos supor que queremos remover o valor *'ducati'* da lista de motocicletas.",
      "metadata": {}
    },
    {
      "cell_type": "code",
      "source": "motorcycles = ['honda', 'yamaha', 'suzuki', 'ducati']\nprint(motorcycles)",
      "metadata": {
        "trusted": true
      },
      "outputs": [
        {
          "name": "stdout",
          "text": "['honda', 'yamaha', 'suzuki', 'ducati']\n",
          "output_type": "stream"
        }
      ],
      "execution_count": 143
    },
    {
      "cell_type": "code",
      "source": "motorcycles.remove('ducati') # O código diz a Python para descobrir em que lugar 'ducati' aparece na lista e remover esse elemento\nprint(motorcycles)",
      "metadata": {
        "trusted": true
      },
      "outputs": [
        {
          "name": "stdout",
          "text": "['honda', 'yamaha', 'suzuki']\n",
          "output_type": "stream"
        }
      ],
      "execution_count": 144
    },
    {
      "cell_type": "markdown",
      "source": "Também podemos usar o método <code>**remove()**</code> para trabalhar com um valor que está sendo removido de uma lista. Vamos remover o valor *'ducati'* e exibir um motivo para removê-lo da lista:",
      "metadata": {}
    },
    {
      "cell_type": "code",
      "source": "motorcycles = ['honda', 'yamaha', 'suzuki', 'ducati']\nprint(motorcycles)",
      "metadata": {
        "trusted": true
      },
      "outputs": [
        {
          "name": "stdout",
          "text": "['honda', 'yamaha', 'suzuki', 'ducati']\n",
          "output_type": "stream"
        }
      ],
      "execution_count": 145
    },
    {
      "cell_type": "code",
      "source": "too_expensive = 'ducati'\nmotorcycles.remove(too_expensive)\nprint(motorcycles)",
      "metadata": {
        "trusted": true
      },
      "outputs": [
        {
          "name": "stdout",
          "text": "['honda', 'yamaha', 'suzuki']\n",
          "output_type": "stream"
        }
      ],
      "execution_count": 146
    },
    {
      "cell_type": "code",
      "source": "print(too_expensive.title() + ' é muito caro para mim' + '.')",
      "metadata": {
        "trusted": true
      },
      "outputs": [
        {
          "name": "stdout",
          "text": "Ducati é muito caro para mim.\n",
          "output_type": "stream"
        }
      ],
      "execution_count": 148
    },
    {
      "cell_type": "markdown",
      "source": "**NOTA**\nO método <code>**remove()**</code> apaga apenas a primeira ocorrência do valor que você especificar. Se houver a possibilidade de o valor aparecer mais de uma vez na lista, será necessário usar um laço para determinar se todas as ocorrências desse valor foram removidas. Aprenderemos a fazer isso no Capítulo 7.\n",
      "metadata": {}
    },
    {
      "cell_type": "markdown",
      "source": "### **FAÇA VOCÊ MESMO**",
      "metadata": {}
    },
    {
      "cell_type": "markdown",
      "source": "Os exercícios a seguir são um pouco mais complexos que aqueles do Capítulo 2, porém darão a você a oportunidade de usar listas de todas as formas descritas.",
      "metadata": {}
    },
    {
      "cell_type": "markdown",
      "source": "**3.4 – Lista de convidados:** Se pudesse convidar alguém, vivo ou morto, para o jantar, quem você convidaria? Crie uma lista que inclua pelo menos três pessoas que você gostaria de convidar para jantar. Em seguida, utilize sua lista para exibir uma mensagem para cada pessoa, convidando-a para jantar.",
      "metadata": {}
    },
    {
      "cell_type": "code",
      "source": "convidados = ['pascoal', 'lembia', 'helio']\nprint(convidados[0].title() + \" eu gostaria de ter te convidado pra jantar.\" )",
      "metadata": {
        "trusted": true
      },
      "outputs": [
        {
          "name": "stdout",
          "text": "Pascoal eu gostaria de ter te convidado pra jantar.\n",
          "output_type": "stream"
        }
      ],
      "execution_count": 163
    },
    {
      "cell_type": "code",
      "source": "print(convidados[1].title() + \" eu gostaria de ter te convidado pra jantar.\" )",
      "metadata": {
        "trusted": true
      },
      "outputs": [
        {
          "name": "stdout",
          "text": "Lembia eu gostaria de ter te convidado pra jantar.\n",
          "output_type": "stream"
        }
      ],
      "execution_count": 164
    },
    {
      "cell_type": "code",
      "source": "print(convidados[2].title() + \" eu gostaria de ter te convidado pra jantar.\" )",
      "metadata": {
        "trusted": true
      },
      "outputs": [
        {
          "name": "stdout",
          "text": "Helio eu gostaria de ter te convidado pra jantar.\n",
          "output_type": "stream"
        }
      ],
      "execution_count": 166
    },
    {
      "cell_type": "markdown",
      "source": "**3.5 – Alterando a lista de convidados:** Você acabou de saber que um de seus convidados não poderá comparecer ao jantar, portanto será necessário enviar um novo conjunto de convites. Você deverá pensar em outra pessoa para convidar.",
      "metadata": {}
    },
    {
      "cell_type": "markdown",
      "source": "* Comece com seu programa do Exercício 3.4. Acrescente uma instrução print no final de seu programa, especificando o nome do convidado que não poderá comparecer.",
      "metadata": {}
    },
    {
      "cell_type": "code",
      "source": "convidados = ['pascoal', 'lembia', 'helio']\nprint(convidados)",
      "metadata": {
        "trusted": true
      },
      "outputs": [
        {
          "name": "stdout",
          "text": "['pascoal', 'lembia', 'helio']\n",
          "output_type": "stream"
        }
      ],
      "execution_count": 325
    },
    {
      "cell_type": "code",
      "source": "print(convidados.pop(2))",
      "metadata": {
        "trusted": true
      },
      "outputs": [
        {
          "name": "stdout",
          "text": "helio\n",
          "output_type": "stream"
        }
      ],
      "execution_count": 326
    },
    {
      "cell_type": "markdown",
      "source": "* Modifique sua lista, substituindo o nome do convidado que não poderá comparecer pelo nome da nova pessoa que você está convidando.",
      "metadata": {}
    },
    {
      "cell_type": "code",
      "source": "convidados.append('tugueda')\nprint(convidados)",
      "metadata": {
        "trusted": true
      },
      "outputs": [
        {
          "name": "stdout",
          "text": "['pascoal', 'lembia', 'tugueda']\n",
          "output_type": "stream"
        }
      ],
      "execution_count": 327
    },
    {
      "cell_type": "markdown",
      "source": "* Exiba um segundo conjunto de mensagens com o convite, uma para cada pessoa que continua presente em sua lista.",
      "metadata": {}
    },
    {
      "cell_type": "code",
      "source": "print('Olá!, ' + convidados[0].title() + ' gostaria de convidá-lo para um jantar especial na minha casa.')",
      "metadata": {
        "trusted": true
      },
      "outputs": [
        {
          "name": "stdout",
          "text": "Olá!, Pascoal gostaria de convidá-lo para um jantar especial na minha casa.\n",
          "output_type": "stream"
        }
      ],
      "execution_count": 198
    },
    {
      "cell_type": "code",
      "source": "print('Olá!, ' + convidados[1].title() + ' gostaria de convidá-lo para um jantar especial na minha casa.')",
      "metadata": {
        "trusted": true
      },
      "outputs": [
        {
          "name": "stdout",
          "text": "Olá!, Lembia gostaria de convidá-lo para um jantar especial na minha casa.\n",
          "output_type": "stream"
        }
      ],
      "execution_count": 199
    },
    {
      "cell_type": "code",
      "source": "print('Olá!, ' + convidados[-1].title() + ' gostaria de convidá-lo para um jantar especial na minha casa.')",
      "metadata": {
        "trusted": true
      },
      "outputs": [
        {
          "name": "stdout",
          "text": "Olá!, Tugueda gostaria de convidá-lo para um jantar especial na minha casa.\n",
          "output_type": "stream"
        }
      ],
      "execution_count": 200
    },
    {
      "cell_type": "markdown",
      "source": "**3.6 – Mais convidados:** Você acabou de encontrar uma mesa de jantar maior, portanto agora tem mais espaço disponível. Pense em mais três convidados para o jantar\n\n* Comece com seu programa do Exercício 3.4 ou do Exercício 3.5. Acrescente uma instrução print no final de seu programa informando às pessoas que você encontrou uma mesa de jantar maior.\n* Utilize <code>insert()</code> para adicionar um novo convidado no início de sua lista.\n* Utilize <code>insert()</code> para adicionar um novo convidado no meio de sua lista.\n* Utilize <code>append()</code> para adicionar um novo convidado no final de sua lista.\n* Exiba um novo conjunto de mensagens de convite, uma para cada pessoa que está em sua lista.",
      "metadata": {}
    },
    {
      "cell_type": "code",
      "source": "print('Encontrei uma mesa de jantar maior, então agora posso convidar mais pessoas!')",
      "metadata": {
        "trusted": true
      },
      "outputs": [
        {
          "name": "stdout",
          "text": "Encontrei uma mesa de jantar maior, então agora posso convidar mais pessoas!\n",
          "output_type": "stream"
        }
      ],
      "execution_count": 280
    },
    {
      "cell_type": "code",
      "source": "convidados.insert(3, 'Nabola')",
      "metadata": {
        "trusted": true
      },
      "outputs": [],
      "execution_count": 328
    },
    {
      "cell_type": "code",
      "source": "convidados.insert(4, 'Natercia')",
      "metadata": {
        "trusted": true
      },
      "outputs": [],
      "execution_count": 329
    },
    {
      "cell_type": "code",
      "source": "convidados.append('Elisio')",
      "metadata": {
        "trusted": true
      },
      "outputs": [],
      "execution_count": 330
    },
    {
      "cell_type": "code",
      "source": "print(convidados)",
      "metadata": {
        "trusted": true
      },
      "outputs": [
        {
          "name": "stdout",
          "text": "['pascoal', 'lembia', 'tugueda', 'Nabola', 'Natercia', 'Elisio']\n",
          "output_type": "stream"
        }
      ],
      "execution_count": 331
    },
    {
      "cell_type": "markdown",
      "source": "**3.7 – Reduzindo a lista de convidados:** Você acabou de descobrir que sua nova mesa de jantar não chegará a tempo para o jantar e tem espaço para somente dois convidados.\n+ Comece com seu programa do Exercício 3.6. Acrescente uma nova linha que mostre uma mensagem informando que você pode convidar apenas duas pessoas para o jantar.\n+ Utilize <code>pop()</code> para remover os convidados de sua lista, um de cada vez, até que apenas dois nomes permaneçam em sua lista. Sempre que remover um nome de sua lista, mostre uma mensagem a essa pessoa, permitindo que ela saiba que você sente muito por não poder convidá-la para o jantar.\n+ Apresente uma mensagem para cada uma das duas pessoas que continuam na lista, permitindo que elas saibam que ainda estão convidadas.\n+ Utilize <code>del</code> para remover os dois últimos nomes de sua lista, de modo que você tenha uma lista vazia. Mostre sua lista para garantir que você realmente tem uma lista vazia no final de seu programa.\n",
      "metadata": {}
    },
    {
      "cell_type": "code",
      "source": "print('Olá eu gostaria de informar que só posso convidar 2 pessoas!')",
      "metadata": {
        "trusted": true
      },
      "outputs": [
        {
          "name": "stdout",
          "text": "Olá eu gostaria de informar que só posso convidar 2 pessoas!\n",
          "output_type": "stream"
        }
      ],
      "execution_count": 225
    },
    {
      "cell_type": "code",
      "source": "print(convidados.pop(5) + ' sinto muito em não puder convida-lo.') # Utilize pop() para remover os convidados de sua lista",
      "metadata": {
        "trusted": true
      },
      "outputs": [
        {
          "name": "stdout",
          "text": "Elisio sinto muito em não puder convida-lo.\n",
          "output_type": "stream"
        }
      ],
      "execution_count": 332
    },
    {
      "cell_type": "code",
      "source": "print(convidados.pop(4) + ' sinto muito em não puder convida-lo.')",
      "metadata": {
        "trusted": true
      },
      "outputs": [
        {
          "name": "stdout",
          "text": "Natercia sinto muito em não puder convida-lo.\n",
          "output_type": "stream"
        }
      ],
      "execution_count": 286
    },
    {
      "cell_type": "code",
      "source": "print(convidados.pop(3) + ' sinto muito em não puder convida-lo.')",
      "metadata": {
        "trusted": true
      },
      "outputs": [
        {
          "name": "stdout",
          "text": "Nabola sinto muito em não puder convida-lo.\n",
          "output_type": "stream"
        }
      ],
      "execution_count": 287
    },
    {
      "cell_type": "code",
      "source": "print(convidados.pop(2) + ' sinto muito em não puder convida-lo.')",
      "metadata": {
        "trusted": true
      },
      "outputs": [
        {
          "name": "stdout",
          "text": "tugueda sinto muito em não puder convida-lo.\n",
          "output_type": "stream"
        }
      ],
      "execution_count": 288
    },
    {
      "cell_type": "code",
      "source": "print(convidados[0] + ' fico feliz por puder jantar comigo')",
      "metadata": {
        "trusted": true
      },
      "outputs": [
        {
          "name": "stdout",
          "text": "pascoal fico feliz por puder jantar comigo\n",
          "output_type": "stream"
        }
      ],
      "execution_count": 289
    },
    {
      "cell_type": "code",
      "source": "print(convidados[1] + ' fico feliz por puder jantar comigo')",
      "metadata": {
        "trusted": true
      },
      "outputs": [
        {
          "name": "stdout",
          "text": "lembia fico feliz por puder jantar comigo\n",
          "output_type": "stream"
        }
      ],
      "execution_count": 290
    },
    {
      "cell_type": "code",
      "source": "del convidados",
      "metadata": {
        "trusted": true
      },
      "outputs": [],
      "execution_count": 292
    },
    {
      "cell_type": "code",
      "source": "print(convidados) # ERRO: resultado que a lista foi totalmente apagada",
      "metadata": {
        "trusted": true
      },
      "outputs": [
        {
          "ename": "<class 'NameError'>",
          "evalue": "name 'convidados' is not defined",
          "traceback": [
            "\u001b[0;31m---------------------------------------------------------------------------\u001b[0m",
            "\u001b[0;31mNameError\u001b[0m                                 Traceback (most recent call last)",
            "Cell \u001b[0;32mIn[293], line 1\u001b[0m\n\u001b[0;32m----> 1\u001b[0m \u001b[38;5;28mprint\u001b[39m(\u001b[43mconvidados\u001b[49m)\n",
            "\u001b[0;31mNameError\u001b[0m: name 'convidados' is not defined"
          ],
          "output_type": "error"
        }
      ],
      "execution_count": 293
    },
    {
      "cell_type": "markdown",
      "source": "<hr>",
      "metadata": {}
    },
    {
      "cell_type": "markdown",
      "source": "## **Organizando uma lista**",
      "metadata": {}
    },
    {
      "cell_type": "markdown",
      "source": "Com frequência, suas listas serão criadas em uma ordem imprevisível, pois nem sempre você poderá controlar a ordem em que seus usuários fornecem seus dados. Às vezes, você vai querer preservar a ordem original de sua lista, enquanto, em outras ocasiões, vai querer alterar essa ordem.   \nPython oferece várias maneiras de organizar suas listas de acordo com a situação.",
      "metadata": {}
    },
    {
      "cell_type": "markdown",
      "source": "### Ordenando uma lista de forma permanente com o método sort()",
      "metadata": {}
    },
    {
      "cell_type": "markdown",
      "source": "**O método <code>sort()</code> de Python faz com que seja relativamente fácil ordenar uma lista.**  \nSuponha que temos uma lista de carros e queremos alterar a ordem da lista para armazenar os itens em ordem alfabética. Para simplificar essa tarefa, vamos supor que todos os valores da lista usam letras minúsculas.",
      "metadata": {}
    },
    {
      "cell_type": "code",
      "source": "cars = ['bmw', 'audi', 'toyota', 'subaru']\ncars.sort()\nprint(cars)",
      "metadata": {
        "trusted": true
      },
      "outputs": [
        {
          "name": "stdout",
          "text": "['audi', 'bmw', 'subaru', 'toyota']\n",
          "output_type": "stream"
        }
      ],
      "execution_count": 294
    },
    {
      "cell_type": "markdown",
      "source": "+ **O método <code>sort()</code> mostrado altera a ordem da lista de forma permanente.**   \nOs carros agora estão em ordem alfabética e não podemos mais retornar à ordem original.",
      "metadata": {}
    },
    {
      "cell_type": "markdown",
      "source": "+ **Também podemos ordenar essa lista em ordem alfabética inversa, passando o argumento <code>reverse=True</code> ao método <code>sort()</code>.**    \nO exemplo a seguir ordena a lista de carros em ordem alfabética inversa:",
      "metadata": {}
    },
    {
      "cell_type": "code",
      "source": "cars.sort(reverse=True)\nprint(cars)",
      "metadata": {
        "trusted": true
      },
      "outputs": [
        {
          "name": "stdout",
          "text": "['toyota', 'subaru', 'bmw', 'audi']\n",
          "output_type": "stream"
        }
      ],
      "execution_count": 295
    },
    {
      "cell_type": "markdown",
      "source": "**Novamente, a ordem da lista foi permanentemente alterada.**",
      "metadata": {}
    },
    {
      "cell_type": "markdown",
      "source": "### Ordenando uma lista temporariamente com a função sorted()",
      "metadata": {}
    },
    {
      "cell_type": "markdown",
      "source": "**Para preservar a ordem original de uma lista, mas apresentá-la de forma ordenada, podemos usar a função <code>sorted()</code>. A função <code>sorted()</code> permite exibir sua lista em uma ordem em particular, mas não afeta a ordem propriamente dita da lista.**\n\nVamos testar essa função na lista de carros.\n",
      "metadata": {}
    },
    {
      "cell_type": "code",
      "source": "cars = ['bmw', 'audi', 'toyota', 'subaru'] \nprint(' Eis a lista original')\nprint(cars) # Exibimos a lista em sua ordem original",
      "metadata": {
        "trusted": true
      },
      "outputs": [
        {
          "name": "stdout",
          "text": " Eis a lista original\n['bmw', 'audi', 'toyota', 'subaru']\n",
          "output_type": "stream"
        }
      ],
      "execution_count": 301
    },
    {
      "cell_type": "code",
      "source": "print(\"\\nEis a lista ordenada:\")\nprint(sorted(cars)) # em ordem alfabética",
      "metadata": {
        "trusted": true
      },
      "outputs": [
        {
          "name": "stdout",
          "text": "\nEis a lista ordenada:\n['audi', 'bmw', 'subaru', 'toyota']\n",
          "output_type": "stream"
        }
      ],
      "execution_count": 302
    },
    {
      "cell_type": "code",
      "source": "print(' Eis a lista original') # A lista preserva sua ordem original, depois que a função sorted() foi usada.\nprint(cars)",
      "metadata": {
        "trusted": true
      },
      "outputs": [
        {
          "name": "stdout",
          "text": " Eis a lista original\n['bmw', 'audi', 'toyota', 'subaru']\n",
          "output_type": "stream"
        }
      ],
      "execution_count": 303
    },
    {
      "cell_type": "markdown",
      "source": "Essa função também pode aceitar um argumento <code>**reverse=True**</code> se você quiser exibir uma lista em ordem alfabética inversa.",
      "metadata": {}
    },
    {
      "cell_type": "markdown",
      "source": "**NOTA**   \nOrdenar uma lista em ordem alfabética é um pouco mais complicado quando todos os valores não utilizam letras minúsculas. Há várias maneiras de interpretar letras maiúsculas quando decidimos por uma sequência de ordenação, e especificar a ordem exata pode apresentar um nível de complexidade maior que aquele com que queremos lidar no momento. No entanto, a maior parte das abordagens à ordenação terá diretamente como base o que aprendemos nesta seção.",
      "metadata": {}
    },
    {
      "cell_type": "markdown",
      "source": "### Exibindo uma lista em ordem inversa",
      "metadata": {}
    },
    {
      "cell_type": "markdown",
      "source": "Para inverter a ordem original de uma lista, podemos usar o método <code>**reverse**</code>. Se armazenarmos originalmente a lista de carros em ordem cronológica, de acordo com a época em que fomos seus proprietários, poderemos facilmente reorganizar a lista em ordem cronológica inversa:",
      "metadata": {}
    },
    {
      "cell_type": "code",
      "source": "print(cars)",
      "metadata": {
        "trusted": true
      },
      "outputs": [
        {
          "name": "stdout",
          "text": "['bmw', 'audi', 'toyota', 'subaru']\n",
          "output_type": "stream"
        }
      ],
      "execution_count": 304
    },
    {
      "cell_type": "code",
      "source": "cars.reverse()\nprint(cars)",
      "metadata": {
        "trusted": true
      },
      "outputs": [
        {
          "name": "stdout",
          "text": "['subaru', 'toyota', 'audi', 'bmw']\n",
          "output_type": "stream"
        }
      ],
      "execution_count": 305
    },
    {
      "cell_type": "markdown",
      "source": "**O método <code>**reverse**</code> muda a ordem de uma lista de forma permanente, mas podemos restaurar a ordem original a qualquer momento aplicando <code>**reverse**</code> à mesma lista uma segunda vez.**",
      "metadata": {}
    },
    {
      "cell_type": "markdown",
      "source": "### Descobrindo o tamanho de uma lista",
      "metadata": {}
    },
    {
      "cell_type": "markdown",
      "source": "Podemos rapidamente descobrir o tamanho de uma lista usando afunção <code>**len()**</code>. A lista no exemplo a seguir tem quatro itens, portanto seu\ntamanho é **4**:",
      "metadata": {}
    },
    {
      "cell_type": "code",
      "source": "len(cars)",
      "metadata": {
        "trusted": true
      },
      "outputs": [
        {
          "execution_count": 307,
          "output_type": "execute_result",
          "data": {
            "text/plain": "4"
          },
          "metadata": {}
        }
      ],
      "execution_count": 307
    },
    {
      "cell_type": "markdown",
      "source": "Você achará <code>**len()**</code> útil quando precisar identificar o número de alienígenas que ainda precisam ser atingidos em um jogo, determinar a quantidade de dados que você precisa administrar em uma visualização ou descobrir o número de usuários registrados em um site, entre outras tarefas.",
      "metadata": {}
    },
    {
      "cell_type": "markdown",
      "source": "**NOTA**   \nPython conta os itens de uma lista começando em um, portanto você não deverá se deparar com nenhum erro de deslocamento de um ao determinar o tamanho de uma lista.",
      "metadata": {}
    },
    {
      "cell_type": "markdown",
      "source": "### **FAÇA VOCÊ MESMO**",
      "metadata": {}
    },
    {
      "cell_type": "markdown",
      "source": "**3.8 – Conhecendo o mundo:** Pense em pelo menos cinco lugares do mundo que você gostaria de visitar.\n\n+ Armazene as localidades em uma lista. Certifique-se de que a lista não esteja em ordem alfabética.\n+ Exiba sua lista na ordem original. Não se preocupe em exibir a lista de forma elegante; basta exibi-la como uma lista Python pura.\n+ Utilize <code>**sorted()**</code> para exibir sua lista em ordem alfabética, sem modificar a lista propriamente dita.\n+ Mostre que sua lista manteve sua ordem original exibindo-a.\n+ Utilize <code>**sorted()**</code> para exibir sua lista em ordem alfabética inversa sem alterar a ordem da lista original.\n+ Mostre que sua lista manteve sua ordem original exibindo-a novamente.\n+ Utilize <code>**reverse**</code> para mudar a ordem de sua lista. Exiba a lista para mostrar que sua ordem mudou.\n+ Utilize <code>**reverse**</code> para mudar a ordem de sua lista novamente. Exiba a lista para mostrar que ela voltou à sua ordem original.\n+ Utilize <code>**sort()**</code> para mudar sua lista de modo que ela seja armazenada em ordem alfabética. Exiba a lista para mostrar que sua ordem mudou.\n+ Utilize <code>**sort()**</code> para mudar sua lista de modo que ela seja armazenada em ordem alfabética inversa. Exiba a lista para mostrar que sua ordem mudou.",
      "metadata": {}
    },
    {
      "cell_type": "code",
      "source": "places =['Colombia', 'Jamaica', 'Alemanhã', 'Canada', 'Japao']",
      "metadata": {
        "trusted": true
      },
      "outputs": [],
      "execution_count": 385
    },
    {
      "cell_type": "code",
      "source": "print(sorted(places)) # exibir sua lista em ordem alfabética, sem modificar a lista propriamente dita.",
      "metadata": {
        "trusted": true
      },
      "outputs": [
        {
          "name": "stdout",
          "text": "['Alemanhã', 'Canada', 'Colombia', 'Jamaica', 'Japao']\n",
          "output_type": "stream"
        }
      ],
      "execution_count": 386
    },
    {
      "cell_type": "code",
      "source": "print(places) # Mostre que sua lista manteve sua ordem original exibindo-a.",
      "metadata": {
        "trusted": true
      },
      "outputs": [
        {
          "name": "stdout",
          "text": "['Colombia', 'Jamaica', 'Alemanhã', 'Canada', 'Japao']\n",
          "output_type": "stream"
        }
      ],
      "execution_count": 387
    },
    {
      "cell_type": "code",
      "source": "print(sorted(places,reverse=True))",
      "metadata": {
        "trusted": true
      },
      "outputs": [
        {
          "name": "stdout",
          "text": "['Japao', 'Jamaica', 'Colombia', 'Canada', 'Alemanhã']\n",
          "output_type": "stream"
        }
      ],
      "execution_count": 401
    },
    {
      "cell_type": "code",
      "source": "places.reverse()\nprint(places)",
      "metadata": {
        "trusted": true
      },
      "outputs": [
        {
          "name": "stdout",
          "text": "['Japao', 'Canada', 'Alemanhã', 'Jamaica', 'Colombia']\n",
          "output_type": "stream"
        }
      ],
      "execution_count": 398
    },
    {
      "cell_type": "code",
      "source": "places.reverse()\nprint(places)",
      "metadata": {
        "trusted": true
      },
      "outputs": [
        {
          "name": "stdout",
          "text": "['Colombia', 'Jamaica', 'Alemanhã', 'Canada', 'Japao']\n",
          "output_type": "stream"
        }
      ],
      "execution_count": 346
    },
    {
      "cell_type": "code",
      "source": "places.sort()\nprint(places)",
      "metadata": {
        "trusted": true
      },
      "outputs": [
        {
          "name": "stdout",
          "text": "['Alemanhã', 'Canada', 'Colombia', 'Jamaica', 'Japao']\n",
          "output_type": "stream"
        }
      ],
      "execution_count": 350
    },
    {
      "cell_type": "code",
      "source": "places.sort(reverse=True)\nprint(places)",
      "metadata": {
        "trusted": true
      },
      "outputs": [
        {
          "name": "stdout",
          "text": "['Japao', 'Jamaica', 'Colombia', 'Canada', 'Alemanhã']\n",
          "output_type": "stream"
        }
      ],
      "execution_count": 418
    },
    {
      "cell_type": "markdown",
      "source": "**3.9 – Convidados para o jantar:** Trabalhando com um dos programas dos Exercícios de 3.4 a 3.7 (páginas 80 e 81), use <code>**len()**</code> para exibir uma mensagem informando o número de pessoas que você está convidando para o jantar.",
      "metadata": {}
    },
    {
      "cell_type": "code",
      "source": "len(convidados)",
      "metadata": {
        "trusted": true
      },
      "outputs": [
        {
          "execution_count": 404,
          "output_type": "execute_result",
          "data": {
            "text/plain": "5"
          },
          "metadata": {}
        }
      ],
      "execution_count": 404
    },
    {
      "cell_type": "markdown",
      "source": "**3.10 – Todas as funções:** Pensa em algo que você poderia armazenar em uma lista. Por exemplo, você poderia criar uma lista de montanhas, rios, países, cidades, idiomas ou qualquer outro item que quiser. Escreva um programa que crie uma lista contendo esses itens e então utilize cada função apresentada neste capítulo pelo menos uma vez",
      "metadata": {}
    },
    {
      "cell_type": "code",
      "source": "cidades=[\"Luanda\", \"SP\", \"Leiria\", \"Milão\"]",
      "metadata": {
        "trusted": true
      },
      "outputs": [],
      "execution_count": 413
    },
    {
      "cell_type": "code",
      "source": "print(sorted(cidades)) # sorted temporario depois volta a original",
      "metadata": {
        "trusted": true
      },
      "outputs": [
        {
          "name": "stdout",
          "text": "['Leiria', 'Luanda', 'Milão', 'SP']\n",
          "output_type": "stream"
        }
      ],
      "execution_count": 414
    },
    {
      "cell_type": "code",
      "source": "print(sorted(cidades,reverse=True))",
      "metadata": {
        "trusted": true
      },
      "outputs": [
        {
          "name": "stdout",
          "text": "['SP', 'Milão', 'Luanda', 'Leiria']\n",
          "output_type": "stream"
        }
      ],
      "execution_count": 415
    },
    {
      "cell_type": "code",
      "source": "cidades.reverse()\nprint(cidades)",
      "metadata": {
        "trusted": true
      },
      "outputs": [
        {
          "name": "stdout",
          "text": "['Milão', 'Leiria', 'SP', 'Luanda']\n",
          "output_type": "stream"
        }
      ],
      "execution_count": 416
    },
    {
      "cell_type": "code",
      "source": "cidades.sort() # sort permanente as ordem se mantem\nprint(cidades) ",
      "metadata": {
        "trusted": true
      },
      "outputs": [
        {
          "name": "stdout",
          "text": "['Leiria', 'Luanda', 'Milão', 'SP']\n",
          "output_type": "stream"
        }
      ],
      "execution_count": 417
    },
    {
      "cell_type": "code",
      "source": "cidades.sort(reverse=True) # sort permanente as ordem se mantem\nprint(cidades) ",
      "metadata": {
        "trusted": true
      },
      "outputs": [
        {
          "name": "stdout",
          "text": "['SP', 'Milão', 'Luanda', 'Leiria']\n",
          "output_type": "stream"
        }
      ],
      "execution_count": 419
    },
    {
      "cell_type": "code",
      "source": "len(cidades)",
      "metadata": {
        "trusted": true
      },
      "outputs": [
        {
          "execution_count": 420,
          "output_type": "execute_result",
          "data": {
            "text/plain": "4"
          },
          "metadata": {}
        }
      ],
      "execution_count": 420
    },
    {
      "cell_type": "markdown",
      "source": "<hr>",
      "metadata": {}
    },
    {
      "cell_type": "markdown",
      "source": "## **Evitando erros de índice quando trabalhar com listas**",
      "metadata": {}
    },
    {
      "cell_type": "markdown",
      "source": "Um tipo de erro é comum quando trabalhamos com listas pela primeira vez. Suponha que temos uma lista com três itens e você solicite o quarto item:",
      "metadata": {}
    },
    {
      "cell_type": "code",
      "source": "motorcycles=[\"honda\", \"yamaha\", \"suzuki\"]\nprint(motorcycles[3]) # Esse exemplo resulta em um erro de índice: Nenhum item de motorcycles tem índice igual a 3",
      "metadata": {
        "trusted": true
      },
      "outputs": [
        {
          "ename": "<class 'IndexError'>",
          "evalue": "list index out of range",
          "traceback": [
            "\u001b[0;31m---------------------------------------------------------------------------\u001b[0m",
            "\u001b[0;31mIndexError\u001b[0m                                Traceback (most recent call last)",
            "Cell \u001b[0;32mIn[421], line 2\u001b[0m\n\u001b[1;32m      1\u001b[0m motorcycles\u001b[38;5;241m=\u001b[39m[\u001b[38;5;124m\"\u001b[39m\u001b[38;5;124mhonda\u001b[39m\u001b[38;5;124m\"\u001b[39m, \u001b[38;5;124m\"\u001b[39m\u001b[38;5;124myamaha\u001b[39m\u001b[38;5;124m\"\u001b[39m, \u001b[38;5;124m\"\u001b[39m\u001b[38;5;124msuzuki\u001b[39m\u001b[38;5;124m\"\u001b[39m]\n\u001b[0;32m----> 2\u001b[0m \u001b[38;5;28mprint\u001b[39m(\u001b[43mmotorcycles\u001b[49m\u001b[43m[\u001b[49m\u001b[38;5;241;43m3\u001b[39;49m\u001b[43m]\u001b[49m)\n",
            "\u001b[0;31mIndexError\u001b[0m: list index out of range"
          ],
          "output_type": "error"
        }
      ],
      "execution_count": 421
    },
    {
      "cell_type": "markdown",
      "source": "Um erro de índice quer dizer que Python não é capaz de determinar o índice solicitado. Se um erro de índice ocorrer em seu programa, tente ajustar o índice que você está solicitando em um.",
      "metadata": {}
    },
    {
      "cell_type": "markdown",
      "source": "**Por causa da natureza deslocada de um na indexação de listas, esse erro é característico. As pessoas acham que o terceiro item é o item de número <code>3</code>, pois começam a contar a partir de <code>1</code>. Contudo, em Python, o terceiro item é o de número <code>2</code>, pois a indexação começa em <code>0</code>.**",
      "metadata": {}
    },
    {
      "cell_type": "markdown",
      "source": "**Tenha em mente que, sempre que quiser acessar o último item de uma lista, você deve usar o índice <code>-1</code>.** Isso sempre funcionará, mesmo que sua lista tenha mudado de tamanho desde a última vez que você a acessou:",
      "metadata": {}
    },
    {
      "cell_type": "code",
      "source": "print(motorcycles[-1]) #  O índice -1 sempre devolve o último item de uma lista",
      "metadata": {
        "trusted": true
      },
      "outputs": [
        {
          "name": "stdout",
          "text": "suzuki\n",
          "output_type": "stream"
        }
      ],
      "execution_count": 423
    },
    {
      "cell_type": "markdown",
      "source": "A única ocasião em que essa abordagem causará um erro é quando solicitamos o último item de uma lista vazia:",
      "metadata": {}
    },
    {
      "cell_type": "code",
      "source": "motorcycles = []\nprint(motorcycles[-1]) # Não há nenhum item em motorcycles, portanto Python devolve outro erro de índice",
      "metadata": {
        "trusted": true
      },
      "outputs": [
        {
          "ename": "<class 'IndexError'>",
          "evalue": "list index out of range",
          "traceback": [
            "\u001b[0;31m---------------------------------------------------------------------------\u001b[0m",
            "\u001b[0;31mIndexError\u001b[0m                                Traceback (most recent call last)",
            "Cell \u001b[0;32mIn[424], line 2\u001b[0m\n\u001b[1;32m      1\u001b[0m motorcycles \u001b[38;5;241m=\u001b[39m []\n\u001b[0;32m----> 2\u001b[0m \u001b[38;5;28mprint\u001b[39m(\u001b[43mmotorcycles\u001b[49m\u001b[43m[\u001b[49m\u001b[38;5;241;43m-\u001b[39;49m\u001b[38;5;241;43m1\u001b[39;49m\u001b[43m]\u001b[49m)\n",
            "\u001b[0;31mIndexError\u001b[0m: list index out of range"
          ],
          "output_type": "error"
        }
      ],
      "execution_count": 424
    },
    {
      "cell_type": "markdown",
      "source": "**NOTA**  \n***Se um erro de índice ocorrer e você não consegue descobrir como resolvê-lo, experimente exibir sua lista ou simplesmente mostrar o tamanho dela.** Sua lista poderá estar bem diferente do que você imaginou, em especial se ela foi tratada dinamicamente pelo seu programa. Ver a lista propriamente dita ou o número exato de itens que ela contém pode ajudar a entender esses erros de lógica.*\n",
      "metadata": {}
    },
    {
      "cell_type": "markdown",
      "source": "### **FAÇA VOCÊ MESMO**",
      "metadata": {}
    },
    {
      "cell_type": "markdown",
      "source": "**3.11 – Erro proposital:** Se você ainda não recebeu um erro de índice em um de seus programas, tente fazer um erro desse tipo acontecer. Altere um índice em um de seus programas de modo a gerar um erro de índice. Não se esqueça de corrigir o erro antes de fechar o programa.",
      "metadata": {}
    },
    {
      "cell_type": "code",
      "source": "print(convidados[5])",
      "metadata": {
        "trusted": true
      },
      "outputs": [
        {
          "ename": "<class 'IndexError'>",
          "evalue": "list index out of range",
          "traceback": [
            "\u001b[0;31m---------------------------------------------------------------------------\u001b[0m",
            "\u001b[0;31mIndexError\u001b[0m                                Traceback (most recent call last)",
            "Cell \u001b[0;32mIn[426], line 1\u001b[0m\n\u001b[0;32m----> 1\u001b[0m \u001b[38;5;28mprint\u001b[39m(\u001b[43mconvidados\u001b[49m\u001b[43m[\u001b[49m\u001b[38;5;241;43m5\u001b[39;49m\u001b[43m]\u001b[49m)\n",
            "\u001b[0;31mIndexError\u001b[0m: list index out of range"
          ],
          "output_type": "error"
        }
      ],
      "execution_count": 426
    },
    {
      "cell_type": "code",
      "source": "len(convidados)",
      "metadata": {
        "trusted": true
      },
      "outputs": [
        {
          "execution_count": 430,
          "output_type": "execute_result",
          "data": {
            "text/plain": "5"
          },
          "metadata": {}
        }
      ],
      "execution_count": 430
    },
    {
      "cell_type": "code",
      "source": "print(convidados[-1])",
      "metadata": {
        "trusted": true
      },
      "outputs": [
        {
          "name": "stdout",
          "text": "Natercia\n",
          "output_type": "stream"
        }
      ],
      "execution_count": 428
    },
    {
      "cell_type": "markdown",
      "source": "<hr>",
      "metadata": {}
    },
    {
      "cell_type": "markdown",
      "source": "### **RESUMO**",
      "metadata": {}
    },
    {
      "cell_type": "markdown",
      "source": "Neste capítulo conhecemos as listas e vimos como trabalhar com os itens individuais de uma lista. Aprendemos a definir uma lista e a adicionar e remover elementos. Vimos como ordenar as listas de modo permanente e temporário para fins de exibição. Também vimos como descobrir o tamanho de uma lista e aprendemos a evitar erros de índice quando trabalhamos com listas.",
      "metadata": {}
    },
    {
      "cell_type": "code",
      "source": "",
      "metadata": {
        "trusted": true
      },
      "outputs": [],
      "execution_count": null
    }
  ]
}