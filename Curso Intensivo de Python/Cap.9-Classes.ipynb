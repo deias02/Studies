{
 "cells": [
  {
   "cell_type": "markdown",
   "id": "ceebfcaa-9860-43e6-aedd-947a606b028c",
   "metadata": {},
   "source": [
    "# **CAP.9 - Classes**"
   ]
  },
  {
   "cell_type": "markdown",
   "id": "561561f9-1265-4e95-85b6-4bd51d3132f3",
   "metadata": {},
   "source": [
    "**A <code>programação orientada a objetos</code> é uma das abordagens mais eficientes para escrever software. Na programação orientada a objetos, escrevemos <code>classes</code> que representam entidades e situações do mundo real, e criamos objetos com base nessas classes. Quando escrevemos <code>classes</code>, definimos o comportamento geral que toda uma categoria de objetos pode ter.**"
   ]
  },
  {
   "cell_type": "markdown",
   "id": "824db109-aeb9-492a-9e11-06acd186cc32",
   "metadata": {},
   "source": [
    "**Quando criamos objetos individuais a partir da <code>classe</code>, cada objeto será automaticamente equipado com o comportamento geral; então você poderá dar a cada objeto as características únicas que desejar**. Você ficará impressionado ao ver como situações do mundo real podem ser bem modeladas com a <code>**programação orientada a objetos**</code>.\n",
    "\n",
    "Criar um objeto a partir de uma <code>**classe**</code> é uma operação conhecida como <code>**instanciação**</code>, e trabalhamos com **<code>instâncias</code> de uma classe**. Neste capítulo, **escreveremos <code>classes</code> e criaremos <code>instâncias dessas classes</code>. Especificaremos o tipo de informação que pode ser armazenado nas <code>instâncias</code> e definiremos ações que podem ser executadas nessas <code>instâncias</code>**. Também escreveremos classes que estendem a funcionalidade de classes existentes, de modo que classes semelhantes possam compartilhar códigos de forma eficiente. **Armazenaremos nossas classes em <code>módulos</code> e importaremos classes escritas por outros programadores para nossos próprios arquivos de programa**.\n",
    "\n",
    "**Entender a programação orientada a objetos ajudará a ver o mundo como um programador o vê**. Ela ajudará você a realmente conhecer o seu código, não apenas o que acontece linha a linha, mas também os conceitos mais amplos por trás dele. **Conhecer a lógica por trás das classes treinará você a pensar de modo lógico a fim de poder escrever programas que tratem praticamente todo problema encontrado de forma eficiente**.\n",
    "\n",
    "As classes também facilitam sua vida e a vida de outros programadores com quem você precisará trabalhar à medida que assumir desafios cada vez mais complexos. **Quando você e outros programadores escreverem códigos baseados no mesmo tipo de lógica, vocês serão capazes de entender o trabalho uns dos outros**. Seus programas farão sentido para muitos colaboradores, permitindo que todos façam mais."
   ]
  },
  {
   "cell_type": "markdown",
   "id": "51c70f3b-a2d2-4865-a78c-71785d7cdee1",
   "metadata": {},
   "source": [
    "## Criando e usando **uma <code>classe</code>**"
   ]
  },
  {
   "cell_type": "markdown",
   "id": "663ec648-3d98-403f-9692-f73f1e384578",
   "metadata": {},
   "source": [
    "**Podemos modelar de tudo usando <code>classes</code>**. Vamos começar escrevendo uma classe simples, **Dog**, que representa um cachorro – não um cachorro em particular, mas qualquer cachorro. O que sabemos sobre a maioria dos cachorros de estimação? **Bem, todos eles têm um nome e uma idade. Também sabemos que a maioria deles senta e rola**. Essas duas informações **(nome e idade) e esses dois comportamentos (sentar e rolar)** farão parte de nossa <code>**classe Dog**</code>, pois são comuns à maioria dos cachorros. Essa classe dirá à Python como criar um objeto que represente um cachorro.** Depois que nossa classe estiver escrita, ela será usada para criar <code>**instâncias individuais**</code>, em que cada uma representará um cachorro específico.\n"
   ]
  },
  {
   "cell_type": "markdown",
   "id": "5a2c596e-3a20-4256-9094-cd9f5c0a3141",
   "metadata": {},
   "source": [
    "### Criando a <code>**classe Dog**</code>"
   ]
  },
  {
   "cell_type": "markdown",
   "id": "1d6f7b97-9f09-4dc1-9726-ba30b2860fc7",
   "metadata": {},
   "source": [
    "Cada instância criada a partir da <code>**classe Dog**</code> armazenará um nome **(name) e uma idade (age)**, e daremos a cada cachorro a capacidade de **sentar (sit()) e rolar (roll_over())**:"
   ]
  },
  {
   "cell_type": "code",
   "execution_count": 9,
   "id": "15fbfe90-adab-4d26-ab25-5a9f751fac9e",
   "metadata": {
    "tags": []
   },
   "outputs": [],
   "source": [
    "class Dog():\n",
    "    \"\"\"Uma tentativa simples de modelar um cachorro\"\"\"\n",
    "    def __init__(self, name, age):\n",
    "        \"\"\"inicializa os atributos name e age.\"\"\"\n",
    "        self.name = name\n",
    "        self.age = age\n",
    "    def sit(self):\n",
    "        \"\"\"Simula um cachorro sentando em reposta a um comando.\"\"\"\n",
    "        print(self.name.title() + \" is now sitting.\")\n",
    "    def roll_over(self):\n",
    "        \"\"\"Simula um cachorro rolando em resposta a um comando.\"\"\"\n",
    "        print(self.name.title() + \" rolled over!\" )"
   ]
  },
  {
   "cell_type": "markdown",
   "id": "384498fe-53ad-4761-bee1-7e4a936d42c1",
   "metadata": {
    "tags": []
   },
   "source": [
    "Definimos uma classe chamada **Dog**. Por convenção, **nomes com a primeira letra maiúscula referem-se a classes em Python. Os parênteses na definição da classe estão vazios porque estamos criando essa classe do zero. E escrevemos uma <code>docstring</code> que descreve o que essa classe faz**."
   ]
  },
  {
   "cell_type": "markdown",
   "id": "1746d038-ede8-417a-b84a-7ecb8083b5d8",
   "metadata": {},
   "source": [
    "#### Método <code>**__init__()**</code>"
   ]
  },
  {
   "cell_type": "markdown",
   "id": "c5b3b38f-fcaf-487a-8306-2671eb363947",
   "metadata": {},
   "source": [
    "Uma função que faz parte de uma classe é um **<code>*método*</code>. Tudo que aprendemos sobre funções também se aplica aos métodos;** a única diferença prática, por enquanto, é o modo como chamaremos os **<code>*métodos*</code>**. **O método <code>__init__()</code> é um método especial que Python executa automaticamente sempre que criamos uma nova instância baseada na 'classe Dog'. Esse método tem dois underscores no início e dois no final – uma convenção que ajuda a evitar que os nomes default de métodos Python entrem em conflito com nomes de métodos criados por você.**\n",
    "\n",
    "Definimos o método <code>**__init__()**</code> para que tenha três parâmetros: **<code>self, name e age</code>**. O parâmetro **<code>self</code> é obrigatório na definição do método e deve estar antes dos demais parâmetros. Deve estar incluído na definição, pois, quando Python chama esse método <code>**__init__()**</code> depois (para criar uma instância de Dog), a chamada do método passará o argumento <code>self</code>  automaticamente**. Toda chamada de método associada a uma classe passa <code>**self**</code>, que é uma referência à própria instância, de modo automático; **ele dá acesso aos atributos e métodos da classe à <code>**instância individual</code>**. Quando criamos uma **'instância de Dog'**, Python chamará o **método <code>__init__()</code> da classe Dog**. Passaremos um nome e uma idade como argumentos para **Dog()**; <code>**self**</code> é passado automaticamente, portanto não é preciso especificá-lo. Sempre que quisermos criar uma **'instância da classe Dog'** forneceremos valores apenas para os dois últimos parâmetros, que são <code>**name e age**</code>.\n",
    "\n",
    "As duas variáveis definidas em têm o prefixo <code>**self**</code> . **Qualquer variável prefixada com <code>**self**</code>  está disponível a todos os métodos da classe;além disso, podemos acessar essas variáveis por meio de qualquer instância criada a partir da classe. <code>self.name = name</code> usa o valor armazenado no parâmetro <code>name</code> e o armazena na variável  <code>name</code>, que é então associada à instância criada**. O mesmo processo ocorre com **<code>self.age =age</code>**. Variáveis como essas, acessíveis por meio de instâncias, são chamadas de atributos."
   ]
  },
  {
   "cell_type": "markdown",
   "id": "48e2e4e0-ac99-4594-a7ca-eb0e1508eba0",
   "metadata": {},
   "source": [
    "A <code>**classe Dog**</code> tem dois outros dois métodos definidos: **sit() e roll_over()**. **Como esses métodos não precisam de informações adicionais como um nome ou uma idade, simplesmente os definimos com um parâmetro <code>**self**</code>. As instâncias que criarmos posteriormente terão acesso a esses métodos**. Em outras palavras, elas terão a capacidade de sentar e rolar. Por enquanto, **sit() e roll_over() não fazem muito**. Apenas exibem uma mensagem dizendo que o cachorro está sentando ou rolando. No entanto, **o conceito pode ser estendido para situações realistas:** se essa classe fizesse parte de um jogo de computador de verdade, esses métodos conteriam código para fazer a animação de um cachorro sentando e rolando. **Se essa classe tivesse sido escrita para controlar um robô, esses métodos direcionariam os movimentos para fazer um cachorro-robô sentar e rolar.**"
   ]
  },
  {
   "cell_type": "markdown",
   "id": "310746dc-ab7a-411e-9753-6bcf14ee124c",
   "metadata": {},
   "source": [
    "### Criando classes em Python 2.7"
   ]
  },
  {
   "cell_type": "markdown",
   "id": "c8719e04-d977-4755-8e64-3ea2f69640cd",
   "metadata": {},
   "source": [
    "**Quando criar uma classe em Python 2.7, será necessário fazer uma pequena mudança**. Inclua o termo <code>**object**</code> entre parênteses quando criá- la: **class NomeClasse(object): --trecho omitido--**\n",
    "Isso faz as classes de Python 2.7 se comportarem de modo mais próximo das classes de Python 3, o que, de modo geral, tornará seu trabalho mais simples.\n",
    "A **classe Dog** seria definida assim em Python 2.7: **class Dog(object): --trecho omitido--**"
   ]
  },
  {
   "cell_type": "markdown",
   "id": "a3e781fe-5610-4a54-9f82-b43f4ad4befa",
   "metadata": {},
   "source": [
    "### Criando <code>**uma instância a partir de uma classe**</code>"
   ]
  },
  {
   "cell_type": "markdown",
   "id": "ec1fcd69-f025-48fa-8ebc-3157eb2d9fc7",
   "metadata": {},
   "source": [
    "Pense em uma classe como um conjunto de instruções para criar uma instância. A classe <code>Dog</code> **é um conjunto de instruções que diz a Python como criar instâncias individuais que representem cachorros específicos.**\n",
    "Vamos criar uma instância que represente um cachorro específico:"
   ]
  },
  {
   "cell_type": "code",
   "execution_count": 18,
   "id": "91326205-3809-4d77-9146-7ced8e66afc1",
   "metadata": {
    "tags": []
   },
   "outputs": [],
   "source": [
    "class Dog():\n",
    "    \"\"\"Uma tentativa simples de modelar um cachorro\"\"\"\n",
    "    def __init__(self, name, age):\n",
    "        \"\"\"inicializa os atributos name e age.\"\"\"\n",
    "        self.name = name\n",
    "        self.age = age\n",
    "    def sit(self):\n",
    "        \"\"\"Simula um cachorro sentando em reposta a um comando.\"\"\"\n",
    "        print(self.name.title() + \" is now sitting.\")\n",
    "    def roll_over(self):\n",
    "        \"\"\"Simula um cachorro rolando em resposta a um comando.\"\"\"\n",
    "        print(self.name.title() + \" rolled over!\" )"
   ]
  },
  {
   "cell_type": "code",
   "execution_count": 19,
   "id": "8091944b-0349-4719-8774-a2e682f38c51",
   "metadata": {},
   "outputs": [
    {
     "name": "stdout",
     "output_type": "stream",
     "text": [
      "My dog's name is Willie.\n",
      "My dog is 6 years old.\n"
     ]
    }
   ],
   "source": [
    "my_dog =Dog('willie', 6)\n",
    "print(\"My dog's name is \" + my_dog.name.title() + \".\")\n",
    "print(\"My dog is \" + str(my_dog.age) + \" years old.\")"
   ]
  },
  {
   "cell_type": "markdown",
   "id": "d14c0d90-155e-4c0f-ae11-ac6a18e11382",
   "metadata": {},
   "source": [
    "A **classe Dog** que usamos aqui é aquela que acabamos de escrever no exemplo anterior. E dizemos a Python para criar um cachorro de nome 'willie' e idade igual a 6. **Quando Python lê essa linha, ele chama o método <code>__init__()</code> de Dog com os argumentos 'willie' e 6. O método <code>__init__()</code> cria uma instância que representa esse cachorro em particular e define os atributos <code>name e age</code> com os valores que fornecemos**. Esse método não tem uma instrução return explícita, mas Python devolve automaticamente uma instância que representa esse cachorro. **Armazenamos essa instância na variável my_dog. A convenção de nomenclatura é útil nesse caso: em geral, podemos supor que um nome com a primeira letra maiúscula como 'Dog 'refere-se a uma <code>classe</code>, enquanto um nome com letras minúsculas como 'my_dog' refere-se a uma única instância criada a partir de uma classe.**\n"
   ]
  },
  {
   "cell_type": "markdown",
   "id": "2f54b235-5042-4f27-8c93-cb8835d7fdff",
   "metadata": {},
   "source": [
    "#### **Acessando atributos**"
   ]
  },
  {
   "cell_type": "markdown",
   "id": "aa0988e5-d01f-4935-8f85-2f7f35bf24ee",
   "metadata": {},
   "source": [
    "**Para acessar os atributos de uma instância utilize a notação de ponto<code>(.)</code>**. No exemplo acima acessamos o valor do atributo **name de my_dog** escrevendo: **my_dog.name**\n",
    "\n",
    "A notação de ponto é usada com frequência em Python. **Essa sintaxe mostra como Python encontra o valor de um atributo. Nesse caso, o interpretador olha para a instância my_dog e encontra o atributo name associado a ela. É o mesmo atributo referenciado como <code>self.name na classe Dog</code>. E usamos a mesma abordagem para trabalhar com o atributo <code>age</code>. Em nossa primeira <code>instrução print, my_dog.name.title()</code> faz com que 'willie' – o valor do atributo name de my_dog – comece com uma letra maiúscula.** Na segunda instrução **<code>print, str(my_dog.age) converte 6 – o valor do atributo age de my_dog – em uma string</code>**.\n",
    "A saída é um resumo do que sabemos sobre my_dog: **My dog's name is Willie.**"
   ]
  },
  {
   "cell_type": "markdown",
   "id": "c720474a-0c36-425d-87b2-990f18d42493",
   "metadata": {},
   "source": [
    "#### **Chamando métodos**"
   ]
  },
  {
   "cell_type": "markdown",
   "id": "c37a4e5d-0c26-4001-8392-c01c91696ff5",
   "metadata": {},
   "source": [
    "Depois que criarmos uma instância da **'classe Dog', podemos usar a notação de ponto para chamar qualquer método definido nessa classe. Vamos fazer nosso cachorro sentar e rolar:**"
   ]
  },
  {
   "cell_type": "code",
   "execution_count": 25,
   "id": "d5258016-e98b-495d-8820-1c18ebafbdf7",
   "metadata": {
    "tags": []
   },
   "outputs": [],
   "source": [
    "class Dog():\n",
    "    \"\"\"Uma tentativa simples de modelar um cachorro\"\"\"\n",
    "    def __init__(self, name, age):\n",
    "        \"\"\"inicializa os atributos name e age.\"\"\"\n",
    "        self.name = name\n",
    "        self.age = age\n",
    "    def sit(self):\n",
    "        \"\"\"Simula um cachorro sentando em reposta a um comando.\"\"\"\n",
    "        print(self.name.title() + \" is now sitting.\")\n",
    "    def roll_over(self):\n",
    "        \"\"\"Simula um cachorro rolando em resposta a um comando.\"\"\"\n",
    "        print(self.name.title() + \" rolled over!\" )"
   ]
  },
  {
   "cell_type": "code",
   "execution_count": 26,
   "id": "75c97b37-cabd-44a6-a1b2-c88ec8efda3f",
   "metadata": {},
   "outputs": [
    {
     "name": "stdout",
     "output_type": "stream",
     "text": [
      "Willie is now sitting.\n",
      "Willie rolled over!\n"
     ]
    }
   ],
   "source": [
    "my_dog = Dog('willie', 6) #instância = Classe('self.parametro','self.parametro')\n",
    "my_dog.sit() # instancia.metodo(def)\n",
    "my_dog.roll_over()"
   ]
  },
  {
   "cell_type": "markdown",
   "id": "6cfa5d13-d56f-475d-b99a-0e3b6f533d67",
   "metadata": {},
   "source": [
    "**Para chamar um método, especifique o nome da instância (nesse caso, my_dog) e o método que você quer chamar, separados por um ponto.** Quando Python lê **my_dog.sit()**, ele procura o **método sit() na classe Dog** e executa esse código. A linha **my_dog.roll_over()** é interpretada do mesmo modo.\n",
    "\n",
    "+ Agora Willie faz o que lhe dissemos: Willie is now **sitting.** / Willie **rolled over**!\n",
    "\n",
    "**Essa sintaxe é bem conveniente. Quando atributos e métodos recebem nomes descritivos de forma apropriada, por exemplo, name, age, sit() e roll_over(), podemos inferir facilmente o que um bloco de código deve fazer, mesmo um que nunca vimos antes.**"
   ]
  },
  {
   "cell_type": "markdown",
   "id": "42801bd6-ffd9-4ad7-a4a4-a1fd1261fade",
   "metadata": {},
   "source": [
    "#### **Criando várias instâncias**"
   ]
  },
  {
   "cell_type": "markdown",
   "id": "d6ae6016-6bd8-4eff-9828-6eda9b5470ba",
   "metadata": {},
   "source": [
    "Você pode criar tantas instâncias de uma classe quantas forem necessárias. Vamos criar um segundo cachorro chamado **your_dog**:"
   ]
  },
  {
   "cell_type": "code",
   "execution_count": 30,
   "id": "4eb6d7fc-6797-4e20-b9c1-0ed4c4c8749c",
   "metadata": {
    "tags": []
   },
   "outputs": [],
   "source": [
    "class Dog():\n",
    "    \"\"\"Uma tentativa simples de modelar um cachorro\"\"\"\n",
    "    def __init__(self, name, age):\n",
    "        \"\"\"inicializa os atributos name e age.\"\"\"\n",
    "        self.name = name\n",
    "        self.age = age\n",
    "    def sit(self):\n",
    "        \"\"\"Simula um cachorro sentando em reposta a um comando.\"\"\"\n",
    "        print(self.name.title() + \" is now sitting.\")\n",
    "    def roll_over(self):\n",
    "        \"\"\"Simula um cachorro rolando em resposta a um comando.\"\"\"\n",
    "        print(self.name.title() + \" rolled over!\" )"
   ]
  },
  {
   "cell_type": "code",
   "execution_count": 31,
   "id": "3ec307bb-1517-4585-a52e-d344287b2b27",
   "metadata": {
    "tags": []
   },
   "outputs": [
    {
     "name": "stdout",
     "output_type": "stream",
     "text": [
      "My dog's name is Willie.\n",
      "My dog is 6 years old.\n",
      "Willie is now sitting.\n",
      "\n",
      "Your dog's name is Lucy.\n",
      "Your dog is 3 years old.\n",
      "Lucy is now sitting.\n"
     ]
    }
   ],
   "source": [
    "my_dog = Dog('willie', 6)\n",
    "your_dog = Dog('Lucy', 3)\n",
    "print(\"My dog's name is \" + my_dog.name.title() + \".\")\n",
    "print(\"My dog is \" + str(my_dog.age) + \" years old.\") \n",
    "my_dog.sit()\n",
    "\n",
    "print(\"\\nYour dog's name is \" + your_dog.name.title() + \".\") \n",
    "print(\"Your dog is \" + str(your_dog.age) + \" years old.\") \n",
    "your_dog.sit()"
   ]
  },
  {
   "cell_type": "markdown",
   "id": "1c3393a0-657b-43e4-87bd-6223afde4fe0",
   "metadata": {},
   "source": [
    "Nesse exemplo, criamos um cachorro chamado Willie e uma cadela de nome Lucy. Cada cachorro é uma instância separada, com seu próprio conjunto de atributos, capaz de realizar o mesmo conjunto de ações. \n",
    "\n",
    "Mesmo que usássemos o mesmo nome e a mesma idade para o segundo cachorro, Python criaria uma instância separada da classe Dog. **Você pode criar tantas instâncias de uma classe quantas forem necessárias, desde que dê a cada instância um nome de variável único ou que ela ocupe uma única posição em uma lista ou dicionário.**\n"
   ]
  },
  {
   "cell_type": "markdown",
   "id": "93df270f-7c11-430a-ad71-35efd7ee144d",
   "metadata": {},
   "source": [
    "### **FAÇA VOCÊ MESMO**"
   ]
  },
  {
   "cell_type": "markdown",
   "id": "83309eeb-0cfb-4150-9e90-a4f92676565a",
   "metadata": {},
   "source": [
    "**9.1 – Restaurante:** Crie uma classe chamada **Restaurant**. O método __init__() de **Restaurant** deve armazenar dois atributos: **restaurant_name e cuisine_type**. Crie um método chamado **describe_restaurant()** que mostre essas duas informações, e um método de nome **open_restaurant()** que exiba uma mensagem informando que o restaurante está aberto.   \n",
    "Crie uma instância chamada **restaurant** a partir de sua classe. Mostre os dois atributos individualmente e, em seguida, chame os dois métodos.\n"
   ]
  },
  {
   "cell_type": "code",
   "execution_count": 35,
   "id": "6b401ee5-11c2-403e-92ad-1d02a27db79d",
   "metadata": {
    "tags": []
   },
   "outputs": [
    {
     "name": "stdout",
     "output_type": "stream",
     "text": [
      "Delícias de Angola\n",
      "Angolana\n",
      "O restaurante Delícias de Angola serve culinária Angolana.\n",
      "O restaurante Delícias de Angola está aberto.\n"
     ]
    }
   ],
   "source": [
    "class Restaurant:\n",
    "    def __init__(self, restaurant_name, cuisine_type):\n",
    "        self.restaurant_name = restaurant_name\n",
    "        self.cuisine_type = cuisine_type\n",
    "\n",
    "    def describe_restaurant(self):\n",
    "        print(\"O restaurante \" + self.restaurant_name + \" serve culinária \" + self.cuisine_type + \".\")\n",
    "\n",
    "    def open_restaurant(self):\n",
    "        print(\"O restaurante \" + self.restaurant_name + \" está aberto.\")\n",
    "\n",
    "# Criação de uma instância da classe Restaurant\n",
    "restaurant = Restaurant(\"Delícias de Angola\", \"Angolana\")\n",
    "\n",
    "# Mostrando os atributos individualmente\n",
    "print(restaurant.restaurant_name)\n",
    "print(restaurant.cuisine_type)\n",
    "\n",
    "# Chamando os métodos\n",
    "restaurant.describe_restaurant()\n",
    "restaurant.open_restaurant()"
   ]
  },
  {
   "cell_type": "markdown",
   "id": "e6c14c4c-8c69-41d5-aa8a-f891ed949f1c",
   "metadata": {},
   "source": [
    "**9.2 – Três restaurantes:** Comece com a classe do Exercício 9.1. Crie três instâncias diferentes da classe e chame **describe_restaurant()** para cada instância."
   ]
  },
  {
   "cell_type": "code",
   "execution_count": 37,
   "id": "f0c8cf14-a98e-449c-ad2b-fa510560d8a3",
   "metadata": {},
   "outputs": [
    {
     "name": "stdout",
     "output_type": "stream",
     "text": [
      "O restaurante O melhor da Italia serve culinária Italiana.\n",
      "O restaurante Sabores Tuga serve culinária Portuguesa.\n",
      "O restaurante Brasa do Brasil serve culinária Brasileira.\n"
     ]
    }
   ],
   "source": [
    "## Criação de três instância da classe Restaurant\n",
    "restaurant1= Restaurant(\"O melhor da Italia\", \"Italiana\")\n",
    "restaurant2= Restaurant(\"Sabores Tuga\", \"Portuguesa\")\n",
    "restaurant3= Restaurant(\"Brasa do Brasil\",\"Brasileira\")\n",
    "\n",
    "# Chamando os métodos\n",
    "restaurant1.describe_restaurant()\n",
    "restaurant2.describe_restaurant()\n",
    "restaurant3.describe_restaurant()"
   ]
  },
  {
   "cell_type": "markdown",
   "id": "66d38dc0-5010-4724-82b1-63b4eca563f8",
   "metadata": {},
   "source": [
    "**9.3 – Usuários:** Crie uma classe chamada **User**. Crie dois atributos de nomes **first_name e last_name** e, então, crie vários outros atributos normalmente armazenados em um perfil de usuário. Escreva um método de nome **describe_user()** que apresente um resumo das informações do usuário. Escreva outro método chamado **greet_user()** que mostre uma saudação personalizada ao usuário.      \n",
    "Crie várias instâncias que representem diferentes usuários e chame os dois métodos para cada usuário.\n"
   ]
  },
  {
   "cell_type": "code",
   "execution_count": 39,
   "id": "087e1aad-19d5-4274-8487-6adcbc65b4fd",
   "metadata": {},
   "outputs": [
    {
     "name": "stdout",
     "output_type": "stream",
     "text": [
      "Nome: Denilson Panzo\n",
      "Idade: 31\n",
      "Email: denilsonpanzo@example.com\n",
      "Nome de usuário: depanzo\n",
      "Olá, Denilson Panzo! Seja bem-vindo(a).\n",
      "\n",
      "Nome: Emilia André\n",
      "Idade: 53\n",
      "Email: emilia.andre@example.com\n",
      "Nome de usuário: emiliandre\n",
      "Olá, Emilia André! Seja bem-vindo(a).\n",
      "\n",
      "Nome: Eurico André\n",
      "Idade: 50\n",
      "Email: eurico.andre@example.com\n",
      "Nome de usuário: eurico02\n",
      "Olá, Eurico André! Seja bem-vindo(a).\n"
     ]
    }
   ],
   "source": [
    "class User:\n",
    "    def __init__(self, first_name, last_name, age, email, username):\n",
    "        self.first_name = first_name\n",
    "        self.last_name = last_name\n",
    "        self.age = age\n",
    "        self.email = email\n",
    "        self.username = username\n",
    "\n",
    "    def describe_user(self):\n",
    "        print(\"Nome: \" + self.first_name + \" \" + self.last_name)\n",
    "        print(\"Idade: \" + str(self.age))\n",
    "        print(\"Email: \" + self.email)\n",
    "        print(\"Nome de usuário: \" + self.username)\n",
    "\n",
    "    def greet_user(self):\n",
    "        print(\"Olá, \" + self.first_name + \" \" + self.last_name + \"! Seja bem-vindo(a).\")\n",
    "\n",
    "# Criação de várias instâncias da classe User\n",
    "user1 = User(\"Denilson\", \"Panzo\", 31, \"denilsonpanzo@example.com\", \"depanzo\")\n",
    "user2 = User(\"Emilia\", \"André\", 53, \"emilia.andre@example.com\", \"emiliandre\")\n",
    "user3 = User(\"Eurico\", \"André\", 50, \"eurico.andre@example.com\", \"eurico02\")\n",
    "\n",
    "# Chamando os métodos para cada usuário\n",
    "user1.describe_user()\n",
    "user1.greet_user()\n",
    "\n",
    "print(\"\")  # Adicionando uma linha em branco para separar as saídas\n",
    "\n",
    "user2.describe_user()\n",
    "user2.greet_user()\n",
    "\n",
    "print(\"\")  # Adicionando uma linha em branco para separar as saídas\n",
    "\n",
    "user3.describe_user()\n",
    "user3.greet_user()"
   ]
  },
  {
   "cell_type": "markdown",
   "id": "11212b75-b0e9-454f-8cba-aca3b0ac861a",
   "metadata": {},
   "source": [
    "****"
   ]
  },
  {
   "cell_type": "markdown",
   "id": "d9572abc-99f4-49e8-a299-dacb3b854059",
   "metadata": {},
   "source": [
    "## **Trabalhando com classes e instâncias**"
   ]
  },
  {
   "cell_type": "markdown",
   "id": "818227c4-4c66-467d-8226-a42fda2feda5",
   "metadata": {},
   "source": [
    "Podemos usar classes para representar muitas situações do mundo real. **Depois que escrever uma classe, você gastará a maior parte de seu tempo trabalhando com instâncias dessa classe. Uma das primeiras tarefas que você vai querer fazer é modificar os atributos associados a uma instância em particular**. Podemos modificar os atributos de uma instância diretamente, ou escrever métodos que atualizem os atributos de formas específicas."
   ]
  },
  {
   "cell_type": "markdown",
   "id": "310b6a60-4725-4c0a-8065-57bec9e9775d",
   "metadata": {},
   "source": [
    "### Classe Car"
   ]
  },
  {
   "cell_type": "markdown",
   "id": "4d7b4a60-12b0-4c93-842f-08246662f2c0",
   "metadata": {},
   "source": [
    "Vamos escrever uma nova classe que represente um carro. Nossa classe armazenará informações sobre o tipo de carro com que estamos trabalhando e terá um método que sintetiza essa informação:"
   ]
  },
  {
   "cell_type": "code",
   "execution_count": 45,
   "id": "bcd34f9d-ed6b-4427-9ca1-547b130180ca",
   "metadata": {
    "tags": []
   },
   "outputs": [
    {
     "name": "stdout",
     "output_type": "stream",
     "text": [
      "2016 Audi A4\n"
     ]
    }
   ],
   "source": [
    "class Car():\n",
    "    \"\"\"Uma tentativa simples de representar um carro.\"\"\"\n",
    "    def __init__(self, make, model, year):\n",
    "        \"\"\"Inicializa os atributos que descrevem um carro.\"\"\"\n",
    "        self.make = make \n",
    "        self.model = model \n",
    "        self.year = year\n",
    "        \n",
    "    def get_descriptive_name(self):\n",
    "        \"\"\"Devolve um nome descritivo, formatado de modo elegante.\"\"\"\n",
    "        long_name = str(self.year) + ' ' + self.make + ' ' + self.model\n",
    "        return long_name.title()\n",
    "    \n",
    "my_new_car = Car('audi', 'a4', 2016)\n",
    "print(my_new_car.get_descriptive_name())"
   ]
  },
  {
   "cell_type": "markdown",
   "id": "dca56de8-4894-422f-8258-a4a50abf64a5",
   "metadata": {},
   "source": [
    "Na **classe Car** definimos o método <code>**__init__()**</code> com o parâmetro **self** em primeiro lugar, exatamente como fizemos antes com nossa **classe Dog**. Também fornecemos outros três parâmetros: **make, model e year**. **O método<code>**__init__()**</code> aceita esses parâmetros e os armazena nos atributos que serão associados às instâncias criadas a partir dessa classe**. Quando criarmos uma nova instância de Car, precisaremos especificar um fabricante, um modelo e o ano para a nossa instância.\n",
    "\n",
    "E definimos um método chamado **get_descriptive_name()** que coloca os atributos **year, make e model** de um carro em uma string, descrevendo o carro de modo elegante. **Isso evitará a necessidade de exibir o valor de cada atributo individualmente**. Para trabalhar com os valores dos atributos nesse método, usamos **self.make, self.model e self.year**. E criamos uma instância da **classe Car** e a armazenamos na variável **my_new_car**. Então chamamos **get_descriptive_name()** *para mostrar o tipo de carro que temos: **2016 Audi A4**  \n",
    "\n",
    "**Para deixar a classe mais interessante, vamos adicionar um atributo que mude com o tempo. Acrescentaremos um atributo que armazena a milhagem do carro.**"
   ]
  },
  {
   "cell_type": "markdown",
   "id": "c51c8264-3235-43a2-a2de-1fdf509e9e69",
   "metadata": {},
   "source": [
    "### Definindo <code>**um valor default para um atributo**</code>"
   ]
  },
  {
   "cell_type": "markdown",
   "id": "d08d4327-7b0d-4e88-bd89-a61dfd7adcaf",
   "metadata": {},
   "source": [
    "**Todo atributo de uma classe precisa de um valor inicial, mesmo que esse valor seja 0 ou uma string vazia**. Em alguns casos, por exemplo, **quando definimos <code>**um valor default**</code>, faz sentido especificar esse valor inicial no corpo do método <code>__init__()</code>; se isso for feito para um atributo, você não precisará incluir um parâmetro para ele.**\n",
    "Vamos acrescentar um atributo chamado **odometer_reading** que sempre começa com o valor 0. Também adicionaremos um método **read_odometer()** que nos ajudará a ler o hodômetro de cada carro: "
   ]
  },
  {
   "cell_type": "code",
   "execution_count": 49,
   "id": "9eedb60a-a3b5-4992-b54e-ca377c490986",
   "metadata": {},
   "outputs": [
    {
     "name": "stdout",
     "output_type": "stream",
     "text": [
      "2016 Audi A4\n",
      "Esse carro tem 0 milhas nele.\n"
     ]
    }
   ],
   "source": [
    "class Car():\n",
    "    def __init__(self, make, model, year): \n",
    "        \"\"\"Inicializa os atributos que descrevem um carro.\"\"\"\n",
    "        self.make = make \n",
    "        self.model = model \n",
    "        self.year = year  \n",
    "        self.odometer_reading = 0\n",
    "        \n",
    "    def get_descriptive_name(self):\n",
    "        \"\"\"Devolve um nome descritivo, formatado de modo elegante.\"\"\"\n",
    "        long_name = str(self.year) + ' ' + self.make + ' ' + self.model\n",
    "        return long_name.title()\n",
    "    \n",
    "    def read_odometer(self):\n",
    "        \"\"\"Exibe uma frase que mostra a milhagem do carro.\"\"\"\n",
    "        print(\"Esse carro tem \" + str(self.odometer_reading) + \" milhas nele.\")\n",
    "\n",
    "my_new_car = Car('audi', 'a4', 2016) \n",
    "print(my_new_car.get_descriptive_name()) \n",
    "my_new_car.read_odometer()"
   ]
  },
  {
   "cell_type": "markdown",
   "id": "7aba097f-4f9b-4ea5-8324-6a5bc4ac7784",
   "metadata": {},
   "source": [
    "**Dessa vez, quando Python chama o método <code>__init__()</code> para criar uma nova instância, os valores para o fabricante, o modelo e o ano são armazenados como atributos, como fizemos no exemplo anterior**. Em seguida, Python cria um novo atributo chamado **odometer_reading** e define seu valor inicial com **0**. Também temos um novo método de nome **read_odometer()** emvque facilita a leitura da milhagem de um carro.\n",
    "\n",
    "**Não há muitos carros vendidos com o hodômetro marcando exatamente 0, portanto precisamos de uma maneira de alterar o valor desse atributo.**"
   ]
  },
  {
   "cell_type": "markdown",
   "id": "9ea7ccb7-f44b-4022-9ee0-63b1e4409038",
   "metadata": {},
   "source": [
    "### Modificando valores de atributos"
   ]
  },
  {
   "cell_type": "markdown",
   "id": "2f07423c-017a-4e43-ad4f-41d461a38f15",
   "metadata": {},
   "source": [
    "Você pode alterar o valor de um atributo de **três maneiras**: **podemos modificar o valor diretamente por meio de uma instância, definir o valor com um método ou incrementá-lo (somar um determinado valor a ele)**. Vamos analisar cada uma dessas abordagens."
   ]
  },
  {
   "cell_type": "markdown",
   "id": "2158cf04-39fb-43e1-b67b-0d7ca95b9b22",
   "metadata": {},
   "source": [
    "#### **Modificando o valor de um atributo diretamente**"
   ]
  },
  {
   "cell_type": "markdown",
   "id": "ea05f44f-1809-448c-8e4f-9c286d3e08df",
   "metadata": {},
   "source": [
    "**A maneira mais simples de modificar o valor de um atributo é acessá-lo diretamente por meio de uma instância**. A seguir, definimos o valor de leitura do hodômetro para **23, de forma direta**:"
   ]
  },
  {
   "cell_type": "code",
   "execution_count": 55,
   "id": "6571cfff-e63e-4799-97ac-f0760dbebc09",
   "metadata": {},
   "outputs": [
    {
     "name": "stdout",
     "output_type": "stream",
     "text": [
      "2016 Audi A4\n",
      "Esse carro tem 23 milhas nele.\n"
     ]
    }
   ],
   "source": [
    "class Car():\n",
    "    def __init__(self, make, model, year): \n",
    "        \"\"\"Inicializa os atributos que descrevem um carro.\"\"\"\n",
    "        self.make = make \n",
    "        self.model = model \n",
    "        self.year = year  \n",
    "        self.odometer_reading = 0\n",
    "        \n",
    "    def get_descriptive_name(self):\n",
    "        \"\"\"Devolve um nome descritivo, formatado de modo elegante.\"\"\"\n",
    "        long_name = str(self.year) + ' ' + self.make + ' ' + self.model\n",
    "        return long_name.title()\n",
    "    \n",
    "    def read_odometer(self):\n",
    "        \"\"\"Exibe uma frase que mostra a milhagem do carro.\"\"\"\n",
    "        print(\"Esse carro tem \" + str(self.odometer_reading) + \" milhas nele.\")\n",
    "\n",
    "#Mudando diretamente o valor da instância (odometer_reading foi alterado abaixo = 23)\n",
    "my_new_car = Car('audi', 'a4', 2016)\n",
    "print(my_new_car.get_descriptive_name())\n",
    "my_new_car.odometer_reading = 23\n",
    "my_new_car.read_odometer()"
   ]
  },
  {
   "cell_type": "markdown",
   "id": "84f9cf0c-3596-438d-95ca-c16c3d3901df",
   "metadata": {},
   "source": [
    "**Usamos a notação de ponto <code>(.)</code> para acessar o atributo 'odometer_reading' do carro e definir seu valor diretamente**. Essa linha diz a Python para usar a **instância my_new_car**, encontrar **o atributo odometer_reading associado a ela e definir o valor desse atributo com 23**.\n",
    "\n",
    "Às vezes, você vai querer acessar os atributos de forma direta como fizemos, mas, em outras ocasiões, **vai querer escrever um método que atualize o valor para você.**"
   ]
  },
  {
   "cell_type": "markdown",
   "id": "d904851a-05a6-4c09-925d-80eda7a66b9d",
   "metadata": {},
   "source": [
    "#### **Modificando o valor de um atributo com um método**"
   ]
  },
  {
   "cell_type": "markdown",
   "id": "978fb9e4-7001-4a5b-b600-0a2d58f247f1",
   "metadata": {},
   "source": [
    "**Pode ser conveniente ter métodos que atualizem determinados atributos para você**. Em vez de acessar o atributo de modo direto, **passe o novo valor para um método que trate a atualização internamente**.\n",
    "Eis um exemplo que mostra um método de nome **update_odometer()**:"
   ]
  },
  {
   "cell_type": "code",
   "execution_count": 59,
   "id": "449d4a50-527d-4817-88f1-9d873b7f8d08",
   "metadata": {},
   "outputs": [
    {
     "name": "stdout",
     "output_type": "stream",
     "text": [
      "2016 Audi A4\n",
      "Esse carro tem 23 milhas nele.\n"
     ]
    }
   ],
   "source": [
    "class Car():\n",
    "    def __init__(self, make, model, year): \n",
    "        \"\"\"Inicializa os atributos que descrevem um carro.\"\"\"\n",
    "        self.make = make \n",
    "        self.model = model \n",
    "        self.year = year  \n",
    "        self.odometer_reading = 0\n",
    "        \n",
    "    def get_descriptive_name(self):\n",
    "        \"\"\"Devolve um nome descritivo, formatado de modo elegante.\"\"\"\n",
    "        long_name = str(self.year) + ' ' + self.make + ' ' + self.model\n",
    "        return long_name.title()\n",
    "    \n",
    "    def read_odometer(self):\n",
    "        \"\"\"Exibe uma frase que mostra a milhagem do carro.\"\"\"\n",
    "        print(\"Esse carro tem \" + str(self.odometer_reading) + \" milhas nele.\")\n",
    "        \n",
    "        # A única modificação em Car foi o acréscimo de update_odometer()\n",
    "    def update_odometer(self, mileage): \n",
    "        \"\"\"Define o valor de leitura do hodômetro com o valor especificado.\"\"\"\n",
    "        self.odometer_reading = mileage\n",
    "        \n",
    "my_new_car = Car('audi', 'a4', 2016)\n",
    "print(my_new_car.get_descriptive_name())\n",
    "#chamamos update_odometer() e passamos o valor 23 como argumento (correspondendo ao parâmetro mileage na definição do método\n",
    "my_new_car.update_odometer(23) \n",
    "my_new_car.read_odometer()"
   ]
  },
  {
   "cell_type": "markdown",
   "id": "c888adb0-7010-42a2-9d24-b80c15d0c712",
   "metadata": {},
   "source": [
    "**Podemos estender o método 'update_odometer()' para que faça uma tarefa adicional sempre que a leitura do hodômetro for modificada**. Vamos acrescentar um pouco de lógica para garantir que ninguém tente diminuir o valor lido no hodômetro:"
   ]
  },
  {
   "cell_type": "code",
   "execution_count": 61,
   "id": "4fb0e923-058c-42ab-87f2-7251e4123c6a",
   "metadata": {
    "tags": []
   },
   "outputs": [
    {
     "name": "stdout",
     "output_type": "stream",
     "text": [
      "2016 Audi A4\n",
      "Esse carro tem 23 milhas nele.\n",
      "Você não pode retroceder o hodômetro!\n",
      "Esse carro tem 23 milhas nele.\n",
      "Você não pode retroceder o hodômetro!\n",
      "Esse carro tem 23 milhas nele.\n"
     ]
    }
   ],
   "source": [
    "class Car():\n",
    "    def __init__(self, make, model, year): \n",
    "        \"\"\"Inicializa os atributos que descrevem um carro.\"\"\"\n",
    "        self.make = make \n",
    "        self.model = model \n",
    "        self.year = year  \n",
    "        self.odometer_reading = 0\n",
    "        \n",
    "    def get_descriptive_name(self):\n",
    "        \"\"\"Devolve um nome descritivo, formatado de modo elegante.\"\"\"\n",
    "        long_name = str(self.year) + ' ' + self.make + ' ' + self.model\n",
    "        return long_name.title()\n",
    "    \n",
    "    def read_odometer(self):\n",
    "        \"\"\"Exibe uma frase que mostra a milhagem do carro.\"\"\"\n",
    "        print(\"Esse carro tem \" + str(self.odometer_reading) + \" milhas nele.\")\n",
    "        \n",
    "    def update_odometer(self, mileage): \n",
    "        \"\"\"Define o valor de leitura do hodômetro com o valor especificado. \n",
    "        Rejeita a alteração se for tentativa de definir um valor menor para o hodômetro\"\"\"\n",
    "        if mileage >= self.odometer_reading: \n",
    "            self.odometer_reading = mileage \n",
    "        else:\n",
    "            print(\"Você não pode retroceder o hodômetro!\")\n",
    "            \n",
    "# Testando a classe Car\n",
    "my_new_car = Car('audi', 'a4', 2016)\n",
    "print(my_new_car.get_descriptive_name())\n",
    "\n",
    "# Atualizando o hodômetro para 100\n",
    "my_new_car.update_odometer(23)\n",
    "my_new_car.read_odometer()\n",
    "\n",
    "# Tentando reduzir o valor do hodômetro para 50\n",
    "my_new_car.update_odometer(10)\n",
    "my_new_car.read_odometer()\n",
    "\n",
    "# Atualizando o hodômetro para 150\n",
    "my_new_car.update_odometer(0)\n",
    "my_new_car.read_odometer()"
   ]
  },
  {
   "cell_type": "markdown",
   "id": "87edfcc7-491d-440c-9d91-e4e6ccd2cfcc",
   "metadata": {},
   "source": [
    "Agora **update_odometer()** verifica se o novo valor do hodômetro faz sentido antes de modificar o atributo. **Se a nova milhagem, 'mileage', for maior ou igual à milhagem existente, 'self.odometer_reading', você poderá atualizar o valor de leitura do hodômetro com a nova milhagem. Se a nova milhagem for menor que a milhagem existente, você receberá um aviso informando que não pode diminuir o valor lido no hodômetro.**"
   ]
  },
  {
   "cell_type": "markdown",
   "id": "ff73f5d9-694d-42b0-9ad4-ad30fd1cf87d",
   "metadata": {},
   "source": [
    "#### **Incrementando o valor de um atributo com um método**"
   ]
  },
  {
   "cell_type": "markdown",
   "id": "4d5093ae-d893-43a6-bd82-3109d66cc638",
   "metadata": {},
   "source": [
    "**Às vezes, você vai querer incrementar o valor de um atributo de determinada quantidade, em vez de definir um valor totalmente novo**. Suponha que compramos um carro usado e andamos cem milhas entre o instante em que o compramos e o momento em que o registramos. **Eis um método que nos permite passar essa quantidade incremental e somar esse valor ao valor de leitura do hodômetro:** "
   ]
  },
  {
   "cell_type": "code",
   "execution_count": 65,
   "id": "a6de1891-8ac4-4ab0-ae11-e7468ad899ae",
   "metadata": {},
   "outputs": [
    {
     "name": "stdout",
     "output_type": "stream",
     "text": [
      "2013 Subaru Outback\n",
      "Esse carro tem 23500 milhas nele.\n",
      "Esse carro tem 23600 milhas nele.\n"
     ]
    }
   ],
   "source": [
    "class Car():\n",
    "    def __init__(self, make, model, year): \n",
    "        \"\"\"Inicializa os atributos que descrevem um carro.\"\"\"\n",
    "        self.make = make \n",
    "        self.model = model \n",
    "        self.year = year  \n",
    "        self.odometer_reading = 0\n",
    "        \n",
    "    def get_descriptive_name(self):\n",
    "        \"\"\"Devolve um nome descritivo, formatado de modo elegante.\"\"\"\n",
    "        long_name = str(self.year) + ' ' + self.make + ' ' + self.model\n",
    "        return long_name.title()\n",
    "    \n",
    "    def read_odometer(self):\n",
    "        \"\"\"Exibe uma frase que mostra a milhagem do carro.\"\"\"\n",
    "        print(\"Esse carro tem \" + str(self.odometer_reading) + \" milhas nele.\")\n",
    "        \n",
    "    def update_odometer(self, mileage): \n",
    "        \"\"\"Define o valor de leitura do hodômetro com o valor especificado. \n",
    "        Rejeita a alteração se for tentativa de definir um valor menor para o hodômetro\"\"\"\n",
    "        if mileage >= self.odometer_reading: \n",
    "            self.odometer_reading = mileage \n",
    "        else:\n",
    "            print(\"Você não pode retroceder o hodômetro!\")\n",
    "\n",
    "    def increment_odometer(self, miles): \n",
    "        \"\"\"Soma a quantidade especificada ao valor de leitura do hodômetro.\"\"\"\n",
    "        self.odometer_reading += miles\n",
    "\n",
    "my_used_car = Car('subaru', 'outback', 2013) \n",
    "print(my_used_car.get_descriptive_name())\n",
    "\n",
    "my_used_car.update_odometer(23500) \n",
    "my_used_car.read_odometer()\n",
    "\n",
    "my_used_car.increment_odometer(100) \n",
    "my_used_car.read_odometer()"
   ]
  },
  {
   "cell_type": "markdown",
   "id": "dd919aa6-0cc9-42e4-8026-48239e89a21b",
   "metadata": {},
   "source": [
    "**O novo método 'increment_odometer()' aceita uma quantidade de milhas e soma esse valor a 'self.odometer_reading'. E criamos um carro usado, 'my_used_car'**. Definimos seu hodômetro com o valor 23.500 chamando **update_odometer()** e passando-lhe o valor 23500. E chamamos **increment_odometer()** e passamos o valor 100 para somar as cem milhas que dirigimos entre comprar o carro e registrá-lo."
   ]
  },
  {
   "cell_type": "markdown",
   "id": "0a698ebe-fa05-4d9d-b18a-fedd530bc118",
   "metadata": {},
   "source": [
    "Você pode modificar facilmente esse método para rejeitar incrementos negativos, de modo que ninguém possa usar essa função para reduzir o valor lido no hodômetro.\n",
    "\n",
    "**NOTA**  \n",
    "Podemos usar métodos como esse para controlar o modo como os usuários de seu programa atualizam informações como o valor de leitura do hodômetro, mas qualquer pessoa com acesso ao programa poderá definir o valor do hodômetro com um valor qualquer acessando o atributo diretamente. Uma segurança eficiente exige atenção extrema aos detalhes, além de verificações básicas como essas mostradas aqui."
   ]
  },
  {
   "cell_type": "markdown",
   "id": "578044b4-c6cb-4eab-b01c-a67c91426ec7",
   "metadata": {},
   "source": [
    "## **FAÇA VOCÊ MESMO**"
   ]
  },
  {
   "cell_type": "markdown",
   "id": "c050ce4d-0f1b-4051-ad00-7205fd82dea2",
   "metadata": {},
   "source": [
    "**9.4 – Pessoas atendidas:** Comece com seu programa do Exercício 9.1 (página 225). Acrescente um atributo chamado **number_served** cujo valor default é 0. Crie uma instância chamada **restaurant** a partir dessa classe. Apresente o número de clientes atendidos pelo restaurante e, em seguida, mude esse valor e exiba-o novamente.\n",
    "+ Adicione um método chamado **set_number_served()** que permita definir o número de clientes atendidos. Chame esse método com um novo número e mostre o valor novamente.\n",
    "+ Acrescente um método chamado **increment_number_served()** que permita incrementar o número de clientes servidos. Chame esse método com qualquer número que você quiser e que represente quantos clientes foram atendidos, por exemplo, em um dia de funcionamento."
   ]
  },
  {
   "cell_type": "code",
   "execution_count": 70,
   "id": "8c27f608-f737-445a-be20-eab18ead8056",
   "metadata": {},
   "outputs": [
    {
     "name": "stdout",
     "output_type": "stream",
     "text": [
      "Delícias de Angola\n",
      "Angolana\n",
      "O restaurante Delícias de Angola serve culinária Angolana.\n",
      "O restaurante Delícias de Angola está aberto.\n",
      "Número de clientes atendidos: 0\n",
      "Número de clientes atendidos após atualização: 5\n",
      "Número de clientes atendidos após set_number_served: 20\n",
      "Número de clientes atendidos após increment_number_served: 45\n"
     ]
    }
   ],
   "source": [
    "class Restaurant:\n",
    "    def __init__(self, restaurant_name, cuisine_type):\n",
    "        \"\"\"Inicializa os atributos que descrevem um restaurante.\"\"\"\n",
    "        self.restaurant_name = restaurant_name\n",
    "        self.cuisine_type = cuisine_type\n",
    "        #Acrescente um atributo chamado number_served cujo valor default é 0\n",
    "        self.number_served = 0  \n",
    "\n",
    "    def describe_restaurant(self):\n",
    "        \"\"\"Descreve o restaurante.\"\"\"\n",
    "        print(\"O restaurante \" + self.restaurant_name + \" serve culinária \" + self.cuisine_type + \".\")\n",
    "\n",
    "    def open_restaurant(self):\n",
    "        \"\"\"Informa que o restaurante está aberto.\"\"\"\n",
    "        print(\"O restaurante \" + self.restaurant_name + \" está aberto.\")\n",
    "        \n",
    "    def set_number_served(self, number):\n",
    "        \"\"\"Define o número de clientes atendidos.\"\"\"\n",
    "        self.number_served = number\n",
    "\n",
    "    def increment_number_served(self, increment):\n",
    "        \"\"\"Incrementa o número de clientes atendidos.\"\"\"\n",
    "        self.number_served += increment\n",
    "\n",
    "\n",
    "# Criação de uma instância da classe Restaurant\n",
    "restaurant = Restaurant(\"Delícias de Angola\", \"Angolana\")\n",
    "\n",
    "# Mostrando os atributos individualmente\n",
    "print(restaurant.restaurant_name)\n",
    "print(restaurant.cuisine_type)\n",
    "\n",
    "# Chamando os métodos\n",
    "restaurant.describe_restaurant()\n",
    "restaurant.open_restaurant()\n",
    "\n",
    "# Apresentando o número de clientes atendidos\n",
    "print(\"Número de clientes atendidos:\", restaurant.number_served)\n",
    "\n",
    "# Mudando o valor de number_served e exibindo-o novamente\n",
    "restaurant.number_served = 5\n",
    "print(\"Número de clientes atendidos após atualização:\", restaurant.number_served)\n",
    "\n",
    "# Usando o método set_number_served para definir o número de clientes atendidos\n",
    "restaurant.set_number_served(20)\n",
    "print(\"Número de clientes atendidos após set_number_served:\", restaurant.number_served)\n",
    "\n",
    "# Usando o método increment_number_served para incrementar o número de clientes atendidos\n",
    "restaurant.increment_number_served(25)\n",
    "print(\"Número de clientes atendidos após increment_number_served:\", restaurant.number_served)"
   ]
  },
  {
   "cell_type": "markdown",
   "id": "97834e56-a0b4-4bfa-a55b-a1ce05b21031",
   "metadata": {},
   "source": [
    "**9.5 – Tentativas de login:** Acrescente um atributo chamado **login_attempts** à sua classe **User** do Exercício 9.3 (página 226). Escreva um método chamado **increment_login_attempts()** que incremente o valor de **login_attempts** em 1. Escreva outro método chamado **reset_login_attempts()** que reinicie o valor de **login_attempts** com 0.\n",
    "+ Crie uma instância da classe User e chame **increment_login_attempts()** várias vezes. Exiba o valor de **login_attempts** para garantir que ele foi incrementado de forma apropriada e, em seguida, chame **reset_login_attempts()**. Exiba **login_attempts** novamente para garantir que seu valor foi reiniciado com 0."
   ]
  },
  {
   "cell_type": "code",
   "execution_count": 72,
   "id": "8af5d99e-2377-4784-b9be-544fefdf1258",
   "metadata": {},
   "outputs": [
    {
     "name": "stdout",
     "output_type": "stream",
     "text": [
      "Nome: Denilson Panzo\n",
      "Idade: 31\n",
      "Email: denilsonpanzo@example.com\n",
      "Nome de usuário: depanzo\n",
      "Olá, Denilson Panzo! Seja bem-vindo(a).\n",
      "\n",
      "Nome: Emilia André\n",
      "Idade: 53\n",
      "Email: emilia.andre@example.com\n",
      "Nome de usuário: emiliandre\n",
      "Olá, Emilia André! Seja bem-vindo(a).\n",
      "\n",
      "Nome: Eurico André\n",
      "Idade: 50\n",
      "Email: eurico.andre@example.com\n",
      "Nome de usuário: eurico02\n",
      "Olá, Eurico André! Seja bem-vindo(a).\n",
      "\n",
      "Tentativas de login: 3\n",
      "Tentativas de login após reset: 0\n"
     ]
    }
   ],
   "source": [
    "class User:\n",
    "    def __init__(self, first_name, last_name, age, email, username):\n",
    "        self.first_name = first_name\n",
    "        self.last_name = last_name\n",
    "        self.age = age\n",
    "        self.email = email\n",
    "        self.username = username\n",
    "        self.login_attempts = 0\n",
    "\n",
    "    def describe_user(self):\n",
    "        print(\"Nome: \" + self.first_name + \" \" + self.last_name)\n",
    "        print(\"Idade: \" + str(self.age))\n",
    "        print(\"Email: \" + self.email)\n",
    "        print(\"Nome de usuário: \" + self.username)\n",
    "\n",
    "    def greet_user(self):\n",
    "        print(\"Olá, \" + self.first_name + \" \" + self.last_name + \"! Seja bem-vindo(a).\")\n",
    "\n",
    "    def increment_login_attempts(self):\n",
    "        \"\"\"Incrementa o número de tentativas de login em 1.\"\"\"\n",
    "        self.login_attempts += 1\n",
    "\n",
    "    def reset_login_attempts(self):\n",
    "        \"\"\"Reseta o número de tentativas de login para 0.\"\"\"\n",
    "        self.login_attempts = 0\n",
    "\n",
    "# Criação de várias instâncias da classe User\n",
    "user1 = User(\"Denilson\", \"Panzo\", 31, \"denilsonpanzo@example.com\", \"depanzo\")\n",
    "user2 = User(\"Emilia\", \"André\", 53, \"emilia.andre@example.com\", \"emiliandre\")\n",
    "user3 = User(\"Eurico\", \"André\", 50, \"eurico.andre@example.com\", \"eurico02\")\n",
    "\n",
    "# Chamando os métodos para cada usuário\n",
    "user1.describe_user()\n",
    "user1.greet_user()\n",
    "\n",
    "print(\"\")  # Adicionando uma linha em branco para separar as saídas\n",
    "user2.describe_user()\n",
    "user2.greet_user()\n",
    "\n",
    "print(\"\")  # Adicionando uma linha em branco para separar as saídas\n",
    "user3.describe_user()\n",
    "user3.greet_user()\n",
    "\n",
    "# Testando os métodos increment_login_attempts e reset_login_attempts\n",
    "test_user = User(\"Test\", \"User\", 25, \"test.user@example.com\", \"testuser\")\n",
    "\n",
    "# Incrementando as tentativas de login (que soma (+) cada um dele que da o resultado de 3)\n",
    "test_user.increment_login_attempts()\n",
    "test_user.increment_login_attempts()\n",
    "test_user.increment_login_attempts()\n",
    "\n",
    "# Exibindo o valor de login_attempts após incrementos\n",
    "print(\"\\nTentativas de login:\", test_user.login_attempts)\n",
    "\n",
    "# Resetando as tentativas de login\n",
    "test_user.reset_login_attempts()\n",
    "\n",
    "# Exibindo o valor de login_attempts após reset\n",
    "print(\"Tentativas de login após reset:\", test_user.login_attempts)"
   ]
  },
  {
   "cell_type": "markdown",
   "id": "8bd3b98e-25b5-4065-8088-44772c4e54dc",
   "metadata": {},
   "source": [
    "*****"
   ]
  },
  {
   "cell_type": "markdown",
   "id": "f07e9fcb-79cd-4c4f-9914-4b184d30edd6",
   "metadata": {},
   "source": [
    "## **Herança**"
   ]
  },
  {
   "cell_type": "markdown",
   "id": "de7df8d0-3200-4b0e-b2d3-31f1c4b8bdd2",
   "metadata": {},
   "source": [
    "Nem sempre você precisará começar do zero para escrever uma classe. **Se a classe que você estiver escrevendo for uma versão especializada de outra classe já criada, a <code>herança</code> poderá ser usada. Quando uma classe herda de outra, ela assumirá automaticamente todos os atributos e métodos da primeira classe**. A classe original se chama <code>**classe-pai**</code> e a nova classe é a <code>**classe-filha**</code>. A **<code>classe-filha</code> herda todos os atributos e método de sua <code>classe-pai</code>, mas também é livre para definir novos atributos e métodos próprios.**"
   ]
  },
  {
   "cell_type": "markdown",
   "id": "172f6e2e-3233-49b5-8d3a-20c23d9cfd9a",
   "metadata": {},
   "source": [
    "### Método **<code>__init__() de uma classe-filha</code>**"
   ]
  },
  {
   "cell_type": "markdown",
   "id": "2bbf479e-725a-40ff-a407-85970a2b3c24",
   "metadata": {},
   "source": [
    "**A primeira tarefa de Python ao criar uma instância de uma <code>classe-filha</code> é atribuir valores a todos os atributos da <code>classe-pai</code>**. Para isso, **o método <code>__init__() de uma classe-filha</code> precisa da ajuda de sua <code>classe-pai</code>.**\n",
    "Como exemplo, vamos modelar um carro elétrico. Um carro elétrico é apenas um tipo específico de carro, portanto **podemos basear nossa <code>nova classe 'ElectricCar' na classe 'Car'</code> que escrevemos antes**. Então só precisaremos escrever código para os atributos e os comportamentos específicos de carros elétricos.\n",
    "\n",
    "Vamos começar criando uma versão simples da **classe 'ElectricCar' que faz tudo que a 'classe Car' faz**:"
   ]
  },
  {
   "cell_type": "code",
   "execution_count": 78,
   "id": "44765b7a-dd54-406d-9933-4086fedfd068",
   "metadata": {
    "tags": []
   },
   "outputs": [],
   "source": [
    "class Car(): \n",
    "    \"\"\"Uma tentativa simples de representar um carro.\"\"\"\n",
    "    def __init__(self, make, model, year): \n",
    "        self.make = make \n",
    "        self.model = model \n",
    "        self.year = year \n",
    "        self.odometer_reading = 0\n",
    "        \n",
    "    def get_descriptive_name(self): \n",
    "        long_name = str(self.year) + ' ' + self.make + ' ' + self.model \n",
    "        return long_name.title()\n",
    "    \n",
    "    def read_odometer(self): \n",
    "        print(\"This car has \" + str(self.odometer_reading) + \" miles on it.\")\n",
    "        \n",
    "    def update_odometer(self, mileage): \n",
    "        if mileage >= self.odometer_reading: \n",
    "            self.odometer_reading = mileage \n",
    "        else: print(\"You can't roll back an odometer!\")\n",
    "        \n",
    "    def increment_odometer(self, miles): \n",
    "        self.odometer_reading += miles"
   ]
  },
  {
   "cell_type": "code",
   "execution_count": 79,
   "id": "b0b8b740-9ec0-44c0-86a6-88c1098a6251",
   "metadata": {
    "tags": []
   },
   "outputs": [
    {
     "name": "stdout",
     "output_type": "stream",
     "text": [
      "2016 Tesla Model S\n"
     ]
    }
   ],
   "source": [
    "class ElectricCar(Car): #class Classe-pai(Classe-filha):\n",
    "    \"\"\"Representa aspectos específicos de veículos elétricos.\"\"\"\n",
    "    def __init__(self, make, model, year):\n",
    "        \"\"\"Inicializa os atributos da classe-pai.\"\"\"\n",
    "        super().__init__(make, model, year)\n",
    "        \n",
    "my_tesla = ElectricCar('tesla', 'model s', 2016)\n",
    "print(my_tesla.get_descriptive_name())"
   ]
  },
  {
   "cell_type": "markdown",
   "id": "81838f49-b0dc-455b-a4c5-d94d205fe490",
   "metadata": {},
   "source": [
    "Começamos com **'Car'**. **Quando criamos uma <code>classe-filha</code>, a <code>classe-pai</code> deve fazer parte do arquivo atual e deve aparecer antes da <code>classe-filha</code> no arquivo. E definimos a <code>classe-filha</code>, que é 'ElectricCar'. O nome da <code>classe-pai</code> deve ser incluído entre parênteses () na definição da <code>classe-filha</code>. O método __init__() aceita as informações necessárias para criar uma instância de 'Car'.**"
   ]
  },
  {
   "cell_type": "markdown",
   "id": "d2a80daa-f044-4071-ae46-ceb29ea6bc6f",
   "metadata": {},
   "source": [
    "**A função <code>super()</code> é uma função especial que ajuda Python a criar conexões entre a <code>classe-pai</code>e a <code>classe-filha</code>. Essa linha diz a Python para chamar o método <code>__init__()</code> da classe-pai de 'ElectricCar', que confere todos os atributos da classe-pai a 'ElectricCar'**. O nome <code>**super()**</code> é derivado de uma convenção segundo a qual a classe-pai se chama <code>**superclasse**</code> e a classe-filha é a <code>**subclasse**</code>.\n",
    "\n",
    "**Testamos se a <code>herança</code> está funcionando de forma apropriada tentando criar um carro elétrico com o mesmo tipo de informação que fornecemos quando criamos um carro comum. E criamos uma instância da classe 'ElectricCar' e a armazenamos em 'my_tesla'**. Essa linha chama o método <code>__init__()</code> definido em **'ElectricCar'** que, por sua vez, diz a Python para chamar o método <code>__init__()</code> definido na **classe-pai 'Car'**. Fornecemos os argumentos **'tesla', 'model s' e 2016**.\n",
    "\n",
    "Além de <code>__init__()</code> não há outros atributos nem métodos que sejam particulares a um carro elétrico. A essa altura, estamos apenas garantindo que o carro elétrico tenha o comportamento apropriado de **'Car'**: **2016 Tesla Model S**  \n",
    "**A instância de 'ElectricCar' funciona exatamente como uma instância de 'Car', portanto podemos agora começar a definir atributos e métodos específicos aos carros elétricos.**"
   ]
  },
  {
   "cell_type": "markdown",
   "id": "e15d9b72-6baf-40a8-940f-0e152239b880",
   "metadata": {},
   "source": [
    "### <code>**Herança**</code> em Python 2.7"
   ]
  },
  {
   "cell_type": "markdown",
   "id": "fba16647-3a66-43e2-94a9-372f640c9c82",
   "metadata": {
    "tags": []
   },
   "source": [
    "Em Python 2.7, a herança é um pouco diferente. A classe **'ElectricCar'** teria o seguinte aspecto: \n",
    "**class Car(object):\n",
    "    def __init__(self, make, model, year): --trecho omitido--**\n",
    "\n",
    "**class ElectricCar(Car):\n",
    "    def __init__(self, make, model, year):**\n",
    "\n",
    "**super(ElectricCar, self).__init__(make, model, year) --trecho omitido--**\n",
    "\n",
    "A função <code>**super()**</code> precisa de dois argumentos: **uma referência <code>à classe- filha e o objeto self</code>.** Esses argumentos são necessários para ajudar Python a fazer as conexões apropriadas entre as <code>**classes pai e filha**</code>. Quando usar herança em Python 2.7, lembre-se de **definir a <code>classe-pai usando a sintaxe object</code> também.**\n"
   ]
  },
  {
   "cell_type": "markdown",
   "id": "556d40dc-08d9-44eb-94f6-a32549d1558c",
   "metadata": {},
   "source": [
    "### Definindo <code>**atributos e métodos da classe-filha**</code>"
   ]
  },
  {
   "cell_type": "markdown",
   "id": "9b704d7d-96d9-42cd-8835-5c461621bc8f",
   "metadata": {},
   "source": [
    "**Definindo atributos e métodos da classe-filha diferenciar a classe-filha da classe-pai.**     \n",
    "**Vamos acrescentar um atributo que seja específico aos carros elétricos (uma bateria, por exemplo) e um método para mostrar esse atributo**. Armazenaremos a capacidade da bateria e escreveremos um método que mostre uma descrição dela: "
   ]
  },
  {
   "cell_type": "code",
   "execution_count": 86,
   "id": "07ee406c-102f-458f-bce7-48716463e3e1",
   "metadata": {
    "tags": []
   },
   "outputs": [],
   "source": [
    "class Car(): \n",
    "    \"\"\"Uma tentativa simples de representar um carro.\"\"\"\n",
    "    def __init__(self, make, model, year): \n",
    "        self.make = make \n",
    "        self.model = model \n",
    "        self.year = year \n",
    "        self.odometer_reading = 0\n",
    "        \n",
    "    def get_descriptive_name(self): \n",
    "        long_name = str(self.year) + ' ' + self.make + ' ' + self.model \n",
    "        return long_name.title()\n",
    "    \n",
    "    def read_odometer(self): \n",
    "        print(\"This car has \" + str(self.odometer_reading) + \" miles on it.\")\n",
    "        \n",
    "    def update_odometer(self, mileage): \n",
    "        if mileage >= self.odometer_reading: \n",
    "            self.odometer_reading = mileage \n",
    "        else: print(\"You can't roll back an odometer!\")\n",
    "        \n",
    "    def increment_odometer(self, miles): \n",
    "        self.odometer_reading += miles"
   ]
  },
  {
   "cell_type": "code",
   "execution_count": 87,
   "id": "8583fc40-1fd6-4753-9d06-471a834d1e40",
   "metadata": {
    "tags": []
   },
   "outputs": [
    {
     "name": "stdout",
     "output_type": "stream",
     "text": [
      "2016 Tesla Model S\n",
      "Este carro tem 70-kWh de batéria\n"
     ]
    }
   ],
   "source": [
    "class ElectricCar(Car):\n",
    "    \"\"\"Representa aspectos especificos de veiculos elétricos\"\"\"\n",
    "    def __init__(self, make, model, year):\n",
    "        \"\"\"Inicializa os atributos da classe pai Em seguida, \n",
    "        inicializa os atributos específicos de um carro elétrico \"\"\"\n",
    "        super().__init__(make, model, year)\n",
    "        self.battery_size = 70\n",
    "        \n",
    "    def describe_battery(self):\n",
    "        \"\"\"Exibe uma frase que descreve a capacidade da bateria.\"\"\"\n",
    "        print(\"Este carro tem \" + str(self.battery_size) + \"-kWh de batéria\")\n",
    "        \n",
    "my_tesla = ElectricCar('tesla', 'model s', 2016 )\n",
    "print(my_tesla.get_descriptive_name())\n",
    "my_tesla.describe_battery()"
   ]
  },
  {
   "cell_type": "markdown",
   "id": "d8e420f0-2dfc-40d6-bed5-a23d9b6f7a47",
   "metadata": {},
   "source": [
    "Adicionamos um novo atributo **'self.battery_size' e definimos seu valor inicial, por exemplo, com 70**. Esse atributo será associado a todas as instâncias criadas a partir da **classe 'ElectricCar', mas não será associado a nenhuma instância de 'Car'**. Também adicionamos um método chamado **'describe_battery()'**, que exibe informações sobre a bateria."
   ]
  },
  {
   "cell_type": "markdown",
   "id": "6590e419-3d3b-40e6-86fa-030703a2d5b2",
   "metadata": {},
   "source": [
    "Não há limites de quanto você pode especializar a classe 'ElectricCar'. **Você pode acrescentar a quantidade de atributos e métodos de que precisar para modelar um carro elétrico com qualquer grau de precisão necessário**. Um atributo ou método que possa pertencer a qualquer carro, isto é, que não seja específico de um carro elétrico, deve ser adicionado à **classe 'Car'**, em vez de ser colocado na **classe 'ElectricCar'**. **Então qualquer pessoa que usar a classe 'Car' terá essa funcionalidade disponível também, e a classe 'ElectricCar' conterá apenas códigos para as informações e comportamentos específicos de veículos elétricos.**"
   ]
  },
  {
   "cell_type": "markdown",
   "id": "054e6952-e3ba-48df-85af-06589246d3a5",
   "metadata": {},
   "source": [
    "### Sobrescrevendo métodos da <code>**classe-pai**</code>"
   ]
  },
  {
   "cell_type": "markdown",
   "id": "663bcec5-3a39-4e5c-9d37-ca4c68c6c9ad",
   "metadata": {},
   "source": [
    "Qualquer método da <code>**classe-pai**</code> que não se enquadre no que você estiver tentando modelar com a <code>**classe-filha**</code> pode ser sobrescrito. Para isso, **defina um método na <code>classe-filha</code> com o mesmo nome do método da <code>classe-pai</code> que você deseja sobrescrever. Python desprezará o método da classe-pai e só prestará atenção no método definido na classe-filha.**\n",
    "\n",
    "Suponha que a **classe 'Car'** tenha um método chamado **fill_gas_tank()**. Esse método não faz sentido para um veículo totalmente elétrico, portanto você pode sobrescrever esse método. Eis uma maneira de fazer isso:"
   ]
  },
  {
   "cell_type": "code",
   "execution_count": 92,
   "id": "be6a1eac-7bf7-4fb7-b4e8-ddea87bf81fa",
   "metadata": {
    "tags": []
   },
   "outputs": [
    {
     "name": "stdout",
     "output_type": "stream",
     "text": [
      "2016 Tesla Model S\n",
      "Este carro tem 70-kWh de bateria.\n",
      "Este carro não precisa de um tanque de gasolina!\n"
     ]
    }
   ],
   "source": [
    "class Car(): \n",
    "    \"\"\"Uma tentativa simples de representar um carro.\"\"\"\n",
    "    def __init__(self, make, model, year): \n",
    "        self.make = make \n",
    "        self.model = model \n",
    "        self.year = year \n",
    "        self.odometer_reading = 0\n",
    "        \n",
    "    def get_descriptive_name(self): \n",
    "        long_name = str(self.year) + ' ' + self.make + ' ' + self.model \n",
    "        return long_name.title()\n",
    "    \n",
    "    def read_odometer(self): \n",
    "        print(\"Este carro tem \" + str(self.odometer_reading) + \" milhas.\")\n",
    "        \n",
    "    def update_odometer(self, mileage): \n",
    "        if mileage >= self.odometer_reading: \n",
    "            self.odometer_reading = mileage \n",
    "        else: \n",
    "            print(\"Você não pode retroceder o hodômetro!\")\n",
    "        \n",
    "    def increment_odometer(self, miles): \n",
    "        self.odometer_reading += miles\n",
    "#Adicionamos o método fill_gas_tank à classe Car,\n",
    "    def fill_gas_tank(self):\n",
    "        \"\"\"Enche o tanque de gasolina.\"\"\"\n",
    "        print(\"Enchendo o tanque de gasolina...\")\n",
    "\n",
    "class ElectricCar(Car):\n",
    "    \"\"\"Representa aspectos específicos de veículos elétricos\"\"\"\n",
    "    def __init__(self, make, model, year):\n",
    "        \"\"\"\n",
    "        Inicializa os atributos da classe pai, em seguida, \n",
    "        inicializa os atributos específicos de um carro elétrico\n",
    "        \"\"\"\n",
    "        super().__init__(make, model, year)\n",
    "        self.battery_size = 70\n",
    "        \n",
    "    def describe_battery(self):\n",
    "        \"\"\"Exibe uma frase que descreve a capacidade da bateria.\"\"\"\n",
    "        print(\"Este carro tem \" + str(self.battery_size) + \"-kWh de bateria.\")\n",
    "#Na classe ElectricCar, sobrescrevemos o método fill_gas_tank informando uma mensagem.        \n",
    "    def fill_gas_tank(self):\n",
    "        \"\"\"Veículos elétricos não possuem tanque de gasolina.\"\"\"\n",
    "        print(\"Este carro não precisa de um tanque de gasolina!\")\n",
    "\n",
    "my_tesla = ElectricCar('tesla', 'model s', 2016)\n",
    "print(my_tesla.get_descriptive_name())\n",
    "my_tesla.describe_battery()\n",
    "my_tesla.fill_gas_tank()"
   ]
  },
  {
   "cell_type": "markdown",
   "id": "f979ba7a-7865-41b8-930e-6b507de587e3",
   "metadata": {},
   "source": [
    "Agora, se alguém tentar chamar **fill_gas_tank()** com um carro elétrico, **Python ignorará esse método de Car e executará o código apresentado em seu lugar. Ao usar <code>herança</code>, você pode fazer suas <code>classes-filhas</code> preservarem o que for necessário e sobrescrever tudo o que não for utilizado da <code>classe-pai</code>.**"
   ]
  },
  {
   "cell_type": "markdown",
   "id": "73773619-8447-4e78-89d3-6c500591a59f",
   "metadata": {},
   "source": [
    "### Instâncias como atributos"
   ]
  },
  {
   "cell_type": "markdown",
   "id": "abbb0cb0-548e-4112-9335-346edb221522",
   "metadata": {},
   "source": [
    "Ao modelar algo do mundo real no código você poderá perceber que está adicionando cada vez mais detalhes em uma classe. **Poderá notar que há uma lista crescente de atributos e métodos e que seus arquivos estão começando a ficar extensos.** Nessas situações, talvez você perceba que parte de uma classe pode ser escrita como uma classe separada. Sua classe maior poderá ser dividida em partes menores que funcionem em conjunto.\n",
    "\n",
    "Por exemplo, se continuarmos adicionando detalhes à **classe ElectricCar**, podemos perceber que estamos acrescentando muitos atributos e métodos específicos à bateria do carro. Se percebermos que isso está acontecendo, **podemos parar e transferir esses atributos e métodos para uma classe diferente** chamada **'Battery'**. **Então podemos usar uma instância de 'Battery' como atributo da classe 'ElectricCar':"
   ]
  },
  {
   "cell_type": "code",
   "execution_count": 96,
   "id": "f626302f-81f1-48d5-b920-46cde60e0183",
   "metadata": {
    "tags": []
   },
   "outputs": [
    {
     "name": "stdout",
     "output_type": "stream",
     "text": [
      "2016 Tesla Model S\n",
      "Este carro tem 70-kWh de bateria.\n"
     ]
    }
   ],
   "source": [
    "class Car(): \n",
    "    \"\"\"Uma tentativa simples de representar um carro.\"\"\"\n",
    "    def __init__(self, make, model, year): \n",
    "        self.make = make \n",
    "        self.model = model \n",
    "        self.year = year \n",
    "        self.odometer_reading = 0\n",
    "        \n",
    "    def get_descriptive_name(self): \n",
    "        long_name = str(self.year) + ' ' + self.make + ' ' + self.model \n",
    "        return long_name.title()\n",
    "    \n",
    "    def read_odometer(self): \n",
    "        print(\"Este carro tem \" + str(self.odometer_reading) + \" milhas.\")\n",
    "        \n",
    "    def update_odometer(self, mileage): \n",
    "        if mileage >= self.odometer_reading: \n",
    "            self.odometer_reading = mileage \n",
    "        else: \n",
    "            print(\"Você não pode retroceder o hodômetro!\")\n",
    "        \n",
    "    def increment_odometer(self, miles): \n",
    "        self.odometer_reading += miles\n",
    "\n",
    "    def fill_gas_tank(self):\n",
    "        \"\"\"Enche o tanque de gasolina.\"\"\"\n",
    "        print(\"Enchendo o tanque de gasolina...\")\n",
    "        \n",
    "class Battery():\n",
    "    \"\"\"Uma tentativa simples de modelar uma bateria para um carro elétrico.\"\"\"\n",
    "    def __init__(self, battery_size=70):\n",
    "        \"\"\"Inicializa os atributos da bateria.\"\"\"\n",
    "        self.battery_size = battery_size\n",
    "        \n",
    "    def describe_battery(self):\n",
    "        \"\"\"Exibe uma frase que descreve a capacidade da bateria.\"\"\"\n",
    "        print(\"Este carro tem \" + str(self.battery_size) + \"-kWh de bateria.\")\n",
    "        \n",
    "class ElectricCar(Car):\n",
    "    \"\"\"Representa aspectos específicos de veículos elétricos\"\"\"\n",
    "    def __init__(self, make, model, year):\n",
    "        \"\"\"\n",
    "        Inicializa os atributos da classe pai, em seguida, \n",
    "        inicializa os atributos específicos de um carro elétrico\n",
    "        \"\"\"\n",
    "        super().__init__(make, model, year)\n",
    "        self.battery = Battery()\n",
    "\n",
    "    def fill_gas_tank(self):\n",
    "        \"\"\"Veículos elétricos não possuem tanque de gasolina.\"\"\"\n",
    "        print(\"Este carro não precisa de um tanque de gasolina!\")\n",
    "\n",
    "my_tesla = ElectricCar('tesla', 'model s', 2016)\n",
    "print(my_tesla.get_descriptive_name())\n",
    "my_tesla.battery.describe_battery() #intância.atributo.método"
   ]
  },
  {
   "cell_type": "markdown",
   "id": "5454e348-440d-4b88-b239-cf9b1965fd18",
   "metadata": {
    "tags": []
   },
   "source": [
    "Definimos uma nova classe chamada **'Battery'** que não herda de nenhuma outra classe. O método <code>__init__()</code> tem um parâmetro, **'battery_size'**, além de <code>**self**</code>. **É um <code>parâmetro opcional</code> que define a capacidade da bateria com 70 se nenhum valor for especificado. O método 'describe_battery()' também foi transferido para essa classe.**"
   ]
  },
  {
   "cell_type": "markdown",
   "id": "f42b11fc-8d65-498b-b497-4d67f40c72d0",
   "metadata": {},
   "source": [
    "Na **classe ElectricCar**, adicionamos um atributo chamado **self.battery. Essa linha diz a Python para criar uma nova <code>instância de Battery</code> (com capacidade default de 70, pois não estamos especificando nenhum valor) e armazenar essa instância no atributo 'self.battery'. Isso acontecerá sempre que o método <code>__init__()</code> for chamado**; qualquer **instância de ElectricCar** agora terá uma **instância de Battery** criada automaticamente.\n",
    "\n",
    "Criamos um carro elétrico e o armazenamos na variável **my_tesla**. Quando quisermos descrever a bateria, precisaremos trabalhar com o atributo 'battery' do carro: **my_tesla.battery.describe_battery(). Essa linha diz a Python para usar a instância 'my_tesla', encontrar seu atributo 'battery' e chamar o método 'describe_battery()' associado à instância de Battery armazenada no atributo**.\n",
    "\n",
    "\n",
    "Parece ser bastante trabalho extra, mas agora podemos descrever a bateria com quantos detalhes quisermos sem deixar a classe ElectricCar entulhada. Vamos acrescentar outro método em **'Battery'** que informe a distância que o carro pode percorrer de acordo com a capacidade da bateria:"
   ]
  },
  {
   "cell_type": "code",
   "execution_count": 99,
   "id": "2ea7a037-5f9b-41b6-827b-a54e655b299b",
   "metadata": {
    "tags": []
   },
   "outputs": [
    {
     "name": "stdout",
     "output_type": "stream",
     "text": [
      "2016 Tesla Model S\n",
      "Este carro tem 70-kWh de bateria.\n",
      "Este carro pode ir aproximadamente 240 quilômetros com a carga cheia.\n"
     ]
    }
   ],
   "source": [
    "class Car(): \n",
    "    \"\"\"Uma tentativa simples de representar um carro.\"\"\"\n",
    "    def __init__(self, make, model, year): \n",
    "        self.make = make \n",
    "        self.model = model \n",
    "        self.year = year \n",
    "        self.odometer_reading = 0\n",
    "        \n",
    "    def get_descriptive_name(self): \n",
    "        long_name = str(self.year) + ' ' + self.make + ' ' + self.model \n",
    "        return long_name.title()\n",
    "    \n",
    "    def read_odometer(self): \n",
    "        print(\"Este carro tem \" + str(self.odometer_reading) + \" milhas.\")\n",
    "        \n",
    "    def update_odometer(self, mileage): \n",
    "        if mileage >= self.odometer_reading: \n",
    "            self.odometer_reading = mileage \n",
    "        else: \n",
    "            print(\"Você não pode retroceder o hodômetro!\")\n",
    "        \n",
    "    def increment_odometer(self, miles): \n",
    "        self.odometer_reading += miles\n",
    "\n",
    "    def fill_gas_tank(self):\n",
    "        \"\"\"Enche o tanque de gasolina.\"\"\"\n",
    "        print(\"Enchendo o tanque de gasolina...\")\n",
    "        \n",
    "class Battery():\n",
    "    \"\"\"Uma tentativa simples de modelar uma bateria para um carro elétrico.\"\"\"\n",
    "    def __init__(self, battery_size=70):\n",
    "        \"\"\"Inicializa os atributos da bateria.\"\"\"\n",
    "        self.battery_size = battery_size\n",
    "        \n",
    "    def describe_battery(self):\n",
    "        \"\"\"Exibe uma frase que descreve a capacidade da bateria.\"\"\"\n",
    "        print(\"Este carro tem \" + str(self.battery_size) + \"-kWh de bateria.\")\n",
    "        \n",
    "    def get_range(self):\n",
    "        \"\"\"Exibe uma frase sobre a distância que o carro é capaz de percorrer com essa bateria.\"\"\"\n",
    "        if self.battery_size ==70:\n",
    "            range = 240\n",
    "        elif self.battery_size ==85:\n",
    "            range = 270\n",
    "        \n",
    "        message = \"Este carro pode ir aproximadamente \" + str(range)\n",
    "        message += \" quilômetros com a carga cheia.\"\n",
    "        print(message)\n",
    "        \n",
    "class ElectricCar(Car):\n",
    "    \"\"\"Representa aspectos específicos de veículos elétricos\"\"\"\n",
    "    def __init__(self, make, model, year):\n",
    "        \"\"\"\n",
    "        Inicializa os atributos da classe pai, em seguida, \n",
    "        inicializa os atributos específicos de um carro elétrico\n",
    "        \"\"\"\n",
    "        super().__init__(make, model, year)\n",
    "        self.battery = Battery()\n",
    "\n",
    "    def fill_gas_tank(self):\n",
    "        \"\"\"Veículos elétricos não possuem tanque de gasolina.\"\"\"\n",
    "        print(\"Este carro não precisa de um tanque de gasolina!\")\n",
    "\n",
    "my_tesla = ElectricCar('tesla', 'model s', 2016)   \n",
    "print(my_tesla.get_descriptive_name())\n",
    "my_tesla.battery.describe_battery() # instância.atributo.método\n",
    "my_tesla.battery.get_range()"
   ]
  },
  {
   "cell_type": "markdown",
   "id": "893f5e96-e8e4-4533-81b3-dd9c2b28a417",
   "metadata": {},
   "source": [
    "A saída nos informa a distância que o carro é capaz de percorrer de acordo com a capacidade de sua bateria."
   ]
  },
  {
   "cell_type": "markdown",
   "id": "25e4fddf-db52-4658-8a7e-9f79af5f78ed",
   "metadata": {},
   "source": [
    "### Modelando <code>**objetos do mundo real**</code>"
   ]
  },
  {
   "cell_type": "markdown",
   "id": "639c2149-e5f5-4c4b-94ba-896b46066a01",
   "metadata": {},
   "source": [
    "À medida que começar a modelar itens mais complexos como carros elétricos, você vai ter que encarar perguntas interessantes. **A distância que um carro elétrico é capaz de percorrer é uma propriedade da bateria ou do carro?** Se estivermos descrevendo apenas um carro, provavelmente não haverá problemas em manter a associação do método **get_range() com a 'classe Battery'**. Entretanto, **se estivermos descrevendo toda uma linha de carros de um fabricante, é provável que vamos querer transferir get_range() para a 'classe ElectricCar'. O método get_range() continuaria verificando a capacidade da bateria antes de determinar a distância que o carro é capaz de percorrer, mas informaria um alcance específico para o tipo de carro com o qual está associado.**\n",
    "\n",
    "De modo alternativo, poderíamos manter a associação entre o **método get_range() e a bateria, mas passaríamos um parâmetro a ele**, por exemplo, **car_model**. O **método get_range() então informaria a distância que o carro poderá percorrer de acordo com a capacidade da bateria e o modelo do carro.**\n",
    "\n",
    "Isso leva você a um ponto interessante em seu crescimento como programador. **Quando tiver que encarar questões como essa, você estará pensando em um nível lógico mais alto, em vez de se concentrar no nível da sintaxe. Estará pensando não em Python, mas no modo de representar o mundo real como um código. Quando atingir esse ponto, você perceberá que, muitas vezes, não há abordagens certas ou erradas para modelar situações do mundo real. Algumas abordagens são mais eficientes que outras, mas descobrir as representações mais eficientes exige prática**. Se seu código estiver funcionando conforme desejado, é sinal de que você está se saindo bem! Não desanime se perceber que está destruindo suas classes e reescrevendo-as várias vezes usando diferentes abordagens. No caminho para escrever um código preciso e eficiente, todos passam por esse processo."
   ]
  },
  {
   "cell_type": "markdown",
   "id": "1dde1f27-3d3e-4da7-9ed0-e4e872b61044",
   "metadata": {},
   "source": [
    "## **FAÇA VOCÊ MESMO**"
   ]
  },
  {
   "cell_type": "markdown",
   "id": "9f4628ad-3da3-432b-94b0-9c50065d65be",
   "metadata": {},
   "source": [
    "**9.6 – Sorveteria:** Uma sorveteria é um tipo específico de restaurante. Escreva uma classe chamada **IceCreamStand** que herde da classe **Restaurant** escrita no Exercício 9.1 (página 225) ou no Exercício 9.4 (página 232). Qualquer versão da classe funcionará; basta escolher aquela de que você mais gosta. Adicione um atributo chamado **flavors** que armazene uma lista de sabores de sorvete. Escreva um método para mostrar esses sabores. Crie uma instância de **IceCreamStand** e chame esse método."
   ]
  },
  {
   "cell_type": "code",
   "execution_count": 105,
   "id": "2dcb833a-b01d-47ce-9062-df3ebba9c521",
   "metadata": {
    "tags": []
   },
   "outputs": [
    {
     "name": "stdout",
     "output_type": "stream",
     "text": [
      "Delícias de Angola\n",
      "Angolana\n",
      "O restaurante Delícias de Angola serve culinária Angolana.\n",
      "O restaurante Delícias de Angola está aberto.\n",
      "Número de clientes atendidos: 0\n",
      "Número de clientes atendidos após atualização: 5\n",
      "Número de clientes atendidos após set_number_served: 20\n",
      "Número de clientes atendidos após increment_number_served: 45\n",
      "\n",
      "Os sabores de sorvete disponíveis na Sorveteria de Angola são:\n",
      "- Baunilha\n",
      "- Chocolate\n",
      "- Morango\n",
      "- Manga\n"
     ]
    }
   ],
   "source": [
    "class Restaurant:\n",
    "    def __init__(self, restaurant_name, cuisine_type):\n",
    "        \"\"\"Inicializa os atributos que descrevem um restaurante.\"\"\"\n",
    "        self.restaurant_name = restaurant_name\n",
    "        self.cuisine_type = cuisine_type\n",
    "        self.number_served = 0  # Atributo padrão\n",
    "\n",
    "    def describe_restaurant(self):\n",
    "        \"\"\"Descreve o restaurante.\"\"\"\n",
    "        print(\"O restaurante \" + self.restaurant_name + \" serve culinária \" + self.cuisine_type + \".\")\n",
    "\n",
    "    def open_restaurant(self):\n",
    "        \"\"\"Informa que o restaurante está aberto.\"\"\"\n",
    "        print(\"O restaurante \" + self.restaurant_name + \" está aberto.\")\n",
    "        \n",
    "    def set_number_served(self, number):\n",
    "        \"\"\"Define o número de clientes atendidos.\"\"\"\n",
    "        self.number_served = number\n",
    "\n",
    "    def increment_number_served(self, increment):\n",
    "        \"\"\"Incrementa o número de clientes atendidos.\"\"\"\n",
    "        self.number_served += increment\n",
    "\n",
    "\n",
    "class IceCreamStand(Restaurant):\n",
    "    def __init__(self, restaurant_name, cuisine_type, flavors):\n",
    "        \"\"\"Inicializa os atributos da classe-pai e o atributo flavors.\"\"\"\n",
    "        super().__init__(restaurant_name, cuisine_type)\n",
    "        self.flavors = flavors\n",
    "\n",
    "    def show_flavors(self):\n",
    "        \"\"\"Mostra os sabores de sorvete disponíveis.\"\"\"\n",
    "        print(\"Os sabores de sorvete disponíveis na \" + self.restaurant_name + \" são:\")\n",
    "        for flavor in self.flavors:\n",
    "            print(\"- \" + flavor)\n",
    "\n",
    "\n",
    "# Criação de uma instância da classe Restaurant\n",
    "restaurant = Restaurant(\"Delícias de Angola\", \"Angolana\")\n",
    "\n",
    "# Mostrando os atributos individualmente\n",
    "print(restaurant.restaurant_name)\n",
    "print(restaurant.cuisine_type)\n",
    "\n",
    "# Chamando os métodos\n",
    "restaurant.describe_restaurant()\n",
    "restaurant.open_restaurant()\n",
    "\n",
    "# Apresentando o número de clientes atendidos\n",
    "print(\"Número de clientes atendidos:\", restaurant.number_served)\n",
    "\n",
    "# Mudando o valor de number_served e exibindo-o novamente\n",
    "restaurant.number_served = 5\n",
    "print(\"Número de clientes atendidos após atualização:\", restaurant.number_served)\n",
    "\n",
    "# Usando o método set_number_served para definir o número de clientes atendidos\n",
    "restaurant.set_number_served(20)\n",
    "print(\"Número de clientes atendidos após set_number_served:\", restaurant.number_served)\n",
    "\n",
    "# Usando o método increment_number_served para incrementar o número de clientes atendidos\n",
    "restaurant.increment_number_served(25)\n",
    "print(\"Número de clientes atendidos após increment_number_served:\", restaurant.number_served)\n",
    "\n",
    "\n",
    "# Criação de uma instância da classe IceCreamStand\n",
    "ice_cream_stand = IceCreamStand(\"Sorveteria de Angola\", \"Sorvete\", [\"Baunilha\", \"Chocolate\", \"Morango\", \"Manga\"])\n",
    "\n",
    "# Chamando o método show_flavors para mostrar os sabores de sorvete\n",
    "print(\"\") \n",
    "ice_cream_stand.show_flavors()"
   ]
  },
  {
   "cell_type": "markdown",
   "id": "d0356b8b-7788-4e2f-a9f7-732f6ba80d09",
   "metadata": {},
   "source": [
    "**9.7 – Admin:** Um administrador é um tipo especial de usuário. Escreva uma classe chamada **Admin** que herde da classe **User** escrita no Exercício 9.3 (página 226), ou no Exercício 9.5 (página 232). Adicione um atributo **privileges** que armazene uma lista de strings como **\"can add post\"**, **\"can delete post\" \"can ban user\"**, e assim por diante. Escreva um método chamado **show_privileges()** que liste o conjunto de privilégios de um administrador. Crie uma instância de **Admin** e chame seu método."
   ]
  },
  {
   "cell_type": "code",
   "execution_count": 107,
   "id": "000b824f-25b4-4547-8017-ed54a5c6a0d5",
   "metadata": {},
   "outputs": [
    {
     "name": "stdout",
     "output_type": "stream",
     "text": [
      "Nome: Denilson Panzo\n",
      "Idade: 31\n",
      "Email: denilsonpanzo@example.com\n",
      "Nome de usuário: depanzo\n",
      "Olá, Denilson Panzo! Seja bem-vindo(a).\n",
      "\n",
      "Nome: Emilia André\n",
      "Idade: 53\n",
      "Email: emilia.andre@example.com\n",
      "Nome de usuário: emiliandre\n",
      "Olá, Emilia André! Seja bem-vindo(a).\n",
      "\n",
      "Nome: Eurico André\n",
      "Idade: 50\n",
      "Email: eurico.andre@example.com\n",
      "Nome de usuário: eurico02\n",
      "Olá, Eurico André! Seja bem-vindo(a).\n",
      "\n",
      "Tentativas de login: 3\n",
      "Tentativas de login após reset: 0\n"
     ]
    }
   ],
   "source": [
    "class User:\n",
    "    def __init__(self, first_name, last_name, age, email, username):\n",
    "        self.first_name = first_name\n",
    "        self.last_name = last_name\n",
    "        self.age = age\n",
    "        self.email = email\n",
    "        self.username = username\n",
    "        self.login_attempts = 0\n",
    "\n",
    "    def describe_user(self):\n",
    "        print(\"Nome: \" + self.first_name + \" \" + self.last_name)\n",
    "        print(\"Idade: \" + str(self.age))\n",
    "        print(\"Email: \" + self.email)\n",
    "        print(\"Nome de usuário: \" + self.username)\n",
    "\n",
    "    def greet_user(self):\n",
    "        print(\"Olá, \" + self.first_name + \" \" + self.last_name + \"! Seja bem-vindo(a).\")\n",
    "\n",
    "    def increment_login_attempts(self):\n",
    "        \"\"\"Incrementa o número de tentativas de login em 1.\"\"\"\n",
    "        self.login_attempts += 1\n",
    "\n",
    "    def reset_login_attempts(self):\n",
    "        \"\"\"Reseta o número de tentativas de login para 0.\"\"\"\n",
    "        self.login_attempts = 0\n",
    "\n",
    "# Criação de várias instâncias da classe User\n",
    "user1 = User(\"Denilson\", \"Panzo\", 31, \"denilsonpanzo@example.com\", \"depanzo\")\n",
    "user2 = User(\"Emilia\", \"André\", 53, \"emilia.andre@example.com\", \"emiliandre\")\n",
    "user3 = User(\"Eurico\", \"André\", 50, \"eurico.andre@example.com\", \"eurico02\")\n",
    "\n",
    "# Chamando os métodos para cada usuário\n",
    "user1.describe_user()\n",
    "user1.greet_user()\n",
    "\n",
    "print(\"\")  # Adicionando uma linha em branco para separar as saídas\n",
    "user2.describe_user()\n",
    "user2.greet_user()\n",
    "\n",
    "print(\"\")  # Adicionando uma linha em branco para separar as saídas\n",
    "user3.describe_user()\n",
    "user3.greet_user()\n",
    "\n",
    "# Testando os métodos increment_login_attempts e reset_login_attempts\n",
    "test_user = User(\"Test\", \"User\", 25, \"test.user@example.com\", \"testuser\")\n",
    "\n",
    "# Incrementando as tentativas de login (que soma (+) cada um dele que da o resultado de 3)\n",
    "test_user.increment_login_attempts()\n",
    "test_user.increment_login_attempts()\n",
    "test_user.increment_login_attempts()\n",
    "\n",
    "# Exibindo o valor de login_attempts após incrementos\n",
    "print(\"\\nTentativas de login:\", test_user.login_attempts)\n",
    "\n",
    "# Resetando as tentativas de login\n",
    "test_user.reset_login_attempts()\n",
    "\n",
    "# Exibindo o valor de login_attempts após reset\n",
    "print(\"Tentativas de login após reset:\", test_user.login_attempts)"
   ]
  },
  {
   "cell_type": "code",
   "execution_count": 108,
   "id": "386d8fe7-f3df-4afc-bc59-5f3776ca37bd",
   "metadata": {
    "tags": []
   },
   "outputs": [
    {
     "name": "stdout",
     "output_type": "stream",
     "text": [
      "Nome: Denylson Panzo\n",
      "Idade: 31\n",
      "Email: denilsonpanzo@example.com\n",
      "Nome de usuário: depanzo\n",
      "Olá, Denylson Panzo! Seja bem-vindo(a).\n",
      "\n",
      "Privilégios do administrador:\n",
      "- can add post\n",
      "- can delete post\n",
      "- can ban user\n"
     ]
    }
   ],
   "source": [
    "class User:\n",
    "    def __init__(self, first_name, last_name, age, email, username):\n",
    "        self.first_name = first_name\n",
    "        self.last_name = last_name\n",
    "        self.age = age\n",
    "        self.email = email\n",
    "        self.username = username\n",
    "        self.login_attempts = 0\n",
    "\n",
    "    def describe_user(self):\n",
    "        print(\"Nome: \" + self.first_name + \" \" + self.last_name)\n",
    "        print(\"Idade: \" + str(self.age))\n",
    "        print(\"Email: \" + self.email)\n",
    "        print(\"Nome de usuário: \" + self.username)\n",
    "\n",
    "    def greet_user(self):\n",
    "        print(\"Olá, \" + self.first_name + \" \" + self.last_name + \"! Seja bem-vindo(a).\")\n",
    "\n",
    "    def increment_login_attempts(self):\n",
    "        \"\"\"Incrementa o valor de login_attempts em 1.\"\"\"\n",
    "        self.login_attempts += 1\n",
    "\n",
    "    def reset_login_attempts(self):\n",
    "        \"\"\"Reinicia o valor de login_attempts para 0.\"\"\"\n",
    "        self.login_attempts = 0\n",
    "\n",
    "class Admin(User):\n",
    "    def __init__(self, first_name, last_name, age, email, username, privileges=None):\n",
    "        \"\"\"Inicializa os atributos da classe-pai, em seguida, inicializa os atributos específicos de um administrador.\"\"\"\n",
    "        super().__init__(first_name, last_name, age, email, username)\n",
    "        if privileges is None:\n",
    "            privileges = [\"can add post\", \"can delete post\", \"can ban user\"]\n",
    "        self.privileges = privileges\n",
    "\n",
    "    def show_privileges(self):\n",
    "        \"\"\"Mostra os privilégios do administrador.\"\"\"\n",
    "        print(\"\\nPrivilégios do administrador:\")\n",
    "        for privilege in self.privileges:\n",
    "            print(\"- \" + privilege)\n",
    "\n",
    "\n",
    "# Criação de uma instância da classe Admin\n",
    "admin_user = Admin(\"Denylson\", \"Panzo\", 31, \"denilsonpanzo@example.com\", \"depanzo\")\n",
    "\n",
    "# Chamando os métodos da classe Admin\n",
    "admin_user.describe_user()\n",
    "admin_user.greet_user()\n",
    "admin_user.show_privileges()"
   ]
  },
  {
   "cell_type": "markdown",
   "id": "010f3a5f-3401-4bbf-b7db-f5115985d524",
   "metadata": {},
   "source": [
    "**9.8 – Privilégios:** Escreva uma classe **Privileges** separada. A classe deve ter um atributo **privileges** que armazene uma lista de strings conforme descrita no Exercício 9.7. Transfira o método **show_privileges()** para essa classe. Crie uma instância de **Privileges** como um atributo da classe **Admin**. Crie uma nova instância de **Admin** e use seu método para exibir os privilégios."
   ]
  },
  {
   "cell_type": "code",
   "execution_count": 110,
   "id": "771b10f2-c14d-4486-8bf1-d76e0e8588e6",
   "metadata": {
    "tags": []
   },
   "outputs": [
    {
     "name": "stdout",
     "output_type": "stream",
     "text": [
      "Nome: Denylson Panzo\n",
      "Idade: 31\n",
      "Email: denilsonpanzo@example.com\n",
      "Nome de usuário: depanzo\n",
      "Olá, Denylson Panzo! Seja bem-vindo(a).\n",
      "\n",
      "Privilégios do administrador:\n",
      "- can add post\n",
      "- can delete post\n",
      "- can ban user\n"
     ]
    }
   ],
   "source": [
    "class User:\n",
    "    def __init__(self, first_name, last_name, age, email, username):\n",
    "        self.first_name = first_name\n",
    "        self.last_name = last_name\n",
    "        self.age = age\n",
    "        self.email = email\n",
    "        self.username = username\n",
    "        self.login_attempts = 0\n",
    "\n",
    "    def describe_user(self):\n",
    "        print(\"Nome: \" + self.first_name + \" \" + self.last_name)\n",
    "        print(\"Idade: \" + str(self.age))\n",
    "        print(\"Email: \" + self.email)\n",
    "        print(\"Nome de usuário: \" + self.username)\n",
    "\n",
    "    def greet_user(self):\n",
    "        print(\"Olá, \" + self.first_name + \" \" + self.last_name + \"! Seja bem-vindo(a).\")\n",
    "\n",
    "    def increment_login_attempts(self):\n",
    "        \"\"\"Incrementa o valor de login_attempts em 1.\"\"\"\n",
    "        self.login_attempts += 1\n",
    "\n",
    "    def reset_login_attempts(self):\n",
    "        \"\"\"Reinicia o valor de login_attempts para 0.\"\"\"\n",
    "        self.login_attempts = 0\n",
    "\n",
    "\n",
    "class Privileges:\n",
    "    def __init__(self, privileges=None):\n",
    "        \"\"\"Inicializa os atributos dos privilégios.\"\"\"\n",
    "        if privileges is None:\n",
    "            privileges = [\"can add post\", \"can delete post\", \"can ban user\"]\n",
    "        self.privileges = privileges\n",
    "\n",
    "    def show_privileges(self):\n",
    "        \"\"\"Mostra os privilégios do administrador.\"\"\"\n",
    "        print(\"\\nPrivilégios do administrador:\")\n",
    "        for privilege in self.privileges:\n",
    "            print(\"- \" + privilege)\n",
    "\n",
    "\n",
    "class Admin(User):\n",
    "    def __init__(self, first_name, last_name, age, email, username, privileges=None):\n",
    "        \"\"\"Inicializa os atributos da classe-pai, em seguida, inicializa os atributos específicos de um administrador.\"\"\"\n",
    "        super().__init__(first_name, last_name, age, email, username)\n",
    "        self.privileges = Privileges(privileges)\n",
    "\n",
    "\n",
    "# Criação de uma instância da classe Admin\n",
    "admin_user = Admin(\"Denylson\", \"Panzo\", 31, \"denilsonpanzo@example.com\", \"depanzo\")\n",
    "\n",
    "# Chamando os métodos da classe Admin\n",
    "admin_user.describe_user()\n",
    "admin_user.greet_user()\n",
    "admin_user.privileges.show_privileges()"
   ]
  },
  {
   "cell_type": "markdown",
   "id": "7a011112-aff4-46fb-a213-bb34445cd430",
   "metadata": {},
   "source": [
    "**9.9 – Upgrade de bateria:** Use a última versão de electric_car.py desta seção. Acrescente um método chamado **upgrade_battery()** na classe Battery. Esse método deve verificar a capacidade da bateria e defini-la com 85 se o valor for diferente. Crie um carro elétrico com uma capacidade de bateria default, chame **get_range()** uma vez e, em seguida, chame **get_range()** uma segunda vez após fazer um upgrade da bateria. Você deverá ver um aumento na distância que o carro é capaz de percorrer.\n"
   ]
  },
  {
   "cell_type": "code",
   "execution_count": 112,
   "id": "0ee52c88-6e06-428b-930a-bde92fc063cd",
   "metadata": {
    "tags": []
   },
   "outputs": [
    {
     "name": "stdout",
     "output_type": "stream",
     "text": [
      "2016 Tesla Model S\n",
      "Este carro tem 70-kWh de bateria.\n",
      "Este carro pode ir aproximadamente 240 quilômetros com a carga cheia.\n",
      "Bateria atualizada para 85 kWh.\n",
      "Este carro pode ir aproximadamente 270 quilômetros com a carga cheia.\n"
     ]
    }
   ],
   "source": [
    "class Car(): \n",
    "    \"\"\"Uma tentativa simples de representar um carro.\"\"\"\n",
    "    def __init__(self, make, model, year): \n",
    "        self.make = make \n",
    "        self.model = model \n",
    "        self.year = year \n",
    "        self.odometer_reading = 0\n",
    "        \n",
    "    def get_descriptive_name(self): \n",
    "        long_name = str(self.year) + ' ' + self.make + ' ' + self.model \n",
    "        return long_name.title()\n",
    "    \n",
    "    def read_odometer(self): \n",
    "        print(\"Este carro tem \" + str(self.odometer_reading) + \" milhas.\")\n",
    "        \n",
    "    def update_odometer(self, mileage): \n",
    "        if mileage >= self.odometer_reading: \n",
    "            self.odometer_reading = mileage \n",
    "        else: \n",
    "            print(\"Você não pode retroceder o hodômetro!\")\n",
    "        \n",
    "    def increment_odometer(self, miles): \n",
    "        self.odometer_reading += miles\n",
    "\n",
    "    def fill_gas_tank(self):\n",
    "        \"\"\"Enche o tanque de gasolina.\"\"\"\n",
    "        print(\"Enchendo o tanque de gasolina...\")\n",
    "        \n",
    "class Battery():\n",
    "    \"\"\"Uma tentativa simples de modelar uma bateria para um carro elétrico.\"\"\"\n",
    "    def __init__(self, battery_size=70):\n",
    "        \"\"\"Inicializa os atributos da bateria.\"\"\"\n",
    "        self.battery_size = battery_size\n",
    "        \n",
    "    def describe_battery(self):\n",
    "        \"\"\"Exibe uma frase que descreve a capacidade da bateria.\"\"\"\n",
    "        print(\"Este carro tem \" + str(self.battery_size) + \"-kWh de bateria.\")\n",
    "        \n",
    "    def get_range(self):\n",
    "        \"\"\"Exibe uma frase sobre a distância que o carro é capaz de percorrer com essa bateria.\"\"\"\n",
    "        if self.battery_size == 70:\n",
    "            range = 240\n",
    "        elif self.battery_size == 85:\n",
    "            range = 270\n",
    "        else:\n",
    "            range = \"uma quantidade desconhecida de\"\n",
    "        \n",
    "        message = \"Este carro pode ir aproximadamente \" + str(range)\n",
    "        message += \" quilômetros com a carga cheia.\"\n",
    "        print(message)\n",
    "    \n",
    "    \n",
    "    def upgrade_battery(self):\n",
    "        \"\"\"Verifica a capacidade da bateria e define para 85 se o valor for diferente.\"\"\"\n",
    "        if self.battery_size != 85:\n",
    "            self.battery_size = 85\n",
    "            print(\"Bateria atualizada para 85 kWh.\")\n",
    "        else:\n",
    "            print(\"A bateria já está atualizada.\")\n",
    "\n",
    "class ElectricCar(Car):\n",
    "    \"\"\"Representa aspectos específicos de veículos elétricos\"\"\"\n",
    "    def __init__(self, make, model, year):\n",
    "        \"\"\"\n",
    "        Inicializa os atributos da classe pai, em seguida, \n",
    "        inicializa os atributos específicos de um carro elétrico\n",
    "        \"\"\"\n",
    "        super().__init__(make, model, year)\n",
    "        self.battery = Battery()\n",
    "\n",
    "    def fill_gas_tank(self):\n",
    "        \"\"\"Veículos elétricos não possuem tanque de gasolina.\"\"\"\n",
    "        print(\"Este carro não precisa de um tanque de gasolina!\")\n",
    "\n",
    "my_tesla = ElectricCar('tesla', 'model s', 2016)   \n",
    "print(my_tesla.get_descriptive_name())\n",
    "my_tesla.battery.describe_battery() # instância.atributo.método\n",
    "my_tesla.battery.get_range()\n",
    "\n",
    "# Atualiza a bateria e verifica a nova autonomia\n",
    "my_tesla.battery.upgrade_battery()\n",
    "my_tesla.battery.get_range()"
   ]
  },
  {
   "cell_type": "markdown",
   "id": "98bcc374-f130-4a7c-a952-56bf32989b99",
   "metadata": {},
   "source": [
    "*****"
   ]
  },
  {
   "cell_type": "markdown",
   "id": "fe60f195-0182-4106-bf2c-feac229f0bfb",
   "metadata": {},
   "source": [
    "## **Importando classes**"
   ]
  },
  {
   "cell_type": "markdown",
   "id": "1648cacf-616e-4bd7-9aef-f2886de964e5",
   "metadata": {},
   "source": [
    "À medida que acrescentar mais funcionalidades às classes, seus arquivos ficarão maiores, mesmo quando usar <code>**herança**</code> de forma apropriada. Para estar de acordo com a filosofia geral de Python, quanto menos entulhados estiverem seus arquivos, melhor será. Para ajudar, **Python permite armazenar classes em módulos e então importar as classes necessárias em seu programa principal.**"
   ]
  },
  {
   "cell_type": "markdown",
   "id": "21617dce-07e9-49c7-8c84-8e7637a26801",
   "metadata": {},
   "source": [
    "### Importando **uma única classe**"
   ]
  },
  {
   "cell_type": "markdown",
   "id": "bcb5e8f9-39e1-41db-808d-bd66284f5bf1",
   "metadata": {},
   "source": [
    "Vamos criar um módulo que contenha apenas a classe Car. Isso cria um problema sutil de nomenclatura: já temos um arquivo chamado car.py neste capítulo, mas esse módulo deve se chamar car.py porque contém código que representa um carro. Resolveremos esse problema de nomenclatura armazenando a **classe Car** em um módulo chamado car.py, substituindo o arquivo car.py que estávamos usando antes. A partir de agora, qualquer programa que use esse módulo precisará de um nome de arquivo mais específico, por exemplo, my_car.py. Eis o arquivo car.py somente com o código da classe Car:"
   ]
  },
  {
   "cell_type": "code",
   "execution_count": 118,
   "id": "a84d9d3b-b57d-4fe9-b8bc-59a01b5083b9",
   "metadata": {
    "tags": []
   },
   "outputs": [
    {
     "name": "stdout",
     "output_type": "stream",
     "text": [
      "2016 Audi A4\n",
      "Este carro tem 23 milhas.\n"
     ]
    }
   ],
   "source": [
    "from my_car import Car\n",
    "\n",
    "my_new_car = Car('audi', 'a4', 2016) \n",
    "print(my_new_car.get_descriptive_name())\n",
    "my_new_car.odometer_reading = 23\n",
    "my_new_car.read_odometer() "
   ]
  },
  {
   "cell_type": "markdown",
   "id": "7714f263-73a6-45d0-a87d-bb9852fb9f63",
   "metadata": {},
   "source": [
    "**Importar <code>classes</code> é uma maneira eficiente de programar**. Imagine o tamanho que esse programa teria se a **'classe Car'** inteira estivesse incluída. **Quando transferimos a classe para um módulo e o importamos, continuamos usufruindo da mesma funcionalidade, porém o arquivo com o programa principal permanece limpo e fácil de ler. Também armazenamos a maior parte da lógica em arquivos separados**; depois que suas classes estiverem funcionando conforme esperado, você poderá deixar de lado esses arquivos e se concentrar na lógica de mais alto nível de seu programa principal."
   ]
  },
  {
   "cell_type": "markdown",
   "id": "187eb1c7-2ea0-4895-ad30-507eeb40652d",
   "metadata": {},
   "source": [
    "### Armazenando <code>**várias classes em um módulo**</code>"
   ]
  },
  {
   "cell_type": "markdown",
   "id": "d7aa8938-0a74-4e98-8169-1026095383d6",
   "metadata": {},
   "source": [
    "**Você pode armazenar tantas classes quantas forem necessárias em um único módulo, embora cada classe em um módulo deva estar, de algum modo, relacionada com outra classe**. Ambas as classes, **Battery e ElectricCar**, ajudam a representar carros, portanto vamos acrescentá-las ao módulo **car.py**:"
   ]
  },
  {
   "cell_type": "code",
   "execution_count": 122,
   "id": "818509f6-a70a-4a84-9588-95e86d5d7f53",
   "metadata": {
    "tags": []
   },
   "outputs": [
    {
     "name": "stdout",
     "output_type": "stream",
     "text": [
      "2016 Tesla Model S\n",
      "Este carro tem 70-kWh de bateria.\n",
      "Este carro pode ir aproximadamente 240 quilômetros com a carga cheia.\n"
     ]
    }
   ],
   "source": [
    "from my_car import ElectricCar\n",
    "\n",
    "my_tesla = ElectricCar('tesla', 'model s', 2016)   \n",
    "print(my_tesla.get_descriptive_name())\n",
    "my_tesla.battery.describe_battery() \n",
    "my_tesla.battery.get_range()"
   ]
  },
  {
   "cell_type": "markdown",
   "id": "21856910-38d8-48d9-b6b8-a732d1964074",
   "metadata": {},
   "source": [
    "**Esse código gera a mesma saída que vimos antes, embora a maior parte da lógica esteja oculta em um módulo.**"
   ]
  },
  {
   "cell_type": "markdown",
   "id": "87bcb19b-2247-49df-a5f5-75fffa33620e",
   "metadata": {},
   "source": [
    "### Importando <code>**várias classes de um módulo**</coce>"
   ]
  },
  {
   "cell_type": "markdown",
   "id": "927d63b8-c0a8-4214-a1e6-30921f1539df",
   "metadata": {},
   "source": [
    "**Podemos importar quantas classes forem necessárias em um arquivo de programa**. Se quisermos criar um carro comum e um carro elétrico no mesmo arquivo, precisaremos importar tanto a **classe Car quanto a classe ElectricCar**:"
   ]
  },
  {
   "cell_type": "code",
   "execution_count": 168,
   "id": "be57030b-9875-47bd-8ada-5c4a91d88b7e",
   "metadata": {
    "tags": []
   },
   "outputs": [
    {
     "name": "stdout",
     "output_type": "stream",
     "text": [
      "2016 Volkswagen Beetle\n",
      "2016 Tesla Roadster\n"
     ]
    }
   ],
   "source": [
    "from my_car import Car, ElectricCar\n",
    "\n",
    "my_beetle = Car('Volkswagen', 'beetle', 2016)\n",
    "print(my_beetle.get_descriptive_name())\n",
    "my_tesla = ElectricCar('tesla', 'roadster', 2016)\n",
    "print(my_tesla.get_descriptive_name())"
   ]
  },
  {
   "cell_type": "markdown",
   "id": "e05ec46c-8753-44e0-9f96-9066a8b3c4ed",
   "metadata": {},
   "source": [
    "**<code>Importe várias classes de um módulo separando cada classe com uma vírgula (,)</code>. Depois que importar as classes de que precisará, você poderá criar quantas instâncias de cada classe quantas forem necessárias.**"
   ]
  },
  {
   "cell_type": "markdown",
   "id": "fedc5645-7df6-4e23-aa46-b15f53f8db8a",
   "metadata": {},
   "source": [
    "### Importando <code>**um módulo completo**</code>"
   ]
  },
  {
   "cell_type": "markdown",
   "id": "28e0e54c-64ec-41b3-ba1a-98c781c4950c",
   "metadata": {},
   "source": [
    "**Também podemos importar um módulo completo e então acessar as classes necessárias usando a notação de ponto (.)**. Essa abordagem é simples e resulta em um código fácil de ler. **Como toda chamada que cria uma instância de uma classe inclui o nome do módulo, você não terá conflito de nomes com qualquer nome usado no arquivo atual.**\n",
    "Eis a aparência do código para importar o módulo car inteiro e então criar um carro comum e um carro elétrico: "
   ]
  },
  {
   "cell_type": "code",
   "execution_count": 179,
   "id": "2a686c21-cd02-4be2-8e11-5407d152ab14",
   "metadata": {
    "tags": []
   },
   "outputs": [
    {
     "name": "stdout",
     "output_type": "stream",
     "text": [
      "2016 Volkswagen Beetle\n",
      "2016 Tesla Roadster\n"
     ]
    }
   ],
   "source": [
    "import my_car\n",
    "\n",
    "my_beetle =my_car.Car('volkswagen', 'beetle', 2016)\n",
    "print(my_beetle.get_descriptive_name())\n",
    "my_tesla =my_car.ElectricCar('tesla', 'roadster', 2016)\n",
    "print(my_tesla.get_descriptive_name())"
   ]
  },
  {
   "cell_type": "markdown",
   "id": "bebf512d-0835-4a03-8b45-033b71cab04f",
   "metadata": {},
   "source": [
    "Em importamos o módulo car inteiro. Então acessamos as classes necessárias por meio da sintaxe **<code>nome_do_módulo.nome_da_classe</code>.**"
   ]
  },
  {
   "cell_type": "markdown",
   "id": "cd5023e5-6944-415c-8813-b38237c6b60a",
   "metadata": {},
   "source": [
    "### Importando <code>**todas as classes de um módulo**</code>"
   ]
  },
  {
   "cell_type": "markdown",
   "id": "103ea351-f0f4-4795-873d-4845bf60ccc0",
   "metadata": {},
   "source": [
    "Você pode importar todas as classes de um módulo usando a sintaxe a seguir: <code>**from nome_do_módulo import***</code>\n",
    "\n",
    "Esse método não é recomendado por dois motivos. **Em primeiro lugar, é conveniente ser capaz de ler as instruções <code>import </code> no início de um arquivo e ter uma noção clara de quais classes um programa utiliza**. Com essa abordagem, não fica claro quais são as classes do módulo que você está usando. Essa abordagem também pode resultar em confusão com nomes presentes no arquivo. **Se você acidentalmente importar uma classe com o mesmo nome que outro item em seu arquivo de programa, poderá gerar erros difíceis de serem diagnosticados**. Estou mostrando essa opção aqui porque, embora não seja uma abordagem recomendada, é provável que você vá vê-la no código de outras pessoas.\n",
    "\n",
    "**Se precisar importar muitas classes de um módulo, é melhor importar o módulo todo e usar a sintaxe <code>nome_do_módulo.nome_da_classe</code>. Você não verá todas as classes usadas no início do arquivo, mas verá claramente em que lugares o módulo é utilizado no programa**. Possíveis conflitos de nomes que possam ocorrer ao importar todas as classes de um módulo também serão evitados."
   ]
  },
  {
   "cell_type": "markdown",
   "id": "7e1f02b8-cf3c-4385-af4c-4353ee53a991",
   "metadata": {},
   "source": [
    "### Importando <code>**um módulo em um módulo**</code>"
   ]
  },
  {
   "cell_type": "markdown",
   "id": "c9fde606-cf30-424c-91d8-fe696522c9fc",
   "metadata": {},
   "source": [
    "Às vezes, você vai querer espalhar suas classes em vários módulos para impedir que um arquivo cresça demais e evitar a armazenagem de classes não relacionadas no mesmo módulo. **Ao armazenar suas classes em vários módulos, você poderá descobrir que uma classe em um módulo depende de uma classe que está em outro módulo. Se isso acontecer, importe a classe necessária no primeiro módulo.**\n",
    "\n",
    "Por exemplo, **vamos armazenar a classe Car em um módulo e as classes ElectricCar e Battery em um módulo separado**. Criaremos um novo módulo chamado **electric_car.py** – substituindo o arquivo electric_car.py que criamos antes – e copiaremos apenas as **classes Battery e ElectricCar** para esse arquivo: **electric_car.py \"\"\"Um conjunto de classes que pode ser usado para representar carros elétricos.\"\"\"**"
   ]
  },
  {
   "cell_type": "code",
   "execution_count": 2,
   "id": "4743b37d-c57f-4134-974c-d2f23b167d4a",
   "metadata": {
    "tags": []
   },
   "outputs": [],
   "source": [
    "from my_car import Car #Usei este import no modulo electric_car para conseguir funcionar as duas"
   ]
  },
  {
   "cell_type": "markdown",
   "id": "e37bc49f-1205-474a-b644-e0baffa455c8",
   "metadata": {},
   "source": [
    "Por exemplo, **vamos armazenar a classe Car em um módulo e as classes ElectricCar e Battery em um módulo separado. Criaremos um novo módulo chamado electric_car.py** – substituindo o arquivo electric_car.py que criamos antes – e copiaremos apenas as classes Battery e ElectricCar para esse arquivo: **car.py \"\"\"Uma classe que pode ser usada para representar um carro.\"\"\"**\n"
   ]
  },
  {
   "cell_type": "markdown",
   "id": "d4686b2c-a8a7-4c20-abb8-9227c87c10ba",
   "metadata": {},
   "source": [
    "**Agora podemos fazer a importação de cada módulo separadamente e criar o tipo de carro que for necessário: my_cars.py**"
   ]
  },
  {
   "cell_type": "code",
   "execution_count": 4,
   "id": "e6bcf206-7b31-46d1-a992-9b4dc67ff941",
   "metadata": {
    "tags": []
   },
   "outputs": [
    {
     "name": "stdout",
     "output_type": "stream",
     "text": [
      "2016 Volkswagen Beetle\n",
      "2016 Tesla Roadster\n"
     ]
    }
   ],
   "source": [
    "from my_car import Car \n",
    "from electric_car import ElectricCar\n",
    "\n",
    "my_beetle = Car('volkswagen', 'beetle', 2016) \n",
    "print(my_beetle.get_descriptive_name())\n",
    "my_tesla = ElectricCar('tesla', 'roadster', 2016) \n",
    "print(my_tesla.get_descriptive_name())"
   ]
  },
  {
   "cell_type": "markdown",
   "id": "15d5756c-dd2d-41da-b1b4-4b9284612bed",
   "metadata": {},
   "source": [
    "### Definindo o seu próprio fluxo de trabalho"
   ]
  },
  {
   "cell_type": "markdown",
   "id": "d007f541-d6e7-4a78-b53c-3144f0d59062",
   "metadata": {},
   "source": [
    "Como podemos ver, Python oferece muitas opções para estruturar o código em um projeto de grande porte. É importante conhecer todas essas possibilidades para que você possa determinar a melhor maneira de organizar seus projetos, assim como entender o projeto de outras pessoas.\n",
    "\n",
    "Quando estiver começando a programar, mantenha a estrutura de seu código simples. **Procure fazer tudo em um só arquivo e transfira suas classes para módulos separados depois que tudo estiver funcionando. Se gostar do modo como os módulos e os arquivos interagem, experimente armazenar suas classes em módulos quando iniciar um projeto**. Encontre uma abordagem que permita escrever um código que funcione, e comece a partir daí."
   ]
  },
  {
   "cell_type": "markdown",
   "id": "1dbaa817-4c75-4b38-ae3e-ca4db121fabb",
   "metadata": {},
   "source": [
    "## **FAÇA VOCÊ MESMO**"
   ]
  },
  {
   "cell_type": "markdown",
   "id": "1a9e739c-e5ee-4a9b-ba4f-9408340bce5b",
   "metadata": {},
   "source": [
    "**9.10 – Importando Restaurant:** Usando sua classe **Restaurant** mais recente, armazene-a em um módulo. Crie um arquivo separado que importe **Restaurant**. Crie uma instância de **Restaurant** e chame um de seus métodos para mostrar que a instrução import funciona de forma apropriada."
   ]
  },
  {
   "cell_type": "code",
   "execution_count": 2,
   "id": "277f43d8-72e9-477a-a113-682e2f295508",
   "metadata": {
    "tags": []
   },
   "outputs": [
    {
     "name": "stdout",
     "output_type": "stream",
     "text": [
      "Delícias de Angola\n",
      "Angolana\n",
      "O restaurante Delícias de Angola serve culinária Angolana.\n",
      "O restaurante Delícias de Angola está aberto.\n",
      "Número de clientes atendidos: 0\n",
      "Número de clientes atendidos após atualização: 5\n",
      "Número de clientes atendidos após set_number_served: 20\n",
      "Número de clientes atendidos após increment_number_served: 45\n"
     ]
    }
   ],
   "source": [
    "from my_restaurant import Restaurant\n",
    "\n",
    "# Criação de uma instância da classe Restaurant\n",
    "restaurant = Restaurant(\"Delícias de Angola\", \"Angolana\")\n",
    "\n",
    "# Mostrando os atributos individualmente\n",
    "print(restaurant.restaurant_name)\n",
    "print(restaurant.cuisine_type)\n",
    "\n",
    "# Chamando os métodos\n",
    "restaurant.describe_restaurant()\n",
    "restaurant.open_restaurant()\n",
    "\n",
    "# Apresentando o número de clientes atendidos\n",
    "print(\"Número de clientes atendidos:\", restaurant.number_served)\n",
    "\n",
    "# Mudando o valor de number_served e exibindo-o novamente\n",
    "restaurant.number_served = 5\n",
    "print(\"Número de clientes atendidos após atualização:\", restaurant.number_served)\n",
    "\n",
    "# Usando o método set_number_served para definir o número de clientes atendidos\n",
    "restaurant.set_number_served(20)\n",
    "print(\"Número de clientes atendidos após set_number_served:\", restaurant.number_served)\n",
    "\n",
    "# Usando o método increment_number_served para incrementar o número de clientes atendidos\n",
    "restaurant.increment_number_served(25)\n",
    "print(\"Número de clientes atendidos após increment_number_served:\", restaurant.number_served)"
   ]
  },
  {
   "cell_type": "markdown",
   "id": "93422ef8-eed7-491d-9dd4-061f91939de8",
   "metadata": {},
   "source": [
    "**9.11 – Importando Admin:** Comece com seu programa do Exercício 9.8 (página 241). Armazene as classes **User, Privileges e Admin** em um módulo. Crie um arquivo separado e uma instância de **Admin** e chame **show_privileges()** para mostrar que tudo está funcionando de forma apropriada."
   ]
  },
  {
   "cell_type": "code",
   "execution_count": 13,
   "id": "bb096135-7d1d-4043-a6b1-37aff8f26de7",
   "metadata": {
    "tags": []
   },
   "outputs": [
    {
     "name": "stdout",
     "output_type": "stream",
     "text": [
      "\n",
      "Privilégios do administrador:\n",
      "- can add post\n",
      "- can delete post\n",
      "- can ban user\n"
     ]
    }
   ],
   "source": [
    "from my_admin import Admin\n",
    "\n",
    "# Criação de uma instância da classe Admin\n",
    "admin_user = Admin(\"Denylson\", \"Panzo\", 31, \"denilsonpanzo@example.com\", \"depanzo\")\n",
    "\n",
    "# chame show_privileges()\n",
    "admin_user.privileges.show_privileges()"
   ]
  },
  {
   "cell_type": "markdown",
   "id": "e26ba75b-f427-4dfa-8c0c-c14219732956",
   "metadata": {},
   "source": [
    "**9.12 – Vários módulos:** Armazene a classe **User** em um módulo e as classes **Privileges** e **Admin** em um módulo separado. Em outro arquivo, crie uma instância de **Admin** e chame **show_privileges()** para mostrar que tudo continua funcionando de forma apropriada."
   ]
  },
  {
   "cell_type": "code",
   "execution_count": 15,
   "id": "2d12b7c8-d1a6-43b6-9968-f5ffc4b085b6",
   "metadata": {
    "tags": []
   },
   "outputs": [
    {
     "name": "stdout",
     "output_type": "stream",
     "text": [
      "\n",
      "Privilégios do administrador:\n",
      "- can add post\n",
      "- can delete post\n",
      "- can ban user\n"
     ]
    }
   ],
   "source": [
    "from my_privileges import Privileges\n",
    "\n",
    "# Criação de uma instância da classe Admin\n",
    "admin_user = Admin(\"Denylson\", \"Panzo\", 31, \"denilsonpanzo@example.com\", \"depanzo\")\n",
    "\n",
    "# chame show_privileges()\n",
    "admin_user.privileges.show_privileges()"
   ]
  },
  {
   "cell_type": "markdown",
   "id": "019822b4-c07d-4e4d-abc6-0d7195c1bcba",
   "metadata": {},
   "source": [
    "*****"
   ]
  },
  {
   "cell_type": "markdown",
   "id": "bf7fbac3-fec9-4093-a89e-4f7302621ef0",
   "metadata": {},
   "source": [
    "## **Biblioteca-padrão de Python**"
   ]
  },
  {
   "cell_type": "markdown",
   "id": "d3c18414-9598-4fa5-bd2c-c5172f463e26",
   "metadata": {},
   "source": [
    "A **<code>biblioteca-padrão de Python</code> é um conjunto de módulos incluído em todas as instalações de Python**. Agora que temos uma compreensão básica de como as classes funcionam, podemos começar a usar módulos como esses, escritos por outros programadores. Podemos usar qualquer <code>**função ou classe da biblioteca-padrão**</code> incluindo uma instrução <code>**import simples**</code> no início do arquivo. Vamos analisar a **classe <code>OrderedDict do módulo collections</code>**.\n",
    "\n",
    "Os <code>**dicionários**</code> permitem associar informações, mas eles não mantêm um controle da ordem em que os <code>**pares chave-valor**</code> são acrescentados. **Se você estiver criando um dicionário e quiser manter o controle da ordem em que os pares chave-valor são adicionados, a classe <code>OrderedDict do módulo collections</code> poderá ser usada. <code>Instâncias da classe OrderedDict</code> se comportam quase do mesmo modo que os dicionários, exceto que mantêm o controle da ordem em que os <code>pares chave-valor</code> são adicionados.**\n",
    "\n",
    "Vamos retomar o exemplo **favorite_languages.py** do Capítulo 6. Dessa vez, vamos manter o controle da ordem em que as pessoas responderam à enquete:"
   ]
  },
  {
   "cell_type": "code",
   "execution_count": 4,
   "id": "3db00233-a078-4dc2-915a-12dd469270df",
   "metadata": {
    "tags": []
   },
   "outputs": [
    {
     "name": "stdout",
     "output_type": "stream",
     "text": [
      "Jen's favorite language is Python.\n",
      "Sarah's favorite language is C.\n",
      "Edward's favorite language is Ruby.\n",
      "Phil's favorite language is Python.\n"
     ]
    }
   ],
   "source": [
    "from collections import OrderedDict\n",
    "\n",
    "favorite_languages = OrderedDict()\n",
    "favorite_languages['jen'] ='python'\n",
    "favorite_languages['sarah'] ='c'\n",
    "favorite_languages['edward'] ='ruby'\n",
    "favorite_languages['phil'] ='python'\n",
    "\n",
    "for name, language in favorite_languages.items():\n",
    "    print(name.title() + \"'s favorite language is \" + language.title() + \".\")\n",
    "    "
   ]
  },
  {
   "cell_type": "markdown",
   "id": "54f299ae-237e-4ffe-b7e0-10abbe50d90e",
   "metadata": {
    "tags": []
   },
   "source": [
    "Começamos **importando a classe <code>OrderedDict do módulo collections</code>. E criamos uma <code>instância da classe OrderedDict</code> e a armazenamos em 'favorite_languages'. Observe que não há chaves**; a chamada a <code>**OrderedDict()**</code> cria um dicionário ordenado vazio para nós e o armazena em **'favorite_languages'**. Então adicionamos cada nome e linguagem em **'favorite_languages'**, um de cada vez. Agora, quando **percorremos 'favorite_languages' com um laço e, sabemos que sempre teremos as respostas na ordem em que os itens foram adicionados.**"
   ]
  },
  {
   "cell_type": "markdown",
   "id": "d13d941b-f024-445e-b177-1cb8b2493662",
   "metadata": {},
   "source": [
    "**É uma ótima classe para conhecer, pois combina a principal vantagem das <code>listas</code> (preservar a ordem original) com o principal recurso dos <code>dicionários</code> (associar informações)**. Quando começar a modelar situações do mundo real que sejam de seu interesse, é provável que você vá se deparar com uma situação em que um dicionário ordenado seja exatamente o que você precisa. À medida que conhecer melhor a <code>**biblioteca-padrão**</code>, você passará a ter familiaridade com vários módulos como esse, que ajudam a tratar situações comuns.\n",
    "\n",
    "**NOTA**   \n",
    "Você também pode fazer download de módulos de fontes externas. Veremos vários desses exemplos na Parte II, quando precisaremos de módulos externos para concluir cada projeto."
   ]
  },
  {
   "cell_type": "markdown",
   "id": "bb341620-64cc-4258-93a7-4c800a68b34b",
   "metadata": {},
   "source": [
    "## **FAÇA VOCÊ MESMO**"
   ]
  },
  {
   "cell_type": "markdown",
   "id": "05b0a701-11c9-476e-923d-50ab923875b6",
   "metadata": {},
   "source": [
    "**9.13 – Reescrevendo o programa com OrderedDict:** Comece com o Exercício 6.4 (página 155), em que usamos um dicionário-padrão para representar um glossário. Reescreva o programa usando a classe **OrderedDict** e certifique-se de que a ordem da saída coincida com a ordem em que os pares chave-valor foram adicionados ao dicionário."
   ]
  },
  {
   "cell_type": "code",
   "execution_count": 26,
   "id": "9651f1f6-635e-4cc5-84b6-853613a593c3",
   "metadata": {
    "tags": []
   },
   "outputs": [
    {
     "name": "stdout",
     "output_type": "stream",
     "text": [
      "\n",
      "Palavras: Variável\n",
      "Significado: Um espaço nomeado na memória do computador que armazena um valor.\n",
      "\n",
      "Palavras: Função\n",
      "Significado: Um bloco de código que executa uma tarefa específica e pode ser chamado quando necessário.\n",
      "\n",
      "Palavras: Loop\n",
      "Significado: Uma estrutura de controle que permite a execução repetida de um bloco de código enquanto uma condição for verdadeira.\n",
      "\n",
      "Palavras: Lista\n",
      "Significado: Uma coleção ordenada de elementos que podem ser de diferentes tipos, acessíveis por índices.\n",
      "\n",
      "Palavras: Dicionário\n",
      "Significado: Uma coleção de pares chave-valor, onde cada chave é única e associada a um valor.\n",
      "\n",
      "Palavras: Classe\n",
      "Significado: Um modelo que define um conjunto de propriedades e métodos comuns a todos os objetos de um certo tipo.\n",
      "\n",
      "Palavras: Objeto\n",
      "Significado: Uma instância de uma classe, contendo dados e métodos definidos na classe.\n",
      "\n",
      "Palavras: Módulo\n",
      "Significado: Um arquivo que contém definições e implementações de funções, variáveis e classes que podem ser importados e utilizados em outros scripts.\n",
      "\n",
      "Palavras: Exceção\n",
      "Significado: Um evento que ocorre durante a execução de um programa e interrompe o fluxo normal das instruções, geralmente utilizado para indicar erros.\n",
      "\n",
      "Palavras: Compreensão de lista\n",
      "Significado: Uma maneira concisa de criar listas usando uma única linha de código, geralmente combinando loops e condições.\n"
     ]
    }
   ],
   "source": [
    "from collections import OrderedDict\n",
    "glosssario = OrderedDict()\n",
    "\n",
    "glossario = {\n",
    "    'Variável': 'Um espaço nomeado na memória do computador que armazena um valor.',\n",
    "    'Função': 'Um bloco de código que executa uma tarefa específica e pode ser chamado quando necessário.',\n",
    "    'Loop': 'Uma estrutura de controle que permite a execução repetida de um bloco de código enquanto uma condição for verdadeira.',\n",
    "    'Lista': 'Uma coleção ordenada de elementos que podem ser de diferentes tipos, acessíveis por índices.',\n",
    "    'Dicionário': 'Uma coleção de pares chave-valor, onde cada chave é única e associada a um valor.',\n",
    "    'Classe': 'Um modelo que define um conjunto de propriedades e métodos comuns a todos os objetos de um certo tipo.',\n",
    "    'Objeto': 'Uma instância de uma classe, contendo dados e métodos definidos na classe.',\n",
    "    'Módulo': 'Um arquivo que contém definições e implementações de funções, variáveis e classes que podem ser importados e utilizados em outros scripts.',\n",
    "    'Exceção': 'Um evento que ocorre durante a execução de um programa e interrompe o fluxo normal das instruções, geralmente utilizado para indicar erros.',\n",
    "    'Compreensão de lista': 'Uma maneira concisa de criar listas usando uma única linha de código, geralmente combinando loops e condições.'\n",
    "}\n",
    "\n",
    "for k, v in glossario.items():\n",
    "    print(\"\\nPalavras: \" + k)\n",
    "    print(\"Significado: \" + v)"
   ]
  },
  {
   "cell_type": "markdown",
   "id": "2c118d6f-0e29-424c-b548-4a0db2b6f49a",
   "metadata": {},
   "source": [
    "**9.14 – Dados:** O módulo **random** contém funções que geram números aleatórios de várias maneiras. A função **randint()** devolve um inteiro no intervalo especificado por você. O código a seguir devolve um número entre 1 e 6: from random import randint x = randint(1, 6)\n",
    "+ Crie uma classe **Die** com um atributo chamado **sides**, cujo valor default é 6. Escreva um método chamado **roll_die()** que exiba um número aleatório entre 1 e o número de lados do dado. Crie um dado de seis dados e lance-o dez vezes.\n",
    "+ Crie um dado de dez lados e outro de vinte lados. Lance cada dado dez vezes."
   ]
  },
  {
   "cell_type": "code",
   "execution_count": 29,
   "id": "aa5aa7a6-cf4e-474b-918d-5efe73c68515",
   "metadata": {
    "tags": []
   },
   "outputs": [
    {
     "name": "stdout",
     "output_type": "stream",
     "text": [
      "Lançando um dado de 6 lados 10 vezes:\n",
      "2\n",
      "1\n",
      "6\n",
      "5\n",
      "5\n",
      "1\n",
      "2\n",
      "4\n",
      "6\n",
      "5\n",
      "\n",
      "Lançando um dado de 10 lados 10 vezes:\n",
      "9\n",
      "7\n",
      "7\n",
      "10\n",
      "5\n",
      "6\n",
      "7\n",
      "10\n",
      "4\n",
      "2\n",
      "\n",
      "Lançando um dado de 20 lados 10 vezes:\n",
      "14\n",
      "2\n",
      "3\n",
      "17\n",
      "10\n",
      "9\n",
      "18\n",
      "13\n",
      "12\n",
      "17\n"
     ]
    }
   ],
   "source": [
    "import random\n",
    "\n",
    "class Die:\n",
    "    def __init__(self, sides=6):\n",
    "        \"\"\"Inicializa o dado com o número de lados especificado, default é 6.\"\"\"\n",
    "        self.sides = sides\n",
    "\n",
    "    def roll_die(self):\n",
    "        \"\"\"Exibe um número aleatório entre 1 e o número de lados do dado.\"\"\"\n",
    "        return random.randint(1, self.sides)\n",
    "\n",
    "# Criação de um dado de seis lados e lançamento 10 vezes\n",
    "die_6 = Die()\n",
    "print(\"Lançando um dado de 6 lados 10 vezes:\")\n",
    "for _ in range(10):\n",
    "    print(die_6.roll_die())\n",
    "\n",
    "# Criação de um dado de dez lados e lançamento 10 vezes\n",
    "die_10 = Die(10)\n",
    "print(\"\\nLançando um dado de 10 lados 10 vezes:\")\n",
    "for _ in range(10):\n",
    "    print(die_10.roll_die())\n",
    "\n",
    "# Criação de um dado de vinte lados e lançamento 10 vezes\n",
    "die_20 = Die(20)\n",
    "print(\"\\nLançando um dado de 20 lados 10 vezes:\")\n",
    "for _ in range(10):\n",
    "    print(die_20.roll_die())"
   ]
  },
  {
   "cell_type": "markdown",
   "id": "d696082c-d25c-44e8-9dc9-97c4d7e25206",
   "metadata": {},
   "source": [
    "**9.15 – Módulo Python da semana:** Um excelente recurso para explorar a biblioteca-padrão de Python é um site chamado Python Module of the Week (Módulo Python da semana). Acesse http://pymotw.com/ e observe a tabela de conteúdo. Encontre um módulo que pareça ser interessante e leia a sua descrição ou explore a documentação dos módulos **collections e random**.\n"
   ]
  },
  {
   "cell_type": "markdown",
   "id": "e091de86-9dea-40e8-b6c3-067ba3ea96ab",
   "metadata": {},
   "source": [
    "*****"
   ]
  },
  {
   "cell_type": "markdown",
   "id": "573f549f-5aee-47e6-9dbb-ea1d7048d92e",
   "metadata": {},
   "source": [
    "## **Estilizando classes**"
   ]
  },
  {
   "cell_type": "markdown",
   "id": "a4217abf-73ce-4348-9757-35b84d8bd7f9",
   "metadata": {},
   "source": [
    "Vale a pena esclarecer algumas questões ligadas à estilização de classes, em especial quando seus programas se tornarem mais complexos.\n",
    "**Os nomes das classes devem ser escritos com <code>CamelCaps</code>. Para isso, cada palavra do nome deve ter a primeira letra maiúscula, e você não deve usar underscores. Nomes de <code>instâncias e de módulos</code> devem ser escritos com letras minúsculas e underscores entre as palavras.**\n",
    "\n",
    "**Toda classe deve ter uma <code>docstring (\"\"\"...\"\"\")</code> logo depois de sua definição. A <code>docstring (\"\"\"...\"\"\")</code> deve conter uma breve descrição do que a classe faz, e as mesmas convenções de formatação devem ser usadas para escrever docstrings em funções. Cada módulo também deve ter uma docstring que descreva para que servem as classes de um módulo.**\n",
    "\n",
    "Podemos usar linhas em branco para organizar o código, mas você não deve utilizá-las de modo excessivo. **Em uma classe, podemos usar uma linha em branco entre os métodos; em um módulo, podemos usar duas linhas em branco para separar as classes.**\n",
    "\n",
    "**Se houver necessidade de importar um módulo da <code>biblioteca-padrão</code> e um módulo escrito por você, coloque a instrução de importação do módulo da <code>biblioteca-padrão</code> antes**. Então acrescente uma linha em branco e a instrução de importação para o módulo que você escreveu. Em programas com várias instruções de importação, essa convenção facilita ver a origem dos diferentes módulos utilizados pelo programa.\n"
   ]
  },
  {
   "cell_type": "markdown",
   "id": "b5da40f7-3c18-4ba5-9663-25aa05ad515c",
   "metadata": {},
   "source": [
    "## **Resumo**"
   ]
  },
  {
   "cell_type": "markdown",
   "id": "5ad21e39-adfa-4aab-978e-784a112ae311",
   "metadata": {},
   "source": [
    "Neste capítulo, vimos como escrever nossas próprias <code>**classes**</code>. Aprendemos a armazenar informações em uma classe usando <code>**atributos e a escrever métodos**</code> que conferem o comportamento necessário às suas classes. Vimos como escrever métodos <code>__init__()</code> que criam <code>**instâncias**</code> de suas classes com os atributos específicos que desejamos ter. Aprendemos a modificar os atributos de uma instância diretamente e por meio de <code>**métodos**</code>. Vimos que a <code>**herança**</code> pode simplificar a criação de classes relacionadas umas às outras e aprendemos a usar instâncias de uma classe como atributos de outra para deixá-las mais simples.\n",
    "\n",
    "Aprendemos a armazenar classes em <code>**módulos**</code> e a importar as classes necessárias nos arquivos em que elas serão usadas para deixar seus projetos organizados. Começamos a conhecer a <code>**biblioteca-padrão**</code> de Python e vimos um exemplo com a classe <code>**OrderedDict do módulo collections**</code>. Por fim, vimos como estilizar classes usando as convenções de Python.\n",
    "\n",
    "No Capítulo 10, aprenderemos a trabalhar com arquivos para que possamos salvar o trabalho feito por você e pelos usuários de seu programa. Também conheceremos as exceções: uma classe Python especial, concebida para ajudar você a responder a erros quando esses surgirem."
   ]
  },
  {
   "cell_type": "code",
   "execution_count": null,
   "id": "b0296146-3ffd-4138-80dd-3c40de7531f9",
   "metadata": {},
   "outputs": [],
   "source": []
  }
 ],
 "metadata": {
  "kernelspec": {
   "display_name": "Python 3 (ipykernel)",
   "language": "python",
   "name": "python3"
  },
  "language_info": {
   "codemirror_mode": {
    "name": "ipython",
    "version": 3
   },
   "file_extension": ".py",
   "mimetype": "text/x-python",
   "name": "python",
   "nbconvert_exporter": "python",
   "pygments_lexer": "ipython3",
   "version": "3.11.5"
  }
 },
 "nbformat": 4,
 "nbformat_minor": 5
}
