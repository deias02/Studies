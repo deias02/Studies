{
 "cells": [
  {
   "cell_type": "markdown",
   "id": "d72b4ec4-dbd1-4b48-8432-3d6c81d16243",
   "metadata": {},
   "source": [
    "# Cap.17 - **Trabalhando com APIs**"
   ]
  },
  {
   "cell_type": "markdown",
   "id": "ae2e43a6-efa7-4666-b126-2115e1e621f8",
   "metadata": {},
   "source": [
    "Neste capítulo aprenderemos a **escrever um programa autocontido para gerar uma visualização baseada em dados recuperados pelo programa. Seu programa usará uma <code>API (Application Programming Interface, ou Interface de Programação de Aplicativos)</code> web para solicitar informações específicas de um site automaticamente, em vez de pedir páginas inteiras. Então essas informações serão usadas para gerar uma visualização.** Como os programas escritos dessa forma sempre usarão dados atuais para gerar uma visualização, mesmo que esses dados mudem rapidamente, eles estarão sempre atualizados."
   ]
  },
  {
   "cell_type": "markdown",
   "id": "8f888976-2fd9-4dc6-aa18-007eebb7977c",
   "metadata": {},
   "source": [
    "## Usando uma **<code>API web</code>**"
   ]
  },
  {
   "cell_type": "markdown",
   "id": "2a9b322a-fc48-4671-897d-1500ab7e46f3",
   "metadata": {},
   "source": [
    "Uma **<code>API web</code> é uma parte de um site projetada para interagir com programas que usam <code>URLs</code> bem específicos a fim de requisitar determinadas informações.** Esse tipo de requisição é conhecido como chamada de <code>**API**</code>. Os dados solicitados serão devolvidos em um formato facilmente processável, por exemplo, <code>**JSON ou CSV**</code>. **A maioria das aplicações que depende de fontes de dados externas, como aquelas que se integram a sites de mídias sociais**, contam com chamadas de <code>**API**</code>."
   ]
  },
  {
   "cell_type": "markdown",
   "id": "dafe432a-2b04-41b0-ac73-43720f15f1fd",
   "metadata": {},
   "source": [
    "### Git e GitHub"
   ]
  },
  {
   "cell_type": "markdown",
   "id": "222845bd-624d-4cf5-838f-4d59efe9e41c",
   "metadata": {},
   "source": [
    "Nossa visualização será baseada em informações do <code>**GitHub**</code> : **um site que permite aos programadores colaborar em projetos. Usaremos a <code>API do GitHub</code>  para solicitar informações do site sobre projetos Python e então vamos gerar uma visualização interativa da popularidade relativa desses projetos no <code>Pygal</code>.**     \n",
    "\n",
    "O <code>**GitHub**</code>  (https://github.com/) tem esse nome por causa do <code>**Git**</code>  – **um sistema distribuído de controle de versões que permite às equipes de programadores colaborar em projetos. O <code>Git</code>  ajuda as pessoas a administrar seus trabalhos individuais em um projeto, de modo que as alterações feitas por uma pessoa não interfiram nas mudanças que outras pessoas estão fazendo.** Ao implementar um novo recurso em um projeto, o <code>**Git**</code>  controlará as alterações que você fizer em cada arquivo.\n",
    "\n",
    "**Quando seu novo código estiver funcionando, você fará <code>commit</code> das alterações feitas e o <code>Git</code> registrará o novo estado de seu projeto.** Se você cometer um erro e quiser reverter suas alterações, poderá facilmente voltar para qualquer estado anterior funcional. (Para saber mais sobre controle de versões com o <code>**Git**</code> , consulte o Apêndice D.) **Os projetos no <code>GitHub</code>  são armazenados em repositórios, que contêm tudo que está associado ao projeto: seu código, informações sobre os colaboradores, qualquer relatório de problema ou bug, e assim por diante.**\n",
    "\n",
    "Quando os usuários do <code>**GitHub**</code>  gostam de um projeto, eles podem lhe conceder uma “estrela” para mostrar seu apoio e monitorar os projetos que queiram usar. Neste capítulo **escreveremos um programa para fazer download automático de informações sobre os projetos Python com mais estrelas no <code>GitHub</code>  e, em seguida, criaremos uma visualização informativa desses projetos.**"
   ]
  },
  {
   "cell_type": "markdown",
   "id": "a1ae1139-161b-4458-96e6-3adb76b6ac60",
   "metadata": {},
   "source": [
    "### Requisitando dados usando uma chamada de <code>**API**</code>"
   ]
  },
  {
   "cell_type": "markdown",
   "id": "3dc20139-a13b-4901-aeef-9b1b70615f51",
   "metadata": {},
   "source": [
    "**A <code>API do GitHub</code> permite requisitar várias informações por meio de chamadas de <code>API</code>**. Para ver como é a aparência de uma chamada de <code>**API**</code>, digite o seguinte na barra de endereço de seu navegador e tecle **ENTER**:\n",
    "https://api.github.com/search/repositories? q=language:python&sort=stars\n",
    "\n",
    "**Essa chamada devolve o número de projetos Python hospedados no <code>**GitHub**</code> no momento, bem como informações sobre os repositórios Python mais populares.** Vamos analisar a chamada. **A primeira parte, https://api.github.com/, direciona a requisição para a parte do site do <code>**GitHub**</code> que responde a chamadas de <code>API</code>**. A próxima parte, search/repositories, diz à <code>**API**</code> para conduzir uma pesquisa em todos os repositórios do <code>**GitHub**</code>.\n",
    "\n",
    "**O ponto de interrogação depois de <code>repositories</code> indica que estamos prestes a passar um argumento. A letra <code>q</code> quer dizer <code>query</code> e o sinal de igualdade nos permite começar a especificá-la <code>(q=)</code>. Ao usar <code>language:python</code>, sinalizamos que queremos informações somente sobre os <code>repositórios</code> que tenham Python como a linguagem principal.** A última parte, <code>**&sort=stars**</code>, ordena os projetos de acordo com o número de estrelas que receberam.\n",
    "\n",
    "**O trecho a seguir mostra as primeiras linhas da resposta**. Ao observá- la, podemos notar que esse <code>**URL**</code> não tem como propósito ser usado por seres humanos."
   ]
  },
  {
   "cell_type": "code",
   "execution_count": null,
   "id": "4f3bf207-e15a-4727-922c-91fb506517a9",
   "metadata": {},
   "outputs": [],
   "source": [
    "{\"total_count\": 713062, \"incomplete_results\": false, \"items\": [\n",
    "{\"id\": 3544424, \"name\": \"httpie\", \"full_name\": \"jkbrzt/httpie\", --trecho omitido--"
   ]
  },
  {
   "cell_type": "markdown",
   "id": "bf5f4a9c-7998-4a85-a1ac-6fb848a448b1",
   "metadata": {},
   "source": [
    "Como podemos ver na segunda linha da saída, o **<code>GitHub</code> encontrou um total de 713.062 projetos Python na ocasião em que testamos isso. Como o valor de <code>\"incomplete_results\" é false</code>, sabemos que a requisição foi bem-sucedida (não está incompleta).** Se o <code>**GitHub**</code> não tivesse sido capaz de processar totalmente a requisição da <code>**API**</code>, ele teria devolvido <code>**true**</code> aqui. Os **<code>\"items\"</code>** devolvidos são exibidos na lista que está na sequência, a qual contém detalhes sobre os projetos Python mais populares no <code>**GitHub**</code>."
   ]
  },
  {
   "cell_type": "markdown",
   "id": "58800d59-dc35-4492-99c0-73dd42cb2d65",
   "metadata": {},
   "source": [
    "### Instalando o pacote requests"
   ]
  },
  {
   "cell_type": "markdown",
   "id": "f26b78dc-7d1f-4eb5-9119-446c01da7c04",
   "metadata": {},
   "source": [
    "**O pacote <code>requests</code> permite que um programa Python solicite facilmente informações a um site e analise a resposta devolvida.** Para instalar esse pacote, execute um comando como este: <code>**$ pip install --user requests**</code> **Se você ainda não usou o <code>pip</code>, consulte a seção “Instalando pacotes Python com o <code>pip</code>”**. (Talvez você precise usar uma versão um pouco diferente desse comando, conforme a configuração de seu sistema.)"
   ]
  },
  {
   "cell_type": "markdown",
   "id": "0d7363e0-b94a-47ee-92a2-a7fc1964649e",
   "metadata": {},
   "source": [
    "### Processando uma resposta de <code>**API**</code>"
   ]
  },
  {
   "cell_type": "markdown",
   "id": "67b3c575-f0a3-49f1-9934-0094bc649216",
   "metadata": {},
   "source": [
    "Agora começaremos a escrever um programa para fazer uma chamada de <code>**API**</code> e processar o resultado identificando os projetos Python com mais estrelas no <code>**GitHub**</code>:"
   ]
  },
  {
   "cell_type": "code",
   "execution_count": 26,
   "id": "f46fbfa8-881c-4adb-9d71-ed8f97af1fc3",
   "metadata": {
    "tags": []
   },
   "outputs": [
    {
     "name": "stdout",
     "output_type": "stream",
     "text": [
      "Status code: 200\n",
      "dict_keys(['total_count', 'incomplete_results', 'items'])\n"
     ]
    }
   ],
   "source": [
    "#python_repos.py \n",
    "import requests\n",
    "\n",
    "# Faz uma chamada de API e armazena a resposta \n",
    "url = 'https://api.github.com/search/repositories?q=language:python&sort=stars'\n",
    "r = requests.get(url) \n",
    "print(\"Status code:\", r.status_code)\n",
    "\n",
    "# Armazena a resposta da API em uma variável \n",
    "response_dict = r.json() \n",
    "\n",
    "# Processa o resultado \n",
    "print(response_dict.keys())"
   ]
  },
  {
   "cell_type": "markdown",
   "id": "a4fa1c9c-d44c-4a1d-b808-843c80816d1a",
   "metadata": {},
   "source": [
    "E **importamos o módulo <code>requests</code>. E armazenamos o <code>URL</code> da chamada da <code>API</code> e então usamos <code>requests</code> para fazer a chamada. Chamamos <code>get()</code>, passamos o <code>URL</code> e armazenamos o objeto com a resposta na variável <code>r</code>. O objeto com a resposta tem um atributo chamado <code>status_code</code>, que nos informa se a requisição foi bem-sucedida.** (Um código de status igual a 200 indica sucesso na resposta.) E exibimos o valor de <code>**status_code**</code> para garantir que a chamada foi realizada com sucesso.\n",
    "\n",
    "**A <code>API</code> devolve as informações em formato <code>JSON</code>, portanto usamos o método <code>json()</code> para convertê-las em um <code>dicionário</code> Python**. Armazenamos o <code>**dicionário**</code> resultante em <code>**response_dict**</code>.\n",
    "\n",
    "**NOTA**    \n",
    "**Chamadas simples como essa devem devolver um conjunto completo de resultados, portanto é seguro ignorar o valor associado a <code>'incomplete_results'</code>. Porém, quando fizer chamadas de <code>API</code> mais complexas, seu programa deverá conferir esse valor.**\n"
   ]
  },
  {
   "cell_type": "markdown",
   "id": "ecf6b736-6cb6-447f-a348-82bb75b96d2e",
   "metadata": {},
   "source": [
    "### Trabalhando com o dicionário de resposta"
   ]
  },
  {
   "cell_type": "markdown",
   "id": "69743f41-f20b-4d4b-864e-c6ad70c3662c",
   "metadata": {},
   "source": [
    "**Agora que temos a informação da chamada de <code>API</code> na forma de um dicionário, podemos trabalhar com os dados armazenados nele. Vamos gerar uma saída que sintetize as informações.** Essa é uma boa maneira de garantir que recebemos as informações esperadas e começar a analisar os dados em que estamos interessados: "
   ]
  },
  {
   "cell_type": "code",
   "execution_count": 37,
   "id": "0343ad00-9509-4958-a7ec-757b625fe281",
   "metadata": {
    "tags": []
   },
   "outputs": [
    {
     "name": "stdout",
     "output_type": "stream",
     "text": [
      "Status code: 200\n",
      "Total repositories: 15361239\n",
      "Repositories returned: 30\n",
      "\n",
      "Keys: 80\n",
      "allow_forking\n",
      "archive_url\n",
      "archived\n",
      "assignees_url\n",
      "blobs_url\n",
      "branches_url\n",
      "clone_url\n",
      "collaborators_url\n",
      "comments_url\n",
      "commits_url\n",
      "compare_url\n",
      "contents_url\n",
      "contributors_url\n",
      "created_at\n",
      "default_branch\n",
      "deployments_url\n",
      "description\n",
      "disabled\n",
      "downloads_url\n",
      "events_url\n",
      "fork\n",
      "forks\n",
      "forks_count\n",
      "forks_url\n",
      "full_name\n",
      "git_commits_url\n",
      "git_refs_url\n",
      "git_tags_url\n",
      "git_url\n",
      "has_discussions\n",
      "has_downloads\n",
      "has_issues\n",
      "has_pages\n",
      "has_projects\n",
      "has_wiki\n",
      "homepage\n",
      "hooks_url\n",
      "html_url\n",
      "id\n",
      "is_template\n",
      "issue_comment_url\n",
      "issue_events_url\n",
      "issues_url\n",
      "keys_url\n",
      "labels_url\n",
      "language\n",
      "languages_url\n",
      "license\n",
      "merges_url\n",
      "milestones_url\n",
      "mirror_url\n",
      "name\n",
      "node_id\n",
      "notifications_url\n",
      "open_issues\n",
      "open_issues_count\n",
      "owner\n",
      "private\n",
      "pulls_url\n",
      "pushed_at\n",
      "releases_url\n",
      "score\n",
      "size\n",
      "ssh_url\n",
      "stargazers_count\n",
      "stargazers_url\n",
      "statuses_url\n",
      "subscribers_url\n",
      "subscription_url\n",
      "svn_url\n",
      "tags_url\n",
      "teams_url\n",
      "topics\n",
      "trees_url\n",
      "updated_at\n",
      "url\n",
      "visibility\n",
      "watchers\n",
      "watchers_count\n",
      "web_commit_signoff_required\n"
     ]
    }
   ],
   "source": [
    "#python_repos.py\n",
    "import requests\n",
    "\n",
    "# Faz uma chamada de API e armazena a resposta \n",
    "url = 'https://api.github.com/search/repositories?q=language:python&sort=stars' \n",
    "r = requests.get(url) \n",
    "print(\"Status code:\", r.status_code)\n",
    "\n",
    "# Armazena a resposta da API em uma variável \n",
    "response_dict = r.json() \n",
    "print(\"Total repositories:\", response_dict['total_count'])\n",
    "\n",
    "# Explora informações sobre os repositórios  \n",
    "repo_dicts = response_dict['items']\n",
    "print(\"Repositories returned:\", len(repo_dicts))\n",
    "\n",
    "# Analisa o primeiro repositório \n",
    "repo_dict = repo_dicts[0]\n",
    "print(\"\\nKeys:\", len(repo_dict)) \n",
    "for key in sorted(repo_dict.keys()): \n",
    "    print(key)"
   ]
  },
  {
   "cell_type": "markdown",
   "id": "9433b0a6-4b89-44d6-b7a1-1ed5e7167cc1",
   "metadata": {},
   "source": [
    "**E exibimos o valor associado a <code>'total_count'</code>, que representa o número total de <code>repositórios</code> Python no <code>GitHub</code>.\n",
    "O valor associado a <code>'items'</code> é uma lista que contém vários dicionários, cada um contendo dados sobre um repositório Python individual.** E armazenamos essa lista de dicionários em <code>**repo_dicts**</code>. Então exibimos o tamanho de <code>**repo_dicts**</code> para ver o número de <code>**repositórios**</code> para os quais temos informações.\n",
    "\n",
    "**Para observar melhor as informações devolvidas sobre cada <code>repositório</code>, extraímos o primeiro <code>'items</code> de <code>repositório</code> e o armazenamos em <code>repo_dict</code>. Então exibimos a quantidade de chaves do dicionário para ver quantas informações temos.** E exibimos todas as <code>**chaves (keys)**</code> do dicionário para ver quais tipos de informação estão incluídos.\n",
    "O resultado começa a nos dar uma imagem mais clara dos dados propriamente ditos:    \n",
    "**Status code: 200   \n",
    "Total repositories: 713062     \n",
    "Repositories returned: 30**   \n"
   ]
  },
  {
   "cell_type": "markdown",
   "id": "6875a605-0d63-43f2-8ba3-bc750df45702",
   "metadata": {},
   "source": [
    "**A <code>API do GitHub</code> devolve muitas informações sobre cada repositório: há 68 chaves em <code>repo_dict</code>. Ao observar essas chaves, você terá uma noção do tipo de informação que pode ser extraído a respeito de um projeto.** (A única maneira de saber quais informações estão disponíveis por meio de uma <code>**API**</code> é ler a documentação ou analisar as informações por meio de código, como estamos fazendo nesse caso.) Vamos extrair os valores de algumas das chaves em <code>**repo_dict**</code>:"
   ]
  },
  {
   "cell_type": "code",
   "execution_count": 46,
   "id": "3956f930-5031-44b1-b181-15c8f1bf4997",
   "metadata": {
    "tags": []
   },
   "outputs": [
    {
     "name": "stdout",
     "output_type": "stream",
     "text": [
      "Status code: 200\n",
      "Total repositories: 16125622\n",
      "Repositories returned: 30\n",
      "\n",
      "Selected information about first repository:\n",
      "Name: system-design-primer\n",
      "Owner: donnemartin\n",
      "Stars: 266405\n",
      "Repository: https://github.com/donnemartin/system-design-primer\n",
      "Created: 2017-02-26T16:15:28Z\n",
      "Updated: 2024-08-08T05:31:05Z\n",
      "Description: Learn how to design large-scale systems. Prep for the system design interview.  Includes Anki flashcards.\n",
      "allow_forking\n",
      "archive_url\n",
      "archived\n",
      "assignees_url\n",
      "blobs_url\n",
      "branches_url\n",
      "clone_url\n",
      "collaborators_url\n",
      "comments_url\n",
      "commits_url\n",
      "compare_url\n",
      "contents_url\n",
      "contributors_url\n",
      "created_at\n",
      "default_branch\n",
      "deployments_url\n",
      "description\n",
      "disabled\n",
      "downloads_url\n",
      "events_url\n",
      "fork\n",
      "forks\n",
      "forks_count\n",
      "forks_url\n",
      "full_name\n",
      "git_commits_url\n",
      "git_refs_url\n",
      "git_tags_url\n",
      "git_url\n",
      "has_discussions\n",
      "has_downloads\n",
      "has_issues\n",
      "has_pages\n",
      "has_projects\n",
      "has_wiki\n",
      "homepage\n",
      "hooks_url\n",
      "html_url\n",
      "id\n",
      "is_template\n",
      "issue_comment_url\n",
      "issue_events_url\n",
      "issues_url\n",
      "keys_url\n",
      "labels_url\n",
      "language\n",
      "languages_url\n",
      "license\n",
      "merges_url\n",
      "milestones_url\n",
      "mirror_url\n",
      "name\n",
      "node_id\n",
      "notifications_url\n",
      "open_issues\n",
      "open_issues_count\n",
      "owner\n",
      "private\n",
      "pulls_url\n",
      "pushed_at\n",
      "releases_url\n",
      "score\n",
      "size\n",
      "ssh_url\n",
      "stargazers_count\n",
      "stargazers_url\n",
      "statuses_url\n",
      "subscribers_url\n",
      "subscription_url\n",
      "svn_url\n",
      "tags_url\n",
      "teams_url\n",
      "topics\n",
      "trees_url\n",
      "updated_at\n",
      "url\n",
      "visibility\n",
      "watchers\n",
      "watchers_count\n",
      "web_commit_signoff_required\n"
     ]
    }
   ],
   "source": [
    "#python_repos.py\n",
    "import requests\n",
    "\n",
    "# Faz uma chamada de API e armazena a resposta \n",
    "url = 'https://api.github.com/search/repositories?q=language:python&sort=stars' \n",
    "r = requests.get(url) \n",
    "print(\"Status code:\", r.status_code)\n",
    "\n",
    "# Armazena a resposta da API em uma variável \n",
    "response_dict = r.json() \n",
    "print(\"Total repositories:\", response_dict['total_count'])\n",
    "\n",
    "# Explora informações sobre os repositórios  \n",
    "repo_dicts = response_dict['items']\n",
    "print(\"Repositories returned:\", len(repo_dicts))\n",
    "\n",
    "# Analisa o primeiro repositório \n",
    "repo_dict = repo_dicts[0]\n",
    "print(\"\\nSelected information about first repository:\") \n",
    "print('Name:', repo_dict['name']) \n",
    "print('Owner:', repo_dict['owner']['login']) \n",
    "print('Stars:', repo_dict['stargazers_count']) \n",
    "print('Repository:', repo_dict['html_url']) \n",
    "print('Created:', repo_dict['created_at']) \n",
    "print('Updated:', repo_dict['updated_at']) \n",
    "print('Description:', repo_dict['description'])\n",
    "\n",
    "for key in sorted(repo_dict.keys()): \n",
    "    print(key)"
   ]
  },
  {
   "cell_type": "markdown",
   "id": "845dc3f7-c545-4863-bba2-4bf5806c8631",
   "metadata": {},
   "source": [
    "Nesse exemplo exibimos os valores de diversas <code>chaves do dicionário</code> do primeiro repositório. E exibimos o nome do projeto. **Um <code>dicionário completo</code> representa o dono do projeto; assim, usamos a chave <code>owner</code> para acessar o dicionário que o representa e então usamos a chave <code>login</code> para obter o seu nome de <code>login</code>. E exibimos a quantidade de estrelas que o projeto recebeu e o <code>URL do repositório do projeto no GitHub</code>.** Em seguida, mostramos a data em que o projeto foi criado e quando foi atualizado pela última vez. Por fim, exibimos a descrição do repositório;\n",
    "\n",
    "**Podemos ver que o projeto Python com mais estrelas no <code>GitHub</code> (na época em que esta obra foi escrita) é o <code>HTTPie</code>, cujo proprietário é o usuário <code>jkbrzt</code>, e recebeu estrelas de mais de 16 mil usuários do <code>GitHub</code>.** Vemos também o <code>**URL do repositório do projeto**</code>, a data de sua criação – fevereiro de 2012 – e que o projeto foi atualizado recentemente. Por fim, a descrição nos informa que o <code>HTTPie</code> ajuda a fazer chamadas <code>**HTTP**</code> a partir de um terminal (**<code>CLI</code> é a abreviatura de <code>command line interface, ou interface de linha de comando</code>**)."
   ]
  },
  {
   "cell_type": "markdown",
   "id": "5a4e1701-aba7-4551-bb5d-e3835d188c63",
   "metadata": {},
   "source": [
    "### Resumo dos principais repositórios"
   ]
  },
  {
   "cell_type": "markdown",
   "id": "ac61b901-db74-4b59-baf1-7c2843b052eb",
   "metadata": {},
   "source": [
    "Quando criarmos uma visualização para esses dados, vamos querer incluir mais de um repositório. Escreveremos um laço para exibir informações selecionadas sobre cada um dos repositórios devolvidos pela chamada de API para que possamos incluir todos eles na visualização."
   ]
  },
  {
   "cell_type": "code",
   "execution_count": 53,
   "id": "f97de3cf-b264-4735-869e-6c145f058daa",
   "metadata": {
    "tags": []
   },
   "outputs": [
    {
     "name": "stdout",
     "output_type": "stream",
     "text": [
      "Status code: 200\n",
      "Total repositories: 15916065\n",
      "Repositories returned: 30\n",
      "\n",
      "Selected information about each repository:\n",
      "\n",
      "Name: system-design-primer\n",
      "Owner: donnemartin\n",
      "Stars: 266405\n",
      "Repository: https://github.com/donnemartin/system-design-primer\n",
      "Description: Learn how to design large-scale systems. Prep for the system design interview.  Includes Anki flashcards.\n",
      "\n",
      "Name: awesome-python\n",
      "Owner: vinta\n",
      "Stars: 214922\n",
      "Repository: https://github.com/vinta/awesome-python\n",
      "Description: An opinionated list of awesome Python frameworks, libraries, software and resources.\n",
      "\n",
      "Name: Python\n",
      "Owner: TheAlgorithms\n",
      "Stars: 182983\n",
      "Repository: https://github.com/TheAlgorithms/Python\n",
      "Description: All Algorithms implemented in Python\n",
      "\n",
      "Name: AutoGPT\n",
      "Owner: Significant-Gravitas\n",
      "Stars: 165535\n",
      "Repository: https://github.com/Significant-Gravitas/AutoGPT\n",
      "Description: AutoGPT is the vision of accessible AI for everyone, to use and to build on. Our mission is to provide the tools, so that you can focus on what matters.\n",
      "\n",
      "Name: Python-100-Days\n",
      "Owner: jackfrued\n",
      "Stars: 153680\n",
      "Repository: https://github.com/jackfrued/Python-100-Days\n",
      "Description: Python - 100天从新手到大师\n",
      "\n",
      "Name: stable-diffusion-webui\n",
      "Owner: AUTOMATIC1111\n",
      "Stars: 137478\n",
      "Repository: https://github.com/AUTOMATIC1111/stable-diffusion-webui\n",
      "Description: Stable Diffusion web UI\n",
      "\n",
      "Name: youtube-dl\n",
      "Owner: ytdl-org\n",
      "Stars: 130552\n",
      "Repository: https://github.com/ytdl-org/youtube-dl\n",
      "Description: Command-line program to download videos from YouTube.com and other video sites\n",
      "\n",
      "Name: transformers\n",
      "Owner: huggingface\n",
      "Stars: 130308\n",
      "Repository: https://github.com/huggingface/transformers\n",
      "Description: 🤗 Transformers: State-of-the-art Machine Learning for Pytorch, TensorFlow, and JAX.\n",
      "\n",
      "Name: HelloGitHub\n",
      "Owner: 521xueweihan\n",
      "Stars: 88985\n",
      "Repository: https://github.com/521xueweihan/HelloGitHub\n",
      "Description: :octocat: 分享 GitHub 上有趣、入门级的开源项目。Share interesting, entry-level open source projects on GitHub.\n",
      "\n",
      "Name: thefuck\n",
      "Owner: nvbn\n",
      "Stars: 84010\n",
      "Repository: https://github.com/nvbn/thefuck\n",
      "Description: Magnificent app which corrects your previous console command.\n",
      "\n",
      "Name: pytorch\n",
      "Owner: pytorch\n",
      "Stars: 81120\n",
      "Repository: https://github.com/pytorch/pytorch\n",
      "Description: Tensors and Dynamic neural networks in Python with strong GPU acceleration\n",
      "\n",
      "Name: yt-dlp\n",
      "Owner: yt-dlp\n",
      "Stars: 79233\n",
      "Repository: https://github.com/yt-dlp/yt-dlp\n",
      "Description: A feature-rich command-line audio/video downloader\n",
      "\n",
      "Name: django\n",
      "Owner: django\n",
      "Stars: 78390\n",
      "Repository: https://github.com/django/django\n",
      "Description: The Web framework for perfectionists with deadlines.\n",
      "\n",
      "Name: models\n",
      "Owner: tensorflow\n",
      "Stars: 76885\n",
      "Repository: https://github.com/tensorflow/models\n",
      "Description: Models and examples built with TensorFlow\n",
      "\n",
      "Name: core\n",
      "Owner: home-assistant\n",
      "Stars: 70289\n",
      "Repository: https://github.com/home-assistant/core\n",
      "Description: :house_with_garden: Open source home automation that puts local control and privacy first.\n",
      "\n",
      "Name: flask\n",
      "Owner: pallets\n",
      "Stars: 67257\n",
      "Repository: https://github.com/pallets/flask\n",
      "Description: The Python micro framework for building web applications.\n",
      "\n",
      "Name: funNLP\n",
      "Owner: fighting41love\n",
      "Stars: 66849\n",
      "Repository: https://github.com/fighting41love/funNLP\n",
      "Description: 中英文敏感词、语言检测、中外手机/电话归属地/运营商查询、名字推断性别、手机号抽取、身份证抽取、邮箱抽取、中日文人名库、中文缩写库、拆字词典、词汇情感值、停用词、反动词表、暴恐词表、繁简体转换、英文模拟中文发音、汪峰歌词生成器、职业名称词库、同义词库、反义词库、否定词库、汽车品牌词库、汽车零件词库、连续英文切割、各种中文词向量、公司名字大全、古诗词库、IT词库、财经词库、成语词库、地名词库、历史名人词库、诗词词库、医学词库、饮食词库、法律词库、汽车词库、动物词库、中文聊天语料、中文谣言数据、百度中文问答数据集、句子相似度匹配算法集合、bert资源、文本生成&摘要相关工具、cocoNLP信息抽取工具、国内电话号码正则匹配、清华大学XLORE:中英文跨语言百科知识图谱、清华大学人工智能技术系列报告、自然语言生成、NLU太难了系列、自动对联数据及机器人、用户名黑名单列表、罪名法务名词及分类模型、微信公众号语料、cs224n深度学习自然语言处理课程、中文手写汉字识别、中文自然语言处理 语料/数据集、变量命名神器、分词语料库+代码、任务型对话英文数据集、ASR 语音数据集 + 基于深度学习的中文语音识别系统、笑声检测器、Microsoft多语言数字/单位/如日期时间识别包、中华新华字典数据库及api(包括常用歇后语、成语、词语和汉字)、文档图谱自动生成、SpaCy 中文模型、Common Voice语音识别数据集新版、神经网络关系抽取、基于bert的命名实体识别、关键词(Keyphrase)抽取包pke、基于医疗领域知识图谱的问答系统、基于依存句法与语义角色标注的事件三元组抽取、依存句法分析4万句高质量标注数据、cnocr：用来做中文OCR的Python3包、中文人物关系知识图谱项目、中文nlp竞赛项目及代码汇总、中文字符数据、speech-aligner: 从“人声语音”及其“语言文本”产生音素级别时间对齐标注的工具、AmpliGraph: 知识图谱表示学习(Python)库：知识图谱概念链接预测、Scattertext 文本可视化(python)、语言/知识表示工具：BERT & ERNIE、中文对比英文自然语言处理NLP的区别综述、Synonyms中文近义词工具包、HarvestText领域自适应文本挖掘工具（新词发现-情感分析-实体链接等）、word2word：(Python)方便易用的多语言词-词对集：62种语言/3,564个多语言对、语音识别语料生成工具：从具有音频/字幕的在线视频创建自动语音识别(ASR)语料库、构建医疗实体识别的模型（包含词典和语料标注）、单文档非监督的关键词抽取、Kashgari中使用gpt-2语言模型、开源的金融投资数据提取工具、文本自动摘要库TextTeaser: 仅支持英文、人民日报语料处理工具集、一些关于自然语言的基本模型、基于14W歌曲知识库的问答尝试--功能包括歌词接龙and已知歌词找歌曲以及歌曲歌手歌词三角关系的问答、基于Siamese bilstm模型的相似句子判定模型并提供训练数据集和测试数据集、用Transformer编解码模型实现的根据Hacker News文章标题自动生成评论、用BERT进行序列标记和文本分类的模板代码、LitBank：NLP数据集——支持自然语言处理和计算人文学科任务的100部带标记英文小说语料、百度开源的基准信息抽取系统、虚假新闻数据集、Facebook: LAMA语言模型分析，提供Transformer-XL/BERT/ELMo/GPT预训练语言模型的统一访问接口、CommonsenseQA：面向常识的英文QA挑战、中文知识图谱资料、数据及工具、各大公司内部里大牛分享的技术文档 PDF 或者 PPT、自然语言生成SQL语句（英文）、中文NLP数据增强（EDA）工具、英文NLP数据增强工具 、基于医药知识图谱的智能问答系统、京东商品知识图谱、基于mongodb存储的军事领域知识图谱问答项目、基于远监督的中文关系抽取、语音情感分析、中文ULMFiT-情感分析-文本分类-语料及模型、一个拍照做题程序、世界各国大规模人名库、一个利用有趣中文语料库 qingyun 训练出来的中文聊天机器人、中文聊天机器人seqGAN、省市区镇行政区划数据带拼音标注、教育行业新闻语料库包含自动文摘功能、开放了对话机器人-知识图谱-语义理解-自然语言处理工具及数据、中文知识图谱：基于百度百科中文页面-抽取三元组信息-构建中文知识图谱、masr: 中文语音识别-提供预训练模型-高识别率、Python音频数据增广库、中文全词覆盖BERT及两份阅读理解数据、ConvLab：开源多域端到端对话系统平台、中文自然语言处理数据集、基于最新版本rasa搭建的对话系统、基于TensorFlow和BERT的管道式实体及关系抽取、一个小型的证券知识图谱/知识库、复盘所有NLP比赛的TOP方案、OpenCLaP：多领域开源中文预训练语言模型仓库、UER：基于不同语料+编码器+目标任务的中文预训练模型仓库、中文自然语言处理向量合集、基于金融-司法领域(兼有闲聊性质)的聊天机器人、g2pC：基于上下文的汉语读音自动标记模块、Zincbase 知识图谱构建工具包、诗歌质量评价/细粒度情感诗歌语料库、快速转化「中文数字」和「阿拉伯数字」、百度知道问答语料库、基于知识图谱的问答系统、jieba_fast 加速版的jieba、正则表达式教程、中文阅读理解数据集、基于BERT等最新语言模型的抽取式摘要提取、Python利用深度学习进行文本摘要的综合指南、知识图谱深度学习相关资料整理、维基大规模平行文本语料、StanfordNLP 0.2.0：纯Python版自然语言处理包、NeuralNLP-NeuralClassifier：腾讯开源深度学习文本分类工具、端到端的封闭域对话系统、中文命名实体识别：NeuroNER vs. BertNER、新闻事件线索抽取、2019年百度的三元组抽取比赛：“科学空间队”源码、基于依存句法的开放域文本知识三元组抽取和知识库构建、中文的GPT2训练代码、ML-NLP - 机器学习(Machine Learning)NLP面试中常考到的知识点和代码实现、nlp4han:中文自然语言处理工具集(断句/分词/词性标注/组块/句法分析/语义分析/NER/N元语法/HMM/代词消解/情感分析/拼写检查、XLM：Facebook的跨语言预训练语言模型、用基于BERT的微调和特征提取方法来进行知识图谱百度百科人物词条属性抽取、中文自然语言处理相关的开放任务-数据集-当前最佳结果、CoupletAI - 基于CNN+Bi-LSTM+Attention 的自动对对联系统、抽象知识图谱、MiningZhiDaoQACorpus - 580万百度知道问答数据挖掘项目、brat rapid annotation tool: 序列标注工具、大规模中文知识图谱数据：1.4亿实体、数据增强在机器翻译及其他nlp任务中的应用及效果、allennlp阅读理解:支持多种数据和模型、PDF表格数据提取工具 、 Graphbrain：AI开源软件库和科研工具，目的是促进自动意义提取和文本理解以及知识的探索和推断、简历自动筛选系统、基于命名实体识别的简历自动摘要、中文语言理解测评基准，包括代表性的数据集&基准模型&语料库&排行榜、树洞 OCR 文字识别 、从包含表格的扫描图片中识别表格和文字、语声迁移、Python口语自然语言处理工具集(英文)、 similarity：相似度计算工具包，java编写、海量中文预训练ALBERT模型 、Transformers 2.0 、基于大规模音频数据集Audioset的音频增强 、Poplar：网页版自然语言标注工具、图片文字去除，可用于漫画翻译 、186种语言的数字叫法库、Amazon发布基于知识的人-人开放领域对话数据集 、中文文本纠错模块代码、繁简体转换 、 Python实现的多种文本可读性评价指标、类似于人名/地名/组织机构名的命名体识别数据集 、东南大学《知识图谱》研究生课程(资料)、. 英文拼写检查库 、 wwsearch是企业微信后台自研的全文检索引擎、CHAMELEON：深度学习新闻推荐系统元架构 、 8篇论文梳理BERT相关模型进展与反思、DocSearch：免费文档搜索引擎、 LIDA：轻量交互式对话标注工具 、aili - the fastest in-memory index in the East 东半球最快并发索引 、知识图谱车音工作项目、自然语言生成资源大全 、中日韩分词库mecab的Python接口库、中文文本摘要/关键词提取、汉字字符特征提取器 (featurizer)，提取汉字的特征（发音特征、字形特征）用做深度学习的特征、中文生成任务基准测评 、中文缩写数据集、中文任务基准测评 - 代表性的数据集-基准(预训练)模型-语料库-baseline-工具包-排行榜、PySS3：面向可解释AI的SS3文本分类器机器可视化工具 、中文NLP数据集列表、COPE - 格律诗编辑程序、doccano：基于网页的开源协同多语言文本标注工具 、PreNLP：自然语言预处理库、简单的简历解析器，用来从简历中提取关键信息、用于中文闲聊的GPT2模型：GPT2-chitchat、基于检索聊天机器人多轮响应选择相关资源列表(Leaderboards、Datasets、Papers)、(Colab)抽象文本摘要实现集锦(教程 、词语拼音数据、高效模糊搜索工具、NLP数据增广资源集、微软对话机器人框架 、 GitHub Typo Corpus：大规模GitHub多语言拼写错误/语法错误数据集、TextCluster：短文本聚类预处理模块 Short text cluster、面向语音识别的中文文本规范化、BLINK：最先进的实体链接库、BertPunc：基于BERT的最先进标点修复模型、Tokenizer：快速、可定制的文本词条化库、中文语言理解测评基准，包括代表性的数据集、基准(预训练)模型、语料库、排行榜、spaCy 医学文本挖掘与信息提取 、 NLP任务示例项目代码集、 python拼写检查库、chatbot-list - 行业内关于智能客服、聊天机器人的应用和架构、算法分享和介绍、语音质量评价指标(MOSNet, BSSEval, STOI, PESQ, SRMR)、 用138GB语料训练的法文RoBERTa预训练语言模型 、BERT-NER-Pytorch：三种不同模式的BERT中文NER实验、无道词典 - 有道词典的命令行版本，支持英汉互查和在线查询、2019年NLP亮点回顾、 Chinese medical dialogue data 中文医疗对话数据集 、最好的汉字数字(中文数字)-阿拉伯数字转换工具、 基于百科知识库的中文词语多词义/义项获取与特定句子词语语义消歧、awesome-nlp-sentiment-analysis - 情感分析、情绪原因识别、评价对象和评价词抽取、LineFlow：面向所有深度学习框架的NLP数据高效加载器、中文医学NLP公开资源整理 、MedQuAD：(英文)医学问答数据集、将自然语言数字串解析转换为整数和浮点数、Transfer Learning in Natural Language Processing (NLP) 、面向语音识别的中文/英文发音辞典、Tokenizers：注重性能与多功能性的最先进分词器、CLUENER 细粒度命名实体识别 Fine Grained Named Entity Recognition、 基于BERT的中文命名实体识别、中文谣言数据库、NLP数据集/基准任务大列表、nlp相关的一些论文及代码, 包括主题模型、词向量(Word Embedding)、命名实体识别(NER)、文本分类(Text Classificatin)、文本生成(Text Generation)、文本相似性(Text Similarity)计算等，涉及到各种与nlp相关的算法，基于keras和tensorflow 、Python文本挖掘/NLP实战示例、 Blackstone：面向非结构化法律文本的spaCy pipeline和NLP模型通过同义词替换实现文本“变脸” 、中文 预训练 ELECTREA 模型: 基于对抗学习 pretrain Chinese Model 、albert-chinese-ner - 用预训练语言模型ALBERT做中文NER 、基于GPT2的特定主题文本生成/文本增广、开源预训练语言模型合集、多语言句向量包、编码、标记和实现：一种可控高效的文本生成方法、 英文脏话大列表 、attnvis：GPT2、BERT等transformer语言模型注意力交互可视化、CoVoST：Facebook发布的多语种语音-文本翻译语料库，包括11种语言(法语、德语、荷兰语、俄语、西班牙语、意大利语、土耳其语、波斯语、瑞典语、蒙古语和中文)的语音、文字转录及英文译文、Jiagu自然语言处理工具 - 以BiLSTM等模型为基础，提供知识图谱关系抽取 中文分词 词性标注 命名实体识别 情感分析 新词发现 关键词 文本摘要 文本聚类等功能、用unet实现对文档表格的自动检测，表格重建、NLP事件提取文献资源列表 、 金融领域自然语言处理研究资源大列表、CLUEDatasetSearch - 中英文NLP数据集：搜索所有中文NLP数据集，附常用英文NLP数据集 、medical_NER - 中文医学知识图谱命名实体识别 、(哈佛)讲因果推理的免费书、知识图谱相关学习资料/数据集/工具资源大列表、Forte：灵活强大的自然语言处理pipeline工具集 、Python字符串相似性算法库、PyLaia：面向手写文档分析的深度学习工具包、TextFooler：针对文本分类/推理的对抗文本生成模块、Haystack：灵活、强大的可扩展问答(QA)框架、中文关键短语抽取工具\n",
      "\n",
      "Name: whisper\n",
      "Owner: openai\n",
      "Stars: 65711\n",
      "Repository: https://github.com/openai/whisper\n",
      "Description: Robust Speech Recognition via Large-Scale Weak Supervision\n",
      "\n",
      "Name: gpt_academic\n",
      "Owner: binary-husky\n",
      "Stars: 63042\n",
      "Repository: https://github.com/binary-husky/gpt_academic\n",
      "Description: 为GPT/GLM等LLM大语言模型提供实用化交互接口，特别优化论文阅读/润色/写作体验，模块化设计，支持自定义快捷按钮&函数插件，支持Python和C++等项目剖析&自译解功能，PDF/LaTex论文翻译&总结功能，支持并行问询多种LLM模型，支持chatglm3等本地模型。接入通义千问, deepseekcoder, 讯飞星火, 文心一言, llama2, rwkv, claude2, moss等。\n",
      "\n",
      "Name: ansible\n",
      "Owner: ansible\n",
      "Stars: 62031\n",
      "Repository: https://github.com/ansible/ansible\n",
      "Description: Ansible is a radically simple IT automation platform that makes your applications and systems easier to deploy and maintain. Automate everything from code deployment to network configuration to cloud management, in a language that approaches plain English, using SSH, with no agents to install on remote systems. https://docs.ansible.com.\n",
      "\n",
      "Name: cpython\n",
      "Owner: python\n",
      "Stars: 61601\n",
      "Repository: https://github.com/python/cpython\n",
      "Description: The Python programming language\n",
      "\n",
      "Name: manim\n",
      "Owner: 3b1b\n",
      "Stars: 61239\n",
      "Repository: https://github.com/3b1b/manim\n",
      "Description: Animation engine for explanatory math videos\n",
      "\n",
      "Name: d2l-zh\n",
      "Owner: d2l-ai\n",
      "Stars: 60220\n",
      "Repository: https://github.com/d2l-ai/d2l-zh\n",
      "Description: 《动手学深度学习》：面向中文读者、能运行、可讨论。中英文版被70多个国家的500多所大学用于教学。\n",
      "\n",
      "Name: screenshot-to-code\n",
      "Owner: abi\n",
      "Stars: 55365\n",
      "Repository: https://github.com/abi/screenshot-to-code\n",
      "Description: Drop in a screenshot and convert it to clean code (HTML/Tailwind/React/Vue)\n",
      "\n",
      "Name: llama\n",
      "Owner: meta-llama\n",
      "Stars: 54931\n",
      "Repository: https://github.com/meta-llama/llama\n",
      "Description: Inference code for Llama models\n",
      "\n",
      "Name: sherlock\n",
      "Owner: sherlock-project\n",
      "Stars: 53217\n",
      "Repository: https://github.com/sherlock-project/sherlock\n",
      "Description: Hunt down social media accounts by username across social networks\n",
      "\n",
      "Name: private-gpt\n",
      "Owner: zylon-ai\n",
      "Stars: 53210\n",
      "Repository: https://github.com/zylon-ai/private-gpt\n",
      "Description: Interact with your documents using the power of GPT, 100% privately, no data leaks\n",
      "\n",
      "Name: annotated_deep_learning_paper_implementations\n",
      "Owner: labmlai\n",
      "Stars: 52689\n",
      "Repository: https://github.com/labmlai/annotated_deep_learning_paper_implementations\n",
      "Description: 🧑‍🏫 60 Implementations/tutorials of deep learning papers with side-by-side notes 📝; including transformers (original, xl, switch, feedback, vit, ...), optimizers (adam, adabelief, sophia, ...), gans(cyclegan, stylegan2, ...), 🎮 reinforcement learning (ppo, dqn), capsnet, distillation, ... 🧠\n",
      "\n",
      "Name: requests\n",
      "Owner: psf\n",
      "Stars: 51850\n",
      "Repository: https://github.com/psf/requests\n",
      "Description: A simple, yet elegant, HTTP library.\n",
      "\n",
      "Name: gpt-engineer\n",
      "Owner: gpt-engineer-org\n",
      "Stars: 51571\n",
      "Repository: https://github.com/gpt-engineer-org/gpt-engineer\n",
      "Description: Specify what you want it to build, the AI asks for clarification, and then builds it. Completely separate team and codebase from the AI Web App builder https://gptengineer.app\n",
      "\n",
      "Selected information about first repository:\n",
      "Name: system-design-primer\n",
      "Owner: donnemartin\n",
      "Stars: 266405\n",
      "Repository: https://github.com/donnemartin/system-design-primer\n",
      "Created: 2017-02-26T16:15:28Z\n",
      "Updated: 2024-08-08T05:31:05Z\n",
      "Description: Learn how to design large-scale systems. Prep for the system design interview.  Includes Anki flashcards.\n",
      "allow_forking\n",
      "archive_url\n",
      "archived\n",
      "assignees_url\n",
      "blobs_url\n",
      "branches_url\n",
      "clone_url\n",
      "collaborators_url\n",
      "comments_url\n",
      "commits_url\n",
      "compare_url\n",
      "contents_url\n",
      "contributors_url\n",
      "created_at\n",
      "default_branch\n",
      "deployments_url\n",
      "description\n",
      "disabled\n",
      "downloads_url\n",
      "events_url\n",
      "fork\n",
      "forks\n",
      "forks_count\n",
      "forks_url\n",
      "full_name\n",
      "git_commits_url\n",
      "git_refs_url\n",
      "git_tags_url\n",
      "git_url\n",
      "has_discussions\n",
      "has_downloads\n",
      "has_issues\n",
      "has_pages\n",
      "has_projects\n",
      "has_wiki\n",
      "homepage\n",
      "hooks_url\n",
      "html_url\n",
      "id\n",
      "is_template\n",
      "issue_comment_url\n",
      "issue_events_url\n",
      "issues_url\n",
      "keys_url\n",
      "labels_url\n",
      "language\n",
      "languages_url\n",
      "license\n",
      "merges_url\n",
      "milestones_url\n",
      "mirror_url\n",
      "name\n",
      "node_id\n",
      "notifications_url\n",
      "open_issues\n",
      "open_issues_count\n",
      "owner\n",
      "private\n",
      "pulls_url\n",
      "pushed_at\n",
      "releases_url\n",
      "score\n",
      "size\n",
      "ssh_url\n",
      "stargazers_count\n",
      "stargazers_url\n",
      "statuses_url\n",
      "subscribers_url\n",
      "subscription_url\n",
      "svn_url\n",
      "tags_url\n",
      "teams_url\n",
      "topics\n",
      "trees_url\n",
      "updated_at\n",
      "url\n",
      "visibility\n",
      "watchers\n",
      "watchers_count\n",
      "web_commit_signoff_required\n"
     ]
    }
   ],
   "source": [
    "#python_repos.py\n",
    "import requests\n",
    "\n",
    "# Faz uma chamada de API e armazena a resposta \n",
    "url = 'https://api.github.com/search/repositories?q=language:python&sort=stars' \n",
    "r = requests.get(url) \n",
    "print(\"Status code:\", r.status_code)\n",
    "\n",
    "# Armazena a resposta da API em uma variável \n",
    "response_dict = r.json() \n",
    "print(\"Total repositories:\", response_dict['total_count'])\n",
    "\n",
    "# Explora informações sobre os repositórios  \n",
    "repo_dicts = response_dict['items']\n",
    "print(\"Repositories returned:\", len(repo_dicts))\n",
    "print(\"\\nSelected information about each repository:\") \n",
    "for repo_dict in repo_dicts: \n",
    "    print('\\nName:', repo_dict['name']) \n",
    "    print('Owner:', repo_dict['owner']['login']) \n",
    "    print('Stars:', repo_dict['stargazers_count'])\n",
    "    print('Repository:', repo_dict['html_url']) \n",
    "    print('Description:', repo_dict['description'])\n",
    "\n",
    "# Analisa o primeiro repositório \n",
    "repo_dict = repo_dicts[0]\n",
    "print(\"\\nSelected information about first repository:\") \n",
    "print('Name:', repo_dict['name']) \n",
    "print('Owner:', repo_dict['owner']['login']) \n",
    "print('Stars:', repo_dict['stargazers_count']) \n",
    "print('Repository:', repo_dict['html_url']) \n",
    "print('Created:', repo_dict['created_at']) \n",
    "print('Updated:', repo_dict['updated_at']) \n",
    "print('Description:', repo_dict['description'])\n",
    "\n",
    "for key in sorted(repo_dict.keys()): \n",
    "    print(key)"
   ]
  },
  {
   "cell_type": "markdown",
   "id": "16a4ed51-a62d-4b6c-ab72-ad97a6a0d7fd",
   "metadata": {},
   "source": [
    "Exibimos uma mensagem introdutória. E percorremos todos os dicionários em <code>repo_dicts</code> com um laço. **Nesse laço exibimos o <code>nome de cada projeto, o seu proprietário, quantas estrelas o projeto recebeu, seu URL no GitHub</code> e a sua descrição.**\n",
    "\n",
    "**Alguns projetos interessantes aparecem nesse resultado, e pode valer a pena dar uma olhada em alguns.** No entanto, não gaste muito tempo nisso, pois estamos prestes a criar uma visualização que facilitará bastante a leitura dos resultados."
   ]
  },
  {
   "cell_type": "markdown",
   "id": "ac58b1ed-792f-494e-bf1d-9579cf5604f0",
   "metadata": {},
   "source": [
    "### Monitorando os limites da taxa de uso da <code>**API**</code>"
   ]
  },
  {
   "cell_type": "markdown",
   "id": "9f658992-7e47-4990-9526-63c25215f0f3",
   "metadata": {},
   "source": [
    "**A maioria das <code>APIs</code> tem uma taxa de uso limitada, o que significa que há um limite para quantas requisições podemos fazer em determinado período de tempo.** Para ver se estamos nos aproximando dos limites do <code>**GitHub**</code>, forneça o endereço https://api.github.com/rate_limit em um navegador web. Você deverá ver uma resposta como esta:\n",
    "\n",
    "**\"resources\": {**   \n",
    "**\"core\": { \"limit\": 60, \"remaining\": 58, \"reset\": 1426082320 },    \n",
    "\"search\": {  \"limit\": 10, \"remaining\": 8, \"reset\": 1426078803 }},   \n",
    "\"rate\": { \"limit\": 60, \"remaining\": 58, \"reset\": 1426082320 }}**"
   ]
  },
  {
   "cell_type": "markdown",
   "id": "666289ef-1372-4b42-bd81-5cb75d68e7df",
   "metadata": {},
   "source": [
    "**A informação em que estamos interessados é o limite da taxa de uso da <code>API de pesquisa</code>. E vemos que o limite é de dez requisições por minuto e que temos oito requisições restantes para o minuto atual. O valor de <code>reinicialização (reset)</code> representa o instante na <code>Era Unix (Unix time) ou em epoch time</code>**(o número de segundos desde a meia-noite de 1 de janeiro de 1970) em que nossa quota será reiniciada. Se atingir sua quota, você obterá uma resposta breve que permitirá saber que o limite da <code>**API**</code> foi atingido. Se alcançar o limite, basta esperar até que sua quota seja reiniciada.\n",
    "\n",
    "**NOTA**   \n",
    "Muitas <code>**APIs**</code> exigem que você se registre e obtenha uma chave para fazer chamadas de <code>**API**</code>. Na época em que este texto foi escrito, o <code>**GitHub**</code> não tinha esse requisito, porém, se você adquirir uma chave de <code>**API**</code>, seus limites serão bem maiores."
   ]
  },
  {
   "cell_type": "markdown",
   "id": "9e42cb93-49bd-4ecf-bdfd-2e541cfbcb93",
   "metadata": {},
   "source": [
    "### Visualizando os repositórios usando o <code>**Pygal**</code>"
   ]
  },
  {
   "cell_type": "markdown",
   "id": "979eb5e6-01e7-488a-be6f-542656d4fe05",
   "metadata": {},
   "source": [
    "Agora que temos alguns dados interessantes, **vamos criar uma visualização que mostre a popularidade relativa dos projetos Python no <code>GitHub</code>. Criaremos um <code>gráfico de barras interativo</code>**: a altura de cada barra representará o número de estrelas que o projeto recebeu. Clicar em uma barra levará você para a página inicial do projeto no <code>**GitHub**</code>. A seguir, temos uma tentativa inicial:"
   ]
  },
  {
   "cell_type": "code",
   "execution_count": 8,
   "id": "9913babf-058e-4198-86bc-f9862f9ee06e",
   "metadata": {
    "tags": []
   },
   "outputs": [
    {
     "name": "stdout",
     "output_type": "stream",
     "text": [
      "Status code: 200\n",
      "Total repositories: 16327656\n"
     ]
    }
   ],
   "source": [
    "#python_repos.py \n",
    "import requests \n",
    "import pygal \n",
    "from pygal.style import LightColorizedStyle as LCS, LightenStyle as LS\n",
    "\n",
    "# Faz uma chamada de API e armazena a resposta \n",
    "URL = 'https://api.github.com/search/repositories?q=language:python&sort=star' \n",
    "r = requests.get(URL) \n",
    "print(\"Status code:\", r.status_code)\n",
    "\n",
    "#Armazena a resposta da API em uma variável \n",
    "response_dict = r.json() \n",
    "print(\"Total repositories:\", response_dict['total_count'])\n",
    "\n",
    "# Explora informações sobre os repositórios \n",
    "repo_dicts = response_dict['items']\n",
    "\n",
    "names, stars = [], []\n",
    "for repo_dict in repo_dicts: \n",
    "    names.append(repo_dict['name']) \n",
    "    stars.append(repo_dict['stargazers_count'])\n",
    "\n",
    "# Cria a visualização \n",
    "my_style = LS('#333366', base_style=LCS) \n",
    "chart = pygal.Bar(style=my_style, x_label_rotation=45, show_legend=False) \n",
    "chart.title = 'Most-Starred Python Projects on GitHub'\n",
    "chart.x_labels = names\n",
    "chart.add('', stars) \n",
    "chart.render_to_file('python_repos.svg')"
   ]
  },
  {
   "cell_type": "markdown",
   "id": "a3c3d175-2aaf-443b-b500-2224e857121f",
   "metadata": {},
   "source": [
    "**Começamos importando o <code>pygal</code> e os estilos do <code>pygal</code>  de que precisaremos para o gráfico.** Continuamos exibindo o status da resposta da chamada à <code>**API**</code> e o número total de repositórios encontrados para que possamos saber caso haja algum problema com a chamada da <code>**API**</code>. Não exibimos mais as informações sobre os projetos específicos devolvidos, pois elas serão incluídas na visualização.\n",
    "\n",
    "**E criamos duas <code>listas vazias</code> para armazenar os dados que incluiremos no gráfico.** Precisaremos do nome de cada projeto para rotular as barras e do número de estrelas para determinar a altura delas. **No laço, concatenamos nessas listas o nome de cada projeto e o número de estrelas que ele tem.**\n",
    "\n",
    "**Em seguida, definimos um estilo usando a classe <code>LightenStyle (alias LS)</code> e usamos um tom de 'azul-escuro' como base. Também passamos o argumento <code>base_style</code> para utilizar a classe <code>LightenStyle (alias LS)</code>. Então usamos <code>Bar()</code> para criar um gráfico de barras simples e lhe passamos <code>my_style</code>.** Além disso, passamos outros dois argumentos de estilo: definimos a rotação dos nomes ao longo do <code>**eixo x em 45 graus (x_label_rotation=45)**</code> e ocultamos a <code>**legenda**</code>, pois estamos plotando apenas uma série no gráfico <code>**(show_legend=False)**</code>. **Então fornecemos um título ao gráfico e definimos o atributo <code>x_labels</code> com a lista <code>names</code>**.\n",
    "\n",
    "**Como não é necessário nomear essa série de dados, passamos uma <code>string vazia</code> para o rótulo quando adicionamos os dados.** O gráfico resultante pode ser visto na Figura 17.1. Podemos ver que os primeiros projetos são significativamente mais populares que os demais, mas todos eles são importantes no ecossistema de Python."
   ]
  },
  {
   "cell_type": "markdown",
   "id": "9f2e22cd-075e-4f8f-8047-13bed0bcf9dc",
   "metadata": {},
   "source": [
    "### Aperfeiçoando os gráficos do **<code>pygal</code>**"
   ]
  },
  {
   "cell_type": "markdown",
   "id": "b538757d-858d-4c56-aa7d-4712cecc6eb3",
   "metadata": {},
   "source": [
    "**Vamos melhorar a estilização de nosso gráfico.** Faremos algumas personalizações diferentes, portanto, em primeiro lugar, reestruture um pouco o código criando um objeto de configuração que contenha todas as nossas personalizações, para que seja passado para <code>**Bar()**</code>: "
   ]
  },
  {
   "cell_type": "code",
   "execution_count": 15,
   "id": "06d992d8-5d7a-4a43-9e7c-8b13c64e1cbf",
   "metadata": {
    "tags": []
   },
   "outputs": [
    {
     "name": "stdout",
     "output_type": "stream",
     "text": [
      "Status code: 200\n",
      "Total repositories: 15786789\n"
     ]
    }
   ],
   "source": [
    "#python_repos.py \n",
    "import requests \n",
    "import pygal \n",
    "from pygal.style import LightColorizedStyle as LCS, LightenStyle as LS\n",
    "\n",
    "# Faz uma chamada de API e armazena a resposta \n",
    "URL = 'https://api.github.com/search/repositories?q=language:python&sort=star' \n",
    "r = requests.get(URL) \n",
    "print(\"Status code:\", r.status_code)\n",
    "\n",
    "#Armazena a resposta da API em uma variável \n",
    "response_dict = r.json() \n",
    "print(\"Total repositories:\", response_dict['total_count'])\n",
    "\n",
    "# Explora informações sobre os repositórios \n",
    "repo_dicts = response_dict['items']\n",
    "\n",
    "names, stars = [], []\n",
    "for repo_dict in repo_dicts: \n",
    "    names.append(repo_dict['name']) \n",
    "    stars.append(repo_dict['stargazers_count'])\n",
    "\n",
    "# Cria a visualização \n",
    "my_style = LS('#333366', base_style=LCS)\n",
    "my_config = pygal.Config() \n",
    "my_config.x_label_rotation = 45\n",
    "my_config.show_legend = False \n",
    "my_config.title_font_size = 24 \n",
    "my_config.label_font_size = 14\n",
    "my_config.major_label_font_size = 18\n",
    "my_config.truncate_label = 15\n",
    "my_config.show_y_guides = False \n",
    "my_config.width = 1000\n",
    "chart = pygal.Bar(my_config, style=my_style)\n",
    "\n",
    "chart.title = 'Most-Starred Python Projects on GitHub'\n",
    "chart.x_labels = names\n",
    "chart.add('', stars) \n",
    "chart.render_to_file('python_repos1.svg')"
   ]
  },
  {
   "cell_type": "markdown",
   "id": "aa44e312-cbb1-4137-91f6-a10cc937e944",
   "metadata": {},
   "source": [
    "E criamos **uma instância chamada <code>my_config</code> da classe Config do Pygal<code></code>; modificar os atributos de <code>my_config</code> personalizará a aparência do gráfico. Definimos os dois atributos <code>x_label_rotation e show_legend</code>, originalmente passados como argumentos nomeados quando criamos uma instância de <code>Bar</code>. E definimos o tamanho da fonte para o título do gráfico e para os rótulos menores e maiores.** Os rótulos menores nesse gráfico são os nomes dos projetos ao longo do <code>**eixo x**</code> e a maior parte dos números no <code>**eixo y**</code>. Os rótulos maiores são apenas os rótulos do <code>**eixo y**</code> que marcam incrementos de 5.000 estrelas. Esses rótulos serão maiores, e é por isso que os diferenciamos. **E usamos <code>truncate_label</code> para reduzir os nomes de projeto mais longos a 15 caracteres.** (Quando você passar o mouse sobre um nome de projeto truncado na tela, o nome completo aparecerá.) **Em seguida, ocultamos as linhas horizontais do gráfico definindo <code>show_y_guides com False</code>**. Por fim, definimos uma largura personalizada para que o gráfico use mais do espaço disponível no navegador.\n",
    "\n",
    "**Agora, quando criamos uma instância de <code>Bar at</code>, passamos <code>my_config</code> como primeiro argumento, e todas as nossas definições de configuração serão enviadas em um só argumento.** Podemos fazer quantas modificações de estilo e de configuração quisermos por meio de <code>**my_config**</code>, e a linha e não mudará. A Figura 17.2 mostra o gráfico reestilizado."
   ]
  },
  {
   "cell_type": "markdown",
   "id": "be4d092d-f24d-46c9-98a5-9f64ca38eab5",
   "metadata": {},
   "source": [
    "### Acrescentando dicas de contexto personalizadas"
   ]
  },
  {
   "cell_type": "markdown",
   "id": "8e410a3f-71ff-4fb5-9eba-519ecad74b3c",
   "metadata": {},
   "source": [
    "**No <code>Pygal</code>, passar o cursor sobre uma barra individual faz com que as informações representadas pela barra sejam exibidas.** Elas são comumente chamadas de **<code>dicas de contexto (tooltips)</code> e, nesse caso, mostram o número de estrelas que um projeto tem. Criaremos uma <code>dica de contexto</code> personalizada que mostre também a descrição de cada projeto.**\n",
    "\n",
    "**Vamos ver um pequeno exemplo que usa os três primeiros projetos plotados individualmente, com rótulos personalizados passados para cada barra**. Para isso passaremos uma lista de dicionários para **<code>add()</code>** no lugar de uma lista de valores:"
   ]
  },
  {
   "cell_type": "code",
   "execution_count": 20,
   "id": "d92642df-ecbb-4de2-a363-3d1134576970",
   "metadata": {
    "tags": []
   },
   "outputs": [],
   "source": [
    "#bar_descriptions.py \n",
    "import pygal \n",
    "from pygal.style import LightColorizedStyle as LCS, LightenStyle as LS\n",
    "\n",
    "my_style = LS('#333366', base_style=LCS) \n",
    "chart = pygal.Bar(style=my_style, x_label_rotation=45, show_legend=False) \n",
    "chart.title = 'Python Projects'\n",
    "chart.x_labels = ['httpie', 'django', 'flask']\n",
    "plot_dicts = [{'value': 16101, 'label': 'Description of httpie.'}, \n",
    "              {'value': 15028, 'label': 'Description of django.'}, \n",
    "              {'value': 14798, 'label': 'Description of flask.'}, ]\n",
    "chart.add('', plot_dicts) \n",
    "chart.render_to_file('bar_descriptions.svg')"
   ]
  },
  {
   "cell_type": "markdown",
   "id": "f5806ea6-21aa-46bc-aeb8-03eb4c75caa8",
   "metadata": {},
   "source": [
    "**E definimos uma lista chamada <code>plot_dicts</code>, que contém três dicionários: um para o projeto <code>HTTPie</code>, um para o projeto <code>Django</code> e outro para o <code>Flask</code>.** Cada dicionário tem duas chaves: **<code>'value' e 'label'</code>. O <code>Pygal</code> usa o número associado a <code>'value'</code> para descobrir a altura que cada barra deve ter, e utiliza a string associada a <code>'label'</code> para criar a <code>dica de contexto</code> de cada barra.** Por exemplo, o primeiro dicionário criará uma barra que representa um projeto com 16.101 estrelas, e sua <code>**dica de contexto**</code> conterá <code>**Description of httpie (Descrição de httpie)**</code>.\n",
    "\n",
    "**O método <code>add()</code> precisa de uma string e de uma lista. Quando chamamos esse método, passamos a lista de dicionários que representa as barras <code>(plot_dicts)</code>.** A Figura 17.3 mostra uma das dicas de contexto. O <code>**Pygal**</code> inclui o número de estrelas como uma <code>**dica de contexto default**</code>, além da dica de contexto personalizada que lhe passamos."
   ]
  },
  {
   "cell_type": "markdown",
   "id": "5fc630c6-f16c-4a27-bc91-fd9f21ca47f3",
   "metadata": {},
   "source": [
    "### Plotando os dados"
   ]
  },
  {
   "cell_type": "markdown",
   "id": "685896e0-3408-4cf5-82e2-32ec7ab4ceba",
   "metadata": {},
   "source": [
    "**Para plotar nossos dados, vamos gerar <code>(plot_dicts)</code> automaticamente para os 30 projetos devolvidos pela chamada de <code>API</code>.**   \n",
    "Eis o código para fazer isso:"
   ]
  },
  {
   "cell_type": "code",
   "execution_count": 31,
   "id": "f051008f-8121-4219-b1e3-07e357c5f9b6",
   "metadata": {
    "tags": []
   },
   "outputs": [
    {
     "name": "stdout",
     "output_type": "stream",
     "text": [
      "Status code: 200\n",
      "Total repositories: 16065853\n",
      "Number of items: 30\n"
     ]
    }
   ],
   "source": [
    "#python_repos.py \n",
    "import requests \n",
    "import pygal \n",
    "from pygal.style import LightColorizedStyle as LCS, LightenStyle as LS\n",
    "\n",
    "# Faz uma chamada de API e armazena a resposta \n",
    "URL = 'https://api.github.com/search/repositories?q=language:python&sort=star' \n",
    "r = requests.get(URL) \n",
    "print(\"Status code:\", r.status_code)\n",
    "\n",
    "#Armazena a resposta da API em uma variável \n",
    "response_dict = r.json() \n",
    "print(\"Total repositories:\", response_dict['total_count'])\n",
    "\n",
    "# Explora informações sobre os repositórios \n",
    "repo_dicts = response_dict['items']\n",
    "print(\"Number of items:\", len(repo_dicts))\n",
    "\n",
    "names, plot_dicts = [], []\n",
    "for repo_dict in repo_dicts: \n",
    "    names.append(repo_dict['name'])\n",
    "    plot_dict = {'value': repo_dict['stargazers_count'], 'label':repo_dict['description'], } \n",
    "    plot_dicts.append(plot_dict)\n",
    "    \n",
    "# Cria a visualização \n",
    "my_style = LS('#333366', base_style=LCS)\n",
    "my_config = pygal.Config() \n",
    "my_config.x_label_rotation = 45\n",
    "my_config.show_legend = False \n",
    "my_config.title_font_size = 24 \n",
    "my_config.label_font_size = 14\n",
    "my_config.major_label_font_size = 18\n",
    "my_config.truncate_label = 15\n",
    "my_config.show_y_guides = False \n",
    "my_config.width = 1000\n",
    "chart = pygal.Bar(my_config, style=my_style)\n",
    "\n",
    "chart.title = 'Most-Starred Python Projects on GitHub'\n",
    "chart.x_labels = names\n",
    "chart.add('', stars)\n",
    "chart.add('', plot_dicts)\n",
    "chart.render_to_file('python_repos2.svg')"
   ]
  },
  {
   "cell_type": "markdown",
   "id": "a5ebf1b4-69b7-48bf-8385-319473944ace",
   "metadata": {},
   "source": [
    "**E criamos uma lista vazia para names e outra para <code>(plot_dicts)</code>. Ainda precisamos da lista <code>names</code> para gerar os rótulos do <code>eixo x</code>.**\n",
    "**No laço criamos o dicionário <code>plot_dict</code> para cada projeto. Armazenamos o número de estrelas com a chave <code>'value'</code> e a descrição do projeto com a chave <code>'label'</code> em cada <code>plot_dict</code>.** Então concatenamos o <code>**plot_dict**</code> de cada projeto em <code>**plot_dicts**</code>.     \n",
    "E passamos a lista <code>**plot_dicts para add()**</code> . A Figura 17.4 mostra o gráfico resultante."
   ]
  },
  {
   "cell_type": "markdown",
   "id": "55ac71be-6b3a-496a-bfd0-9c271b73cf69",
   "metadata": {},
   "source": [
    "### Adicionando <code>**links**</code> que podem ser clicados em nosso gráfico"
   ]
  },
  {
   "cell_type": "markdown",
   "id": "ae14e289-29ea-4545-859b-60a35e8940a3",
   "metadata": {},
   "source": [
    "O **<code>Pygal</code> também permite usar cada barra do gráfico como um <code>link</code> para um site. Para acrescentar essa funcionalidade, basta adicionar uma linha em nosso código, tirando proveito do dicionário que criamos para cada projeto.** Adicionamos um novo <code>**par chave-valor ao plot_dict**</code> de cada projeto usando a <code>**chave 'xlink'**</code>:"
   ]
  },
  {
   "cell_type": "code",
   "execution_count": 38,
   "id": "09b76be5-43a1-4f24-b5f5-13257a83db85",
   "metadata": {
    "tags": []
   },
   "outputs": [
    {
     "name": "stdout",
     "output_type": "stream",
     "text": [
      "Status code: 200\n",
      "Total repositories: 16317343\n",
      "Number of items: 30\n"
     ]
    }
   ],
   "source": [
    "#python_repos.py \n",
    "import requests \n",
    "import pygal \n",
    "from pygal.style import LightColorizedStyle as LCS, LightenStyle as LS\n",
    "\n",
    "# Faz uma chamada de API e armazena a resposta \n",
    "URL = 'https://api.github.com/search/repositories?q=language:python&sort=star' \n",
    "r = requests.get(URL) \n",
    "print(\"Status code:\", r.status_code)\n",
    "\n",
    "#Armazena a resposta da API em uma variável \n",
    "response_dict = r.json() \n",
    "print(\"Total repositories:\", response_dict['total_count'])\n",
    "\n",
    "# Explora informações sobre os repositórios \n",
    "repo_dicts = response_dict['items']\n",
    "print(\"Number of items:\", len(repo_dicts))\n",
    "\n",
    "names, plot_dicts = [], []\n",
    "for repo_dict in repo_dicts: \n",
    "    names.append(repo_dict['name'])\n",
    "    plot_dict = {'value': repo_dict['stargazers_count'], 'label':repo_dict['description'], 'xlink': repo_dict['html_url'],} \n",
    "    plot_dicts.append(plot_dict)\n",
    "    \n",
    "# Cria a visualização \n",
    "my_style = LS('#333366', base_style=LCS)\n",
    "my_config = pygal.Config() \n",
    "my_config.x_label_rotation = 45\n",
    "my_config.show_legend = False \n",
    "my_config.title_font_size = 24 \n",
    "my_config.label_font_size = 14\n",
    "my_config.major_label_font_size = 18\n",
    "my_config.truncate_label = 15\n",
    "my_config.show_y_guides = False \n",
    "my_config.width = 1000\n",
    "chart = pygal.Bar(my_config, style=my_style)\n",
    "\n",
    "chart.title = 'Most-Starred Python Projects on GitHub'\n",
    "chart.x_labels = names\n",
    "chart.add('', stars)\n",
    "chart.add('', plot_dicts)\n",
    "chart.render_to_file('python_repos2.svg')"
   ]
  },
  {
   "cell_type": "markdown",
   "id": "db9eb437-530f-4942-8518-ed88704d5be3",
   "metadata": {},
   "source": [
    "O **<code>Pygal</code> usa o <code>URL</code> associado a <code>'xlink'</code> para transformar cada barra em um <code>link ativo</code>. Você pode clicar em qualquer uma das barras do gráfico e a página desse projeto no <code>GitHub</code> será automaticamente aberta em uma nova aba em seu navegador.** Agora você tem uma visualização informativa e interativa dos dados obtidos por meio de uma <code>**API**</code>! "
   ]
  },
  {
   "cell_type": "markdown",
   "id": "172914a8-b953-4c87-8714-5017afae49e7",
   "metadata": {},
   "source": [
    "### A **API de Hacker News**"
   ]
  },
  {
   "cell_type": "markdown",
   "id": "b421d1a2-096f-4173-a5e6-c7fb085e66c7",
   "metadata": {},
   "source": [
    "Para explorar o uso de chamadas de <code>**API**</code> em outros sites, daremos uma olhada em <code>**Hacker News**</code> (http://news.ycombinator.com/). **No <code>Hacker News</code>, as pessoas compartilham artigos sobre programação e tecnologia, e se envolvem em discussões entusiasmadas sobre esses artigos. A <code>API do Hacker News</code> oferece acesso a dados sobre todos os artigos submetidos e os comentários do site, disponíveis sem a necessidade de se registrar para obter uma chave.**    \n",
    "A chamada a seguir devolve informações sobre os principais artigos do momento (na ocasião em que este livro foi escrito):\n",
    "https://hacker- news.firebaseio.com/v0/item/9884165.json    \n",
    "\n",
    "A resposta é um dicionário com informações sobre o artigo cujo ID é 9884165:    \n",
    "**{     \n",
    "u 'url': 'http://www.bbc.co.uk/news/science-environment-33524589', 'type':    \n",
    "'story', v 'title': 'New Horizons: Nasa spacecraft speeds past Pluto', w 'descendants': 141, 'score': 230, 'time':    1436875181, 'text': '', 'by': 'nns', 'id': 9884165, x 'kids': [9884723, 9885099, 9884789, 9885604, 9885844]\n",
    "}**"
   ]
  },
  {
   "cell_type": "markdown",
   "id": "617e0f5c-36c6-4fd4-9a37-e24727cd6e8d",
   "metadata": {
    "tags": []
   },
   "source": [
    "O dicionário contém várias chaves com as quais podemos trabalhar, por exemplo, <code>**'url' e 'title'**</code>. **A chave '<code>descendants'</code> contém a quantidade de comentários que um artigo recebeu . A chave <code>'kids'</code> oferece os <code>IDs</code> de todos os comentários feitos diretamente em resposta a esse artigo submetido.** Cada um desses comentários pode ter filhos próprios também, portanto o número de descendentes que um artigo submetido tem pode ser maior que o número de seus filhos.\n",
    "\n",
    "**Vamos fazer uma chamada de <code>API</code> que devolva os <code>IDs</code> dos principais artigos do momento no <code>Hacker News</code> e então analisaremos cada um desses artigos:**"
   ]
  },
  {
   "cell_type": "code",
   "execution_count": 57,
   "id": "100f3bf8-42ab-4e7c-9cda-4dca75f76122",
   "metadata": {
    "tags": []
   },
   "outputs": [
    {
     "name": "stdout",
     "output_type": "stream",
     "text": [
      "Status code: 200\n",
      "200\n",
      "200\n",
      "200\n",
      "200\n",
      "200\n",
      "200\n",
      "200\n",
      "200\n",
      "200\n",
      "200\n",
      "200\n",
      "200\n",
      "200\n",
      "200\n",
      "200\n",
      "200\n",
      "200\n",
      "200\n",
      "200\n",
      "200\n",
      "200\n",
      "200\n",
      "200\n",
      "200\n",
      "200\n",
      "200\n",
      "200\n",
      "200\n",
      "200\n",
      "200\n",
      "\n",
      "Title: In ‘The Book Against Death,’ Elias Canetti rants against mortality\n",
      "Discussion link: http://news.ycombinator.com/item?id=41186117\n",
      "Comments: 425\n",
      "\n",
      "Title: NASA Says Boeing Starliner Astronauts May Fly Home on SpaceX in 2025\n",
      "Discussion link: http://news.ycombinator.com/item?id=41184359\n",
      "Comments: 405\n",
      "\n",
      "Title: Prevention of HIV\n",
      "Discussion link: http://news.ycombinator.com/item?id=41184365\n",
      "Comments: 243\n",
      "\n",
      "Title: RLHF is just barely RL\n",
      "Discussion link: http://news.ycombinator.com/item?id=41188647\n",
      "Comments: 196\n",
      "\n",
      "Title: More and more German trains are not allowed to enter Switzerland\n",
      "Discussion link: http://news.ycombinator.com/item?id=41189834\n",
      "Comments: 181\n",
      "\n",
      "Title: How French Drains Work\n",
      "Discussion link: http://news.ycombinator.com/item?id=41176461\n",
      "Comments: 176\n",
      "\n",
      "Title: Firefox Sidebar and Vertical tabs: try them out in Nightly Firefox Labs 131\n",
      "Discussion link: http://news.ycombinator.com/item?id=41192118\n",
      "Comments: 99\n",
      "\n",
      "Title: Tony Hawk's Pro Strcpy\n",
      "Discussion link: http://news.ycombinator.com/item?id=41183115\n",
      "Comments: 87\n",
      "\n",
      "Title: Puppeteer Support for Firefox\n",
      "Discussion link: http://news.ycombinator.com/item?id=41182847\n",
      "Comments: 85\n",
      "\n",
      "Title: The Story of Samsung's failed deal with iFixit, as told by iFixit's CEO\n",
      "Discussion link: http://news.ycombinator.com/item?id=41167626\n",
      "Comments: 70\n",
      "\n",
      "Title: Cosmic: A New Desktop Environment\n",
      "Discussion link: http://news.ycombinator.com/item?id=41192303\n",
      "Comments: 68\n",
      "\n",
      "Title: Introducing the RP2350\n",
      "Discussion link: http://news.ycombinator.com/item?id=41191069\n",
      "Comments: 43\n",
      "\n",
      "Title: Raspberry Pi Pico 2, our new $5 microcontroller board, on sale now\n",
      "Discussion link: http://news.ycombinator.com/item?id=41192341\n",
      "Comments: 37\n",
      "\n",
      "Title: Ask HN: Should we bring software dev in-house?\n",
      "Discussion link: http://news.ycombinator.com/item?id=41161315\n",
      "Comments: 34\n",
      "\n",
      "Title: A Better Light Source for Scanning Color Negative Film\n",
      "Discussion link: http://news.ycombinator.com/item?id=41167899\n",
      "Comments: 26\n",
      "\n",
      "Title: ICPP – Running C++ in anywhere like a script\n",
      "Discussion link: http://news.ycombinator.com/item?id=41151013\n",
      "Comments: 24\n",
      "\n",
      "Title: Maximal Min() and Max()\n",
      "Discussion link: http://news.ycombinator.com/item?id=41182917\n",
      "Comments: 22\n",
      "\n",
      "Title: How we found and fixed an eBPF Linux Kernel Vulnerability\n",
      "Discussion link: http://news.ycombinator.com/item?id=41189971\n",
      "Comments: 19\n",
      "\n",
      "Title: Mouse Pong: play a game from mouse's firmware with persistence of vision cursor\n",
      "Discussion link: http://news.ycombinator.com/item?id=41186862\n",
      "Comments: 17\n",
      "\n",
      "Title: Show HN: Orbit – A CSS radial UI composer framework\n",
      "Discussion link: http://news.ycombinator.com/item?id=41189637\n",
      "Comments: 14\n",
      "\n",
      "Title: FlexAttention: The Flexibility of PyTorch with the Performance of FlashAttention\n",
      "Discussion link: http://news.ycombinator.com/item?id=41188966\n",
      "Comments: 10\n",
      "\n",
      "Title: How Long Does Music Stardom Last? A Statistical Analysis\n",
      "Discussion link: http://news.ycombinator.com/item?id=41191540\n",
      "Comments: 5\n",
      "\n",
      "Title: Qwen2-Math\n",
      "Discussion link: http://news.ycombinator.com/item?id=41192247\n",
      "Comments: 4\n",
      "\n",
      "Title: Review – Ford's First Engine\n",
      "Discussion link: http://news.ycombinator.com/item?id=41186631\n",
      "Comments: 3\n",
      "\n",
      "Title: Ontario's Computer: The Burroughs ICON (2022)\n",
      "Discussion link: http://news.ycombinator.com/item?id=41163875\n",
      "Comments: 2\n",
      "\n",
      "Title: Jepsen: Jetcd 0.8.2\n",
      "Discussion link: http://news.ycombinator.com/item?id=41191720\n",
      "Comments: 2\n",
      "\n",
      "Title: Raspberry Pi Pico 2\n",
      "Discussion link: http://news.ycombinator.com/item?id=41192269\n",
      "Comments: 1\n",
      "\n",
      "Title: Paper Straws Are Often Touted as Alternative to Plastic, but They're Toxic\n",
      "Discussion link: http://news.ycombinator.com/item?id=41192959\n",
      "Comments: 1\n",
      "\n",
      "Title: Activeloop (YC S18): Hiring Senior C++ Engineers to Scale Database for AI\n",
      "Discussion link: http://news.ycombinator.com/item?id=41192147\n",
      "Comments: 0\n",
      "\n",
      "Title: Fruitful innovation: Transforming watermelon genetics with advanced base editors\n",
      "Discussion link: http://news.ycombinator.com/item?id=41182810\n",
      "Comments: 0\n"
     ]
    }
   ],
   "source": [
    "import requests\n",
    "from operator import itemgetter\n",
    "\n",
    "# Faz uma chamada de API e armazena a resposta \n",
    "url = 'https://hacker-news.firebaseio.com/v0/topstories.json'\n",
    "r = requests.get(url) \n",
    "print(\"Status code:\", r.status_code)\n",
    "\n",
    "# Processa informações sobre cada artigo submetido \n",
    "submission_ids = r.json() \n",
    "submission_dicts = []\n",
    "for submission_id in submission_ids[:30]: \n",
    "    # Cria uma chamada de API separada para cada artigo submetido \n",
    "    url = ('https://hacker-news.firebaseio.com/v0/item/' + str(submission_id) + '.json') \n",
    "    submission_r = requests.get(url) \n",
    "    print(submission_r.status_code) \n",
    "    response_dict = submission_r.json()\n",
    "    submission_dict = {'title': response_dict['title'], 'link': 'http://news.ycombinator.com/item?id=' + str(submission_id), \n",
    "                       'comments': response_dict.get('descendants', 0) }\n",
    "    submission_dicts.append(submission_dict)\n",
    "\n",
    "# Ordena a lista fora do loop\n",
    "submission_dicts = sorted(submission_dicts, key=itemgetter('comments'), reverse=True)\n",
    "\n",
    "for submission_dict in submission_dicts: \n",
    "    print(\"\\nTitle:\", submission_dict['title']) \n",
    "    print(\"Discussion link:\", submission_dict['link']) \n",
    "    print(\"Comments:\", submission_dict['comments'])"
   ]
  },
  {
   "cell_type": "markdown",
   "id": "d4b3bd97-95bf-4ddb-8c2a-1b586859c996",
   "metadata": {},
   "source": [
    "**Inicialmente fizemos a chamada de <code>API</code> e exibimos o <code>status da resposta</code>. Essa chamada de <code>API</code> devolve uma lista contendo os <code>IDs dos 500</code>  artigos mais populares do <code>Hacker News</code> no momento em que a chamada foi feita. Então convertemos o texto da resposta em uma lista Python, que armazenamos em <code>submission_ids</code>.** Usaremos esses <code>**IDs**</code> para criar um conjunto de <code>**dicionários**</code> em que cada um armazenará informações sobre um dos artigos submetidos.\n",
    "\n",
    "Criamos **uma <code>**lista vazia**</code> chamada <code>submission_dicts</code> para armazenar esses dicionários. Então percorremos os <code>IDs dos 30</code> principais artigos submetidos com um laço. Fazemos uma nova chamada de <code>API</code> para cada artigo gerando um <code>URL</code> que inclui o valor atual de <code>submission_id</code>.** Exibimos o status<code></code> de cada requisição para que possamos ver se ela foi bem-sucedida.\n",
    "\n",
    "**E criamos um dicionário para o artigo submetido processado no momento, no qual armazenamos o <code>título do artigo e um link</code> para a página de discussão desse item**. E armazenamos o número de <code>**comentários**</code> no dicionário. Se um artigo ainda não teve nenhum comentário, a <code>**chave 'descendants'**</code> não estará presente. **Quando você não tiver certeza de que uma chave existe em um dicionário, utilize o método <code>dict.get()</code>, que devolve o valor associado à chave especificada se ela existir, ou o valor que você fornecer se ela não existir (0 nesse exemplo)**. Por fim, concatenamos cada <code>**submission_dict à lista submission_dicts**</code>."
   ]
  },
  {
   "cell_type": "markdown",
   "id": "15e3d0da-5246-4bf6-ba9a-58492255cb00",
   "metadata": {},
   "source": [
    "Os artigos submetidos no <code>**Hacker News**</code> são classificados de acordo com uma pontuação geral, baseada em vários fatores, incluindo quantos votos receberam, quantos comentários foram feitos e quão recentemente o artigo foi submetido.   Queremos ordenar a lista de dicionários de acordo com o número de <code>**comentários**</code>. Para isso, usamos uma função chamada **<code>itemgetter()</code>, proveniente do módulo <code>operator</code>. Passamos a chave <code>'comments'</code> a essa função e ela extrai o valor associado a essa chave de cada dicionário da lista. A função <code>sorted()</code> então utiliza esse valor como base para ordenar a lista.** Ordenamos a lista na ordem inversa para colocar as histórias mais comentadas antes.\n",
    "\n",
    "Depois que a lista estiver ordenada, nós a percorremos com um laço e exibimos três informações sobre cada um dos principais artigos submetidos: **o título, um link para a página de discussão e o número de comentários** que o artigo submetido tem no momento: **Status code: 200     \n",
    "200    \n",
    "200     \n",
    "200     \n",
    "--trecho omitido--**\n"
   ]
  },
  {
   "cell_type": "markdown",
   "id": "4a80e645-6e63-4923-96a2-6df3e4f3dab6",
   "metadata": {},
   "source": [
    "**Você poderia usar um processo semelhante para acessar e analisar informações com qualquer <code>API</code>**. Com esses dados você poderia criar uma visualização que mostre quais artigos submetidos inspiraram as discussões recentes mais entusiasmadas."
   ]
  },
  {
   "cell_type": "markdown",
   "id": "ec3ae172-72db-4006-94b3-76f2cffe3221",
   "metadata": {},
   "source": [
    "## **FAÇA VOCÊ MESMO**"
   ]
  },
  {
   "cell_type": "markdown",
   "id": "1a4efc24-cc34-466f-aa95-43e386fcb037",
   "metadata": {},
   "source": [
    "**17.1 – Outras linguagens:** Modifique a chamada de API em python_repos.py para que ela gere um gráfico mostrando os projetos mais populares em outras linguagens. Experimente usar linguagens como JavaScript, Ruby, C, Java, Perl, Haskell e Go."
   ]
  },
  {
   "cell_type": "code",
   "execution_count": 70,
   "id": "5a45f321-5bc4-48db-85a6-85db6f6c6f14",
   "metadata": {
    "tags": []
   },
   "outputs": [
    {
     "name": "stdout",
     "output_type": "stream",
     "text": [
      "Status code for python: 200\n",
      "Total repositories for python: 15854507\n",
      "Number of items for python: 30\n",
      "Chart for python saved as python_repos.svg\n",
      "Status code for javascript: 200\n",
      "Total repositories for javascript: 26522907\n",
      "Number of items for javascript: 30\n",
      "Chart for javascript saved as javascript_repos.svg\n",
      "Status code for ruby: 200\n",
      "Total repositories for ruby: 2879254\n",
      "Number of items for ruby: 30\n",
      "Chart for ruby saved as ruby_repos.svg\n",
      "Status code for c: 200\n",
      "Total repositories for c: 3125970\n",
      "Number of items for c: 30\n",
      "Chart for c saved as c_repos.svg\n",
      "Status code for java: 200\n",
      "Total repositories for java: 16253782\n",
      "Number of items for java: 30\n",
      "Chart for java saved as java_repos.svg\n",
      "Status code for perl: 200\n",
      "Total repositories for perl: 180120\n",
      "Number of items for perl: 30\n",
      "Chart for perl saved as perl_repos.svg\n",
      "Status code for haskell: 200\n",
      "Total repositories for haskell: 146231\n",
      "Number of items for haskell: 30\n",
      "Chart for haskell saved as haskell_repos.svg\n",
      "Status code for go: 200\n",
      "Total repositories for go: 1633433\n",
      "Number of items for go: 30\n",
      "Chart for go saved as go_repos.svg\n"
     ]
    }
   ],
   "source": [
    "import requests \n",
    "import pygal \n",
    "from pygal.style import LightColorizedStyle as LCS, LightenStyle as LS\n",
    "\n",
    "# Lista de linguagens para buscar os projetos mais populares\n",
    "languages = ['python', 'javascript', 'ruby', 'c', 'java', 'perl', 'haskell', 'go']\n",
    "\n",
    "# Cabeçalhos para a API do GitHub\n",
    "headers = {'Accept': 'application/vnd.github.v3+json'}\n",
    "\n",
    "for language in languages:\n",
    "    # Faz uma chamada de API e armazena a resposta \n",
    "    URL = 'https://api.github.com/search/repositories?q=language:' + language + '&sort=stars'\n",
    "    r = requests.get(URL, headers=headers) \n",
    "    print(\"Status code for \" + language + \":\", r.status_code)\n",
    "\n",
    "    # Armazena a resposta da API em uma variável \n",
    "    response_dict = r.json() \n",
    "    print(\"Total repositories for \" + language + \":\", response_dict['total_count'])\n",
    "\n",
    "    # Explora informações sobre os repositórios \n",
    "    repo_dicts = response_dict['items']\n",
    "    print(\"Number of items for \" + language + \":\", len(repo_dicts))\n",
    "\n",
    "    names, plot_dicts = [], []\n",
    "    for repo_dict in repo_dicts: \n",
    "        names.append(repo_dict['name'])\n",
    "        plot_dict = {\n",
    "            'value': repo_dict['stargazers_count'], \n",
    "            'label': repo_dict['description'], \n",
    "            'xlink': repo_dict['html_url']\n",
    "        }\n",
    "        plot_dicts.append(plot_dict)\n",
    "    \n",
    "    # Cria a visualização \n",
    "    my_style = LS('#333366', base_style=LCS)\n",
    "    my_config = pygal.Config() \n",
    "    my_config.x_label_rotation = 45\n",
    "    my_config.show_legend = False \n",
    "    my_config.title_font_size = 24 \n",
    "    my_config.label_font_size = 14\n",
    "    my_config.major_label_font_size = 18\n",
    "    my_config.truncate_label = 15\n",
    "    my_config.show_y_guides = False \n",
    "    my_config.width = 1000\n",
    "    chart = pygal.Bar(my_config, style=my_style)\n",
    "\n",
    "    chart.title = 'Most-Starred ' + language.capitalize() + ' Projects on GitHub'\n",
    "    chart.x_labels = names\n",
    "    chart.add('', plot_dicts)\n",
    "    file_name = language + '_repos.svg'\n",
    "    chart.render_to_file(file_name)\n",
    "\n",
    "    print(\"Chart for \" + language + \" saved as \" + file_name)"
   ]
  },
  {
   "cell_type": "markdown",
   "id": "447ea223-4f36-4eff-9f01-684be53de5b9",
   "metadata": {},
   "source": [
    "**17.2 – Discussões entusiasmadas:** Usando os dados de hn_submissions.py, crie um gráfico de barras que mostre as discussões mais entusiasmadas do momento no Hacker News. A altura de cada barra deve corresponder ao número de comentários que cada artigo submetido tem. O rótulo de cada barra deve incluir o título do artigo submetido, e cada barra deve atuar como um link para a página de discussão desse artigo."
   ]
  },
  {
   "cell_type": "code",
   "execution_count": 72,
   "id": "c2fa278c-d6c0-460a-9038-1de4c94935c8",
   "metadata": {
    "tags": []
   },
   "outputs": [
    {
     "name": "stdout",
     "output_type": "stream",
     "text": [
      "Status code: 200\n",
      "Chart saved as hn_discussions.svg\n"
     ]
    }
   ],
   "source": [
    "import requests\n",
    "import pygal\n",
    "from pygal.style import LightColorizedStyle as LCS, LightenStyle as LS\n",
    "\n",
    "# Faz uma chamada de API e armazena a resposta \n",
    "url = 'https://hacker-news.firebaseio.com/v0/topstories.json'\n",
    "r = requests.get(url)\n",
    "print(\"Status code:\", r.status_code)\n",
    "\n",
    "# Processa informações sobre cada artigo submetido \n",
    "submission_ids = r.json()\n",
    "submission_dicts = []\n",
    "for submission_id in submission_ids[:30]: \n",
    "    # Cria uma chamada de API separada para cada artigo submetido \n",
    "    url = ('https://hacker-news.firebaseio.com/v0/item/' + str(submission_id) + '.json') \n",
    "    submission_r = requests.get(url)\n",
    "    response_dict = submission_r.json()\n",
    "    submission_dict = {\n",
    "        'title': response_dict['title'], \n",
    "        'link': 'http://news.ycombinator.com/item?id=' + str(submission_id), \n",
    "        'comments': response_dict.get('descendants', 0)\n",
    "    }\n",
    "    submission_dicts.append(submission_dict)\n",
    "\n",
    "# Ordena a lista de artigos pela quantidade de comentários\n",
    "submission_dicts = sorted(submission_dicts, key=lambda x: x['comments'], reverse=True)\n",
    "\n",
    "# Preparação dos dados para o gráfico\n",
    "titles = []\n",
    "plot_dicts = []\n",
    "for submission_dict in submission_dicts:\n",
    "    titles.append(submission_dict['title'])\n",
    "    plot_dict = {\n",
    "        'value': submission_dict['comments'],\n",
    "        'label': submission_dict['title'],\n",
    "        'xlink': submission_dict['link'],\n",
    "    }\n",
    "    plot_dicts.append(plot_dict)\n",
    "\n",
    "# Configurações do gráfico\n",
    "my_style = LS('#333366', base_style=LCS)\n",
    "my_config = pygal.Config()\n",
    "my_config.x_label_rotation = 45\n",
    "my_config.show_legend = False\n",
    "my_config.title_font_size = 24\n",
    "my_config.label_font_size = 14\n",
    "my_config.major_label_font_size = 18\n",
    "my_config.truncate_label = 15\n",
    "my_config.show_y_guides = False\n",
    "my_config.width = 1000\n",
    "\n",
    "# Criação do gráfico\n",
    "chart = pygal.Bar(my_config, style=my_style)\n",
    "chart.title = 'Most Active Discussions on Hacker News'\n",
    "chart.x_labels = titles\n",
    "chart.add('', plot_dicts)\n",
    "chart.render_to_file('hn_discussions.svg')\n",
    "\n",
    "print(\"Chart saved as hn_discussions.svg\")"
   ]
  },
  {
   "cell_type": "markdown",
   "id": "b6678bed-7cb6-4de9-a565-dfd4ce757a16",
   "metadata": {},
   "source": [
    "**17.3 – Testando python_repos.py:** Em **python_repos.py**, exibimos o valor de **status_code** para garantir que a chamada de API foi bem-sucedida. Escreva um programa chamado test_python_repos.py que use *unittest** para conferir se o valor de **status_code** é 200. Descubra outras asserções que você possa fazer – por exemplo, se o número de itens devolvidos é o que se espera e se o número total de repositórios é maior que uma determinada quantidade.\n"
   ]
  },
  {
   "cell_type": "code",
   "execution_count": 80,
   "id": "2ffeb3e1-0df1-4b78-861b-10fd73a00350",
   "metadata": {
    "tags": []
   },
   "outputs": [
    {
     "name": "stderr",
     "output_type": "stream",
     "text": [
      "test_items_returned (__main__.TestPythonRepos.test_items_returned)\n",
      "Testa se o número de repositórios retornados é o esperado. ... ok\n",
      "test_status_code (__main__.TestPythonRepos.test_status_code)\n",
      "Testa se a chamada à API foi bem-sucedida. ... ok\n",
      "test_total_repositories (__main__.TestPythonRepos.test_total_repositories)\n",
      "Testa se o número total de repositórios é maior que um determinado valor. ... ok\n",
      "\n",
      "----------------------------------------------------------------------\n",
      "Ran 3 tests in 2.079s\n",
      "\n",
      "OK\n"
     ]
    },
    {
     "data": {
      "text/plain": [
       "<unittest.runner.TextTestResult run=3 errors=0 failures=0>"
      ]
     },
     "execution_count": 80,
     "metadata": {},
     "output_type": "execute_result"
    }
   ],
   "source": [
    "import unittest\n",
    "import requests\n",
    "\n",
    "class TestPythonRepos(unittest.TestCase):\n",
    "    \"\"\"Testes para a API do GitHub e os dados retornados.\"\"\"\n",
    "\n",
    "    def setUp(self):\n",
    "        \"\"\"Faz a chamada à API e armazena a resposta.\"\"\"\n",
    "        self.url = 'https://api.github.com/search/repositories?q=language:python&sort=stars'\n",
    "        self.headers = {'Accept': 'application/vnd.github.v3+json'}\n",
    "        self.response = requests.get(self.url, headers=self.headers)\n",
    "        self.response_dict = self.response.json()\n",
    "    \n",
    "    def test_status_code(self):\n",
    "        \"\"\"Testa se a chamada à API foi bem-sucedida.\"\"\"\n",
    "        self.assertEqual(self.response.status_code, 200)\n",
    "    \n",
    "    def test_items_returned(self):\n",
    "        \"\"\"Testa se o número de repositórios retornados é o esperado.\"\"\"\n",
    "        self.assertEqual(len(self.response_dict['items']), 30)\n",
    "    \n",
    "    def test_total_repositories(self):\n",
    "        \"\"\"Testa se o número total de repositórios é maior que um determinado valor.\"\"\"\n",
    "        self.assertGreater(self.response_dict['total_count'], 70000)\n",
    "\n",
    "# Executa os testes manualmente\n",
    "suite = unittest.TestLoader().loadTestsFromTestCase(TestPythonRepos)\n",
    "unittest.TextTestRunner(verbosity=2).run(suite)"
   ]
  },
  {
   "cell_type": "markdown",
   "id": "a229f985-37d8-4aed-af8f-79908b45dd05",
   "metadata": {},
   "source": [
    "****"
   ]
  },
  {
   "cell_type": "markdown",
   "id": "2a740ecd-e961-4e93-997c-00ce5f793cd7",
   "metadata": {},
   "source": [
    "## **Resumo**"
   ]
  },
  {
   "cell_type": "markdown",
   "id": "7c1231e9-dc91-487a-8baa-45f6114e52a2",
   "metadata": {},
   "source": [
    "Neste capítulo aprendemos a usar <code>**APIs**</code> para escrever programas autocontidos que coletem automaticamente os dados necessários e usem esses dados para criar uma visualização. **Usamos a <code>API do GitHub</code> para explorar os projetos Python com mais estrelas no <code>GitHub</code>e vimos rapidamente a <code>API do Hacker News</code> também. Aprendemos a usar o pacote <code>requests</code> para fazer uma chamada de <code>API do GitHub</code> de modo automático e a processar os resultados dessa chamada.** Também apresentamos algumas configurações do <code>**Pygal*</code> para personalizar melhor a aparência dos gráficos que você gerar.\n",
    "\n",
    "No último projeto, usaremos <code>**Django**</code> para criar uma <code>**aplicação web**</code>."
   ]
  },
  {
   "cell_type": "code",
   "execution_count": null,
   "id": "7e01d5e1-85fd-4990-a947-672f5e725274",
   "metadata": {},
   "outputs": [],
   "source": []
  },
  {
   "cell_type": "code",
   "execution_count": null,
   "id": "b905584f-9569-454d-971c-cf539ea23dd1",
   "metadata": {},
   "outputs": [],
   "source": []
  },
  {
   "cell_type": "code",
   "execution_count": null,
   "id": "24ffae07-7cd1-46ac-8ad8-7bba9e28e49e",
   "metadata": {},
   "outputs": [],
   "source": []
  },
  {
   "cell_type": "code",
   "execution_count": null,
   "id": "c0de8538-add5-4177-9f5f-f835ced0ea57",
   "metadata": {},
   "outputs": [],
   "source": []
  },
  {
   "cell_type": "code",
   "execution_count": null,
   "id": "39e6a6f5-2719-402a-83cc-f2dab3fd446a",
   "metadata": {},
   "outputs": [],
   "source": []
  }
 ],
 "metadata": {
  "kernelspec": {
   "display_name": "Python 3 (ipykernel)",
   "language": "python",
   "name": "python3"
  },
  "language_info": {
   "codemirror_mode": {
    "name": "ipython",
    "version": 3
   },
   "file_extension": ".py",
   "mimetype": "text/x-python",
   "name": "python",
   "nbconvert_exporter": "python",
   "pygments_lexer": "ipython3",
   "version": "3.11.5"
  }
 },
 "nbformat": 4,
 "nbformat_minor": 5
}
