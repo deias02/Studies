{
 "cells": [
  {
   "cell_type": "markdown",
   "id": "9611cdc5-0a87-4c0c-befb-7f3639b98264",
   "metadata": {},
   "source": [
    "<center>\n",
    "    <img src=\"https://cf-courses-data.s3.us.cloud-object-storage.appdomain.cloud/IBMDeveloperSkillsNetwork-PY0220EN-SkillsNetwork/labs/project/Images/SN_logo.png\" width=\"300\" alt=\"cognitiveclass.ai logo\">\n",
    "</center>\n"
   ]
  },
  {
   "cell_type": "markdown",
   "id": "b5b0bebe-2c44-46fb-81fa-53c215c21663",
   "metadata": {},
   "source": [
    "<h1>Extraindo dados de estoque usando web scraping</h1>"
   ]
  },
  {
   "cell_type": "markdown",
   "id": "1e3b7379-02ea-4a43-96eb-a901731e9bd3",
   "metadata": {},
   "source": [
    "Nem todos os dados de estoque estão disponíveis por meio da API nesta tarefa; você usará web scraping para obter dados financeiros. Você será questionado sobre seus resultados.\n",
    "Você extrairá e compartilhará dados históricos de uma página da web usando a biblioteca BeautifulSoup."
   ]
  },
  {
   "cell_type": "markdown",
   "id": "26ed8ffc-bc88-49f1-8a89-006fbe8a3cf8",
   "metadata": {},
   "source": [
    "<h2>Índice</h2>\n",
    "<div class=\"alert alert-block alert-info\" style=\"margin-top: 20px\">\n",
    "    \n",
    "1. Extraindo dados usando BeautifulSoup\n",
    "   \n",
    "     <ul>\n",
    "     <li> Baixe a página da web usando a biblioteca de solicitações </li>\n",
    "     <li> Analisar HTML em uma página web usando BeautifulSoup </li>\n",
    "     <li> Extraia dados e construa um quadro de dados </li>\n",
    "\n",
    "     </ul>\n",
    "\n",
    "2. Extraindo dados usando pandas\n",
    "3. Exercício\n",
    "<p>\n",
    "     Tempo estimado necessário: <strong>30 min</strong></p>\n",
    "</div>\n",
    "\n",
    "<h>"
   ]
  },
  {
   "cell_type": "code",
   "execution_count": 28,
   "id": "aabbd684-44aa-48b7-982b-5649ca8c4aaa",
   "metadata": {
    "tags": []
   },
   "outputs": [],
   "source": [
    "import pandas as pd\n",
    "import requests\n",
    "from bs4 import BeautifulSoup"
   ]
  },
  {
   "cell_type": "markdown",
   "id": "3d034c77-97ad-46df-a4b8-402cc4a2c7be",
   "metadata": {},
   "source": [
    "Em Python, você pode ignorar avisos usando o módulo warnings. Você pode usar a função filterwarnings para filtrar ou ignorar mensagens ou categorias de aviso específicas."
   ]
  },
  {
   "cell_type": "code",
   "execution_count": 19,
   "id": "31fc2eb8-4f19-4b83-92b0-e3852e9f5f38",
   "metadata": {
    "tags": []
   },
   "outputs": [],
   "source": [
    "import warnings\n",
    "# Ignore all warnings\n",
    "warnings.filterwarnings(\"ignore\", category=FutureWarning)"
   ]
  },
  {
   "cell_type": "markdown",
   "id": "4e46c4fc-677f-43b2-b8de-67e2298c78c0",
   "metadata": {
    "tags": []
   },
   "source": [
    "## Usando Webscraping para extrair exemplo de dados de estoque"
   ]
  },
  {
   "cell_type": "markdown",
   "id": "f9c016a6-7614-4f80-a49d-4b49460587dc",
   "metadata": {},
   "source": [
    "Extrairemos dados de ações da Netflix https://cf-courses-data.s3.us.cloud-object-storage.appdomain.cloud/IBMDeveloperSkillsNetwork-PY0220EN-SkillsNetwork/labs/project/netflix_data_webpage.html"
   ]
  },
  {
   "cell_type": "markdown",
   "id": "e3254eef-aae8-4e95-9d01-cf404836bd05",
   "metadata": {},
   "source": [
    "<center> \n",
    "    \n",
    "#### Neste exemplo, estamos usando o site de finanças do Google e procurando extrair dados do Netflix.\n",
    "\n",
    "</center>\n",
    "    <br>\n",
    "\n",
    "  <img src=\"https://cf-courses-data.s3.us.cloud-object-storage.appdomain.cloud/IBMDeveloperSkillsNetwork-PY0220EN-SkillsNetwork/labs/project/Images/netflix.png\"> </center> \n",
    "  \n",
    "<center> Fig:- Tabela que precisamos extrair</center>\n"
   ]
  },
  {
   "cell_type": "markdown",
   "id": "2899ac31-9279-47cc-873c-88fcfd3d4341",
   "metadata": {},
   "source": [
    "Na página seguinte temos uma tabela com nomes de colunas (Date, Open, High, Low, close, adj close volume) da qual devemos extrair as seguintes colunas\n",
    "\n",
    "* Date \n",
    "\n",
    "* Open  \n",
    "\n",
    "* High \n",
    "\n",
    "* Low \n",
    "\n",
    "* Close \n",
    "\n",
    "* Volume \n"
   ]
  },
  {
   "cell_type": "markdown",
   "id": "0f7bd5ea-d4da-4fbb-bd72-30ce4c34d950",
   "metadata": {},
   "source": [
    "# Etapas para extrair os dados\n",
    "1. Envie uma solicitação HTTP para a página da web usando a biblioteca de solicitações.\n",
    "2. Analise o conteúdo HTML da página da web usando BeautifulSoup.\n",
    "3. Identifique as tags HTML que contêm os dados que você deseja extrair.\n",
    "4. Use métodos BeautifulSoup para extrair os dados das tags HTML.\n",
    "5. Imprima os dados extraídos"
   ]
  },
  {
   "cell_type": "markdown",
   "id": "0a70342c-996d-45f1-84a1-0f2fc692cb9b",
   "metadata": {},
   "source": [
    "### Etapa 1: Envie uma solicitação HTTP para a página da web"
   ]
  },
  {
   "cell_type": "markdown",
   "id": "b2a0e6af-1e6d-40c5-9b7b-335df477691a",
   "metadata": {},
   "source": [
    "Você usará a biblioteca de solicitações para enviar uma solicitação HTTP para a página da web."
   ]
  },
  {
   "cell_type": "code",
   "execution_count": 58,
   "id": "0f42bcd5-57e3-415d-aa24-fe010119d207",
   "metadata": {
    "tags": []
   },
   "outputs": [],
   "source": [
    "url = \"https://cf-courses-data.s3.us.cloud-object-storage.appdomain.cloud/IBMDeveloperSkillsNetwork-PY0220EN-SkillsNetwork/labs/project/netflix_data_webpage.html\""
   ]
  },
  {
   "cell_type": "markdown",
   "id": "7f5ba982-5fe9-48f6-a1ac-af4ffc014251",
   "metadata": {},
   "source": [
    "O método requests.get() usa uma URL como primeiro argumento, que especifica a localização do recurso a ser recuperado. Nesse caso, o valor da variável url é passado como argumento para o método requests.get(), porque você armazenará o URL de uma página da web em uma variável url.\n",
    "\n",
    "Você usa o método .text para extrair o conteúdo HTML como uma string para torná-lo legível."
   ]
  },
  {
   "cell_type": "code",
   "execution_count": null,
   "id": "4707c7b1-63fc-4283-baab-7393b7e22a26",
   "metadata": {
    "tags": []
   },
   "outputs": [],
   "source": [
    "data  = requests.get(url).text\n",
    "print(data)"
   ]
  },
  {
   "cell_type": "markdown",
   "id": "1065c0ee-fc72-4f6b-887a-574bdf91f020",
   "metadata": {},
   "source": [
    "### Etapa 2: Parse o conteúdo HTML"
   ]
  },
  {
   "cell_type": "markdown",
   "id": "84660b3c-085d-4e4d-bfd7-b68c8b4378c4",
   "metadata": {},
   "source": [
    "<hr>\n",
    "<hr>\n",
    "<center>\n",
    "\n",
    "# O que é Parse?\n",
    "Em palavras simples, análise refere-se ao processo de análise de uma sequência de texto ou estrutura de dados, geralmente seguindo um conjunto de regras ou gramática, para compreender sua estrutura e significado.\n",
    "A análise envolve dividir um trecho de texto ou dados em seus componentes ou elementos individuais e, em seguida, analisar esses componentes para extrair as informações desejadas ou para compreender suas relações e significados.</center>\n",
    "<hr>\n",
    "<hr>"
   ]
  },
  {
   "cell_type": "markdown",
   "id": "db3525c1-12ee-4414-aa96-11107a74a1f6",
   "metadata": {},
   "source": [
    "Em seguida, você pegará o conteúdo HTML bruto de uma página da web ou uma sequência de código HTML que precisa ser analisada e transformada em um formato estruturado e hierárquico que pode ser mais facilmente analisado e manipulado em Python. Isso pode ser feito usando uma biblioteca Python chamada <b>Beautiful Soup</b>."
   ]
  },
  {
   "cell_type": "markdown",
   "id": "8e9b4fbc-b9b5-4a2f-8e1b-1cdde16887b8",
   "metadata": {},
   "source": [
    "## Parsing os dados usando a biblioteca BeautifulSoup\n",
    "* Crie um novo objeto BeautifulSoup.\n",
    "<br>\n",
    "<br>\n",
    "<b>Nota: </b>Para criar um objeto BeautifulSoup em Python, você precisa passar dois argumentos para seu construtor:\n",
    "\n",
    "1. O conteúdo HTML ou XML que você deseja analisar como uma sequência.\n",
    "2. O nome do analisador que você deseja utilizar para analisar o conteúdo HTML ou XML. Este argumento é opcional e, se você não especificar um analisador, o BeautifulSoup usará o analisador HTML padrão incluído na biblioteca.\n",
    "aqui neste laboratório estamos usando o analisador \"html5lib\"."
   ]
  },
  {
   "cell_type": "code",
   "execution_count": 5,
   "id": "0c21018b-e871-4fb8-84b6-80d013beff78",
   "metadata": {
    "tags": []
   },
   "outputs": [],
   "source": [
    "soup = BeautifulSoup(data, 'html5lib')"
   ]
  },
  {
   "cell_type": "markdown",
   "id": "61744c28-a899-4874-8f0f-95ccccd405ca",
   "metadata": {},
   "source": [
    "### Step 3: Identificar as tags HTML"
   ]
  },
  {
   "cell_type": "markdown",
   "id": "3810f857-ead8-4b56-9e61-c9763d9db62d",
   "metadata": {},
   "source": [
    "Conforme afirmado acima, a página da web consiste em uma tabela, portanto, rasparemos o conteúdo da página HTML e converteremos a tabela em um quadro de dados."
   ]
  },
  {
   "cell_type": "markdown",
   "id": "9ed20143-b335-41a5-b034-fbf9a4add09f",
   "metadata": {},
   "source": [
    "Você criará um quadro de dados vazio usando a função <b> pd.DataFrame() </b> com as seguintes colunas:\n",
    "\n",
    "* \"Date\"\n",
    "* \"Open\"\n",
    "* \"High\" \n",
    "* \"Low\" \n",
    "* \"Close\"\n",
    "* \"Volume\"\n"
   ]
  },
  {
   "cell_type": "code",
   "execution_count": 34,
   "id": "e347b63b-4345-40a4-b3d5-22901d7f0217",
   "metadata": {
    "tags": []
   },
   "outputs": [
    {
     "data": {
      "text/html": [
       "<div>\n",
       "<style scoped>\n",
       "    .dataframe tbody tr th:only-of-type {\n",
       "        vertical-align: middle;\n",
       "    }\n",
       "\n",
       "    .dataframe tbody tr th {\n",
       "        vertical-align: top;\n",
       "    }\n",
       "\n",
       "    .dataframe thead th {\n",
       "        text-align: right;\n",
       "    }\n",
       "</style>\n",
       "<table border=\"1\" class=\"dataframe\">\n",
       "  <thead>\n",
       "    <tr style=\"text-align: right;\">\n",
       "      <th></th>\n",
       "      <th>Date</th>\n",
       "      <th>Open</th>\n",
       "      <th>High</th>\n",
       "      <th>Low</th>\n",
       "      <th>Close</th>\n",
       "      <th>Volume</th>\n",
       "    </tr>\n",
       "  </thead>\n",
       "  <tbody>\n",
       "  </tbody>\n",
       "</table>\n",
       "</div>"
      ],
      "text/plain": [
       "Empty DataFrame\n",
       "Columns: [Date, Open, High, Low, Close, Volume]\n",
       "Index: []"
      ]
     },
     "execution_count": 34,
     "metadata": {},
     "output_type": "execute_result"
    }
   ],
   "source": [
    "netflix_data = pd.DataFrame(columns=[\"Date\", \"Open\", \"High\", \"Low\", \"Close\", \"Volume\"])\n",
    "netflix_data"
   ]
  },
  {
   "cell_type": "markdown",
   "id": "39186363-33ce-43e8-b2a6-8bcd54c8fdfa",
   "metadata": {
    "tags": []
   },
   "source": [
    "<hr>\n",
    "<hr>\n",
    "<center>\n",
    "\n",
    "### Trabalhando na tabela HTML </center>\n",
    "<br>\n",
    "\n",
    "Estas são as seguintes tags que são usadas ao criar tabelas HTML.\n",
    "\n",
    "* &lt;table&gt;: Esta tag é uma tag raiz usada para definir o início e o fim da tabela. Todo o conteúdo da tabela está incluído nessas tags.\n",
    "\n",
    "\n",
    "* &lt;tr&gt;: Esta tag é usada para definir uma linha da tabela. Cada linha da tabela é definida nesta tag.\n",
    "\n",
    "* &lt;td&gt;: Esta tag é usada para definir uma célula da tabela. Cada célula da tabela é definida nesta tag. Você pode especificar o conteúdo da célula entre as tags <td> de abertura e fechamento.\n",
    "\n",
    "* &lt;th&gt;: Esta tag é usada para definir uma célula de cabeçalho na tabela. A célula de cabeçalho é usada para descrever o conteúdo de uma coluna ou linha. Por padrão, o texto dentro de uma tag <th> está em negrito e centralizado.\n",
    "\n",
    "* &lt;tbody&gt;: Este é o conteúdo principal da tabela, que é definido através da tag <tbody>. Ele contém uma ou mais linhas de elementos <tr>.\n",
    "\n",
    "<hr>\n",
    "<hr>"
   ]
  },
  {
   "cell_type": "markdown",
   "id": "a06874a3-f94d-4d94-b5d4-c43562b1e2c4",
   "metadata": {},
   "source": [
    "### Etapa 4: Use um método BeautifulSoup para extrair dados"
   ]
  },
  {
   "cell_type": "markdown",
   "id": "a6864048-0080-4398-9f3f-4f853289f8b7",
   "metadata": {},
   "source": [
    "Usaremos os métodos <b>find()</b> e <b>find_all()</b> do objeto BeautifulSoup para localizar o corpo da tabela e a linha da tabela, respectivamente, no HTML.\n",
    "    * O método <i>find() </i> retornará um conteúdo de tag específico.\n",
    "    * O método <i>find_all()</i> retorna uma lista de todas as tags correspondentes no HTML."
   ]
  },
  {
   "cell_type": "code",
   "execution_count": 52,
   "id": "ef4c6572-e66f-49ef-9846-d0b4270d0fc2",
   "metadata": {
    "tags": []
   },
   "outputs": [
    {
     "ename": "AttributeError",
     "evalue": "'DataFrame' object has no attribute 'append'",
     "output_type": "error",
     "traceback": [
      "\u001b[0;31m---------------------------------------------------------------------------\u001b[0m",
      "\u001b[0;31mAttributeError\u001b[0m                            Traceback (most recent call last)",
      "\u001b[0;32m/var/folders/mp/_1mc66sj15dcx84w85zjp_fr0000gn/T/ipykernel_42157/1414282685.py\u001b[0m in \u001b[0;36m?\u001b[0;34m()\u001b[0m\n\u001b[1;32m      9\u001b[0m     \u001b[0mclose\u001b[0m \u001b[0;34m=\u001b[0m \u001b[0mcol\u001b[0m\u001b[0;34m[\u001b[0m\u001b[0;36m4\u001b[0m\u001b[0;34m]\u001b[0m\u001b[0;34m.\u001b[0m\u001b[0mtext\u001b[0m\u001b[0;34m\u001b[0m\u001b[0;34m\u001b[0m\u001b[0m\n\u001b[1;32m     10\u001b[0m     \u001b[0mvolume\u001b[0m \u001b[0;34m=\u001b[0m \u001b[0mcol\u001b[0m\u001b[0;34m[\u001b[0m\u001b[0;36m6\u001b[0m\u001b[0;34m]\u001b[0m\u001b[0;34m.\u001b[0m\u001b[0mtext\u001b[0m\u001b[0;34m\u001b[0m\u001b[0;34m\u001b[0m\u001b[0m\n\u001b[1;32m     11\u001b[0m \u001b[0;34m\u001b[0m\u001b[0m\n\u001b[1;32m     12\u001b[0m     \u001b[0;31m# Finally we append the data of each row to the table\u001b[0m\u001b[0;34m\u001b[0m\u001b[0;34m\u001b[0m\u001b[0m\n\u001b[0;32m---> 13\u001b[0;31m     \u001b[0mnetflix_data\u001b[0m \u001b[0;34m=\u001b[0m \u001b[0mnetflix_data\u001b[0m\u001b[0;34m.\u001b[0m\u001b[0mappend\u001b[0m\u001b[0;34m(\u001b[0m\u001b[0;34m{\u001b[0m\u001b[0;34m\"Date\"\u001b[0m\u001b[0;34m:\u001b[0m\u001b[0mdate\u001b[0m\u001b[0;34m,\u001b[0m \u001b[0;34m\"Open\"\u001b[0m\u001b[0;34m:\u001b[0m\u001b[0mOpen\u001b[0m\u001b[0;34m,\u001b[0m \u001b[0;34m\"High\"\u001b[0m\u001b[0;34m:\u001b[0m\u001b[0mhigh\u001b[0m\u001b[0;34m,\u001b[0m \u001b[0;34m\"Low\"\u001b[0m\u001b[0;34m:\u001b[0m\u001b[0mlow\u001b[0m\u001b[0;34m,\u001b[0m \u001b[0;34m\"Close\"\u001b[0m\u001b[0;34m:\u001b[0m\u001b[0mclose\u001b[0m\u001b[0;34m,\u001b[0m \u001b[0;34m\"Adj Close\"\u001b[0m\u001b[0;34m:\u001b[0m\u001b[0madj_close\u001b[0m\u001b[0;34m,\u001b[0m \u001b[0;34m\"Volume\"\u001b[0m\u001b[0;34m:\u001b[0m\u001b[0mvolume\u001b[0m\u001b[0;34m}\u001b[0m\u001b[0;34m,\u001b[0m \u001b[0mignore_index\u001b[0m\u001b[0;34m=\u001b[0m\u001b[0;32mTrue\u001b[0m\u001b[0;34m)\u001b[0m\u001b[0;34m\u001b[0m\u001b[0;34m\u001b[0m\u001b[0m\n\u001b[0m",
      "\u001b[0;32m~/anaconda3/lib/python3.11/site-packages/pandas/core/generic.py\u001b[0m in \u001b[0;36m?\u001b[0;34m(self, name)\u001b[0m\n\u001b[1;32m   5985\u001b[0m             \u001b[0;32mand\u001b[0m \u001b[0mname\u001b[0m \u001b[0;32mnot\u001b[0m \u001b[0;32min\u001b[0m \u001b[0mself\u001b[0m\u001b[0;34m.\u001b[0m\u001b[0m_accessors\u001b[0m\u001b[0;34m\u001b[0m\u001b[0;34m\u001b[0m\u001b[0m\n\u001b[1;32m   5986\u001b[0m             \u001b[0;32mand\u001b[0m \u001b[0mself\u001b[0m\u001b[0;34m.\u001b[0m\u001b[0m_info_axis\u001b[0m\u001b[0;34m.\u001b[0m\u001b[0m_can_hold_identifiers_and_holds_name\u001b[0m\u001b[0;34m(\u001b[0m\u001b[0mname\u001b[0m\u001b[0;34m)\u001b[0m\u001b[0;34m\u001b[0m\u001b[0;34m\u001b[0m\u001b[0m\n\u001b[1;32m   5987\u001b[0m         ):\n\u001b[1;32m   5988\u001b[0m             \u001b[0;32mreturn\u001b[0m \u001b[0mself\u001b[0m\u001b[0;34m[\u001b[0m\u001b[0mname\u001b[0m\u001b[0;34m]\u001b[0m\u001b[0;34m\u001b[0m\u001b[0;34m\u001b[0m\u001b[0m\n\u001b[0;32m-> 5989\u001b[0;31m         \u001b[0;32mreturn\u001b[0m \u001b[0mobject\u001b[0m\u001b[0;34m.\u001b[0m\u001b[0m__getattribute__\u001b[0m\u001b[0;34m(\u001b[0m\u001b[0mself\u001b[0m\u001b[0;34m,\u001b[0m \u001b[0mname\u001b[0m\u001b[0;34m)\u001b[0m\u001b[0;34m\u001b[0m\u001b[0;34m\u001b[0m\u001b[0m\n\u001b[0m",
      "\u001b[0;31mAttributeError\u001b[0m: 'DataFrame' object has no attribute 'append'"
     ]
    }
   ],
   "source": [
    "# First we isolate the body of the table which contains all the information\n",
    "# Then we loop through each row and find all the column values for each row\n",
    "for row in soup.find(\"tbody\").find_all('tr'):\n",
    "    col = row.find_all(\"td\")\n",
    "    date = col[0].text\n",
    "    Open = col[1].text\n",
    "    high = col[2].text\n",
    "    low = col[3].text\n",
    "    close = col[4].text\n",
    "    volume = col[6].text\n",
    "    \n",
    "    # Finally we append the data of each row to the table\n",
    "    netflix_data = netflix_data.append({\"Date\":date, \"Open\":Open, \"High\":high, \"Low\":low, \"Close\":close, \"Adj Close\":adj_close, \"Volume\":volume}, ignore_index=True)    "
   ]
  },
  {
   "cell_type": "code",
   "execution_count": 55,
   "id": "ed1f3bd0-e68b-4d54-9c09-bb2cb6838a63",
   "metadata": {
    "tags": []
   },
   "outputs": [
    {
     "data": {
      "text/html": [
       "<div>\n",
       "<style scoped>\n",
       "    .dataframe tbody tr th:only-of-type {\n",
       "        vertical-align: middle;\n",
       "    }\n",
       "\n",
       "    .dataframe tbody tr th {\n",
       "        vertical-align: top;\n",
       "    }\n",
       "\n",
       "    .dataframe thead th {\n",
       "        text-align: right;\n",
       "    }\n",
       "</style>\n",
       "<table border=\"1\" class=\"dataframe\">\n",
       "  <thead>\n",
       "    <tr style=\"text-align: right;\">\n",
       "      <th></th>\n",
       "      <th>Date</th>\n",
       "      <th>Open</th>\n",
       "      <th>High</th>\n",
       "      <th>Low</th>\n",
       "      <th>Close</th>\n",
       "      <th>Adj Close</th>\n",
       "      <th>Volume</th>\n",
       "    </tr>\n",
       "  </thead>\n",
       "  <tbody>\n",
       "    <tr>\n",
       "      <th>0</th>\n",
       "      <td>Jun 01, 2021</td>\n",
       "      <td>504.01</td>\n",
       "      <td>536.13</td>\n",
       "      <td>482.14</td>\n",
       "      <td>528.21</td>\n",
       "      <td>528.21</td>\n",
       "      <td>78,560,600</td>\n",
       "    </tr>\n",
       "    <tr>\n",
       "      <th>1</th>\n",
       "      <td>May 01, 2021</td>\n",
       "      <td>512.65</td>\n",
       "      <td>518.95</td>\n",
       "      <td>478.54</td>\n",
       "      <td>502.81</td>\n",
       "      <td>502.81</td>\n",
       "      <td>66,927,600</td>\n",
       "    </tr>\n",
       "    <tr>\n",
       "      <th>2</th>\n",
       "      <td>Apr 01, 2021</td>\n",
       "      <td>529.93</td>\n",
       "      <td>563.56</td>\n",
       "      <td>499.00</td>\n",
       "      <td>513.47</td>\n",
       "      <td>513.47</td>\n",
       "      <td>111,573,300</td>\n",
       "    </tr>\n",
       "    <tr>\n",
       "      <th>3</th>\n",
       "      <td>Mar 01, 2021</td>\n",
       "      <td>545.57</td>\n",
       "      <td>556.99</td>\n",
       "      <td>492.85</td>\n",
       "      <td>521.66</td>\n",
       "      <td>521.66</td>\n",
       "      <td>90,183,900</td>\n",
       "    </tr>\n",
       "    <tr>\n",
       "      <th>4</th>\n",
       "      <td>Feb 01, 2021</td>\n",
       "      <td>536.79</td>\n",
       "      <td>566.65</td>\n",
       "      <td>518.28</td>\n",
       "      <td>538.85</td>\n",
       "      <td>538.85</td>\n",
       "      <td>61,902,300</td>\n",
       "    </tr>\n",
       "  </tbody>\n",
       "</table>\n",
       "</div>"
      ],
      "text/plain": [
       "           Date    Open    High     Low   Close Adj Close       Volume\n",
       "0  Jun 01, 2021  504.01  536.13  482.14  528.21    528.21   78,560,600\n",
       "1  May 01, 2021  512.65  518.95  478.54  502.81    502.81   66,927,600\n",
       "2  Apr 01, 2021  529.93  563.56  499.00  513.47    513.47  111,573,300\n",
       "3  Mar 01, 2021  545.57  556.99  492.85  521.66    521.66   90,183,900\n",
       "4  Feb 01, 2021  536.79  566.65  518.28  538.85    538.85   61,902,300"
      ]
     },
     "execution_count": 55,
     "metadata": {},
     "output_type": "execute_result"
    }
   ],
   "source": [
    "netflix_data.head()"
   ]
  },
  {
   "cell_type": "markdown",
   "id": "66aa19a0-f1e0-4a72-b231-e780b821a7c0",
   "metadata": {
    "tags": []
   },
   "source": [
    "<hr>\n",
    "<center>\n",
    "    \n",
    "# ChatGPT correção\n",
    "    \n",
    "</center>\n",
    "<br>\n",
    "\n",
    "<hr>"
   ]
  },
  {
   "cell_type": "code",
   "execution_count": 53,
   "id": "6e159724-fde3-4188-8790-9d37144ecd7e",
   "metadata": {
    "tags": []
   },
   "outputs": [
    {
     "name": "stdout",
     "output_type": "stream",
     "text": [
      "            Date      Open      High       Low     Close Adj Close  \\\n",
      "0   Jan 01, 2021  3,270.00  3,363.89  3,086.00  3,206.20  3,206.20   \n",
      "1   Dec 01, 2020  3,188.50  3,350.65  3,072.82  3,256.93  3,256.93   \n",
      "2   Nov 01, 2020  3,061.74  3,366.80  2,950.12  3,168.04  3,168.04   \n",
      "3   Oct 01, 2020  3,208.00  3,496.24  3,019.00  3,036.15  3,036.15   \n",
      "4   Sep 01, 2020  3,489.58  3,552.25  2,871.00  3,148.73  3,148.73   \n",
      "..           ...       ...       ...       ...       ...       ...   \n",
      "56  May 01, 2016    663.92    724.23    656.00    722.79    722.79   \n",
      "57  Apr 01, 2016    590.49    669.98    585.25    659.59    659.59   \n",
      "58  Mar 01, 2016    556.29    603.24    538.58    593.64    593.64   \n",
      "59  Feb 01, 2016    578.15    581.80    474.00    552.52    552.52   \n",
      "60  Jan 01, 2016    656.29    657.72    547.18    587.00    587.00   \n",
      "\n",
      "         Volume  \n",
      "0    71,528,900  \n",
      "1    77,556,200  \n",
      "2    90,810,500  \n",
      "3   116,226,100  \n",
      "4   115,899,300  \n",
      "..          ...  \n",
      "56   90,614,500  \n",
      "57   78,464,200  \n",
      "58   94,009,500  \n",
      "59  124,144,800  \n",
      "60  130,200,900  \n",
      "\n",
      "[61 rows x 7 columns]\n"
     ]
    }
   ],
   "source": [
    "\n",
    "\n",
    "import pandas as pd\n",
    "\n",
    "# Inicializa o DataFrame\n",
    "netflix_data = pd.DataFrame(columns=[\"Date\", \"Open\", \"High\", \"Low\", \"Close\", \"Adj Close\", \"Volume\"])\n",
    "\n",
    "# Primeiro isolamos o corpo da tabela que contém todas as informações\n",
    "# Em seguida, percorremos cada linha e encontramos todos os valores das colunas de cada linha\n",
    "for row in soup.find(\"tbody\").find_all('tr'):\n",
    "    col = row.find_all(\"td\")\n",
    "    date = col[0].text\n",
    "    Open = col[1].text\n",
    "    high = col[2].text\n",
    "    low = col[3].text\n",
    "    close = col[4].text\n",
    "    adj_close = col[5].text\n",
    "    volume = col[6].text\n",
    "    \n",
    "    # Cria um novo DataFrame com os dados da linha atual\n",
    "    new_row = pd.DataFrame({\"Date\": [date], \"Open\": [Open], \"High\": [high], \"Low\": [low], \"Close\": [close], \"Adj Close\": [adj_close], \"Volume\": [volume]})\n",
    "    \n",
    "    # Concatena o novo DataFrame com o DataFrame existente\n",
    "    netflix_data = pd.concat([netflix_data, new_row], ignore_index=True)\n",
    "\n",
    "# Mostra o DataFrame resultante\n",
    "print(netflix_data)\n"
   ]
  },
  {
   "cell_type": "markdown",
   "id": "f5eb9e48-f1ec-4815-b3be-0157fbe75fce",
   "metadata": {},
   "source": [
    "<hr>"
   ]
  },
  {
   "cell_type": "markdown",
   "id": "24632d39-5452-4fb4-b6f6-3d049e058d04",
   "metadata": {},
   "source": [
    "# Extraindo dados usando a biblioteca `pandas`"
   ]
  },
  {
   "cell_type": "markdown",
   "id": "8914fe99-19a8-4b60-8581-5f534a221f15",
   "metadata": {},
   "source": [
    "Também podemos usar a função pandas `read_html` da biblioteca pandas e usar a URL para extrair dados."
   ]
  },
  {
   "cell_type": "markdown",
   "id": "93e2f010-ef94-4083-81d3-1a14a2cfe268",
   "metadata": {},
   "source": [
    "<center>\n",
    "\n",
    "## O que é read_html na biblioteca pandas?\n",
    "`pd.read_html(url)` é uma função fornecida pela biblioteca pandas em Python que é usada para extrair tabelas de páginas da Web HTML. Ela recebe um URL como entrada e retorna uma lista de todas as tabelas encontradas na página da Web. \n",
    "</center>\n"
   ]
  },
  {
   "cell_type": "code",
   "execution_count": 78,
   "id": "b70cacca-1aa2-44ea-8beb-34c05d9674c0",
   "metadata": {
    "tags": []
   },
   "outputs": [],
   "source": [
    "read_html_pandas_data = pd.read_html(url)\n"
   ]
  },
  {
   "cell_type": "markdown",
   "id": "8a0f4e88-11b6-4152-8c38-8a378e432ff8",
   "metadata": {
    "tags": []
   },
   "source": [
    "Ou você pode converter o objeto BeautifulSoup em uma string."
   ]
  },
  {
   "cell_type": "code",
   "execution_count": 76,
   "id": "55ccf061-44fa-474f-8c3a-451ec5f7ca2c",
   "metadata": {
    "tags": []
   },
   "outputs": [
    {
     "data": {
      "text/plain": [
       "[                                                 Date  \\\n",
       " 0                                        Jun 01, 2021   \n",
       " 1                                        May 01, 2021   \n",
       " 2                                        Apr 01, 2021   \n",
       " 3                                        Mar 01, 2021   \n",
       " 4                                        Feb 01, 2021   \n",
       " ..                                                ...   \n",
       " 66                                       Dec 01, 2015   \n",
       " 67                                       Nov 01, 2015   \n",
       " 68                                       Oct 01, 2015   \n",
       " 69                                       Sep 01, 2015   \n",
       " 70  *Close price adjusted for splits.**Adjusted cl...   \n",
       " \n",
       "                                                  Open  \\\n",
       " 0                                              504.01   \n",
       " 1                                              512.65   \n",
       " 2                                              529.93   \n",
       " 3                                              545.57   \n",
       " 4                                              536.79   \n",
       " ..                                                ...   \n",
       " 66                                             124.47   \n",
       " 67                                             109.20   \n",
       " 68                                             102.91   \n",
       " 69                                             109.35   \n",
       " 70  *Close price adjusted for splits.**Adjusted cl...   \n",
       " \n",
       "                                                  High  \\\n",
       " 0                                              536.13   \n",
       " 1                                              518.95   \n",
       " 2                                              563.56   \n",
       " 3                                              556.99   \n",
       " 4                                              566.65   \n",
       " ..                                                ...   \n",
       " 66                                             133.27   \n",
       " 67                                             126.60   \n",
       " 68                                             115.83   \n",
       " 69                                             111.24   \n",
       " 70  *Close price adjusted for splits.**Adjusted cl...   \n",
       " \n",
       "                                                   Low  \\\n",
       " 0                                              482.14   \n",
       " 1                                              478.54   \n",
       " 2                                              499.00   \n",
       " 3                                              492.85   \n",
       " 4                                              518.28   \n",
       " ..                                                ...   \n",
       " 66                                             113.85   \n",
       " 67                                             101.86   \n",
       " 68                                              96.26   \n",
       " 69                                              93.55   \n",
       " 70  *Close price adjusted for splits.**Adjusted cl...   \n",
       " \n",
       "                                                Close*  \\\n",
       " 0                                              528.21   \n",
       " 1                                              502.81   \n",
       " 2                                              513.47   \n",
       " 3                                              521.66   \n",
       " 4                                              538.85   \n",
       " ..                                                ...   \n",
       " 66                                             114.38   \n",
       " 67                                             123.33   \n",
       " 68                                             108.38   \n",
       " 69                                             103.26   \n",
       " 70  *Close price adjusted for splits.**Adjusted cl...   \n",
       " \n",
       "                                           Adj Close**  \\\n",
       " 0                                              528.21   \n",
       " 1                                              502.81   \n",
       " 2                                              513.47   \n",
       " 3                                              521.66   \n",
       " 4                                              538.85   \n",
       " ..                                                ...   \n",
       " 66                                             114.38   \n",
       " 67                                             123.33   \n",
       " 68                                             108.38   \n",
       " 69                                             103.26   \n",
       " 70  *Close price adjusted for splits.**Adjusted cl...   \n",
       " \n",
       "                                                Volume  \n",
       " 0                                            78560600  \n",
       " 1                                            66927600  \n",
       " 2                                           111573300  \n",
       " 3                                            90183900  \n",
       " 4                                            61902300  \n",
       " ..                                                ...  \n",
       " 66                                          319939200  \n",
       " 67                                          320321800  \n",
       " 68                                          446204400  \n",
       " 69                                          497401200  \n",
       " 70  *Close price adjusted for splits.**Adjusted cl...  \n",
       " \n",
       " [71 rows x 7 columns]]"
      ]
     },
     "execution_count": 76,
     "metadata": {},
     "output_type": "execute_result"
    }
   ],
   "source": [
    "read_html_pandas_data = pd.read_html(str(soup))\n",
    "read_html_pandas_data"
   ]
  },
  {
   "cell_type": "markdown",
   "id": "7e78aa39-b230-4781-9208-d744e4a11069",
   "metadata": {},
   "source": [
    "Como existe apenas uma tabela na página, basta pegar a primeira tabela da lista retornada."
   ]
  },
  {
   "cell_type": "code",
   "execution_count": 72,
   "id": "c6ed41a0-ec92-4b48-887e-b21774c3721f",
   "metadata": {
    "tags": []
   },
   "outputs": [
    {
     "data": {
      "text/html": [
       "<div>\n",
       "<style scoped>\n",
       "    .dataframe tbody tr th:only-of-type {\n",
       "        vertical-align: middle;\n",
       "    }\n",
       "\n",
       "    .dataframe tbody tr th {\n",
       "        vertical-align: top;\n",
       "    }\n",
       "\n",
       "    .dataframe thead th {\n",
       "        text-align: right;\n",
       "    }\n",
       "</style>\n",
       "<table border=\"1\" class=\"dataframe\">\n",
       "  <thead>\n",
       "    <tr style=\"text-align: right;\">\n",
       "      <th></th>\n",
       "      <th>Date</th>\n",
       "      <th>Open</th>\n",
       "      <th>High</th>\n",
       "      <th>Low</th>\n",
       "      <th>Close*</th>\n",
       "      <th>Adj Close**</th>\n",
       "      <th>Volume</th>\n",
       "    </tr>\n",
       "  </thead>\n",
       "  <tbody>\n",
       "    <tr>\n",
       "      <th>0</th>\n",
       "      <td>Jun 01, 2021</td>\n",
       "      <td>504.01</td>\n",
       "      <td>536.13</td>\n",
       "      <td>482.14</td>\n",
       "      <td>528.21</td>\n",
       "      <td>528.21</td>\n",
       "      <td>78560600</td>\n",
       "    </tr>\n",
       "    <tr>\n",
       "      <th>1</th>\n",
       "      <td>May 01, 2021</td>\n",
       "      <td>512.65</td>\n",
       "      <td>518.95</td>\n",
       "      <td>478.54</td>\n",
       "      <td>502.81</td>\n",
       "      <td>502.81</td>\n",
       "      <td>66927600</td>\n",
       "    </tr>\n",
       "    <tr>\n",
       "      <th>2</th>\n",
       "      <td>Apr 01, 2021</td>\n",
       "      <td>529.93</td>\n",
       "      <td>563.56</td>\n",
       "      <td>499.00</td>\n",
       "      <td>513.47</td>\n",
       "      <td>513.47</td>\n",
       "      <td>111573300</td>\n",
       "    </tr>\n",
       "    <tr>\n",
       "      <th>3</th>\n",
       "      <td>Mar 01, 2021</td>\n",
       "      <td>545.57</td>\n",
       "      <td>556.99</td>\n",
       "      <td>492.85</td>\n",
       "      <td>521.66</td>\n",
       "      <td>521.66</td>\n",
       "      <td>90183900</td>\n",
       "    </tr>\n",
       "    <tr>\n",
       "      <th>4</th>\n",
       "      <td>Feb 01, 2021</td>\n",
       "      <td>536.79</td>\n",
       "      <td>566.65</td>\n",
       "      <td>518.28</td>\n",
       "      <td>538.85</td>\n",
       "      <td>538.85</td>\n",
       "      <td>61902300</td>\n",
       "    </tr>\n",
       "  </tbody>\n",
       "</table>\n",
       "</div>"
      ],
      "text/plain": [
       "           Date    Open    High     Low  Close* Adj Close**     Volume\n",
       "0  Jun 01, 2021  504.01  536.13  482.14  528.21      528.21   78560600\n",
       "1  May 01, 2021  512.65  518.95  478.54  502.81      502.81   66927600\n",
       "2  Apr 01, 2021  529.93  563.56  499.00  513.47      513.47  111573300\n",
       "3  Mar 01, 2021  545.57  556.99  492.85  521.66      521.66   90183900\n",
       "4  Feb 01, 2021  536.79  566.65  518.28  538.85      538.85   61902300"
      ]
     },
     "execution_count": 72,
     "metadata": {},
     "output_type": "execute_result"
    }
   ],
   "source": [
    "netflix_dataframe = read_html_pandas_data[0]\n",
    "\n",
    "netflix_dataframe.head()"
   ]
  },
  {
   "cell_type": "markdown",
   "id": "3eda0345-4570-4f25-931c-add0c38f6eb2",
   "metadata": {},
   "source": [
    "<hr>"
   ]
  },
  {
   "cell_type": "markdown",
   "id": "d1d723c4-2b99-45bb-9224-1134823f8a8e",
   "metadata": {},
   "source": [
    "# Exercício: use webscraping para extrair dados de estoque"
   ]
  },
  {
   "cell_type": "markdown",
   "id": "5215ce11-51d5-446f-b706-d14794393998",
   "metadata": {},
   "source": [
    "Use a biblioteca `requests` para baixar a página da web [https://cf-courses-data.s3.us.cloud-object-storage.appdomain.cloud/IBMDeveloperSkillsNetwork-PY0220EN-SkillsNetwork/labs/project/amazon_data_webpage.html]( https://cf-courses-data.s3.us.cloud-object-storage.appdomain.cloud/IBMDeveloperSkillsNetwork-PY0220EN-SkillsNetwork/labs/project/amazon_data_webpage.html). Salve o texto da resposta como uma variável chamada `html_data`."
   ]
  },
  {
   "cell_type": "code",
   "execution_count": 5,
   "id": "bf3c4cc6-e5a1-447f-ab27-7d264d3c194f",
   "metadata": {
    "tags": []
   },
   "outputs": [],
   "source": [
    "url= 'https://cf-courses-data.s3.us.cloud-object-storage.appdomain.cloud/IBMDeveloperSkillsNetwork-PY0220EN-SkillsNetwork/labs/project/amazon_data_webpage.html'"
   ]
  },
  {
   "cell_type": "code",
   "execution_count": null,
   "id": "65e0bfcc-560b-4cff-b238-f142f9834359",
   "metadata": {
    "tags": []
   },
   "outputs": [],
   "source": [
    "\n",
    "import pandas as pd\n",
    "from bs4 import BeautifulSoup\n",
    "import requests\n",
    "import yfinance as yf"
   ]
  },
  {
   "cell_type": "code",
   "execution_count": null,
   "id": "3c0e4384-54a7-43de-9aba-6db9ef2a286c",
   "metadata": {
    "tags": []
   },
   "outputs": [],
   "source": [
    "html_data  = requests.get(url).text\n",
    "print(html_data)"
   ]
  },
  {
   "cell_type": "markdown",
   "id": "59415348-7299-4400-8887-5a8491a76f5f",
   "metadata": {},
   "source": [
    "Analise os dados HTML usando `beautifulsoup`."
   ]
  },
  {
   "cell_type": "code",
   "execution_count": 23,
   "id": "1ee5475b-0892-4436-a52b-ab89bf434dd5",
   "metadata": {
    "tags": []
   },
   "outputs": [],
   "source": [
    "soup = BeautifulSoup(html_data, 'html5lib')\n"
   ]
  },
  {
   "cell_type": "code",
   "execution_count": null,
   "id": "29d3800a-6913-4f36-94b0-1c3486cadf58",
   "metadata": {
    "tags": []
   },
   "outputs": [],
   "source": []
  },
  {
   "cell_type": "markdown",
   "id": "dcd17e67-47ad-427b-b21e-901945af5ec1",
   "metadata": {
    "tags": []
   },
   "source": [
    "<b>Pergunta 1:</b> Qual é o conteúdo do atributo title?"
   ]
  },
  {
   "cell_type": "code",
   "execution_count": 32,
   "id": "120f92c9-6bf6-4d51-a421-97ff02ed17db",
   "metadata": {
    "tags": []
   },
   "outputs": [
    {
     "data": {
      "text/plain": [
       "<title>Amazon.com, Inc. (AMZN) Stock Historical Prices &amp; Data - Yahoo Finance</title>"
      ]
     },
     "execution_count": 32,
     "metadata": {},
     "output_type": "execute_result"
    }
   ],
   "source": [
    "table = soup.find('title')\n",
    "table"
   ]
  },
  {
   "cell_type": "code",
   "execution_count": 67,
   "id": "6d31c1b2-940d-4fc5-b28b-807b2fe30041",
   "metadata": {
    "tags": []
   },
   "outputs": [
    {
     "ename": "TypeError",
     "evalue": "'NoneType' object is not callable",
     "output_type": "error",
     "traceback": [
      "\u001b[0;31m---------------------------------------------------------------------------\u001b[0m",
      "\u001b[0;31mTypeError\u001b[0m                                 Traceback (most recent call last)",
      "Cell \u001b[0;32mIn[67], line 1\u001b[0m\n\u001b[0;32m----> 1\u001b[0m table \u001b[38;5;241m=\u001b[39m soup\u001b[38;5;241m.\u001b[39mfindall()\n\u001b[1;32m      2\u001b[0m table\n",
      "\u001b[0;31mTypeError\u001b[0m: 'NoneType' object is not callable"
     ]
    }
   ],
   "source": []
  },
  {
   "cell_type": "markdown",
   "id": "55dd8425-b57e-40e8-a2d1-c2c8084f1b02",
   "metadata": {
    "tags": []
   },
   "source": [
    "Usando BeautifulSoup, extraia a tabela com preços históricos das ações e armazene-a em um quadro de dados chamado `amazon_data`. O quadro de dados deve ter colunas Data, Open, High, Low, Close, Adj Close e Volume. Preencha cada variável com os dados corretos da lista `col`."
   ]
  },
  {
   "cell_type": "code",
   "execution_count": 83,
   "id": "918b2f96-8994-4c78-881d-640236dcc7cc",
   "metadata": {
    "tags": []
   },
   "outputs": [
    {
     "name": "stdout",
     "output_type": "stream",
     "text": [
      "            Date      Open      High       Low     Close       Volume  \\\n",
      "0   Jan 01, 2021  3,270.00  3,363.89  3,086.00  3,206.20   71,528,900   \n",
      "1   Dec 01, 2020  3,188.50  3,350.65  3,072.82  3,256.93   77,556,200   \n",
      "2   Nov 01, 2020  3,061.74  3,366.80  2,950.12  3,168.04   90,810,500   \n",
      "3   Oct 01, 2020  3,208.00  3,496.24  3,019.00  3,036.15  116,226,100   \n",
      "4   Sep 01, 2020  3,489.58  3,552.25  2,871.00  3,148.73  115,899,300   \n",
      "..           ...       ...       ...       ...       ...          ...   \n",
      "56  May 01, 2016    663.92    724.23    656.00    722.79   90,614,500   \n",
      "57  Apr 01, 2016    590.49    669.98    585.25    659.59   78,464,200   \n",
      "58  Mar 01, 2016    556.29    603.24    538.58    593.64   94,009,500   \n",
      "59  Feb 01, 2016    578.15    581.80    474.00    552.52  124,144,800   \n",
      "60  Jan 01, 2016    656.29    657.72    547.18    587.00  130,200,900   \n",
      "\n",
      "   Adj Close  \n",
      "0     587.00  \n",
      "1     587.00  \n",
      "2     587.00  \n",
      "3     587.00  \n",
      "4     587.00  \n",
      "..       ...  \n",
      "56    587.00  \n",
      "57    587.00  \n",
      "58    587.00  \n",
      "59    587.00  \n",
      "60    587.00  \n",
      "\n",
      "[61 rows x 7 columns]\n"
     ]
    }
   ],
   "source": [
    "amazon_data = pd.DataFrame(columns=[\"Date\", \"Open\", \"High\", \"Low\", \"Close\", \"Volume\"])\n",
    "\n",
    "for row in soup.find(\"tbody\").find_all(\"tr\"):\n",
    "    col = row.find_all(\"td\")\n",
    "    date = col[0].text\n",
    "    Open = col[1].text\n",
    "    high = col[2].text\n",
    "    low = col[3].text\n",
    "    close = col[4].text\n",
    "    volume = col[6].text\n",
    "    \n",
    "    new_row = pd.DataFrame({\"Date\": [date], \"Open\": [Open], \"High\": [high], \"Low\": [low], \"Close\": [close], \"Adj Close\": [adj_close], \"Volume\": [volume]})\n",
    "    \n",
    "    # Concatena o novo DataFrame com o DataFrame existente\n",
    "    amazon_data = pd.concat([amazon_data, new_row], ignore_index=True)\n",
    "    \n",
    "print(amazon_data)"
   ]
  },
  {
   "cell_type": "markdown",
   "id": "9ea1ca3d-a035-4acb-881a-249daddb397f",
   "metadata": {},
   "source": [
    "<b>Pergunta 2:</b> Quais são os nomes das colunas no quadro de dados?"
   ]
  },
  {
   "cell_type": "code",
   "execution_count": 34,
   "id": "212d1274-0507-4656-af9b-2867b3ea6927",
   "metadata": {
    "tags": []
   },
   "outputs": [
    {
     "data": {
      "text/html": [
       "<div>\n",
       "<style scoped>\n",
       "    .dataframe tbody tr th:only-of-type {\n",
       "        vertical-align: middle;\n",
       "    }\n",
       "\n",
       "    .dataframe tbody tr th {\n",
       "        vertical-align: top;\n",
       "    }\n",
       "\n",
       "    .dataframe thead th {\n",
       "        text-align: right;\n",
       "    }\n",
       "</style>\n",
       "<table border=\"1\" class=\"dataframe\">\n",
       "  <thead>\n",
       "    <tr style=\"text-align: right;\">\n",
       "      <th></th>\n",
       "      <th>Date</th>\n",
       "      <th>Open</th>\n",
       "      <th>High</th>\n",
       "      <th>Low</th>\n",
       "      <th>Close</th>\n",
       "      <th>Volume</th>\n",
       "    </tr>\n",
       "  </thead>\n",
       "  <tbody>\n",
       "  </tbody>\n",
       "</table>\n",
       "</div>"
      ],
      "text/plain": [
       "Empty DataFrame\n",
       "Columns: [Date, Open, High, Low, Close, Volume]\n",
       "Index: []"
      ]
     },
     "execution_count": 34,
     "metadata": {},
     "output_type": "execute_result"
    }
   ],
   "source": [
    "amazon_data.head()"
   ]
  },
  {
   "cell_type": "code",
   "execution_count": 35,
   "id": "fa593092-47b6-4d7b-8b13-e0eeea0ce21c",
   "metadata": {
    "tags": []
   },
   "outputs": [],
   "source": [
    "amazon_data = pd.read_html(url)"
   ]
  },
  {
   "cell_type": "code",
   "execution_count": 36,
   "id": "80483b90-1c97-4879-aea4-5c35709ea0e3",
   "metadata": {
    "tags": []
   },
   "outputs": [
    {
     "data": {
      "text/plain": [
       "[                                                 Date  \\\n",
       " 0                                        Jan 01, 2021   \n",
       " 1                                        Dec 01, 2020   \n",
       " 2                                        Nov 01, 2020   \n",
       " 3                                        Oct 01, 2020   \n",
       " 4                                        Sep 01, 2020   \n",
       " ..                                                ...   \n",
       " 57                                       Apr 01, 2016   \n",
       " 58                                       Mar 01, 2016   \n",
       " 59                                       Feb 01, 2016   \n",
       " 60                                       Jan 01, 2016   \n",
       " 61  *Close price adjusted for splits.**Adjusted cl...   \n",
       " \n",
       "                                                  Open  \\\n",
       " 0                                             3270.00   \n",
       " 1                                             3188.50   \n",
       " 2                                             3061.74   \n",
       " 3                                             3208.00   \n",
       " 4                                             3489.58   \n",
       " ..                                                ...   \n",
       " 57                                             590.49   \n",
       " 58                                             556.29   \n",
       " 59                                             578.15   \n",
       " 60                                             656.29   \n",
       " 61  *Close price adjusted for splits.**Adjusted cl...   \n",
       " \n",
       "                                                  High  \\\n",
       " 0                                             3363.89   \n",
       " 1                                             3350.65   \n",
       " 2                                             3366.80   \n",
       " 3                                             3496.24   \n",
       " 4                                             3552.25   \n",
       " ..                                                ...   \n",
       " 57                                             669.98   \n",
       " 58                                             603.24   \n",
       " 59                                             581.80   \n",
       " 60                                             657.72   \n",
       " 61  *Close price adjusted for splits.**Adjusted cl...   \n",
       " \n",
       "                                                   Low  \\\n",
       " 0                                             3086.00   \n",
       " 1                                             3072.82   \n",
       " 2                                             2950.12   \n",
       " 3                                             3019.00   \n",
       " 4                                             2871.00   \n",
       " ..                                                ...   \n",
       " 57                                             585.25   \n",
       " 58                                             538.58   \n",
       " 59                                             474.00   \n",
       " 60                                             547.18   \n",
       " 61  *Close price adjusted for splits.**Adjusted cl...   \n",
       " \n",
       "                                                Close*  \\\n",
       " 0                                             3206.20   \n",
       " 1                                             3256.93   \n",
       " 2                                             3168.04   \n",
       " 3                                             3036.15   \n",
       " 4                                             3148.73   \n",
       " ..                                                ...   \n",
       " 57                                             659.59   \n",
       " 58                                             593.64   \n",
       " 59                                             552.52   \n",
       " 60                                             587.00   \n",
       " 61  *Close price adjusted for splits.**Adjusted cl...   \n",
       " \n",
       "                                           Adj Close**  \\\n",
       " 0                                             3206.20   \n",
       " 1                                             3256.93   \n",
       " 2                                             3168.04   \n",
       " 3                                             3036.15   \n",
       " 4                                             3148.73   \n",
       " ..                                                ...   \n",
       " 57                                             659.59   \n",
       " 58                                             593.64   \n",
       " 59                                             552.52   \n",
       " 60                                             587.00   \n",
       " 61  *Close price adjusted for splits.**Adjusted cl...   \n",
       " \n",
       "                                                Volume  \n",
       " 0                                            71528900  \n",
       " 1                                            77556200  \n",
       " 2                                            90810500  \n",
       " 3                                           116226100  \n",
       " 4                                           115899300  \n",
       " ..                                                ...  \n",
       " 57                                           78464200  \n",
       " 58                                           94009500  \n",
       " 59                                          124144800  \n",
       " 60                                          130200900  \n",
       " 61  *Close price adjusted for splits.**Adjusted cl...  \n",
       " \n",
       " [62 rows x 7 columns]]"
      ]
     },
     "execution_count": 36,
     "metadata": {},
     "output_type": "execute_result"
    }
   ],
   "source": [
    "amazon_data= pd.read_html(str(soup))\n",
    "amazon_data"
   ]
  },
  {
   "cell_type": "code",
   "execution_count": 188,
   "id": "2aca7b9f-3bc8-4695-9654-d46c6cdac4b9",
   "metadata": {
    "tags": []
   },
   "outputs": [
    {
     "data": {
      "text/html": [
       "<div>\n",
       "<style scoped>\n",
       "    .dataframe tbody tr th:only-of-type {\n",
       "        vertical-align: middle;\n",
       "    }\n",
       "\n",
       "    .dataframe tbody tr th {\n",
       "        vertical-align: top;\n",
       "    }\n",
       "\n",
       "    .dataframe thead th {\n",
       "        text-align: right;\n",
       "    }\n",
       "</style>\n",
       "<table border=\"1\" class=\"dataframe\">\n",
       "  <thead>\n",
       "    <tr style=\"text-align: right;\">\n",
       "      <th></th>\n",
       "      <th>Date</th>\n",
       "      <th>Open</th>\n",
       "      <th>High</th>\n",
       "      <th>Low</th>\n",
       "      <th>Close*</th>\n",
       "      <th>Adj Close**</th>\n",
       "      <th>Volume</th>\n",
       "    </tr>\n",
       "  </thead>\n",
       "  <tbody>\n",
       "    <tr>\n",
       "      <th>0</th>\n",
       "      <td>Jan 01, 2021</td>\n",
       "      <td>3270.00</td>\n",
       "      <td>3363.89</td>\n",
       "      <td>3086.00</td>\n",
       "      <td>3206.20</td>\n",
       "      <td>3206.20</td>\n",
       "      <td>71528900</td>\n",
       "    </tr>\n",
       "    <tr>\n",
       "      <th>1</th>\n",
       "      <td>Dec 01, 2020</td>\n",
       "      <td>3188.50</td>\n",
       "      <td>3350.65</td>\n",
       "      <td>3072.82</td>\n",
       "      <td>3256.93</td>\n",
       "      <td>3256.93</td>\n",
       "      <td>77556200</td>\n",
       "    </tr>\n",
       "    <tr>\n",
       "      <th>2</th>\n",
       "      <td>Nov 01, 2020</td>\n",
       "      <td>3061.74</td>\n",
       "      <td>3366.80</td>\n",
       "      <td>2950.12</td>\n",
       "      <td>3168.04</td>\n",
       "      <td>3168.04</td>\n",
       "      <td>90810500</td>\n",
       "    </tr>\n",
       "    <tr>\n",
       "      <th>3</th>\n",
       "      <td>Oct 01, 2020</td>\n",
       "      <td>3208.00</td>\n",
       "      <td>3496.24</td>\n",
       "      <td>3019.00</td>\n",
       "      <td>3036.15</td>\n",
       "      <td>3036.15</td>\n",
       "      <td>116226100</td>\n",
       "    </tr>\n",
       "    <tr>\n",
       "      <th>4</th>\n",
       "      <td>Sep 01, 2020</td>\n",
       "      <td>3489.58</td>\n",
       "      <td>3552.25</td>\n",
       "      <td>2871.00</td>\n",
       "      <td>3148.73</td>\n",
       "      <td>3148.73</td>\n",
       "      <td>115899300</td>\n",
       "    </tr>\n",
       "  </tbody>\n",
       "</table>\n",
       "</div>"
      ],
      "text/plain": [
       "           Date     Open     High      Low   Close* Adj Close**     Volume\n",
       "0  Jan 01, 2021  3270.00  3363.89  3086.00  3206.20     3206.20   71528900\n",
       "1  Dec 01, 2020  3188.50  3350.65  3072.82  3256.93     3256.93   77556200\n",
       "2  Nov 01, 2020  3061.74  3366.80  2950.12  3168.04     3168.04   90810500\n",
       "3  Oct 01, 2020  3208.00  3496.24  3019.00  3036.15     3036.15  116226100\n",
       "4  Sep 01, 2020  3489.58  3552.25  2871.00  3148.73     3148.73  115899300"
      ]
     },
     "execution_count": 188,
     "metadata": {},
     "output_type": "execute_result"
    }
   ],
   "source": [
    "amazon_dataframe = amazon_data[0]\n",
    "\n",
    "amazon_dataframe.head()"
   ]
  },
  {
   "cell_type": "code",
   "execution_count": 82,
   "id": "3f8dffc3-1317-4438-9e04-19f0ff0a18a2",
   "metadata": {
    "tags": []
   },
   "outputs": [
    {
     "ename": "JSONDecodeError",
     "evalue": "Expecting value: line 1 column 1 (char 0)",
     "output_type": "error",
     "traceback": [
      "\u001b[0;31m---------------------------------------------------------------------------\u001b[0m",
      "\u001b[0;31mJSONDecodeError\u001b[0m                           Traceback (most recent call last)",
      "Cell \u001b[0;32mIn[82], line 5\u001b[0m\n\u001b[1;32m      3\u001b[0m amazondata \u001b[38;5;241m=\u001b[39m \u001b[38;5;124m'\u001b[39m\u001b[38;5;124mamazon_data.json\u001b[39m\u001b[38;5;124m'\u001b[39m\n\u001b[1;32m      4\u001b[0m \u001b[38;5;28;01mwith\u001b[39;00m \u001b[38;5;28mopen\u001b[39m(amazondata) \u001b[38;5;28;01mas\u001b[39;00m amazon_json:\n\u001b[0;32m----> 5\u001b[0m     amazon_data \u001b[38;5;241m=\u001b[39m json\u001b[38;5;241m.\u001b[39mload(amazon_json)\n\u001b[1;32m      6\u001b[0m     \u001b[38;5;66;03m# Print the type of data variable    \u001b[39;00m\n\u001b[1;32m      7\u001b[0m     \u001b[38;5;28mprint\u001b[39m(\u001b[38;5;124m\"\u001b[39m\u001b[38;5;124mType:\u001b[39m\u001b[38;5;124m\"\u001b[39m, \u001b[38;5;28mtype\u001b[39m(amazondata))\n",
      "File \u001b[0;32m~/anaconda3/lib/python3.11/json/__init__.py:293\u001b[0m, in \u001b[0;36mload\u001b[0;34m(fp, cls, object_hook, parse_float, parse_int, parse_constant, object_pairs_hook, **kw)\u001b[0m\n\u001b[1;32m    274\u001b[0m \u001b[38;5;28;01mdef\u001b[39;00m \u001b[38;5;21mload\u001b[39m(fp, \u001b[38;5;241m*\u001b[39m, \u001b[38;5;28mcls\u001b[39m\u001b[38;5;241m=\u001b[39m\u001b[38;5;28;01mNone\u001b[39;00m, object_hook\u001b[38;5;241m=\u001b[39m\u001b[38;5;28;01mNone\u001b[39;00m, parse_float\u001b[38;5;241m=\u001b[39m\u001b[38;5;28;01mNone\u001b[39;00m,\n\u001b[1;32m    275\u001b[0m         parse_int\u001b[38;5;241m=\u001b[39m\u001b[38;5;28;01mNone\u001b[39;00m, parse_constant\u001b[38;5;241m=\u001b[39m\u001b[38;5;28;01mNone\u001b[39;00m, object_pairs_hook\u001b[38;5;241m=\u001b[39m\u001b[38;5;28;01mNone\u001b[39;00m, \u001b[38;5;241m*\u001b[39m\u001b[38;5;241m*\u001b[39mkw):\n\u001b[1;32m    276\u001b[0m \u001b[38;5;250m    \u001b[39m\u001b[38;5;124;03m\"\"\"Deserialize ``fp`` (a ``.read()``-supporting file-like object containing\u001b[39;00m\n\u001b[1;32m    277\u001b[0m \u001b[38;5;124;03m    a JSON document) to a Python object.\u001b[39;00m\n\u001b[1;32m    278\u001b[0m \n\u001b[0;32m   (...)\u001b[0m\n\u001b[1;32m    291\u001b[0m \u001b[38;5;124;03m    kwarg; otherwise ``JSONDecoder`` is used.\u001b[39;00m\n\u001b[1;32m    292\u001b[0m \u001b[38;5;124;03m    \"\"\"\u001b[39;00m\n\u001b[0;32m--> 293\u001b[0m     \u001b[38;5;28;01mreturn\u001b[39;00m loads(fp\u001b[38;5;241m.\u001b[39mread(),\n\u001b[1;32m    294\u001b[0m         \u001b[38;5;28mcls\u001b[39m\u001b[38;5;241m=\u001b[39m\u001b[38;5;28mcls\u001b[39m, object_hook\u001b[38;5;241m=\u001b[39mobject_hook,\n\u001b[1;32m    295\u001b[0m         parse_float\u001b[38;5;241m=\u001b[39mparse_float, parse_int\u001b[38;5;241m=\u001b[39mparse_int,\n\u001b[1;32m    296\u001b[0m         parse_constant\u001b[38;5;241m=\u001b[39mparse_constant, object_pairs_hook\u001b[38;5;241m=\u001b[39mobject_pairs_hook, \u001b[38;5;241m*\u001b[39m\u001b[38;5;241m*\u001b[39mkw)\n",
      "File \u001b[0;32m~/anaconda3/lib/python3.11/json/__init__.py:346\u001b[0m, in \u001b[0;36mloads\u001b[0;34m(s, cls, object_hook, parse_float, parse_int, parse_constant, object_pairs_hook, **kw)\u001b[0m\n\u001b[1;32m    341\u001b[0m     s \u001b[38;5;241m=\u001b[39m s\u001b[38;5;241m.\u001b[39mdecode(detect_encoding(s), \u001b[38;5;124m'\u001b[39m\u001b[38;5;124msurrogatepass\u001b[39m\u001b[38;5;124m'\u001b[39m)\n\u001b[1;32m    343\u001b[0m \u001b[38;5;28;01mif\u001b[39;00m (\u001b[38;5;28mcls\u001b[39m \u001b[38;5;129;01mis\u001b[39;00m \u001b[38;5;28;01mNone\u001b[39;00m \u001b[38;5;129;01mand\u001b[39;00m object_hook \u001b[38;5;129;01mis\u001b[39;00m \u001b[38;5;28;01mNone\u001b[39;00m \u001b[38;5;129;01mand\u001b[39;00m\n\u001b[1;32m    344\u001b[0m         parse_int \u001b[38;5;129;01mis\u001b[39;00m \u001b[38;5;28;01mNone\u001b[39;00m \u001b[38;5;129;01mand\u001b[39;00m parse_float \u001b[38;5;129;01mis\u001b[39;00m \u001b[38;5;28;01mNone\u001b[39;00m \u001b[38;5;129;01mand\u001b[39;00m\n\u001b[1;32m    345\u001b[0m         parse_constant \u001b[38;5;129;01mis\u001b[39;00m \u001b[38;5;28;01mNone\u001b[39;00m \u001b[38;5;129;01mand\u001b[39;00m object_pairs_hook \u001b[38;5;129;01mis\u001b[39;00m \u001b[38;5;28;01mNone\u001b[39;00m \u001b[38;5;129;01mand\u001b[39;00m \u001b[38;5;129;01mnot\u001b[39;00m kw):\n\u001b[0;32m--> 346\u001b[0m     \u001b[38;5;28;01mreturn\u001b[39;00m _default_decoder\u001b[38;5;241m.\u001b[39mdecode(s)\n\u001b[1;32m    347\u001b[0m \u001b[38;5;28;01mif\u001b[39;00m \u001b[38;5;28mcls\u001b[39m \u001b[38;5;129;01mis\u001b[39;00m \u001b[38;5;28;01mNone\u001b[39;00m:\n\u001b[1;32m    348\u001b[0m     \u001b[38;5;28mcls\u001b[39m \u001b[38;5;241m=\u001b[39m JSONDecoder\n",
      "File \u001b[0;32m~/anaconda3/lib/python3.11/json/decoder.py:337\u001b[0m, in \u001b[0;36mJSONDecoder.decode\u001b[0;34m(self, s, _w)\u001b[0m\n\u001b[1;32m    332\u001b[0m \u001b[38;5;28;01mdef\u001b[39;00m \u001b[38;5;21mdecode\u001b[39m(\u001b[38;5;28mself\u001b[39m, s, _w\u001b[38;5;241m=\u001b[39mWHITESPACE\u001b[38;5;241m.\u001b[39mmatch):\n\u001b[1;32m    333\u001b[0m \u001b[38;5;250m    \u001b[39m\u001b[38;5;124;03m\"\"\"Return the Python representation of ``s`` (a ``str`` instance\u001b[39;00m\n\u001b[1;32m    334\u001b[0m \u001b[38;5;124;03m    containing a JSON document).\u001b[39;00m\n\u001b[1;32m    335\u001b[0m \n\u001b[1;32m    336\u001b[0m \u001b[38;5;124;03m    \"\"\"\u001b[39;00m\n\u001b[0;32m--> 337\u001b[0m     obj, end \u001b[38;5;241m=\u001b[39m \u001b[38;5;28mself\u001b[39m\u001b[38;5;241m.\u001b[39mraw_decode(s, idx\u001b[38;5;241m=\u001b[39m_w(s, \u001b[38;5;241m0\u001b[39m)\u001b[38;5;241m.\u001b[39mend())\n\u001b[1;32m    338\u001b[0m     end \u001b[38;5;241m=\u001b[39m _w(s, end)\u001b[38;5;241m.\u001b[39mend()\n\u001b[1;32m    339\u001b[0m     \u001b[38;5;28;01mif\u001b[39;00m end \u001b[38;5;241m!=\u001b[39m \u001b[38;5;28mlen\u001b[39m(s):\n",
      "File \u001b[0;32m~/anaconda3/lib/python3.11/json/decoder.py:355\u001b[0m, in \u001b[0;36mJSONDecoder.raw_decode\u001b[0;34m(self, s, idx)\u001b[0m\n\u001b[1;32m    353\u001b[0m     obj, end \u001b[38;5;241m=\u001b[39m \u001b[38;5;28mself\u001b[39m\u001b[38;5;241m.\u001b[39mscan_once(s, idx)\n\u001b[1;32m    354\u001b[0m \u001b[38;5;28;01mexcept\u001b[39;00m \u001b[38;5;167;01mStopIteration\u001b[39;00m \u001b[38;5;28;01mas\u001b[39;00m err:\n\u001b[0;32m--> 355\u001b[0m     \u001b[38;5;28;01mraise\u001b[39;00m JSONDecodeError(\u001b[38;5;124m\"\u001b[39m\u001b[38;5;124mExpecting value\u001b[39m\u001b[38;5;124m\"\u001b[39m, s, err\u001b[38;5;241m.\u001b[39mvalue) \u001b[38;5;28;01mfrom\u001b[39;00m \u001b[38;5;28;01mNone\u001b[39;00m\n\u001b[1;32m    356\u001b[0m \u001b[38;5;28;01mreturn\u001b[39;00m obj, end\n",
      "\u001b[0;31mJSONDecodeError\u001b[0m: Expecting value: line 1 column 1 (char 0)"
     ]
    }
   ],
   "source": [
    "import json\n",
    "\n",
    "\n",
    "amazondata = 'amazon_data.json'\n",
    "with open(amazondata) as amazon_json:\n",
    "    amazon_data = json.load(amazon_json)\n",
    "    # Print the type of data variable    \n",
    "    print(\"Type:\", type(amazondata))\n"
   ]
  },
  {
   "cell_type": "code",
   "execution_count": null,
   "id": "afa5203e-c97e-43cf-927a-3745916e652f",
   "metadata": {
    "tags": []
   },
   "outputs": [],
   "source": [
    "amazon = yf.Ticker(\"AMZN\")"
   ]
  },
  {
   "cell_type": "code",
   "execution_count": null,
   "id": "323b3214-4030-4288-9e8b-fa4e36eccc07",
   "metadata": {
    "tags": []
   },
   "outputs": [],
   "source": [
    "amazon_data.history(period=\"max\")"
   ]
  },
  {
   "cell_type": "code",
   "execution_count": null,
   "id": "64ae4e4e-5705-4526-8e77-eb7f6c1b64df",
   "metadata": {},
   "outputs": [
    {
     "name": "stdout",
     "output_type": "stream",
     "text": [
      "Title attribute content: Amazon.com, Inc. (AMZN) Stock Historical Prices & Data - Yahoo Finance\n"
     ]
    },
    {
     "ename": "AttributeError",
     "evalue": "'DataFrame' object has no attribute 'append'",
     "output_type": "error",
     "traceback": [
      "\u001b[0;31m---------------------------------------------------------------------------\u001b[0m",
      "\u001b[0;31mAttributeError\u001b[0m                            Traceback (most recent call last)",
      "\u001b[0;32m/var/folders/mp/_1mc66sj15dcx84w85zjp_fr0000gn/T/ipykernel_75028/3191964093.py\u001b[0m in \u001b[0;36m?\u001b[0;34m()\u001b[0m\n\u001b[1;32m     26\u001b[0m     \u001b[0mclose\u001b[0m \u001b[0;34m=\u001b[0m \u001b[0mcol\u001b[0m\u001b[0;34m[\u001b[0m\u001b[0;36m4\u001b[0m\u001b[0;34m]\u001b[0m\u001b[0;34m.\u001b[0m\u001b[0mtext\u001b[0m\u001b[0;34m\u001b[0m\u001b[0;34m\u001b[0m\u001b[0m\n\u001b[1;32m     27\u001b[0m     \u001b[0madj_close\u001b[0m \u001b[0;34m=\u001b[0m \u001b[0mcol\u001b[0m\u001b[0;34m[\u001b[0m\u001b[0;36m5\u001b[0m\u001b[0;34m]\u001b[0m\u001b[0;34m.\u001b[0m\u001b[0mtext\u001b[0m\u001b[0;34m\u001b[0m\u001b[0;34m\u001b[0m\u001b[0m\n\u001b[1;32m     28\u001b[0m     \u001b[0mvolume\u001b[0m \u001b[0;34m=\u001b[0m \u001b[0mcol\u001b[0m\u001b[0;34m[\u001b[0m\u001b[0;36m6\u001b[0m\u001b[0;34m]\u001b[0m\u001b[0;34m.\u001b[0m\u001b[0mtext\u001b[0m\u001b[0;34m\u001b[0m\u001b[0;34m\u001b[0m\u001b[0m\n\u001b[1;32m     29\u001b[0m \u001b[0;34m\u001b[0m\u001b[0m\n\u001b[0;32m---> 30\u001b[0;31m     \u001b[0mamazon_data\u001b[0m\u001b[0;34m.\u001b[0m\u001b[0mappend\u001b[0m\u001b[0;34m(\u001b[0m\u001b[0;34m{\u001b[0m\u001b[0;34m\"Date\"\u001b[0m\u001b[0;34m:\u001b[0m \u001b[0mdate\u001b[0m\u001b[0;34m,\u001b[0m \u001b[0;34m\"Open\"\u001b[0m\u001b[0;34m:\u001b[0m \u001b[0mOpen\u001b[0m\u001b[0;34m,\u001b[0m \u001b[0;34m\"High\"\u001b[0m\u001b[0;34m:\u001b[0m \u001b[0mhigh\u001b[0m\u001b[0;34m,\u001b[0m \u001b[0;34m\"Low\"\u001b[0m\u001b[0;34m:\u001b[0m \u001b[0mlow\u001b[0m\u001b[0;34m,\u001b[0m \u001b[0;34m\"Close\"\u001b[0m\u001b[0;34m:\u001b[0m \u001b[0mclose\u001b[0m\u001b[0;34m,\u001b[0m \u001b[0;34m\"Adj Close\"\u001b[0m\u001b[0;34m:\u001b[0m \u001b[0madj_close\u001b[0m\u001b[0;34m,\u001b[0m \u001b[0;34m\"Volume\"\u001b[0m\u001b[0;34m:\u001b[0m \u001b[0mvolume\u001b[0m\u001b[0;34m}\u001b[0m\u001b[0;34m,\u001b[0m \u001b[0mignore_index\u001b[0m\u001b[0;34m=\u001b[0m\u001b[0;32mTrue\u001b[0m\u001b[0;34m)\u001b[0m\u001b[0;34m\u001b[0m\u001b[0;34m\u001b[0m\u001b[0m\n\u001b[0m\u001b[1;32m     31\u001b[0m \u001b[0;34m\u001b[0m\u001b[0m\n\u001b[1;32m     32\u001b[0m \u001b[0;31m# Print out the first five rows of the amazon_data data frame\u001b[0m\u001b[0;34m\u001b[0m\u001b[0;34m\u001b[0m\u001b[0m\n\u001b[1;32m     33\u001b[0m \u001b[0mprint\u001b[0m\u001b[0;34m(\u001b[0m\u001b[0;34m\"First five rows of amazon_data:\"\u001b[0m\u001b[0;34m)\u001b[0m\u001b[0;34m\u001b[0m\u001b[0;34m\u001b[0m\u001b[0m\n",
      "\u001b[0;32m~/anaconda3/lib/python3.11/site-packages/pandas/core/generic.py\u001b[0m in \u001b[0;36m?\u001b[0;34m(self, name)\u001b[0m\n\u001b[1;32m   5985\u001b[0m             \u001b[0;32mand\u001b[0m \u001b[0mname\u001b[0m \u001b[0;32mnot\u001b[0m \u001b[0;32min\u001b[0m \u001b[0mself\u001b[0m\u001b[0;34m.\u001b[0m\u001b[0m_accessors\u001b[0m\u001b[0;34m\u001b[0m\u001b[0;34m\u001b[0m\u001b[0m\n\u001b[1;32m   5986\u001b[0m             \u001b[0;32mand\u001b[0m \u001b[0mself\u001b[0m\u001b[0;34m.\u001b[0m\u001b[0m_info_axis\u001b[0m\u001b[0;34m.\u001b[0m\u001b[0m_can_hold_identifiers_and_holds_name\u001b[0m\u001b[0;34m(\u001b[0m\u001b[0mname\u001b[0m\u001b[0;34m)\u001b[0m\u001b[0;34m\u001b[0m\u001b[0;34m\u001b[0m\u001b[0m\n\u001b[1;32m   5987\u001b[0m         ):\n\u001b[1;32m   5988\u001b[0m             \u001b[0;32mreturn\u001b[0m \u001b[0mself\u001b[0m\u001b[0;34m[\u001b[0m\u001b[0mname\u001b[0m\u001b[0;34m]\u001b[0m\u001b[0;34m\u001b[0m\u001b[0;34m\u001b[0m\u001b[0m\n\u001b[0;32m-> 5989\u001b[0;31m         \u001b[0;32mreturn\u001b[0m \u001b[0mobject\u001b[0m\u001b[0;34m.\u001b[0m\u001b[0m__getattribute__\u001b[0m\u001b[0;34m(\u001b[0m\u001b[0mself\u001b[0m\u001b[0;34m,\u001b[0m \u001b[0mname\u001b[0m\u001b[0;34m)\u001b[0m\u001b[0;34m\u001b[0m\u001b[0;34m\u001b[0m\u001b[0m\n\u001b[0m",
      "\u001b[0;31mAttributeError\u001b[0m: 'DataFrame' object has no attribute 'append'"
     ]
    }
   ],
   "source": [
    "import requests\n",
    "from bs4 import BeautifulSoup\n",
    "import pandas as pd\n",
    "\n",
    "# Download the webpage\n",
    "url = \"https://cf-courses-data.s3.us.cloud-object-storage.appdomain.cloud/IBMDeveloperSkillsNetwork-PY0220EN-SkillsNetwork/labs/project/amazon_data_webpage.html\"\n",
    "response = requests.get(url)\n",
    "html_data = response.text\n",
    "\n",
    "# Parse the HTML data using BeautifulSoup\n",
    "soup = BeautifulSoup(html_data, \"html.parser\")\n",
    "\n",
    "# Question 1: What is the content of the title attribute?\n",
    "title_content = soup.title.string\n",
    "print(\"Title attribute content:\", title_content)\n",
    "\n",
    "# Extract table with historical share prices\n",
    "amazon_data = pd.DataFrame(columns=[\"Date\", \"Open\", \"High\", \"Low\", \"Close\", \"Adj Close\", \"Volume\"])\n",
    "\n",
    "for row in soup.find(\"tbody\").find_all(\"tr\"):\n",
    "    col = row.find_all(\"td\")\n",
    "    date = col[0].text\n",
    "    Open = col[1].text\n",
    "    high = col[2].text\n",
    "    low = col[3].text\n",
    "    close = col[4].text\n",
    "    adj_close = col[5].text\n",
    "    volume = col[6].text\n",
    "    \n",
    "    amazon_data.append({\"Date\": date, \"Open\": Open, \"High\": high, \"Low\": low, \"Close\": close, \"Adj Close\": adj_close, \"Volume\": volume}, ignore_index=True)\n",
    "\n",
    "# Print out the first five rows of the amazon_data data frame\n",
    "print(\"First five rows of amazon_data:\")\n",
    "print(amazon_data.head())\n",
    "\n",
    "# Question 2: What are the names of the columns in the data frame?\n",
    "column_names = amazon_data.columns.tolist()\n",
    "print(\"Column names:\", column_names)\n",
    "\n",
    "# Question 3: What is the Open of the last row of the amazon_data data frame?\n",
    "last_row_open = amazon_data.iloc[-1][\"Open\"]\n",
    "print(\"Open of the last row:\", last_row_open)\n"
   ]
  },
  {
   "cell_type": "code",
   "execution_count": null,
   "id": "ae8022e8-dae5-42ea-9758-8da695a1863a",
   "metadata": {},
   "outputs": [],
   "source": []
  }
 ],
 "metadata": {
  "kernelspec": {
   "display_name": "Python 3 (ipykernel)",
   "language": "python",
   "name": "python3"
  },
  "language_info": {
   "codemirror_mode": {
    "name": "ipython",
    "version": 3
   },
   "file_extension": ".py",
   "mimetype": "text/x-python",
   "name": "python",
   "nbconvert_exporter": "python",
   "pygments_lexer": "ipython3",
   "version": "3.11.5"
  }
 },
 "nbformat": 4,
 "nbformat_minor": 5
}
