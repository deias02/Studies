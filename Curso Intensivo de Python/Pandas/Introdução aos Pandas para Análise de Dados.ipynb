{
 "cells": [
  {
   "cell_type": "markdown",
   "id": "635e7965-7452-4bd1-b2b7-bd1a0436618d",
   "metadata": {},
   "source": [
    "## **Introdução aos Pandas para Análise de Dados**\n"
   ]
  },
  {
   "cell_type": "markdown",
   "id": "89823131-61ff-480b-b3bf-5c8809dee0fe",
   "metadata": {},
   "source": [
    "### **O que são Pandas?**\n",
    "\n",
    "Pandas é uma popular biblioteca de manipulação e análise de dados de código aberto para a linguagem de programação Python. Ele fornece um conjunto poderoso e flexível de ferramentas para trabalhar com dados estruturados, tornando-o uma ferramenta fundamental para cientistas de dados, analistas e engenheiros.\n",
    "O Pandas foi projetado para lidar com dados em vários formatos, como dados tabulares, dados de séries temporais e muito mais, tornando-o uma parte essencial do fluxo de trabalho de processamento de dados em muitos setores."
   ]
  },
  {
   "cell_type": "markdown",
   "id": "cca771ef-493d-4324-9513-bd28db9b36b6",
   "metadata": {},
   "source": [
    "Aqui estão alguns dos ***principais recursos e funcionalidades dos Pandas:***\n",
    "\n",
    "***Estruturas de Dados:*** A Pandas oferece duas estruturas de dados primárias - DataFrame e Series.\n",
    "\n",
    "1. Um DataFrame é uma estrutura de dados tabular bidimensional, mutável em tamanho e potencialmente heterogênea com eixos rotulados (linhas e colunas).\n",
    "2. Uma série é uma matriz rotulada unidimensional, essencialmente uma única coluna ou linha de dados.\n",
    "\n",
    "***Importação e Exportação de Dados:*** O Pandas facilita a leitura de dados de várias fontes, incluindo arquivos CSV, planilhas do Excel, bancos de dados SQL e muito mais. Ele também pode exportar dados para esses formatos, permitindo uma troca de dados perfeita.\n",
    "\n",
    "***Fusão e junção de dados:*** Você pode combinar vários DataFrames usando métodos como mesclagem e junção, semelhantes às operações SQL, para criar conjuntos de dados mais complexos de diferentes fontes.\n",
    "\n",
    "***Indexação Eficiente:*** O Pandas fornece métodos eficientes de indexação e seleção, permitindo que você acesse linhas e colunas específicas de dados rapidamente.\n",
    "\n",
    "***Estruturas de Dados Personalizadas:*** Você pode criar estruturas de dados personalizadas e manipular dados de maneiras que atendam às suas necessidades específicas, ampliando as capacidades dos Pandas."
   ]
  },
  {
   "cell_type": "markdown",
   "id": "e8df16e0-2e0f-4a0b-9a3e-2d03b6f62a1e",
   "metadata": {},
   "source": [
    "### **Importando Pandas e Carregamento de dados:**"
   ]
  },
  {
   "cell_type": "markdown",
   "id": "3e32d378-2ece-481d-95b4-eb7c49c45417",
   "metadata": {},
   "source": [
    "Importe Pandas usando o comando de importação, seguido pelo nome da biblioteca.\n",
    "Comumente, os Pandas são importados como pd para brevidade no código."
   ]
  },
  {
   "cell_type": "markdown",
   "id": "6ef4b923-9f93-4ffe-841e-e77d18bc36f4",
   "metadata": {},
   "source": [
    "* Os pandas podem ser usados para carregar dados de várias fontes, como arquivos CSV e Excel.\n",
    "* A função read_csv é usada para carregar dados de um arquivo CSV em um Pandas DataFrame.\n",
    "\n",
    "Para ler um arquivo CSV (Valores Separados por Vírgula) em Python usando a biblioteca Pandas, você pode usar a função pd.read_csv(). Aqui está a sintaxe para ler um arquivo CSV:"
   ]
  },
  {
   "cell_type": "code",
   "execution_count": 14,
   "id": "0a208b21-02e4-4ef0-a654-5389ca42143e",
   "metadata": {
    "tags": []
   },
   "outputs": [
    {
     "name": "stdout",
     "output_type": "stream",
     "text": [
      "    frutas   preço   qtd   valor\n",
      "0     maça       5     8      25\n",
      "1     uvas       8     8      63\n",
      "2  bananas       3     3       9\n"
     ]
    }
   ],
   "source": [
    "import pandas as pd\n",
    "\n",
    "# Read the CSV file into a DataFrame / df - dataframe\n",
    "df = pd.read_csv('vendas')\n",
    "print(df)"
   ]
  },
  {
   "cell_type": "markdown",
   "id": "1d0e8d99-16db-4821-81ce-d96ac1d7d21b",
   "metadata": {},
   "source": [
    "Substitua 'your_file.csv' pelo caminho real do seu arquivo CSV. Certifique-se de que o arquivo esteja localizado no mesmo diretório do seu script Python, ou você fornece o caminho correto do arquivo"
   ]
  },
  {
   "cell_type": "markdown",
   "id": "ec4746b3-8319-40f3-9f66-d63e6b3ed58b",
   "metadata": {},
   "source": [
    "### **O que é uma série?**"
   ]
  },
  {
   "cell_type": "markdown",
   "id": "855d4fa8-2e10-4475-97f6-ced09857fe62",
   "metadata": {},
   "source": [
    "Uma Série é uma matriz rotulada unidimensional em Pandas. Pode ser pensado como uma única coluna de dados com rótulos ou índices para cada elemento. Você pode criar uma Série a partir de várias fontes de dados, como listas, matrizes NumPy ou dicionários\n",
    "Aqui está um exemplo básico de criação de uma Série em Pandas:"
   ]
  },
  {
   "cell_type": "code",
   "execution_count": 16,
   "id": "9df0c09a-f432-404a-a71f-7e9e2e6e83ad",
   "metadata": {},
   "outputs": [
    {
     "name": "stdout",
     "output_type": "stream",
     "text": [
      "0    10\n",
      "1    20\n",
      "2    30\n",
      "3    40\n",
      "4    50\n",
      "dtype: int64\n"
     ]
    }
   ],
   "source": [
    "import pandas as pd\n",
    "# Create a Series from a list\n",
    "data = [10, 20, 30, 40, 50]\n",
    "s = pd.Series(data)\n",
    "print(s)"
   ]
  },
  {
   "cell_type": "markdown",
   "id": "8dafa5ab-6212-4af0-a6d4-dd4482b9d404",
   "metadata": {},
   "source": [
    "Neste exemplo, criamos uma Série chamada s com dados numéricos. Observe que os Pandas atribuíram automaticamente índices numéricos (0, 1, 2, 3, 4) a cada elemento, mas você também pode especificar rótulos personalizados, se necessário."
   ]
  },
  {
   "cell_type": "markdown",
   "id": "085ad069-3aeb-406a-9347-2e4bd04707de",
   "metadata": {},
   "source": [
    "### **Acessando Elementos em uma Série**"
   ]
  },
  {
   "cell_type": "markdown",
   "id": "6caf3732-8fff-4899-8a08-2a167585ef84",
   "metadata": {},
   "source": [
    "Você pode acessar elementos em uma Série usando os rótulos de índice ou posições inteiras. Aqui estão alguns métodos comuns para acessar dados da Série"
   ]
  },
  {
   "cell_type": "markdown",
   "id": "f4f8e714-1cf2-4e19-aaad-c0318b8cf1a9",
   "metadata": {},
   "source": [
    "#### **Acesso por rótulo**"
   ]
  },
  {
   "cell_type": "code",
   "execution_count": 17,
   "id": "a7205b44-fc6d-432f-a06f-1db7d7629f82",
   "metadata": {
    "tags": []
   },
   "outputs": [
    {
     "name": "stdout",
     "output_type": "stream",
     "text": [
      "30\n"
     ]
    }
   ],
   "source": [
    "print(s[2])     # Access the element with label 2 (value 30)"
   ]
  },
  {
   "cell_type": "markdown",
   "id": "6e52c463-67e2-4e9c-a431-adc74e874a81",
   "metadata": {},
   "source": [
    "#### **Acessando por posição**"
   ]
  },
  {
   "cell_type": "code",
   "execution_count": 18,
   "id": "a1be2d64-01e4-477b-b035-74927b644761",
   "metadata": {
    "tags": []
   },
   "outputs": [
    {
     "name": "stdout",
     "output_type": "stream",
     "text": [
      "40\n"
     ]
    }
   ],
   "source": [
    "print(s.iloc[3]) # Access the element at position 3 (value 40)"
   ]
  },
  {
   "cell_type": "markdown",
   "id": "b1e18c3e-87f3-4517-8056-60af4e0d8c13",
   "metadata": {},
   "source": [
    "#### **Acessando vários elementos**"
   ]
  },
  {
   "cell_type": "code",
   "execution_count": 19,
   "id": "3a465bf5-a77d-42f6-8900-6c2dbf1c8fcf",
   "metadata": {
    "tags": []
   },
   "outputs": [
    {
     "name": "stdout",
     "output_type": "stream",
     "text": [
      "1    20\n",
      "2    30\n",
      "3    40\n",
      "dtype: int64\n"
     ]
    }
   ],
   "source": [
    "print(s[1:4])   # Access a range of elements by label"
   ]
  },
  {
   "cell_type": "markdown",
   "id": "a30ab9f1-8f0b-4293-ae96-ca52e1a8804e",
   "metadata": {},
   "source": [
    "## **Atributos e Métodos da Série**"
   ]
  },
  {
   "cell_type": "markdown",
   "id": "25cbeacc-fc89-4e17-92af-da9fb3fa715f",
   "metadata": {},
   "source": [
    "A Série Pandas vem com vários atributos e métodos para ajudá-lo a manipular e analisar dados de forma eficaz. Aqui estão alguns essenciais:\n",
    "\n",
    "* **valores:** Retorna os dados da Série como uma matriz NumPy.\n",
    "* **índice:** Retorna o índice (rótulos) da Série.\n",
    "* **forma:** Retorna uma tupla representando as dimensões da Série.\n",
    "* **tamanho:** Retorna o número de elementos na Série.\n",
    "* **mean(), sum(), min(), max():** Calcule as estatísticas resumidas dos dados.\n",
    "* **unique(), nunique():** Obtenha valores únicos ou o número de valores exclusivos.\n",
    "* **sort_values(), sort_index():** Classifique a Série por valores ou rótulos de índice.\n",
    "* **isnull(), notnull():** Verifique se há valores ausentes (NaN) ou não ausentes.\n",
    "* **apply():** Aplique uma função personalizada a cada elemento da Série."
   ]
  },
  {
   "cell_type": "markdown",
   "id": "b6698972-3ba1-4eb2-84a6-2f28c58da1e7",
   "metadata": {},
   "source": [
    "## **O que é um DataFrames?**"
   ]
  },
  {
   "cell_type": "markdown",
   "id": "59074961-4c5d-4e65-898e-82b78d04e3b4",
   "metadata": {},
   "source": [
    "Um DataFrame é uma estrutura de dados rotulada bidimensional com colunas de tipos de dados potencialmente diferentes. Pense nisso como uma tabela onde cada coluna representa uma variável e cada linha representa um ponto de observação ou dados. Os DataFrames são adequados para uma ampla gama de dados, incluindo dados estruturados de arquivos CSV, planilhas do Excel, bancos de dados SQL e muito mais."
   ]
  },
  {
   "cell_type": "markdown",
   "id": "8c4040ee-ab0d-4776-b48b-108bd6f16bff",
   "metadata": {},
   "source": [
    "### **Criando DataFrames a partir de Dicionários:**"
   ]
  },
  {
   "cell_type": "markdown",
   "id": "cf42029b-a014-49d4-88a8-bcfc7d91d783",
   "metadata": {},
   "source": [
    "DataFrames podem ser criados a partir de dicionários, com chaves como rótulos de coluna e valores como listas que representam linhas"
   ]
  },
  {
   "cell_type": "code",
   "execution_count": 20,
   "id": "44907105-2455-48c6-b9f9-d39907e456ec",
   "metadata": {
    "tags": []
   },
   "outputs": [
    {
     "name": "stdout",
     "output_type": "stream",
     "text": [
      "      Name  Age           City\n",
      "0    Alice   25       New York\n",
      "1      Bob   30  San Francisco\n",
      "2  Charlie   35    Los Angeles\n",
      "3    David   28        Chicago\n"
     ]
    }
   ],
   "source": [
    "import pandas as pd\n",
    "# Creating a DataFrame from a dictionary\n",
    "data = {'Name': ['Alice', 'Bob', 'Charlie', 'David'],\n",
    "        'Age': [25, 30, 35, 28],\n",
    "        'City': ['New York', 'San Francisco', 'Los Angeles', 'Chicago']}\n",
    "df = pd.DataFrame(data)\n",
    "print(df)"
   ]
  },
  {
   "cell_type": "markdown",
   "id": "ef606bdb-0ab6-4304-a11e-d7498217522a",
   "metadata": {},
   "source": [
    "### **Seleção de Colunas:**"
   ]
  },
  {
   "cell_type": "markdown",
   "id": "f5c95fa3-d4cf-4287-8b85-25121534fa11",
   "metadata": {},
   "source": [
    "Você pode selecionar uma única coluna de um DataFrame especificando o nome da coluna entre colchetes duplos.\n",
    "Várias colunas podem ser selecionadas de maneira semelhante, criando um novo DataFrame."
   ]
  },
  {
   "cell_type": "code",
   "execution_count": 21,
   "id": "289f7e31-e724-438c-a231-cdafc8689d0f",
   "metadata": {
    "tags": []
   },
   "outputs": [
    {
     "name": "stdout",
     "output_type": "stream",
     "text": [
      "0      Alice\n",
      "1        Bob\n",
      "2    Charlie\n",
      "3      David\n",
      "Name: Name, dtype: object\n"
     ]
    }
   ],
   "source": [
    "print(df['Name'])  # Access the 'Name' column"
   ]
  },
  {
   "cell_type": "markdown",
   "id": "26546def-ef75-429f-be65-1f5535859403",
   "metadata": {},
   "source": [
    "#### **Acessando Linhas:**"
   ]
  },
  {
   "cell_type": "markdown",
   "id": "4ad65c24-03dd-4aec-adaa-661861444095",
   "metadata": {},
   "source": [
    "Você pode acessar linhas por seu índice usando .iloc[] ou por rótulo usando .loc[]."
   ]
  },
  {
   "cell_type": "code",
   "execution_count": 22,
   "id": "fa605179-4616-4c80-afd8-95ce112946f5",
   "metadata": {
    "tags": []
   },
   "outputs": [
    {
     "name": "stdout",
     "output_type": "stream",
     "text": [
      "Name        Charlie\n",
      "Age              35\n",
      "City    Los Angeles\n",
      "Name: 2, dtype: object\n",
      "Name              Bob\n",
      "Age                30\n",
      "City    San Francisco\n",
      "Name: 1, dtype: object\n"
     ]
    }
   ],
   "source": [
    "print(df.iloc[2])   # Access the third row by position\n",
    "print(df.loc[1])    # Access the second row by label"
   ]
  },
  {
   "cell_type": "markdown",
   "id": "426004b7-0891-4f2c-937c-80c59901c015",
   "metadata": {},
   "source": [
    "#### **Fatia:**"
   ]
  },
  {
   "cell_type": "markdown",
   "id": "cf5554a4-55fe-4f36-82b2-0a1f76bbfda8",
   "metadata": {},
   "source": [
    "Você pode dividir DataFrames para selecionar linhas e colunas específicas."
   ]
  },
  {
   "cell_type": "code",
   "execution_count": 24,
   "id": "e639bf30-1fdd-4809-88a7-a138cfcb3ce2",
   "metadata": {
    "tags": []
   },
   "outputs": [
    {
     "name": "stdout",
     "output_type": "stream",
     "text": [
      "      Name  Age\n",
      "0    Alice   25\n",
      "1      Bob   30\n",
      "2  Charlie   35\n",
      "3    David   28\n",
      "      Name  Age           City\n",
      "1      Bob   30  San Francisco\n",
      "2  Charlie   35    Los Angeles\n"
     ]
    }
   ],
   "source": [
    "print(df[['Name', 'Age']])  # Select specific columns\n",
    "print(df[1:3])             # Select specific rows"
   ]
  },
  {
   "cell_type": "markdown",
   "id": "06f7ec20-3c3b-4e27-8cc0-95c9d7526682",
   "metadata": {},
   "source": [
    "### **Encontrando Elementos Únicos:**"
   ]
  },
  {
   "cell_type": "markdown",
   "id": "01de6c06-ed0f-4f8e-b59b-f75e726d54c8",
   "metadata": {},
   "source": [
    "Use o método exclusivo para determinar os elementos exclusivos em uma coluna de um DataFrame."
   ]
  },
  {
   "cell_type": "code",
   "execution_count": 27,
   "id": "bdf4670e-0681-4d31-a2eb-ca409727501e",
   "metadata": {
    "tags": []
   },
   "outputs": [],
   "source": [
    "unique_dates = df['Age'].unique()"
   ]
  },
  {
   "cell_type": "markdown",
   "id": "9760f586-ea49-404e-9e47-50499bcdb118",
   "metadata": {},
   "source": [
    "### **Filtragem Condicional:**"
   ]
  },
  {
   "cell_type": "markdown",
   "id": "7f726767-bc37-4c62-ac50-18315e4768a7",
   "metadata": {},
   "source": [
    "Você pode filtrar dados em um DataFrame com base em condições usando operadores de desigualdade.\n",
    "Por exemplo, você pode filtrar álbuns lançados após um determinado ano.Você pode acessar linhas por seu índice usando .iloc[] ou por rótulo usando .loc[]."
   ]
  },
  {
   "cell_type": "code",
   "execution_count": 28,
   "id": "43021ec3-6038-47f3-979c-d8e3bc416f29",
   "metadata": {
    "tags": []
   },
   "outputs": [],
   "source": [
    "high_above_102 = df[df['Age'] > 25]"
   ]
  },
  {
   "cell_type": "markdown",
   "id": "9b9dd696-c4e6-4698-b194-01e79709b18d",
   "metadata": {},
   "source": [
    "## **Salvando DataFrames:**"
   ]
  },
  {
   "cell_type": "markdown",
   "id": "e6f540cc-a8aa-404a-9ddd-fb7e34d41a5e",
   "metadata": {},
   "source": [
    "Para salvar um DataFrame em um arquivo CSV, use o método to_csv e especifique o nome do arquivo com uma extensão “.csv”. O Pandas fornece outras funções para salvar DataFrames em diferentes formatos."
   ]
  },
  {
   "cell_type": "code",
   "execution_count": 29,
   "id": "9e794c32-e644-4755-8a01-89932658d341",
   "metadata": {
    "tags": []
   },
   "outputs": [],
   "source": [
    "df.to_csv('trading_data.csv', index=False)"
   ]
  },
  {
   "cell_type": "markdown",
   "id": "25a1c061-bc32-4748-87ab-9ed8fee4efb2",
   "metadata": {},
   "source": [
    "## **Atributos e Métodos DataFrame**"
   ]
  },
  {
   "cell_type": "markdown",
   "id": "99a898a4-d0d6-425e-9806-8c9aca8e5cd7",
   "metadata": {},
   "source": [
    "Os DataFrames fornecem inúmeros atributos e métodos para manipulação e análise de dados, incluindo:\n",
    "\n",
    "* **forma:** Retorna as dimensões (número de linhas e colunas) do DataFrame.\n",
    "* **info():** Fornece um resumo do DataFrame, incluindo tipos de dados e contagens não nulas.\n",
    "* **describe():** Gera estatísticas resumidas para colunas numéricas.\n",
    "* **head(), tail():** Exibe a primeira ou última n linhas do DataFrame.\n",
    "* **mean(), sum(), min(), max():** Calcule estatísticas resumidas para colunas.\n",
    "* **sort_values():** Classifique o DataFrame por uma ou mais colunas.\n",
    "* **groupby():** Agrupe dados com base em colunas específicas para agregação.\n",
    "* **fillna(), drop(), rename():** Lidar com valores ausentes, soltar colunas ou renomear colunas.\n",
    "* **apply():** Aplique uma função a cada elemento, linha ou coluna do DataFrame."
   ]
  },
  {
   "cell_type": "markdown",
   "id": "29d9d6b8-ccb3-49f7-9c5c-f5e44099f5df",
   "metadata": {},
   "source": [
    "## **Conclusão**"
   ]
  },
  {
   "cell_type": "markdown",
   "id": "8376cd18-117c-4d09-8fdf-26a9314a3320",
   "metadata": {},
   "source": [
    "Em conclusão, dominar o uso de Pandas Series e DataFrames é essencial para uma manipulação e análise eficazes de dados em Python. As séries fornecem uma base para o manuseio de dados unidimensionais com rótulos, enquanto os DataFrames oferecem uma estrutura versátil e semelhante a uma tabela para trabalhar com dados bidimensionais. Se você está limpando, explorando, transformando ou analisando dados, essas estruturas de dados Pandas, juntamente com seus atributos e métodos, permitem que você manipule dados de forma eficiente e flexível para obter informações valiosas. Ao incorporar Series e DataFrames ao seu kit de ferramentas de ciência de dados, você estará bem preparado para lidar com uma ampla gama de tarefas relacionadas a dados e aprimorar seus recursos de análise de dados.\n",
    "Para aprimorar suas habilidades em análise de dados com Pandas, considere os seguintes passos:\n",
    "\n",
    "**Prática:**\n",
    "\n",
    "Trabalhe com conjuntos de dados reais para aplicar o que você aprendeu e ganhar experiência prática.\n",
    "\n",
    "**Explore a Documentação:**\n",
    "\n",
    "Visite o site oficial do Pandas para explorar a extensa documentação e descobrir mais funções e método"
   ]
  },
  {
   "cell_type": "code",
   "execution_count": null,
   "id": "c6492089-7fb8-422e-90ef-b53c333be63a",
   "metadata": {},
   "outputs": [],
   "source": []
  }
 ],
 "metadata": {
  "kernelspec": {
   "display_name": "Python 3 (ipykernel)",
   "language": "python",
   "name": "python3"
  },
  "language_info": {
   "codemirror_mode": {
    "name": "ipython",
    "version": 3
   },
   "file_extension": ".py",
   "mimetype": "text/x-python",
   "name": "python",
   "nbconvert_exporter": "python",
   "pygments_lexer": "ipython3",
   "version": "3.11.5"
  }
 },
 "nbformat": 4,
 "nbformat_minor": 5
}
