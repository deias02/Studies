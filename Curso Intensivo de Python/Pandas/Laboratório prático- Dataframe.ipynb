{
 "cells": [
  {
   "cell_type": "markdown",
   "id": "d675a77f-fd54-4d01-9142-89457048027b",
   "metadata": {
    "tags": []
   },
   "source": [
    "<p style=\"text-align:center\">\n",
    "    <a href=\"https://skills.network\" target=\"_blank\">\n",
    "    <img src=\"https://cf-courses-data.s3.us.cloud-object-storage.appdomain.cloud/assets/logos/SN_web_lightmode.png\" width=\"200\" alt=\"Logotipo da rede de habilidades\">\n",
    "    </a>\n",
    "</p>\n",
    "\n",
    "# Laboratório prático: seleção de dados em um Dataframe\n",
    "\n",
    "Tempo estimado necessário: **30** minutos\n",
    "\n",
    "## Objetivos\n",
    "\n",
    "Depois de concluir este laboratório, você será capaz de:\n",
    "\n",
    "* Use a Biblioteca Pandas para criar DataFrame e Séries\n",
    "* Localize dados no DataFrame usando as funções <code>loc()</code> e <code>iloc()</code>\n",
    "* Use fatiamento"
   ]
  },
  {
   "cell_type": "markdown",
   "id": "9737f173-23f4-406f-ac49-2c269a923235",
   "metadata": {},
   "source": [
    "### Exercício 1: Pandas: DataFrame e Série\n",
    "\n",
    "**Pandas** é uma biblioteca popular para análise de dados desenvolvida com base na linguagem de programação Python. Pandas geralmente fornecem duas estruturas de dados para manipulação de dados.\n",
    " \n",
    "* Quadro de dados\n",
    "* Series\n",
    "\n",
    "Um **DataFrame** é uma estrutura de dados bidimensional, ou seja, os dados são alinhados de forma tabular em linhas e colunas.\n",
    "\n",
    "* Um DataFrame do Pandas será criado carregando os conjuntos de dados do armazenamento existente.\n",
    "* O armazenamento pode ser banco de dados SQL, arquivo CSV, arquivo Excel, etc.\n",
    "* Também pode ser criado a partir de listas, dicionários e de uma lista de dicionários.\n",
    "\n",
    "**Série** representa uma matriz unidimensional de dados indexados.\n",
    "Possui dois componentes principais:\n",
    "1. Uma matriz de dados reais.\n",
    "2. Uma matriz associada de índices ou rótulos de dados.\n",
    "\n",
    "O índice é usado para acessar valores de dados individuais. Você também pode obter uma coluna de um dataframe como **Series**. Você pode pensar em uma série Pandas como um dataframe 1-D."
   ]
  },
  {
   "cell_type": "code",
   "execution_count": null,
   "id": "fceb9a16-2c1a-4a76-a265-d5841312b170",
   "metadata": {},
   "outputs": [],
   "source": []
  },
  {
   "cell_type": "code",
   "execution_count": 2,
   "id": "d813bf39-2432-43dd-9c2c-c71110072fee",
   "metadata": {
    "tags": []
   },
   "outputs": [],
   "source": [
    "# let us import the Pandas Library\n",
    "import pandas as pd"
   ]
  },
  {
   "cell_type": "markdown",
   "id": "c3c933f6-9711-4437-aa35-32fa3308e137",
   "metadata": {},
   "source": [
    "Depois de importar o pandas, você poderá usar as funções integradas nele para criar e analisar dados."
   ]
  },
  {
   "cell_type": "markdown",
   "id": "5bcb7bec-8aa5-482d-be0e-2fd03a108ee0",
   "metadata": {},
   "source": [
    "**Neste laboratório prático, aprenderemos como criar um DataFrame a partir de um dicionário.**"
   ]
  },
  {
   "cell_type": "markdown",
   "id": "2cd2a733-1d4c-4fbb-ac53-081f4df3a394",
   "metadata": {},
   "source": [
    "Vamos considerar um dicionário 'x' com chaves e valores conforme mostrado abaixo.\n",
    "\n",
    "Em seguida, criamos um dataframe a partir do dicionário usando a função pd.DataFrame(dict)"
   ]
  },
  {
   "cell_type": "code",
   "execution_count": 41,
   "id": "2645184c-1e2a-4ab9-8480-50d38ff34dfe",
   "metadata": {
    "tags": []
   },
   "outputs": [
    {
     "data": {
      "text/html": [
       "<div>\n",
       "<style scoped>\n",
       "    .dataframe tbody tr th:only-of-type {\n",
       "        vertical-align: middle;\n",
       "    }\n",
       "\n",
       "    .dataframe tbody tr th {\n",
       "        vertical-align: top;\n",
       "    }\n",
       "\n",
       "    .dataframe thead th {\n",
       "        text-align: right;\n",
       "    }\n",
       "</style>\n",
       "<table border=\"1\" class=\"dataframe\">\n",
       "  <thead>\n",
       "    <tr style=\"text-align: right;\">\n",
       "      <th></th>\n",
       "      <th>Name</th>\n",
       "      <th>ID</th>\n",
       "      <th>Department</th>\n",
       "      <th>Salary</th>\n",
       "    </tr>\n",
       "  </thead>\n",
       "  <tbody>\n",
       "    <tr>\n",
       "      <th>0</th>\n",
       "      <td>Rose</td>\n",
       "      <td>1</td>\n",
       "      <td>Architect Group</td>\n",
       "      <td>100000</td>\n",
       "    </tr>\n",
       "    <tr>\n",
       "      <th>1</th>\n",
       "      <td>John</td>\n",
       "      <td>2</td>\n",
       "      <td>Software Group</td>\n",
       "      <td>80000</td>\n",
       "    </tr>\n",
       "    <tr>\n",
       "      <th>2</th>\n",
       "      <td>Jane</td>\n",
       "      <td>3</td>\n",
       "      <td>Design Team</td>\n",
       "      <td>50000</td>\n",
       "    </tr>\n",
       "    <tr>\n",
       "      <th>3</th>\n",
       "      <td>Mary</td>\n",
       "      <td>4</td>\n",
       "      <td>Infrastructure</td>\n",
       "      <td>60000</td>\n",
       "    </tr>\n",
       "  </tbody>\n",
       "</table>\n",
       "</div>"
      ],
      "text/plain": [
       "   Name  ID       Department  Salary\n",
       "0  Rose   1  Architect Group  100000\n",
       "1  John   2   Software Group   80000\n",
       "2  Jane   3      Design Team   50000\n",
       "3  Mary   4   Infrastructure   60000"
      ]
     },
     "execution_count": 41,
     "metadata": {},
     "output_type": "execute_result"
    }
   ],
   "source": [
    "#Define a dictionary 'x'\n",
    "\n",
    "x = {'Name': ['Rose','John', 'Jane', 'Mary'], 'ID': [1, 2, 3, 4], 'Department': ['Architect Group', 'Software Group', 'Design Team', 'Infrastructure'], \n",
    "      'Salary':[100000, 80000, 50000, 60000]}\n",
    "\n",
    "#casting the dictionary to a DataFrame\n",
    "df = pd.DataFrame(x)\n",
    "\n",
    "#display the result df\n",
    "df"
   ]
  },
  {
   "cell_type": "markdown",
   "id": "42a59452-2ffd-4ebc-8d98-e019d8c7f146",
   "metadata": {},
   "source": [
    "Podemos ver a correspondência direta entre a tabela. As chaves correspondem aos rótulos das colunas e os valores ou listas correspondem às linhas."
   ]
  },
  {
   "cell_type": "markdown",
   "id": "0a87f72f-62a0-42d7-b464-a9bd9fc7c6e5",
   "metadata": {},
   "source": [
    "#### Seleção de coluna:\n",
    "\n",
    "Para selecionar uma coluna no Pandas DataFrame, podemos acessar as colunas chamando-as pelo nome das colunas.\n",
    "\n",
    "Vamos recuperar os dados presentes na coluna <code>ID</code>."
   ]
  },
  {
   "cell_type": "code",
   "execution_count": 4,
   "id": "a27b8334-c26a-4cf9-90d4-3b34b6963ec5",
   "metadata": {
    "tags": []
   },
   "outputs": [
    {
     "data": {
      "text/html": [
       "<div>\n",
       "<style scoped>\n",
       "    .dataframe tbody tr th:only-of-type {\n",
       "        vertical-align: middle;\n",
       "    }\n",
       "\n",
       "    .dataframe tbody tr th {\n",
       "        vertical-align: top;\n",
       "    }\n",
       "\n",
       "    .dataframe thead th {\n",
       "        text-align: right;\n",
       "    }\n",
       "</style>\n",
       "<table border=\"1\" class=\"dataframe\">\n",
       "  <thead>\n",
       "    <tr style=\"text-align: right;\">\n",
       "      <th></th>\n",
       "      <th>ID</th>\n",
       "    </tr>\n",
       "  </thead>\n",
       "  <tbody>\n",
       "    <tr>\n",
       "      <th>0</th>\n",
       "      <td>1</td>\n",
       "    </tr>\n",
       "    <tr>\n",
       "      <th>1</th>\n",
       "      <td>2</td>\n",
       "    </tr>\n",
       "    <tr>\n",
       "      <th>2</th>\n",
       "      <td>3</td>\n",
       "    </tr>\n",
       "    <tr>\n",
       "      <th>3</th>\n",
       "      <td>4</td>\n",
       "    </tr>\n",
       "  </tbody>\n",
       "</table>\n",
       "</div>"
      ],
      "text/plain": [
       "   ID\n",
       "0   1\n",
       "1   2\n",
       "2   3\n",
       "3   4"
      ]
     },
     "execution_count": 4,
     "metadata": {},
     "output_type": "execute_result"
    }
   ],
   "source": [
    "#Retrieving the \"ID\" column and assigning it to a variable x\n",
    "x = df[['ID']]\n",
    "x"
   ]
  },
  {
   "cell_type": "markdown",
   "id": "757db827-91e5-4d8a-b3ab-1daa7f7e0c61",
   "metadata": {},
   "source": [
    "Vamos usar a função <code>type()</code> e verificar o tipo da variável"
   ]
  },
  {
   "cell_type": "code",
   "execution_count": 5,
   "id": "02f482f4-556b-4924-be54-58e8a1be99cf",
   "metadata": {
    "tags": []
   },
   "outputs": [
    {
     "data": {
      "text/plain": [
       "pandas.core.frame.DataFrame"
      ]
     },
     "execution_count": 5,
     "metadata": {},
     "output_type": "execute_result"
    }
   ],
   "source": [
    "#check the type of x\n",
    "type(x)"
   ]
  },
  {
   "cell_type": "markdown",
   "id": "c99cb9c6-3945-4747-b1de-3c3c03961254",
   "metadata": {},
   "source": [
    "A saída nos mostra que o tipo da variável é um objeto DataFrame."
   ]
  },
  {
   "cell_type": "markdown",
   "id": "3beb0fc4-3806-4ea5-86c8-b917e36643b6",
   "metadata": {
    "tags": []
   },
   "source": [
    "#### Acesso a múltiplas colunas\n",
    "\n",
    "Vamos recuperar os dados das colunas <code>Departamento</code>, <code>Salário</code> e <code>ID</code>"
   ]
  },
  {
   "cell_type": "code",
   "execution_count": 7,
   "id": "bd54dbda-61ef-43fa-ba6a-5b1e350d13b0",
   "metadata": {
    "tags": []
   },
   "outputs": [
    {
     "data": {
      "text/html": [
       "<div>\n",
       "<style scoped>\n",
       "    .dataframe tbody tr th:only-of-type {\n",
       "        vertical-align: middle;\n",
       "    }\n",
       "\n",
       "    .dataframe tbody tr th {\n",
       "        vertical-align: top;\n",
       "    }\n",
       "\n",
       "    .dataframe thead th {\n",
       "        text-align: right;\n",
       "    }\n",
       "</style>\n",
       "<table border=\"1\" class=\"dataframe\">\n",
       "  <thead>\n",
       "    <tr style=\"text-align: right;\">\n",
       "      <th></th>\n",
       "      <th>Department</th>\n",
       "      <th>Salary</th>\n",
       "      <th>ID</th>\n",
       "    </tr>\n",
       "  </thead>\n",
       "  <tbody>\n",
       "    <tr>\n",
       "      <th>0</th>\n",
       "      <td>Architect Group</td>\n",
       "      <td>100000</td>\n",
       "      <td>1</td>\n",
       "    </tr>\n",
       "    <tr>\n",
       "      <th>1</th>\n",
       "      <td>Software Group</td>\n",
       "      <td>80000</td>\n",
       "      <td>2</td>\n",
       "    </tr>\n",
       "    <tr>\n",
       "      <th>2</th>\n",
       "      <td>Design Team</td>\n",
       "      <td>50000</td>\n",
       "      <td>3</td>\n",
       "    </tr>\n",
       "    <tr>\n",
       "      <th>3</th>\n",
       "      <td>Infrastructure</td>\n",
       "      <td>60000</td>\n",
       "      <td>4</td>\n",
       "    </tr>\n",
       "  </tbody>\n",
       "</table>\n",
       "</div>"
      ],
      "text/plain": [
       "        Department  Salary  ID\n",
       "0  Architect Group  100000   1\n",
       "1   Software Group   80000   2\n",
       "2      Design Team   50000   3\n",
       "3   Infrastructure   60000   4"
      ]
     },
     "execution_count": 7,
     "metadata": {},
     "output_type": "execute_result"
    }
   ],
   "source": [
    "#Retrieving the Department, Salary and ID columns and assigning it to a variable z\n",
    "\n",
    "z = df[['Department','Salary','ID']]\n",
    "z"
   ]
  },
  {
   "cell_type": "markdown",
   "id": "7fe5466c-57e4-451a-b550-b2d9dd1574ff",
   "metadata": {},
   "source": [
    "## **Tente você mesmo**"
   ]
  },
  {
   "cell_type": "markdown",
   "id": "1ccd556c-395e-4f35-97d2-cff0cdf81ebe",
   "metadata": {},
   "source": [
    "##### Problema 1: Crie um dataframe para exibir o resultado conforme abaixo:"
   ]
  },
  {
   "cell_type": "markdown",
   "id": "298f919d-fcc7-414d-b7b1-4c95d4aa6650",
   "metadata": {},
   "source": [
    "<center>\n",
    "    <img src=\"https://cf-courses-data.s3.us.cloud-object-storage.appdomain.cloud/IBMDeveloperSkillsNetwork-PY0101EN-SkillsNetwork/labs/Module%204/images/Student_data.png\" width=\"300\" alt=\"Student Data\">\n",
    "</center>\n"
   ]
  },
  {
   "cell_type": "code",
   "execution_count": 42,
   "id": "d722b0af-ab5f-44b3-905e-61a8caee7c89",
   "metadata": {
    "tags": []
   },
   "outputs": [],
   "source": [
    "import pandas as pd\n",
    "\n",
    "a = {'Student':['David', 'Samuel','Terry', 'Evan'], \n",
    "     'Age':[ 27, 24, 22, 32], \n",
    "     'Country':['UK','Canada', 'China', 'USA'], \n",
    "     'Course':['Python', 'Data Structure', 'Machine Learning', 'Web Development'], \n",
    "     'Marks':[85, 72, 89, 76]}\n",
    "\n"
   ]
  },
  {
   "cell_type": "code",
   "execution_count": 32,
   "id": "4e825ea7-7472-4eed-a201-dbf5d5567812",
   "metadata": {
    "tags": []
   },
   "outputs": [
    {
     "data": {
      "text/html": [
       "<div>\n",
       "<style scoped>\n",
       "    .dataframe tbody tr th:only-of-type {\n",
       "        vertical-align: middle;\n",
       "    }\n",
       "\n",
       "    .dataframe tbody tr th {\n",
       "        vertical-align: top;\n",
       "    }\n",
       "\n",
       "    .dataframe thead th {\n",
       "        text-align: right;\n",
       "    }\n",
       "</style>\n",
       "<table border=\"1\" class=\"dataframe\">\n",
       "  <thead>\n",
       "    <tr style=\"text-align: right;\">\n",
       "      <th></th>\n",
       "      <th>Student</th>\n",
       "      <th>Age</th>\n",
       "      <th>Country</th>\n",
       "      <th>Course</th>\n",
       "      <th>Marks</th>\n",
       "    </tr>\n",
       "  </thead>\n",
       "  <tbody>\n",
       "    <tr>\n",
       "      <th>0</th>\n",
       "      <td>David</td>\n",
       "      <td>27</td>\n",
       "      <td>UK</td>\n",
       "      <td>Python</td>\n",
       "      <td>85</td>\n",
       "    </tr>\n",
       "    <tr>\n",
       "      <th>1</th>\n",
       "      <td>Samuel</td>\n",
       "      <td>24</td>\n",
       "      <td>Canada</td>\n",
       "      <td>Data Structure</td>\n",
       "      <td>72</td>\n",
       "    </tr>\n",
       "    <tr>\n",
       "      <th>2</th>\n",
       "      <td>Terry</td>\n",
       "      <td>22</td>\n",
       "      <td>China</td>\n",
       "      <td>Machine Learning</td>\n",
       "      <td>89</td>\n",
       "    </tr>\n",
       "    <tr>\n",
       "      <th>3</th>\n",
       "      <td>Evan</td>\n",
       "      <td>32</td>\n",
       "      <td>USA</td>\n",
       "      <td>Web Development</td>\n",
       "      <td>76</td>\n",
       "    </tr>\n",
       "  </tbody>\n",
       "</table>\n",
       "</div>"
      ],
      "text/plain": [
       "  Student  Age Country            Course  Marks\n",
       "0   David   27      UK            Python     85\n",
       "1  Samuel   24  Canada    Data Structure     72\n",
       "2   Terry   22   China  Machine Learning     89\n",
       "3    Evan   32     USA   Web Development     76"
      ]
     },
     "execution_count": 32,
     "metadata": {},
     "output_type": "execute_result"
    }
   ],
   "source": [
    "df1 = pd.DataFrame(a)\n",
    "df1"
   ]
  },
  {
   "cell_type": "markdown",
   "id": "fc8cfd9c-3d61-4c7d-b3d6-d7b4a5f521a8",
   "metadata": {},
   "source": [
    "Problema 2: recuperar a coluna Marcas e atribuí-la a uma variável b"
   ]
  },
  {
   "cell_type": "code",
   "execution_count": 33,
   "id": "a16ff6ab-484b-40b4-bb4c-bb6d74bbff45",
   "metadata": {
    "tags": []
   },
   "outputs": [
    {
     "data": {
      "text/html": [
       "<div>\n",
       "<style scoped>\n",
       "    .dataframe tbody tr th:only-of-type {\n",
       "        vertical-align: middle;\n",
       "    }\n",
       "\n",
       "    .dataframe tbody tr th {\n",
       "        vertical-align: top;\n",
       "    }\n",
       "\n",
       "    .dataframe thead th {\n",
       "        text-align: right;\n",
       "    }\n",
       "</style>\n",
       "<table border=\"1\" class=\"dataframe\">\n",
       "  <thead>\n",
       "    <tr style=\"text-align: right;\">\n",
       "      <th></th>\n",
       "      <th>Marks</th>\n",
       "    </tr>\n",
       "  </thead>\n",
       "  <tbody>\n",
       "    <tr>\n",
       "      <th>0</th>\n",
       "      <td>85</td>\n",
       "    </tr>\n",
       "    <tr>\n",
       "      <th>1</th>\n",
       "      <td>72</td>\n",
       "    </tr>\n",
       "    <tr>\n",
       "      <th>2</th>\n",
       "      <td>89</td>\n",
       "    </tr>\n",
       "    <tr>\n",
       "      <th>3</th>\n",
       "      <td>76</td>\n",
       "    </tr>\n",
       "  </tbody>\n",
       "</table>\n",
       "</div>"
      ],
      "text/plain": [
       "   Marks\n",
       "0     85\n",
       "1     72\n",
       "2     89\n",
       "3     76"
      ]
     },
     "execution_count": 33,
     "metadata": {},
     "output_type": "execute_result"
    }
   ],
   "source": [
    "b = df1[['Marks']]\n",
    "b"
   ]
  },
  {
   "cell_type": "markdown",
   "id": "628ea6b3-f4c4-4b9a-bf10-ba602fb91866",
   "metadata": {},
   "source": [
    "Problema 3: Recuperar as colunas País e Curso e atribuí-las a uma variável c"
   ]
  },
  {
   "cell_type": "code",
   "execution_count": 34,
   "id": "fb7bfc38-d877-48d4-af36-ece80c95c74c",
   "metadata": {
    "tags": []
   },
   "outputs": [
    {
     "data": {
      "text/html": [
       "<div>\n",
       "<style scoped>\n",
       "    .dataframe tbody tr th:only-of-type {\n",
       "        vertical-align: middle;\n",
       "    }\n",
       "\n",
       "    .dataframe tbody tr th {\n",
       "        vertical-align: top;\n",
       "    }\n",
       "\n",
       "    .dataframe thead th {\n",
       "        text-align: right;\n",
       "    }\n",
       "</style>\n",
       "<table border=\"1\" class=\"dataframe\">\n",
       "  <thead>\n",
       "    <tr style=\"text-align: right;\">\n",
       "      <th></th>\n",
       "      <th>Country</th>\n",
       "      <th>Course</th>\n",
       "    </tr>\n",
       "  </thead>\n",
       "  <tbody>\n",
       "    <tr>\n",
       "      <th>0</th>\n",
       "      <td>UK</td>\n",
       "      <td>Python</td>\n",
       "    </tr>\n",
       "    <tr>\n",
       "      <th>1</th>\n",
       "      <td>Canada</td>\n",
       "      <td>Data Structure</td>\n",
       "    </tr>\n",
       "    <tr>\n",
       "      <th>2</th>\n",
       "      <td>China</td>\n",
       "      <td>Machine Learning</td>\n",
       "    </tr>\n",
       "    <tr>\n",
       "      <th>3</th>\n",
       "      <td>USA</td>\n",
       "      <td>Web Development</td>\n",
       "    </tr>\n",
       "  </tbody>\n",
       "</table>\n",
       "</div>"
      ],
      "text/plain": [
       "  Country            Course\n",
       "0      UK            Python\n",
       "1  Canada    Data Structure\n",
       "2   China  Machine Learning\n",
       "3     USA   Web Development"
      ]
     },
     "execution_count": 34,
     "metadata": {},
     "output_type": "execute_result"
    }
   ],
   "source": [
    "c = df1[['Country','Course']]\n",
    "c\n",
    "    "
   ]
  },
  {
   "cell_type": "markdown",
   "id": "1b4b11f4-5a9e-4cff-bccd-5243825dc51a",
   "metadata": {},
   "source": [
    "**To view the column as a series, just use one bracket:**"
   ]
  },
  {
   "cell_type": "code",
   "execution_count": 35,
   "id": "b455b1c6-78fa-48f7-beed-2a311377fa69",
   "metadata": {
    "tags": []
   },
   "outputs": [
    {
     "data": {
      "text/plain": [
       "0     David\n",
       "1    Samuel\n",
       "2     Terry\n",
       "3      Evan\n",
       "Name: Student, dtype: object"
      ]
     },
     "execution_count": 35,
     "metadata": {},
     "output_type": "execute_result"
    }
   ],
   "source": [
    "# Get the Student column as a series Object\n",
    "\n",
    "x = df1['Student']\n",
    "x"
   ]
  },
  {
   "cell_type": "code",
   "execution_count": 36,
   "id": "988e3e0b-4e0c-4854-b60a-697939c30c78",
   "metadata": {
    "tags": []
   },
   "outputs": [
    {
     "data": {
      "text/plain": [
       "pandas.core.series.Series"
      ]
     },
     "execution_count": 36,
     "metadata": {},
     "output_type": "execute_result"
    }
   ],
   "source": [
    "#check the type of x\n",
    "type(x)"
   ]
  },
  {
   "cell_type": "markdown",
   "id": "4c3ebfac-9d6a-46c0-9e64-72d53e102745",
   "metadata": {},
   "source": [
    "### Exercício 2: funções <code>loc()</code> e <code>iloc()</code>\n",
    "\n",
    "<code>loc()</code> é um método de seleção de dados baseado em rótulo, o que significa que temos que passar o nome da linha ou coluna que queremos selecionar. Este método inclui o último elemento do intervalo passado nele.\n",
    "\n",
    "Sintaxe simples para sua compreensão:\n",
    "\n",
    " - loc[row_label, column_label]\n",
    "\n",
    "<code>iloc()</code> é um método de seleção baseado em índice, o que significa que temos que passar um índice inteiro no método para selecionar uma linha/coluna específica. Este método não inclui o último elemento do intervalo passado nele.\n",
    "\n",
    "Sintaxe simples para sua compreensão:\n",
    "   \n",
    " - iloc[row_index, column_index]\n",
    "\n",
    "<h4 id=\"data\">Vejamos alguns exemplos disso.</h4>"
   ]
  },
  {
   "cell_type": "code",
   "execution_count": 38,
   "id": "cd608170-f79f-49ca-a2ac-ca01c8169d47",
   "metadata": {
    "tags": []
   },
   "outputs": [
    {
     "data": {
      "text/plain": [
       "'David'"
      ]
     },
     "execution_count": 38,
     "metadata": {},
     "output_type": "execute_result"
    }
   ],
   "source": [
    "# Access the value on the first row and the first column\n",
    "\n",
    "df.iloc[0, 0]"
   ]
  },
  {
   "cell_type": "code",
   "execution_count": 39,
   "id": "a9dc8b77-6052-47af-87f7-032d4145c407",
   "metadata": {
    "tags": []
   },
   "outputs": [
    {
     "data": {
      "text/plain": [
       "'UK'"
      ]
     },
     "execution_count": 39,
     "metadata": {},
     "output_type": "execute_result"
    }
   ],
   "source": [
    "# Access the value on the first row and the third column\n",
    "\n",
    "df.iloc[0,2]"
   ]
  },
  {
   "cell_type": "code",
   "execution_count": 43,
   "id": "9797320b-bd5e-44bc-ba8e-6832ecfa3df5",
   "metadata": {
    "tags": []
   },
   "outputs": [
    {
     "data": {
      "text/plain": [
       "100000"
      ]
     },
     "execution_count": 43,
     "metadata": {},
     "output_type": "execute_result"
    }
   ],
   "source": [
    "# Access the column using the name\n",
    "\n",
    "df.loc[0, 'Salary']"
   ]
  },
  {
   "cell_type": "code",
   "execution_count": 45,
   "id": "7a7e8c8a-e476-45ce-8b4c-bc03a3e5245b",
   "metadata": {
    "tags": []
   },
   "outputs": [],
   "source": [
    "df2=df\n",
    "df2=df2.set_index(\"Name\")"
   ]
  },
  {
   "cell_type": "code",
   "execution_count": 46,
   "id": "218ef944-4210-467e-875c-dd596c218ac2",
   "metadata": {
    "tags": []
   },
   "outputs": [
    {
     "data": {
      "text/html": [
       "<div>\n",
       "<style scoped>\n",
       "    .dataframe tbody tr th:only-of-type {\n",
       "        vertical-align: middle;\n",
       "    }\n",
       "\n",
       "    .dataframe tbody tr th {\n",
       "        vertical-align: top;\n",
       "    }\n",
       "\n",
       "    .dataframe thead th {\n",
       "        text-align: right;\n",
       "    }\n",
       "</style>\n",
       "<table border=\"1\" class=\"dataframe\">\n",
       "  <thead>\n",
       "    <tr style=\"text-align: right;\">\n",
       "      <th></th>\n",
       "      <th>ID</th>\n",
       "      <th>Department</th>\n",
       "      <th>Salary</th>\n",
       "    </tr>\n",
       "    <tr>\n",
       "      <th>Name</th>\n",
       "      <th></th>\n",
       "      <th></th>\n",
       "      <th></th>\n",
       "    </tr>\n",
       "  </thead>\n",
       "  <tbody>\n",
       "    <tr>\n",
       "      <th>Rose</th>\n",
       "      <td>1</td>\n",
       "      <td>Architect Group</td>\n",
       "      <td>100000</td>\n",
       "    </tr>\n",
       "    <tr>\n",
       "      <th>John</th>\n",
       "      <td>2</td>\n",
       "      <td>Software Group</td>\n",
       "      <td>80000</td>\n",
       "    </tr>\n",
       "    <tr>\n",
       "      <th>Jane</th>\n",
       "      <td>3</td>\n",
       "      <td>Design Team</td>\n",
       "      <td>50000</td>\n",
       "    </tr>\n",
       "    <tr>\n",
       "      <th>Mary</th>\n",
       "      <td>4</td>\n",
       "      <td>Infrastructure</td>\n",
       "      <td>60000</td>\n",
       "    </tr>\n",
       "  </tbody>\n",
       "</table>\n",
       "</div>"
      ],
      "text/plain": [
       "      ID       Department  Salary\n",
       "Name                             \n",
       "Rose   1  Architect Group  100000\n",
       "John   2   Software Group   80000\n",
       "Jane   3      Design Team   50000\n",
       "Mary   4   Infrastructure   60000"
      ]
     },
     "execution_count": 46,
     "metadata": {},
     "output_type": "execute_result"
    }
   ],
   "source": [
    "#To display the first 5 rows of new dataframe\n",
    "df2.head()"
   ]
  },
  {
   "cell_type": "code",
   "execution_count": 47,
   "id": "fd6d1f84-ace4-46a8-a5cf-2ac9b5c64b8c",
   "metadata": {
    "tags": []
   },
   "outputs": [
    {
     "data": {
      "text/plain": [
       "50000"
      ]
     },
     "execution_count": 47,
     "metadata": {},
     "output_type": "execute_result"
    }
   ],
   "source": [
    "#Now, let us access the column using the name\n",
    "df2.loc['Jane', 'Salary']"
   ]
  },
  {
   "cell_type": "markdown",
   "id": "b2559a24-9264-47f8-8d1e-20d1e0ab800a",
   "metadata": {},
   "source": [
    "### Tente você mesmo"
   ]
  },
  {
   "cell_type": "markdown",
   "id": "387523ff-6c47-4e7b-a7cb-b45499e41321",
   "metadata": {},
   "source": [
    "Use the <code>loc()</code> function,to get the Department of Jane in the newly created dataframe df2."
   ]
  },
  {
   "cell_type": "code",
   "execution_count": 48,
   "id": "8cc3ae42-4109-4da3-9c50-c3c22b344e9b",
   "metadata": {
    "tags": []
   },
   "outputs": [
    {
     "data": {
      "text/plain": [
       "'Design Team'"
      ]
     },
     "execution_count": 48,
     "metadata": {},
     "output_type": "execute_result"
    }
   ],
   "source": [
    "df2.loc['Jane', 'Department']"
   ]
  },
  {
   "cell_type": "markdown",
   "id": "b7966575-7541-4668-819c-40fcab571f1a",
   "metadata": {},
   "source": [
    "Use a função <code>iloc()</code> para obter o Salário de Maria no dataframe df2 recém-criado."
   ]
  },
  {
   "cell_type": "code",
   "execution_count": 49,
   "id": "2e8453aa-3065-478a-81f8-cf8279084fac",
   "metadata": {
    "tags": []
   },
   "outputs": [
    {
     "data": {
      "text/plain": [
       "60000"
      ]
     },
     "execution_count": 49,
     "metadata": {},
     "output_type": "execute_result"
    }
   ],
   "source": [
    "df2.iloc[3,2]"
   ]
  },
  {
   "cell_type": "markdown",
   "id": "b082c99b-5edb-42f1-a457-c0fe30f5e760",
   "metadata": {},
   "source": [
    "### Exercício 3: Fatiar (Slicing)\n",
    "\n",
    "O fatiamento usa o operador [] para selecionar um conjunto de linhas e/ou colunas de um DataFrame.\n",
    "\n",
    "Para dividir um conjunto de linhas, você usa esta sintaxe: data[start:stop],\n",
    "\n",
    "aqui o início representa o índice de onde considerar e o fim representa o índice um passo ALÉM da linha que você deseja selecionar. Você pode realizar o fatiamento usando o índice e o nome da coluna.\n",
    "\n",
    "> NOTA: Ao fatiar pandas, o limite inicial é incluído na saída.\n",
    "\n",
    "Portanto, se você quiser selecionar as linhas 0, 1 e 2, seu código ficará assim: df.iloc[0:3].\n",
    "\n",
    "Isso significa que você está dizendo ao Python para começar no índice 0 e selecionar as linhas 0, 1, 2 até, mas não incluindo, 3.\n",
    "\n",
    "> NOTA: Os rótulos devem ser encontrados no DataFrame ou você receberá um KeyError.\n",
    "\n",
    "A indexação por rótulos (ou seja, usando <code>loc()</code>) difere da indexação por números inteiros (ou seja, usando <code>iloc()</code>). Com <code>loc()</code>, tanto o limite inicial quanto o limite final são inclusivos. Ao usar <code>loc()</code>, números inteiros podem ser usados, mas os números inteiros referem-se ao rótulo do índice e não à posição.\n",
    "\n",
    "Por exemplo, usar <code>loc()</code> e selecionar 1:4 obterá um resultado diferente de usar <code>iloc()</code> para selecionar linhas 1:4.\n",
    "\n",
    "<h4 id=\"data\">Também podemos selecionar um valor de dados específico usando uma localização de linha e coluna dentro do DataFrame e da indexação iloc."
   ]
  },
  {
   "cell_type": "code",
   "execution_count": 50,
   "id": "385a7c21-ce65-4908-84b0-960552dd45b9",
   "metadata": {
    "tags": []
   },
   "outputs": [
    {
     "data": {
      "text/html": [
       "<div>\n",
       "<style scoped>\n",
       "    .dataframe tbody tr th:only-of-type {\n",
       "        vertical-align: middle;\n",
       "    }\n",
       "\n",
       "    .dataframe tbody tr th {\n",
       "        vertical-align: top;\n",
       "    }\n",
       "\n",
       "    .dataframe thead th {\n",
       "        text-align: right;\n",
       "    }\n",
       "</style>\n",
       "<table border=\"1\" class=\"dataframe\">\n",
       "  <thead>\n",
       "    <tr style=\"text-align: right;\">\n",
       "      <th></th>\n",
       "      <th>Name</th>\n",
       "      <th>ID</th>\n",
       "      <th>Department</th>\n",
       "    </tr>\n",
       "  </thead>\n",
       "  <tbody>\n",
       "    <tr>\n",
       "      <th>0</th>\n",
       "      <td>Rose</td>\n",
       "      <td>1</td>\n",
       "      <td>Architect Group</td>\n",
       "    </tr>\n",
       "    <tr>\n",
       "      <th>1</th>\n",
       "      <td>John</td>\n",
       "      <td>2</td>\n",
       "      <td>Software Group</td>\n",
       "    </tr>\n",
       "  </tbody>\n",
       "</table>\n",
       "</div>"
      ],
      "text/plain": [
       "   Name  ID       Department\n",
       "0  Rose   1  Architect Group\n",
       "1  John   2   Software Group"
      ]
     },
     "execution_count": 50,
     "metadata": {},
     "output_type": "execute_result"
    }
   ],
   "source": [
    "# let us do the slicing using old dataframe df\n",
    "\n",
    "df.iloc[0:2, 0:3]"
   ]
  },
  {
   "cell_type": "code",
   "execution_count": 51,
   "id": "e536139e-66d2-434d-94ba-cfc32196b178",
   "metadata": {
    "tags": []
   },
   "outputs": [
    {
     "data": {
      "text/html": [
       "<div>\n",
       "<style scoped>\n",
       "    .dataframe tbody tr th:only-of-type {\n",
       "        vertical-align: middle;\n",
       "    }\n",
       "\n",
       "    .dataframe tbody tr th {\n",
       "        vertical-align: top;\n",
       "    }\n",
       "\n",
       "    .dataframe thead th {\n",
       "        text-align: right;\n",
       "    }\n",
       "</style>\n",
       "<table border=\"1\" class=\"dataframe\">\n",
       "  <thead>\n",
       "    <tr style=\"text-align: right;\">\n",
       "      <th></th>\n",
       "      <th>ID</th>\n",
       "      <th>Department</th>\n",
       "    </tr>\n",
       "  </thead>\n",
       "  <tbody>\n",
       "    <tr>\n",
       "      <th>0</th>\n",
       "      <td>1</td>\n",
       "      <td>Architect Group</td>\n",
       "    </tr>\n",
       "    <tr>\n",
       "      <th>1</th>\n",
       "      <td>2</td>\n",
       "      <td>Software Group</td>\n",
       "    </tr>\n",
       "    <tr>\n",
       "      <th>2</th>\n",
       "      <td>3</td>\n",
       "      <td>Design Team</td>\n",
       "    </tr>\n",
       "  </tbody>\n",
       "</table>\n",
       "</div>"
      ],
      "text/plain": [
       "   ID       Department\n",
       "0   1  Architect Group\n",
       "1   2   Software Group\n",
       "2   3      Design Team"
      ]
     },
     "execution_count": 51,
     "metadata": {},
     "output_type": "execute_result"
    }
   ],
   "source": [
    "#let us do the slicing using loc() function on old dataframe df where index column is having labels as 0,1,2\n",
    "df.loc[0:2,'ID':'Department']"
   ]
  },
  {
   "cell_type": "code",
   "execution_count": 52,
   "id": "ba5501bb-3c08-4242-b888-7891d46c1f2b",
   "metadata": {
    "tags": []
   },
   "outputs": [
    {
     "data": {
      "text/html": [
       "<div>\n",
       "<style scoped>\n",
       "    .dataframe tbody tr th:only-of-type {\n",
       "        vertical-align: middle;\n",
       "    }\n",
       "\n",
       "    .dataframe tbody tr th {\n",
       "        vertical-align: top;\n",
       "    }\n",
       "\n",
       "    .dataframe thead th {\n",
       "        text-align: right;\n",
       "    }\n",
       "</style>\n",
       "<table border=\"1\" class=\"dataframe\">\n",
       "  <thead>\n",
       "    <tr style=\"text-align: right;\">\n",
       "      <th></th>\n",
       "      <th>ID</th>\n",
       "      <th>Department</th>\n",
       "    </tr>\n",
       "    <tr>\n",
       "      <th>Name</th>\n",
       "      <th></th>\n",
       "      <th></th>\n",
       "    </tr>\n",
       "  </thead>\n",
       "  <tbody>\n",
       "    <tr>\n",
       "      <th>Rose</th>\n",
       "      <td>1</td>\n",
       "      <td>Architect Group</td>\n",
       "    </tr>\n",
       "    <tr>\n",
       "      <th>John</th>\n",
       "      <td>2</td>\n",
       "      <td>Software Group</td>\n",
       "    </tr>\n",
       "    <tr>\n",
       "      <th>Jane</th>\n",
       "      <td>3</td>\n",
       "      <td>Design Team</td>\n",
       "    </tr>\n",
       "  </tbody>\n",
       "</table>\n",
       "</div>"
      ],
      "text/plain": [
       "      ID       Department\n",
       "Name                     \n",
       "Rose   1  Architect Group\n",
       "John   2   Software Group\n",
       "Jane   3      Design Team"
      ]
     },
     "execution_count": 52,
     "metadata": {},
     "output_type": "execute_result"
    }
   ],
   "source": [
    "#let us do the slicing using loc() function on new dataframe df2 where index column is Name having labels: Rose, John and Jane\n",
    "df2.loc['Rose':'Jane', 'ID':'Department']"
   ]
  },
  {
   "cell_type": "markdown",
   "id": "d72f09b5-27c9-4ed5-bc26-5ed4c8d78ad8",
   "metadata": {},
   "source": [
    "### Tente você mesmo"
   ]
  },
  {
   "cell_type": "markdown",
   "id": "b595f6aa-c994-41d1-bd7c-bfbfe3de542d",
   "metadata": {},
   "source": [
    "usando a função <code>loc()</code>, faça o fatiamento no dataframe antigo df para recuperar o nome, ID e departamento da coluna de índice com rótulos como 2,3"
   ]
  },
  {
   "cell_type": "code",
   "execution_count": 53,
   "id": "82682896-ddb0-49cd-94c7-8bab1869f8fb",
   "metadata": {
    "tags": []
   },
   "outputs": [
    {
     "data": {
      "text/html": [
       "<div>\n",
       "<style scoped>\n",
       "    .dataframe tbody tr th:only-of-type {\n",
       "        vertical-align: middle;\n",
       "    }\n",
       "\n",
       "    .dataframe tbody tr th {\n",
       "        vertical-align: top;\n",
       "    }\n",
       "\n",
       "    .dataframe thead th {\n",
       "        text-align: right;\n",
       "    }\n",
       "</style>\n",
       "<table border=\"1\" class=\"dataframe\">\n",
       "  <thead>\n",
       "    <tr style=\"text-align: right;\">\n",
       "      <th></th>\n",
       "      <th>Name</th>\n",
       "      <th>ID</th>\n",
       "      <th>Department</th>\n",
       "    </tr>\n",
       "  </thead>\n",
       "  <tbody>\n",
       "    <tr>\n",
       "      <th>2</th>\n",
       "      <td>Jane</td>\n",
       "      <td>3</td>\n",
       "      <td>Design Team</td>\n",
       "    </tr>\n",
       "    <tr>\n",
       "      <th>3</th>\n",
       "      <td>Mary</td>\n",
       "      <td>4</td>\n",
       "      <td>Infrastructure</td>\n",
       "    </tr>\n",
       "  </tbody>\n",
       "</table>\n",
       "</div>"
      ],
      "text/plain": [
       "   Name  ID      Department\n",
       "2  Jane   3     Design Team\n",
       "3  Mary   4  Infrastructure"
      ]
     },
     "execution_count": 53,
     "metadata": {},
     "output_type": "execute_result"
    }
   ],
   "source": [
    "df.loc[2:3,'Name':'Department']"
   ]
  },
  {
   "cell_type": "code",
   "execution_count": null,
   "id": "fd0f4571-6aef-4f92-aa84-c6268cbee4a5",
   "metadata": {},
   "outputs": [],
   "source": []
  }
 ],
 "metadata": {
  "kernelspec": {
   "display_name": "Python 3 (ipykernel)",
   "language": "python",
   "name": "python3"
  },
  "language_info": {
   "codemirror_mode": {
    "name": "ipython",
    "version": 3
   },
   "file_extension": ".py",
   "mimetype": "text/x-python",
   "name": "python",
   "nbconvert_exporter": "python",
   "pygments_lexer": "ipython3",
   "version": "3.11.5"
  }
 },
 "nbformat": 4,
 "nbformat_minor": 5
}
