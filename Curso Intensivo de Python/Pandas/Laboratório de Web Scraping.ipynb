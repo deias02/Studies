{
 "cells": [
  {
   "cell_type": "markdown",
   "id": "213ac8c3-4bba-47b8-9ea0-ff9f2bbefa46",
   "metadata": {},
   "source": [
    "<center>\n",
    "    <img src=\"https://cf-courses-data.s3.us.cloud-object-storage.appdomain.cloud/IBMDeveloperSkillsNetwork-PY0101EN-SkillsNetwork/IDSNlogo.png\" width=\"300\" alt=\"cognitiveclass.ai logo\">\n",
    "</center>\n",
    "\n",
    "# **Laboratório de Web Scraping**"
   ]
  },
  {
   "cell_type": "markdown",
   "id": "44bd0451-a42a-49cf-b8f0-55217afb9e6d",
   "metadata": {},
   "source": [
    "## Objectivos\n",
    "\n",
    "Depois de concluir este laboratório, você será:\n",
    "\n",
    "* Familiarizado com os fundamentos da biblioteca Python `BeautifulSoup`\n",
    "* Ser capaz de extrair dados de páginas da web e filtrar os dados"
   ]
  },
  {
   "cell_type": "markdown",
   "id": "aadc63b0-4d9e-4353-9015-f48924282eb2",
   "metadata": {},
   "source": [
    "<hr>"
   ]
  },
  {
   "cell_type": "markdown",
   "id": "ae246c02-0793-4f6d-b152-cd5634dffdba",
   "metadata": {},
   "source": [
    "Neste laboratório, usaremos Python e várias bibliotecas Python. Algumas dessas bibliotecas podem ser instaladas em seu ambiente de laboratório ou no SN Labs. Outros podem precisar ser instalados por você. As células abaixo instalarão essas bibliotecas quando executadas."
   ]
  },
  {
   "cell_type": "markdown",
   "id": "5efb26b6-a242-4725-9dd5-9aa20cf72627",
   "metadata": {},
   "source": [
    "Importe os módulos e funções necessários"
   ]
  },
  {
   "cell_type": "code",
   "execution_count": 1,
   "id": "0bb40ef8-b497-4437-81eb-fecaa2bc8993",
   "metadata": {
    "tags": []
   },
   "outputs": [],
   "source": [
    "from bs4 import BeautifulSoup # este módulo ajuda na web scraping.\n",
    "import requests # este módulo nos ajuda a baixar uma página da web"
   ]
  },
  {
   "cell_type": "markdown",
   "id": "6db2a95f-0ab2-453e-892a-451346bace55",
   "metadata": {},
   "source": [
    "## Objeto Beautiful Soup\n"
   ]
  },
  {
   "cell_type": "markdown",
   "id": "9148b7c1-e305-43fb-9e5d-93e13e35df93",
   "metadata": {},
   "source": [
    "Beautiful Soup é uma biblioteca Python para extrair dados de arquivos HTML e XML, vamos nos concentrar em arquivos HTML. Isto é conseguido representando o HTML como um conjunto de objetos com métodos usados para analisar o HTML. Podemos navegar no HTML como uma árvore e/ou filtrar o que procuramos.\n",
    "\n",
    "Considere o seguinte HTML:"
   ]
  },
  {
   "cell_type": "code",
   "execution_count": 2,
   "id": "6464415a-3242-49e6-b85a-1b8f9c796196",
   "metadata": {
    "tags": []
   },
   "outputs": [
    {
     "data": {
      "text/html": [
       "<!DOCTYPE html>\n",
       "<html>\n",
       "<head>\n",
       "<title>Page Title</title>\n",
       "</head>\n",
       "<body>\n",
       "<h3><b id='boldest'>Lebron James</b></h3>\n",
       "<p> Salary: $ 92,000,000 </p>\n",
       "<h3> Stephen Curry</h3>\n",
       "<p> Salary: $85,000, 000 </p>\n",
       "<h3> Kevin Durant </h3>\n",
       "<p> Salary: $73,200, 000</p>\n",
       "</body>\n",
       "</html>\n"
      ],
      "text/plain": [
       "<IPython.core.display.HTML object>"
      ]
     },
     "metadata": {},
     "output_type": "display_data"
    }
   ],
   "source": [
    "%%html\n",
    "<!DOCTYPE html>\n",
    "<html>\n",
    "<head>\n",
    "<title>Page Title</title>\n",
    "</head>\n",
    "<body>\n",
    "<h3><b id='boldest'>Lebron James</b></h3>\n",
    "<p> Salary: $ 92,000,000 </p>\n",
    "<h3> Stephen Curry</h3>\n",
    "<p> Salary: $85,000, 000 </p>\n",
    "<h3> Kevin Durant </h3>\n",
    "<p> Salary: $73,200, 000</p>\n",
    "</body>\n",
    "</html>"
   ]
  },
  {
   "cell_type": "markdown",
   "id": "680e1105-eab8-4e0a-b041-6f5f3ec8f405",
   "metadata": {},
   "source": [
    "Podemos armazená-lo como uma string na variável HTML"
   ]
  },
  {
   "cell_type": "code",
   "execution_count": 4,
   "id": "cb2ba0e2-afd7-45a2-8ca6-bc8f61f83575",
   "metadata": {
    "tags": []
   },
   "outputs": [],
   "source": [
    "html = \"<!DOCTYPE html><html><head><title>Page Title</title></head><body><h3> \\\n",
    "<b id='boldest'>Lebron James</b></h3><p> Salary: $ 92,000,000 </p> \\\n",
    "<h3>Stephen Curry</h3><p> Salary: $85,000,000</p> \\\n",
    "<h3>Kevin Durant</h3><p> Salary: $73,200,000</p></body></html>\""
   ]
  },
  {
   "cell_type": "markdown",
   "id": "22457263-0b18-43ba-96d8-8c572fc9d69d",
   "metadata": {},
   "source": [
    "Para analisar um documento, passe-o para o construtor <code>BeautifulSoup</code>. O objeto <code>BeautifulSoup</code> representa o documento como uma estrutura de dados aninhada:"
   ]
  },
  {
   "cell_type": "code",
   "execution_count": 5,
   "id": "5249bde7-322e-464f-af00-1f335dc29591",
   "metadata": {
    "tags": []
   },
   "outputs": [],
   "source": [
    "soup = BeautifulSoup(html, 'html5lib')"
   ]
  },
  {
   "cell_type": "code",
   "execution_count": 6,
   "id": "933ca0ff-9e67-4a6c-a134-a7ee676c9c9d",
   "metadata": {
    "tags": []
   },
   "outputs": [
    {
     "data": {
      "text/plain": [
       "<!DOCTYPE html>\n",
       "<html><head><title>Page Title</title></head><body><h3> <b id=\"boldest\">Lebron James</b></h3><p> Salary: $ 92,000,000 </p> <h3>Stephen Curry</h3><p> Salary: $85,000,000</p> <h3>Kevin Durant</h3><p> Salary: $73,200,000</p></body></html>"
      ]
     },
     "execution_count": 6,
     "metadata": {},
     "output_type": "execute_result"
    }
   ],
   "source": [
    "soup"
   ]
  },
  {
   "cell_type": "markdown",
   "id": "e5e22fc5-f369-4a67-830b-a309a63a0cee",
   "metadata": {},
   "source": [
    "Primeiro, o documento é convertido para Unicode (semelhante ao ASCII) e as entidades HTML são convertidas para caracteres Unicode. Beautiful Soup transforma um documento HTML complexo em uma árvore complexa de objetos Python. O objeto <code>BeautifulSoup</code> pode criar outros tipos de objetos. Neste laboratório, abordaremos os objetos <code>BeautifulSoup</code> e <code>Tag</code>, que para os propósitos deste laboratório são idênticos. Finalmente, veremos os objetos <code>NavigableString</code>."
   ]
  },
  {
   "cell_type": "markdown",
   "id": "e3378748-0bf7-42e9-b262-85fe5de64bb2",
   "metadata": {},
   "source": [
    "Podemos usar o método <code>prettify()</code> para exibir o HTML na estrutura aninhada:"
   ]
  },
  {
   "cell_type": "code",
   "execution_count": 7,
   "id": "7115ef25-743f-45bb-8b7d-835f00ca9237",
   "metadata": {
    "tags": []
   },
   "outputs": [
    {
     "name": "stdout",
     "output_type": "stream",
     "text": [
      "<!DOCTYPE html>\n",
      "<html>\n",
      " <head>\n",
      "  <title>\n",
      "   Page Title\n",
      "  </title>\n",
      " </head>\n",
      " <body>\n",
      "  <h3>\n",
      "   <b id=\"boldest\">\n",
      "    Lebron James\n",
      "   </b>\n",
      "  </h3>\n",
      "  <p>\n",
      "   Salary: $ 92,000,000\n",
      "  </p>\n",
      "  <h3>\n",
      "   Stephen Curry\n",
      "  </h3>\n",
      "  <p>\n",
      "   Salary: $85,000,000\n",
      "  </p>\n",
      "  <h3>\n",
      "   Kevin Durant\n",
      "  </h3>\n",
      "  <p>\n",
      "   Salary: $73,200,000\n",
      "  </p>\n",
      " </body>\n",
      "</html>\n",
      "\n"
     ]
    }
   ],
   "source": [
    "print(soup.prettify())"
   ]
  },
  {
   "cell_type": "markdown",
   "id": "9019f595-4eb3-4864-982b-e2aa6761504d",
   "metadata": {},
   "source": [
    "<hr>"
   ]
  },
  {
   "cell_type": "markdown",
   "id": "2d85d79a-2b72-4f93-ba2b-39f7954daeef",
   "metadata": {},
   "source": [
    "## Tags"
   ]
  },
  {
   "cell_type": "markdown",
   "id": "8766d75a-8d34-4a2b-ac7e-e18b75ac8fd7",
   "metadata": {},
   "source": [
    "Digamos que queremos o título da página e o nome do jogador mais bem pago. Podemos usar a <code>Tag</code>. O objeto <code>Tag</code> corresponde a uma tag HTML no documento original, por exemplo, o título da tag."
   ]
  },
  {
   "cell_type": "code",
   "execution_count": 8,
   "id": "881f9f54-24d6-4140-86a6-9520ba87b935",
   "metadata": {
    "tags": []
   },
   "outputs": [
    {
     "name": "stdout",
     "output_type": "stream",
     "text": [
      "tag object: <title>Page Title</title>\n"
     ]
    }
   ],
   "source": [
    "tag_object = soup.title\n",
    "print(\"tag object:\", tag_object)"
   ]
  },
  {
   "cell_type": "markdown",
   "id": "9235cd07-8453-4d0f-a257-bed64e576331",
   "metadata": {},
   "source": [
    "podemos ver o tipo de tag <code>bs4.element.Tag</code>"
   ]
  },
  {
   "cell_type": "code",
   "execution_count": 9,
   "id": "4e67e735-a129-46d0-9c2a-ec7b3680ff1a",
   "metadata": {
    "tags": []
   },
   "outputs": [
    {
     "name": "stdout",
     "output_type": "stream",
     "text": [
      "tag object type: <class 'bs4.element.Tag'>\n"
     ]
    }
   ],
   "source": [
    "print(\"tag object type:\", type(tag_object))"
   ]
  },
  {
   "cell_type": "markdown",
   "id": "2a6f2532-1670-49cb-a7f7-1f5c045f3d36",
   "metadata": {},
   "source": [
    "Se houver mais de uma <code>Tag</code> com o mesmo nome, o primeiro elemento com esse nome de <code>Tag</code> será chamado. Isso corresponde ao jogador mais pago:"
   ]
  },
  {
   "cell_type": "code",
   "execution_count": 10,
   "id": "4e7a7603-4439-442c-8c1c-d060122e6fc7",
   "metadata": {
    "tags": []
   },
   "outputs": [
    {
     "data": {
      "text/plain": [
       "<h3> <b id=\"boldest\">Lebron James</b></h3>"
      ]
     },
     "execution_count": 10,
     "metadata": {},
     "output_type": "execute_result"
    }
   ],
   "source": [
    "tag_object = soup.h3\n",
    "tag_object"
   ]
  },
  {
   "cell_type": "markdown",
   "id": "b1b1826e-6625-4154-8903-efeda8284b9a",
   "metadata": {},
   "source": [
    "Colocado no atributo em negrito <code>b</code>, ajuda a usar a representação em árvore. Podemos navegar pela árvore usando o atributo filho para obter o nome."
   ]
  },
  {
   "cell_type": "markdown",
   "id": "2aef5362-42b1-4500-be65-8ad693a6cd0b",
   "metadata": {},
   "source": [
    "### Filhos, Pais e Irmãos"
   ]
  },
  {
   "cell_type": "markdown",
   "id": "496151f2-195b-4778-8ceb-e4d358093579",
   "metadata": {},
   "source": [
    "Conforme afirmado acima, o objeto <code>Tag</code> é uma árvore de objetos. Podemos acessar o filho da tag ou navegar pelo branch da seguinte forma:"
   ]
  },
  {
   "cell_type": "code",
   "execution_count": 11,
   "id": "01237faf-a10b-47b6-90f1-5d80564b4885",
   "metadata": {
    "tags": []
   },
   "outputs": [
    {
     "data": {
      "text/plain": [
       "<b id=\"boldest\">Lebron James</b>"
      ]
     },
     "execution_count": 11,
     "metadata": {},
     "output_type": "execute_result"
    }
   ],
   "source": [
    "tag_child = tag_object.b\n",
    "tag_child"
   ]
  },
  {
   "cell_type": "markdown",
   "id": "ee204504-afb7-4a49-92f7-3ec6924985e5",
   "metadata": {},
   "source": [
    "Você pode acessar o pai com o <code>parent</code>."
   ]
  },
  {
   "cell_type": "code",
   "execution_count": 12,
   "id": "872ba787-7da0-44e9-8f88-5fedefb8e7aa",
   "metadata": {
    "tags": []
   },
   "outputs": [
    {
     "data": {
      "text/plain": [
       "<h3> <b id=\"boldest\">Lebron James</b></h3>"
      ]
     },
     "execution_count": 12,
     "metadata": {},
     "output_type": "execute_result"
    }
   ],
   "source": [
    "parent_tag = tag_child.parent\n",
    "parent_tag"
   ]
  },
  {
   "cell_type": "markdown",
   "id": "a8071a4e-fdf9-4dce-aab3-809c89cab0df",
   "metadata": {
    "tags": []
   },
   "source": [
    "isso é idêntico a:"
   ]
  },
  {
   "cell_type": "code",
   "execution_count": 14,
   "id": "7e7e5865-86d6-4831-8143-6c07c39f24c8",
   "metadata": {
    "tags": []
   },
   "outputs": [
    {
     "data": {
      "text/plain": [
       "<h3> <b id=\"boldest\">Lebron James</b></h3>"
      ]
     },
     "execution_count": 14,
     "metadata": {},
     "output_type": "execute_result"
    }
   ],
   "source": [
    "tag_object"
   ]
  },
  {
   "cell_type": "markdown",
   "id": "7a61a19c-911b-4890-b50c-2a0ff3b1e86e",
   "metadata": {},
   "source": [
    "<code>tag_object</code> Pai é o elemento <code>body</code>."
   ]
  },
  {
   "cell_type": "code",
   "execution_count": 15,
   "id": "903004e2-8c67-43a0-8561-02d5d4e4c170",
   "metadata": {
    "tags": []
   },
   "outputs": [
    {
     "data": {
      "text/plain": [
       "<body><h3> <b id=\"boldest\">Lebron James</b></h3><p> Salary: $ 92,000,000 </p> <h3>Stephen Curry</h3><p> Salary: $85,000,000</p> <h3>Kevin Durant</h3><p> Salary: $73,200,000</p></body>"
      ]
     },
     "execution_count": 15,
     "metadata": {},
     "output_type": "execute_result"
    }
   ],
   "source": [
    "tag_object.parent"
   ]
  },
  {
   "cell_type": "markdown",
   "id": "b684ae37-f274-435c-b283-63eb9f4b7636",
   "metadata": {},
   "source": [
    "<code>tag_object</code> Irmão  é o elemento <code>paragraph</code>."
   ]
  },
  {
   "cell_type": "code",
   "execution_count": 51,
   "id": "69e0e5e1-357c-4f3d-bfed-9c6f623b2c47",
   "metadata": {
    "tags": []
   },
   "outputs": [
    {
     "data": {
      "text/plain": [
       "<p> Salary: $ 92,000,000 </p>"
      ]
     },
     "execution_count": 51,
     "metadata": {},
     "output_type": "execute_result"
    }
   ],
   "source": [
    "sibling_1 = tag_object.next_sibling\n",
    "sibling_1"
   ]
  },
  {
   "cell_type": "markdown",
   "id": "40cfed40-3d5d-45b2-a5fe-cd1284e2df4d",
   "metadata": {},
   "source": [
    "`sibling_2` é o elemento `header`, que também é irmão de `sibling_1` e `tag_object`"
   ]
  },
  {
   "cell_type": "markdown",
   "id": "6642e2fe-eed8-4425-b715-7f28a7b6ac54",
   "metadata": {},
   "source": [
    "<h3 id=\"first_question\">Exercício: <code>next_sibling</code></h3>"
   ]
  },
  {
   "cell_type": "markdown",
   "id": "89962b0f-fd0b-45a8-afd9-82b21f12980e",
   "metadata": {},
   "source": [
    "Use o objeto <code>sibling\\_2</code> e o método <code>next_sibling</code> para encontrar o salário de Stephen Curry:"
   ]
  },
  {
   "cell_type": "code",
   "execution_count": 57,
   "id": "0abd20c3-64b1-415d-99e0-eea60eb0ba62",
   "metadata": {
    "tags": []
   },
   "outputs": [
    {
     "data": {
      "text/plain": [
       "<p> Salary: $85,000,000</p>"
      ]
     },
     "execution_count": 57,
     "metadata": {},
     "output_type": "execute_result"
    }
   ],
   "source": [
    "sibling_2 = sibling_2.next_sibling\n",
    "sibling_2"
   ]
  },
  {
   "cell_type": "markdown",
   "id": "d3460ed7-41f3-4109-8132-5d189d430fa5",
   "metadata": {},
   "source": [
    "### Atributos HTML "
   ]
  },
  {
   "cell_type": "markdown",
   "id": "35d5b446-234b-4a64-b4e1-03e330f93ffa",
   "metadata": {},
   "source": [
    "Se a tag possui atributos, a tag <code>id=\"boldest\"</code> possui um atributo <code>id</code> cujo valor é <code>boldest</code>. Você pode acessar os atributos de uma tag tratando-a como um dicionário:"
   ]
  },
  {
   "cell_type": "code",
   "execution_count": 58,
   "id": "0320bdae-0bfa-4da0-9f9c-7e92cf0346e8",
   "metadata": {
    "tags": []
   },
   "outputs": [
    {
     "data": {
      "text/plain": [
       "'boldest'"
      ]
     },
     "execution_count": 58,
     "metadata": {},
     "output_type": "execute_result"
    }
   ],
   "source": [
    "tag_child['id']"
   ]
  },
  {
   "cell_type": "markdown",
   "id": "96406c95-7a1b-4de0-acf0-37b69b9398de",
   "metadata": {},
   "source": [
    "Você pode acessar esse dicionário diretamente como <code>attrs</code>:"
   ]
  },
  {
   "cell_type": "code",
   "execution_count": 59,
   "id": "61a1c2e9-829c-4139-a4b4-0eb62f3ce182",
   "metadata": {
    "tags": []
   },
   "outputs": [
    {
     "data": {
      "text/plain": [
       "{'id': 'boldest'}"
      ]
     },
     "execution_count": 59,
     "metadata": {},
     "output_type": "execute_result"
    }
   ],
   "source": [
    "tag_child.attrs"
   ]
  },
  {
   "cell_type": "markdown",
   "id": "0e5237af-e881-4eb1-b0d5-7f6e4341ce4e",
   "metadata": {},
   "source": [
    "Você também pode trabalhar com atributos com vários valores. Confira <a href=\"https://www.crummy.com/software/BeautifulSoup/bs4/doc/?utm_medium=Exinfluencer&utm_source=Exinfluencer&utm_content=000026UJ&utm_term=10006555&utm_id=NA-SkillsNetwork-Channel-SkillsNetworkCoursesIBMDeveloperSkillsNetworkPY0101 ENSkillsNetwork19487395-2021-01-01\" >\\[1]</a> para mais."
   ]
  },
  {
   "cell_type": "markdown",
   "id": "78fc0c7e-c7e5-42f6-8bd7-694f5f308d97",
   "metadata": {},
   "source": [
    "Também podemos obter o conteúdo do atributo da <code>tag</code> usando o método Python <code>get()</code>."
   ]
  },
  {
   "cell_type": "code",
   "execution_count": 60,
   "id": "51a37df2-0b2c-4ef7-845c-ab53980891ff",
   "metadata": {
    "tags": []
   },
   "outputs": [
    {
     "data": {
      "text/plain": [
       "'boldest'"
      ]
     },
     "execution_count": 60,
     "metadata": {},
     "output_type": "execute_result"
    }
   ],
   "source": [
    "tag_child.get('id')"
   ]
  },
  {
   "cell_type": "markdown",
   "id": "cc39dab8-27a7-4786-9895-dd8ed4f3e744",
   "metadata": {},
   "source": [
    "### String Navegável"
   ]
  },
  {
   "cell_type": "markdown",
   "id": "383c9fae-fb0c-4d22-89da-1427dde228c5",
   "metadata": {},
   "source": [
    "Uma string corresponde a um pedaço de texto ou conteúdo dentro de uma tag. Beautiful Soup usa a classe <code>NavigableString</code> para conter este texto. Em nosso HTML podemos obter o nome do primeiro jogador extraindo a string do objeto <code>Tag</code> <code>tag_child</code> da seguinte forma:"
   ]
  },
  {
   "cell_type": "code",
   "execution_count": 62,
   "id": "acc4de7b-1072-458e-a5a2-2677e7628740",
   "metadata": {
    "tags": []
   },
   "outputs": [
    {
     "data": {
      "text/plain": [
       "'Lebron James'"
      ]
     },
     "execution_count": 62,
     "metadata": {},
     "output_type": "execute_result"
    }
   ],
   "source": [
    "tag_string = tag_child.string\n",
    "tag_string"
   ]
  },
  {
   "cell_type": "markdown",
   "id": "26a1c80b-9b1b-4d39-9e5d-917abe14fb4a",
   "metadata": {},
   "source": [
    "podemos verificar se o tipo é Navegável String"
   ]
  },
  {
   "cell_type": "code",
   "execution_count": 63,
   "id": "a48ce054-dda8-41c2-b6fe-41fc4ee0711d",
   "metadata": {
    "tags": []
   },
   "outputs": [
    {
     "data": {
      "text/plain": [
       "bs4.element.NavigableString"
      ]
     },
     "execution_count": 63,
     "metadata": {},
     "output_type": "execute_result"
    }
   ],
   "source": [
    "type(tag_string)"
   ]
  },
  {
   "cell_type": "markdown",
   "id": "2cafb9ae-aa22-492d-aef0-c642cec1522a",
   "metadata": {},
   "source": [
    "Um NavigableString é semelhante a uma string Python ou Unicode. Para ser mais preciso, a principal diferença é que ele também suporta alguns recursos do <code>BeautifulSoup</code>. Podemos convertê-lo em objeto string em Python:"
   ]
  },
  {
   "cell_type": "code",
   "execution_count": 64,
   "id": "2f94aa66-d541-4642-855c-5a18015c2edf",
   "metadata": {
    "tags": []
   },
   "outputs": [
    {
     "data": {
      "text/plain": [
       "'Lebron James'"
      ]
     },
     "execution_count": 64,
     "metadata": {},
     "output_type": "execute_result"
    }
   ],
   "source": [
    "unicode_string = str(tag_string)\n",
    "unicode_string"
   ]
  },
  {
   "cell_type": "markdown",
   "id": "87595b24-db70-46f8-86cb-3a5afdcb7685",
   "metadata": {},
   "source": [
    "<hr>"
   ]
  },
  {
   "cell_type": "markdown",
   "id": "d946ba6b-3c58-4403-a260-09b3a1768db3",
   "metadata": {},
   "source": [
    "## Filter (Filtro)"
   ]
  },
  {
   "cell_type": "markdown",
   "id": "1fe3e303-c492-4ff6-93df-00a425822cb6",
   "metadata": {},
   "source": [
    "Os filtros permitem encontrar padrões complexos, o filtro mais simples é uma string. Nesta seção, passaremos uma string para um método de filtro diferente e o Beautiful Soup realizará uma correspondência com essa string exata. Considere o seguinte HTML de lançamentos de foguetes:"
   ]
  },
  {
   "cell_type": "code",
   "execution_count": 65,
   "id": "5265d30c-65ee-4d4e-a095-b708cecd6471",
   "metadata": {
    "tags": []
   },
   "outputs": [
    {
     "data": {
      "text/html": [
       "<table>\n",
       "  <tr>\n",
       "    <td id='flight' >Flight No</td>\n",
       "    <td>Launch site</td> \n",
       "    <td>Payload mass</td>\n",
       "   </tr>\n",
       "  <tr> \n",
       "    <td>1</td>\n",
       "    <td><a href='https://en.wikipedia.org/wiki/Florida'>Florida</a></td>\n",
       "    <td>300 kg</td>\n",
       "  </tr>\n",
       "  <tr>\n",
       "    <td>2</td>\n",
       "    <td><a href='https://en.wikipedia.org/wiki/Texas'>Texas</a></td>\n",
       "    <td>94 kg</td>\n",
       "  </tr>\n",
       "  <tr>\n",
       "    <td>3</td>\n",
       "    <td><a href='https://en.wikipedia.org/wiki/Florida'>Florida<a> </td>\n",
       "    <td>80 kg</td>\n",
       "  </tr>\n",
       "</table>\n"
      ],
      "text/plain": [
       "<IPython.core.display.HTML object>"
      ]
     },
     "metadata": {},
     "output_type": "display_data"
    }
   ],
   "source": [
    "%%html\n",
    "<table>\n",
    "  <tr>\n",
    "    <td id='flight' >Flight No</td>\n",
    "    <td>Launch site</td> \n",
    "    <td>Payload mass</td>\n",
    "   </tr>\n",
    "  <tr> \n",
    "    <td>1</td>\n",
    "    <td><a href='https://en.wikipedia.org/wiki/Florida'>Florida</a></td>\n",
    "    <td>300 kg</td>\n",
    "  </tr>\n",
    "  <tr>\n",
    "    <td>2</td>\n",
    "    <td><a href='https://en.wikipedia.org/wiki/Texas'>Texas</a></td>\n",
    "    <td>94 kg</td>\n",
    "  </tr>\n",
    "  <tr>\n",
    "    <td>3</td>\n",
    "    <td><a href='https://en.wikipedia.org/wiki/Florida'>Florida<a> </td>\n",
    "    <td>80 kg</td>\n",
    "  </tr>\n",
    "</table>"
   ]
  },
  {
   "cell_type": "markdown",
   "id": "f8ebc40b-cbc6-4e5b-8de3-1cfb3f7f2f9d",
   "metadata": {},
   "source": [
    "Podemos armazená-lo como uma string na variável <code>table</code>:"
   ]
  },
  {
   "cell_type": "code",
   "execution_count": 66,
   "id": "613468a0-ae8a-42a9-99d4-74b69a99b0a7",
   "metadata": {
    "tags": []
   },
   "outputs": [],
   "source": [
    "table = \"<table><tr><td id='flight'>Flight No</td><td>Launch site</td> \\\n",
    "<td>Payload mass</td></tr><tr> <td>1</td> \\\n",
    "<td><a href='https://en.wikipedia.org/wiki/Florida'>Florida<a></td> \\\n",
    "<td>300 kg</td></tr><tr><td>2</td> \\\n",
    "<td><a href='https://en.wikipedia.org/wiki/Texas'>Texas</a></td> \\\n",
    "<td>94 kg</td></tr><tr><td>3</td> \\\n",
    "<td><a href='https://en.wikipedia.org/wiki/Florida'>Florida<a> </td> \\\n",
    "<td>80 kg</td></tr></table>\""
   ]
  },
  {
   "cell_type": "code",
   "execution_count": 67,
   "id": "6c913fbb-bcd0-4597-82f2-706134d807b2",
   "metadata": {
    "tags": []
   },
   "outputs": [],
   "source": [
    "table_bs = BeautifulSoup(table, 'html5lib')"
   ]
  },
  {
   "cell_type": "markdown",
   "id": "8c493172-5af3-401f-b97e-c471a128b097",
   "metadata": {},
   "source": [
    "<hr>"
   ]
  },
  {
   "cell_type": "markdown",
   "id": "882a4228-2afa-4ba0-8132-0022bd2f8baf",
   "metadata": {},
   "source": [
    "## find_All"
   ]
  },
  {
   "cell_type": "markdown",
   "id": "43064a63-3b70-435e-a416-d54a402cc77e",
   "metadata": {},
   "source": [
    "O método <code>find_all()</code> examina os descendentes de uma tag e recupera todos os descendentes que correspondem aos seus filtros.\n",
    "\n",
    "<p>\n",
    "A assinatura do método para <code>find_all(name, attrs, recursive, string, limit, **kwargs)<c/ode>\n",
    "</p>"
   ]
  },
  {
   "cell_type": "markdown",
   "id": "ba16b7ca-f1f4-47d7-9eeb-35559fbab3b3",
   "metadata": {},
   "source": [
    "### Name\n"
   ]
  },
  {
   "cell_type": "markdown",
   "id": "0fe217e4-ec51-45ad-8eab-3d7e9fd345f9",
   "metadata": {},
   "source": [
    "Quando definimos o parâmetro <code>name</code> como um nome de tag, o método extrairá todas as tags com esse nome e seus filhos."
   ]
  },
  {
   "cell_type": "code",
   "execution_count": 68,
   "id": "f9338dca-62eb-4b2d-9fdd-36120edb82fb",
   "metadata": {
    "tags": []
   },
   "outputs": [
    {
     "data": {
      "text/plain": [
       "[<tr><td id=\"flight\">Flight No</td><td>Launch site</td> <td>Payload mass</td></tr>,\n",
       " <tr> <td>1</td> <td><a href=\"https://en.wikipedia.org/wiki/Florida\">Florida</a><a></a></td> <td>300 kg</td></tr>,\n",
       " <tr><td>2</td> <td><a href=\"https://en.wikipedia.org/wiki/Texas\">Texas</a></td> <td>94 kg</td></tr>,\n",
       " <tr><td>3</td> <td><a href=\"https://en.wikipedia.org/wiki/Florida\">Florida</a><a> </a></td> <td>80 kg</td></tr>]"
      ]
     },
     "execution_count": 68,
     "metadata": {},
     "output_type": "execute_result"
    }
   ],
   "source": [
    "table_rows = table_bs.find_all('tr')\n",
    "table_rows"
   ]
  },
  {
   "cell_type": "markdown",
   "id": "3aeb0012-cb8e-4f5b-bc8b-d5bbbeb586eb",
   "metadata": {},
   "source": [
    "O resultado é um Python iterável como uma lista, cada elemento é um objeto <code>tag</code>:"
   ]
  },
  {
   "cell_type": "code",
   "execution_count": 69,
   "id": "bed9f928-e319-4b7d-90c4-6b7ac6b18919",
   "metadata": {
    "tags": []
   },
   "outputs": [
    {
     "data": {
      "text/plain": [
       "<tr><td id=\"flight\">Flight No</td><td>Launch site</td> <td>Payload mass</td></tr>"
      ]
     },
     "execution_count": 69,
     "metadata": {},
     "output_type": "execute_result"
    }
   ],
   "source": [
    "first_row = table_rows[0]\n",
    "first_row"
   ]
  },
  {
   "cell_type": "markdown",
   "id": "fea091f5-b24a-4141-bb76-8b5f1b24a5d3",
   "metadata": {},
   "source": [
    "O tipo é <code>tag</code>"
   ]
  },
  {
   "cell_type": "code",
   "execution_count": 70,
   "id": "0c3c0d17-7598-44be-b4c0-a74c0270867d",
   "metadata": {
    "tags": []
   },
   "outputs": [
    {
     "name": "stdout",
     "output_type": "stream",
     "text": [
      "<class 'bs4.element.Tag'>\n"
     ]
    }
   ],
   "source": [
    "print(type(first_row))"
   ]
  },
  {
   "cell_type": "markdown",
   "id": "bd317e78-2491-417a-8926-679bdce76c34",
   "metadata": {},
   "source": [
    "podemos obter a criança"
   ]
  },
  {
   "cell_type": "code",
   "execution_count": 71,
   "id": "fa073be6-0c76-44f4-a395-30659daa2290",
   "metadata": {
    "tags": []
   },
   "outputs": [
    {
     "data": {
      "text/plain": [
       "<td id=\"flight\">Flight No</td>"
      ]
     },
     "execution_count": 71,
     "metadata": {},
     "output_type": "execute_result"
    }
   ],
   "source": [
    "first_row.td"
   ]
  },
  {
   "cell_type": "markdown",
   "id": "520344cb-8d5d-4ac8-a072-744ae4773146",
   "metadata": {},
   "source": [
    "Se iterarmos na lista, cada elemento corresponderá a uma linha da tabela:"
   ]
  },
  {
   "cell_type": "code",
   "execution_count": 72,
   "id": "e5fcd866-2602-4b00-82a5-e26d1a141db1",
   "metadata": {
    "tags": []
   },
   "outputs": [
    {
     "name": "stdout",
     "output_type": "stream",
     "text": [
      "row 0 is <tr><td id=\"flight\">Flight No</td><td>Launch site</td> <td>Payload mass</td></tr>\n",
      "row 1 is <tr> <td>1</td> <td><a href=\"https://en.wikipedia.org/wiki/Florida\">Florida</a><a></a></td> <td>300 kg</td></tr>\n",
      "row 2 is <tr><td>2</td> <td><a href=\"https://en.wikipedia.org/wiki/Texas\">Texas</a></td> <td>94 kg</td></tr>\n",
      "row 3 is <tr><td>3</td> <td><a href=\"https://en.wikipedia.org/wiki/Florida\">Florida</a><a> </a></td> <td>80 kg</td></tr>\n"
     ]
    }
   ],
   "source": [
    "for i, row in enumerate(table_rows):\n",
    "    print(\"row\", i, \"is\", row)"
   ]
  },
  {
   "cell_type": "markdown",
   "id": "41d3591c-92a7-46dc-80ac-2c74d56f21ed",
   "metadata": {},
   "source": [
    "Como <code>row</code> é um objeto <code>cell</code>, podemos aplicar o método <code>find_all</code> a ele e extrair células da tabela no objeto <code>cells</code > usando a tag <code>td</code>, são todos os filhos com o nome <code>td</code>. O resultado é uma lista, cada elemento corresponde a uma célula e é um objeto <code>Tag</code>, podemos iterar por esta lista também. Podemos extrair o conteúdo usando o atributo <code>string</code>."
   ]
  },
  {
   "cell_type": "code",
   "execution_count": 73,
   "id": "25cd52b4-95b7-48c7-9cd0-26ee76cf5e53",
   "metadata": {
    "tags": []
   },
   "outputs": [
    {
     "name": "stdout",
     "output_type": "stream",
     "text": [
      "row 0\n",
      "colunm 0 cell <td id=\"flight\">Flight No</td>\n",
      "colunm 1 cell <td>Launch site</td>\n",
      "colunm 2 cell <td>Payload mass</td>\n",
      "row 1\n",
      "colunm 0 cell <td>1</td>\n",
      "colunm 1 cell <td><a href=\"https://en.wikipedia.org/wiki/Florida\">Florida</a><a></a></td>\n",
      "colunm 2 cell <td>300 kg</td>\n",
      "row 2\n",
      "colunm 0 cell <td>2</td>\n",
      "colunm 1 cell <td><a href=\"https://en.wikipedia.org/wiki/Texas\">Texas</a></td>\n",
      "colunm 2 cell <td>94 kg</td>\n",
      "row 3\n",
      "colunm 0 cell <td>3</td>\n",
      "colunm 1 cell <td><a href=\"https://en.wikipedia.org/wiki/Florida\">Florida</a><a> </a></td>\n",
      "colunm 2 cell <td>80 kg</td>\n"
     ]
    }
   ],
   "source": [
    "for i, row in enumerate(table_rows):\n",
    "    print(\"row\", i)\n",
    "    cells = row.find_all('td')\n",
    "    for j, cell in enumerate(cells):\n",
    "        print('colunm', j, \"cell\", cell)"
   ]
  },
  {
   "cell_type": "markdown",
   "id": "d9725e71-9ed0-4881-93e7-2ba2ae098a6a",
   "metadata": {},
   "source": [
    "Se usarmos uma lista, podemos comparar qualquer item dessa lista."
   ]
  },
  {
   "cell_type": "code",
   "execution_count": 74,
   "id": "8bbafa0e-7c21-4fa8-ae32-b65fc8a5b183",
   "metadata": {
    "tags": []
   },
   "outputs": [
    {
     "data": {
      "text/plain": [
       "[<tr><td id=\"flight\">Flight No</td><td>Launch site</td> <td>Payload mass</td></tr>,\n",
       " <td id=\"flight\">Flight No</td>,\n",
       " <td>Launch site</td>,\n",
       " <td>Payload mass</td>,\n",
       " <tr> <td>1</td> <td><a href=\"https://en.wikipedia.org/wiki/Florida\">Florida</a><a></a></td> <td>300 kg</td></tr>,\n",
       " <td>1</td>,\n",
       " <td><a href=\"https://en.wikipedia.org/wiki/Florida\">Florida</a><a></a></td>,\n",
       " <td>300 kg</td>,\n",
       " <tr><td>2</td> <td><a href=\"https://en.wikipedia.org/wiki/Texas\">Texas</a></td> <td>94 kg</td></tr>,\n",
       " <td>2</td>,\n",
       " <td><a href=\"https://en.wikipedia.org/wiki/Texas\">Texas</a></td>,\n",
       " <td>94 kg</td>,\n",
       " <tr><td>3</td> <td><a href=\"https://en.wikipedia.org/wiki/Florida\">Florida</a><a> </a></td> <td>80 kg</td></tr>,\n",
       " <td>3</td>,\n",
       " <td><a href=\"https://en.wikipedia.org/wiki/Florida\">Florida</a><a> </a></td>,\n",
       " <td>80 kg</td>]"
      ]
     },
     "execution_count": 74,
     "metadata": {},
     "output_type": "execute_result"
    }
   ],
   "source": [
    "list_input = table_bs.find_all(name=[\"tr\", \"td\"])\n",
    "list_input"
   ]
  },
  {
   "cell_type": "markdown",
   "id": "d0a5b92a-9dda-4513-9c55-d257d19b1e6b",
   "metadata": {},
   "source": [
    "### Atributos"
   ]
  },
  {
   "cell_type": "markdown",
   "id": "07a83cad-ac93-4639-94c1-6f32deac03a3",
   "metadata": {},
   "source": [
    "Caso o argumento não seja reconhecido ele será transformado em um filtro nos atributos da tag. Por exemplo, com o argumento <code>id</code>, Beautiful Soup irá filtrar o atributo <code>id</code> de cada tag. Por exemplo, os primeiros elementos <code>td</code> têm um valor de <code>id</code> de <code>flight</code>, portanto podemos filtrar com base nesse <code>id</code > valor."
   ]
  },
  {
   "cell_type": "code",
   "execution_count": 75,
   "id": "d25a74dd-080c-41ab-9c3c-01438f8e01b3",
   "metadata": {
    "tags": []
   },
   "outputs": [
    {
     "data": {
      "text/plain": [
       "[<td id=\"flight\">Flight No</td>]"
      ]
     },
     "execution_count": 75,
     "metadata": {},
     "output_type": "execute_result"
    }
   ],
   "source": [
    "table_bs.find_all(id=\"flight\")"
   ]
  },
  {
   "cell_type": "markdown",
   "id": "1b889a83-0d16-462e-96f6-43c95f897393",
   "metadata": {},
   "source": [
    "Podemos encontrar todos os elementos que possuem links para a página da Wikipedia da Flórida:"
   ]
  },
  {
   "cell_type": "code",
   "execution_count": 76,
   "id": "adc1e1cd-609f-4349-b106-e7190bf9c69a",
   "metadata": {
    "tags": []
   },
   "outputs": [
    {
     "data": {
      "text/plain": [
       "[<a href=\"https://en.wikipedia.org/wiki/Florida\">Florida</a>,\n",
       " <a href=\"https://en.wikipedia.org/wiki/Florida\">Florida</a>]"
      ]
     },
     "execution_count": 76,
     "metadata": {},
     "output_type": "execute_result"
    }
   ],
   "source": [
    "list_input = table_bs.find_all(href=\"https://en.wikipedia.org/wiki/Florida\")\n",
    "list_input"
   ]
  },
  {
   "cell_type": "markdown",
   "id": "de741126-61b8-4918-96a8-68039c0b26f8",
   "metadata": {},
   "source": [
    "Se definirmos o atributo <code>href</code> como True, independentemente de qual seja o valor, o código encontrará todas as tags âncora com valor <code>href</code>:"
   ]
  },
  {
   "cell_type": "code",
   "execution_count": 77,
   "id": "82d02dc2-f27a-4d6a-93ed-80371a38fed0",
   "metadata": {
    "tags": []
   },
   "outputs": [
    {
     "data": {
      "text/plain": [
       "[<a href=\"https://en.wikipedia.org/wiki/Florida\">Florida</a>,\n",
       " <a href=\"https://en.wikipedia.org/wiki/Texas\">Texas</a>,\n",
       " <a href=\"https://en.wikipedia.org/wiki/Florida\">Florida</a>]"
      ]
     },
     "execution_count": 77,
     "metadata": {},
     "output_type": "execute_result"
    }
   ],
   "source": [
    "table_bs.find_all('a', href=True)"
   ]
  },
  {
   "cell_type": "markdown",
   "id": "c15ab42e-6f69-49cf-ad97-86a4000667cc",
   "metadata": {},
   "source": [
    "Existem outros métodos para lidar com atributos e outros métodos relacionados. Confira o seguinte <a href='https://www.crummy.com/software/BeautifulSoup/bs4/doc/?utm_medium=Exinfluencer&utm_source=Exinfluencer&utm_content=000026UJ&utm_term=10006555&utm_id=NA-SkillsNetwork-Channel-SkillsNetworkCoursesIBMDeveloperSkillsNetworkPY0 101ENSkillsNetwork19487395-2021-01- 01#css-selectors'>link</a>"
   ]
  },
  {
   "cell_type": "markdown",
   "id": "c6b43f5f-2532-44d3-805d-273439815bd2",
   "metadata": {},
   "source": [
    "<h3 id=\"exer_type\">Exercício: <code>find_all</code></h3>"
   ]
  },
  {
   "cell_type": "markdown",
   "id": "029fd8b5-ad26-4321-ba96-3d0724c527bd",
   "metadata": {},
   "source": [
    "Usando a lógica acima, encontre todas as tags âncora sem valor <code>href</code>"
   ]
  },
  {
   "cell_type": "code",
   "execution_count": 78,
   "id": "1b70d453-4b4c-4cc6-81bc-90a251fad01e",
   "metadata": {
    "tags": []
   },
   "outputs": [
    {
     "data": {
      "text/plain": [
       "[<a></a>, <a> </a>]"
      ]
     },
     "execution_count": 78,
     "metadata": {},
     "output_type": "execute_result"
    }
   ],
   "source": [
    "table_bs.find_all('a', href=False)"
   ]
  },
  {
   "cell_type": "markdown",
   "id": "1c604e6f-33fe-4f5a-928f-397d099262cb",
   "metadata": {},
   "source": [
    "Usando o objeto sopa <code>soup</code>, encontre o elemento com o conteúdo do atributo <code>id</code> definido como <code>\"boldest\"</code>."
   ]
  },
  {
   "cell_type": "code",
   "execution_count": 79,
   "id": "85c152d6-1838-43a5-955e-66f8e8cf0390",
   "metadata": {
    "tags": []
   },
   "outputs": [
    {
     "data": {
      "text/plain": [
       "[<b id=\"boldest\">Lebron James</b>]"
      ]
     },
     "execution_count": 79,
     "metadata": {},
     "output_type": "execute_result"
    }
   ],
   "source": [
    "soup.find_all(id=\"boldest\")"
   ]
  },
  {
   "cell_type": "markdown",
   "id": "b389f7df-a7f8-457e-9219-7b5a5dde2f29",
   "metadata": {},
   "source": [
    "### string"
   ]
  },
  {
   "cell_type": "markdown",
   "id": "804165cd-06d0-4928-875f-eccdd4cd3257",
   "metadata": {},
   "source": [
    "Com string você pode procurar por strings em vez de tags, onde encontramos todos os elementos com Florida:"
   ]
  },
  {
   "cell_type": "code",
   "execution_count": 80,
   "id": "54629a0b-50aa-4ddb-abe2-4d6a7f76df34",
   "metadata": {
    "tags": []
   },
   "outputs": [
    {
     "data": {
      "text/plain": [
       "['Florida', 'Florida']"
      ]
     },
     "execution_count": 80,
     "metadata": {},
     "output_type": "execute_result"
    }
   ],
   "source": [
    "table_bs.find_all(string=\"Florida\")"
   ]
  },
  {
   "cell_type": "markdown",
   "id": "9710cd70-efa2-4495-8b55-03a344c88b75",
   "metadata": {},
   "source": [
    "<hr>"
   ]
  },
  {
   "cell_type": "markdown",
   "id": "6b0b585e-6f61-49d6-b559-6b2875b91156",
   "metadata": {},
   "source": [
    "## find"
   ]
  },
  {
   "cell_type": "markdown",
   "id": "147f6fbc-88bb-4543-a1b9-b2dda1de82eb",
   "metadata": {},
   "source": [
    "O método <code>find_all()</code> verifica todo o documento em busca de resultados. É útil se você estiver procurando por um elemento, pois você pode usar o método <code>find()</code> para encontrar o primeiro elemento no documento. Considere as duas tabelas a seguir:"
   ]
  },
  {
   "cell_type": "code",
   "execution_count": 81,
   "id": "b9a53886-bb7f-43b2-82f9-c38b4aa06393",
   "metadata": {
    "tags": []
   },
   "outputs": [
    {
     "data": {
      "text/html": [
       "<h3>Rocket Launch </h3>\n",
       "\n",
       "<p>\n",
       "<table class='rocket'>\n",
       "  <tr>\n",
       "    <td>Flight No</td>\n",
       "    <td>Launch site</td> \n",
       "    <td>Payload mass</td>\n",
       "  </tr>\n",
       "  <tr>\n",
       "    <td>1</td>\n",
       "    <td>Florida</td>\n",
       "    <td>300 kg</td>\n",
       "  </tr>\n",
       "  <tr>\n",
       "    <td>2</td>\n",
       "    <td>Texas</td>\n",
       "    <td>94 kg</td>\n",
       "  </tr>\n",
       "  <tr>\n",
       "    <td>3</td>\n",
       "    <td>Florida </td>\n",
       "    <td>80 kg</td>\n",
       "  </tr>\n",
       "</table>\n",
       "</p>\n",
       "<p>\n",
       "\n",
       "<h3>Pizza Party</h3>\n",
       "  \n",
       "    \n",
       "<table class='pizza'>\n",
       "  <tr>\n",
       "    <td>Pizza Place</td>\n",
       "    <td>Orders</td> \n",
       "    <td>Slices </td>\n",
       "   </tr>\n",
       "  <tr>\n",
       "    <td>Domino's Pizza</td>\n",
       "    <td>10</td>\n",
       "    <td>100</td>\n",
       "  </tr>\n",
       "  <tr>\n",
       "    <td>Little Caesars</td>\n",
       "    <td>12</td>\n",
       "    <td >144 </td>\n",
       "  </tr>\n",
       "  <tr>\n",
       "    <td>Papa John's </td>\n",
       "    <td>15 </td>\n",
       "    <td>165</td>\n",
       "  </tr>\n"
      ],
      "text/plain": [
       "<IPython.core.display.HTML object>"
      ]
     },
     "metadata": {},
     "output_type": "display_data"
    }
   ],
   "source": [
    "%%html\n",
    "<h3>Rocket Launch </h3>\n",
    "\n",
    "<p>\n",
    "<table class='rocket'>\n",
    "  <tr>\n",
    "    <td>Flight No</td>\n",
    "    <td>Launch site</td> \n",
    "    <td>Payload mass</td>\n",
    "  </tr>\n",
    "  <tr>\n",
    "    <td>1</td>\n",
    "    <td>Florida</td>\n",
    "    <td>300 kg</td>\n",
    "  </tr>\n",
    "  <tr>\n",
    "    <td>2</td>\n",
    "    <td>Texas</td>\n",
    "    <td>94 kg</td>\n",
    "  </tr>\n",
    "  <tr>\n",
    "    <td>3</td>\n",
    "    <td>Florida </td>\n",
    "    <td>80 kg</td>\n",
    "  </tr>\n",
    "</table>\n",
    "</p>\n",
    "<p>\n",
    "\n",
    "<h3>Pizza Party</h3>\n",
    "  \n",
    "    \n",
    "<table class='pizza'>\n",
    "  <tr>\n",
    "    <td>Pizza Place</td>\n",
    "    <td>Orders</td> \n",
    "    <td>Slices </td>\n",
    "   </tr>\n",
    "  <tr>\n",
    "    <td>Domino's Pizza</td>\n",
    "    <td>10</td>\n",
    "    <td>100</td>\n",
    "  </tr>\n",
    "  <tr>\n",
    "    <td>Little Caesars</td>\n",
    "    <td>12</td>\n",
    "    <td >144 </td>\n",
    "  </tr>\n",
    "  <tr>\n",
    "    <td>Papa John's </td>\n",
    "    <td>15 </td>\n",
    "    <td>165</td>\n",
    "  </tr>\n"
   ]
  },
  {
   "cell_type": "markdown",
   "id": "b6a8a259-fac6-4182-b84b-d35616d358de",
   "metadata": {},
   "source": [
    "Armazenamos o HTML como uma string Python e atribuímos <code>two_tables</code>:"
   ]
  },
  {
   "cell_type": "code",
   "execution_count": 82,
   "id": "6deed8f9-b901-496d-97f9-c5e237ee5968",
   "metadata": {
    "tags": []
   },
   "outputs": [],
   "source": [
    "two_tables=\"<h3>Rocket Launch </h3> \\\n",
    "<p><table class='rocket'> \\\n",
    "<tr><td>Flight No</td><td>Launch site</td><td>Payload mass</td></tr> \\\n",
    "<tr><td>1</td><td>Florida</td><td>300 kg</td></tr> \\\n",
    "<tr><td>2</td><td>Texas</td><td>94 kg</td></tr> \\\n",
    "<tr><td>3</td><td>Florida </td><td>80 kg</td></tr></table></p>\\\n",
    "<p><h3>Pizza Party</h3> \\\n",
    "<table class='pizza'> \\\n",
    "<tr><td>Pizza Place</td><td>Orders</td><td>Slices </td></tr> \\\n",
    "<tr><td>Domino's Pizza</td><td>10</td><td>100</td></tr> \\\n",
    "<tr><td>Little Caesars</td><td>12</td><td >144 </td></tr> \\\n",
    "<tr><td>Papa John's</td><td>15 </td><td>165</td></tr>\""
   ]
  },
  {
   "cell_type": "markdown",
   "id": "497d2fc3-18a5-4951-8557-578f6f9e2be3",
   "metadata": {},
   "source": [
    "Criamos um objeto <code>BeautifulSoup</code> <code>two_tables_bs</code>"
   ]
  },
  {
   "cell_type": "code",
   "execution_count": 83,
   "id": "85932db9-ef79-421a-a391-48f7f6753808",
   "metadata": {
    "tags": []
   },
   "outputs": [],
   "source": [
    "two_tables_bs = BeautifulSoup(two_tables, 'html.parser')"
   ]
  },
  {
   "cell_type": "markdown",
   "id": "1ddf736b-c7fa-4ddc-a284-02ec0f124830",
   "metadata": {},
   "source": [
    "Podemos encontrar a primeira tabela usando a tabela de nomes de tags"
   ]
  },
  {
   "cell_type": "code",
   "execution_count": 84,
   "id": "ccb1c064-2627-4878-95bc-09a1852c645b",
   "metadata": {
    "tags": []
   },
   "outputs": [
    {
     "data": {
      "text/plain": [
       "<table class=\"rocket\"> <tr><td>Flight No</td><td>Launch site</td><td>Payload mass</td></tr> <tr><td>1</td><td>Florida</td><td>300 kg</td></tr> <tr><td>2</td><td>Texas</td><td>94 kg</td></tr> <tr><td>3</td><td>Florida </td><td>80 kg</td></tr></table>"
      ]
     },
     "execution_count": 84,
     "metadata": {},
     "output_type": "execute_result"
    }
   ],
   "source": [
    "two_tables_bs.find(\"table\")"
   ]
  },
  {
   "cell_type": "markdown",
   "id": "47b4e146-a04a-47cc-ab74-d61e7600f76b",
   "metadata": {},
   "source": [
    "Podemos filtrar o atributo class para encontrar a segunda tabela, mas como class é uma palavra-chave em Python, adicionamos um sublinhado para diferenciá-los"
   ]
  },
  {
   "cell_type": "code",
   "execution_count": 85,
   "id": "cc1024cd-75a6-41e4-8162-76b72144bf7f",
   "metadata": {
    "tags": []
   },
   "outputs": [
    {
     "data": {
      "text/plain": [
       "<table class=\"pizza\"> <tr><td>Pizza Place</td><td>Orders</td><td>Slices </td></tr> <tr><td>Domino's Pizza</td><td>10</td><td>100</td></tr> <tr><td>Little Caesars</td><td>12</td><td>144 </td></tr> <tr><td>Papa John's</td><td>15 </td><td>165</td></tr></table>"
      ]
     },
     "execution_count": 85,
     "metadata": {},
     "output_type": "execute_result"
    }
   ],
   "source": [
    "two_tables_bs.find(\"table\", class_='pizza')"
   ]
  },
  {
   "cell_type": "markdown",
   "id": "b852e2bc-898b-44fa-b044-cd642941ea59",
   "metadata": {},
   "source": [
    "<hr>"
   ]
  },
  {
   "cell_type": "markdown",
   "id": "4b4ab84a-6241-4acc-a3eb-ea3e6826682c",
   "metadata": {},
   "source": [
    "<h2 id=\"DSCW\">Baixando e copiando o conteúdo de uma página da Web</h2>"
   ]
  },
  {
   "cell_type": "markdown",
   "id": "123ac8a0-df25-4b79-ab57-d249720e2f24",
   "metadata": {},
   "source": [
    "Baixamos o conteúdo da página web:"
   ]
  },
  {
   "cell_type": "code",
   "execution_count": 91,
   "id": "e2bfecb3-a764-4050-a769-dcc88bc0e8ad",
   "metadata": {
    "tags": []
   },
   "outputs": [],
   "source": [
    "url = \"http://www.ibm.com\""
   ]
  },
  {
   "cell_type": "markdown",
   "id": "466fe79c-3358-4a4f-8d39-67c42b7d30e3",
   "metadata": {},
   "source": [
    "Usamos <code>get</code> para baixar o conteúdo da página web em formato de texto e armazená-lo em uma variável chamada <code>data</code>:"
   ]
  },
  {
   "cell_type": "code",
   "execution_count": 92,
   "id": "f831e9f9-c3d3-4957-b620-3606df2ba566",
   "metadata": {
    "tags": []
   },
   "outputs": [],
   "source": [
    "data = requests.get(url).text"
   ]
  },
  {
   "cell_type": "markdown",
   "id": "47a3a610-eeb8-40c6-9084-64054c30ad94",
   "metadata": {},
   "source": [
    "Criamos um objeto <code>BeautifulSoup</code> usando o construtor <code>BeautifulSoup</code>"
   ]
  },
  {
   "cell_type": "code",
   "execution_count": 99,
   "id": "ffca56ae-5825-4384-8e58-89d842e7433f",
   "metadata": {
    "tags": []
   },
   "outputs": [],
   "source": [
    "sopa = BeautifulSoup(data, \"html5lib\") # cria um objeto sopa usando a variável 'data'"
   ]
  },
  {
   "cell_type": "markdown",
   "id": "6db6f4fa-e98c-4c5b-a424-93d5bf52e001",
   "metadata": {},
   "source": [
    "Raspe todos os links"
   ]
  },
  {
   "cell_type": "code",
   "execution_count": 100,
   "id": "f0ebccd7-b75b-421a-bf4a-f4b20eb19f58",
   "metadata": {
    "tags": []
   },
   "outputs": [],
   "source": [
    "for link in soup.find_all('a', href=True):  # em html âncora/link é representado pela tag <a>\n",
    "    print(link.get('href'))"
   ]
  },
  {
   "cell_type": "markdown",
   "id": "b8d75567-9b45-412a-9c22-e859ca15bee8",
   "metadata": {},
   "source": [
    "### Raspe todas as imagens Tags"
   ]
  },
  {
   "cell_type": "code",
   "execution_count": 97,
   "id": "31688118-25c9-4b5c-bf6c-7b41c2ddc1e4",
   "metadata": {
    "tags": []
   },
   "outputs": [],
   "source": [
    "for link in soup.find_all('img'):  # in html image is represented by the tag <img>\n",
    "    print(link)\n",
    "    print(link.get('src'))"
   ]
  },
  {
   "cell_type": "markdown",
   "id": "30008c3c-cfc7-4d5b-b4b6-2c2dea747b06",
   "metadata": {
    "tags": []
   },
   "source": [
    "### Extraia dados de tabelas HTML"
   ]
  },
  {
   "cell_type": "code",
   "execution_count": 101,
   "id": "163b05f6-0285-43bd-bc3a-06c6a72e3424",
   "metadata": {
    "tags": []
   },
   "outputs": [],
   "source": [
    "# O URL abaixo contém uma tabela html com dados sobre cores e códigos de cores.\n",
    "url = \"https://cf-courses-data.s3.us.cloud-object-storage.appdomain.cloud/IBM-DA0321EN-SkillsNetwork/labs/datasets/HTMLColorCodes.html\""
   ]
  },
  {
   "cell_type": "markdown",
   "id": "07fb38cf-109a-41e5-b6bc-31849f4789d0",
   "metadata": {},
   "source": [
    "Antes de prosseguir com a raspagem de um site, você precisa examinar o conteúdo e a forma como os dados são organizados no site. Abra o URL acima em seu navegador e verifique quantas linhas e colunas existem na tabela de cores."
   ]
  },
  {
   "cell_type": "code",
   "execution_count": 106,
   "id": "b122c133-ef1b-4ef0-9b60-a41a642ddc4f",
   "metadata": {
    "tags": []
   },
   "outputs": [],
   "source": [
    "# obtém o conteúdo da página web em formato de texto e armazena em uma variável chamada data\n",
    "data = requests.get(url).text"
   ]
  },
  {
   "cell_type": "code",
   "execution_count": 105,
   "id": "c98067e8-b115-4d07-afe7-4e9ea7497697",
   "metadata": {
    "tags": []
   },
   "outputs": [],
   "source": [
    "soup = BeautifulSoup(data, \"html5lib\")"
   ]
  },
  {
   "cell_type": "code",
   "execution_count": null,
   "id": "41590bc5-fe15-4f21-82f2-39fbd72e76e2",
   "metadata": {
    "tags": []
   },
   "outputs": [],
   "source": [
    "soup"
   ]
  },
  {
   "cell_type": "code",
   "execution_count": 114,
   "id": "252bd70f-7d6c-49bb-b250-7d6ccb94c033",
   "metadata": {
    "tags": []
   },
   "outputs": [],
   "source": [
    "#encontre uma tabela HTML na página web\n",
    "table = soup.find('table') # em tabela html é representada pela tag <table>"
   ]
  },
  {
   "cell_type": "code",
   "execution_count": 116,
   "id": "b8a69d70-19a5-4e26-a8a5-acaecf09ce1f",
   "metadata": {
    "tags": []
   },
   "outputs": [
    {
     "name": "stdout",
     "output_type": "stream",
     "text": [
      "Color Name--->Hex Code#RRGGBB\n",
      "lightsalmon--->#FFA07A\n",
      "salmon--->#FA8072\n",
      "darksalmon--->#E9967A\n",
      "lightcoral--->#F08080\n",
      "coral--->#FF7F50\n",
      "tomato--->#FF6347\n",
      "orangered--->#FF4500\n",
      "gold--->#FFD700\n",
      "orange--->#FFA500\n",
      "darkorange--->#FF8C00\n",
      "lightyellow--->#FFFFE0\n",
      "lemonchiffon--->#FFFACD\n",
      "papayawhip--->#FFEFD5\n",
      "moccasin--->#FFE4B5\n",
      "peachpuff--->#FFDAB9\n",
      "palegoldenrod--->#EEE8AA\n",
      "khaki--->#F0E68C\n",
      "darkkhaki--->#BDB76B\n",
      "yellow--->#FFFF00\n",
      "lawngreen--->#7CFC00\n",
      "chartreuse--->#7FFF00\n",
      "limegreen--->#32CD32\n",
      "lime--->#00FF00\n",
      "forestgreen--->#228B22\n",
      "green--->#008000\n",
      "powderblue--->#B0E0E6\n",
      "lightblue--->#ADD8E6\n",
      "lightskyblue--->#87CEFA\n",
      "skyblue--->#87CEEB\n",
      "deepskyblue--->#00BFFF\n",
      "lightsteelblue--->#B0C4DE\n",
      "dodgerblue--->#1E90FF\n"
     ]
    }
   ],
   "source": [
    "# Obtém todas as linhas da tabela\n",
    "for row in table.find_all('tr'): # na linha da tabela html representada pela tag <tr>\n",
    "     # Obtém todas as colunas de cada linha.\n",
    "     cols = row.find_all('td') # em html uma coluna é representada pela tag <td>\n",
    "     color_name = cols[2].string # armazena o valor na coluna 3 como color_name\n",
    "     color_code = cols[3].text # armazena o valor na coluna 4 como color_code\n",
    "     print(\"{}--->{}\".format(color_name, color_code))"
   ]
  },
  {
   "cell_type": "markdown",
   "id": "5dc97a2e-dd72-4b88-8a5e-8ef1ace69c18",
   "metadata": {},
   "source": [
    "<hr>"
   ]
  },
  {
   "cell_type": "markdown",
   "id": "20fa72de-d548-435b-a644-062a5b518372",
   "metadata": {},
   "source": [
    "## Extraindo tabelas de uma página da Web usando Pandas"
   ]
  },
  {
   "cell_type": "markdown",
   "id": "64a5be96-baef-484f-a215-2a6d6cdadb2a",
   "metadata": {},
   "source": [
    "Particularmente para extrair dados tabulares de uma página web, você também pode usar o método `read_html()` da biblioteca Pandas."
   ]
  },
  {
   "cell_type": "code",
   "execution_count": 118,
   "id": "7dff9c5e-40eb-4e02-9cc6-3fd3a98995ed",
   "metadata": {
    "tags": []
   },
   "outputs": [],
   "source": [
    "# O URL abaixo contém uma tabela html com dados sobre cores e códigos de cores.\n",
    "url = \"https://cf-courses-data.s3.us.cloud-object-storage.appdomain.cloud/IBM-DA0321EN-SkillsNetwork/labs/datasets/HTMLColorCodes.html\""
   ]
  },
  {
   "cell_type": "markdown",
   "id": "6e0c93a2-f12c-4fdc-8e6f-c8b9a6cb7f88",
   "metadata": {},
   "source": [
    "Você pode extrair todas as tabelas de uma determinada página da web simplesmente usando os seguintes comandos."
   ]
  },
  {
   "cell_type": "code",
   "execution_count": 119,
   "id": "5ab14044-737d-46b3-9775-c04b15ef7b66",
   "metadata": {
    "tags": []
   },
   "outputs": [
    {
     "data": {
      "text/plain": [
       "[         0      1               2                 3                     4\n",
       " 0   Number  Color      Color Name  Hex Code #RRGGBB  Decimal Code (R,G,B)\n",
       " 1        1    NaN     lightsalmon           #FFA07A      rgb(255,160,122)\n",
       " 2        2    NaN          salmon           #FA8072      rgb(250,128,114)\n",
       " 3        3    NaN      darksalmon           #E9967A      rgb(233,150,122)\n",
       " 4        4    NaN      lightcoral           #F08080      rgb(240,128,128)\n",
       " 5        5    NaN           coral           #FF7F50       rgb(255,127,80)\n",
       " 6        6    NaN          tomato           #FF6347        rgb(255,99,71)\n",
       " 7        7    NaN       orangered           #FF4500         rgb(255,69,0)\n",
       " 8        8    NaN            gold           #FFD700        rgb(255,215,0)\n",
       " 9        9    NaN          orange           #FFA500        rgb(255,165,0)\n",
       " 10      10    NaN      darkorange           #FF8C00        rgb(255,140,0)\n",
       " 11      11    NaN     lightyellow           #FFFFE0      rgb(255,255,224)\n",
       " 12      12    NaN    lemonchiffon           #FFFACD      rgb(255,250,205)\n",
       " 13      13    NaN      papayawhip           #FFEFD5      rgb(255,239,213)\n",
       " 14      14    NaN        moccasin           #FFE4B5      rgb(255,228,181)\n",
       " 15      15    NaN       peachpuff           #FFDAB9      rgb(255,218,185)\n",
       " 16      16    NaN   palegoldenrod           #EEE8AA      rgb(238,232,170)\n",
       " 17      17    NaN           khaki           #F0E68C      rgb(240,230,140)\n",
       " 18      18    NaN       darkkhaki           #BDB76B      rgb(189,183,107)\n",
       " 19      19    NaN          yellow           #FFFF00        rgb(255,255,0)\n",
       " 20      20    NaN       lawngreen           #7CFC00        rgb(124,252,0)\n",
       " 21      21    NaN      chartreuse           #7FFF00        rgb(127,255,0)\n",
       " 22      22    NaN       limegreen           #32CD32        rgb(50,205,50)\n",
       " 23      23    NaN            lime           #00FF00          rgb(0.255.0)\n",
       " 24      24    NaN     forestgreen           #228B22        rgb(34,139,34)\n",
       " 25      25    NaN           green           #008000          rgb(0,128,0)\n",
       " 26      26    NaN      powderblue           #B0E0E6      rgb(176,224,230)\n",
       " 27      27    NaN       lightblue           #ADD8E6      rgb(173,216,230)\n",
       " 28      28    NaN    lightskyblue           #87CEFA      rgb(135,206,250)\n",
       " 29      29    NaN         skyblue           #87CEEB      rgb(135,206,235)\n",
       " 30      30    NaN     deepskyblue           #00BFFF        rgb(0,191,255)\n",
       " 31      31    NaN  lightsteelblue           #B0C4DE      rgb(176,196,222)\n",
       " 32      32    NaN      dodgerblue           #1E90FF       rgb(30,144,255)]"
      ]
     },
     "execution_count": 119,
     "metadata": {},
     "output_type": "execute_result"
    }
   ],
   "source": [
    "import pandas as pd\n",
    "\n",
    "tables = pd.read_html(url)\n",
    "tables"
   ]
  },
  {
   "cell_type": "markdown",
   "id": "de7f46db-af83-4eb3-a5c3-b3ab75c1080f",
   "metadata": {},
   "source": [
    "`tables` agora é uma lista de dataframes que representam as tabelas da página web, na sequência de seu aparecimento. Na URL atual, existe apenas uma tabela, portanto a mesma pode ser acessada conforme mostrado abaixo."
   ]
  },
  {
   "cell_type": "code",
   "execution_count": 120,
   "id": "16eb07b3-e872-4706-b327-d5885c381a12",
   "metadata": {
    "tags": []
   },
   "outputs": [
    {
     "data": {
      "text/html": [
       "<div>\n",
       "<style scoped>\n",
       "    .dataframe tbody tr th:only-of-type {\n",
       "        vertical-align: middle;\n",
       "    }\n",
       "\n",
       "    .dataframe tbody tr th {\n",
       "        vertical-align: top;\n",
       "    }\n",
       "\n",
       "    .dataframe thead th {\n",
       "        text-align: right;\n",
       "    }\n",
       "</style>\n",
       "<table border=\"1\" class=\"dataframe\">\n",
       "  <thead>\n",
       "    <tr style=\"text-align: right;\">\n",
       "      <th></th>\n",
       "      <th>0</th>\n",
       "      <th>1</th>\n",
       "      <th>2</th>\n",
       "      <th>3</th>\n",
       "      <th>4</th>\n",
       "    </tr>\n",
       "  </thead>\n",
       "  <tbody>\n",
       "    <tr>\n",
       "      <th>0</th>\n",
       "      <td>Number</td>\n",
       "      <td>Color</td>\n",
       "      <td>Color Name</td>\n",
       "      <td>Hex Code #RRGGBB</td>\n",
       "      <td>Decimal Code (R,G,B)</td>\n",
       "    </tr>\n",
       "    <tr>\n",
       "      <th>1</th>\n",
       "      <td>1</td>\n",
       "      <td>NaN</td>\n",
       "      <td>lightsalmon</td>\n",
       "      <td>#FFA07A</td>\n",
       "      <td>rgb(255,160,122)</td>\n",
       "    </tr>\n",
       "    <tr>\n",
       "      <th>2</th>\n",
       "      <td>2</td>\n",
       "      <td>NaN</td>\n",
       "      <td>salmon</td>\n",
       "      <td>#FA8072</td>\n",
       "      <td>rgb(250,128,114)</td>\n",
       "    </tr>\n",
       "    <tr>\n",
       "      <th>3</th>\n",
       "      <td>3</td>\n",
       "      <td>NaN</td>\n",
       "      <td>darksalmon</td>\n",
       "      <td>#E9967A</td>\n",
       "      <td>rgb(233,150,122)</td>\n",
       "    </tr>\n",
       "    <tr>\n",
       "      <th>4</th>\n",
       "      <td>4</td>\n",
       "      <td>NaN</td>\n",
       "      <td>lightcoral</td>\n",
       "      <td>#F08080</td>\n",
       "      <td>rgb(240,128,128)</td>\n",
       "    </tr>\n",
       "    <tr>\n",
       "      <th>5</th>\n",
       "      <td>5</td>\n",
       "      <td>NaN</td>\n",
       "      <td>coral</td>\n",
       "      <td>#FF7F50</td>\n",
       "      <td>rgb(255,127,80)</td>\n",
       "    </tr>\n",
       "    <tr>\n",
       "      <th>6</th>\n",
       "      <td>6</td>\n",
       "      <td>NaN</td>\n",
       "      <td>tomato</td>\n",
       "      <td>#FF6347</td>\n",
       "      <td>rgb(255,99,71)</td>\n",
       "    </tr>\n",
       "    <tr>\n",
       "      <th>7</th>\n",
       "      <td>7</td>\n",
       "      <td>NaN</td>\n",
       "      <td>orangered</td>\n",
       "      <td>#FF4500</td>\n",
       "      <td>rgb(255,69,0)</td>\n",
       "    </tr>\n",
       "    <tr>\n",
       "      <th>8</th>\n",
       "      <td>8</td>\n",
       "      <td>NaN</td>\n",
       "      <td>gold</td>\n",
       "      <td>#FFD700</td>\n",
       "      <td>rgb(255,215,0)</td>\n",
       "    </tr>\n",
       "    <tr>\n",
       "      <th>9</th>\n",
       "      <td>9</td>\n",
       "      <td>NaN</td>\n",
       "      <td>orange</td>\n",
       "      <td>#FFA500</td>\n",
       "      <td>rgb(255,165,0)</td>\n",
       "    </tr>\n",
       "    <tr>\n",
       "      <th>10</th>\n",
       "      <td>10</td>\n",
       "      <td>NaN</td>\n",
       "      <td>darkorange</td>\n",
       "      <td>#FF8C00</td>\n",
       "      <td>rgb(255,140,0)</td>\n",
       "    </tr>\n",
       "    <tr>\n",
       "      <th>11</th>\n",
       "      <td>11</td>\n",
       "      <td>NaN</td>\n",
       "      <td>lightyellow</td>\n",
       "      <td>#FFFFE0</td>\n",
       "      <td>rgb(255,255,224)</td>\n",
       "    </tr>\n",
       "    <tr>\n",
       "      <th>12</th>\n",
       "      <td>12</td>\n",
       "      <td>NaN</td>\n",
       "      <td>lemonchiffon</td>\n",
       "      <td>#FFFACD</td>\n",
       "      <td>rgb(255,250,205)</td>\n",
       "    </tr>\n",
       "    <tr>\n",
       "      <th>13</th>\n",
       "      <td>13</td>\n",
       "      <td>NaN</td>\n",
       "      <td>papayawhip</td>\n",
       "      <td>#FFEFD5</td>\n",
       "      <td>rgb(255,239,213)</td>\n",
       "    </tr>\n",
       "    <tr>\n",
       "      <th>14</th>\n",
       "      <td>14</td>\n",
       "      <td>NaN</td>\n",
       "      <td>moccasin</td>\n",
       "      <td>#FFE4B5</td>\n",
       "      <td>rgb(255,228,181)</td>\n",
       "    </tr>\n",
       "    <tr>\n",
       "      <th>15</th>\n",
       "      <td>15</td>\n",
       "      <td>NaN</td>\n",
       "      <td>peachpuff</td>\n",
       "      <td>#FFDAB9</td>\n",
       "      <td>rgb(255,218,185)</td>\n",
       "    </tr>\n",
       "    <tr>\n",
       "      <th>16</th>\n",
       "      <td>16</td>\n",
       "      <td>NaN</td>\n",
       "      <td>palegoldenrod</td>\n",
       "      <td>#EEE8AA</td>\n",
       "      <td>rgb(238,232,170)</td>\n",
       "    </tr>\n",
       "    <tr>\n",
       "      <th>17</th>\n",
       "      <td>17</td>\n",
       "      <td>NaN</td>\n",
       "      <td>khaki</td>\n",
       "      <td>#F0E68C</td>\n",
       "      <td>rgb(240,230,140)</td>\n",
       "    </tr>\n",
       "    <tr>\n",
       "      <th>18</th>\n",
       "      <td>18</td>\n",
       "      <td>NaN</td>\n",
       "      <td>darkkhaki</td>\n",
       "      <td>#BDB76B</td>\n",
       "      <td>rgb(189,183,107)</td>\n",
       "    </tr>\n",
       "    <tr>\n",
       "      <th>19</th>\n",
       "      <td>19</td>\n",
       "      <td>NaN</td>\n",
       "      <td>yellow</td>\n",
       "      <td>#FFFF00</td>\n",
       "      <td>rgb(255,255,0)</td>\n",
       "    </tr>\n",
       "    <tr>\n",
       "      <th>20</th>\n",
       "      <td>20</td>\n",
       "      <td>NaN</td>\n",
       "      <td>lawngreen</td>\n",
       "      <td>#7CFC00</td>\n",
       "      <td>rgb(124,252,0)</td>\n",
       "    </tr>\n",
       "    <tr>\n",
       "      <th>21</th>\n",
       "      <td>21</td>\n",
       "      <td>NaN</td>\n",
       "      <td>chartreuse</td>\n",
       "      <td>#7FFF00</td>\n",
       "      <td>rgb(127,255,0)</td>\n",
       "    </tr>\n",
       "    <tr>\n",
       "      <th>22</th>\n",
       "      <td>22</td>\n",
       "      <td>NaN</td>\n",
       "      <td>limegreen</td>\n",
       "      <td>#32CD32</td>\n",
       "      <td>rgb(50,205,50)</td>\n",
       "    </tr>\n",
       "    <tr>\n",
       "      <th>23</th>\n",
       "      <td>23</td>\n",
       "      <td>NaN</td>\n",
       "      <td>lime</td>\n",
       "      <td>#00FF00</td>\n",
       "      <td>rgb(0.255.0)</td>\n",
       "    </tr>\n",
       "    <tr>\n",
       "      <th>24</th>\n",
       "      <td>24</td>\n",
       "      <td>NaN</td>\n",
       "      <td>forestgreen</td>\n",
       "      <td>#228B22</td>\n",
       "      <td>rgb(34,139,34)</td>\n",
       "    </tr>\n",
       "    <tr>\n",
       "      <th>25</th>\n",
       "      <td>25</td>\n",
       "      <td>NaN</td>\n",
       "      <td>green</td>\n",
       "      <td>#008000</td>\n",
       "      <td>rgb(0,128,0)</td>\n",
       "    </tr>\n",
       "    <tr>\n",
       "      <th>26</th>\n",
       "      <td>26</td>\n",
       "      <td>NaN</td>\n",
       "      <td>powderblue</td>\n",
       "      <td>#B0E0E6</td>\n",
       "      <td>rgb(176,224,230)</td>\n",
       "    </tr>\n",
       "    <tr>\n",
       "      <th>27</th>\n",
       "      <td>27</td>\n",
       "      <td>NaN</td>\n",
       "      <td>lightblue</td>\n",
       "      <td>#ADD8E6</td>\n",
       "      <td>rgb(173,216,230)</td>\n",
       "    </tr>\n",
       "    <tr>\n",
       "      <th>28</th>\n",
       "      <td>28</td>\n",
       "      <td>NaN</td>\n",
       "      <td>lightskyblue</td>\n",
       "      <td>#87CEFA</td>\n",
       "      <td>rgb(135,206,250)</td>\n",
       "    </tr>\n",
       "    <tr>\n",
       "      <th>29</th>\n",
       "      <td>29</td>\n",
       "      <td>NaN</td>\n",
       "      <td>skyblue</td>\n",
       "      <td>#87CEEB</td>\n",
       "      <td>rgb(135,206,235)</td>\n",
       "    </tr>\n",
       "    <tr>\n",
       "      <th>30</th>\n",
       "      <td>30</td>\n",
       "      <td>NaN</td>\n",
       "      <td>deepskyblue</td>\n",
       "      <td>#00BFFF</td>\n",
       "      <td>rgb(0,191,255)</td>\n",
       "    </tr>\n",
       "    <tr>\n",
       "      <th>31</th>\n",
       "      <td>31</td>\n",
       "      <td>NaN</td>\n",
       "      <td>lightsteelblue</td>\n",
       "      <td>#B0C4DE</td>\n",
       "      <td>rgb(176,196,222)</td>\n",
       "    </tr>\n",
       "    <tr>\n",
       "      <th>32</th>\n",
       "      <td>32</td>\n",
       "      <td>NaN</td>\n",
       "      <td>dodgerblue</td>\n",
       "      <td>#1E90FF</td>\n",
       "      <td>rgb(30,144,255)</td>\n",
       "    </tr>\n",
       "  </tbody>\n",
       "</table>\n",
       "</div>"
      ],
      "text/plain": [
       "         0      1               2                 3                     4\n",
       "0   Number  Color      Color Name  Hex Code #RRGGBB  Decimal Code (R,G,B)\n",
       "1        1    NaN     lightsalmon           #FFA07A      rgb(255,160,122)\n",
       "2        2    NaN          salmon           #FA8072      rgb(250,128,114)\n",
       "3        3    NaN      darksalmon           #E9967A      rgb(233,150,122)\n",
       "4        4    NaN      lightcoral           #F08080      rgb(240,128,128)\n",
       "5        5    NaN           coral           #FF7F50       rgb(255,127,80)\n",
       "6        6    NaN          tomato           #FF6347        rgb(255,99,71)\n",
       "7        7    NaN       orangered           #FF4500         rgb(255,69,0)\n",
       "8        8    NaN            gold           #FFD700        rgb(255,215,0)\n",
       "9        9    NaN          orange           #FFA500        rgb(255,165,0)\n",
       "10      10    NaN      darkorange           #FF8C00        rgb(255,140,0)\n",
       "11      11    NaN     lightyellow           #FFFFE0      rgb(255,255,224)\n",
       "12      12    NaN    lemonchiffon           #FFFACD      rgb(255,250,205)\n",
       "13      13    NaN      papayawhip           #FFEFD5      rgb(255,239,213)\n",
       "14      14    NaN        moccasin           #FFE4B5      rgb(255,228,181)\n",
       "15      15    NaN       peachpuff           #FFDAB9      rgb(255,218,185)\n",
       "16      16    NaN   palegoldenrod           #EEE8AA      rgb(238,232,170)\n",
       "17      17    NaN           khaki           #F0E68C      rgb(240,230,140)\n",
       "18      18    NaN       darkkhaki           #BDB76B      rgb(189,183,107)\n",
       "19      19    NaN          yellow           #FFFF00        rgb(255,255,0)\n",
       "20      20    NaN       lawngreen           #7CFC00        rgb(124,252,0)\n",
       "21      21    NaN      chartreuse           #7FFF00        rgb(127,255,0)\n",
       "22      22    NaN       limegreen           #32CD32        rgb(50,205,50)\n",
       "23      23    NaN            lime           #00FF00          rgb(0.255.0)\n",
       "24      24    NaN     forestgreen           #228B22        rgb(34,139,34)\n",
       "25      25    NaN           green           #008000          rgb(0,128,0)\n",
       "26      26    NaN      powderblue           #B0E0E6      rgb(176,224,230)\n",
       "27      27    NaN       lightblue           #ADD8E6      rgb(173,216,230)\n",
       "28      28    NaN    lightskyblue           #87CEFA      rgb(135,206,250)\n",
       "29      29    NaN         skyblue           #87CEEB      rgb(135,206,235)\n",
       "30      30    NaN     deepskyblue           #00BFFF        rgb(0,191,255)\n",
       "31      31    NaN  lightsteelblue           #B0C4DE      rgb(176,196,222)\n",
       "32      32    NaN      dodgerblue           #1E90FF       rgb(30,144,255)"
      ]
     },
     "execution_count": 120,
     "metadata": {},
     "output_type": "execute_result"
    }
   ],
   "source": [
    "tables[0]"
   ]
  },
  {
   "cell_type": "markdown",
   "id": "0889b98a-5a82-4141-ab8e-6b67c050be81",
   "metadata": {},
   "source": [
    "<hr>"
   ]
  },
  {
   "cell_type": "markdown",
   "id": "d8dae526-486e-4b48-8d35-65d196e71456",
   "metadata": {},
   "source": [
    "## Raspagem na Web"
   ]
  },
  {
   "cell_type": "markdown",
   "id": "330486e7-76ca-4803-a95c-bc5e590701af",
   "metadata": {},
   "source": [
    "A raspagem da Web envolve a extração de informações de páginas da web usando Python. Pode economizar tempo e automatizar a coleta de dados."
   ]
  },
  {
   "cell_type": "markdown",
   "id": "d869a5d8-2f0e-4cd1-a0e4-d00af7350ccf",
   "metadata": {},
   "source": [
    "### Ferramentas necessárias"
   ]
  },
  {
   "cell_type": "markdown",
   "id": "0311106d-cec2-4566-9a28-b8b7ada05fc1",
   "metadata": {},
   "source": [
    "A raspagem da Web requer código Python e dois módulos essenciais: Requests e Beautiful Soup. Certifique-se de ter ambos os módulos instalados no seu ambiente Python."
   ]
  },
  {
   "cell_type": "code",
   "execution_count": 122,
   "id": "9e9b7c04-11af-4bf0-b072-4f658f4bbf24",
   "metadata": {
    "tags": []
   },
   "outputs": [],
   "source": [
    "# Import Beautiful Soup to parse the web page content\n",
    "from bs4 import BeautifulSoup"
   ]
  },
  {
   "cell_type": "markdown",
   "id": "4eb8ffea-730c-47f2-be08-0f8ea9c475cb",
   "metadata": {},
   "source": [
    "### Obtendo e anarsando HTML"
   ]
  },
  {
   "cell_type": "markdown",
   "id": "f836d444-92f6-43d1-a729-28d6d1d3c58f",
   "metadata": {},
   "source": [
    "Para iniciar a raspagem da web, você precisa buscar o conteúdo HTML de uma página da web e analisá-la usando a Beautiful Soup. Aqui está um exemplo passo a passo:"
   ]
  },
  {
   "cell_type": "code",
   "execution_count": 123,
   "id": "93a87190-2de2-4608-af2e-c32305f67881",
   "metadata": {
    "tags": []
   },
   "outputs": [
    {
     "name": "stdout",
     "output_type": "stream",
     "text": [
      "<!DOCTYPE html>\n",
      "<html class=\"client-nojs vector-feature-language-in-header-enabled vector-feature-language-in-main-page-header-disabled vector-feature-sticky-header-disabled vector-feature-page-tools-pinned-disabled vector-feature-toc-pinned-clientpref-1 vector-feature-main-menu-pinned-disabled vector-feature-limited-width-clientpref-1 vector-feature-limited-width-content-enabled vector-feature-custom-font-size-clientpref-0 vector-feature-client-preferences-disabled vector-feature-client-prefs-p\n"
     ]
    }
   ],
   "source": [
    "import requests\n",
    "from bs4 import BeautifulSoup\n",
    "\n",
    "# Specify the URL of the webpage you want to scrape\n",
    "url = 'https://en.wikipedia.org/wiki/IBM'\n",
    "\n",
    "# Send an HTTP GET request to the webpage\n",
    "response = requests.get(url)\n",
    "\n",
    "# Store the HTML content in a variable\n",
    "html_content = response.text\n",
    "\n",
    "# Create a BeautifulSoup object to parse the HTML\n",
    "soup = BeautifulSoup(html_content, 'html.parser')\n",
    "\n",
    "# Display a snippet of the HTML content\n",
    "print(html_content[:500])"
   ]
  },
  {
   "cell_type": "markdown",
   "id": "35bea8e0-9f92-4dd5-b58d-4e67a6fe0e54",
   "metadata": {},
   "source": [
    "### Navegando pela estrutura HTML"
   ]
  },
  {
   "cell_type": "markdown",
   "id": "27cd0924-a2b8-4cb2-8e98-499643aefa5f",
   "metadata": {},
   "source": [
    "BeautifulSoup representa conteúdo HTML como uma estrutura semelhante a uma árvore, permitindo uma navegação fácil. Você pode usar métodos como find_all para filtrar e extrair elementos HTML específicos. Por exemplo, para encontrar todas as tags âncora () e imprimir seu texto:"
   ]
  },
  {
   "cell_type": "code",
   "execution_count": 125,
   "id": "e8ce3136-f76f-4e68-84f6-c4592f0a666e",
   "metadata": {
    "tags": []
   },
   "outputs": [
    {
     "name": "stdout",
     "output_type": "stream",
     "text": [
      "Jump to content\n",
      "Main page\n",
      "Contents\n",
      "Current events\n",
      "Random article\n",
      "About Wikipedia\n",
      "Contact us\n",
      "Donate\n",
      "Help\n",
      "Learn to edit\n",
      "Community portal\n",
      "Recent changes\n",
      "Upload file\n",
      "\n",
      "\n",
      "\n",
      "\n",
      "\n",
      "\n",
      "\n",
      "\n",
      "Search\n",
      "\n",
      "Create account\n",
      "Log in\n",
      " Create account\n",
      " Log in\n",
      "learn more\n",
      "Contributions\n",
      "Talk\n",
      "\n",
      "(Top)\n",
      "\n",
      "\n",
      "\n",
      "1History\n",
      "\n",
      "\n",
      "\n",
      "2Headquarters and offices\n",
      "\n",
      "\n",
      "\n",
      "3Finance\n",
      "\n",
      "\n",
      "\n",
      "4Products and services\n",
      "\n",
      "\n",
      "\n",
      "5Research\n",
      "\n",
      "\n",
      "\n",
      "6Brand and reputation\n",
      "\n",
      "\n",
      "\n",
      "7People and culture\n",
      "\n",
      "\n",
      "\n",
      "7.1Employees\n",
      "\n",
      "\n",
      "\n",
      "7.1.1IBM alumni\n",
      "\n",
      "\n",
      "\n",
      "7.2Board and shareholders\n",
      "\n",
      "\n",
      "\n",
      "8See also\n",
      "\n",
      "\n",
      "\n",
      "9References\n",
      "\n",
      "\n",
      "\n",
      "10Further reading\n",
      "\n",
      "\n",
      "\n",
      "11External links\n",
      "\n",
      "Afrikaans\n",
      "Alemannisch\n",
      "العربية\n",
      "Asturianu\n",
      "Azərbaycanca\n",
      "تۆرکجه\n",
      "বাংলা\n",
      "Bân-lâm-gú\n",
      "Башҡортса\n",
      "Беларуская\n",
      "Беларуская (тарашкевіца)\n",
      "Български\n",
      "Bosanski\n",
      "Català\n",
      "Чӑвашла\n",
      "Čeština\n",
      "Dansk\n",
      "Deutsch\n",
      "Eesti\n",
      "Ελληνικά\n",
      "Español\n",
      "Esperanto\n",
      "Euskara\n",
      "فارسی\n",
      "Français\n",
      "Gaeilge\n",
      "Galego\n",
      "Gĩkũyũ\n",
      "한국어\n",
      "Հայերեն\n",
      "हिन्दी\n",
      "Hrvatski\n",
      "Ido\n",
      "Bahasa Indonesia\n",
      "Interlingue\n",
      "Íslenska\n",
      "Italiano\n",
      "עברית\n",
      "Jawa\n",
      "ಕನ್ನಡ\n",
      "ქართული\n",
      "Қазақша\n",
      "Kiswahili\n",
      "Kurdî\n",
      "Кыргызча\n",
      "Latina\n",
      "Latviešu\n",
      "Lëtzebuergesch\n",
      "Lietuvių\n",
      "Magyar\n",
      "मैथिली\n",
      "Македонски\n",
      "മലയാളം\n",
      "मराठी\n",
      "مصرى\n",
      "Bahasa Melayu\n",
      "Монгол\n",
      "Nederlands\n",
      "नेपाली\n",
      "日本語\n",
      "Norsk bokmål\n",
      "Norsk nynorsk\n",
      "Occitan\n",
      "ଓଡ଼ିଆ\n",
      "Oʻzbekcha / ўзбекча\n",
      "ਪੰਜਾਬੀ\n",
      "پنجابی\n",
      "Piemontèis\n",
      "Polski\n",
      "Português\n",
      "Qaraqalpaqsha\n",
      "Română\n",
      "Runa Simi\n",
      "Русский\n",
      "Саха тыла\n",
      "Scots\n",
      "Shqip\n",
      "සිංහල\n",
      "Simple English\n",
      "Slovenčina\n",
      "Slovenščina\n",
      "کوردی\n",
      "Српски / srpski\n",
      "Srpskohrvatski / српскохрватски\n",
      "Suomi\n",
      "Svenska\n",
      "Tagalog\n",
      "தமிழ்\n",
      "Татарча / tatarça\n",
      "ไทย\n",
      "Тоҷикӣ\n",
      "Türkçe\n",
      "Українська\n",
      "اردو\n",
      "Tiếng Việt\n",
      "Winaray\n",
      "吴语\n",
      "ייִדיש\n",
      "粵語\n",
      "中文\n",
      "Edit links\n",
      "Article\n",
      "Talk\n",
      "Read\n",
      "Edit\n",
      "View history\n",
      "Read\n",
      "Edit\n",
      "View history\n",
      "What links here\n",
      "Related changes\n",
      "Upload file\n",
      "Special pages\n",
      "Permanent link\n",
      "Page information\n",
      "Cite this page\n",
      "Get shortened URL\n",
      "Download QR code\n",
      "Wikidata item\n",
      "Download as PDF\n",
      "Printable version\n",
      "Wikimedia Commons\n",
      "Wikinews\n",
      "Wikiquote\n",
      "IBM (disambiguation)\n",
      "Big Blue (disambiguation)\n",
      "\n",
      "Paul Rand\n",
      "Trade name\n",
      "Computing-Tabulating-Recording Company\n",
      "Public\n",
      "Traded as\n",
      "NYSE\n",
      "IBM\n",
      "DJIA\n",
      "S&P 100\n",
      "S&P 500\n",
      "ISIN\n",
      "Information technology\n",
      "Bundy Manufacturing Company\n",
      "Computing Scale Company of America\n",
      "International Time Recording Company\n",
      "Tabulating Machine Company\n",
      "Computing-Tabulating-Recording Company\n",
      "Computing-Tabulating-Recording Company\n",
      "Endicott, New York\n",
      "[1]\n",
      "George Winthrop Fairchild\n",
      "Charles Ranlett Flint\n",
      "Herman Hollerith\n",
      "Armonk, New York\n",
      "Arvind Krishna\n",
      "chairman\n",
      "CEO\n",
      "[2]\n",
      "[3]\n",
      "Gary Cohn\n",
      "vice chairman\n",
      "[4]\n",
      "Automation\n",
      "Robotics\n",
      "Artificial intelligence\n",
      "Cloud computing\n",
      "Consulting\n",
      "Blockchain\n",
      "Computer hardware\n",
      "Software\n",
      "Quantum computing\n",
      "IBM Cloud\n",
      "IBM Cognos Analytics\n",
      "IBM Planning Analytics\n",
      "SQL\n",
      "Watson\n",
      "Information Management Software\n",
      "SPSS\n",
      "ILOG\n",
      "Tivoli Software\n",
      "WebSphere\n",
      "alphaWorks\n",
      "Mashup Center\n",
      "PureQuery\n",
      "Fortran\n",
      "IBM Quantum Experience\n",
      "Mainframe\n",
      "Power Systems\n",
      "IBM storage\n",
      "IBM Q System One\n",
      "Full List\n",
      "Outsourcing\n",
      "Professional services\n",
      "Managed services\n",
      "US$\n",
      "FY\n",
      "Operating income\n",
      "Net income\n",
      "Total assets\n",
      "Total equity\n",
      "[5]\n",
      "Subsidiaries\n",
      "List of subsidiaries\n",
      "www.ibm.com\n",
      "\n",
      "[6]\n",
      "trademark\n",
      "[7]\n",
      "multinational\n",
      "technology company\n",
      "Armonk, New York\n",
      "[8]\n",
      "[9]\n",
      "[10]\n",
      "[11]\n",
      "[12]\n",
      "Computing-Tabulating-Recording Company\n",
      "holding company\n",
      "punch-card tabulating systems\n",
      "IBM mainframe\n",
      "System/360\n",
      "computing platform\n",
      "[13]\n",
      "microcomputer\n",
      "IBM Personal Computer\n",
      "PC\n",
      "[14]\n",
      "[15]\n",
      "intellectual property\n",
      "commodity production\n",
      "Lenovo Group\n",
      "supercomputers\n",
      "consistently ranked\n",
      "[13]\n",
      "[16]\n",
      "automated teller machine\n",
      "dynamic random-access memory\n",
      "floppy disk\n",
      "hard disk drive\n",
      "magnetic stripe card\n",
      "relational database\n",
      "SQL programming language\n",
      "UPC barcode\n",
      "[17]\n",
      "[18]\n",
      "[19]\n",
      "[20]\n",
      "publicly traded company\n",
      "Dow Jones Industrial Average\n",
      "world's largest employers\n",
      "[21]\n",
      "[22]\n",
      "[update]\n",
      "Fortune 500\n",
      "[21]\n",
      "[23]\n",
      "edit\n",
      "History of IBM\n",
      "[24]\n",
      "[25]\n",
      "Herman Hollerith\n",
      "Electric Tabulating Machine\n",
      "[26]\n",
      "Willard Bundy\n",
      "time clock\n",
      "[27]\n",
      "amalgamated\n",
      "Charles Ranlett Flint\n",
      "Computing-Tabulating-Recording Company\n",
      "[1]\n",
      "[28]\n",
      "Binghamton\n",
      "Dayton, Ohio\n",
      "Detroit, Michigan\n",
      "Washington, D.C.\n",
      "Toronto\n",
      "citation needed\n",
      "Thomas J. Watson, Sr.\n",
      "National Cash Register Company\n",
      "John Henry Patterson\n",
      "[29]\n",
      "antitrust\n",
      "[30]\n",
      "[31]\n",
      "[32]\n",
      "[33]\n",
      "THINK\n",
      "[32]\n",
      "[32]\n",
      "[34]\n",
      "[35]\n",
      "[36]\n",
      "\n",
      "NACA\n",
      "IBM type 704\n",
      "Nazis\n",
      "Dehomag\n",
      "Holocaust\n",
      "[37]\n",
      "[38]\n",
      "M1 Carbine\n",
      "Automatic Sequence Controlled Calculator\n",
      "IBM 701\n",
      "IBM 305 RAMAC\n",
      "7000\n",
      "1400\n",
      "artificial intelligence\n",
      "Arthur L. Samuel\n",
      "Poughkeepsie\n",
      "IBM 704\n",
      "FORTRAN\n",
      "SABRE reservation system\n",
      "American Airlines\n",
      "Selectric\n",
      "\n",
      "IBM System/360\n",
      "University of Michigan\n",
      "\n",
      "Saturn V Instrument Unit\n",
      "IBM System/360\n",
      "IBM System/370\n",
      "IBM mainframe\n",
      "mainframe computer\n",
      "OS/VS1\n",
      "MVS\n",
      "CICS\n",
      "[39]\n",
      "Sherman Antitrust Act\n",
      "[40]\n",
      "Forrest Parry\n",
      "magnetic stripe card\n",
      "George J. Laurer\n",
      "Universal Product Code\n",
      "[41]\n",
      "World Bank\n",
      "financial swaps\n",
      "[42]\n",
      "IBM PC\n",
      "[43]\n",
      "[44]\n",
      "AdStar\n",
      "Lexmark\n",
      "[45]\n",
      "Clayton & Dubilier\n",
      "leveraged buyout\n",
      "[46]\n",
      "[47]\n",
      "[48]\n",
      "[49]\n",
      "[50]\n",
      "Ambra Computer Corporation\n",
      "clone\n",
      "PowerPC\n",
      "workstations\n",
      "[51]\n",
      "[52]\n",
      "[53]\n",
      "Lou Gerstner\n",
      "RJR Nabisco\n",
      "[54]\n",
      "PwC\n",
      "PwC\n",
      "IBM Global Services\n",
      "[55]\n",
      "[56]\n",
      "\n",
      "hard-disk drive\n",
      "DRAM\n",
      "UPC bar code\n",
      "magnetic stripe card\n",
      "[57]\n",
      "Compaq\n",
      "Dell\n",
      "[58]\n",
      "[59]\n",
      "LG\n",
      "South Korean\n",
      "[60]\n",
      "[61]\n",
      "[62]\n",
      "[63]\n",
      "Xnote\n",
      "[64]\n",
      "sold all of its personal computer business\n",
      "Lenovo\n",
      "[65]\n",
      "SPSS Inc.\n",
      "Blue Gene\n",
      "National Medal of Technology and Innovation\n",
      "Barack Obama\n",
      "Watson\n",
      "Jeopardy!\n",
      "Kenexa\n",
      "[66]\n",
      "web hosting service\n",
      "[67]\n",
      "Davao City\n",
      "[68]\n",
      "x86\n",
      "[69]\n",
      "Power ISA\n",
      "Apple Inc.\n",
      "[70]\n",
      "[71]\n",
      "[72]\n",
      "[73]\n",
      "Tencent\n",
      "[74]\n",
      "Cisco\n",
      "[75]\n",
      "UnderArmour\n",
      "[76]\n",
      "Box\n",
      "[77]\n",
      "Microsoft\n",
      "[78]\n",
      "VMware\n",
      "[79]\n",
      "CSC\n",
      "[80]\n",
      "Macy's\n",
      "[81]\n",
      "Sesame Workshop\n",
      "[82]\n",
      "Sesame Street\n",
      "Salesforce.com\n",
      "[83]\n",
      "[84]\n",
      "Cleversafe\n",
      "The Weather Company\n",
      "Weather.com\n",
      "[85]\n",
      "[86]\n",
      "A Boy and His Atom\n",
      "Ustream\n",
      "[87]\n",
      "[88]\n",
      "[89]\n",
      "Groupon\n",
      "[90]\n",
      "The Weather Company\n",
      "[91]\n",
      "Red Hat\n",
      "[92]\n",
      "[93]\n",
      "[94]\n",
      "[95]\n",
      "[96]\n",
      "Kyndryl\n",
      "[97]\n",
      "[98]\n",
      "[99]\n",
      "[100]\n",
      "[101]\n",
      "[102]\n",
      "[103]\n",
      "[104]\n",
      "Russian invasion of Ukraine\n",
      "[105]\n",
      "[106]\n",
      "[107]\n",
      "[108]\n",
      "[109]\n",
      "Software AG\n",
      "webMethods\n",
      "[110]\n",
      "edit\n",
      "\n",
      "Armonk, New York\n",
      "\n",
      "Armonk, New York\n",
      "[111]\n",
      "[112]\n",
      "[113]\n",
      "[114]\n",
      "[115]\n",
      "[update]\n",
      "[2]\n",
      "IBM Watson\n",
      "Astor Place\n",
      "Austin, Texas\n",
      "Research Triangle Park (Raleigh-Durham), North Carolina\n",
      "Rochester, Minnesota\n",
      "Silicon Valley, California\n",
      "1250 René-Lévesque\n",
      "One Atlantic Center\n",
      "Pangu Plaza\n",
      "[116]\n",
      "Beijing National Stadium (\"Bird's Nest\")\n",
      "2008 Summer Olympics\n",
      "IBM India Private Limited\n",
      "Bangalore\n",
      "Coimbatore\n",
      "Chennai\n",
      "Kochi\n",
      "Ahmedabad\n",
      "Delhi\n",
      "Kolkata\n",
      "Mumbai\n",
      "Pune\n",
      "Gurugram\n",
      "Noida\n",
      "Bhubaneshwar\n",
      "Surat\n",
      "Visakhapatnam\n",
      "Hyderabad\n",
      "Bangalore\n",
      "Jamshedpur\n",
      "IBM Rome Software Lab\n",
      "Hursley House\n",
      "330 North Wabash\n",
      "Cambridge Scientific Center\n",
      "IBM Toronto Software Lab\n",
      "IBM Building (Seattle)\n",
      "IBM Hakozaki Facility\n",
      "IBM Yamato Facility\n",
      "IBM Canada Head Office Building\n",
      "[117]\n",
      "IBM Somers Office Complex\n",
      "Spango Valley\n",
      "Tour Descartes\n",
      "Marcel Breuer\n",
      "Eero Saarinen\n",
      "Ludwig Mies van der Rohe\n",
      "I.M. Pei\n",
      "Ricardo Legorreta\n",
      "Honor Award\n",
      "National Building Museum\n",
      "[118]\n",
      "United States Environmental Protection Agency\n",
      "Fortune 500\n",
      "commuter\n",
      "[119]\n",
      "Endicott, New York\n",
      "[120]\n",
      "[121]\n",
      "edit\n",
      "Kyndryl\n",
      "[122]\n",
      "[123]\n",
      "Fortune 500\n",
      "[124]\n",
      "[125]\n",
      "[126]\n",
      "[127]\n",
      "edit\n",
      "List of IBM products\n",
      "\n",
      "Blue Gene\n",
      "National Medal of Technology and Innovation\n",
      "[update]\n",
      "cloud computing\n",
      "analytics\n",
      "Internet of things\n",
      "[128]\n",
      "IT infrastructure\n",
      "mobile\n",
      "[129]\n",
      "cybersecurity\n",
      "[130]\n",
      "IBM Cloud\n",
      "infrastructure as a service\n",
      "software as a service\n",
      "platform as a service\n",
      "cloud delivery models\n",
      "Bluemix\n",
      "SoftLayer\n",
      "dedicated server\n",
      "managed hosting\n",
      "cloud computing\n",
      "[131]\n",
      "cryptographic splitting\n",
      "[132]\n",
      "[133]\n",
      "Hardware\n",
      "Power microprocessors\n",
      "Xbox 360\n",
      "[134]\n",
      "PlayStation 3\n",
      "Nintendo\n",
      "Wii U\n",
      "[135]\n",
      "[136]\n",
      "Secure Blue\n",
      "[137]\n",
      "TrueNorth\n",
      "neuromorphic\n",
      "CMOS\n",
      "integrated circuit\n",
      "[138]\n",
      "all-flash arrays\n",
      "[139]\n",
      "IT outsourcing\n",
      "data centers\n",
      "[140]\n",
      "IBM Developer\n",
      "SPSS\n",
      "statistical analysis\n",
      "Kenexa\n",
      "retention\n",
      "buzzword\n",
      "BrassRing\n",
      "[141]\n",
      "The Weather Company\n",
      "weather.com\n",
      "Weather Underground\n",
      "[142]\n",
      "Smarter Planet\n",
      "sustainable development\n",
      "[143]\n",
      "[144]\n",
      "smart grids\n",
      "[145]\n",
      "water management\n",
      "[146]\n",
      "[147]\n",
      "[148]\n",
      "developerWorks\n",
      "software developers\n",
      "[149]\n",
      "IBM Watson\n",
      "natural language processing\n",
      "unstructured data\n",
      "[150]\n",
      "Jeopardy!\n",
      "Ken Jennings\n",
      "Brad Rutter\n",
      "Memorial Sloan Kettering Cancer Center\n",
      "oncology\n",
      "melanoma\n",
      "[151]\n",
      "[152]\n",
      "\n",
      "IBM Q System One\n",
      "IBM Q System One\n",
      "[153]\n",
      "New York City Police Department\n",
      "IBM Cognos Analytics\n",
      "CompStat\n",
      "[154]\n",
      "[155]\n",
      "[156]\n",
      "[157]\n",
      "Amazon Web Services\n",
      "[158]\n",
      "[159]\n",
      "Lexmark\n",
      "ThinkPad\n",
      "ThinkCentre\n",
      "Lenovo\n",
      "fabless\n",
      "semiconductors\n",
      "GlobalFoundries\n",
      "Kyndryl\n",
      "[160]\n",
      "[161]\n",
      "Turbonomic\n",
      "[162]\n",
      "Watson Health\n",
      "Francisco Partners\n",
      "[163]\n",
      "Rapidus\n",
      "[164]\n",
      "[165]\n",
      "edit\n",
      "\n",
      "Thomas J. Watson Research Center\n",
      "Yorktown Heights, New York\n",
      "\n",
      "IBM Fellow\n",
      "Benoit Mandelbrot\n",
      "fractal geometry\n",
      "Columbia University\n",
      "IBM Research\n",
      "[166]\n",
      "Thomas J. Watson Research Center\n",
      "Almaden lab\n",
      "Australia lab\n",
      "Brazil lab\n",
      "Haifa lab\n",
      "Bangalore\n",
      "Tokyo lab\n",
      "Zurichlab\n",
      "Nairobi\n",
      "R&D\n",
      "[167]\n",
      "Watson\n",
      "[168]\n",
      "Open Source Initiative\n",
      "Linux\n",
      "[169]\n",
      "Linux Technology Center\n",
      "Linux kernel\n",
      "[170]\n",
      "open-source licenses\n",
      "platform-independent\n",
      "software framework\n",
      "Eclipse\n",
      "[171]\n",
      "ICU\n",
      "Java\n",
      "relational database management system\n",
      "Apache Derby\n",
      "open source\n",
      "SCO v. IBM\n",
      "inventions\n",
      "automated teller machine (ATM)\n",
      "dynamic random access memory (DRAM)\n",
      "electronic keypunch\n",
      "financial swap\n",
      "floppy disk\n",
      "hard disk drive\n",
      "magnetic stripe card\n",
      "relational database\n",
      "RISC\n",
      "SABRE airline reservation system\n",
      "SQL\n",
      "Universal Product Code (UPC)\n",
      "virtual machine\n",
      "scanning tunneling microscope\n",
      "individual xenon atoms\n",
      "[172]\n",
      "patents\n",
      "patents\n",
      "[10]\n",
      "Leo Esaki\n",
      "Gerd Binnig\n",
      "Heinrich Rohrer\n",
      "scanning tunneling microscope\n",
      "[173]\n",
      "Georg Bednorz\n",
      "Alex Müller\n",
      "superconductivity\n",
      "Turing Award\n",
      "Frances E. Allen\n",
      "[174]\n",
      "National Medals of Technology (USA)\n",
      "National Medals of Science (USA)\n",
      "edit\n",
      "\n",
      "John F. Kennedy International Airport\n",
      "[175]\n",
      "[176]\n",
      "dress code\n",
      "[175]\n",
      "[177]\n",
      "graphic designer\n",
      "Paul Rand\n",
      "[178]\n",
      "Helvetica\n",
      "IBM Plex\n",
      "Masters Tournament\n",
      "major championships\n",
      "iPhone\n",
      "[179]\n",
      "Ginni Rometty\n",
      "Augusta National Golf Club\n",
      "[180]\n",
      "U.S. Open\n",
      "Wimbledon\n",
      "[181]\n",
      "Olympic Games\n",
      "[182]\n",
      "National Football League\n",
      "[183]\n",
      "[184]\n",
      "Fortune\n",
      "green company\n",
      "Newsweek\n",
      "[185]\n",
      "Barron's\n",
      "[186]\n",
      "Fortune\n",
      "Fast Company\n",
      "technology consulting\n",
      "Vault\n",
      "[187]\n",
      "[188]\n",
      "Drucker Institute\n",
      "[189]\n",
      "2022 Russian invasion of Ukraine\n",
      "Polish Humanitarian Action\n",
      "People in Need\n",
      "[190]\n",
      "ESG\n",
      "CO2e emissions\n",
      "[191]\n",
      "[192]\n",
      "edit\n",
      "edit\n",
      "IBM and unions\n",
      "List of IBM CEOs\n",
      "\n",
      "\n",
      "IBM Watson\n",
      "Jeopardy!\n",
      "group life insurance\n",
      "Thomas J. Watson, Jr.\n",
      "Brown vs. Board of Education\n",
      "Civil Rights Act of 1964\n",
      "Human Rights Campaign\n",
      "[193]\n",
      "health benefits\n",
      "genetic information\n",
      "Working Mother\n",
      "[194]\n",
      "human resources\n",
      "[195]\n",
      "humanitarian work\n",
      "[196]\n",
      "interns\n",
      "Extreme Blue\n",
      "[197]\n",
      "[198]\n",
      "Master Inventor\n",
      "IBM Fellow\n",
      "[199]\n",
      "Louis V. Gerstner Jr.\n",
      "[200]\n",
      "[201]\n",
      "[202]\n",
      "[203]\n",
      "[204]\n",
      "unions represent some IBM workers\n",
      "[205]\n",
      "American football\n",
      "X-League\n",
      "Big Blue\n",
      "[206]\n",
      "Mac\n",
      "PC\n",
      "Linux distribution\n",
      "[207]\n",
      "[208]\n",
      "edit\n",
      "Apple Inc.\n",
      "Tim Cook\n",
      "[209]\n",
      "EDS\n",
      "Ross Perot\n",
      "Microsoft\n",
      "John W. Thompson\n",
      "SAP\n",
      "Hasso Plattner\n",
      "Gartner\n",
      "Gideon Gartner\n",
      "Advanced Micro Devices (AMD)\n",
      "Lisa Su\n",
      "[210]\n",
      "Cadence Design Systems\n",
      "Anirudh Devgan\n",
      "[211]\n",
      "Citizens Financial Group\n",
      "Ellen Alemany\n",
      "Yahoo!\n",
      "Alfred Amoroso\n",
      "AT&T\n",
      "C. Michael Armstrong\n",
      "Xerox Corporation\n",
      "David T. Kearns\n",
      "G. Richard Thoman\n",
      "[212]\n",
      "Fair Isaac Corporation\n",
      "Mark N. Greene\n",
      "[213]\n",
      "Citrix Systems\n",
      "Ed Iacobucci\n",
      "Lenovo\n",
      "Steve Ward\n",
      "Teradata\n",
      "Kenneth Simonds\n",
      "Patricia Roberts Harris\n",
      "United States Secretary of Housing and Urban Development\n",
      "[214]\n",
      "Samuel K. Skinner\n",
      "U.S. Secretary of Transportation\n",
      "White House Chief of Staff\n",
      "Mack Mattingly\n",
      "Thom Tillis\n",
      "Scott Walker\n",
      "[215]\n",
      "Arthur K. Watson\n",
      "Todd Akin\n",
      "[216]\n",
      "Glenn Andrews\n",
      "Robert Garcia\n",
      "Katherine Harris\n",
      "[217]\n",
      "Amo Houghton\n",
      "Jim Ross Lightfoot\n",
      "Thomas J. Manton\n",
      "Donald W. Riegle Jr.\n",
      "Ed Zschau\n",
      "NASA\n",
      "Michael J. Massimino\n",
      "Canadian astronaut\n",
      "Governor General\n",
      "Julie Payette\n",
      "Dave Matthews\n",
      "[218]\n",
      "Harvey Mudd College\n",
      "Maria Klawe\n",
      "Western Governors University\n",
      "Robert Mendenhall\n",
      "University of Kentucky\n",
      "Lee T. Todd Jr.\n",
      "NFL\n",
      "Bill Carollo\n",
      "[219]\n",
      "Rangers F.C.\n",
      "John McClelland\n",
      "Nobel Prize in Literature\n",
      "J. M. Coetzee\n",
      "edit\n",
      "Anthem\n",
      "Dow Chemical\n",
      "Johnson and Johnson\n",
      "Royal Dutch Shell\n",
      "UPS\n",
      "Vanguard\n",
      "Cornell University\n",
      "U.S. Navy admiral\n",
      "[220]\n",
      "Warren Buffett\n",
      "holding company\n",
      "Berkshire Hathaway\n",
      "[221]\n",
      "[222]\n",
      "edit\n",
      "Companies portal\n",
      "IBM SkillsBuild\n",
      "List of electronics brands\n",
      "List of largest Internet companies\n",
      "List of largest manufacturing companies by revenue\n",
      "Tech companies in the New York City metropolitan region\n",
      "Top 100 US Federal Contractors\n",
      "Quantum Energy Teleportation\n",
      "edit\n",
      "a\n",
      "b\n",
      "Appendix to Hearings Before the Committee on Patents, House of Representatives, Seventy-Fourth Congress, on H. R. 4523, Part III\n",
      "archived\n",
      "a\n",
      "b\n",
      "\"IBM Is Blowing Up Its Annual Performance Review\"\n",
      "Archived\n",
      "^\n",
      "\"IBM – Arvind Krishna – Chief Executive Officer\"\n",
      "Archived\n",
      "^\n",
      "\"IBM Newsroom - Gary Cohn\"\n",
      "^\n",
      "\"IBM Reports 2022 Fourth-Quarter and Full-Year Results\"\n",
      "Archived\n",
      "^\n",
      "\"US SEC: Form 10-K IBM\"\n",
      "U.S. Securities and Exchange Commission\n",
      "^\n",
      "\"IBM100 - The Making of International Business Machines\"\n",
      "the original\n",
      "^\n",
      "\"Trust and responsibility. Earned and practiced daily\"\n",
      "^\n",
      "\"10-K\"\n",
      "Archived\n",
      "a\n",
      "b\n",
      "\"Top Patent Holders of 2020\"\n",
      "Archived\n",
      "^\n",
      "\"2021 Top 50 US Patent Assignees\"\n",
      "^\n",
      "\"Why IBM is no longer interested in breaking patent records–and how it plans to measure innovation in the age of open source and quantum computing\"\n",
      "Archived\n",
      "a\n",
      "b\n",
      "\"IBM | Founding, History, & Products | Britannica\"\n",
      "^\n",
      "ISBN\n",
      "0-470-86412-5\n",
      "^\n",
      "\"Origin of the IBM PC | Low End Mac\"\n",
      "^\n",
      "\"IBM Tops U.S. Patent List for 28th Consecutive Year with Innovations in Artificial Intelligence, Hybrid Cloud, Quantum Computing and Cyber-Security\"\n",
      "^\n",
      "\"IBM unveils new quantum computing chip to 'explore new frontiers of science'\"\n",
      "ISSN\n",
      "0261-3077\n",
      "^\n",
      "\"The Evolution Of AI: From IBM And AWS To OpenAI and Anthropic\"\n",
      "^\n",
      "\"IBM Realigns Its Storage Business To Match Data-Driven Enterprise Needs\"\n",
      "^\n",
      "\"About us\"\n",
      "a\n",
      "b\n",
      "\"Fortune 500\"\n",
      "^\n",
      "Schofield, Jack\n",
      "\"IBM shows growth after 22 straight quarters of declining revenues, but has it turned the corner?\"\n",
      "the original\n",
      "^\n",
      "\"IBM Brand Ranking | All Brand Rankings where IBM is listed!\"\n",
      "^\n",
      "Images of America: IBM in Endicott\n",
      "Arcadia Publishing\n",
      "ISBN\n",
      "0-7385-3700-4\n",
      "Archived\n",
      "^\n",
      "\"Dey dial recorder, early 20th century\"\n",
      "Archived\n",
      "^\n",
      "\"Hollerith 1890 Census Tabulator\"\n",
      "Columbia University\n",
      "Archived\n",
      "^\n",
      "\"Employee Punch Clocks\"\n",
      "the original\n",
      "^\n",
      "\"Tabulating Concerns Unite: Flint & Co. Bring Four Together with $19,000,000 capital\"\n",
      "Archived\n",
      "^\n",
      "The Lengthening Shadow: The Life of Thomas J. Watson\n",
      "89–93\n",
      "^\n",
      "ISBN\n",
      "978-1-000-87875-2\n",
      "^\n",
      "a\n",
      "b\n",
      "c\n",
      "\"Chronological History of IBM, 1910s\"\n",
      "Archived\n",
      "^\n",
      "Wherever Men Trade: The Romance of the Cash Register\n",
      "ISBN\n",
      "978-0-405-04713-8\n",
      "OCLC\n",
      "243101\n",
      "^\n",
      "^\n",
      "\"Made in the USA: American tech inventions\"\n",
      "^\n",
      "^\n",
      "IBM and the Holocaust: The Strategic Alliance Between Nazi Germany and America's Most Powerful Corporation\n",
      "ISBN\n",
      "978-0-914153-10-8\n",
      "^\n",
      "ISBN\n",
      "978-1-4594-0987-3\n",
      "^\n",
      "Campbell-Kelly, Martin\n",
      "MIT Press\n",
      "^\n",
      "\"Monopolization: Corporate Strategy, the IBM Cases, and the Transformation of the Law\"\n",
      "Texas Law Review\n",
      "Archived\n",
      "^\n",
      "\"The history of the UPC bar code and how the bar code symbol and system became a world standard\"\n",
      "Archived\n",
      "^\n",
      "McGraw Hill\n",
      "^\n",
      "\"'Break Up IBM,' Cry Some Investors Who See Value in Those Baby Blues\"\n",
      "^\n",
      "\"Big Blue still breaking up its bureaucracy\"\n",
      "^\n",
      "\"Facts, Figures on IBM's 13 Decentralized Firms\"\n",
      "^\n",
      "\"The Executive Computer; Can I.B.M. Learn From a Unit It Freed?\"\n",
      "^\n",
      "\"IBM Plans Division For Its PC Business; One Executive Expected to Be Put in Control\"\n",
      "the original\n",
      "^\n",
      "\"With New Approach and Executive Team, IBM Seeks a Rebirth\"\n",
      "the original\n",
      "^\n",
      "\"IBM to Unveil New Structure of PC Business\"\n",
      "^\n",
      "\"IBM reports record loss of $8 billion\"\n",
      "^\n",
      "\"I.B.M. and Dell Stake Out the Little Picture in PC's\"\n",
      "the original\n",
      "^\n",
      "\"IBM Power Personal Systems group to be folded into PC Co\"\n",
      "^\n",
      "\"Life science: Fade or flourish ?\"\n",
      "the original\n",
      "^\n",
      "\"IBM Archives: Louis V. Gerstner, Jr\"\n",
      "Archived\n",
      "^\n",
      "\"IBM to acquire PwC Consulting for $3.5 billion\"\n",
      "^\n",
      "\"IBM grabs consulting giant for $3.5 billion\"\n",
      "^\n",
      "\"Not Your Father's PC Company Anymore\"\n",
      "^\n",
      "\"The Strategy For I.B.M.: Loss-Leader PC Sales\"\n",
      "ISSN\n",
      "0362-4331\n",
      "^\n",
      "\"Big Blue to combine PC division with PSG\"\n",
      "^\n",
      "\"IBM, LG Electronics Call Halt To PC Joint Venture in Korea\"\n",
      "The Wall Street Journal\n",
      "ISSN\n",
      "0099-9660\n",
      "^\n",
      "\"LG, IBM to split by end of year\"\n",
      "Korea JoongAng Daily\n",
      "^\n",
      "\"IBM, LG Electronics to End Joint Venture\"\n",
      "Forbes\n",
      "the original\n",
      "^\n",
      "Vance, Ashlee\n",
      "\"South Korea slams IBM with server slush fund charges\"\n",
      "^\n",
      "\"Laptop Retrospective\"\n",
      "^\n",
      "\"Lenovo Completes Acquisition Of IBM's Personal Computing Division\"\n",
      "Archived\n",
      "^\n",
      "\"IBM Plans to Acquire Texas Memory Systems\"\n",
      "Archived\n",
      "^\n",
      "\"IBM to buy website hosting service SoftLayer\"\n",
      "Archived\n",
      "^\n",
      "\"Inside the Video Surveillance Program IBM Built for Philippine Strongman Rodrigo Duterte\"\n",
      "Archived\n",
      "^\n",
      "\"Lenovo says $2.1 billion IBM x86 server deal to close on Wednesday\"\n",
      "Archived\n",
      "^\n",
      "\"Apple + IBM\"\n",
      "Archived\n",
      "^\n",
      "\"Apple Teams Up With IBM For Huge, Expansive Enterprise Push\"\n",
      "Archived\n",
      "^\n",
      "\"Landmark IBM Twitter partnership to help businesses make decisions\"\n",
      "Archived\n",
      "^\n",
      "\"IBM Announces Marketing Partnership With Facebook\"\n",
      "Archived\n",
      "^\n",
      "\"Tencent teams up with IBM to offer business software over the cloud\"\n",
      "Archived\n",
      "^\n",
      "\"Cisco and IBM's New Partnership Is a Lot About Talk\"\n",
      "Archived\n",
      "^\n",
      "\"IBM, Under Armour Team Up To Bring Cognitive Computing To Fitness Apps\"\n",
      "Archived\n",
      "^\n",
      "\"IBM, Box Cloud Partnership: What It Means\"\n",
      "Archived\n",
      "^\n",
      "\"Microsoft just made a deal with IBM – and Apple should be nervous\"\n",
      "Archived\n",
      "^\n",
      "\"VMware and SugarCRM expand partnerships with IBM, make services available on IBM Cloud\"\n",
      "Archived\n",
      "^\n",
      "\"IBM, CSC Expand Their Cloud Deal to the Mainframe\"\n",
      "^\n",
      "\"Macy's Taps IBM, Satisfi for In-Store Shopping Companion\"\n",
      "^\n",
      "\"Sesame Workshop, IBM partner to use Watson for preschoolers\"\n",
      "Archived\n",
      "^\n",
      "\"IBM, Salesforce Strike Global Partnership on Cloud, AI\"\n",
      "Archived\n",
      "^\n",
      "\"IBM Buys Merge Healthcare to Boost Watson Health Cloud\"\n",
      "Archived\n",
      "^\n",
      "\"IBM Agrees to Acquire Weather Channel's Digital Assets\"\n",
      "Archived\n",
      "^\n",
      "\"IBM to Acquire the Weather Company\"\n",
      "Archived\n",
      "^\n",
      "\"IBM acquires Ustream, launches cloud video unit\"\n",
      "Archived\n",
      "^\n",
      "\"IBM Acquires Ustream: Behind the Acquisition\"\n",
      "Archived\n",
      "^\n",
      "\"Big Blue isn't so big anymore\"\n",
      "Archived\n",
      "^\n",
      "\"Groupon sues 'once-great' IBM over patent\"\n",
      "Archived\n",
      "^\n",
      "\"IBM Buys Digital Part of The Weather Company\"\n",
      "Archived\n",
      "^\n",
      "\"IBM to Acquire Red Hat for About $33 Billion\"\n",
      "The Wall Street Journal\n",
      "ISSN\n",
      "0099-9660\n",
      "Archived\n",
      "^\n",
      "\"IBM to Acquire Linux Distributor Red Hat for $33.4 Billion\"\n",
      "Archived\n",
      "^\n",
      "\"IBM to acquire Red Hat, completely changing the cloud landscape and becoming world's #1 hybrid cloud provider\"\n",
      "Archived\n",
      "^\n",
      "\"IBM Closes Landmark Acquisition of Red Hat for $34 Billion; Defines Open, Hybrid Cloud Future\"\n",
      "Archived\n",
      "^\n",
      "\"IBM To Accelerate Hybrid Cloud Growth Strategy And Execute Spin-Off Of Market-Leading Managed Infrastructure Services Unit\"\n",
      "Archived\n",
      "^\n",
      "\"IBM to break up 109-year old company to focus on cloud growth\"\n",
      "Archived\n",
      "^\n",
      "\"IBM spins off a quarter of the company to focus on the cloud\"\n",
      "Archived\n",
      "^\n",
      "\"IBM shares rise on plans to spin off its IT infrastructure unit and focus on the cloud business\"\n",
      "Archived\n",
      "^\n",
      "\"IBM to Spin Off Services Unit to Accelerate Cloud-Computing Pivot\"\n",
      "Archived\n",
      "^\n",
      "\"IBM Splits Into Two Companies\"\n",
      "Archived\n",
      "^\n",
      "\"IBM Spinning Off Infrastructure Managed Services Group To Focus On Cloud Is A Good Move\"\n",
      "Archived\n",
      "^\n",
      "\"IBM names Martin Schroeter as CEO of $19B NewCo services spinoff\"\n",
      "Archived\n",
      "^\n",
      "\"IBM names former financial chief Martin Schroeter as head of new IT infrastructure services company\"\n",
      "The Economic Times\n",
      "Reuters\n",
      "Archived\n",
      "^\n",
      "\"Update on Our Actions: War in Ukraine\"\n",
      "^\n",
      "\"IBM finally shutters Russian operations, lays off staff\"\n",
      "^\n",
      "\"IBM Extends Watson.x Governance & Compliance with Manta Acquisition\"\n",
      "^\n",
      "\"IBM suspends ads on X after corporate ads appeared next to pro-Nazi content\"\n",
      "^\n",
      "\"Advertisers Push Back at Social Media Firms over Antisemitism\"\n",
      "^\n",
      "\"IBM to buy Software AG's enterprise integration platforms for $2.3 billion\"\n",
      "^\n",
      "\"Contact Us\"\n",
      "Archived\n",
      "^\n",
      "\"Dominance Ended, I.B.M. Fights Back\"\n",
      "Archived\n",
      "^\n",
      "\"IBM's New Headquarters Reflects A Change in Corporate Style\"\n",
      "The New York Times\n",
      "Archived\n",
      "^\n",
      "\"On the Dedication of the Louis V. Gerstner, Jr., Center for Learning – THINK Blog\"\n",
      "Archived\n",
      "^\n",
      "\"Property Overview\"\n",
      "the original\n",
      "^\n",
      "\"Company Overview of IBM China Company Limited\"\n",
      "Archived\n",
      "^\n",
      "\"Watson IoT Headquarters\"\n",
      "Archived\n",
      "^\n",
      "The Washington Post\n",
      "^\n",
      "\"Environmental Protection\"\n",
      "Archived\n",
      "^\n",
      "\"Village of Endicott Environmental Investigations\"\n",
      "Archived\n",
      "^\n",
      "\"In an I.B.M. Village, Pollution Fears Taint Relations With Neighbors\"\n",
      "Archived\n",
      "^\n",
      "\"IBM earnings and revenue continue to shrink, stock falls 6%\"\n",
      "Archived\n",
      "^\n",
      "\"IBM Market Cap 2006–2021 | IBM\"\n",
      "Archived\n",
      "^\n",
      "\"Fortune 500\"\n",
      "Archived\n",
      "^\n",
      "\"The Truth About IBM's Buybacks\"\n",
      "Archived\n",
      "^\n",
      "\"IBM and the financial engineering economy: James Saft\"\n",
      "Archived\n",
      "^\n",
      "\"Boring IBM Just Got a Lot More Interesting\"\n",
      "Archived\n",
      "^\n",
      "\"IBM Investing $3B in Internet of Things\"\n",
      "Archived\n",
      "^\n",
      "\"Digital workplace services\"\n",
      "Archived\n",
      "^\n",
      "\"IBM Products\"\n",
      "Archived\n",
      "^\n",
      "\"Data Center Knowledge – SoftLayer: $78 Million in First Quarter Revenue\"\n",
      "Archived\n",
      "^\n",
      "\"Cloud computing news: Security\"\n",
      "Archived\n",
      "^\n",
      "\"IBM Inks VMware, GitHub, Bitly Deals, Expands Apple Swift Use As It Doubles Down On The Cloud\"\n",
      "Archived\n",
      "^\n",
      "\"IBM delivers Power-based chip for Microsoft Xbox 360 worldwide launch\"\n",
      "Archived\n",
      "^\n",
      "\"IBM microprocessors drive the new Nintendo WiiU console\"\n",
      "Archived\n",
      "^\n",
      "\"IBM's 45nm SOI microprocessors at core of Nintendo Wii U\"\n",
      "the original\n",
      "^\n",
      "\"Building a smarter planet\"\n",
      "Archived\n",
      "^\n",
      "\"New research initiative sees IBM commit $3 bn\"\n",
      "the original\n",
      "^\n",
      "\"IBM launches flash arrays for smaller enterprises, aims to court EMC, Dell customers\"\n",
      "Archived\n",
      "^\n",
      "\"IBM. Global locations for your global business\"\n",
      "Archived\n",
      "^\n",
      "\"Kenexa Corporation | Company Profile from Hoover's\"\n",
      "Archived\n",
      "^\n",
      "\"IBM to Acquire the Weather Company\"\n",
      "Archived\n",
      "^\n",
      "\"Big Blue's Smarter Marketing Playbook\"\n",
      "Archived\n",
      "^\n",
      "\"At IBM Research, a constant quest for the bleeding edge\"\n",
      "^\n",
      "\"Smart Grid\"\n",
      "the original\n",
      "^\n",
      "\"Smarter Water Management\"\n",
      "the original\n",
      "^\n",
      "\"Smart traffic\"\n",
      "the original\n",
      "^\n",
      "\"Smarter Buildings\"\n",
      "the original\n",
      "^\n",
      "\"About developerWorks\"\n",
      "IBM developerWorks\n",
      "Archived\n",
      "^\n",
      "\"What is Watson?\"\n",
      "Archived\n",
      "^\n",
      "\"Watson Oncology\"\n",
      "the original\n",
      "^\n",
      "\"IBM's Watson Now A Customer Service Agent, Coming To Smartphones Soon\"\n",
      "Archived\n",
      "^\n",
      "\"IBM Unveils Q System One Quantum Computer\"\n",
      "Archived\n",
      "^\n",
      "\"NYPD changes the crime control equation by transforming the way it uses information\"\n",
      "Archived\n",
      "^\n",
      "\"IBM to build Europe's first quantum computer in Germany\"\n",
      "Archived\n",
      "^\n",
      "\"IBM Policy\"\n",
      "^\n",
      "\"IBM exits facial recognition business, calls for police reform\"\n",
      "^\n",
      "\"IBM steps up its cloud partnership strategy with AWS deal\"\n",
      "^\n",
      "\"How Quantum Computing Will Transform Our World\"\n",
      "^\n",
      "\"IBM to Spin off $19B Business to Focus on Cloud Computing\"\n",
      "^\n",
      "\"IBM to name infrastructure services business 'Kyndryl' after spinoff\"\n",
      "Archived\n",
      "^\n",
      "\"IBM to Acquire Software Provider Turbonomic for Over $1.5 Billion\"\n",
      "Archived\n",
      "^\n",
      "\"IBM sells Watson Health assets to investment firm Francisco Partners\"\n",
      "ZDNet\n",
      "Archived\n",
      "^\n",
      "\"IBM and Rapidus Form Strategic Partnership to Build Advanced Semiconductor Technology and Ecosystem in Japan\"\n",
      "^\n",
      "\"GlobalFoundries sues IBM, says trade secrets were unlawfully given to Japan's Rapidus\"\n",
      "^\n",
      "\"IBM Research: Global labs\"\n",
      "Archived\n",
      "^\n",
      "\"IBM's expenditure on research and development from 2005 to 2015 (in billion U.S. dollars)\"\n",
      "Archived\n",
      "^\n",
      "\"Ginni Rometty just set a big goal for IBM: spending $4 billion to bring in $40 billion\"\n",
      "Archived\n",
      "^\n",
      "\"IBM launches biggest Linux lineup ever\"\n",
      "the original\n",
      "^\n",
      "\"IBM invests in Brazil Linux Tech Center\"\n",
      "LWN.net\n",
      "Archived\n",
      "^\n",
      "\"Interview: The Eclipse code donation\"\n",
      "the original\n",
      "^\n",
      "\"IBM Archives: \"IBM\" atoms\"\n",
      "Archived\n",
      "^\n",
      "\"The Nobel Prize in Physics 1986 – Press Release\"\n",
      "Archived\n",
      "^\n",
      "Communications of the ACM\n",
      "doi\n",
      "10.1145/1866739.1866752\n",
      "S2CID\n",
      "11847872\n",
      "a\n",
      "b\n",
      "Postphenomenology: A Critical Companion to Ihde\n",
      "State University of New York Press\n",
      "ISBN\n",
      "0-7914-6787-2\n",
      "Archived\n",
      "^\n",
      "Logos, Letterheads & Business Cards: Design for Profit\n",
      "ISBN\n",
      "2-88046-750-0\n",
      "permanent dead link\n",
      "^\n",
      "The Essential Guide to Computing: The Story of Information Technology\n",
      "55\n",
      "ISBN\n",
      "0-13-019469-7\n",
      "^\n",
      "\"IBM Archives\"\n",
      "Archived\n",
      "^\n",
      "\"IBM and Masters Celebrate 20 Years\"\n",
      "Archived\n",
      "^\n",
      "\"IBM CEO Ginni Rometty is Augusta National's third female member\"\n",
      "Archived\n",
      "^\n",
      "\"Why IBM dominates the U.S. Open\"\n",
      "Archived\n",
      "^\n",
      "\"IBM, Olympics Part Ways After 40 Years\"\n",
      "Archived\n",
      "^\n",
      "\"IBM Ends Its NFL Sponsorship Over Difference in Views\"\n",
      "Archived\n",
      "^\n",
      "\"Best Global Brands Ranking for 2012\"\n",
      "the original\n",
      "^\n",
      "\"IBM #1 in Green Rankingss for 2012\"\n",
      "Archived\n",
      "^\n",
      "\"The World's Most Respected Companies\"\n",
      "Archived\n",
      "^\n",
      "\"Tech Consulting Firm Rankings 2012: Best Firms in Each Practice Area\"\n",
      "the original\n",
      "^\n",
      "\"The World's Most Valuable Brands\"\n",
      "Forbes\n",
      "the original\n",
      "^\n",
      "\"The Best-Managed Companies of 2020—and How They Got That Way\"\n",
      "Archived\n",
      "^\n",
      "\"Tech companies increase donations to Ukraine\"\n",
      "^\n",
      "\"IBM's ESG Datasheet for 2020Q4\"\n",
      "the original\n",
      "Alt URL\n",
      "Archived\n",
      "Wayback Machine\n",
      "^\n",
      "\"IBM Commits To Net Zero Greenhouse Gas Emissions By 2030\"\n",
      "^\n",
      "\"International Business Machines Corp. (IBM) profile\"\n",
      "permanent dead link\n",
      "^\n",
      "\"IBM\"\n",
      "Archived\n",
      "^\n",
      "\"The IBM Corporate Service Corps\"\n",
      "Archived\n",
      "^\n",
      "\"Why IBM Gives Top Employees a Month to Do Service Abroad\"\n",
      "Archived\n",
      "^\n",
      "\"Extreme Blue web page\"\n",
      "Archived\n",
      "^\n",
      "\"IBM Launches Distinguished Designer Program\"\n",
      "^\n",
      "Strategic Marketing Communications: New Ways to Build and Integrate Communications\n",
      "ISBN\n",
      "0-7494-2918-6\n",
      "Archived\n",
      "^\n",
      "\"IBM Attire\"\n",
      "Archived\n",
      "^\n",
      "\"IBM stands for 'I've Been Moved'\"\n",
      "Archived\n",
      "^\n",
      "\"IBM stands for \"I'm by myself' for teleworkers of the blue giant\"\n",
      "Archived\n",
      "^\n",
      "Intelligent Mentoring\n",
      "ISBN\n",
      "978-0-13-700949-7\n",
      "Archived\n",
      "^\n",
      "\"The Union Avoidance Industry in the United States\"\n",
      "doi\n",
      "10.1111/j.1467-8543.2006.00518.x\n",
      "S2CID\n",
      "155066215\n",
      "the original\n",
      "^\n",
      "\"IBM Global Unions Links\"\n",
      "the original\n",
      "^\n",
      "\"In Japan, IBM employees have formed a football team complete with pro stadium, cheerleaders and televised games\"\n",
      "Archived\n",
      "^\n",
      "\"Switch to Macs from PCs reportedly saves IBM $270 per user\"\n",
      "the original\n",
      "^\n",
      "\"After overhauling its performance review system, IBM now uses an app to give and receive real-time feedback\"\n",
      "Archived\n",
      "^\n",
      "\"Tim Cook\"\n",
      "^\n",
      "\"Executive Biographies – Lisa Su\"\n",
      "Archived\n",
      "^\n",
      "\"Leadership Team\"\n",
      "Archived\n",
      "^\n",
      "^\n",
      "\"Fair Isaac CEO: FICO criticism isn't 'fair'\"\n",
      "Archived\n",
      "^\n",
      "DeLaat, Jacqueline\n",
      "Women in World History, Vol. 7: Harr-I\n",
      "ISBN\n",
      "0-7876-4066-2\n",
      "^\n",
      "\"Wisconsin Gov. Scott Walker: A 2016 Contender But Not A College Graduate\"\n",
      "Archived\n",
      "^\n",
      "\"Official Manual of the State of Missouri, 1993–1994\"\n",
      "permanent dead link\n",
      "^\n",
      "\"Katherine Harris' Biography\"\n",
      "Project Vote Smart\n",
      "Archived\n",
      "^\n",
      "\"New York Times (May 31, 1998)\"\n",
      "The New York Times\n",
      "Archived\n",
      "^\n",
      "\"Board of Directors — Officers\"\n",
      "the original\n",
      "^\n",
      "\"Board of Directors\"\n",
      "Archived\n",
      "^\n",
      "\"Warren Buffett never liked tech stocks. So why does he own Apple?\"\n",
      "The Washington Post\n",
      "Archived\n",
      "^\n",
      "\"Warren Buffett says Berkshire Hathaway has sold completely out of IBM\"\n",
      "Archived\n",
      "edit\n",
      "History of IBM § Further reading\n",
      "ISBN\n",
      "978-0-7099-3828-6\n",
      "Oxford University Press\n",
      "Black, Edwin\n",
      "IBM and the Holocaust: The Strategic Alliance Between Nazi Germany and America's Most Powerful Corporation\n",
      "ISBN\n",
      "0-914153-10-2\n",
      "Big Blues: The Unmaking of IBM\n",
      "ISBN\n",
      "978-0-517-59197-0\n",
      "Gerstner, Louis V. Jr.\n",
      "ISBN\n",
      "0-00-715448-8\n",
      "ISBN\n",
      "978-0-9833734-6-9\n",
      "ISBN\n",
      "978-0-8166-7039-0\n",
      "The Global IBM: Leadership in Multinational Management\n",
      "374\n",
      "ISBN\n",
      "978-0-396-09259-9\n",
      "ISBN\n",
      "0-87584-654-8\n",
      "MIT Press\n",
      "Steinhilper, Ulrich\n",
      "ISBN\n",
      "1-872836-75-5\n",
      "ISBN\n",
      "978-1-4401-9258-6\n",
      "Watson, Thomas Jr.\n",
      "Father, Son & Co: My Life at IBM and Beyond\n",
      "ISBN\n",
      "0-553-29023-1\n",
      "edit\n",
      "sister projects\n",
      "Definitions\n",
      "Media\n",
      "News\n",
      "Quotations\n",
      "Texts\n",
      "Textbooks\n",
      "Resources\n",
      "Official website\n",
      "\n",
      "IBM companies\n",
      "OpenCorporates\n",
      "Google\n",
      "SEC filings\n",
      "Yahoo!\n",
      "v\n",
      "t\n",
      "e\n",
      "IBM\n",
      "History\n",
      "History\n",
      "Mergers and acquisitions\n",
      "PC business acquisition by Lenovo\n",
      "Products\n",
      "Mainframe\n",
      "IBM Z\n",
      "Power microprocessors\n",
      "Power Systems\n",
      "Storage\n",
      "FlashSystem\n",
      "DS8000\n",
      "Q System One\n",
      "Q System Two\n",
      "Eagle\n",
      "Osprey\n",
      "Heron\n",
      "Condor\n",
      "Blue Gene\n",
      "Cell microprocessors\n",
      "PowerPC\n",
      "Midrange computer\n",
      "Personal Computer\n",
      "Selectric\n",
      "ThinkPad\n",
      "alphaWorks\n",
      "Carbon Design System\n",
      "Cloud\n",
      "Cloudant\n",
      "Cognos Analytics\n",
      "Connections\n",
      "Criminal Reduction Utilising Statistical History\n",
      "Fortran\n",
      "ILOG\n",
      "Information Management Software\n",
      "Lotus Software\n",
      "Mainframe operating systems\n",
      "Mashup Center\n",
      "Planning Analytics\n",
      "PureQuery\n",
      "Quantum Platform\n",
      "Qiskit\n",
      "OpenQASM\n",
      "Rational Software\n",
      "SPSS\n",
      "Tivoli Software\n",
      "Service Automation Manager\n",
      "Watson\n",
      "Watsonx\n",
      "Granite\n",
      "WebSphere\n",
      "Apptio\n",
      "Center for The Business of Government\n",
      "Consulting\n",
      "Promontory\n",
      "Kenexa\n",
      "International subsidiaries\n",
      "India\n",
      "Press\n",
      "Red Hat\n",
      "Research\n",
      "AdStar\n",
      "AIM alliance\n",
      "Kaleida Labs\n",
      "Taligent\n",
      "Ambra Computer\n",
      "Cognos\n",
      "EduQuest\n",
      "Kyndryl\n",
      "Lexmark\n",
      "Merative\n",
      "Microelectronics\n",
      "Product Center\n",
      "Science Research Associates\n",
      "Service Bureau\n",
      "The Weather Company\n",
      "Weather Underground\n",
      "1250 René-Lévesque\n",
      "One Atlantic Center\n",
      "Rome Software Lab\n",
      "Toronto Software Lab\n",
      "330 North Wabash\n",
      "Honolulu\n",
      "Seattle\n",
      "Thomas J. Watson Research Center\n",
      "Hakozaki Facility\n",
      "Yamato Facility\n",
      "Cambridge Scientific Center\n",
      "IBM Hursley\n",
      "Canada Head Office Building\n",
      "IBM Rochester\n",
      "Academy of Technology\n",
      "Deep Thunder\n",
      "Developer\n",
      "Develothon\n",
      "Fellow\n",
      "The Great Mind Challenge\n",
      "Linux Technology Center\n",
      "SkillsBuild\n",
      "Smarter Planet\n",
      "Virtual Universe Community\n",
      "World Community Grid\n",
      "Automated teller machine\n",
      "Cynefin framework\n",
      "DRAM\n",
      "Electronic keypunch\n",
      "Floppy disk\n",
      "Hard disk drive\n",
      "Magnetic stripe card\n",
      "Relational model\n",
      "Sabre airline reservation system\n",
      "Scanning tunneling microscope\n",
      "Financial swaps\n",
      "Universal Product Code\n",
      "Big Blue\n",
      "Commercial Processing Workload\n",
      "Customer engineer\n",
      "Globally integrated enterprise\n",
      "e-business\n",
      "Think slogan\n",
      "CEOs\n",
      "Thomas J. Watson\n",
      "Thomas Watson Jr.\n",
      "T. Vincent Learson\n",
      "Frank T. Cary\n",
      "John R. Opel\n",
      "John Fellows Akers\n",
      "Louis V. Gerstner Jr.\n",
      "Samuel J. Palmisano\n",
      "Ginni Rometty\n",
      "Arvind Krishna\n",
      "Thomas Buberl\n",
      "Michael L. Eskew\n",
      "David Farr\n",
      "Alex Gorsky\n",
      "Michelle J. Howard\n",
      "Arvind Krishna\n",
      "Andrew Liveris\n",
      "Martha E. Pollack\n",
      "Virginia M. Rometty\n",
      "Joseph R. Swedish\n",
      "Sidney Taurel\n",
      "Peter R. Voser\n",
      "A Boy and His Atom\n",
      "American football\n",
      "Rugby union\n",
      "Common Public License\n",
      "IBM Public License\n",
      "Deep Blue\n",
      "Deep Thought\n",
      "Dynamic infrastructure\n",
      "GlobalFoundries\n",
      "GUIDE International\n",
      "IBM and the Holocaust\n",
      "International chess tournament\n",
      "Lucifer cipher\n",
      "Mathematica\n",
      "IBM Plex\n",
      "SHARE computing\n",
      "ScicomP\n",
      "Unions\n",
      "Category\n",
      "Commons\n",
      "Navigational boxes\n",
      "FOSS\n",
      "Midrange computers\n",
      "Operating systems\n",
      "Personal computers\n",
      "System/360\n",
      "System/370\n",
      "Typewriters\n",
      "Vacuum tube computers\n",
      "v\n",
      "t\n",
      "e\n",
      "Dow Jones Industrial Average\n",
      "3M\n",
      "Amazon\n",
      "American Express\n",
      "Amgen\n",
      "Apple\n",
      "Boeing\n",
      "Caterpillar\n",
      "Chevron\n",
      "Cisco\n",
      "Coca-Cola\n",
      "Disney\n",
      "Dow\n",
      "Goldman Sachs\n",
      "Home Depot\n",
      "Honeywell\n",
      "IBM\n",
      "Intel\n",
      "Johnson & Johnson\n",
      "JPMorgan Chase\n",
      "McDonald's\n",
      "Merck\n",
      "Microsoft\n",
      "Nike\n",
      "Procter & Gamble\n",
      "Salesforce\n",
      "Travelers\n",
      "UnitedHealth\n",
      "Verizon\n",
      "Visa\n",
      "Walmart\n",
      "v\n",
      "t\n",
      "e\n",
      "Acer\n",
      "Apple\n",
      "Asus\n",
      "Dell\n",
      "Fujitsu\n",
      "Huawei\n",
      "HP\n",
      "Lenovo\n",
      "LG\n",
      "Microsoft\n",
      "MSI\n",
      "NEC\n",
      "Panasonic\n",
      "Razer\n",
      "Samsung\n",
      "Sharp\n",
      "Dynabook\n",
      "Vaio\n",
      "Cisco\n",
      "Dell EMC\n",
      "HPE\n",
      "IBM\n",
      "Inspur\n",
      "NetApp\n",
      "Oracle\n",
      "Fujitsu\n",
      "HPE\n",
      "IBM\n",
      "Largest IT companies\n",
      "Computer hardware manufacturers\n",
      "Home computer hardware companies\n",
      "Server hardware\n",
      "Mainframe computers\n",
      "v\n",
      "t\n",
      "e\n",
      "information storage\n",
      "ADATA\n",
      "Amazon\n",
      "Apple\n",
      "Dell\n",
      "Dell EMC\n",
      "Fujitsu\n",
      "Google\n",
      "Hitachi Data Systems\n",
      "Hewlett Packard Enterprise\n",
      "IBM\n",
      "Kingston Technology\n",
      "Kioxia\n",
      "Microsoft\n",
      "NetApp\n",
      "Oracle\n",
      "Plextor\n",
      "Samsung\n",
      "Seagate\n",
      "Silicon Power\n",
      "Sony\n",
      "Transcend Information\n",
      "Western Digital\n",
      "v\n",
      "t\n",
      "e\n",
      "software\n",
      "Adobe\n",
      "Amadeus IT Group\n",
      "Amazon\n",
      "Apple\n",
      "Autodesk\n",
      "Citrix\n",
      "FIS\n",
      "Google\n",
      "HPE\n",
      "IBM\n",
      "Intuit\n",
      "Infor\n",
      "Microsoft\n",
      "Oracle\n",
      "Quest Software\n",
      "Sage Group\n",
      "SAP\n",
      "Tencent\n",
      "Largest IT companies\n",
      "Largest software companies\n",
      "Category:Software companies\n",
      "v\n",
      "t\n",
      "e\n",
      "Electronics industry in the United States\n",
      "Home appliances\n",
      "Apple\n",
      "Bose\n",
      "Cisco\n",
      "Corsair\n",
      "Dell\n",
      "Dolby Laboratories\n",
      "Element Electronics\n",
      "Emerson Radio\n",
      "Harman\n",
      "Honeywell\n",
      "HP\n",
      "InFocus\n",
      "Jensen Electronics\n",
      "Kenmore\n",
      "Kingston\n",
      "Kimball\n",
      "Koss\n",
      "Lexmark\n",
      "Logitech\n",
      "Magnavox\n",
      "Marantz\n",
      "Memorex\n",
      "Microsoft\n",
      "Monster\n",
      "Plantronics\n",
      "Planar Systems\n",
      "Razer\n",
      "Seagate\n",
      "Seiki Digital\n",
      "Skullcandy\n",
      "Turtle Beach\n",
      "ViewSonic\n",
      "Vizio\n",
      "Western Digital\n",
      "HGST\n",
      "SanDisk\n",
      "Westinghouse Electric Company\n",
      "Westinghouse Electronics\n",
      "Xerox\n",
      "Electronic components\n",
      "3M\n",
      "Achronix\n",
      "Analog Devices\n",
      "Maxim Integrated\n",
      "Applied Materials\n",
      "Altera\n",
      "AVX\n",
      "Cirque\n",
      "Diodes Inc.\n",
      "Flex\n",
      "Jabil\n",
      "KEMET\n",
      "Maxwell Technologies\n",
      "Sanmina\n",
      "Vishay\n",
      "Semiconductor devices\n",
      "AMD\n",
      "Ampere Computing\n",
      "Apple\n",
      "Broadcom\n",
      "Cypress Semiconductor\n",
      "GlobalFoundries\n",
      "IBM\n",
      "Intel\n",
      "Interlink\n",
      "KLA-Tencor\n",
      "Lam Research\n",
      "Lattice\n",
      "Marvell Technology\n",
      "Microchip\n",
      "Atmel\n",
      "Micron\n",
      "NetApp\n",
      "Nimbus Data\n",
      "Nvidia\n",
      "Mellanox\n",
      "NXP\n",
      "Onsemi\n",
      "Qualcomm\n",
      "Silicon Image\n",
      "Synaptics\n",
      "Tabula\n",
      "Texas Instruments\n",
      "Xilinx\n",
      "Zilog\n",
      "Mobile devices\n",
      "Apple\n",
      "BLU\n",
      "Google\n",
      "Lenovo\n",
      "Motorola Mobility\n",
      "Cadence Design Systems\n",
      "Cray\n",
      "GE\n",
      "RCA\n",
      "Oracle Corporation\n",
      "Synopsys\n",
      "Actel\n",
      "Atari Corporation\n",
      "Commodore\n",
      "Compaq\n",
      "Fairchild\n",
      "Freescale\n",
      "LSI\n",
      "Microsemi\n",
      "National Semiconductor\n",
      "Palm\n",
      "Philco\n",
      "RCA\n",
      "Signetics\n",
      "Silicon Graphics\n",
      "Solectron\n",
      "Sun Microsystems\n",
      "Zenith Electronics\n",
      "Authority control databases\n",
      "\n",
      "ISNI\n",
      "VIAF\n",
      "Norway\n",
      "Spain\n",
      "France\n",
      "BnF data\n",
      "Catalonia\n",
      "Germany\n",
      "Israel\n",
      "United States\n",
      "Sweden\n",
      "Latvia\n",
      "Japan\n",
      "Czech Republic\n",
      "Australia\n",
      "Greece\n",
      "Korea\n",
      "Croatia\n",
      "Poland\n",
      "Portugal\n",
      "CiNii\n",
      "MusicBrainz\n",
      "Museum of Modern Art\n",
      "2\n",
      "ULAN\n",
      "Trove\n",
      "SNAC\n",
      "IdRef\n",
      "https://en.wikipedia.org/w/index.php?title=IBM&oldid=1210375223\n",
      "Categories\n",
      "IBM\n",
      "1888 establishments in New York (state)\n",
      "Technology companies established in 1888\n",
      "American companies established in 1888\n",
      "Cloud computing providers\n",
      "Collier Trophy recipients\n",
      "Companies based in Westchester County, New York\n",
      "Companies in the Dow Jones Industrial Average\n",
      "Companies in the Dow Jones Global Titans 50\n",
      "Companies listed on the New York Stock Exchange\n",
      "Computer companies of the United States\n",
      "Computer hardware companies\n",
      "Computer systems companies\n",
      "Data companies\n",
      "Data quality companies\n",
      "Display technology companies\n",
      "Electronics companies of the United States\n",
      "Information technology consulting firms of the United States\n",
      "Multinational companies headquartered in the United States\n",
      "National Medal of Technology recipients\n",
      "Outsourcing companies\n",
      "Point of sale companies\n",
      "Software companies based in New York (state)\n",
      "Storage Area Network companies\n",
      "Software companies of the United States\n",
      "International information technology consulting firms\n",
      "Pages with non-numeric formatnum arguments\n",
      "CS1: Julian–Gregorian uncertainty\n",
      "CS1 German-language sources (de)\n",
      "All articles with dead external links\n",
      "Articles with dead external links from August 2023\n",
      "Articles with permanently dead external links\n",
      "Webarchive template wayback links\n",
      "Articles with dead external links from July 2018\n",
      "Articles with dead external links from March 2018\n",
      "Articles with short description\n",
      "Short description matches Wikidata\n",
      "Use American English from February 2019\n",
      "All Wikipedia articles written in American English\n",
      "Use mdy dates from February 2023\n",
      "Articles containing potentially dated statements from 2022\n",
      "All articles containing potentially dated statements\n",
      "All articles with unsourced statements\n",
      "Articles with unsourced statements from September 2020\n",
      "Articles containing potentially dated statements from 2016\n",
      "Wikipedia articles containing buzzwords from October 2020\n",
      "Pages using Sister project links with default search\n",
      "OpenCorporates groupings\n",
      "Articles with ISNI identifiers\n",
      "Articles with VIAF identifiers\n",
      "Articles with BIBSYS identifiers\n",
      "Articles with BNE identifiers\n",
      "Articles with BNF identifiers\n",
      "Articles with BNFdata identifiers\n",
      "Articles with CANTICN identifiers\n",
      "Articles with GND identifiers\n",
      "Articles with J9U identifiers\n",
      "Articles with LCCN identifiers\n",
      "Articles with Libris identifiers\n",
      "Articles with LNB identifiers\n",
      "Articles with NDL identifiers\n",
      "Articles with NKC identifiers\n",
      "Articles with NLA identifiers\n",
      "Articles with NLG identifiers\n",
      "Articles with NLK identifiers\n",
      "Articles with NSK identifiers\n",
      "Articles with PLWABN identifiers\n",
      "Articles with PortugalA identifiers\n",
      "Articles with CINII identifiers\n",
      "Articles with MusicBrainz identifiers\n",
      "Articles with MoMA identifiers\n",
      "Articles with ULAN identifiers\n",
      "Articles with Trove identifiers\n",
      "Articles with SNAC-ID identifiers\n",
      "Articles with SUDOC identifiers\n",
      "Creative Commons Attribution-ShareAlike License 4.0\n",
      "\n",
      "Terms of Use\n",
      "Privacy Policy\n",
      "Wikimedia Foundation, Inc.\n",
      "Privacy policy\n",
      "About Wikipedia\n",
      "Disclaimers\n",
      "Contact Wikipedia\n",
      "Code of Conduct\n",
      "Developers\n",
      "Statistics\n",
      "Cookie statement\n",
      "Mobile view\n",
      "\n",
      "\n"
     ]
    }
   ],
   "source": [
    "# Find all <a> tags (anchor tags) in the HTML\n",
    "links = soup.find_all('a')\n",
    "\n",
    "# Iterate through the list of links and print their text\n",
    "for link in links:\n",
    "    print(link.text)"
   ]
  },
  {
   "cell_type": "code",
   "execution_count": 128,
   "id": "3facb06b-af74-4961-ad70-b026633e3d32",
   "metadata": {
    "tags": []
   },
   "outputs": [],
   "source": [
    "tables1 = pd.read_html(url)\n"
   ]
  },
  {
   "cell_type": "code",
   "execution_count": 127,
   "id": "b278aa7a-bce0-450e-a96b-f4386ae24fcd",
   "metadata": {
    "tags": []
   },
   "outputs": [
    {
     "data": {
      "text/html": [
       "<div>\n",
       "<style scoped>\n",
       "    .dataframe tbody tr th:only-of-type {\n",
       "        vertical-align: middle;\n",
       "    }\n",
       "\n",
       "    .dataframe tbody tr th {\n",
       "        vertical-align: top;\n",
       "    }\n",
       "\n",
       "    .dataframe thead th {\n",
       "        text-align: right;\n",
       "    }\n",
       "</style>\n",
       "<table border=\"1\" class=\"dataframe\">\n",
       "  <thead>\n",
       "    <tr style=\"text-align: right;\">\n",
       "      <th></th>\n",
       "      <th>0</th>\n",
       "      <th>1</th>\n",
       "    </tr>\n",
       "  </thead>\n",
       "  <tbody>\n",
       "    <tr>\n",
       "      <th>0</th>\n",
       "      <td>Logo since 1972, designed by Paul Rand</td>\n",
       "      <td>Logo since 1972, designed by Paul Rand</td>\n",
       "    </tr>\n",
       "    <tr>\n",
       "      <th>1</th>\n",
       "      <td>Trade name</td>\n",
       "      <td>IBM</td>\n",
       "    </tr>\n",
       "    <tr>\n",
       "      <th>2</th>\n",
       "      <td>Formerly</td>\n",
       "      <td>Computing-Tabulating-Recording Company (1911–1...</td>\n",
       "    </tr>\n",
       "    <tr>\n",
       "      <th>3</th>\n",
       "      <td>Company type</td>\n",
       "      <td>Public</td>\n",
       "    </tr>\n",
       "    <tr>\n",
       "      <th>4</th>\n",
       "      <td>Traded as</td>\n",
       "      <td>.mw-parser-output .plainlist ol,.mw-parser-out...</td>\n",
       "    </tr>\n",
       "    <tr>\n",
       "      <th>5</th>\n",
       "      <td>ISIN</td>\n",
       "      <td>US4592001014</td>\n",
       "    </tr>\n",
       "    <tr>\n",
       "      <th>6</th>\n",
       "      <td>Industry</td>\n",
       "      <td>Information technology</td>\n",
       "    </tr>\n",
       "    <tr>\n",
       "      <th>7</th>\n",
       "      <td>Predecessors</td>\n",
       "      <td>Bundy Manufacturing Company Computing Scale Co...</td>\n",
       "    </tr>\n",
       "    <tr>\n",
       "      <th>8</th>\n",
       "      <td>Founded</td>\n",
       "      <td>June 16, 1911; 112 years agoComputing-Tabulati...</td>\n",
       "    </tr>\n",
       "    <tr>\n",
       "      <th>9</th>\n",
       "      <td>Founders</td>\n",
       "      <td>George Winthrop Fairchild Charles Ranlett Flin...</td>\n",
       "    </tr>\n",
       "    <tr>\n",
       "      <th>10</th>\n",
       "      <td>Headquarters</td>\n",
       "      <td>1 Orchard Road, Armonk, New York, United States</td>\n",
       "    </tr>\n",
       "    <tr>\n",
       "      <th>11</th>\n",
       "      <td>Area served</td>\n",
       "      <td>177 countries</td>\n",
       "    </tr>\n",
       "    <tr>\n",
       "      <th>12</th>\n",
       "      <td>Key people</td>\n",
       "      <td>Arvind Krishna (chairman &amp; CEO)[2][3]Gary Cohn...</td>\n",
       "    </tr>\n",
       "    <tr>\n",
       "      <th>13</th>\n",
       "      <td>Products</td>\n",
       "      <td>Automation Robotics Artificial intelligence Cl...</td>\n",
       "    </tr>\n",
       "    <tr>\n",
       "      <th>14</th>\n",
       "      <td>Brands</td>\n",
       "      <td>.mw-parser-output .hlist dl,.mw-parser-output ...</td>\n",
       "    </tr>\n",
       "    <tr>\n",
       "      <th>15</th>\n",
       "      <td>Services</td>\n",
       "      <td>OutsourcingProfessional servicesManaged services</td>\n",
       "    </tr>\n",
       "    <tr>\n",
       "      <th>16</th>\n",
       "      <td>Revenue</td>\n",
       "      <td>US$61.860 billion (FY 2023)</td>\n",
       "    </tr>\n",
       "    <tr>\n",
       "      <th>17</th>\n",
       "      <td>Operating income</td>\n",
       "      <td>US$8.690 billion (FY 2023)</td>\n",
       "    </tr>\n",
       "    <tr>\n",
       "      <th>18</th>\n",
       "      <td>Net income</td>\n",
       "      <td>US$7.502 billion (FY 2023)</td>\n",
       "    </tr>\n",
       "    <tr>\n",
       "      <th>19</th>\n",
       "      <td>Total assets</td>\n",
       "      <td>US$135.241 billion (FY 2023)</td>\n",
       "    </tr>\n",
       "    <tr>\n",
       "      <th>20</th>\n",
       "      <td>Total equity</td>\n",
       "      <td>US$22.613 billion (FY 2023)</td>\n",
       "    </tr>\n",
       "    <tr>\n",
       "      <th>21</th>\n",
       "      <td>Number of employees</td>\n",
       "      <td>288,300 (December 2022)[5]</td>\n",
       "    </tr>\n",
       "    <tr>\n",
       "      <th>22</th>\n",
       "      <td>Subsidiaries</td>\n",
       "      <td>List of subsidiaries</td>\n",
       "    </tr>\n",
       "    <tr>\n",
       "      <th>23</th>\n",
       "      <td>Website</td>\n",
       "      <td>www.ibm.com</td>\n",
       "    </tr>\n",
       "    <tr>\n",
       "      <th>24</th>\n",
       "      <td>Footnotes / references [6]</td>\n",
       "      <td>Footnotes / references [6]</td>\n",
       "    </tr>\n",
       "  </tbody>\n",
       "</table>\n",
       "</div>"
      ],
      "text/plain": [
       "                                         0  \\\n",
       "0   Logo since 1972, designed by Paul Rand   \n",
       "1                               Trade name   \n",
       "2                                 Formerly   \n",
       "3                             Company type   \n",
       "4                                Traded as   \n",
       "5                                     ISIN   \n",
       "6                                 Industry   \n",
       "7                             Predecessors   \n",
       "8                                  Founded   \n",
       "9                                 Founders   \n",
       "10                            Headquarters   \n",
       "11                             Area served   \n",
       "12                              Key people   \n",
       "13                                Products   \n",
       "14                                  Brands   \n",
       "15                                Services   \n",
       "16                                 Revenue   \n",
       "17                        Operating income   \n",
       "18                              Net income   \n",
       "19                            Total assets   \n",
       "20                            Total equity   \n",
       "21                     Number of employees   \n",
       "22                            Subsidiaries   \n",
       "23                                 Website   \n",
       "24              Footnotes / references [6]   \n",
       "\n",
       "                                                    1  \n",
       "0              Logo since 1972, designed by Paul Rand  \n",
       "1                                                 IBM  \n",
       "2   Computing-Tabulating-Recording Company (1911–1...  \n",
       "3                                              Public  \n",
       "4   .mw-parser-output .plainlist ol,.mw-parser-out...  \n",
       "5                                        US4592001014  \n",
       "6                              Information technology  \n",
       "7   Bundy Manufacturing Company Computing Scale Co...  \n",
       "8   June 16, 1911; 112 years agoComputing-Tabulati...  \n",
       "9   George Winthrop Fairchild Charles Ranlett Flin...  \n",
       "10    1 Orchard Road, Armonk, New York, United States  \n",
       "11                                      177 countries  \n",
       "12  Arvind Krishna (chairman & CEO)[2][3]Gary Cohn...  \n",
       "13  Automation Robotics Artificial intelligence Cl...  \n",
       "14  .mw-parser-output .hlist dl,.mw-parser-output ...  \n",
       "15   OutsourcingProfessional servicesManaged services  \n",
       "16                        US$61.860 billion (FY 2023)  \n",
       "17                         US$8.690 billion (FY 2023)  \n",
       "18                         US$7.502 billion (FY 2023)  \n",
       "19                       US$135.241 billion (FY 2023)  \n",
       "20                        US$22.613 billion (FY 2023)  \n",
       "21                         288,300 (December 2022)[5]  \n",
       "22                               List of subsidiaries  \n",
       "23                                        www.ibm.com  \n",
       "24                         Footnotes / references [6]  "
      ]
     },
     "execution_count": 127,
     "metadata": {},
     "output_type": "execute_result"
    }
   ],
   "source": [
    "tables1[0]"
   ]
  },
  {
   "cell_type": "code",
   "execution_count": null,
   "id": "7fbe8c4a-a303-4407-b86f-520c27a0414a",
   "metadata": {},
   "outputs": [],
   "source": []
  }
 ],
 "metadata": {
  "kernelspec": {
   "display_name": "Python 3 (ipykernel)",
   "language": "python",
   "name": "python3"
  },
  "language_info": {
   "codemirror_mode": {
    "name": "ipython",
    "version": 3
   },
   "file_extension": ".py",
   "mimetype": "text/x-python",
   "name": "python",
   "nbconvert_exporter": "python",
   "pygments_lexer": "ipython3",
   "version": "3.11.5"
  }
 },
 "nbformat": 4,
 "nbformat_minor": 5
}
