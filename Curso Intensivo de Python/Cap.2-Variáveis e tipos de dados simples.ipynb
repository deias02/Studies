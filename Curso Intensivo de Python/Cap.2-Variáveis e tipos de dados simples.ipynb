{
  "metadata": {
    "kernelspec": {
      "name": "python",
      "display_name": "Python (Pyodide)",
      "language": "python"
    },
    "language_info": {
      "codemirror_mode": {
        "name": "python",
        "version": 3
      },
      "file_extension": ".py",
      "mimetype": "text/x-python",
      "name": "python",
      "nbconvert_exporter": "python",
      "pygments_lexer": "ipython3",
      "version": "3.8"
    }
  },
  "nbformat_minor": 4,
  "nbformat": 4,
  "cells": [
    {
      "cell_type": "markdown",
      "source": "# **Cap.2 - Variáveis e tipos de dados simples**",
      "metadata": {}
    },
    {
      "cell_type": "code",
      "source": "message =(\"Hello Python World\")",
      "metadata": {
        "trusted": true
      },
      "outputs": [],
      "execution_count": 4
    },
    {
      "cell_type": "code",
      "source": "print(message)",
      "metadata": {
        "trusted": true
      },
      "outputs": [
        {
          "name": "stdout",
          "text": "Hello Python World\n",
          "output_type": "stream"
        }
      ],
      "execution_count": 5
    },
    {
      "cell_type": "code",
      "source": "message = \"Hello Python Crash Course world!\"\nprint(message)",
      "metadata": {
        "trusted": true
      },
      "outputs": [
        {
          "name": "stdout",
          "text": "Hello Python Crash Course world!\n",
          "output_type": "stream"
        }
      ],
      "execution_count": 6
    },
    {
      "cell_type": "code",
      "source": "message",
      "metadata": {
        "trusted": true
      },
      "outputs": [
        {
          "execution_count": 7,
          "output_type": "execute_result",
          "data": {
            "text/plain": "'Hello Python Crash Course world!'"
          },
          "metadata": {}
        }
      ],
      "execution_count": 7
    },
    {
      "cell_type": "code",
      "source": "",
      "metadata": {
        "trusted": true
      },
      "outputs": [],
      "execution_count": null
    },
    {
      "cell_type": "markdown",
      "source": "## **Strings**",
      "metadata": {}
    },
    {
      "cell_type": "markdown",
      "source": "Uma <code>string</code> é simplesmente uma série de caracteres. Tudo que estiver\nentre aspas é considerada uma string em Python, e você pode usar aspas\nsimples ou duplas em torno de suas strings, assim: *\"This is a string.\"* *'This is also a string.'*",
      "metadata": {}
    },
    {
      "cell_type": "markdown",
      "source": "### Mudando para letras maiúsculas e minúsculas em uma string usando métodos",
      "metadata": {}
    },
    {
      "cell_type": "markdown",
      "source": "Essa flexibilidade permite usar aspas e apóstrofos em suas strings: 'I told my friend, \n\"Python is my favorite language!\"\n**\"The language 'Python' is named after Monty Python, not the snake.\"**\n**\"One of Python's strengths is its diverse and supportive community.\"**",
      "metadata": {}
    },
    {
      "cell_type": "markdown",
      "source": "Uma das tarefas mais simples que podemos fazer com strings é mudar o tipo de letra, isto é, minúscula ou maiúscula, das palavras de uma string. Observe o código a seguir e tente determinar o que está acontecendo:",
      "metadata": {}
    },
    {
      "cell_type": "code",
      "source": "name = \"ada lovelace\"\nprint(name.title())",
      "metadata": {
        "trusted": true
      },
      "outputs": [
        {
          "name": "stdout",
          "text": "Ada Lovelace\n",
          "output_type": "stream"
        }
      ],
      "execution_count": 8
    },
    {
      "cell_type": "markdown",
      "source": "**Nesse exemplo, a <code>string</code> com letras minúsculas \"ada lovelace\" é armazenada na variável name. O método <code>title()</code> aparece depois da variável na instrução print(). Um método é uma ação que Python pode executar em um dado. <code>O ponto (.)</code> após name em <code>name.title()</code> informa a Python que o método <code>title()</code> deve atuar na variável <code>name</code>. Todo método é seguido de um conjunto de parênteses, pois os métodos, com frequência, precisam de informações adicionais para realizar sua tarefa. Essas informações são fornecidas entre os parênteses. A função <code>title()</code> não precisa de nenhuma informação adicional, portanto seus parênteses estão vazios.**",
      "metadata": {}
    },
    {
      "cell_type": "markdown",
      "source": "<p4> **<code>title()</code>** exibe cada palavra com uma letra maiúscula no início. Vários outros métodos úteis estão disponíveis para tratar letras maiúsculas e minúsculas também. Por exemplo, você pode mudar uma string para que tenha somente letras maiúsculas ou somente letras\nminúsculas, assim:</p4>",
      "metadata": {}
    },
    {
      "cell_type": "code",
      "source": "name = \"Ada Lovelace\"\nprint(name.upper())",
      "metadata": {
        "trusted": true
      },
      "outputs": [
        {
          "name": "stdout",
          "text": "ADA LOVELACE\n",
          "output_type": "stream"
        }
      ],
      "execution_count": 9
    },
    {
      "cell_type": "code",
      "source": "print(name.lower())",
      "metadata": {
        "trusted": true
      },
      "outputs": [
        {
          "name": "stdout",
          "text": "ada lovelace\n",
          "output_type": "stream"
        }
      ],
      "execution_count": 10
    },
    {
      "cell_type": "markdown",
      "source": "**O método <code>lower()</code> é particularmente útil para armazenar dados. Muitas vezes, você não vai querer confiar no fato de seus usuários fornecerem letras maiúsculas ou minúsculas, portanto fará a conversão das strings para letras minúsculas antes de armazená-las. Então, quando quiser exibir a informação, usará o tipo de letra que fizer mais sentido para cada string.**",
      "metadata": {}
    },
    {
      "cell_type": "markdown",
      "source": "### Combinando ou concatenando strings",
      "metadata": {}
    },
    {
      "cell_type": "markdown",
      "source": "Muitas vezes, será conveniente combinar strings. Por exemplo, você pode querer armazenar um primeiro nome e um sobrenome em variáveis separadas e, então, combiná-las quando quiser exibir o nome completo\nde alguém:",
      "metadata": {}
    },
    {
      "cell_type": "code",
      "source": "first_name = \"Ada\"\nlast_name = \"Lovelace\"\nfull_name = first_name + \" \" + last_name\n\nprint(full_name)",
      "metadata": {
        "trusted": true
      },
      "outputs": [
        {
          "name": "stdout",
          "text": "Ada Lovelace\n",
          "output_type": "stream"
        }
      ],
      "execution_count": 33
    },
    {
      "cell_type": "code",
      "source": "first_name",
      "metadata": {
        "trusted": true
      },
      "outputs": [
        {
          "execution_count": 34,
          "output_type": "execute_result",
          "data": {
            "text/plain": "'Ada'"
          },
          "metadata": {}
        }
      ],
      "execution_count": 34
    },
    {
      "cell_type": "code",
      "source": "last_name",
      "metadata": {
        "trusted": true
      },
      "outputs": [
        {
          "execution_count": 35,
          "output_type": "execute_result",
          "data": {
            "text/plain": "'Lovelace'"
          },
          "metadata": {}
        }
      ],
      "execution_count": 35
    },
    {
      "cell_type": "markdown",
      "source": "**Python usa o símbolo de <code>adição (+)</code> para combinar strings. Nesse exemplo, usamos + para criar um nome completo combinando <code>first_name, um espaço e last_name</code>, o que resultou em: <code>ada lovelace</code> Esse método de combinar strings se chama concatenação. Podemos usar concatenação para compor mensagens completas usando informações armazenadas em uma variável. Vamos observar um exemplo:**",
      "metadata": {}
    },
    {
      "cell_type": "code",
      "source": "first_name = \"ada\"\nlast_name = \"lovelace\"\nfull_name = first_name + \" \" + last_name\n\nprint(\"Hello, \" + full_name.title() + \"!\")",
      "metadata": {
        "trusted": true
      },
      "outputs": [
        {
          "name": "stdout",
          "text": "Hello, Ada Lovelace!\n",
          "output_type": "stream"
        }
      ],
      "execution_count": 36
    },
    {
      "cell_type": "markdown",
      "source": "Podemos usar concatenação para compor uma mensagem e então armazenar a mensagem completa em uma variável:",
      "metadata": {}
    },
    {
      "cell_type": "code",
      "source": "message = \"Hello, \" + full_name.title() + \"!\"",
      "metadata": {
        "trusted": true
      },
      "outputs": [],
      "execution_count": 39
    },
    {
      "cell_type": "code",
      "source": "print(message)",
      "metadata": {
        "trusted": true
      },
      "outputs": [
        {
          "name": "stdout",
          "text": "Hello, Ada Lovelace!\n",
          "output_type": "stream"
        }
      ],
      "execution_count": 41
    },
    {
      "cell_type": "markdown",
      "source": "### Acrescentando espaços em branco em strings com tabulações ouquebras de linha",
      "metadata": {}
    },
    {
      "cell_type": "markdown",
      "source": "Podemos usar espaços em branco para organizar a saída de modo que ela seja mais legível aos usuários.",
      "metadata": {}
    },
    {
      "cell_type": "code",
      "source": ">>> print(\"\\tpython\")",
      "metadata": {
        "trusted": true
      },
      "outputs": [
        {
          "name": "stdout",
          "text": "\tpython\n",
          "output_type": "stream"
        }
      ],
      "execution_count": 44
    },
    {
      "cell_type": "markdown",
      "source": "**Python Para acrescentar uma quebra de linha em uma string, utilize a combinação de caracteres <code>\\n</code>:**",
      "metadata": {}
    },
    {
      "cell_type": "code",
      "source": "print(\"Languages:\\nPython\\nC\\nJavaScript\")",
      "metadata": {
        "trusted": true
      },
      "outputs": [
        {
          "name": "stdout",
          "text": "Languages:\nPython\nC\nJavaScript\n",
          "output_type": "stream"
        }
      ],
      "execution_count": 46
    },
    {
      "cell_type": "markdown",
      "source": "Também podemos combinar tabulações e quebras de linha em uma única string. A string <code>\"\\n\\t\"</code> diz a Python para passar para uma nova linha e iniciar a próxima com uma tabulação. O exemplo a seguir mostra como usar uma string de uma só linha para gerar quatro linhas na saída:",
      "metadata": {}
    },
    {
      "cell_type": "code",
      "source": "print(\"Languages:\\n\\tPython\\n\\tC\\n\\tJavaScript\")",
      "metadata": {
        "trusted": true
      },
      "outputs": [
        {
          "name": "stdout",
          "text": "Languages:\n\tPython\n\tC\n\tJavaScript\n",
          "output_type": "stream"
        }
      ],
      "execution_count": 47
    },
    {
      "cell_type": "markdown",
      "source": "JavaScript Quebras de linha e tabulações serão muito úteis nos próximos dois capítulos, quando começaremos a gerar muitas linhas de saída usando apenas algumas linhas de código.",
      "metadata": {}
    },
    {
      "cell_type": "markdown",
      "source": "### Removendo espaços em branco",
      "metadata": {}
    },
    {
      "cell_type": "code",
      "source": "favorite_language = 'python '",
      "metadata": {
        "trusted": true
      },
      "outputs": [],
      "execution_count": 48
    },
    {
      "cell_type": "code",
      "source": "favorite_language ",
      "metadata": {
        "trusted": true
      },
      "outputs": [
        {
          "execution_count": 49,
          "output_type": "execute_result",
          "data": {
            "text/plain": "'python '"
          },
          "metadata": {}
        }
      ],
      "execution_count": 49
    },
    {
      "cell_type": "code",
      "source": "favorite_language.rstrip()",
      "metadata": {
        "trusted": true
      },
      "outputs": [
        {
          "execution_count": 50,
          "output_type": "execute_result",
          "data": {
            "text/plain": "'python'"
          },
          "metadata": {}
        }
      ],
      "execution_count": 50
    },
    {
      "cell_type": "markdown",
      "source": "O valor armazenado em <code>favorite_language</code> em *1. contém um espaço em branco extra no final da string. Quando solicitamos esse valor a Python em uma sessão de terminal, podemos ver o espaço no final do valor *2. Quando o método <code>rstrip()</code> atua na variável <code>favorite_language</code> em *3, esse espaço extra é removido. Entretanto, a remoção é temporária. Se solicitar o valor de <code>favorite_language</code> novamente, você poderá ver que a string é a mesma que foi fornecida, incluindo o espaço em branco extra *4.",
      "metadata": {}
    },
    {
      "cell_type": "code",
      "source": "favorite_language",
      "metadata": {
        "trusted": true
      },
      "outputs": [
        {
          "execution_count": 52,
          "output_type": "execute_result",
          "data": {
            "text/plain": "'python '"
          },
          "metadata": {}
        }
      ],
      "execution_count": 52
    },
    {
      "cell_type": "markdown",
      "source": "Para remover o espaço em branco da string de modo permanente, você deve armazenar o valor com o caractere removido de volta na variável:",
      "metadata": {}
    },
    {
      "cell_type": "code",
      "source": "favorite_language = 'python '\nfavorite_language = favorite_language.rstrip() ",
      "metadata": {
        "trusted": true
      },
      "outputs": [],
      "execution_count": 53
    },
    {
      "cell_type": "code",
      "source": "favorite_language",
      "metadata": {
        "trusted": true
      },
      "outputs": [
        {
          "execution_count": 55,
          "output_type": "execute_result",
          "data": {
            "text/plain": "'python'"
          },
          "metadata": {}
        }
      ],
      "execution_count": 55
    },
    {
      "cell_type": "markdown",
      "source": "**Para remover o espaço em branco da string, você deve remover o espaço em branco do lado direito da string e então armazenar esse valor de volta na variável original, como mostrado**\n\n**Alterar o valor de uma variável e então armazenar o novo valor de volta na variável original é uma operação frequente em programação. É assim que o valor de uma variável pode mudar à medida que um programa é executado ou em resposta à entrada de usuário.**",
      "metadata": {}
    },
    {
      "cell_type": "markdown",
      "source": "Também podemos remover espaços em branco do lado esquerdo de uma string usando o método <code>lstrip()</code>, ou remover espaços em branco dos dois lados ao mesmo tempo com <code>strip()</code>:",
      "metadata": {}
    },
    {
      "cell_type": "code",
      "source": "favorite_language = ' python '\nfavorite_language.rstrip()",
      "metadata": {
        "trusted": true
      },
      "outputs": [
        {
          "execution_count": 57,
          "output_type": "execute_result",
          "data": {
            "text/plain": "' python'"
          },
          "metadata": {}
        }
      ],
      "execution_count": 57
    },
    {
      "cell_type": "code",
      "source": "favorite_language.lstrip()",
      "metadata": {
        "trusted": true
      },
      "outputs": [
        {
          "execution_count": 58,
          "output_type": "execute_result",
          "data": {
            "text/plain": "'python '"
          },
          "metadata": {}
        }
      ],
      "execution_count": 58
    },
    {
      "cell_type": "code",
      "source": "favorite_language.strip()",
      "metadata": {
        "trusted": true
      },
      "outputs": [
        {
          "execution_count": 59,
          "output_type": "execute_result",
          "data": {
            "text/plain": "'python'"
          },
          "metadata": {}
        }
      ],
      "execution_count": 59
    },
    {
      "cell_type": "markdown",
      "source": "Fazer experimentos com essas funções de remoção pode ajudar você a ter familiaridade com a manipulação de strings. No mundo real, essas funções de remoção são usadas com mais frequência para limpar entradas de usuário antes de armazená-las em um programa.",
      "metadata": {}
    },
    {
      "cell_type": "markdown",
      "source": "### Evitando erros de sintaxe com strings",
      "metadata": {}
    },
    {
      "cell_type": "code",
      "source": "message = \"One of Python's strengths is its diverse community.\"\nprint(message)",
      "metadata": {
        "trusted": true
      },
      "outputs": [
        {
          "name": "stdout",
          "text": "One of Python's strengths is its diverse community.\n",
          "output_type": "stream"
        }
      ],
      "execution_count": 62
    },
    {
      "cell_type": "markdown",
      "source": "O apóstrofo aparece entre um conjunto de aspas duplas,\nportanto o interpretador Python não terá nenhum problema para ler a string corretamente",
      "metadata": {}
    },
    {
      "cell_type": "markdown",
      "source": "No entanto, se você usar aspas simples, o interpretador Python não\nserá capaz de identificar em que ponto a string deve terminar:",
      "metadata": {}
    },
    {
      "cell_type": "code",
      "source": "message = 'One of Python's strengths is its diverse community.'",
      "metadata": {
        "trusted": true
      },
      "outputs": [
        {
          "ename": "<class 'SyntaxError'>",
          "evalue": "unterminated string literal (detected at line 1) (<ipython-input-63-2fdef2bfd92c>, line 1)",
          "traceback": [
            "\u001b[0;36m  Cell \u001b[0;32mIn[63], line 1\u001b[0;36m\u001b[0m\n\u001b[0;31m    message = 'One of Python's strengths is its diverse community.'\u001b[0m\n\u001b[0m                                                                  ^\u001b[0m\n\u001b[0;31mSyntaxError\u001b[0m\u001b[0;31m:\u001b[0m unterminated string literal (detected at line 1)\n"
          ],
          "output_type": "error"
        }
      ],
      "execution_count": 63
    },
    {
      "cell_type": "markdown",
      "source": "**NOTA** O recurso de destaque de sintaxe de seu editor deve ajudar você a identificar alguns <code>erros de sintaxe</code> rapidamente quando escrever seus programas. Se você vir código Python em destaque como se fosse inglês, ou inglês destacado como se fosse código Python, é provável que haja uma aspa sem correspondente em algum ponto de seu arquivo.",
      "metadata": {},
      "attachments": {}
    },
    {
      "cell_type": "markdown",
      "source": "### **FAÇA VOCÊ MESMO**",
      "metadata": {}
    },
    {
      "cell_type": "markdown",
      "source": "**2.3 – Mensagem pessoal:** Armazene o nome de uma pessoa em uma variável e apresente uma mensagem a essa pessoa. Sua mensagem deve ser simples, como “Alô Eric, você gostaria de aprender um pouco de Python hoje?”.",
      "metadata": {}
    },
    {
      "cell_type": "code",
      "source": "Eric = \" Alô Eric, você gostaria de aprender um pouco de Python hoje?\"\nprint(Eric)",
      "metadata": {
        "trusted": true
      },
      "outputs": [
        {
          "name": "stdout",
          "text": " Alô Eric, você gostaria de aprender um pouco de Python hoje?\n",
          "output_type": "stream"
        }
      ],
      "execution_count": 11
    },
    {
      "cell_type": "markdown",
      "source": "**2.4 – Letras maiúsculas e minúsculas em nomes:** Armazene o nome de uma pessoa em uma variável e então apresente o nome dessa pessoa em letras minúsculas, em letras maiúsculas e somente com a primeira letra maiúscula",
      "metadata": {}
    },
    {
      "cell_type": "code",
      "source": "name = \"BARBARA\"\nprint(name.lower())",
      "metadata": {
        "trusted": true
      },
      "outputs": [
        {
          "name": "stdout",
          "text": "barbara\n",
          "output_type": "stream"
        }
      ],
      "execution_count": 12
    },
    {
      "cell_type": "code",
      "source": "print(name.upper())",
      "metadata": {
        "trusted": true
      },
      "outputs": [
        {
          "name": "stdout",
          "text": "BARBARA\n",
          "output_type": "stream"
        }
      ],
      "execution_count": 93
    },
    {
      "cell_type": "code",
      "source": "print(name.title())",
      "metadata": {
        "trusted": true
      },
      "outputs": [
        {
          "name": "stdout",
          "text": "Barbara\n",
          "output_type": "stream"
        }
      ],
      "execution_count": 94
    },
    {
      "cell_type": "markdown",
      "source": "**2.5 – Citação famosa:** Encontre uma citação de uma pessoa famosa que você admire. Exiba a citação e o nome do autor. Sua saída deverá ter a aparência a seguir, incluindo as aspas: Albert Einstein certa vez disse: “Uma pessoa que nunca cometeu um erro jamais tentou nada novo.”",
      "metadata": {}
    },
    {
      "cell_type": "code",
      "source": "autor = \"Albert Einstein\"\ncitacao = \"Uma pessoa que nunca cometeu um erro jamais tentou nada novo.\"\ncitacao_famosa = autor + \" certa vez disse: \" + \"“\"  + citacao + \"“\" \nprint(citacao_famosa)",
      "metadata": {
        "trusted": true
      },
      "outputs": [
        {
          "name": "stdout",
          "text": "Albert Einstein certa vez disse: “Uma pessoa que nunca cometeu um erro jamais tentou nada novo.“\n",
          "output_type": "stream"
        }
      ],
      "execution_count": 13
    },
    {
      "cell_type": "markdown",
      "source": "**2.6 – Citação famosa 2:** Repita o Exercício 2.5, porém, desta vez, armazene o nome da pessoa famosa em uma variável chamada **famous_person**. Em seguida, componha sua mensagem e armazene-a em uma nova variável chamada **message**. Exiba sua mensagem.",
      "metadata": {}
    },
    {
      "cell_type": "code",
      "source": "famous_person = autor\nmessage = famous_person + \"\" +  \" “A educação é a arma mais poderosa que você pode usar para mudar o mundo.“ \"\nprint(message)",
      "metadata": {
        "trusted": true
      },
      "outputs": [
        {
          "name": "stdout",
          "text": "Albert Einstein “A educação é a arma mais poderosa que você pode usar para mudar o mundo.“ \n",
          "output_type": "stream"
        }
      ],
      "execution_count": 96
    },
    {
      "cell_type": "markdown",
      "source": "**2.7 – Removendo caracteres em branco de nomes:** Armazene o nome de uma pessoa e inclua alguns caracteres em branco no início e no final do nome. Lembre-se de usar cada combinação de caracteres, <code>\"\\t\"</code> e <code>\"\\n\"</code>, pelo menos uma vez.",
      "metadata": {}
    },
    {
      "cell_type": "code",
      "source": "name = \" Barbara\"\nname",
      "metadata": {
        "trusted": true
      },
      "outputs": [
        {
          "execution_count": 97,
          "output_type": "execute_result",
          "data": {
            "text/plain": "' Barbara'"
          },
          "metadata": {}
        }
      ],
      "execution_count": 97
    },
    {
      "cell_type": "code",
      "source": "name = \"Barbara \"\nname",
      "metadata": {
        "trusted": true
      },
      "outputs": [
        {
          "execution_count": 98,
          "output_type": "execute_result",
          "data": {
            "text/plain": "'Barbara '"
          },
          "metadata": {}
        }
      ],
      "execution_count": 98
    },
    {
      "cell_type": "code",
      "source": "print(\"\\nBarbara\")",
      "metadata": {
        "trusted": true
      },
      "outputs": [
        {
          "name": "stdout",
          "text": "\nBarbara\n",
          "output_type": "stream"
        }
      ],
      "execution_count": 99
    },
    {
      "cell_type": "code",
      "source": "print(\"\\tBarbara\")",
      "metadata": {
        "trusted": true
      },
      "outputs": [
        {
          "name": "stdout",
          "text": "\tBarbara\n",
          "output_type": "stream"
        }
      ],
      "execution_count": 100
    },
    {
      "cell_type": "code",
      "source": "name.strip()",
      "metadata": {
        "trusted": true
      },
      "outputs": [
        {
          "execution_count": 101,
          "output_type": "execute_result",
          "data": {
            "text/plain": "'Barbara'"
          },
          "metadata": {}
        }
      ],
      "execution_count": 101
    },
    {
      "cell_type": "code",
      "source": "name.lstrip()",
      "metadata": {
        "trusted": true
      },
      "outputs": [
        {
          "execution_count": 102,
          "output_type": "execute_result",
          "data": {
            "text/plain": "'Barbara '"
          },
          "metadata": {}
        }
      ],
      "execution_count": 102
    },
    {
      "cell_type": "code",
      "source": "name.rstrip()",
      "metadata": {
        "trusted": true
      },
      "outputs": [
        {
          "execution_count": 103,
          "output_type": "execute_result",
          "data": {
            "text/plain": "'Barbara'"
          },
          "metadata": {}
        }
      ],
      "execution_count": 103
    },
    {
      "cell_type": "markdown",
      "source": "<hr>",
      "metadata": {}
    },
    {
      "cell_type": "markdown",
      "source": "## **Números**",
      "metadata": {}
    },
    {
      "cell_type": "markdown",
      "source": "Os números são usados com muita frequência em programação para armazenar pontuações em jogos, representar dados em visualizações, guardar informações em aplicações web e assim por diante.",
      "metadata": {}
    },
    {
      "cell_type": "markdown",
      "source": "### Inteiros",
      "metadata": {}
    },
    {
      "cell_type": "markdown",
      "source": "Você pode <code>somar (+)</code>, <code>subtrair (-)</code>, <code>multiplicar (*)</code> e <code>dividir (/)</code> inteiros em Python.",
      "metadata": {}
    },
    {
      "cell_type": "code",
      "source": "2+3",
      "metadata": {
        "trusted": true
      },
      "outputs": [
        {
          "execution_count": 2,
          "output_type": "execute_result",
          "data": {
            "text/plain": "5"
          },
          "metadata": {}
        }
      ],
      "execution_count": 2
    },
    {
      "cell_type": "code",
      "source": "3-2",
      "metadata": {
        "trusted": true
      },
      "outputs": [
        {
          "execution_count": 66,
          "output_type": "execute_result",
          "data": {
            "text/plain": "1"
          },
          "metadata": {}
        }
      ],
      "execution_count": 66
    },
    {
      "cell_type": "code",
      "source": "2*3",
      "metadata": {
        "trusted": true
      },
      "outputs": [
        {
          "execution_count": 67,
          "output_type": "execute_result",
          "data": {
            "text/plain": "6"
          },
          "metadata": {}
        }
      ],
      "execution_count": 67
    },
    {
      "cell_type": "code",
      "source": "3/2",
      "metadata": {
        "trusted": true
      },
      "outputs": [
        {
          "execution_count": 68,
          "output_type": "execute_result",
          "data": {
            "text/plain": "1.5"
          },
          "metadata": {}
        }
      ],
      "execution_count": 68
    },
    {
      "cell_type": "markdown",
      "source": "Em uma sessão de terminal, Python simplesmente devolve o resultado da operação. Dois símbolos de multiplicação são usados em Python para representar <code>exponenciais</code>:",
      "metadata": {}
    },
    {
      "cell_type": "code",
      "source": "3**3",
      "metadata": {
        "trusted": true
      },
      "outputs": [
        {
          "execution_count": 69,
          "output_type": "execute_result",
          "data": {
            "text/plain": "27"
          },
          "metadata": {}
        }
      ],
      "execution_count": 69
    },
    {
      "cell_type": "code",
      "source": "10**6",
      "metadata": {
        "trusted": true
      },
      "outputs": [
        {
          "execution_count": 71,
          "output_type": "execute_result",
          "data": {
            "text/plain": "1000000"
          },
          "metadata": {}
        }
      ],
      "execution_count": 71
    },
    {
      "cell_type": "markdown",
      "source": "A linguagem Python também aceita a ordem das operações, portanto você pode fazer várias operações em uma expressão. Também podemos usar parênteses para modificar a ordem das operações para que Python possa avaliar sua expressão na ordem que você especificar. Por exemplo:§",
      "metadata": {}
    },
    {
      "cell_type": "code",
      "source": "2 + 3*4",
      "metadata": {
        "trusted": true
      },
      "outputs": [
        {
          "execution_count": 73,
          "output_type": "execute_result",
          "data": {
            "text/plain": "14"
          },
          "metadata": {}
        }
      ],
      "execution_count": 73
    },
    {
      "cell_type": "code",
      "source": "(2+3) *4",
      "metadata": {
        "trusted": true
      },
      "outputs": [
        {
          "execution_count": 5,
          "output_type": "execute_result",
          "data": {
            "text/plain": "20"
          },
          "metadata": {}
        }
      ],
      "execution_count": 5
    },
    {
      "cell_type": "markdown",
      "source": "**Os espaços nesses exemplos não têm nenhum efeito no modo como Python avalia as expressões:** eles simplesmente ajudam a identificar mais rapidamente as operações que têm prioridade quando lemos o código.",
      "metadata": {}
    },
    {
      "cell_type": "markdown",
      "source": "### Números de ponto flutuante (float)",
      "metadata": {}
    },
    {
      "cell_type": "markdown",
      "source": "**Python chama qualquer número com um ponto decimal de <code>número de ponto flutuante (float)</code>.** \nEsse termo é usado na maioria das linguagens de programação e refere-se ao fato de um ponto decimal poder aparecer em qualquer posição em um número.",
      "metadata": {}
    },
    {
      "cell_type": "code",
      "source": "0.1 + 0.1",
      "metadata": {
        "trusted": true
      },
      "outputs": [
        {
          "execution_count": 79,
          "output_type": "execute_result",
          "data": {
            "text/plain": "0.2"
          },
          "metadata": {}
        }
      ],
      "execution_count": 79
    },
    {
      "cell_type": "code",
      "source": "2 * 0.1",
      "metadata": {
        "trusted": true
      },
      "outputs": [
        {
          "execution_count": 78,
          "output_type": "execute_result",
          "data": {
            "text/plain": "0.2"
          },
          "metadata": {}
        }
      ],
      "execution_count": 78
    },
    {
      "cell_type": "markdown",
      "source": "No entanto, tome cuidado, pois, às vezes, você poderá obter umnúmero arbitrário de casas decimais em sua resposta:",
      "metadata": {}
    },
    {
      "cell_type": "code",
      "source": "0.2 + 0.1",
      "metadata": {
        "trusted": true
      },
      "outputs": [
        {
          "execution_count": 80,
          "output_type": "execute_result",
          "data": {
            "text/plain": "0.30000000000000004"
          },
          "metadata": {}
        }
      ],
      "execution_count": 80
    },
    {
      "cell_type": "code",
      "source": "3 * 0.1",
      "metadata": {
        "trusted": true
      },
      "outputs": [
        {
          "execution_count": 83,
          "output_type": "execute_result",
          "data": {
            "text/plain": "0.30000000000000004"
          },
          "metadata": {}
        }
      ],
      "execution_count": 83
    },
    {
      "cell_type": "markdown",
      "source": "Isso acontece em todas as linguagens e não é motivo para muita preocupação. Basta ignorar as casas decimais extras por enquanto;",
      "metadata": {}
    },
    {
      "cell_type": "markdown",
      "source": "### Evitando erros de tipo com a função str()",
      "metadata": {}
    },
    {
      "cell_type": "markdown",
      "source": "Com frequência, você vai querer usar o valor de uma variável em uma mensagem. Por exemplo, suponha que você queira desejar feliz aniversário a alguém. Você poderia escrever um código como este:",
      "metadata": {}
    },
    {
      "cell_type": "code",
      "source": "age = 23\nmessage = \"Happy\" + age + \"rd Birthday\"\nprint(message)",
      "metadata": {
        "trusted": true
      },
      "outputs": [
        {
          "ename": "<class 'TypeError'>",
          "evalue": "can only concatenate str (not \"int\") to str",
          "traceback": [
            "\u001b[0;31m---------------------------------------------------------------------------\u001b[0m",
            "\u001b[0;31mTypeError\u001b[0m                                 Traceback (most recent call last)",
            "Cell \u001b[0;32mIn[89], line 2\u001b[0m\n\u001b[1;32m      1\u001b[0m age \u001b[38;5;241m=\u001b[39m \u001b[38;5;241m23\u001b[39m\n\u001b[0;32m----> 2\u001b[0m message \u001b[38;5;241m=\u001b[39m \u001b[38;5;124;43m\"\u001b[39;49m\u001b[38;5;124;43mHappy\u001b[39;49m\u001b[38;5;124;43m\"\u001b[39;49m\u001b[43m \u001b[49m\u001b[38;5;241;43m+\u001b[39;49m\u001b[43m \u001b[49m\u001b[43mage\u001b[49m \u001b[38;5;241m+\u001b[39m \u001b[38;5;124m\"\u001b[39m\u001b[38;5;124mrd Birthday Barbara\u001b[39m\u001b[38;5;124m\"\u001b[39m\n\u001b[1;32m      3\u001b[0m \u001b[38;5;28mprint\u001b[39m(message)\n",
            "\u001b[0;31mTypeError\u001b[0m: can only concatenate str (not \"int\") to str"
          ],
          "output_type": "error"
        }
      ],
      "execution_count": 89
    },
    {
      "cell_type": "markdown",
      "source": "**É um erro de tipo. Significa que Python não é capaz de reconhecer o tipo de informação que você está usando. Nesse exemplo, Python vê que você está usando uma variável em que cujo valor é um <code>inteiro (int)</code>, mas não tem certeza de como interpretar esse valor. Quando usar inteiros em strings desse modo, você precisará especificar explicitamente que quer que Python utilize o inteiro como uma string de caracteres. Podemos fazer isso envolvendo a variável com a função <code>str()</code>; essa função diz a Python para representar valores que não são strings como strings:**",
      "metadata": {}
    },
    {
      "cell_type": "code",
      "source": "age = 23\nmessage = \"Happy \" + str(age) + \"rd Birthday Barbara\"\nprint(message)",
      "metadata": {
        "trusted": true
      },
      "outputs": [
        {
          "name": "stdout",
          "text": "Happy 23rd Birthday Barbara\n",
          "output_type": "stream"
        }
      ],
      "execution_count": 90
    },
    {
      "cell_type": "markdown",
      "source": "Se você estiver obtendo resultados inesperados, verifique se Python está interpretando seus números da forma desejada, seja como um valor numérico, seja como um valor de string.",
      "metadata": {}
    },
    {
      "cell_type": "markdown",
      "source": "### **FAÇA VOCÊ MESMO**",
      "metadata": {}
    },
    {
      "cell_type": "markdown",
      "source": "**2.8 – Número oito:** Escreva operações de adição, subtração, multiplicação e divisão que resultem no número 8. Lembre-se de colocar suas operações em instruções print para ver os resultados. Você deve criar quatro linhas como esta: print(5 + 3) Sua saída deve simplesmente ser composta de quatro linhas, com o número 8 em cada uma das linhas.",
      "metadata": {}
    },
    {
      "cell_type": "code",
      "source": "print(4+4)",
      "metadata": {
        "trusted": true
      },
      "outputs": [
        {
          "name": "stdout",
          "text": "8\n",
          "output_type": "stream"
        }
      ],
      "execution_count": 104
    },
    {
      "cell_type": "code",
      "source": "print(2*4)",
      "metadata": {
        "trusted": true
      },
      "outputs": [
        {
          "name": "stdout",
          "text": "8\n",
          "output_type": "stream"
        }
      ],
      "execution_count": 106
    },
    {
      "cell_type": "code",
      "source": "print(16-8)",
      "metadata": {
        "trusted": true
      },
      "outputs": [
        {
          "name": "stdout",
          "text": "8\n",
          "output_type": "stream"
        }
      ],
      "execution_count": 108
    },
    {
      "cell_type": "code",
      "source": "print(16/2)",
      "metadata": {
        "trusted": true
      },
      "outputs": [
        {
          "name": "stdout",
          "text": "8.0\n",
          "output_type": "stream"
        }
      ],
      "execution_count": 109
    },
    {
      "cell_type": "markdown",
      "source": "**2.9 – Número favorito:** Armazene seu número favorito em uma variável. Em seguida, usando essa variável, crie uma mensagem que revele o seu número favorito. Exiba essa mensagem.\n",
      "metadata": {}
    },
    {
      "cell_type": "code",
      "source": "idade = 23\nmensagem = \"A Barbara no dia 22 de maio \" + str(idade) + \" anos de idade.\" \nmensagem",
      "metadata": {
        "trusted": true
      },
      "outputs": [
        {
          "execution_count": 112,
          "output_type": "execute_result",
          "data": {
            "text/plain": "'A Barbara fez dia 22 de maio 23 anos de idade.'"
          },
          "metadata": {}
        }
      ],
      "execution_count": 112
    },
    {
      "cell_type": "markdown",
      "source": "<hr>",
      "metadata": {}
    },
    {
      "cell_type": "markdown",
      "source": "## **Comentários**",
      "metadata": {}
    },
    {
      "cell_type": "markdown",
      "source": "Em Python, o caractere sustenido <code>(#) indica um comentário</code>. Tudo que vier depois de um caractere sustenido em seu código será ignorado pelo interpretador Python. Por exemplo: comment.py # Diga olá a todos print(\"Hello Python people!\") Python ignora a primeira linha e executa a segunda.",
      "metadata": {}
    },
    {
      "cell_type": "markdown",
      "source": "Quando estiver decidindo se deve escrever um comentário, pergunte a si mesmo se você precisou considerar várias abordagens antes de definir uma maneira razoável de fazer algo funcionar; em caso afirmativo, escreva um comentário sobre sua solução. É muito mais fácil apagar comentários extras depois que retornar e escrever comentários em um programa pouco comentado.",
      "metadata": {}
    },
    {
      "cell_type": "markdown",
      "source": "### **FAÇA VOCÈ MESMO**",
      "metadata": {}
    },
    {
      "cell_type": "markdown",
      "source": "**2.10 – Acrescentando comentários:** Escolha dois dos programas que você escreveu e acrescente pelo menos um comentário em cada um. Se você não tiver nada específico para escrever porque o programa é muito simples no momento, basta adicionar seu nome e a data de hoje no início de cada arquivo de programa. Em seguida, escreva uma frase que descreva o que o programa faz",
      "metadata": {}
    },
    {
      "cell_type": "markdown",
      "source": "<hr>",
      "metadata": {}
    },
    {
      "cell_type": "markdown",
      "source": "## **Zen de Python**",
      "metadata": {}
    },
    {
      "cell_type": "markdown",
      "source": "Programadores Python experientes incentivarão você a evitar a complexidade e buscar a simplicidade sempre que for possível. A filosofia da comunidade Python está contida no **<code>“Zen de Python” de Tim Peters.</code>** Você pode acessar esse conjunto resumido de princípios para escrever um bom código Python fornecendo **<code>import this</code>** ao seu interpretador.",
      "metadata": {}
    },
    {
      "cell_type": "markdown",
      "source": "Não reproduzirei todo o “Zen de Python” aqui, mas compartilharei algumas linhas para ajudar a entender por que elas devem ser importantes para você como um programador Python iniciante.",
      "metadata": {}
    },
    {
      "cell_type": "markdown",
      "source": "* **(Bonito é melhor que feio)** Os programadores Python adotam a noção de que o código pode ser bonito e elegante. Em programação, as pessoas resolvem problemas. Os programadores sempre respeitaram soluções bem projetadas, eficientes e até mesmo bonitas para os problemas.",
      "metadata": {}
    },
    {
      "cell_type": "markdown",
      "source": "* **(Simples é melhor que complexo)** Se você puder escolher entre uma solução simples e outra complexa, e as duas funcionarem, utilize a solução simples. Seu código será mais fácil de manter, e será mais simples para você e para outras pessoas desenvolverem com base nesse código posteriormente.",
      "metadata": {}
    },
    {
      "cell_type": "markdown",
      "source": "* **(Complexo é melhor que complicado)** A vida real é confusa e, às vezes, uma solução simples para um problema não é viável. Nesse caso, utilize a solução mais simples possível que funcione.",
      "metadata": {}
    },
    {
      "cell_type": "markdown",
      "source": "* **(Legibilidade conta)** Mesmo quando seu código for complexo, procure deixá-lo legível. Quando trabalhar com um projeto que envolva códigos complexos, procure escrever comentários informativos para esse código.",
      "metadata": {}
    },
    {
      "cell_type": "markdown",
      "source": "* **(Deve haver uma – e, de preferência, apenas uma – maneira óbvia de fazer algo)** Se for solicitado a dois programadores Python que resolvam o mesmo problema, eles deverão apresentar soluções razoavelmente compatíveis. No entanto, boa parte da programação consiste em usar abordagens pequenas e comuns para situações simples em um projeto maior e mais criativo. Os detalhes de funcionamento de seus programas devem fazer sentido para outros programadores Python.",
      "metadata": {}
    },
    {
      "cell_type": "markdown",
      "source": "* **(Agora é melhor que nunca)** Não tente escrever um código perfeito; escreva um código que funcione e, então, decida se deve aperfeiçoá-lo nesse projeto ou passar para algo novo.",
      "metadata": {}
    },
    {
      "cell_type": "markdown",
      "source": "### **FAÇA VOCÈ MESMO**",
      "metadata": {}
    },
    {
      "cell_type": "markdown",
      "source": "**2.11 – Zen de Python:** Digite import this em uma sessão de terminal de Python e dê uma olhada nos princípios adicionais.",
      "metadata": {}
    },
    {
      "cell_type": "code",
      "source": "import this",
      "metadata": {
        "trusted": true
      },
      "outputs": [
        {
          "name": "stdout",
          "text": "The Zen of Python, by Tim Peters\n\nBeautiful is better than ugly.\nExplicit is better than implicit.\nSimple is better than complex.\nComplex is better than complicated.\nFlat is better than nested.\nSparse is better than dense.\nReadability counts.\nSpecial cases aren't special enough to break the rules.\nAlthough practicality beats purity.\nErrors should never pass silently.\nUnless explicitly silenced.\nIn the face of ambiguity, refuse the temptation to guess.\nThere should be one-- and preferably only one --obvious way to do it.\nAlthough that way may not be obvious at first unless you're Dutch.\nNow is better than never.\nAlthough never is often better than *right* now.\nIf the implementation is hard to explain, it's a bad idea.\nIf the implementation is easy to explain, it may be a good idea.\nNamespaces are one honking great idea -- let's do more of those!\n",
          "output_type": "stream"
        }
      ],
      "execution_count": 1
    },
    {
      "cell_type": "code",
      "source": "",
      "metadata": {
        "trusted": true
      },
      "outputs": [],
      "execution_count": null
    }
  ]
}