{
 "cells": [
  {
   "cell_type": "markdown",
   "id": "691d334f-d3b1-4bad-84ea-85bfb53e881a",
   "metadata": {},
   "source": [
    "# Cap.11 - **Testando o seu código**"
   ]
  },
  {
   "cell_type": "markdown",
   "id": "063181c5-fd1c-4173-953b-3f4383737c7e",
   "metadata": {},
   "source": [
    "**Quando escrevemos uma <code>função ou uma classe</code>, podemos também escrever <code>testes</code> para esse código. Os <code>testes</code> provam que seu código funciona como deveria em resposta a todos os tipos de entrada para os quais ele foi projetado para receber.** Ao escrever <code>**testes**</code>, você poderá estar confiante de que seu código funcionará corretamente quando mais pessoas começarem a usar seus programas. **Você também poderá testar novos códigos à medida que adicioná-los para garantir que suas alterações não afetem o comportamento já existente em seu programa**. Todo programador comete erros, portanto todo programador deve testar seus códigos com frequência, identificando os problemas antes que os usuários os encontrem.\n",
    "\n",
    "Neste capítulo aprenderemos a testar o código usando ferramentas do módulo <code>**unittest**</code> de Python. Veremos como criar um caso de <code>**teste**</code> e verificar se um conjunto de entradas resulta na saída desejada. **Conheceremos a aparência de um teste que passa e de um teste que não passa, e veremos como um teste que falha pode nos ajudar a melhorar o código. Aprenderemos a testar <code>funções e classes</code>, e você começará a entender quantos testes devem ser escritos para um projeto.**"
   ]
  },
  {
   "cell_type": "markdown",
   "id": "9ce3e128-1642-40d4-8daa-a32c3b9eca3b",
   "metadata": {},
   "source": [
    "## **Testando uma função**"
   ]
  },
  {
   "cell_type": "markdown",
   "id": "b3289e18-359c-464c-a63c-a2595af69d9e",
   "metadata": {},
   "source": [
    "**Para aprender a testar, precisamos de um código para testes**. Eis uma função simples que aceita um primeiro nome e um sobrenome e devolve um nome completo formatado de modo elegante:"
   ]
  },
  {
   "cell_type": "code",
   "execution_count": 19,
   "id": "ea189c48-b617-4521-9403-df16178205ad",
   "metadata": {
    "tags": []
   },
   "outputs": [],
   "source": [
    "def get_formatted_name(first, last): \n",
    "    \"\"\"Gera um nome completo formatado de modo elegante.\"\"\"\n",
    "    full_name = first + ' ' + last \n",
    "    return full_name.title()"
   ]
  },
  {
   "cell_type": "markdown",
   "id": "30ec8be1-c6ef-4e2a-afd8-a7c556361a3d",
   "metadata": {},
   "source": [
    "A função **'get_formatted_name()'** combina o primeiro nome e o sobrenome com um espaço entre eles para compor um nome completo e então converte as primeiras letras do nome para maiúsculas e devolve o nome completo. **Para verificar se 'get_formatted_name()' funciona, vamos criar um programa que use essa função**. O programa **'names.py'** permite que os usuários forneçam um primeiro nome e um sobrenome e vejam um nome completo formatado de modo elegante:"
   ]
  },
  {
   "cell_type": "code",
   "execution_count": 17,
   "id": "9440f8e7-91fa-4b53-be0c-5450870c9e83",
   "metadata": {
    "tags": []
   },
   "outputs": [
    {
     "name": "stdout",
     "output_type": "stream",
     "text": [
      "Enter 'q' at any time to quit.\n"
     ]
    },
    {
     "name": "stdin",
     "output_type": "stream",
     "text": [
      "\n",
      "Please give me a first name:  denylson\n",
      "Please give me a last name:  panzo\n"
     ]
    },
    {
     "name": "stdout",
     "output_type": "stream",
     "text": [
      "\tNeatly formatted name: Denylson Panzo.\n"
     ]
    },
    {
     "name": "stdin",
     "output_type": "stream",
     "text": [
      "\n",
      "Please give me a first name:  bárbara\n",
      "Please give me a last name:  bergamo\n"
     ]
    },
    {
     "name": "stdout",
     "output_type": "stream",
     "text": [
      "\tNeatly formatted name: Bárbara Bergamo.\n"
     ]
    },
    {
     "name": "stdin",
     "output_type": "stream",
     "text": [
      "\n",
      "Please give me a first name:  q\n"
     ]
    }
   ],
   "source": [
    "from name_function import get_formatted_name\n",
    "\n",
    "print(\"Enter 'q' at any time to quit.\")\n",
    "\n",
    "while True:\n",
    "    first = input(\"\\nPlease give me a first name: \")\n",
    "    if first == 'q':\n",
    "        break\n",
    "    last = input(\"Please give me a last name: \")\n",
    "    if last == 'q':\n",
    "        break\n",
    "    formatted_name = get_formatted_name(first, last)\n",
    "    # Certifique-se de que formatted_name não é None\n",
    "    print(\"\\tNeatly formatted name: \" + formatted_name + '.')\n"
   ]
  },
  {
   "cell_type": "markdown",
   "id": "44311534-449d-4ce3-a71f-c890df970111",
   "metadata": {},
   "source": [
    "**Podemos ver que os nomes gerados nesse caso estão corretos**. Porém, **vamos supor que queremos modificar **'get_formatted_name()'** para que ele seja capaz de lidar com nomes do meio também**. Quando fizermos isso, queremos ter certeza de que não causaremos erros no modo como a função trata os nomes que tenham apenas um primeiro nome e um sobrenome. Poderíamos testar nosso código executando **'names.py'** e fornecendo um nome como \"Janis Joplin\" sempre que modificarmos **'get_formatted_name()'**, mas isso seria tedioso. **Felizmente Python oferece um modo eficiente de automatizar os testes da saída de uma função. Se os testes de 'get_formatted_name()' forem automatizados, poderemos sempre ter a confiança de que a função estará correta quando fornecermos os tipos de nomes para os quais os testes forem escritos.**"
   ]
  },
  {
   "cell_type": "markdown",
   "id": "a00c6485-807c-4976-a549-720f70675c34",
   "metadata": {},
   "source": [
    "### Testes de unidade e casos de teste"
   ]
  },
  {
   "cell_type": "markdown",
   "id": "78f4bec6-0dcb-4a9f-b7fc-90e448335e8f",
   "metadata": {},
   "source": [
    "O módulo <code>**unittest**</code> da biblioteca-padrão de Python oferece as ferramentas para testar seu código. Um **<code>teste de unidade</code> verifica se um aspecto específico do comportamento de uma função está correto**. Um **<code>caso de teste</code> é uma coleção de testes de unidade que, em conjunto, prova que uma função se comporta como deveria em todas as situações que você espera que ela trate.** Um bom caso de teste considera todos os tipos possíveis de entradas que uma função poderia receber e inclui testes para representar cada uma dessas situações. \n",
    "\n",
    "**Um caso de teste com <code>cobertura completa</code> é composto de uma variedade de testes de unidade que inclui todas as possíveis maneiras de usar uma função**. Atingir a <code>**cobertura completa**</code> em um projeto de grande porte pode ser desanimador. Em geral, é suficiente escrever testes para os comportamentos críticos de seu código e então visar a uma <code>**cobertura completa**</code> somente se o projeto começar a ter uso disseminado."
   ]
  },
  {
   "cell_type": "markdown",
   "id": "69ffa2f3-4f6c-44f4-a415-4cbf64427128",
   "metadata": {},
   "source": [
    "### Um teste que passa"
   ]
  },
  {
   "cell_type": "markdown",
   "id": "25f2571a-7db5-4683-af78-8bbe2f2e83c7",
   "metadata": {},
   "source": [
    "A sintaxe para criar um caso de teste exige um pouco de prática, mas depois que você o configurar, será mais fácil adicionar outros casos de teste para suas funções. Para escrever **<code>um caso de teste</code> para uma função, importe o módulo <code>unittest</code> e a função que você quer testar. Em seguida crie uma classe que herde de <code>unittest.TestCase</code> e escreva uma série de métodos para testar diferentes aspectos do comportamento de sua função.**\n",
    "\n",
    "Eis um caso de teste com um método que verifica se a função **get_formatted_name()** está correta quando recebe um primeiro nome e um sobrenome:"
   ]
  },
  {
   "cell_type": "markdown",
   "id": "740403ae-6423-431e-89f3-c866656abec5",
   "metadata": {},
   "source": [
    "****"
   ]
  },
  {
   "cell_type": "markdown",
   "id": "121faa4c-4b34-4488-b8be-0465b9391ba1",
   "metadata": {},
   "source": [
    "####  Minha nota atraves Chatgpt: o unittest.main() não funciona bem no Jupyter Notebook\n",
    "O erro que você está encontrando sugere que há um problema ao executar o <code>**unittest no ambiente Jupyter Notebook**</code>. O **<code>unittest.main() não funciona muito bem em notebooks Jupyter devido à maneira como os notebooks gerenciam o escopo e a execução do código.</code>**\n",
    "\n",
    "Para resolver isso, você pode usar uma abordagem diferente ao rodar seus testes dentro de um notebook Jupyter. **Vamos adaptar o código para funcionar corretamente nesse ambiente.**"
   ]
  },
  {
   "cell_type": "markdown",
   "id": "3f39081f-f265-4746-bc9f-117b3b4e87dc",
   "metadata": {},
   "source": [
    "****"
   ]
  },
  {
   "cell_type": "code",
   "execution_count": 2,
   "id": "40c7f51e-8ddd-4235-a55a-72716b8fde64",
   "metadata": {
    "tags": []
   },
   "outputs": [
    {
     "name": "stderr",
     "output_type": "stream",
     "text": [
      ".\n",
      "----------------------------------------------------------------------\n",
      "Ran 1 test in 0.000s\n",
      "\n",
      "OK\n"
     ]
    }
   ],
   "source": [
    "import unittest\n",
    "from name_function import get_formatted_name\n",
    "\n",
    "# Definição da classe de teste\n",
    "class NamesTestCase(unittest.TestCase):\n",
    "    \"\"\"Testes para 'name_function.py'.\"\"\"\n",
    "\n",
    "    def test_first_last_name(self):\n",
    "        \"\"\"Nomes como 'Janis Joplin' funcionam?\"\"\"\n",
    "        formatted_name = get_formatted_name('janis', 'joplin')\n",
    "        self.assertEqual(formatted_name, 'Janis Joplin')\n",
    "\n",
    "# Função para rodar os testes\n",
    "def run_tests():\n",
    "    suite = unittest.TestLoader().loadTestsFromTestCase(NamesTestCase)\n",
    "    unittest.TextTestRunner().run(suite)\n",
    "\n",
    "# Execute the test function\n",
    "run_tests()"
   ]
  },
  {
   "cell_type": "markdown",
   "id": "65f88414-3c47-4167-b858-fcc28aa74d4e",
   "metadata": {
    "tags": []
   },
   "source": [
    "Inicialmente importamos <code>unittest</code> e a função **'get_formatted_name()'** que queremos testar. E criamos uma **classe chamada 'NamesTestCase', que conterá uma série de testes de unidade para **'get_formatted_name()'**. Você pode dar o nome que quiser para a classe, mas é melhor nomeá-la com palavras relacionadas à função que você está prestes a testar e usar a palavra **'Test'** no nome da classe.** Essa classe dever herdar da classe <code>unittest.TestCase</code> para que Python saiba executar os testes que você escrever.**"
   ]
  },
  {
   "cell_type": "markdown",
   "id": "2f19f647-fd4e-4bfd-b9ec-e4b8f2536353",
   "metadata": {},
   "source": [
    "<code>**NamesTestCase**</code> contém um único método que testa um aspecto de **'get_formatted_name()'**. Chamamos esse método de **'test_first_last_name()' porque estamos verificando se os nomes que têm apenas o primeiro nome e o sobrenome são formatados corretamente. Qualquer método que comece com <code>test_</code> será executado de modo automático quando 'test_name_function.py' for executado**. Nesse método de teste, **chamamos a função que queremos testar e armazenamos um valor de retorno que estamos interessados em testar**. Nesse exemplo, chamamos **'get_formatted_name()'** com os argumentos **'janis' e 'joplin'** e armazenamos o resultado em **'formatted_name'**. \n",
    "\n",
    "Usamos um dos recursos mais úteis de <code>**unittest**</code>: **um <code>método de asserção</code>**. Os **<code>métodos de asserção</code> verificam se um resultado recebido é igual ao resultado que você esperava receber**. Nesse caso, como sabemos que **'get_formatted_name()'** deve devolver um nome completo, com as letras iniciais maiúsculas e os espaços apropriados, esperamos que o valor em **'formatted_name' seja 'Janis Jopli'**. Para conferir se isso é verdade, usamos o método <code>**assertEqual()**</code> de <code>**unittest**</code> e lhe passamos formatted_name e 'Janis Joplin'. A linha <code>**self.assertEqual(formatted_name, 'Janis Joplin')**</code> diz o seguinte: **“Compare o valor em formatted_name com a string 'Janis Joplin'. Se forem iguais conforme esperado, tudo bem. Contudo, se não forem iguais, me avise!”**."
   ]
  },
  {
   "cell_type": "markdown",
   "id": "82c6b235-5f07-4f28-b2fd-d6a6767ddf15",
   "metadata": {
    "tags": []
   },
   "source": [
    "A linha <code>**unittest.main()**</code> diz a Python para executar os testes desse arquivo. Quando executamos test_name_function.py, vemos a saída a seguir: \n",
    "\n",
    "**----------------------------------------------------------------------**   \n",
    "**Ran 1 test in 0.000s   \n",
    "OK**\n",
    "\n",
    "**O ponto na primeira linha da saída nos informa que um único teste passou**. A próxima linha diz que Python executou um teste e demorou menos de **0,001 segundo para fazê-lo**. O **OK no final informa que todos os testes de unidade do caso de teste passaram.**\n",
    "\n",
    "Essa saída mostra que a função **'get_formatted_name()'** sempre funcionará para nomes que tenham o primeiro nome e o sobrenome, a menos que a função seja modificada. Se modificarmos **'get_formatted_name()'**, poderemos executar esse teste novamente. Se o caso de teste passar, saberemos que a função continua funcionando para nomes como **Janis Joplin**."
   ]
  },
  {
   "cell_type": "markdown",
   "id": "ca2d5520-a406-4d94-b995-7b1a536adfd1",
   "metadata": {},
   "source": [
    "### Um teste que falha"
   ]
  },
  {
   "cell_type": "markdown",
   "id": "1fac1899-ab8c-4e42-b076-c480291881f3",
   "metadata": {},
   "source": [
    "**Como é a aparência de um teste que falha?** Vamos modificar **'get_formatted_name()'** para que possa tratar nomes do meio, mas faremos isso de modo que a função gere um erro para nomes que tenham apenas um primeiro nome e um sobrenome, como **Janis Joplin**.   \n",
    "\n",
    "A seguir, apresentamos uma nova versão de **'get_formatted_name()'** que exige um argumento para um nome do meio:"
   ]
  },
  {
   "cell_type": "code",
   "execution_count": 22,
   "id": "47670449-5fb6-42f4-810d-5be6505af30b",
   "metadata": {
    "tags": []
   },
   "outputs": [
    {
     "name": "stderr",
     "output_type": "stream",
     "text": [
      "E\n",
      "======================================================================\n",
      "ERROR: test_first_last_name (__main__.NamesTestCase.test_first_last_name)\n",
      "Nomes como 'Janis Joplin' funcionam?\n",
      "----------------------------------------------------------------------\n",
      "Traceback (most recent call last):\n",
      "  File \"/var/folders/mp/_1mc66sj15dcx84w85zjp_fr0000gn/T/ipykernel_42879/3378773411.py\", line 10, in test_first_last_name\n",
      "    formatted_name = get_formatted_name('janis', 'joplin')\n",
      "                     ^^^^^^^^^^^^^^^^^^^^^^^^^^^^^^^^^^^^^\n",
      "TypeError: get_formatted_name() missing 1 required positional argument: 'last'\n",
      "\n",
      "----------------------------------------------------------------------\n",
      "Ran 1 test in 0.002s\n",
      "\n",
      "FAILED (errors=1)\n"
     ]
    }
   ],
   "source": [
    "import unittest\n",
    "from test_name_function import get_formatted_name\n",
    "\n",
    "# Definição da classe de teste\n",
    "class NamesTestCase(unittest.TestCase):\n",
    "    \"\"\"Testes para 'name_function.py'.\"\"\"\n",
    "\n",
    "    def test_first_last_name(self):\n",
    "        \"\"\"Nomes como 'Janis Joplin' funcionam?\"\"\"\n",
    "        formatted_name = get_formatted_name('janis', 'joplin')\n",
    "        self.assertEqual(formatted_name, 'Janis Joplin')\n",
    "\n",
    "# Função para rodar os testes\n",
    "def run_tests():\n",
    "    suite = unittest.TestLoader().loadTestsFromTestCase(NamesTestCase)\n",
    "    unittest.TextTestRunner().run(suite)\n",
    "\n",
    "# Execute the test function\n",
    "run_tests()"
   ]
  },
  {
   "cell_type": "markdown",
   "id": "69620778-293e-4507-9a1a-a7c4fbe67a6b",
   "metadata": {},
   "source": [
    "Há muitas informações aqui, pois há muitos dados que você precisa saber quando um teste falha. O primeiro item da saída é um único **<code>'E'</code>, que nos informa que um teste de unidade do caso de teste resultou em erro**. A seguir, **vemos que <code>test_first_last_name() em NamesTestCase</code> causou um erro**. Saber qual teste falhou será crucial quando o seu caso de teste tiver muitos testes de unidade. E vemos um traceback padrão, que informa que **a chamada de função get_formatted_name('janis', 'joplin') não funciona mais, pois um argumento posicional obrigatório está ausente**.\n",
    "\n",
    "**Também podemos ver que um único teste de unidade foi executado**. Por fim, **vemos uma mensagem adicional informando que o caso de teste como um todo falhou e que houve um erro em sua execução.** Essa informação aparece no final da saída para que possa ser vista de imediato; você não vai querer fazer uma rolagem para cima em uma listagem longa de saída para descobrir quantos testes falharam."
   ]
  },
  {
   "cell_type": "markdown",
   "id": "71818749-7d9c-470d-ba31-8ce3ba9d0faf",
   "metadata": {},
   "source": [
    "### Respondendo a um teste que falhou"
   ]
  },
  {
   "cell_type": "markdown",
   "id": "fda2b295-db45-4808-becd-d04bf34b41ce",
   "metadata": {},
   "source": [
    "**O que devemos fazer quando um teste falha?** Supondo que você esteja verificando as condições corretas, um teste que passa significa que a função está se comportando de forma apropriada e um teste que falha quer dizer que há um erro no novo código que você escreveu. **Assim, se um teste falhar, não mude o teste. Em vez disso, corrija o código que fez o teste falhar. Analise as alterações que você acabou de fazer na função e descubra como elas afetaram o comportamento desejado.**\n",
    "\n",
    "Nesse caso, 'get_formatted_name()' costumava exigir apenas dois parâmetros: um primeiro nome e um sobrenome. Agora ela exige um primeiro nome, um nome do meio e um sobrenome. **A adição do parâmetro obrigatório para o nome do meio fez o comportamento desejado de 'get_formatted_name()' apresentar problemas. A melhor opção nesse caso é deixar o nome do meio opcional**. Feito isso, nosso teste para nomes como Janis Joplin deverá passar novamente e poderemos aceitar nomes do meio também. **Vamos modificar 'get_formatted_name()' de modo que os nomes do meio sejam opcionais e então executar o caso de teste novamente**. Se o teste passar, prosseguiremos para garantir que a função trate os nomes do meio de forma apropriada.\n",
    "\n",
    "**Para deixar os nomes do meio opcionais, passamos o parâmetro 'middle' para o final da lista de parâmetros na definição da função e lhe fornecemos um <code>valor default vazio</code>**. Além disso, acrescentamos um teste <code>**if**</code> que compõe o nome completo de forma apropriada, conforme um nome do meio tenha sido fornecido ou não:"
   ]
  },
  {
   "cell_type": "code",
   "execution_count": 19,
   "id": "ecf95abd-3320-4227-a6a3-aa41d4998be5",
   "metadata": {
    "tags": []
   },
   "outputs": [
    {
     "name": "stderr",
     "output_type": "stream",
     "text": [
      ".\n",
      "----------------------------------------------------------------------\n",
      "Ran 1 test in 0.001s\n",
      "\n",
      "OK\n"
     ]
    }
   ],
   "source": [
    "import unittest\n",
    "from test_name_function import get_formatted_name\n",
    "\n",
    "# Definição da classe de teste\n",
    "class NamesTestCase(unittest.TestCase):\n",
    "    \"\"\"Testes para 'name_function.py'.\"\"\"\n",
    "\n",
    "    def test_first_last_name(self):\n",
    "        \"\"\"Nomes como 'Janis Joplin' funcionam?\"\"\"\n",
    "        formatted_name = get_formatted_name('janis', 'joplin')\n",
    "        self.assertEqual(formatted_name, 'Janis Joplin')\n",
    "\n",
    "# Função para rodar os testes\n",
    "def run_tests():\n",
    "    suite = unittest.TestLoader().loadTestsFromTestCase(NamesTestCase)\n",
    "    unittest.TextTestRunner().run(suite)\n",
    "\n",
    "# Execute the test function\n",
    "run_tests()"
   ]
  },
  {
   "cell_type": "markdown",
   "id": "e350f2dc-426a-4ffd-8852-36a64a38da95",
   "metadata": {},
   "source": [
    "**Nessa nova versão de 'get_formatted_name()', o nome do meio é opcional**. Se um nome do meio for passado para a função **(if middle:)**, o nome completo conterá um primeiro nome, um nome do meio e um sobrenome. Caso contrário, o nome completo será constituído apenas de um primeiro nome e de um sobrenome. **Agora a função deve estar adequada para trabalhar com os dois tipos de nomes.**\n",
    "\n",
    "O caso de teste agora passou. É a situação ideal: **quer dizer que a função está correta para nomes como Janis Joplin de novo, sem que tenhamos que testar a função manualmente. Corrigir nossa função foi fácil porque o teste que falhou nos ajudou a identificar o novo código que interferiu no comportamento existente.**\n"
   ]
  },
  {
   "cell_type": "markdown",
   "id": "b8b43e20-c5b2-45ea-b6bc-587d48f4f62a",
   "metadata": {},
   "source": [
    "### Adicionando novos testes"
   ]
  },
  {
   "cell_type": "markdown",
   "id": "5f9342cb-180c-4147-9984-9a87e57bb62d",
   "metadata": {},
   "source": [
    "Agora que sabemos que **'get_formatted_name()'** funciona para nomes simples novamente, vamos escrever um segundo teste para pessoas que tenham um nome do meio. Fazemos isso adicionando outro método à classe <code>**NamesTestCase**</code>:"
   ]
  },
  {
   "cell_type": "code",
   "execution_count": 21,
   "id": "7ad6d120-f869-40ea-b919-c1c91c37267e",
   "metadata": {
    "tags": []
   },
   "outputs": [
    {
     "name": "stderr",
     "output_type": "stream",
     "text": [
      ".\n",
      "----------------------------------------------------------------------\n",
      "Ran 1 test in 0.002s\n",
      "\n",
      "OK\n"
     ]
    }
   ],
   "source": [
    "import unittest\n",
    "from test_name_function import get_formatted_name\n",
    "\n",
    "# Definição da classe de teste\n",
    "class NamesTestCase(unittest.TestCase): \n",
    "    \"\"\"Testes para 'name_function.py'.\"\"\"\n",
    "    \n",
    "    def test_first_last_name(self): \n",
    "        \"\"\"Nomes como 'Janis Joplin' funcionam?\"\"\"\n",
    "        formatted_name = get_formatted_name('janis', 'joplin') \n",
    "        self.assertEqual(formatted_name, 'Janis Joplin')\n",
    "        \n",
    "def test_first_last_middle_name(self): \n",
    "    \"\"\"Nomes como 'Wolfgang Amadeus Mozart' funcionam?\"\"\"\n",
    "    formatted_name = get_formatted_name('wolfgang', 'mozart', 'amadeus') \n",
    "    self.assertEqual(formatted_name, 'Wolfgang Amadeus Mozart')\n",
    "\n",
    "# Função para rodar os testes\n",
    "def run_tests():\n",
    "    suite = unittest.TestLoader().loadTestsFromTestCase(NamesTestCase)\n",
    "    unittest.TextTestRunner().run(suite)\n",
    "\n",
    "# Execute the test function\n",
    "run_tests()"
   ]
  },
  {
   "cell_type": "markdown",
   "id": "53758790-26c7-41f0-9d10-0bff55c38a55",
   "metadata": {},
   "source": [
    "Para testar a função, chamamos **'get_formatted_name()' com um primeiro nome, um sobrenome e um nome do meio e, em seguida, usamos <code>assertEqual()</code> para conferir se o nome completo devolvido coincide com o nome completo (primeiro nome, nome do meio e sobrenome) esperado**. Se executarmos **'test_name_function.py'** novamente, veremos que os dois testes passam.\n",
    "\n",
    "Ótimo! Agora sabemos que a função continua correta para nomes como **Janis Joplin**, e podemos estar confiantes de que ela funcionará para nomes como **Wolfgang Amadeus Mozart** também."
   ]
  },
  {
   "cell_type": "markdown",
   "id": "5078b7bd-4913-42de-b7c6-46a8ad369a33",
   "metadata": {},
   "source": [
    "## **FAÇA VOCÊ MESMO**"
   ]
  },
  {
   "cell_type": "markdown",
   "id": "844b1892-f6ad-401c-b2a5-cc0c40239c94",
   "metadata": {},
   "source": [
    "**11.1 – Cidade, país:** Escreva uma função que aceite dois parâmetros: o nome de uma cidade e o nome de um país. A função deve devolver uma única string no formado **Cidade, País**, por exemplo, **Santiago, Chile**. Armazene a função em um módulo chamado city_functions.py.\n",
    "+ Crie um arquivo de nome **test_cities.py** que teste a função que você acabou de escrever (lembre-se de que é necessário importar **unittest** e a função que você quer testar). Escreva um método chamado **test_city_country()** para conferir se a chamada à sua função com valores como **'santiago' e 'chile'** resulta na string correta. Execute test_cities.py e garanta que **test_city_country()** passe no teste."
   ]
  },
  {
   "cell_type": "code",
   "execution_count": 31,
   "id": "f5c7437d-01e2-49d5-8ea9-ae61ee134c91",
   "metadata": {
    "tags": []
   },
   "outputs": [
    {
     "name": "stderr",
     "output_type": "stream",
     "text": [
      ".\n",
      "----------------------------------------------------------------------\n",
      "Ran 1 test in 0.001s\n",
      "\n",
      "OK\n"
     ]
    }
   ],
   "source": [
    "import unittest\n",
    "from city_functions import city_country\n",
    "\n",
    "class CityCountryTestCase(unittest.TestCase):\n",
    "    \"\"\"Testes para 'city_functions.py'.\"\"\"\n",
    "\n",
    "    def test_city_country(self):\n",
    "        \"\"\"Cidades e países como 'Santiago, Chile' funcionam?\"\"\"\n",
    "        formatted_string = city_country('santiago', 'chile')\n",
    "        self.assertEqual(formatted_string, 'Santiago, Chile')\n",
    "\n",
    "# Função para rodar os testes\n",
    "def run_tests():\n",
    "    suite = unittest.TestLoader().loadTestsFromTestCase(CityCountryTestCase)\n",
    "    unittest.TextTestRunner().run(suite)\n",
    "\n",
    "# Execute a função de teste\n",
    "run_tests()"
   ]
  },
  {
   "cell_type": "markdown",
   "id": "13667629-dc44-4841-9296-df53dce50461",
   "metadata": {},
   "source": [
    "**11.2 – População:** Modifique sua função para que ela exija um terceiro parâmetro, **population**. Agora ela deve devolver uma única string no formato **Cidade, País – população xxx**, por exemplo, **Santiago, Chile – população 5000000**. Execute **test_cities.py** novamente. Certifique-se de que **test_city_country()** falhe dessa vez.\n",
    "+ Modifique a função para que o parâmetro **population** seja opcional. Execute **test_cities.py** novamente e garanta que **test_city_country()** passe novamente.\n",
    "Escreva um segundo teste chamado **test_city_country_population()** que verifique se você pode chamar sua função com os valores **'santiago', 'chile'** e **'population=5000000'**. Execute **test_cities.py** novamente e garanta que esse novo teste passe."
   ]
  },
  {
   "cell_type": "code",
   "execution_count": 44,
   "id": "c357d82c-4013-438d-9f4c-ba2b649d1cf0",
   "metadata": {
    "tags": []
   },
   "outputs": [
    {
     "name": "stderr",
     "output_type": "stream",
     "text": [
      ".\n",
      "----------------------------------------------------------------------\n",
      "Ran 1 test in 0.001s\n",
      "\n",
      "OK\n"
     ]
    }
   ],
   "source": [
    "import unittest\n",
    "from city_functions import city_country\n",
    "\n",
    "class CityCountryTestCase(unittest.TestCase):\n",
    "    \"\"\"Testes para 'city_functions.py'.\"\"\"\n",
    "\n",
    "    def test_city_country(self):\n",
    "        \"\"\"Cidades e países como 'Santiago, Chile' funcionam?\"\"\"\n",
    "        formatted_string = city_country('santiago', 'chile')\n",
    "        self.assertEqual(formatted_string, 'Santiago, Chile')\n",
    "    \n",
    "def test_city_country_population(self):\n",
    "    \"\"\"Cidades e países com população como 'Santiago, Chile – população 5000000' funcionam?\"\"\"\n",
    "    formatted_string = city_country('santiago', 'chile', population=5000000)\n",
    "    self.assertEqual(formatted_string, 'Santiago, Chile – população 5000000')\n",
    "\n",
    "# Função para rodar os testes\n",
    "def run_tests():\n",
    "    suite = unittest.TestLoader().loadTestsFromTestCase(CityCountryTestCase)\n",
    "    unittest.TextTestRunner().run(suite)\n",
    "\n",
    "# Execute a função de teste\n",
    "run_tests()"
   ]
  },
  {
   "cell_type": "markdown",
   "id": "c4bc21e5-c354-45a0-8d62-4724d8aacbf7",
   "metadata": {
    "tags": []
   },
   "source": [
    "****"
   ]
  },
  {
   "cell_type": "markdown",
   "id": "3282f2a2-12ad-4815-b69c-2445677814f5",
   "metadata": {},
   "source": [
    "## **Testando uma classe**"
   ]
  },
  {
   "cell_type": "markdown",
   "id": "aa0e9cdc-9893-447f-a7fe-de32c71517ed",
   "metadata": {},
   "source": [
    "**Na primeira parte deste capítulo escrevemos testes para uma única função**. Agora vamos escrever testes para uma classe. **Você usará classes em muitos de seus próprios programas, portanto é conveniente ser capaz de provar que suas classes funcionam corretamente.** Se os testes para uma classe com a qual você estiver trabalhando passarem, você poderá estar confiante de que as melhorias que fizer nessa classe não causarão falhas por acidente no comportamento atual.\n"
   ]
  },
  {
   "cell_type": "markdown",
   "id": "80446d2b-a2fd-4020-8023-587d49308ade",
   "metadata": {},
   "source": [
    "### Uma variedade de <code>**métodos de asserção**</code>"
   ]
  },
  {
   "cell_type": "markdown",
   "id": "0479b23e-9921-417a-8d02-bbd0c1806dd0",
   "metadata": {
    "tags": []
   },
   "source": [
    "Python disponibiliza vários métodos de asserção na classe <code>**unittest.TestCase**</code>. Como mencionamos, os **<code>métodos de asserção</code> testam se uma condição que você acredita ser verdadeira em um ponto específico de seu código é realmente verdadeira**. Se a condição for verdadeira conforme esperado, sua pressuposição sobre o comportamento dessa parte do programa será confirmada; **você pode estar confiante de que não há erros. Se a condição que você supõe ser verdadeira na verdade não for, Python levantará uma exceção.**\n",
    "*\n",
    "A **Tabela 11.1** descreve <code>**seis métodos de asserção**</code> comumente usados. Com esses métodos, podemos **verificar se os valores devolvidos são ou não são iguais aos valores esperados, se os valores são <code>True</code> ou <code>False</code> e se os valores estão <code>(in)</code> ou não estão <code>(not in)</code> em uma dada lista**. Você pode usar esses métodos somente em uma classe que herde de <code>**unittest.TestCase**</code>, portanto vamos observar como um desses métodos pode ser usado no contexto dos testes de uma classe propriamente dita."
   ]
  },
  {
   "cell_type": "markdown",
   "id": "15cad774-ccb8-46b2-a5a7-499d71e708a1",
   "metadata": {},
   "source": [
    "### Uma classe para testar"
   ]
  },
  {
   "cell_type": "markdown",
   "id": "87e78941-d749-4696-b136-7c2d0bca17e9",
   "metadata": {},
   "source": [
    "**Testar uma classe é semelhante a testar uma <code>função</code> – boa parte de seu trabalho envolve testar o comportamento dos métodos da <code>classe</code>. Porém, há algumas diferenças, portanto vamos escrever uma classe para ser testada.** \n",
    "Considere uma classe que ajude a administrar pesquisas anônimas:"
   ]
  },
  {
   "cell_type": "code",
   "execution_count": 76,
   "id": "ad8e2065-d11b-41eb-91cc-7b52700913b8",
   "metadata": {
    "tags": []
   },
   "outputs": [],
   "source": [
    "class AnonymousSurvey(): \n",
    "    \"\"\"Coleta respostas anônimas para uma pergunta de uma pesquisa.\"\"\"\n",
    "    def __init__(self, question): \n",
    "        \"\"\"Armazena uma pergunta e se prepara para armazenar as respostas.\"\"\"\n",
    "        self.question = question \n",
    "        self.responses = []\n",
    "    \n",
    "    def show_question(self): \n",
    "        \"\"\"Mostra a pergunta da pesquisa.\"\"\" \n",
    "        print(question)\n",
    "\n",
    "    def store_response(self, new_response): \n",
    "        \"\"\"Armazena uma única resposta da pesquisa.\"\"\"\n",
    "        self.responses.append(new_response)\n",
    "            \n",
    "    def show_results(self): \n",
    "        \"\"\"Mostra todas as respostas dadas.\"\"\"\n",
    "        print(\"Survey results:\") \n",
    "        \n",
    "        for response in responses: \n",
    "            print('- ' + response)"
   ]
  },
  {
   "cell_type": "markdown",
   "id": "7b0adfce-c700-4896-8f57-86cb8b84f2e3",
   "metadata": {},
   "source": [
    "Essa classe começa com uma pergunta fornecida por você para uma pesquisa e inclui uma lista vazia para armazenar as respostas. **A classe tem métodos para exibir a pergunta da pesquisa , adicionar uma nova resposta à lista de respostas e exibir todas as respostas armazenadas na lista. Para criar uma instância dessa classe, tudo que precisamos fazer é fornecer uma pergunta**. Depois de ter criado uma instância que represente uma pesquisa em particular, **você mostrará a pergunta da pesquisa com 'show_question()', armazenará uma resposta com 'store_response()' e exibirá o resultado com 'show_results()'**.\n",
    "\n",
    "Para mostrar que a **classe AnonymousSurvey** funciona, vamos escrever um programa que utilize essa classe:"
   ]
  },
  {
   "cell_type": "code",
   "execution_count": 10,
   "id": "ab23723a-1b2a-4651-b566-6fd38292ebc9",
   "metadata": {
    "tags": []
   },
   "outputs": [
    {
     "name": "stdout",
     "output_type": "stream",
     "text": [
      "What language did you first learn to speak?\n",
      "Enter 'q' at any time to quit.\n",
      "\n"
     ]
    },
    {
     "name": "stdin",
     "output_type": "stream",
     "text": [
      "Language:  portuguese\n",
      "Language:  ingles\n",
      "Language:  q\n"
     ]
    },
    {
     "name": "stdout",
     "output_type": "stream",
     "text": [
      "\n",
      "Thank you to everyone who participated in the survey!\n",
      "Survey results:\n",
      "- portuguese\n",
      "- ingles\n"
     ]
    }
   ],
   "source": [
    "from survey import AnonymousSurvey\n",
    "\n",
    "# Define uma pergunta e cria uma pesquisa\n",
    "question = \"What language did you first learn to speak?\"\n",
    "my_survey = AnonymousSurvey(question)\n",
    "\n",
    "# Mostra a pergunta e armazena as respostas à pergunta\n",
    "my_survey.show_question()\n",
    "print(\"Enter 'q' at any time to quit.\\n\")\n",
    "\n",
    "while True:\n",
    "    response = input(\"Language: \")\n",
    "    if response == 'q':\n",
    "        break\n",
    "    my_survey.store_response(response)\n",
    "\n",
    "# Exibe os resultados da pesquisa\n",
    "print(\"\\nThank you to everyone who participated in the survey!\")\n",
    "my_survey.show_results()"
   ]
  },
  {
   "cell_type": "markdown",
   "id": "b20059ec-62fe-4142-97a8-e1ff5b154164",
   "metadata": {},
   "source": [
    "Essa classe funciona para uma pesquisa anônima simples. No entanto, vamos supor que queremos aperfeiçoar **AnonymousSurvey** e o módulo em que ele se encontra, que é **'survey'**. **Poderíamos permitir que cada usuário forneça mais de uma resposta. Poderíamos escrever um método para listar apenas as respostas únicas e informar quantas vezes cada resposta foi dada. Também poderíamos escrever outra classe para administrar pesquisas não anônimas**.\n",
    "\n",
    "O comportamento atual da **classe AnonymousSurvey correria o risco de ser afetado com a implementação de mudanças como essas**. Por exemplo, é possível que, na tentativa de permitir que cada usuário forneça várias respostas, poderíamos acidentalmente mudar o modo como as respostas únicas são tratadas. **Para garantir que não causaremos problemas no comportamento existente à medida que desenvolvemos esse módulo, podemos escrever testes para a classe.**"
   ]
  },
  {
   "cell_type": "markdown",
   "id": "3c8ecb8c-efbb-40a1-87a2-9865de3fbba9",
   "metadata": {},
   "source": [
    "### Testando a classe AnonymousSurvey"
   ]
  },
  {
   "cell_type": "markdown",
   "id": "b6da42b5-58b7-47c4-93a8-0893e1e30353",
   "metadata": {},
   "source": [
    "Vamos escrever um teste que verifique um aspecto do comportamento de **AnonymousSurvey**. **Escreveremos um teste para verificar se uma resposta única à pergunta da pesquisa é armazenada de forma apropriada**. Usaremos o método <code>**assertIn()**</code> para conferir se a resposta está na lista de respostas depois que ela for armazenada:"
   ]
  },
  {
   "cell_type": "code",
   "execution_count": 27,
   "id": "7b02d57f-613d-4525-af70-da7b54092c66",
   "metadata": {
    "tags": []
   },
   "outputs": [
    {
     "name": "stderr",
     "output_type": "stream",
     "text": [
      ".\n",
      "----------------------------------------------------------------------\n",
      "Ran 1 test in 0.002s\n",
      "\n",
      "OK\n"
     ]
    }
   ],
   "source": [
    "import unittest\n",
    "from survey import AnonymousSurvey\n",
    "\n",
    "class TestAnonmyousSurvey(unittest.TestCase): \n",
    "    \"\"\"Testes para a classe AnonymousSurvey\"\"\"\n",
    "    \n",
    "    def test_store_single_response(self): \n",
    "        \"\"\"Testa se uma única resposta é armazenada de forma apropriada.\"\"\"\n",
    "        question = \"What language did you first learn to speak?\"  \n",
    "        my_survey = AnonymousSurvey(question) \n",
    "        my_survey.store_response('English')\n",
    "        self.assertIn('English', my_survey.responses)\n",
    "        \n",
    "# Função para rodar os testes\n",
    "def run_tests():\n",
    "    suite = unittest.TestLoader().loadTestsFromTestCase(TestAnonmyousSurvey)\n",
    "    unittest.TextTestRunner().run(suite)\n",
    "\n",
    "# Execute a função de teste\n",
    "run_tests()"
   ]
  },
  {
   "cell_type": "markdown",
   "id": "6ff85468-c19c-4306-9044-c482b7284cc8",
   "metadata": {
    "tags": []
   },
   "source": [
    "Para testar o comportamento de uma classe, precisamos criar uma instância dessa classe. E criamos uma instância chamada **my_survey** com a pergunta **\"What language did you first learn to speak?\"**. **Armazenamos uma única resposta, 'English', usando o método <code>store_response()</code>**. Então conferimos se a resposta foi armazenada corretamente confirmando se **'English'** está na lista **'my_survey.responses'**.\n",
    "\n",
    "+ **Quando executamos test_survey.py, vemos que o teste passa.** \n",
    "\n",
    "Isso é bom, mas uma pesquisa será útil somente se gerar mais de uma resposta. Vamos verificar se três respostas podem ser armazenadas corretamente. Para isso, adicionamos outro método em **TestAnonymousSurvey**:"
   ]
  },
  {
   "cell_type": "code",
   "execution_count": 42,
   "id": "9e7cc7dd-b304-40e8-a89e-2150cd1a4095",
   "metadata": {
    "tags": []
   },
   "outputs": [
    {
     "name": "stderr",
     "output_type": "stream",
     "text": [
      "..\n",
      "----------------------------------------------------------------------\n",
      "Ran 2 tests in 0.002s\n",
      "\n",
      "OK\n"
     ]
    }
   ],
   "source": [
    "import unittest\n",
    "from survey import AnonymousSurvey\n",
    "\n",
    "class TestAnonmyousSurvey(unittest.TestCase): \n",
    "    \"\"\"Testes para a classe AnonymousSurvey\"\"\"\n",
    "    \n",
    "    def test_store_single_response(self): \n",
    "        \"\"\"Testa se uma única resposta é armazenada de forma apropriada.\"\"\"\n",
    "        question = \"What language did you first learn to speak?\"  \n",
    "        my_survey = AnonymousSurvey(question) \n",
    "        my_survey.store_response('English')\n",
    "        self.assertIn('English', my_survey.responses)\n",
    "        \n",
    "    def test_store_three_responses(self): \n",
    "        \"\"\"Testa se três respostas individuais são armazenadas de forma apropriada.\"\"\"\n",
    "        question = \"What language did you first learn to speak?\"\n",
    "        my_survey = AnonymousSurvey(question) \n",
    "        responses = ['English', 'Spanish', 'Mandarin']\n",
    "    \n",
    "        for response in responses: \n",
    "            my_survey.store_response(response)\n",
    "    \n",
    "        for response in responses: \n",
    "            self.assertIn(response, my_survey.responses)\n",
    "\n",
    "# Função para rodar os testes\n",
    "def run_tests():\n",
    "    suite = unittest.TestLoader().loadTestsFromTestCase(TestAnonmyousSurvey)\n",
    "    unittest.TextTestRunner().run(suite)\n",
    "\n",
    "# Execute a função de teste\n",
    "run_tests()"
   ]
  },
  {
   "cell_type": "markdown",
   "id": "51060287-1238-4012-9176-39da12d26eb5",
   "metadata": {
    "tags": []
   },
   "source": [
    "**Quando executamos test_survey.py novamente, vemos que os dois testes (para uma única resposta e para três respostas) passam:..**\n",
    "\n",
    "\n",
    "Isso funciona perfeitamente. Porém, esses testes são um pouco repetitivos, então usaremos outro recurso de <code>**unittest**</code> <para deixá-los mais eficientes."
   ]
  },
  {
   "cell_type": "markdown",
   "id": "8d594d78-b008-46d7-aa20-3292fcc78abe",
   "metadata": {},
   "source": [
    "### Método <code>**setUp()**</code>"
   ]
  },
  {
   "cell_type": "markdown",
   "id": "69af57af-4e1f-40cb-8a58-eff331e1ac10",
   "metadata": {},
   "source": [
    "Em test_survey.py criamos uma nova instância de AnonymousSurvey em cada método de teste e criamos novas respostas para cada método. A classe <code>**unittest.TestCase**</code> tem um método **<code>setUp()</code> que permite criar esses objetos uma vez e então usá-los em cada um de seus métodos de teste. Quando um método <code>setUp()</code> é incluído em uma classe <code>TestCase</code>, Python executa esse método antes de qualquer método cujo nome comece com <code>test_</code>**. Qualquer objeto criado no método <code>**setUp()**</code>) estará disponível a todos os métodos de teste que você escrever.\n",
    "\n",
    "Vamos usar <code>**setUp()**</code> para criar uma instância de pesquisa e um conjunto de respostas que possa ser usado em **test_store_single_response()** e em **test_store_three_responses()**:"
   ]
  },
  {
   "cell_type": "code",
   "execution_count": 49,
   "id": "3aca3e05-332c-47cc-820a-15702748cef1",
   "metadata": {
    "tags": []
   },
   "outputs": [
    {
     "name": "stderr",
     "output_type": "stream",
     "text": [
      "..\n",
      "----------------------------------------------------------------------\n",
      "Ran 2 tests in 0.003s\n",
      "\n",
      "OK\n"
     ]
    }
   ],
   "source": [
    "import unittest\n",
    "from survey import AnonymousSurvey\n",
    "\n",
    "class TestAnonmyousSurvey(unittest.TestCase): \n",
    "    \"\"\"Testes para a classe AnonymousSurvey\"\"\"\n",
    "    \n",
    "    \n",
    "    def setUp(self): \n",
    "        \"\"\"Cria uma pesquisa e um conjunto de respostas que poderão ser usados em todos os métodos de teste.\"\"\"\n",
    "        question = \"What language did you first learn to speak?\"\n",
    "        self.my_survey = AnonymousSurvey(question) \n",
    "        self.responses = ['English', 'Spanish', 'Mandarin']\n",
    "\n",
    "    \n",
    "    def test_store_single_response(self): \n",
    "        \"\"\"Testa se uma única resposta é armazenada de forma apropriada.\"\"\"\n",
    "        question = \"What language did you first learn to speak?\"  \n",
    "        self.my_survey.store_response(self.responses[0]) \n",
    "        self.assertIn(self.responses[0], self.my_survey.responses)\n",
    "        \n",
    "    def test_store_three_responses(self): \n",
    "        \"\"\"Testa se três respostas individuais são armazenadas de forma apropriada.\"\"\"\n",
    "        for response in self.responses: \n",
    "            self.my_survey.store_response(response) \n",
    "        for response in self.responses: \n",
    "            self.assertIn(response, self.my_survey.responses)\n",
    "\n",
    "# Função para rodar os testes\n",
    "def run_tests():\n",
    "    suite = unittest.TestLoader().loadTestsFromTestCase(TestAnonmyousSurvey)\n",
    "    unittest.TextTestRunner().run(suite)\n",
    "\n",
    "# Execute a função de teste\n",
    "run_tests()"
   ]
  },
  {
   "cell_type": "markdown",
   "id": "02940411-7c65-4bfd-b90f-dcf50e8803b8",
   "metadata": {},
   "source": [
    "**Quando executamos 'test_survey.py' de novo, vemos que os dois testes continuam passando. Esses testes seriam particularmente úteis se tentássemos expandir *'AnonymousSurvey'* de modo a tratar várias respostas para cada pessoa.** Depois de modificar o código para que aceite várias respostas, você poderia executar esses testes e garantir que não afetou a capacidade de armazenar uma única resposta ou uma série de respostas individuais.\n",
    "\n",
    "Quando testar suas próprias classes, o método <code>**setUp()**</code> poderá facilitar a escrita de seus métodos de teste. **Crie apenas um conjunto de instâncias e de atributos em <code>setUp()</code> e então utilize essas instâncias em todos os seus métodos de teste. Isso é muito mais fácil que criar um novo conjunto de instâncias e de atributos em cada método de teste.**"
   ]
  },
  {
   "cell_type": "markdown",
   "id": "5d1b01cd-f2e6-484d-8daf-988956341fdd",
   "metadata": {},
   "source": [
    "## **FAÇA VOCÊ MESMO**"
   ]
  },
  {
   "cell_type": "markdown",
   "id": "f621d7ee-0844-44b0-971e-79b630e49066",
   "metadata": {},
   "source": [
    "**11.3 – Funcionário:** Escreva uma classe chamada **Employee**. O método __init__() deve aceitar um primeiro nome, um sobrenome e um salário anual, e deve armazenar cada uma dessas informações como atributos. Escreva um método de nome **give_raise()** que some cinco mil dólares ao salário anual, por default, mas que também aceite um valor diferente de aumento.\n",
    "+ Escreva um caso de teste para **Employee**. Crie dois métodos de teste, **test_give_default_raise()** e **test_give_custom_raise()**. Use o método **setUp()** para que não seja necessário criar uma nova instância de funcionário em cada método de teste. Execute seu caso de teste e certifique-se de que os dois testes passem."
   ]
  },
  {
   "cell_type": "code",
   "execution_count": 61,
   "id": "554e3929-b62d-4098-b104-974d011ab730",
   "metadata": {
    "tags": []
   },
   "outputs": [
    {
     "name": "stderr",
     "output_type": "stream",
     "text": [
      "....\n",
      "----------------------------------------------------------------------\n",
      "Ran 4 tests in 0.001s\n",
      "\n",
      "OK\n"
     ]
    }
   ],
   "source": [
    "import unittest\n",
    "from employee import Employee  \n",
    "# Certifique-se de que o arquivo com a classe Employee está no mesmo diretório\n",
    "\n",
    "class TestEmployee(unittest.TestCase):\n",
    "    \n",
    "    def setUp(self):\n",
    "        \"\"\"Cria uma instância de Employee para os testes.\"\"\"\n",
    "        self.employee = Employee('John', 'Doe', 50000)\n",
    "    \n",
    "    def test_give_default_raise(self):\n",
    "        \"\"\"Testa o aumento padrão de $5000 no salário anual.\"\"\"\n",
    "        self.employee.give_raise()\n",
    "        self.assertEqual(self.employee.annual_salary, 55000)\n",
    "    \n",
    "    def test_give_custom_raise(self):\n",
    "        \"\"\"Testa um aumento personalizado no salário anual.\"\"\"\n",
    "        self.employee.give_raise(10000)\n",
    "        self.assertEqual(self.employee.annual_salary, 60000)\n",
    "\n",
    "if __name__ == '__main__':\n",
    "    unittest.main(argv=[''], exit=False)"
   ]
  },
  {
   "cell_type": "markdown",
   "id": "fa5b2e2b-87db-4de4-8b35-a290c3b5c222",
   "metadata": {},
   "source": [
    "## **Resumo**"
   ]
  },
  {
   "cell_type": "markdown",
   "id": "25667977-74c1-4aeb-ad94-2144d4273435",
   "metadata": {},
   "source": [
    "Neste capítulo aprendemos a escrever testes para funções e classes usando ferramentas do módulo <code>**unittest**</code>. **Vimos como escrever uma classe que herde de <code>unittest.TestCase</code> e aprendemos a escrever métodos de teste para conferir se suas funções e classes exibem comportamentos específicos. Vimos como usar o método <code>setUp()</code> para criar instâncias e atributos de modo eficiente para suas classes;** assim, esses dados podem ser usados por todos os métodos de teste de uma classe."
   ]
  },
  {
   "cell_type": "markdown",
   "id": "03a5b7dc-c008-4fa5-b7b5-abc779f3519d",
   "metadata": {},
   "source": [
    "**Testar é um assunto importante, que muitos iniciantes não aprendem a fazer. Você não precisa escrever testes para todos os projetos simples que experimentar criar como iniciante.** Porém, assim que começar a trabalhar com projetos que envolvam um esforço significativo de desenvolvimento, você deve testar os comportamentos críticos de suas funções e classes. Você estará mais seguro de que novos trabalhos feitos em seu projeto não causarão falhas nas partes que funcionam, e isso lhe dará liberdade para fazer melhorias em seu código. **Se você acidentalmente causar problemas em funcionalidades existentes, saberá de imediato e poderá corrigi-los com facilidade. Responder a um teste que falhou é muito mais fácil que responder a um relatório de bug de um usuário insatisfeito.**\n",
    "\n",
    "**Outros programadores respeitarão mais os seus projetos se você incluir alguns testes iniciais. Eles se sentirão mais à vontade para fazer experimentos com o seu código e estarão mais dispostos a trabalhar com você nos projetos.** Se quiser fazer contribuições a um projeto em que outros programadores estão trabalhando, é esperado que você mostre que seu código passe nos testes existentes e que, de modo geral, escreva testes para os novos comportamentos que introduzir no projeto.\n",
    "\n",
    "Brinque com os testes para ter familiaridade com o processo de testar o seu código. **Escreva testes para os comportamentos mais críticos de suas funções e classes, mas não vise a uma cobertura completa no início de seus projetos, a menos que você tenha um motivo específico para fazer isso.**"
   ]
  },
  {
   "cell_type": "code",
   "execution_count": null,
   "id": "4f954bd8-eb5b-427f-984a-9aa8df7e0787",
   "metadata": {},
   "outputs": [],
   "source": []
  }
 ],
 "metadata": {
  "kernelspec": {
   "display_name": "Python 3 (ipykernel)",
   "language": "python",
   "name": "python3"
  },
  "language_info": {
   "codemirror_mode": {
    "name": "ipython",
    "version": 3
   },
   "file_extension": ".py",
   "mimetype": "text/x-python",
   "name": "python",
   "nbconvert_exporter": "python",
   "pygments_lexer": "ipython3",
   "version": "3.11.5"
  }
 },
 "nbformat": 4,
 "nbformat_minor": 5
}
