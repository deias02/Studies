{
 "cells": [
  {
   "cell_type": "markdown",
   "id": "d00db222-6d7d-46e7-8112-715f743ed676",
   "metadata": {},
   "source": [
    "# Cap.13 - **Alienígenas!**"
   ]
  },
  {
   "cell_type": "markdown",
   "id": "265aa429-81ca-45cf-8038-4ff0254f03e4",
   "metadata": {},
   "source": [
    "Neste capítulo acrescentaremos alienígenas à <code>**Invasão Alienígena**</code>. **Inicialmente adicionaremos um alienígena próximo à parte superior da tela e, em seguida, vamos gerar uma frota completa deles. Faremos a frota avançar para os lados e para baixo e nos livraremos de qualquer alienígena atingido por um projétil**. Por fim, limitaremos o número de espaçonaves que um jogador pode ter e encerraremos o jogo quando ele ficar sem espaçonaves.\n",
    "\n",
    "À medida que trabalhar neste capítulo você conhecerá melhor o <code>**Pygame**</code> e verá como administrar um projeto grande. **Também aprenderá a detectar <code>colisões</code> entre objetos do jogo**, por exemplo, entre **<code>projéteis e alienígenas</code>. Detectar <code>colisões</code> ajuda a definir interações entre os elementos de seus jogos: você pode confinar um personagem entre as paredes de um labirinto ou passar uma bola entre dois personagens**. Também continuaremos a trabalhar com base em um plano que revisaremos ocasionalmente a fim de manter o foco de nossas sessões de escrita de código.\n",
    "\n",
    "**Antes de começar a escrever o novo código para acrescentar uma frota de alienígenas na tela, vamos analisar o projeto e atualizar o nosso plano.**"
   ]
  },
  {
   "cell_type": "markdown",
   "id": "459aecf9-232c-4b87-928f-215d6e41b138",
   "metadata": {},
   "source": [
    "## Revisando o seu projeto"
   ]
  },
  {
   "cell_type": "markdown",
   "id": "18fa039a-363f-48ab-9c59-cc9745685f48",
   "metadata": {},
   "source": [
    "Ao iniciar uma nova fase do desenvolvimento em um projeto grande, é **sempre uma boa ideia revisar seu plano e deixar claro o que você quer realizar com o código que está prestes a escrever**. Neste capítulo vamos:\n",
    "+ Analisar o nosso código e determinar se precisamos refatorá-lo antes de implementar novas funcionalidades.\n",
    "+ Acrescentar um único alienígena no canto superior esquerdo da tela, com um espaçamento apropriado ao seu redor.\n",
    "+ Usar o espaçamento em torno do primeiro alienígena e o tamanho da tela como um todo para determinar quantos alienígenas cabem na tela. Escreveremos um laço para criar alienígenas de modo apreencher a parte superior da tela.\n",
    "+ Fazer a frota se mover para as laterais e para baixo até que a frota toda seja atingida ou um alienígena atinja a espaçonave ou o solo. Se a frota toda for atingida, criaremos uma nova frota. Se um alienígena atingir a espaçonave ou o solo, destruiremos a espaçonave e criaremos uma nova frota.\n",
    "+ Limitar o número de espaçonaves que o jogador pode usar e encerrar o jogo quando ele tiver usado o seu lote de espaçonaves.\n",
    "\n",
    "Refinaremos esse plano à medida que as funcionalidades forem implementadas, mas isso é suficiente para começar."
   ]
  },
  {
   "cell_type": "markdown",
   "id": "f91d7277-ce18-4278-bbc5-4057c5d144d6",
   "metadata": {},
   "source": [
    "**Revise também o código quando estiver prestes a iniciar o trabalho com um novo conjunto de funcionalidades em um projeto.** Como cada nova fase do projeto geralmente deixa um projeto mais complexo, é melhor limpar um código que esteja entulhado ou que seja ineficiente.   \n",
    "Embora não haja muita limpeza para fazer no momento, pois fizemos refatorações à medida que avançamos, é irritante usar o mouse para fechar o jogo sempre que o executamos para testar uma nova funcionalidade. **Vamos acrescentar rapidamente um atalho de teclado para terminar o jogo quando o usuário pressionar <code>Q</code>**:"
   ]
  },
  {
   "cell_type": "code",
   "execution_count": 14,
   "id": "40759d26-3bd4-4841-82ac-64687b037237",
   "metadata": {
    "tags": []
   },
   "outputs": [],
   "source": [
    "def check_keydown_events(event, ai_settings, screen, ship, bullets): \n",
    "    \"\"\"Responde a pressionamentos de tecla.\"\"\"\n",
    "    if event.key == pygame.K_RIGHT: # Move a espaçonave para a direita\n",
    "        ship.moving_right = True\n",
    "        \n",
    "    elif event.key == pygame.K_q: \n",
    "        sys.exit()\n",
    "                \n",
    "    elif event.key == pygame.K_LEFT:\n",
    "        ship.moving_left = True\n",
    "\n",
    "    elif event.key == pygame.K_SPACE: \n",
    "        fire_bullet(ai_settings, screen, ship, bullets)"
   ]
  },
  {
   "cell_type": "markdown",
   "id": "a5b3ca21-2cc8-4c2f-adf9-e7a314b71668",
   "metadata": {},
   "source": [
    "Em **<code>check_keydown_events()</code>,acrescentamos um novo bloco que finaliza o jogo quando <code>Q</code> é pressionado. É uma alteração razoavelmente segura, pois a tecla <code>Q</code> está longe das teclas de direção e da barra de espaço, portanto é improvável que o jogador pressione essa tecla por acidente e saia do jogo**. Agora, ao testar, você poderá pressionar <code>Q</code> para encerrar o jogo, em vez de usar o seu mouse para fechar a janela."
   ]
  },
  {
   "cell_type": "markdown",
   "id": "085763b1-eb92-4f72-9afd-93becda00622",
   "metadata": {},
   "source": [
    "### Criando o primeiro <code>**alienígena**<code>"
   ]
  },
  {
   "cell_type": "markdown",
   "id": "98068b43-0f67-4aff-a772-6eb84ae03678",
   "metadata": {},
   "source": [
    "Colocar um <code>**alienígena**</code> na tela é como posicionar uma espaçonave. O **comportamento de cada <code>alienígena</code> é controlado por uma classe chamada <code>Alien</code>, que estruturaremos de modo semelhante à classe <code>Ship</code>. Continuaremos usando imagens <code>bitmap</code> por questões de simplicidade**. Você pode encontrar sua própria imagem para um alienígena ou usar aquela mostrada na Figura 13.1, disponível nos recursos do livro em https://www.nostarch.com/pythoncrashcourse/. Essa imagem tem um plano de fundo cinza, que coincide com a cor de fundo da tela. Lembre-se de salvar o arquivo com a imagem escolhida na pasta <code>images</code>."
   ]
  },
  {
   "cell_type": "markdown",
   "id": "7bc44024-401f-46fe-9627-df90e7efe183",
   "metadata": {},
   "source": [
    "### Criando a classe <code>**Alien**</code>"
   ]
  },
  {
   "cell_type": "markdown",
   "id": "eb19f83c-e74f-4878-8119-378d3c6e3d84",
   "metadata": {
    "tags": []
   },
   "source": [
    "Agora criaremos a classe <code>**Alien**</code>:"
   ]
  },
  {
   "cell_type": "code",
   "execution_count": 2,
   "id": "f9cd4183-f590-4061-8e9c-f8f9a9d0ac76",
   "metadata": {
    "tags": []
   },
   "outputs": [
    {
     "name": "stdout",
     "output_type": "stream",
     "text": [
      "pygame 2.6.1.dev1 (SDL 2.30.5, Python 3.11.5)\n",
      "Hello from the pygame community. https://www.pygame.org/contribute.html\n"
     ]
    }
   ],
   "source": [
    "import pygame \n",
    "from pygame.sprite import Sprite\n",
    "\n",
    "class Alien(Sprite):\n",
    "    \"\"\"Uma classe que representa um único alienígena da frota.\"\"\"\n",
    "    def __init__(self, ai_settings, screen):\n",
    "        \"\"\"Inicializa o alienígena e define sua posição inicial.\"\"\"\n",
    "        super(Alien, self).__init__() \n",
    "        self.screen = screen \n",
    "        self.ai_settings = ai_settings\n",
    "        \n",
    "        # Carrega a imagem do alienígena e define seu atributo rect\n",
    "        self.image = pygame.image.load('imagens/alien.bmp')\n",
    "        self.image.set_colorkey((255, 255, 255)) # Define a cor de fundo da imagem para transparente (caso necessário)\n",
    "        self.rect = self.image.get_rect() \n",
    "        \n",
    "        # Inicia cada novo alienígena próximo à parte superior esquerda da tela\n",
    "        self.rect.x = self.rect.width \n",
    "        self.rect.y = self.rect.height\n",
    "        \n",
    "        # Armazena a posição exata do alienígena \n",
    "        self.x = float(self.rect.x) \n",
    "        \n",
    "    def blitme(self): \n",
    "        \"\"\"Desenha o alienígena em sua posição atual.\"\"\" \n",
    "        self.screen.blit(self.image, self.rect)"
   ]
  },
  {
   "cell_type": "markdown",
   "id": "9af6e7fe-c911-4e86-82dd-0bf09c6ed413",
   "metadata": {},
   "source": [
    "A maior parte dessa classe é semelhante à classe <code>**Ship**</code>, exceto pelo posicionamento do alienígena. **Posicionaremos inicialmente cada <code>alienígena</code> próximo ao canto superior esquerdo da tela, colocando um espaço à esquerda que seja igual à largura do alienígena e um espaço acima dele correspondente à sua altura.**"
   ]
  },
  {
   "cell_type": "markdown",
   "id": "d02d9a4a-99b8-4d7e-8a5a-30d5f7b322a0",
   "metadata": {},
   "source": [
    "### Criando uma instância do alienígena"
   ]
  },
  {
   "cell_type": "markdown",
   "id": "f9b0f16e-a66a-4384-a0bd-d4b6c791f91f",
   "metadata": {},
   "source": [
    "Agora criaremos uma instância de <code>**Alien**</code> em **'alien_invasion.py'**:"
   ]
  },
  {
   "cell_type": "code",
   "execution_count": null,
   "id": "e90c889c-8162-44c1-b386-3f076cbc7ebd",
   "metadata": {},
   "outputs": [],
   "source": [
    "#alien_invasion.py\n",
    "--trecho omitido--\n",
    "from ship import Ship \n",
    "from alien import Alien \n",
    "import game_functions as gf\n",
    "\n",
    "def run_game(): \n",
    "    --trecho omitido--\n",
    "    # Cria um alienígena \n",
    "    alien = Alien(ai_settings, screen)\n",
    "    \n",
    "    # Inicia o laço principal do jogo \n",
    "    while True: \n",
    "        gf.check_events(ai_settings, screen, ship, bullets) \n",
    "        ship.update() \n",
    "        gf.update_bullets(bullets) \n",
    "        gf.update_screen(ai_settings, screen, ship, alien, bullets)\n",
    "        \n",
    "run_game()"
   ]
  },
  {
   "cell_type": "markdown",
   "id": "a07d895a-ec84-40cb-90e5-42ce59ae4448",
   "metadata": {},
   "source": [
    "**Nesse código importamos a nova classe <code>Alien</code> e criamos uma instância dessa classe, imediatamente antes de entrar no laço principal <code>while</code>**. Como ainda não mudamos a posição do <code>**alienígena**</code>, não estamos acrescentando nada novo no laço; entretanto, **modificamos a chamada a <code>update_screen()</code> para lhe passar a <code>instância alien</code>**."
   ]
  },
  {
   "cell_type": "markdown",
   "id": "02415d75-4f59-4415-ba1a-0ccf6ce986e9",
   "metadata": {},
   "source": [
    "### Fazendo o <code>**alienígena**</code> aparecer na tela"
   ]
  },
  {
   "cell_type": "markdown",
   "id": "cb8e363b-46d7-46de-9958-4450f8fa1fd7",
   "metadata": {},
   "source": [
    "Para fazer o alienígena aparecer na tela, chamamos o seu método <code>**blitme() em update_screen()**</code>:"
   ]
  },
  {
   "cell_type": "code",
   "execution_count": null,
   "id": "5deae8a2-c317-4a7f-9e5c-d676932a68d5",
   "metadata": {},
   "outputs": [],
   "source": [
    "#game_functions.py \n",
    "def update_screen(ai_settings, screen, ship, alien, bullets): \n",
    "    --trecho omitido--\n",
    "    # Redesenha todos os projéteis atrás da espaçonave e dos alienígenas \n",
    "    for bullet in bullets: \n",
    "        bullet.draw_bullet() \n",
    "        \n",
    "        ship.blitme() \n",
    "        alien.blitme() \n",
    "        # Deixa a tela mais recente visível \n",
    "        pygame.display.flip()"
   ]
  },
  {
   "cell_type": "markdown",
   "id": "8f84017b-37ef-4747-a891-86c305473ad5",
   "metadata": {},
   "source": [
    "**Desenhamos o alienígena na tela depois que a espaçonave e os projéteis foram desenhados para que os alienígenas estejam na camada superior da tela.** A Figura 13.2 mostra o primeiro alienígena na tela.   \n",
    "**Agora que o primeiro alienígena apareceu corretamente, escreveremos o código para desenhar a frota completa.**"
   ]
  },
  {
   "cell_type": "markdown",
   "id": "26b5a578-2ef1-4993-8d36-3761a23e3171",
   "metadata": {
    "tags": []
   },
   "source": [
    "### Construindo a frota de alienígenas"
   ]
  },
  {
   "cell_type": "markdown",
   "id": "ff6806e6-b0de-49bd-8248-64d4efc6dac6",
   "metadata": {},
   "source": [
    "**Para desenhar uma frota, precisamos descobrir quantos alienígenas cabem na largura da tela e quantas linhas de alienígenas cabem na altura.** Inicialmente determinaremos o espaçamento horizontal entre os alienígenas e criaremos uma linha; em seguida, definiremos o espaçamento vertical para criar uma frota completa."
   ]
  },
  {
   "cell_type": "markdown",
   "id": "8f3f1f4c-660a-441c-9c79-c77f049bd488",
   "metadata": {},
   "source": [
    "### Determinando quantos alienígenas cabem em uma linha"
   ]
  },
  {
   "cell_type": "markdown",
   "id": "c51c5f60-8a44-4a97-acfb-5bde6ddb4c33",
   "metadata": {},
   "source": [
    "Para descobrir quantos <code>**alienígenas**</code> cabem em uma linha, vamos observar o espaço horizontal disponível. **A largura da tela está armazenada em <code>ai_settings.screen_width</code>, mas precisamos de uma margem vazia da cada lado da tela. Faremos com que essa margem tenha a largura de um alienígena.** Como temos duas margens, o espaço disponível para os alienígenas corresponde à largura da tela menos a largura de dois alienígenas: **<code>available_space_x = ai_settings.screen_width – (2 * alien_width)</code>**\n",
    "\n",
    "Também precisamos definir o **espaçamento entre os alienígenas**; faremos com que ele tenha um alienígena de largura. **O espaço necessário para exibir um alienígena é o dobro de sua largura: uma largura para o alienígena e uma para o espaço vazio à sua direita. Para descobrir quantos alienígenas cabem na largura da tela, dividimos o espaço disponível por duas vezes a largura de um alienígena**: <code>**number_aliens_x = available_space_x / (2 * alien_width)**</code>.    \n",
    "Incluiremos esses cálculos quando criarmos a frota.\n",
    "\n",
    "**NOTA**\n",
    "Um ótimo aspecto sobre cálculos em programação é que você não precisa ter certeza se sua fórmula está correta ao escrevê-la pela primeira vez. **Você pode testá-la para ver se ela funciona. No pior caso, você terá uma tela congestionada de alienígenas ou haverá menos alienígenas que o esperado.** Você pode revisar seus cálculos de acordo com o que vir na tela."
   ]
  },
  {
   "cell_type": "markdown",
   "id": "36fa8989-624b-466f-a2ff-65e419c8f150",
   "metadata": {},
   "source": [
    "### Criando linhas de alienígenas"
   ]
  },
  {
   "cell_type": "markdown",
   "id": "0dbebdcb-e15c-41d8-ad79-116079423416",
   "metadata": {},
   "source": [
    "Para gerar uma linha, **crie primeiro um grupo vazio chamado <code>aliens</code> em 'alien_invasion.py' para armazenar todos os nossos alienígenas e, em seguida, chame uma função em 'game_functions.py' para criar uma frota**:"
   ]
  },
  {
   "cell_type": "code",
   "execution_count": null,
   "id": "7eee961a-aa3a-48e7-a4d7-d3b1619accb2",
   "metadata": {},
   "outputs": [],
   "source": [
    "#alien_invasion.py \n",
    "import pygame \n",
    "from pygame.sprite import Group \n",
    "from settings import Settings \n",
    "from ship import Ship \n",
    "import game_functions as gf\n",
    "\n",
    "def run_game(): \n",
    "    --trecho omitido--\n",
    "    # Cria uma espaçonave, um grupo de projéteis e um grupo de alienígenas \n",
    "    ship = Ship(ai_settings, screen) \n",
    "    bullets = Group() \n",
    "    aliens = Group()\n",
    "    # Cria a frota de alienígenas \n",
    "    gf.create_fleet(ai_settings, screen, aliens)\n",
    "    # Inicia o laço principal do jogo \n",
    "while True: \n",
    "    --trecho omitido-- \n",
    "    gf.update_screen(ai_settings, screen, ship, aliens, bullets)\n",
    "\n",
    "run_game()"
   ]
  },
  {
   "cell_type": "markdown",
   "id": "e4d1d1e8-1d15-41ee-9c10-f8885398d58e",
   "metadata": {
    "tags": []
   },
   "source": [
    "Como não estamos mais criando alienígenas diretamente em **'alien_invasion.py'**, não será necessário importar a classe <code>**Alien**</code> nesse arquivo.\n",
    "\n",
    "**Crie um grupo vazio para armazenar todos os alienígenas do jogo. Em seguida chame a nova função <code>create_fleet()</code>, que escreveremos em breve, e passe-lhe <code>ai_settings</code>, o objeto <code>screen</code> e o grupo vazio <code>aliens</code>**. Então modifique a chamada a <code>**update_screen()**</code> para que ela tenha acesso ao grupo de alienígenas.\n",
    "\n",
    "Também precisamos modificar <code>**update_screen()**</code>:"
   ]
  },
  {
   "cell_type": "code",
   "execution_count": null,
   "id": "f048af92-f3c9-4ffa-9a50-183cd547c3af",
   "metadata": {},
   "outputs": [],
   "source": [
    "#game_functions.py \n",
    "def update_screen(ai_settings, screen, ship, aliens, bullets): \n",
    "    --trecho omitido--\n",
    "\n",
    "    ship.blitme() \n",
    "    aliens.draw(screen)\n",
    "# Deixa a tela mais recente visível \n",
    "pygame.display.flip()"
   ]
  },
  {
   "cell_type": "markdown",
   "id": "501f6594-2d37-458e-8130-e8c7124844f4",
   "metadata": {},
   "source": [
    "Quando **<code>draw()</code> é chamado em um grupo, o <code>Pygame</code> desenha automaticamente cada elemento do grupo na posição definida pelo seu atributo <code>rect</code>**. Nesse caso, <code>**aliens.draw(screen)**</code> desenhará cada alienígena do grupo na tela."
   ]
  },
  {
   "cell_type": "markdown",
   "id": "7e76cd5b-5b50-4fc3-a900-bcad0cd67f64",
   "metadata": {
    "tags": []
   },
   "source": [
    "### Criando a frota"
   ]
  },
  {
   "cell_type": "markdown",
   "id": "44f9a5cd-b154-4cd4-ac14-3a260409c01e",
   "metadata": {},
   "source": [
    "Agora podemos criar a <code>**frota**</code>. A seguir, **apresentamos a nova função <code>create_fleet()</code>, que colocamos no final de 'game_functions.py'**. Também é necessário importar a classe <code>**Alien**</code>, portanto lembre-se de acrescentar uma instrução import no início do arquivo:"
   ]
  },
  {
   "cell_type": "code",
   "execution_count": 26,
   "id": "eeefd757-a9bb-4e30-a39a-030ae958f4b8",
   "metadata": {
    "tags": []
   },
   "outputs": [],
   "source": [
    "def create_fleet(ai_settings, screen, aliens): \n",
    "    \"\"\"Cria uma frota completa de alienígenas.\"\"\"\n",
    "    # Cria um alienígena e calcula o número de alienígenas em uma linha \n",
    "    # O espaçamento entre os alienígenas é igual à largura de um alienígena  \n",
    "    alien = Alien(ai_settings, screen) \n",
    "    alien_width = alien.rect.width  \n",
    "    available_space_x = ai_settings.screen_width - 2 * alien_width \n",
    "    number_aliens_x = int(available_space_x / (2 * alien_width))\n",
    "    \n",
    "    # Cria a primeira linha de alienígenas  \n",
    "    for alien_number in range(number_aliens_x): \n",
    "        # Cria um alienígena e o posiciona na linha \n",
    "        alien = Alien(ai_settings, screen) \n",
    "        alien.x = alien_width + 2 * alien_width * alien_number \n",
    "        alien.rect.x = alien.x \n",
    "        aliens.add(alien) "
   ]
  },
  {
   "cell_type": "markdown",
   "id": "b8934fe8-fc8d-4478-8873-8b7e684592d3",
   "metadata": {},
   "source": [
    "Já analisamos a maior parte desse código. **Precisamos conhecer a <code>largura e a altura</code> do alienígena para posicioná-los, portanto criamos um alienígena e antes de fazer os cálculos. Esse alienígena não fará parte da frota, assim, não o adicione ao <code>grupo aliens</code>. E adquirimos a largura do alienígena a partir de seu atributo <code>rect</code> e armazenamos esse valor em <code>alien_width</code>; desse modo não precisaremos trabalhar com o atributo <code>rect</code>**. E calculamos o espaço horizontal disponível para os alienígenas e o número de alienígenas que cabem nesse espaço.<code></code>\n",
    "\n",
    "A única mudança aqui em relação às nossas fórmulas originais está no uso de <code>**int()**</code> para garantir que teremos um número inteiro de alienígenas, pois não queremos criar alienígenas parciais, e a função <code>**range()**</code> precisa de um inteiro. **A função <code>int()</code> ignora a parte decimal de um número, fazendo o seu arredondamento para baixo. (Isso é útil porque preferimos ter um pouco de espaço extra em cada linha a ter uma linha excessivamente congestionada.) A seguir, defina um laço que conte de 0 até o número de alienígenas que devemos criar. No corpo principal do laço, crie um novo alienígena e então defina o valor de sua <code>coordenada x</code> para posicioná-lo na linha. Cada alienígena é inserido à direita, com um espaçamento correspondente à largura de um alienígena, a partir da margem esquerda**. Em seguida, multiplicamos a largura do alienígena por dois para levar em consideração o espaço ocupado por cada alienígena, incluindo o espaço vazio à sua direita, e multiplicamos esse valor pela posição do alienígena na linha. Então adicionamos cada novo alienígena ao <code>**grupo aliens**</code>.\n",
    "\n",
    "Quando executar a <code>**Invasão Alienígena**</code>, você deverá ver a primeira linha de alienígenas aparecer, como mostra a Figura 13.3.   \n",
    "**A primeira linha está deslocada para a esquerda, o que, na verdade, é bom para o <code>gameplay</code>, pois queremos que a frota se desloque para a direita até atingir a borda da tela, depois desça um pouco e se mova para a esquerda, e assim sucessivamente**. Como o jogo clássico 'Space Invaders', esse movimento é mais interessante que fazer a frota descer diretamente. **Continuaremos com esse movimento até que todos os alienígenas tenham sido atingidos ou até um alienígena atingir a espaçonave ou a parte inferior da tela.**\n",
    "\n",
    "**NOTA**   \n",
    "Conforme a largura da tela que você escolher, o alinhamento da primeira linha de alienígenas poderá parecer um pouco diferente em seu sistema."
   ]
  },
  {
   "cell_type": "markdown",
   "id": "aa9e137e-620b-49a3-9f9a-b38578316c4b",
   "metadata": {
    "tags": []
   },
   "source": [
    "### Refatorando <code>**create_fleet()**</code>"
   ]
  },
  {
   "cell_type": "markdown",
   "id": "66c1fd11-9a40-4fc9-bd94-dc33099200b5",
   "metadata": {},
   "source": [
    "**Se tivéssemos acabado de criar uma frota, provavelmente deixaríamos <code>**create_fleet()**</code> como está, mas ainda temos trabalho a fazer, portanto vamos limpar um pouco a função**. A seguir, apresentamos <code>**create_fleet()**</code> com duas novas funções: <code>**get_number_aliens_x() e create_alien()**</code>"
   ]
  },
  {
   "cell_type": "code",
   "execution_count": 8,
   "id": "d80fe3f8-95c7-4e4b-b604-9deeb59279c2",
   "metadata": {
    "tags": []
   },
   "outputs": [],
   "source": [
    "#game_functions.py \n",
    "def get_number_aliens_x(ai_settings, alien_width): \n",
    "    \"\"\"Determina o número de alienígenas que cabem em uma linha.\"\"\"\n",
    "    available_space_x = ai_settings.screen_width - 2 * alien_width\n",
    "    number_aliens_x = int(available_space_x / (2 * alien_width)) \n",
    "    return number_aliens_x\n",
    "\n",
    "def create_alien(ai_settings, screen, aliens, alien_number): \n",
    "    # Cria um alienígena e o posiciona na linha \n",
    "    alien = Alien(ai_settings, screen) \n",
    "    alien_width = alien.rect.width \n",
    "    alien.x = alien_width + 2 * alien_width * alien_number \n",
    "    alien.rect.x = alien.x \n",
    "    aliens.add(alien)\n",
    "    \n",
    "def create_fleet(ai_settings, screen, aliens): \n",
    "    \"\"\"Cria uma frota completa de alienígenas.\"\"\"\n",
    "    # Cria um alienígena e calcula o número de alienígenas em uma linha \n",
    "    alien = Alien(ai_settings, screen) \n",
    "    number_aliens_x = get_number_aliens_x(ai_settings, alien.rect.width)\n",
    "    # Cria a primeira linha de alienígenas \n",
    "    for alien_number in range(number_aliens_x):\n",
    "        create_alien(ai_settings, screen, aliens, alien_number)\n",
    "\n"
   ]
  },
  {
   "cell_type": "markdown",
   "id": "47a18d7e-ffe2-4162-8f35-bae7dd7a4812",
   "metadata": {
    "tags": []
   },
   "source": [
    "O corpo de <code>**get_number_aliens_x()**</code> está exatamente como era em <code>**create_fleet()**</code>. **O corpo de <code>create_alien()</code> também não mudou em relação a <code>create_fleet()</code>, exceto que usamos o alienígena que acabou de ser criado para obter a sua largura. E substituímos o código para determinar o espaçamento horizontal por uma chamada a <code>get_number_aliens_x()</code> e removemos a linha que referenciava <code>alien_width</code>, pois isso é tratado agora em <code>create_alien()</code>**. E chamamos <code>**create_alien()**</code>. Essa refatoração facilitará o acréscimo de novas linha e a criação de uma frota completa."
   ]
  },
  {
   "cell_type": "markdown",
   "id": "8d43aee9-da54-438b-84f4-52af96d27e0f",
   "metadata": {},
   "source": [
    "### Adicionando linhas"
   ]
  },
  {
   "cell_type": "markdown",
   "id": "c3e541d5-0d4c-4d85-a3e9-072914c802c9",
   "metadata": {},
   "source": [
    "Para concluir a frota, determine a quantidade de linhas que cabem na tela e então repita o laço <code>**(para criar os alienígenas em uma linha)**</code> esse número de vezes. **Para determinar a quantidade de linhas, calculamos o espaço vertical disponível fazendo a subtração da altura de um alienígena na parte superior, a altura da espaçonave e a altura de dois alienígenas na parte inferior da tela: <code>available_space_y = ai_settings.screen_height – 3 * alien_height – ship_height</code>. Isso resulta na criação de um espaço vazio acima da espaçonave, de modo que o jogador tenha um tempo para começar a atirar nos alienígenas no início de cada nível.**\n",
    "\n",
    "Toda linha precisa de um espaço vazio abaixo dela, que será igual à altura de um alienígena. **Para calcular o número de linhas, dividimos o espaço disponível por duas vezes a altura de um alienígena. (Novamente, se esses cálculos estiverem incorretos, perceberemos de imediato e faremos ajustes até que haja um espaçamento razoável.) number_rows = available_height_y / (2 * alien_height)<code></code>.** Agora que sabemos quantas linhas cabem em uma frota, podemos repetir o código para criar uma linha:<code></code>"
   ]
  },
  {
   "cell_type": "code",
   "execution_count": 17,
   "id": "811681e2-1156-4eed-9a98-47da319734cf",
   "metadata": {
    "tags": []
   },
   "outputs": [],
   "source": [
    "##game_functions.py\n",
    "def get_number_rows(ai_settings, ship_height, alien_height): \n",
    "    \"\"\"Determina o número de linhas com alienígenas que cabem na tela.\"\"\" \n",
    "    available_space_y = (ai_settings.screen_height - (3 * alien_height) - ship_height) \n",
    "    number_rows = int(available_space_y / (2 * alien_height)) \n",
    "    return number_rows\n",
    "\n",
    "def create_alien(ai_settings, screen, aliens, alien_number, row_number): \n",
    "    # Cria um alienígena e o posiciona na linha \n",
    "    alien = Alien(ai_settings, screen) \n",
    "    alien_width = alien.rect.width \n",
    "    alien.x = alien_width + 2 * alien_width * alien_number \n",
    "    alien.rect.x = alien.x \n",
    "    alien.rect.y = alien.rect.height + 2 * alien.rect.height * row_number\n",
    "    aliens.add(alien)\n",
    "    \n",
    "def create_fleet(ai_settings, screen, ship, aliens): \n",
    "    \"\"\"Cria uma frota completa de alienígenas.\"\"\"\n",
    "    # Cria um alienígena e calcula o número de alienígenas em uma linha \n",
    "    alien = Alien(ai_settings, screen) \n",
    "    number_aliens_x = get_number_aliens_x(ai_settings, alien.rect.width)\n",
    "    number_rows = get_number_rows(ai_settings, ship.rect.height, alien.rect.height)\n",
    "    \n",
    "    # Cria a frota de alienígenas \n",
    "    for row_number in range(number_rows):\n",
    "    \n",
    "    # Cria a primeira linha de alienígenas \n",
    "        for alien_number in range(number_aliens_x):\n",
    "            create_alien(ai_settings, screen, aliens, alien_number, row_number)"
   ]
  },
  {
   "cell_type": "markdown",
   "id": "943eb053-3357-4014-ad01-0f82a825697f",
   "metadata": {
    "tags": []
   },
   "source": [
    "**Para calcular o número de linhas que cabem na tela, colocamos nossos cálculos de <code>available_space_y e de number_rows</code> na função <code>get_number_rows()</code>, que é semelhante a <code>get_number_aliens_x()</code>. O cálculo está entre parênteses para que o resultado possa ser separado em duas linhas, o que resulta em linhas de 79 caracteres ou menos, conforme recomendado. Usamos <code>int()</code> porque não queremos criar uma linha parcial de alienígenas.**"
   ]
  },
  {
   "cell_type": "markdown",
   "id": "e5cf39ce-d3be-4ab5-8a4c-53f204b8b7e7",
   "metadata": {},
   "source": [
    "Para criar várias linhas, usamos dois laços aninhados: **<code>um laço externo e outro interno</code>. O laço interno cria os alienígenas em uma linha. O laço externo conta de 0 até o número de linhas que queremos;** Python usará o código para criar uma única linha e repeti-la pelo número de vezes em **<code>number_rows</code>.**\n",
    "Para aninhar os laços, escreva o novo laço <code>for</code> e indente o código que você deseja repetir. **(A maioria dos editores de texto facilita indentar e remover a indentação de blocos de código, mas se precisar de ajuda, consulte o Apêndice B).** Agora, ao chamar <code>**create_alien()**</code>, incluímos um argumento para o número da linha para que cada linha possa ser colocada cada vez mais para baixo na tela.\n",
    "\n",
    "A definição de <code>**create_alien()**</code> exige um parâmetro para armazenar o número da linha. **Em <code>**create_alien()**</code> mudamos o valor da <code>coordenada y</code> de um alienígena quando ele não estiver na primeira linha , começando com a altura de um alienígena para criar um espaço vazio na parte superior da tela.** Cada linha está separada da linha anterior pela altura de dois alienígenas, portanto multiplicamos a altura do alienígena por dois e então pelo número da linha. **O número da primeira linha é 0, assim o posicionamento vertical da primeira linha não muda**. Todas as linhas subsequentes são colocadas cada vez mais para baixo na tela.\n",
    "\n",
    "A definição de <code>**create_fleet()**</code> também contém um novo parâmetro para o objeto <code>ship</code>, o que significa que precisamos incluir o argumento ship na chamada a **<code>create_fleet()</code> em 'alien_invasion.py'**:"
   ]
  },
  {
   "cell_type": "code",
   "execution_count": null,
   "id": "f59aab82-4ce0-4ed5-bdd0-abfc9dfcc4a8",
   "metadata": {
    "tags": []
   },
   "outputs": [],
   "source": [
    "#alien_invasion.py\n",
    "\n",
    "# Cria a frota de alienígenas \n",
    "gf.create_fleet(ai_settings, screen, ship, aliens)"
   ]
  },
  {
   "cell_type": "markdown",
   "id": "1d9dc1b3-2034-4e5a-bc3f-b523f34bbce6",
   "metadata": {},
   "source": [
    "## **FAÇA VOCÊ MESMO**"
   ]
  },
  {
   "cell_type": "markdown",
   "id": "4e15b62c-417f-4298-874e-1a0762f89ad6",
   "metadata": {},
   "source": [
    "**13.1 – Estrelas:** Encontre uma imagem de uma estrela. Faça uma grade de estrelas aparecer na tela."
   ]
  },
  {
   "cell_type": "code",
   "execution_count": null,
   "id": "a84a68be-8001-44a0-a3b7-2fac934c096d",
   "metadata": {
    "tags": []
   },
   "outputs": [
    {
     "name": "stdout",
     "output_type": "stream",
     "text": [
      "pygame 2.6.1.dev1 (SDL 2.30.5, Python 3.11.5)\n",
      "Hello from the pygame community. https://www.pygame.org/contribute.html\n"
     ]
    }
   ],
   "source": [
    "import pygame\n",
    "import sys\n",
    "\n",
    "def run_game():\n",
    "    # Inicializa o Pygame\n",
    "    pygame.init()\n",
    "\n",
    "    # Define as configurações da tela\n",
    "    screen_width, screen_height = 800, 600\n",
    "    screen = pygame.display.set_mode((screen_width, screen_height))\n",
    "    pygame.display.set_caption(\"Estrelas\")\n",
    "\n",
    "    # Carrega a imagem da estrela\n",
    "    star_image = pygame.image.load('star.bmp')\n",
    "    # Certifique-se de que 'star.png' está no mesmo diretório\n",
    "    star_rect = star_image.get_rect()\n",
    "\n",
    "    # Define o espaço disponível\n",
    "    available_space_x = screen_width - star_rect.width\n",
    "    available_space_y = screen_height - star_rect.height\n",
    "\n",
    "    # Número de estrelas por linha e coluna\n",
    "    number_stars_x = available_space_x // (2 * star_rect.width)\n",
    "    number_stars_y = available_space_y // (2 * star_rect.height)\n",
    "\n",
    "    # Loop principal do jogo\n",
    "    while True:\n",
    "        for event in pygame.event.get():\n",
    "            if event.type == pygame.QUIT:\n",
    "                pygame.quit()\n",
    "                sys.exit()\n",
    "\n",
    "        # Preenche a tela com uma cor (preto, neste caso)\n",
    "        screen.fill((0, 0, 0))\n",
    "\n",
    "        # Desenha as estrelas na tela\n",
    "        for row in range(number_stars_y):\n",
    "            for col in range(number_stars_x):\n",
    "                star_x = star_rect.width + 2 * star_rect.width * col\n",
    "                star_y = star_rect.height + 2 * star_rect.height * row\n",
    "                screen.blit(star_image, (star_x, star_y))\n",
    "\n",
    "        # Atualiza a tela\n",
    "        pygame.display.flip()\n",
    "\n",
    "# Executa o jogo\n",
    "run_game()"
   ]
  },
  {
   "cell_type": "markdown",
   "id": "6d6d8611-e14f-486c-afee-23a19fdf5da3",
   "metadata": {},
   "source": [
    "**13.2 – Estrelas melhoradas:** Você pode criar um padrão mais realista de estrelas introduzindo uma aleatoriedade ao posicionar cada estrela. Lembre-se de que um número aleatório pode ser obtido assim: from random import randint **random_number = randint(-10,10) Esse código devolve um inteiro\n",
    "aleatório entre −10 e 10. Usando o seu código do Exercício 13.1, ajuste a posição de cada estrela de acordo com um valor aleatório.**"
   ]
  },
  {
   "cell_type": "code",
   "execution_count": null,
   "id": "de72d555-7f25-4714-8025-5447ded86886",
   "metadata": {
    "tags": []
   },
   "outputs": [],
   "source": [
    "import pygame\n",
    "import sys\n",
    "from random import randint\n",
    "\n",
    "def run_game():\n",
    "    # Inicializa o Pygame\n",
    "    pygame.init()\n",
    "\n",
    "    # Define as configurações da tela\n",
    "    screen_width, screen_height = 800, 600\n",
    "    screen = pygame.display.set_mode((screen_width, screen_height))\n",
    "    pygame.display.set_caption(\"Estrelas Melhoradas\")\n",
    "\n",
    "    # Carrega a imagem da estrela\n",
    "    try:\n",
    "        star_image = pygame.image.load('star.bmp')  # Certifique-se de que 'star.png' está no diretório correto\n",
    "    except pygame.error as e:\n",
    "        print(f\"Não foi possível carregar a imagem da estrela: {e}\")\n",
    "        sys.exit()\n",
    "\n",
    "    star_rect = star_image.get_rect()\n",
    "\n",
    "    # Define o espaço disponível\n",
    "    available_space_x = screen_width - star_rect.width\n",
    "    available_space_y = screen_height - star_rect.height\n",
    "\n",
    "    # Número de estrelas por linha e coluna\n",
    "    number_stars_x = available_space_x // (2 * star_rect.width)\n",
    "    number_stars_y = available_space_y // (2 * star_rect.height)\n",
    "\n",
    "    # Loop principal do jogo\n",
    "    while True:\n",
    "        for event in pygame.event.get():\n",
    "            if event.type == pygame.QUIT:\n",
    "                pygame.quit()\n",
    "                sys.exit()\n",
    "\n",
    "        # Preenche a tela com uma cor (preto, neste caso)\n",
    "        screen.fill((0, 0, 0))\n",
    "\n",
    "        # Desenha as estrelas na tela com posição ajustada aleatoriamente\n",
    "        for row in range(number_stars_y):\n",
    "            for col in range(number_stars_x):\n",
    "                star_x = star_rect.width + 2 * star_rect.width * col + randint(-10, 10)\n",
    "                star_y = star_rect.height + 2 * star_rect.height * row + randint(-10, 10)\n",
    "                screen.blit(star_image, (star_x, star_y))\n",
    "\n",
    "        # Atualiza a tela\n",
    "        pygame.display.flip()\n",
    "\n",
    "# Executa o jogo\n",
    "run_game()"
   ]
  },
  {
   "cell_type": "markdown",
   "id": "7c1af965-5d41-40df-b921-87bd3595fee0",
   "metadata": {},
   "source": [
    "****"
   ]
  },
  {
   "cell_type": "markdown",
   "id": "74a4e04a-10b3-4d36-bd39-8c85a03adb42",
   "metadata": {},
   "source": [
    "## **Fazendo a frota se mover**"
   ]
  },
  {
   "cell_type": "markdown",
   "id": "f36248cf-464a-4761-8b92-708ea292a75f",
   "metadata": {
    "tags": []
   },
   "source": [
    "Vamos agora fazer a **nossa frota de alienígenas se mover para a direita na tela até atingir a borda e então fazê-la descer de acordo com uma distância definida e se mover para a outra direção. Continuaremos esse movimento até que todos os alienígenas tenham sido eliminados, ou um deles colida com a espaçonave ou alcance a parte inferior da tela**. Vamos começar fazendo a frota se mover para a direita."
   ]
  },
  {
   "cell_type": "markdown",
   "id": "39ddc184-1f03-43a3-87ce-8c490363f082",
   "metadata": {},
   "source": [
    "### Movendo os alienígenas para a direita"
   ]
  },
  {
   "cell_type": "markdown",
   "id": "dacd39a7-1459-4d4d-bbc6-feb9f7144546",
   "metadata": {},
   "source": [
    "**Para mover os alienígenas usaremos o método <code>**update() em 'alien.py'**</code>, que será chamado para cada alienígena do grupo**. Inicialmente adicione uma configuração para controlar a velocidade de cada alienígena:"
   ]
  },
  {
   "cell_type": "code",
   "execution_count": null,
   "id": "3cd53c99-5708-4164-9c13-7dc28919e46e",
   "metadata": {},
   "outputs": [],
   "source": [
    "def update(self): \n",
    "    \"\"\"Move o alienígena para a direita.\"\"\"\n",
    "    self.x += self.ai_settings.alien_speed_factor  \n",
    "    self.rect.x = self.x"
   ]
  },
  {
   "cell_type": "markdown",
   "id": "950aad51-90fd-448f-a9bb-b004684b3064",
   "metadata": {},
   "source": [
    "**Sempre que atualizarmos a posição de um alienígena, ele será movido para a direita de acordo com o valor armazenado em <code>alien_speed_factor</code>. Controlamos a posição exata do alienígena com o atributo <code>self.x</code>, que é capaz de armazenar valores decimais. Então usamos o valor de <code>self.x</code> para atualizar a posição do <code>rect</code> do alienígena.**\n",
    "\n",
    "No laço principal <code>**while**</code>, temos chamadas para atualizar a espaçonave e os projéteis. Agora precisamos atualizar a posição de cada alienígena também: "
   ]
  },
  {
   "cell_type": "code",
   "execution_count": null,
   "id": "7238a5dc-3390-4769-b474-f4eab3e8bbb9",
   "metadata": {},
   "outputs": [],
   "source": [
    "#alien_invasion.py \n",
    "# Inicia o laço principal do jogo \n",
    "while True: \n",
    "    gf.check_events(ai_settings, screen, ship, bullets) \n",
    "    ship.update() \n",
    "    gf.update_bullets(bullets) \n",
    "    gf.update_aliens(aliens)\n",
    "    gf.update_screen(ai_settings, screen, ship, aliens, bullets)"
   ]
  },
  {
   "cell_type": "markdown",
   "id": "ea8c892a-6261-4f68-9630-deeb0d470db9",
   "metadata": {},
   "source": [
    "**Atualizamos as posições dos alienígenas depois que os projéteis foram atualizados, pois logo depois verificaremos se algum projétil atingiu um alienígena.**   \n",
    "Por fim, adicione a nova função <code>**update_aliens()**</code> no final do arquivo <code>**'game_functions.py'**</code>:"
   ]
  },
  {
   "cell_type": "code",
   "execution_count": null,
   "id": "44dc9519-3e3f-430c-b347-51bea6835764",
   "metadata": {},
   "outputs": [],
   "source": [
    "#game_functions.py \n",
    "\n",
    "def update_aliens(aliens): \n",
    "    \"\"\"Atualiza as posições de todos os alienígenas da frota.\"\"\" \n",
    "    aliens.update()"
   ]
  },
  {
   "cell_type": "markdown",
   "id": "8e3b5366-3ac5-4ff1-8d54-c81815093143",
   "metadata": {},
   "source": [
    "**Usamos o método <code>update() no grupo aliens</code>, o que faz o método <code>update()</code> de cada alienígena ser chamado automaticamente**. Se executarmos a <code>**Invasão Alienígena**</code> agora, você deverá ver a frota se mover para a direita e desaparecer na lateral da tela."
   ]
  },
  {
   "cell_type": "markdown",
   "id": "7c5d8671-5833-4d30-b959-0da5f91e63ee",
   "metadata": {},
   "source": [
    "### Criando configurações para a direção da frota"
   ]
  },
  {
   "cell_type": "markdown",
   "id": "8ba74f10-8b0c-4305-985e-90c055c60884",
   "metadata": {
    "tags": []
   },
   "source": [
    "**Agora criaremos as configurações que farão a frota se deslocar para baixo e para a esquerda quando ela atingir a borda direita da tela.** Eis o modo de implementar esse comportamento:"
   ]
  },
  {
   "cell_type": "code",
   "execution_count": null,
   "id": "2213d195-8f05-4207-a5b6-aa41344eb74b",
   "metadata": {},
   "outputs": [],
   "source": [
    "#settings.py \n",
    "\n",
    "#Configurações dos alienígenas \n",
    "self.alien_speed_factor = 1 \n",
    "self.fleet_drop_speed = 10\n",
    "# fleet_direction igual a 1 representa a direita; -1 representa a esquerda \n",
    "self.fleet_direction = 1"
   ]
  },
  {
   "cell_type": "markdown",
   "id": "f93595d7-b1ca-4119-8493-8886f0d8c35b",
   "metadata": {},
   "source": [
    "**A configuração <code>fleet_drop_speed</code> controla a velocidade com que a frota desce na tela sempre que um alienígena alcançar uma das bordas.** É conveniente separar essa velocidade da velocidade horizontal dos alienígenas para que você possa ajustar as duas velocidades de modo independente.\n",
    "\n",
    "**Para implementar a configuração <code>fleet_direction</code> poderíamos ter usado um valor textual, por exemplo, 'left' ou 'right', mas acabaríamos com instruções <code>if-elif</code> para testar a direção da frota.** Em vez disso, como temos apenas duas direções, vamos usar <code>**os valores 1 e -1**</code> e alternar entre eles sempre que a frota mudar de direção. **(Usar números também faz sentido porque movimentar-se para a direita envolve somar um valor à <code>coordenada x</code>de cada alienígena, enquanto movimentar-se para a esquerda envolve fazer uma subtração no valor da <code>coordenada x</code> de cada alienígena.)**"
   ]
  },
  {
   "cell_type": "markdown",
   "id": "f90c15b7-6560-48f3-869a-14553625756c",
   "metadata": {},
   "source": [
    "### Verificando se um alienígena atingiu a borda"
   ]
  },
  {
   "cell_type": "markdown",
   "id": "275bdaba-f1c3-4193-ac46-0ffd1ea0c579",
   "metadata": {},
   "source": [
    "**Agora precisamos de um método para verificar se um alienígena está em alguma das bordas e modificar <code>update()</code> para permitir que cada alienígena se desloque na direção apropriada**:"
   ]
  },
  {
   "cell_type": "code",
   "execution_count": 12,
   "id": "1dec4b72-80f1-447e-b28f-95b688215736",
   "metadata": {
    "tags": []
   },
   "outputs": [],
   "source": [
    "#alien.py \n",
    "def check_edges(self):\n",
    "    \"\"\"Devolve True se o alienígena estiver na borda da tela.\"\"\" \n",
    "    screen_rect = self.screen.get_rect() \n",
    "    if self.rect.right >= screen_rect.right: \n",
    "        return True  \n",
    "    elif self.rect.left <= 0: \n",
    "        return True \n",
    "    \n",
    "    def update(self): \n",
    "        \"\"\"Move o alienígena para a direita ou para a esquerda.\"\"\"\n",
    "        self.x += (self.ai_settings.alien_speed_factor * self.ai_settings.fleet_direction) \n",
    "        self.rect.x = self.x"
   ]
  },
  {
   "cell_type": "markdown",
   "id": "ba29f7f7-c44f-4db3-abf8-260b3fbc4e62",
   "metadata": {},
   "source": [
    "Podemos chamar o novo método <code>**check_edges()**</code> em qualquer alienígena para ver se ele está na borda esquerda ou direita. **O alienígena estará na borda direita se o atributo <code>right de seu rect</code> for maior ou igual ao atributo <code>right do rect da tela</code>. Estará na borda esquerda <code>se o valor de left for menor ou igual a 0</code>.**\n",
    "\n",
    "Modificamos o método <code>**update()**</code> para permitir o movimento para a esquerda ou para a direita, multiplicando o fator de velocidade do alienígena pelo valor de <code>**fleet_direction**</code>. **Se <code>fleet_direction for 1, o valor de alien_speed_factor</code> será somado à posição atual do alienígena, movendo-o para a direita; se <code>fleet_direction for -1</code>, o valor será subtraído da posição do alienígena, movendo-o para a esquerda**."
   ]
  },
  {
   "cell_type": "markdown",
   "id": "b066de4d-5f07-4a17-865f-b253311a8485",
   "metadata": {},
   "source": [
    "### Fazendo a frota descer e mudando a direção"
   ]
  },
  {
   "cell_type": "markdown",
   "id": "fd106ae7-e56b-4630-910d-055adf9c635c",
   "metadata": {},
   "source": [
    "**Quando um alienígena alcança a borda da tela, toda a frota deve descer e mudar de direção. Desse modo, precisamos fazer algumas alterações substanciais em <code>'game_functions.py'</code>, pois é aí que verificamos se há algum alienígena na borda esquerda ou direita da tela**. Faremos isso acontecer escrevendo as funções <code>**check_fleet_edges() e change_fleet_direction()**</code>, e então modificando <code>**update_aliens()**</code>:"
   ]
  },
  {
   "cell_type": "code",
   "execution_count": 20,
   "id": "12f933fb-db40-4698-a9a6-2b1385189b92",
   "metadata": {
    "tags": []
   },
   "outputs": [],
   "source": [
    "#game_functions.py \n",
    "\n",
    "def check_fleet_edges(ai_settings, aliens): \n",
    "    \"\"\"Responde apropriadamente se algum alienígena alcançou uma borda.\"\"\"\n",
    "    for alien in aliens.sprites(): \n",
    "        if alien.check_edges(): \n",
    "            change_fleet_direction(ai_settings, aliens)\n",
    "            break\n",
    "\n",
    "def change_fleet_direction(ai_settings, aliens): \n",
    "    \"\"\"Faz toda a frota descer e muda a sua direção.\"\"\"\n",
    "    for alien in aliens.sprites(): \n",
    "        alien.rect.y += ai_settings.fleet_drop_speed \n",
    "        ai_settings.fleet_direction *= -1\n",
    "        \n",
    "def update_aliens(ai_settings, aliens): \n",
    "    \"\"\"Verifica se a frota está em uma das bordas e então \n",
    "    atualiza as posições de todos os alienígenas da frota. \"\"\"\n",
    "    check_fleet_edges(ai_settings, aliens) \n",
    "    aliens.update()"
   ]
  },
  {
   "cell_type": "markdown",
   "id": "387bc34f-3def-4d8c-af06-6b2e60e12362",
   "metadata": {
    "tags": []
   },
   "source": [
    "Em <code>check_fleet_edges()</code> percorremos a frota com um laço e chamamos <code>check_edges()</code> em cada alienígena . **Se <code>check_edges()</code> devolver <code>True</code>, saberemos que um alienígena está em uma borda e toda a frota deverá mudar de direção, portanto chamamos <code>change_fleet_direction()</code> e saímos do laço.** Em <code>**change_fleet_direction()**</code> percorremos todos os alienígenas com um laço e fazemos cada um deles descer na tela usando a configuração <code>**fleet_drop_speed**</code>; **então alteramos o valor de <code>fleet_direction multiplicando seu valor atual por -1</code>.**\n",
    "\n",
    "**Modificamos a função <code> update_aliens()</code> a fim de determinar se algum alienígena está em uma das bordas chamando <code>check_fleet_edges()</code>**. Essa função precisa de um parâmetro <code>**ai_settings**</code>, portanto incluímos um argumento para ele na chamada a <code>**update_aliens()**</code>:"
   ]
  },
  {
   "cell_type": "code",
   "execution_count": null,
   "id": "cf81c73e-4fe5-48ee-ab5e-6258f5896a10",
   "metadata": {},
   "outputs": [],
   "source": [
    "#alien_invasion.py \n",
    "# Inicia o laço principal do jogo \n",
    "while True: \n",
    "    gf.check_events(ai_settings, screen, ship, bullets)\n",
    "    ship.update()\n",
    "    gf.update_bullets(bullets)\n",
    "    gf.update_aliens(ai_settings, aliens)\n",
    "    gf.update_screen(ai_settings, screen, ship, aliens, bullets)"
   ]
  },
  {
   "cell_type": "markdown",
   "id": "e3027700-a929-423c-b32c-320eedb6aed4",
   "metadata": {},
   "source": [
    "Se o jogo for executado agora, a frota deverá se mover para a frente e para trás entre as bordas da tela, e descerá sempre que atingir uma das bordas. Podemos agora começar a atirar nos alienígenas e prestar atenção em qualquer um que atinja a espaçonave ou alcance a parte inferior da tela."
   ]
  },
  {
   "cell_type": "code",
   "execution_count": null,
   "id": "27d2476b-4139-4883-a049-32eeeccdb72d",
   "metadata": {
    "tags": []
   },
   "outputs": [
    {
     "name": "stdout",
     "output_type": "stream",
     "text": [
      "pygame 2.6.1.dev1 (SDL 2.30.5, Python 3.11.5)\n",
      "Hello from the pygame community. https://www.pygame.org/contribute.html\n"
     ]
    }
   ],
   "source": [
    "import pygame\n",
    "from settings import Settings\n",
    "from ship import Ship\n",
    "from alien import Alien\n",
    "import game_functions as gf\n",
    "from pygame.sprite import Group \n",
    "\n",
    "\n",
    "def run_game():\n",
    "    # Inicializa o jogo e cria um objeto para a tela\n",
    "    pygame.init()\n",
    "    ai_settings = Settings() \n",
    "    screen = pygame.display.set_mode((ai_settings.screen_width, ai_settings.screen_height))\n",
    "    pygame.display.set_caption(\"Alien Invasion\")\n",
    "    \n",
    "    # Define a cor de fundo \n",
    "    bg_color = (230, 230, 230)\n",
    "    \n",
    "    # Cria uma espaçonave\n",
    "    ship = Ship(ai_settings, screen)\n",
    "    \n",
    "    #  # Cria uma espaçonave, um grupo de projéteis e um grupo de alienígenas\n",
    "    bullets = Group() \n",
    "    aliens = Group() \n",
    "    gf.create_fleet(ai_settings, screen, ship, aliens)\n",
    "    \n",
    "    \n",
    "    # Inicia o laço principal do jogo\n",
    "    while True:\n",
    "        gf.check_events(ai_settings, screen, ship, bullets)\n",
    "        ship.update()\n",
    "        gf.update_bullets(bullets)\n",
    "        gf.update_aliens(ai_settings, aliens)\n",
    "        gf.update_screen(ai_settings, screen, ship, aliens, bullets)\n",
    "        \n",
    "        # Redesenha a tela a cada passagem pelo laço\n",
    "        screen.fill(ai_settings.bg_color)\n",
    "        ship.blitme()\n",
    "        aliens.draw(screen)\n",
    "        \n",
    "        # Deixa a tela mais recente visível\n",
    "        pygame.display.flip()\n",
    "\n",
    "# Chama a função para iniciar o jogo\n",
    "run_game()"
   ]
  },
  {
   "cell_type": "markdown",
   "id": "36202eed-dfba-404d-b7fe-d53243844f09",
   "metadata": {},
   "source": [
    "## **FAÇA VOCÊ MESMO**"
   ]
  },
  {
   "cell_type": "markdown",
   "id": "dd7baab6-1e27-4077-9e39-a80f7b08913a",
   "metadata": {},
   "source": [
    "**13.3 – Gotas de chuva:** Encontre uma imagem de uma gota de chuva e crie uma grade de gotas. Faça as gotas de chuva caírem em direção à parte inferior da tela até desaparecerem."
   ]
  },
  {
   "cell_type": "code",
   "execution_count": null,
   "id": "854a8f24-a79b-4213-b3c6-984c15ccebc7",
   "metadata": {
    "tags": []
   },
   "outputs": [
    {
     "name": "stdout",
     "output_type": "stream",
     "text": [
      "pygame 2.6.1.dev1 (SDL 2.30.5, Python 3.11.5)\n",
      "Hello from the pygame community. https://www.pygame.org/contribute.html\n"
     ]
    }
   ],
   "source": [
    "import pygame\n",
    "import random\n",
    "\n",
    "# Inicializar o Pygame\n",
    "pygame.init()\n",
    "\n",
    "# Definir as dimensões da tela\n",
    "screen_width = 800\n",
    "screen_height = 600\n",
    "screen = pygame.display.set_mode((screen_width, screen_height))\n",
    "pygame.display.set_caption(\"Gotas de Chuva\")\n",
    "\n",
    "# Carregar a imagem da gota de chuva\n",
    "drop_image = pygame.image.load('rain_drop.bmp')\n",
    "drop_image.set_colorkey((255, 255, 255))\n",
    "drop_width, drop_height = drop_image.get_size()\n",
    "\n",
    "# Função para criar gotas em uma grade\n",
    "def create_raindrops(rows, cols):\n",
    "    raindrops = []\n",
    "    spacing_x = screen_width // cols\n",
    "    spacing_y = screen_height // rows\n",
    "    for row in range(rows):\n",
    "        for col in range(cols):\n",
    "            x = col * spacing_x + (spacing_x - drop_width) // 2\n",
    "            y = row * spacing_y - drop_height\n",
    "            raindrops.append(pygame.Rect(x, y, drop_width, drop_height))\n",
    "    return raindrops\n",
    "\n",
    "# Função para desenhar e mover as gotas\n",
    "def update_raindrops(raindrops, speed):\n",
    "    for drop in raindrops:\n",
    "        drop.y += speed\n",
    "        if drop.y > screen_height:\n",
    "            drop.y = -drop_height\n",
    "\n",
    "# Configurações iniciais\n",
    "rows = 5\n",
    "cols = 10\n",
    "raindrops = create_raindrops(rows, cols)\n",
    "drop_speed = 5\n",
    "\n",
    "# Loop principal do jogo\n",
    "running = True\n",
    "while running:\n",
    "    screen.fill((0, 0, 0))  # Preencher o fundo com preto\n",
    "\n",
    "    for event in pygame.event.get():\n",
    "        if event.type == pygame.QUIT:\n",
    "            running = False\n",
    "\n",
    "    update_raindrops(raindrops, drop_speed)\n",
    "\n",
    "    for drop in raindrops:\n",
    "        screen.blit(drop_image, (drop.x, drop.y))\n",
    "\n",
    "    pygame.display.flip()\n",
    "    pygame.time.delay(30)\n",
    "\n",
    "pygame.quit()"
   ]
  },
  {
   "cell_type": "markdown",
   "id": "f0b3d3a0-c6ed-4053-aaa5-f0c2d911b8d9",
   "metadata": {},
   "source": [
    "**13.4 – Chuva contínua:** Modifique o código do Exercício 13.3 para que, quando uma linha de gotas d’água desaparecer na parte inferior da tela, uma nova linha apareça na parte superior e comece a cair."
   ]
  },
  {
   "cell_type": "code",
   "execution_count": null,
   "id": "2533e032-c891-475b-8929-1298bfb0bc4c",
   "metadata": {
    "tags": []
   },
   "outputs": [
    {
     "name": "stdout",
     "output_type": "stream",
     "text": [
      "pygame 2.6.1.dev1 (SDL 2.30.5, Python 3.11.5)\n",
      "Hello from the pygame community. https://www.pygame.org/contribute.html\n"
     ]
    }
   ],
   "source": [
    "import pygame\n",
    "import random\n",
    "\n",
    "# Inicializar o Pygame\n",
    "pygame.init()\n",
    "\n",
    "# Definir as dimensões da tela\n",
    "screen_width = 800\n",
    "screen_height = 600\n",
    "screen = pygame.display.set_mode((screen_width, screen_height))\n",
    "pygame.display.set_caption(\"Chuva Contínua\")\n",
    "\n",
    "# Carregar a imagem da gota de chuva em formato BMP\n",
    "drop_image = pygame.image.load('rain_drop.bmp')\n",
    "\n",
    "# Definir a cor de fundo da imagem como transparente\n",
    "drop_image.set_colorkey((255, 255, 255))\n",
    "\n",
    "drop_width, drop_height = drop_image.get_size()\n",
    "\n",
    "# Função para criar gotas em uma linha\n",
    "def create_raindrops(cols):\n",
    "    raindrops = []\n",
    "    spacing_x = screen_width // cols\n",
    "    for col in range(cols):\n",
    "        x = col * spacing_x + (spacing_x - drop_width) // 2\n",
    "        y = random.randint(-drop_height * 5, 0)  # Posição inicial fora da tela\n",
    "        raindrops.append(pygame.Rect(x, y, drop_width, drop_height))\n",
    "    return raindrops\n",
    "\n",
    "# Função para desenhar e mover as gotas\n",
    "def update_raindrops(raindrops, speed):\n",
    "    for drop in raindrops:\n",
    "        drop.y += speed\n",
    "        # Reposicionar gotas quando saem da tela\n",
    "        if drop.y > screen_height:\n",
    "            drop.y = random.randint(-drop_height * 5, -drop_height)\n",
    "\n",
    "# Configurações iniciais\n",
    "cols = 10\n",
    "raindrops = create_raindrops(cols)\n",
    "drop_speed = 5\n",
    "\n",
    "# Loop principal do jogo\n",
    "running = True\n",
    "while running:\n",
    "    screen.fill((0, 0, 0))  # Preencher o fundo com preto\n",
    "\n",
    "    for event in pygame.event.get():\n",
    "        if event.type == pygame.QUIT:\n",
    "            running = False\n",
    "\n",
    "    update_raindrops(raindrops, drop_speed)\n",
    "\n",
    "    for drop in raindrops:\n",
    "        screen.blit(drop_image, (drop.x, drop.y))\n",
    "\n",
    "    pygame.display.flip()\n",
    "    pygame.time.delay(30)\n",
    "\n",
    "pygame.quit()"
   ]
  },
  {
   "cell_type": "markdown",
   "id": "c4212e6d-5d71-4c0d-8183-5adbe6d7ef36",
   "metadata": {},
   "source": [
    "****"
   ]
  },
  {
   "cell_type": "markdown",
   "id": "2c5d3d5e-def2-45ea-985d-65294e584933",
   "metadata": {},
   "source": [
    "## **Atirando nos alienígenas**"
   ]
  },
  {
   "cell_type": "markdown",
   "id": "61461d26-3a9c-4196-91a6-4c01d644578b",
   "metadata": {},
   "source": [
    "Criamos nossa espaçonave e uma frota de alienígenas, mas quando os projéteis atingirem os alienígenas, eles simplesmente os atravessarão porque não estamos verificando se há **<code>colisões</code>. Na programação de jogos, as <code>colisões</code> ocorrem quando os elementos do jogo se sobrepõem. Para fazer os projéteis atingirem os alienígenas, usaremos o método <code>sprite.groupcollide()</code> para identificar colisões entre os membros de dois grupos.**"
   ]
  },
  {
   "cell_type": "markdown",
   "id": "bcda5db3-1dce-41cd-bf74-e9931aa071f4",
   "metadata": {},
   "source": [
    "### Detectando colisões com os projéteis"
   ]
  },
  {
   "cell_type": "markdown",
   "id": "ea49f40d-a305-41a2-ad4e-e30f5d3fae7f",
   "metadata": {},
   "source": [
    "Queremos saber de imediato se um projétil atingiu um alienígena para que possamos fazer o alienígena desaparecer assim que for atingido. Para isso, detectaremos <code>**colisões**</code> logo depois de atualizar a posição de um projétil.\n",
    "O **método <code>sprite.groupcollide()</code> compara o <code>rect</code> de cada projétil com o <code>rect</code> de cada alienígena e devolve um dicionário contendo os projéteis e os alienígenas que colidiram. Cada chave do <code>dicionário</code> é um projétil e o valor correspondente é o alienígena atingido**. (Usaremos esse dicionário quando implementarmos um sistema de pontuação no Capítulo 14.) Use o código a seguir para verificar se houve <code>**colisões**</code> na função <code>**update_bullets()**</code>:"
   ]
  },
  {
   "cell_type": "code",
   "execution_count": null,
   "id": "3b05baea-c63e-4f42-8a17-a9f51331a260",
   "metadata": {},
   "outputs": [],
   "source": [
    "#game_functions.py \n",
    "def update_bullets(aliens, bullets): \n",
    "    \"\"\"Atualiza a posição dos projéteis e se livra dos projéteis antigos.\"\"\"\n",
    "    --trecho omitido--\n",
    "# Verifica se algum projétil atingiu os alienígenas \n",
    "# Em caso afirmativo, livra-se do projétil e do alienígena \n",
    "collisions = pygame.sprite.groupcollide(bullets, aliens, True, True)"
   ]
  },
  {
   "cell_type": "markdown",
   "id": "0e757d54-40ce-4a25-b489-a232a8cb1fc7",
   "metadata": {
    "tags": []
   },
   "source": [
    "A nova linha que adicionamos percorre cada projétil do <code>**grupo bullets**</code> com um laço e, em seguida, percorre cada alienígena do <code>**grupo aliens**</code>. **Sempre que houver uma sobreposição entre os rects de um projétil e de um alienígena, groupcollide()<code></code> adicionará <code>um par chave-valor</code> ao dicionário devolvido. Os dois argumentos <code>True</code> dizem ao <code>Pygame</code> se os projéteis e os alienígenas que colidiram devem ser apagados.** (Para criar um projétil altamente eficaz, com capacidade para se deslocar até a parte superior da tela, destruindo todos os alienígenas em seu caminho, **você poderia definir o primeiro argumento <code>booleano com False</code> e manter o segundo como <code>True</code>**. Os alienígenas atingidos desapareceriam, mas todos os projéteis continuariam ativos até sumirem na parte superior da tela.) \n",
    "\n",
    "O argumento aliens é passado na chamada a <code>**update_bullets()**</code>:"
   ]
  },
  {
   "cell_type": "code",
   "execution_count": 3,
   "id": "f3fc7f42-2ca7-4d42-9623-1537f4f59b98",
   "metadata": {
    "tags": []
   },
   "outputs": [],
   "source": [
    "#alien_invasion.py \n",
    "# Inicia o laço principal do jogo \n",
    "while True: \n",
    "    gf.check_events(ai_settings, screen, ship, bullets) \n",
    "    ship.update() gf.update_bullets(aliens, bullets) \n",
    "    gf.update_aliens(ai_settings, aliens) \n",
    "    gf.update_screen(ai_settings, screen, ship, aliens, bullets)"
   ]
  },
  {
   "cell_type": "markdown",
   "id": "f87bce1f-9dd9-4ced-bd97-ab111383df4a",
   "metadata": {},
   "source": [
    "**Se você executar a <code>Invasão Alienígena</code> agora, os alienígenas que você atingir deverão desaparecer**. A Figura 13.5 mostra uma frota que foi parcialmente atingida."
   ]
  },
  {
   "cell_type": "code",
   "execution_count": null,
   "id": "f46c2a97-d340-46f0-92d1-158dad764e12",
   "metadata": {
    "tags": []
   },
   "outputs": [
    {
     "name": "stdout",
     "output_type": "stream",
     "text": [
      "pygame 2.6.1.dev1 (SDL 2.30.5, Python 3.11.5)\n",
      "Hello from the pygame community. https://www.pygame.org/contribute.html\n"
     ]
    }
   ],
   "source": [
    "import pygame\n",
    "from settings import Settings\n",
    "from ship import Ship\n",
    "from alien import Alien\n",
    "import game_functions as gf\n",
    "from pygame.sprite import Group \n",
    "\n",
    "\n",
    "def run_game():\n",
    "    # Inicializa o jogo e cria um objeto para a tela\n",
    "    pygame.init()\n",
    "    ai_settings = Settings() \n",
    "    screen = pygame.display.set_mode((ai_settings.screen_width, ai_settings.screen_height))\n",
    "    pygame.display.set_caption(\"Alien Invasion\")\n",
    "    \n",
    "    # Define a cor de fundo \n",
    "    bg_color = (230, 230, 230)\n",
    "    \n",
    "    # Cria uma espaçonave, um grupo de projéteis e um grupo de alienígenas\n",
    "    ship = Ship(ai_settings, screen)\n",
    "    bullets = Group() \n",
    "    aliens = Group() \n",
    "    # Cria a frota de alienígenas \n",
    "    gf.create_fleet(ai_settings, screen, ship, aliens)\n",
    "    \n",
    "    \n",
    "    # Inicia o laço principal do jogo\n",
    "    while True:\n",
    "        gf.check_events(ai_settings, screen, ship, bullets)\n",
    "        ship.update()\n",
    "        gf.update_bullets(aliens, bullets)\n",
    "        gf.update_aliens(ai_settings, aliens)\n",
    "        gf.update_screen(ai_settings, screen, ship, aliens, bullets)\n",
    "        \n",
    "        # Redesenha a tela a cada passagem pelo laço\n",
    "        screen.fill(ai_settings.bg_color)\n",
    "        ship.blitme()\n",
    "        aliens.draw(screen)\n",
    "        \n",
    "        # Deixa a tela mais recente visível\n",
    "        pygame.display.flip()\n",
    "\n",
    "# Chama a função para iniciar o jogo\n",
    "run_game()"
   ]
  },
  {
   "cell_type": "markdown",
   "id": "36f6d4c3-9a94-4b2a-8015-dde4c88db021",
   "metadata": {},
   "source": [
    "### Criando projéteis maiores para testes"
   ]
  },
  {
   "cell_type": "markdown",
   "id": "19ae3860-9602-4b87-8912-417aa47a5985",
   "metadata": {},
   "source": [
    "Você pode testar muitas funcionalidades simplesmente executando o jogo, mas algumas delas são tediosas para testar na versão normal de um jogo. Por exemplo, é muito trabalho atingir todos os alienígenas da tela várias vezes para testar se o seu código responde a uma frota vazia de forma correta.   \n",
    "**Para testar algumas funcionalidades em particular, você pode alterar determinadas configurações do jogo para poder se concentrar em uma área específica.** Por exemplo, você pode diminuir o tamanho da tela para que haja menos alienígenas para acertar ou pode aumentar a velocidade do projétil e conceder vários projéteis de uma só vez a si mesmo.\n",
    "\n",
    "Minha mudança preferida para testar a <code>**Invasão Alienígena**</code> é usar projéteis extremamente largos, que permaneçam ativos mesmo depois de terem atingido um alienígena (veja a Figura 13.6). **Experimente configurar <code>**bullet_width com 300**</code> para vez a rapidez com que você poderá eliminar a frota!**   \n",
    "Alterações como essa ajudarão você a testar o jogo com mais eficiência e, possivelmente, lhe darão ideias para conceder bônus que aumentem a eficiência dos jogadores. **(Não se esqueça de restaurar as configurações depois que terminar de testar uma funcionalidade.)**"
   ]
  },
  {
   "cell_type": "markdown",
   "id": "f84eb461-56cf-4d43-b974-983b54e4fe22",
   "metadata": {},
   "source": [
    "### Repovoando a frota"
   ]
  },
  {
   "cell_type": "markdown",
   "id": "913d61f1-2a4b-49ca-b301-2329b0528a97",
   "metadata": {},
   "source": [
    "Uma característica essencial da <code>**Invasão Alienígena**</code> é que os alienígenas são incansáveis: **sempre que a frota for destruída, uma nova frota deverá aparecer.   \n",
    "Para fazer uma nova frota de alienígenas surgir depois que uma frota é destruída, verifique antes se o <code>grupo aliens</code> está vazio. Se estiver, chame <code>create_fleet()</code>.** Faremos essa verificação em <code>**update_bullets()**</code>, pois é aí que os alienígenas individuais são destruídos:"
   ]
  },
  {
   "cell_type": "code",
   "execution_count": 10,
   "id": "cb531743-d125-46dd-a0d9-07fdebe6c5fa",
   "metadata": {
    "tags": []
   },
   "outputs": [],
   "source": [
    "#game_functions.py \n",
    "def update_bullets(ai_settings, screen, ship, aliens, bullets):\n",
    "    --trecho omitido--\n",
    "    # Verifica se algum projétil atingiu os alienígenas \n",
    "    # Em caso afirmativo, livra-se do projétil e do alienígena \n",
    "    collisions = pygame.sprite.groupcollide(bullets, aliens, True, True)\n",
    "    if len(aliens) == 0: \n",
    "        # Destrói os projéteis existentes e cria uma nova frota \n",
    "        bullets.empty() \n",
    "        create_fleet(ai_settings, screen, ship, aliens)"
   ]
  },
  {
   "cell_type": "markdown",
   "id": "ce3bcec3-c612-40ec-bdb3-765e46d96039",
   "metadata": {},
   "source": [
    "**Verificamos se o <code>grupo aliens</code> está vazio. Se estiver, nos livramos de qualquer projétil existente usando o método <code>empty()</code>, que remove todos os sprites restantes de um grupo.** Também chamamos <code>**create_fleet()**</code>, que preenche a tela com alienígenas novamente. \n",
    "\n",
    "A definição de <code>**update_bullets()**</code> agora tem os parâmetros adicionais <code>**ai_settings, screen e ship**</code>, portanto é necessário atualizar a chamada a essa função em <code>**'alien_invasion.py'**</code>:"
   ]
  },
  {
   "cell_type": "code",
   "execution_count": null,
   "id": "96635ef2-4516-48fc-9e24-f3e6b34da86f",
   "metadata": {},
   "outputs": [],
   "source": [
    "#alien_invasion.py \n",
    "# Inicia o laço principal do jogo \n",
    "while True: \n",
    "    gf.check_events(ai_settings,\n",
    "    screen, ship, bullets)\n",
    "    gf.update_bullets(ai_settings, screen, ship,\n",
    "    gf.update_aliens(ai_settings, bullets)\n",
    "    gf.update_screen(ai_settings, screen, ship, aliens, bullets)"
   ]
  },
  {
   "cell_type": "markdown",
   "id": "61b25254-f62f-4e0e-94a2-b16dc3c6226b",
   "metadata": {
    "tags": []
   },
   "source": [
    "### Aumentando a velocidade dos projéteis"
   ]
  },
  {
   "cell_type": "markdown",
   "id": "a57503a2-3d15-4162-aba7-9e0d76d72812",
   "metadata": {},
   "source": [
    "Se tentar atirar nos alienígenas no estado atual do jogo, talvez você perceba que os projéteis estão um pouco mais lentos. **Isso ocorre porque o <code>Pygame</code> agora está executando mais tarefas a cada passagem pelo laço. Podemos aumentar a velocidade dos projéteis ajustando o valor de <code>bullet_speed_factor em 'settings.py'</code>.** Se aumentarmos esse valor (para 3, por exemplo), os projéteis deverão se deslocar para cima na tela a uma velocidade razoável novamente:"
   ]
  },
  {
   "cell_type": "code",
   "execution_count": null,
   "id": "417f8f8e-40c6-4b10-a146-930e9f2e8332",
   "metadata": {},
   "outputs": [],
   "source": [
    "#settings.py \n",
    "# Configurações dos projéteis \n",
    "self.bullet_speed_factor = 3 \n",
    "self.bullet_width = 3\n",
    "--trecho omitido--"
   ]
  },
  {
   "cell_type": "markdown",
   "id": "9a650c66-d7f8-4413-8ade-32fd343277e4",
   "metadata": {},
   "source": [
    "O melhor valor para essa configuração depende da velocidade de seu sistema, portanto determine um valor que seja adequado a você."
   ]
  },
  {
   "cell_type": "markdown",
   "id": "3ee9aa7b-b0e7-4b23-a8d1-c3d94481851c",
   "metadata": {},
   "source": [
    "### Refatorando <code>**update_bullets()**</code>"
   ]
  },
  {
   "cell_type": "markdown",
   "id": "6d450e10-6db3-4a41-b257-38f44423abf0",
   "metadata": {},
   "source": [
    "Vamos <code>**refatorar update_bullets()**</code> para que não faça tantas tarefas diferentes. Passaremos o código para lidar com <code>**colisões entre projéteis e alienígenas**</code> para outra função:"
   ]
  },
  {
   "cell_type": "code",
   "execution_count": 27,
   "id": "a9235f86-47cd-4398-9f13-2c3adbd2eeb1",
   "metadata": {
    "tags": []
   },
   "outputs": [],
   "source": [
    "#game_functions.py \n",
    "def update_bullets(ai_settings, screen, ship, aliens, bullets):\n",
    "    --trecho omitido--\n",
    "    # Livra-se dos projéteis que desapareceram \n",
    "    for bullet in bullets.copy(): \n",
    "        if bullet.rect.bottom <= 0: \n",
    "            bullets.remove(bullet)\n",
    "\n",
    "    check_bullet_alien_collisions(ai_settings, screen, ship, aliens, bullets)\n",
    "            \n",
    "def check_bullet_alien_collisions(ai_settings, screen, ship, aliens, bullets): \n",
    "    \"\"\"Responde a colisões entre projéteis e alienígenas.\"\"\"\n",
    "    # Remove qualquer projétil e alienígena que tenham colidido \n",
    "    collisions = pygame.sprite.groupcollide(bullets, aliens, True, True)\n",
    "    if len(aliens) == 0: \n",
    "        # Destrói os projéteis existentes e cria uma nova frota \n",
    "        bullets.empty() \n",
    "        create_fleet(ai_settings, screen, ship, aliens)"
   ]
  },
  {
   "cell_type": "markdown",
   "id": "30b8868c-2701-42da-b998-6ac8396d9bbb",
   "metadata": {},
   "source": [
    "Criamos uma nova função, **<code>check_bullet_alien_collisions()</code>, para detectar colisões entre projéteis e alienígenas, e para responder de modo apropriado caso a frota completa tenha sido destruída**. Isso evita que <code>**update_bullets()**</code> cresça demais e simplifica futuros desenvolvimentos."
   ]
  },
  {
   "cell_type": "markdown",
   "id": "dc494a81-27ce-4daf-a4b9-b3aa5c4fcf27",
   "metadata": {
    "tags": []
   },
   "source": [
    "## **FAÇA VOCÊ MESMO**"
   ]
  },
  {
   "cell_type": "markdown",
   "id": "073da32a-c988-495a-b830-9c55f8c59cc5",
   "metadata": {},
   "source": [
    "**13.5 – Agarrando uma bola:** Crie um jogo que posicione um personagem na parte inferior da tela; você poderá mover esse personagem para a esquerda e para a direita. Faça uma bola aparecer em uma posição aleatória na parte superior da tela e que caia a uma velocidade constante. Se seu personagem “agarrar” a bola colidindo com ela, faça a bola desaparecer. Crie uma nova bola sempre que seu personagem agarrá-la ou sempre que ela desaparecer na parte inferior da tela."
   ]
  },
  {
   "cell_type": "code",
   "execution_count": null,
   "id": "dfaa4c3e-3412-439f-b6d7-c2c6b1fcfa90",
   "metadata": {
    "tags": []
   },
   "outputs": [
    {
     "name": "stdout",
     "output_type": "stream",
     "text": [
      "pygame 2.6.1.dev1 (SDL 2.30.5, Python 3.11.5)\n",
      "Hello from the pygame community. https://www.pygame.org/contribute.html\n"
     ]
    }
   ],
   "source": [
    "import pygame\n",
    "import random\n",
    "\n",
    "# Configurações básicas do jogo\n",
    "SCREEN_WIDTH = 800\n",
    "SCREEN_HEIGHT = 600\n",
    "BG_COLOR = (230, 230, 230)\n",
    "\n",
    "class Character:\n",
    "    def __init__(self, screen):\n",
    "        self.screen = screen\n",
    "        self.width = 50\n",
    "        self.height = 50\n",
    "        self.color = (0, 0, 255)\n",
    "        self.rect = pygame.Rect(0, 0, self.width, self.height)\n",
    "        self.rect.midbottom = screen.get_rect().midbottom\n",
    "        self.speed = 10\n",
    "    \n",
    "    def draw(self):\n",
    "        pygame.draw.rect(self.screen, self.color, self.rect)\n",
    "    \n",
    "    def update(self, keys):\n",
    "        if keys[pygame.K_LEFT] and self.rect.left > 0:\n",
    "            self.rect.x -= self.speed\n",
    "        if keys[pygame.K_RIGHT] and self.rect.right < SCREEN_WIDTH:\n",
    "            self.rect.x += self.speed\n",
    "\n",
    "class Ball:\n",
    "    def __init__(self, screen):\n",
    "        self.screen = screen\n",
    "        self.radius = 20\n",
    "        self.color = (255, 0, 0)\n",
    "        self.rect = pygame.Rect(random.randint(self.radius, SCREEN_WIDTH - self.radius), 0, self.radius*2, self.radius*2)\n",
    "        self.speed = 5\n",
    "    \n",
    "    def draw(self):\n",
    "        pygame.draw.ellipse(self.screen, self.color, self.rect)\n",
    "    \n",
    "    def update(self):\n",
    "        self.rect.y += self.speed\n",
    "\n",
    "def run_game():\n",
    "    pygame.init()\n",
    "    screen = pygame.display.set_mode((SCREEN_WIDTH, SCREEN_HEIGHT))\n",
    "    pygame.display.set_caption(\"Agarrando uma Bola\")\n",
    "    \n",
    "    character = Character(screen)\n",
    "    ball = Ball(screen)\n",
    "    \n",
    "    clock = pygame.time.Clock()\n",
    "    \n",
    "    while True:\n",
    "        for event in pygame.event.get():\n",
    "            if event.type == pygame.QUIT:\n",
    "                pygame.quit()\n",
    "                return\n",
    "        \n",
    "        keys = pygame.key.get_pressed()\n",
    "        character.update(keys)\n",
    "        ball.update()\n",
    "        \n",
    "        # Verifica colisão com a bola\n",
    "        if character.rect.colliderect(ball.rect):\n",
    "            ball = Ball(screen)  # Cria uma nova bola\n",
    "        \n",
    "        # Verifica se a bola saiu da tela\n",
    "        if ball.rect.top > SCREEN_HEIGHT:\n",
    "            ball = Ball(screen)  # Cria uma nova bola\n",
    "        \n",
    "        # Desenha a tela\n",
    "        screen.fill(BG_COLOR)\n",
    "        character.draw()\n",
    "        ball.draw()\n",
    "        \n",
    "        pygame.display.flip()\n",
    "        clock.tick(60)\n",
    "\n",
    "run_game()"
   ]
  },
  {
   "cell_type": "markdown",
   "id": "9bef8fa4-0f04-4efd-b94c-4405bc1ad3dc",
   "metadata": {},
   "source": [
    "****"
   ]
  },
  {
   "cell_type": "markdown",
   "id": "87987930-6689-4c63-9171-f080f693febc",
   "metadata": {},
   "source": [
    "## **Encerrando o jogo**"
   ]
  },
  {
   "cell_type": "markdown",
   "id": "cf755e5b-cab7-474e-8abc-f645167f1d2e",
   "metadata": {},
   "source": [
    "**Qual é a graça e o desafio em um jogo se você não puder perder?** Se o jogador não eliminar a frota de forma rápida o suficiente, faremos os alienígenas destruírem a espaçonave caso eles a atinjam. **Ao mesmo tempo, limitaremos o número de espaçonaves que um jogador pode usar e destruiremos a espaçonave se um alienígena alcançar a parte inferior da tela. Encerraremos o jogo quando o jogador tiver usado todas as suas espaçonaves.**"
   ]
  },
  {
   "cell_type": "markdown",
   "id": "8a7d7621-d73a-4b84-abed-71503b319117",
   "metadata": {},
   "source": [
    "### Detectando colisões entre um alienígena e a espaçonave"
   ]
  },
  {
   "cell_type": "markdown",
   "id": "69604613-57a8-4699-82af-db246d5b7539",
   "metadata": {},
   "source": [
    "**Começaremos verificando se houve colisões entre os alienígenas e a espaçonave para que possamos responder de modo apropriado quando um alienígena atingi-la**. Verificaremos se houve <code>**colisões entre um alienígena e a espaçonave**</code> logo depois de atualizarmos a posição de cada alienígena:"
   ]
  },
  {
   "cell_type": "code",
   "execution_count": 8,
   "id": "5371aec4-a402-4f06-8e9e-401757843520",
   "metadata": {
    "tags": []
   },
   "outputs": [],
   "source": [
    "#game_functions.py \n",
    "def update_aliens(ai_settings, ship, aliens): \n",
    "    \"\"\"Verifica se a frota está em uma das bordas e então \n",
    "    atualiza as posições de todos os alienígenas da frota.\"\"\"\n",
    "    check_fleet_edges(ai_settings, aliens) \n",
    "    aliens.update()\n",
    "    \n",
    "    # Verifica se houve colisões entre alienígenas e a espaçonave  \n",
    "    if pygame.sprite.spritecollideany(ship, aliens):  \n",
    "        print(\"Ship hit!!!\")\n",
    "        "
   ]
  },
  {
   "cell_type": "markdown",
   "id": "a94f019c-203c-43f8-b21b-3d89832ee6eb",
   "metadata": {},
   "source": [
    "O método <code>**spritecollideany()**</code> aceita dois argumentos: <code>um sprite e um grupo</code>. O método verifica se algum membro do grupo colidiu com o <code>sprite</code> e para de percorrer o grupo assim que encontrar um membro que tenha colidido com o <code>sprite</code>. Nesse caso, o método percorre o **'grupo aliens'** e devolve o primeiro alienígena que tenha colidido com <code>ship</code>.<code></code>\n",
    "\n",
    "Se nenhuma colisão ocorreu, <code>spritecollideany()</code> devolve <code>None</code> e o bloco <code>if</code>não será executado. **Se um alienígena que tenha colidido com a espaçonave for identificado, o método devolverá esse alienígena e o bloco <code>if</code> será executado: a mensagem <code>Ship hit!!! (Espaçonave atingida!!!)</code> será exibida**. (Quando um alienígena atinge a espaçonave, precisamos executar várias tarefas: **devemos apagar todos os alienígenas e projéteis restantes, centralizar a espaçonave novamente e criar uma nova frota. Antes de escrever o código que faça tudo isso, precisamos saber se nossa abordagem para detectar colisões entre alienígenas e a espaçonave funciona corretamente.** Escrever uma instrução <code>print</code> é uma maneira simples de garantir que estamos detectando colisões de modo apropriado.) \n",
    "\n",
    "Agora ship deve ser passado para <code>**update_aliens()**</code>:"
   ]
  },
  {
   "cell_type": "code",
   "execution_count": null,
   "id": "3050ee43-8a22-4a47-a969-dfd01c6d24df",
   "metadata": {
    "tags": []
   },
   "outputs": [],
   "source": [
    "#alien_invasion.py \n",
    "# Inicia o laço principal do jogo \n",
    "while True: \n",
    "    gf.check_events(ai_settings, screen, ship, bullets) \n",
    "    ship.update() \n",
    "    gf.update_bullets(ai_settings, screen, ship, aliens, bullets)\n",
    "    gf.update_aliens(ai_settings, ship, aliens) \n",
    "    gf.update_screen(ai_settings, screen, ship, aliens, bullets)"
   ]
  },
  {
   "cell_type": "code",
   "execution_count": null,
   "id": "c75aa8a5-5a6f-4de5-af6c-a69bde1d7fcc",
   "metadata": {
    "tags": []
   },
   "outputs": [
    {
     "name": "stdout",
     "output_type": "stream",
     "text": [
      "pygame 2.6.1.dev1 (SDL 2.30.5, Python 3.11.5)\n",
      "Hello from the pygame community. https://www.pygame.org/contribute.html\n"
     ]
    }
   ],
   "source": [
    "import pygame\n",
    "from settings import Settings\n",
    "from ship import Ship\n",
    "from alien import Alien\n",
    "import game_functions as gf\n",
    "from pygame.sprite import Group \n",
    "\n",
    "\n",
    "def run_game():\n",
    "    # Inicializa o jogo e cria um objeto para a tela\n",
    "    pygame.init()\n",
    "    ai_settings = Settings() \n",
    "    screen = pygame.display.set_mode((ai_settings.screen_width, ai_settings.screen_height))\n",
    "    pygame.display.set_caption(\"Alien Invasion\")\n",
    "    \n",
    "    # Define a cor de fundo \n",
    "    bg_color = (230, 230, 230)\n",
    "    \n",
    "    # Cria uma espaçonave, um grupo de projéteis e um grupo de alienígenas\n",
    "    ship = Ship(ai_settings, screen)\n",
    "    bullets = Group() \n",
    "    aliens = Group() \n",
    "    # Cria a frota de alienígenas \n",
    "    gf.create_fleet(ai_settings, screen, ship, aliens)\n",
    "    \n",
    "    \n",
    "    # Inicia o laço principal do jogo\n",
    "    while True:\n",
    "        gf.check_events(ai_settings, screen, ship, bullets)\n",
    "        ship.update()\n",
    "        gf.update_bullets(ai_settings, screen, ship, aliens, bullets)\n",
    "        gf.update_aliens(ai_settings, ship, aliens)\n",
    "        gf.update_screen(ai_settings, screen, ship, aliens, bullets)\n",
    "        \n",
    "        # Redesenha a tela a cada passagem pelo laço\n",
    "        screen.fill(ai_settings.bg_color)\n",
    "        ship.blitme()\n",
    "        aliens.draw(screen)\n",
    "        \n",
    "        # Deixa a tela mais recente visível\n",
    "        pygame.display.flip()\n",
    "\n",
    "# Chama a função para iniciar o jogo\n",
    "run_game()"
   ]
  },
  {
   "cell_type": "markdown",
   "id": "0b059ad3-d6fa-4d74-886f-364a8d0e62c1",
   "metadata": {},
   "source": [
    "Se executarmos a <code>**Invasão Alienígena**</code> agora, **a mensagem <code>**Ship hit!!!**</code> deverá aparecer no terminal sempre que um alienígena colidir com a espaçonave. Ao testar essa funcionalidade, defina <code>alien_drop_speed</code> com um valor maior**, por exemplo, 50 ou 100, para que os alienígenas atinjam sua espaçonave mais rapidamente.<code></code>"
   ]
  },
  {
   "cell_type": "markdown",
   "id": "5b133adf-3789-4f57-a5f3-280b95e38273",
   "metadata": {
    "tags": []
   },
   "source": [
    "### Respondendo a colisões entre alienígenas e a espaçonave"
   ]
  },
  {
   "cell_type": "markdown",
   "id": "1db73320-c2e1-4966-a55e-505b4e7675f4",
   "metadata": {},
   "source": [
    "**Agora precisamos descobrir o que acontece quando um alienígena colide com a espaçonave**. Em vez de destruir a instância de <code>ship</code> e criar uma nova, contaremos quantas vezes a espaçonave foi atingida armazenando dados estatísticos do jogo. **(Armazenar dados estatísticos também será útil para a pontuação.)** Vamos escrever uma nova classe chamada **<code>GameStats</code> para armazenar as estatísticas do jogo e salvá-la em <code>'game_stats.py'</code>**:<code></code>"
   ]
  },
  {
   "cell_type": "code",
   "execution_count": 22,
   "id": "74fb3e1c-b148-4d0f-81e5-ad7ebdfb985e",
   "metadata": {
    "tags": []
   },
   "outputs": [],
   "source": [
    "class GameStats():\n",
    "    \"\"\"Armazena dados estatísticos da Invasão Alienígena.\"\"\"\n",
    "    \n",
    "    def __init__(self, ai_settings): \n",
    "        \"\"\"Inicializa os dados estatísticos.\"\"\"\n",
    "        self.ai_settings = ai_settings \n",
    "        self.reset_stats()\n",
    "\n",
    "    def reset_stats(self): \n",
    "        \"\"\"Inicializa os dados estatísticos que podem mudar durante o jogo.\"\"\"\n",
    "        self.ships_left = self.ai_settings.ship_limit\n",
    "    "
   ]
  },
  {
   "cell_type": "markdown",
   "id": "1c4f7746-9feb-449f-b778-840668f987e6",
   "metadata": {},
   "source": [
    "Criaremos **uma instância de <code>GameStats</code> que será usada durante todo o tempo que a Invasão Alienígena executar, mas precisaremos reiniciar algumas estatísticas sempre que o jogador começar um novo jogo Para isso, inicializaremos a maior parte dos dados estatísticos no método <code>reset_stats()</code>, e não diretamente em <code>__init__()</code>.** Chamaremos esse método a partir de <code>__init__()</code> para que os dados estatísticos sejam definidos de forma apropriada quando a instância de <code>**GameStats**</code> é inicialmente criada, mas também será possível chamar **<code>reset_stats()</code> sempre que o jogador iniciar um novo jogo.**\n",
    "\n",
    "Nesse momento, temos apenas um dado estatístico, **<code>ships_left</code>, cujo valor mudará no decorrer do jogo. O número de espaçonaves com que o jogador começa é armazenado em <code>'settings.py' como ship_limit</code>**:"
   ]
  },
  {
   "cell_type": "code",
   "execution_count": null,
   "id": "ef64a1e0-24ee-4cb1-8ba2-4cd308f9b500",
   "metadata": {},
   "outputs": [],
   "source": [
    "#settings.py \n",
    "\n",
    "# Configurações da espaçonave \n",
    "self.ship_speed_factor = 1.5\n",
    "self.ship_limit = 3"
   ]
  },
  {
   "cell_type": "markdown",
   "id": "8dab01b7-ef0b-459b-8ec1-91a8c565a5ed",
   "metadata": {},
   "source": [
    "Também devemos fazer algumas alterações em <code>**'alien_invasion.py'**</code> para criar uma instância de <code>**GameStats**</code>:"
   ]
  },
  {
   "cell_type": "code",
   "execution_count": null,
   "id": "ccda1a30-f0c3-43a0-8854-798e6b2e771e",
   "metadata": {},
   "outputs": [],
   "source": [
    "#alien_invasion.py \n",
    "--trecho omitido-- \n",
    "from settings import Settings  \n",
    "from game_stats import GameStats \n",
    "-- trecho omitido--\n",
    "\n",
    "def run_game(): \n",
    "    --trecho omitido--\n",
    "    pygame.display.set_caption(\"Alien Invasion\")\n",
    "    # Cria uma instância para armazenar dados estatísticos do jogo v \n",
    "    stats= GameStats(ai_settings) \n",
    "    --trecho omitido--\n",
    "# Inicia o laço principal do jogo \n",
    "while True: \n",
    "    --trecho omitido--\n",
    "    gf.update_bullets(ai_settings, screen, ship, aliens, bullets)\n",
    "    gf.update_aliens(ai_settings, stats, screen, ship, aliens, bullets) \n",
    "    -- trecho omitido--"
   ]
  },
  {
   "cell_type": "markdown",
   "id": "15f9c430-456d-4670-8f5a-536baa90de02",
   "metadata": {},
   "source": [
    "**Importamos a nova classe <code>GameStats</code>, criamos uma instância stats e acrescentamos os argumentos <code>stats, screen e ship</code> na chamada a <code>update_aliens()</code>**. Usaremos esses argumentos para monitorar o número de espaçonaves que restam ao jogador e construir uma nova frota de alienígenas quando um deles atingir a espaçonave.\n",
    "\n",
    "**Quando um alienígena atinge a espaçonave, subtraímos um do número de espaçonaves restante, destruímos todos os alienígenas e projéteis, criamos uma nova frota e reposicionamos a espaçonave no meio da tela**. (Também faremos uma pausa no jogo para o que o jogador possa perceber a colisão e se recompor antes que uma nova frota apareça.) Vamos colocar a maior parte desse código na função <code>**ship_hit()**:</code>"
   ]
  },
  {
   "cell_type": "code",
   "execution_count": 38,
   "id": "82a898d0-639f-4676-8e0c-07de202eb4bf",
   "metadata": {
    "tags": []
   },
   "outputs": [
    {
     "name": "stdout",
     "output_type": "stream",
     "text": [
      "pygame 2.6.1.dev1 (SDL 2.30.5, Python 3.11.5)\n",
      "Hello from the pygame community. https://www.pygame.org/contribute.html\n"
     ]
    }
   ],
   "source": [
    "#game_functions.py\n",
    "import sys \n",
    "from time import sleep\n",
    "import pygame \n",
    "\n",
    "\n",
    "def ship_hit(ai_settings, stats, screen, ship, aliens, bullets):\n",
    "    \"\"\"Responde ao fato de a espaçonave ter sido atingida por um alienígena.\"\"\"\n",
    "    # Decrementa ships_left  \n",
    "    stats.ships_left -= 1\n",
    "    \n",
    "    # Esvazia a lista de alienígenas e de projéteis \n",
    "    aliens.empty() \n",
    "    bullets.empty()\n",
    "    # Cria uma nova frota e centraliza a espaçonave \n",
    "    create_fleet(ai_settings, screen, ship, aliens) \n",
    "    ship.center_ship()\n",
    "    \n",
    "    # Faz uma pausa \n",
    "    sleep(0.5)\n",
    "    \n",
    "def update_aliens(ai_settings, stats, screen, ship, aliens, bullets): \n",
    "    \n",
    "    # Verifica se houve colisões entre alienígenas e a espaçonave \n",
    "    if pygame.sprite.spritecollideany(ship, aliens): \n",
    "        ship_hit(ai_settings, stats, screen, ship, aliens, bullets)\n"
   ]
  },
  {
   "cell_type": "markdown",
   "id": "64d90736-1aee-4cd3-8807-fbc2828284c0",
   "metadata": {},
   "source": [
    "**Inicialmente importamos a função sleep()<code></code> do módulo time para fazer uma pausa no jogo u. A nova função <code>ship_hit()</code> coordena a resposta quando a espaçonave é atingida por um alienígena**. Em <code>**ship_hit()**</code> o número de espaçonaves restante é reduzido de 1ve, depois disso, esvaziamos os <code>**grupos aliens e bullets>**</code>.\n"
   ]
  },
  {
   "cell_type": "markdown",
   "id": "5a78b61b-5739-4513-85e0-33e86b8b4e56",
   "metadata": {},
   "source": [
    "Em seguida, criamos uma nova frota e centralizamos a espaçonave. (Acrescentaremos o método <code>**center_ship() em Shi**</code> logo mais.) Por fim, **fazemos uma pausa depois que as atualizações foram feitas em todos os elementos do jogo, mas antes de qualquer alteração ter sido desenhada na tela para que o jogador possa ver que sua espaçonave foi atingida**. A tela ficará momentaneamente congelada e o jogador verá que o alienígena atingiu a espaçonave.\n",
    "**Quando a função <code>sleep()</code> terminar, o código continuará na função <code>update_screen()</code>, que desenhará a nova frota na tela.**\n",
    "\n",
    "**Também atualizamos a definição de <code>update_aliens()</code> de modo a incluir os parâmetros <code>stats, screen e bullets</code>;** assim, esses valores poderão ser passados para a chamada a <code>**ship_hit()**</code>. Eis o novo método <code>**center_ship()**</code>; acrescente-o no final de <code>**'ship.py'**</code>:"
   ]
  },
  {
   "cell_type": "code",
   "execution_count": 45,
   "id": "fb90bcf1-61fb-4f7c-b1b0-5e2458b61b10",
   "metadata": {
    "tags": []
   },
   "outputs": [],
   "source": [
    "#ship.py \n",
    "\n",
    "def center_ship(self):\n",
    "    \"\"\"Centraliza a espaçonave na tela.\"\"\" \n",
    "    self.center = self.screen_rect.centerx"
   ]
  },
  {
   "cell_type": "markdown",
   "id": "90cf18e9-862d-4427-927b-edbccb0ef4c5",
   "metadata": {},
   "source": [
    "Para centralizar a espaçonave, definimos o valor de seu atributo center para que coincida com o centro da tela; esse valor é obtido por meio do atributo .<code>**screen_rect**</code>.\n",
    "\n",
    "**NOTA   \n",
    "Observe que jamais criamos mais de uma espaçonave; criamos uma única instância da espaçonave para o jogo todo e a centralizamos novamente sempre que ela for atingida. O dado estatístico ships_left nos informará quando o jogador tiver usado todas as espaçonaves.***\n",
    "\n",
    "Execute o jogo, atire em alguns alienígenas e deixe um deles atingir a espaçonave. Deverá haver uma pausa no jogo e uma nova frota aparecerá com a espaçonave centralizada na parte inferior da tela novamente."
   ]
  },
  {
   "cell_type": "code",
   "execution_count": null,
   "id": "fb1da36c-4ba2-46ca-ae21-f757e06665ca",
   "metadata": {
    "tags": []
   },
   "outputs": [
    {
     "name": "stdout",
     "output_type": "stream",
     "text": [
      "pygame 2.6.1.dev1 (SDL 2.30.5, Python 3.11.5)\n",
      "Hello from the pygame community. https://www.pygame.org/contribute.html\n",
      "Ship hit!!!\n",
      "Ship hit!!!\n"
     ]
    }
   ],
   "source": [
    "import pygame\n",
    "from settings import Settings\n",
    "from game_stats import GameStats\n",
    "from ship import Ship\n",
    "from alien import Alien\n",
    "import game_functions as gf\n",
    "from pygame.sprite import Group \n",
    "\n",
    "\n",
    "def run_game():\n",
    "    # Inicializa o jogo e cria um objeto para a tela\n",
    "    pygame.init()\n",
    "    ai_settings = Settings() \n",
    "    screen = pygame.display.set_mode((ai_settings.screen_width, ai_settings.screen_height))\n",
    "    pygame.display.set_caption(\"Alien Invasion\")\n",
    "    # Cria uma instância para armazenar dados estatísticos do jogo\n",
    "    stats = GameStats(ai_settings)\n",
    "    \n",
    "    # Define a cor de fundo \n",
    "    bg_color = (230, 230, 230)\n",
    "    \n",
    "    # Cria uma espaçonave, um grupo de projéteis e um grupo de alienígenas\n",
    "    ship = Ship(ai_settings, screen)\n",
    "    bullets = Group() \n",
    "    aliens = Group() \n",
    "    # Cria a frota de alienígenas \n",
    "    gf.create_fleet(ai_settings, screen, ship, aliens)\n",
    "    \n",
    "    \n",
    "    # Inicia o laço principal do jogo\n",
    "    while True:\n",
    "        gf.check_events(ai_settings, screen, ship, bullets)\n",
    "        ship.update()\n",
    "        gf.update_bullets(ai_settings, screen, ship, aliens, bullets)\n",
    "        gf.update_aliens(ai_settings, stats, screen, ship, aliens, bullets)\n",
    "        gf.update_screen(ai_settings, screen, ship, aliens, bullets)\n",
    "        alien_drop_speedc=50\n",
    "        \n",
    "        # Redesenha a tela a cada passagem pelo laço\n",
    "        screen.fill(ai_settings.bg_color)\n",
    "        ship.blitme()\n",
    "        aliens.draw(screen)\n",
    "        \n",
    "        # Deixa a tela mais recente visível\n",
    "        pygame.display.flip()\n",
    "\n",
    "# Chama a função para iniciar o jogo\n",
    "run_game()"
   ]
  },
  {
   "cell_type": "markdown",
   "id": "10ec912f-86bb-421f-b978-742630eead87",
   "metadata": {},
   "source": [
    "### Alienígenas que alcançam a parte inferior da tela"
   ]
  },
  {
   "cell_type": "markdown",
   "id": "0fe1254a-ca2f-4b2f-a94e-92279e0d7d40",
   "metadata": {
    "tags": []
   },
   "source": [
    "**Se um alienígena atingir a parte inferior da tela, responderemos do mesmo modo que fizemos quando um alienígena atinge a espaçonave**. Acrescente uma nova função para fazer essa verificação e chame-a a partir de <code>**update_aliens()**</code>:"
   ]
  },
  {
   "cell_type": "code",
   "execution_count": 31,
   "id": "326f558c-00cf-46fa-be1c-8a8a60b35b42",
   "metadata": {
    "tags": []
   },
   "outputs": [],
   "source": [
    "#game_functions.py \n",
    "def check_aliens_bottom(ai_settings, stats, screen, ship, aliens, bullets):\n",
    "    \"\"\"Verifica se algum alienígena alcançou a parte inferior da tela.\"\"\"\n",
    "    screen_rect = screen.get_rect() \n",
    "    for alien in aliens.sprites():  \n",
    "        if alien.rect.bottom >= screen_rect.bottom:\n",
    "            # Trata esse caso do mesmo modo que é feito quando a espaçonave é atingida \n",
    "            ship_hit(ai_settings, stats, screen, ship, aliens, bullets) \n",
    "            break\n",
    "            \n",
    "                    \n",
    "def update_aliens(ai_settings, stats, screen, ship, aliens, bullets): \n",
    "    \"\"\"Verifica se a frota está em uma das bordas e então \n",
    "    atualiza as posições de todos os alienígenas da frota. \"\"\"\n",
    "    check_fleet_edges(ai_settings, aliens) \n",
    "    aliens.update()\n",
    "   \n",
    "    # Verifica se houve colisões entre alienígenas e a espaçonave \n",
    "    if pygame.sprite.spritecollideany(ship, aliens): \n",
    "        ship_hit(ai_settings, stats, screen, ship, aliens, bullets)\n",
    "        print(\"Ship hit!!!\")   \n",
    "        \n",
    "    #Verifica se há algum alienígena que atingiu a parte inferior da tela \n",
    "    check_aliens_bottom(ai_settings, stats, screen, ship, aliens, bullets)"
   ]
  },
  {
   "cell_type": "markdown",
   "id": "0cf2bbf4-281c-49ac-8f4c-c398856caac7",
   "metadata": {},
   "source": [
    "A função <code>**check_aliens_bottom()**</code> verifica se algum alienígena alcançou a parte inferior da tela. **Um alienígena alcança a parte inferior da tela quando <code>o valor de seu rect.bottom for maior ou igual ao atributo rect.bottom da tela</code>. Se um alienígena alcançar a parte inferior da tela, chamamos<code> ship_hit()</code>.** Se apenas um alienígena atingir a parte inferior, não há necessidade de verificar o restante, portanto saímos do laço depois de chamar <code>**ship_hit().**</code>\n",
    "\n",
    "\n",
    "Chamamos **<code>check_aliens_bottom()</code> depois de atualizar as posições de todos os alienígenas e de verificar se houve colisões entre alienígenas e a espaçonave**. Agora uma nova frota aparecerá sempre que a espaçonave for atingida por um alienígena ou um alienígena alcançar a parte inferior da tela."
   ]
  },
  {
   "cell_type": "markdown",
   "id": "7056cdb0-03a1-49b7-a0d6-1bc7aaa05c22",
   "metadata": {},
   "source": [
    "### Fim de jogo!"
   ]
  },
  {
   "cell_type": "markdown",
   "id": "62844e0d-69a8-4dae-a3dc-54d1ff61ea92",
   "metadata": {},
   "source": [
    "A **<code>Invasão Alienígena</code> parece estar mais completa agora, mas o jogo jamais termina**. O <code>**valor de ships_left**</code> simplesmente assume valores negativos cada vez menores. Vamos adicionar uma <code>**flag game_active como um atributo de GameStats**</code> para encerrar o jogo quando o jogador ficar sem espaçonaves."
   ]
  },
  {
   "cell_type": "code",
   "execution_count": null,
   "id": "962d33b7-9330-465f-a399-0aea0dba6ce7",
   "metadata": {},
   "outputs": [],
   "source": [
    "#game_stats.py \n",
    "def __init__(self, settings): \n",
    "    -- trecho omitido--\n",
    "    # Inicia a Invasão Alienígena em um estado ativo \n",
    "    self.game_active = True "
   ]
  },
  {
   "cell_type": "markdown",
   "id": "74acb0a3-3cce-4e5f-a321-74d376efeeed",
   "metadata": {},
   "source": [
    "Agora acrescentamos um código em <code>**ship_hit()**</code> para definir <code>**game_active com False**</code> se o jogador usou todas as suas espaçonaves:"
   ]
  },
  {
   "cell_type": "code",
   "execution_count": 72,
   "id": "6a4bf449-56eb-4215-9e40-3aa8d94e303a",
   "metadata": {
    "tags": []
   },
   "outputs": [],
   "source": [
    "#game_functions.py\n",
    "def ship_hit(ai_settings, stats, screen, ship, aliens, bullets):\n",
    "    \"\"\"Responde ao fato de a espaçonave ter sido atingida por um alienígena.\"\"\"\n",
    "    if stats.ships_left > 0: \n",
    "        # Decrementa ships_left \n",
    "        stats.ships_left -= 1 \n",
    "    \n",
    "        # Esvazia a lista de alienígenas e de projéteis \n",
    "        aliens.empty() \n",
    "        bullets.empty()\n",
    "        # Cria uma nova frota e centraliza a espaçonave \n",
    "        create_fleet(ai_settings, screen, ship, aliens) \n",
    "        ship.center_ship()\n",
    "    \n",
    "        # Faz uma pausa \n",
    "        sleep(0.5)            \n",
    "    \n",
    "    else: \n",
    "        stats.game_active = False\n",
    "    "
   ]
  },
  {
   "cell_type": "markdown",
   "id": "3553479b-a2ae-4199-9aee-3308281c39e5",
   "metadata": {},
   "source": [
    "**A maior parte de <code>ship_hit()</code> permaneceu inalterada. Transferimos todo o código existente para um bloco <code>if</code>, que testa se o jogador tem pelo menos uma espaçonave restante. Em caso afirmativo, criamos uma nova frota, fazemos uma pausa e prosseguimos**. Se o jogador não tiver nenhuma espaçonave restante, definimos <code>**game_active com False**</code>.\n"
   ]
  },
  {
   "cell_type": "markdown",
   "id": "8b40b1c5-582f-4838-be5b-dfed4155b96e",
   "metadata": {
    "tags": []
   },
   "source": [
    "### Identificando quando determinadas partes do jogo devem executar"
   ]
  },
  {
   "cell_type": "markdown",
   "id": "1efd24e7-8912-41d5-8006-92e4b61e9629",
   "metadata": {
    "tags": []
   },
   "source": [
    "Em **'alien_invasion.py'**, precisamos identificar as partes do jogo que sempre devem executar e as partes que devem executar somente quando o jogo estiver ativo:"
   ]
  },
  {
   "cell_type": "code",
   "execution_count": null,
   "id": "b40f719d-ee76-447a-8566-652cf952b88d",
   "metadata": {
    "tags": []
   },
   "outputs": [],
   "source": [
    "# alien_invasion.py \n",
    "\n",
    "# Inicia o laço principal do jogo \n",
    "while True: \n",
    "    gf.check_events(ai_settings, screen, ship, bullets)\n",
    "    if stats.game_active: \n",
    "        ship.update() \n",
    "        gf.update_bullets(ai_settings, screen, ship, aliens, bullets) \n",
    "        gf.update_aliens(ai_settings, stats, screen, ship, aliens, bullets)\n",
    "    alien_drop_speedc=50"
   ]
  },
  {
   "cell_type": "markdown",
   "id": "6be725ee-84b1-4c68-bb3e-fc6e41a3bde8",
   "metadata": {},
   "source": [
    "No laço principal, sempre devemos chamar <code>**check_events()**</code>, mesmo se o jogo estiver inativo. Por exemplo, ainda precisamos saber se o usuário pressionou <code>**Q**</code> para sair do jogo ou se clicou no botão para fechar a janela. **Também continuamos atualizando a tela para que possamos fazer alterações nela enquanto esperamos para ver se o jogador optou por iniciar um novo jogo. O restante das chamadas de função só deve ocorrer quando o jogo estiver ativo, pois, se estiver inativo, não será necessário atualizar as posições dos elementos do jogo.**   \n",
    "Agora, quando você jogar Invasão Alienígena, o jogo deverá ficar congelado quando todas as suas espaçonaves forem usadas.\n"
   ]
  },
  {
   "cell_type": "markdown",
   "id": "922c69b5-5899-4c33-8029-62e4b878eb72",
   "metadata": {},
   "source": [
    "## **FAÇA VOCÊ MESMO**"
   ]
  },
  {
   "cell_type": "markdown",
   "id": "3e32942c-e8cc-4bf6-9637-203b2f0a7e17",
   "metadata": {},
   "source": [
    "**13.6 – Fim de jogo:** Usando o código do Exercício 13.5 (página 370), mantenha o controle do número de vezes que o jogador erra a bola. Quando ele errar a bola três vezes, encerre o jogo."
   ]
  },
  {
   "cell_type": "code",
   "execution_count": null,
   "id": "cf016eed-04fc-4d2a-b6ec-993a3ab84117",
   "metadata": {},
   "outputs": [],
   "source": []
  },
  {
   "cell_type": "markdown",
   "id": "6ae1fe1d-0c69-4026-8ba5-5a1f22a2cfb1",
   "metadata": {},
   "source": [
    "## **Resumo**"
   ]
  },
  {
   "cell_type": "markdown",
   "id": "effff98f-1a74-4cf5-8c85-76b3c761efd6",
   "metadata": {},
   "source": [
    "Neste capítulo aprendemos a adicionar um grande número de elementos idênticos em um jogo criando uma frota de alienígenas. **Vimos como usar laços aninhados a fim de criar uma grade de elementos, e fizemos um grande conjunto de elementos do jogo se mover chamando o método <code>update()</code> de cada elemento. Aprendemos a controlar a direção dos objetos na tela e a responder a eventos**, por exemplo, quando a frota alcança a margem da tela. **Também vimos como detectar e responder a colisões quando os projéteis atingem os alienígenas e esses atingem a espaçonave. Por fim, aprendemos a monitorar os dados estatísticos de um jogo e a usar uma <code>flag game_active</code> para determinar se o jogo acabou.**\n",
    "\n",
    "No último capítulo deste projeto **acrescentaremos um botão <code>Play (Jogar)</code> para que o jogador possa decidir quando quer iniciar o seu primeiro jogo e se quer jogar novamente quando o jogo terminar**. Deixaremos o jogo mais rápido sempre que o jogador atingir uma frota completa e acrescentaremos um sistema de pontuação. Como resultado, teremos um jogo totalmente funcional!"
   ]
  },
  {
   "cell_type": "code",
   "execution_count": null,
   "id": "a200f88f-4c28-4c21-bb56-1d8445fe5b92",
   "metadata": {},
   "outputs": [],
   "source": []
  }
 ],
 "metadata": {
  "kernelspec": {
   "display_name": "Python 3 (ipykernel)",
   "language": "python",
   "name": "python3"
  },
  "language_info": {
   "codemirror_mode": {
    "name": "ipython",
    "version": 3
   },
   "file_extension": ".py",
   "mimetype": "text/x-python",
   "name": "python",
   "nbconvert_exporter": "python",
   "pygments_lexer": "ipython3",
   "version": "3.11.5"
  }
 },
 "nbformat": 4,
 "nbformat_minor": 5
}
